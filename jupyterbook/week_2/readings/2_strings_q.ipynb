{
 "cells": [
  {
   "cell_type": "code",
   "execution_count": null,
   "metadata": {
    "deletable": false,
    "editable": false,
    "tags": [
     "skip-execution"
    ]
   },
   "outputs": [],
   "source": [
    "# You must make sure to run all cells in sequence using shift + enter or you might encounter errors\n",
    "from pykubegrader.initialize import initialize_assignment\n",
    "\n",
    "responses = initialize_assignment(\"2_strings_q\", \"week_2\", \"readings\", assignment_points = 17.0, assignment_tag = 'week2-readings')\n",
    "\n",
    "# Initialize Otter\n",
    "import otter\n",
    "grader = otter.Notebook(\"2_strings_q.ipynb\")"
   ]
  },
  {
   "cell_type": "markdown",
   "metadata": {
    "deletable": false,
    "editable": false
   },
   "source": [
    "# ❓Pootie Tang's Wild String Manipulation Adventures\n",
    "\n",
    "![](./assets/figures/pootie.jpg)\n",
    "\n",
    "<iframe width=\"1280\" height=\"738\" src=\"https://www.youtube.com/embed/yhBExhldRXQ\" title=\"Pootie Tang - Trailer\" frameborder=\"0\" allow=\"accelerometer; autoplay; clipboard-write; encrypted-media; gyroscope; picture-in-picture; web-share\" referrerpolicy=\"strict-origin-when-cross-origin\" allowfullscreen></iframe>\""
   ]
  },
  {
   "cell_type": "code",
   "execution_count": null,
   "metadata": {
    "tags": [
     "skip-execution"
    ]
   },
   "outputs": [],
   "source": [
    "# Run this block of code by pressing Shift + Enter to display the question\n",
    "from questions._2_strings_q import Question1\n",
    "Question1().show()\n"
   ]
  },
  {
   "cell_type": "code",
   "execution_count": null,
   "metadata": {
    "tags": [
     "skip-execution"
    ]
   },
   "outputs": [],
   "source": [
    "# Run this block of code by pressing Shift + Enter to display the question\n",
    "from questions._2_strings_q import Question2\n",
    "Question2().show()\n"
   ]
  },
  {
   "cell_type": "code",
   "execution_count": null,
   "metadata": {
    "tags": [
     "skip-execution"
    ]
   },
   "outputs": [],
   "source": [
    "# Run this block of code by pressing Shift + Enter to display the question\n",
    "from questions._2_strings_q import Question3\n",
    "Question3().show()\n"
   ]
  },
  {
   "cell_type": "markdown",
   "metadata": {
    "deletable": false,
    "editable": false
   },
   "source": [
    "## Pootie Tang’s Legendary Quotes\n",
    "\n",
    "![](./assets/figures/pootie-dirty.gif)\n",
    "\n",
    "### Instructions:\n",
    "1. Write a Python program that:\n",
    "    - Stores the following phrases in a list: `\"Wa Da Tah!\", \"Sa Da Tay!\", \"Sine your pitty\"`. List are defined using square brackets `[]` with each element separated by a comma.For example: `[\"element1\", \"element2\", \"element3\"]`.\n",
    "    - Joins the phrases into a single string, separated by a comma and a space. You should use the built in string method `join()`.\n",
    "    - Prints the resulting string.\n"
   ]
  },
  {
   "cell_type": "code",
   "execution_count": null,
   "metadata": {
    "tags": [
     "skip-execution"
    ]
   },
   "outputs": [],
   "source": [
    "phrases = ...\n",
    "result = ...\n",
    "print(result)"
   ]
  },
  {
   "cell_type": "code",
   "execution_count": null,
   "metadata": {
    "deletable": false,
    "editable": false,
    "tags": [
     "skip-execution"
    ]
   },
   "outputs": [],
   "source": [
    "grader.check(\"Pootie-Tangs-Famous-Quotes\")"
   ]
  },
  {
   "cell_type": "markdown",
   "metadata": {
    "deletable": false,
    "editable": false
   },
   "source": [
    "## Pootie Tang’s Famous Quotes\n",
    "\n",
    "### Instructions:\n",
    "Pootie Tang’s iconic phrase \"Wa Da Tah!\" is already attention-grabbing, but let’s make it LOUDER by converting it to uppercase.\n",
    "\n",
    "1. Write Python code to convert \"Wa Da Tah!\" into all uppercase letters.\n",
    "- `upper()` is a string method that converts all lowercase letters in a string to uppercase.\n",
    "- This ensures Pootie’s catchphrase gets the volume it deserves—perfect for a high-energy scene in the movie.\n",
    "- save the original string to the variable `phrase` and the uppercase version to the variable `phrase_upper`."
   ]
  },
  {
   "cell_type": "code",
   "execution_count": null,
   "metadata": {
    "tags": [
     "skip-execution"
    ]
   },
   "outputs": [],
   "source": [
    "def catchphrase():\n",
    "        \n",
    "    phrase = ...\n",
    "    upper_phrase = ...\n",
    "    print(upper_phrase)\n",
    "    \n",
    "catchphrase()"
   ]
  },
  {
   "cell_type": "code",
   "execution_count": null,
   "metadata": {
    "deletable": false,
    "editable": false,
    "tags": [
     "skip-execution"
    ]
   },
   "outputs": [],
   "source": [
    "grader.check(\"coding-uppercase-pootie-tang\")"
   ]
  },
  {
   "cell_type": "markdown",
   "metadata": {
    "deletable": false,
    "editable": false
   },
   "source": [
    "## Pootie Tang’s is Awesome\n",
    "\n",
    "### Instructions:\n",
    "PootieTang always knows how to tweak his phrases for maximum impact. Suppose the string \"PootieTang is cool\" needs an upgrade to \"PootieTang is awesome\".\n",
    "\n",
    "1. Replace the word \"cool\" with \"awesome\" using Python.\n",
    "- The `replace(old, new)` method in Python replaces all occurrences of `old` with `new` in a string.\n",
    "- This allows Pootie Tang to adapt his style on the fly, just as he does in the film when he updates his approach to saving the day.\n"
   ]
  },
  {
   "cell_type": "code",
   "execution_count": null,
   "metadata": {
    "tags": [
     "skip-execution"
    ]
   },
   "outputs": [],
   "source": [
    "def replace_name():\n",
    "        \n",
    "    pt_phrase = \"PootieTang is cool\"\n",
    "    modfied_phrase = ...\n",
    "    print(modfied_phrase)\n",
    "\n",
    "replace_name()"
   ]
  },
  {
   "cell_type": "code",
   "execution_count": null,
   "metadata": {
    "deletable": false,
    "editable": false,
    "tags": [
     "skip-execution"
    ]
   },
   "outputs": [],
   "source": [
    "grader.check(\"coding-replace-pootie-tang\")"
   ]
  },
  {
   "cell_type": "markdown",
   "id": "14",
   "metadata": {},
   "source": [
    "## Submitting Assignment\n",
    "\n",
    "Please run the following block of code using `shift + enter` to submit your assignment, you should see your score."
   ]
  },
  {
   "cell_type": "code",
   "execution_count": null,
   "id": "15",
   "metadata": {
    "deletable": false,
    "editable": false,
    "tags": [
     "skip-execution"
    ]
   },
   "outputs": [],
   "source": [
    "from pykubegrader.submit.submit_assignment import submit_assignment\n",
    "\n",
    "submit_assignment(\"week2-readings\", \"2_strings_q\")"
   ]
  }
 ],
 "metadata": {
  "kernelspec": {
   "display_name": "engr131_dev",
   "language": "python",
   "name": "python3"
  },
  "language_info": {
   "codemirror_mode": {
    "name": "ipython",
    "version": 3
   },
   "file_extension": ".py",
   "mimetype": "text/x-python",
   "name": "python",
   "nbconvert_exporter": "python",
   "pygments_lexer": "ipython3",
   "version": "3.12.7"
  },
  "otter": {
   "OK_FORMAT": true,
   "tests": {
    "Pootie-Tangs-Famous-Quotes": {
     "name": "Pootie-Tangs-Famous-Quotes",
     "points": null,
     "suites": [
      {
       "cases": [
        {
         "code": ">>> from pykubegrader.telemetry import ensure_responses, log_variable, score_question, submit_question, telemetry, update_responses\n>>> import os\n>>> max_question_points = str(1.0)\n>>> earned_points = 0\n>>> os.environ['EARNED_POINTS'] = str(earned_points)\n>>> os.environ['TOTAL_POINTS_FREE_RESPONSE'] = str(9.0)\n>>> log_variable('total-points', f'Reading-Week-X, 2_strings_q', 9.0)\n>>> question_id = 'Pootie-Tangs-Famous-Quotes-1'\n>>> max_score = 1.0\n>>> score = 0\n>>> assert result == 'Wa Da Tah!, Sa Da Tay!, Sine your pitty', 'The output string is incorrect.'\n>>> if result == 'Wa Da Tah!, Sa Da Tay!, Sine your pitty':\n...     score = 1.0\n>>> earned_points = float(os.environ.get('EARNED_POINTS', 0))\n>>> earned_points += score\n>>> log_variable('2_strings_q', f'{score}, {max_score}', question_id)\n>>> os.environ['EARNED_POINTS'] = str(earned_points)\n",
         "failure_message": "The `dining_center` variable is incorrect.",
         "hidden": false,
         "locked": false,
         "points": 1,
         "success_message": "Correctly assigned the `dining_center` variable."
        }
       ],
       "scored": true,
       "setup": "",
       "teardown": "",
       "type": "doctest"
      }
     ]
    },
    "coding-replace-pootie-tang": {
     "name": "coding-replace-pootie-tang",
     "points": null,
     "suites": [
      {
       "cases": [
        {
         "code": ">>> from pykubegrader.telemetry import ensure_responses, log_variable, score_question, submit_question, telemetry, update_responses\n>>> import os\n>>> import io\n>>> import sys\n>>> max_question_points = str(4.0)\n>>> earned_points = 0\n>>> os.environ['EARNED_POINTS'] = str(earned_points)\n>>> os.environ['TOTAL_POINTS_FREE_RESPONSE'] = str(9.0)\n>>> log_variable('total-points', f'Reading-Week-X, 2_strings_q', 9.0)\n>>> question_id = 'coding-replace-pootie-tang-1'\n>>> max_score = 1.0\n>>> score = 0\n>>> captured_output = io.StringIO()\n>>> sys.stdout = captured_output\n>>> replace_name()\n>>> sys.stdout = sys.__stdout__\n>>> printed_output = captured_output.getvalue().strip()\n>>> expected_output = 'PootieTang is awesome'\n>>> assert printed_output == expected_output, f\"Expected '{expected_output}', but got '{printed_output}'\"\n>>> if printed_output == expected_output:\n...     score = 1.0\n>>> earned_points = float(os.environ.get('EARNED_POINTS', 0))\n>>> earned_points += score\n>>> log_variable('2_strings_q', f'{score}, {max_score}', question_id)\n>>> os.environ['EARNED_POINTS'] = str(earned_points)\n",
         "failure_message": "The `dining_center` variable is incorrect.",
         "hidden": false,
         "locked": false,
         "points": 1,
         "success_message": "Correctly assigned the `dining_center` variable."
        },
        {
         "code": ">>> from pykubegrader.telemetry import ensure_responses, log_variable, score_question, submit_question, telemetry, update_responses\n>>> import os\n>>> import inspect\n>>> import ast\n>>> question_id = 'coding-replace-pootie-tang-2'\n>>> max_score = 3.0\n>>> score = 0\n>>> def check_method_usage_in_function(func, method_name):\n...     source_code = inspect.getsource(func)\n...     tree = ast.parse(source_code)\n...     class MethodUsageChecker(ast.NodeVisitor):\n...         def __init__(self, method_name):\n...             self.method_name = method_name\n...             self.is_used = False\n...         def visit_Attribute(self, node):\n...             if isinstance(node, ast.Attribute) and node.attr == self.method_name:\n...                 self.is_used = True\n...             self.generic_visit(node)\n...     checker = MethodUsageChecker(method_name)\n...     checker.visit(tree)\n...     return checker.is_used\n>>> method_name_to_check = 'replace'\n>>> is_replace_used = check_method_usage_in_function(replace_name, method_name_to_check)\n>>> assert is_replace_used, f\"The method '{method_name_to_check}' is not used in the function.\"\n>>> if is_replace_used:\n...     score = 3.0\n>>> earned_points = float(os.environ.get('EARNED_POINTS', 0))\n>>> earned_points += score\n>>> log_variable('2_strings_q', f'{score}, {max_score}', question_id)\n>>> os.environ['EARNED_POINTS'] = str(earned_points)\n",
         "failure_message": "You did not use the `replace` method in the function.",
         "hidden": false,
         "locked": false,
         "points": 3,
         "success_message": "Correctly used the `replace` method in the function."
        }
       ],
       "scored": true,
       "setup": "",
       "teardown": "",
       "type": "doctest"
      }
     ]
    },
    "coding-uppercase-pootie-tang": {
     "name": "coding-uppercase-pootie-tang",
     "points": null,
     "suites": [
      {
       "cases": [
        {
         "code": ">>> from pykubegrader.telemetry import ensure_responses, log_variable, score_question, submit_question, telemetry, update_responses\n>>> import os\n>>> import io\n>>> import sys\n>>> max_question_points = str(4.0)\n>>> earned_points = 0\n>>> os.environ['EARNED_POINTS'] = str(earned_points)\n>>> os.environ['TOTAL_POINTS_FREE_RESPONSE'] = str(9.0)\n>>> log_variable('total-points', f'Reading-Week-X, 2_strings_q', 9.0)\n>>> question_id = 'coding-uppercase-pootie-tang-1'\n>>> max_score = 1.0\n>>> score = 0\n>>> captured_output = io.StringIO()\n>>> sys.stdout = captured_output\n>>> catchphrase()\n>>> sys.stdout = sys.__stdout__\n>>> printed_output = captured_output.getvalue().strip()\n>>> expected_output = 'WA DA TAH!'\n>>> assert printed_output == expected_output, f\"Expected '{expected_output}', but got '{printed_output}'\"\n>>> if printed_output == expected_output:\n...     score = 1.0\n>>> earned_points = float(os.environ.get('EARNED_POINTS', 0))\n>>> earned_points += score\n>>> log_variable('2_strings_q', f'{score}, {max_score}', question_id)\n>>> os.environ['EARNED_POINTS'] = str(earned_points)\n",
         "failure_message": "print statement is incorrect.",
         "hidden": false,
         "locked": false,
         "points": 1,
         "success_message": "print statement is correct."
        },
        {
         "code": ">>> from pykubegrader.telemetry import ensure_responses, log_variable, score_question, submit_question, telemetry, update_responses\n>>> import os\n>>> import inspect\n>>> import ast\n>>> question_id = 'coding-uppercase-pootie-tang-2'\n>>> max_score = 3.0\n>>> score = 0\n>>> def check_method_usage_in_function(func, method_name):\n...     source_code = inspect.getsource(func)\n...     tree = ast.parse(source_code)\n...     class MethodUsageChecker(ast.NodeVisitor):\n...         def __init__(self, method_name):\n...             self.method_name = method_name\n...             self.is_used = False\n...         def visit_Attribute(self, node):\n...             if isinstance(node, ast.Attribute) and node.attr == self.method_name:\n...                 self.is_used = True\n...             self.generic_visit(node)\n...     checker = MethodUsageChecker(method_name)\n...     checker.visit(tree)\n...     return checker.is_used\n>>> method_name_to_check = 'upper'\n>>> is_upper_used = check_method_usage_in_function(catchphrase, method_name_to_check)\n>>> assert is_upper_used, f\"The method '{method_name_to_check}' is not used in the function.\"\n>>> if is_upper_used:\n...     score = 3.0\n>>> earned_points = float(os.environ.get('EARNED_POINTS', 0))\n>>> earned_points += score\n>>> log_variable('2_strings_q', f'{score}, {max_score}', question_id)\n>>> os.environ['EARNED_POINTS'] = str(earned_points)\n",
         "failure_message": "You did not use the `upper` method in the function.",
         "hidden": false,
         "locked": false,
         "points": 3,
         "success_message": "Correctly used the `upper` method in the function."
        }
       ],
       "scored": true,
       "setup": "",
       "teardown": "",
       "type": "doctest"
      }
     ]
    }
   }
  }
 },
 "nbformat": 4,
 "nbformat_minor": 2
}
