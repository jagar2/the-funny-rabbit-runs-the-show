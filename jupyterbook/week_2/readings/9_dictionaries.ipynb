{
 "cells": [
  {
   "cell_type": "markdown",
   "id": "0",
   "metadata": {},
   "source": [
    "# 📖 Python Dictionaries and Bad Vexillology Design\n",
    "\n",
    "In this notebook, we will explore Python dictionaries using the theme of bad vexillology (flag design). We'll use examples of poorly designed flags to understand dictionary concepts, methods, advantages, and limitations.\n",
    "\n",
    "## Bad Flag Design Elements\n",
    "\n",
    "- **Too Complex:** Intricate designs or details that are hard to see and replicate.\n",
    "- **Cluttered:** Overloaded with symbols, colors, or themes.\n",
    "- **Poor Colors:** Clashing, low-contrast, or overly similar colors.\n",
    "- **Text:** Words or slogans that are unreadable when waving.\n",
    "- **No Symbolism:** Random imagery with no clear meaning.\n",
    "\n",
    "### San Francisco Flag\n",
    "\n",
    "![San Francisco Flag](./assets/figures/SF_flag.png)\n"
   ]
  },
  {
   "cell_type": "code",
   "execution_count": null,
   "id": "1",
   "metadata": {},
   "outputs": [],
   "source": [
    "bad_flag = {\n",
    "    \"country\": \"Confusistan\",\n",
    "    \"colors\": [\"red\", \"green\", \"purple\", \"neon yellow\"],\n",
    "    \"symbols\": [\"star\", \"dragon\", \"rainbow\", \"text: 'Unity'\"],\n",
    "    \"design_complexity\": \"Extremely High\",\n",
    "    \"readability\": \"Unreadable\",\n",
    "}\n",
    "print(\"Bad Flag Example:\")\n",
    "print(bad_flag)"
   ]
  },
  {
   "cell_type": "markdown",
   "id": "2",
   "metadata": {},
   "source": [
    "## Definition and Syntax\n",
    "\n",
    "### Milwaukee Flag\n",
    "\n",
    "![Milwaukee Flag](./assets/figures/milwaukee.png)\n",
    "\n",
    "```{admonition} Definition\n",
    "A dictionary is an ordered, mutable collection of key-value pairs in Python. Keys must be unique and immutable, while values can be any type.\n",
    "```\n",
    "\n",
    "```{admonition} Syntax\n",
    "`d = {\"key1\": value1, \"key2\": value2}`\n",
    "Examples:\n",
    "- `{ \"name\": \"White House\", \"location\": \"Beijing\" }`\n",
    "- `{ 1: \"one\", 2: \"two\", 3: \"three\" }`\n",
    "- `{ \"x\": 42, \"y\": 3.14 }`\n",
    "```\n",
    "\n",
    "```{note}\n",
    "Dictionaries in Python were unordered before version 3.7. Since Python 3.7, dictionaries maintain the insertion order.\n",
    "```\n"
   ]
  },
  {
   "cell_type": "markdown",
   "id": "3",
   "metadata": {},
   "source": [
    "### Updating Dictionary Elements\n",
    "\n",
    "You can update key-value pairs using the `=` assignment operator. Where the variable is the dictionary and the new key is in square brackets.\n",
    "\n",
    "You can also use the `update()` method to add multiple key-value pairs to a dictionary.\n"
   ]
  },
  {
   "cell_type": "code",
   "execution_count": null,
   "id": "4",
   "metadata": {},
   "outputs": [],
   "source": [
    "bad_flag[\"controversy\"] = \"Offensive design choices\"\n",
    "print(\"\\nUpdated Bad Flag Dictionary:\")\n",
    "print(bad_flag)"
   ]
  },
  {
   "cell_type": "markdown",
   "id": "5",
   "metadata": {},
   "source": [
    "```{note}\n",
    "in a string \\ is used as an escape character. This means that it is used to represent characters that are not allowed in the string. For instance, the single quote character (') is not allowed in a string delineated by single quotes. If you want to include a single quote character in a string delineated by single quotes, you must use the escape character like this: \\', in the previous example we used \\n which is used to represent a new line.\n",
    "```"
   ]
  },
  {
   "cell_type": "markdown",
   "id": "6",
   "metadata": {},
   "source": [
    "### Extracting Values\n",
    "\n",
    "You can extract values from a dictionary using the key in square brackets.\n"
   ]
  },
  {
   "cell_type": "code",
   "execution_count": null,
   "id": "7",
   "metadata": {},
   "outputs": [],
   "source": [
    "print(\"\\nAccessing a value:\")\n",
    "print(\"Colors in the flag:\", bad_flag[\"colors\"])"
   ]
  },
  {
   "cell_type": "markdown",
   "id": "8",
   "metadata": {},
   "source": [
    "### Adding a New Key-Value Pair\n",
    "\n",
    "You can add a new key-value pair to a dictionary by assigning a value to a new key.The variable is the dictionary and the new key is in square brackets.\n"
   ]
  },
  {
   "cell_type": "code",
   "execution_count": null,
   "id": "9",
   "metadata": {},
   "outputs": [],
   "source": [
    "bad_flag[\"public_opinion\"] = \"Negative\"\n",
    "print(\"\\nAdding a new key-value pair for 'public_opinion':\")\n",
    "print(bad_flag)"
   ]
  },
  {
   "cell_type": "markdown",
   "id": "10",
   "metadata": {},
   "source": [
    "### Removing a Key-Value Pair\n",
    "\n",
    "You can remove a key-value pair from a dictionary using the `pop()` method. The key is passed as an argument to the method.\n"
   ]
  },
  {
   "cell_type": "code",
   "execution_count": null,
   "id": "11",
   "metadata": {},
   "outputs": [],
   "source": [
    "bad_flag.pop(\"controversy\")\n",
    "print(\"\\nRemoving the 'controversy' key:\")\n",
    "print(bad_flag)"
   ]
  },
  {
   "cell_type": "markdown",
   "id": "12",
   "metadata": {},
   "source": [
    "### Getting All Keys and Values\n",
    "\n",
    "You can get all keys and values from a dictionary using the `keys()` and `values()` methods, respectively.\n"
   ]
  },
  {
   "cell_type": "code",
   "execution_count": null,
   "id": "13",
   "metadata": {},
   "outputs": [],
   "source": [
    "print(\"\\nGetting all the keys:\")\n",
    "print(\"Keys:\", bad_flag.keys())\n",
    "\n",
    "print(\"\\nGetting all the values:\")\n",
    "print(\"Values:\", bad_flag.values())"
   ]
  },
  {
   "cell_type": "markdown",
   "id": "14",
   "metadata": {},
   "source": [
    "## Limitations on Keys and Values\n",
    "\n",
    "### Philadelphia Flag\n",
    "\n",
    "<iframe src=\"https://www.inquirer.com/opinion/inq2/philadelphia-flag-design-your-own-20230307.html\" width=\"100%\" height=\"600\" style=\"border:none;\"></iframe>\n"
   ]
  },
  {
   "cell_type": "markdown",
   "id": "15",
   "metadata": {},
   "source": [
    "```{admonition} Syntax\n",
    "Key Limitations\n",
    "- Keys must be **unique**. If a key is duplicated, the last value assigned to it will overwrite earlier values.\n",
    "- Keys must be **immutable** types: Examples include strings, numbers, and tuples. Mutable types (e.g., lists, sets) cannot be used as keys.\n",
    "\n",
    "Examples:\n",
    "- Valid keys: `\"name\"`, `42`, `(1, 2)`\n",
    "- Invalid keys: `[1, 2, 3]`, `{ \"key\": \"value\" }`\n",
    "```\n",
    "\n",
    "```{admonition} Syntax\n",
    "Value Limitations\n",
    "- Values can be any type, but their mutability affects how the dictionary behaves.\n",
    "- Nested mutable types (e.g., lists or dictionaries) can cause unintentional side effects if modified directly.\n",
    "\n",
    "Examples:\n",
    "- Valid values: `\"string\"`, `[1, 2, 3]`, `{ \"nested\": \"dict\" }`\n",
    "- Caution with mutable values: Modifying `bad_flag[\"colors\"]` affects the dictionary directly.\n",
    "```\n"
   ]
  },
  {
   "cell_type": "code",
   "execution_count": null,
   "id": "16",
   "metadata": {
    "tags": [
     "skip-execution"
    ]
   },
   "outputs": [],
   "source": [
    "try:\n",
    "    invalid_key_dict = {[1, 2, 3]: \"Invalid\"}\n",
    "except TypeError as e:\n",
    "    print(\"\\nExample of Invalid Key Error:\", e)"
   ]
  },
  {
   "cell_type": "markdown",
   "id": "17",
   "metadata": {},
   "source": [
    "### Nested Dictionaries\n",
    "\n",
    "You can nest dictionaries within dictionaries to create more complex data structures. This is useful for representing hierarchical relationships or structured data. This is done by assigning a dictionary as a value to a key in another dictionary.\n",
    "\n",
    "```{note}\n",
    "Nested dictionaries are the foundation of JSON (JavaScript Object Notation), a popular data interchange format. Nearly everything on the web is transmitted as JSON, including API responses, configuration files, and more. Even this courses grades are stored in a JSON and transmitted via JSON.\n",
    "```\n"
   ]
  },
  {
   "cell_type": "code",
   "execution_count": null,
   "id": "18",
   "metadata": {},
   "outputs": [],
   "source": [
    "nested_dict = {\"flag_details\": bad_flag}\n",
    "nested_dict[\"flag_details\"][\"colors\"].append(\"gold\")\n",
    "print(\"\\nModified Nested Dictionary (caution with mutable values):\")\n",
    "print(nested_dict)"
   ]
  },
  {
   "cell_type": "markdown",
   "id": "19",
   "metadata": {},
   "source": [
    "## Advantages of Dictionaries\n",
    "\n",
    "- **Fast lookups**: Average time complexity is $O(1)$.\n",
    "- **Flexible**: Can store structured, nested data.\n",
    "- **Dynamic**: Keys and values can be added or removed on the fly.\n",
    "- **Efficient**: Memory-efficient for large datasets.\n"
   ]
  },
  {
   "cell_type": "markdown",
   "id": "20",
   "metadata": {},
   "source": [
    "## Limitations of Dictionaries\n",
    "\n",
    "- **Keys must be unique and immutable.**\n",
    "- **Higher memory usage**: Requires more memory compared to other data structures like lists.\n",
    "- **Unordered in older Python versions**: Dictionaries do not maintain order prior to Python 3.7.\n"
   ]
  },
  {
   "cell_type": "markdown",
   "id": "21",
   "metadata": {},
   "source": [
    "## Practical Example: Evaluating Flags\n"
   ]
  },
  {
   "cell_type": "code",
   "execution_count": null,
   "id": "22",
   "metadata": {},
   "outputs": [],
   "source": [
    "flag_evaluation = {\n",
    "    \"Confusistan\": {\"colors\": 10, \"symbols\": 5, \"readability\": 1},\n",
    "    \"Rainbowland\": {\"colors\": 7, \"symbols\": 3, \"readability\": 5},\n",
    "    \"Clashopolis\": {\"colors\": 2, \"symbols\": 1, \"readability\": 9},\n",
    "}\n",
    "\n",
    "print(\"\\nFlag Evaluation Scores:\")\n",
    "\n",
    "# we will learn about using dictionary with for loops later in the course.\n",
    "for flag, scores in flag_evaluation.items():\n",
    "    complexity_score = sum(scores.values())\n",
    "    print(f\"{flag} total score: {complexity_score}\")"
   ]
  },
  {
   "cell_type": "markdown",
   "id": "23",
   "metadata": {},
   "source": [
    "![](./assets/figures/Drexel_Flag.jpg)\n",
    "\n",
    "😞\n"
   ]
  },
  {
   "cell_type": "markdown",
   "id": "24",
   "metadata": {},
   "source": [
    "Digression: My favorite flag is the Chicago flag. It's simple, meaningful, and iconic. It's a great example of good flag design. Now not only are you a Python Dictionary expert, but you also are a budding vexillologist!\n",
    "\n",
    "![Chicago Flag](./assets/figures/Flag_of_Chicago,_Illinois.svg.png)\n"
   ]
  },
  {
   "cell_type": "markdown",
   "id": "25",
   "metadata": {},
   "source": []
  }
 ],
 "metadata": {
  "kernelspec": {
   "display_name": "engr131_dev",
   "language": "python",
   "name": "python3"
  },
  "language_info": {
   "codemirror_mode": {
    "name": "ipython",
    "version": 3
   },
   "file_extension": ".py",
   "mimetype": "text/x-python",
   "name": "python",
   "nbconvert_exporter": "python",
   "pygments_lexer": "ipython3",
   "version": "3.12.7"
  }
 },
 "nbformat": 4,
 "nbformat_minor": 5
}
