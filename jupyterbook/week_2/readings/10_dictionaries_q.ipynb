{
 "cells": [
  {
   "cell_type": "code",
   "execution_count": null,
   "metadata": {
    "deletable": false,
    "editable": false,
    "tags": [
     "skip-execution"
    ]
   },
   "outputs": [],
   "source": [
    "# You must make sure to run all cells in sequence using shift + enter or you might encounter errors\n",
    "from pykubegrader.initialize import initialize_assignment\n",
    "\n",
    "responses = initialize_assignment(\"10_dictionaries_q\", \"week_2\", \"readings\", assignment_points = 11.0, assignment_tag = 'week2-readings')\n",
    "\n",
    "# Initialize Otter\n",
    "import otter\n",
    "grader = otter.Notebook(\"10_dictionaries_q.ipynb\")"
   ]
  },
  {
   "cell_type": "markdown",
   "metadata": {
    "deletable": false,
    "editable": false
   },
   "source": [
    "# ❓ Dictionaries and Search Engine Optimization (SEO) 👀\n",
    "\n",
    "![](./assets/figures/let-me-google-that.webp)\n",
    "\n",
    "Search Engine Optimization (SEO) is the practice of improving a website to increase its visibility in search engines like Google. It involves tracking various metrics (measurements) about how people interact with your website:\n",
    "\n",
    "\n",
    "```{admonition} What is SEO?\n",
    "Search Engine Optimization (SEO) is the practice of improving a website to increase its visibility in search engines like Google. It involves tracking various metrics (measurements) about how people interact with your website:\n",
    "\n",
    "- **Pageviews**: Number of times people view your pages 👀\n",
    "- **Bounce Rate**: Percentage of visitors who leave without interacting 🚪\n",
    "- **Keywords**: Words people use to find your site 🔍\n",
    "- **Rankings**: How high your site appears in search results 📊\n",
    "```"
   ]
  },
  {
   "cell_type": "code",
   "execution_count": null,
   "metadata": {
    "tags": [
     "skip-execution"
    ]
   },
   "outputs": [],
   "source": [
    "# Run this block of code by pressing Shift + Enter to display the question\n",
    "from questions._10_dictionaries_q import Question1\n",
    "Question1().show()\n"
   ]
  },
  {
   "cell_type": "code",
   "execution_count": null,
   "metadata": {
    "tags": [
     "skip-execution"
    ]
   },
   "outputs": [],
   "source": [
    "# Run this block of code by pressing Shift + Enter to display the question\n",
    "from questions._10_dictionaries_q import Question2\n",
    "Question2().show()\n"
   ]
  },
  {
   "cell_type": "code",
   "execution_count": null,
   "metadata": {
    "tags": [
     "skip-execution"
    ]
   },
   "outputs": [],
   "source": [
    "# Run this block of code by pressing Shift + Enter to display the question\n",
    "from questions._10_dictionaries_q import Question3\n",
    "Question3().show()\n"
   ]
  },
  {
   "cell_type": "markdown",
   "metadata": {
    "deletable": false,
    "editable": false
   },
   "source": [
    "## Website Analytics Exercise 📊\n",
    "\n",
    "### Instructions:\n",
    "\n",
    "Let's practice working with dictionaries by creating a simple analytics dashboard! \n",
    "\n",
    "```{admonition} Context\n",
    "We'll create a function that manages website metrics. Don't worry about the SEO terms - focus on practicing dictionary operations!\n",
    "- Pageviews = Number of times people view your pages\n",
    "- Bounce rate = Percentage of visitors who leave quickly (shown as decimal)\n",
    "- Session duration = How long visitors stay (in seconds)\n",
    "```\n",
    "\n",
    "1. Create a function that:\n",
    "   - Creates a dictionary called `metrics` with these key-value pairs:\n",
    "     - \"pageviews\": 1000\n",
    "     - \"bounce_rate\": 0.35\n",
    "     - \"duration\": 180\n",
    "   - Adds a new key \"date\" with value \"2024-03-15\"\n",
    "   - Calculates the bounce rate as a percentage (multiply by 100)\n",
    "   - Returns the dictionary and the percentage\n",
    "\n",
    "2. The function should print:\n",
    "   ```\n",
    "   Website Metrics for 2024-03-15:\n",
    "   - Pageviews: 1000\n",
    "   - Bounce Rate: 35%\n",
    "   - Average Duration: 180 seconds\n",
    "   ```\n",
    "\n",
    "   We have provided this code for you."
   ]
  },
  {
   "cell_type": "code",
   "execution_count": null,
   "metadata": {
    "tags": [
     "skip-execution"
    ]
   },
   "outputs": [],
   "source": [
    "def website_analytics():\n",
    "    # Create the `metrics` dictionary\n",
    "    \n",
    "    ...\n",
    "    \n",
    "    # Add the date\n",
    "    ...\n",
    "    \n",
    "    \n",
    "    # Calculate percentage bounce rate and save it to a variable called `bounce_rate_percent`\n",
    "    ...\n",
    "    \n",
    "    return metrics, bounce_rate_percent\n",
    "\n",
    "# Call the function\n",
    "metrics, bounce_rate_percent = website_analytics()\n",
    "\n",
    "# We have provided this code for you, you don't need to modify it\n",
    "# Print the summary\n",
    "print(f\"Website Metrics for {metrics['date']}:\")\n",
    "print(f\"- Pageviews: {metrics['pageviews']}\")\n",
    "print(f\"- Bounce Rate: {int(bounce_rate_percent)}%\")\n",
    "print(f\"- Average Duration: {metrics['duration']} seconds\")\n",
    "    "
   ]
  },
  {
   "cell_type": "code",
   "execution_count": null,
   "metadata": {
    "deletable": false,
    "editable": false,
    "tags": [
     "skip-execution"
    ]
   },
   "outputs": [],
   "source": [
    "grader.check(\"question-Website-Analytics\")"
   ]
  },
  {
   "cell_type": "markdown",
   "id": "8",
   "metadata": {},
   "source": [
    "## Submitting Assignment\n",
    "\n",
    "Please run the following block of code using `shift + enter` to submit your assignment, you should see your score."
   ]
  },
  {
   "cell_type": "code",
   "execution_count": null,
   "id": "9",
   "metadata": {
    "deletable": false,
    "editable": false,
    "tags": [
     "skip-execution"
    ]
   },
   "outputs": [],
   "source": [
    "from pykubegrader.submit.submit_assignment import submit_assignment\n",
    "\n",
    "submit_assignment(\"week2-readings\", \"10_dictionaries_q\")"
   ]
  }
 ],
 "metadata": {
  "kernelspec": {
   "display_name": "engr131_dev",
   "language": "python",
   "name": "python3"
  },
  "language_info": {
   "codemirror_mode": {
    "name": "ipython",
    "version": 3
   },
   "file_extension": ".py",
   "mimetype": "text/x-python",
   "name": "python",
   "nbconvert_exporter": "python",
   "pygments_lexer": "ipython3",
   "version": "3.12.7"
  },
  "otter": {
   "OK_FORMAT": true,
   "tests": {
    "question-Website-Analytics": {
     "name": "question-Website-Analytics",
     "points": null,
     "suites": [
      {
       "cases": [
        {
         "code": ">>> from pykubegrader.telemetry import ensure_responses, log_variable, score_question, submit_question, telemetry, update_responses\n>>> import os\n>>> max_question_points = str(6.0)\n>>> earned_points = 0\n>>> os.environ['EARNED_POINTS'] = str(earned_points)\n>>> os.environ['TOTAL_POINTS_FREE_RESPONSE'] = str(6.0)\n>>> log_variable('total-points', f'Reading-Week-X, 10_dictionaries_q', 6.0)\n>>> question_id = 'question-Website-Analytics-1'\n>>> max_score = 3.0\n>>> score = 0\n>>> metrics, _ = website_analytics()\n>>> dictionary = {'pageviews': 1000, 'bounce_rate': 0.35, 'duration': 180, 'date': '2024-03-15'}\n>>> assert metrics == dictionary, 'Metrics dictionary values or structure is incorrect.'\n>>> if metrics == dictionary:\n...     score = 3.0\n>>> earned_points = float(os.environ.get('EARNED_POINTS', 0))\n>>> earned_points += score\n>>> log_variable('10_dictionaries_q', f'{score}, {max_score}', question_id)\n>>> os.environ['EARNED_POINTS'] = str(earned_points)\n",
         "failure_message": "The metrics dictionary is incorrect.",
         "hidden": false,
         "locked": false,
         "points": 3,
         "success_message": "Correctly created and modified the metrics dictionary."
        },
        {
         "code": ">>> from pykubegrader.telemetry import ensure_responses, log_variable, score_question, submit_question, telemetry, update_responses\n>>> import os\n>>> question_id = 'question-Website-Analytics-2'\n>>> max_score = 3.0\n>>> score = 0\n>>> _, bounce_rate_percent = website_analytics()\n>>> assert bounce_rate_percent == 35.0, 'Bounce rate percentage calculation is incorrect.'\n>>> if bounce_rate_percent == 35.0:\n...     score = 3.0\n>>> earned_points = float(os.environ.get('EARNED_POINTS', 0))\n>>> earned_points += score\n>>> log_variable('10_dictionaries_q', f'{score}, {max_score}', question_id)\n>>> os.environ['EARNED_POINTS'] = str(earned_points)\n",
         "failure_message": "The bounce rate percentage calculation is incorrect.",
         "hidden": false,
         "locked": false,
         "points": 3,
         "success_message": "Correctly calculated the bounce rate percentage."
        }
       ],
       "scored": true,
       "setup": "",
       "teardown": "",
       "type": "doctest"
      }
     ]
    }
   }
  }
 },
 "nbformat": 4,
 "nbformat_minor": 2
}
