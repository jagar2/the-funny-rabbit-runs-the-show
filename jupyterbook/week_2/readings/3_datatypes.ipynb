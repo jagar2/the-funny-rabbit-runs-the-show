{
 "cells": [
  {
   "cell_type": "markdown",
   "id": "0",
   "metadata": {},
   "source": [
    "# 📖 Python Datatypes: The Many White Houses of Code🎉\n"
   ]
  },
  {
   "cell_type": "markdown",
   "id": "1",
   "metadata": {},
   "source": [
    "```{admonition} 🧐 Obscura\n",
    "During China's period of rapid development in the 1990s, architectural projects began incorporating design elements inspired by international landmarks, including the architectural style of the U.S. presidential residence. These interpretations range from government buildings to commercial spaces, reflecting an interest in neoclassical design elements while adapting them for local needs and contexts. The buildings often feature white columns and triangular pediments that echo 18th-century Western architectural motifs, while innovating with interior layouts and functionalities. These architectural choices represent a creative dialogue between different design traditions and China's dynamic approach to contemporary urban development.\n",
    "```\n",
    "\n",
    "![White House Replica](./assets/figures/white-house-1.png)\n",
    "\n",
    "🏛️ Python’s versatility ensures you can identify, manipulate, and replicate data structures as easily as spotting a replica White House in a random province.\n"
   ]
  },
  {
   "cell_type": "markdown",
   "id": "2",
   "metadata": {},
   "source": [
    "## 🛠 Core Datatypes: A Tour of Python's Neighborhood\n"
   ]
  },
  {
   "cell_type": "markdown",
   "id": "3",
   "metadata": {},
   "source": [
    "### 1️⃣ Integers: The Bricks and Mortar\n"
   ]
  },
  {
   "cell_type": "markdown",
   "id": "4",
   "metadata": {},
   "source": [
    "```{admonition} Definitions\n",
    "Integers are whole numbers, including positive numbers, negative numbers, and zero.\n",
    "```\n"
   ]
  },
  {
   "cell_type": "markdown",
   "id": "5",
   "metadata": {},
   "source": [
    "```{admonition} Syntax\n",
    "`x = 42`\n",
    "Examples:\n",
    "- `x = 10`\n",
    "- `y = -15`\n",
    "- `z = 0`\n",
    "```\n"
   ]
  },
  {
   "cell_type": "code",
   "execution_count": null,
   "id": "6",
   "metadata": {},
   "outputs": [],
   "source": [
    "number_of_houses = 10\n",
    "print(number_of_houses * 2)  # Output: 20"
   ]
  },
  {
   "cell_type": "markdown",
   "id": "7",
   "metadata": {},
   "source": [
    "### 2️⃣ Floats: The Reflecting Pools\n",
    "\n",
    "![White House Replica](./assets/figures/white-house-3.png)\n"
   ]
  },
  {
   "cell_type": "markdown",
   "id": "8",
   "metadata": {},
   "source": [
    "```{admonition} Definitions\n",
    "Floats are numbers that include a decimal point for fractional values.\n",
    "```\n"
   ]
  },
  {
   "cell_type": "markdown",
   "id": "9",
   "metadata": {},
   "source": [
    "```{admonition} Syntax\n",
    "`y = 3.14`\n",
    "Examples:\n",
    "- `distance = 12.5`\n",
    "- `temperature = -0.01`\n",
    "- `speed = 0.0`\n",
    "```\n"
   ]
  },
  {
   "cell_type": "code",
   "execution_count": null,
   "id": "10",
   "metadata": {},
   "outputs": [],
   "source": [
    "distance_to_next_house = 12.5\n",
    "time_taken = 1.5\n",
    "speed = distance_to_next_house / time_taken\n",
    "print(speed)  # Output: 8.333..."
   ]
  },
  {
   "cell_type": "markdown",
   "id": "11",
   "metadata": {},
   "source": [
    "### 3️⃣ Strings: The Grand Facade\n",
    "\n",
    "![White House Replica](./assets/figures/white-house-4.png)\n"
   ]
  },
  {
   "cell_type": "markdown",
   "id": "12",
   "metadata": {},
   "source": [
    "```{admonition} Definitions\n",
    "Strings are sequences of characters enclosed in single, double, or triple quotes. They represent text data.\n",
    "```\n"
   ]
  },
  {
   "cell_type": "markdown",
   "id": "13",
   "metadata": {},
   "source": [
    "```{admonition} Syntax\n",
    "`s = \"White House\"` or `s = 'White House'` or `s = \"\"\"White House\"\"\"`\n",
    "Examples:\n",
    "- `\"Hello, World!\"`\n",
    "- `'Python Rules!'`\n",
    "- `'''Triple-quoted string'''`\n",
    "```\n"
   ]
  },
  {
   "cell_type": "code",
   "execution_count": null,
   "id": "14",
   "metadata": {},
   "outputs": [],
   "source": [
    "house_name = \"Miniature White House\"\n",
    "location = \"Guangzhou, China\"\n",
    "print(house_name + \" in \" + location)"
   ]
  },
  {
   "cell_type": "markdown",
   "id": "15",
   "metadata": {},
   "source": [
    "### 4️⃣ Lists: The Landscaping Crew\n",
    "\n",
    "![White House Replica](./assets/figures/white-house-5.png)\n"
   ]
  },
  {
   "cell_type": "markdown",
   "id": "16",
   "metadata": {},
   "source": [
    "```{admonition} Definitions\n",
    "Lists are ordered collections of items that are mutable, meaning you can add, remove, or modify elements.\n",
    "```\n"
   ]
  },
  {
   "cell_type": "markdown",
   "id": "17",
   "metadata": {},
   "source": [
    "```{admonition} Syntax\n",
    "`l = [item1, item2, item3]`\n",
    "Examples:\n",
    "- `[1, 2, 3]`\n",
    "- `[\"apple\", \"banana\", \"cherry\"]`\n",
    "- `[True, False, True]`\n",
    "```\n"
   ]
  },
  {
   "cell_type": "code",
   "execution_count": null,
   "id": "18",
   "metadata": {},
   "outputs": [],
   "source": [
    "# defines the list\n",
    "landscapes = [\"Statue of Liberty\", \"Eiffel Tower\", \"Big Ben\"]\n",
    "\n",
    "# adds an element to the list\n",
    "landscapes.append(\"White House\")\n",
    "\n",
    "# prints the list\n",
    "print(landscapes)"
   ]
  },
  {
   "cell_type": "markdown",
   "id": "19",
   "metadata": {},
   "source": [
    "### 5️⃣ Tuples: The Fixed Features\n"
   ]
  },
  {
   "cell_type": "markdown",
   "id": "20",
   "metadata": {},
   "source": [
    "```{admonition} Definitions\n",
    "Tuples are immutable ordered collections of items, meaning their content cannot be modified after creation.\n",
    "```\n"
   ]
  },
  {
   "cell_type": "markdown",
   "id": "21",
   "metadata": {},
   "source": [
    "```{admonition} Syntax\n",
    "`t = (item1, item2, item3)`\n",
    "Examples:\n",
    "- `(1, 2, 3)`\n",
    "- `(\"a\", \"b\", \"c\")`\n",
    "- `(True, False)`\n",
    "```\n"
   ]
  },
  {
   "cell_type": "code",
   "execution_count": null,
   "id": "22",
   "metadata": {},
   "outputs": [],
   "source": [
    "dimensions = (160, 85, 65)  # Length, Width, Height in feet\n",
    "print(dimensions[0])"
   ]
  },
  {
   "cell_type": "markdown",
   "id": "23",
   "metadata": {},
   "source": [
    "### 6️⃣ Dictionaries: The Blueprints\n"
   ]
  },
  {
   "cell_type": "markdown",
   "id": "24",
   "metadata": {},
   "source": [
    "```{admonition} Definitions\n",
    "Dictionaries are collections of key-value pairs where each key is unique, and they are used for structured data storage.\n",
    "```\n"
   ]
  },
  {
   "cell_type": "markdown",
   "id": "25",
   "metadata": {},
   "source": [
    "```{admonition} Syntax\n",
    "`d = {\"key1\": value1, \"key2\": value2}`\n",
    "Examples:\n",
    "- `{ \"name\": \"White House\", \"location\": \"Beijing\" }`\n",
    "- `{ 1: \"one\", 2: \"two\", 3: \"three\" }`\n",
    "- `{ \"x\": 42, \"y\": 3.14 }`\n",
    "```\n"
   ]
  },
  {
   "cell_type": "code",
   "execution_count": null,
   "id": "26",
   "metadata": {},
   "outputs": [],
   "source": [
    "replica_details = {\n",
    "    \"name\": \"White House Replica\",\n",
    "    \"location\": \"Beijing\",\n",
    "    \"year_built\": 2018,\n",
    "}\n",
    "print(replica_details[\"location\"])"
   ]
  },
  {
   "cell_type": "markdown",
   "id": "27",
   "metadata": {},
   "source": [
    "## 🏛️ Wrapping Up: Python Datatypes Are Like Replica White Houses\n",
    "\n",
    "And don’t forget, Python datatypes are as versatile as the White House replicas across China:\n",
    "\n",
    "- Count like the number of replicas: `number_of_houses * 2` gives you the total as an integer.\n",
    "- Measure like an architect with floats: `distance_to_next_house / time_taken` calculates precision.\n",
    "- Describe like a tour guide with strings: `\"White House Replica in Beijing\"`.\n",
    "- Organize like a master planner with lists: `[\"Statue of Liberty\", \"Eiffel Tower\", \"White House\"]`.\n",
    "- Preserve like historical records with tuples: `(160, 85, 65)` stores dimensions.\n",
    "- Map like a blueprint with dictionaries: `{\"name\": \"White House\", \"location\": \"Beijing\"}`.\n",
    "\n",
    "With Python datatypes, you can build data structures as unique and dynamic as the replicas themselves. 🏗️✨\n"
   ]
  }
 ],
 "metadata": {
  "kernelspec": {
   "display_name": "engr131_dev",
   "language": "python",
   "name": "python3"
  },
  "language_info": {
   "codemirror_mode": {
    "name": "ipython",
    "version": 3
   },
   "file_extension": ".py",
   "mimetype": "text/x-python",
   "name": "python",
   "nbconvert_exporter": "python",
   "pygments_lexer": "ipython3",
   "version": "3.12.7"
  }
 },
 "nbformat": 4,
 "nbformat_minor": 5
}
