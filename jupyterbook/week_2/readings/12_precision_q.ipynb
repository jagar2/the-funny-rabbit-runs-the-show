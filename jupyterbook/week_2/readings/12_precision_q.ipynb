{
 "cells": [
  {
   "cell_type": "code",
   "execution_count": null,
   "metadata": {
    "deletable": false,
    "editable": false,
    "tags": [
     "skip-execution"
    ]
   },
   "outputs": [],
   "source": [
    "# You must make sure to run all cells in sequence using shift + enter or you might encounter errors\n",
    "from pykubegrader.initialize import initialize_assignment\n",
    "\n",
    "responses = initialize_assignment(\"12_precision_q\", \"week_2\", \"readings\", assignment_points = 10.0, assignment_tag = 'week2-readings')\n",
    "\n",
    "# Initialize Otter\n",
    "import otter\n",
    "grader = otter.Notebook(\"12_precision_q.ipynb\")"
   ]
  },
  {
   "cell_type": "markdown",
   "metadata": {
    "deletable": false,
    "editable": false
   },
   "source": [
    "# ❓ Precision in Python: NIST Laboratory Adventures 🧪\n",
    "\n",
    "Welcome to the National Institute of Standards and Technology (NIST) virtual laboratory! Today, we'll explore how Python handles numerical precision - a critical aspect of scientific measurements and calculations.\n",
    "\n",
    "Could you imagine a world where a gallon of gasoline is not actually a gallon? Or a kilogram of sugar is not a kilogram? That would be a disaster! In the world of scientific computing, precision is equally important.\n",
    "\n",
    "NIST is a world-renowned research institution that specializes in measurement science. They have developed a set of test cases to evaluate the numerical precision of programming languages. In this notebook, we will explore the NIST precision test cases and see how Python performs. For example, the meter has a physical reference standard at NIST. '\n",
    "\n",
    "## NIST Meter\n",
    "\n",
    "![](./assets/figures/weights-measures.jpg)\n",
    "\n",
    "<iframe width=\"560\" height=\"315\" src=\"https://www.youtube.com/embed/UgfKNFhRwT8?si=ZfveeKaX5t2K562n\" title=\"YouTube video player\" frameborder=\"0\" allow=\"accelerometer; autoplay; clipboard-write; encrypted-media; gyroscope; picture-in-picture; web-share\" referrerpolicy=\"strict-origin-when-cross-origin\" allowfullscreen></iframe>"
   ]
  },
  {
   "cell_type": "code",
   "execution_count": null,
   "metadata": {
    "tags": [
     "skip-execution"
    ]
   },
   "outputs": [],
   "source": [
    "# Run this block of code by pressing Shift + Enter to display the question\n",
    "from questions._12_precision_q import Question1\n",
    "Question1().show()\n"
   ]
  },
  {
   "cell_type": "code",
   "execution_count": null,
   "metadata": {
    "tags": [
     "skip-execution"
    ]
   },
   "outputs": [],
   "source": [
    "# Run this block of code by pressing Shift + Enter to display the question\n",
    "from questions._12_precision_q import Question2\n",
    "Question2().show()\n"
   ]
  },
  {
   "cell_type": "code",
   "execution_count": null,
   "metadata": {
    "tags": [
     "skip-execution"
    ]
   },
   "outputs": [],
   "source": [
    "# Run this block of code by pressing Shift + Enter to display the question\n",
    "from questions._12_precision_q import Question3\n",
    "Question3().show()\n"
   ]
  },
  {
   "cell_type": "markdown",
   "metadata": {
    "deletable": false,
    "editable": false
   },
   "source": [
    "## **NIST Mass Calculation**\n",
    "\n",
    "### Instructions:\n",
    "A NIST scientist needs to calculate the average mass of several calibration weights and determine if it matches a reference value within an acceptable tolerance.\n",
    "\n",
    "1. Define a list of masses `mass list` in grams: [10.0, 10.01, 9.001] make sure that all values are of type float.\n",
    "2. Use the built in `len()` function to calculate the number of weights. Store the results in the variable `number_of_weights`. This parameter should be an integer.\n",
    "3. Calculate the average mass of the weights and store the result in the variable `average_mass`. You can use the `sum()` and `len()` functions to calculate the average.\n",
    "4. Use the `math.isclose()` function to compare the `average_mass` to the reference value `10.0` with a relative tolerance of `1e-3`. Store the result in the variable `is_close`. You can set the `rel_tol` parameter to `1e-3`. This is done by calling the function `math.isclose(average_mass, 10.0, rel_tol=1e-3)`.\n"
   ]
  },
  {
   "cell_type": "code",
   "execution_count": null,
   "metadata": {
    "tags": [
     "skip-execution"
    ]
   },
   "outputs": [],
   "source": [
    "import math\n",
    "\n",
    "# Step 1: Define the list of masses\n",
    "mass_list = ...\n",
    "\n",
    "# Step 2: Calculate the number of weights\n",
    "number_of_weights = ...\n",
    "\n",
    "# Step 3: Calculate the average mass\n",
    "average_mass = ...\n",
    "\n",
    "# Step 4: Compare average mass to the reference value\n",
    "reference_value = ...\n",
    "tolerance = ...\n",
    "is_close = ...\n",
    "\n",
    "# Step 5: Print the results\n",
    "# We have provided the code to print the results\n",
    "# Print results\n",
    "print(f\"Mass List: {mass_list}\")\n",
    "print(f\"Number of Weights: {number_of_weights}\")\n",
    "print(f\"Average Mass: {average_mass}\")\n",
    "print(f\"Is Close to Reference: {is_close}\")\n"
   ]
  },
  {
   "cell_type": "code",
   "execution_count": null,
   "metadata": {
    "deletable": false,
    "editable": false,
    "tags": [
     "skip-execution"
    ]
   },
   "outputs": [],
   "source": [
    "grader.check(\"NIST-Mass-Calculation\")"
   ]
  },
  {
   "cell_type": "markdown",
   "id": "8",
   "metadata": {},
   "source": [
    "## Submitting Assignment\n",
    "\n",
    "Please run the following block of code using `shift + enter` to submit your assignment, you should see your score."
   ]
  },
  {
   "cell_type": "code",
   "execution_count": null,
   "id": "9",
   "metadata": {
    "deletable": false,
    "editable": false,
    "tags": [
     "skip-execution"
    ]
   },
   "outputs": [],
   "source": [
    "from pykubegrader.submit.submit_assignment import submit_assignment\n",
    "\n",
    "submit_assignment(\"week2-readings\", \"12_precision_q\")"
   ]
  }
 ],
 "metadata": {
  "kernelspec": {
   "display_name": "engr131_dev",
   "language": "python",
   "name": "python3"
  },
  "language_info": {
   "codemirror_mode": {
    "name": "ipython",
    "version": 3
   },
   "file_extension": ".py",
   "mimetype": "text/x-python",
   "name": "python",
   "nbconvert_exporter": "python",
   "pygments_lexer": "ipython3",
   "version": "3.12.7"
  },
  "otter": {
   "OK_FORMAT": true,
   "tests": {
    "NIST-Mass-Calculation": {
     "name": "NIST-Mass-Calculation",
     "points": null,
     "suites": [
      {
       "cases": [
        {
         "code": ">>> from pykubegrader.telemetry import ensure_responses, log_variable, score_question, submit_question, telemetry, update_responses\n>>> import os\n>>> max_question_points = str(6.0)\n>>> earned_points = 0\n>>> os.environ['EARNED_POINTS'] = str(earned_points)\n>>> os.environ['TOTAL_POINTS_FREE_RESPONSE'] = str(6.0)\n>>> log_variable('total-points', f'Reading-Week-X, 12_precision_q', 6.0)\n>>> question_id = 'NIST-Mass-Calculation-1'\n>>> max_score = 2.0\n>>> score = 0\n>>> assert len(mass_list) == 3, 'Test Case 1 Failed: Expected the number of weights to be 3.'\n>>> if len(mass_list) == 3:\n...     score = 2.0\n>>> earned_points = float(os.environ.get('EARNED_POINTS', 0))\n>>> earned_points += score\n>>> log_variable('12_precision_q', f'{score}, {max_score}', question_id)\n>>> os.environ['EARNED_POINTS'] = str(earned_points)\n",
         "failure_message": "The mass calculation function is not working as expected.",
         "hidden": false,
         "locked": false,
         "points": 2,
         "success_message": "Correctly implemented the mass calculation function."
        },
        {
         "code": ">>> from pykubegrader.telemetry import ensure_responses, log_variable, score_question, submit_question, telemetry, update_responses\n>>> import os\n>>> question_id = 'NIST-Mass-Calculation-2'\n>>> max_score = 2.0\n>>> score = 0\n>>> expected_average = (10.0 + 10.01 + 9.001) / 3\n>>> assert math.isclose(average_mass, expected_average, rel_tol=1e-06), f'Test Case 2 Failed: Expected average mass to be {expected_average}, but got {average_mass}.'\n>>> if math.isclose(average_mass, expected_average, rel_tol=1e-06):\n...     score = 2.0\n>>> earned_points = float(os.environ.get('EARNED_POINTS', 0))\n>>> earned_points += score\n>>> log_variable('12_precision_q', f'{score}, {max_score}', question_id)\n>>> os.environ['EARNED_POINTS'] = str(earned_points)\n",
         "failure_message": "The average mass calculation is incorrect.",
         "hidden": false,
         "locked": false,
         "points": 2,
         "success_message": "Successfully calculates the average mass."
        },
        {
         "code": ">>> from pykubegrader.telemetry import ensure_responses, log_variable, score_question, submit_question, telemetry, update_responses\n>>> import os\n>>> question_id = 'NIST-Mass-Calculation-3'\n>>> max_score = 2.0\n>>> score = 0\n>>> reference_value = 10.0\n>>> is_close = math.isclose(average_mass, reference_value, rel_tol=0.001)\n>>> assert is_close == False, 'Test Case 3 Failed: Expected is_close to be False with rel_tol=1e-3.'\n>>> if is_close == False:\n...     score = 2.0\n>>> earned_points = float(os.environ.get('EARNED_POINTS', 0))\n>>> earned_points += score\n>>> log_variable('12_precision_q', f'{score}, {max_score}', question_id)\n>>> os.environ['EARNED_POINTS'] = str(earned_points)\n",
         "failure_message": "The tolerance check for the average mass is incorrect.",
         "hidden": false,
         "locked": false,
         "points": 2,
         "success_message": "Correctly determines if the average is within tolerance."
        }
       ],
       "scored": true,
       "setup": "",
       "teardown": "",
       "type": "doctest"
      }
     ]
    }
   }
  }
 },
 "nbformat": 4,
 "nbformat_minor": 2
}
