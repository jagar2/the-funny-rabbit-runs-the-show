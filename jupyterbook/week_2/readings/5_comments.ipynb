{
 "cells": [
  {
   "cell_type": "markdown",
   "id": "0",
   "metadata": {},
   "source": [
    "# 📖 Comments: Talking to Your Future Self (and Others) 💬\n",
    "\n",
    "![](./assets/figures/comments.webp)\n",
    "\n",
    "As your programs grow bigger, more sophisticated, and filled with engineering brilliance, they can also become a tangled mess of complexity. Python (and any programming language) doesn’t care if your code is readable—it’s all the same to the interpreter. But for you, your future self, and anyone else who looks at your code, clarity is king. That’s where comments come in. 📝\n"
   ]
  },
  {
   "cell_type": "markdown",
   "id": "1",
   "metadata": {},
   "source": [
    "## What Are Comments? 🤔\n",
    "\n",
    "Comments are notes you leave in your code. They’re written in plain, natural language to explain:\n",
    "\n",
    "- What the program is doing.\n",
    "- Why you wrote something a certain way.\n",
    "- Any assumptions or context someone might need to understand your logic.\n",
    "\n",
    "Comments are entirely ignored by the interpreter. They’re for humans, not machines. Think of them as a way to:\n",
    "\n",
    "- Remind yourself why you wrote that clever bit of code six months from now.\n",
    "- Help your teammates understand your engineering magic. ✨\n"
   ]
  },
  {
   "cell_type": "markdown",
   "id": "2",
   "metadata": {},
   "source": [
    "## How to Write Comments in Python 🐍\n",
    "\n",
    "In Python, comments begin with the `#` symbol. Everything after the `#` on that line is ignored by Python.\n"
   ]
  },
  {
   "cell_type": "markdown",
   "id": "3",
   "metadata": {},
   "source": [
    "### Example:\n"
   ]
  },
  {
   "cell_type": "code",
   "execution_count": null,
   "id": "4",
   "metadata": {},
   "outputs": [],
   "source": [
    "# This program calculates stress from force and area\n",
    "force = 1000  # Force in Newtons\n",
    "area = 50  # Area in square meters\n",
    "stress = force / area  # Stress formula: sigma = F / A\n",
    "print(f\"The stress is {stress} Pascals.\")  # Output result"
   ]
  },
  {
   "cell_type": "markdown",
   "id": "5",
   "metadata": {},
   "source": [
    "## Updating Our Example: Hello, Engineering World! 🌍\n",
    "\n",
    "Let’s rewrite our earlier \"Hello, Engineering World!\" program to include comments.\n"
   ]
  },
  {
   "cell_type": "code",
   "execution_count": null,
   "id": "6",
   "metadata": {},
   "outputs": [],
   "source": [
    "# ------------------------------------------------------\n",
    "# Hello, Engineering World!\n",
    "# This program introduces Python basics and calculates stress.\n",
    "# Written by: [Jay Doe], November 2024\n",
    "# ------------------------------------------------------\n",
    "\n",
    "# Print a friendly greeting\n",
    "print(\"Hello, Engineering World! Let's solve some problems 🚀\")\n",
    "\n",
    "# Explain the formula being used\n",
    "print(\"Stress = Force / Area\")\n",
    "\n",
    "# Define inputs (force and area)\n",
    "force = 1000  # Force in Newtons\n",
    "area = 50  # Area in square meters\n",
    "\n",
    "# Calculate stress using the formula\n",
    "stress = force / area  # Formula: sigma = F / A\n",
    "\n",
    "# Print the result\n",
    "print(f\"The stress is {stress} Pascals. 💪\")  # Display calculated stress"
   ]
  },
  {
   "cell_type": "markdown",
   "id": "7",
   "metadata": {},
   "source": [
    "### Why This Works:\n",
    "\n",
    "- Header comments give context to the program.\n",
    "- Inline comments explain what each line or block of code is doing.\n"
   ]
  },
  {
   "cell_type": "markdown",
   "id": "8",
   "metadata": {},
   "source": [
    "## Blank Lines and Readability 📏\n",
    "\n",
    "Notice how the example includes blank lines? These are ignored by Python, just like comments, but they improve readability for humans. Group related parts of your code together and separate them with blank lines for clarity.\n"
   ]
  },
  {
   "cell_type": "markdown",
   "id": "9",
   "metadata": {},
   "source": [
    "## Why Use Comments? 💡\n"
   ]
  },
  {
   "cell_type": "markdown",
   "id": "10",
   "metadata": {},
   "source": [
    "1. For Future You: Code that makes sense today might look like alien hieroglyphs a month from now.\n"
   ]
  },
  {
   "cell_type": "markdown",
   "id": "11",
   "metadata": {},
   "source": [
    "2. For Teamwork: If others work on your code (or if you’re working on a team), comments are like leaving breadcrumbs to explain your thought process.\n"
   ]
  },
  {
   "cell_type": "markdown",
   "id": "12",
   "metadata": {},
   "source": [
    "3. For Debugging: When things go wrong (and they will), comments help you or someone else trace what your code is _supposed_ to do.\n"
   ]
  },
  {
   "cell_type": "markdown",
   "id": "13",
   "metadata": {},
   "source": [
    "## Do’s and Don’ts of Commenting ✅❌\n"
   ]
  },
  {
   "cell_type": "markdown",
   "id": "14",
   "metadata": {},
   "source": [
    "### Do:\n",
    "\n",
    "- Use comments to explain why a piece of code exists, not just what it does.\n"
   ]
  },
  {
   "cell_type": "code",
   "execution_count": null,
   "id": "15",
   "metadata": {},
   "outputs": [],
   "source": [
    "# Converting force to kilonewtons for consistency with SI units\n",
    "force_kn = force / 1000"
   ]
  },
  {
   "cell_type": "markdown",
   "id": "16",
   "metadata": {},
   "source": [
    "- Be concise but clear.\n",
    "- Use comments liberally, especially in complex or tricky sections of code.\n"
   ]
  },
  {
   "cell_type": "markdown",
   "id": "17",
   "metadata": {},
   "source": [
    "### Don’t:\n",
    "\n",
    "- Write redundant comments.\n"
   ]
  },
  {
   "cell_type": "code",
   "execution_count": null,
   "id": "18",
   "metadata": {},
   "outputs": [],
   "source": [
    "force = 1000  # Set force to 1000"
   ]
  },
  {
   "cell_type": "markdown",
   "id": "19",
   "metadata": {},
   "source": [
    "The code already says that!\n",
    "\n",
    "- Over-comment every single line. It can clutter your code.\n"
   ]
  },
  {
   "cell_type": "markdown",
   "id": "20",
   "metadata": {},
   "source": [
    "## Engineer’s Pro Tip: Write for Your Reader 🛠️\n",
    "\n",
    "Remember, comments aren’t just for you. They’re for whoever reads your code next—whether that’s a colleague, a professor, or you in six months. Write comments with the same care you’d use in an engineering report: clear, precise, and professional.\n",
    "\n",
    "Now, go forth and comment like a pro! Your future self (and every engineer who reads your code) will thank you. 🛠️🐍\n"
   ]
  }
 ],
 "metadata": {
  "language_info": {
   "name": "python"
  }
 },
 "nbformat": 4,
 "nbformat_minor": 5
}
