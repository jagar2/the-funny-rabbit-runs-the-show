{
 "cells": [
  {
   "cell_type": "markdown",
   "id": "0",
   "metadata": {},
   "source": [
    "# 📖 🎮 Precision in Python: Fixed-Point, Floating-Point, and Integer Representation\n"
   ]
  },
  {
   "cell_type": "markdown",
   "id": "1",
   "metadata": {},
   "source": [
    "🚀 A Mario-Inspired Exploration of Bits, Numbers, and Precision! 🕹️\n",
    "\n",
    "![](./assets/figures/mario-evolution.jpg)\n"
   ]
  },
  {
   "cell_type": "markdown",
   "id": "2",
   "metadata": {},
   "source": [
    "Computers represent numbers using binary (bits): a sequence of `0`s and `1`s.\n",
    "\n",
    "## 🎯 Why is Precision Important?\n",
    "\n",
    "In video games, precision affects:\n",
    "\n",
    "- 🍄 Mario's position on platforms.\n",
    "- 💰 Score calculations and counters.\n",
    "- 🏃 Physics simulations (e.g., jumps, gravity, and velocity).\n",
    "\n",
    "We use three main numerical formats:\n",
    "\n",
    "1️⃣ Integers (whole numbers, e.g., `10`, `-5`)\n",
    "\n",
    "2️⃣ Floating-Point (numbers with decimals, e.g., `1.25`, `-0.75`)\n",
    "\n",
    "3️⃣ Fixed-Point (decimal-like representation with exact fractional parts).\n"
   ]
  },
  {
   "cell_type": "markdown",
   "id": "3",
   "metadata": {},
   "source": [
    "## 🔢 2. Integer Representation\n"
   ]
  },
  {
   "cell_type": "markdown",
   "id": "4",
   "metadata": {},
   "source": [
    "### 🧩 Definition:\n",
    "\n",
    "An integer is a whole number (positive or negative, including zero). Integers are represented in binary.\n",
    "\n",
    "### 💾 How Integers Are Stored\n",
    "\n",
    "- Computers use a fixed number of bits to store integers:\n",
    "  - 📏 8-bit (e.g., old NES systems)\n",
    "  - 🕹️ 16-bit (SNES systems)\n",
    "  - 💻 32-bit/64-bit (modern processors)\n",
    "- For signed integers (positive and negative), we use two's complement representation.\n",
    "\n",
    "### 🎮 Example: Mario's Score Counter\n"
   ]
  },
  {
   "cell_type": "code",
   "execution_count": null,
   "id": "5",
   "metadata": {},
   "outputs": [],
   "source": [
    "# Integer example: Mario's score counter 🍄\n",
    "mario_score = 0\n",
    "\n",
    "for coin in range(10):  # Mario collects 10 coins 💰\n",
    "    mario_score += 100\n",
    "print(\"Mario's Score:\", mario_score)"
   ]
  },
  {
   "cell_type": "markdown",
   "id": "6",
   "metadata": {},
   "source": [
    "### What is Binary Representation? 💡\n",
    "\n",
    "Binary representation is a way of expressing data using only two digits: `0` and `1`. It’s the foundation of how computers store and process information.\n",
    "\n",
    "Each digit in a binary number is called a bit, and each bit represents a power of 2:\n",
    "\n",
    "- Example: The binary number `1011` is equal to $1 \\times 2^3 + 0 \\times 2^2 + 1 \\times 2^1 + 1 \\times 2^0 = 11$\n",
    " in decimal.\n",
    "\n",
    "Binary is used because:\n",
    "\n",
    "- Computers operate using electrical signals, which are easily represented as `on` (1) or `off` (0).\n",
    "- It efficiently encodes data and instructions for processing.\n"
   ]
  },
  {
   "cell_type": "markdown",
   "id": "7",
   "metadata": {},
   "source": [
    "### How Are Integers Stored in Binary? 🤖\n",
    "\n",
    "![Binary Representation of Integers](./assets/figures/binay_int.png)\n",
    "\n",
    "Integers are stored in binary as a series of bits (binary digits: `0` or `1`), with each bit representing a power of 2. The number of bits used depends on the system (e.g., 32-bit or 64-bit). Here’s how it works:\n",
    "\n",
    "1. Positive Integers:\n",
    "\n",
    "   - Represented using standard binary notation.\n",
    "   - Example: `5` → `00000101` (8-bit representation).\n",
    "\n",
    "2. Negative Integers:\n",
    "\n",
    "   - Stored using two's complement:\n",
    "     1. Write the binary of the positive value.\n",
    "     2. Invert all bits.\n",
    "     3. Add `1` to the result.\n",
    "   - Example: `-5` → `11111011` (8-bit representation).\n",
    "\n",
    "3. Size:\n",
    "   - The number of bits determines the range:\n",
    "     - For `n` bits, the range is `-2^(n-1)` to `2^(n-1)-1` for signed integers.\n",
    "\n",
    "Binary representation is compact and efficient, allowing integers to be processed directly by hardware.\n"
   ]
  },
  {
   "cell_type": "markdown",
   "id": "8",
   "metadata": {},
   "source": [
    "## 🌊 3. Floating-Point Representation\n"
   ]
  },
  {
   "cell_type": "markdown",
   "id": "9",
   "metadata": {},
   "source": [
    "![](./assets/figures/Float_example.webp)\n",
    "\n",
    "```{admonition} Definition:\n",
    "A floating-point number represents real numbers with a fractional part (decimals). Floating-point numbers follow the IEEE 754 standard.\n",
    "```\n",
    "\n",
    "### 🤔 Precision Issues\n",
    "\n",
    "Floating-point inaccuracies occur because numbers like `0.1` cannot be represented exactly in binary.\n",
    "\n",
    "#### 🍄 Example in Mario: Position Error\n"
   ]
  },
  {
   "cell_type": "code",
   "execution_count": null,
   "id": "10",
   "metadata": {},
   "outputs": [],
   "source": [
    "mario_x = 0.1 + 0.2  # Mario tries to move 🏃\n",
    "print(\"Mario's X-coordinate:\", mario_x)\n",
    "\n",
    "if mario_x == 0.3:\n",
    "    print(\"🎉 Mario landed perfectly!\")\n",
    "else:\n",
    "    print(\"⚠️ Precision error! Mario slipped!\")"
   ]
  },
  {
   "cell_type": "markdown",
   "id": "11",
   "metadata": {},
   "source": [
    "## 🧮 4. Fixed-Point Representation\n"
   ]
  },
  {
   "cell_type": "markdown",
   "id": "12",
   "metadata": {},
   "source": [
    "```{admonition} Definition:\n",
    "A fixed-point number represents real numbers with a fixed number of fractional bits. It avoids floating-point errors.\n",
    "```\n",
    "\n",
    "### 🎯 Example: Representing 2.25 as Fixed-Point\n",
    "\n",
    "If 4 bits are reserved for integers and 4 for fractions, `2.25` is stored as:\n",
    "\n",
    "```\n",
    "0010.0100\n",
    "```\n",
    "\n",
    "🎮 Video Game Context:  \n",
    "Older systems like the NES used fixed-point arithmetic for Mario's movement.\n"
   ]
  },
  {
   "cell_type": "code",
   "execution_count": null,
   "id": "13",
   "metadata": {},
   "outputs": [],
   "source": [
    "# Fixed-point simulation 🧮\n",
    "fixed_point_position = 2 + 0.25\n",
    "print(\"Mario's Position:\", fixed_point_position)"
   ]
  },
  {
   "cell_type": "markdown",
   "id": "14",
   "metadata": {},
   "source": [
    "## ⚖️ 5. Comparison and Best Practices\n"
   ]
  },
  {
   "cell_type": "markdown",
   "id": "15",
   "metadata": {},
   "source": [
    "| Feature        | 🔢 Integer        | 🧮 Fixed-Point        | 🌊 Floating-Point      |\n",
    "| -------------- | ----------------- | --------------------- | ---------------------- |\n",
    "| Storage        | Whole numbers     | Fractional bits fixed | Exponent + Mantissa    |\n",
    "| Precision      | Exact             | Limited precision     | Approximate            |\n",
    "| Performance    | ⚡ Fast           | ⚡ Fast               | 🐢 Slower              |\n",
    "| Use Cases      | Scores, counters  | Position, physics     | Precise math, graphics |\n",
    "| Video Game Use | 🎮 Scores, timers | 🎮 Position on screen | 🎮 Modern physics, AI  |\n"
   ]
  },
  {
   "cell_type": "markdown",
   "id": "16",
   "metadata": {},
   "source": [
    "Precision is especially critical in comparison operations. When comparing floating-point numbers, it is better to use a tolerance (e.g., 1e-9) to account for small errors in precision. While the loss of precision is often negligible, in certain scenarios, it can lead to significant errors. This is particularly important when floating-point numbers are used in flow control, where exact comparisons can cause unintended behavior. Being aware of the limitations of floating-point representation helps mitigate such issues.\n"
   ]
  },
  {
   "cell_type": "code",
   "execution_count": null,
   "id": "17",
   "metadata": {},
   "outputs": [],
   "source": [
    "import math\n",
    "\n",
    "# Avoiding direct comparisons of floats ⚠️\n",
    "if math.isclose(0.1 + 0.2, 0.301, rel_tol=1e-1):\n",
    "    print(\"🎉 Mario landed perfectly!\")\n",
    "else:\n",
    "    print(\"⚠️ Precision issue detected!\")"
   ]
  },
  {
   "cell_type": "markdown",
   "id": "18",
   "metadata": {},
   "source": [
    "## Understanding Dynamic Typing in Python 🐍\n",
    "\n",
    "Python is a dynamically typed language, which means:\n",
    "\n",
    "- Variables do not require an explicit type declaration.\n",
    "- Python infers the type of a variable based on the value assigned to it.\n"
   ]
  },
  {
   "cell_type": "code",
   "execution_count": null,
   "id": "19",
   "metadata": {},
   "outputs": [],
   "source": [
    "# Example: Type Inference with Mario Theme 🍄\n",
    "mario_lives = 3  # Python infers mario_lives as an integer\n",
    "mario_message = \"It's-a me, Mario!\"  # Python infers mario_message as a string\n",
    "mario_speed = 4.2  # Python infers mario_speed as a float\n",
    "\n",
    "print(f\"Mario's Lives: {mario_lives} (type: {type(mario_lives)})\")\n",
    "print(f\"Mario's Message: {mario_message} (type: {type(mario_message)})\")\n",
    "print(f\"Mario's Speed: {mario_speed} (type: {type(mario_speed)})\")"
   ]
  },
  {
   "cell_type": "code",
   "execution_count": null,
   "id": "20",
   "metadata": {},
   "outputs": [],
   "source": [
    "# Example: Type Flexibility with Mario 🍄\n",
    "# Variables can change their type during execution by assigning a new value of a different type.\n",
    "mario_coins = 10  # Mario initially has 10 coins (integer)\n",
    "mario_coins += 5.5  # Mario collects 5.5 more coins (float), converts to a float\n",
    "print(f\"Mario's Coins: {mario_coins} (type: {type(mario_coins)})\")"
   ]
  },
  {
   "cell_type": "markdown",
   "id": "21",
   "metadata": {},
   "source": [
    "## Dynamic Nature of Python\n",
    "\n",
    "- Python’s dynamic typing provides flexibility but requires caution.\n",
    "- Mismanaged types can lead to runtime errors or unexpected behavior.\n"
   ]
  },
  {
   "cell_type": "markdown",
   "id": "22",
   "metadata": {},
   "source": [
    "### Advantages of Dynamic Typing\n",
    "\n",
    "- Ease of Use: Less boilerplate code and more focus on logic.\n",
    "- Flexibility: Suitable for rapid prototyping and dynamic programming.\n"
   ]
  },
  {
   "cell_type": "markdown",
   "id": "23",
   "metadata": {},
   "source": [
    "### Disadvantages of Dynamic Typing\n",
    "\n",
    "- Runtime Errors: Type errors are only caught at runtime, not during compilation.\n",
    "- Potential Bugs: Mismanaged types can lead to unexpected behavior.\n"
   ]
  }
 ],
 "metadata": {
  "kernelspec": {
   "display_name": "engr131_dev",
   "language": "python",
   "name": "python3"
  },
  "language_info": {
   "codemirror_mode": {
    "name": "ipython",
    "version": 3
   },
   "file_extension": ".py",
   "mimetype": "text/x-python",
   "name": "python",
   "nbconvert_exporter": "python",
   "pygments_lexer": "ipython3",
   "version": "3.12.7"
  }
 },
 "nbformat": 4,
 "nbformat_minor": 5
}
