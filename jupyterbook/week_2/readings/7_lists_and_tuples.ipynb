{
 "cells": [
  {
   "cell_type": "markdown",
   "id": "0",
   "metadata": {},
   "source": [
    "# 📖 🎯 Lists and Tuples through a Bucket List Adventure!\n",
    "\n",
    "Get ready to learn how to organize your dreams in Python! 🚀\n",
    "\n",
    "![Bucket List Adventure](./assets/figures/bucket-list.webp)\n"
   ]
  },
  {
   "cell_type": "markdown",
   "id": "1",
   "metadata": {},
   "source": [
    "## Objectives:\n",
    "\n",
    "- Master the art of list-making in Python 📝\n",
    "- Discover the unbreakable nature of tuples 🔒\n",
    "- Compare lists and tuples to choose your perfect bucket list tool ⚖️\n",
    "- Build and manage your own digital bucket list 🌟\n",
    "\n",
    "```{admonition} Syntax\n",
    "Lists:\n",
    "- Created with square brackets `[]`\n",
    "- Perfect for your evolving dreams!\n",
    "```\n",
    "\n",
    "Example:\n"
   ]
  },
  {
   "cell_type": "code",
   "execution_count": null,
   "id": "2",
   "metadata": {},
   "outputs": [],
   "source": [
    "my_adventures = [\"climb Mt. Everest\", \"learn salsa\", 2024]"
   ]
  },
  {
   "cell_type": "markdown",
   "id": "3",
   "metadata": {},
   "source": [
    "```{admonition} Syntax\n",
    "Tuples:\n",
    "- Created with parentheses `()`\n",
    "- Great for your achieved dreams!\n",
    "```\n",
    "\n",
    "Example:\n"
   ]
  },
  {
   "cell_type": "code",
   "execution_count": null,
   "id": "4",
   "metadata": {},
   "outputs": [],
   "source": [
    "completed_adventures = (\"run marathon\", \"learn Python\", 2023)"
   ]
  },
  {
   "cell_type": "markdown",
   "id": "5",
   "metadata": {},
   "source": [
    "### 🔄 Lists vs Tuples: Choose Your Adventure Tool!\n",
    "\n",
    "List: Your dynamic dream journal - ordered, changeable, and allows duplicate dreams (because some dreams are worth doing twice!)\n",
    "\n",
    "\n",
    "```{admonition} Definition\n",
    "Tuple: Your achievement trophy case - ordered, unchangeable, and allows duplicate accomplishments (because some achievements deserve multiple mentions!)\n",
    "```\n"
   ]
  },
  {
   "cell_type": "markdown",
   "id": "6",
   "metadata": {},
   "source": [
    "## 📝 Lists: Your Dynamic Dream Planner\n",
    "\n",
    "Let's start with a bucket list that can grow and change, just like your dreams!\n"
   ]
  },
  {
   "cell_type": "code",
   "execution_count": null,
   "id": "7",
   "metadata": {},
   "outputs": [],
   "source": [
    "bucket_list = [\n",
    "    \"Scuba dive with dolphins 🐬\",\n",
    "    \"Make authentic Italian pizza 🍕\",\n",
    "    \"Learn to juggle fire 🔥\",\n",
    "]\n",
    "print(\"My Adventure Wishlist:\", bucket_list)"
   ]
  },
  {
   "cell_type": "markdown",
   "id": "8",
   "metadata": {},
   "source": [
    "### Adding More Dreams! ⭐\n"
   ]
  },
  {
   "cell_type": "code",
   "execution_count": null,
   "id": "9",
   "metadata": {},
   "outputs": [],
   "source": [
    "# Let's add more exciting adventures!\n",
    "bucket_list.append(\"Dance under the Northern Lights 🌠\")\n",
    "bucket_list.append(\"Plant a garden and grow my own food 🌱\")\n",
    "print(\"Updated Adventure List:\", bucket_list)"
   ]
  },
  {
   "cell_type": "markdown",
   "id": "10",
   "metadata": {},
   "source": [
    "## 🏆 Tuples: Your Hall of Fame\n",
    "\n",
    "For those amazing achievements you've already conquered:\n"
   ]
  },
  {
   "cell_type": "code",
   "execution_count": null,
   "id": "11",
   "metadata": {},
   "outputs": [],
   "source": [
    "completed_dreams = (\"Run a marathon 🏃‍♀️\", \"Learn to make sushi 🍱\", \"Adopt a pet 🐱\")\n",
    "print(\"My Conquered Adventures:\", completed_dreams)"
   ]
  },
  {
   "cell_type": "markdown",
   "id": "12",
   "metadata": {},
   "source": [
    "## Why Choose Lists or Tuples? 🤔\n",
    "\n",
    "Lists are like your dream journal:\n",
    "\n",
    "- ✏️ Can add new dreams anytime\n",
    "- 🔄 Can modify goals as they evolve\n",
    "- ❌ Can remove items that no longer spark joy\n",
    "\n",
    "Tuples are like your trophy case:\n",
    "\n",
    "- 🏆 Permanently celebrate achievements\n",
    "- 🔒 Keep memories safely stored\n",
    "- ⚡ Slightly faster performance (because memories shouldn't change!)\n",
    "\n",
    "```{admonition} What is Immutability?\n",
    "**Immutability** means that an object’s state cannot be modified after it is created. Tuples in Python are immutable, ensuring that once defined, their contents remain fixed. This makes them ideal for storing data that must remain constant, like keys in dictionaries or configuration settings.\n",
    "```\n"
   ]
  },
  {
   "cell_type": "markdown",
   "id": "13",
   "metadata": {},
   "source": [
    "### Let's Try Some Magic! ✨\n"
   ]
  },
  {
   "cell_type": "code",
   "execution_count": null,
   "id": "14",
   "metadata": {},
   "outputs": [],
   "source": [
    "# Lists are flexible - you can change your mind!\n",
    "bucket_list[0] = \"Scuba dive with whales 🐋\"  # Dreaming bigger!\n",
    "print(\"Modified Dream:\", bucket_list)\n",
    "\n",
    "# Tuples are forever - just like achievements!\n",
    "try:\n",
    "    completed_dreams[0] = \"Run two marathons\"\n",
    "except TypeError as e:\n",
    "    print(\"🔒 Achievement Locked:\", e)"
   ]
  },
  {
   "cell_type": "markdown",
   "id": "15",
   "metadata": {},
   "source": [
    "```{admonition} Pro Tip!\n",
    "When you see a try/except block, think of it as a safety net for your code!\n",
    "- try: \"Let me attempt this cool trick!\"\n",
    "- except: \"Oops, that didn't work - here's why!\"\n",
    "\n",
    "We will learn more about error handling and exceptions later in the course!\n",
    "```\n"
   ]
  },
  {
   "cell_type": "markdown",
   "id": "16",
   "metadata": {},
   "source": [
    "### Organizing Your Life Goals 📋\n"
   ]
  },
  {
   "cell_type": "code",
   "execution_count": null,
   "id": "17",
   "metadata": {},
   "outputs": [],
   "source": [
    "# Your achievement gallery\n",
    "completed_bucket_list = (\"Learn to code 💻\", \"Visit Grand Canyon 🏔️\")\n",
    "\n",
    "# Your future adventures\n",
    "pending_dreams = [\"Write a novel 📚\", \"Learn to surf 🏄‍♀️\", \"Start a YouTube channel 🎥\"]\n",
    "\n",
    "print(\"✅ Conquered Dreams:\", completed_bucket_list)\n",
    "print(\"🎯 Future Adventures:\", pending_dreams)"
   ]
  },
  {
   "cell_type": "markdown",
   "id": "18",
   "metadata": {},
   "source": [
    "### Conclusion: Your Adventure Awaits! 🌈\n",
    "\n",
    "Remember:\n",
    "\n",
    "- Use **lists** when your dreams are still evolving (like that travel wishlist that keeps growing!)\n",
    "- Use **tuples** to preserve your proudest moments (like running your first marathon!)\n",
    "\n",
    "Keep dreaming big and coding bigger! 🚀\n",
    "\n",
    "```{admonition} Final Thought\n",
    "Every great adventure begins with a single line of code... or a bucket list item! What will you add to yours? 🤔\n",
    "```\n"
   ]
  }
 ],
 "metadata": {
  "language_info": {
   "name": "python"
  }
 },
 "nbformat": 4,
 "nbformat_minor": 5
}
