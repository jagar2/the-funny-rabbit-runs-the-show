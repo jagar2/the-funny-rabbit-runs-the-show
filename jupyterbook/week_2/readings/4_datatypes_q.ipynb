{
 "cells": [
  {
   "cell_type": "code",
   "execution_count": null,
   "metadata": {
    "deletable": false,
    "editable": false,
    "tags": [
     "skip-execution"
    ]
   },
   "outputs": [],
   "source": [
    "# You must make sure to run all cells in sequence using shift + enter or you might encounter errors\n",
    "from pykubegrader.initialize import initialize_assignment\n",
    "\n",
    "responses = initialize_assignment(\"4_datatypes_q\", \"week_2\", \"readings\", assignment_points = 13.0, assignment_tag = 'week2-readings')\n",
    "\n",
    "# Initialize Otter\n",
    "import otter\n",
    "grader = otter.Notebook(\"4_datatypes_q.ipynb\")"
   ]
  },
  {
   "cell_type": "markdown",
   "metadata": {
    "deletable": false,
    "editable": false
   },
   "source": [
    "# ❓ Python Datatypes: The Periodic Table Edition 🧪\n",
    "\n",
    "<iframe class=\"pubchem-widget\" src=\"https://pubchem.ncbi.nlm.nih.gov/periodic-table/#view=table&embed=true\" style=\"width: 100%; height: 1000px;\"></iframe>\n",
    "\n"
   ]
  },
  {
   "cell_type": "code",
   "execution_count": null,
   "metadata": {
    "tags": [
     "skip-execution"
    ]
   },
   "outputs": [],
   "source": [
    "# Run this block of code by pressing Shift + Enter to display the question\n",
    "from questions._4_datatypes_q import Question1\n",
    "Question1().show()\n"
   ]
  },
  {
   "cell_type": "code",
   "execution_count": null,
   "metadata": {
    "tags": [
     "skip-execution"
    ]
   },
   "outputs": [],
   "source": [
    "# Run this block of code by pressing Shift + Enter to display the question\n",
    "from questions._4_datatypes_q import Question2\n",
    "Question2().show()\n"
   ]
  },
  {
   "cell_type": "code",
   "execution_count": null,
   "metadata": {
    "tags": [
     "skip-execution"
    ]
   },
   "outputs": [],
   "source": [
    "# Run this block of code by pressing Shift + Enter to display the question\n",
    "from questions._4_datatypes_q import Question3\n",
    "Question3().show()\n"
   ]
  },
  {
   "cell_type": "markdown",
   "metadata": {
    "deletable": false,
    "editable": false
   },
   "source": [
    "## Chemical Element Data Structure 🔬\n",
    "\n",
    "### Instructions:\n",
    "\n",
    "Create a Python program that organizes information about chemical elements efficiently using appropriate data types. Your solution should:\n",
    "\n",
    "1. Create a dictionary for the element Sodium (Na) with the following properties:\n",
    "\n",
    "   - `symbol`: String \"Na\"\n",
    "   - `atomic_number`: Integer 11\n",
    "   - `atomic_mass`: Float 22.990\n",
    "   - `electron_config`: String \"1s2 2s2 2p6 3s1\"\n",
    "   - `period`: Integer 3\n",
    "   - `group`: Integer 1\n",
    "   - `properties`: List containing strings [\"alkali metal\", \"reactive\", \"soft\"]\n",
    "\n",
    "2. Create a dictionary called `electron_shells` that stores the electron configuration by shell:\n",
    "   - Shell K: Tuple (1, \"1s2\")\n",
    "   - Shell L: Tuple (2, \"2s2 2p6\")\n",
    "   - Shell M: Tuple (3, \"3s1\")\n",
    "\n",
    "   The keys for the dictionary should be the shell names (e.g., \"K\", \"L\", \"M\").\n",
    "\n",
    "Note: You do not need to write the exponentiation for the electron configuration (e.g., \"2s2\" instead of \"2s²\").\n"
   ]
  },
  {
   "cell_type": "code",
   "execution_count": null,
   "metadata": {
    "tags": [
     "skip-execution"
    ]
   },
   "outputs": [],
   "source": [
    "def create_sodium_data():\n",
    "    # Define the element dictionary\n",
    "    sodium = ...\n",
    "\n",
    "    # Define the electron shells dictionary\n",
    "    electron_shells = ...\n",
    "\n",
    "    return sodium, electron_shells\n",
    "\n",
    "# We have provided this code for you\n",
    "# Please do not modify the following code beyond this line\n",
    "# Get the data structures\n",
    "sodium, electron_shells = create_sodium_data()\n",
    "\n",
    "# Print the structures to verify\n",
    "print(\"Sodium Element Data:\")\n",
    "for key, value in sodium.items():\n",
    "    print(f\"{key}: {value}\")\n",
    "\n",
    "print(\"\\nElectron Shell Configuration:\")\n",
    "for shell, config in electron_shells.items():\n",
    "    print(f\"Shell {shell}: Level {config[0]} - Configuration {config[1]}\")"
   ]
  },
  {
   "cell_type": "code",
   "execution_count": null,
   "metadata": {
    "deletable": false,
    "editable": false,
    "tags": [
     "skip-execution"
    ]
   },
   "outputs": [],
   "source": [
    "grader.check(\"question-Element-Structure\")"
   ]
  },
  {
   "cell_type": "markdown",
   "id": "8",
   "metadata": {},
   "source": [
    "## Submitting Assignment\n",
    "\n",
    "Please run the following block of code using `shift + enter` to submit your assignment, you should see your score."
   ]
  },
  {
   "cell_type": "code",
   "execution_count": null,
   "id": "9",
   "metadata": {
    "deletable": false,
    "editable": false,
    "tags": [
     "skip-execution"
    ]
   },
   "outputs": [],
   "source": [
    "from pykubegrader.submit.submit_assignment import submit_assignment\n",
    "\n",
    "submit_assignment(\"week2-readings\", \"4_datatypes_q\")"
   ]
  }
 ],
 "metadata": {
  "kernelspec": {
   "display_name": "engr131_dev",
   "language": "python",
   "name": "python3"
  },
  "language_info": {
   "codemirror_mode": {
    "name": "ipython",
    "version": 3
   },
   "file_extension": ".py",
   "mimetype": "text/x-python",
   "name": "python",
   "nbconvert_exporter": "python",
   "pygments_lexer": "ipython3",
   "version": "3.12.7"
  },
  "otter": {
   "OK_FORMAT": true,
   "tests": {
    "question-Element-Structure": {
     "name": "question-Element-Structure",
     "points": null,
     "suites": [
      {
       "cases": [
        {
         "code": ">>> from pykubegrader.telemetry import ensure_responses, log_variable, score_question, submit_question, telemetry, update_responses\n>>> import os\n>>> max_question_points = str(5.0)\n>>> earned_points = 0\n>>> os.environ['EARNED_POINTS'] = str(earned_points)\n>>> os.environ['TOTAL_POINTS_FREE_RESPONSE'] = str(5.0)\n>>> log_variable('total-points', f'Reading-Week-X, 4_datatypes_q', 5.0)\n>>> question_id = 'question-Element-Structure-1'\n>>> max_score = 0.5\n>>> score = 0\n>>> sodium, _ = create_sodium_data()\n>>> assert isinstance(sodium, dict), 'Sodium dictionary not created correctly.'\n>>> if isinstance(sodium, dict):\n...     score = 0.5\n>>> earned_points = float(os.environ.get('EARNED_POINTS', 0))\n>>> earned_points += score\n>>> log_variable('4_datatypes_q', f'{score}, {max_score}', question_id)\n>>> os.environ['EARNED_POINTS'] = str(earned_points)\n",
         "failure_message": "Sodium dictionary is incorrectly created.",
         "hidden": false,
         "locked": false,
         "points": 0.5,
         "success_message": "Sodium dictionary is correctly created."
        },
        {
         "code": ">>> from pykubegrader.telemetry import ensure_responses, log_variable, score_question, submit_question, telemetry, update_responses\n>>> import os\n>>> question_id = 'question-Element-Structure-2'\n>>> max_score = 0.5\n>>> score = 0\n>>> assert sodium['symbol'] == 'Na', 'Incorrect symbol'\n>>> if sodium['symbol'] == 'Na':\n...     score = 0.5\n>>> earned_points = float(os.environ.get('EARNED_POINTS', 0))\n>>> earned_points += score\n>>> log_variable('4_datatypes_q', f'{score}, {max_score}', question_id)\n>>> os.environ['EARNED_POINTS'] = str(earned_points)\n",
         "failure_message": "Symbol is incorrect.",
         "hidden": false,
         "locked": false,
         "points": 0.5,
         "success_message": "Symbol is correct."
        },
        {
         "code": ">>> from pykubegrader.telemetry import ensure_responses, log_variable, score_question, submit_question, telemetry, update_responses\n>>> import os\n>>> question_id = 'question-Element-Structure-3'\n>>> max_score = 0.5\n>>> score = 0\n>>> assert sodium['atomic_number'] == 11, 'Incorrect atomic number'\n>>> if sodium['atomic_number'] == 11:\n...     score = 0.5\n>>> earned_points = float(os.environ.get('EARNED_POINTS', 0))\n>>> earned_points += score\n>>> log_variable('4_datatypes_q', f'{score}, {max_score}', question_id)\n>>> os.environ['EARNED_POINTS'] = str(earned_points)\n",
         "failure_message": "Atomic number is incorrect.",
         "hidden": false,
         "locked": false,
         "points": 0.5,
         "success_message": "Atomic number is correct."
        },
        {
         "code": ">>> from pykubegrader.telemetry import ensure_responses, log_variable, score_question, submit_question, telemetry, update_responses\n>>> import os\n>>> question_id = 'question-Element-Structure-4'\n>>> max_score = 0.5\n>>> score = 0\n>>> assert abs(sodium['atomic_mass'] - 22.99) < 0.001, 'Incorrect atomic mass'\n>>> if abs(sodium['atomic_mass'] - 22.99) < 0.001:\n...     score = 0.5\n>>> earned_points = float(os.environ.get('EARNED_POINTS', 0))\n>>> earned_points += score\n>>> log_variable('4_datatypes_q', f'{score}, {max_score}', question_id)\n>>> os.environ['EARNED_POINTS'] = str(earned_points)\n",
         "failure_message": "Atomic mass is incorrect.",
         "hidden": false,
         "locked": false,
         "points": 0.5,
         "success_message": "Atomic mass is correct."
        },
        {
         "code": ">>> from pykubegrader.telemetry import ensure_responses, log_variable, score_question, submit_question, telemetry, update_responses\n>>> import os\n>>> question_id = 'question-Element-Structure-5'\n>>> max_score = 0.5\n>>> score = 0\n>>> assert sodium['electron_config'] == '1s2 2s2 2p6 3s1', 'Incorrect electron configuration'\n>>> if sodium['electron_config'] == '1s2 2s2 2p6 3s1':\n...     score = 0.5\n>>> earned_points = float(os.environ.get('EARNED_POINTS', 0))\n>>> earned_points += score\n>>> log_variable('4_datatypes_q', f'{score}, {max_score}', question_id)\n>>> os.environ['EARNED_POINTS'] = str(earned_points)\n",
         "failure_message": "Electron configuration is incorrect.",
         "hidden": false,
         "locked": false,
         "points": 0.5,
         "success_message": "Electron configuration is correct."
        },
        {
         "code": ">>> from pykubegrader.telemetry import ensure_responses, log_variable, score_question, submit_question, telemetry, update_responses\n>>> import os\n>>> question_id = 'question-Element-Structure-6'\n>>> max_score = 0.5\n>>> score = 0\n>>> assert sodium['period'] == 3, 'Incorrect period'\n>>> if sodium['period'] == 3:\n...     score = 0.5\n>>> earned_points = float(os.environ.get('EARNED_POINTS', 0))\n>>> earned_points += score\n>>> log_variable('4_datatypes_q', f'{score}, {max_score}', question_id)\n>>> os.environ['EARNED_POINTS'] = str(earned_points)\n",
         "failure_message": "Period is incorrect.",
         "hidden": false,
         "locked": false,
         "points": 0.5,
         "success_message": "Period is correct."
        },
        {
         "code": ">>> from pykubegrader.telemetry import ensure_responses, log_variable, score_question, submit_question, telemetry, update_responses\n>>> import os\n>>> question_id = 'question-Element-Structure-7'\n>>> max_score = 0.5\n>>> score = 0\n>>> assert sodium['group'] == 1, 'Incorrect group'\n>>> if sodium['group'] == 1:\n...     score = 0.5\n>>> earned_points = float(os.environ.get('EARNED_POINTS', 0))\n>>> earned_points += score\n>>> log_variable('4_datatypes_q', f'{score}, {max_score}', question_id)\n>>> os.environ['EARNED_POINTS'] = str(earned_points)\n",
         "failure_message": "Group is incorrect.",
         "hidden": false,
         "locked": false,
         "points": 0.5,
         "success_message": "Group is correct."
        },
        {
         "code": ">>> from pykubegrader.telemetry import ensure_responses, log_variable, score_question, submit_question, telemetry, update_responses\n>>> import os\n>>> question_id = 'question-Element-Structure-8'\n>>> max_score = 0.5\n>>> score = 0\n>>> description = set(['alkali metal', 'reactive', 'soft'])\n>>> assert set(sodium['properties']) == description, 'Incorrect properties'\n>>> if set(sodium['properties']) == description:\n...     score = 0.5\n>>> earned_points = float(os.environ.get('EARNED_POINTS', 0))\n>>> earned_points += score\n>>> log_variable('4_datatypes_q', f'{score}, {max_score}', question_id)\n>>> os.environ['EARNED_POINTS'] = str(earned_points)\n",
         "failure_message": "Properties are incorrect.",
         "hidden": false,
         "locked": false,
         "points": 0.5,
         "success_message": "Properties are correct."
        },
        {
         "code": ">>> from pykubegrader.telemetry import ensure_responses, log_variable, score_question, submit_question, telemetry, update_responses\n>>> import os\n>>> question_id = 'question-Element-Structure-9'\n>>> max_score = 1.0\n>>> score = 0\n>>> _, electron_shells = create_sodium_data()\n>>> k_out = (1, '1s2')\n>>> l_out = (2, '2s2 2p6')\n>>> m_out = (3, '3s1')\n>>> assert electron_shells['K'] == k_out, 'Incorrect K shell configuration'\n>>> assert electron_shells['L'] == l_out, 'Incorrect L shell configuration'\n>>> assert electron_shells['M'] == m_out, 'Incorrect M shell configuration'\n>>> if electron_shells['K'] == k_out and electron_shells['L'] == l_out and (electron_shells['M'] == m_out):\n...     score = 1.0\n>>> earned_points = float(os.environ.get('EARNED_POINTS', 0))\n>>> earned_points += score\n>>> log_variable('4_datatypes_q', f'{score}, {max_score}', question_id)\n>>> os.environ['EARNED_POINTS'] = str(earned_points)\n",
         "failure_message": "The electron_shells dictionary is missing shells or has incorrect configurations.",
         "hidden": false,
         "locked": false,
         "points": 1,
         "success_message": "Correctly created the electron_shells dictionary with all required shell configurations."
        }
       ],
       "scored": true,
       "setup": "",
       "teardown": "",
       "type": "doctest"
      }
     ]
    }
   }
  }
 },
 "nbformat": 4,
 "nbformat_minor": 4
}
