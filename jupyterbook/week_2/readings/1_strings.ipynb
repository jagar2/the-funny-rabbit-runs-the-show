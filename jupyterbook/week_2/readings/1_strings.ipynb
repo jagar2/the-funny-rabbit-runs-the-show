{
 "cells": [
  {
   "cell_type": "markdown",
   "metadata": {
    "slideshow": {
     "slide_type": "fragment"
    }
   },
   "source": [
    "# 📖 The One with Python Strings 🎉\n",
    "\n",
    "## 🎵 _I'll Be There for You!_ 🎵\n",
    "\n",
    "> \"So no one told you life was gonna be this way...\" 👏 👏 👏 👏 👏 👏  \n",
    "> But with strings, you'll always have a friend in Python!\n",
    "\n",
    "![Friends Theme](https://upload.wikimedia.org/wikipedia/commons/b/bc/Friends_logo.svg)"
   ]
  },
  {
   "cell_type": "markdown",
   "metadata": {},
   "source": [
    "## 📺 What Are Strings?\n",
    "\n",
    "Strings are sequences of characters—Python's way of storing text. They're as essential to coding as Joey's sandwiches 🍔 or Monica's cleaning obsession 🧽.\n"
   ]
  },
  {
   "cell_type": "code",
   "execution_count": null,
   "metadata": {},
   "outputs": [],
   "source": [
    "quote = \"We were on a break!\"\n",
    "episode = \"The One Where Ross Learns Strings\""
   ]
  },
  {
   "cell_type": "markdown",
   "metadata": {},
   "source": [
    "### Strings in Python:\n",
    "\n",
    "- Use single (`'`) or double (`\"`) quotes. Python is flexible like Ross pivoting a couch 🛋.\n",
    "- Represent text data, such as names, phrases, or emojis! 🌟\n"
   ]
  },
  {
   "cell_type": "markdown",
   "metadata": {},
   "source": [
    "## 🛋 Multiline Strings\n",
    "\n",
    "For long blocks of text like Phoebe's songs or Ross's dinosaur facts, use triple quotes (`'''` or `\"\"\"`).\n"
   ]
  },
  {
   "cell_type": "code",
   "execution_count": null,
   "metadata": {},
   "outputs": [],
   "source": [
    "phoebe_song = \"\"\"Smelly Cat, Smelly Cat,\n",
    "What are they feeding you?\n",
    "Smelly Cat, Smelly Cat,\n",
    "It's not your fault.\"\"\"\n",
    "print(phoebe_song)"
   ]
  },
  {
   "cell_type": "markdown",
   "metadata": {},
   "source": [
    "## 🛠 String Operations: Manipulating Like Chandler's Sarcasm\n",
    "\n",
    "### Concatenation\n",
    "\n",
    "Combine strings using the `+` operator, like Chandler combining sarcasm and wit.\n"
   ]
  },
  {
   "cell_type": "code",
   "execution_count": null,
   "metadata": {},
   "outputs": [],
   "source": [
    "chandler = \"Could I \" + \"BE \" + \"any more excited?\"\n",
    "print(chandler)"
   ]
  },
  {
   "cell_type": "markdown",
   "metadata": {},
   "source": [
    "### 🔁 Repetition\n",
    "\n",
    "Repeat strings with the `*` operator, just like Joey repeating, \"How you doin'?\"\n"
   ]
  },
  {
   "cell_type": "code",
   "execution_count": null,
   "metadata": {},
   "outputs": [],
   "source": [
    "joey = \"Pizza! \" * 3\n",
    "print(joey)  # Pizza! Pizza! Pizza!"
   ]
  },
  {
   "cell_type": "markdown",
   "metadata": {},
   "source": [
    "### 🔢 Length\n",
    "\n",
    "Count characters in a string using `len()`.\n"
   ]
  },
  {
   "cell_type": "code",
   "execution_count": null,
   "metadata": {},
   "outputs": [],
   "source": [
    "rachel = \"Fashion Icon\"\n",
    "print(len(rachel))  # 12"
   ]
  },
  {
   "cell_type": "markdown",
   "metadata": {},
   "source": [
    "## 🔍 Indexing and Slicing\n",
    "\n",
    "Strings are like Rachel's wardrobe—well-organized and accessible.\n",
    "\n",
    "![](./assets/figures/rachel_wardrobe.jpg)\n",
    "\n",
    "### 🏷 Indexing\n",
    "\n",
    "Access specific characters by position.\n",
    "\n",
    "- Python uses zero-based indexing, so the first character is at index `0`.\n",
    "- The first index is inclusive, and the last index is exclusive. Meaning `s[2:5]` includes characters at indices `2`, `3`, and `4`, but not `5`.\n"
   ]
  },
  {
   "cell_type": "code",
   "execution_count": null,
   "metadata": {},
   "outputs": [],
   "source": [
    "monica = \"Organized\"\n",
    "print(monica[0])  # O\n",
    "print(monica[-1])  # d"
   ]
  },
  {
   "cell_type": "markdown",
   "metadata": {},
   "source": [
    "> **Negative indexing** starts from the end of the string.\n"
   ]
  },
  {
   "cell_type": "markdown",
   "metadata": {},
   "source": [
    "### ✂️ Slicing\n",
    "\n",
    "Extract subsets of strings, like picking the best parts of Ross's lectures.\n"
   ]
  },
  {
   "cell_type": "code",
   "execution_count": null,
   "metadata": {},
   "outputs": [],
   "source": [
    "ross = \"Dinosaurs are cool\"\n",
    "print(ross[0:9])  # Dinosaurs\n",
    "print(ross[-4:])  # cool"
   ]
  },
  {
   "cell_type": "markdown",
   "metadata": {},
   "source": [
    "## 🎭 String Methods: Superpowers for Strings\n",
    "\n",
    "Python strings come with many methods—think of them as Phoebe's quirky talents 🎸.\n"
   ]
  },
  {
   "cell_type": "markdown",
   "metadata": {},
   "source": [
    "### 🔡 Change Case\n",
    "\n",
    "Manipulate the case of strings:\n"
   ]
  },
  {
   "cell_type": "code",
   "execution_count": null,
   "metadata": {},
   "outputs": [],
   "source": [
    "ross = \"Dinosaurs are cool\"\n",
    "print(ross.upper())  # DINOSAURS ARE COOL\n",
    "print(ross.lower())  # dinosaurs are cool\n",
    "print(ross.capitalize())  # Dinosaurs are cool\n",
    "print(ross.title())  # Dinosaurs Are Cool"
   ]
  },
  {
   "cell_type": "markdown",
   "metadata": {},
   "source": [
    "- **`.upper()`**: Converts all characters to uppercase.\n",
    "- **`.lower()`**: Converts all characters to lowercase.\n",
    "- **`.capitalize()`**: Capitalizes the first letter of the string.\n",
    "- **`.title()`**: Capitalizes the first letter of each word.\n"
   ]
  },
  {
   "cell_type": "markdown",
   "metadata": {},
   "source": [
    "### 🔍 Search and Find\n",
    "\n",
    "Locate specific text within strings:\n"
   ]
  },
  {
   "cell_type": "code",
   "execution_count": null,
   "metadata": {},
   "outputs": [],
   "source": [
    "chandler = \"Could I BE any more sarcastic?\"\n",
    "print(chandler.find(\"BE\"))  # 8\n",
    "print(chandler.index(\"sarcastic\"))  # 21"
   ]
  },
  {
   "cell_type": "markdown",
   "metadata": {},
   "source": [
    "- **`.find()`**: Returns the index of the first occurrence of the substring or `-1` if not found.\n",
    "- **`.index()`**: Same as `.find()`, but raises an error if the substring isn't found.\n"
   ]
  },
  {
   "cell_type": "markdown",
   "metadata": {},
   "source": [
    "### 🔧 Replace Text\n",
    "\n",
    "Replace parts of a string, like swapping Joey's sandwiches for pizza.\n"
   ]
  },
  {
   "cell_type": "code",
   "execution_count": null,
   "metadata": {},
   "outputs": [],
   "source": [
    "joey = \"I love sandwiches.\"\n",
    "print(joey.replace(\"sandwiches\", \"pizza\"))  # I love pizza."
   ]
  },
  {
   "cell_type": "markdown",
   "metadata": {},
   "source": [
    "### ✅ Check String Contents\n",
    "\n",
    "Check if a string contains specific types of characters:\n"
   ]
  },
  {
   "cell_type": "code",
   "execution_count": null,
   "metadata": {},
   "outputs": [],
   "source": [
    "rachel = \"123Fashion\"\n",
    "print(rachel.isalpha())  # False (contains digits)\n",
    "print(rachel.isdigit())  # False (contains letters)\n",
    "print(rachel.isalnum())  # True (letters and digits only)\n",
    "print(\"   \".isspace())  # True (only spaces)"
   ]
  },
  {
   "cell_type": "markdown",
   "metadata": {},
   "source": [
    "### 🧹 Stripping Whitespace\n",
    "\n",
    "Remove extra spaces, like Monica cleaning crumbs off the counter.\n"
   ]
  },
  {
   "cell_type": "code",
   "execution_count": null,
   "metadata": {},
   "outputs": [],
   "source": [
    "messy = \"   Clean me up!   \"\n",
    "print(messy.strip())  # Removes leading and trailing spaces\n",
    "print(messy.lstrip())  # Removes leading spaces\n",
    "print(messy.rstrip())  # Removes trailing spaces"
   ]
  },
  {
   "cell_type": "markdown",
   "metadata": {},
   "source": [
    "### ✂️ Split and Join\n",
    "\n",
    "Break strings into lists or combine lists into strings.\n"
   ]
  },
  {
   "cell_type": "code",
   "execution_count": null,
   "metadata": {},
   "outputs": [],
   "source": [
    "ross_quote = \"Dinosaurs, Paleontology, Fossils\"\n",
    "print(ross_quote.split(\", \"))  # ['Dinosaurs', 'Paleontology', 'Fossils']\n",
    "\n",
    "friends = [\"Rachel\", \"Ross\", \"Joey\", \"Chandler\"]\n",
    "print(\", \".join(friends))  # Rachel, Ross, Joey, Chandler'"
   ]
  },
  {
   "cell_type": "markdown",
   "metadata": {},
   "source": [
    "## 🌟 Advanced Formatting\n",
    "\n",
    "### f-Strings\n",
    "\n",
    "Format strings dynamically with `f-strings`.\n",
    "\n",
    "F-strings in Python are a concise way to embed expressions inside string literals, using the syntax `f\"...\"`. An f-string allows you to directly evaluate expressions within the string, improving readability and reducing the need for string concatenation or manual formatting.\n"
   ]
  },
  {
   "cell_type": "markdown",
   "metadata": {},
   "source": [
    "````{admonition} Syntax\n",
    "```python\n",
    "variable = 10\n",
    "f\"Value is {variable}\"\n",
    "````\n",
    "\n",
    "```\n",
    "This will evaluate `variable` and output: `\"Value is 10\"`.\n",
    "```\n"
   ]
  },
  {
   "cell_type": "markdown",
   "metadata": {},
   "source": [
    "#### Key Points:\n",
    "\n",
    "1. **Prefix with `f`**: The string starts with an `f` (or `F`) before the opening quote.\n",
    "2. **Curly braces `{}`**: Expressions inside curly braces are evaluated at runtime, and their result is inserted into the string.\n",
    "3. **Any expression**: You can include variables, arithmetic, function calls, and more inside the curly braces.\n"
   ]
  },
  {
   "cell_type": "code",
   "execution_count": null,
   "metadata": {},
   "outputs": [],
   "source": [
    "name = \"Joey\"\n",
    "food = \"pizza\"\n",
    "print(f\"{name} loves {food}.\")"
   ]
  },
  {
   "cell_type": "markdown",
   "metadata": {},
   "source": [
    "### 🧠 Formatting Numbers\n",
    "\n",
    "Format numbers neatly, like Monica tallying up her perfect cooking scores.\n",
    "\n",
    "### Using F-strings\n",
    "\n",
    "F-strings allow you to format numbers with a wide variety of options, such as specifying the number of decimal places, alignment, width, and more.\n",
    "\n",
    "```{admonition} Syntax\n",
    ":class: note\n",
    "\n",
    "Here’s how you format numbers in Python:\n",
    "\n",
    "```python\n",
    "number = 1234.5678\n",
    "f\"{number:.2f}\"  # Formats the number to two decimal places\n",
    "```\n",
    "\n",
    "Output:\n",
    "\n",
    "```text\n",
    "\"1234.57\"\n",
    "```\n",
    "\n",
    "#### Key Formatting Options:\n",
    "\n",
    "- **Precision**: `:.2f` formats the number to 2 decimal places.\n",
    "- **Width**: `{number:10.2f}` formats the number with a width of 10 characters, padded with spaces.\n",
    "- **Commas**: `{number:,.2f}` formats the number with commas separating thousands.\n",
    "\n",
    "### Using `str.format()` Method\n",
    "\n",
    "You can also format numbers using the `str.format()` method, which provides similar functionality to f-strings but requires extra syntax.\n",
    "\n",
    "````{admonition} Syntax\n",
    "```python\n",
    "number = 1234.5678\n",
    "\"{:.2f}\".format(number)\n",
    "````\n",
    "\n",
    "This outputs:\n",
    "\n",
    "```\n",
    "\"1234.57\"\n",
    "```\n",
    "\n",
    "\n",
    "### Using `format()` Function\n",
    "\n",
    "The `format()` function is another way to format numbers, allowing for similar formatting options.\n",
    "\n",
    "````{admonition} Syntax\n",
    "```python\n",
    "number = 1234567.89\n",
    "format(number, \",.2f\")  # Formats number with commas and two decimal places\n",
    "````\n",
    "\n",
    "This outputs:\n",
    "\n",
    "```\n",
    "\"1,234,567.89\"\n",
    "```\n"
   ]
  },
  {
   "cell_type": "code",
   "execution_count": null,
   "metadata": {},
   "outputs": [],
   "source": [
    "score = 95.6789\n",
    "print(f\"Score: {score:.2f}\")  # Score: 95.68"
   ]
  },
  {
   "cell_type": "markdown",
   "metadata": {},
   "source": [
    "## 🎉 Real-World Applications\n",
    "\n",
    "- **Data Cleaning**: Tidy up messy data like Monica organizes her apartment 🧼.\n",
    "- **Web Scraping**: Extract data for Rachel's fashion blog 👜.\n",
    "- **Text Analytics**: Analyze Ross’s long emails for paleontology buzzwords 🦕.\n"
   ]
  },
  {
   "cell_type": "markdown",
   "metadata": {},
   "source": [
    "And don’t forget, strings in Python are as dynamic as the _Friends_ crew:\n",
    "\n",
    "- **Combine** like Joey and sandwiches: `\"Pizza\" + \" is life!\"`\n",
    "- **Extract** like Ross in a museum: `ross[:10]` gives you `\"Dinosaurs\"`\n",
    "- **Shout** like Monica cleaning: `monica.upper()`\n",
    "- **Transform** like Rachel’s hairstyles: `quote.replace(\"break\", \"coding adventure\")`\n",
    "\n",
    "Python strings will always _BE_ there for you! 🎉\n"
   ]
  }
 ],
 "metadata": {
  "kernelspec": {
   "display_name": "engr131_dev",
   "language": "python",
   "name": "python3"
  },
  "language_info": {
   "codemirror_mode": {
    "name": "ipython",
    "version": 3
   },
   "file_extension": ".py",
   "mimetype": "text/x-python",
   "name": "python",
   "nbconvert_exporter": "python",
   "pygments_lexer": "ipython3",
   "version": "3.12.7"
  }
 },
 "nbformat": 4,
 "nbformat_minor": 2
}
