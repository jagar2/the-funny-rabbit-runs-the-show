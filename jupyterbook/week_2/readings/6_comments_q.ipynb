{
 "cells": [
  {
   "cell_type": "code",
   "execution_count": null,
   "metadata": {
    "deletable": false,
    "editable": false,
    "tags": [
     "skip-execution"
    ]
   },
   "outputs": [],
   "source": [
    "# You must make sure to run all cells in sequence using shift + enter or you might encounter errors\n",
    "from pykubegrader.initialize import initialize_assignment\n",
    "\n",
    "responses = initialize_assignment(\"6_comments_q\", \"week_2\", \"readings\", assignment_points = 12.0, assignment_tag = 'week2-readings')\n",
    "\n",
    "# Initialize Otter\n",
    "import otter\n",
    "grader = otter.Notebook(\"6_comments_q.ipynb\")"
   ]
  },
  {
   "cell_type": "markdown",
   "metadata": {
    "deletable": false,
    "editable": false
   },
   "source": [
    "# ❓ Commenting\n",
    "\n",
    "![](./assets/figures/simon.jpg)"
   ]
  },
  {
   "cell_type": "code",
   "execution_count": null,
   "metadata": {
    "tags": [
     "skip-execution"
    ]
   },
   "outputs": [],
   "source": [
    "# Run this block of code by pressing Shift + Enter to display the question\n",
    "from questions._6_comments_q import Question1\n",
    "Question1().show()\n"
   ]
  },
  {
   "cell_type": "code",
   "execution_count": null,
   "metadata": {
    "tags": [
     "skip-execution"
    ]
   },
   "outputs": [],
   "source": [
    "# Run this block of code by pressing Shift + Enter to display the question\n",
    "from questions._6_comments_q import Question2\n",
    "Question2().show()\n"
   ]
  },
  {
   "cell_type": "code",
   "execution_count": null,
   "metadata": {
    "tags": [
     "skip-execution"
    ]
   },
   "outputs": [],
   "source": [
    "# Run this block of code by pressing Shift + Enter to display the question\n",
    "from questions._6_comments_q import Question3\n",
    "Question3().show()\n"
   ]
  },
  {
   "cell_type": "markdown",
   "metadata": {
    "deletable": false,
    "editable": false
   },
   "source": [
    "## Commenting Simon Says\n",
    "\n",
    "We have provided you with a function that: \n",
    "1. Takes a single argument command, which is a string.\n",
    "2. Executes one of four predefined actions based on the value of the command string:\n",
    "    - If the command is \"jump\", return \"Simon says: Jump high!\".\n",
    "    - If the command is \"run\", return \"Simon says: Run fast!\".\n",
    "    - If the command is \"stop\", return \"Simon says: Stop immediately!\".\n",
    "    - If the command is \"dance\", return \"Simon says: Show your moves!\".\n",
    "    - If the command is anything else, return \"Simon didn't say that!\".\n",
    "\n",
    "### Instructions:\n",
    "\n",
    "Include comments within the function to describe each action explicitly. The comments should be structured like this:\n",
    "\n",
    "```python\n",
    "if command == \"walk\":\n",
    "        # If the command is \"walk\", Simon says to walk slow.\n",
    "        return \"Simon says: Walk slow!\"\n",
    "```\n",
    "\n"
   ]
  },
  {
   "cell_type": "code",
   "execution_count": null,
   "metadata": {
    "tags": [
     "skip-execution"
    ]
   },
   "outputs": [],
   "source": [
    "def simon_says_actions(command):\n",
    "\n",
    "    # Check the command and respond accordingly\n",
    "    if command == \"jump\":\n",
    "        ...\n",
    "        return \"Simon says: Jump high!\"\n",
    "    elif command == \"run\":\n",
    "        ...\n",
    "        return \"Simon says: Run fast!\"\n",
    "    elif command == \"stop\":\n",
    "        ...\n",
    "        return \"Simon says: Stop immediately!\"\n",
    "    elif command == \"dance\":\n",
    "        ...\n",
    "        return \"Simon says: Show your moves!\"\n",
    "    else:\n",
    "        # If the command is unrecognized, Simon didn't say that.\n",
    "        return \"Simon didn't say that!\"\n",
    "    \n",
    "print(simon_says_actions(\"jump\")) # Should return \"Simon says"
   ]
  },
  {
   "cell_type": "code",
   "execution_count": null,
   "metadata": {
    "deletable": false,
    "editable": false,
    "tags": [
     "skip-execution"
    ]
   },
   "outputs": [],
   "source": [
    "grader.check(\"question-Simon-Says\")"
   ]
  },
  {
   "cell_type": "markdown",
   "id": "8",
   "metadata": {},
   "source": [
    "## Submitting Assignment\n",
    "\n",
    "Please run the following block of code using `shift + enter` to submit your assignment, you should see your score."
   ]
  },
  {
   "cell_type": "code",
   "execution_count": null,
   "id": "9",
   "metadata": {
    "deletable": false,
    "editable": false,
    "tags": [
     "skip-execution"
    ]
   },
   "outputs": [],
   "source": [
    "from pykubegrader.submit.submit_assignment import submit_assignment\n",
    "\n",
    "submit_assignment(\"week2-readings\", \"6_comments_q\")"
   ]
  }
 ],
 "metadata": {
  "kernelspec": {
   "display_name": "engr131_dev",
   "language": "python",
   "name": "python3"
  },
  "language_info": {
   "codemirror_mode": {
    "name": "ipython",
    "version": 3
   },
   "file_extension": ".py",
   "mimetype": "text/x-python",
   "name": "python",
   "nbconvert_exporter": "python",
   "pygments_lexer": "ipython3",
   "version": "3.12.7"
  },
  "otter": {
   "OK_FORMAT": true,
   "tests": {
    "question-Simon-Says": {
     "name": "question-Simon-Says",
     "points": null,
     "suites": [
      {
       "cases": [
        {
         "code": ">>> from pykubegrader.telemetry import ensure_responses, log_variable, score_question, submit_question, telemetry, update_responses\n>>> import os\n>>> import re\n>>> import inspect\n>>> max_question_points = str(4.0)\n>>> earned_points = 0\n>>> os.environ['EARNED_POINTS'] = str(earned_points)\n>>> os.environ['TOTAL_POINTS_FREE_RESPONSE'] = str(4.0)\n>>> log_variable('total-points', f'Reading-Week-X, 6_comments_q', 4.0)\n>>> question_id = 'question-Simon-Says-1'\n>>> max_score = 1.0\n>>> score = 0\n>>> def test_jump_comment():\n...     source_code = inspect.getsource(simon_says_actions)\n...     assert re.search('#.*jump.*simon.*jump.*high', source_code, re.IGNORECASE), \"The 'jump' action comment is missing or does not describe the action properly.\"\n...     return source_code\n>>> source_code = test_jump_comment()\n>>> if re.search('#.*jump.*simon.*jump.*high', source_code, re.IGNORECASE):\n...     score = 1.0\n>>> earned_points = float(os.environ.get('EARNED_POINTS', 0))\n>>> earned_points += score\n>>> log_variable('6_comments_q', f'{score}, {max_score}', question_id)\n>>> os.environ['EARNED_POINTS'] = str(earned_points)\n",
         "failure_message": "The 'jump' action comment is missing or incorrect.",
         "hidden": false,
         "locked": false,
         "points": 1,
         "success_message": "Correctly commented the 'jump' action."
        },
        {
         "code": ">>> from pykubegrader.telemetry import ensure_responses, log_variable, score_question, submit_question, telemetry, update_responses\n>>> import os\n>>> import re\n>>> import inspect\n>>> question_id = 'question-Simon-Says-2'\n>>> max_score = 1.0\n>>> score = 0\n>>> def test_run_comment():\n...     source_code = inspect.getsource(simon_says_actions)\n...     assert re.search('#.*run.*simon.*run.*fast', source_code, re.IGNORECASE), \"The 'run' action comment is missing or does not describe the action properly.\"\n...     return source_code\n>>> source_code = test_run_comment()\n>>> if re.search('#.*run.*simon.*run.*fast', source_code, re.IGNORECASE):\n...     score = 1.0\n>>> earned_points = float(os.environ.get('EARNED_POINTS', 0))\n>>> earned_points += score\n>>> log_variable('6_comments_q', f'{score}, {max_score}', question_id)\n>>> os.environ['EARNED_POINTS'] = str(earned_points)\n",
         "failure_message": "The 'run' action comment is missing or incorrect.",
         "hidden": false,
         "locked": false,
         "points": 1,
         "success_message": "Correctly commented the 'run' action."
        },
        {
         "code": ">>> from pykubegrader.telemetry import ensure_responses, log_variable, score_question, submit_question, telemetry, update_responses\n>>> import os\n>>> import re\n>>> import inspect\n>>> question_id = 'question-Simon-Says-3'\n>>> max_score = 1.0\n>>> score = 0\n>>> def test_stop_comment():\n...     source_code = inspect.getsource(simon_says_actions)\n...     assert re.search('#.*stop.*simon.*stop.*immediately', source_code, re.IGNORECASE), \"The 'stop' action comment is missing or does not describe the action properly.\"\n...     return source_code\n>>> source_code = test_stop_comment()\n>>> if re.search('#.*stop.*simon.*stop.*immediately', source_code, re.IGNORECASE):\n...     score = 1.0\n>>> earned_points = float(os.environ.get('EARNED_POINTS', 0))\n>>> earned_points += score\n>>> log_variable('6_comments_q', f'{score}, {max_score}', question_id)\n>>> os.environ['EARNED_POINTS'] = str(earned_points)\n",
         "failure_message": "The 'stop' action comment is missing or incorrect.",
         "hidden": false,
         "locked": false,
         "points": 1,
         "success_message": "Correctly commented the 'stop' action."
        },
        {
         "code": ">>> from pykubegrader.telemetry import ensure_responses, log_variable, score_question, submit_question, telemetry, update_responses\n>>> import os\n>>> import re\n>>> import inspect\n>>> question_id = 'question-Simon-Says-4'\n>>> max_score = 1.0\n>>> score = 0\n>>> def test_dance_comment():\n...     source_code = inspect.getsource(simon_says_actions)\n...     assert re.search('#.*dance.*simon.*show.*moves', source_code, re.IGNORECASE), \"The 'dance' action comment is missing or does not describe the action properly.\"\n...     return source_code\n>>> source_code = test_dance_comment()\n>>> if re.search('#.*dance.*simon.*show.*moves', source_code, re.IGNORECASE):\n...     score = 1.0\n>>> earned_points = float(os.environ.get('EARNED_POINTS', 0))\n>>> earned_points += score\n>>> log_variable('6_comments_q', f'{score}, {max_score}', question_id)\n>>> os.environ['EARNED_POINTS'] = str(earned_points)\n",
         "failure_message": "The 'dance' action comment is missing or incorrect.",
         "hidden": false,
         "locked": false,
         "points": 1,
         "success_message": "Correctly commented the 'dance' action."
        }
       ],
       "scored": true,
       "setup": "",
       "teardown": "",
       "type": "doctest"
      }
     ]
    }
   }
  }
 },
 "nbformat": 4,
 "nbformat_minor": 2
}
