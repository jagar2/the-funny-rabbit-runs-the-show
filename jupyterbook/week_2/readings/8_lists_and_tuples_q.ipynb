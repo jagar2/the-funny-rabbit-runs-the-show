{
 "cells": [
  {
   "cell_type": "code",
   "execution_count": null,
   "metadata": {
    "deletable": false,
    "editable": false,
    "tags": [
     "skip-execution"
    ]
   },
   "outputs": [],
   "source": [
    "# You must make sure to run all cells in sequence using shift + enter or you might encounter errors\n",
    "from pykubegrader.initialize import initialize_assignment\n",
    "\n",
    "responses = initialize_assignment(\"8_lists_and_tuples_q\", \"week_2\", \"readings\", assignment_points = 11.0, assignment_tag = 'week2-readings')\n",
    "\n",
    "# Initialize Otter\n",
    "import otter\n",
    "grader = otter.Notebook(\"8_lists_and_tuples_q.ipynb\")"
   ]
  },
  {
   "cell_type": "markdown",
   "metadata": {
    "deletable": false,
    "editable": false
   },
   "source": [
    "# ❓ 🔬  Materials Design: Lists and Tuples\n",
    "\n",
    "![](./assets/figures/nature-automated.jpg)\n",
    "\n",
    "{cite:p}`Unknown2023-me`\n"
   ]
  },
  {
   "cell_type": "code",
   "execution_count": null,
   "metadata": {
    "tags": [
     "skip-execution"
    ]
   },
   "outputs": [],
   "source": [
    "# Run this block of code by pressing Shift + Enter to display the question\n",
    "from questions._8_lists_and_tuples_q import Question1\n",
    "Question1().show()\n"
   ]
  },
  {
   "cell_type": "code",
   "execution_count": null,
   "metadata": {
    "tags": [
     "skip-execution"
    ]
   },
   "outputs": [],
   "source": [
    "# Run this block of code by pressing Shift + Enter to display the question\n",
    "from questions._8_lists_and_tuples_q import Question2\n",
    "Question2().show()\n"
   ]
  },
  {
   "cell_type": "code",
   "execution_count": null,
   "metadata": {
    "tags": [
     "skip-execution"
    ]
   },
   "outputs": [],
   "source": [
    "# Run this block of code by pressing Shift + Enter to display the question\n",
    "from questions._8_lists_and_tuples_q import Question3\n",
    "Question3().show()\n"
   ]
  },
  {
   "cell_type": "markdown",
   "metadata": {
    "deletable": false,
    "editable": false
   },
   "source": [
    "## Materials Processing Sequence 🏭\n",
    "\n",
    "### Instructions:\n",
    "\n",
    "1. Create the following variables:\n",
    "\n",
    "   - `element_properties`: A tuple storing properties of titanium (\"Ti\", 22, 47.87)\n",
    "   - `processing_steps`: A list storing heat treatment steps [\"Solution Treatment\", \"Quenching\", \"Aging\"]\n",
    "   - `temperatures`: A list of processing temperatures [955, 25, 540]\n",
    "   - `times`: A list of processing times in hours [1.0, 0.1, 24.0]\n",
    "   - `total_time`: Use sum() to calculate total processing time\n",
    "   - `max_temp`: Use max() to find the highest temperature\n",
    "   - `num_steps`: Calculate the number of processing steps using len()\n",
    "   - `process_complete`: A boolean indicating if all steps are completed (True)\n",
    "\n",
    "2. Print a descriptive message that incorporates all the above variables, formatted like this:\n",
    "\n",
    "   ```\n",
    "   Processing Ti (Atomic number: 22, Mass: 47.87) using 3 steps:\n",
    "   Solution Treatment at 955°C for 1.0 hours\n",
    "   Quenching at 25°C for 0.1 hours\n",
    "   Aging at 540°C for 24.0 hours\n",
    "   Total processing time: 25.1 hours\n",
    "   Maximum temperature: 955°C\n",
    "   Process completion status: True\n",
    "   ```\n"
   ]
  },
  {
   "cell_type": "code",
   "execution_count": null,
   "metadata": {
    "tags": [
     "skip-execution"
    ]
   },
   "outputs": [],
   "source": [
    "def materials_processing():\n",
    "    # Define the variables\n",
    "    element_properties = ...\n",
    "    processing_steps = ...\n",
    "    temperatures = ...\n",
    "    times = ...\n",
    "    total_time = ...\n",
    "    max_temp = ...\n",
    "    num_steps = ...\n",
    "    process_complete = ...\n",
    "\n",
    "    return (\n",
    "        element_properties,\n",
    "        processing_steps,\n",
    "        temperatures,\n",
    "        times,\n",
    "        total_time,\n",
    "        max_temp,\n",
    "        num_steps,\n",
    "        process_complete,\n",
    "    )\n",
    "\n",
    "# This code is provided for you to test the function to ensure it is correct\n",
    "# please do not modify the provided code\n",
    "# Get all variables\n",
    "(\n",
    "    element_properties,\n",
    "    processing_steps,\n",
    "    temperatures,\n",
    "    times,\n",
    "    total_time,\n",
    "    max_temp,\n",
    "    num_steps,\n",
    "    process_complete,\n",
    ") = materials_processing()\n",
    "\n",
    "# Print the descriptive message\n",
    "print(f\"Processing {element_properties[0]} (Atomic number: {element_properties[1]}, Mass: {element_properties[2]}) using {num_steps} steps:\")\n",
    "for step, temp, time in zip(processing_steps, temperatures, times):\n",
    "    print(f\"{step} at {temp}°C for {time} hours\")\n",
    "print(f\"Total processing time: {total_time} hours\")\n",
    "print(f\"Maximum temperature: {max_temp}°C\")\n",
    "print(f\"Process completion status: {process_complete}\")\n"
   ]
  },
  {
   "cell_type": "code",
   "execution_count": null,
   "metadata": {
    "deletable": false,
    "editable": false,
    "tags": [
     "skip-execution"
    ]
   },
   "outputs": [],
   "source": [
    "grader.check(\"question-Materials-Processing-Sequence\")"
   ]
  },
  {
   "cell_type": "markdown",
   "metadata": {
    "deletable": false,
    "editable": false,
    "vscode": {
     "languageId": "ruby"
    }
   },
   "source": [
    "## References\n",
    "\n",
    "```{bibliography}"
   ]
  },
  {
   "cell_type": "markdown",
   "id": "9",
   "metadata": {},
   "source": [
    "## Submitting Assignment\n",
    "\n",
    "Please run the following block of code using `shift + enter` to submit your assignment, you should see your score."
   ]
  },
  {
   "cell_type": "code",
   "execution_count": null,
   "id": "10",
   "metadata": {
    "deletable": false,
    "editable": false,
    "tags": [
     "skip-execution"
    ]
   },
   "outputs": [],
   "source": [
    "from pykubegrader.submit.submit_assignment import submit_assignment\n",
    "\n",
    "submit_assignment(\"week2-readings\", \"8_lists_and_tuples_q\")"
   ]
  }
 ],
 "metadata": {
  "kernelspec": {
   "display_name": "engr131_dev",
   "language": "python",
   "name": "python3"
  },
  "language_info": {
   "codemirror_mode": {
    "name": "ipython",
    "version": 3
   },
   "file_extension": ".py",
   "mimetype": "text/x-python",
   "name": "python",
   "nbconvert_exporter": "python",
   "pygments_lexer": "ipython3",
   "version": "3.12.7"
  },
  "otter": {
   "OK_FORMAT": true,
   "tests": {
    "question-Materials-Processing-Sequence": {
     "name": "question-Materials-Processing-Sequence",
     "points": null,
     "suites": [
      {
       "cases": [
        {
         "code": ">>> from pykubegrader.telemetry import ensure_responses, log_variable, score_question, submit_question, telemetry, update_responses\n>>> import os\n>>> max_question_points = str(4.0)\n>>> earned_points = 0\n>>> os.environ['EARNED_POINTS'] = str(earned_points)\n>>> os.environ['TOTAL_POINTS_FREE_RESPONSE'] = str(4.0)\n>>> log_variable('total-points', f'Reading-Week-X, 8_lists_and_tuples_q', 4.0)\n>>> question_id = 'question-Materials-Processing-Sequence-1'\n>>> max_score = 1.0\n>>> score = 0\n>>> element_properties, *_ = materials_processing()\n>>> assert element_properties == ('Ti', 22, 47.87), 'Variable element_properties is incorrect.'\n>>> if element_properties == ('Ti', 22, 47.87):\n...     score = 1.0\n>>> earned_points = float(os.environ.get('EARNED_POINTS', 0))\n>>> earned_points += score\n>>> log_variable('8_lists_and_tuples_q', f'{score}, {max_score}', question_id)\n>>> os.environ['EARNED_POINTS'] = str(earned_points)\n",
         "failure_message": "The element_properties tuple is incorrect.",
         "hidden": false,
         "locked": false,
         "points": 1,
         "success_message": "Correctly created the element_properties tuple."
        },
        {
         "code": ">>> from pykubegrader.telemetry import ensure_responses, log_variable, score_question, submit_question, telemetry, update_responses\n>>> import os\n>>> question_id = 'question-Materials-Processing-Sequence-2'\n>>> max_score = 1.0\n>>> score = 0\n>>> _, _, _, times, total_time, *_ = materials_processing()\n>>> assert total_time == sum(times), 'Variable total_time is incorrect.'\n>>> if total_time == sum(times):\n...     score = 1.0\n>>> earned_points = float(os.environ.get('EARNED_POINTS', 0))\n>>> earned_points += score\n>>> log_variable('8_lists_and_tuples_q', f'{score}, {max_score}', question_id)\n>>> os.environ['EARNED_POINTS'] = str(earned_points)\n",
         "failure_message": "The total_time calculation is incorrect.",
         "hidden": false,
         "locked": false,
         "points": 1,
         "success_message": "Correctly calculated the total processing time."
        },
        {
         "code": ">>> from pykubegrader.telemetry import ensure_responses, log_variable, score_question, submit_question, telemetry, update_responses\n>>> import os\n>>> question_id = 'question-Materials-Processing-Sequence-3'\n>>> max_score = 1.0\n>>> score = 0\n>>> _, _, temperatures, _, _, max_temp, *_ = materials_processing()\n>>> assert max_temp == max(temperatures), 'Variable max_temp is incorrect.'\n>>> if max_temp == max(temperatures):\n...     score = 1.0\n>>> earned_points = float(os.environ.get('EARNED_POINTS', 0))\n>>> earned_points += score\n>>> log_variable('8_lists_and_tuples_q', f'{score}, {max_score}', question_id)\n>>> os.environ['EARNED_POINTS'] = str(earned_points)\n",
         "failure_message": "The max_temp calculation is incorrect.",
         "hidden": false,
         "locked": false,
         "points": 1,
         "success_message": "Correctly determined the maximum temperature."
        },
        {
         "code": ">>> from pykubegrader.telemetry import ensure_responses, log_variable, score_question, submit_question, telemetry, update_responses\n>>> import os\n>>> question_id = 'question-Materials-Processing-Sequence-4'\n>>> max_score = 1.0\n>>> score = 0\n>>> _, processing_steps, _, _, _, _, num_steps, _ = materials_processing()\n>>> assert num_steps == len(processing_steps), 'Variable num_steps is incorrect.'\n>>> if num_steps == len(processing_steps):\n...     score = 1.0\n>>> earned_points = float(os.environ.get('EARNED_POINTS', 0))\n>>> earned_points += score\n>>> log_variable('8_lists_and_tuples_q', f'{score}, {max_score}', question_id)\n>>> os.environ['EARNED_POINTS'] = str(earned_points)\n",
         "failure_message": "The num_steps calculation is incorrect.",
         "hidden": false,
         "locked": false,
         "points": 1,
         "success_message": "Correctly counted the number of processing steps."
        }
       ],
       "scored": true,
       "setup": "",
       "teardown": "",
       "type": "doctest"
      }
     ]
    }
   }
  }
 },
 "nbformat": 4,
 "nbformat_minor": 2
}
