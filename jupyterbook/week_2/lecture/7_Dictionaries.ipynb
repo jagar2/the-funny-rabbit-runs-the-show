{
 "cells": [
  {
   "cell_type": "markdown",
   "id": "0",
   "metadata": {},
   "source": [
    "# 📝 🏗️ Python Dictionaries\n",
    "\n",
    "![Python Dictionaries](./assets/figures/python-dictionaries.webp)\n"
   ]
  },
  {
   "cell_type": "markdown",
   "id": "1",
   "metadata": {},
   "source": [
    "## 📖 What Are Dictionaries?\n",
    "\n",
    "**Definition**: A dictionary in Python is a collection of key-value pairs, defined using curly braces `{}`. Keys are unique, and each key maps to a specific value.\n",
    "\n",
    "**Applications in Civil Engineering**:\n",
    "\n",
    "- Storing material properties (e.g., density, strength)\n",
    "- Managing site data (e.g., location, project status)\n",
    "- Organizing project information (e.g., budgets, timelines)\n"
   ]
  },
  {
   "cell_type": "markdown",
   "id": "2",
   "metadata": {},
   "source": [
    "## 🧱 Example: Material Properties\n",
    "\n",
    "Let's create a dictionary to store properties of concrete:\n"
   ]
  },
  {
   "cell_type": "code",
   "execution_count": null,
   "id": "3",
   "metadata": {},
   "outputs": [],
   "source": [
    "# Material properties for concrete\n",
    "concrete_properties = {\n",
    "    \"density\": 2400,  # in kg/m³\n",
    "    \"compressive_strength\": 30,  # in MPa\n",
    "    \"tensile_strength\": 3.5,  # in MPa\n",
    "}\n",
    "print(concrete_properties)"
   ]
  },
  {
   "cell_type": "markdown",
   "id": "4",
   "metadata": {},
   "source": [
    "## ⚙️ Key Features of Dictionaries\n",
    "\n",
    "1. **Key-Value Pairs**: Organize data for easy access.\n",
    "2. **Dynamic**: Add, modify, or remove key-value pairs as needed.\n",
    "3. **Efficient**: Quick lookups based on keys.\n",
    "\n",
    "### Example: Accessing and Modifying Data\n"
   ]
  },
  {
   "cell_type": "code",
   "execution_count": null,
   "id": "5",
   "metadata": {},
   "outputs": [],
   "source": [
    "# Accessing a value\n",
    "strength = concrete_properties[\"compressive_strength\"]\n",
    "print(f\"Compressive Strength: {strength} MPa\")\n",
    "\n",
    "# Adding a new property\n",
    "concrete_properties[\"modulus_of_elasticity\"] = 25  # in GPa\n",
    "print(concrete_properties)"
   ]
  },
  {
   "cell_type": "markdown",
   "id": "6",
   "metadata": {},
   "source": [
    "## 🔄 Dictionary Operations\n",
    "\n",
    "Common operations for managing dictionaries:\n",
    "\n",
    "- **Adding/Updating**: `dictionary[key] = value`\n",
    "- **Removing**: `del dictionary[key]`\n",
    "- **Keys and Values**: Use `.keys()` and `.values()` to access them.\n",
    "\n",
    "### Example:\n"
   ]
  },
  {
   "cell_type": "code",
   "execution_count": null,
   "id": "7",
   "metadata": {},
   "outputs": [],
   "source": [
    "# Removing a property\n",
    "del concrete_properties[\"tensile_strength\"]\n",
    "print(concrete_properties)\n",
    "\n",
    "# Listing all keys\n",
    "print(concrete_properties.keys())"
   ]
  },
  {
   "cell_type": "markdown",
   "id": "8",
   "metadata": {},
   "source": [
    "## 🏗️ Real-World Application\n",
    "\n",
    "Store project data for a construction site:\n"
   ]
  },
  {
   "cell_type": "code",
   "execution_count": null,
   "id": "9",
   "metadata": {},
   "outputs": [],
   "source": [
    "# Project data\n",
    "project_data = {\n",
    "    \"site_name\": \"Downtown Tower\",\n",
    "    \"location\": \"City Center\",\n",
    "    \"budget\": 5000000,  # in USD\n",
    "    \"status\": \"In Progress\",\n",
    "}\n",
    "print(project_data)"
   ]
  },
  {
   "cell_type": "markdown",
   "id": "10",
   "metadata": {},
   "source": [
    "### Example Use Cases:\n",
    "\n",
    "- Update the status as the project progresses.\n",
    "- Calculate remaining budget by adding new costs.\n"
   ]
  },
  {
   "cell_type": "markdown",
   "id": "11",
   "metadata": {},
   "source": [
    "## 🔧 Common Dictionary Methods\n",
    "\n",
    "Here are a few important methods for working with dictionaries:\n",
    "\n",
    "### `.keys()`\n",
    "\n",
    "Returns all the keys in the dictionary.\n"
   ]
  },
  {
   "cell_type": "code",
   "execution_count": null,
   "id": "12",
   "metadata": {},
   "outputs": [],
   "source": [
    "concrete_properties = {\"density\": 2400, \"compressive_strength\": 30}\n",
    "print(\n",
    "    concrete_properties.keys()\n",
    ")  # Output: dict_keys(['density', 'compressive_strength'])"
   ]
  },
  {
   "cell_type": "markdown",
   "id": "13",
   "metadata": {},
   "source": [
    "### `.get()`\n",
    "\n",
    "Retrieves the value for a specified key, returning a default value if the key is not found.\n"
   ]
  },
  {
   "cell_type": "code",
   "execution_count": null,
   "id": "14",
   "metadata": {},
   "outputs": [],
   "source": [
    "# Retrieve value with default fallback\n",
    "modulus = concrete_properties.get(\"modulus_of_elasticity\", \"Not Specified\")\n",
    "print(modulus)  # Output: Not Specified"
   ]
  },
  {
   "cell_type": "markdown",
   "id": "15",
   "metadata": {},
   "source": [
    "## ⚠️ Limitations of Dictionary Keys\n",
    "\n",
    "### Keys Must Be Immutable\n",
    "\n",
    "Dictionary keys must be immutable types like strings, numbers, or tuples. Mutable types like lists cannot be used.\n"
   ]
  },
  {
   "cell_type": "code",
   "execution_count": null,
   "id": "16",
   "metadata": {},
   "outputs": [],
   "source": [
    "# This will raise an error\n",
    "# invalid_dict = {[\"key\"]: \"value\"}  # TypeError"
   ]
  },
  {
   "cell_type": "markdown",
   "id": "17",
   "metadata": {},
   "source": [
    "### Keys Must Be Unique\n",
    "\n",
    "If a key is repeated, the latest value overwrites the previous one.\n"
   ]
  },
  {
   "cell_type": "code",
   "execution_count": null,
   "id": "18",
   "metadata": {},
   "outputs": [],
   "source": [
    "# Example of overwriting\n",
    "example = {\"a\": 1, \"a\": 2}\n",
    "print(example)  # Output: {'a': 2}"
   ]
  }
 ],
 "metadata": {
  "language_info": {
   "name": "python"
  }
 },
 "nbformat": 4,
 "nbformat_minor": 5
}
