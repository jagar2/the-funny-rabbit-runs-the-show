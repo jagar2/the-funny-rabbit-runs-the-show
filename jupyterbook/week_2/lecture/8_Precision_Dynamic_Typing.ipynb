{
 "cells": [
  {
   "cell_type": "markdown",
   "id": "0",
   "metadata": {},
   "source": [
    "# 📝 🔬 Precision in Python: Integers and Floating-Point Numbers\n",
    "\n",
    "![](./assets/figures/precision.webp)\n"
   ]
  },
  {
   "cell_type": "markdown",
   "id": "1",
   "metadata": {},
   "source": [
    "## 📖 Historical Context: Floating-Point Numbers and the IEEE Standard\n",
    "\n",
    "**Why does precision matter?**  \n",
    "The limitations of floating-point precision have led to real-world catastrophes. One famous example is the **Patriot Missile failure** during the Gulf War in 1991. A calculation error caused by floating-point precision led to the missile defense system's failure to intercept an incoming missile, resulting in the loss of lives. Understanding these concepts is critical in engineering and science to avoid similar disasters.\n",
    "\n",
    "<iframe width=\"560\" height=\"315\" src=\"https://www.youtube.com/embed/_Dbd3z8t9qc?si=MiizirJQdyPLUUxy\" title=\"YouTube video player\" frameborder=\"0\" allow=\"accelerometer; autoplay; clipboard-write; encrypted-media; gyroscope; picture-in-picture; web-share\" referrerpolicy=\"strict-origin-when-cross-origin\" allowfullscreen></iframe>\n",
    "\n",
    "The IEEE 754 standard, established in 1985, defined how floating-point numbers are represented and manipulated in computers. It remains the cornerstone of numerical computing today.\n"
   ]
  },
  {
   "cell_type": "markdown",
   "id": "2",
   "metadata": {},
   "source": [
    "## 🌀 Dynamic Typing in Python\n",
    "\n",
    "Python is a **dynamically typed language**, which means that you do not need to declare the type of a variable when creating it. The type is determined at runtime based on the value assigned to the variable.\n",
    "\n",
    "### Features of Dynamic Typing:\n",
    "\n",
    "1. **Flexibility**: A variable can hold values of different types during its lifetime.\n",
    "2. **Ease of Use**: No need to specify types explicitly.\n",
    "3. **Potential Pitfalls**: Type-related errors may occur at runtime rather than at compile time.\n",
    "\n",
    "### Example:\n"
   ]
  },
  {
   "cell_type": "code",
   "execution_count": null,
   "id": "3",
   "metadata": {},
   "outputs": [],
   "source": [
    "# Dynamic typing in Python\n",
    "x = 10  # Initially an integer\n",
    "print(f\"x is of type: {type(x)}\")\n",
    "\n",
    "x = 10.5  # Now a float\n",
    "print(f\"x is of type: {type(x)}\")\n",
    "\n",
    "x = \"Dynamic Typing\"  # Now a string\n",
    "print(f\"x is of type: {type(x)}\")"
   ]
  },
  {
   "cell_type": "markdown",
   "id": "4",
   "metadata": {},
   "source": [
    "## 🔢 Integers in Python\n",
    "\n",
    "**Definition:**  \n",
    "An integer is a whole number (positive, negative, or zero) without any fractional component. Python can handle arbitrarily large integers, limited only by the memory available.\n",
    "\n",
    "### Features:\n",
    "\n",
    "1. **Exact Representation**: Integers are stored without precision errors.\n",
    "2. **Arithmetic Operations**: Addition, subtraction, multiplication, and division.\n",
    "\n",
    "### Example:\n"
   ]
  },
  {
   "cell_type": "code",
   "execution_count": null,
   "id": "5",
   "metadata": {},
   "outputs": [],
   "source": [
    "# Defining integers\n",
    "length = 25  # in meters\n",
    "width = 15  # in meters\n",
    "\n",
    "# Calculating area\n",
    "area = length * width\n",
    "print(f\"Area of the rectangle: {area} square meters\")"
   ]
  },
  {
   "cell_type": "markdown",
   "id": "6",
   "metadata": {},
   "source": [
    "## 🌊 Floating-Point Numbers in Python\n",
    "\n",
    "**Definition:**  \n",
    "A floating-point number represents a real number that can include a fractional component, stored in the format:\n",
    "\n",
    "$$\n",
    "\\text{sign} \\times \\text{mantissa} \\times 2^{\\text{exponent}}\n",
    "$$\n",
    "\n",
    "### Precision and Limitations:\n",
    "\n",
    "1. **Precision Errors**: Floating-point numbers cannot represent some values exactly, like $\\frac{1}{3}$ or 0.1.\n",
    "2. **Range**: They can represent extremely large or small numbers but are limited by precision.\n"
   ]
  },
  {
   "cell_type": "markdown",
   "id": "7",
   "metadata": {},
   "source": [
    "## 🧪 Example: Floating-Point Errors\n"
   ]
  },
  {
   "cell_type": "code",
   "execution_count": null,
   "id": "8",
   "metadata": {},
   "outputs": [],
   "source": [
    "# Floating-point precision issue\n",
    "a = 0.1 + 0.2\n",
    "print(a)  # Expected: 0.3, but Output: 0.30000000000000004\n",
    "\n",
    "# Correcting precision with round()\n",
    "a_corrected = round(a, 2)\n",
    "print(a_corrected)  # Output: 0.3"
   ]
  },
  {
   "cell_type": "markdown",
   "id": "9",
   "metadata": {},
   "source": [
    "## 🔧 Key Differences Between Integers and Floating-Point Numbers\n",
    "\n",
    "1. **Exactness**: Integers are exact, while floating-point numbers are approximations.\n",
    "2. **Memory Usage**: Floating-point numbers typically use more memory (32 or 64 bits).\n",
    "3. **Use Case**: Use integers for counts or exact quantities, and floating-point numbers for continuous values like temperature or distance.\n"
   ]
  },
  {
   "cell_type": "markdown",
   "id": "10",
   "metadata": {},
   "source": [
    "## 🏗️ Real-World Application in Engineering\n",
    "\n",
    "In civil engineering, floating-point precision matters in tasks like:\n",
    "\n",
    "1. Calculating material stresses and strains.\n",
    "2. Simulating fluid dynamics for hydraulic engineering.\n",
    "3. Designing precision instruments.\n",
    "\n",
    "### Example: Beam Deflection Calculation\n"
   ]
  },
  {
   "cell_type": "code",
   "execution_count": null,
   "id": "11",
   "metadata": {},
   "outputs": [],
   "source": [
    "# Beam deflection calculation using floating-point numbers\n",
    "E = 200e9  # Modulus of Elasticity in Pascals (Pa)\n",
    "I = 0.0001  # Moment of Inertia in m^4\n",
    "L = 5.0  # Length of the beam in meters\n",
    "F = 10000  # Force in Newtons\n",
    "\n",
    "# Calculate maximum deflection (δ = FL^3 / (48EI))\n",
    "deflection = (F * L**3) / (48 * E * I)\n",
    "print(f\"Maximum deflection: {deflection:.6f} meters\")"
   ]
  },
  {
   "cell_type": "markdown",
   "id": "12",
   "metadata": {},
   "source": [
    "## 🔍 Understanding the IEEE 754 Standard\n",
    "\n",
    "1. **Single Precision** (32-bit): Up to 7 significant digits.\n",
    "2. **Double Precision** (64-bit): Up to 15–16 significant digits.\n"
   ]
  },
  {
   "cell_type": "markdown",
   "id": "13",
   "metadata": {},
   "source": [
    "## 🔄 Mitigating Floating-Point Errors\n",
    "\n",
    "1. **Rounding**: Use the `round()` function to manage precision explicitly.\n",
    "2. **Decimal Module**: For financial or scientific calculations, use Python’s `decimal` module for higher precision.\n",
    "3. **Testing for Equality**: Avoid testing floating-point numbers directly for equality; use a tolerance range.\n",
    "\n",
    "### Example showing Floating-Point Errors\n"
   ]
  },
  {
   "cell_type": "code",
   "execution_count": null,
   "id": "14",
   "metadata": {},
   "outputs": [],
   "source": [
    "1 % 0.01"
   ]
  },
  {
   "cell_type": "markdown",
   "id": "15",
   "metadata": {},
   "source": [
    "That is not correct? The modulus of 1 by 0.1 should be 0, right? it fits 10 times in 1 exactly. But due to floating-point errors, the result is not exactly 0.\n"
   ]
  },
  {
   "cell_type": "markdown",
   "id": "16",
   "metadata": {},
   "source": [
    "### Example: Using Decimal for Precision\n"
   ]
  },
  {
   "cell_type": "code",
   "execution_count": null,
   "id": "17",
   "metadata": {},
   "outputs": [],
   "source": [
    "from decimal import Decimal\n",
    "\n",
    "# High-precision arithmetic\n",
    "a = Decimal(\"1\") % Decimal(\"0.1\")\n",
    "print(a)"
   ]
  },
  {
   "cell_type": "markdown",
   "id": "18",
   "metadata": {},
   "source": [
    "## ⚠️ Limitations and Best Practices\n",
    "\n",
    "1. **Avoid Chaining Operations**: Multiple operations can compound precision errors.\n",
    "2. **Understand Context**: Use integers where precision is critical and floating-point numbers when dealing with approximations.\n"
   ]
  },
  {
   "cell_type": "markdown",
   "id": "19",
   "metadata": {},
   "source": [
    "## 📜 Reflection on Scientific History\n",
    "\n",
    "The invention of floating-point arithmetic in the mid-20th century was pivotal for the development of early computers like the **IBM 704**, which supported floating-point hardware. Engineers at the time had to manually manage precision, making the IEEE 754 standard revolutionary.\n",
    "\n",
    "![IBM 704](./assets/figures/IBM_704.jpg)\n",
    "\n",
    "By NASA - <a rel=\"nofollow\" class=\"external text\" href=\"https://dayton.hq.nasa.gov/IMAGES/LARGE/GPN-2000-001881.jpg\">Great Images in NASA</a> <a rel=\"nofollow\" class=\"external text\" href=\"https://grin.hq.nasa.gov/ABSTRACTS/GPN-2000-001881.html\">Description</a>, Public Domain, <a href=\"https://commons.wikimedia.org/w/index.php?curid=6455009\">Link</a>\n"
   ]
  },
  {
   "cell_type": "markdown",
   "id": "20",
   "metadata": {},
   "source": []
  }
 ],
 "metadata": {
  "kernelspec": {
   "display_name": "engr131_dev",
   "language": "python",
   "name": "python3"
  },
  "language_info": {
   "codemirror_mode": {
    "name": "ipython",
    "version": 3
   },
   "file_extension": ".py",
   "mimetype": "text/x-python",
   "name": "python",
   "nbconvert_exporter": "python",
   "pygments_lexer": "ipython3",
   "version": "3.12.7"
  }
 },
 "nbformat": 4,
 "nbformat_minor": 5
}
