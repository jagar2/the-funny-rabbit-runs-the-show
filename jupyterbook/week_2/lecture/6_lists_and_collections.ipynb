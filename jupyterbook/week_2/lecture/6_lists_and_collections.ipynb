{
 "cells": [
  {
   "cell_type": "markdown",
   "id": "0",
   "metadata": {
    "slideshow": {
     "slide_type": "slide"
    }
   },
   "source": [
    "# 📝 🔬 Python Lists\n",
    "\n",
    "![](./assets/figures/chemical-engineering-week2.webp)\n"
   ]
  },
  {
   "cell_type": "markdown",
   "id": "1",
   "metadata": {
    "slideshow": {
     "slide_type": "slide"
    }
   },
   "source": [
    "## 🧪 Lists in Python\n",
    "\n",
    "**Definition**: Lists are ordered collections of items, defined using square brackets `[]`. They can store:\n",
    "\n",
    "- Reaction parameters (e.g., temperature, pressure)\n",
    "- Concentrations of species in a reactor\n",
    "- Equipment states in a process\n",
    "\n",
    "**Example**:\n"
   ]
  },
  {
   "cell_type": "code",
   "execution_count": null,
   "id": "2",
   "metadata": {},
   "outputs": [],
   "source": [
    "# List of reactor temperatures in Celsius\n",
    "temperatures = [350, 400, 450, 500]\n",
    "print(temperatures)"
   ]
  },
  {
   "cell_type": "markdown",
   "id": "3",
   "metadata": {
    "slideshow": {
     "slide_type": "slide"
    }
   },
   "source": [
    "## 📋 Key Features of Lists\n",
    "\n",
    "1. **Ordered**: Items retain the sequence in which they are added.\n",
    "2. **Mutable**: You can change, add, or remove items.\n"
   ]
  },
  {
   "cell_type": "markdown",
   "id": "4",
   "metadata": {
    "slideshow": {
     "slide_type": "subslide"
    }
   },
   "source": [
    "### Example: Modifying a List\n"
   ]
  },
  {
   "cell_type": "code",
   "execution_count": null,
   "id": "5",
   "metadata": {},
   "outputs": [],
   "source": [
    "# Adding a new temperature\n",
    "temperatures.append(550)\n",
    "print(temperatures)"
   ]
  },
  {
   "cell_type": "markdown",
   "id": "6",
   "metadata": {
    "slideshow": {
     "slide_type": "slide"
    }
   },
   "source": [
    "## ⚗️ Tuples in Python\n",
    "\n",
    "**Definition**: Tuples are immutable collections, defined using parentheses `()`. Ideal for:\n",
    "\n",
    "- Fixed equipment configurations (e.g., pipe diameters)\n",
    "- Constant reaction parameters (e.g., activation energy, rate constants)\n",
    "\n",
    "**Example**:\n"
   ]
  },
  {
   "cell_type": "code",
   "execution_count": null,
   "id": "7",
   "metadata": {},
   "outputs": [],
   "source": [
    "# Tuple of reaction rate constants\n",
    "rate_constants = (1.2, 3.4, 2.1)\n",
    "print(rate_constants)"
   ]
  },
  {
   "cell_type": "markdown",
   "id": "8",
   "metadata": {
    "slideshow": {
     "slide_type": "slide"
    }
   },
   "source": [
    "## 🔄 Lists vs Tuples\n",
    "\n",
    "| Feature        | Lists (`[]`)              | Tuples (`()`)              |\n",
    "| -------------- | ------------------------- | -------------------------- |\n",
    "| **Mutability** | Mutable (can change)      | Immutable (cannot change)  |\n",
    "| **Use Cases**  | Dynamic data (e.g., logs) | Fixed data (e.g., configs) |\n"
   ]
  },
  {
   "cell_type": "markdown",
   "id": "9",
   "metadata": {
    "slideshow": {
     "slide_type": "subslide"
    }
   },
   "source": [
    "### Example\n"
   ]
  },
  {
   "cell_type": "code",
   "execution_count": null,
   "id": "10",
   "metadata": {},
   "outputs": [],
   "source": [
    "# Changing a list\n",
    "temperatures[0] = 360\n",
    "print(temperatures)\n",
    "\n",
    "# Tuples are immutable\n",
    "# rate_constants[0] = 2.0  # This will raise an error"
   ]
  }
 ],
 "metadata": {
  "language_info": {
   "name": "python"
  }
 },
 "nbformat": 4,
 "nbformat_minor": 5
}
