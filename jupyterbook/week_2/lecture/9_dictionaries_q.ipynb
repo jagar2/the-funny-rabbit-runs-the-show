{
 "cells": [
  {
   "cell_type": "code",
   "execution_count": null,
   "id": "0",
   "metadata": {
    "tags": [
     "skip-execution"
    ]
   },
   "outputs": [],
   "source": [
    "from pykubegrader.tokens.validate_token import validate_token\n",
    "validate_token('type the key provided by your instructor here')\n"
   ]
  },
  {
   "cell_type": "code",
   "execution_count": null,
   "id": "1",
   "metadata": {
    "deletable": false,
    "editable": false,
    "tags": [
     "skip-execution"
    ]
   },
   "outputs": [],
   "source": [
    "# You must make sure to run all cells in sequence using shift + enter or you might encounter errors\n",
    "from pykubegrader.initialize import initialize_assignment\n",
    "\n",
    "responses = initialize_assignment(\"9_dictionaries_q\", \"week_2\", \"lecture\", assignment_points = 7.0, assignment_tag = 'week2-lecture')\n",
    "\n",
    "# Initialize Otter\n",
    "import otter\n",
    "grader = otter.Notebook(\"9_dictionaries_q.ipynb\")"
   ]
  },
  {
   "cell_type": "markdown",
   "id": "2",
   "metadata": {
    "deletable": false,
    "editable": false
   },
   "source": [
    "# ❓ 🩺 Chevalier Jackson Collection Problem\n",
    "\n",
    "The Chevalier Jackson Collection contains thousands of objects extracted from patients' airways and esophagi. These include items such as safety pins, coins, buttons, needles, toy parts, dentures, animal bones, keys, and poker chips.\n",
    "\n",
    "## Your Task:\n",
    "\n",
    "1. **Define an Object Dictionary**:\n",
    "   - Create a dictionary called `object_info` to represent a single item in the collection.\n",
    "   - The dictionary should include the following keys:\n",
    "     - `catalog_number`: A string, e.g., \"CJC-001\".\n",
    "     - `description`: A string, e.g., \"Open safety pin\".\n",
    "     - `type`: A string, e.g., \"Foreign Body\".\n",
    "     - `year_removed`: An integer, e.g., 1923.\n",
    "\n",
    "   Example:\n",
    "   ```python\n",
    "   object_info = {\n",
    "       \"catalog_number\": \"CJC-010\",\n",
    "       \"description\": \"poker chip\",\n",
    "       \"type\": \"Foreign Body\",\n",
    "       \"year_removed\": 2002\n",
    "   }\n",
    "   ```\n",
    "\n",
    "2. **Access and Print Information**:\n",
    "   - Use dictionary key access to print the following sentence using the data in `object_info`:\n",
    "     - \"The item CJC-010 is an poker chip classified as a Foreign Body, removed in 2002.\"\n",
    "     - The statement should be saved to the variable `print_statement`, we have provided the code to print the statement for you.\n",
    "\n",
    "3. **Modify the Dictionary**:\n",
    "   - Update the `year_removed` to `1925`.\n",
    "   - Print the updated dictionary.\n",
    "\n",
    "4. **Add a New Key**:\n",
    "   - Add a new key called `condition` with the value \"Good\" to the dictionary.\n",
    "   - Print the updated dictionary."
   ]
  },
  {
   "cell_type": "code",
   "execution_count": null,
   "id": "3",
   "metadata": {
    "tags": [
     "skip-execution"
    ]
   },
   "outputs": [],
   "source": [
    "\n",
    "...\n",
    "\n",
    "# Access and Print Information\n",
    "print_statement = ...\n",
    "\n",
    "# We have provided the code to print the statement\n",
    "print(print_statement)\n",
    "\n",
    "# Modify the Dictionary\n",
    "...\n",
    "# We have provided the code to print the updated dictionary\n",
    "print(\"Updated Dictionary:\", object_info)\n",
    "\n",
    "# Add a New Key\n",
    "...\n",
    "# We have provided the code to print the updated dictionary\n",
    "print(\"Updated Dictionary with Condition:\", object_info)\n"
   ]
  },
  {
   "cell_type": "code",
   "execution_count": null,
   "id": "4",
   "metadata": {
    "deletable": false,
    "editable": false,
    "tags": [
     "skip-execution"
    ]
   },
   "outputs": [],
   "source": [
    "grader.check(\"chevalier-jackson-dictionary\")"
   ]
  },
  {
   "cell_type": "markdown",
   "id": "5",
   "metadata": {},
   "source": [
    "## Submitting Assignment\n",
    "\n",
    "Please run the following block of code using `shift + enter` to submit your assignment, you should see your score."
   ]
  },
  {
   "cell_type": "code",
   "execution_count": null,
   "id": "6",
   "metadata": {
    "deletable": false,
    "editable": false,
    "tags": [
     "skip-execution"
    ]
   },
   "outputs": [],
   "source": [
    "from pykubegrader.tokens.validate_token import validate_token\n",
    "validate_token()\n",
    "\n",
    "\n",
    "from pykubegrader.submit.submit_assignment import submit_assignment\n",
    "\n",
    "submit_assignment(\"week2-lecture\", \"9_dictionaries_q\")"
   ]
  }
 ],
 "metadata": {
  "kernelspec": {
   "display_name": "engr131_dev",
   "language": "python",
   "name": "python3"
  },
  "language_info": {
   "codemirror_mode": {
    "name": "ipython",
    "version": 3
   },
   "file_extension": ".py",
   "mimetype": "text/x-python",
   "name": "python",
   "nbconvert_exporter": "python",
   "pygments_lexer": "ipython3",
   "version": "3.12.7"
  },
  "otter": {
   "OK_FORMAT": true,
   "tests": {
    "chevalier-jackson-dictionary": {
     "name": "chevalier-jackson-dictionary",
     "points": null,
     "suites": [
      {
       "cases": [
        {
         "code": ">>> from pykubegrader.telemetry import ensure_responses, log_variable, score_question, submit_question, telemetry, update_responses\n>>> import os\n>>> max_question_points = str(7.0)\n>>> earned_points = 0\n>>> os.environ['EARNED_POINTS'] = str(earned_points)\n>>> os.environ['TOTAL_POINTS_FREE_RESPONSE'] = str(7.0)\n>>> from pykubegrader.tokens.validate_token import validate_token\n>>> validate_token()\n>>> log_variable('total-points', f'Reading-Week-X, 9_dictionaries_q', 7.0)\n>>> question_id = 'chevalier-jackson-dictionary-1'\n>>> max_score = 1.0\n>>> score = 0\n>>> assert 'object_info' in globals(), 'The object_info dictionary must be defined.'\n>>> assert isinstance(object_info, dict), 'object_info must be a dictionary.'\n>>> if 'object_info' in globals() and isinstance(object_info, dict):\n...     score = 1.0\n>>> earned_points = float(os.environ.get('EARNED_POINTS', 0))\n>>> earned_points += score\n>>> log_variable('9_dictionaries_q', f'{score}, {max_score}', question_id)\n>>> os.environ['EARNED_POINTS'] = str(earned_points)\n",
         "failure_message": "The object_info dictionary must be defined and a dictionary.",
         "hidden": false,
         "locked": false,
         "points": 1,
         "success_message": "The object_info dictionary is defined."
        },
        {
         "code": ">>> from pykubegrader.telemetry import ensure_responses, log_variable, score_question, submit_question, telemetry, update_responses\n>>> import os\n>>> question_id = 'chevalier-jackson-dictionary-2'\n>>> max_score = 1.0\n>>> score = 0\n>>> assert object_info['catalog_number'] == 'CJC-001', 'The catalog_number value is incorrect.'\n>>> if object_info['catalog_number'] == 'CJC-001':\n...     score = 1.0\n>>> earned_points = float(os.environ.get('EARNED_POINTS', 0))\n>>> earned_points += score\n>>> log_variable('9_dictionaries_q', f'{score}, {max_score}', question_id)\n>>> os.environ['EARNED_POINTS'] = str(earned_points)\n",
         "failure_message": "The catalog_number value is incorrect.",
         "hidden": false,
         "locked": false,
         "points": 1,
         "success_message": "The catalog_number value is correct."
        },
        {
         "code": ">>> from pykubegrader.telemetry import ensure_responses, log_variable, score_question, submit_question, telemetry, update_responses\n>>> import os\n>>> question_id = 'chevalier-jackson-dictionary-3'\n>>> max_score = 1.0\n>>> score = 0\n>>> condition = object_info['description'] == 'Open safety pin'\n>>> assert condition, 'The description value is incorrect.'\n>>> if condition:\n...     score = 1.0\n>>> earned_points = float(os.environ.get('EARNED_POINTS', 0))\n>>> earned_points += score\n>>> log_variable('9_dictionaries_q', f'{score}, {max_score}', question_id)\n>>> os.environ['EARNED_POINTS'] = str(earned_points)\n",
         "failure_message": "The description value is incorrect.",
         "hidden": false,
         "locked": false,
         "points": 1,
         "success_message": "The description value is correct."
        },
        {
         "code": ">>> from pykubegrader.telemetry import ensure_responses, log_variable, score_question, submit_question, telemetry, update_responses\n>>> import os\n>>> question_id = 'chevalier-jackson-dictionary-4'\n>>> max_score = 1.0\n>>> score = 0\n>>> assert object_info['type'] == 'Foreign Body', 'The type value is incorrect.'\n>>> if object_info['type'] == 'Foreign Body':\n...     score = 1.0\n>>> earned_points = float(os.environ.get('EARNED_POINTS', 0))\n>>> earned_points += score\n>>> log_variable('9_dictionaries_q', f'{score}, {max_score}', question_id)\n>>> os.environ['EARNED_POINTS'] = str(earned_points)\n",
         "failure_message": "The type value is incorrect.",
         "hidden": false,
         "locked": false,
         "points": 1,
         "success_message": "The type value is correct."
        },
        {
         "code": ">>> from pykubegrader.telemetry import ensure_responses, log_variable, score_question, submit_question, telemetry, update_responses\n>>> import os\n>>> import re\n>>> question_id = 'chevalier-jackson-dictionary-5'\n>>> max_score = 1.0\n>>> score = 0\n>>> condition = re.search('.*CJC-001.*Open safety pin.*Foreign Body.*1923', print_statement, re.IGNORECASE)\n>>> assert condition, 'The output for object_info access is incorrect.'\n>>> if condition:\n...     score = 1.0\n>>> earned_points = float(os.environ.get('EARNED_POINTS', 0))\n>>> earned_points += score\n>>> log_variable('9_dictionaries_q', f'{score}, {max_score}', question_id)\n>>> os.environ['EARNED_POINTS'] = str(earned_points)\n",
         "failure_message": "The printed output for object_info access is incorrect.",
         "hidden": false,
         "locked": false,
         "points": 1,
         "success_message": "Successfully accessed and printed information from the dictionary."
        },
        {
         "code": ">>> from pykubegrader.telemetry import ensure_responses, log_variable, score_question, submit_question, telemetry, update_responses\n>>> import os\n>>> question_id = 'chevalier-jackson-dictionary-6'\n>>> max_score = 1.0\n>>> score = 0\n>>> condition = object_info['year_removed'] == 1925\n>>> assert condition, 'The year_removed value is not updated to 1925.'\n>>> if condition:\n...     score = 1.0\n>>> earned_points = float(os.environ.get('EARNED_POINTS', 0))\n>>> earned_points += score\n>>> log_variable('9_dictionaries_q', f'{score}, {max_score}', question_id)\n>>> os.environ['EARNED_POINTS'] = str(earned_points)\n",
         "failure_message": "The year_removed value was not updated correctly.",
         "hidden": false,
         "locked": false,
         "points": 1,
         "success_message": "Successfully updated the year_removed value."
        },
        {
         "code": ">>> from pykubegrader.telemetry import ensure_responses, log_variable, score_question, submit_question, telemetry, update_responses\n>>> import os\n>>> question_id = 'chevalier-jackson-dictionary-7'\n>>> max_score = 1.0\n>>> score = 0\n>>> assert 'condition' in object_info, 'The condition key was not added.'\n>>> assert object_info['condition'] == 'Good', 'The condition value is incorrect.'\n>>> if 'condition' in object_info and object_info['condition'] == 'Good':\n...     score = 1.0\n>>> earned_points = float(os.environ.get('EARNED_POINTS', 0))\n>>> earned_points += score\n>>> log_variable('9_dictionaries_q', f'{score}, {max_score}', question_id)\n>>> os.environ['EARNED_POINTS'] = str(earned_points)\n",
         "failure_message": "The condition key was not added correctly.",
         "hidden": false,
         "locked": false,
         "points": 1,
         "success_message": "Successfully added the condition key."
        }
       ],
       "scored": true,
       "setup": "",
       "teardown": "",
       "type": "doctest"
      }
     ]
    }
   }
  }
 },
 "nbformat": 4,
 "nbformat_minor": 5
}
