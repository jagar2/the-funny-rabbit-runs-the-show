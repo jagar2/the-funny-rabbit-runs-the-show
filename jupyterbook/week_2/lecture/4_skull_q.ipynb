{
 "cells": [
  {
   "cell_type": "code",
   "execution_count": null,
   "id": "0",
   "metadata": {
    "deletable": false,
    "editable": false,
    "tags": [
     "skip-execution"
    ]
   },
   "outputs": [],
   "source": [
    "from pykubegrader.initialize import initialize_assignment\n",
    "\n",
    "# Initialize Otter\n",
    "import otter\n",
    "grader = otter.Notebook(\"4_skull_q.ipynb\")\n",
    "responses = initialize_assignment(\"4_skull_q\")\n"
   ]
  },
  {
   "cell_type": "markdown",
   "id": "1",
   "metadata": {
    "deletable": false,
    "editable": false
   },
   "source": [
    "# ❓ 🦴 Hytrl Skull Collection Problem\n",
    "\n",
    "Imagine you are cataloging skull specimens in the Hytrl Skull Collection. Each skull has a unique catalog number, type (e.g., carnivore or herbivore), and weight in kilograms.\n",
    "\n",
    "## Your Task:\n",
    "\n",
    "1. **Define the Variables**:\n",
    "   - Create a variable `catalog_number` and assign it a string value `\"HSC-101\"`.\n",
    "   - Create a variable `skull_type` and assign it the string `\"Carnivore\"`.\n",
    "   - Create a variable `weight_kg` and assign it a float value `4.25`.\n",
    "\n",
    "2. **Format and Print Information**:\n",
    "   - Use an f-string to combine these variables into a descriptive sentence.\n",
    "   - The output should be:  \n",
    "     `\"The skull with catalog number HSC-101 is a Carnivore and weighs 4.25 kg.\"`\n",
    "\n",
    "3. **Data Type Check**:\n",
    "   - Use the `type()` function to verify and print the data type of each variable (`catalog_number`, `skull_type`, and `weight_kg`).\n",
    "   - For each variable, print a sentence like:  \n",
    "     `\"The data type of catalog_number is <class 'str'>.\"`\n",
    "\n",
    "4. **Comments**:\n",
    "   - For each of the steps add a comment explaining what the code is doing. We are using autograders so the comments have to match an expected schema.\n",
    "   \n",
    "   The comments for each step should be: \n",
    "   1. `# Define the Variables`\n",
    "   2. `# Format and Print Information`\n",
    "   3. `# Data Type Check`\n"
   ]
  },
  {
   "cell_type": "code",
   "execution_count": null,
   "id": "2",
   "metadata": {
    "tags": [
     "skip-execution"
    ]
   },
   "outputs": [],
   "source": [
    "def skull_catalog():\n",
    "    # Step 1\n",
    "    ...\n",
    "\n",
    "    # Step 2\n",
    "    ...\n",
    "\n",
    "    # Step 3\n",
    "    ...\n",
    "\n",
    "\n",
    "# This will call the function and display the output\n",
    "# Do not change the lines below\n",
    "skull_catalog()"
   ]
  },
  {
   "cell_type": "code",
   "execution_count": null,
   "id": "3",
   "metadata": {
    "deletable": false,
    "editable": false,
    "tags": [
     "skip-execution"
    ]
   },
   "outputs": [],
   "source": [
    "grader.check(\"activity-Hytrl Skull Collection\")"
   ]
  },
  {
   "cell_type": "markdown",
   "id": "4",
   "metadata": {
    "deletable": false,
    "editable": false
   },
   "source": [
    " "
   ]
  }
 ],
 "metadata": {
  "kernelspec": {
   "display_name": "engr131_dev",
   "language": "python",
   "name": "python3"
  },
  "language_info": {
   "codemirror_mode": {
    "name": "ipython",
    "version": 3
   },
   "file_extension": ".py",
   "mimetype": "text/x-python",
   "name": "python",
   "nbconvert_exporter": "python",
   "pygments_lexer": "ipython3",
   "version": "3.12.7"
  },
  "otter": {
   "OK_FORMAT": true,
   "tests": {
    "activity-Hytrl Skull Collection": {
     "name": "activity-Hytrl Skull Collection",
     "points": null,
     "suites": [
      {
       "cases": [
        {
         "code": ">>> from pykubegrader.telemetry import ensure_responses, log_variable, score_question, submit_question_new, telemetry, update_responses\n>>> import os\n>>> from io import StringIO\n>>> import sys\n>>> max_question_points = 8.0\n>>> earned_points = 0\n>>> os.environ['EARNED_POINTS'] = str(earned_points)\n>>> question_id = 'activity-Hytrl Skull Collection-1'\n>>> max_score = 1.0\n>>> score = 0\n>>> captured_output = StringIO()\n>>> sys.stdout = captured_output\n>>> skull_catalog()\n>>> sys.stdout = sys.__stdout__\n>>> output = captured_output.getvalue().strip()\n>>> condition = 'The skull with catalog number'.lower() in output.lower()\n>>> assert condition, \"Output must contain 'The skull with catalog number'.\"\n>>> if condition:\n...     score = 1.0\n>>> earned_points = float(os.environ.get('EARNED_POINTS', 0))\n>>> earned_points += score\n>>> log_variable(f'{score}, {max_score}', question_id)\n>>> os.environ['EARNED_POINTS'] = str(earned_points)\n",
         "failure_message": "Output does not include 'The skull with catalog number'.",
         "hidden": false,
         "locked": false,
         "points": 1,
         "success_message": "Correctly included the phrase 'The skull with catalog number'."
        },
        {
         "code": ">>> from pykubegrader.telemetry import ensure_responses, log_variable, score_question, submit_question_new, telemetry, update_responses\n>>> import os\n>>> import re\n>>> import inspect\n>>> question_id = 'activity-Hytrl Skull Collection-2'\n>>> max_score = 1.0\n>>> score = 0\n>>> function_source = inspect.getsource(skull_catalog)\n>>> comments = re.findall('#', function_source)\n>>> condition = len(comments) >= 8\n>>> assert condition, 'Solution must include at least 8 comments explaining the code.'\n>>> if condition:\n...     score = 1.0\n>>> earned_points = float(os.environ.get('EARNED_POINTS', 0))\n>>> earned_points += score\n>>> log_variable(f'{score}, {max_score}', question_id)\n>>> os.environ['EARNED_POINTS'] = str(earned_points)\n",
         "failure_message": "Missing required comments in the solution code.",
         "hidden": false,
         "locked": false,
         "points": 1,
         "success_message": "All required comments are present."
        },
        {
         "code": ">>> from pykubegrader.telemetry import ensure_responses, log_variable, score_question, submit_question_new, telemetry, update_responses\n>>> import os\n>>> import re\n>>> import inspect\n>>> question_id = 'activity-Hytrl Skull Collection-3'\n>>> max_score = 1.0\n>>> score = 0\n>>> source_code = inspect.getsource(skull_catalog)\n>>> condition = re.search('#\\\\s*Define\\\\s*the\\\\s*Variables', source_code, re.IGNORECASE)\n>>> assert condition, \"The '# Define the Variables' comment is missing or does not describe the section properly.\"\n>>> if condition:\n...     score = 1.0\n>>> earned_points = float(os.environ.get('EARNED_POINTS', 0))\n>>> earned_points += score\n>>> log_variable(f'{score}, {max_score}', question_id)\n>>> os.environ['EARNED_POINTS'] = str(earned_points)\n",
         "failure_message": "The '# Define the Variables' comment is missing or incorrect.",
         "hidden": false,
         "locked": false,
         "points": 1,
         "success_message": "The '# Define the Variables' comment is present."
        },
        {
         "code": ">>> from pykubegrader.telemetry import ensure_responses, log_variable, score_question, submit_question_new, telemetry, update_responses\n>>> import os\n>>> import re\n>>> import inspect\n>>> question_id = 'activity-Hytrl Skull Collection-4'\n>>> max_score = 1.0\n>>> score = 0\n>>> source_code = inspect.getsource(skull_catalog)\n>>> condition = re.search('#\\\\s*Format\\\\s*and\\\\s*Print\\\\s*Information', source_code, re.IGNORECASE)\n>>> assert condition, \"The '# Format and Print Information' comment is missing or does not describe the section properly.\"\n>>> if condition:\n...     score = 1.0\n>>> earned_points = float(os.environ.get('EARNED_POINTS', 0))\n>>> earned_points += score\n>>> log_variable(f'{score}, {max_score}', question_id)\n>>> os.environ['EARNED_POINTS'] = str(earned_points)\n",
         "failure_message": "The '# Format and Print Information' comment is missing or incorrect.",
         "hidden": false,
         "locked": false,
         "points": 1,
         "success_message": "The '# Format and Print Information' comment is present."
        },
        {
         "code": ">>> from pykubegrader.telemetry import ensure_responses, log_variable, score_question, submit_question_new, telemetry, update_responses\n>>> import os\n>>> import re\n>>> import inspect\n>>> question_id = 'activity-Hytrl Skull Collection-5'\n>>> max_score = 1.0\n>>> score = 0\n>>> source_code = inspect.getsource(skull_catalog)\n>>> condition = re.search('#\\\\s*Data\\\\s*Type\\\\s*Check', source_code, re.IGNORECASE)\n>>> assert condition, \"The '# Data Type Check' comment is missing or does not describe the section properly.\"\n>>> if condition:\n...     score = 1.0\n>>> earned_points = float(os.environ.get('EARNED_POINTS', 0))\n>>> earned_points += score\n>>> log_variable(f'{score}, {max_score}', question_id)\n>>> os.environ['EARNED_POINTS'] = str(earned_points)\n",
         "failure_message": "The '# Data Type Check' comment is missing or incorrect.",
         "hidden": false,
         "locked": false,
         "points": 1,
         "success_message": "The '# Data Type Check' comment is present."
        },
        {
         "code": ">>> from pykubegrader.telemetry import ensure_responses, log_variable, score_question, submit_question_new, telemetry, update_responses\n>>> import os\n>>> from io import StringIO\n>>> import sys\n>>> question_id = 'activity-Hytrl Skull Collection-6'\n>>> max_score = 1.0\n>>> score = 0\n>>> captured_output = StringIO()\n>>> sys.stdout = captured_output\n>>> skull_catalog()\n>>> sys.stdout = sys.__stdout__\n>>> output = captured_output.getvalue().strip()\n>>> condition = \"<class 'str'>\" in output\n>>> assert condition, \"The datatype of `catalog_number` should be <class 'str'>.\"\n>>> if condition:\n...     score = 1.0\n>>> earned_points = float(os.environ.get('EARNED_POINTS', 0))\n>>> earned_points += score\n>>> log_variable(f'{score}, {max_score}', question_id)\n>>> os.environ['EARNED_POINTS'] = str(earned_points)\n",
         "failure_message": "The datatype of `catalog_number` is incorrect or not verified properly.",
         "hidden": false,
         "locked": false,
         "points": 1,
         "success_message": "Correctly verified the datatype of `catalog_number`."
        },
        {
         "code": ">>> from pykubegrader.telemetry import ensure_responses, log_variable, score_question, submit_question_new, telemetry, update_responses\n>>> import os\n>>> from io import StringIO\n>>> import sys\n>>> question_id = 'activity-Hytrl Skull Collection-7'\n>>> max_score = 1.0\n>>> score = 0\n>>> captured_output = StringIO()\n>>> sys.stdout = captured_output\n>>> skull_catalog()\n>>> sys.stdout = sys.__stdout__\n>>> output = captured_output.getvalue().strip()\n>>> condition = \"<class 'str'>\" in output\n>>> assert condition, \"The datatype of `skull_type` should be <class 'str'>.\"\n>>> if condition:\n...     score = 1.0\n>>> earned_points = float(os.environ.get('EARNED_POINTS', 0))\n>>> earned_points += score\n>>> log_variable(f'{score}, {max_score}', question_id)\n>>> os.environ['EARNED_POINTS'] = str(earned_points)\n",
         "failure_message": "The datatype of `skull_type` is incorrect or not verified properly.",
         "hidden": false,
         "locked": false,
         "points": 1,
         "success_message": "Correctly verified the datatype of `skull_type`."
        },
        {
         "code": ">>> from pykubegrader.telemetry import ensure_responses, log_variable, score_question, submit_question_new, telemetry, update_responses\n>>> import os\n>>> from io import StringIO\n>>> import sys\n>>> question_id = 'activity-Hytrl Skull Collection-8'\n>>> max_score = 1.0\n>>> score = 0\n>>> captured_output = StringIO()\n>>> sys.stdout = captured_output\n>>> skull_catalog()\n>>> sys.stdout = sys.__stdout__\n>>> output = captured_output.getvalue().strip()\n>>> condition = \"<class 'float'>\" in output\n>>> assert condition, \"The datatype of `weight_kg` should be <class 'float'>.\"\n>>> if condition:\n...     score = 1.0\n>>> earned_points = float(os.environ.get('EARNED_POINTS', 0))\n>>> earned_points += score\n>>> log_variable(f'{score}, {max_score}', question_id)\n>>> os.environ['EARNED_POINTS'] = str(earned_points)\n",
         "failure_message": "The datatype of `weight_kg` is incorrect or not verified properly.",
         "hidden": false,
         "locked": false,
         "points": 1,
         "success_message": "Correctly verified the datatype of `weight_kg`."
        }
       ],
       "scored": true,
       "setup": "",
       "teardown": "",
       "type": "doctest"
      }
     ]
    }
   }
  }
 },
 "nbformat": 4,
 "nbformat_minor": 5
}
