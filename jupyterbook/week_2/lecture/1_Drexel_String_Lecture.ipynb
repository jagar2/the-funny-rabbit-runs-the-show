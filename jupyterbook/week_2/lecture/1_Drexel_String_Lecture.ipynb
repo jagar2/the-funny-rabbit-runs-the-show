{
 "cells": [
  {
   "cell_type": "markdown",
   "id": "0",
   "metadata": {
    "slideshow": {
     "slide_type": "slide"
    }
   },
   "source": [
    "# 📝 🎉 Welcome to String Wonderland!\n",
    "\n",
    "![Strings](./assets/figures/strings.webp)\n"
   ]
  },
  {
   "cell_type": "markdown",
   "id": "1",
   "metadata": {
    "slideshow": {
     "slide_type": "slide"
    }
   },
   "source": [
    "## 🐉 Strings at Drexel\n",
    "\n",
    "In Python strings are used for practical applications like:\n",
    "\n",
    "- Automating reports\n",
    "- Data analysis in research\n",
    "- Web development projects\n",
    "- Handling university data formats\n"
   ]
  },
  {
   "cell_type": "markdown",
   "id": "2",
   "metadata": {
    "slideshow": {
     "slide_type": "slide"
    }
   },
   "source": [
    "## 🧵 What Are Strings?\n",
    "\n",
    "Strings are sequences of characters, like the **digital textboxes** of programming. Whether you're storing words, symbols, or even emojis, Python's strings have you covered!\n"
   ]
  },
  {
   "cell_type": "markdown",
   "id": "3",
   "metadata": {
    "slideshow": {
     "slide_type": "slide"
    }
   },
   "source": [
    "## 🤔 Why Strings Matter?\n",
    "\n",
    "Strings allow us to work with textual data, enabling applications like:\n",
    "\n",
    "- Writing Python scripts for Drexel research labs\n",
    "- Analyzing survey responses\n",
    "- Building interactive course material\n",
    "- Managing student data in CSV and JSON formats\n"
   ]
  },
  {
   "cell_type": "markdown",
   "id": "4",
   "metadata": {
    "slideshow": {
     "slide_type": "slide"
    }
   },
   "source": [
    "## 📚 String Basics\n",
    "\n",
    "In Python, strings are enclosed in single (`'`) or double (`\"`) quotes.\n"
   ]
  },
  {
   "cell_type": "code",
   "execution_count": null,
   "id": "5",
   "metadata": {
    "slideshow": {
     "slide_type": "fragment"
    }
   },
   "outputs": [],
   "source": [
    "drexel_motto = \"Ambition Can't Wait\"\n",
    "college_name = \"College of Engineering\"\n",
    "print(drexel_motto)\n",
    "print(college_name)"
   ]
  },
  {
   "cell_type": "markdown",
   "id": "6",
   "metadata": {
    "slideshow": {
     "slide_type": "slide"
    }
   },
   "source": [
    "## 🎭 Multiline Strings\n",
    "\n",
    "Need more space? Use triple quotes (`'''` or `\"\"\"`) for multiline strings.\n"
   ]
  },
  {
   "cell_type": "code",
   "execution_count": null,
   "id": "7",
   "metadata": {
    "slideshow": {
     "slide_type": "fragment"
    }
   },
   "outputs": [],
   "source": [
    "drexel_vision = \"\"\"Drexel is a university \n",
    "where academic rigor meets real-world experience.\"\"\"\n",
    "print(drexel_vision)"
   ]
  },
  {
   "cell_type": "markdown",
   "id": "8",
   "metadata": {
    "slideshow": {
     "slide_type": "slide"
    }
   },
   "source": [
    "## 🛠 String Operations\n",
    "\n",
    "Python makes string manipulation easy. Here are some basic operations:\n"
   ]
  },
  {
   "cell_type": "markdown",
   "id": "9",
   "metadata": {
    "slideshow": {
     "slide_type": "subslide"
    }
   },
   "source": [
    "### Concatenation\n",
    "\n",
    "Combine strings using the `+` operator.\n"
   ]
  },
  {
   "cell_type": "code",
   "execution_count": null,
   "id": "10",
   "metadata": {
    "slideshow": {
     "slide_type": "fragment"
    }
   },
   "outputs": [],
   "source": [
    "school = \"Drexel\"\n",
    "slogan = \"Ambition Can't Wait\"\n",
    "message = school + \" - \" + slogan\n",
    "print(message)"
   ]
  },
  {
   "cell_type": "markdown",
   "id": "11",
   "metadata": {
    "slideshow": {
     "slide_type": "subslide"
    }
   },
   "source": [
    "### Repetition\n",
    "\n",
    "Repeat strings with the `*` operator.\n"
   ]
  },
  {
   "cell_type": "code",
   "execution_count": null,
   "id": "12",
   "metadata": {
    "slideshow": {
     "slide_type": "fragment"
    }
   },
   "outputs": [],
   "source": [
    "cheer = \"Go Dragons! \" * 3\n",
    "print(cheer)"
   ]
  },
  {
   "cell_type": "markdown",
   "id": "13",
   "metadata": {
    "slideshow": {
     "slide_type": "subslide"
    }
   },
   "source": [
    "### Accessing Characters\n",
    "\n",
    "Strings are **indexable** and **immutable**.\n"
   ]
  },
  {
   "cell_type": "code",
   "execution_count": null,
   "id": "14",
   "metadata": {
    "slideshow": {
     "slide_type": "fragment"
    }
   },
   "outputs": [],
   "source": [
    "mascot = \"Mario the Dragon\"\n",
    "print(mascot[0])  # First character\n",
    "print(mascot[-1])  # Last character"
   ]
  },
  {
   "cell_type": "markdown",
   "id": "15",
   "metadata": {
    "slideshow": {
     "slide_type": "slide"
    }
   },
   "source": [
    "## 🔍 String Methods\n",
    "\n",
    "Python strings come with built-in methods for manipulation:\n"
   ]
  },
  {
   "cell_type": "markdown",
   "id": "16",
   "metadata": {
    "slideshow": {
     "slide_type": "subslide"
    }
   },
   "source": [
    "### Change Case\n"
   ]
  },
  {
   "cell_type": "code",
   "execution_count": null,
   "id": "17",
   "metadata": {
    "slideshow": {
     "slide_type": "fragment"
    }
   },
   "outputs": [],
   "source": [
    "course = \"Engr 131\"\n",
    "print(course.upper())\n",
    "print(course.capitalize())"
   ]
  },
  {
   "cell_type": "markdown",
   "id": "18",
   "metadata": {
    "slideshow": {
     "slide_type": "subslide"
    }
   },
   "source": [
    "### Check Contents\n"
   ]
  },
  {
   "cell_type": "code",
   "execution_count": null,
   "id": "19",
   "metadata": {
    "slideshow": {
     "slide_type": "fragment"
    }
   },
   "outputs": [],
   "source": [
    "id_number = \"12345678\"\n",
    "print(id_number.isdigit())  # True\n",
    "print(id_number.isalpha())  # False"
   ]
  },
  {
   "cell_type": "markdown",
   "id": "20",
   "metadata": {
    "slideshow": {
     "slide_type": "subslide"
    }
   },
   "source": [
    "### Replace Content\n"
   ]
  },
  {
   "cell_type": "code",
   "execution_count": null,
   "id": "21",
   "metadata": {
    "slideshow": {
     "slide_type": "fragment"
    }
   },
   "outputs": [],
   "source": [
    "phrase = \"Hello, Drexel!\"\n",
    "print(phrase.replace(\"Drexel\", \"Dragons\"))"
   ]
  },
  {
   "cell_type": "markdown",
   "id": "22",
   "metadata": {
    "slideshow": {
     "slide_type": "slide"
    }
   },
   "source": [
    "## 🎉 String Formatting at Drexel\n",
    "\n",
    "Python offers various ways to format strings. This is handy for generating dynamic content for Drexel use cases.\n"
   ]
  },
  {
   "cell_type": "markdown",
   "id": "23",
   "metadata": {
    "slideshow": {
     "slide_type": "subslide"
    }
   },
   "source": [
    "### f-strings (Python 3.6+)\n"
   ]
  },
  {
   "cell_type": "code",
   "execution_count": null,
   "id": "24",
   "metadata": {
    "slideshow": {
     "slide_type": "fragment"
    }
   },
   "outputs": [],
   "source": [
    "student_name = \"Alex\"\n",
    "course_code = \"MEM 679\"\n",
    "print(f\"{student_name} is enrolled in {course_code} this term.\")"
   ]
  },
  {
   "cell_type": "markdown",
   "id": "25",
   "metadata": {
    "slideshow": {
     "slide_type": "subslide"
    }
   },
   "source": [
    "### `.format()` Method\n"
   ]
  },
  {
   "cell_type": "code",
   "execution_count": null,
   "id": "26",
   "metadata": {
    "slideshow": {
     "slide_type": "fragment"
    }
   },
   "outputs": [],
   "source": [
    "template = \"{} is part of the {} department.\"\n",
    "print(template.format(\"Dr. Smith\", \"Mechanical Engineering\"))"
   ]
  },
  {
   "cell_type": "markdown",
   "id": "27",
   "metadata": {
    "slideshow": {
     "slide_type": "slide"
    }
   },
   "source": [
    "## 🌟 Advanced Techniques\n"
   ]
  },
  {
   "cell_type": "markdown",
   "id": "28",
   "metadata": {
    "slideshow": {
     "slide_type": "subslide"
    }
   },
   "source": [
    "### Slicing\n",
    "\n",
    "Extract substrings using slicing.\n"
   ]
  },
  {
   "cell_type": "code",
   "execution_count": null,
   "id": "29",
   "metadata": {
    "slideshow": {
     "slide_type": "fragment"
    }
   },
   "outputs": [],
   "source": [
    "dept = \"Mechanical Engineering\"\n",
    "print(dept[0:10])  # Mechanical\n",
    "print(dept[-11:])  # Engineering"
   ]
  },
  {
   "cell_type": "markdown",
   "id": "30",
   "metadata": {
    "slideshow": {
     "slide_type": "subslide"
    }
   },
   "source": [
    "### Escape Sequences\n",
    "\n",
    "Add special characters with escape sequences.\n"
   ]
  },
  {
   "cell_type": "code",
   "execution_count": null,
   "id": "31",
   "metadata": {
    "slideshow": {
     "slide_type": "fragment"
    }
   },
   "outputs": [],
   "source": [
    "escaped = 'The professor said, \"Python is essential at Drexel!\"'\n",
    "print(escaped)"
   ]
  },
  {
   "cell_type": "markdown",
   "id": "32",
   "metadata": {
    "slideshow": {
     "slide_type": "subslide"
    }
   },
   "source": [
    "### Raw Strings\n",
    "\n",
    "Preserve raw content by prefixing with `r`.\n"
   ]
  },
  {
   "cell_type": "code",
   "execution_count": null,
   "id": "33",
   "metadata": {
    "slideshow": {
     "slide_type": "fragment"
    }
   },
   "outputs": [],
   "source": [
    "path = r\"C:\\Drexel\\Projects\\Python\"\n",
    "print(path)"
   ]
  },
  {
   "cell_type": "markdown",
   "id": "34",
   "metadata": {
    "slideshow": {
     "slide_type": "slide"
    }
   },
   "source": [
    "## 🔍 String Applications in Research\n",
    "\n",
    "Strings are pivotal in data-driven research at Drexel:\n"
   ]
  },
  {
   "cell_type": "markdown",
   "id": "35",
   "metadata": {
    "slideshow": {
     "slide_type": "fragment"
    }
   },
   "source": [
    "- **Data Cleaning**: Handle and clean messy CSV files from research.\n",
    "- **Web Scraping**: Extract data from websites using strings.\n",
    "- **Natural Language Processing (NLP)**: Analyze text for insights in collaborative projects.\n"
   ]
  },
  {
   "cell_type": "code",
   "execution_count": null,
   "id": "36",
   "metadata": {
    "slideshow": {
     "slide_type": "fragment"
    }
   },
   "outputs": [],
   "source": [
    "research_data = \"Analyzing Drexel research trends!\"\n",
    "print(research_data.split())  # Breaks into a list of words"
   ]
  },
  {
   "cell_type": "markdown",
   "id": "37",
   "metadata": {
    "slideshow": {
     "slide_type": "slide"
    }
   },
   "source": [
    "## 📊 Data-Driven Projects\n",
    "\n",
    "In data science, strings help:\n"
   ]
  },
  {
   "cell_type": "markdown",
   "id": "38",
   "metadata": {
    "slideshow": {
     "slide_type": "fragment"
    }
   },
   "source": [
    "- **Parsing**: Read and process CSV/JSON datasets.\n",
    "- **Visualization**: Add dynamic labels to charts.\n",
    "- **Automation**: Generate email templates for student communication.\n"
   ]
  },
  {
   "cell_type": "code",
   "execution_count": null,
   "id": "39",
   "metadata": {
    "slideshow": {
     "slide_type": "fragment"
    }
   },
   "outputs": [],
   "source": [
    "# Example of a dynamic email\n",
    "student_name = \"Jordan\"\n",
    "course_name = \"AI for Engineers\"\n",
    "email = f\"Hello {student_name},\\nYou are enrolled in {course_name} this term.\"\n",
    "print(email)"
   ]
  }
 ],
 "metadata": {
  "kernelspec": {
   "display_name": "Python 3 (ipykernel)",
   "language": "python",
   "name": "python3"
  },
  "language_info": {
   "codemirror_mode": {
    "name": "ipython",
    "version": 3
   },
   "file_extension": ".py",
   "mimetype": "text/x-python",
   "name": "python",
   "nbconvert_exporter": "python",
   "pygments_lexer": "ipython3",
   "version": "3.12.7"
  }
 },
 "nbformat": 4,
 "nbformat_minor": 5
}
