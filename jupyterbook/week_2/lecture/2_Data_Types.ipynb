{
 "cells": [
  {
   "cell_type": "markdown",
   "id": "0",
   "metadata": {
    "slideshow": {
     "slide_type": "slide"
    }
   },
   "source": [
    "# 📝 🔋 Data Types\n",
    "\n",
    "![Circuits](./assets/figures/types.webp)\n",
    "\n",
    "Data types help manage information, for example, as an electrical engineer this could be crucial for:\n",
    "\n",
    "- Circuit designs and simulations\n",
    "- Signal processing and waveform analysis\n",
    "- Microcontroller programming (e.g., Arduino)\n",
    "- Sensor data management in IoT systems\n"
   ]
  },
  {
   "cell_type": "markdown",
   "id": "1",
   "metadata": {
    "slideshow": {
     "slide_type": "slide"
    }
   },
   "source": [
    "## 💡 What Are Data Types?\n",
    "\n",
    "Data types define the kind of data you are working with in your program. In the context of circuits:\n",
    "\n",
    "- **Integers (`int`)**: Countable quantities like the number of components.\n",
    "- **Floats (`float`)**: Continuous values like voltages or currents.\n",
    "- **Strings (`str`)**: Descriptive labels for components or systems.\n",
    "- **Lists (`list`)**: Collections of related items, such as multiple voltage readings.\n",
    "- **Tuples (`tuple`)**: Immutable collections, such as fixed sensor configurations.\n",
    "- **Dictionaries (`dict`)**: Key-value pairs for organizing data, like component attributes.\n",
    "\n",
    "We will explore data structures (lists, tuples, and dictionaries) in subsequent sections.\n"
   ]
  },
  {
   "cell_type": "markdown",
   "id": "2",
   "metadata": {
    "slideshow": {
     "slide_type": "slide"
    }
   },
   "source": [
    "## 📚 Python Basics for Data Types\n"
   ]
  },
  {
   "cell_type": "markdown",
   "id": "3",
   "metadata": {
    "slideshow": {
     "slide_type": "subslide"
    }
   },
   "source": [
    "### Integer (`int`)\n",
    "\n",
    "Represents discrete values, like resistor counts:\n"
   ]
  },
  {
   "cell_type": "code",
   "execution_count": null,
   "id": "4",
   "metadata": {
    "slideshow": {
     "slide_type": "fragment"
    }
   },
   "outputs": [],
   "source": [
    "# Example: Counting components\n",
    "resistor_count = 10\n",
    "print(f\"Resistors: {resistor_count}\")"
   ]
  },
  {
   "cell_type": "markdown",
   "id": "5",
   "metadata": {
    "slideshow": {
     "slide_type": "subslide"
    }
   },
   "source": [
    "### Float (`float`)\n",
    "\n",
    "Handles continuous values, such as voltage:\n"
   ]
  },
  {
   "cell_type": "code",
   "execution_count": null,
   "id": "6",
   "metadata": {
    "slideshow": {
     "slide_type": "fragment"
    }
   },
   "outputs": [],
   "source": [
    "# Example: Voltage in volts\n",
    "voltage = 5.75\n",
    "print(f\"Voltage: {voltage} V\")"
   ]
  },
  {
   "cell_type": "markdown",
   "id": "7",
   "metadata": {
    "slideshow": {
     "slide_type": "subslide"
    }
   },
   "source": [
    "### String (`str`)\n",
    "\n",
    "Stores textual information:\n"
   ]
  },
  {
   "cell_type": "code",
   "execution_count": null,
   "id": "8",
   "metadata": {
    "slideshow": {
     "slide_type": "fragment"
    }
   },
   "outputs": [],
   "source": [
    "# Example: Labeling a circuit\n",
    "circuit_label = \"Bridge Rectifier\"\n",
    "print(f\"Circuit: {circuit_label}\")"
   ]
  },
  {
   "cell_type": "markdown",
   "id": "9",
   "metadata": {
    "slideshow": {
     "slide_type": "subslide"
    }
   },
   "source": [
    "### List (`list`)\n",
    "\n",
    "A collection of related values, such as multiple sensor readings:\n"
   ]
  },
  {
   "cell_type": "code",
   "execution_count": null,
   "id": "10",
   "metadata": {
    "slideshow": {
     "slide_type": "fragment"
    }
   },
   "outputs": [],
   "source": [
    "# Example: Voltage readings\n",
    "voltage_readings = [3.3, 5.0, 1.8, 2.7]\n",
    "print(f\"Voltage readings: {voltage_readings}\")"
   ]
  },
  {
   "cell_type": "markdown",
   "id": "11",
   "metadata": {
    "slideshow": {
     "slide_type": "subslide"
    }
   },
   "source": [
    "### Tuple (`tuple`)\n",
    "\n",
    "Immutable collections for fixed configurations:\n"
   ]
  },
  {
   "cell_type": "code",
   "execution_count": null,
   "id": "12",
   "metadata": {
    "slideshow": {
     "slide_type": "fragment"
    }
   },
   "outputs": [],
   "source": [
    "# Example: Pin configuration of a sensor\n",
    "pin_config = (1, 2, 3)\n",
    "print(f\"Pin Configuration: {pin_config}\")"
   ]
  },
  {
   "cell_type": "markdown",
   "id": "13",
   "metadata": {
    "slideshow": {
     "slide_type": "subslide"
    }
   },
   "source": [
    "### Dictionary (`dict`)\n",
    "\n",
    "Organizes data as key-value pairs:\n"
   ]
  },
  {
   "cell_type": "code",
   "execution_count": null,
   "id": "14",
   "metadata": {
    "slideshow": {
     "slide_type": "fragment"
    }
   },
   "outputs": [],
   "source": [
    "# Example: Describing a component\n",
    "component = {\"id\": 101, \"type\": \"Resistor\", \"value\": \"10k Ohm\", \"is_active\": True}\n",
    "print(f\"Component details: {component}\")"
   ]
  },
  {
   "cell_type": "markdown",
   "id": "15",
   "metadata": {
    "slideshow": {
     "slide_type": "slide"
    }
   },
   "source": [
    "## 🎭 Combining Data Types\n",
    "\n",
    "Often, you need multiple data types together for complex systems:\n"
   ]
  },
  {
   "cell_type": "code",
   "execution_count": null,
   "id": "16",
   "metadata": {
    "slideshow": {
     "slide_type": "fragment"
    }
   },
   "outputs": [],
   "source": [
    "# Example: A sensor system combining multiple data types\n",
    "sensor_system = {\n",
    "    \"id\": 102,\n",
    "    \"name\": \"Temperature Sensor\",\n",
    "    \"readings\": [23.4, 22.8, 24.1],  # List\n",
    "    \"calibration\": (1.0, 0.01),  # Tuple\n",
    "    \"status\": \"Active\",  # String\n",
    "}\n",
    "print(sensor_system)"
   ]
  },
  {
   "cell_type": "markdown",
   "id": "17",
   "metadata": {
    "slideshow": {
     "slide_type": "slide"
    }
   },
   "source": [
    "## 🔄 Dynamic Typing in Python\n",
    "\n",
    "Python is a **dynamically typed language**, meaning:\n",
    "\n",
    "- Variables are **not bound to a specific type** during declaration.\n",
    "- The type of a variable is determined at runtime based on the assigned value.\n"
   ]
  },
  {
   "cell_type": "markdown",
   "id": "18",
   "metadata": {
    "slideshow": {
     "slide_type": "subslide"
    }
   },
   "source": [
    "### Why Dynamic Typing Matters in Engineering\n",
    "\n",
    "In electrical engineering applications, dynamic typing provides flexibility:\n",
    "\n",
    "- You can store voltage readings as integers or floats without predefining their type.\n",
    "- Circuit labels can seamlessly switch between integers (e.g., IDs) and strings (e.g., names).\n",
    "- Data processing pipelines handle mixed data types without complex redefinitions.\n"
   ]
  },
  {
   "cell_type": "markdown",
   "id": "19",
   "metadata": {
    "slideshow": {
     "slide_type": "subslide"
    }
   },
   "source": [
    "### Example: Dynamic Typing\n"
   ]
  },
  {
   "cell_type": "code",
   "execution_count": null,
   "id": "20",
   "metadata": {
    "slideshow": {
     "slide_type": "fragment"
    }
   },
   "outputs": [],
   "source": [
    "# Assigning different types to the same variable\n",
    "measurement = 10  # Integer (e.g., count of components)\n",
    "print(f\"Measurement: {measurement} ({type(measurement)})\")"
   ]
  },
  {
   "cell_type": "code",
   "execution_count": null,
   "id": "21",
   "metadata": {
    "slideshow": {
     "slide_type": "fragment"
    }
   },
   "outputs": [],
   "source": [
    "measurement = 10.5  # Float (e.g., voltage level)\n",
    "print(f\"Measurement: {measurement} ({type(measurement)})\")"
   ]
  },
  {
   "cell_type": "code",
   "execution_count": null,
   "id": "22",
   "metadata": {
    "slideshow": {
     "slide_type": "fragment"
    }
   },
   "outputs": [],
   "source": [
    "measurement = \"Active\"  # String (e.g., circuit status)\n",
    "print(f\"Measurement: {measurement} ({type(measurement)})\")"
   ]
  },
  {
   "cell_type": "markdown",
   "id": "23",
   "metadata": {
    "slideshow": {
     "slide_type": "fragment"
    }
   },
   "source": [
    "This flexibility makes Python ideal for prototyping and rapid development in engineering.\n"
   ]
  },
  {
   "cell_type": "markdown",
   "id": "24",
   "metadata": {
    "slideshow": {
     "slide_type": "slide"
    }
   },
   "source": [
    "## ⚖️ Advantages and Trade-Offs\n"
   ]
  },
  {
   "cell_type": "markdown",
   "id": "25",
   "metadata": {
    "slideshow": {
     "slide_type": "subslide"
    }
   },
   "source": [
    "### Advantages\n",
    "\n",
    "1. **Flexibility**: Easily switch between data types as needed.\n",
    "2. **Conciseness**: No need for explicit type declarations.\n",
    "3. **Prototyping**: Quickly iterate on engineering computations.\n"
   ]
  },
  {
   "cell_type": "markdown",
   "id": "26",
   "metadata": {
    "slideshow": {
     "slide_type": "subslide"
    }
   },
   "source": [
    "### Trade-Offs\n",
    "\n",
    "1. **Runtime Errors**: Type mismatches may only appear during execution.\n",
    "2. **Performance**: Slightly slower than statically typed languages for large computations.\n",
    "\n",
    "Dynamic typing is a powerful tool when used carefully, especially in scenarios where flexibility outweighs the need for strict type definitions.\n"
   ]
  }
 ],
 "metadata": {
  "kernelspec": {
   "display_name": "engr131_dev",
   "language": "python",
   "name": "python3"
  },
  "language_info": {
   "codemirror_mode": {
    "name": "ipython",
    "version": 3
   },
   "file_extension": ".py",
   "mimetype": "text/x-python",
   "name": "python",
   "nbconvert_exporter": "python",
   "pygments_lexer": "ipython3",
   "version": "3.12.7"
  }
 },
 "nbformat": 4,
 "nbformat_minor": 5
}
