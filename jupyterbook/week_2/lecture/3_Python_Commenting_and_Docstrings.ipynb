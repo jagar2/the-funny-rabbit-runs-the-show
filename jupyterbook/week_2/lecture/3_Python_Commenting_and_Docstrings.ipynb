{
 "cells": [
  {
   "cell_type": "markdown",
   "id": "0",
   "metadata": {},
   "source": [
    "# 📝 🖋️ Python Commenting and Docstrings\n"
   ]
  },
  {
   "cell_type": "markdown",
   "id": "1",
   "metadata": {},
   "source": [
    "## 📘 What are Comments?\n",
    "\n",
    "Comments in Python are lines in the code that are not executed. They are meant for:\n",
    "\n",
    "- Explaining the purpose of the code\n",
    "- Making the code easier to read\n",
    "- Debugging purposes during development\n",
    "\n",
    "### Types of Comments:\n",
    "\n",
    "1. **Single-line comments**: Start with `#`.\n",
    "2. **Multi-line comments**: Use triple quotes (`'''` or `\"\"\"`).\n"
   ]
  },
  {
   "cell_type": "code",
   "execution_count": null,
   "id": "2",
   "metadata": {},
   "outputs": [],
   "source": [
    "# Single-line comment example\n",
    "x = 10  # This is an inline comment explaining the variable\n",
    "\n",
    "# Multi-line comment example\n",
    "\"\"\"\n",
    "This is a multi-line comment.\n",
    "It spans multiple lines to explain the code below.\n",
    "\"\"\"\n",
    "y = 20\n",
    "z = x + y"
   ]
  },
  {
   "cell_type": "markdown",
   "id": "3",
   "metadata": {},
   "source": [
    "## 📝 What are Docstrings?\n",
    "\n",
    "Docstrings are special strings used to document a Python module, class, or function.\n",
    "\n",
    "- They describe what the code does, parameters, and return values.\n",
    "- Docstrings are defined using triple quotes (`'''` or `\"\"\"`).\n",
    "\n",
    "### Example of a Docstring in a Function:\n"
   ]
  },
  {
   "cell_type": "code",
   "execution_count": null,
   "id": "4",
   "metadata": {},
   "outputs": [],
   "source": [
    "def add_numbers(a, b):\n",
    "    \"\"\"\n",
    "    Add two numbers and return the result.\n",
    "\n",
    "    Parameters:\n",
    "    a (int): First number\n",
    "    b (int): Second number\n",
    "\n",
    "    Returns:\n",
    "    int: The sum of a and b\n",
    "    \"\"\"\n",
    "    return a + b"
   ]
  },
  {
   "cell_type": "markdown",
   "id": "5",
   "metadata": {},
   "source": [
    "## 📚 Accessing Docstrings in Jupyter Notebook\n",
    "\n",
    "You can view the docstring of a function, class, or module using:\n",
    "\n",
    "1. The `help()` function.\n",
    "2. The `.__doc__` attribute.\n",
    "\n",
    "### Examples:\n"
   ]
  },
  {
   "cell_type": "code",
   "execution_count": null,
   "id": "6",
   "metadata": {},
   "outputs": [],
   "source": [
    "# Accessing docstring using help()\n",
    "help(add_numbers)\n",
    "\n",
    "# Accessing docstring using __doc__\n",
    "print(add_numbers.__doc__)"
   ]
  },
  {
   "cell_type": "code",
   "execution_count": null,
   "id": "7",
   "metadata": {},
   "outputs": [],
   "source": []
  }
 ],
 "metadata": {
  "kernelspec": {
   "display_name": "Python 3",
   "language": "python",
   "name": "python3"
  },
  "language_info": {
   "name": "python",
   "version": "3.12.7"
  }
 },
 "nbformat": 4,
 "nbformat_minor": 5
}
