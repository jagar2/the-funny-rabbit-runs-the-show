{
 "cells": [
  {
   "cell_type": "code",
   "execution_count": null,
   "metadata": {
    "deletable": false,
    "editable": false,
    "tags": [
     "skip-execution"
    ]
   },
   "outputs": [],
   "source": [
    "from pykubegrader.initialize import initialize_assignment\n",
    "\n",
    "# Initialize Otter\n",
    "import otter\n",
    "grader = otter.Notebook(\"1_lab_scrabble.ipynb\")\n",
    "responses = initialize_assignment(\"1_lab_scrabble\")\n"
   ]
  },
  {
   "cell_type": "markdown",
   "metadata": {
    "deletable": false,
    "editable": false
   },
   "source": [
    "# 🧪 🎮 Lab 2: Scrabble Game Calculator\n",
    "\n",
    "In this laboratory assignment, you will develop a scoring system for competitive word games while learning essential functional programming concepts including map and reduce functions. The scoring system you create will be similar to those used in professional tournament play.\n",
    "\n",
    "## Professional Scrabble Gaming Context\n",
    "\n",
    "Professional players utilize sophisticated scoring systems that require rapid calculation while considering multiple factors. The 2004 documentary \"Word Wars\" demonstrates how championship players have memorized over 120,000 playable words and can calculate optimal scoring positions instantaneously. Your task will be to develop the foundational components of such a scoring system.\n",
    "\n",
    "<iframe width=\"1238\" height=\"696\" src=\"https://www.youtube.com/embed/kL4UfA6wUuw\" title=\"Word Wars - Official Trailer\" frameborder=\"0\" allow=\"accelerometer; autoplay; clipboard-write; encrypted-media; gyroscope; picture-in-picture; web-share\" referrerpolicy=\"strict-origin-when-cross-origin\" allowfullscreen></iframe>"
   ]
  },
  {
   "cell_type": "markdown",
   "metadata": {
    "deletable": false,
    "editable": false
   },
   "source": [
    "## Scoring System\n",
    "\n",
    "The scoring system assigns point values to letters based on their frequency in English language usage. The official scoring system is structured as follows:\n",
    "\n",
    "| Points | Letters | Strategic Value |\n",
    "|--------|----------|----------------|\n",
    "| 1 point | A, E, I, O, U, L, N, S, T, R | Foundation letters for word construction |\n",
    "| 2 points | D, G | Valuable consonants for word building |\n",
    "| 3 points | B, C, M, P | Strong word initiators |\n",
    "| 4 points | F, H, V, W, Y | High-value consonants |\n",
    "| 5 points | K | Strategic positioning letter |\n",
    "| 8 points | J, X | Premium scoring opportunities |\n",
    "| 10 points | Q, Z | Maximum point potential |"
   ]
  },
  {
   "cell_type": "markdown",
   "metadata": {
    "deletable": false,
    "editable": false
   },
   "source": [
    "## Task 1: Letter score\n",
    "\n",
    "Your first task is to complete a function which takes in a letter and outputs the score for that letter. A dictionary can be used to store the information from the scoring table above.   \n",
    "\n",
    "Write python code to do the following:\n",
    "\n",
    "* Inside the provided `letter_score` function, use the provided scores dictionary `S` to determine the score for the provided letter called `letter`.\n",
    "* Store the score in a variable called `score`.\n",
    "\n",
    "Note: you may assume that the input letter will always be uppercase.\n",
    "\n",
    "Your code replaces the prompt:  `...`"
   ]
  },
  {
   "cell_type": "code",
   "execution_count": null,
   "metadata": {
    "tags": [
     "skip-execution"
    ]
   },
   "outputs": [],
   "source": [
    "# this line creates a function called letter_score with one argument: letter\n",
    "def letter_score(letter):\n",
    "    # create the scoring dictionary of letter scores\n",
    "    S = {\n",
    "        \"A\" : 1,\n",
    "        \"B\" : 3,\n",
    "        \"C\" : 3,\n",
    "        \"D\" : 2,\n",
    "        \"E\" : 1,\n",
    "        \"F\" : 4,\n",
    "        \"G\" : 2,\n",
    "        \"H\" : 4,\n",
    "        \"I\" : 1,\n",
    "        \"J\" : 8,\n",
    "        \"K\" : 5,\n",
    "        \"L\" : 1,\n",
    "        \"M\" : 3,\n",
    "        \"N\" : 1,\n",
    "        \"O\" : 1,\n",
    "        \"P\" : 3,\n",
    "        \"Q\" : 10,\n",
    "        \"R\" : 1,\n",
    "        \"S\" : 1,\n",
    "        \"T\" : 1,\n",
    "        \"U\" : 1,\n",
    "        \"V\" : 4,\n",
    "        \"W\" : 4,\n",
    "        \"X\" : 8,\n",
    "        \"Y\" : 4,\n",
    "        \"Z\" : 10,\n",
    "    }\n",
    "    ...\n",
    "    # this line outputs the score from the function\n",
    "    return score\n",
    "\n",
    "# this runs the letter score function with input \"Q\" and prints its output\n",
    "print(letter_score(\"Q\"))"
   ]
  },
  {
   "cell_type": "code",
   "execution_count": null,
   "metadata": {
    "deletable": false,
    "editable": false,
    "tags": [
     "skip-execution"
    ]
   },
   "outputs": [],
   "source": [
    "grader.check(\"task1-letter-score\")"
   ]
  },
  {
   "cell_type": "markdown",
   "metadata": {
    "deletable": false,
    "editable": false
   },
   "source": [
    "## Task 2: Letter scores\n",
    "\n",
    "Now that you have a function that computes the score for a letter, you can use Python's built-in `map` function to apply it to each letter in a word to get a list of letter scores. \n",
    "\n",
    "First you will need to convert the string `word` into a list of the individual letters. This can be achieved with `list(word)`. \n",
    "\n",
    "Next, use the `map` function to apply the `letter_score` function to each letter in the list. Recall how the `map` function is used: If you have a function `f` and a list `L = [a,b,c]`, you can do `map(f,L)` which results in the mapped list `[f(a), f(b), f(c)]`. \n",
    "\n",
    "Write python code to do the following:\n",
    "\n",
    "* Inside the provided `letter_scores` function, first convert the argument string `word` into a list.\n",
    "* Map the `letter_score` function onto the list to get a list of letter scores. \n",
    "* Store the final list of letter scores in a variable called `score_list`.\n",
    "\n",
    "Your code replaces the prompt:  `...`"
   ]
  },
  {
   "cell_type": "code",
   "execution_count": null,
   "metadata": {
    "tags": [
     "skip-execution"
    ]
   },
   "outputs": [],
   "source": [
    "# this line creates a function called letter_scores with one argument: word\n",
    "def letter_scores(word):\n",
    "    ...\n",
    "    # this line outputs the score list from the function\n",
    "    return list(score_list)\n",
    "\n",
    "# this runs the letter_scores function with input \"EXAMPLE\" and prints out the resulting list of letter scores\n",
    "print(letter_scores(\"EXAMPLE\"))"
   ]
  },
  {
   "cell_type": "code",
   "execution_count": null,
   "metadata": {
    "deletable": false,
    "editable": false,
    "tags": [
     "skip-execution"
    ]
   },
   "outputs": [],
   "source": [
    "grader.check(\"task2-letter-scores\")"
   ]
  },
  {
   "cell_type": "markdown",
   "metadata": {
    "deletable": false,
    "editable": false
   },
   "source": [
    "**Task 3: Word score** \n",
    "\n",
    "The last thing you need to do is sum the list of indivudal letters scores to get the total point value for the entire word.\n",
    "\n",
    "To do this you should use the `sum` function. This adds all the elements of a list and returns the sum.\n",
    "\n",
    "Write python code to do the following:\n",
    "\n",
    "* Inside the provided `word_score` function, first call the `letter_scores` function on the input `word` to get the list of individual letter scores.\n",
    "* Next use the `sum` function on the list and `return` the final sum. \n",
    "\n",
    "Your code replaces the prompt:  `...`"
   ]
  },
  {
   "cell_type": "code",
   "execution_count": null,
   "metadata": {
    "tags": [
     "skip-execution"
    ]
   },
   "outputs": [],
   "source": [
    "def word_score(word):\n",
    "    ...\n",
    "\n",
    "# use this to check your results\n",
    "word_score(\"ZEBRA\")"
   ]
  },
  {
   "cell_type": "code",
   "execution_count": null,
   "metadata": {
    "deletable": false,
    "editable": false,
    "tags": [
     "skip-execution"
    ]
   },
   "outputs": [],
   "source": [
    "grader.check(\"task3-word-score\")"
   ]
  },
  {
   "cell_type": "markdown",
   "metadata": {
    "deletable": false,
    "editable": false
   },
   "source": [
    "## Testing Your Implementation\n",
    "\n",
    "Test your functions with various words to ensure accurate scoring:"
   ]
  },
  {
   "cell_type": "code",
   "execution_count": null,
   "metadata": {
    "tags": [
     "skip-execution"
    ]
   },
   "outputs": [],
   "source": [
    "# Test cases\n",
    "test_words = [\"PYTHON\", \"ALGORITHM\", \"CODE\", \"QUIZ\"]\n",
    "\n",
    "for word in test_words:\n",
    "    print(\n",
    "        f\"{word}: {word_score(word)} points (Basic), {word_score(word)} points\"\n",
    "    )"
   ]
  }
 ],
 "metadata": {
  "kernelspec": {
   "display_name": "engr131_dev",
   "language": "python",
   "name": "python3"
  },
  "language_info": {
   "codemirror_mode": {
    "name": "ipython",
    "version": 3
   },
   "file_extension": ".py",
   "mimetype": "text/x-python",
   "name": "python",
   "nbconvert_exporter": "python",
   "pygments_lexer": "ipython3",
   "version": "3.12.7"
  },
  "otter": {
   "OK_FORMAT": true,
   "tests": {
    "task1-letter-score": {
     "name": "task1-letter-score",
     "points": null,
     "suites": [
      {
       "cases": [
        {
         "code": ">>> from pykubegrader.telemetry import ensure_responses, log_variable, score_question, submit_question_new, telemetry, update_responses\n>>> import os\n>>> max_question_points = 5.0\n>>> earned_points = 0\n>>> os.environ['EARNED_POINTS'] = str(earned_points)\n>>> question_id = 'task1-letter-score-1'\n>>> max_score = 1.0\n>>> score = 0\n>>> assert letter_score('A') == 1, 'letter score for A is incorrect'\n>>> if letter_score('A') == 1:\n...     score = 1.0\n>>> earned_points = float(os.environ.get('EARNED_POINTS', 0))\n>>> earned_points += score\n>>> log_variable(f'{score}, {max_score}', question_id)\n>>> os.environ['EARNED_POINTS'] = str(earned_points)\n",
         "failure_message": "letter_score(\"A\") is incorrect.",
         "hidden": false,
         "locked": false,
         "points": 1,
         "success_message": "letter_score(\"A\") is correct."
        },
        {
         "code": ">>> from pykubegrader.telemetry import ensure_responses, log_variable, score_question, submit_question_new, telemetry, update_responses\n>>> import os\n>>> question_id = 'task1-letter-score-2'\n>>> max_score = 1.0\n>>> score = 0\n>>> assert letter_score('X') == 8, \"letter_score('X') is incorrect\"\n>>> if letter_score('X') == 8:\n...     score = 1.0\n>>> earned_points = float(os.environ.get('EARNED_POINTS', 0))\n>>> earned_points += score\n>>> log_variable(f'{score}, {max_score}', question_id)\n>>> os.environ['EARNED_POINTS'] = str(earned_points)\n",
         "failure_message": "letter_score(\"X\") is incorrect.",
         "hidden": false,
         "locked": false,
         "points": 1,
         "success_message": "letter_score(\"X\") is correct."
        },
        {
         "code": ">>> from pykubegrader.telemetry import ensure_responses, log_variable, score_question, submit_question_new, telemetry, update_responses\n>>> import os\n>>> question_id = 'task1-letter-score-3'\n>>> max_score = 1.0\n>>> score = 0\n>>> assert letter_score('Z') == 10, \"letter_score('Z') is incorrect.\"\n>>> if letter_score('Z') == 10:\n...     score = 1.0\n>>> earned_points = float(os.environ.get('EARNED_POINTS', 0))\n>>> earned_points += score\n>>> log_variable(f'{score}, {max_score}', question_id)\n>>> os.environ['EARNED_POINTS'] = str(earned_points)\n",
         "failure_message": "letter_score(\"Z\") is incorrect.",
         "hidden": false,
         "locked": false,
         "points": 1,
         "success_message": "letter_score(\"Z\") is correct."
        },
        {
         "code": ">>> from pykubegrader.telemetry import ensure_responses, log_variable, score_question, submit_question_new, telemetry, update_responses\n>>> import os\n>>> question_id = 'task1-letter-score-4'\n>>> max_score = 1.0\n>>> score = 0\n>>> assert letter_score('D') == 2, \"letter_score('D') should return 2\"\n>>> if letter_score('D') == 2:\n...     score = 1.0\n>>> earned_points = float(os.environ.get('EARNED_POINTS', 0))\n>>> earned_points += score\n>>> log_variable(f'{score}, {max_score}', question_id)\n>>> os.environ['EARNED_POINTS'] = str(earned_points)\n",
         "failure_message": "letter_score(\"D\") is incorrect.",
         "hidden": false,
         "locked": false,
         "points": 1,
         "success_message": "letter_score(\"D\") is correct."
        },
        {
         "code": ">>> from pykubegrader.telemetry import ensure_responses, log_variable, score_question, submit_question_new, telemetry, update_responses\n>>> import os\n>>> question_id = 'task1-letter-score-5'\n>>> max_score = 1.0\n>>> score = 0\n>>> assert letter_score('C') == 3, \"letter_score('C') should return 3\"\n>>> if letter_score('C') == 3:\n...     score = 1.0\n>>> earned_points = float(os.environ.get('EARNED_POINTS', 0))\n>>> earned_points += score\n>>> log_variable(f'{score}, {max_score}', question_id)\n>>> os.environ['EARNED_POINTS'] = str(earned_points)\n",
         "failure_message": "letter_score(\"C\") is incorrect.",
         "hidden": false,
         "locked": false,
         "points": 1,
         "success_message": "letter_score(\"C\") is correct."
        }
       ],
       "scored": true,
       "setup": "",
       "teardown": "",
       "type": "doctest"
      }
     ]
    },
    "task2-letter-scores": {
     "name": "task2-letter-scores",
     "points": null,
     "suites": [
      {
       "cases": [
        {
         "code": ">>> from pykubegrader.telemetry import ensure_responses, log_variable, score_question, submit_question_new, telemetry, update_responses\n>>> import os\n>>> max_question_points = 5.0\n>>> earned_points = 0\n>>> os.environ['EARNED_POINTS'] = str(earned_points)\n>>> question_id = 'task2-letter-scores-1'\n>>> max_score = 1.0\n>>> score = 0\n>>> assert letter_scores('AND') == [1, 1, 2], \"the letter scores for 'AND' should be [1,1,2]\"\n>>> if letter_scores('AND') == [1, 1, 2]:\n...     score = 1.0\n>>> earned_points = float(os.environ.get('EARNED_POINTS', 0))\n>>> earned_points += score\n>>> log_variable(f'{score}, {max_score}', question_id)\n>>> os.environ['EARNED_POINTS'] = str(earned_points)\n",
         "failure_message": "letter_scores(\"AND\") is incorrect.",
         "hidden": false,
         "locked": false,
         "points": 1,
         "success_message": "letter_scores(\"AND\") is correct."
        },
        {
         "code": ">>> from pykubegrader.telemetry import ensure_responses, log_variable, score_question, submit_question_new, telemetry, update_responses\n>>> import os\n>>> question_id = 'task2-letter-scores-2'\n>>> max_score = 1.0\n>>> score = 0\n>>> assert letter_scores('HYPOTHESIS') == [4, 4, 3, 1, 1, 4, 1, 1, 1, 1], 'The letter scores for HYPOTHESIS should return [4, 4, 3, 1, 1, 4, 1, 1, 1, 1]'\n>>> if letter_scores('HYPOTHESIS') == [4, 4, 3, 1, 1, 4, 1, 1, 1, 1]:\n...     score = 1.0\n>>> earned_points = float(os.environ.get('EARNED_POINTS', 0))\n>>> earned_points += score\n>>> log_variable(f'{score}, {max_score}', question_id)\n>>> os.environ['EARNED_POINTS'] = str(earned_points)\n",
         "failure_message": "letter_scores(\"HYPOTHESIS\") is incorrect.",
         "hidden": false,
         "locked": false,
         "points": 1,
         "success_message": "letter_scores(\"HYPOTHESIS\") is correct."
        },
        {
         "code": ">>> from pykubegrader.telemetry import ensure_responses, log_variable, score_question, submit_question_new, telemetry, update_responses\n>>> import os\n>>> question_id = 'task2-letter-scores-3'\n>>> max_score = 1.0\n>>> score = 0\n>>> assert letter_scores('CHEMISTRY') == [3, 4, 1, 3, 1, 1, 1, 1, 4], 'The letter scores for CHEMISTRY should return [3, 4, 1, 3, 1, 1, 1, 1, 4]'\n>>> if letter_scores('CHEMISTRY') == [3, 4, 1, 3, 1, 1, 1, 1, 4]:\n...     score = 1.0\n>>> earned_points = float(os.environ.get('EARNED_POINTS', 0))\n>>> earned_points += score\n>>> log_variable(f'{score}, {max_score}', question_id)\n>>> os.environ['EARNED_POINTS'] = str(earned_points)\n",
         "failure_message": "letter_scores(\"CHEMISTRY\") is incorrect.",
         "hidden": false,
         "locked": false,
         "points": 1,
         "success_message": "letter_scores(\"CHEMISTRY\") is correct."
        },
        {
         "code": ">>> from pykubegrader.telemetry import ensure_responses, log_variable, score_question, submit_question_new, telemetry, update_responses\n>>> import os\n>>> question_id = 'task2-letter-scores-4'\n>>> max_score = 1.0\n>>> score = 0\n>>> assert letter_scores('DOOR') == [2, 1, 1, 1], \"letter_scores('DOOR') should return [2,1,1,1]\"\n>>> if letter_scores('DOOR') == [2, 1, 1, 1]:\n...     score = 1.0\n>>> earned_points = float(os.environ.get('EARNED_POINTS', 0))\n>>> earned_points += score\n>>> log_variable(f'{score}, {max_score}', question_id)\n>>> os.environ['EARNED_POINTS'] = str(earned_points)\n",
         "failure_message": "letter_scores(\"DOOR\") is incorrect.",
         "hidden": false,
         "locked": false,
         "points": 1,
         "success_message": "letter_scores(\"DOOR\") is correct."
        },
        {
         "code": ">>> from pykubegrader.telemetry import ensure_responses, log_variable, score_question, submit_question_new, telemetry, update_responses\n>>> import os\n>>> question_id = 'task2-letter-scores-5'\n>>> max_score = 1.0\n>>> score = 0\n>>> assert letter_scores('FIVE') == [4, 1, 4, 1], 'The wrong letter score is being calculated for the word FIVE'\n>>> if letter_scores('FIVE') == [4, 1, 4, 1]:\n...     score = 1.0\n>>> earned_points = float(os.environ.get('EARNED_POINTS', 0))\n>>> earned_points += score\n>>> log_variable(f'{score}, {max_score}', question_id)\n>>> os.environ['EARNED_POINTS'] = str(earned_points)\n",
         "failure_message": "letter_scores(\"FIVE\") is incorrect.",
         "hidden": false,
         "locked": false,
         "points": 1,
         "success_message": "letter_scores(\"FIVE\") is correct."
        }
       ],
       "scored": true,
       "setup": "",
       "teardown": "",
       "type": "doctest"
      }
     ]
    },
    "task3-word-score": {
     "name": "task3-word-score",
     "points": null,
     "suites": [
      {
       "cases": [
        {
         "code": ">>> from pykubegrader.telemetry import ensure_responses, log_variable, score_question, submit_question_new, telemetry, update_responses\n>>> import os\n>>> max_question_points = 4.0\n>>> earned_points = 0\n>>> os.environ['EARNED_POINTS'] = str(earned_points)\n>>> question_id = 'task3-word-score-1'\n>>> max_score = 1.0\n>>> score = 0\n>>> assert word_score('ZEBRA') == 16\n>>> if word_score('ZEBRA') == 16:\n...     score = 1.0\n>>> earned_points = float(os.environ.get('EARNED_POINTS', 0))\n>>> earned_points += score\n>>> log_variable(f'{score}, {max_score}', question_id)\n>>> os.environ['EARNED_POINTS'] = str(earned_points)\n",
         "failure_message": "word_score(\"ZEBRA\") is incorrect.",
         "hidden": false,
         "locked": false,
         "points": 1,
         "success_message": "word_score(\"ZEBRA\") is correct."
        },
        {
         "code": ">>> from pykubegrader.telemetry import ensure_responses, log_variable, score_question, submit_question_new, telemetry, update_responses\n>>> import os\n>>> question_id = 'task3-word-score-2'\n>>> max_score = 1.0\n>>> score = 0\n>>> assert word_score('MACHINE') == 14\n>>> if word_score('MACHINE') == 14:\n...     score = 1.0\n>>> earned_points = float(os.environ.get('EARNED_POINTS', 0))\n>>> earned_points += score\n>>> log_variable(f'{score}, {max_score}', question_id)\n>>> os.environ['EARNED_POINTS'] = str(earned_points)\n",
         "failure_message": "word_score(\"MACHINE\") is incorrect.",
         "hidden": false,
         "locked": false,
         "points": 1,
         "success_message": "word_score(\"MACHINE\") is correct."
        },
        {
         "code": ">>> from pykubegrader.telemetry import ensure_responses, log_variable, score_question, submit_question_new, telemetry, update_responses\n>>> import os\n>>> question_id = 'task3-word-score-3'\n>>> max_score = 1.0\n>>> score = 0\n>>> assert word_score('CORRUPT') == 11\n>>> if word_score('CORRUPT') == 11:\n...     score = 1.0\n>>> earned_points = float(os.environ.get('EARNED_POINTS', 0))\n>>> earned_points += score\n>>> log_variable(f'{score}, {max_score}', question_id)\n>>> os.environ['EARNED_POINTS'] = str(earned_points)\n",
         "failure_message": "word_score(\"CORRUPT\") is incorrect.",
         "hidden": false,
         "locked": false,
         "points": 1,
         "success_message": "word_score(\"CORRUPT\") is correct."
        },
        {
         "code": ">>> from pykubegrader.telemetry import ensure_responses, log_variable, score_question, submit_question_new, telemetry, update_responses\n>>> import os\n>>> question_id = 'task3-word-score-4'\n>>> max_score = 1.0\n>>> score = 0\n>>> assert word_score('MOVIE') == 10\n>>> if word_score('MOVIE') == 10:\n...     score = 1.0\n>>> earned_points = float(os.environ.get('EARNED_POINTS', 0))\n>>> earned_points += score\n>>> log_variable(f'{score}, {max_score}', question_id)\n>>> os.environ['EARNED_POINTS'] = str(earned_points)\n",
         "failure_message": "word_score(\"MOVIE\") is incorrect.",
         "hidden": false,
         "locked": false,
         "points": 1,
         "success_message": "word_score(\"MOVIE\") is correct."
        }
       ],
       "scored": true,
       "setup": "",
       "teardown": "",
       "type": "doctest"
      }
     ]
    }
   }
  }
 },
 "nbformat": 4,
 "nbformat_minor": 4
}
