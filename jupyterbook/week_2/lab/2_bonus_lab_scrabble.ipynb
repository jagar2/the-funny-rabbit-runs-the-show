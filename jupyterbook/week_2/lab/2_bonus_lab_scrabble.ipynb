{
 "cells": [
  {
   "cell_type": "markdown",
   "metadata": {},
   "source": [
    "# 🧪 🎮 Building a Scrabble Word Finder\n",
    "\n",
    "It is amazing how with a few lines of python code you can create some very powerful tools. Here we will implement a scrabble word finder. This tool will help you find the highest scoring word you can make with the letters you have. We will also generate random letters based on the real Scrabble tile frequencies.\n",
    "\n",
    "This tutorial shows how to create an interactive Scrabble helper that:\n",
    "- Finds the highest-scoring word from your letters\n",
    "- Generates random letters based on real Scrabble tile frequencies\n",
    "- Provides a fun interactive interface\n",
    "\n",
    "First, let's import our dependencies:"
   ]
  },
  {
   "cell_type": "code",
   "execution_count": null,
   "metadata": {},
   "outputs": [],
   "source": [
    "import itertools\n",
    "import random\n",
    "import panel as pn\n",
    "pn.extension()"
   ]
  },
  {
   "cell_type": "markdown",
   "metadata": {},
   "source": [
    "## 📝 Game Data\n",
    "\n",
    "Let's set up our Scrabble scoring system and letter distribution:"
   ]
  },
  {
   "cell_type": "code",
   "execution_count": null,
   "metadata": {},
   "outputs": [],
   "source": [
    "# Letter scores\n",
    "SCRABBLE_SCORES = {\n",
    "    'a': 1, 'b': 3, 'c': 3, 'd': 2, 'e': 1,\n",
    "    'f': 4, 'g': 2, 'h': 4, 'i': 1, 'j': 8,\n",
    "    'k': 5, 'l': 1, 'm': 3, 'n': 1, 'o': 1,\n",
    "    'p': 3, 'q': 10, 'r': 1, 's': 1, 't': 1,\n",
    "    'u': 1, 'v': 4, 'w': 4, 'x': 8, 'y': 4,\n",
    "    'z': 10\n",
    "}\n",
    "\n",
    "# Official Scrabble tile distribution\n",
    "LETTER_DISTRIBUTION = {\n",
    "    'a': 9, 'b': 2, 'c': 2, 'd': 4, 'e': 12,\n",
    "    'f': 2, 'g': 3, 'h': 2, 'i': 9, 'j': 1,\n",
    "    'k': 1, 'l': 4, 'm': 2, 'n': 6, 'o': 8,\n",
    "    'p': 2, 'q': 1, 'r': 6, 's': 4, 't': 6,\n",
    "    'u': 4, 'v': 2, 'w': 2, 'x': 1, 'y': 2,\n",
    "    'z': 1\n",
    "}\n",
    "\n",
    "# Let's visualize the letter frequencies\n",
    "import matplotlib.pyplot as plt\n",
    "\n",
    "plt.figure(figsize=(15, 5))\n",
    "plt.bar(LETTER_DISTRIBUTION.keys(), LETTER_DISTRIBUTION.values())\n",
    "plt.title('Scrabble Tile Distribution')\n",
    "plt.xlabel('Letter')\n",
    "plt.ylabel('Number of Tiles')\n",
    "plt.show()"
   ]
  },
  {
   "cell_type": "markdown",
   "metadata": {},
   "source": [
    "## 🎲 Core Game Functions\n",
    "\n",
    "Now let's implement our core game logic:"
   ]
  },
  {
   "cell_type": "code",
   "execution_count": null,
   "metadata": {},
   "outputs": [],
   "source": [
    "def calculate_score(word):\n",
    "    \"\"\"Calculate Scrabble score for a word\"\"\"\n",
    "    return sum(SCRABBLE_SCORES.get(letter, 0) for letter in word)\n",
    "\n",
    "def generate_words(letters):\n",
    "    \"\"\"Generate all possible letter combinations\"\"\"\n",
    "    for length in range(1, len(letters) + 1):\n",
    "        for combo in itertools.permutations(letters, length):\n",
    "            yield ''.join(combo)\n",
    "\n",
    "def generate_random_letters(num_letters=7):\n",
    "    \"\"\"Generate random letters based on Scrabble distribution\"\"\"\n",
    "    letter_pool = []\n",
    "    for letter, count in LETTER_DISTRIBUTION.items():\n",
    "        letter_pool.extend([letter] * count)\n",
    "    return ''.join(random.sample(letter_pool, num_letters))\n",
    "\n",
    "# Test our functions\n",
    "test_word = \"python\"\n",
    "print(f\"Score for '{test_word}': {calculate_score(test_word)}\")\n",
    "print(f\"Random letters: {generate_random_letters()}\")"
   ]
  },
  {
   "cell_type": "markdown",
   "metadata": {},
   "source": [
    "## 🎯 Word Finding Logic\n",
    "\n",
    "Let's create a small test dictionary and implement our word finder:"
   ]
  },
  {
   "cell_type": "code",
   "execution_count": null,
   "metadata": {},
   "outputs": [],
   "source": [
    "# Small test dictionary\n",
    "TEST_DICTIONARY = set(['cat', 'hat', 'rat', 'bat', 'at', 'star', 'tars'])\n",
    "\n",
    "def find_best_scrabble_word(letters, dictionary):\n",
    "    \"\"\"Find highest-scoring valid word from letters\"\"\"\n",
    "    best_word = ''\n",
    "    best_score = 0\n",
    "\n",
    "    for word in set(generate_words(letters)):\n",
    "        if word in dictionary:\n",
    "            score = calculate_score(word)\n",
    "            if score > best_score:\n",
    "                best_word = word\n",
    "                best_score = score\n",
    "\n",
    "    return best_word, best_score\n",
    "\n",
    "# Test with sample letters\n",
    "test_letters = 'stars'\n",
    "best_word, score = find_best_scrabble_word(test_letters, TEST_DICTIONARY)\n",
    "print(f\"Best word from '{test_letters}': {best_word} (score: {score})\")"
   ]
  },
  {
   "cell_type": "markdown",
   "metadata": {},
   "source": [
    "## 🎮 Interactive Interface\n",
    "\n",
    "Finally, let's create our interactive panel interface:"
   ]
  },
  {
   "cell_type": "code",
   "execution_count": null,
   "metadata": {},
   "outputs": [],
   "source": [
    "def create_interface(dictionary):\n",
    "    \"\"\"Create interactive Scrabble helper interface\"\"\"\n",
    "    letters_input = pn.widgets.TextInput(name='Enter Letters:', value='')\n",
    "    random_button = pn.widgets.Button(name='🎲 Random Letters', button_type='primary')\n",
    "    result_text = pn.widgets.StaticText(name='Result:', value='Type letters or click Random')\n",
    "\n",
    "    def update_result(event):\n",
    "        letters = letters_input.value.lower()\n",
    "        if not letters.isalpha():\n",
    "            result_text.value = \"⚠️ Please enter only letters\"\n",
    "            return\n",
    "        best_word, score = find_best_scrabble_word(letters, dictionary)\n",
    "        if best_word:\n",
    "            result_text.value = f\"✨ Best word: '{best_word}' (Score: {score})\"\n",
    "        else:\n",
    "            result_text.value = \"❌ No valid words found\"\n",
    "\n",
    "    def generate_random(event):\n",
    "        letters_input.value = generate_random_letters()\n",
    "        update_result(None)\n",
    "\n",
    "    letters_input.param.watch(update_result, 'value')\n",
    "    random_button.on_click(generate_random)\n",
    "\n",
    "    return pn.Column(\n",
    "        pn.pane.Markdown(\"# 🎯 Scrabble Word Finder\"),\n",
    "        pn.Row(letters_input, random_button),\n",
    "        result_text\n",
    "    )\n",
    "\n",
    "\n",
    "def load_dictionary(file_path):\n",
    "    \"\"\"\n",
    "    Load a dictionary file containing valid Scrabble words.\n",
    "\n",
    "    Args:\n",
    "        file_path (str): Path to the dictionary file\n",
    "\n",
    "    Returns:\n",
    "        set: Valid Scrabble words\n",
    "\n",
    "    Note:\n",
    "        The dictionary should contain one word per line\n",
    "        Words are converted to lowercase for consistency\n",
    "    \"\"\"\n",
    "    try:\n",
    "        with open(file_path, \"r\") as file:\n",
    "            return set(word.strip().lower() for word in file)\n",
    "    except FileNotFoundError:\n",
    "        print(f\"Error: Dictionary file not found at '{file_path}'\")\n",
    "        return set()\n",
    "\n",
    "\n",
    "# Create and display interface\n",
    "dictionary = load_dictionary(\"words.txt\")\n",
    "interface = create_interface(dictionary)\n",
    "interface"
   ]
  }
 ],
 "metadata": {
  "kernelspec": {
   "display_name": "engr131_dev",
   "language": "python",
   "name": "python3"
  },
  "language_info": {
   "codemirror_mode": {
    "name": "ipython",
    "version": 3
   },
   "file_extension": ".py",
   "mimetype": "text/x-python",
   "name": "python",
   "nbconvert_exporter": "python",
   "pygments_lexer": "ipython3",
   "version": "3.12.7"
  }
 },
 "nbformat": 4,
 "nbformat_minor": 4
}
