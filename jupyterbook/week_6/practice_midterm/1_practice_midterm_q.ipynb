{
 "cells": [
  {
   "cell_type": "code",
   "execution_count": null,
   "id": "0",
   "metadata": {
    "deletable": false,
    "editable": false,
    "tags": [
     "skip-execution"
    ]
   },
   "outputs": [],
   "source": [
    "# You must make sure to run all cells in sequence using shift + enter or you might encounter errors\n",
    "from pykubegrader.initialize import initialize_assignment\n",
    "\n",
    "responses = initialize_assignment(\"1_practice_midterm_q\", \"week_6\", \"PracticeMidterm\", assignment_points = 86.0, assignment_tag = 'week6-PracticeMidterm')\n",
    "\n",
    "# Initialize Otter\n",
    "import otter\n",
    "grader = otter.Notebook(\"1_practice_midterm_q.ipynb\")"
   ]
  },
  {
   "cell_type": "markdown",
   "id": "1",
   "metadata": {
    "deletable": false,
    "editable": false
   },
   "source": [
    "# ❓ ENGR131: Introduction to Programming for Engineers\n",
    "## Practice Midterm Exam\n",
    "\n",
    "The practice midterm is designed to help you prepare for the actual midterm exam. It is designed to be similar in format and difficulty to the actual exam. The practice exam is graded and counts as 10% bonus points towards your  midterm exam grade."
   ]
  },
  {
   "cell_type": "markdown",
   "id": "2",
   "metadata": {
    "deletable": false,
    "editable": false
   },
   "source": [
    "For the multiple choice questions it is expected that you have access to a python interpreter. Do not go at it alone, use the resources available to you to help you answer the questions. Without the interpreter some of the questions may be difficult to answer."
   ]
  },
  {
   "cell_type": "code",
   "execution_count": null,
   "id": "3",
   "metadata": {
    "tags": [
     "skip-execution"
    ]
   },
   "outputs": [],
   "source": [
    "# Run this block of code by pressing Shift + Enter to display the question\n",
    "from questions._1_practice_midterm_q import Question1\n",
    "Question1().show()\n"
   ]
  },
  {
   "cell_type": "code",
   "execution_count": null,
   "id": "4",
   "metadata": {
    "tags": [
     "skip-execution"
    ]
   },
   "outputs": [],
   "source": [
    "# Run this block of code by pressing Shift + Enter to display the question\n",
    "from questions._1_practice_midterm_q import Question2\n",
    "Question2().show()\n"
   ]
  },
  {
   "cell_type": "code",
   "execution_count": null,
   "id": "5",
   "metadata": {
    "tags": [
     "skip-execution"
    ]
   },
   "outputs": [],
   "source": [
    "# Run this block of code by pressing Shift + Enter to display the question\n",
    "from questions._1_practice_midterm_q import Question3\n",
    "Question3().show()\n"
   ]
  },
  {
   "cell_type": "markdown",
   "id": "6",
   "metadata": {
    "deletable": false,
    "editable": false
   },
   "source": [
    "## Engineering Component Tracker: Loops, Continue, Break, Dictionaries, and Lists\n",
    "\n",
    "### Instructions:\n",
    "You are managing the assembly of a robotic arm. Each component of the arm is represented as a dictionary, where the keys are component IDs (e.g., \"A1\") and the values are dictionaries containing component details. Your task is to write a function `process_components()` that processes a list of components using loops, `continue`, and `break`. The task involves multiple steps that can be graded individually.\n",
    "\n",
    "## Engineering Component Tracker: Loops, Continue, Break, Dictionaries, and Lists\n",
    "\n",
    "### Instructions:\n",
    "You are managing the assembly of a robotic arm. Each component of the arm is represented as a dictionary, where the keys are component IDs (e.g., \"A1\") and the values are dictionaries containing component details. Your task is to write a function `process_components()` that processes a list of components using loops, `continue`, and `break`. The task involves multiple steps that can be graded individually.\n",
    " \n",
    " ### Requirements:\n",
    " 1. **Input:** The function receives a list of dictionaries, each representing a component:\n",
    " \n",
    "            | id  | status | weight |\n",
    "            |-----|--------|--------|\n",
    "            | A1  | ok     | 3.5    |\n",
    "            | B2  | ok     | 2.0    |\n",
    "            | C3  | error  | 4.1    |\n",
    "            | D4  | ok     | 1.2    |\n",
    " 2. **Part 1:** Count the components with status \"ok\" using a loop and return the count.\n",
    " 3. **Part 2:** Skip components with status \"error\", and create a list of IDs for valid components.\n",
    " 4. **Part 3:** If a component's weight exceeds 4.0, break the loop and return \"Overweight component detected!\".\n",
    " 5. **Part 4:** Return a dictionary summarizing the count of \"ok\" components, the valid IDs list, and the break message (if triggered).\n",
    " \n",
    " ### Helpful Information:\n",
    " - Use a loop to iterate through the `components` list.\n",
    " - Use `continue` to skip certain iterations based on a condition.\n",
    " - Use `break` to exit the loop early when another condition is met.\n",
    " - Remember that you can access dictionary values using the syntax `dictionary[key]`.\n",
    " - Example methods:\n",
    "   - `append`: Add an element to a list.\n",
    "\n",
    "We provide detailed inline instructions for each part of the task. Please read the instructions carefully and complete each part accordingly."
   ]
  },
  {
   "cell_type": "code",
   "execution_count": null,
   "id": "7",
   "metadata": {
    "tags": [
     "skip-execution"
    ]
   },
   "outputs": [],
   "source": [
    "# define a function `process_components` that takes a dictionary of components as input\n",
    "...\n",
    "    \n",
    "    # Initialize variables\n",
    "    # create a variable `ok_count` and set it to 0\n",
    "    # create a variable `valid_ids` and set it to an empty list\n",
    "    # create a variable `break_message` and set it to None\n",
    "    ...\n",
    "\n",
    "    # Loop through components\n",
    "    ...\n",
    "    \n",
    "        # Part 3: Check for overweight components\n",
    "        # if the component's weight is greater than 4.0, set `break_message` to \"Overweight component detected!\" and break the loop\n",
    "        ...\n",
    "        \n",
    "        # Part 2: Skip components with status \"error\"\n",
    "        # if the component's status is \"error\", continue to the next iteration\n",
    "        ...\n",
    "\n",
    "        # Part 1: Count components with status \"ok\"\n",
    "        # if the component's status is \"ok\", increment `ok_count` by 1 and append the component's id to `valid_ids`\n",
    "        ...\n",
    "        \n",
    "    # Part 4: Return the results as a dictionary\n",
    "    # return a dictionary with keys \"ok_count\", \"valid_ids\", and \"break_message\" and their corresponding values\n",
    "    ...\n",
    "\n",
    "# Example usage\n",
    "# write the component dictionary based on the table provided\n",
    "...\n",
    "\n",
    "# Call the function with the components dictionary and store the result in a variable `result`\n",
    "# You can print the results function to check if it's working correctly\n",
    "...\n"
   ]
  },
  {
   "cell_type": "code",
   "execution_count": null,
   "id": "8",
   "metadata": {
    "deletable": false,
    "editable": false,
    "tags": [
     "skip-execution"
    ]
   },
   "outputs": [],
   "source": [
    "grader.check(\"loops-and-dictionaries-engineering\")"
   ]
  },
  {
   "cell_type": "markdown",
   "id": "9",
   "metadata": {},
   "source": [
    "## Submitting Assignment\n",
    "\n",
    "Please run the following block of code using `shift + enter` to submit your assignment, you should see your score."
   ]
  },
  {
   "cell_type": "code",
   "execution_count": null,
   "id": "10",
   "metadata": {
    "deletable": false,
    "editable": false,
    "tags": [
     "skip-execution"
    ]
   },
   "outputs": [],
   "source": [
    "from pykubegrader.submit.submit_assignment import submit_assignment\n",
    "\n",
    "submit_assignment(\"week6-PracticeMidterm\", \"1_practice_midterm_q\")"
   ]
  }
 ],
 "metadata": {
  "kernelspec": {
   "display_name": "engr131_dev",
   "language": "python",
   "name": "python3"
  },
  "language_info": {
   "codemirror_mode": {
    "name": "ipython",
    "version": 3
   },
   "file_extension": ".py",
   "mimetype": "text/x-python",
   "name": "python",
   "nbconvert_exporter": "python",
   "pygments_lexer": "ipython3",
   "version": "3.12.7"
  },
  "otter": {
   "OK_FORMAT": true,
   "tests": {
    "loops-and-dictionaries-engineering": {
     "name": "loops-and-dictionaries-engineering",
     "points": null,
     "suites": [
      {
       "cases": [
        {
         "code": ">>> from pykubegrader.telemetry import ensure_responses, log_variable, score_question, submit_question, telemetry, update_responses\n>>> import os\n>>> import base64\n>>> max_question_points = str(22.0)\n>>> earned_points = 0\n>>> os.environ['EARNED_POINTS'] = str(earned_points)\n>>> os.environ['TOTAL_POINTS_FREE_RESPONSE'] = str(22.0)\n>>> log_variable('total-points', f'Reading-Week-X, 1_practice_midterm_q', 22.0)\n>>> question_id = 'loops-and-dictionaries-engineering-1'\n>>> max_score = 1.0\n>>> score = 0\n>>> function_exists = callable(process_components)\n>>> assert function_exists, 'The function `process_components` must be defined and callable.'\n>>> if (function_exists, 'The function `process_components` must be defined and callable.'):\n...     score = 1.0\n>>> earned_points = float(os.environ.get('EARNED_POINTS', 0))\n>>> earned_points += score\n>>> log_variable('1_practice_midterm_q', f'{score}, {max_score}', question_id)\n>>> os.environ['EARNED_POINTS'] = str(earned_points)\n>>> responses = update_responses(question_id, str(function_exists))\n",
         "failure_message": "Failed: The function `process_components` is not defined correctly.",
         "hidden": false,
         "locked": false,
         "points": 1,
         "success_message": "Success: The function `process_components` exists and is callable!"
        },
        {
         "code": ">>> from pykubegrader.telemetry import ensure_responses, log_variable, score_question, submit_question, telemetry, update_responses\n>>> import os\n>>> import base64\n>>> import inspect\n>>> import re\n>>> question_id = 'loops-and-dictionaries-engineering-2'\n>>> max_score = 2.0\n>>> score = 0\n>>> code = inspect.getsource(process_components)\n>>> ok_count_init = re.search('ok_count\\\\s*=\\\\s*0', code)\n>>> valid_ids_init = re.search('valid_ids\\\\s*=\\\\s*\\\\[\\\\]', code)\n>>> break_message_init = re.search('break_message\\\\s*=\\\\s*None', code)\n>>> initial_values = all([ok_count_init, valid_ids_init, break_message_init])\n>>> assert initial_values, 'Expected variables `ok_count = 0`, `valid_ids = []`, and `break_message = None` in the function.'\n>>> if (initial_values, 'Expected variables `ok_count = 0`, `valid_ids = []`, and `break_message = None` in the function.'):\n...     score = 2.0\n>>> earned_points = float(os.environ.get('EARNED_POINTS', 0))\n>>> earned_points += score\n>>> log_variable('1_practice_midterm_q', f'{score}, {max_score}', question_id)\n>>> os.environ['EARNED_POINTS'] = str(earned_points)\n>>> responses = update_responses(question_id, str(initial_values))\n",
         "failure_message": "Failed: One or more of `ok_count`, `valid_ids`, or `break_message` are not initialized properly.",
         "hidden": false,
         "locked": false,
         "points": 2,
         "success_message": "Success: `ok_count`, `valid_ids`, and `break_message` are initialized correctly!"
        },
        {
         "code": ">>> from pykubegrader.telemetry import ensure_responses, log_variable, score_question, submit_question, telemetry, update_responses\n>>> import os\n>>> import base64\n>>> import re\n>>> import inspect\n>>> question_id = 'loops-and-dictionaries-engineering-3'\n>>> max_score = 2.0\n>>> score = 0\n>>> code = inspect.getsource(process_components)\n>>> loop_check = re.search(\"\\n    for\\\\s+          # 'for' keyword followed by one or more spaces\\n    component\\\\s+    # 'component' variable followed by one or more spaces\\n    in\\\\s+           # 'in' keyword followed by one or more spaces\\n    components\\\\s*   # 'components' variable followed by zero or more spaces\\n    :               # colon\\n    \", code, re.IGNORECASE | re.VERBOSE)\n>>> assert loop_check, 'Expected a loop with `for component in components:` to iterate over the dictionary.'\n>>> if (loop_check, 'Expected a loop with `for component in components:` to iterate over the dictionary.'):\n...     score = 2.0\n>>> earned_points = float(os.environ.get('EARNED_POINTS', 0))\n>>> earned_points += score\n>>> log_variable('1_practice_midterm_q', f'{score}, {max_score}', question_id)\n>>> os.environ['EARNED_POINTS'] = str(earned_points)\n",
         "failure_message": "Failed: The function does not correctly iterate over `components`.",
         "hidden": false,
         "locked": false,
         "points": 2,
         "success_message": "Success: The function iterates over `components` correctly!"
        },
        {
         "code": ">>> from pykubegrader.telemetry import ensure_responses, log_variable, score_question, submit_question, telemetry, update_responses\n>>> import os\n>>> import base64\n>>> question_id = 'loops-and-dictionaries-engineering-4'\n>>> max_score = 3.0\n>>> score = 0\n>>> test_components = [{'id': 'X1', 'status': 'ok', 'weight': 3.0}, {'id': 'X2', 'status': 'ok', 'weight': 5.1}, {'id': 'X3', 'status': 'ok', 'weight': 2.5}]\n>>> result = process_components(test_components)\n>>> expected_break_message = 'Overweight component detected!'\n>>> break_message = result['break_message']\n>>> assert break_message == expected_break_message, f\"Expected `break_message` to be '{expected_break_message}', but got '{break_message}'.\"\n>>> if (break_message == expected_break_message, f\"Expected `break_message` to be '{expected_break_message}', but got '{break_message}'.\"):\n...     score = 3.0\n>>> earned_points = float(os.environ.get('EARNED_POINTS', 0))\n>>> earned_points += score\n>>> log_variable('1_practice_midterm_q', f'{score}, {max_score}', question_id)\n>>> os.environ['EARNED_POINTS'] = str(earned_points)\n>>> responses = update_responses(question_id, str(break_message))\n",
         "failure_message": "Failed: Overweight components are not handled correctly.",
         "hidden": false,
         "locked": false,
         "points": 3,
         "success_message": "Success: The function correctly detects overweight components and stops processing!"
        },
        {
         "code": ">>> from pykubegrader.telemetry import ensure_responses, log_variable, score_question, submit_question, telemetry, update_responses\n>>> import os\n>>> import base64\n>>> question_id = 'loops-and-dictionaries-engineering-5'\n>>> max_score = 3.0\n>>> score = 0\n>>> test_components = [{'id': 'Y1', 'status': 'ok', 'weight': 2.0}, {'id': 'Y2', 'status': 'error', 'weight': 3.0}, {'id': 'Y3', 'status': 'ok', 'weight': 1.5}]\n>>> result = process_components(test_components)\n>>> expected_ok_count = 2\n>>> expected_valid_ids = ['Y1', 'Y3']\n>>> ok_count = result['ok_count']\n>>> valid_ids = result['valid_ids']\n>>> assert result['ok_count'] == expected_ok_count, f'Expected `ok_count` to be {expected_ok_count}, but got {result['ok_count']}.'\n>>> assert result['valid_ids'] == expected_valid_ids, f'Expected `valid_ids` to be {expected_valid_ids}, but got {result['valid_ids']}.'\n>>> if (result['ok_count'] == expected_ok_count, f'Expected `ok_count` to be {expected_ok_count}, but got {result['ok_count']}.') and (result['valid_ids'] == expected_valid_ids, f'Expected `valid_ids` to be {expected_valid_ids}, but got {result['valid_ids']}.'):\n...     score = 3.0\n>>> earned_points = float(os.environ.get('EARNED_POINTS', 0))\n>>> earned_points += score\n>>> log_variable('1_practice_midterm_q', f'{score}, {max_score}', question_id)\n>>> os.environ['EARNED_POINTS'] = str(earned_points)\n>>> responses = update_responses(question_id, str(ok_count))\n>>> responses = update_responses(question_id, str(valid_ids))\n",
         "failure_message": "Failed: The function does not skip `error` components correctly.",
         "hidden": false,
         "locked": false,
         "points": 3,
         "success_message": "Success: The function correctly skips components with `status='error'`!"
        },
        {
         "code": ">>> from pykubegrader.telemetry import ensure_responses, log_variable, score_question, submit_question, telemetry, update_responses\n>>> import os\n>>> import base64\n>>> question_id = 'loops-and-dictionaries-engineering-6'\n>>> max_score = 3.0\n>>> score = 0\n>>> test_components = [{'id': 'Z1', 'status': 'ok', 'weight': 2.5}, {'id': 'Z2', 'status': 'ok', 'weight': 3.8}, {'id': 'Z3', 'status': 'ok', 'weight': 2.1}]\n>>> result = process_components(test_components)\n>>> expected_ok_count = 3\n>>> expected_valid_ids = ['Z1', 'Z2', 'Z3']\n>>> ok_count = result['ok_count']\n>>> valid_ids = result['valid_ids']\n>>> assert result['ok_count'] == expected_ok_count, f'Expected `ok_count` to be {expected_ok_count}, but got {result['ok_count']}.'\n>>> assert result['valid_ids'] == expected_valid_ids, f'Expected `valid_ids` to be {expected_valid_ids}, but got {result['valid_ids']}.'\n>>> if (result['ok_count'] == expected_ok_count, f'Expected `ok_count` to be {expected_ok_count}, but got {result['ok_count']}.') and (result['valid_ids'] == expected_valid_ids, f'Expected `valid_ids` to be {expected_valid_ids}, but got {result['valid_ids']}.'):\n...     score = 3.0\n>>> earned_points = float(os.environ.get('EARNED_POINTS', 0))\n>>> earned_points += score\n>>> log_variable('1_practice_midterm_q', f'{score}, {max_score}', question_id)\n>>> os.environ['EARNED_POINTS'] = str(earned_points)\n>>> responses = update_responses(question_id, str(ok_count))\n>>> responses = update_responses(question_id, str(valid_ids))\n",
         "failure_message": "Failed: The function does not correctly count `ok` components or append their IDs.",
         "hidden": false,
         "locked": false,
         "points": 3,
         "success_message": "Success: The function correctly counts `ok` components and stores their IDs!"
        },
        {
         "code": ">>> from pykubegrader.telemetry import ensure_responses, log_variable, score_question, submit_question, telemetry, update_responses\n>>> import os\n>>> import base64\n>>> question_id = 'loops-and-dictionaries-engineering-7'\n>>> max_score = 2.0\n>>> score = 0\n>>> test_components = [{'id': 'A1', 'status': 'ok', 'weight': 2.0}]\n>>> result = process_components(test_components)\n>>> expected_keys = {'ok_count', 'valid_ids', 'break_message'}\n>>> result_keys = set(result.keys())\n>>> assert result_keys == expected_keys, f'Expected keys {expected_keys}, but got {result_keys}.'\n>>> if (result_keys == expected_keys, f'Expected keys {expected_keys}, but got {result_keys}.'):\n...     score = 2.0\n>>> earned_points = float(os.environ.get('EARNED_POINTS', 0))\n>>> earned_points += score\n>>> log_variable('1_practice_midterm_q', f'{score}, {max_score}', question_id)\n>>> os.environ['EARNED_POINTS'] = str(earned_points)\n>>> responses = update_responses(question_id, str(result_keys))\n",
         "failure_message": "Failed: The function does not return a dictionary with the expected keys.",
         "hidden": false,
         "locked": false,
         "points": 2,
         "success_message": "Success: The function returns a correctly structured dictionary!"
        },
        {
         "code": ">>> from pykubegrader.telemetry import ensure_responses, log_variable, score_question, submit_question, telemetry, update_responses\n>>> import os\n>>> import base64\n>>> question_id = 'loops-and-dictionaries-engineering-8'\n>>> max_score = 2.0\n>>> score = 0\n>>> test_components = []\n>>> result = process_components(test_components)\n>>> ok_count = result['ok_count']\n>>> valid_ids = result['valid_ids']\n>>> expected_result = {'ok_count': 0, 'valid_ids': [], 'break_message': None}\n>>> assert result == expected_result, f'Expected result {expected_result}, but got {result}.'\n>>> if (result == expected_result, f'Expected result {expected_result}, but got {result}.'):\n...     score = 2.0\n>>> earned_points = float(os.environ.get('EARNED_POINTS', 0))\n>>> earned_points += score\n>>> log_variable('1_practice_midterm_q', f'{score}, {max_score}', question_id)\n>>> os.environ['EARNED_POINTS'] = str(earned_points)\n>>> responses = update_responses(question_id, str(result))\n",
         "failure_message": "Failed: The function does not handle an empty list correctly.",
         "hidden": false,
         "locked": false,
         "points": 2,
         "success_message": "Success: The function correctly handles an empty components list!"
        },
        {
         "code": ">>> from pykubegrader.telemetry import ensure_responses, log_variable, score_question, submit_question, telemetry, update_responses\n>>> import os\n>>> import base64\n>>> question_id = 'loops-and-dictionaries-engineering-9'\n>>> max_score = 2.0\n>>> score = 0\n>>> test_components = [{'id': 'DUP1', 'status': 'ok', 'weight': 2.0}, {'id': 'DUP1', 'status': 'ok', 'weight': 3.0}, {'id': 'DUP2', 'status': 'ok', 'weight': 1.5}]\n>>> result = process_components(test_components)\n>>> valid_ids = result['valid_ids']\n>>> exec(base64.b64decode('ZXhwZWN0ZWRfdmFsaWRfaWRzID0gWyJEVVAxIiwgIkRVUDEiLCAiRFVQMiJdICAjIElEcyBzaG91bGQgYmUgYXBwZW5kZWQgYXMgdGhleSBhcHBlYXI=').decode())\n>>> assert result['valid_ids'] == expected_valid_ids, f'Expected `valid_ids` to be {expected_valid_ids}, but got {result['valid_ids']}.'\n>>> if (result['valid_ids'] == expected_valid_ids, f'Expected `valid_ids` to be {expected_valid_ids}, but got {result['valid_ids']}.'):\n...     score = 2.0\n>>> earned_points = float(os.environ.get('EARNED_POINTS', 0))\n>>> earned_points += score\n>>> log_variable('1_practice_midterm_q', f'{score}, {max_score}', question_id)\n>>> os.environ['EARNED_POINTS'] = str(earned_points)\n>>> responses = update_responses(question_id, str(valid_ids))\n",
         "failure_message": "Failed: The function does not handle duplicate component IDs correctly.",
         "hidden": false,
         "locked": false,
         "points": 2,
         "success_message": "Success: The function correctly processes duplicate component IDs!"
        },
        {
         "code": ">>> from pykubegrader.telemetry import ensure_responses, log_variable, score_question, submit_question, telemetry, update_responses\n>>> import os\n>>> import base64\n>>> question_id = 'loops-and-dictionaries-engineering-10'\n>>> max_score = 2.0\n>>> score = 0\n>>> test_components = [{'id': 'W1', 'status': 'ok', 'weight': 4.0}, {'id': 'W2', 'status': 'ok', 'weight': 3.9}]\n>>> result = process_components(test_components)\n>>> ok_count = result['ok_count']\n>>> valid_ids = result['valid_ids']\n>>> expected_ok_count = 2\n>>> expected_valid_ids = ['W1', 'W2']\n>>> assert result['ok_count'] == expected_ok_count, f'Expected `ok_count` to be {expected_ok_count}, but got {result['ok_count']}.'\n>>> assert result['valid_ids'] == expected_valid_ids, f'Expected `valid_ids` to be {expected_valid_ids}, but got {result['valid_ids']}.'\n>>> if (result['ok_count'] == expected_ok_count, f'Expected `ok_count` to be {expected_ok_count}, but got {result['ok_count']}.') and (result['valid_ids'] == expected_valid_ids, f'Expected `valid_ids` to be {expected_valid_ids}, but got {result['valid_ids']}.'):\n...     score = 2.0\n>>> earned_points = float(os.environ.get('EARNED_POINTS', 0))\n>>> earned_points += score\n>>> log_variable('1_practice_midterm_q', f'{score}, {max_score}', question_id)\n>>> os.environ['EARNED_POINTS'] = str(earned_points)\n>>> responses = update_responses(question_id, str(ok_count))\n>>> responses = update_responses(question_id, str(valid_ids))\n",
         "failure_message": "Failed: The function incorrectly excludes components at exactly 4.0 weight.",
         "hidden": false,
         "locked": false,
         "points": 2,
         "success_message": "Success: The function correctly allows components at the weight limit!"
        }
       ],
       "scored": true,
       "setup": "",
       "teardown": "",
       "type": "doctest"
      }
     ]
    }
   }
  }
 },
 "nbformat": 4,
 "nbformat_minor": 5
}
