{
 "cells": [
  {
   "cell_type": "code",
   "execution_count": null,
   "metadata": {
    "deletable": false,
    "editable": false,
    "tags": [
     "skip-execution"
    ]
   },
   "outputs": [],
   "source": [
    "# You must make sure to run all cells in sequence using shift + enter or you might encounter errors\n",
    "from pykubegrader.initialize import initialize_assignment\n",
    "\n",
    "responses = initialize_assignment(\"1_star_wars_q\", \"week_6\", \"homework\", assignment_points = 57.0, assignment_tag = 'week6-homework')\n",
    "\n",
    "# Initialize Otter\n",
    "import otter\n",
    "grader = otter.Notebook(\"1_star_wars_q.ipynb\")"
   ]
  },
  {
   "cell_type": "markdown",
   "metadata": {
    "deletable": false,
    "editable": false
   },
   "source": [
    "# 🏠 🚀 Homework: Build Your Own *Star Wars* Title Scene! 🌌  \n",
    "\n",
    "![](./assets/figures/star-wars.webp)\n",
    "\n",
    "## A Long Time Ago in a Codebase Far, Far Away...  \n",
    "\n",
    "Young Padawan, your mission—should you choose to accept it—is to recreate the legendary *Star Wars* opening crawl using modular programming! 🛠️✨  \n",
    "\n",
    "The Force of good software design is strong with modularity. Instead of cramming everything into one giant function (which leads to the Dark Side of spaghetti code 🍝), you will break the project into reusable, well-structured modules.  \n",
    "\n",
    "## Your Mission 📜  \n",
    "You will write a Python program that simulates the classic *Star Wars* title crawl, complete with:  \n",
    "1. A dramatic opening text: “A long time ago in a galaxy far, far away....”  \n",
    "2. A scrolling title logo: Display the iconic *STAR WARS* text in a large, cinematic font.  \n",
    "3. A scrolling movie crawl: The famous block of floating text that recedes into the starry void.  \n",
    "\n",
    "### The Jedi Way (Modular Programming) 🧑‍🚀⚔️  \n",
    "\n",
    "To master modularity, your code should be divided into clear functions/modules. Any good Jedi knows to formulate their plan before diving into battle! 🤺\n",
    "\n",
    "Here we provide you the pseudocode and a flow chart to guide you in your quest. We will walk you through the steps to complete the assignment."
   ]
  },
  {
   "cell_type": "markdown",
   "metadata": {
    "deletable": false,
    "editable": false
   },
   "source": [
    "## Pseudo Code\n",
    "\n",
    "1. Load configuration parameters\n",
    "2. Read multiple stories from a file, using a delimiter to separate them\n",
    "3. Choose a random story\n",
    "4. Parse markdown text and format it into line-wrapped, clean text\n",
    "5. Create a video writer instance for output\n",
    "6. Render a fade-in text intro sequence\n",
    "7. Generate the scrolling text animation using a perspective transform\n",
    "8. Save the final video output"
   ]
  },
  {
   "cell_type": "markdown",
   "metadata": {
    "deletable": false,
    "editable": false
   },
   "source": [
    "```mermaid\n",
    "graph TD;\n",
    "    A[Start] --> B[Load Configuration]\n",
    "    B --> C[Read Multiple Stories]\n",
    "    C --> D[Choose Random Story]\n",
    "    D --> E[Parse Markdown & Wrap Lines]\n",
    "    E --> F[Create Video Writer]\n",
    "    F --> G[Render Fade-in Intro Sequence]\n",
    "    G --> H[Generate Scrolling Text Animation]\n",
    "    H --> I[Apply Perspective Transform]\n",
    "    I --> J[Save & Release Video]\n",
    "    J --> K[End]\n",
    "```"
   ]
  },
  {
   "cell_type": "markdown",
   "metadata": {
    "deletable": false,
    "editable": false
   },
   "source": [
    "## Question 1 (Points: 2.0): 📜 Required Imports for the *Star Wars* Title Scene 🌌  \n",
    "\n",
    "### 1️⃣ Add These Imports to Your Script\n",
    "At the beginning of your script, import the following libraries:  \n",
    "\n",
    "- Computer Vision: Use OpenCV to handle images and animations.  \n",
    "- Numerical Operations: Use NumPy for mathematical operations and transformations.  \n",
    "- Randomization: Use the `random` module to generate dynamic effects.  \n",
    "- Regular Expressions: Use the `re` module for text manipulation and pattern matching.  \n",
    "- Type Hinting: Use `List`, `Dict`, and `Any` from the `typing` module to define function input and output types.  \n",
    "\n",
    "### 2️⃣ Best Practices\n",
    "- Keep all imports at the top of your script.  \n",
    "- Use aliases when necessary to improve readability.  \n",
    "- Only import what is required to maintain a clean and efficient code structure.  \n",
    "\n",
    "🚀 Next Step: Implement modular functions for your title sequence!  \n"
   ]
  },
  {
   "cell_type": "code",
   "execution_count": null,
   "metadata": {
    "tags": [
     "skip-execution"
    ]
   },
   "outputs": [],
   "source": [
    "# Import openCV -- cv2\n",
    "...\n",
    "\n",
    "# import numpy, random, re, and from typing: List, Dict, Any\n",
    "..."
   ]
  },
  {
   "cell_type": "code",
   "execution_count": null,
   "metadata": {
    "deletable": false,
    "editable": false,
    "tags": [
     "skip-execution"
    ]
   },
   "outputs": [],
   "source": [
    "grader.check(\"star-wars-import-statements\")"
   ]
  },
  {
   "cell_type": "markdown",
   "metadata": {
    "deletable": false,
    "editable": false
   },
   "source": [
    "## Question 2 (Points: 11.0): 📜 Configuration Table for *Star Wars* Title Scene  \n",
    "\n",
    "To customize the title crawl, use the following configuration parameters. The table below lists the default values and their descriptions.\n",
    "\n",
    "| Parameter        | Default Value         | Description |\n",
    "|-----------------|----------------------|-------------|\n",
    "| `output_path`   | `\"star_wars_crawl.avi\"` | Output file name for the rendered video. |\n",
    "| `frame_width`   | `1280`                | Width of the video frame in pixels. |\n",
    "| `frame_height`  | `720`                 | Height of the video frame in pixels. |\n",
    "| `fps`           | `30.0`                | Frames per second for smooth playback. |\n",
    "| `codec`         | `\"XVID\"`              | Video codec used for encoding. |\n",
    "| `delimiter`     | `\"---\"`               | Separator for text blocks in the crawl. |\n",
    "| `max_line_length` | `60`               | Maximum characters per line before wrapping. |\n",
    "| `scroll_time`   | `20.0`                | Time in seconds for the crawl to complete. |\n",
    "| `tilt_factor`   | `0.7`                 | Perspective tilt applied to the scrolling text. |\n",
    "| `fade_frames`   | `30`                  | Number of frames for fade-in/out effects. |\n",
    "| `hold_frames`   | `30`                  | Number of frames the opening text is held before fading. |\n",
    "\n",
    "🔹 Modifying Values: Adjust these parameters to fine-tune the animation speed, resolution, and text behavior.  \n",
    "🔹 Usage: This configuration dictionary is used to control how the title crawl is rendered in the script.  "
   ]
  },
  {
   "cell_type": "code",
   "execution_count": null,
   "metadata": {
    "tags": [
     "skip-execution"
    ]
   },
   "outputs": [],
   "source": [
    "# Define the dictionary `CONFIG` with key value pairs based on the markdown table:\n",
    "..."
   ]
  },
  {
   "cell_type": "code",
   "execution_count": null,
   "metadata": {
    "deletable": false,
    "editable": false,
    "tags": [
     "skip-execution"
    ]
   },
   "outputs": [],
   "source": [
    "grader.check(\"initial-configuration\")"
   ]
  },
  {
   "cell_type": "markdown",
   "metadata": {
    "deletable": false,
    "editable": false
   },
   "source": [
    "## Question 3 (Points: 3.0):  Reading a Story from a File 📖\n",
    "\n",
    "We will provide the first function for you. This function reads multiple stories from a file and returns them as a list of strings.  \n",
    "\n",
    "This function returns a list of stories, each separated by a delimiter. You can use this function to load different stories for your title crawl.  \n",
    "\n",
    "We read files in Python using the `open()` function. The `with` statement ensures the file is properly closed after reading.\n",
    "\n",
    "```python\n",
    "with open(\"filepath\",\"r\") as file:\n",
    "    variable = file.operation\n",
    "```"
   ]
  },
  {
   "cell_type": "code",
   "execution_count": null,
   "metadata": {
    "deletable": false,
    "editable": false,
    "tags": [
     "skip-execution"
    ]
   },
   "outputs": [],
   "source": [
    "def read_multiple_stories(file_path: str, delimiter: str = \"---\") -> List[str]:\n",
    "    with open(file_path, \"r\", encoding=\"utf-8\") as f:\n",
    "        raw_content = f.read()\n",
    "    return [chunk.strip() for chunk in raw_content.split(delimiter) if chunk.strip()]"
   ]
  },
  {
   "cell_type": "markdown",
   "metadata": {
    "deletable": false,
    "editable": false
   },
   "source": [
    "## 📜 Writing a Function to Choose a Random Story  \n",
    "\n",
    "### 1️⃣ Function Purpose\n",
    "This function randomly selects a story from a given list. If the list is empty, it returns a default message.\n",
    "\n",
    "### 2️⃣ Steps to Implement\n",
    "1. Check if the list contains stories  \n",
    "   - If the list is not empty, proceed to selection.  \n",
    "   - If it is empty, return `\"No stories found!\"`.  \n",
    "\n",
    "2. Select a random story  \n",
    "   - Use the `random.choice()` function to pick a story from the list.  \n",
    "\n",
    "3. Return the selected story  \n",
    "   - If the list contains stories, return the chosen one.  \n",
    "   - If the list is empty, return the default message.  \n",
    "\n",
    "### 3️⃣ Parameters\n",
    "- `stories` (List[str]): A list containing multiple story strings.  \n",
    "\n",
    "### 4️⃣ Return Value\n",
    "- A randomly selected story (str).  \n",
    "- `\"No stories found!\"` if the list is empty.  "
   ]
  },
  {
   "cell_type": "code",
   "execution_count": null,
   "metadata": {
    "tags": [
     "skip-execution"
    ]
   },
   "outputs": [],
   "source": [
    "# write the function `choose_random_story` that takes a list of stories and returns a random story\n",
    "..."
   ]
  },
  {
   "cell_type": "code",
   "execution_count": null,
   "metadata": {
    "deletable": false,
    "editable": false,
    "tags": [
     "skip-execution"
    ]
   },
   "outputs": [],
   "source": [
    "grader.check(\"File-IO\")"
   ]
  },
  {
   "cell_type": "markdown",
   "metadata": {
    "deletable": false,
    "editable": false
   },
   "source": [
    "## Text Parsing and Formatting 📝\n",
    "\n",
    "### 1️⃣ Function Purpose\n",
    "\n",
    "Generally speaking it is important you can read and parse data in their raw form into Python. This code can get messy because of the formatting of the text. This function will parse the markdown text and wrap the lines to fit the screen width."
   ]
  },
  {
   "cell_type": "code",
   "execution_count": null,
   "metadata": {
    "tags": [
     "skip-execution"
    ]
   },
   "outputs": [],
   "source": [
    "def parse_markdown(story_chunk: str, max_line_length: int = 60) -> List[str]:\n",
    "    cleaned = re.sub(r\"[`*?]\", \"\", story_chunk)  # Remove markdown markers\n",
    "    raw_lines = cleaned.splitlines()\n",
    "    heading_regex = re.compile(r\"^\\s*#+\\s*(.*)$\")\n",
    "    text_lines = []\n",
    "\n",
    "    for line in raw_lines:\n",
    "        line_str = line.strip()\n",
    "        if not line_str:\n",
    "            text_lines.append(\"\")\n",
    "            continue\n",
    "        match = heading_regex.match(line_str)\n",
    "        if match:\n",
    "            text_lines.append(match.group(1).upper())\n",
    "        else:\n",
    "            text_lines.extend(word_wrap(line_str, max_line_length))\n",
    "\n",
    "    return text_lines\n",
    "\n",
    "\n",
    "def word_wrap(text: str, max_len: int) -> List[str]:\n",
    "    words, lines, current_line = text.split(), [], []\n",
    "    for word in words:\n",
    "        if len(\" \".join(current_line + [word])) <= max_len:\n",
    "            current_line.append(word)\n",
    "        else:\n",
    "            lines.append(\" \".join(current_line))\n",
    "            current_line = [word]\n",
    "    if current_line:\n",
    "        lines.append(\" \".join(current_line))\n",
    "    return lines"
   ]
  },
  {
   "cell_type": "code",
   "execution_count": null,
   "metadata": {
    "deletable": false,
    "editable": false,
    "tags": [
     "skip-execution"
    ]
   },
   "outputs": [],
   "source": [
    "grader.check(\"text-parsing-and-formatting\")"
   ]
  },
  {
   "cell_type": "markdown",
   "metadata": {
    "deletable": false,
    "editable": false
   },
   "source": [
    "## Question 4 (Points: 0.0): Helper Function to Create Video Writer 🎥\n",
    "\n",
    "You usually will want to develop a series of helper functions to help you with the main task. We provide you with a few helper functions to get you started.\n",
    "\n",
    "### Video Writer Function\n",
    "\n",
    "We provide you with a create_video_writer function that initializes the video writer object with the specified output path, frame width, height, and frames per second (fps). This function uses some advanced syntax to unpack the configuration dictionary and pass the values to the VideoWriter object."
   ]
  },
  {
   "cell_type": "code",
   "execution_count": null,
   "metadata": {
    "tags": [
     "skip-execution"
    ]
   },
   "outputs": [],
   "source": [
    "def create_video_writer(**kwargs) -> cv2.VideoWriter:\n",
    "    config = {**CONFIG, **kwargs}\n",
    "    fourcc = cv2.VideoWriter_fourcc(*config[\"codec\"])\n",
    "    return cv2.VideoWriter(\n",
    "        config[\"output_path\"],\n",
    "        fourcc,\n",
    "        config[\"fps\"],\n",
    "        (config[\"frame_width\"], config[\"frame_height\"]),\n",
    "    )"
   ]
  },
  {
   "cell_type": "code",
   "execution_count": null,
   "metadata": {
    "deletable": false,
    "editable": false,
    "tags": [
     "skip-execution"
    ]
   },
   "outputs": [],
   "source": [
    "grader.check(\"video-writer-function\")"
   ]
  },
  {
   "cell_type": "markdown",
   "metadata": {
    "deletable": false,
    "editable": false
   },
   "source": [
    "### Text Rendering Function\n",
    "\n",
    "If we have text and want to render it to a screen it is useful to have a rendering function. This function will provide the styling for the text and render it to the screen. We do something tricky here with the configuration dictionary. If kwarg is passed and it is in the configuration dictionary, it will use that value. If not, it will use the default value. Recall that the later values in the dictionary will overwrite the earlier values."
   ]
  },
  {
   "cell_type": "code",
   "execution_count": null,
   "metadata": {
    "tags": [
     "skip-execution"
    ]
   },
   "outputs": [],
   "source": [
    "def render_text(\n",
    "    frame: np.ndarray, text_lines: List[str], base_y: float, **kwargs\n",
    ") -> None:\n",
    "    \"\"\"\n",
    "    Renders multiple lines of text on a given frame.\n",
    "\n",
    "    Parameters:\n",
    "    - frame (np.ndarray): The image frame where text will be rendered.\n",
    "    - text_lines (List[str]): A list of text lines to display.\n",
    "    - base_y (float): The starting vertical position for text rendering.\n",
    "    - **kwargs: Additional configuration parameters (e.g., font_scale, color, font_thickness).\n",
    "\n",
    "    Returns:\n",
    "    - None: The function modifies the frame in-place.\n",
    "    \"\"\"\n",
    "\n",
    "    # Default configuration for text properties, overridden by kwargs if provided\n",
    "    config = {\"font_scale\": 1.0, \"font_thickness\": 2, \"color\": (0, 255, 255), **kwargs}\n",
    "\n",
    "    # Define the font type\n",
    "    font = cv2.FONT_HERSHEY_SIMPLEX\n",
    "\n",
    "    # Calculate the horizontal center position of the frame\n",
    "    x_center = frame.shape[1] // 2\n",
    "\n",
    "    # Loop through each text line and render it\n",
    "    for line in text_lines:\n",
    "        # Check if the line is a chapter/prologue title (should be bold)\n",
    "        is_bold = line.lower().startswith((\"chapter\", \"prologue\"))\n",
    "\n",
    "        # Adjust font scale and thickness for bold text\n",
    "        scale, thickness = (\n",
    "            (config[\"font_scale\"] * 1.5, config[\"font_thickness\"] + 2)  # Bold settings\n",
    "            if is_bold\n",
    "            else (config[\"font_scale\"], config[\"font_thickness\"])  # Default settings\n",
    "        )\n",
    "\n",
    "        # Calculate the text size for positioning\n",
    "        text_size, _ = cv2.getTextSize(line, font, scale, thickness)\n",
    "\n",
    "        # Compute x and y coordinates to center the text horizontally\n",
    "        x, y = x_center - (text_size[0] // 2), int(base_y)\n",
    "\n",
    "        # Render the text on the frame\n",
    "        cv2.putText(\n",
    "            frame, line, (x, y), font, scale, config[\"color\"], thickness, cv2.LINE_AA\n",
    "        )\n",
    "\n",
    "        # Move the base_y down for the next line, adding spacing\n",
    "        base_y += text_size[1] + 10  # Adding 10 pixels of spacing between lines"
   ]
  },
  {
   "cell_type": "code",
   "execution_count": null,
   "metadata": {
    "deletable": false,
    "editable": false,
    "tags": [
     "skip-execution"
    ]
   },
   "outputs": [],
   "source": [
    "grader.check(\"rendering-function\")"
   ]
  },
  {
   "cell_type": "markdown",
   "metadata": {
    "deletable": false,
    "editable": false
   },
   "source": [
    "### 📜 Applying a Perspective Transformation to the *Star Wars* Crawl  \n",
    "\n",
    "#### 1️⃣ Purpose of This Function  \n",
    "This function applies a perspective warp to the input frame, creating the illusion of the text receding into the distance, just like in the iconic *Star Wars* opening crawl.  \n",
    "\n",
    "#### 2️⃣ Steps to Implement  \n",
    "\n",
    "##### 📌 Step 1: Retrieve Frame Dimensions  \n",
    "- Extract the height (`h`) and width (`w`) of the frame.  \n",
    "\n",
    "##### 📌 Step 2: Define Source Points (`src`)  \n",
    "- Specify the four corners of the original frame:  \n",
    "  - Top-left (0, 0)  \n",
    "  - Top-right (w - 1, 0)  \n",
    "  - Bottom-left (0, h - 1)  \n",
    "  - Bottom-right (w - 1, h - 1)  \n",
    "\n",
    "##### 📌 Step 3: Define Destination Points (`dst`)  \n",
    "- Modify the top corners to create a tilted effect, controlled by `tilt_factor`:  \n",
    "  - Shift the top-left corner right by `tilt_factor * w / 2`.  \n",
    "  - Shift the top-right corner left by `tilt_factor * w / 2`.  \n",
    "  - Keep the bottom corners unchanged for the perspective effect.  \n",
    "\n",
    "##### 📌 Step 4: Compute Perspective Transformation Matrix  \n",
    "- Use `cv2.getPerspectiveTransform(src, dst)` to compute the transformation matrix.  \n",
    "\n",
    "##### 📌 Step 5: Apply Perspective Warp  \n",
    "- Use `cv2.warpPerspective()` to apply the transformation and return the modified frame.  \n",
    "\n",
    "#### 3️⃣ Parameters\n",
    "- `frame` (np.ndarray): The input image frame.  \n",
    "- `tilt_factor` (float, default `0.7`): Controls the amount of tilt applied to the text.  \n",
    "\n",
    "#### 4️⃣ Return Value\n",
    "- Returns a transformed frame (np.ndarray) with the perspective effect applied.  "
   ]
  },
  {
   "cell_type": "code",
   "execution_count": null,
   "metadata": {
    "tags": [
     "skip-execution"
    ]
   },
   "outputs": [],
   "source": [
    "# Write the apply_perspective function that applies a perspective transform to the input frame\n",
    "def apply_perspective(frame: np.ndarray, tilt_factor=0.7) -> np.ndarray:\n",
    "    h, w = frame.shape[:2]\n",
    "    src = np.float32([[0, 0], [w - 1, 0], [0, h - 1], [w - 1, h - 1]])\n",
    "    dst = np.float32(\n",
    "        [\n",
    "            [int(tilt_factor * w / 2), 0],\n",
    "            [w - 1 - int(tilt_factor * w / 2), 0],\n",
    "            [0, h - 1],\n",
    "            [w - 1, h - 1],\n",
    "        ]\n",
    "    )\n",
    "    return cv2.warpPerspective(frame, cv2.getPerspectiveTransform(src, dst), (w, h))"
   ]
  },
  {
   "cell_type": "code",
   "execution_count": null,
   "metadata": {
    "deletable": false,
    "editable": false,
    "tags": [
     "skip-execution"
    ]
   },
   "outputs": [],
   "source": [
    "grader.check(\"perspective-transformation\")"
   ]
  },
  {
   "cell_type": "markdown",
   "metadata": {
    "deletable": false,
    "editable": false
   },
   "source": [
    "### 📜 Creating a Black Frame for the *Star Wars* Title Scene  \n",
    "\n",
    "#### 1️⃣ Purpose  \n",
    "This function generates a blank black frame that serves as the background for the scrolling text animation, ensuring a consistent space-like appearance.\n",
    "\n",
    "#### 2️⃣ Implementation Steps  \n",
    "\n",
    "##### 📌 Step 1: Define Frame Dimensions  \n",
    "- Accept `width` and `height` as parameters to specify the frame size.  \n",
    "\n",
    "##### 📌 Step 2: Create a Black Image  \n",
    "- Use `numpy.zeros()` to create a 3D array filled with zeros, representing a black image.  \n",
    "- The shape of the array is `(height, width, 3)`, where:  \n",
    "  - `height` → Number of rows (image height).  \n",
    "  - `width` → Number of columns (image width).  \n",
    "  - `3` → Represents the RGB color channels (Red, Green, Blue).  \n",
    "- The `dtype=np.uint8` ensures pixel values are stored efficiently as 8-bit unsigned integers (0–255).  \n",
    "\n",
    "##### 📌 Step 3: Return the Frame  \n",
    "- The function returns the created black frame as a NumPy array, ready for further processing.\n",
    "\n",
    "#### 3️⃣ Parameters\n",
    "- `width` (int): Width of the frame in pixels.  \n",
    "- `height` (int): Height of the frame in pixels.  \n",
    "\n",
    "#### 4️⃣ Return Value\n",
    "- A black image (`np.ndarray`) with shape `(height, width, 3)`.  "
   ]
  },
  {
   "cell_type": "code",
   "execution_count": null,
   "metadata": {
    "tags": [
     "skip-execution"
    ]
   },
   "outputs": [],
   "source": [
    "# Write the create_black_frame function that creates a black frame with the specified width and height\n",
    "..."
   ]
  },
  {
   "cell_type": "code",
   "execution_count": null,
   "metadata": {
    "deletable": false,
    "editable": false,
    "tags": [
     "skip-execution"
    ]
   },
   "outputs": [],
   "source": [
    "grader.check(\"Background-frame\")"
   ]
  },
  {
   "cell_type": "code",
   "execution_count": null,
   "metadata": {
    "tags": [
     "skip-execution"
    ]
   },
   "outputs": [],
   "source": [
    "def measure_text_height(text_lines: List[str]) -> int:\n",
    "    return sum(\n",
    "        cv2.getTextSize(line, cv2.FONT_HERSHEY_SIMPLEX, 1.0, 2)[0][1] + 10\n",
    "        for line in text_lines\n",
    "    )"
   ]
  },
  {
   "cell_type": "code",
   "execution_count": null,
   "metadata": {
    "deletable": false,
    "editable": false,
    "tags": [
     "skip-execution"
    ]
   },
   "outputs": [],
   "source": [
    "grader.check(\"text-size-function\")"
   ]
  },
  {
   "cell_type": "markdown",
   "metadata": {
    "deletable": false,
    "editable": false
   },
   "source": [
    "### 📜 Implementing the *Star Wars* Crawl Animation  \n",
    "\n",
    "#### 1️⃣ Purpose  \n",
    "This function animates the scrolling text for the *Star Wars* title crawl, moving it from the bottom of the screen to the top while applying a perspective transformation.\n",
    "\n",
    "#### 2️⃣ Implementation Steps  \n",
    "\n",
    "##### 📌 Step 1: Load Configuration Settings  \n",
    "- Merge `CONFIG` with any additional keyword arguments (`kwargs`) to allow parameter overrides.  See how this was done in the `render_text` function.\n",
    "- Extract key settings like `scroll_time`, `fps`, `frame_width`, `frame_height`, and `tilt_factor`. **You must extract these values from the dictionary in the line with the computation to get full credit.** \n",
    "\n",
    "##### 📌 Step 2: Compute Animation Parameters  \n",
    "- Determine the total number of frames based on the formula:  \n",
    "  $$\n",
    "  \\text{total\\_frames} = \\text{scroll\\_time} \\times \\text{fps}\n",
    "  $$\n",
    "- Set the vertical start and end positions for the text:  \n",
    "  - `start_y`: Starts below the frame to ensure a smooth entrance.  To do this we will add 50 to the start y-value\n",
    "  - `end_y`: Ends above the frame (negative value) after scrolling out.  Make the end y-value the negative of the text height from the function.\n",
    "- Calculate the total distance the text will travel.  \n",
    "\n",
    "##### 📌 Step 3: Loop Through Each Frame  \n",
    "- For each frame:\n",
    "  1. Create a black frame using `create_black_frame()`.  \n",
    "  2. Calculate the current Y-position of the text based on progress:  \n",
    "     $$\n",
    "     \\text{current\\_y} = \\text{start\\_y} - \\left(\\frac{i}{\\text{total\\_frames}} \\times \\text{distance}\\right)\n",
    "     $$\n",
    "  3. Render the scrolling text at the computed position using `render_text()`.  \n",
    "  4. Apply perspective transformation to simulate depth using `apply_perspective()`.  \n",
    "  5. Write the frame to the video file using `writer.write()`.  \n",
    "\n",
    "#### 3️⃣ Parameters\n",
    "- `writer` (`cv2.VideoWriter`): Handles writing frames to a video file.  \n",
    "- `text_lines` (`List[str]`): The text to be animated.  \n",
    "- `**kwargs`: Optional overrides for animation settings (e.g., `fps`, `scroll_time`, `tilt_factor`).  \n",
    "\n",
    "#### 4️⃣ Key Functions Used\n",
    "- `create_black_frame(width, height)`: Generates a black background.  \n",
    "- `measure_text_height(text_lines)`: Calculates total text height for proper positioning.  \n",
    "- `render_text(frame, text_lines, y)`: Draws text onto the frame at a given position.  \n",
    "- `apply_perspective(frame, tilt_factor)`: Applies the cinematic depth effect.  \n",
    "- `writer.write(frame)`: Saves each frame to the video file.  \n"
   ]
  },
  {
   "cell_type": "code",
   "execution_count": null,
   "metadata": {
    "tags": [
     "skip-execution"
    ]
   },
   "outputs": [],
   "source": [
    "# Write the animate_crawl function that generates a Star Wars-style crawl animation\n",
    "..."
   ]
  },
  {
   "cell_type": "code",
   "execution_count": null,
   "metadata": {
    "deletable": false,
    "editable": false,
    "tags": [
     "skip-execution"
    ]
   },
   "outputs": [],
   "source": [
    "grader.check(\"Animation-scroll\")"
   ]
  },
  {
   "cell_type": "markdown",
   "metadata": {
    "deletable": false,
    "editable": false
   },
   "source": [
    "### 📜 Bonus: Implementing the *Star Wars* Fade-In and Fade-Out Text Effect  \n",
    "\n",
    "#### 1️⃣ Purpose  \n",
    "This function animates a fading text effect, where the text gradually appears, stays visible for a set duration, and then fades out. This is useful for displaying the iconic *A long time ago in a galaxy far, far away...* intro.\n",
    "\n",
    "#### 2️⃣ Implementation Steps  \n",
    "\n",
    "##### 📌 Step 1: Load Configuration Settings  \n",
    "- Merge `CONFIG` with any additional keyword arguments (`kwargs`) to allow overrides.  \n",
    "- Extract key settings like `frame_width`, `frame_height`, `fade_frames`, and `hold_frames`.  **You must extract these values from the dictionary in the line with the computation to get full credit.** \n",
    "- Compute `base_y` to center the text vertically in the frame.  To do this you need to get the height of the frame, and the height of the text. The base y-value is the frame height - the text height divided by 2. Since the value should be in pixels use floor division to insure the value is an integer.\n",
    "\n",
    "##### 📌 Step 2: Implement the Fade-In Effect  \n",
    "- Loop through `fade_frames` iterations:  \n",
    "  1. Compute the alpha value (transparency level) as:  \n",
    "     $$\n",
    "     \\alpha = \\frac{i}{\\text{fade\\_frames}}\n",
    "     $$\n",
    "  2. Create a black frame.  \n",
    "  3. Render text with a color intensity proportional to `alpha` (gradual appearance).  This is just a tuple of 3 values from 0 to 255. Where 255 is full intensity and 0 is no intensity. Alpha is a value from 0 to 1. So you will need to multiply the color by alpha.\n",
    "  4. Write the frame to the video file.  \n",
    "\n",
    "##### 📌 Step 3: Hold the Fully Visible Text  \n",
    "- Loop for `hold_frames` iterations to maintain a fully visible text.  \n",
    "- Render the text in full white `(255, 255, 255)`.  \n",
    "- Write each frame to the video file.  \n",
    "\n",
    "##### 📌 Step 4: Implement the Fade-Out Effect  \n",
    "- Loop through `fade_frames` iterations:  \n",
    "  1. Compute the alpha value for fading out:  \n",
    "     $$\n",
    "     \\alpha = 1.0 - \\frac{i}{\\text{fade\\_frames}}\n",
    "     $$\n",
    "  2. Render text with decreasing intensity.  \n",
    "  3. Write the frame to the video file.  \n",
    "\n",
    "#### 3️⃣ Parameters\n",
    "- `writer` (`cv2.VideoWriter`): Handles writing frames to a video file.  \n",
    "- `text_lines` (`List[str]`): The text to be animated.  \n",
    "- `**kwargs`: Optional overrides for animation settings (`fade_frames`, `hold_frames`, etc.).  \n",
    "\n",
    "#### 4️⃣ Key Functions Used\n",
    "- `create_black_frame(width, height)`: Generates a black background.  \n",
    "- `measure_text_height(text_lines)`: Computes total text height for positioning.  \n",
    "- `render_text(frame, text_lines, y, color)`: Draws text with varying intensity.  \n",
    "- `writer.write(frame)`: Saves each frame to the video file.  \n"
   ]
  },
  {
   "cell_type": "code",
   "execution_count": null,
   "metadata": {
    "tags": [
     "skip-execution"
    ]
   },
   "outputs": [],
   "source": [
    "# Write the fade_text function that generates a fade-in/fade-out effect for text\n",
    "..."
   ]
  },
  {
   "cell_type": "code",
   "execution_count": null,
   "metadata": {
    "deletable": false,
    "editable": false,
    "tags": [
     "skip-execution"
    ]
   },
   "outputs": [],
   "source": [
    "grader.check(\"Bonus-Fade-Out\")"
   ]
  },
  {
   "cell_type": "markdown",
   "metadata": {
    "deletable": false,
    "editable": false
   },
   "source": [
    "## Question 12 (Points: 13.0): Writing the Main Function 🚀\n",
    "\n",
    "When designing python programs generally you will have a main function that will call all the other functions. This is the function that will be called when the program is run. This function will call all the other functions in the correct order to generate the video. This can also serve as an entry point from the command line, schedulers, application programming interfaces, etc.\n",
    "\n",
    "### 📜 Implementing the Main Function for the *Star Wars* Title Crawl  \n",
    "\n",
    "#### 1️⃣ Purpose  \n",
    "The `main()` function serves as the entry point for generating the *Star Wars* title crawl video. It orchestrates all major functions, ensuring smooth execution from text fading to the scrolling animation.\n",
    "\n",
    "#### 2️⃣ Role of Main Functions  \n",
    "\n",
    "##### 📌 Step 1: Create a Video Writer  \n",
    "- Calls `create_video_writer()` to initialize a video writer object (`cv2.VideoWriter`).  \n",
    "- This object is responsible for storing the generated frames into a video file.  \n",
    "- You can set this equal to the `writer` variable.\n",
    "\n",
    "##### 📌 Step 2 (optional if you completed the bonus): Display the Opening Fade-In Text  \n",
    "- Calls `fade_text()` with the iconic opening phrase, as a list of two strings:  \n",
    "  - `\"A long time ago in a galaxy far,\"`  \n",
    "  - `\"far away...\"`  \n",
    "- This function fades in, holds, and then fades out the text before the story crawl begins.  \n",
    "\n",
    "##### 📌 Step 3: Read and Choose a Random Story  \n",
    "- Calls `read_multiple_stories()` to load multiple stories from a text file.  The function should take the path to the story file \"./stories.txt\", and the delimiter from the configuration dictionary.\n",
    "- Uses `CONFIG[\"delimiter\"]` to split stories correctly.  \n",
    "- Calls `choose_random_story()` to randomly select one story for display.  \n",
    "\n",
    "##### 📌 Step 4: Parse and Animate the Story Crawl  \n",
    "- Calls `parse_markdown(story)` to process the story text into a structured format.  \n",
    "- Calls `animate_crawl()` to scroll the text upwards, applying the classic *Star Wars* perspective effect.  \n",
    "\n",
    "##### 📌 Step 5: Finalize and Save the Video  \n",
    "- Calls `writer.release()` to finalize and save the video.  \n",
    "- Prints a confirmation message with the output file location (`CONFIG[\"output_path\"]`).  \n",
    "\n",
    "#### 3️⃣ Key Functions Used\n",
    "- `create_video_writer()`: Initializes the video file for writing frames.  \n",
    "- `fade_text(writer, text_lines)`: Handles the fade-in and fade-out effect for the opening text.  \n",
    "- `read_multiple_stories(file_path, delimiter)`: Loads multiple possible story crawls.  \n",
    "- `choose_random_story(stories)`: Selects one story randomly.  \n",
    "- `parse_markdown(story)`: Converts the selected story from Markdown format to structured text.  \n",
    "- `animate_crawl(writer, text_lines)`: Scrolls the formatted story upwards with a perspective effect.  \n",
    "- `writer.release()`: Finalizes and saves the generated video.  "
   ]
  },
  {
   "cell_type": "code",
   "execution_count": null,
   "metadata": {
    "tags": [
     "skip-execution"
    ]
   },
   "outputs": [],
   "source": [
    "# Write the main entry point for the Star Wars crawl animation\n",
    "# This is generally the a function called main\n",
    "..."
   ]
  },
  {
   "cell_type": "code",
   "execution_count": null,
   "metadata": {
    "deletable": false,
    "editable": false,
    "tags": [
     "skip-execution"
    ]
   },
   "outputs": [],
   "source": [
    "grader.check(\"Main-Function\")"
   ]
  },
  {
   "cell_type": "code",
   "execution_count": null,
   "metadata": {
    "tags": [
     "skip-execution"
    ]
   },
   "outputs": [],
   "source": [
    "# Call the main function and Generate the Star Wars crawl animation\n",
    "main()"
   ]
  },
  {
   "cell_type": "markdown",
   "metadata": {
    "deletable": false,
    "editable": false
   },
   "source": [
    "# Watching the Movie\n",
    "\n",
    "To watch the movie download the file generated and watch it in your favorite video player. You can also use the code below to watch the video in the notebook.\n",
    "\n",
    "If you get an openCV error, it might be related to the dataType, ensure that your background is np.uint8. "
   ]
  },
  {
   "cell_type": "markdown",
   "id": "43",
   "metadata": {},
   "source": [
    "## Submitting Assignment\n",
    "\n",
    "Please run the following block of code using `shift + enter` to submit your assignment, you should see your score."
   ]
  },
  {
   "cell_type": "code",
   "execution_count": null,
   "id": "44",
   "metadata": {
    "deletable": false,
    "editable": true,
    "tags": [
     "skip-execution"
    ]
   },
   "outputs": [],
   "source": [
    "from pykubegrader.submit.submit_assignment import submit_assignment\n",
    "\n",
    "submit_assignment(\"week6-homework\", \"1_star_wars_q\")"
   ]
  }
 ],
 "metadata": {
  "kernelspec": {
   "display_name": "engr131_dev",
   "language": "python",
   "name": "python3"
  },
  "language_info": {
   "codemirror_mode": {
    "name": "ipython",
    "version": 3
   },
   "file_extension": ".py",
   "mimetype": "text/x-python",
   "name": "python",
   "nbconvert_exporter": "python",
   "pygments_lexer": "ipython3",
   "version": "3.12.7"
  },
  "otter": {
   "OK_FORMAT": true,
   "tests": {
    "Animation-scroll": {
     "name": "Animation-scroll",
     "points": null,
     "suites": [
      {
       "cases": [
        {
         "code": ">>> from pykubegrader.telemetry import ensure_responses, log_variable, score_question, submit_question, telemetry, update_responses\n>>> import os\n>>> import base64\n>>> import inspect\n>>> max_question_points = str(12.0)\n>>> earned_points = 0\n>>> os.environ['EARNED_POINTS'] = str(earned_points)\n>>> os.environ['TOTAL_POINTS_FREE_RESPONSE'] = str(57.0)\n>>> log_variable('total-points', f'week6-homework, 1_star_wars_q', 57.0)\n>>> question_id = 'Animation-scroll-1'\n>>> max_score = 1.0\n>>> score = 0\n>>> function_exists = 'animate_crawl' in globals()\n>>> assert function_exists, 'The function `animate_crawl` must be defined in the script.'\n>>> if function_exists:\n...     score = 1.0\n>>> earned_points = float(os.environ.get('EARNED_POINTS', 0))\n>>> earned_points += score\n>>> log_variable('1_star_wars_q', f'{score}, {max_score}', question_id)\n>>> os.environ['EARNED_POINTS'] = str(earned_points)\n>>> responses = update_responses(question_id, str(function_exists))\n",
         "failure_message": "Failed: The function `animate_crawl` is not defined.",
         "hidden": false,
         "locked": false,
         "points": 1,
         "success_message": "Success: The function `animate_crawl` is defined!"
        },
        {
         "code": ">>> from pykubegrader.telemetry import ensure_responses, log_variable, score_question, submit_question, telemetry, update_responses\n>>> import os\n>>> import base64\n>>> import inspect\n>>> import re\n>>> question_id = 'Animation-scroll-2'\n>>> max_score = 2.0\n>>> score = 0\n>>> code = inspect.getsource(animate_crawl)\n>>> config_used = bool(re.search('CONFIG', code))\n>>> assert config_used, 'The function `animate_crawl` must use `CONFIG` to read animation properties.'\n>>> if config_used:\n...     score = 2.0\n>>> earned_points = float(os.environ.get('EARNED_POINTS', 0))\n>>> earned_points += score\n>>> log_variable('1_star_wars_q', f'{score}, {max_score}', question_id)\n>>> os.environ['EARNED_POINTS'] = str(earned_points)\n>>> responses = update_responses(question_id, str(config_used))\n",
         "failure_message": "Failed: `animate_crawl` does not use `CONFIG`.",
         "hidden": false,
         "locked": false,
         "points": 2,
         "success_message": "Success: `animate_crawl` correctly accesses `CONFIG`!"
        },
        {
         "code": ">>> from pykubegrader.telemetry import ensure_responses, log_variable, score_question, submit_question, telemetry, update_responses\n>>> import os\n>>> import base64\n>>> import inspect\n>>> import re\n>>> question_id = 'Animation-scroll-3'\n>>> max_score = 2.0\n>>> score = 0\n>>> code = inspect.getsource(animate_crawl)\n>>> total_frames_calculated = bool(re.search('total_frames\\\\s*=\\\\s*int\\\\(config\\\\[\\\\\"scroll_time\\\\\"\\\\]\\\\s*\\\\*\\\\s*config\\\\[\\\\\"fps\\\\\"\\\\]\\\\)', code))\n>>> assert total_frames_calculated, 'The function `animate_crawl` must correctly calculate `total_frames` using `scroll_time * fps`.'\n>>> if total_frames_calculated:\n...     score = 2.0\n>>> earned_points = float(os.environ.get('EARNED_POINTS', 0))\n>>> earned_points += score\n>>> log_variable('1_star_wars_q', f'{score}, {max_score}', question_id)\n>>> os.environ['EARNED_POINTS'] = str(earned_points)\n>>> responses = update_responses(question_id, str(total_frames_calculated))\n",
         "failure_message": "Failed: `animate_crawl` does not correctly compute `total_frames`.",
         "hidden": false,
         "locked": false,
         "points": 2,
         "success_message": "Success: `animate_crawl` correctly calculates `total_frames`!"
        },
        {
         "code": ">>> from pykubegrader.telemetry import ensure_responses, log_variable, score_question, submit_question, telemetry, update_responses\n>>> import os\n>>> import base64\n>>> import inspect\n>>> import re\n>>> question_id = 'Animation-scroll-4'\n>>> max_score = 2.0\n>>> score = 0\n>>> code = inspect.getsource(animate_crawl)\n>>> loop_found = bool(re.search('for \\\\w+ in range\\\\(total_frames\\\\)', code))\n>>> assert loop_found, 'The function `animate_crawl` must loop over `total_frames` to animate the crawl.'\n>>> if loop_found:\n...     score = 2.0\n>>> earned_points = float(os.environ.get('EARNED_POINTS', 0))\n>>> earned_points += score\n>>> log_variable('1_star_wars_q', f'{score}, {max_score}', question_id)\n>>> os.environ['EARNED_POINTS'] = str(earned_points)\n>>> responses = update_responses(question_id, str(loop_found))\n",
         "failure_message": "Failed: `animate_crawl` does not loop correctly.",
         "hidden": false,
         "locked": false,
         "points": 2,
         "success_message": "Success: `animate_crawl` correctly loops for animation!"
        },
        {
         "code": ">>> from pykubegrader.telemetry import ensure_responses, log_variable, score_question, submit_question, telemetry, update_responses\n>>> import os\n>>> import base64\n>>> import inspect\n>>> import re\n>>> question_id = 'Animation-scroll-5'\n>>> max_score = 2.0\n>>> score = 0\n>>> code = inspect.getsource(animate_crawl)\n>>> expected_functions = ['measure_text_height', 'create_black_frame', 'render_text', 'apply_perspective', 'write']\n>>> called_functions = re.findall('(\\\\w+)\\\\(', code)\n>>> missing_functions = [func for func in expected_functions if func not in called_functions]\n>>> assert not missing_functions, f'Missing function calls in `animate_crawl`: {missing_functions}.'\n>>> if not missing_functions:\n...     score = 2.0\n>>> earned_points = float(os.environ.get('EARNED_POINTS', 0))\n>>> earned_points += score\n>>> log_variable('1_star_wars_q', f'{score}, {max_score}', question_id)\n>>> os.environ['EARNED_POINTS'] = str(earned_points)\n>>> responses = update_responses(question_id, str(called_functions))\n",
         "failure_message": "Failed: `animate_crawl` is missing one or more required function calls.",
         "hidden": false,
         "locked": false,
         "points": 2,
         "success_message": "Success: `animate_crawl` calls all required helper functions!"
        },
        {
         "code": ">>> from pykubegrader.telemetry import ensure_responses, log_variable, score_question, submit_question, telemetry, update_responses\n>>> import os\n>>> import base64\n>>> import inspect\n>>> import re\n>>> question_id = 'Animation-scroll-6'\n>>> max_score = 3.0\n>>> score = 0\n>>> code = inspect.getsource(animate_crawl)\n>>> write_calls = len(re.findall('writer\\\\.write\\\\(', code))\n>>> assert write_calls >= 1, f'Expected `writer.write(frame)` to be called multiple times, but found {write_calls} occurrences.'\n>>> if write_calls >= 1:\n...     score = 3.0\n>>> earned_points = float(os.environ.get('EARNED_POINTS', 0))\n>>> earned_points += score\n>>> log_variable('1_star_wars_q', f'{score}, {max_score}', question_id)\n>>> os.environ['EARNED_POINTS'] = str(earned_points)\n>>> responses = update_responses(question_id, str(write_calls))\n",
         "failure_message": "Failed: `animate_crawl` does not correctly write frames.",
         "hidden": false,
         "locked": false,
         "points": 3,
         "success_message": "Success: `animate_crawl` writes frames to the video writer!"
        }
       ],
       "scored": true,
       "setup": "",
       "teardown": "",
       "type": "doctest"
      }
     ]
    },
    "Background-frame": {
     "name": "Background-frame",
     "points": null,
     "suites": [
      {
       "cases": [
        {
         "code": ">>> from pykubegrader.telemetry import ensure_responses, log_variable, score_question, submit_question, telemetry, update_responses\n>>> import os\n>>> import base64\n>>> max_question_points = str(4.0)\n>>> earned_points = 0\n>>> os.environ['EARNED_POINTS'] = str(earned_points)\n>>> os.environ['TOTAL_POINTS_FREE_RESPONSE'] = str(57.0)\n>>> log_variable('total-points', f'week6-homework, 1_star_wars_q', 57.0)\n>>> question_id = 'Background-frame-1'\n>>> max_score = 1.0\n>>> score = 0\n>>> frame = create_black_frame(500, 300)\n>>> assert frame.shape == (300, 500, 3), f'Expected shape (300, 500, 3), got {frame.shape}'\n>>> if frame.shape == (300, 500, 3):\n...     score = 1.0\n>>> earned_points = float(os.environ.get('EARNED_POINTS', 0))\n>>> earned_points += score\n>>> log_variable('1_star_wars_q', f'{score}, {max_score}', question_id)\n>>> os.environ['EARNED_POINTS'] = str(earned_points)\n",
         "failure_message": "Failed: The function does not return a frame of the expected size.",
         "hidden": false,
         "locked": false,
         "points": 1,
         "success_message": "Success: The function correctly creates a black frame of the expected size!"
        },
        {
         "code": ">>> from pykubegrader.telemetry import ensure_responses, log_variable, score_question, submit_question, telemetry, update_responses\n>>> import os\n>>> import base64\n>>> import numpy as np\n>>> question_id = 'Background-frame-2'\n>>> max_score = 1.0\n>>> score = 0\n>>> frame = create_black_frame(200, 100)\n>>> assert np.all(frame == 0), 'Expected all pixel values to be zero (black).'\n>>> if np.all(frame == 0):\n...     score = 1.0\n>>> earned_points = float(os.environ.get('EARNED_POINTS', 0))\n>>> earned_points += score\n>>> log_variable('1_star_wars_q', f'{score}, {max_score}', question_id)\n>>> os.environ['EARNED_POINTS'] = str(earned_points)\n",
         "failure_message": "Failed: The frame is not completely black.",
         "hidden": false,
         "locked": false,
         "points": 1,
         "success_message": "Success: The function correctly initializes all pixels as black!"
        },
        {
         "code": ">>> from pykubegrader.telemetry import ensure_responses, log_variable, score_question, submit_question, telemetry, update_responses\n>>> import os\n>>> import base64\n>>> import numpy as np\n>>> question_id = 'Background-frame-3'\n>>> max_score = 1.0\n>>> score = 0\n>>> frame = create_black_frame(10, 5)\n>>> assert frame.shape == (5, 10, 3), f'Expected shape (5, 10, 3), got {frame.shape}'\n>>> assert np.all(frame == 0), 'Expected all pixels to be black.'\n>>> if frame.shape == (5, 10, 3) and np.all(frame == 0):\n...     score = 1.0\n>>> earned_points = float(os.environ.get('EARNED_POINTS', 0))\n>>> earned_points += score\n>>> log_variable('1_star_wars_q', f'{score}, {max_score}', question_id)\n>>> os.environ['EARNED_POINTS'] = str(earned_points)\n",
         "failure_message": "Failed: The function does not handle small frame sizes correctly.",
         "hidden": false,
         "locked": false,
         "points": 1,
         "success_message": "Success: The function correctly creates a black frame for small sizes!"
        },
        {
         "code": ">>> from pykubegrader.telemetry import ensure_responses, log_variable, score_question, submit_question, telemetry, update_responses\n>>> import os\n>>> import base64\n>>> import numpy as np\n>>> question_id = 'Background-frame-4'\n>>> max_score = 1.0\n>>> score = 0\n>>> frame = create_black_frame(1920, 1080)\n>>> assert frame.shape == (1080, 1920, 3), f'Expected shape (1080, 1920, 3), got {frame.shape}'\n>>> assert np.all(frame == 0), 'Expected all pixels to be black.'\n>>> if frame.shape == (1080, 1920, 3) and np.all(frame == 0):\n...     score = 1.0\n>>> earned_points = float(os.environ.get('EARNED_POINTS', 0))\n>>> earned_points += score\n>>> log_variable('1_star_wars_q', f'{score}, {max_score}', question_id)\n>>> os.environ['EARNED_POINTS'] = str(earned_points)\n",
         "failure_message": "Failed: The function does not handle large frame sizes correctly.",
         "hidden": false,
         "locked": false,
         "points": 1,
         "success_message": "Success: The function correctly creates a black frame for large sizes!"
        }
       ],
       "scored": true,
       "setup": "",
       "teardown": "",
       "type": "doctest"
      }
     ]
    },
    "Bonus-Fade-Out": {
     "name": "Bonus-Fade-Out",
     "points": null,
     "suites": [
      {
       "cases": [
        {
         "code": ">>> from pykubegrader.telemetry import ensure_responses, log_variable, score_question, submit_question, telemetry, update_responses\n>>> import os\n>>> import base64\n>>> import inspect\n>>> max_question_points = str(10.0)\n>>> earned_points = 0\n>>> os.environ['EARNED_POINTS'] = str(earned_points)\n>>> os.environ['TOTAL_POINTS_FREE_RESPONSE'] = str(57.0)\n>>> log_variable('total-points', f'week6-homework, 1_star_wars_q', 57.0)\n>>> question_id = 'Bonus-Fade-Out-1'\n>>> max_score = 1.0\n>>> score = 0\n>>> function_exists = 'fade_text' in globals()\n>>> assert function_exists, 'The function `fade_text` must be defined in the script.'\n>>> if function_exists:\n...     score = 1.0\n>>> earned_points = float(os.environ.get('EARNED_POINTS', 0))\n>>> earned_points += score\n>>> log_variable('1_star_wars_q', f'{score}, {max_score}', question_id)\n>>> os.environ['EARNED_POINTS'] = str(earned_points)\n>>> responses = update_responses(question_id, str(function_exists))\n",
         "failure_message": "Failed: The function `fade_text` is not defined.",
         "hidden": false,
         "locked": false,
         "points": 1,
         "success_message": "Success: The function `fade_text` is defined!"
        },
        {
         "code": ">>> from pykubegrader.telemetry import ensure_responses, log_variable, score_question, submit_question, telemetry, update_responses\n>>> import os\n>>> import base64\n>>> import inspect\n>>> import re\n>>> question_id = 'Bonus-Fade-Out-2'\n>>> max_score = 2.0\n>>> score = 0\n>>> code = inspect.getsource(fade_text)\n>>> config_used = bool(re.search('CONFIG', code))\n>>> assert config_used, 'The function `fade_text` must use `CONFIG` to read frame properties.'\n>>> if config_used:\n...     score = 2.0\n>>> earned_points = float(os.environ.get('EARNED_POINTS', 0))\n>>> earned_points += score\n>>> log_variable('1_star_wars_q', f'{score}, {max_score}', question_id)\n>>> os.environ['EARNED_POINTS'] = str(earned_points)\n>>> responses = update_responses(question_id, str(config_used))\n",
         "failure_message": "Failed: `fade_text` does not use `CONFIG`.",
         "hidden": false,
         "locked": false,
         "points": 2,
         "success_message": "Success: `fade_text` correctly accesses `CONFIG`!"
        },
        {
         "code": ">>> from pykubegrader.telemetry import ensure_responses, log_variable, score_question, submit_question, telemetry, update_responses\n>>> import os\n>>> import base64\n>>> import inspect\n>>> import re\n>>> question_id = 'Bonus-Fade-Out-3'\n>>> max_score = 3.0\n>>> score = 0\n>>> code = inspect.getsource(fade_text)\n>>> fade_in_loop = bool(re.search('for \\\\w+ in range\\\\s*\\\\(\\\\s*config\\\\[\\\\\"fade_frames\\\\\"\\\\]\\\\s*\\\\)', code))\n>>> hold_loop = bool(re.search('for \\\\w+ in range\\\\s*\\\\(\\\\s*config\\\\[\\\\\"hold_frames\\\\\"\\\\]\\\\s*\\\\)', code))\n>>> fade_out_loop = bool(re.search('for \\\\w+ in range\\\\s*\\\\(\\\\s*config\\\\[\\\\\"fade_frames\\\\\"\\\\]\\\\s*\\\\)', code))\n>>> loop_counts = fade_in_loop and hold_loop and fade_out_loop\n>>> assert loop_counts, 'The function `fade_text` must contain loops for fade-in, hold, and fade-out.'\n>>> if loop_counts:\n...     score = 3.0\n>>> earned_points = float(os.environ.get('EARNED_POINTS', 0))\n>>> earned_points += score\n>>> log_variable('1_star_wars_q', f'{score}, {max_score}', question_id)\n>>> os.environ['EARNED_POINTS'] = str(earned_points)\n>>> responses = update_responses(question_id, str(loop_counts))\n",
         "failure_message": "Failed: `fade_text` does not contain all required loops.",
         "hidden": false,
         "locked": false,
         "points": 3,
         "success_message": "Success: `fade_text` correctly implements fade-in, hold, and fade-out!"
        },
        {
         "code": ">>> from pykubegrader.telemetry import ensure_responses, log_variable, score_question, submit_question, telemetry, update_responses\n>>> import os\n>>> import base64\n>>> import inspect\n>>> import re\n>>> question_id = 'Bonus-Fade-Out-4'\n>>> max_score = 1.0\n>>> score = 0\n>>> code = inspect.getsource(fade_text)\n>>> expected_functions = ['measure_text_height', 'create_black_frame', 'render_text', 'write']\n>>> called_functions = re.findall('(\\\\w+)\\\\(', code)\n>>> missing_functions = [func for func in expected_functions if func not in called_functions]\n>>> condition = not missing_functions\n>>> assert condition\n>>> if condition:\n...     score = 1.0\n>>> earned_points = float(os.environ.get('EARNED_POINTS', 0))\n>>> earned_points += score\n>>> log_variable('1_star_wars_q', f'{score}, {max_score}', question_id)\n>>> os.environ['EARNED_POINTS'] = str(earned_points)\n>>> responses = update_responses(question_id, str(called_functions))\n",
         "failure_message": "Failed: `fade_text` is missing one or more required function calls.",
         "hidden": false,
         "locked": false,
         "points": 1,
         "success_message": "Success: `fade_text` calls all required helper functions!"
        },
        {
         "code": ">>> from pykubegrader.telemetry import ensure_responses, log_variable, score_question, submit_question, telemetry, update_responses\n>>> import os\n>>> import base64\n>>> import inspect\n>>> import re\n>>> question_id = 'Bonus-Fade-Out-5'\n>>> max_score = 1.0\n>>> score = 0\n>>> code = inspect.getsource(fade_text)\n>>> fade_in_alpha = bool(re.search('alpha\\\\s*=\\\\s*\\\\w+\\\\s*/\\\\s*config\\\\[\\\\\"fade_frames\\\\\"\\\\]', code))\n>>> fade_out_alpha = bool(re.search('alpha\\\\s*=\\\\s*1\\\\.0\\\\s*-\\\\s*\\\\(\\\\s*\\\\w+\\\\s*/\\\\s*config\\\\[\\\\\"fade_frames\\\\\"\\\\]\\\\s*\\\\)', code))\n>>> alpha_expressions = fade_in_alpha and fade_out_alpha\n>>> assert alpha_expressions, 'The function `fade_text` must correctly compute alpha values for fading.'\n>>> if alpha_expressions:\n...     score = 1.0\n>>> earned_points = float(os.environ.get('EARNED_POINTS', 0))\n>>> earned_points += score\n>>> log_variable('1_star_wars_q', f'{score}, {max_score}', question_id)\n>>> os.environ['EARNED_POINTS'] = str(earned_points)\n>>> responses = update_responses(question_id, str(alpha_expressions))\n",
         "failure_message": "Failed: `fade_text` does not correctly compute alpha values.",
         "hidden": false,
         "locked": false,
         "points": 1,
         "success_message": "Success: `fade_text` correctly calculates alpha values for fading!"
        },
        {
         "code": ">>> from pykubegrader.telemetry import ensure_responses, log_variable, score_question, submit_question, telemetry, update_responses\n>>> import os\n>>> import base64\n>>> import inspect\n>>> import re\n>>> question_id = 'Bonus-Fade-Out-6'\n>>> max_score = 2.0\n>>> score = 0\n>>> code = inspect.getsource(fade_text)\n>>> write_calls = len(re.findall('writer\\\\.write\\\\(', code))\n>>> assert write_calls >= 3\n>>> if write_calls >= 3:\n...     score = 2.0\n>>> earned_points = float(os.environ.get('EARNED_POINTS', 0))\n>>> earned_points += score\n>>> log_variable('1_star_wars_q', f'{score}, {max_score}', question_id)\n>>> os.environ['EARNED_POINTS'] = str(earned_points)\n>>> responses = update_responses(question_id, str(write_calls))\n",
         "failure_message": "Failed: `fade_text` does not correctly write frames.",
         "hidden": false,
         "locked": false,
         "points": 2,
         "success_message": "Success: `fade_text` writes frames to the video writer!"
        }
       ],
       "scored": true,
       "setup": "",
       "teardown": "",
       "type": "doctest"
      }
     ]
    },
    "File-IO": {
     "name": "File-IO",
     "points": null,
     "suites": [
      {
       "cases": [
        {
         "code": ">>> from pykubegrader.telemetry import ensure_responses, log_variable, score_question, submit_question, telemetry, update_responses\n>>> import os\n>>> import base64\n>>> import random\n>>> max_question_points = str(3.0)\n>>> earned_points = 0\n>>> os.environ['EARNED_POINTS'] = str(earned_points)\n>>> os.environ['TOTAL_POINTS_FREE_RESPONSE'] = str(57.0)\n>>> log_variable('total-points', f'week6-homework, 1_star_wars_q', 57.0)\n>>> question_id = 'File-IO-1'\n>>> max_score = 1.0\n>>> score = 0\n>>> random.seed(0)\n>>> stories = ['Story 1', 'Story 2', 'Story 3', 'Story 4']\n>>> random_story = choose_random_story(stories)\n>>> assert random_story == 'Story 4'\n>>> if random_story == 'Story 4':\n...     score = 1.0\n>>> earned_points = float(os.environ.get('EARNED_POINTS', 0))\n>>> earned_points += score\n>>> log_variable('1_star_wars_q', f'{score}, {max_score}', question_id)\n>>> os.environ['EARNED_POINTS'] = str(earned_points)\n",
         "failure_message": "Failed: The function does not return a story correctly.",
         "hidden": false,
         "locked": false,
         "points": 1,
         "success_message": "Success: The function correctly returns a random story from the list!"
        },
        {
         "code": ">>> from pykubegrader.telemetry import ensure_responses, log_variable, score_question, submit_question, telemetry, update_responses\n>>> import os\n>>> import base64\n>>> question_id = 'File-IO-2'\n>>> max_score = 1.0\n>>> score = 0\n>>> empty_stories = []\n>>> random_story = choose_random_story(empty_stories)\n>>> assert random_story == 'No stories found!', \"Expected 'No stories found!' for an empty list.\"\n>>> if random_story == 'No stories found!':\n...     score = 1.0\n>>> earned_points = float(os.environ.get('EARNED_POINTS', 0))\n>>> earned_points += score\n>>> log_variable('1_star_wars_q', f'{score}, {max_score}', question_id)\n>>> os.environ['EARNED_POINTS'] = str(earned_points)\n",
         "failure_message": "Failed: The function does not handle an empty list correctly.",
         "hidden": false,
         "locked": false,
         "points": 1,
         "success_message": "Success: The function correctly handles an empty list!"
        },
        {
         "code": ">>> from pykubegrader.telemetry import ensure_responses, log_variable, score_question, submit_question, telemetry, update_responses\n>>> import os\n>>> import base64\n>>> question_id = 'File-IO-3'\n>>> max_score = 1.0\n>>> score = 0\n>>> single_story = ['Only Story']\n>>> random_story = choose_random_story(single_story)\n>>> assert random_story == 'Only Story', 'Expected the only story in the list to be returned.'\n>>> if random_story == 'Only Story':\n...     score = 1.0\n>>> earned_points = float(os.environ.get('EARNED_POINTS', 0))\n>>> earned_points += score\n>>> log_variable('1_star_wars_q', f'{score}, {max_score}', question_id)\n>>> os.environ['EARNED_POINTS'] = str(earned_points)\n",
         "failure_message": "Failed: The function does not return the only story correctly.",
         "hidden": false,
         "locked": false,
         "points": 1,
         "success_message": "Success: The function correctly returns the only story when the list has one element!"
        }
       ],
       "scored": true,
       "setup": "",
       "teardown": "",
       "type": "doctest"
      }
     ]
    },
    "Main-Function": {
     "name": "Main-Function",
     "points": null,
     "suites": [
      {
       "cases": [
        {
         "code": ">>> from pykubegrader.telemetry import ensure_responses, log_variable, score_question, submit_question, telemetry, update_responses\n>>> import os\n>>> import base64\n>>> import inspect\n>>> max_question_points = str(13.0)\n>>> earned_points = 0\n>>> os.environ['EARNED_POINTS'] = str(earned_points)\n>>> os.environ['TOTAL_POINTS_FREE_RESPONSE'] = str(57.0)\n>>> log_variable('total-points', f'week6-homework, 1_star_wars_q', 57.0)\n>>> question_id = 'Main-Function-1'\n>>> max_score = 1.0\n>>> score = 0\n>>> function_exists = 'main' in globals()\n>>> assert function_exists, 'The function `main` must be defined in the script.'\n>>> if function_exists:\n...     score = 1.0\n>>> earned_points = float(os.environ.get('EARNED_POINTS', 0))\n>>> earned_points += score\n>>> log_variable('1_star_wars_q', f'{score}, {max_score}', question_id)\n>>> os.environ['EARNED_POINTS'] = str(earned_points)\n>>> responses = update_responses(question_id, str(function_exists))\n",
         "failure_message": "Failed: The function `main` is not defined.",
         "hidden": false,
         "locked": false,
         "points": 1,
         "success_message": "Success: The function `main` exists!"
        },
        {
         "code": ">>> from pykubegrader.telemetry import ensure_responses, log_variable, score_question, submit_question, telemetry, update_responses\n>>> import os\n>>> import base64\n>>> import re\n>>> import inspect\n>>> question_id = 'Main-Function-2'\n>>> max_score = 6.0\n>>> score = 0\n>>> code = inspect.getsource(main)\n>>> expected_functions = ['create_video_writer', 'read_multiple_stories', 'choose_random_story', 'animate_crawl', 'parse_markdown', 'release']\n>>> called_functions = re.findall('(\\\\w+)\\\\(', code)\n>>> missing_functions = [func for func in expected_functions if func not in called_functions]\n>>> assert not missing_functions, f'Missing function calls in `main()`: {missing_functions}'\n>>> if not missing_functions:\n...     score = 6.0\n>>> earned_points = float(os.environ.get('EARNED_POINTS', 0))\n>>> earned_points += score\n>>> log_variable('1_star_wars_q', f'{score}, {max_score}', question_id)\n>>> os.environ['EARNED_POINTS'] = str(earned_points)\n>>> responses = update_responses(question_id, str(called_functions))\n",
         "failure_message": "Failed: `main` does not call all required functions.",
         "hidden": false,
         "locked": false,
         "points": 6,
         "success_message": "Success: `main` calls the expected functions!"
        },
        {
         "code": ">>> from pykubegrader.telemetry import ensure_responses, log_variable, score_question, submit_question, telemetry, update_responses\n>>> import os\n>>> import base64\n>>> import inspect\n>>> import re\n>>> question_id = 'Main-Function-3'\n>>> max_score = 6.0\n>>> score = 0\n>>> code = inspect.getsource(main)\n>>> expected_order = ['create_video_writer', 'read_multiple_stories', 'choose_random_story', 'animate_crawl', 'release', 'print']\n>>> called_functions = re.findall('(\\\\w+)\\\\(', code)\n>>> order_match = all((called_functions.index(func) < called_functions.index(next_func) for func, next_func in zip(expected_order, expected_order[1:]) if func in called_functions and next_func in called_functions))\n>>> assert order_match, f'The order of function calls in `main()` is incorrect. Expected order: {expected_order}, but found {called_functions}.'\n>>> if (order_match, f'The order of function calls in `main()` is incorrect. Expected order: {expected_order}, but found {called_functions}.'):\n...     score = 6.0\n>>> earned_points = float(os.environ.get('EARNED_POINTS', 0))\n>>> earned_points += score\n>>> log_variable('1_star_wars_q', f'{score}, {max_score}', question_id)\n>>> os.environ['EARNED_POINTS'] = str(earned_points)\n>>> responses = update_responses(question_id, str(called_functions))\n",
         "failure_message": "Failed: The function calls in `main()` are out of order.",
         "hidden": false,
         "locked": false,
         "points": 6,
         "success_message": "Success: The order of function calls in `main()` is correct!"
        }
       ],
       "scored": true,
       "setup": "",
       "teardown": "",
       "type": "doctest"
      }
     ]
    },
    "initial-configuration": {
     "name": "initial-configuration",
     "points": null,
     "suites": [
      {
       "cases": [
        {
         "code": ">>> from pykubegrader.telemetry import ensure_responses, log_variable, score_question, submit_question, telemetry, update_responses\n>>> import os\n>>> import base64\n>>> max_question_points = str(11.0)\n>>> earned_points = 0\n>>> os.environ['EARNED_POINTS'] = str(earned_points)\n>>> os.environ['TOTAL_POINTS_FREE_RESPONSE'] = str(57.0)\n>>> log_variable('total-points', f'week6-homework, 1_star_wars_q', 57.0)\n>>> question_id = 'initial-configuration-1'\n>>> max_score = 1.0\n>>> score = 0\n>>> config_exists = 'CONFIG' in globals()\n>>> assert config_exists, 'The `CONFIG` dictionary must be defined in the global scope.'\n>>> if config_exists:\n...     score = 1.0\n>>> earned_points = float(os.environ.get('EARNED_POINTS', 0))\n>>> earned_points += score\n>>> log_variable('1_star_wars_q', f'{score}, {max_score}', question_id)\n>>> os.environ['EARNED_POINTS'] = str(earned_points)\n>>> responses = update_responses(question_id, str(config_exists))\n",
         "failure_message": "Failed: `CONFIG` is not defined.",
         "hidden": false,
         "locked": false,
         "points": 1,
         "success_message": "Success: The `CONFIG` dictionary is defined!"
        },
        {
         "code": ">>> from pykubegrader.telemetry import ensure_responses, log_variable, score_question, submit_question, telemetry, update_responses\n>>> import os\n>>> import base64\n>>> question_id = 'initial-configuration-2'\n>>> max_score = 1.0\n>>> score = 0\n>>> config_type = isinstance(CONFIG, dict)\n>>> assert config_type, f'Expected `CONFIG` to be a dictionary, but got {type(CONFIG)}.'\n>>> if config_type:\n...     score = 1.0\n>>> earned_points = float(os.environ.get('EARNED_POINTS', 0))\n>>> earned_points += score\n>>> log_variable('1_star_wars_q', f'{score}, {max_score}', question_id)\n>>> os.environ['EARNED_POINTS'] = str(earned_points)\n>>> responses = update_responses(question_id, str(config_type))\n",
         "failure_message": "Failed: `CONFIG` is not a dictionary.",
         "hidden": false,
         "locked": false,
         "points": 1,
         "success_message": "Success: `CONFIG` is a dictionary!"
        },
        {
         "code": ">>> from pykubegrader.telemetry import ensure_responses, log_variable, score_question, submit_question, telemetry, update_responses\n>>> import os\n>>> import base64\n>>> question_id = 'initial-configuration-3'\n>>> max_score = 2.0\n>>> score = 0\n>>> required_keys = {'output_path', 'frame_width', 'frame_height', 'fps', 'codec', 'delimiter', 'max_line_length', 'scroll_time', 'tilt_factor', 'fade_frames', 'hold_frames'}\n>>> missing_keys = required_keys - CONFIG.keys()\n>>> assert not missing_keys, f'Missing keys in `CONFIG`: {missing_keys}.'\n>>> if not missing_keys:\n...     score = 2.0\n>>> earned_points = float(os.environ.get('EARNED_POINTS', 0))\n>>> earned_points += score\n>>> log_variable('1_star_wars_q', f'{score}, {max_score}', question_id)\n>>> os.environ['EARNED_POINTS'] = str(earned_points)\n>>> responses = update_responses(question_id, str(missing_keys))\n",
         "failure_message": "Failed: Some required keys are missing in `CONFIG`.",
         "hidden": false,
         "locked": false,
         "points": 2,
         "success_message": "Success: All required keys are present in `CONFIG`!"
        },
        {
         "code": ">>> from pykubegrader.telemetry import ensure_responses, log_variable, score_question, submit_question, telemetry, update_responses\n>>> import os\n>>> import base64\n>>> question_id = 'initial-configuration-4'\n>>> max_score = 3.0\n>>> score = 0\n>>> expected_types = {'output_path': str, 'frame_width': int, 'frame_height': int, 'fps': float, 'codec': str, 'delimiter': str, 'max_line_length': int, 'scroll_time': float, 'tilt_factor': float, 'fade_frames': int, 'hold_frames': int}\n>>> incorrect_types = {key: (type(CONFIG[key]), expected_types[key]) for key in expected_types if not isinstance(CONFIG[key], expected_types[key])}\n>>> assert not incorrect_types, f'Incorrect types in `CONFIG`: {incorrect_types}.'\n>>> if not incorrect_types:\n...     score = 3.0\n>>> earned_points = float(os.environ.get('EARNED_POINTS', 0))\n>>> earned_points += score\n>>> log_variable('1_star_wars_q', f'{score}, {max_score}', question_id)\n>>> os.environ['EARNED_POINTS'] = str(earned_points)\n>>> responses = update_responses(question_id, str(incorrect_types))\n",
         "failure_message": "Failed: Some values in `CONFIG` have incorrect types.",
         "hidden": false,
         "locked": false,
         "points": 3,
         "success_message": "Success: All keys in `CONFIG` have the correct data types!"
        },
        {
         "code": ">>> from pykubegrader.telemetry import ensure_responses, log_variable, score_question, submit_question, telemetry, update_responses\n>>> import os\n>>> import base64\n>>> question_id = 'initial-configuration-5'\n>>> max_score = 3.0\n>>> score = 0\n>>> range_checks = {'frame_width': CONFIG['frame_width'] > 0, 'frame_height': CONFIG['frame_height'] > 0, 'fps': CONFIG['fps'] > 0, 'max_line_length': CONFIG['max_line_length'] > 0, 'scroll_time': CONFIG['scroll_time'] > 0, 'tilt_factor': 0.0 <= CONFIG['tilt_factor'] <= 1.0, 'fade_frames': CONFIG['fade_frames'] >= 0, 'hold_frames': CONFIG['hold_frames'] >= 0}\n>>> out_of_range_values = [key for key, valid in range_checks.items() if not valid]\n>>> assert not out_of_range_values, f'Out-of-range values in `CONFIG`: {out_of_range_values}.'\n>>> if not out_of_range_values:\n...     score = 3.0\n>>> earned_points = float(os.environ.get('EARNED_POINTS', 0))\n>>> earned_points += score\n>>> log_variable('1_star_wars_q', f'{score}, {max_score}', question_id)\n>>> os.environ['EARNED_POINTS'] = str(earned_points)\n>>> responses = update_responses(question_id, str(out_of_range_values))\n",
         "failure_message": "Failed: Some numeric values in `CONFIG` are out of expected ranges.",
         "hidden": false,
         "locked": false,
         "points": 3,
         "success_message": "Success: Numeric values in `CONFIG` are within valid ranges!"
        },
        {
         "code": ">>> from pykubegrader.telemetry import ensure_responses, log_variable, score_question, submit_question, telemetry, update_responses\n>>> import os\n>>> import base64\n>>> question_id = 'initial-configuration-6'\n>>> max_score = 1.0\n>>> score = 0\n>>> output_path_valid = CONFIG['output_path'].lower().endswith('.avi')\n>>> assert output_path_valid\n>>> if output_path_valid:\n...     score = 1.0\n>>> earned_points = float(os.environ.get('EARNED_POINTS', 0))\n>>> earned_points += score\n>>> log_variable('1_star_wars_q', f'{score}, {max_score}', question_id)\n>>> os.environ['EARNED_POINTS'] = str(earned_points)\n>>> responses = update_responses(question_id, str(output_path_valid))\n",
         "failure_message": "Failed: `output_path` does not end with `.avi`.",
         "hidden": false,
         "locked": false,
         "points": 1,
         "success_message": "Success: `output_path` has a valid `.avi` file extension!"
        }
       ],
       "scored": true,
       "setup": "",
       "teardown": "",
       "type": "doctest"
      }
     ]
    },
    "perspective-transformation": {
     "name": "perspective-transformation",
     "points": null,
     "suites": [
      {
       "cases": [
        {
         "code": ">>> from pykubegrader.telemetry import ensure_responses, log_variable, score_question, submit_question, telemetry, update_responses\n>>> import os\n>>> import base64\n>>> max_question_points = str(0.0)\n>>> earned_points = 0\n>>> os.environ['EARNED_POINTS'] = str(earned_points)\n>>> os.environ['TOTAL_POINTS_FREE_RESPONSE'] = str(57.0)\n>>> log_variable('total-points', f'week6-homework, 1_star_wars_q', 57.0)\n>>> question_id = 'perspective-transformation-1'\n>>> max_score = 0.0\n>>> score = 0\n>>> assert callable(apply_perspective), 'The function `apply_perspective` must be defined and callable.'\n>>> if callable(apply_perspective):\n...     score = 0.0\n>>> earned_points = float(os.environ.get('EARNED_POINTS', 0))\n>>> earned_points += score\n>>> log_variable('1_star_wars_q', f'{score}, {max_score}', question_id)\n>>> os.environ['EARNED_POINTS'] = str(earned_points)\n",
         "failure_message": "Failed: The function `apply_perspective` is not defined correctly.",
         "hidden": false,
         "locked": false,
         "points": 0,
         "success_message": "Success: The function `apply_perspective` exists and is callable!"
        },
        {
         "code": ">>> import numpy as np\n>>> frame = np.zeros((100, 200, 3), dtype=np.uint8)\n>>> transformed_frame = apply_perspective(frame)\n>>> assert transformed_frame.shape == frame.shape, 'Expected transformed frame to have the same shape as input frame.'\n",
         "failure_message": "Failed: The function does not apply perspective transformation correctly.",
         "hidden": false,
         "locked": false,
         "points": 0,
         "success_message": "Success: The function correctly applies a perspective transform!"
        },
        {
         "code": ">>> from pykubegrader.telemetry import ensure_responses, log_variable, score_question, submit_question, telemetry, update_responses\n>>> import os\n>>> import base64\n>>> import numpy as np\n>>> question_id = 'perspective-transformation-2'\n>>> max_score = 0.0\n>>> score = 0\n>>> h, w = (100, 200)\n>>> frame = np.zeros((h, w, 3), dtype=np.uint8)\n>>> transformed_frame = apply_perspective(frame)\n>>> assert np.all(transformed_frame[h - 1, 0] == frame[h - 1, 0]), 'Expected bottom-left corner to remain unchanged.'\n>>> assert np.all(transformed_frame[h - 1, w - 1] == frame[h - 1, w - 1]), 'Expected bottom-right corner to remain unchanged.'\n>>> if np.all(transformed_frame[h - 1, 0] == frame[h - 1, 0]) and np.all(transformed_frame[h - 1, w - 1] == frame[h - 1, w - 1]):\n...     score = 0.0\n>>> earned_points = float(os.environ.get('EARNED_POINTS', 0))\n>>> earned_points += score\n>>> log_variable('1_star_wars_q', f'{score}, {max_score}', question_id)\n>>> os.environ['EARNED_POINTS'] = str(earned_points)\n",
         "failure_message": "Failed: The function does not preserve the bottom corners.",
         "hidden": false,
         "locked": false,
         "points": 0,
         "success_message": "Success: The function maintains the bottom corners in place!"
        },
        {
         "code": ">>> from pykubegrader.telemetry import ensure_responses, log_variable, score_question, submit_question, telemetry, update_responses\n>>> import os\n>>> import base64\n>>> import numpy as np\n>>> question_id = 'perspective-transformation-3'\n>>> max_score = 0.0\n>>> score = 0\n>>> small_frame = np.zeros((10, 20, 3), dtype=np.uint8)\n>>> transformed_small = apply_perspective(small_frame)\n>>> assert transformed_small.shape == small_frame.shape, 'Expected small frame to maintain its shape after transformation.'\n>>> if transformed_small.shape == small_frame.shape:\n...     score = 0.0\n>>> earned_points = float(os.environ.get('EARNED_POINTS', 0))\n>>> earned_points += score\n>>> log_variable('1_star_wars_q', f'{score}, {max_score}', question_id)\n>>> os.environ['EARNED_POINTS'] = str(earned_points)\n",
         "failure_message": "Failed: The function does not handle small frames properly.",
         "hidden": false,
         "locked": false,
         "points": 0,
         "success_message": "Success: The function correctly handles edge cases with small frames!"
        }
       ],
       "scored": true,
       "setup": "",
       "teardown": "",
       "type": "doctest"
      }
     ]
    },
    "rendering-function": {
     "name": "rendering-function",
     "points": null,
     "suites": [
      {
       "cases": [
        {
         "code": ">>> from pykubegrader.telemetry import ensure_responses, log_variable, score_question, submit_question, telemetry, update_responses\n>>> import os\n>>> import base64\n>>> max_question_points = str(0.0)\n>>> earned_points = 0\n>>> os.environ['EARNED_POINTS'] = str(earned_points)\n>>> os.environ['TOTAL_POINTS_FREE_RESPONSE'] = str(57.0)\n>>> log_variable('total-points', f'week6-homework, 1_star_wars_q', 57.0)\n>>> question_id = 'rendering-function-1'\n>>> max_score = 0.0\n>>> score = 0\n>>> assert callable(render_text), 'The function `render_text` must be defined and callable.'\n>>> if callable(render_text):\n...     score = 0.0\n>>> earned_points = float(os.environ.get('EARNED_POINTS', 0))\n>>> earned_points += score\n>>> log_variable('1_star_wars_q', f'{score}, {max_score}', question_id)\n>>> os.environ['EARNED_POINTS'] = str(earned_points)\n",
         "failure_message": "Failed: The function `render_text` is not defined correctly.",
         "hidden": false,
         "locked": false,
         "points": 0,
         "success_message": "Success: The function `render_text` exists and is callable!"
        },
        {
         "code": ">>> from pykubegrader.telemetry import ensure_responses, log_variable, score_question, submit_question, telemetry, update_responses\n>>> import os\n>>> import base64\n>>> import numpy as np\n>>> question_id = 'rendering-function-2'\n>>> max_score = 0.0\n>>> score = 0\n>>> frame = np.zeros((500, 500, 3), dtype=np.uint8)\n>>> text_lines = ['Hello, world!']\n>>> render_text(frame, text_lines, base_y=50)\n>>> assert np.any(frame != 0), 'Expected text to be rendered on the frame.'\n>>> if np.any(frame != 0):\n...     score = 0.0\n>>> earned_points = float(os.environ.get('EARNED_POINTS', 0))\n>>> earned_points += score\n>>> log_variable('1_star_wars_q', f'{score}, {max_score}', question_id)\n>>> os.environ['EARNED_POINTS'] = str(earned_points)\n",
         "failure_message": "Failed: The function does not render text properly on a blank frame.",
         "hidden": false,
         "locked": false,
         "points": 0,
         "success_message": "Success: The function correctly renders text on a blank frame!"
        },
        {
         "code": ">>> from pykubegrader.telemetry import ensure_responses, log_variable, score_question, submit_question, telemetry, update_responses\n>>> import os\n>>> import base64\n>>> import numpy as np\n>>> question_id = 'rendering-function-3'\n>>> max_score = 0.0\n>>> score = 0\n>>> text = 'Centered Text'\n>>> frame = np.zeros((500, 500, 3), dtype=np.uint8)\n>>> render_text(frame, [text], base_y=50, font_scale=2, color=(255, 255, 255))\n>>> center_x = frame.shape[1] // 2\n>>> x_positions = np.where(frame[:, :, 0] != 0)[1]\n>>> assert abs(np.mean(x_positions) - center_x) < 15, 'Expected text to be centered horizontally.'\n>>> if abs(np.mean(x_positions) - center_x) < 15:\n...     score = 0.0\n>>> earned_points = float(os.environ.get('EARNED_POINTS', 0))\n>>> earned_points += score\n>>> log_variable('1_star_wars_q', f'{score}, {max_score}', question_id)\n>>> os.environ['EARNED_POINTS'] = str(earned_points)\n",
         "failure_message": "Failed: The function does not center text properly.",
         "hidden": false,
         "locked": false,
         "points": 0,
         "success_message": "Success: The function correctly centers text horizontally!"
        },
        {
         "code": ">>> from pykubegrader.telemetry import ensure_responses, log_variable, score_question, submit_question, telemetry, update_responses\n>>> import os\n>>> import base64\n>>> import numpy as np\n>>> question_id = 'rendering-function-4'\n>>> max_score = 0.0\n>>> score = 0\n>>> frame = np.zeros((500, 500, 3), dtype=np.uint8)\n>>> bold_text = 'Chapter 1: The Beginning'\n>>> regular_text = 'This is a normal line.'\n>>> render_text(frame, [bold_text, regular_text], base_y=50)\n>>> bold_pixels = np.count_nonzero(frame)\n>>> frame = np.zeros((500, 500, 3), dtype=np.uint8)\n>>> render_text(frame, [regular_text], base_y=50)\n>>> regular_pixels = np.count_nonzero(frame)\n>>> assert bold_pixels > regular_pixels, 'Expected bold text to use more pixels than regular text.'\n>>> if bold_pixels > regular_pixels:\n...     score = 0.0\n>>> earned_points = float(os.environ.get('EARNED_POINTS', 0))\n>>> earned_points += score\n>>> log_variable('1_star_wars_q', f'{score}, {max_score}', question_id)\n>>> os.environ['EARNED_POINTS'] = str(earned_points)\n",
         "failure_message": "Failed: The function does not apply bold formatting correctly.",
         "hidden": false,
         "locked": false,
         "points": 0,
         "success_message": "Success: The function applies bold settings to chapter/prologue titles!"
        },
        {
         "code": ">>> from pykubegrader.telemetry import ensure_responses, log_variable, score_question, submit_question, telemetry, update_responses\n>>> import os\n>>> import base64\n>>> import numpy as np\n>>> question_id = 'rendering-function-5'\n>>> max_score = 0.0\n>>> score = 0\n>>> frame = np.zeros((500, 500, 3), dtype=np.uint8)\n>>> text_lines = ['Line 1', 'Line 2', 'Line 3']\n>>> render_text(frame, text_lines, base_y=50, font_scale=2, color=(255, 255, 255))\n>>> unique_y_positions = np.unique(np.where(frame[:, :, 0] != 0)[0])\n>>> assert len(unique_y_positions) > len(text_lines), 'Expected multiple lines to be rendered separately.'\n>>> if len(unique_y_positions) > len(text_lines):\n...     score = 0.0\n>>> earned_points = float(os.environ.get('EARNED_POINTS', 0))\n>>> earned_points += score\n>>> log_variable('1_star_wars_q', f'{score}, {max_score}', question_id)\n>>> os.environ['EARNED_POINTS'] = str(earned_points)\n",
         "failure_message": "Failed: The function does not properly space multiple lines.",
         "hidden": false,
         "locked": false,
         "points": 0,
         "success_message": "Success: The function correctly handles multiple lines!"
        },
        {
         "code": ">>> from pykubegrader.telemetry import ensure_responses, log_variable, score_question, submit_question, telemetry, update_responses\n>>> import os\n>>> import base64\n>>> import numpy as np\n>>> question_id = 'rendering-function-6'\n>>> max_score = 0.0\n>>> score = 0\n>>> frame = np.zeros((500, 500, 3), dtype=np.uint8)\n>>> text = 'Custom Font'\n>>> render_text(frame, [text], base_y=50, font_scale=2.0, font_thickness=3)\n>>> custom_pixels = np.count_nonzero(frame)\n>>> frame = np.zeros((500, 500, 3), dtype=np.uint8)\n>>> render_text(frame, [text], base_y=50)\n>>> default_pixels = np.count_nonzero(frame)\n>>> assert custom_pixels > default_pixels, 'Expected custom font scale and thickness to increase text size.'\n>>> if custom_pixels > default_pixels:\n...     score = 0.0\n>>> earned_points = float(os.environ.get('EARNED_POINTS', 0))\n>>> earned_points += score\n>>> log_variable('1_star_wars_q', f'{score}, {max_score}', question_id)\n>>> os.environ['EARNED_POINTS'] = str(earned_points)\n",
         "failure_message": "Failed: The function does not apply custom font scale and thickness correctly.",
         "hidden": false,
         "locked": false,
         "points": 0,
         "success_message": "Success: The function correctly applies custom font scale and thickness!"
        },
        {
         "code": ">>> from pykubegrader.telemetry import ensure_responses, log_variable, score_question, submit_question, telemetry, update_responses\n>>> import os\n>>> import base64\n>>> import numpy as np\n>>> question_id = 'rendering-function-7'\n>>> max_score = 0.0\n>>> score = 0\n>>> frame = np.zeros((500, 500, 3), dtype=np.uint8)\n>>> render_text(frame, ['Colored Text'], base_y=50, font_scale=3, color=(0, 0, 255))\n>>> red_pixels = np.count_nonzero(frame[:, :, 2])\n>>> assert red_pixels > 0, 'Expected text to be rendered in red.'\n>>> if red_pixels > 0:\n...     score = 0.0\n>>> earned_points = float(os.environ.get('EARNED_POINTS', 0))\n>>> earned_points += score\n>>> log_variable('1_star_wars_q', f'{score}, {max_score}', question_id)\n>>> os.environ['EARNED_POINTS'] = str(earned_points)\n",
         "failure_message": "Failed: The function does not apply the correct color.",
         "hidden": false,
         "locked": false,
         "points": 0,
         "success_message": "Success: The function correctly colors the text!"
        }
       ],
       "scored": true,
       "setup": "",
       "teardown": "",
       "type": "doctest"
      }
     ]
    },
    "star-wars-import-statements": {
     "name": "star-wars-import-statements",
     "points": null,
     "suites": [
      {
       "cases": [
        {
         "code": ">>> from pykubegrader.telemetry import ensure_responses, log_variable, score_question, submit_question, telemetry, update_responses\n>>> import os\n>>> import base64\n>>> import sys\n>>> imported_modules = set(sys.modules.keys())\n>>> required_modules = {'cv2', 'numpy', 'random', 're', 'typing'}\n>>> imported_typing = {'List', 'Dict', 'Any'}\n>>> max_question_points = str(2.0)\n>>> earned_points = 0\n>>> os.environ['EARNED_POINTS'] = str(earned_points)\n>>> os.environ['TOTAL_POINTS_FREE_RESPONSE'] = str(57.0)\n>>> log_variable('total-points', f'week6-homework, 1_star_wars_q', 57.0)\n>>> question_id = 'star-wars-import-statements-1'\n>>> max_score = 2.0\n>>> score = 0\n>>> missing_typing = [name for name in imported_typing if name not in globals()]\n>>> missing_modules = required_modules - imported_modules\n>>> assert not missing_modules, f'Missing imports: {missing_modules}. Ensure all required modules are imported.'\n>>> assert not missing_typing, f'Missing from typing: {missing_typing}. Ensure `List`, `Dict`, and `Any` are imported.'\n>>> if not missing_modules and (not missing_typing):\n...     score = 2.0\n>>> earned_points = float(os.environ.get('EARNED_POINTS', 0))\n>>> earned_points += score\n>>> log_variable('1_star_wars_q', f'{score}, {max_score}', question_id)\n>>> os.environ['EARNED_POINTS'] = str(earned_points)\n>>> responses = update_responses(question_id, str(imported_modules))\n>>> responses = update_responses(question_id, str(imported_typing))\n",
         "failure_message": "Failed: One or more required packages or typing imports are missing.",
         "hidden": false,
         "locked": false,
         "points": 2,
         "success_message": "Success: All required packages and typing imports are correctly imported!"
        }
       ],
       "scored": true,
       "setup": "",
       "teardown": "",
       "type": "doctest"
      }
     ]
    },
    "text-parsing-and-formatting": {
     "name": "text-parsing-and-formatting",
     "points": null,
     "suites": [
      {
       "cases": [
        {
         "code": ">>> from pykubegrader.telemetry import ensure_responses, log_variable, score_question, submit_question, telemetry, update_responses\n>>> import os\n>>> import base64\n>>> import re\n>>> from typing import List\n>>> max_question_points = str(0.0)\n>>> earned_points = 0\n>>> os.environ['EARNED_POINTS'] = str(earned_points)\n>>> os.environ['TOTAL_POINTS_FREE_RESPONSE'] = str(57.0)\n>>> log_variable('total-points', f'week6-homework, 1_star_wars_q', 57.0)\n>>> question_id = 'text-parsing-and-formatting-1'\n>>> max_score = 0.0\n>>> score = 0\n>>> markdown_text = '# Heading 1\\n## Heading 2\\n### Heading 3'\n>>> parsed_text = parse_markdown(markdown_text)\n>>> condition = parsed_text == ['HEADING 1', 'HEADING 2', 'HEADING 3']\n>>> assert condition, 'Expected headings to be converted to uppercase.'\n>>> if condition:\n...     score = 0.0\n>>> earned_points = float(os.environ.get('EARNED_POINTS', 0))\n>>> earned_points += score\n>>> log_variable('1_star_wars_q', f'{score}, {max_score}', question_id)\n>>> os.environ['EARNED_POINTS'] = str(earned_points)\n",
         "failure_message": "Failed: The function does not correctly process headings.",
         "hidden": false,
         "locked": false,
         "points": 0,
         "success_message": "Success: The function correctly processes headings!"
        },
        {
         "code": ">>> from pykubegrader.telemetry import ensure_responses, log_variable, score_question, submit_question, telemetry, update_responses\n>>> import os\n>>> import base64\n>>> question_id = 'text-parsing-and-formatting-2'\n>>> max_score = 0.0\n>>> score = 0\n>>> markdown_text = '**Bold Text**\\n*Italic Text*\\n`Inline Code`'\n>>> parsed_text = parse_markdown(markdown_text)\n>>> condition = parsed_text == ['Bold Text', 'Italic Text', 'Inline Code']\n>>> assert condition, 'Expected markdown markers to be removed.'\n>>> if condition:\n...     score = 0.0\n>>> earned_points = float(os.environ.get('EARNED_POINTS', 0))\n>>> earned_points += score\n>>> log_variable('1_star_wars_q', f'{score}, {max_score}', question_id)\n>>> os.environ['EARNED_POINTS'] = str(earned_points)\n",
         "failure_message": "Failed: The function does not remove markdown markers properly.",
         "hidden": false,
         "locked": false,
         "points": 0,
         "success_message": "Success: The function correctly removes markdown markers!"
        },
        {
         "code": ">>> from pykubegrader.telemetry import ensure_responses, log_variable, score_question, submit_question, telemetry, update_responses\n>>> import os\n>>> import base64\n>>> question_id = 'text-parsing-and-formatting-3'\n>>> max_score = 0.0\n>>> score = 0\n>>> markdown_text = ''\n>>> parsed_text = parse_markdown(markdown_text)\n>>> assert parsed_text == [], 'Expected an empty list for an empty string.'\n>>> if parsed_text == []:\n...     score = 0.0\n>>> earned_points = float(os.environ.get('EARNED_POINTS', 0))\n>>> earned_points += score\n>>> log_variable('1_star_wars_q', f'{score}, {max_score}', question_id)\n>>> os.environ['EARNED_POINTS'] = str(earned_points)\n",
         "failure_message": "Failed: The function does not handle an empty string correctly.",
         "hidden": false,
         "locked": false,
         "points": 0,
         "success_message": "Success: The function correctly processes an empty string!"
        },
        {
         "code": ">>> from pykubegrader.telemetry import ensure_responses, log_variable, score_question, submit_question, telemetry, update_responses\n>>> import os\n>>> import base64\n>>> question_id = 'text-parsing-and-formatting-4'\n>>> max_score = 0.0\n>>> score = 0\n>>> markdown_text = 'This is a long paragraph that should be wrapped into multiple lines according to the max_line_length.'\n>>> parsed_text = parse_markdown(markdown_text, max_line_length=20)\n>>> expected_output = ['This is a long', 'paragraph that', 'should be wrapped', 'into multiple lines', 'according to the', 'max_line_length.']\n>>> assert parsed_text == expected_output, 'Expected text to be wrapped correctly.'\n>>> if parsed_text == expected_output:\n...     score = 0.0\n>>> earned_points = float(os.environ.get('EARNED_POINTS', 0))\n>>> earned_points += score\n>>> log_variable('1_star_wars_q', f'{score}, {max_score}', question_id)\n>>> os.environ['EARNED_POINTS'] = str(earned_points)\n",
         "failure_message": "Failed: The function does not wrap long text correctly.",
         "hidden": false,
         "locked": false,
         "points": 0,
         "success_message": "Success: The function correctly handles paragraph text wrapping!"
        },
        {
         "code": ">>> from pykubegrader.telemetry import ensure_responses, log_variable, score_question, submit_question, telemetry, update_responses\n>>> import os\n>>> import base64\n>>> question_id = 'text-parsing-and-formatting-5'\n>>> max_score = 0.0\n>>> score = 0\n>>> markdown_text = '# Title\\nThis is a **bold** sentence.\\n*Italics* and `code` should be plain text.'\n>>> parsed_text = parse_markdown(markdown_text)\n>>> expected_output = ['TITLE', 'This is a bold sentence.', 'Italics and code should be plain text.']\n>>> assert parsed_text == expected_output, 'Expected markdown content to be processed correctly.'\n>>> if parsed_text == expected_output:\n...     score = 0.0\n>>> earned_points = float(os.environ.get('EARNED_POINTS', 0))\n>>> earned_points += score\n>>> log_variable('1_star_wars_q', f'{score}, {max_score}', question_id)\n>>> os.environ['EARNED_POINTS'] = str(earned_points)\n",
         "failure_message": "Failed: The function does not handle mixed content properly.",
         "hidden": false,
         "locked": false,
         "points": 0,
         "success_message": "Success: The function correctly processes mixed markdown content!"
        },
        {
         "code": ">>> from pykubegrader.telemetry import ensure_responses, log_variable, score_question, submit_question, telemetry, update_responses\n>>> import os\n>>> import base64\n>>> question_id = 'text-parsing-and-formatting-6'\n>>> max_score = 0.0\n>>> score = 0\n>>> markdown_text = 'First line\\n\\nSecond line\\n\\nThird line'\n>>> parsed_text = parse_markdown(markdown_text)\n>>> expected_output = ['First line', '', 'Second line', '', 'Third line']\n>>> assert parsed_text == expected_output, 'Expected blank lines to be preserved.'\n>>> if parsed_text == expected_output:\n...     score = 0.0\n>>> earned_points = float(os.environ.get('EARNED_POINTS', 0))\n>>> earned_points += score\n>>> log_variable('1_star_wars_q', f'{score}, {max_score}', question_id)\n>>> os.environ['EARNED_POINTS'] = str(earned_points)\n",
         "failure_message": "Failed: The function does not preserve blank lines correctly.",
         "hidden": false,
         "locked": false,
         "points": 0,
         "success_message": "Success: The function correctly handles newlines!"
        },
        {
         "code": ">>> markdown_text = '   # Trimmed Heading   \\n   Some text with spaces    '\n>>> parsed_text = parse_markdown(markdown_text)\n>>> expected_output = ['TRIMMED HEADING', 'Some text with spaces']\n>>> assert parsed_text == expected_output, 'Expected leading and trailing spaces to be removed.'\n",
         "failure_message": "Failed: The function does not remove unnecessary spaces.",
         "hidden": false,
         "locked": false,
         "points": 0,
         "success_message": "Success: The function correctly removes leading/trailing spaces!"
        },
        {
         "code": ">>> from pykubegrader.telemetry import ensure_responses, log_variable, score_question, submit_question, telemetry, update_responses\n>>> import os\n>>> import base64\n>>> question_id = 'text-parsing-and-formatting-7'\n>>> max_score = 0.0\n>>> score = 0\n>>> markdown_text = 'Plain text with no markdown.'\n>>> parsed_text = parse_markdown(markdown_text)\n>>> condition = parsed_text == ['Plain text with no markdown.']\n>>> assert condition, 'Expected plain text to remain unchanged.'\n>>> if condition:\n...     score = 0.0\n>>> earned_points = float(os.environ.get('EARNED_POINTS', 0))\n>>> earned_points += score\n>>> log_variable('1_star_wars_q', f'{score}, {max_score}', question_id)\n>>> os.environ['EARNED_POINTS'] = str(earned_points)\n",
         "failure_message": "Failed: The function modifies plain text incorrectly.",
         "hidden": false,
         "locked": false,
         "points": 0,
         "success_message": "Success: The function correctly handles non-markdown text!"
        }
       ],
       "scored": true,
       "setup": "",
       "teardown": "",
       "type": "doctest"
      }
     ]
    },
    "text-size-function": {
     "name": "text-size-function",
     "points": null,
     "suites": [
      {
       "cases": [
        {
         "code": ">>> from pykubegrader.telemetry import ensure_responses, log_variable, score_question, submit_question, telemetry, update_responses\n>>> import os\n>>> import base64\n>>> import cv2\n>>> max_question_points = str(2.0)\n>>> earned_points = 0\n>>> os.environ['EARNED_POINTS'] = str(earned_points)\n>>> os.environ['TOTAL_POINTS_FREE_RESPONSE'] = str(57.0)\n>>> log_variable('total-points', f'week6-homework, 1_star_wars_q', 57.0)\n>>> question_id = 'text-size-function-1'\n>>> max_score = 0.0\n>>> score = 0\n>>> text_lines = ['Single Line']\n>>> expected_height = cv2.getTextSize(text_lines[0], cv2.FONT_HERSHEY_SIMPLEX, 1.0, 2)[0][1] + 10\n>>> assert measure_text_height(text_lines) == expected_height, f'Expected {expected_height}, got {measure_text_height(text_lines)}'\n>>> if measure_text_height(text_lines) == expected_height:\n...     score = 0.0\n>>> earned_points = float(os.environ.get('EARNED_POINTS', 0))\n>>> earned_points += score\n>>> log_variable('1_star_wars_q', f'{score}, {max_score}', question_id)\n>>> os.environ['EARNED_POINTS'] = str(earned_points)\n",
         "failure_message": "Failed: The function does not return the expected height for a single line.",
         "hidden": false,
         "locked": false,
         "points": 0,
         "success_message": "Success: The function correctly calculates height for a single line!"
        },
        {
         "code": ">>> from pykubegrader.telemetry import ensure_responses, log_variable, score_question, submit_question, telemetry, update_responses\n>>> import os\n>>> import base64\n>>> import cv2\n>>> question_id = 'text-size-function-2'\n>>> max_score = 0.0\n>>> score = 0\n>>> text_lines = ['Line 1', 'Line 2', 'Line 3']\n>>> expected_height = sum((cv2.getTextSize(line, cv2.FONT_HERSHEY_SIMPLEX, 1.0, 2)[0][1] + 10 for line in text_lines))\n>>> assert measure_text_height(text_lines) == expected_height, f'Expected {expected_height}, got {measure_text_height(text_lines)}'\n>>> if measure_text_height(text_lines) == expected_height:\n...     score = 0.0\n>>> earned_points = float(os.environ.get('EARNED_POINTS', 0))\n>>> earned_points += score\n>>> log_variable('1_star_wars_q', f'{score}, {max_score}', question_id)\n>>> os.environ['EARNED_POINTS'] = str(earned_points)\n",
         "failure_message": "Failed: The function does not return the expected height for multiple lines.",
         "hidden": false,
         "locked": false,
         "points": 0,
         "success_message": "Success: The function correctly calculates height for multiple lines!"
        },
        {
         "code": ">>> from pykubegrader.telemetry import ensure_responses, log_variable, score_question, submit_question, telemetry, update_responses\n>>> import os\n>>> import base64\n>>> question_id = 'text-size-function-3'\n>>> max_score = 0.0\n>>> score = 0\n>>> text_lines = []\n>>> assert measure_text_height(text_lines) == 0, 'Expected height 0 for an empty text list.'\n>>> if measure_text_height(text_lines) == 0:\n...     score = 0.0\n>>> earned_points = float(os.environ.get('EARNED_POINTS', 0))\n>>> earned_points += score\n>>> log_variable('1_star_wars_q', f'{score}, {max_score}', question_id)\n>>> os.environ['EARNED_POINTS'] = str(earned_points)\n",
         "failure_message": "Failed: The function should return zero for an empty list.",
         "hidden": false,
         "locked": false,
         "points": 0,
         "success_message": "Success: The function correctly returns zero height for an empty list!"
        },
        {
         "code": ">>> from pykubegrader.telemetry import ensure_responses, log_variable, score_question, submit_question, telemetry, update_responses\n>>> import os\n>>> import base64\n>>> import cv2\n>>> question_id = 'text-size-function-4'\n>>> max_score = 0.0\n>>> score = 0\n>>> text_lines = ['Short', 'A very long text line that should have the same height']\n>>> expected_height = sum((cv2.getTextSize(line, cv2.FONT_HERSHEY_SIMPLEX, 1.0, 2)[0][1] + 10 for line in text_lines))\n>>> assert measure_text_height(text_lines) == expected_height, f'Expected {expected_height}, got {measure_text_height(text_lines)}'\n>>> if measure_text_height(text_lines) == expected_height:\n...     score = 0.0\n>>> earned_points = float(os.environ.get('EARNED_POINTS', 0))\n>>> earned_points += score\n>>> log_variable('1_star_wars_q', f'{score}, {max_score}', question_id)\n>>> os.environ['EARNED_POINTS'] = str(earned_points)\n",
         "failure_message": "Failed: The function does not handle varying text lengths correctly.",
         "hidden": false,
         "locked": false,
         "points": 0,
         "success_message": "Success: The function correctly handles varying text lengths!"
        },
        {
         "code": ">>> from pykubegrader.telemetry import ensure_responses, log_variable, score_question, submit_question, telemetry, update_responses\n>>> import os\n>>> import base64\n>>> import cv2\n>>> question_id = 'text-size-function-5'\n>>> max_score = 0.0\n>>> score = 0\n>>> text_lines = ['Line 1', 'Line 2', 'Line 3']\n>>> expected_height = sum((cv2.getTextSize(line, cv2.FONT_HERSHEY_SIMPLEX, 1.0, 2)[0][1] + 10 for line in text_lines))\n>>> assert measure_text_height(text_lines) == expected_height, f'Expected {expected_height}, got {measure_text_height(text_lines)}'\n>>> if measure_text_height(text_lines) == expected_height:\n...     score = 0.0\n>>> earned_points = float(os.environ.get('EARNED_POINTS', 0))\n>>> earned_points += score\n>>> log_variable('1_star_wars_q', f'{score}, {max_score}', question_id)\n>>> os.environ['EARNED_POINTS'] = str(earned_points)\n",
         "failure_message": "Failed: The function does not return the expected height for multiple lines.",
         "hidden": false,
         "locked": false,
         "points": 0,
         "success_message": "Success: The function correctly calculates height for multiple lines!"
        },
        {
         "code": ">>> from pykubegrader.telemetry import ensure_responses, log_variable, score_question, submit_question, telemetry, update_responses\n>>> import os\n>>> import base64\n>>> question_id = 'text-size-function-6'\n>>> max_score = 1.0\n>>> score = 0\n>>> text_lines = []\n>>> assert measure_text_height(text_lines) == 0, 'Expected height 0 for an empty text list.'\n>>> if measure_text_height(text_lines) == 0:\n...     score = 1.0\n>>> earned_points = float(os.environ.get('EARNED_POINTS', 0))\n>>> earned_points += score\n>>> log_variable('1_star_wars_q', f'{score}, {max_score}', question_id)\n>>> os.environ['EARNED_POINTS'] = str(earned_points)\n",
         "failure_message": "Failed: The function should return zero for an empty list.",
         "hidden": false,
         "locked": false,
         "points": 1,
         "success_message": "Success: The function correctly returns zero height for an empty list!"
        },
        {
         "code": ">>> from pykubegrader.telemetry import ensure_responses, log_variable, score_question, submit_question, telemetry, update_responses\n>>> import os\n>>> import base64\n>>> import cv2\n>>> question_id = 'text-size-function-7'\n>>> max_score = 1.0\n>>> score = 0\n>>> text_lines = ['Short', 'A very long text line that should have the same height']\n>>> expected_height = sum((cv2.getTextSize(line, cv2.FONT_HERSHEY_SIMPLEX, 1.0, 2)[0][1] + 10 for line in text_lines))\n>>> assert measure_text_height(text_lines) == expected_height, f'Expected {expected_height}, got {measure_text_height(text_lines)}'\n>>> if measure_text_height(text_lines) == expected_height:\n...     score = 1.0\n>>> earned_points = float(os.environ.get('EARNED_POINTS', 0))\n>>> earned_points += score\n>>> log_variable('1_star_wars_q', f'{score}, {max_score}', question_id)\n>>> os.environ['EARNED_POINTS'] = str(earned_points)\n",
         "failure_message": "Failed: The function does not handle varying text lengths correctly.",
         "hidden": false,
         "locked": false,
         "points": 1,
         "success_message": "Success: The function correctly handles varying text lengths!"
        }
       ],
       "scored": true,
       "setup": "",
       "teardown": "",
       "type": "doctest"
      }
     ]
    },
    "video-writer-function": {
     "name": "video-writer-function",
     "points": null,
     "suites": [
      {
       "cases": [
        {
         "code": ">>> from pykubegrader.telemetry import ensure_responses, log_variable, score_question, submit_question, telemetry, update_responses\n>>> import os\n>>> import base64\n>>> max_question_points = str(0.0)\n>>> earned_points = 0\n>>> os.environ['EARNED_POINTS'] = str(earned_points)\n>>> os.environ['TOTAL_POINTS_FREE_RESPONSE'] = str(57.0)\n>>> log_variable('total-points', f'week6-homework, 1_star_wars_q', 57.0)\n>>> question_id = 'video-writer-function-1'\n>>> max_score = 0.0\n>>> score = 0\n>>> assert callable(create_video_writer), 'The function `create_video_writer` must be defined and callable.'\n>>> if callable(create_video_writer):\n...     score = 0.0\n>>> earned_points = float(os.environ.get('EARNED_POINTS', 0))\n>>> earned_points += score\n>>> log_variable('1_star_wars_q', f'{score}, {max_score}', question_id)\n>>> os.environ['EARNED_POINTS'] = str(earned_points)\n",
         "failure_message": "Failed: The function `create_video_writer` is not defined correctly.",
         "hidden": false,
         "locked": false,
         "points": 0,
         "success_message": "Success: The function `create_video_writer` exists and is callable!"
        },
        {
         "code": ">>> from pykubegrader.telemetry import ensure_responses, log_variable, score_question, submit_question, telemetry, update_responses\n>>> import os\n>>> import base64\n>>> question_id = 'video-writer-function-2'\n>>> max_score = 0.0\n>>> score = 0\n>>> video_writer = create_video_writer()\n>>> assert isinstance(video_writer, cv2.VideoWriter), 'Expected a cv2.VideoWriter object.'\n>>> if isinstance(video_writer, cv2.VideoWriter):\n...     score = 0.0\n>>> earned_points = float(os.environ.get('EARNED_POINTS', 0))\n>>> earned_points += score\n>>> log_variable('1_star_wars_q', f'{score}, {max_score}', question_id)\n>>> os.environ['EARNED_POINTS'] = str(earned_points)\n",
         "failure_message": "Failed: The function does not return a valid VideoWriter object.",
         "hidden": false,
         "locked": false,
         "points": 0,
         "success_message": "Success: The function creates a valid VideoWriter object!"
        },
        {
         "code": ">>> from pykubegrader.telemetry import ensure_responses, log_variable, score_question, submit_question, telemetry, update_responses\n>>> import os\n>>> import base64\n>>> question_id = 'video-writer-function-3'\n>>> max_score = 0.0\n>>> score = 0\n>>> config_defaults = {'output_path': 'output.avi', 'codec': 'XVID', 'fps': 30, 'frame_width': 640, 'frame_height': 480}\n>>> video_writer = create_video_writer()\n>>> assert video_writer.isOpened(), 'Expected VideoWriter to be successfully opened with default settings.'\n>>> if video_writer.isOpened():\n...     score = 0.0\n>>> earned_points = float(os.environ.get('EARNED_POINTS', 0))\n>>> earned_points += score\n>>> log_variable('1_star_wars_q', f'{score}, {max_score}', question_id)\n>>> os.environ['EARNED_POINTS'] = str(earned_points)\n",
         "failure_message": "Failed: The function does not correctly apply default configuration values.",
         "hidden": false,
         "locked": false,
         "points": 0,
         "success_message": "Success: The function correctly applies the default configuration!"
        }
       ],
       "scored": true,
       "setup": "",
       "teardown": "",
       "type": "doctest"
      }
     ]
    }
   }
  }
 },
 "nbformat": 4,
 "nbformat_minor": 2
}
