{
 "cells": [
  {
   "cell_type": "code",
   "execution_count": null,
   "metadata": {
    "deletable": false,
    "editable": false,
    "tags": [
     "skip-execution"
    ]
   },
   "outputs": [],
   "source": [
    "# You must make sure to run all cells in sequence using shift + enter or you might encounter errors\n",
    "from pykubegrader.initialize import initialize_assignment\n",
    "\n",
    "responses = initialize_assignment(\"1_PacMan\", \"week_6\", \"lab\", assignment_points = 61.0, assignment_tag = 'week6-lab')\n",
    "\n",
    "# Initialize Otter\n",
    "import otter\n",
    "grader = otter.Notebook(\"1_PacMan.ipynb\")"
   ]
  },
  {
   "cell_type": "markdown",
   "metadata": {
    "deletable": false,
    "editable": false
   },
   "source": [
    "# 🕹️ Pac-Man Python Challenge: Master Code Modularity & Functions! 🍒👻\n",
    "\n",
    "Welcome, brave coder! 🚀 Today, you embark on a legendary quest—to build your very own Pac-Man using Python! 🎩🐱‍🏍\n",
    "\n",
    "In this challenge, you’ll learn how to break down complex game mechanics into modular, reusable functions—just like Pac-Man breaks down pellets! 🍽️'\n",
    "\n",
    "## 👾 Challenge Breakdown\n",
    "🎮 Step 1: Move Pac-Man around the board using functions.  \n",
    "👻 Step 2: Make the ghosts chase Pac-Man (but don’t let them cheat!).  \n",
    "⚡ Step 3: Add power pellets—Pac-Man’s moment of glory!  \n",
    "🏆 Step 4: Implement scoring\n",
    "\n",
    "## 🚀 Why is this Fun?\n",
    "- Eat pellets, chase high scores, and outsmart ghosts!  \n",
    "- Write clean, modular code like a true game developer.  \n",
    "- See your game come to life with every function you write!\n",
    "- You can modify the code to ensure victory for Pac.  \n",
    "\n",
    "## 🏁 Ready? Get Set… CODE!  \n",
    "Fire up your Python editor, and let’s make some gaming magic happen! 🕹️✨  \n",
    "\n",
    "> “Waka Waka! Let’s modularize that code!” – Pac-Man, probably. 🍒👾"
   ]
  },
  {
   "cell_type": "markdown",
   "metadata": {
    "deletable": false,
    "editable": false
   },
   "source": [
    "## Imports and Configuration"
   ]
  },
  {
   "cell_type": "code",
   "execution_count": null,
   "metadata": {
    "tags": [
     "skip-execution"
    ]
   },
   "outputs": [],
   "source": [
    "import ipywidgets as widgets\n",
    "from IPython.display import display\n",
    "import random\n",
    "from collections import deque\n",
    "\n",
    "# ---------------------------------------------\n",
    "# CONFIGURATION\n",
    "# ---------------------------------------------\n",
    "PACMAN_LIVES = 3\n",
    "GHOST_SPAWN_INCREMENT = 0.05  # how much the spawn probability increases each turn\n",
    "INITIAL_GHOST_SPAWN_PROB = 0.0\n",
    "\n",
    "BOARD_LAYOUT = [\n",
    "    \"###########\",\n",
    "    \"#....G....#\",\n",
    "    \"#...###...#\",\n",
    "    \"#...# #...#\",\n",
    "    \"#...# #...#\",\n",
    "    \"#...###...#\",\n",
    "    \"#.........#\",\n",
    "    \"#.###.###.#\",\n",
    "    \"#.#     #.#\",\n",
    "    \"#.###.###.#\",\n",
    "    \"#.........#\",\n",
    "    \"#...###...#\",\n",
    "    \"#...# #...#\",\n",
    "    \"#...# #...#\",\n",
    "    \"#...###...#\",\n",
    "    \"#....P....#\",\n",
    "    \"###########\",\n",
    "]\n",
    "\n",
    "ROWS = len(BOARD_LAYOUT)\n",
    "COLS = len(BOARD_LAYOUT[0])\n",
    "\n",
    "# ---------------------------------------------\n",
    "# EMOJI MAP\n",
    "# ---------------------------------------------\n",
    "symbol_map = {\n",
    "    \"#\": \"🧱\",  # Wall\n",
    "    \".\": \"🍒\",  # Pellet\n",
    "    \" \": \"⚫\",  # Empty\n",
    "    \"P\": \"😋\",  # Pac-Man\n",
    "    \"G\": \"👻\",  # Ghost\n",
    "}"
   ]
  },
  {
   "cell_type": "markdown",
   "metadata": {
    "deletable": false,
    "editable": false
   },
   "source": [
    "## Setup the board and Data Structures\n",
    "\n",
    "It is time to create the board and the data structures that will hold the game state. We will provide details in the inline comments to guide you through the implementation."
   ]
  },
  {
   "cell_type": "code",
   "execution_count": null,
   "metadata": {
    "tags": [
     "skip-execution"
    ]
   },
   "outputs": [],
   "source": [
    "# Convert board into a 2D list for mutability\n",
    "# loop through each row in the board layout and convert it to a list\n",
    "# make a list that is a list of rows, try to do this in a single line\n",
    "# save the result in a variable  `board`\n",
    "...\n",
    "\n",
    "# We'll collect all ghost positions in a list\n",
    "# create an empty list called `ghosts`\n",
    "# save the result in a variable called ghosts\n",
    "...\n",
    "\n",
    "# set the pacman position to [0, 0], the variable `pacman_pos``\n",
    "...\n",
    "\n",
    "# set the pacman start position to [0, 0], the variable `pacman_start``\n",
    "...\n",
    "\n",
    "# set the total pellets to 0, the variable total_pellets\n",
    "...\n",
    "\n",
    "# set the variable pacman_lives to PACMAN_LIVES from the configuration\n",
    "...\n",
    "\n",
    "# set the variable `score`` to 0\n",
    "...\n",
    "\n",
    "# set the variable `game_over` to False\n",
    "...\n",
    "\n",
    "# Probability that a new ghost spawns this turn\n",
    "# set the variable `ghost_spawn_prob` to INITIAL_GHOST_SPAWN_PROB\n",
    "..."
   ]
  },
  {
   "cell_type": "code",
   "execution_count": null,
   "metadata": {
    "deletable": false,
    "editable": false,
    "tags": [
     "skip-execution"
    ]
   },
   "outputs": [],
   "source": [
    "grader.check(\"Initial-Parameters\")"
   ]
  },
  {
   "cell_type": "markdown",
   "metadata": {
    "deletable": false,
    "editable": false
   },
   "source": [
    "## Question 2 (Points: 5.0): Question 1 (Points: 9.0): Parse the Board\n",
    "\n",
    "We want to parse the board and create a data structure that will hold the game state. We will provide details in the inline comments to guide you through the implementation."
   ]
  },
  {
   "cell_type": "code",
   "execution_count": null,
   "metadata": {
    "tags": [
     "skip-execution"
    ]
   },
   "outputs": [],
   "source": [
    "# Parse board to find Pac-Man, initial Ghost(s), and count pellets\n",
    "# loop through each row, typically denoted by j\n",
    "...\n",
    "    # loop through each column\n",
    "    # typically denoted by i\n",
    "    ...\n",
    "        # get the character at the current position, save it in a variable called `ch`\n",
    "        ...\n",
    "        # if the character is a pellet \".\", increment the `total_pellets` count\n",
    "        ...\n",
    "        # if the character is a P, set the pacman_pos to the current position, and the pacman_start to the current position\n",
    "        # Remove the 'P' from the board, and replace with a \" \", a space.\n",
    "        ...\n",
    "        # if the character is a G, add the current position to the ghosts list\n",
    "        # Remove the 'P' from the board, and replace with a \" \", a space.\n",
    "        ..."
   ]
  },
  {
   "cell_type": "code",
   "execution_count": null,
   "metadata": {
    "deletable": false,
    "editable": false,
    "tags": [
     "skip-execution"
    ]
   },
   "outputs": [],
   "source": [
    "grader.check(\"Parse-Board\")"
   ]
  },
  {
   "cell_type": "code",
   "execution_count": null,
   "metadata": {
    "tags": [
     "skip-execution"
    ]
   },
   "outputs": [],
   "source": [
    "def valid_move(board, x, y):\n",
    "    \"\"\"\n",
    "    Return True if (x, y) is inside the board and not a wall (#).\n",
    "    \"\"\"\n",
    "    # if x is less than 0; or x is greater than or equal to COLS; or y is less than 0 or y is greater than or equal to ROWS, return False\n",
    "    # this means the move is not valid\n",
    "    ...\n",
    "    # return True if the position is not a wall\n",
    "    # the wall is represented by the character '#' in the board\n",
    "    # You must also check that the position is within the board boundaries\n",
    "    ..."
   ]
  },
  {
   "cell_type": "code",
   "execution_count": null,
   "metadata": {
    "deletable": false,
    "editable": false,
    "tags": [
     "skip-execution"
    ]
   },
   "outputs": [],
   "source": [
    "grader.check(\"valid-move-function\")"
   ]
  },
  {
   "cell_type": "markdown",
   "metadata": {
    "deletable": false,
    "editable": false
   },
   "source": [
    "## Question 3 (Points: 7.0): Ghost Step\n",
    "\n",
    "We have provided you with the function to move the ghosts. The logic is somewhat complex, look at the inline comments to understand how it works."
   ]
  },
  {
   "cell_type": "code",
   "execution_count": null,
   "metadata": {
    "tags": [
     "skip-execution"
    ]
   },
   "outputs": [],
   "source": [
    "def ghost_bfs_step(gx, gy, px, py):\n",
    "    \"\"\" \n",
    "    Return the next cell (nx, ny) for a ghost at (gx, gy) to move toward\n",
    "    Pac-Man at (px, py) using BFS. If path is found, we return the *next step*.\n",
    "    If no path is found, return None.\n",
    "    \"\"\"\n",
    "\n",
    "    # if the ghost position is the same as the pacman position, return the ghost position\n",
    "    if (gx, gy) == (px, py):\n",
    "        return (gx, gy)\n",
    "    \n",
    "    # create a queue and add the ghost position to it\n",
    "    # create a set called visited\n",
    "    queue = deque()\n",
    "    visited = set()\n",
    "    parent = {}\n",
    "    \n",
    "    # add the ghost position to the queue and the visited set\n",
    "    queue.append((gx, gy))\n",
    "    visited.add((gx, gy))\n",
    "    found = False\n",
    "    \n",
    "    # create a list of directions\n",
    "    directions = [(0, -1), (0, 1), (-1, 0), (1, 0)]\n",
    "    \n",
    "    # while the queue is not empty\n",
    "    while queue:\n",
    "        # pop the first element from the queue and save it in cx, cy\n",
    "        cx, cy = queue.popleft()\n",
    "        \n",
    "        # if the ghost position is the same as the pacman position, set found to True and break\n",
    "        if (cx, cy) == (px, py):\n",
    "            found = True\n",
    "            break\n",
    "        \n",
    "        # loop through each direction in the directions list\n",
    "        for dx, dy in directions:\n",
    "            nx, ny = cx + dx, cy + dy\n",
    "            if valid_move(board,nx, ny) and (nx, ny) not in visited:\n",
    "                visited.add((nx, ny))\n",
    "                parent[(nx, ny)] = (cx, cy)\n",
    "                queue.append((nx, ny))\n",
    "    \n",
    "    if not found:\n",
    "        return None\n",
    "    \n",
    "    # reconstruct path from Pac-Man back to Ghost\n",
    "    path = []\n",
    "    node = (px, py)\n",
    "    while node != (gx, gy):\n",
    "        path.append(node)\n",
    "        node = parent[node]\n",
    "    path.append((gx, gy))\n",
    "    path.reverse()\n",
    "    \n",
    "    if len(path) > 1:\n",
    "        return path[1]  # next step\n",
    "    else:\n",
    "        return None"
   ]
  },
  {
   "cell_type": "code",
   "execution_count": null,
   "metadata": {
    "tags": [
     "skip-execution"
    ]
   },
   "outputs": [],
   "source": [
    "# Define a function called `move_ghost_towards_pacman`` that takes the board ghost position gx, gy and the pacman position px, py as arguments\n",
    "...\n",
    "    \"\"\"\n",
    "    Move a ghost in the board toward Pac-Man using BFS.\n",
    "\n",
    "    First, this function attempts to determine the next step via a BFS-based approach,\n",
    "    using the helper function `ghost_bfs_step(gx, gy, px, py)`. If no valid path is found\n",
    "    (i.e., `ghost_bfs_step` returns None), it falls back to a naive random step.\n",
    "\n",
    "    Parameters\n",
    "    ----------\n",
    "    board : list of lists\n",
    "        A 2D board or grid representing the current game state. The exact representation\n",
    "        can vary, but must be compatible with the `valid_move` checks.\n",
    "    gx : int\n",
    "        The current x-coordinate of the ghost.\n",
    "    gy : int\n",
    "        The current y-coordinate of the ghost.\n",
    "    px : int\n",
    "        The x-coordinate of Pac-Man.\n",
    "    py : int\n",
    "        The y-coordinate of Pac-Man.\n",
    "\n",
    "    Returns\n",
    "    -------\n",
    "    (nx, ny) : tuple of int\n",
    "        The new coordinates of the ghost after attempting to move closer to Pac-Man.\n",
    "        If BFS fails or yields an invalid step, a random valid move is attempted;\n",
    "        if no valid random move is found, the ghost remains in place.\n",
    "\n",
    "    Notes\n",
    "    -----\n",
    "    - The BFS step is determined via an external function `ghost_bfs_step`. If this step\n",
    "      is valid (in-bounds and not blocked), it is taken. Otherwise, the function attempts\n",
    "      random neighboring moves (up, down, left, right) in a shuffled order.\n",
    "    - The `valid_move(board, x, y)` helper is used to check the validity of potential moves.\n",
    "\n",
    "    Examples\n",
    "    --------\n",
    "    >>> # Assuming ghost_bfs_step and valid_move are defined:\n",
    "    >>> new_gx, new_gy = move_ghost_towards_pacman(game_board, ghost_x, ghost_y, pacman_x, pacman_y)\n",
    "    >>> print(new_gx, new_gy)\n",
    "    4 3\n",
    "    \"\"\"\n",
    "    # get the next step from the ghost_bfs_step function, look at how to call the function\n",
    "    ...\n",
    "\n",
    "    # if the step is not None, return the step to nx, ny\n",
    "    # Make sure the step is a valid move, if it is return the step position, if not, return current ghost position (i.e., have the ghost stay in place)\n",
    "    ...\n",
    "    # if the step is None, do a random step\n",
    "    ...\n",
    "\n",
    "        # we provided this code which defines a list of possible directions\n",
    "        # fallback: random step\n",
    "        directions = [(0, -1), (0, 1), (-1, 0), (1, 0)]\n",
    "\n",
    "        # Shuffle the directions list use the random.shuffle function, this will shuffle the list in place\n",
    "        ...\n",
    "\n",
    "        # this will loop around the directions in order, recall that we already shuffled the list\n",
    "        for dx, dy in directions:\n",
    "            nx, ny = gx + dx, gy + dy\n",
    "\n",
    "            # if the move is valid, return the new position return (nx, ny) the new position\n",
    "            # use the valid_move function to check if the move is valid\n",
    "            ...\n",
    "\n",
    "        # If not valid move, return the original ghost position as a tuple\n",
    "        return (gx, gy)"
   ]
  },
  {
   "cell_type": "code",
   "execution_count": null,
   "metadata": {
    "deletable": false,
    "editable": false,
    "tags": [
     "skip-execution"
    ]
   },
   "outputs": [],
   "source": [
    "grader.check(\"move-ghost-forward\")"
   ]
  },
  {
   "cell_type": "markdown",
   "metadata": {
    "deletable": false,
    "editable": false
   },
   "source": [
    "## Spawning New Ghosts\n",
    "\n",
    "Throughout the game you should randomly spawn a new ghost so that pac is not being chased by just one ghosts all the time. We will provide details in the inline comments to guide you through the implementation."
   ]
  },
  {
   "cell_type": "code",
   "execution_count": null,
   "metadata": {
    "tags": [
     "skip-execution"
    ]
   },
   "outputs": [],
   "source": [
    "# Define a function to spawn a new ghost\n",
    "...\n",
    "    \"\"\"\n",
    "    Spawn a new ghost on the board at a random valid position.\n",
    "\n",
    "    This function selects a random (x, y) coordinate within the bounds of the board,\n",
    "    ensuring:\n",
    "      1. The position is valid (not blocked, and presumably not out of bounds).\n",
    "      2. The position is not on the edge of the board (as specified by the subtracted range).\n",
    "      3. The position does not overlap with Pac-Man or any existing ghosts.\n",
    "\n",
    "    Parameters\n",
    "    ----------\n",
    "    board : list\n",
    "        A 2D list (or equivalent structure) representing the game board state. The details\n",
    "        of this structure (e.g., wall representation, free cells, etc.) are assumed to be\n",
    "        handled by the `valid_move` function.\n",
    "\n",
    "    Returns\n",
    "    -------\n",
    "    list\n",
    "        A list containing the [x, y] coordinates where a new ghost has been successfully\n",
    "        placed on the board.\n",
    "\n",
    "    Notes\n",
    "    -----\n",
    "    - The function uses an infinite loop because it is theoretically guaranteed that there\n",
    "      is at least one valid position for the ghost to spawn. Once found, the position is returned.\n",
    "    - It relies on the helper function `valid_move(board, x, y)` to check whether a position\n",
    "      is valid, and additional checks ensure no collision with Pac-Man or existing ghosts.\n",
    "\n",
    "    Examples\n",
    "    --------\n",
    "    >>> # Example usage (assuming all required global variables and functions are defined):\n",
    "    >>> new_ghost_position = spawn_new_ghost(game_board)\n",
    "    >>> print(new_ghost_position)\n",
    "    [5, 3]\n",
    "    \"\"\"\n",
    "    # loop forever, this is one of the strange cases where it's okay to loop forever, because we know there is a valid move, and we have a return statement.\n",
    "    ...\n",
    "        # generate a random x and y position, in the range of 0 to COLS and 0 to ROWS, make sure you cannot spawn on the edge of the board by subtracting 1 from the range\n",
    "        # set this to rx and ry\n",
    "        ...\n",
    "\n",
    "        # Now we need to check if the position to spawn a ghost  is valid, if it is, return the position\n",
    "        # We have provided this code for you, you can use it as is\n",
    "        # this uses the valid_move function to check if the position is valid\n",
    "        if valid_move(board, rx, ry):\n",
    "\n",
    "            # Also ensure it's not on top of Pac-Man or another ghost\n",
    "            # (optional, but let's do so to avoid instant collisions)\n",
    "            if (rx, ry) != tuple(pacman_pos) and all(\n",
    "                (rx, ry) != tuple(g) for g in ghosts\n",
    "            ):\n",
    "                return [rx, ry]"
   ]
  },
  {
   "cell_type": "code",
   "execution_count": null,
   "metadata": {
    "deletable": false,
    "editable": false,
    "tags": [
     "skip-execution"
    ]
   },
   "outputs": [],
   "source": [
    "grader.check(\"spawn-new-ghost-function\")"
   ]
  },
  {
   "cell_type": "code",
   "execution_count": null,
   "metadata": {
    "tags": [
     "skip-execution"
    ]
   },
   "outputs": [],
   "source": [
    "# Write a function called check_collisions, this should take no arguments\n",
    "...\n",
    "    \"\"\"\n",
    "    Check if any ghost is on Pac-Man's current tile.\n",
    "\n",
    "    This function compares the global `pacman_pos` (pacman's current position)\n",
    "    with each ghost's position in the global `ghosts` list. If a match is found\n",
    "    (meaning at least one ghost occupies the same (x, y) coordinates as Pac-Man),\n",
    "    it immediately returns True to indicate a collision; otherwise, it returns False.\n",
    "\n",
    "    Returns\n",
    "    -------\n",
    "    bool\n",
    "        True if at least one ghost collides with Pac-Man, False otherwise.\n",
    "\n",
    "    Notes\n",
    "    -----\n",
    "    - This function assumes the existence of two global variables:\n",
    "        1. `pacman_pos`, a tuple (px, py) representing Pac-Man's position.\n",
    "        2. `ghosts`, a list of tuples [(gx1, gy1), (gx2, gy2), ...] representing\n",
    "           the positions of all ghosts.\n",
    "    - The global scope is used here to simplify the function signature; no\n",
    "      parameters are directly passed in.\n",
    "\n",
    "    Examples\n",
    "    --------\n",
    "    >>> # Suppose pacman_pos = (5, 3) and ghosts = [(1, 1), (2, 2), (5, 3)]\n",
    "    >>> check_collisions()\n",
    "    True\n",
    "    \"\"\"\n",
    "\n",
    "    # extract the pacman position into px, py, you can do this by accessing the global variable pacman_pos\n",
    "    ...\n",
    "\n",
    "    # loop through each ghost position in the ghosts list, and unpack the position into gx, gy\n",
    "    ...\n",
    "\n",
    "        # if the ghost position is the same as the pacman position, return True\n",
    "        # if not, return False\n",
    "        ..."
   ]
  },
  {
   "cell_type": "code",
   "execution_count": null,
   "metadata": {
    "deletable": false,
    "editable": false,
    "tags": [
     "skip-execution"
    ]
   },
   "outputs": [],
   "source": [
    "grader.check(\"check-for-collision-function\")"
   ]
  },
  {
   "cell_type": "markdown",
   "metadata": {
    "deletable": false,
    "editable": false
   },
   "source": [
    "## Question 6 (Points: 3.0): Question 5 (Points: 3.0): Render the Board\n",
    "\n",
    "We now need to convert the text representation of the board into a visual representation. This process is called rendering. We will provide details in the inline comments to guide you through the implementation. "
   ]
  },
  {
   "cell_type": "code",
   "execution_count": null,
   "metadata": {
    "tags": [
     "skip-execution"
    ]
   },
   "outputs": [],
   "source": [
    "# Define a function to render the board as the variable `render_board`\n",
    "...\n",
    "    \"\"\"\n",
    "    Build and return an HTML-rendered string representing the current game board,\n",
    "    including Pac-Man (if still alive) and all ghosts.\n",
    "\n",
    "    This function operates on several global variables:\n",
    "    - board (list of lists): The base board layout, where each cell typically\n",
    "      contains a character indicating walls, empty spaces, or other structures.\n",
    "    - pacman_lives (int): Indicates the remaining number of lives Pac-Man has.\n",
    "      Pac-Man is only rendered if this is greater than 0 and the game is not over.\n",
    "    - pacman_pos (tuple): A (px, py) tuple indicating Pac-Man's current position.\n",
    "    - ghosts (list): A list of (gx, gy) tuples representing each ghost's position.\n",
    "    - game_over (bool): A flag indicating whether the game has ended.\n",
    "    - symbol_map (dict): A mapping from board symbols (e.g., 'P', 'G', '#') to\n",
    "      associated emoji or character symbols for rendering.\n",
    "\n",
    "    Returns\n",
    "    -------\n",
    "    str\n",
    "        A string containing HTML <pre> markup that renders the board in a monospace\n",
    "        font. Pac-Man is shown as 'P' (mapped via symbol_map) when alive and the game\n",
    "        is not over, while ghosts are shown as 'G'. Any other board symbols are mapped\n",
    "        through the `symbol_map` dictionary.\n",
    "\n",
    "    Examples\n",
    "    --------\n",
    "    >>> # Suppose relevant globals are defined (board, pacman_pos, ghosts, etc.)\n",
    "    >>> html_representation = render_board()\n",
    "    >>> display(html_representation)  # in a Jupyter environment, to visualize\n",
    "    \"\"\"\n",
    "\n",
    "    # build an empty list called temp\n",
    "    ...\n",
    "    # loop through each row in the board\n",
    "    ...\n",
    "        # append a copy of the row to the temp list\n",
    "        ...\n",
    "    # place Pac-Man if he's alive (lives > 0, game not over)\n",
    "    ...\n",
    "        # get the pacman position into px, py\n",
    "        ...\n",
    "        # set the temp[py][px] to 'P'\n",
    "        ...\n",
    "        # place all ghosts\n",
    "        # Loop through each ghost position in the ghosts list, and set the ghost position `ghosts` to a tuple gx, gy in the loop\n",
    "    ...\n",
    "        # set the temp[gy][gx] to 'G' if the position is valid (inside the board)\n",
    "        # Design a logical statement to check that the ghost position is inside the board, if so, set temp[gy][gx] to 'G'\n",
    "        ...\n",
    "\n",
    "    # This is a list comprehension that maps the characters in the temp list to the emoji characters\n",
    "    # We have provided this code for you, you can use it as is\n",
    "    # Do not modify this code\n",
    "    lines = []\n",
    "    for row in temp:\n",
    "        row_str = []\n",
    "        for ch in row:\n",
    "            row_str.append(symbol_map.get(ch, ch))\n",
    "        lines.append(\"\".join(row_str))\n",
    "\n",
    "    # This returns an HTML string that displays the board and is highly stylized for the gameplay\n",
    "    return (\n",
    "        '<pre style=\"font-family:monospace\">' +\n",
    "        \"\\n\".join(lines) +\n",
    "        \"</pre>\"\n",
    "    )"
   ]
  },
  {
   "cell_type": "code",
   "execution_count": null,
   "metadata": {
    "deletable": false,
    "editable": false,
    "tags": [
     "skip-execution"
    ]
   },
   "outputs": [],
   "source": [
    "grader.check(\"render-board-function\")"
   ]
  },
  {
   "cell_type": "markdown",
   "metadata": {
    "deletable": false,
    "editable": false
   },
   "source": [
    "## Question 7 (Points: 7.0): Controller Interface\n",
    "\n",
    "We need a set of control functions to move Pac around the board. We will provide details in the inline comments to guide you through the implementation"
   ]
  },
  {
   "cell_type": "code",
   "execution_count": null,
   "metadata": {
    "tags": [
     "skip-execution"
    ]
   },
   "outputs": [],
   "source": [
    "import ipywidgets as widgets  # Import the ipywidgets library to create interactive widgets\n",
    "\n",
    "# WIDGET SETUP\n",
    "# Define Widget Setup for the game display as game_display, status_label, and buttons for movement\n",
    "\n",
    "# Create an HTML widget to serve as the game display area, use the widgets.HTML() function, and save it in a variable called `game_display`\n",
    "...\n",
    "\n",
    "# Create a label widget to show the current game status (e.g., score, position, or messages), use the widgets.Label() function, and save it in a variable called `status_label`\n",
    "...\n",
    "\n",
    "# Create buttons for movement controls:\n",
    "# Use the widgets.Button() function to create buttons for moving up, down, left, and right\n",
    "# - A button for moving up (↑)\n",
    "...\n",
    "\n",
    "# - A button for moving left (←)\n",
    "...\n",
    "\n",
    "# - A button for moving down (↓)\n",
    "...\n",
    "\n",
    "# - A button for moving right (→)\n",
    "..."
   ]
  },
  {
   "cell_type": "code",
   "execution_count": null,
   "metadata": {
    "deletable": false,
    "editable": false,
    "tags": [
     "skip-execution"
    ]
   },
   "outputs": [],
   "source": [
    "grader.check(\"controller-interface-function\")"
   ]
  },
  {
   "cell_type": "markdown",
   "metadata": {
    "deletable": false,
    "editable": false
   },
   "source": [
    "## Question 8 (Points: 5.0): Display Update Function\n",
    "\n",
    "The `update_display` function is responsible for rendering the game board and updating the game status. It refreshes the `game_display` widget using the `render_board` function and updates the `status_label` to show relevant game information such as remaining lives, score, and the number of ghosts. If the game is not over, the label provides instructions for movement using the arrow buttons. We will provide details in the inline comments to guide you through the implementation."
   ]
  },
  {
   "cell_type": "code",
   "execution_count": null,
   "metadata": {
    "tags": [
     "skip-execution"
    ]
   },
   "outputs": [],
   "source": [
    "# Define a function to update the display as update_display\n",
    "...\n",
    "    \"\"\"\n",
    "    Update the visible game interface by rendering the board and setting\n",
    "    status information.\n",
    "\n",
    "    This function uses two globally accessible UI elements:\n",
    "      1. `game_display`: A display object (such as an HTML output widget)\n",
    "         whose `value` is set to the rendered board returned by `render_board()`.\n",
    "      2. `status_label`: A label or text output widget which is updated to\n",
    "         show the current lives remaining for Pac-Man, the current score\n",
    "         versus total pellets, and the number of ghosts on the board.\n",
    "\n",
    "    It also references global variables such as:\n",
    "      - `pacman_lives` (int): The current number of lives remaining.\n",
    "      - `score` (int): The current score (pellets eaten).\n",
    "      - `total_pellets` (int): The total number of pellets on the board.\n",
    "      - `ghosts` (list): A list of ghost positions.\n",
    "      - `game_over` (bool): Whether the game is marked as over.\n",
    "\n",
    "    Parameters\n",
    "    ----------\n",
    "    None\n",
    "\n",
    "    Returns\n",
    "    -------\n",
    "    None\n",
    "        This function does not return a value. Instead, it updates global UI\n",
    "        elements in place.\n",
    "\n",
    "    Examples\n",
    "    --------\n",
    "    >>> # After modifying the game state (movement, collisions, etc.), call:\n",
    "    >>> update_display()\n",
    "    >>> # This will refresh the rendered board and status info in the UI.\n",
    "    \"\"\"\n",
    "    # update the game_display value to the render_board function\n",
    "    # This will use a new concept called setters, which will update the value of a class attribute -- we will talk about this soon.\n",
    "    # for now, just know that the syntax is `game_display.value = render_board()`\n",
    "    ...\n",
    "\n",
    "    # update the status_label value to the lives, score and number of ghosts followed by Use arrow buttons\n",
    "    if not game_over:\n",
    "        status_label.value = (\n",
    "            f\"Lives: {pacman_lives}, Score: {score}/{total_pellets}, \"\n",
    "            f\"Ghosts: {len(ghosts)}. Use arrow buttons.\"\n",
    "        )"
   ]
  },
  {
   "cell_type": "code",
   "execution_count": null,
   "metadata": {
    "deletable": false,
    "editable": false,
    "tags": [
     "skip-execution"
    ]
   },
   "outputs": [],
   "source": [
    "grader.check(\"render-ghosts-function\")"
   ]
  },
  {
   "cell_type": "markdown",
   "metadata": {
    "deletable": false,
    "editable": false
   },
   "source": [
    "## Question 9 (Points: 1.0): Pac-Man Movement Function\n",
    "\n",
    "The `move_pacman` function is responsible for handling Pac-Man's movement and interactions with the game environment. It updates the game state based on user input, checks for collisions, and manages the spawning of ghosts. The function follows these key steps:\n",
    "\n",
    "1. **Check Game Status:** If the game is over or Pac-Man has no remaining lives, the function exits early.\n",
    "2. **Move Pac-Man:** It attempts to move Pac-Man in the specified direction (`dx`, `dy`) and updates his position if the move is valid.\n",
    "3. **Eat Pellets:** If Pac-Man moves onto a pellet, the score is incremented, and the pellet is removed from the board. If all pellets are eaten, the game ends with a win.\n",
    "4. **Spawn Ghosts:** With a certain probability, a new ghost is spawned and added to the list of ghosts, resetting the spawn probability if successful.\n",
    "5. **Move Ghosts:** All ghosts attempt to move toward Pac-Man using a pathfinding algorithm or a fallback random move.\n",
    "6. **Check Collisions:** If a ghost collides with Pac-Man, a life is lost. If all lives are lost, the game ends with a loss. Otherwise, Pac-Man respawns at the starting position.\n",
    "7. **Update Display:** The game board and status messages are refreshed to reflect the latest game state.\n",
    "\n",
    "We provide detailed inline instruction for the implementation. "
   ]
  },
  {
   "cell_type": "code",
   "execution_count": null,
   "metadata": {
    "tags": [
     "skip-execution"
    ]
   },
   "outputs": [],
   "source": [
    "# Define a function to move pacman as `move_pacman` that takes dx and dy as arguments\n",
    "...\n",
    "    \"\"\"\n",
    "    Move Pac-Man in the given direction and handle game mechanics.\n",
    "\n",
    "    This function attempts to move Pac-Man based on the given directional changes (dx, dy),\n",
    "    updates the game state accordingly, and checks for ghost collisions.\n",
    "\n",
    "    Parameters\n",
    "    ----------\n",
    "    board : list of lists\n",
    "        A 2D representation of the game board.\n",
    "    dx : int\n",
    "        The horizontal movement (-1 for left, 1 for right, 0 for no change).\n",
    "    dy : int\n",
    "        The vertical movement (-1 for up, 1 for down, 0 for no change).\n",
    "\n",
    "    Returns\n",
    "    -------\n",
    "    tuple\n",
    "        (game_over, score, pacman_lives), where:\n",
    "        - game_over (bool): Whether the game has ended.\n",
    "        - score (int): Pac-Man’s current score (pellets eaten).\n",
    "        - pacman_lives (int): Remaining number of lives.\n",
    "\n",
    "    Notes\n",
    "    -----\n",
    "    - Pac-Man can only move to valid positions (checked using `valid_move`).\n",
    "    - If Pac-Man eats a pellet, the score increases, and if all pellets are eaten,\n",
    "      the game ends with a win.\n",
    "    - A ghost spawns with increasing probability after each move.\n",
    "    - All ghosts move toward Pac-Man using BFS; if BFS fails, they move randomly.\n",
    "    - If Pac-Man collides with a ghost, he loses a life. If all lives are lost,\n",
    "      the game ends with a loss.\n",
    "\n",
    "    Examples\n",
    "    --------\n",
    "    >>> # Assume board and other required variables are defined\n",
    "    >>> move_pacman(board, 1, 0)  # Move right\n",
    "    (False, 5, 2)  # Example: game is ongoing, score is 5, and 2 lives remain\n",
    "    \"\"\"\n",
    "\n",
    "    # Define global variables to be modified in the function scope as `game_over`, `score`, `pacman_lives`, `ghost_spawn_prob`\n",
    "    ...\n",
    "\n",
    "    # rdd= random.random()\n",
    "\n",
    "    # if the game is over or pacman has no lives, return\n",
    "    ...\n",
    "\n",
    "    # 1) Attempt to move Pac-Man in the given direction\n",
    "    # set nx and ny to the new pacman position by adding dx and dy to the pacman position\n",
    "    ...\n",
    "\n",
    "    # If the move is valid, update the pacman position\n",
    "    # You should use the valid_move function to check if the move is valid\n",
    "    ...\n",
    "\n",
    "        # If there's a pellet, eat it, update the score and remove the pellet\n",
    "        # you add score by incrementing the variable `score` by 1\n",
    "        # you remove the pellet by setting the board position to a space \" \"\n",
    "        ...\n",
    "\n",
    "            # If the score is equal to the total number of pellets, set game_over to True\n",
    "            ...\n",
    "\n",
    "                # If the score is equal to the total number of pellets, update the status label to You Win! Final score: 10.\n",
    "                status_label.value = (\n",
    "                    f\"You ate all {total_pellets} pellets! You Win! Final score: {score}.\"\n",
    "                )\n",
    "                update_display()\n",
    "                return\n",
    "\n",
    "    # 2) Spawn a new ghost\n",
    "    # increment the ghost spawn probability by GHOST_SPAWN_INCREMENT, this makes it so there is an increasing chance of spawning a ghost\n",
    "    ...\n",
    "\n",
    "    # If the random number is less than the ghost spawn probability, spawn a new ghost\n",
    "    ...\n",
    "\n",
    "        # call the spawn_new_ghost function to spawn a new ghost and save it in a variable called newg\n",
    "        # append the new ghost position to the ghosts list\n",
    "        ...\n",
    "\n",
    "        # Reset spawn probability if a ghost is spawned to zero\n",
    "        ...\n",
    "\n",
    "    # 3) Move all ghosts towards Pac\n",
    "    px, py = pacman_pos\n",
    "    # loop through each ghost position in the ghosts list\n",
    "    ...\n",
    "\n",
    "        # get the current ghost position into gx, gy\n",
    "        ...\n",
    "\n",
    "        # BFS-chase or random fallback move for the ghost position to do this call the move_ghost_towards_pacman function\n",
    "        ...\n",
    "\n",
    "        # update the ghost position to the new position\n",
    "        ...\n",
    "\n",
    "    # 4) Check collisions, if there are collisions, update the pacman lives\n",
    "    # call the check_collisions function to check for collisions, and if so decrement the pacman lives by 1\n",
    "    ...\n",
    "\n",
    "        # if pacman has no lives, set game_over to True\n",
    "        ...\n",
    "\n",
    "            # Update status label as Game Over! The ghosts ate Pac-man. Final score: 10.\n",
    "            status_label.value = (\n",
    "                f\"Game Over! The ghosts ate Pac-Man. Final score: {score}.\"\n",
    "            )\n",
    "\n",
    "        # Else reset the pacman position to the start position\n",
    "        ...\n",
    "\n",
    "    # Update the display by calling the update display function\n",
    "    ...\n",
    "\n",
    "    # DO NOT MODIFY THE RETURN STATEMENT\n",
    "    return game_over, score, pacman_lives"
   ]
  },
  {
   "cell_type": "code",
   "execution_count": null,
   "metadata": {
    "deletable": false,
    "editable": false,
    "tags": [
     "skip-execution"
    ]
   },
   "outputs": [],
   "source": [
    "grader.check(\"move-pac-man\")"
   ]
  },
  {
   "cell_type": "code",
   "execution_count": null,
   "metadata": {
    "tags": [
     "skip-execution"
    ]
   },
   "outputs": [],
   "source": [
    "# Define event handlers for button clicks\n",
    "# Each function moves Pac-Man in the specified direction when the corresponding button is clicked\n",
    "# Define on_up_clicked, on_left_clicked, on_down_clicked, on_right_clicked \n",
    "# These functions should call move_pacman with the appropriate arguments\n",
    "# we have provided the first example for you, define the rest of the functions\n",
    "def on_up_clicked(a):\n",
    "    move_pacman(board, 0, -1)  # Move Pac-Man up\n",
    "\n",
    "...\n",
    "\n",
    "# Attach the click event handlers to the respective buttons\n",
    "# As button_up, button_left, button_down, button_right to on_up_clicked, on_left_clicked, on_down_clicked, on_right_clicked\n",
    "button_up.on_click(on_up_clicked)\n",
    "button_left.on_click(on_left_clicked)\n",
    "button_down.on_click(on_down_clicked)\n",
    "button_right.on_click(on_right_clicked)\n",
    "\n",
    "# Arrange the movement buttons in a horizontal box layout as controls \n",
    "controls = widgets.HBox([button_left, button_up, button_down, button_right])\n",
    "\n",
    "# ---------------------------------------------\n",
    "# INITIAL RENDER\n",
    "# ---------------------------------------------\n",
    "\n",
    "# Update the display to show the initial game state\n",
    "...\n",
    "\n",
    "# Display the game board, status label, and movement controls\n",
    "..."
   ]
  },
  {
   "cell_type": "code",
   "execution_count": null,
   "metadata": {
    "deletable": false,
    "editable": false,
    "tags": [
     "skip-execution"
    ]
   },
   "outputs": [],
   "source": [
    "grader.check(\"event-handlers\")"
   ]
  },
  {
   "cell_type": "markdown",
   "id": "35",
   "metadata": {},
   "source": [
    "## Submitting Assignment\n",
    "\n",
    "Please run the following block of code using `shift + enter` to submit your assignment, you should see your score."
   ]
  },
  {
   "cell_type": "code",
   "execution_count": null,
   "id": "36",
   "metadata": {
    "deletable": false,
    "editable": true,
    "tags": [
     "skip-execution"
    ]
   },
   "outputs": [],
   "source": [
    "from pykubegrader.submit.submit_assignment import submit_assignment\n",
    "\n",
    "submit_assignment(\"week6-lab\", \"1_PacMan\")"
   ]
  }
 ],
 "metadata": {
  "kernelspec": {
   "display_name": "engr131_dev",
   "language": "python",
   "name": "python3"
  },
  "language_info": {
   "codemirror_mode": {
    "name": "ipython",
    "version": 3
   },
   "file_extension": ".py",
   "mimetype": "text/x-python",
   "name": "python",
   "nbconvert_exporter": "python",
   "pygments_lexer": "ipython3",
   "version": "3.12.7"
  },
  "otter": {
   "OK_FORMAT": true,
   "tests": {
    "Initial-Parameters": {
     "name": "Initial-Parameters",
     "points": null,
     "suites": [
      {
       "cases": [
        {
         "code": ">>> from pykubegrader.telemetry import ensure_responses, log_variable, score_question, submit_question, telemetry, update_responses\n>>> import os\n>>> import base64\n>>> max_question_points = str(9.0)\n>>> earned_points = 0\n>>> os.environ['EARNED_POINTS'] = str(earned_points)\n>>> os.environ['TOTAL_POINTS_FREE_RESPONSE'] = str(61.0)\n>>> log_variable('total-points', f'week6-lab, 1_PacMan', 61.0)\n>>> question_id = 'Initial-Parameters-1'\n>>> max_score = 1.0\n>>> score = 0\n>>> exec(base64.b64decode('X2V4cGVjdGVkX2JvYXJkID0gW2xpc3Qocm93KSBmb3Igcm93IGluIEJPQVJEX0xBWU9VVF0=').decode())\n>>> assert board == _expected_board, 'The board does not match the expected structure.'\n>>> if board == _expected_board:\n...     score = 1.0\n>>> earned_points = float(os.environ.get('EARNED_POINTS', 0))\n>>> earned_points += score\n>>> log_variable('1_PacMan', f'{score}, {max_score}', question_id)\n>>> os.environ['EARNED_POINTS'] = str(earned_points)\n",
         "failure_message": "Failed: The board is not initialized as expected.",
         "hidden": false,
         "locked": false,
         "points": 1,
         "success_message": "Success: The board is correctly initialized as a 2D list!"
        },
        {
         "code": ">>> from pykubegrader.telemetry import ensure_responses, log_variable, score_question, submit_question, telemetry, update_responses\n>>> import os\n>>> import base64\n>>> question_id = 'Initial-Parameters-2'\n>>> max_score = 1.0\n>>> score = 0\n>>> assert ghosts == [], 'The ghosts list should be initialized as an empty list.'\n>>> if ghosts == []:\n...     score = 1.0\n>>> earned_points = float(os.environ.get('EARNED_POINTS', 0))\n>>> earned_points += score\n>>> log_variable('1_PacMan', f'{score}, {max_score}', question_id)\n>>> os.environ['EARNED_POINTS'] = str(earned_points)\n",
         "failure_message": "Failed: The ghosts list is not empty at the start.",
         "hidden": false,
         "locked": false,
         "points": 1,
         "success_message": "Success: The ghosts list is correctly initialized as empty!"
        },
        {
         "code": ">>> from pykubegrader.telemetry import ensure_responses, log_variable, score_question, submit_question, telemetry, update_responses\n>>> import os\n>>> import base64\n>>> question_id = 'Initial-Parameters-3'\n>>> max_score = 1.0\n>>> score = 0\n>>> assert pacman_pos == [0, 0], \"Pac-Man's initial position should be [0, 0].\"\n>>> if pacman_pos == [0, 0]:\n...     score = 1.0\n>>> earned_points = float(os.environ.get('EARNED_POINTS', 0))\n>>> earned_points += score\n>>> log_variable('1_PacMan', f'{score}, {max_score}', question_id)\n>>> os.environ['EARNED_POINTS'] = str(earned_points)\n",
         "failure_message": "Failed: The Pac-Man position is not correctly initialized.",
         "hidden": false,
         "locked": false,
         "points": 1,
         "success_message": "Success: The Pac-Man position is correctly set!"
        },
        {
         "code": ">>> from pykubegrader.telemetry import ensure_responses, log_variable, score_question, submit_question, telemetry, update_responses\n>>> import os\n>>> import base64\n>>> question_id = 'Initial-Parameters-4'\n>>> max_score = 1.0\n>>> score = 0\n>>> assert pacman_start == [0, 0], \"Pac-Man's start position should be [0, 0].\"\n>>> if pacman_start == [0, 0]:\n...     score = 1.0\n>>> earned_points = float(os.environ.get('EARNED_POINTS', 0))\n>>> earned_points += score\n>>> log_variable('1_PacMan', f'{score}, {max_score}', question_id)\n>>> os.environ['EARNED_POINTS'] = str(earned_points)\n",
         "failure_message": "Failed: The Pac-Man start position is not correctly initialized.",
         "hidden": false,
         "locked": false,
         "points": 1,
         "success_message": "Success: The Pac-Man start position is correctly set!"
        },
        {
         "code": ">>> from pykubegrader.telemetry import ensure_responses, log_variable, score_question, submit_question, telemetry, update_responses\n>>> import os\n>>> import base64\n>>> question_id = 'Initial-Parameters-5'\n>>> max_score = 1.0\n>>> score = 0\n>>> assert total_pellets == 0, 'The total pellets count should be initialized to 0.'\n>>> if total_pellets == 0:\n...     score = 1.0\n>>> earned_points = float(os.environ.get('EARNED_POINTS', 0))\n>>> earned_points += score\n>>> log_variable('1_PacMan', f'{score}, {max_score}', question_id)\n>>> os.environ['EARNED_POINTS'] = str(earned_points)\n",
         "failure_message": "Failed: The total pellets count is not initialized to zero.",
         "hidden": false,
         "locked": false,
         "points": 1,
         "success_message": "Success: The total pellets count is correctly initialized!"
        },
        {
         "code": ">>> from pykubegrader.telemetry import ensure_responses, log_variable, score_question, submit_question, telemetry, update_responses\n>>> import os\n>>> import base64\n>>> question_id = 'Initial-Parameters-6'\n>>> max_score = 1.0\n>>> score = 0\n>>> _PACMAN_LIVES = 3\n>>> assert pacman_lives == _PACMAN_LIVES\n>>> assert pacman_lives == PACMAN_LIVES\n>>> if pacman_lives == _PACMAN_LIVES and pacman_lives == PACMAN_LIVES:\n...     score = 1.0\n>>> earned_points = float(os.environ.get('EARNED_POINTS', 0))\n>>> earned_points += score\n>>> log_variable('1_PacMan', f'{score}, {max_score}', question_id)\n>>> os.environ['EARNED_POINTS'] = str(earned_points)\n",
         "failure_message": "Failed: Pac-Man lives are not correctly set.",
         "hidden": false,
         "locked": false,
         "points": 1,
         "success_message": "Success: Pac-Man lives are correctly initialized!"
        },
        {
         "code": ">>> from pykubegrader.telemetry import ensure_responses, log_variable, score_question, submit_question, telemetry, update_responses\n>>> import os\n>>> import base64\n>>> question_id = 'Initial-Parameters-7'\n>>> max_score = 1.0\n>>> score = 0\n>>> assert score == 0, 'The score should be initialized to 0.'\n>>> if score == 0:\n...     score = 1.0\n>>> earned_points = float(os.environ.get('EARNED_POINTS', 0))\n>>> earned_points += score\n>>> log_variable('1_PacMan', f'{score}, {max_score}', question_id)\n>>> os.environ['EARNED_POINTS'] = str(earned_points)\n",
         "failure_message": "Failed: The score is not set to zero initially.",
         "hidden": false,
         "locked": false,
         "points": 1,
         "success_message": "Success: The score is correctly initialized to zero!"
        },
        {
         "code": ">>> from pykubegrader.telemetry import ensure_responses, log_variable, score_question, submit_question, telemetry, update_responses\n>>> import os\n>>> import base64\n>>> question_id = 'Initial-Parameters-8'\n>>> max_score = 1.0\n>>> score = 0\n>>> assert game_over is False, 'The game_over flag should be initialized to False.'\n>>> if game_over is False:\n...     score = 1.0\n>>> earned_points = float(os.environ.get('EARNED_POINTS', 0))\n>>> earned_points += score\n>>> log_variable('1_PacMan', f'{score}, {max_score}', question_id)\n>>> os.environ['EARNED_POINTS'] = str(earned_points)\n",
         "failure_message": "Failed: The game_over flag is not initialized to False.",
         "hidden": false,
         "locked": false,
         "points": 1,
         "success_message": "Success: The game_over flag is correctly initialized!"
        },
        {
         "code": ">>> from pykubegrader.telemetry import ensure_responses, log_variable, score_question, submit_question, telemetry, update_responses\n>>> import os\n>>> import base64\n>>> question_id = 'Initial-Parameters-9'\n>>> max_score = 1.0\n>>> score = 0\n>>> INITIAL_GHOST_SPAWN_PROB_ = 0.0\n>>> assert ghost_spawn_prob == INITIAL_GHOST_SPAWN_PROB_, f'Ghost spawn probability should be initialized to {INITIAL_GHOST_SPAWN_PROB}.'\n>>> assert ghost_spawn_prob == INITIAL_GHOST_SPAWN_PROB, f'Ghost spawn probability should be initialized to {INITIAL_GHOST_SPAWN_PROB}.'\n>>> if ghost_spawn_prob == INITIAL_GHOST_SPAWN_PROB_ and ghost_spawn_prob == INITIAL_GHOST_SPAWN_PROB:\n...     score = 1.0\n>>> earned_points = float(os.environ.get('EARNED_POINTS', 0))\n>>> earned_points += score\n>>> log_variable('1_PacMan', f'{score}, {max_score}', question_id)\n>>> os.environ['EARNED_POINTS'] = str(earned_points)\n",
         "failure_message": "Failed: The ghost spawn probability is not initialized correctly.",
         "hidden": false,
         "locked": false,
         "points": 1,
         "success_message": "Success: The ghost spawn probability is correctly initialized!"
        }
       ],
       "scored": true,
       "setup": "",
       "teardown": "",
       "type": "doctest"
      }
     ]
    },
    "Parse-Board": {
     "name": "Parse-Board",
     "points": null,
     "suites": [
      {
       "cases": [
        {
         "code": ">>> from pykubegrader.telemetry import ensure_responses, log_variable, score_question, submit_question, telemetry, update_responses\n>>> import os\n>>> import base64\n>>> max_question_points = str(5.0)\n>>> earned_points = 0\n>>> os.environ['EARNED_POINTS'] = str(earned_points)\n>>> os.environ['TOTAL_POINTS_FREE_RESPONSE'] = str(61.0)\n>>> log_variable('total-points', f'week6-lab, 1_PacMan', 61.0)\n>>> question_id = 'Parse-Board-1'\n>>> max_score = 1.0\n>>> score = 0\n>>> assert total_pellets == 90\n>>> if total_pellets == 90:\n...     score = 1.0\n>>> earned_points = float(os.environ.get('EARNED_POINTS', 0))\n>>> earned_points += score\n>>> log_variable('1_PacMan', f'{score}, {max_score}', question_id)\n>>> os.environ['EARNED_POINTS'] = str(earned_points)\n",
         "failure_message": "Failed: The total pellet count is incorrect.",
         "hidden": false,
         "locked": false,
         "points": 1,
         "success_message": "Success: The total pellet count is correctly calculated!"
        },
        {
         "code": ">>> from pykubegrader.telemetry import ensure_responses, log_variable, score_question, submit_question, telemetry, update_responses\n>>> import os\n>>> import base64\n>>> question_id = 'Parse-Board-2'\n>>> max_score = 1.0\n>>> score = 0\n>>> assert pacman_pos == [5, 15]\n>>> if pacman_pos == [5, 15]:\n...     score = 1.0\n>>> earned_points = float(os.environ.get('EARNED_POINTS', 0))\n>>> earned_points += score\n>>> log_variable('1_PacMan', f'{score}, {max_score}', question_id)\n>>> os.environ['EARNED_POINTS'] = str(earned_points)\n",
         "failure_message": "Failed: Pac-Man's position is not set correctly.",
         "hidden": false,
         "locked": false,
         "points": 1,
         "success_message": "Success: Pac-Man's position is correctly identified!"
        },
        {
         "code": ">>> from pykubegrader.telemetry import ensure_responses, log_variable, score_question, submit_question, telemetry, update_responses\n>>> import os\n>>> import base64\n>>> question_id = 'Parse-Board-3'\n>>> max_score = 1.0\n>>> score = 0\n>>> assert pacman_start == [5, 15]\n>>> if pacman_start == [5, 15]:\n...     score = 1.0\n>>> earned_points = float(os.environ.get('EARNED_POINTS', 0))\n>>> earned_points += score\n>>> log_variable('1_PacMan', f'{score}, {max_score}', question_id)\n>>> os.environ['EARNED_POINTS'] = str(earned_points)\n",
         "failure_message": "Failed: Pac-Man's start position is incorrect.",
         "hidden": false,
         "locked": false,
         "points": 1,
         "success_message": "Success: Pac-Man's start position is correctly recorded!"
        },
        {
         "code": ">>> from pykubegrader.telemetry import ensure_responses, log_variable, score_question, submit_question, telemetry, update_responses\n>>> import os\n>>> import base64\n>>> question_id = 'Parse-Board-4'\n>>> max_score = 1.0\n>>> score = 0\n>>> assert ghosts == [[5, 1]]\n>>> if ghosts == [[5, 1]]:\n...     score = 1.0\n>>> earned_points = float(os.environ.get('EARNED_POINTS', 0))\n>>> earned_points += score\n>>> log_variable('1_PacMan', f'{score}, {max_score}', question_id)\n>>> os.environ['EARNED_POINTS'] = str(earned_points)\n",
         "failure_message": "Failed: Ghost positions are incorrect.",
         "hidden": false,
         "locked": false,
         "points": 1,
         "success_message": "Success: Ghost positions are correctly identified!"
        },
        {
         "code": ">>> from pykubegrader.telemetry import ensure_responses, log_variable, score_question, submit_question, telemetry, update_responses\n>>> import os\n>>> import base64\n>>> question_id = 'Parse-Board-5'\n>>> max_score = 1.0\n>>> score = 0\n>>> exec(base64.b64decode('Ym9hcmRfID0gWwpbIiMiLCAiIyIsICIjIiwgIiMiLCAiIyIsICIjIiwgIiMiLCAiIyIsICIjIiwgIiMiLCAiIyJdLApbIiMiLCAiLiIsICIuIiwgIi4iLCAiLiIsICIgIiwgIi4iLCAiLiIsICIuIiwgIi4iLCAiIyJdLApbIiMiLCAiLiIsICIuIiwgIi4iLCAiIyIsICIjIiwgIiMiLCAiLiIsICIuIiwgIi4iLCAiIyJdLApbIiMiLCAiLiIsICIuIiwgIi4iLCAiIyIsICIgIiwgIiMiLCAiLiIsICIuIiwgIi4iLCAiIyJdLApbIiMiLCAiLiIsICIuIiwgIi4iLCAiIyIsICIgIiwgIiMiLCAiLiIsICIuIiwgIi4iLCAiIyJdLApbIiMiLCAiLiIsICIuIiwgIi4iLCAiIyIsICIjIiwgIiMiLCAiLiIsICIuIiwgIi4iLCAiIyJdLApbIiMiLCAiLiIsICIuIiwgIi4iLCAiLiIsICIuIiwgIi4iLCAiLiIsICIuIiwgIi4iLCAiIyJdLApbIiMiLCAiLiIsICIjIiwgIiMiLCAiIyIsICIuIiwgIiMiLCAiIyIsICIjIiwgIi4iLCAiIyJdLApbIiMiLCAiLiIsICIjIiwgIiAiLCAiICIsICIgIiwgIiAiLCAiICIsICIjIiwgIi4iLCAiIyJdLApbIiMiLCAiLiIsICIjIiwgIiMiLCAiIyIsICIuIiwgIiMiLCAiIyIsICIjIiwgIi4iLCAiIyJdLApbIiMiLCAiLiIsICIuIiwgIi4iLCAiLiIsICIuIiwgIi4iLCAiLiIsICIuIiwgIi4iLCAiIyJdLApbIiMiLCAiLiIsICIuIiwgIi4iLCAiIyIsICIjIiwgIiMiLCAiLiIsICIuIiwgIi4iLCAiIyJdLApbIiMiLCAiLiIsICIuIiwgIi4iLCAiIyIsICIgIiwgIiMiLCAiLiIsICIuIiwgIi4iLCAiIyJdLApbIiMiLCAiLiIsICIuIiwgIi4iLCAiIyIsICIgIiwgIiMiLCAiLiIsICIuIiwgIi4iLCAiIyJdLApbIiMiLCAiLiIsICIuIiwgIi4iLCAiIyIsICIjIiwgIiMiLCAiLiIsICIuIiwgIi4iLCAiIyJdLApbIiMiLCAiLiIsICIuIiwgIi4iLCAiLiIsICIgIiwgIi4iLCAiLiIsICIuIiwgIi4iLCAiIyJdLApbIiMiLCAiIyIsICIjIiwgIiMiLCAiIyIsICIjIiwgIiMiLCAiIyIsICIjIiwgIiMiLCAiIyJdLApd').decode())\n>>> assert board == board_\n>>> if board == board_:\n...     score = 1.0\n>>> earned_points = float(os.environ.get('EARNED_POINTS', 0))\n>>> earned_points += score\n>>> log_variable('1_PacMan', f'{score}, {max_score}', question_id)\n>>> os.environ['EARNED_POINTS'] = str(earned_points)\n",
         "failure_message": "Failed: Pac-Man and/or Ghosts were not removed properly from the board.",
         "hidden": false,
         "locked": false,
         "points": 1,
         "success_message": "Success: Pac-Man and Ghosts were removed from the board correctly!"
        }
       ],
       "scored": true,
       "setup": "",
       "teardown": "",
       "type": "doctest"
      }
     ]
    },
    "check-for-collision-function": {
     "name": "check-for-collision-function",
     "points": null,
     "suites": [
      {
       "cases": [
        {
         "code": ">>> from pykubegrader.telemetry import ensure_responses, log_variable, score_question, submit_question, telemetry, update_responses\n>>> import os\n>>> import base64\n>>> max_question_points = str(3.0)\n>>> earned_points = 0\n>>> os.environ['EARNED_POINTS'] = str(earned_points)\n>>> os.environ['TOTAL_POINTS_FREE_RESPONSE'] = str(61.0)\n>>> log_variable('total-points', f'week6-lab, 1_PacMan', 61.0)\n>>> question_id = 'check-for-collision-function-1'\n>>> max_score = 1.0\n>>> score = 0\n>>> assert callable(check_collisions), 'The function `check_collisions` must be defined and callable.'\n>>> if callable(check_collisions):\n...     score = 1.0\n>>> earned_points = float(os.environ.get('EARNED_POINTS', 0))\n>>> earned_points += score\n>>> log_variable('1_PacMan', f'{score}, {max_score}', question_id)\n>>> os.environ['EARNED_POINTS'] = str(earned_points)\n",
         "failure_message": "Failed: The function `check_collisions` is not defined correctly.",
         "hidden": false,
         "locked": false,
         "points": 1,
         "success_message": "Success: The function `check_collisions` exists and is callable!"
        },
        {
         "code": ">>> from pykubegrader.telemetry import ensure_responses, log_variable, score_question, submit_question, telemetry, update_responses\n>>> import os\n>>> import base64\n>>> import inspect\n>>> question_id = 'check-for-collision-function-2'\n>>> max_score = 1.0\n>>> score = 0\n>>> assert 'check_collisions' in globals(), 'Function `check_collisions` is not defined.'\n>>> original_code = inspect.getsource(check_collisions)\n>>> modified_code = original_code.replace('def check_collisions', 'def check_collisions_v2')\n>>> exec(modified_code, globals())\n>>> pacman_pos = (2, 2)\n>>> ghosts = [(2, 2), (3, 3)]\n>>> collision_detected = check_collisions_v2()\n>>> assert collision_detected is True, \"Expected `True` when a ghost is on Pac-Man's tile, but got `False`.\"\n>>> if 'check_collisions' in globals() and collision_detected is True:\n...     score = 1.0\n>>> earned_points = float(os.environ.get('EARNED_POINTS', 0))\n>>> earned_points += score\n>>> log_variable('1_PacMan', f'{score}, {max_score}', question_id)\n>>> os.environ['EARNED_POINTS'] = str(earned_points)\n>>> responses = update_responses(question_id, str(collision_detected))\n",
         "failure_message": "Failed: The function does not correctly detect collisions.",
         "hidden": false,
         "locked": false,
         "points": 1,
         "success_message": "Success: The function correctly detects collisions between Pac-Man and ghosts!"
        },
        {
         "code": ">>> from pykubegrader.telemetry import ensure_responses, log_variable, score_question, submit_question, telemetry, update_responses\n>>> import os\n>>> import base64\n>>> import inspect\n>>> question_id = 'check-for-collision-function-3'\n>>> max_score = 1.0\n>>> score = 0\n>>> assert 'check_collisions' in globals(), 'Function `check_collisions` is not defined.'\n>>> original_code = inspect.getsource(check_collisions)\n>>> modified_code = original_code.replace('def check_collisions', 'def check_collisions_v3')\n>>> exec(modified_code, globals())\n>>> pacman_pos = (2, 2)\n>>> ghosts = [(3, 3), (4, 4)]\n>>> collision_detected = check_collisions_v3()\n>>> assert collision_detected is False, \"Expected `False` when no ghost is on Pac-Man's tile, but got `True`.\"\n>>> if 'check_collisions' in globals() and collision_detected is False:\n...     score = 1.0\n>>> earned_points = float(os.environ.get('EARNED_POINTS', 0))\n>>> earned_points += score\n>>> log_variable('1_PacMan', f'{score}, {max_score}', question_id)\n>>> os.environ['EARNED_POINTS'] = str(earned_points)\n>>> responses = update_responses(question_id, str(collision_detected))\n",
         "failure_message": "Failed: The function incorrectly detects a collision when none exists.",
         "hidden": false,
         "locked": false,
         "points": 1,
         "success_message": "Success: The function correctly identifies no collision when Pac-Man and ghosts are separate!"
        }
       ],
       "scored": true,
       "setup": "",
       "teardown": "",
       "type": "doctest"
      }
     ]
    },
    "controller-interface-function": {
     "name": "controller-interface-function",
     "points": null,
     "suites": [
      {
       "cases": [
        {
         "code": ">>> from pykubegrader.telemetry import ensure_responses, log_variable, score_question, submit_question, telemetry, update_responses\n>>> import os\n>>> import base64\n>>> import ipywidgets as widgets\n>>> max_question_points = str(5.0)\n>>> earned_points = 0\n>>> os.environ['EARNED_POINTS'] = str(earned_points)\n>>> os.environ['TOTAL_POINTS_FREE_RESPONSE'] = str(61.0)\n>>> log_variable('total-points', f'week6-lab, 1_PacMan', 61.0)\n>>> question_id = 'controller-interface-function-1'\n>>> max_score = 5.0\n>>> score = 0\n>>> game_display = widgets.HTML()\n>>> status_label = widgets.Label()\n>>> button_up = widgets.Button(description='↑')\n>>> button_left = widgets.Button(description='←')\n>>> button_down = widgets.Button(description='↓')\n>>> button_right = widgets.Button(description='→')\n>>> assert isinstance(game_display, widgets.HTML), 'Expected `game_display` to be an instance of widgets.HTML.'\n>>> assert isinstance(status_label, widgets.Label), 'Expected `status_label` to be an instance of widgets.Label.'\n>>> assert isinstance(button_up, widgets.Button) and button_up.description == '↑', \"Expected `button_up` to be a button labeled '↑'.\"\n>>> assert isinstance(button_left, widgets.Button) and button_left.description == '←', \"Expected `button_left` to be a button labeled '←'.\"\n>>> assert isinstance(button_down, widgets.Button) and button_down.description == '↓', \"Expected `button_down` to be a button labeled '↓'.\"\n>>> assert isinstance(button_right, widgets.Button) and button_right.description == '→', \"Expected `button_right` to be a button labeled '→'.\"\n>>> if isinstance(game_display, widgets.HTML) and isinstance(status_label, widgets.Label) and (isinstance(button_up, widgets.Button) and button_up.description == '↑') and (isinstance(button_left, widgets.Button) and button_left.description == '←') and (isinstance(button_down, widgets.Button) and button_down.description == '↓') and (isinstance(button_right, widgets.Button) and button_right.description == '→'):\n...     score = 5.0\n>>> earned_points = float(os.environ.get('EARNED_POINTS', 0))\n>>> earned_points += score\n>>> log_variable('1_PacMan', f'{score}, {max_score}', question_id)\n>>> os.environ['EARNED_POINTS'] = str(earned_points)\n",
         "failure_message": "Failed: The game widgets are not set up correctly.",
         "hidden": false,
         "locked": false,
         "points": 5,
         "success_message": "Success: The function correctly sets up game widgets!"
        }
       ],
       "scored": true,
       "setup": "",
       "teardown": "",
       "type": "doctest"
      }
     ]
    },
    "event-handlers": {
     "name": "event-handlers",
     "points": null,
     "suites": [
      {
       "cases": [
        {
         "code": ">>> from pykubegrader.telemetry import ensure_responses, log_variable, score_question, submit_question, telemetry, update_responses\n>>> import os\n>>> import base64\n>>> max_question_points = str(11.0)\n>>> earned_points = 0\n>>> os.environ['EARNED_POINTS'] = str(earned_points)\n>>> os.environ['TOTAL_POINTS_FREE_RESPONSE'] = str(61.0)\n>>> log_variable('total-points', f'week6-lab, 1_PacMan', 61.0)\n>>> question_id = 'event-handlers-1'\n>>> max_score = 3.0\n>>> score = 0\n>>> functions_exist = all((func in globals() for func in ['on_up_clicked', 'on_left_clicked', 'on_down_clicked', 'on_right_clicked']))\n>>> assert functions_exist, 'All movement functions must be defined.'\n>>> if functions_exist:\n...     score = 3.0\n>>> earned_points = float(os.environ.get('EARNED_POINTS', 0))\n>>> earned_points += score\n>>> log_variable('1_PacMan', f'{score}, {max_score}', question_id)\n>>> os.environ['EARNED_POINTS'] = str(earned_points)\n>>> responses = update_responses(question_id, str(functions_exist))\n",
         "failure_message": "Failed: One or more movement functions are missing.",
         "hidden": false,
         "locked": false,
         "points": 3,
         "success_message": "Success: All movement functions are defined!"
        },
        {
         "code": ">>> from pykubegrader.telemetry import ensure_responses, log_variable, score_question, submit_question, telemetry, update_responses\n>>> import os\n>>> import base64\n>>> import inspect\n>>> import re\n>>> question_id = 'event-handlers-2'\n>>> max_score = 4.0\n>>> score = 0\n>>> functions = {'on_up_clicked': inspect.getsource(on_up_clicked), 'on_left_clicked': inspect.getsource(on_left_clicked), 'on_down_clicked': inspect.getsource(on_down_clicked), 'on_right_clicked': inspect.getsource(on_right_clicked)}\n>>> expected_calls = {'on_up_clicked': 'move_pacman\\\\(board,\\\\s*0,\\\\s*-1\\\\)', 'on_left_clicked': 'move_pacman\\\\(board,\\\\s*-1,\\\\s*0\\\\)', 'on_down_clicked': 'move_pacman\\\\(board,\\\\s*0,\\\\s*1\\\\)', 'on_right_clicked': 'move_pacman\\\\(board,\\\\s*1,\\\\s*0\\\\)'}\n>>> function_calls = {func: bool(re.search(expected_calls[func], functions[func])) for func in functions}\n>>> condition = all(function_calls.values())\n>>> assert condition\n>>> if condition:\n...     score = 4.0\n>>> earned_points = float(os.environ.get('EARNED_POINTS', 0))\n>>> earned_points += score\n>>> log_variable('1_PacMan', f'{score}, {max_score}', question_id)\n>>> os.environ['EARNED_POINTS'] = str(earned_points)\n>>> responses = update_responses(question_id, str(function_calls))\n",
         "failure_message": "Failed: One or more functions do not call `move_pacman` correctly.",
         "hidden": false,
         "locked": false,
         "points": 4,
         "success_message": "Success: Movement functions correctly call `move_pacman`!"
        },
        {
         "code": ">>> from pykubegrader.telemetry import ensure_responses, log_variable, score_question, submit_question, telemetry, update_responses\n>>> import os\n>>> import base64\n>>> import inspect\n>>> question_id = 'event-handlers-3'\n>>> max_score = 4.0\n>>> score = 0\n>>> full_code = inspect.getsource(update_display)\n>>> update_called = 'update_display()' in full_code\n>>> assert update_called, '`update_display()` must be called during initial render.'\n>>> if update_called:\n...     score = 4.0\n>>> earned_points = float(os.environ.get('EARNED_POINTS', 0))\n>>> earned_points += score\n>>> log_variable('1_PacMan', f'{score}, {max_score}', question_id)\n>>> os.environ['EARNED_POINTS'] = str(earned_points)\n>>> responses = update_responses(question_id, str(update_called))\n",
         "failure_message": "Failed: `update_display()` is missing from the initial render.",
         "hidden": false,
         "locked": false,
         "points": 4,
         "success_message": "Success: `update_display()` is called on initial render!"
        }
       ],
       "scored": true,
       "setup": "",
       "teardown": "",
       "type": "doctest"
      }
     ]
    },
    "move-ghost-forward": {
     "name": "move-ghost-forward",
     "points": null,
     "suites": [
      {
       "cases": [
        {
         "code": ">>> from pykubegrader.telemetry import ensure_responses, log_variable, score_question, submit_question, telemetry, update_responses\n>>> import os\n>>> import base64\n>>> max_question_points = str(4.0)\n>>> earned_points = 0\n>>> os.environ['EARNED_POINTS'] = str(earned_points)\n>>> os.environ['TOTAL_POINTS_FREE_RESPONSE'] = str(61.0)\n>>> log_variable('total-points', f'week6-lab, 1_PacMan', 61.0)\n>>> question_id = 'move-ghost-forward-1'\n>>> max_score = 1.0\n>>> score = 0\n>>> assert callable(move_ghost_towards_pacman), 'The function `move_ghost_towards_pacman` must be defined and callable.'\n>>> if callable(move_ghost_towards_pacman):\n...     score = 1.0\n>>> earned_points = float(os.environ.get('EARNED_POINTS', 0))\n>>> earned_points += score\n>>> log_variable('1_PacMan', f'{score}, {max_score}', question_id)\n>>> os.environ['EARNED_POINTS'] = str(earned_points)\n",
         "failure_message": "Failed: The function `move_ghost_towards_pacman` is not defined correctly.",
         "hidden": false,
         "locked": false,
         "points": 1,
         "success_message": "Success: The function `move_ghost_towards_pacman` exists and is callable!"
        },
        {
         "code": ">>> from pykubegrader.telemetry import ensure_responses, log_variable, score_question, submit_question, telemetry, update_responses\n>>> import os\n>>> import base64\n>>> question_id = 'move-ghost-forward-2'\n>>> max_score = 1.0\n>>> score = 0\n>>> board_ = board.copy()\n>>> board_[2][1] = '#'\n>>> gx_, gy_ = (1, 2)\n>>> px_, py_ = (3, 1)\n>>> new_gx_, new_gy_ = move_ghost_towards_pacman(board, gx_, gy_, px_, py_)\n>>> assert (new_gx_, new_gy_) != (2, 1), 'Expected the ghost to avoid the wall.'\n>>> if (new_gx_, new_gy_) != (2, 1):\n...     score = 1.0\n>>> earned_points = float(os.environ.get('EARNED_POINTS', 0))\n>>> earned_points += score\n>>> log_variable('1_PacMan', f'{score}, {max_score}', question_id)\n>>> os.environ['EARNED_POINTS'] = str(earned_points)\n",
         "failure_message": "Failed: The ghost does not properly navigate around walls.",
         "hidden": false,
         "locked": false,
         "points": 1,
         "success_message": "Success: The ghost avoids walls when moving towards Pac-Man!"
        },
        {
         "code": ">>> from pykubegrader.telemetry import ensure_responses, log_variable, score_question, submit_question, telemetry, update_responses\n>>> import os\n>>> import base64\n>>> question_id = 'move-ghost-forward-3'\n>>> max_score = 1.0\n>>> score = 0\n>>> test_board = board.copy()\n>>> test_board[1][0] = '#'\n>>> test_board[1][2] = '#'\n>>> test_board[0][1] = '#'\n>>> test_board[2][1] = '#'\n>>> gx_, gy_ = (1, 1)\n>>> px_, py_ = (3, 3)\n>>> new_gx, new_gy = move_ghost_towards_pacman(board, gx_, gy_, px_, py_)\n>>> assert (new_gx, new_gy) == (gx_, gy_), 'Expected the ghost to stay in place when trapped.'\n>>> if (new_gx, new_gy) == (gx_, gy_):\n...     score = 1.0\n>>> earned_points = float(os.environ.get('EARNED_POINTS', 0))\n>>> earned_points += score\n>>> log_variable('1_PacMan', f'{score}, {max_score}', question_id)\n>>> os.environ['EARNED_POINTS'] = str(earned_points)\n",
         "failure_message": "Failed: The ghost should remain stationary when trapped.",
         "hidden": false,
         "locked": false,
         "points": 1,
         "success_message": "Success: The ghost stays in place if no valid moves are available!"
        },
        {
         "code": ">>> from pykubegrader.telemetry import ensure_responses, log_variable, score_question, submit_question, telemetry, update_responses\n>>> import os\n>>> import base64\n>>> question_id = 'move-ghost-forward-4'\n>>> max_score = 1.0\n>>> score = 0\n>>> board_ = board.copy()\n>>> board_[2][2] = '#'\n>>> board_[3][1] = '#'\n>>> board_[3][3] = '#'\n>>> board_[4][2] = '#'\n>>> gx_, gy_ = (3, 2)\n>>> px_, py_ = (3, 2)\n>>> new_gx, new_gy = move_ghost_towards_pacman(board, gx_, gy_, px_, py_)\n>>> assert valid_move(board_, new_gx, new_gy), 'Expected the ghost to make a valid random move.'\n>>> if valid_move(board_, new_gx, new_gy):\n...     score = 1.0\n>>> earned_points = float(os.environ.get('EARNED_POINTS', 0))\n>>> earned_points += score\n>>> log_variable('1_PacMan', f'{score}, {max_score}', question_id)\n>>> os.environ['EARNED_POINTS'] = str(earned_points)\n",
         "failure_message": "Failed: The ghost does not take a random move when no direct path exists.",
         "hidden": false,
         "locked": false,
         "points": 1,
         "success_message": "Success: The ghost takes a random valid move when no direct path exists!"
        }
       ],
       "scored": true,
       "setup": "",
       "teardown": "",
       "type": "doctest"
      }
     ]
    },
    "move-pac-man": {
     "name": "move-pac-man",
     "points": null,
     "suites": [
      {
       "cases": [
        {
         "code": ">>> from pykubegrader.telemetry import ensure_responses, log_variable, score_question, submit_question, telemetry, update_responses\n>>> import os\n>>> import base64\n>>> max_question_points = str(6.0)\n>>> earned_points = 0\n>>> os.environ['EARNED_POINTS'] = str(earned_points)\n>>> os.environ['TOTAL_POINTS_FREE_RESPONSE'] = str(61.0)\n>>> log_variable('total-points', f'week6-lab, 1_PacMan', 61.0)\n>>> question_id = 'move-pac-man-1'\n>>> max_score = 1.0\n>>> score = 0\n>>> pacman_pos = [0, 0]\n>>> game_over = False\n>>> pacman_lives = 3\n>>> assert callable(move_pacman), 'The function `move_pacman` must be defined and callable.'\n>>> if callable(move_pacman):\n...     score = 1.0\n>>> earned_points = float(os.environ.get('EARNED_POINTS', 0))\n>>> earned_points += score\n>>> log_variable('1_PacMan', f'{score}, {max_score}', question_id)\n>>> os.environ['EARNED_POINTS'] = str(earned_points)\n",
         "failure_message": "Failed: The function `move_pacman` is not defined correctly.",
         "hidden": false,
         "locked": false,
         "points": 1,
         "success_message": "Success: The function `move_pacman` exists and is callable!"
        },
        {
         "code": ">>> from pykubegrader.telemetry import ensure_responses, log_variable, score_question, submit_question, telemetry, update_responses\n>>> import os\n>>> import base64\n>>> import inspect\n>>> question_id = 'move-pac-man-2'\n>>> max_score = 2.0\n>>> score = 0\n>>> assert 'move_pacman' in globals(), 'Function `move_pacman` is not defined.'\n>>> original_code = inspect.getsource(move_pacman)\n>>> modified_code = original_code.replace('def move_pacman', 'def move_pacman_v7')\n>>> exec(modified_code, globals())\n>>> board = [list(row) for row in BOARD_LAYOUT]\n>>> board[1][2] = '.'\n>>> score = 0\n>>> total_pellets = 10\n>>> pacman_pos = [1, 1]\n>>> game_over, score, pacman_lives = move_pacman_v7(board, 1, 0)\n>>> new_score = score\n>>> pellet_status = board[1][2]\n>>> assert new_score == 1, f'Expected score to increase to 1 when eating a pellet, but got {new_score}.'\n>>> assert pellet_status == ' ', f\"Expected pellet to be removed (replaced by space), but found '{pellet_status}'.\"\n>>> if 'move_pacman' in globals() and new_score == 1 and (pellet_status == ' '):\n...     score = 2.0\n>>> earned_points = float(os.environ.get('EARNED_POINTS', 0))\n>>> earned_points += score\n>>> log_variable('1_PacMan', f'{score}, {max_score}', question_id)\n>>> os.environ['EARNED_POINTS'] = str(earned_points)\n>>> responses = update_responses(question_id, str(new_score))\n>>> responses = update_responses(question_id, str(pellet_status))\n",
         "failure_message": "Failed: Pac-Man does not collect pellets correctly.",
         "hidden": false,
         "locked": false,
         "points": 2,
         "success_message": "Success: Pac-Man collects pellets correctly!"
        },
        {
         "code": ">>> from pykubegrader.telemetry import ensure_responses, log_variable, score_question, submit_question, telemetry, update_responses\n>>> import os\n>>> import base64\n>>> import inspect\n>>> question_id = 'move-pac-man-3'\n>>> max_score = 2.0\n>>> score = 0\n>>> assert 'move_pacman' in globals(), 'Function `move_pacman` is not defined.'\n>>> original_code = inspect.getsource(move_pacman)\n>>> modified_code = original_code.replace('def move_pacman', 'def move_pacman_v5')\n>>> exec(modified_code, globals())\n>>> ghost_spawn_prob = 1.0\n>>> ghosts = []\n>>> game_over = False\n>>> game_over, score, pacman_lives = move_pacman_v5(board, 1, 0)\n>>> ghost_count = len(ghosts)\n>>> assert ghost_count == 1, f'Expected a new ghost to be spawned, but found {ghost_count} ghosts.'\n>>> if 'move_pacman' in globals() and ghost_count == 1:\n...     score = 2.0\n>>> earned_points = float(os.environ.get('EARNED_POINTS', 0))\n>>> earned_points += score\n>>> log_variable('1_PacMan', f'{score}, {max_score}', question_id)\n>>> os.environ['EARNED_POINTS'] = str(earned_points)\n>>> responses = update_responses(question_id, str(ghost_count))\n",
         "failure_message": "Failed: The function does not spawn a new ghost correctly.",
         "hidden": false,
         "locked": false,
         "points": 2,
         "success_message": "Success: A new ghost is spawned correctly!"
        },
        {
         "code": ">>> from pykubegrader.telemetry import ensure_responses, log_variable, score_question, submit_question, telemetry, update_responses\n>>> import os\n>>> import base64\n>>> import inspect\n>>> question_id = 'move-pac-man-4'\n>>> max_score = 1.0\n>>> score = 0\n>>> assert 'move_pacman' in globals(), 'Function `move_pacman` is not defined.'\n>>> original_code = inspect.getsource(move_pacman)\n>>> modified_code = original_code.replace('def move_pacman', 'def move_pacman_v4')\n>>> exec(modified_code, globals())\n>>> ghosts = [[2, 2]]\n>>> pacman_pos = [1, 1]\n>>> game_over, score, pacman_lives = move_pacman_v4(board, 0, 0)\n>>> ghost_position = ghosts[0]\n>>> condition = ghost_position != [2, 2]\n>>> assert condition, f'Expected the ghost to move towards Pac-Man, but it remained at {ghost_position}.'\n>>> if 'move_pacman' in globals() and condition:\n...     score = 1.0\n>>> earned_points = float(os.environ.get('EARNED_POINTS', 0))\n>>> earned_points += score\n>>> log_variable('1_PacMan', f'{score}, {max_score}', question_id)\n>>> os.environ['EARNED_POINTS'] = str(earned_points)\n>>> responses = update_responses(question_id, str(ghost_position))\n",
         "failure_message": "Failed: Ghosts do not move correctly towards Pac-Man.",
         "hidden": false,
         "locked": false,
         "points": 1,
         "success_message": "Success: Ghosts move towards Pac-Man correctly!"
        }
       ],
       "scored": true,
       "setup": "",
       "teardown": "",
       "type": "doctest"
      }
     ]
    },
    "render-board-function": {
     "name": "render-board-function",
     "points": null,
     "suites": [
      {
       "cases": [
        {
         "code": ">>> from pykubegrader.telemetry import ensure_responses, log_variable, score_question, submit_question, telemetry, update_responses\n>>> import os\n>>> import base64\n>>> max_question_points = str(7.0)\n>>> earned_points = 0\n>>> os.environ['EARNED_POINTS'] = str(earned_points)\n>>> os.environ['TOTAL_POINTS_FREE_RESPONSE'] = str(61.0)\n>>> log_variable('total-points', f'week6-lab, 1_PacMan', 61.0)\n>>> question_id = 'render-board-function-1'\n>>> max_score = 1.0\n>>> score = 0\n>>> assert callable(render_board), 'The function `render_board` must be defined and callable.'\n>>> if callable(render_board):\n...     score = 1.0\n>>> earned_points = float(os.environ.get('EARNED_POINTS', 0))\n>>> earned_points += score\n>>> log_variable('1_PacMan', f'{score}, {max_score}', question_id)\n>>> os.environ['EARNED_POINTS'] = str(earned_points)\n",
         "failure_message": "Failed: The function `render_board` is not defined correctly.",
         "hidden": false,
         "locked": false,
         "points": 1,
         "success_message": "Success: The function `render_board` exists and is callable!"
        },
        {
         "code": ">>> from pykubegrader.telemetry import ensure_responses, log_variable, score_question, submit_question, telemetry, update_responses\n>>> import os\n>>> import base64\n>>> import inspect\n>>> question_id = 'render-board-function-2'\n>>> max_score = 2.0\n>>> score = 0\n>>> assert 'render_board' in globals(), 'Function `render_board` is not defined.'\n>>> original_code = inspect.getsource(render_board)\n>>> modified_code = original_code.replace('def render_board', 'def render_board_v4')\n>>> exec(modified_code, globals())\n>>> pacman_pos = (0, 0)\n>>> pacman_lives = 3\n>>> game_over = False\n>>> ghosts = [(2, 2)]\n>>> rendered_board = render_board_v4()\n>>> pacman_count = rendered_board.count('😋')\n>>> pacman_position = rendered_board.split('\\n')[0].find('😋')\n>>> assert pacman_count == 1, f'Expected Pac-Man to appear exactly once, but found {pacman_count} occurrences.'\n>>> assert pacman_position != -1, \"Expected Pac-Man to be in the first row, but did not find '😋' in the expected location.\"\n>>> if 'render_board' in globals() and pacman_count == 1 and (pacman_position != -1):\n...     score = 2.0\n>>> earned_points = float(os.environ.get('EARNED_POINTS', 0))\n>>> earned_points += score\n>>> log_variable('1_PacMan', f'{score}, {max_score}', question_id)\n>>> os.environ['EARNED_POINTS'] = str(earned_points)\n>>> responses = update_responses(question_id, str(pacman_count))\n>>> responses = update_responses(question_id, str(pacman_position))\n",
         "failure_message": "Failed: The function does not update the board with Pac-Man's movement.",
         "hidden": false,
         "locked": false,
         "points": 2,
         "success_message": "Success: The function correctly updates the board when Pac-Man moves!"
        },
        {
         "code": ">>> from pykubegrader.telemetry import ensure_responses, log_variable, score_question, submit_question, telemetry, update_responses\n>>> import os\n>>> import base64\n>>> import inspect\n>>> import copy\n>>> question_id = 'render-board-function-3'\n>>> max_score = 2.0\n>>> score = 0\n>>> assert 'render_board' in globals(), 'Function `render_board` is not defined.'\n>>> original_code = inspect.getsource(render_board)\n>>> modified_code = original_code.replace('def render_board', 'def render_board_v3')\n>>> exec(modified_code, globals())\n>>> board_copy = copy.deepcopy(board)\n>>> out = render_board_v3()\n>>> board_unchanged = board == board_copy\n>>> assert board_unchanged, 'Expected the board structure to remain unchanged after rendering.'\n>>> if 'render_board' in globals() and board_unchanged:\n...     score = 2.0\n>>> earned_points = float(os.environ.get('EARNED_POINTS', 0))\n>>> earned_points += score\n>>> log_variable('1_PacMan', f'{score}, {max_score}', question_id)\n>>> os.environ['EARNED_POINTS'] = str(earned_points)\n>>> responses = update_responses(question_id, str(board_unchanged))\n",
         "failure_message": "Failed: The function modifies the original board structure.",
         "hidden": false,
         "locked": false,
         "points": 2,
         "success_message": "Success: The function correctly maintains board integrity!"
        },
        {
         "code": ">>> from pykubegrader.telemetry import ensure_responses, log_variable, score_question, submit_question, telemetry, update_responses\n>>> import os\n>>> import base64\n>>> import inspect\n>>> question_id = 'render-board-function-4'\n>>> max_score = 2.0\n>>> score = 0\n>>> assert 'render_board' in globals(), 'Function `render_board` is not defined.'\n>>> original_code = inspect.getsource(render_board)\n>>> modified_code = original_code.replace('def render_board', 'def render_board_v2')\n>>> exec(modified_code, globals())\n>>> ghosts = [(2, 2), (1, 1)]\n>>> pacman_pos = (0, 0)\n>>> rendered_board = render_board_v2()\n>>> ghost_count = rendered_board.count('👻')\n>>> assert ghost_count == len(ghosts), f'Expected {len(ghosts)} ghosts to be placed, but found {ghost_count}.'\n>>> if 'render_board' in globals() and ghost_count == len(ghosts):\n...     score = 2.0\n>>> earned_points = float(os.environ.get('EARNED_POINTS', 0))\n>>> earned_points += score\n>>> log_variable('1_PacMan', f'{score}, {max_score}', question_id)\n>>> os.environ['EARNED_POINTS'] = str(earned_points)\n>>> responses = update_responses(question_id, str(ghost_count))\n",
         "failure_message": "Failed: The function incorrectly places ghosts.",
         "hidden": false,
         "locked": false,
         "points": 2,
         "success_message": "Success: The function does not misplace ghosts!"
        }
       ],
       "scored": true,
       "setup": "",
       "teardown": "",
       "type": "doctest"
      }
     ]
    },
    "render-ghosts-function": {
     "name": "render-ghosts-function",
     "points": null,
     "suites": [
      {
       "cases": [
        {
         "code": ">>> from pykubegrader.telemetry import ensure_responses, log_variable, score_question, submit_question, telemetry, update_responses\n>>> import os\n>>> import base64\n>>> max_question_points = str(1.0)\n>>> earned_points = 0\n>>> os.environ['EARNED_POINTS'] = str(earned_points)\n>>> os.environ['TOTAL_POINTS_FREE_RESPONSE'] = str(61.0)\n>>> log_variable('total-points', f'week6-lab, 1_PacMan', 61.0)\n>>> question_id = 'render-ghosts-function-1'\n>>> max_score = 1.0\n>>> score = 0\n>>> assert callable(update_display), 'The function `update_display` must be defined and callable.'\n>>> if callable(update_display):\n...     score = 1.0\n>>> earned_points = float(os.environ.get('EARNED_POINTS', 0))\n>>> earned_points += score\n>>> log_variable('1_PacMan', f'{score}, {max_score}', question_id)\n>>> os.environ['EARNED_POINTS'] = str(earned_points)\n",
         "failure_message": "Failed: The function `update_display` is not defined correctly.",
         "hidden": false,
         "locked": false,
         "points": 1,
         "success_message": "Success: The function `update_display` exists and is callable!"
        }
       ],
       "scored": true,
       "setup": "",
       "teardown": "",
       "type": "doctest"
      }
     ]
    },
    "spawn-new-ghost-function": {
     "name": "spawn-new-ghost-function",
     "points": null,
     "suites": [
      {
       "cases": [
        {
         "code": ">>> from pykubegrader.telemetry import ensure_responses, log_variable, score_question, submit_question, telemetry, update_responses\n>>> import os\n>>> import base64\n>>> max_question_points = str(3.0)\n>>> earned_points = 0\n>>> os.environ['EARNED_POINTS'] = str(earned_points)\n>>> os.environ['TOTAL_POINTS_FREE_RESPONSE'] = str(61.0)\n>>> log_variable('total-points', f'week6-lab, 1_PacMan', 61.0)\n>>> question_id = 'spawn-new-ghost-function-1'\n>>> max_score = 1.0\n>>> score = 0\n>>> assert callable(spawn_new_ghost), 'The function `spawn_new_ghost` must be defined and callable.'\n>>> if callable(spawn_new_ghost):\n...     score = 1.0\n>>> earned_points = float(os.environ.get('EARNED_POINTS', 0))\n>>> earned_points += score\n>>> log_variable('1_PacMan', f'{score}, {max_score}', question_id)\n>>> os.environ['EARNED_POINTS'] = str(earned_points)\n",
         "failure_message": "Failed: The function `spawn_new_ghost` is not defined correctly.",
         "hidden": false,
         "locked": false,
         "points": 1,
         "success_message": "Success: The function `spawn_new_ghost` exists and is callable!"
        },
        {
         "code": ">>> from pykubegrader.telemetry import ensure_responses, log_variable, score_question, submit_question, telemetry, update_responses\n>>> import os\n>>> import base64\n>>> question_id = 'spawn-new-ghost-function-2'\n>>> max_score = 1.0\n>>> score = 0\n>>> rx, ry = spawn_new_ghost(board)\n>>> assert valid_move(board, rx, ry), 'Expected the ghost to spawn in a valid position.'\n>>> if valid_move(board, rx, ry):\n...     score = 1.0\n>>> earned_points = float(os.environ.get('EARNED_POINTS', 0))\n>>> earned_points += score\n>>> log_variable('1_PacMan', f'{score}, {max_score}', question_id)\n>>> os.environ['EARNED_POINTS'] = str(earned_points)\n",
         "failure_message": "Failed: The function does not spawn a ghost in a valid position.",
         "hidden": false,
         "locked": false,
         "points": 1,
         "success_message": "Success: The function spawns a ghost in a valid position!"
        },
        {
         "code": ">>> from pykubegrader.telemetry import ensure_responses, log_variable, score_question, submit_question, telemetry, update_responses\n>>> import os\n>>> import base64\n>>> question_id = 'spawn-new-ghost-function-3'\n>>> max_score = 1.0\n>>> score = 0\n>>> pacman_pos = (2, 2)\n>>> ghosts = [(3, 3), (4, 4)]\n>>> rx, ry = spawn_new_ghost(board)\n>>> assert (rx, ry) != tuple(pacman_pos) and all(((rx, ry) != tuple(g) for g in ghosts)), 'Expected the ghost to spawn away from Pac-Man and other ghosts.'\n>>> if (rx, ry) != tuple(pacman_pos) and all(((rx, ry) != tuple(g) for g in ghosts)):\n...     score = 1.0\n>>> earned_points = float(os.environ.get('EARNED_POINTS', 0))\n>>> earned_points += score\n>>> log_variable('1_PacMan', f'{score}, {max_score}', question_id)\n>>> os.environ['EARNED_POINTS'] = str(earned_points)\n",
         "failure_message": "Failed: The function spawns a ghost on an occupied position.",
         "hidden": false,
         "locked": false,
         "points": 1,
         "success_message": "Success: The function avoids spawning a ghost on Pac-Man or another ghost!"
        }
       ],
       "scored": true,
       "setup": "",
       "teardown": "",
       "type": "doctest"
      }
     ]
    },
    "valid-move-function": {
     "name": "valid-move-function",
     "points": null,
     "suites": [
      {
       "cases": [
        {
         "code": ">>> from pykubegrader.telemetry import ensure_responses, log_variable, score_question, submit_question, telemetry, update_responses\n>>> import os\n>>> import base64\n>>> max_question_points = str(7.0)\n>>> earned_points = 0\n>>> os.environ['EARNED_POINTS'] = str(earned_points)\n>>> os.environ['TOTAL_POINTS_FREE_RESPONSE'] = str(61.0)\n>>> log_variable('total-points', f'week6-lab, 1_PacMan', 61.0)\n>>> question_id = 'valid-move-function-1'\n>>> max_score = 1.0\n>>> score = 0\n>>> assert callable(valid_move), 'The function `valid_move` must be defined and callable.'\n>>> if callable(valid_move):\n...     score = 1.0\n>>> earned_points = float(os.environ.get('EARNED_POINTS', 0))\n>>> earned_points += score\n>>> log_variable('1_PacMan', f'{score}, {max_score}', question_id)\n>>> os.environ['EARNED_POINTS'] = str(earned_points)\n",
         "failure_message": "Failed: The function `valid_move` is not defined correctly.",
         "hidden": false,
         "locked": false,
         "points": 1,
         "success_message": "Success: The function `valid_move` exists and is callable!"
        },
        {
         "code": ">>> from pykubegrader.telemetry import ensure_responses, log_variable, score_question, submit_question, telemetry, update_responses\n>>> import os\n>>> import base64\n>>> question_id = 'valid-move-function-2'\n>>> max_score = 1.0\n>>> score = 0\n>>> assert valid_move(board, 1, 1) is True, 'Expected True for a valid move inside the board.'\n>>> assert valid_move(board, 5, 5) is False, 'Expected True for a valid move inside the board.'\n>>> if valid_move(board, 1, 1) is True and valid_move(board, 5, 5) is False:\n...     score = 1.0\n>>> earned_points = float(os.environ.get('EARNED_POINTS', 0))\n>>> earned_points += score\n>>> log_variable('1_PacMan', f'{score}, {max_score}', question_id)\n>>> os.environ['EARNED_POINTS'] = str(earned_points)\n",
         "failure_message": "Failed: The function does not correctly identify valid moves.",
         "hidden": false,
         "locked": false,
         "points": 1,
         "success_message": "Success: The function correctly identifies valid moves inside the board!"
        },
        {
         "code": ">>> from pykubegrader.telemetry import ensure_responses, log_variable, score_question, submit_question, telemetry, update_responses\n>>> import os\n>>> import base64\n>>> question_id = 'valid-move-function-3'\n>>> max_score = 1.0\n>>> score = 0\n>>> assert valid_move(board, -1, 0) is False, 'Expected False for x < 0.'\n>>> assert valid_move(board, 0, -1) is False, 'Expected False for y < 0.'\n>>> assert valid_move(board, COLS, 0) is False, f'Expected False for x >= {COLS}.'\n>>> assert valid_move(board, 0, ROWS) is False, f'Expected False for y >= {ROWS}.'\n>>> if valid_move(board, -1, 0) is False and valid_move(board, 0, -1) is False and (valid_move(board, COLS, 0) is False) and (valid_move(board, 0, ROWS) is False):\n...     score = 1.0\n>>> earned_points = float(os.environ.get('EARNED_POINTS', 0))\n>>> earned_points += score\n>>> log_variable('1_PacMan', f'{score}, {max_score}', question_id)\n>>> os.environ['EARNED_POINTS'] = str(earned_points)\n",
         "failure_message": "Failed: The function does not correctly handle out-of-bounds moves.",
         "hidden": false,
         "locked": false,
         "points": 1,
         "success_message": "Success: The function correctly detects moves outside the board!"
        },
        {
         "code": ">>> from pykubegrader.telemetry import ensure_responses, log_variable, score_question, submit_question, telemetry, update_responses\n>>> import os\n>>> import base64\n>>> question_id = 'valid-move-function-4'\n>>> max_score = 1.0\n>>> score = 0\n>>> board_ = board.copy()\n>>> board_[3][3] = '#'\n>>> assert valid_move(board, 3, 3) is False, 'Expected False for a move into a wall.'\n>>> if valid_move(board, 3, 3) is False:\n...     score = 1.0\n>>> earned_points = float(os.environ.get('EARNED_POINTS', 0))\n>>> earned_points += score\n>>> log_variable('1_PacMan', f'{score}, {max_score}', question_id)\n>>> os.environ['EARNED_POINTS'] = str(earned_points)\n",
         "failure_message": "Failed: The function does not correctly recognize walls.",
         "hidden": false,
         "locked": false,
         "points": 1,
         "success_message": "Success: The function correctly identifies walls as invalid moves!"
        },
        {
         "code": ">>> from pykubegrader.telemetry import ensure_responses, log_variable, score_question, submit_question, telemetry, update_responses\n>>> import os\n>>> import base64\n>>> question_id = 'valid-move-function-5'\n>>> max_score = 1.0\n>>> score = 0\n>>> board_ = board.copy()\n>>> board_[2][2] = '.'\n>>> assert valid_move(board_, 2, 2) is True, 'Expected True for a move into an open space.'\n>>> if valid_move(board_, 2, 2) is True:\n...     score = 1.0\n>>> earned_points = float(os.environ.get('EARNED_POINTS', 0))\n>>> earned_points += score\n>>> log_variable('1_PacMan', f'{score}, {max_score}', question_id)\n>>> os.environ['EARNED_POINTS'] = str(earned_points)\n",
         "failure_message": "Failed: The function does not allow valid movement on open spaces.",
         "hidden": false,
         "locked": false,
         "points": 1,
         "success_message": "Success: The function correctly allows movement on open spaces!"
        },
        {
         "code": ">>> from pykubegrader.telemetry import ensure_responses, log_variable, score_question, submit_question, telemetry, update_responses\n>>> import os\n>>> import base64\n>>> question_id = 'valid-move-function-6'\n>>> max_score = 1.0\n>>> score = 0\n>>> assert valid_move(board, 0, 0) is False, 'Expected True for the top-left corner if not a wall.'\n>>> assert valid_move(board, COLS - 1, ROWS - 1) is False, 'Expected True for the bottom-right corner if not a wall.'\n>>> if valid_move(board, 0, 0) is False and valid_move(board, COLS - 1, ROWS - 1) is False:\n...     score = 1.0\n>>> earned_points = float(os.environ.get('EARNED_POINTS', 0))\n>>> earned_points += score\n>>> log_variable('1_PacMan', f'{score}, {max_score}', question_id)\n>>> os.environ['EARNED_POINTS'] = str(earned_points)\n",
         "failure_message": "Failed: The function does not correctly handle edge cases.",
         "hidden": false,
         "locked": false,
         "points": 1,
         "success_message": "Success: The function handles edge cases correctly!"
        },
        {
         "code": ">>> from pykubegrader.telemetry import ensure_responses, log_variable, score_question, submit_question, telemetry, update_responses\n>>> import os\n>>> import base64\n>>> import copy\n>>> question_id = 'valid-move-function-7'\n>>> max_score = 1.0\n>>> score = 0\n>>> board_copy = copy.deepcopy(board)\n>>> out = valid_move(board, 1, 1)\n>>> assert board == board_copy, 'The board should remain unchanged after calling `valid_move`.'\n>>> if board == board_copy:\n...     score = 1.0\n>>> earned_points = float(os.environ.get('EARNED_POINTS', 0))\n>>> earned_points += score\n>>> log_variable('1_PacMan', f'{score}, {max_score}', question_id)\n>>> os.environ['EARNED_POINTS'] = str(earned_points)\n",
         "failure_message": "Failed: The function modifies the board state.",
         "hidden": false,
         "locked": false,
         "points": 1,
         "success_message": "Success: The function does not modify the board while checking moves!"
        }
       ],
       "scored": true,
       "setup": "",
       "teardown": "",
       "type": "doctest"
      }
     ]
    }
   }
  }
 },
 "nbformat": 4,
 "nbformat_minor": 2
}
