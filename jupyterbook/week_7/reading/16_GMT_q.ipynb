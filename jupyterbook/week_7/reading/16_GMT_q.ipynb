{
 "cells": [
  {
   "cell_type": "markdown",
   "id": "0",
   "metadata": {},
   "source": [
    "# ⌚ Multiple Inheritance in Python: The Rolex GMT Master\n",
    "\n",
    "![](./assets/figures/rolex-gmt.jpg)\n",
    "\n",
    "The **Rolex GMT-Master** is one of the most iconic watches ever created, designed for **pilots and travelers** who needed to track multiple time zones. The watch combines **precise movement**, **durability**, and **aesthetic elegance**.  \n",
    "\n",
    "Similarly, in Python, **multiple inheritance** allows a class to combine **features from multiple parent classes**, just like the **GMT-Master blends aviation functionality with luxury craftsmanship**.  \n",
    "\n",
    "Let’s explore how **multiple inheritance** enables us to **design complex and versatile class structures**—just like Rolex engineers do when crafting legendary watches."
   ]
  },
  {
   "cell_type": "code",
   "execution_count": null,
   "id": "1",
   "metadata": {},
   "outputs": [],
   "source": [
    "# BEGIN MULTIPLE CHOICE\n",
    "## points: 1\n",
    "## title: Select the Best Answer\n",
    "## question number: 1"
   ]
  },
  {
   "cell_type": "markdown",
   "id": "2",
   "metadata": {},
   "source": [
    "## multiple-inheritance-definition\n",
    "### **Which of the following best describes multiple inheritance in Python?**\n",
    "\n",
    "#### OPTIONS\n",
    "- A class that inherits from more than one parent class.\n",
    "- A class that cannot override methods from a parent class.\n",
    "- A way to prevent subclasses from inheriting methods.\n",
    "- A method for handling time zone calculations.\n",
    "\n",
    "#### SOLUTION\n",
    "A class that inherits from more than one parent class."
   ]
  },
  {
   "cell_type": "markdown",
   "id": "3",
   "metadata": {},
   "source": [
    "## rolex-multiple-parents\n",
    "### **What will the following code output?**\n",
    "```python\n",
    "class TimeDisplay:\n",
    "    def show_time(self):\n",
    "        return \"Displaying local time.\"\n",
    "\n",
    "class GMTFunctionality:\n",
    "    def show_time(self):\n",
    "        return \"Displaying GMT time.\"\n",
    "\n",
    "class RolexGMT(TimeDisplay, GMTFunctionality):\n",
    "    pass\n",
    "\n",
    "watch = RolexGMT()\n",
    "print(watch.show_time())\n",
    "```\n",
    "\n",
    "#### OPTIONS\n",
    "- `Displaying local time.`\n",
    "- `Displaying GMT time.`\n",
    "- `Error: Method resolution conflict.`\n",
    "- `None`\n",
    "\n",
    "#### SOLUTION\n",
    "`Displaying local time.`"
   ]
  },
  {
   "cell_type": "code",
   "execution_count": null,
   "id": "4",
   "metadata": {},
   "outputs": [],
   "source": [
    "# END MULTIPLE CHOICE"
   ]
  },
  {
   "cell_type": "code",
   "execution_count": null,
   "id": "5",
   "metadata": {},
   "outputs": [],
   "source": [
    "# BEGIN SELECT MANY\n",
    "## points: 2\n",
    "## title: Select All That Apply\n",
    "## question number: 2\n",
    "## grade: parts"
   ]
  },
  {
   "cell_type": "markdown",
   "id": "6",
   "metadata": {},
   "source": [
    "## rolex-inheritance-benefits\n",
    "### **What are the benefits of using multiple inheritance in the design of a Rolex GMT class?**\n",
    "\n",
    "#### OPTIONS\n",
    "- Combines functionalities from different classes (e.g., time display and GMT tracking).\n",
    "- Allows the class to inherit and override methods from multiple sources.\n",
    "- Ensures that only one parent class can contribute methods.\n",
    "- Simplifies code reuse by leveraging existing class behaviors.\n",
    "\n",
    "#### SOLUTION\n",
    "- Combines functionalities from different classes (e.g., time display and GMT tracking).\n",
    "- Allows the class to inherit and override methods from multiple sources.\n",
    "- Simplifies code reuse by leveraging existing class behaviors."
   ]
  },
  {
   "cell_type": "markdown",
   "id": "7",
   "metadata": {},
   "source": [
    "## rolex-diamond-mix\n",
    "### **Which of the following would be valid parent classes for a Rolex GMT watch model using multiple inheritance?**\n",
    "\n",
    "#### OPTIONS\n",
    "- `class Timekeeping:`\n",
    "- `class LuxuryBrand:`\n",
    "- `class BatteryPowered:`\n",
    "- `class GoldPlated:`\n",
    "\n",
    "#### SOLUTION\n",
    "- `class Timekeeping:`\n",
    "- `class LuxuryBrand:`\n",
    "- `class GoldPlated:`"
   ]
  },
  {
   "cell_type": "code",
   "execution_count": null,
   "id": "8",
   "metadata": {},
   "outputs": [],
   "source": [
    "# END SELECT MANY"
   ]
  },
  {
   "cell_type": "raw",
   "id": "9",
   "metadata": {
    "vscode": {
     "languageId": "raw"
    }
   },
   "source": [
    "# BEGIN TF\n",
    "## points: 1\n",
    "## title: True or False\n",
    "## question number: 3"
   ]
  },
  {
   "cell_type": "markdown",
   "id": "10",
   "metadata": {},
   "source": [
    "## diamond-problem\n",
    "### **Python's method resolution order (MRO) helps resolve method conflicts in multiple inheritance.**\n",
    "\n",
    "#### SOLUTION\n",
    "True"
   ]
  },
  {
   "cell_type": "markdown",
   "id": "11",
   "metadata": {},
   "source": [
    "## mro-sequence\n",
    "### **In multiple inheritance, Python follows a strict order to check for methods in parent classes.**\n",
    "\n",
    "#### SOLUTION\n",
    "True"
   ]
  },
  {
   "cell_type": "markdown",
   "id": "12",
   "metadata": {},
   "source": [
    "## single-inheritance-requirement\n",
    "### **Python does not allow a class to inherit from more than one parent class.**\n",
    "\n",
    "#### SOLUTION\n",
    "False"
   ]
  },
  {
   "cell_type": "raw",
   "id": "13",
   "metadata": {
    "vscode": {
     "languageId": "raw"
    }
   },
   "source": [
    "# END TF"
   ]
  },
  {
   "cell_type": "raw",
   "id": "14",
   "metadata": {
    "vscode": {
     "languageId": "raw"
    }
   },
   "source": [
    "# ASSIGNMENT CONFIG\n",
    "solutions_pdf: true\n",
    "generate: \n",
    "    pdf: true\n",
    "    filtering: true\n",
    "    pagebreaks: true\n",
    "    zips: false\n",
    "files: [.client_private_key.bin, .server_public_key.bin]"
   ]
  },
  {
   "cell_type": "raw",
   "id": "15",
   "metadata": {
    "vscode": {
     "languageId": "raw"
    }
   },
   "source": [
    "# BEGIN QUESTION\n",
    "name: Rolex-GMT-Multiple-Inheritance"
   ]
  },
  {
   "cell_type": "markdown",
   "id": "16",
   "metadata": {},
   "source": [
    "## ⌚ Free Response: Implement Multiple Inheritance for a Rolex GMT Watch\n",
    "\n",
    "Design a **Python class structure** that models a **Rolex GMT-Master watch** using **multiple inheritance**:\n",
    "\n",
    "- Create a **base class** `Timekeeping` with:\n",
    "    - A method `show_time()` that returns `\"Showing local time.\"`\n",
    "- Create another **base class** `GMTFunctionality` with:\n",
    "    - A method `show_gmt()` that returns `\"Showing GMT time.\"`\n",
    "- Create a subclass `RolexGMT` that:\n",
    "    - Inherits from **both** `Timekeeping` and `GMTFunctionality`.\n",
    "    - Overrides `show_time()` to include **both local and GMT time**.\n",
    "\n",
    "### **Example Usage**\n",
    "```python\n",
    "watch = RolexGMT()\n",
    "print(watch.show_time())\n",
    "print(watch.show_gmt())\n",
    "```\n",
    "**Expected Output:**\n",
    "```\n",
    "Local Time: Showing local time.\n",
    "GMT Time: Showing GMT time.\n",
    "```"
   ]
  },
  {
   "cell_type": "code",
   "execution_count": null,
   "id": "17",
   "metadata": {},
   "outputs": [],
   "source": [
    "# BEGIN SOLUTION\n",
    "\n",
    "\n",
    "class Timekeeping:\n",
    "    def show_time(self):\n",
    "        return \"Showing local time.\"\n",
    "\n",
    "\n",
    "class GMTFunctionality:\n",
    "    def show_gmt(self):\n",
    "        return \"Showing GMT time.\"\n",
    "\n",
    "\n",
    "class RolexGMT(Timekeeping, GMTFunctionality):\n",
    "    def show_time(self):\n",
    "        return f\"Local Time: {super().show_time()}\\nGMT Time: {self.show_gmt()}\"\n",
    "\n",
    "\n",
    "# Example usage\n",
    "watch = RolexGMT()\n",
    "print(watch.show_time())\n",
    "print(watch.show_gmt())"
   ]
  },
  {
   "cell_type": "raw",
   "id": "18",
   "metadata": {
    "vscode": {
     "languageId": "raw"
    }
   },
   "source": [
    "# END SOLUTION"
   ]
  },
  {
   "cell_type": "raw",
   "id": "19",
   "metadata": {
    "vscode": {
     "languageId": "raw"
    }
   },
   "source": [
    "# BEGIN TESTS"
   ]
  },
  {
   "cell_type": "code",
   "execution_count": null,
   "id": "20",
   "metadata": {},
   "outputs": [],
   "source": [
    "\"\"\" # BEGIN TEST CONFIG\n",
    "points: 1\n",
    "hidden: false\n",
    "success_message: \"Success: The base Timekeeping class initializes correctly!\"\n",
    "failure_message: \"Failed: The base Timekeeping class is missing required methods.\"\n",
    "\"\"\"  # END TEST CONFIG\n",
    "\n",
    "t = Timekeeping()\n",
    "assert t.show_time() == \"Showing local time.\", \"Incorrect Timekeeping method output.\""
   ]
  },
  {
   "cell_type": "code",
   "execution_count": null,
   "id": "21",
   "metadata": {},
   "outputs": [],
   "source": [
    "\"\"\" # BEGIN TEST CONFIG\n",
    "points: 1\n",
    "hidden: false\n",
    "success_message: \"Success: The GMTFunctionality class initializes correctly!\"\n",
    "failure_message: \"Failed: The GMTFunctionality class is missing required methods.\"\n",
    "\"\"\"  # END TEST CONFIG\n",
    "\n",
    "g = GMTFunctionality()\n",
    "assert g.show_gmt() == \"Showing GMT time.\", \"Incorrect GMTFunctionality method output.\""
   ]
  },
  {
   "cell_type": "code",
   "execution_count": null,
   "id": "22",
   "metadata": {},
   "outputs": [],
   "source": [
    "\"\"\" # BEGIN TEST CONFIG\n",
    "points: 1\n",
    "hidden: false\n",
    "success_message: \"Success: The RolexGMT class correctly inherits from both base classes!\"\n",
    "failure_message: \"Failed: RolexGMT does not inherit properly from both base classes.\"\n",
    "\"\"\"  # END TEST CONFIG\n",
    "\n",
    "r = RolexGMT()\n",
    "assert isinstance(r, Timekeeping) and isinstance(\n",
    "    r, GMTFunctionality\n",
    "), \"RolexGMT does not inherit properly.\""
   ]
  },
  {
   "cell_type": "code",
   "execution_count": null,
   "id": "23",
   "metadata": {},
   "outputs": [],
   "source": [
    "\"\"\" # BEGIN TEST CONFIG\n",
    "points: 1\n",
    "hidden: false\n",
    "success_message: \"Success: The RolexGMT class correctly overrides show_time()!\"\n",
    "failure_message: \"Failed: RolexGMT show_time() does not include both local and GMT time.\"\n",
    "\"\"\"  # END TEST CONFIG\n",
    "\n",
    "output = r.show_time()\n",
    "expected_local = \"Showing local time.\"\n",
    "expected_gmt = \"Showing GMT time.\"\n",
    "assert (\n",
    "    expected_local in output and expected_gmt in output\n",
    "), \"RolexGMT show_time() is missing required outputs.\""
   ]
  },
  {
   "cell_type": "raw",
   "id": "24",
   "metadata": {
    "vscode": {
     "languageId": "raw"
    }
   },
   "source": [
    "# END TESTS"
   ]
  },
  {
   "cell_type": "code",
   "execution_count": null,
   "id": "25",
   "metadata": {},
   "outputs": [],
   "source": [
    "# END QUESTION"
   ]
  }
 ],
 "metadata": {
  "kernelspec": {
   "display_name": "dev_venv",
   "language": "python",
   "name": "python3"
  },
  "language_info": {
   "name": "python",
   "version": "3.13.1"
  }
 },
 "nbformat": 4,
 "nbformat_minor": 5
}
