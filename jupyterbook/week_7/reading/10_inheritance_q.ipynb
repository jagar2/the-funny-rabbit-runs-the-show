{
 "cells": [
  {
   "cell_type": "markdown",
   "id": "0",
   "metadata": {},
   "source": [
    "# 🏈 Inheritance in Python: Building NFL Madden Player Classes\n",
    "\n",
    "![](./assets/figures/justinJ.jpeg)\n",
    "\n",
    "The **Madden NFL** video game franchise has been a staple for football fans for decades. Each player in the game has unique **attributes and abilities**, but all players share common **characteristics** like **name, position, and rating**.  \n",
    "\n",
    "In Python, **inheritance** allows us to model this by creating a **base Player class** and extending it into **specialized player types** like **Quarterbacks, Wide Receivers, and Defensive Linemen**.  \n",
    "\n",
    "Let’s explore **how inheritance helps us organize player attributes and skills in Madden NFL** using Python classes!"
   ]
  },
  {
   "cell_type": "raw",
   "id": "1",
   "metadata": {
    "vscode": {
     "languageId": "raw"
    }
   },
   "source": [
    "# BEGIN MULTIPLE CHOICE\n",
    "## points: 1\n",
    "## title: Select the Best Answer\n",
    "## question number: 1"
   ]
  },
  {
   "cell_type": "markdown",
   "id": "2",
   "metadata": {},
   "source": [
    "## player-inheritance\n",
    "### **Which of the following best describes class inheritance in Python?**\n",
    "\n",
    "#### OPTIONS\n",
    "Inheritance allows a class to reuse attributes and methods from another class.\n",
    "Inheritance copies methods from one class to another, but they cannot be modified.\n",
    "Inheritance makes all child classes identical to their parent class.\n",
    "Inheritance only works with built-in Python classes.\n",
    "\n",
    "#### SOLUTION\n",
    "Inheritance allows a class to reuse attributes and methods from another class."
   ]
  },
  {
   "cell_type": "markdown",
   "id": "3",
   "metadata": {},
   "source": [
    "## quarterback-subclass\n",
    "### **What will the following code output?**\n",
    "```python\n",
    "class Player:\n",
    "    def __init__(self, name, rating):\n",
    "        self.name = name\n",
    "        self.rating = rating\n",
    "\n",
    "class Quarterback(Player):\n",
    "    def __init__(self, name, rating, throwing_power):\n",
    "        super().__init__(name, rating)\n",
    "        self.throwing_power = throwing_power\n",
    "\n",
    "qb = Quarterback(\"Patrick Mahomes\", 97, 99)\n",
    "print(qb.name, qb.rating, qb.throwing_power)\n",
    "```\n",
    "\n",
    "#### OPTIONS\n",
    "`Patrick Mahomes 97 99`\n",
    "`Error: Quarterback must define all attributes explicitly`\n",
    "`None None None`\n",
    "`97 Patrick Mahomes 99`\n",
    "\n",
    "#### SOLUTION\n",
    "`Patrick Mahomes 97 99`"
   ]
  },
  {
   "cell_type": "raw",
   "id": "4",
   "metadata": {
    "vscode": {
     "languageId": "raw"
    }
   },
   "source": [
    "# END MULTIPLE CHOICE"
   ]
  },
  {
   "cell_type": "raw",
   "id": "5",
   "metadata": {
    "vscode": {
     "languageId": "raw"
    }
   },
   "source": [
    "# BEGIN SELECT MANY\n",
    "## points: 2\n",
    "## title: Select All That Apply\n",
    "## question number: 2\n",
    "## grade: parts"
   ]
  },
  {
   "cell_type": "markdown",
   "id": "6",
   "metadata": {},
   "source": [
    "## madden-positions\n",
    "### **Which of the following are benefits of using inheritance in an NFL Madden game class structure?**\n",
    "\n",
    "#### OPTIONS\n",
    "Reduces code duplication by reusing attributes.\n",
    "Allows specialized player classes like `Quarterback` or `WideReceiver`.\n",
    "Forces all subclasses to define their own methods separately.\n",
    "Makes it easy to add new player positions with different attributes.\n",
    "\n",
    "#### SOLUTION\n",
    "Reduces code duplication by reusing attributes.\n",
    "Allows specialized player classes like `Quarterback` or `WideReceiver`.\n",
    "Makes it easy to add new player positions with different attributes."
   ]
  },
  {
   "cell_type": "markdown",
   "id": "7",
   "metadata": {},
   "source": [
    "## nfl-inheritance-methods\n",
    "### **Which methods are essential to correctly implement inheritance in an NFL Madden player class?**\n",
    "\n",
    "#### OPTIONS\n",
    "`def __init__(self, name, rating):`\n",
    "`super().__init__(name, rating)`\n",
    "`class RunningBack(Player):`\n",
    "`def inherit_attributes(self):`\n",
    "\n",
    "#### SOLUTION\n",
    "`def __init__(self, name, rating):`\n",
    "`super().__init__(name, rating)`\n",
    "`class RunningBack(Player):`"
   ]
  },
  {
   "cell_type": "raw",
   "id": "8",
   "metadata": {
    "vscode": {
     "languageId": "raw"
    }
   },
   "source": [
    "# END SELECT MANY"
   ]
  },
  {
   "cell_type": "raw",
   "id": "9",
   "metadata": {
    "vscode": {
     "languageId": "raw"
    }
   },
   "source": [
    "# BEGIN TF\n",
    "## points: 1\n",
    "## title: True or False\n",
    "## question number: 3"
   ]
  },
  {
   "cell_type": "markdown",
   "id": "10",
   "metadata": {},
   "source": [
    "## base-class\n",
    "### **A base class in Python is a class that other classes inherit from.**\n",
    "\n",
    "#### SOLUTION\n",
    "True"
   ]
  },
  {
   "cell_type": "markdown",
   "id": "11",
   "metadata": {},
   "source": [
    "## overriding-methods\n",
    "### **A child class can override methods from a parent class by redefining them.**\n",
    "\n",
    "#### SOLUTION\n",
    "True"
   ]
  },
  {
   "cell_type": "markdown",
   "id": "12",
   "metadata": {},
   "source": [
    "## super-method\n",
    "### **The `super()` function is required in all child class constructors.**\n",
    "\n",
    "#### SOLUTION\n",
    "False"
   ]
  },
  {
   "cell_type": "raw",
   "id": "13",
   "metadata": {
    "vscode": {
     "languageId": "raw"
    }
   },
   "source": [
    "# END TF"
   ]
  },
  {
   "cell_type": "raw",
   "id": "14",
   "metadata": {
    "vscode": {
     "languageId": "raw"
    }
   },
   "source": [
    "# ASSIGNMENT CONFIG\n",
    "solutions_pdf: true\n",
    "generate: \n",
    "    pdf: true\n",
    "    filtering: true\n",
    "    pagebreaks: true\n",
    "    zips: false\n",
    "files: [.client_private_key.bin, .server_public_key.bin]"
   ]
  },
  {
   "cell_type": "raw",
   "id": "15",
   "metadata": {
    "vscode": {
     "languageId": "raw"
    }
   },
   "source": [
    "# BEGIN QUESTION\n",
    "name: Madden-Inheritance-Classes"
   ]
  },
  {
   "cell_type": "markdown",
   "id": "16",
   "metadata": {},
   "source": [
    "## 🏈 Free Response: Create an Inheritance Structure for Madden NFL Players\n",
    "\n",
    "Implement a class hierarchy for Madden NFL players:\n",
    "\n",
    "- Create a **base class** `Player` with:\n",
    "    - `name` (str) and `rating` (int).\n",
    "    - A method `describe()` that prints player details. It should print `Player: <name>, Rating: <rating>`, where the `<name>` and `<rating>` are the player's attributes.\n",
    "- Create a subclass `Quarterback` that:\n",
    "    - Inherits from `Player`.\n",
    "    - Adds a `throwing_power` attribute.\n",
    "    - Overrides `describe()` to include `throwing_power`. To do this, you need to call super on the `describe()` method of the parent class.\n",
    "\n",
    "### **Example Usage**\n",
    "```python\n",
    "qb = Quarterback(\"Lamar Jackson\", 91, 96)\n",
    "qb.describe()\n",
    "```\n",
    "**Expected Output:**\n",
    "```\n",
    "Player: Lamar Jackson, Rating: 91\n",
    "Throwing Power: 96\n",
    "```"
   ]
  },
  {
   "cell_type": "code",
   "execution_count": null,
   "id": "17",
   "metadata": {},
   "outputs": [],
   "source": [
    "# BEGIN SOLUTION\n",
    "class Player:\n",
    "    def __init__(self, name, rating):\n",
    "        self.name = name\n",
    "        self.rating = rating\n",
    "\n",
    "    def describe(self):\n",
    "        print(f\"Player: {self.name}, Rating: {self.rating}\")\n",
    "\n",
    "\n",
    "class Quarterback(Player):\n",
    "    def __init__(self, name, rating, throwing_power):\n",
    "        super().__init__(name, rating)\n",
    "        self.throwing_power = throwing_power\n",
    "\n",
    "    def describe(self):\n",
    "        super().describe()\n",
    "        print(f\"Throwing Power: {self.throwing_power}\")\n",
    "# END SOLUTION\n",
    "\n",
    "# Example usage\n",
    "qb = Quarterback(\"Lamar Jackson\", 91, 96)\n",
    "qb.describe()"
   ]
  },
  {
   "cell_type": "raw",
   "id": "18",
   "metadata": {
    "vscode": {
     "languageId": "raw"
    }
   },
   "source": [
    "# END SOLUTION"
   ]
  },
  {
   "cell_type": "raw",
   "id": "19",
   "metadata": {
    "vscode": {
     "languageId": "raw"
    }
   },
   "source": [
    "# BEGIN TESTS"
   ]
  },
  {
   "cell_type": "code",
   "execution_count": null,
   "id": "20",
   "metadata": {},
   "outputs": [],
   "source": [
    "\"\"\" # BEGIN TEST CONFIG\n",
    "points: 1\n",
    "hidden: false\n",
    "success_message: \"Success: `Player` and `Quarterback` classes are defined!\"\n",
    "failure_message: \"Failed: One or both classes (`Player`, `Quarterback`) are missing.\"\n",
    "log_variables: [\"class_exists\"]\n",
    "\"\"\"  # END TEST CONFIG\n",
    "\n",
    "# Check if `Player` and `Quarterback` exist\n",
    "class_exists = \"Player\" in globals() and \"Quarterback\" in globals()\n",
    "\n",
    "assert class_exists, \"Both `Player` and `Quarterback` classes must be defined.\""
   ]
  },
  {
   "cell_type": "code",
   "execution_count": null,
   "id": "21",
   "metadata": {},
   "outputs": [],
   "source": [
    "\"\"\" # BEGIN TEST CONFIG\n",
    "points: 2\n",
    "hidden: false\n",
    "success_message: \"Success: `Player` initializes attributes correctly!\"\n",
    "failure_message: \"Failed: `Player` does not initialize attributes correctly.\"\n",
    "log_variables: [\"player_attributes\"]\n",
    "\"\"\"  # END TEST CONFIG\n",
    "\n",
    "# Create a test player\n",
    "test_player = Player(\"Patrick Mahomes\", 97)\n",
    "\n",
    "# Check attribute values\n",
    "player_attributes = {\"name\": test_player.name, \"rating\": test_player.rating}\n",
    "\n",
    "expected_attributes = {\"name\": \"Patrick Mahomes\", \"rating\": 97}\n",
    "\n",
    "assert (\n",
    "    player_attributes == expected_attributes\n",
    "), f\"Expected {expected_attributes}, but got {player_attributes}.\""
   ]
  },
  {
   "cell_type": "code",
   "execution_count": null,
   "id": "22",
   "metadata": {},
   "outputs": [],
   "source": [
    "\"\"\" # BEGIN TEST CONFIG\n",
    "points: 2\n",
    "hidden: false\n",
    "success_message: \"Success: `Quarterback` initializes attributes correctly!\"\n",
    "failure_message: \"Failed: `Quarterback` does not initialize attributes correctly.\"\n",
    "log_variables: [\"qb_attributes\"]\n",
    "\"\"\"  # END TEST CONFIG\n",
    "\n",
    "# Create a test quarterback\n",
    "test_qb = Quarterback(\"Josh Allen\", 92, 98)\n",
    "\n",
    "# Check attribute values\n",
    "qb_attributes = {\n",
    "    \"name\": test_qb.name,\n",
    "    \"rating\": test_qb.rating,\n",
    "    \"throwing_power\": test_qb.throwing_power,\n",
    "}\n",
    "\n",
    "expected_attributes = {\"name\": \"Josh Allen\", \"rating\": 92, \"throwing_power\": 98}\n",
    "\n",
    "assert (\n",
    "    qb_attributes == expected_attributes\n",
    "), f\"Expected {expected_attributes}, but got {qb_attributes}.\""
   ]
  },
  {
   "cell_type": "code",
   "execution_count": null,
   "id": "23",
   "metadata": {},
   "outputs": [],
   "source": [
    "\"\"\" # BEGIN TEST CONFIG\n",
    "points: 2\n",
    "hidden: false\n",
    "success_message: \"Success: `Quarterback` correctly inherits from `Player`!\"\n",
    "failure_message: \"Failed: `Quarterback` does not inherit from `Player`.\"\n",
    "log_variables: [\"is_subclass\"]\n",
    "\"\"\"  # END TEST CONFIG\n",
    "\n",
    "# Check inheritance\n",
    "is_subclass = issubclass(Quarterback, Player)\n",
    "\n",
    "assert is_subclass, \"`Quarterback` must inherit from `Player`.\""
   ]
  },
  {
   "cell_type": "code",
   "execution_count": null,
   "id": "24",
   "metadata": {},
   "outputs": [],
   "source": [
    "\"\"\" # BEGIN TEST CONFIG\n",
    "points: 2\n",
    "hidden: false\n",
    "success_message: \"Success: `Quarterback` correctly inherits from `Player`!\"\n",
    "failure_message: \"Failed: `Quarterback` does not inherit from `Player`.\"\n",
    "log_variables: [\"is_subclass\"]\n",
    "\"\"\"  # END TEST CONFIG\n",
    "\n",
    "# Check inheritance\n",
    "is_subclass = issubclass(Quarterback, Player)\n",
    "\n",
    "assert is_subclass, \"`Quarterback` must inherit from `Player`.\""
   ]
  },
  {
   "cell_type": "code",
   "execution_count": null,
   "id": "25",
   "metadata": {},
   "outputs": [],
   "source": [
    "\"\"\" # BEGIN TEST CONFIG\n",
    "points: 2\n",
    "hidden: false\n",
    "success_message: \"Success: `Quarterback.describe()` overrides `Player.describe()` correctly!\"\n",
    "failure_message: \"Failed: `Quarterback.describe()` does not override `Player.describe()`.\"\n",
    "log_variables: [\"method_overridden\"]\n",
    "\"\"\"  # END TEST CONFIG\n",
    "\n",
    "import inspect\n",
    "\n",
    "# Get function source\n",
    "qb_describe_code = inspect.getsource(Quarterback.describe)\n",
    "\n",
    "# Check if `super().describe()` is present\n",
    "method_overridden = \"super().describe()\" in qb_describe_code\n",
    "\n",
    "assert (\n",
    "    method_overridden\n",
    "), \"The `describe()` method in `Quarterback` must call `super().describe()`.\""
   ]
  },
  {
   "cell_type": "code",
   "execution_count": null,
   "id": "26",
   "metadata": {},
   "outputs": [],
   "source": [
    "\"\"\" # BEGIN TEST CONFIG\n",
    "points: 2\n",
    "hidden: false\n",
    "success_message: \"Success: `describe()` correctly prints for `Player`!\"\n",
    "failure_message: \"Failed: `describe()` does not print correctly for `Player`.\"\n",
    "log_variables: [\"stdout_content\"]\n",
    "\"\"\"  # END TEST CONFIG\n",
    "\n",
    "import io\n",
    "from contextlib import redirect_stdout\n",
    "\n",
    "# Capture printed output\n",
    "output = io.StringIO()\n",
    "test_player = Player(\"Joe Burrow\", 95)\n",
    "\n",
    "with redirect_stdout(output):\n",
    "    test_player.describe()\n",
    "\n",
    "stdout_content = output.getvalue().strip()\n",
    "\n",
    "# Expected output\n",
    "expected_output = \"Player: Joe Burrow, Rating: 95\"\n",
    "\n",
    "assert (\n",
    "    stdout_content == expected_output\n",
    "), f\"Expected '{expected_output}', but got '{stdout_content}'.\""
   ]
  },
  {
   "cell_type": "code",
   "execution_count": null,
   "id": "27",
   "metadata": {},
   "outputs": [],
   "source": [
    "\"\"\" # BEGIN TEST CONFIG\n",
    "points: 2\n",
    "hidden: false\n",
    "success_message: \"Success: `describe()` correctly prints for `Quarterback`!\"\n",
    "failure_message: \"Failed: `describe()` does not print correctly for `Quarterback`.\"\n",
    "log_variables: [\"stdout_content\"]\n",
    "\"\"\"  # END TEST CONFIG\n",
    "\n",
    "import io\n",
    "from contextlib import redirect_stdout\n",
    "\n",
    "# Capture printed output\n",
    "output = io.StringIO()\n",
    "test_qb = Quarterback(\"Aaron Rodgers\", 94, 97)\n",
    "\n",
    "with redirect_stdout(output):\n",
    "    test_qb.describe()\n",
    "\n",
    "stdout_content = output.getvalue().strip()\n",
    "\n",
    "# Expected output\n",
    "expected_output = \"Player: Aaron Rodgers, Rating: 94\\nThrowing Power: 97\"\n",
    "\n",
    "assert (\n",
    "    stdout_content == expected_output\n",
    "), f\"Expected:\\n'{expected_output}'\\nbut got:\\n'{stdout_content}'.\""
   ]
  },
  {
   "cell_type": "raw",
   "id": "28",
   "metadata": {
    "vscode": {
     "languageId": "raw"
    }
   },
   "source": [
    "# END TESTS"
   ]
  },
  {
   "cell_type": "code",
   "execution_count": null,
   "id": "29",
   "metadata": {},
   "outputs": [],
   "source": [
    "# END QUESTION"
   ]
  }
 ],
 "metadata": {
  "kernelspec": {
   "display_name": "engr131_dev",
   "language": "python",
   "name": "python3"
  },
  "language_info": {
   "codemirror_mode": {
    "name": "ipython",
    "version": 3
   },
   "file_extension": ".py",
   "mimetype": "text/x-python",
   "name": "python",
   "nbconvert_exporter": "python",
   "pygments_lexer": "ipython3",
   "version": "3.12.7"
  }
 },
 "nbformat": 4,
 "nbformat_minor": 5
}
