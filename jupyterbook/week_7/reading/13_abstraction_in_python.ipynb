{
 "cells": [
  {
   "cell_type": "markdown",
   "id": "0",
   "metadata": {},
   "source": [
    "# 🦞 Abstraction in Python: Dali’s Lobster Telephone Edition\n",
    "\n",
    "![](./assets/figures/dali-telephone.jpg)\n"
   ]
  },
  {
   "cell_type": "markdown",
   "id": "1",
   "metadata": {},
   "source": [
    "## 🚀 Introduction\n",
    "Abstraction is a fundamental concept in object-oriented programming that allows us to hide complex implementation details and expose only what is necessary. This makes code simpler, more modular, and easier to manage.\n",
    "\n",
    "By the end of this guide, you will:\n",
    "- Understand the concept of abstraction and its benefits.\n",
    "- Learn how to create abstract classes and methods in Python.\n",
    "- Explore abstraction using a surreal analogy—Dali’s Lobster Telephone!\n"
   ]
  },
  {
   "cell_type": "markdown",
   "id": "2",
   "metadata": {},
   "source": [
    "## 🎨 What is Abstraction?\n",
    "\n",
    "Abstraction allows developers to define a blueprint for classes without specifying all implementation details. This is especially useful when working with multiple related objects that share common behavior but implement details differently.\n",
    "\n",
    "Abstraction is like a placeholder that defines what an object can do without specifying how it does it. This allows us to create a common interface for different classes, making our code more modular and easier to maintain.\n"
   ]
  },
  {
   "cell_type": "markdown",
   "id": "3",
   "metadata": {},
   "source": [
    "### Why is Abstraction Useful?\n",
    "- Encapsulation: Hides unnecessary details and provides a clear interface.\n",
    "- Code Organization: Defines structured class hierarchies.\n",
    "- Scalability: New classes can extend abstract ones without modifying existing code.\n"
   ]
  },
  {
   "cell_type": "markdown",
   "id": "4",
   "metadata": {},
   "source": [
    "## 🦞 Dali’s Lobster Telephone and Abstraction\n",
    "Imagine Dali’s Lobster Telephone, an artwork where a lobster replaces the phone’s receiver. While the phone functions normally, its real implementation details remain hidden to users—they only interact with the surreal concept of a telephone.\n",
    "\n",
    "In programming, abstract classes work the same way: they provide a clear interface (like a telephone’s dial and receiver) but leave the exact implementation to subclasses.\n"
   ]
  },
  {
   "cell_type": "markdown",
   "id": "5",
   "metadata": {},
   "source": [
    "#### Class Hierarchy Diagram\n",
    "```mermaid\n",
    "classDiagram\n",
    "AbstractTelephone <|-- ClassicTelephone\n",
    "AbstractTelephone <|-- LobsterTelephone\n",
    "class AbstractTelephone{\n",
    "+call()\n",
    "}\n",
    "class ClassicTelephone{\n",
    "+call()\n",
    "}\n",
    "class LobsterTelephone{\n",
    "+call()\n",
    "}\n",
    "```\n"
   ]
  },
  {
   "cell_type": "markdown",
   "id": "6",
   "metadata": {},
   "source": [
    "## 📞 Creating an Abstract Telephone Class"
   ]
  },
  {
   "cell_type": "code",
   "execution_count": null,
   "id": "7",
   "metadata": {},
   "outputs": [],
   "source": [
    "from abc import ABC, abstractmethod\n",
    "\n",
    "class AbstractTelephone(ABC):\n",
    "    def __init__(self, model):\n",
    "        self.model = model\n",
    "\n",
    "    @abstractmethod\n",
    "    def call(self, number):\n",
    "        \"\"\"Abstract method that must be implemented in subclasses.\"\"\"\n",
    "        pass"
   ]
  },
  {
   "cell_type": "markdown",
   "id": "8",
   "metadata": {},
   "source": [
    "### Key Features:\n",
    "- `AbstractTelephone` is an abstract class using `ABC` (Abstract Base Class).\n",
    "- `call()` is an abstract method, meaning subclasses must define their own implementation.\n"
   ]
  },
  {
   "cell_type": "markdown",
   "id": "9",
   "metadata": {},
   "source": [
    "## ☎️ Implementing Different Telephone Types\n",
    "Just like how the Lobster Telephone is an artistic reimagination of a phone, subclasses will implement calling in their own way.\n"
   ]
  },
  {
   "cell_type": "markdown",
   "id": "10",
   "metadata": {},
   "source": [
    "### Classic Telephone (Normal Behavior)"
   ]
  },
  {
   "cell_type": "code",
   "execution_count": null,
   "id": "11",
   "metadata": {},
   "outputs": [],
   "source": [
    "class ClassicTelephone(AbstractTelephone):\n",
    "    def call(self, number):\n",
    "        return f\"📞 Dialing {number} on a classic telephone.\""
   ]
  },
  {
   "cell_type": "markdown",
   "id": "12",
   "metadata": {},
   "source": [
    "### Lobster Telephone (Surreal Behavior)"
   ]
  },
  {
   "cell_type": "code",
   "execution_count": null,
   "id": "13",
   "metadata": {},
   "outputs": [],
   "source": [
    "class LobsterTelephone(AbstractTelephone):\n",
    "    def call(self, number):\n",
    "        return f\"🦞 Calling {number}... but the lobster just stares at you.\""
   ]
  },
  {
   "cell_type": "markdown",
   "id": "14",
   "metadata": {},
   "source": [
    "### Key Features:\n",
    "- Each subclass implements `call()` differently, respecting the abstract method contract.\n",
    "- `ClassicTelephone` follows expected behavior, while `LobsterTelephone` behaves in a surreal, unexpected way.\n"
   ]
  },
  {
   "cell_type": "markdown",
   "id": "15",
   "metadata": {},
   "source": [
    "### Broken Telephone (Incomplete Implementation)"
   ]
  },
  {
   "cell_type": "code",
   "execution_count": null,
   "id": "16",
   "metadata": {},
   "outputs": [],
   "source": [
    "class BrokenTelephone(AbstractTelephone):\n",
    "    def nothing(self, number):\n",
    "        return f\"🦞 Calling {number}... but the lobster just stares at you.\""
   ]
  },
  {
   "cell_type": "markdown",
   "id": "17",
   "metadata": {},
   "source": [
    "## 🎭 Using Abstraction in Action"
   ]
  },
  {
   "cell_type": "code",
   "execution_count": null,
   "id": "18",
   "metadata": {},
   "outputs": [],
   "source": [
    "phones = [ClassicTelephone(\"Rotary Phone\"), LobsterTelephone(\"Dali’s Art Phone\")]\n",
    "\n",
    "for phone in phones:\n",
    "    print(phone.call(\"555-1234\"))"
   ]
  },
  {
   "cell_type": "markdown",
   "id": "19",
   "metadata": {},
   "source": [
    "If we try to instantiate BrokenTelephone, we get an error because it hasn't implemented the abstract method `call()`. This enforces that the subclasses must have a call method. "
   ]
  },
  {
   "cell_type": "code",
   "execution_count": null,
   "id": "20",
   "metadata": {
    "tags": [
     "skip-execution"
    ]
   },
   "outputs": [],
   "source": [
    "BrokenTelephone(\"Rotary Phone\")"
   ]
  },
  {
   "cell_type": "markdown",
   "id": "21",
   "metadata": {},
   "source": [
    "### Output:\n",
    "```shell\n",
    "📞 Dialing 555-1234 on a classic telephone.\n",
    "🦞 Calling 555-1234... but the lobster just stares at you.\n",
    "```\n"
   ]
  },
  {
   "cell_type": "markdown",
   "id": "22",
   "metadata": {},
   "source": [
    "### Why is This Useful?\n",
    "\n",
    "✅ Ensures a common interface (`call`) for all phones.\n",
    "\n",
    "✅ Allows flexibility in behavior—some phones work normally, some are surreal!\n",
    "\n",
    "✅ New telephone types can be added without modifying existing code.\n"
   ]
  },
  {
   "cell_type": "markdown",
   "id": "23",
   "metadata": {},
   "source": [
    "## 🛠 More Examples of Abstraction"
   ]
  },
  {
   "cell_type": "markdown",
   "id": "24",
   "metadata": {},
   "source": [
    "### Example 1: Using an Abstract Class for Payment Systems"
   ]
  },
  {
   "cell_type": "code",
   "execution_count": null,
   "id": "25",
   "metadata": {},
   "outputs": [],
   "source": [
    "class PaymentProcessor(ABC):\n",
    "    @abstractmethod\n",
    "    def process_payment(self, amount):\n",
    "        pass\n",
    "\n",
    "\n",
    "class CreditCardPayment(PaymentProcessor):\n",
    "    def process_payment(self, amount):\n",
    "        return f\"💳 Processing credit card payment of ${amount}.\"\n",
    "\n",
    "\n",
    "class CryptoPayment(PaymentProcessor):\n",
    "    def process_payment(self, amount):\n",
    "        return f\"🪙 Processing cryptocurrency payment of ${amount}.\"\n",
    "    \n",
    "list_of_classes = [CreditCardPayment(), CryptoPayment()]\n",
    "\n",
    "for i in list_of_classes:\n",
    "    print(i.process_payment(100))"
   ]
  },
  {
   "cell_type": "markdown",
   "id": "26",
   "metadata": {},
   "source": [
    "## 📌 Key Takeaways\n",
    "\n",
    "✅ Abstraction allows defining common interfaces while hiding implementation details.\n",
    "\n",
    "✅ Abstract classes cannot be instantiated directly—they provide blueprints for subclasses.\n",
    "\n",
    "✅ Subclasses must implement abstract methods, ensuring consistency across different implementations.\n",
    "\n",
    "✅ Like Dali’s Lobster Telephone, abstraction lets us interact with surreal or hidden functionality without understanding the full mechanics.\n",
    "\n",
    "🦞 Just as Dali reimagined the telephone, abstraction in Python allows us to redefine functionality while preserving a structured interface!\n"
   ]
  }
 ],
 "metadata": {
  "kernelspec": {
   "display_name": "engr131_dev",
   "language": "python",
   "name": "python3"
  },
  "language_info": {
   "codemirror_mode": {
    "name": "ipython",
    "version": 3
   },
   "file_extension": ".py",
   "mimetype": "text/x-python",
   "name": "python",
   "nbconvert_exporter": "python",
   "pygments_lexer": "ipython3",
   "version": "3.12.7"
  }
 },
 "nbformat": 4,
 "nbformat_minor": 5
}
