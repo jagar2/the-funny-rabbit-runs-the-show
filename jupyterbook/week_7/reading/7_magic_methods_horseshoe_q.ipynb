{
 "cells": [
  {
   "cell_type": "markdown",
   "id": "0",
   "metadata": {},
   "source": [
    "# 🦀 Magic Methods and the \"Blue Blood\" of Horseshoe Crabs\n",
    "\n",
    "![](./assets/figures/blue-blood-horseshoe.jpg)\n",
    "\n",
    "Horseshoe crabs have survived for **hundreds of millions of years**, thanks in part to their unique **blue blood**. This blood contains **hemocyanin**, which transports oxygen and has remarkable antibacterial properties, making it vital for **modern medicine**.  \n",
    "\n",
    "In Python, **magic methods** (also called **dunder methods**) give classes special abilities, just as hemocyanin grants horseshoe crabs extraordinary resilience. These methods allow objects to support **addition, string representation, comparisons**, and more.\n",
    "\n",
    "Let’s explore how **magic methods** empower Python classes, just as the blue blood of horseshoe crabs has ensured their survival through the ages!"
   ]
  },
  {
   "cell_type": "raw",
   "id": "1",
   "metadata": {
    "vscode": {
     "languageId": "raw"
    }
   },
   "source": [
    "# BEGIN MULTIPLE CHOICE\n",
    "## points: 1\n",
    "## title: Select the Best Answer\n",
    "## question number: 1"
   ]
  },
  {
   "cell_type": "markdown",
   "id": "2",
   "metadata": {},
   "source": [
    "## horseshoecrab-init-method\n",
    "### **What does the `__init__` method do in a class like `HorseshoeCrab`?**\n",
    "\n",
    "#### OPTIONS\n",
    "It prints the attributes of the horseshoe crab.\n",
    "It initializes the attributes of a new `HorseshoeCrab` instance.\n",
    "It defines the default behavior of the class.\n",
    "It is required for every class in Python.\n",
    "\n",
    "#### SOLUTION\n",
    "It initializes the attributes of a new `HorseshoeCrab` instance."
   ]
  },
  {
   "cell_type": "markdown",
   "id": "3",
   "metadata": {},
   "source": [
    "## horseshoecrab-string-method\n",
    "### **What will the following code output?**\n",
    "```python\n",
    "class HorseshoeCrab:\n",
    "    def __init__(self, species):\n",
    "        self.species = species\n",
    "    \n",
    "    def __str__(self):\n",
    "        return f\"Horseshoe Crab of species {self.species}\"\n",
    "\n",
    "h = HorseshoeCrab(\"Limulus polyphemus\")\n",
    "print(h)\n",
    "```\n",
    "\n",
    "#### OPTIONS\n",
    "`HorseshoeCrab`\n",
    "`Horseshoe Crab of species Limulus polyphemus`\n",
    "`<__main__.HorseshoeCrab object at 0x...>`\n",
    "`Error`\n",
    "\n",
    "#### SOLUTION\n",
    "`Horseshoe Crab of species Limulus polyphemus`"
   ]
  },
  {
   "cell_type": "raw",
   "id": "4",
   "metadata": {
    "vscode": {
     "languageId": "raw"
    }
   },
   "source": [
    "# END MULTIPLE CHOICE"
   ]
  },
  {
   "cell_type": "raw",
   "id": "5",
   "metadata": {
    "vscode": {
     "languageId": "raw"
    }
   },
   "source": [
    "# BEGIN SELECT MANY\n",
    "## points: 2\n",
    "## title: Select All That Apply\n",
    "## question number: 2\n",
    "## grade: parts"
   ]
  },
  {
   "cell_type": "markdown",
   "id": "6",
   "metadata": {},
   "source": [
    "## horseshoecrab-magic-methods\n",
    "### **Which of the following are valid magic methods in Python?**\n",
    "\n",
    "#### OPTIONS\n",
    "`__init__`\n",
    "`__str__`\n",
    "`__add__`\n",
    "`__hemocyanin__`\n",
    "\n",
    "#### SOLUTION\n",
    "`__init__`\n",
    "`__str__`\n",
    "`__add__`"
   ]
  },
  {
   "cell_type": "markdown",
   "id": "7",
   "metadata": {},
   "source": [
    "## horseshoecrab-comparison\n",
    "### **Which magic methods are useful for comparing two `HorseshoeCrab` objects?**\n",
    "\n",
    "#### OPTIONS\n",
    "`__eq__`\n",
    "`__lt__`\n",
    "`__compare__`\n",
    "`__gt__`\n",
    "\n",
    "#### SOLUTION\n",
    "`__eq__`\n",
    "`__lt__`\n",
    "`__gt__`"
   ]
  },
  {
   "cell_type": "raw",
   "id": "8",
   "metadata": {
    "vscode": {
     "languageId": "raw"
    }
   },
   "source": [
    "# END SELECT MANY"
   ]
  },
  {
   "cell_type": "raw",
   "id": "9",
   "metadata": {
    "vscode": {
     "languageId": "raw"
    }
   },
   "source": [
    "# BEGIN TF\n",
    "## points: 1\n",
    "## title: True or False\n",
    "## question number: 3"
   ]
  },
  {
   "cell_type": "markdown",
   "id": "10",
   "metadata": {},
   "source": [
    "## magic-method-naming\n",
    "### **All magic methods in Python start and end with double underscores (`__`).**\n",
    "\n",
    "#### SOLUTION\n",
    "True"
   ]
  },
  {
   "cell_type": "markdown",
   "id": "11",
   "metadata": {},
   "source": [
    "## string-representation\n",
    "### **If a class does not define `__str__`, calling `print()` on an instance will return a default memory address representation.**\n",
    "\n",
    "#### SOLUTION\n",
    "True"
   ]
  },
  {
   "cell_type": "markdown",
   "id": "12",
   "metadata": {},
   "source": [
    "## horseshoecrab-addition\n",
    "### **The `__add__` magic method allows us to use the `+` operator with class instances.**\n",
    "\n",
    "#### SOLUTION\n",
    "True"
   ]
  },
  {
   "cell_type": "raw",
   "id": "13",
   "metadata": {
    "vscode": {
     "languageId": "raw"
    }
   },
   "source": [
    "# END TF"
   ]
  },
  {
   "cell_type": "raw",
   "id": "14",
   "metadata": {
    "vscode": {
     "languageId": "raw"
    }
   },
   "source": [
    "# ASSIGNMENT CONFIG\n",
    "solutions_pdf: true\n",
    "generate: \n",
    "    pdf: true\n",
    "    filtering: true\n",
    "    pagebreaks: true\n",
    "    zips: false\n",
    "files: [.client_private_key.bin, .server_public_key.bin]"
   ]
  },
  {
   "cell_type": "raw",
   "id": "15",
   "metadata": {
    "vscode": {
     "languageId": "raw"
    }
   },
   "source": [
    "# BEGIN QUESTION\n",
    "name: HorseshoeCrab-Magic-Methods"
   ]
  },
  {
   "cell_type": "markdown",
   "id": "16",
   "metadata": {},
   "source": [
    "## 🦀 Free Response: Implement Magic Methods in a `HorseshoeCrab` Class\n",
    "\n",
    "Design a Python class `HorseshoeCrab` that includes:\n",
    "\n",
    "- **`__init__`**: Initializes attributes for `species` (str) and `hemocyanin_level` (int).\n",
    "- **`__str__`**: Returns a string in the format `\"Horseshoe Crab of species <species>, hemocyanin level: <hemocyanin_level>\"`.\n",
    "- **`__add__`**: Combines two crabs' hemocyanin levels when using `+`.\n",
    "- **`__eq__`**: Returns `True` if two crabs have the same `species` and `hemocyanin_level`.\n",
    "\n",
    "**Example Usage**\n",
    "```python\n",
    "h1 = HorseshoeCrab(\"Limulus polyphemus\", 100)\n",
    "h2 = HorseshoeCrab(\"Limulus polyphemus\", 150)\n",
    "print(h1)  # Output: \"Horseshoe Crab of species Limulus polyphemus, hemocyanin level: 100\"\n",
    "h3 = h1 + h2\n",
    "print(h3)  # Output: \"Horseshoe Crab of species Limulus polyphemus, hemocyanin level: 250\"\n",
    "print(h1 == h2)  # Output: False\n",
    "```"
   ]
  },
  {
   "cell_type": "raw",
   "id": "17",
   "metadata": {
    "vscode": {
     "languageId": "raw"
    }
   },
   "source": [
    "# BEGIN SOLUTION"
   ]
  },
  {
   "cell_type": "code",
   "execution_count": null,
   "id": "18",
   "metadata": {},
   "outputs": [],
   "source": [
    "# BEGIN SOLUTION\n",
    "class HorseshoeCrab:\n",
    "    def __init__(self, species, hemocyanin_level):\n",
    "        self.species = species\n",
    "        self.hemocyanin_level = hemocyanin_level\n",
    "\n",
    "    def __str__(self):\n",
    "        return f\"Horseshoe Crab of species {self.species}, hemocyanin level: {self.hemocyanin_level}\"\n",
    "\n",
    "    def __add__(self, other):\n",
    "        if isinstance(other, HorseshoeCrab) and self.species == other.species:\n",
    "            return HorseshoeCrab(self.species, self.hemocyanin_level + other.hemocyanin_level)\n",
    "        raise ValueError(\"Crabs must be of the same species to combine hemocyanin levels.\")\n",
    "\n",
    "    def __eq__(self, other):\n",
    "        return (\n",
    "            isinstance(other, HorseshoeCrab)\n",
    "            and self.species == other.species\n",
    "            and self.hemocyanin_level == other.hemocyanin_level\n",
    "        )\n",
    "# END SOLUTION\n",
    "\n",
    "# Example usage\n",
    "h1 = HorseshoeCrab(\"Limulus polyphemus\", 100)\n",
    "h2 = HorseshoeCrab(\"Limulus polyphemus\", 150)\n",
    "h3 = h1 + h2\n",
    "print(h3)  # Expected: \"Horseshoe Crab of species Limulus polyphemus, hemocyanin level: 250\"\n",
    "print(h1 == h2)  # Expected: False"
   ]
  },
  {
   "cell_type": "raw",
   "id": "19",
   "metadata": {
    "vscode": {
     "languageId": "raw"
    }
   },
   "source": [
    "# END SOLUTION"
   ]
  },
  {
   "cell_type": "raw",
   "id": "20",
   "metadata": {
    "vscode": {
     "languageId": "raw"
    }
   },
   "source": [
    "# BEGIN TESTS"
   ]
  },
  {
   "cell_type": "code",
   "execution_count": null,
   "id": "21",
   "metadata": {},
   "outputs": [],
   "source": [
    "\"\"\" # BEGIN TEST CONFIG\n",
    "points: 1\n",
    "hidden: false\n",
    "success_message: \"Success: `HorseshoeCrab` class is defined!\"\n",
    "failure_message: \"Failed: `HorseshoeCrab` class is not defined.\"\n",
    "log_variables: [\"class_exists\"]\n",
    "\"\"\"  # END TEST CONFIG\n",
    "\n",
    "# Check if `HorseshoeCrab` exists\n",
    "class_exists = \"HorseshoeCrab\" in globals()\n",
    "\n",
    "assert class_exists, \"The class `HorseshoeCrab` must be defined in the script.\""
   ]
  },
  {
   "cell_type": "code",
   "execution_count": null,
   "id": "22",
   "metadata": {},
   "outputs": [],
   "source": [
    "\"\"\" # BEGIN TEST CONFIG\n",
    "points: 2\n",
    "hidden: false\n",
    "success_message: \"Success: `HorseshoeCrab` initializes attributes correctly!\"\n",
    "failure_message: \"Failed: `HorseshoeCrab` does not initialize attributes correctly.\"\n",
    "log_variables: [\"crab_attributes\"]\n",
    "\"\"\"  # END TEST CONFIG\n",
    "\n",
    "# Create a test HorseshoeCrab object\n",
    "test_crab = HorseshoeCrab(\"Tachypleus tridentatus\", 120)\n",
    "\n",
    "# Check attribute values\n",
    "crab_attributes = {\n",
    "    \"species\": test_crab.species,\n",
    "    \"hemocyanin_level\": test_crab.hemocyanin_level,\n",
    "}\n",
    "\n",
    "expected_attributes = {\"species\": \"Tachypleus tridentatus\", \"hemocyanin_level\": 120}\n",
    "\n",
    "assert (\n",
    "    crab_attributes == expected_attributes\n",
    "), f\"Expected {expected_attributes}, but got {crab_attributes}.\""
   ]
  },
  {
   "cell_type": "code",
   "execution_count": null,
   "id": "23",
   "metadata": {},
   "outputs": [],
   "source": [
    "\"\"\" # BEGIN TEST CONFIG\n",
    "points: 2\n",
    "hidden: false\n",
    "success_message: \"Success: `__str__()` correctly represents the crab!\"\n",
    "failure_message: \"Failed: `__str__()` does not return the correct string.\"\n",
    "log_variables: [\"crab_string\"]\n",
    "\"\"\"  # END TEST CONFIG\n",
    "\n",
    "# Create test crab\n",
    "test_crab = HorseshoeCrab(\"Carcinoscorpius rotundicauda\", 85)\n",
    "\n",
    "# Validate string representation\n",
    "crab_string = str(test_crab)\n",
    "expected_string = (\n",
    "    \"Horseshoe Crab of species Carcinoscorpius rotundicauda, hemocyanin level: 85\"\n",
    ")\n",
    "\n",
    "assert (\n",
    "    crab_string == expected_string\n",
    "), f\"Expected '{expected_string}', but got '{crab_string}'.\""
   ]
  },
  {
   "cell_type": "code",
   "execution_count": null,
   "id": "24",
   "metadata": {},
   "outputs": [],
   "source": [
    "\"\"\" # BEGIN TEST CONFIG\n",
    "points: 3\n",
    "hidden: false\n",
    "success_message: \"Success: `__add__()` correctly adds hemocyanin levels!\"\n",
    "failure_message: \"Failed: `__add__()` does not add hemocyanin levels correctly.\"\n",
    "log_variables: [\"combined_hemocyanin\"]\n",
    "\"\"\"  # END TEST CONFIG\n",
    "\n",
    "# Create test crabs\n",
    "crab1 = HorseshoeCrab(\"Limulus polyphemus\", 200)\n",
    "crab2 = HorseshoeCrab(\"Limulus polyphemus\", 300)\n",
    "\n",
    "# Add the crabs\n",
    "combined_crab = crab1 + crab2\n",
    "\n",
    "# Validate hemocyanin level\n",
    "combined_hemocyanin = combined_crab.hemocyanin_level\n",
    "expected_hemocyanin = 500  # 200 + 300\n",
    "\n",
    "assert (\n",
    "    combined_hemocyanin == expected_hemocyanin\n",
    "), f\"Expected hemocyanin level {expected_hemocyanin}, but got {combined_hemocyanin}.\""
   ]
  },
  {
   "cell_type": "code",
   "execution_count": null,
   "id": "25",
   "metadata": {},
   "outputs": [],
   "source": [
    "\"\"\" # BEGIN TEST CONFIG\n",
    "points: 3\n",
    "hidden: false\n",
    "success_message: \"Success: `__add__()` correctly adds hemocyanin levels!\"\n",
    "failure_message: \"Failed: `__add__()` does not add hemocyanin levels correctly.\"\n",
    "log_variables: [\"combined_hemocyanin\"]\n",
    "\"\"\"  # END TEST CONFIG\n",
    "\n",
    "# Create test crabs\n",
    "crab1 = HorseshoeCrab(\"Limulus polyphemus\", 200)\n",
    "crab2 = HorseshoeCrab(\"Limulus polyphemus\", 300)\n",
    "\n",
    "# Add the crabs\n",
    "combined_crab = crab1 + crab2\n",
    "\n",
    "# Validate hemocyanin level\n",
    "combined_hemocyanin = combined_crab.hemocyanin_level\n",
    "expected_hemocyanin = 500  # 200 + 300\n",
    "\n",
    "assert (\n",
    "    combined_hemocyanin == expected_hemocyanin\n",
    "), f\"Expected hemocyanin level {expected_hemocyanin}, but got {combined_hemocyanin}.\""
   ]
  },
  {
   "cell_type": "code",
   "execution_count": null,
   "id": "26",
   "metadata": {},
   "outputs": [],
   "source": [
    "\"\"\" # BEGIN TEST CONFIG\n",
    "points: 3\n",
    "hidden: false\n",
    "success_message: \"Success: `__add__()` correctly raises an error for different species!\"\n",
    "failure_message: \"Failed: `__add__()` does not raise an error when species are different.\"\n",
    "log_variables: [\"exception_raised\"]\n",
    "\"\"\"  # END TEST CONFIG\n",
    "\n",
    "import pytest\n",
    "\n",
    "# Create test crabs\n",
    "crab1 = HorseshoeCrab(\"Tachypleus gigas\", 150)\n",
    "crab2 = HorseshoeCrab(\"Carcinoscorpius rotundicauda\", 100)\n",
    "\n",
    "# Check for ValueError when adding different species\n",
    "exception_raised = False\n",
    "\n",
    "try:\n",
    "    crab1 + crab2\n",
    "except ValueError:\n",
    "    exception_raised = True\n",
    "\n",
    "assert (\n",
    "    exception_raised\n",
    "), \"Expected `ValueError` when adding crabs of different species, but no error was raised.\""
   ]
  },
  {
   "cell_type": "code",
   "execution_count": null,
   "id": "27",
   "metadata": {},
   "outputs": [],
   "source": [
    "\"\"\" # BEGIN TEST CONFIG\n",
    "points: 2\n",
    "hidden: false\n",
    "success_message: \"Success: `__eq__()` correctly compares crabs!\"\n",
    "failure_message: \"Failed: `__eq__()` does not compare crabs correctly.\"\n",
    "log_variables: [\"equality_check\"]\n",
    "\"\"\"  # END TEST CONFIG\n",
    "\n",
    "# Create test crabs\n",
    "crab1 = HorseshoeCrab(\"Limulus polyphemus\", 250)\n",
    "crab2 = HorseshoeCrab(\"Limulus polyphemus\", 250)\n",
    "crab3 = HorseshoeCrab(\"Limulus polyphemus\", 300)\n",
    "\n",
    "# Check equality\n",
    "equality_check = (crab1 == crab2) and not (crab1 == crab3)\n",
    "\n",
    "assert equality_check, (\n",
    "    \"Expected crabs with the same species and hemocyanin level to be equal, \"\n",
    "    \"and those with different hemocyanin levels to be unequal.\"\n",
    ")"
   ]
  },
  {
   "cell_type": "raw",
   "id": "28",
   "metadata": {
    "vscode": {
     "languageId": "raw"
    }
   },
   "source": [
    "# END TESTS"
   ]
  },
  {
   "cell_type": "raw",
   "id": "29",
   "metadata": {
    "vscode": {
     "languageId": "raw"
    }
   },
   "source": [
    "# END QUESTION"
   ]
  }
 ],
 "metadata": {
  "kernelspec": {
   "display_name": "engr131_dev",
   "language": "python",
   "name": "python3"
  },
  "language_info": {
   "codemirror_mode": {
    "name": "ipython",
    "version": 3
   },
   "file_extension": ".py",
   "mimetype": "text/x-python",
   "name": "python",
   "nbconvert_exporter": "python",
   "pygments_lexer": "ipython3",
   "version": "3.12.7"
  }
 },
 "nbformat": 4,
 "nbformat_minor": 5
}
