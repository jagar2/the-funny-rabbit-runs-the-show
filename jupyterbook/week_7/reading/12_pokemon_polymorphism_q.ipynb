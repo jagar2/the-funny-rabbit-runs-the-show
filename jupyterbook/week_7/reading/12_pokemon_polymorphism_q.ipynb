{
 "cells": [
  {
   "cell_type": "markdown",
   "id": "0",
   "metadata": {},
   "source": [
    "# 🔥 Polymorphism in Python: Pokémon Battle System\n",
    "\n",
    "![](./assets/figures/pokemon_go.jpg)\n",
    "\n",
    "In the **Pokémon** universe, different Pokémon species share common actions like **attacking, using abilities, and evolving**, but they execute these actions in **different ways** depending on their type.  \n",
    "\n",
    "This is similar to **polymorphism** in Python, where **multiple classes can share the same method names but implement them differently**. For example, both **Charizard** and **Pikachu** can use the **attack()** method, but Charizard might use **Flamethrower**, while Pikachu uses **Thunderbolt**.  \n",
    "\n",
    "Let’s explore how **polymorphism** allows us to create flexible and reusable Pokémon battle systems in Python!"
   ]
  },
  {
   "cell_type": "raw",
   "id": "1",
   "metadata": {
    "vscode": {
     "languageId": "raw"
    }
   },
   "source": [
    "# BEGIN MULTIPLE CHOICE\n",
    "## points: 1\n",
    "## title: Select the Best Answer\n",
    "## question number: 1"
   ]
  },
  {
   "cell_type": "markdown",
   "id": "2",
   "metadata": {},
   "source": [
    "## pokemon-polymorphism\n",
    "### **Which of the following best describes polymorphism in Python?**\n",
    "\n",
    "#### OPTIONS\n",
    "A subclass always overrides a method from the parent class.\n",
    "Different classes define the same method name but with different behavior.\n",
    "Python automatically converts one class type into another.\n",
    "A class can only inherit from one parent class.\n",
    "\n",
    "#### SOLUTION\n",
    "Different classes define the same method name but with different behavior."
   ]
  },
  {
   "cell_type": "markdown",
   "id": "3",
   "metadata": {},
   "source": [
    "## polymorphism-example\n",
    "### **What will the following code output?**\n",
    "```python\n",
    "class Pokemon:\n",
    "    def attack(self):\n",
    "        return \"A Pokémon attacks!\"\n",
    "\n",
    "class Pikachu(Pokemon):\n",
    "    def attack(self):\n",
    "        return \"Pikachu uses Thunderbolt!\"\n",
    "\n",
    "class Charizard(Pokemon):\n",
    "    def attack(self):\n",
    "        return \"Charizard uses Flamethrower!\"\n",
    "\n",
    "p1 = Pikachu()\n",
    "p2 = Charizard()\n",
    "print(p1.attack(), p2.attack())\n",
    "```\n",
    "\n",
    "#### OPTIONS\n",
    "`A Pokémon attacks! A Pokémon attacks!`\n",
    "`Pikachu uses Thunderbolt! Charizard uses Flamethrower!`\n",
    "`Error: attack() must be defined in the base class`\n",
    "`None`\n",
    "\n",
    "#### SOLUTION\n",
    "`Pikachu uses Thunderbolt! Charizard uses Flamethrower!`"
   ]
  },
  {
   "cell_type": "raw",
   "id": "4",
   "metadata": {
    "vscode": {
     "languageId": "raw"
    }
   },
   "source": [
    "# END MULTIPLE CHOICE"
   ]
  },
  {
   "cell_type": "raw",
   "id": "5",
   "metadata": {
    "vscode": {
     "languageId": "raw"
    }
   },
   "source": [
    "# BEGIN SELECT MANY\n",
    "## points: 2\n",
    "## title: Select All That Apply\n",
    "## question number: 2\n",
    "## grade: parts"
   ]
  },
  {
   "cell_type": "markdown",
   "id": "6",
   "metadata": {},
   "source": [
    "## polymorphism-methods\n",
    "### **Which of the following statements about polymorphism are true?**\n",
    "\n",
    "#### OPTIONS\n",
    "Polymorphism allows different classes to share method names with different implementations.\n",
    "Polymorphism requires a common parent functions for all related classes.\n",
    "A single function can call the same method on different objects.\n",
    "Polymorphism makes it impossible to override methods.\n",
    "\n",
    "#### SOLUTION\n",
    "Polymorphism allows different classes to share method names with different implementations.\n",
    "A single function can call the same method on different objects."
   ]
  },
  {
   "cell_type": "raw",
   "id": "7",
   "metadata": {
    "vscode": {
     "languageId": "raw"
    }
   },
   "source": [
    "# END SELECT MANY"
   ]
  },
  {
   "cell_type": "raw",
   "id": "8",
   "metadata": {
    "vscode": {
     "languageId": "raw"
    }
   },
   "source": [
    "# BEGIN TF\n",
    "## points: 1\n",
    "## title: True or False\n",
    "## question number: 3"
   ]
  },
  {
   "cell_type": "markdown",
   "id": "9",
   "metadata": {},
   "source": [
    "## overriding-methods\n",
    "### **A subclass can override a method from a parent class to provide different behavior.**\n",
    "\n",
    "#### SOLUTION\n",
    "True"
   ]
  },
  {
   "cell_type": "markdown",
   "id": "10",
   "metadata": {},
   "source": [
    "## different-methods\n",
    "### **Polymorphism requires methods in different classes to have identical implementations.**\n",
    "\n",
    "#### SOLUTION\n",
    "False"
   ]
  },
  {
   "cell_type": "markdown",
   "id": "11",
   "metadata": {},
   "source": [
    "## base-class-method\n",
    "### **A method in the base class must always be defined in order for polymorphism to work.**\n",
    "\n",
    "#### SOLUTION\n",
    "False"
   ]
  },
  {
   "cell_type": "raw",
   "id": "12",
   "metadata": {
    "vscode": {
     "languageId": "raw"
    }
   },
   "source": [
    "# END TF"
   ]
  },
  {
   "cell_type": "raw",
   "id": "13",
   "metadata": {
    "vscode": {
     "languageId": "raw"
    }
   },
   "source": [
    "# ASSIGNMENT CONFIG\n",
    "solutions_pdf: true\n",
    "generate: \n",
    "    pdf: true\n",
    "    filtering: true\n",
    "    pagebreaks: true\n",
    "    zips: false\n",
    "files: [.client_private_key.bin, .server_public_key.bin]"
   ]
  },
  {
   "cell_type": "raw",
   "id": "14",
   "metadata": {
    "vscode": {
     "languageId": "raw"
    }
   },
   "source": [
    "# BEGIN QUESTION\n",
    "name: Pokemon-Polymorphism-Classes"
   ]
  },
  {
   "cell_type": "markdown",
   "id": "15",
   "metadata": {},
   "source": [
    "## ⚡ Free Response: Implement Polymorphism in a Pokémon Battle System\n",
    "\n",
    "Implement a **Pokémon battle system** using polymorphism:\n",
    "\n",
    "- Create a **base class** `Pokemon` with:\n",
    "    - A method `attack()` that returns `\"A Pokémon attacks!\"`\n",
    "- Create subclasses `Pikachu` and `Charizard` that:\n",
    "    - Override `attack()` with `\"Pikachu uses Thunderbolt!\"` and `\"Charizard uses Flamethrower!\"`\n",
    "- Create a function `battle(pokemon1, pokemon2)` that:\n",
    "    - Calls `.attack()` on both Pokémon and prints the results.\n",
    "\n",
    "### **Example Usage**\n",
    "```python\n",
    "p1 = Pikachu()\n",
    "p2 = Charizard()\n",
    "battle(p1, p2)\n",
    "```\n",
    "**Expected Output:**\n",
    "```\n",
    "Pikachu uses Thunderbolt!\n",
    "Charizard uses Flamethrower!\n",
    "```"
   ]
  },
  {
   "cell_type": "code",
   "execution_count": null,
   "id": "16",
   "metadata": {},
   "outputs": [],
   "source": [
    "# BEGIN SOLUTION\n",
    "class Pokemon:\n",
    "    def attack(self):\n",
    "        return \"A Pokémon attacks!\"\n",
    "\n",
    "\n",
    "class Pikachu(Pokemon):\n",
    "    def attack(self):\n",
    "        return \"Pikachu uses Thunderbolt!\"\n",
    "\n",
    "\n",
    "class Charizard(Pokemon):\n",
    "    def attack(self):\n",
    "        return \"Charizard uses Flamethrower!\"\n",
    "\n",
    "\n",
    "def battle(pokemon1, pokemon2):\n",
    "    print(pokemon1.attack())\n",
    "    print(pokemon2.attack())\n",
    "# END SOLUTION\n",
    "\n",
    "\n",
    "# Example usage\n",
    "p1 = Pikachu()\n",
    "p2 = Charizard()\n",
    "battle(p1, p2)"
   ]
  },
  {
   "cell_type": "raw",
   "id": "17",
   "metadata": {
    "vscode": {
     "languageId": "raw"
    }
   },
   "source": [
    "# END SOLUTION"
   ]
  },
  {
   "cell_type": "raw",
   "id": "18",
   "metadata": {
    "vscode": {
     "languageId": "raw"
    }
   },
   "source": [
    "# BEGIN TESTS"
   ]
  },
  {
   "cell_type": "code",
   "execution_count": null,
   "id": "19",
   "metadata": {},
   "outputs": [],
   "source": [
    "\"\"\" # BEGIN TEST CONFIG\n",
    "points: 2\n",
    "hidden: false\n",
    "success_message: \"Success: The base Pokemon class initializes correctly!\"\n",
    "failure_message: \"Failed: The base Pokemon class is missing attributes.\"\n",
    "\"\"\"  # END TEST CONFIG\n",
    "\n",
    "p = Pokemon()\n",
    "assert p.attack() == \"A Pokémon attacks!\", \"Incorrect base class attack method.\""
   ]
  },
  {
   "cell_type": "code",
   "execution_count": null,
   "id": "20",
   "metadata": {},
   "outputs": [],
   "source": [
    "\"\"\" # BEGIN TEST CONFIG\n",
    "points: 3\n",
    "hidden: false\n",
    "success_message: \"Success: Pikachu subclass overrides attack() correctly!\"\n",
    "failure_message: \"Failed: Pikachu's attack() does not return the expected string.\"\n",
    "\"\"\"  # END TEST CONFIG\n",
    "\n",
    "pikachu = Pikachu()\n",
    "assert (\n",
    "    pikachu.attack() == \"Pikachu uses Thunderbolt!\"\n",
    "), \"Incorrect Pikachu attack method.\""
   ]
  },
  {
   "cell_type": "code",
   "execution_count": null,
   "id": "21",
   "metadata": {},
   "outputs": [],
   "source": [
    "\"\"\" # BEGIN TEST CONFIG\n",
    "points: 3\n",
    "hidden: false\n",
    "success_message: \"Success: Charizard subclass overrides attack() correctly!\"\n",
    "failure_message: \"Failed: Charizard's attack() does not return the expected string.\"\n",
    "\"\"\"  # END TEST CONFIG\n",
    "\n",
    "charizard = Charizard()\n",
    "assert (\n",
    "    charizard.attack() == \"Charizard uses Flamethrower!\"\n",
    "), \"Incorrect Charizard attack method.\""
   ]
  },
  {
   "cell_type": "code",
   "execution_count": null,
   "id": "22",
   "metadata": {},
   "outputs": [],
   "source": [
    "\"\"\" # BEGIN TEST CONFIG\n",
    "points: 3\n",
    "hidden: false\n",
    "success_message: \"Success: The battle function correctly calls attack() on both Pokémon!\"\n",
    "failure_message: \"Failed: The battle function does not properly call attack() methods.\"\n",
    "\"\"\"  # END TEST CONFIG\n",
    "\n",
    "import io\n",
    "import sys\n",
    "\n",
    "output_capture = io.StringIO()\n",
    "sys.stdout = output_capture\n",
    "battle(Pikachu(), Charizard())\n",
    "sys.stdout = sys.__stdout__\n",
    "\n",
    "expected_output = \"Pikachu uses Thunderbolt!\\nCharizard uses Flamethrower!\"\n",
    "assert (\n",
    "    output_capture.getvalue().strip() == expected_output\n",
    "), \"battle() does not return expected results.\""
   ]
  },
  {
   "cell_type": "raw",
   "id": "23",
   "metadata": {
    "vscode": {
     "languageId": "raw"
    }
   },
   "source": [
    "# END TESTS"
   ]
  },
  {
   "cell_type": "raw",
   "id": "24",
   "metadata": {
    "vscode": {
     "languageId": "raw"
    }
   },
   "source": [
    "# END QUESTION"
   ]
  },
  {
   "cell_type": "code",
   "execution_count": null,
   "id": "25",
   "metadata": {},
   "outputs": [],
   "source": []
  }
 ],
 "metadata": {
  "kernelspec": {
   "display_name": "engr131_dev",
   "language": "python",
   "name": "python3"
  },
  "language_info": {
   "codemirror_mode": {
    "name": "ipython",
    "version": 3
   },
   "file_extension": ".py",
   "mimetype": "text/x-python",
   "name": "python",
   "nbconvert_exporter": "python",
   "pygments_lexer": "ipython3",
   "version": "3.12.7"
  }
 },
 "nbformat": 4,
 "nbformat_minor": 5
}
