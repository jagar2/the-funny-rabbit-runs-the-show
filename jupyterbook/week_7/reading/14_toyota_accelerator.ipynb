{
 "cells": [
  {
   "cell_type": "markdown",
   "id": "0",
   "metadata": {},
   "source": [
    "# 🚗 Abstraction in Python: The Single Bit Flip That Killed Toyota's Accelerator\n",
    "\n",
    "![](./assets/figures/bit_flip.png)\n",
    "\n",
    "In **2009**, a major recall of Toyota vehicles was triggered by **sudden unintended acceleration** incidents. Investigations revealed that **a single bit flip** in memory could cause **a stuck accelerator**, leading to catastrophic failures.  \n",
    "\n",
    "This was due to **software complexity**—Toyota’s acceleration control system had **millions of lines of code**, with **poor abstraction** making debugging nearly impossible.  \n",
    "\n",
    "In Python, **abstraction** helps us hide complexity by defining **base classes and abstract methods**, ensuring **only essential details are exposed**.  \n",
    "\n",
    "Let’s explore how **abstraction in Python** can help us **design safer, more manageable software systems**—just as Toyota engineers should have done."
   ]
  },
  {
   "cell_type": "raw",
   "id": "1",
   "metadata": {
    "vscode": {
     "languageId": "raw"
    }
   },
   "source": [
    "# BEGIN MULTIPLE CHOICE\n",
    "## points: 1\n",
    "## title: Select the Best Answer\n",
    "## question number: 1"
   ]
  },
  {
   "cell_type": "markdown",
   "id": "2",
   "metadata": {},
   "source": [
    "## abstraction-definition\n",
    "### **Which of the following best describes abstraction in Python?**\n",
    "\n",
    "#### OPTIONS\n",
    "A class that defines methods but does not implement them.\n",
    "A way to store data without using classes.\n",
    "A method that forces all subclasses to have different method names.\n",
    "A function that automatically fixes bit flips in software.\n",
    "\n",
    "#### SOLUTION\n",
    "A class that defines methods but does not implement them."
   ]
  },
  {
   "cell_type": "markdown",
   "id": "3",
   "metadata": {},
   "source": [
    "## abstract-methods\n",
    "### **What will happen if you try to instantiate an abstract class in Python?**\n",
    "```python\n",
    "from abc import ABC, abstractmethod\n",
    "\n",
    "class AcceleratorControl(ABC):\n",
    "    @abstractmethod\n",
    "    def apply_brakes(self):\n",
    "        pass\n",
    "\n",
    "obj = AcceleratorControl()\n",
    "```\n",
    "\n",
    "#### OPTIONS\n",
    "The program runs with no errors.\n",
    "The method `apply_brakes` is automatically defined in `obj`.\n",
    "An error occurs because abstract classes cannot be instantiated.\n",
    "`obj` will execute `apply_brakes()` with default behavior.\n",
    "\n",
    "#### SOLUTION\n",
    "An error occurs because abstract classes cannot be instantiated."
   ]
  },
  {
   "cell_type": "raw",
   "id": "4",
   "metadata": {
    "vscode": {
     "languageId": "raw"
    }
   },
   "source": [
    "# END MULTIPLE CHOICE"
   ]
  },
  {
   "cell_type": "raw",
   "id": "5",
   "metadata": {
    "vscode": {
     "languageId": "raw"
    }
   },
   "source": [
    "# BEGIN SELECT MANY\n",
    "## points: 2\n",
    "## title: Select All That Apply\n",
    "## question number: 2\n",
    "## grade: parts"
   ]
  },
  {
   "cell_type": "markdown",
   "id": "6",
   "metadata": {},
   "source": [
    "## toyota-abstraction-failure\n",
    "### **How could better abstraction have helped Toyota prevent accelerator failures?**\n",
    "\n",
    "#### OPTIONS\n",
    "Abstract base classes could have enforced proper handling of acceleration overrides.\n",
    "Abstract methods could have required implementing fail-safe mechanisms in all subclasses.\n",
    "Keeping all code in one huge function would have been more reliable.\n",
    "Reducing dependencies between software components could have made debugging easier.\n",
    "\n",
    "#### SOLUTION\n",
    "Abstract base classes could have enforced proper handling of acceleration overrides.\n",
    "Abstract methods could have required implementing fail-safe mechanisms in all subclasses.\n",
    "Reducing dependencies between software components could have made debugging easier."
   ]
  },
  {
   "cell_type": "markdown",
   "id": "7",
   "metadata": {},
   "source": [
    "## abstraction-methods\n",
    "### **Which of the following statements about abstract methods are true?**\n",
    "\n",
    "#### OPTIONS\n",
    "An abstract method **must** be implemented by subclasses.\n",
    "Abstract methods **can** have a default implementation.\n",
    "Abstract methods **cannot** take arguments.\n",
    "Abstract methods **must** be decorated with `@abstractmethod`.\n",
    "\n",
    "#### SOLUTION\n",
    "An abstract method **must** be implemented by subclasses.\n",
    "Abstract methods **must** be decorated with `@abstractmethod`."
   ]
  },
  {
   "cell_type": "raw",
   "id": "8",
   "metadata": {
    "vscode": {
     "languageId": "raw"
    }
   },
   "source": [
    "# END SELECT MANY"
   ]
  },
  {
   "cell_type": "raw",
   "id": "9",
   "metadata": {
    "vscode": {
     "languageId": "raw"
    }
   },
   "source": [
    "# BEGIN TF\n",
    "## points: 1\n",
    "## title: True or False\n",
    "## question number: 3"
   ]
  },
  {
   "cell_type": "markdown",
   "id": "10",
   "metadata": {},
   "source": [
    "## abstract-class\n",
    "### **An abstract class can contain both abstract and non-abstract methods.**\n",
    "\n",
    "#### SOLUTION\n",
    "True"
   ]
  },
  {
   "cell_type": "markdown",
   "id": "11",
   "metadata": {},
   "source": [
    "## subclassing\n",
    "### **A subclass of an abstract class must implement all abstract methods unless it is also an abstract class.**\n",
    "\n",
    "#### SOLUTION\n",
    "True"
   ]
  },
  {
   "cell_type": "raw",
   "id": "12",
   "metadata": {
    "vscode": {
     "languageId": "raw"
    }
   },
   "source": [
    "# END TF"
   ]
  },
  {
   "cell_type": "raw",
   "id": "13",
   "metadata": {
    "vscode": {
     "languageId": "raw"
    }
   },
   "source": [
    "# ASSIGNMENT CONFIG\n",
    "solutions_pdf: true\n",
    "generate: \n",
    "    pdf: true\n",
    "    filtering: true\n",
    "    pagebreaks: true\n",
    "    zips: false\n",
    "files: [.client_private_key.bin, .server_public_key.bin]"
   ]
  },
  {
   "cell_type": "raw",
   "id": "14",
   "metadata": {
    "vscode": {
     "languageId": "raw"
    }
   },
   "source": [
    "# BEGIN QUESTION\n",
    "name: Toyota-Abstraction-Class"
   ]
  },
  {
   "cell_type": "markdown",
   "id": "15",
   "metadata": {},
   "source": [
    "## ⚙️ Free Response: Implement Abstraction for a Safer Accelerator System\n",
    "\n",
    "Implement a **safe accelerator control system** using **abstraction**:\n",
    "\n",
    "- Create an **abstract class** `AcceleratorControl` with:\n",
    "    - An **abstract method** `apply_brakes()`.\n",
    "    - An **abstract method** `override_acceleration()`.\n",
    "\n",
    "Note: since we don't want to implement these methods in the base class, we use the `@abstractmethod` decorator, and `pass` as a placeholder.\n",
    "\n",
    "- Create a subclass `ToyotaAccelerator` that:\n",
    "    - Implements `apply_brakes()` by printing `\"Brakes applied!\"`.\n",
    "    - Implements `override_acceleration()` by printing `\"Acceleration override engaged!\"`.\n",
    "\n",
    "### **Example Usage**\n",
    "```python\n",
    "t = ToyotaAccelerator()\n",
    "t.apply_brakes()\n",
    "t.override_acceleration()\n",
    "```\n",
    "**Expected Output:**\n",
    "```\n",
    "Brakes applied!\n",
    "Acceleration override engaged!\n",
    "```"
   ]
  },
  {
   "cell_type": "code",
   "execution_count": null,
   "id": "16",
   "metadata": {},
   "outputs": [],
   "source": [
    "# BEGIN SOLUTION\n",
    "from abc import ABC, abstractmethod\n",
    "\n",
    "class AcceleratorControl(ABC):\n",
    "    @abstractmethod\n",
    "    def apply_brakes(self):\n",
    "        pass\n",
    "\n",
    "    @abstractmethod\n",
    "    def override_acceleration(self):\n",
    "        pass\n",
    "\n",
    "\n",
    "class ToyotaAccelerator(AcceleratorControl):\n",
    "    def apply_brakes(self):\n",
    "        print(\"Brakes applied!\")\n",
    "\n",
    "    def override_acceleration(self):\n",
    "        print(\"Acceleration override engaged!\")\n",
    "# END SOLUTION\n",
    "\n",
    "# Example usage\n",
    "t = ToyotaAccelerator()\n",
    "t.apply_brakes()\n",
    "t.override_acceleration()"
   ]
  },
  {
   "cell_type": "raw",
   "id": "17",
   "metadata": {
    "vscode": {
     "languageId": "raw"
    }
   },
   "source": [
    "# END SOLUTION"
   ]
  },
  {
   "cell_type": "raw",
   "id": "18",
   "metadata": {
    "vscode": {
     "languageId": "raw"
    }
   },
   "source": [
    "# BEGIN TESTS"
   ]
  },
  {
   "cell_type": "code",
   "execution_count": null,
   "id": "19",
   "metadata": {},
   "outputs": [],
   "source": [
    "\"\"\" # BEGIN TEST CONFIG\n",
    "points: 1\n",
    "hidden: false\n",
    "success_message: \"Success: `AcceleratorControl` and `ToyotaAccelerator` classes are defined!\"\n",
    "failure_message: \"Failed: One or both classes (`AcceleratorControl`, `ToyotaAccelerator`) are missing.\"\n",
    "log_variables: [\"class_exists\"]\n",
    "\"\"\"  # END TEST CONFIG\n",
    "\n",
    "# Check if classes exist\n",
    "class_exists = \"AcceleratorControl\" in globals() and \"ToyotaAccelerator\" in globals()\n",
    "\n",
    "assert (\n",
    "    class_exists\n",
    "), \"Both `AcceleratorControl` and `ToyotaAccelerator` classes must be defined.\""
   ]
  },
  {
   "cell_type": "code",
   "execution_count": null,
   "id": "20",
   "metadata": {},
   "outputs": [],
   "source": [
    "\"\"\" # BEGIN TEST CONFIG\n",
    "points: 2\n",
    "hidden: false\n",
    "success_message: \"Success: `AcceleratorControl` is an abstract class!\"\n",
    "failure_message: \"Failed: `AcceleratorControl` is not behaving as an abstract class.\"\n",
    "log_variables: [\"abstract_check\"]\n",
    "\"\"\"  # END TEST CONFIG\n",
    "\n",
    "import pytest\n",
    "\n",
    "# Check if `AcceleratorControl` cannot be instantiated\n",
    "abstract_check = False\n",
    "\n",
    "try:\n",
    "    a = AcceleratorControl()  # Should raise TypeError\n",
    "except TypeError:\n",
    "    abstract_check = True\n",
    "\n",
    "assert (\n",
    "    abstract_check\n",
    "), \"`AcceleratorControl` should be abstract and cannot be instantiated.\""
   ]
  },
  {
   "cell_type": "code",
   "execution_count": null,
   "id": "21",
   "metadata": {},
   "outputs": [],
   "source": [
    "\"\"\" # BEGIN TEST CONFIG\n",
    "points: 2\n",
    "hidden: false\n",
    "success_message: \"Success: `ToyotaAccelerator` correctly implements `AcceleratorControl`!\"\n",
    "failure_message: \"Failed: `ToyotaAccelerator` does not implement `AcceleratorControl` properly.\"\n",
    "log_variables: [\"is_subclass\"]\n",
    "\"\"\"  # END TEST CONFIG\n",
    "\n",
    "# Check if `ToyotaAccelerator` is a subclass of `AcceleratorControl`\n",
    "is_subclass = issubclass(ToyotaAccelerator, AcceleratorControl)\n",
    "\n",
    "assert is_subclass, \"`ToyotaAccelerator` must inherit from `AcceleratorControl`.\""
   ]
  },
  {
   "cell_type": "code",
   "execution_count": null,
   "id": "22",
   "metadata": {},
   "outputs": [],
   "source": [
    "\"\"\" # BEGIN TEST CONFIG\n",
    "points: 2\n",
    "hidden: false\n",
    "success_message: \"Success: `ToyotaAccelerator` correctly implements all abstract methods!\"\n",
    "failure_message: \"Failed: `ToyotaAccelerator` is missing one or more abstract methods.\"\n",
    "log_variables: [\"implemented_methods\"]\n",
    "\"\"\"  # END TEST CONFIG\n",
    "\n",
    "import inspect\n",
    "\n",
    "# Get implemented methods\n",
    "implemented_methods = set(dir(ToyotaAccelerator))\n",
    "\n",
    "# Required abstract methods\n",
    "required_methods = {\"apply_brakes\", \"override_acceleration\"}\n",
    "\n",
    "assert required_methods.issubset(\n",
    "    implemented_methods\n",
    "), f\"`ToyotaAccelerator` is missing required methods: {required_methods - implemented_methods}.\""
   ]
  },
  {
   "cell_type": "code",
   "execution_count": null,
   "id": "23",
   "metadata": {},
   "outputs": [],
   "source": [
    "\"\"\" # BEGIN TEST CONFIG\n",
    "points: 2\n",
    "hidden: false\n",
    "success_message: \"Success: `apply_brakes()` correctly prints!\"\n",
    "failure_message: \"Failed: `apply_brakes()` does not print the expected message.\"\n",
    "log_variables: [\"stdout_content\"]\n",
    "\"\"\"  # END TEST CONFIG\n",
    "\n",
    "import io\n",
    "from contextlib import redirect_stdout\n",
    "\n",
    "# Capture printed output\n",
    "output = io.StringIO()\n",
    "test_accel = ToyotaAccelerator()\n",
    "\n",
    "with redirect_stdout(output):\n",
    "    test_accel.apply_brakes()\n",
    "\n",
    "stdout_content = output.getvalue().strip()\n",
    "\n",
    "# Expected output\n",
    "expected_output = \"Brakes applied!\"\n",
    "\n",
    "assert (\n",
    "    stdout_content == expected_output\n",
    "), f\"Expected '{expected_output}', but got '{stdout_content}'.\""
   ]
  },
  {
   "cell_type": "code",
   "execution_count": null,
   "id": "24",
   "metadata": {},
   "outputs": [],
   "source": [
    "\"\"\" # BEGIN TEST CONFIG\n",
    "points: 2\n",
    "hidden: false\n",
    "success_message: \"Success: `override_acceleration()` correctly prints!\"\n",
    "failure_message: \"Failed: `override_acceleration()` does not print the expected message.\"\n",
    "log_variables: [\"stdout_content\"]\n",
    "\"\"\"  # END TEST CONFIG\n",
    "\n",
    "import io\n",
    "from contextlib import redirect_stdout\n",
    "\n",
    "# Capture printed output\n",
    "output = io.StringIO()\n",
    "test_accel = ToyotaAccelerator()\n",
    "\n",
    "with redirect_stdout(output):\n",
    "    test_accel.override_acceleration()\n",
    "\n",
    "stdout_content = output.getvalue().strip()\n",
    "\n",
    "# Expected output\n",
    "expected_output = \"Acceleration override engaged!\"\n",
    "\n",
    "assert (\n",
    "    stdout_content == expected_output\n",
    "), f\"Expected '{expected_output}', but got '{stdout_content}'.\""
   ]
  },
  {
   "cell_type": "raw",
   "id": "25",
   "metadata": {
    "vscode": {
     "languageId": "raw"
    }
   },
   "source": [
    "# END TESTS"
   ]
  },
  {
   "cell_type": "code",
   "execution_count": null,
   "id": "26",
   "metadata": {},
   "outputs": [],
   "source": [
    "# END QUESTION"
   ]
  }
 ],
 "metadata": {
  "kernelspec": {
   "display_name": "engr131_dev",
   "language": "python",
   "name": "python3"
  },
  "language_info": {
   "codemirror_mode": {
    "name": "ipython",
    "version": 3
   },
   "file_extension": ".py",
   "mimetype": "text/x-python",
   "name": "python",
   "nbconvert_exporter": "python",
   "pygments_lexer": "ipython3",
   "version": "3.12.7"
  }
 },
 "nbformat": 4,
 "nbformat_minor": 5
}
