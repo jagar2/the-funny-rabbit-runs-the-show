{
 "cells": [
  {
   "cell_type": "markdown",
   "id": "0",
   "metadata": {},
   "source": [
    "# 🏓 Classes and Instances in Headis\n",
    "\n",
    "<iframe width=\"560\" height=\"315\" src=\"https://www.youtube.com/embed/DjFXXhJ-cqA?si=4Y96DeKaETRPL_7t\" title=\"YouTube video player\" frameborder=\"0\" allow=\"accelerometer; autoplay; clipboard-write; encrypted-media; gyroscope; picture-in-picture; web-share\" referrerpolicy=\"strict-origin-when-cross-origin\" allowfullscreen></iframe>\n",
    "\n",
    "Headis is a fast-paced sport that blends table tennis and soccer, where players use their heads instead of paddles to hit the ball. Just like in programming, where we define **classes** to structure objects, Headis players have their own attributes and behaviors—speed, agility, and skill levels. Let’s explore how we can represent this sport using Python classes!"
   ]
  },
  {
   "cell_type": "raw",
   "id": "1",
   "metadata": {
    "vscode": {
     "languageId": "raw"
    }
   },
   "source": [
    "# BEGIN MULTIPLE CHOICE\n",
    "## points: 1\n",
    "## title: Select the Best Answer\n",
    "## question number: 1"
   ]
  },
  {
   "cell_type": "markdown",
   "id": "2",
   "metadata": {},
   "source": [
    "## headis-player-class\n",
    "### **Which of the following best describes a Python class representing a Headis player?**\n",
    "\n",
    "#### OPTIONS\n",
    "A class is a function that returns player statistics.\n",
    "A class is a data structure that stores player scores in a list.\n",
    "A class is a blueprint for creating player objects with attributes like speed and skill.\n",
    "A class is a loop that continuously tracks player movements.\n",
    "\n",
    "#### SOLUTION\n",
    "A class is a blueprint for creating player objects with attributes like speed and skill."
   ]
  },
  {
   "cell_type": "markdown",
   "id": "3",
   "metadata": {},
   "source": [
    "## player-initialization\n",
    "### **What does the `__init__` method do in a class like `HeadisPlayer`?**\n",
    "\n",
    "#### OPTIONS\n",
    "It prints the player’s attributes.\n",
    "It defines the behavior of the player.\n",
    "It initializes the attributes of a new player instance.\n",
    "It is an optional function used only in advanced Python programming.\n",
    "\n",
    "#### SOLUTION\n",
    "It initializes the attributes of a new player instance."
   ]
  },
  {
   "cell_type": "markdown",
   "id": "4",
   "metadata": {},
   "source": [
    "## method-behavior\n",
    "### **Which of the following best describes a method in a class like `HeadisPlayer`?**\n",
    "\n",
    "#### OPTIONS\n",
    "A method is a variable inside a class.\n",
    "A method defines behaviors for objects created from the class.\n",
    "A method is only used to store values.\n",
    "A method is only available in Python version 3.10+.\n",
    "\n",
    "#### SOLUTION\n",
    "A method defines behaviors for objects created from the class."
   ]
  },
  {
   "cell_type": "raw",
   "id": "5",
   "metadata": {
    "vscode": {
     "languageId": "raw"
    }
   },
   "source": [
    "# END MULTIPLE CHOICE"
   ]
  },
  {
   "cell_type": "raw",
   "id": "6",
   "metadata": {
    "vscode": {
     "languageId": "raw"
    }
   },
   "source": [
    "# BEGIN SELECT MANY\n",
    "## points: 2\n",
    "## title: Select All That Apply\n",
    "## question number: 2"
   ]
  },
  {
   "cell_type": "markdown",
   "id": "7",
   "metadata": {},
   "source": [
    "## headis-game-rules\n",
    "### **Which of the following are true about Python classes in the context of a Headis game?**\n",
    "\n",
    "#### OPTIONS\n",
    "A class can represent the Headis game itself, with players as objects.\n",
    "Each player can be an instance of the `HeadisPlayer` class.\n",
    "A class must always have a `__str__` method to work.\n",
    "A class can define methods for actions like \"hit ball\" and \"jump.\"\n",
    "\n",
    "#### SOLUTION\n",
    "A class can represent the Headis game itself, with players as objects.\n",
    "Each player can be an instance of the `HeadisPlayer` class.\n",
    "A class can define methods for actions like \"hit ball\" and \"jump.\""
   ]
  },
  {
   "cell_type": "raw",
   "id": "8",
   "metadata": {
    "vscode": {
     "languageId": "raw"
    }
   },
   "source": [
    "# END SELECT MANY"
   ]
  },
  {
   "cell_type": "raw",
   "id": "9",
   "metadata": {
    "vscode": {
     "languageId": "raw"
    }
   },
   "source": [
    "# BEGIN TF\n",
    "## points: 1\n",
    "## title: True or False\n",
    "## question number: 3"
   ]
  },
  {
   "cell_type": "markdown",
   "id": "10",
   "metadata": {},
   "source": [
    "## instance-vs-class\n",
    "### **An instance of a class is a specific object created from that class.**\n",
    "\n",
    "#### SOLUTION\n",
    "True"
   ]
  },
  {
   "cell_type": "markdown",
   "id": "11",
   "metadata": {},
   "source": [
    "## headis-function-classes\n",
    "### **Classes and functions can be used interchangeably  in  Python**\n",
    "\n",
    "#### SOLUTION\n",
    "False"
   ]
  },
  {
   "cell_type": "raw",
   "id": "12",
   "metadata": {},
   "source": [
    "# ASSIGNMENT CONFIG\n",
    "solutions_pdf: true\n",
    "generate: \n",
    "    pdf: true\n",
    "    filtering: true\n",
    "    pagebreaks: true\n",
    "    zips: false\n",
    "files: [.client_private_key.bin, .server_public_key.bin]"
   ]
  },
  {
   "cell_type": "raw",
   "id": "13",
   "metadata": {
    "vscode": {
     "languageId": "raw"
    }
   },
   "source": [
    "# BEGIN QUESTION\n",
    "name: headis-player-class-design"
   ]
  },
  {
   "cell_type": "markdown",
   "id": "14",
   "metadata": {},
   "source": [
    "## 🎾 Free Response: Design a HeadisPlayer Class\n",
    "\n",
    "Imagine you're creating a **HeadisPlayer** class in Python. Your class should include:\n",
    "\n",
    "- Attributes for the player's **name**, **speed**, and **accuracy**.\n",
    "- A method called `hit_ball()` that prints `\"Player {name} hits the ball!\"`\n",
    "- A method `improve_skill()` that increases **accuracy** by a given `amount`.\n",
    "\n",
    "**Write your class definition below.**"
   ]
  },
  {
   "cell_type": "code",
   "execution_count": null,
   "id": "15",
   "metadata": {},
   "outputs": [],
   "source": [
    "# BEGIN SOLUTION\n",
    "class HeadisPlayer:\n",
    "    def __init__(self, name, speed, accuracy):\n",
    "        self.name = name\n",
    "        self.speed = speed\n",
    "        self.accuracy = accuracy\n",
    "\n",
    "    def hit_ball(self):\n",
    "        print(f\"Player {self.name} hits the ball!\")\n",
    "\n",
    "    def improve_skill(self, amount):\n",
    "        self.accuracy += amount\n",
    "        print(f\"{self.name}'s accuracy increased to {self.accuracy}!\")\n",
    "\n",
    "# Example usage\n",
    "player1 = HeadisPlayer(\"Alex\", 8, 75)\n",
    "player1.hit_ball()\n",
    "player1.improve_skill(5)\n",
    "# END SOLUTION"
   ]
  },
  {
   "cell_type": "raw",
   "id": "16",
   "metadata": {
    "vscode": {
     "languageId": "raw"
    }
   },
   "source": [
    "# END SOLUTION"
   ]
  },
  {
   "cell_type": "raw",
   "id": "17",
   "metadata": {
    "vscode": {
     "languageId": "raw"
    }
   },
   "source": [
    "# BEGIN TESTS"
   ]
  },
  {
   "cell_type": "code",
   "execution_count": null,
   "id": "18",
   "metadata": {},
   "outputs": [],
   "source": [
    "\"\"\" # BEGIN TEST CONFIG\n",
    "points: 1\n",
    "hidden: false\n",
    "success_message: \"Success: `HeadisPlayer` class is defined!\"\n",
    "failure_message: \"Failed: `HeadisPlayer` class is not defined.\"\n",
    "log_variables: [\"class_exists\"]\n",
    "\"\"\"  # END TEST CONFIG\n",
    "\n",
    "# Check if `HeadisPlayer` exists\n",
    "class_exists = \"HeadisPlayer\" in globals()\n",
    "\n",
    "assert class_exists, \"The class `HeadisPlayer` must be defined in the script.\""
   ]
  },
  {
   "cell_type": "code",
   "execution_count": null,
   "id": "19",
   "metadata": {},
   "outputs": [],
   "source": [
    "\"\"\" # BEGIN TEST CONFIG\n",
    "points: 2\n",
    "hidden: false\n",
    "success_message: \"Success: `HeadisPlayer` initializes correctly!\"\n",
    "failure_message: \"Failed: `HeadisPlayer` does not initialize attributes correctly.\"\n",
    "log_variables: [\"player_attributes\"]\n",
    "\"\"\"  # END TEST CONFIG\n",
    "\n",
    "# Create a test player\n",
    "test_player = HeadisPlayer(\"Jordan\", 7, 80)\n",
    "\n",
    "# Check if attributes are correctly assigned\n",
    "player_attributes = {\n",
    "    \"name\": test_player.name,\n",
    "    \"speed\": test_player.speed,\n",
    "    \"accuracy\": test_player.accuracy,\n",
    "}\n",
    "\n",
    "expected_attributes = {\"name\": \"Jordan\", \"speed\": 7, \"accuracy\": 80}\n",
    "\n",
    "assert (\n",
    "    player_attributes == expected_attributes\n",
    "), f\"Expected {expected_attributes}, but got {player_attributes}.\""
   ]
  },
  {
   "cell_type": "code",
   "execution_count": null,
   "id": "20",
   "metadata": {},
   "outputs": [],
   "source": [
    "\"\"\" # BEGIN TEST CONFIG\n",
    "points: 2\n",
    "hidden: false\n",
    "success_message: \"Success: `hit_ball()` prints the correct message!\"\n",
    "failure_message: \"Failed: `hit_ball()` does not print correctly.\"\n",
    "log_variables: [\"stdout_content\"]\n",
    "\"\"\"  # END TEST CONFIG\n",
    "\n",
    "import io\n",
    "from contextlib import redirect_stdout\n",
    "\n",
    "# Capture printed output\n",
    "output = io.StringIO()\n",
    "test_player = HeadisPlayer(\"Serena\", 9, 85)\n",
    "\n",
    "with redirect_stdout(output):\n",
    "    test_player.hit_ball()\n",
    "\n",
    "stdout_content = output.getvalue().strip()\n",
    "\n",
    "# Expected output\n",
    "expected_output = \"Player Serena hits the ball!\"\n",
    "\n",
    "assert (\n",
    "    stdout_content == expected_output\n",
    "), f\"Expected '{expected_output}', but got '{stdout_content}'.\""
   ]
  },
  {
   "cell_type": "code",
   "execution_count": null,
   "id": "21",
   "metadata": {},
   "outputs": [],
   "source": [
    "\"\"\" # BEGIN TEST CONFIG\n",
    "points: 2\n",
    "hidden: false\n",
    "success_message: \"Success: `hit_ball()` prints the correct message!\"\n",
    "failure_message: \"Failed: `hit_ball()` does not print correctly.\"\n",
    "log_variables: [\"stdout_content\"]\n",
    "\"\"\"  # END TEST CONFIG\n",
    "\n",
    "import io\n",
    "from contextlib import redirect_stdout\n",
    "\n",
    "# Capture printed output\n",
    "output = io.StringIO()\n",
    "test_player = HeadisPlayer(\"Serena\", 9, 85)\n",
    "\n",
    "with redirect_stdout(output):\n",
    "    test_player.hit_ball()\n",
    "\n",
    "stdout_content = output.getvalue().strip()\n",
    "\n",
    "# Expected output\n",
    "expected_output = \"Player Serena hits the ball!\"\n",
    "\n",
    "assert (\n",
    "    stdout_content == expected_output\n",
    "), f\"Expected '{expected_output}', but got '{stdout_content}'.\""
   ]
  },
  {
   "cell_type": "code",
   "execution_count": null,
   "id": "22",
   "metadata": {},
   "outputs": [],
   "source": [
    "\"\"\" # BEGIN TEST CONFIG\n",
    "points: 3\n",
    "hidden: false\n",
    "success_message: \"Success: `improve_skill()` correctly increases accuracy!\"\n",
    "failure_message: \"Failed: `improve_skill()` does not update accuracy correctly.\"\n",
    "log_variables: [\"updated_accuracy\"]\n",
    "\"\"\"  # END TEST CONFIG\n",
    "\n",
    "import io\n",
    "from contextlib import redirect_stdout\n",
    "\n",
    "# Create test player\n",
    "test_player = HeadisPlayer(\"Nadal\", 6, 70)\n",
    "\n",
    "# Capture printed output\n",
    "output = io.StringIO()\n",
    "with redirect_stdout(output):\n",
    "    test_player.improve_skill(10)\n",
    "\n",
    "stdout_content = output.getvalue().strip()\n",
    "\n",
    "# Expected new accuracy\n",
    "updated_accuracy = test_player.accuracy\n",
    "expected_accuracy = 80  # 70 + 10\n",
    "expected_output = \"Nadal's accuracy increased to 80!\"\n",
    "\n",
    "# Validate accuracy change\n",
    "assert (\n",
    "    updated_accuracy == expected_accuracy\n",
    "), f\"Expected accuracy {expected_accuracy}, but got {updated_accuracy}.\"\n",
    "\n",
    "# Validate printed output\n",
    "assert (\n",
    "    stdout_content == expected_output\n",
    "), f\"Expected '{expected_output}', but got '{stdout_content}'.\""
   ]
  },
  {
   "cell_type": "code",
   "execution_count": null,
   "id": "23",
   "metadata": {},
   "outputs": [],
   "source": [
    "\"\"\" # BEGIN TEST CONFIG\n",
    "points: 2\n",
    "hidden: false\n",
    "success_message: \"Success: `improve_skill()` correctly handles negative values!\"\n",
    "failure_message: \"Failed: `improve_skill()` does not handle negative values correctly.\"\n",
    "log_variables: [\"updated_accuracy\"]\n",
    "\"\"\"  # END TEST CONFIG\n",
    "\n",
    "# Create test player\n",
    "test_player = HeadisPlayer(\"Federer\", 8, 90)\n",
    "\n",
    "# Reduce accuracy\n",
    "test_player.improve_skill(-20)\n",
    "\n",
    "# Validate accuracy\n",
    "updated_accuracy = test_player.accuracy\n",
    "expected_accuracy = 70  # 90 - 20\n",
    "\n",
    "assert (\n",
    "    updated_accuracy == expected_accuracy\n",
    "), f\"Expected accuracy {expected_accuracy}, but got {updated_accuracy}.\""
   ]
  },
  {
   "cell_type": "raw",
   "id": "24",
   "metadata": {
    "vscode": {
     "languageId": "raw"
    }
   },
   "source": [
    "# END TESTS"
   ]
  },
  {
   "cell_type": "raw",
   "id": "25",
   "metadata": {
    "vscode": {
     "languageId": "raw"
    }
   },
   "source": [
    "# END QUESTION"
   ]
  }
 ],
 "metadata": {
  "kernelspec": {
   "display_name": "engr131_dev",
   "language": "python",
   "name": "python3"
  },
  "language_info": {
   "codemirror_mode": {
    "name": "ipython",
    "version": 3
   },
   "file_extension": ".py",
   "mimetype": "text/x-python",
   "name": "python",
   "nbconvert_exporter": "python",
   "pygments_lexer": "ipython3",
   "version": "3.12.7"
  }
 },
 "nbformat": 4,
 "nbformat_minor": 5
}
