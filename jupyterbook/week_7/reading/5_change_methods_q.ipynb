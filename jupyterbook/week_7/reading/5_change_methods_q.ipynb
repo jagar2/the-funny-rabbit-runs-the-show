{
 "cells": [
  {
   "cell_type": "markdown",
   "id": "0",
   "metadata": {},
   "source": [
    "# ✍️ Implementing Change Methods in Classes: The Evolution of Helvetica\n",
    "\n",
    "<iframe width=\"560\" height=\"315\" src=\"https://www.youtube.com/embed/Ayg_K_CR2tc?si=peNGIzO6iducMzPX\" title=\"YouTube video player\" frameborder=\"0\" allow=\"accelerometer; autoplay; clipboard-write; encrypted-media; gyroscope; picture-in-picture; web-share\" referrerpolicy=\"strict-origin-when-cross-origin\" allowfullscreen></iframe>\n",
    "\n",
    "\n",
    "Helvetica, one of the most iconic typefaces, has undergone several refinements since its creation in **1957** by Swiss type designer **Max Miedinger**. Originally named **Neue Haas Grotesk**, it was later adapted and rebranded as **Helvetica** to appeal to international audiences.  \n",
    "\n",
    "Just as Helvetica was updated and refined over time, we often need to **modify objects in Python classes** by implementing **change methods** that update attributes dynamically. Let’s explore how Python **change methods** can help model **the evolution of Helvetica** in an object-oriented way!"
   ]
  },
  {
   "cell_type": "raw",
   "id": "1",
   "metadata": {
    "vscode": {
     "languageId": "raw"
    }
   },
   "source": [
    "# BEGIN MULTIPLE CHOICE\n",
    "## points: 1\n",
    "## title: Select the Best Answer\n",
    "## question number: 1"
   ]
  },
  {
   "cell_type": "markdown",
   "id": "2",
   "metadata": {},
   "source": [
    "## helvetica-name-change\n",
    "### **Which method is best suited for changing the name of a typeface stored in a class instance?**\n",
    "\n",
    "#### OPTIONS\n",
    "A new `__init__` method\n",
    "A method like `update_name(self, new_name)`\n",
    "The `__str__` method\n",
    "`change_name(self)`, but without parameters\n",
    "\n",
    "#### SOLUTION\n",
    "A method like `update_name(self, new_name)`"
   ]
  },
  {
   "cell_type": "markdown",
   "id": "3",
   "metadata": {},
   "source": [
    "## font-weight-update\n",
    "### **What will the following code output?**\n",
    "```python\n",
    "class Font:\n",
    "    def __init__(self, name, weight):\n",
    "        self.name = name\n",
    "        self.weight = weight\n",
    "    \n",
    "    def update_weight(self, new_weight):\n",
    "        self.weight = new_weight\n",
    "\n",
    "f = Font(\"Helvetica\", \"Regular\")\n",
    "f.update_weight(\"Bold\")\n",
    "print(f.weight)\n",
    "```\n",
    "\n",
    "#### OPTIONS\n",
    "`Regular`\n",
    "`Bold`\n",
    "`Helvetica Bold`\n",
    "`Error`\n",
    "\n",
    "#### SOLUTION\n",
    "`Bold`"
   ]
  },
  {
   "cell_type": "raw",
   "id": "4",
   "metadata": {
    "vscode": {
     "languageId": "raw"
    }
   },
   "source": [
    "# END MULTIPLE CHOICE"
   ]
  },
  {
   "cell_type": "raw",
   "id": "5",
   "metadata": {
    "vscode": {
     "languageId": "raw"
    }
   },
   "source": [
    "# BEGIN SELECT MANY\n",
    "## points: 2\n",
    "## title: Select All That Apply\n",
    "## question number: 2\n",
    "## grade: parts"
   ]
  },
  {
   "cell_type": "markdown",
   "id": "6",
   "metadata": {},
   "source": [
    "## font-change-methods\n",
    "### **Which of the following are best practices for writing a change method in Python?**\n",
    "\n",
    "#### OPTIONS\n",
    "Using `self.attribute = new_value` inside the method.\n",
    "Using setter decorators.\n",
    "Writing a method that prints the new value.\n",
    "Naming the method something clear, like `set_weight(new_weight)`.\n",
    "\n",
    "#### SOLUTION\n",
    "Using `self.attribute = new_value` inside the method.\n",
    "Using setter decorators.\n",
    "Naming the method something clear, like `set_weight(new_weight)`."
   ]
  },
  {
   "cell_type": "markdown",
   "id": "7",
   "metadata": {},
   "source": [
    "## font-style-adjustments\n",
    "### **Which of the following change methods would be appropriate for a `Font` class?**\n",
    "\n",
    "#### OPTIONS\n",
    "`def change_font(self, new_name)`\n",
    "`def adjust_size(self, new_size)`\n",
    "`def __init__(self, name, size)`\n",
    "`def update_style(self, new_style)`\n",
    "\n",
    "#### SOLUTION\n",
    "`def change_font(self, new_name)`\n",
    "`def adjust_size(self, new_size)`\n",
    "`def update_style(self, new_style)`"
   ]
  },
  {
   "cell_type": "raw",
   "id": "8",
   "metadata": {
    "vscode": {
     "languageId": "raw"
    }
   },
   "source": [
    "# END SELECT MANY"
   ]
  },
  {
   "cell_type": "raw",
   "id": "9",
   "metadata": {
    "vscode": {
     "languageId": "raw"
    }
   },
   "source": [
    "# BEGIN TF\n",
    "## points: 1\n",
    "## title: True or False\n",
    "## question number: 3"
   ]
  },
  {
   "cell_type": "markdown",
   "id": "10",
   "metadata": {},
   "source": [
    "## modifying-instance-attributes\n",
    "### **A change method should modify an instance’s attributes directly using `self`.**\n",
    "\n",
    "#### SOLUTION\n",
    "True"
   ]
  },
  {
   "cell_type": "markdown",
   "id": "11",
   "metadata": {},
   "source": [
    "## change-statements-property\n",
    "### **@property allows you to change the value of a instance attributes**\n",
    "\n",
    "#### SOLUTION\n",
    "False"
   ]
  },
  {
   "cell_type": "markdown",
   "id": "12",
   "metadata": {},
   "source": [
    "## instance-vs-class-attributes\n",
    "### **Change methods should always modify class attributes instead of instance attributes.**\n",
    "\n",
    "#### SOLUTION\n",
    "False"
   ]
  },
  {
   "cell_type": "raw",
   "id": "13",
   "metadata": {
    "vscode": {
     "languageId": "raw"
    }
   },
   "source": [
    "# END TF"
   ]
  },
  {
   "cell_type": "raw",
   "id": "14",
   "metadata": {
    "vscode": {
     "languageId": "raw"
    }
   },
   "source": [
    "# ASSIGNMENT CONFIG\n",
    "solutions_pdf: true\n",
    "generate: \n",
    "    pdf: true\n",
    "    filtering: true\n",
    "    pagebreaks: true\n",
    "    zips: false\n",
    "files: [.client_private_key.bin, .server_public_key.bin]"
   ]
  },
  {
   "cell_type": "raw",
   "id": "15",
   "metadata": {
    "vscode": {
     "languageId": "raw"
    }
   },
   "source": [
    "# BEGIN QUESTION\n",
    "name: Helvetica-Class-Methods"
   ]
  },
  {
   "cell_type": "markdown",
   "id": "16",
   "metadata": {},
   "source": [
    "## 🖋️ Free Response: Implement Change Methods for a `Font` Class\n",
    "\n",
    "Design a Python class **`Font`** that models the **evolution of Helvetica**. Your class should:\n",
    "\n",
    "- Have attributes for **name**, **size**, and **weight** (e.g., `\"Helvetica\"`, `12`, `\"Regular\"`).\n",
    "- Include the following **change methods**:\n",
    "    - `update_name(self, new_name)`: Changes the font name.\n",
    "    - `set_size(self, new_size)`: Updates the font size.\n",
    "    - `change_weight(self, new_weight)`: Adjusts the font weight.\n",
    "    - **(Bonus)** Return `self` in each method to allow **method chaining**.\n",
    "\n",
    "### **Example Usage**\n",
    "```python\n",
    "f = Font(\"Helvetica\", 12, \"Regular\")\n",
    "f.update_name(\"Helvetica Neue\").set_size(14).change_weight(\"Bold\")\n",
    "print(f.name, f.size, f.weight)  # Output: Helvetica Neue 14 Bold\n",
    "```"
   ]
  },
  {
   "cell_type": "raw",
   "id": "17",
   "metadata": {
    "vscode": {
     "languageId": "raw"
    }
   },
   "source": [
    "# BEGIN SOLUTION"
   ]
  },
  {
   "cell_type": "code",
   "execution_count": null,
   "id": "18",
   "metadata": {},
   "outputs": [],
   "source": [
    "# BEGIN SOLUTION\n",
    "class Font:\n",
    "    def __init__(self, name, size, weight):\n",
    "        self.name = name\n",
    "        self.size = size\n",
    "        self.weight = weight\n",
    "\n",
    "    def update_name(self, new_name):\n",
    "        self.name = new_name\n",
    "        return self  # Enables method chaining\n",
    "\n",
    "    def set_size(self, new_size):\n",
    "        self.size = new_size\n",
    "        return self  # Enables method chaining\n",
    "\n",
    "    def change_weight(self, new_weight):\n",
    "        self.weight = new_weight\n",
    "        return self  # Enables method chaining\n",
    "# END SOLUTION\n",
    "\n",
    "# Example usage\n",
    "f = Font(\"Helvetica\", 12, \"Regular\")\n",
    "f.update_name(\"Helvetica Neue\").set_size(14).change_weight(\"Bold\")\n",
    "print(f.name, f.size, f.weight)  # Expected: Helvetica Neue 14 Bold"
   ]
  },
  {
   "cell_type": "raw",
   "id": "19",
   "metadata": {
    "vscode": {
     "languageId": "raw"
    }
   },
   "source": [
    "# END SOLUTION"
   ]
  },
  {
   "cell_type": "raw",
   "id": "20",
   "metadata": {
    "vscode": {
     "languageId": "raw"
    }
   },
   "source": [
    "# BEGIN TESTS"
   ]
  },
  {
   "cell_type": "code",
   "execution_count": null,
   "id": "21",
   "metadata": {},
   "outputs": [],
   "source": [
    "\"\"\" # BEGIN TEST CONFIG\n",
    "points: 1\n",
    "hidden: false\n",
    "success_message: \"Success: `Font` class is defined!\"\n",
    "failure_message: \"Failed: `Font` class is not defined.\"\n",
    "log_variables: [\"class_exists\"]\n",
    "\"\"\"  # END TEST CONFIG\n",
    "\n",
    "# Check if `Font` class exists\n",
    "class_exists = \"Font\" in globals()\n",
    "\n",
    "assert class_exists, \"The class `Font` must be defined in the script.\""
   ]
  },
  {
   "cell_type": "code",
   "execution_count": null,
   "id": "22",
   "metadata": {},
   "outputs": [],
   "source": [
    "\"\"\" # BEGIN TEST CONFIG\n",
    "points: 2\n",
    "hidden: false\n",
    "success_message: \"Success: `Font` initializes attributes correctly!\"\n",
    "failure_message: \"Failed: `Font` does not initialize attributes correctly.\"\n",
    "log_variables: [\"font_attributes\"]\n",
    "\"\"\"  # END TEST CONFIG\n",
    "\n",
    "# Create a test font object\n",
    "test_font = Font(\"Arial\", 16, \"Medium\")\n",
    "\n",
    "# Check attribute values\n",
    "font_attributes = {\n",
    "    \"name\": test_font.name,\n",
    "    \"size\": test_font.size,\n",
    "    \"weight\": test_font.weight,\n",
    "}\n",
    "\n",
    "expected_attributes = {\"name\": \"Arial\", \"size\": 16, \"weight\": \"Medium\"}\n",
    "\n",
    "assert (\n",
    "    font_attributes == expected_attributes\n",
    "), f\"Expected {expected_attributes}, but got {font_attributes}.\""
   ]
  },
  {
   "cell_type": "code",
   "execution_count": null,
   "id": "23",
   "metadata": {},
   "outputs": [],
   "source": [
    "\"\"\" # BEGIN TEST CONFIG\n",
    "points: 2\n",
    "hidden: false\n",
    "success_message: \"Success: `update_name()` correctly updates the font name!\"\n",
    "failure_message: \"Failed: `update_name()` does not update the font name correctly.\"\n",
    "log_variables: [\"updated_name\"]\n",
    "\"\"\"  # END TEST CONFIG\n",
    "\n",
    "# Create test font\n",
    "test_font = Font(\"Times\", 14, \"Bold\")\n",
    "\n",
    "# Update name\n",
    "test_font.update_name(\"Times New Roman\")\n",
    "\n",
    "# Validate name change\n",
    "updated_name = test_font.name\n",
    "expected_name = \"Times New Roman\"\n",
    "\n",
    "assert (\n",
    "    updated_name == expected_name\n",
    "), f\"Expected name to be {expected_name}, but got {updated_name}.\""
   ]
  },
  {
   "cell_type": "code",
   "execution_count": null,
   "id": "24",
   "metadata": {},
   "outputs": [],
   "source": [
    "\"\"\" # BEGIN TEST CONFIG\n",
    "points: 2\n",
    "hidden: false\n",
    "success_message: \"Success: `update_name()` correctly updates the font name!\"\n",
    "failure_message: \"Failed: `update_name()` does not update the font name correctly.\"\n",
    "log_variables: [\"updated_name\"]\n",
    "\"\"\"  # END TEST CONFIG\n",
    "\n",
    "# Create test font\n",
    "test_font = Font(\"Times\", 14, \"Bold\")\n",
    "\n",
    "# Update name\n",
    "test_font.update_name(\"Times New Roman\")\n",
    "\n",
    "# Validate name change\n",
    "updated_name = test_font.name\n",
    "expected_name = \"Times New Roman\"\n",
    "\n",
    "assert (\n",
    "    updated_name == expected_name\n",
    "), f\"Expected name to be {expected_name}, but got {updated_name}.\""
   ]
  },
  {
   "cell_type": "code",
   "execution_count": null,
   "id": "25",
   "metadata": {},
   "outputs": [],
   "source": [
    "\"\"\" # BEGIN TEST CONFIG\n",
    "points: 2\n",
    "hidden: false\n",
    "success_message: \"Success: `set_size()` correctly updates the font size!\"\n",
    "failure_message: \"Failed: `set_size()` does not update the font size correctly.\"\n",
    "log_variables: [\"updated_size\"]\n",
    "\"\"\"  # END TEST CONFIG\n",
    "\n",
    "# Create test font\n",
    "test_font = Font(\"Verdana\", 10, \"Light\")\n",
    "\n",
    "# Update size\n",
    "test_font.set_size(18)\n",
    "\n",
    "# Validate size change\n",
    "updated_size = test_font.size\n",
    "expected_size = 18\n",
    "\n",
    "assert (\n",
    "    updated_size == expected_size\n",
    "), f\"Expected size to be {expected_size}, but got {updated_size}.\""
   ]
  },
  {
   "cell_type": "code",
   "execution_count": null,
   "id": "26",
   "metadata": {},
   "outputs": [],
   "source": [
    "\"\"\" # BEGIN TEST CONFIG\n",
    "points: 2\n",
    "hidden: false\n",
    "success_message: \"Success: `change_weight()` correctly updates the font weight!\"\n",
    "failure_message: \"Failed: `change_weight()` does not update the font weight correctly.\"\n",
    "log_variables: [\"updated_weight\"]\n",
    "\"\"\"  # END TEST CONFIG\n",
    "\n",
    "# Create test font\n",
    "test_font = Font(\"Courier\", 12, \"Thin\")\n",
    "\n",
    "# Update weight\n",
    "test_font.change_weight(\"Black\")\n",
    "\n",
    "# Validate weight change\n",
    "updated_weight = test_font.weight\n",
    "expected_weight = \"Black\"\n",
    "\n",
    "assert (\n",
    "    updated_weight == expected_weight\n",
    "), f\"Expected weight to be {expected_weight}, but got {updated_weight}.\""
   ]
  },
  {
   "cell_type": "code",
   "execution_count": null,
   "id": "27",
   "metadata": {},
   "outputs": [],
   "source": [
    "\"\"\" # BEGIN TEST CONFIG\n",
    "points: 3\n",
    "hidden: false\n",
    "success_message: \"Success: Method chaining works correctly!\"\n",
    "failure_message: \"Failed: Methods do not return `self` for chaining.\"\n",
    "log_variables: [\"chaining_success\"]\n",
    "\"\"\"  # END TEST CONFIG\n",
    "\n",
    "# Create test font and chain methods\n",
    "test_font = Font(\"Tahoma\", 14, \"Normal\")\n",
    "chaining_result = (\n",
    "    test_font.update_name(\"Tahoma Pro\").set_size(20).change_weight(\"Extra Bold\")\n",
    ")\n",
    "\n",
    "# Validate that methods return `self`\n",
    "chaining_success = isinstance(chaining_result, Font)\n",
    "\n",
    "assert chaining_success, \"Methods must return `self` to support method chaining.\""
   ]
  },
  {
   "cell_type": "code",
   "execution_count": null,
   "id": "28",
   "metadata": {},
   "outputs": [],
   "source": [
    "\"\"\" # BEGIN TEST CONFIG\n",
    "points: 3\n",
    "hidden: false\n",
    "success_message: \"Success: BONUS Multiple updates correctly modify the `Font` instance!\"\n",
    "failure_message: \"Failed: BONUS Sequential updates do not modify the `Font` instance as expected.\"\n",
    "log_variables: [\"final_values\"]\n",
    "\"\"\"  # END TEST CONFIG\n",
    "\n",
    "# Create test font\n",
    "test_font = Font(\"Comic Sans\", 12, \"Regular\")\n",
    "\n",
    "# Perform multiple updates\n",
    "test_font.update_name(\"Comic Sans Pro\").set_size(16).change_weight(\"SemiBold\")\n",
    "\n",
    "# Validate final values\n",
    "final_values = {\n",
    "    \"name\": test_font.name,\n",
    "    \"size\": test_font.size,\n",
    "    \"weight\": test_font.weight,\n",
    "}\n",
    "\n",
    "expected_values = {\"name\": \"Comic Sans Pro\", \"size\": 16, \"weight\": \"SemiBold\"}\n",
    "\n",
    "assert (\n",
    "    final_values == expected_values\n",
    "), f\"Expected {expected_values}, but got {final_values}.\""
   ]
  },
  {
   "cell_type": "raw",
   "id": "29",
   "metadata": {
    "vscode": {
     "languageId": "raw"
    }
   },
   "source": [
    "# END TESTS"
   ]
  },
  {
   "cell_type": "raw",
   "id": "30",
   "metadata": {
    "vscode": {
     "languageId": "raw"
    }
   },
   "source": [
    "# END QUESTION"
   ]
  }
 ],
 "metadata": {
  "kernelspec": {
   "display_name": "engr131_dev",
   "language": "python",
   "name": "python3"
  },
  "language_info": {
   "codemirror_mode": {
    "name": "ipython",
    "version": 3
   },
   "file_extension": ".py",
   "mimetype": "text/x-python",
   "name": "python",
   "nbconvert_exporter": "python",
   "pygments_lexer": "ipython3",
   "version": "3.12.7"
  }
 },
 "nbformat": 4,
 "nbformat_minor": 5
}
