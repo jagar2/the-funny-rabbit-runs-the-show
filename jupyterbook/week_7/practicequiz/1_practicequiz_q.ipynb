{
 "cells": [
  {
   "cell_type": "markdown",
   "id": "0",
   "metadata": {},
   "source": [
    "# ❓ Python Quiz: Object-Oriented Programming in Manufacturing\n"
   ]
  },
  {
   "cell_type": "raw",
   "id": "1",
   "metadata": {
    "vscode": {
     "languageId": "raw"
    }
   },
   "source": [
    "# BEGIN MULTIPLE CHOICE\n",
    "## points: 1\n",
    "## title: Select the Best Answer\n",
    "## question number: 1"
   ]
  },
  {
   "cell_type": "markdown",
   "id": "2",
   "metadata": {},
   "source": [
    "## machine-instance\n",
    "### **How do you correctly create an instance of a class named `Machine`?**\n",
    "\n",
    "#### OPTIONS\n",
    "`machine1 = Machine()`  \n",
    "`machine1 = new Machine`  \n",
    "`machine1 = Machine.create()`  \n",
    "`class machine1 = Machine`  \n",
    "\n",
    "#### SOLUTION\n",
    "`machine1 = Machine()`"
   ]
  },
  {
   "cell_type": "markdown",
   "id": "3",
   "metadata": {},
   "source": [
    "## factory-production-count\n",
    "### **What will the following code output?**\n",
    "```python\n",
    "class Factory:\n",
    "    production_count = 100\n",
    "\n",
    "factory1 = Factory()\n",
    "factory2 = Factory()\n",
    "factory1.production_count = 150\n",
    "print(factory2.production_count)\n",
    "```\n",
    "\n",
    "#### OPTIONS\n",
    "100  \n",
    "150  \n",
    "Error  \n",
    "None  \n",
    "\n",
    "#### SOLUTION\n",
    "100"
   ]
  },
  {
   "cell_type": "markdown",
   "id": "4",
   "metadata": {},
   "source": [
    "## inventory-method\n",
    "### **Which method in a class is automatically called when a new instance is created?**\n",
    "\n",
    "#### OPTIONS\n",
    "`__init__`  \n",
    "`__new__`  \n",
    "`create_instance`  \n",
    "`initialize`  \n",
    "\n",
    "#### SOLUTION\n",
    "`__init__`"
   ]
  },
  {
   "cell_type": "markdown",
   "id": "5",
   "metadata": {},
   "source": [
    "## machine-status\n",
    "### **What will be the output of the following code?**\n",
    "```python\n",
    "class Machine:\n",
    "    def __init__(self):\n",
    "        self.status = \"idle\"\n",
    "\n",
    "m1 = Machine()\n",
    "m1.status = \"running\"\n",
    "print(m1.status)\n",
    "```\n",
    "\n",
    "#### OPTIONS\n",
    "idle  \n",
    "running  \n",
    "Error  \n",
    "None  \n",
    "\n",
    "#### SOLUTION\n",
    "running"
   ]
  },
  {
   "cell_type": "raw",
   "id": "6",
   "metadata": {
    "vscode": {
     "languageId": "raw"
    }
   },
   "source": [
    "# END MULTIPLE CHOICE"
   ]
  },
  {
   "cell_type": "raw",
   "id": "7",
   "metadata": {
    "vscode": {
     "languageId": "raw"
    }
   },
   "source": [
    "# BEGIN SELECT MANY\n",
    "## points: 2\n",
    "## title: Select All That Apply\n",
    "## question number: 2\n",
    "## grade: parts"
   ]
  },
  {
   "cell_type": "markdown",
   "id": "8",
   "metadata": {},
   "source": [
    "## class-attributes\n",
    "### **Which of the following are true about class attributes in Python?**\n",
    "\n",
    "#### OPTIONS\n",
    "Class attributes are shared across all instances.  \n",
    "Class attributes can be modified at the instance level.  \n",
    "Class attributes must always be integers.  \n",
    "A class attribute can be accessed using both the class name and an instance.  \n",
    "\n",
    "#### SOLUTION\n",
    "Class attributes are shared across all instances.  \n",
    "Class attributes can be modified at the instance level.  \n",
    "A class attribute can be accessed using both the class name and an instance."
   ]
  },
  {
   "cell_type": "markdown",
   "id": "9",
   "metadata": {},
   "source": [
    "## object-oriented-benefits\n",
    "### **What are benefits of using object-oriented programming (OOP) in a manufacturing system?**\n",
    "\n",
    "#### OPTIONS\n",
    "Code reusability through inheritance.  \n",
    "More structured and modular code.  \n",
    "Slower performance due to extra complexity.  \n",
    "Easier to model real-world systems like machines and inventory.  \n",
    "\n",
    "#### SOLUTION\n",
    "Code reusability through inheritance.  \n",
    "More structured and modular code.  \n",
    "Easier to model real-world systems like machines and inventory."
   ]
  },
  {
   "cell_type": "markdown",
   "id": "10",
   "metadata": {},
   "source": [
    "## class-methods\n",
    "### **Which of the following statements about instance methods are true?**\n",
    "\n",
    "#### OPTIONS\n",
    "Instance methods can access both instance attributes and class attributes.  \n",
    "An instance method must always have `self` as its first parameter.  \n",
    "Instance methods can only modify class attributes.  \n",
    "An instance method can call other methods of the same class.  \n",
    "\n",
    "#### SOLUTION\n",
    "Instance methods can access both instance attributes and class attributes.  \n",
    "An instance method must always have `self` as its first parameter.  \n",
    "An instance method can call other methods of the same class."
   ]
  },
  {
   "cell_type": "markdown",
   "id": "11",
   "metadata": {},
   "source": [
    "## factory-maintenance\n",
    "### **Which of the following are good practices for designing a `Machine` class in a factory system?**\n",
    "\n",
    "#### OPTIONS\n",
    "Define an `__init__` method to initialize machine attributes.  \n",
    "Use class attributes to store unique machine IDs.  \n",
    "Implement methods like `start_machine()` and `stop_machine()`.  \n",
    "Store all machine attributes in global variables instead of the class.  \n",
    "\n",
    "#### SOLUTION\n",
    "Define an `__init__` method to initialize machine attributes.  \n",
    "Implement methods like `start_machine()` and `stop_machine()`."
   ]
  },
  {
   "cell_type": "raw",
   "id": "12",
   "metadata": {
    "vscode": {
     "languageId": "raw"
    }
   },
   "source": [
    "# END SELECT MANY"
   ]
  },
  {
   "cell_type": "raw",
   "id": "13",
   "metadata": {
    "vscode": {
     "languageId": "raw"
    }
   },
   "source": [
    "# BEGIN TF\n",
    "## points: 1\n",
    "## title: True or False\n",
    "## question number: 3"
   ]
  },
  {
   "cell_type": "markdown",
   "id": "14",
   "metadata": {},
   "source": [
    "## instance-vs-class\n",
    "### **Instance variables belong to the class and are shared among all instances.**\n",
    "\n",
    "#### SOLUTION\n",
    "False"
   ]
  },
  {
   "cell_type": "markdown",
   "id": "15",
   "metadata": {},
   "source": [
    "## class-inheritance\n",
    "### **A subclass automatically inherits all methods and attributes from its parent class.**\n",
    "\n",
    "#### SOLUTION\n",
    "True"
   ]
  },
  {
   "cell_type": "markdown",
   "id": "16",
   "metadata": {},
   "source": [
    "## self-keyword\n",
    "### **The `self` keyword refers to the instance of the class within a method.**\n",
    "\n",
    "#### SOLUTION\n",
    "True"
   ]
  },
  {
   "cell_type": "markdown",
   "id": "17",
   "metadata": {},
   "source": [
    "## encapsulation\n",
    "### **Encapsulation is the practice of restricting direct access to certain attributes and methods of a class.**\n",
    "\n",
    "#### SOLUTION\n",
    "True"
   ]
  },
  {
   "cell_type": "raw",
   "id": "18",
   "metadata": {
    "vscode": {
     "languageId": "raw"
    }
   },
   "source": [
    "# END TF"
   ]
  },
  {
   "cell_type": "raw",
   "id": "19",
   "metadata": {
    "vscode": {
     "languageId": "raw"
    }
   },
   "source": [
    "# BEGIN QUESTION\n",
    "name: Free-Response-Modify-an-Inventory-Class"
   ]
  },
  {
   "cell_type": "markdown",
   "id": "20",
   "metadata": {},
   "source": [
    "## Modify an Inventory Class\n",
    "\n",
    "Given the `Inventory` class below, modify it to:\n",
    "- Add an `add_stock(quantity)` method that increases the `stock` attribute.\n",
    "- Add a `remove_stock(quantity)` method that decreases `stock` but ensures it doesn’t go below zero.\n",
    "- Implement a `__str__()` method that returns `\"Product: <name>, Stock: <stock>\"`.\n",
    "\n",
    "### Example:\n",
    "```python\n",
    "item = Inventory(\"Gears\", 50)\n",
    "item.add_stock(20)\n",
    "print(item)  # Output: Product: Gears, Stock: 70\n",
    "item.remove_stock(80)\n",
    "print(item)  # Output: Product: Gears, Stock: 0\n",
    "```"
   ]
  },
  {
   "cell_type": "raw",
   "id": "21",
   "metadata": {
    "vscode": {
     "languageId": "raw"
    }
   },
   "source": [
    "# BEGIN SOLUTION"
   ]
  },
  {
   "cell_type": "code",
   "execution_count": null,
   "id": "22",
   "metadata": {},
   "outputs": [],
   "source": [
    "class Inventory:\n",
    "    def __init__(self, name, stock=0):\n",
    "        self.name = name\n",
    "        self.stock = stock\n",
    "\n",
    "    def add_stock(self, quantity):\n",
    "        self.stock += quantity\n",
    "\n",
    "    def remove_stock(self, quantity):\n",
    "        self.stock = max(0, self.stock - quantity)\n",
    "\n",
    "    def __str__(self):\n",
    "        return f\"Product: {self.name}, Stock: {self.stock}\"\n",
    "\n",
    "# Example usage\n",
    "item = Inventory(\"Gears\", 50)\n",
    "item.add_stock(20)\n",
    "print(item)\n",
    "item.remove_stock(80)\n",
    "print(item)"
   ]
  },
  {
   "cell_type": "raw",
   "id": "23",
   "metadata": {
    "vscode": {
     "languageId": "raw"
    }
   },
   "source": [
    "# END SOLUTION"
   ]
  },
  {
   "cell_type": "raw",
   "id": "24",
   "metadata": {
    "vscode": {
     "languageId": "raw"
    }
   },
   "source": [
    "# BEGIN TESTS "
   ]
  },
  {
   "cell_type": "code",
   "execution_count": null,
   "id": "25",
   "metadata": {},
   "outputs": [],
   "source": [
    "\"\"\" # BEGIN TEST CONFIG\n",
    "points: 2\n",
    "hidden: false\n",
    "success_message: \"Success: Inventory object initializes correctly!\"\n",
    "failure_message: \"Failed: Inventory object does not initialize correctly.\"\n",
    "log_variables: [\"inventory_initialization\"]\n",
    "\"\"\"  # END TEST CONFIG\n",
    "\n",
    "item = Inventory(\"Gears\", 50)\n",
    "\n",
    "inventory_initialization = item.name == \"Gears\" and item.stock == 50\n",
    "\n",
    "assert (\n",
    "    inventory_initialization\n",
    "), f\"Expected Inventory('Gears', 50), but got name={item.name}, stock={item.stock}.\""
   ]
  },
  {
   "cell_type": "code",
   "execution_count": null,
   "id": "26",
   "metadata": {},
   "outputs": [],
   "source": [
    "\"\"\" # BEGIN TEST CONFIG\n",
    "points: 2\n",
    "hidden: false\n",
    "success_message: \"Success: Default stock value is correctly set to 0!\"\n",
    "failure_message: \"Failed: Default stock value is incorrect.\"\n",
    "log_variables: [\"default_stock_check\"]\n",
    "\"\"\"  # END TEST CONFIG\n",
    "\n",
    "item = Inventory(\"Bolts\")\n",
    "\n",
    "default_stock_check = item.stock == 0\n",
    "\n",
    "assert default_stock_check, f\"Expected default stock to be 0, but got {item.stock}.\""
   ]
  },
  {
   "cell_type": "code",
   "execution_count": null,
   "id": "27",
   "metadata": {},
   "outputs": [],
   "source": [
    "\"\"\" # BEGIN TEST CONFIG\n",
    "points: 2\n",
    "hidden: false\n",
    "success_message: \"Success: `add_stock()` correctly increases stock!\"\n",
    "failure_message: \"Failed: `add_stock()` does not increase stock correctly.\"\n",
    "log_variables: [\"stock_after_addition\"]\n",
    "\"\"\"  # END TEST CONFIG\n",
    "\n",
    "item = Inventory(\"Nuts\", 10)\n",
    "item.add_stock(20)\n",
    "\n",
    "stock_after_addition = item.stock\n",
    "\n",
    "assert (\n",
    "    stock_after_addition == 30\n",
    "), f\"Expected stock to be 30 after addition, but got {item.stock}.\""
   ]
  },
  {
   "cell_type": "code",
   "execution_count": null,
   "id": "28",
   "metadata": {},
   "outputs": [],
   "source": [
    "\"\"\" # BEGIN TEST CONFIG\n",
    "points: 2\n",
    "hidden: false\n",
    "success_message: \"Success: `remove_stock()` correctly decreases stock!\"\n",
    "failure_message: \"Failed: `remove_stock()` does not decrease stock correctly.\"\n",
    "log_variables: [\"stock_after_removal\"]\n",
    "\"\"\"  # END TEST CONFIG\n",
    "\n",
    "item = Inventory(\"Bolts\", 50)\n",
    "item.remove_stock(30)\n",
    "\n",
    "stock_after_removal = item.stock\n",
    "\n",
    "assert (\n",
    "    stock_after_removal == 20\n",
    "), f\"Expected stock to be 20 after removal, but got {item.stock}.\""
   ]
  },
  {
   "cell_type": "code",
   "execution_count": null,
   "id": "29",
   "metadata": {},
   "outputs": [],
   "source": [
    "\"\"\" # BEGIN TEST CONFIG\n",
    "points: 2\n",
    "hidden: false\n",
    "success_message: \"Success: Stock does not drop below 0!\"\n",
    "failure_message: \"Failed: Stock goes below 0.\"\n",
    "log_variables: [\"stock_after_excessive_removal\"]\n",
    "\"\"\"  # END TEST CONFIG\n",
    "\n",
    "item = Inventory(\"Washers\", 40)\n",
    "item.remove_stock(100)  # Attempt to remove more than available\n",
    "\n",
    "stock_after_excessive_removal = item.stock\n",
    "\n",
    "assert (\n",
    "    stock_after_excessive_removal == 0\n",
    "), f\"Expected stock to be 0 (not negative), but got {item.stock}.\""
   ]
  },
  {
   "cell_type": "code",
   "execution_count": null,
   "id": "30",
   "metadata": {},
   "outputs": [],
   "source": [
    "\"\"\" # BEGIN TEST CONFIG\n",
    "points: 2\n",
    "hidden: false\n",
    "success_message: \"Success: `__str__()` returns the correct format!\"\n",
    "failure_message: \"Failed: `__str__()` does not return the expected format.\"\n",
    "log_variables: [\"string_representation\"]\n",
    "\"\"\"  # END TEST CONFIG\n",
    "\n",
    "item = Inventory(\"Bearings\", 15)\n",
    "\n",
    "string_representation = str(item)\n",
    "\n",
    "expected_string = \"Product: Bearings, Stock: 15\"\n",
    "\n",
    "assert (\n",
    "    string_representation == expected_string\n",
    "), f\"Expected '{expected_string}', but got '{string_representation}'.\""
   ]
  },
  {
   "cell_type": "raw",
   "id": "31",
   "metadata": {
    "vscode": {
     "languageId": "raw"
    }
   },
   "source": [
    "# END TESTS"
   ]
  },
  {
   "cell_type": "raw",
   "id": "32",
   "metadata": {
    "vscode": {
     "languageId": "raw"
    }
   },
   "source": [
    "# END QUESTION"
   ]
  }
 ],
 "metadata": {
  "kernelspec": {
   "display_name": "engr131_dev",
   "language": "python",
   "name": "python3"
  },
  "language_info": {
   "codemirror_mode": {
    "name": "ipython",
    "version": 3
   },
   "file_extension": ".py",
   "mimetype": "text/x-python",
   "name": "python",
   "nbconvert_exporter": "python",
   "pygments_lexer": "ipython3",
   "version": "3.12.7"
  }
 },
 "nbformat": 4,
 "nbformat_minor": 5
}
