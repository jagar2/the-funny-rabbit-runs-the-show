{
 "cells": [
  {
   "cell_type": "markdown",
   "id": "0",
   "metadata": {
    "deletable": false,
    "editable": false
   },
   "source": [
    "# ❓A Manufacturing System using Object-Oriented Programming\n",
    "\n",
    "![](./assets/figures/subway-assembly.gif)\n",
    "\n",
    "\n"
   ]
  },
  {
   "cell_type": "code",
   "execution_count": null,
   "id": "1",
   "metadata": {
    "tags": [
     "skip-execution"
    ]
   },
   "outputs": [],
   "source": [
    "# You must make sure to run all cells in sequence using shift + enter or you might encounter errors\n",
    "from pykubegrader.initialize import initialize_assignment\n",
    "\n",
    "responses = initialize_assignment(\"1_practicequiz_q\", \"week_7\", \"practicequiz\", assignment_points = 16.0, assignment_tag = 'week7-practicequiz')\n",
    "\n",
    "# Run this block of code by pressing Shift + Enter to display the question\n",
    "from questions._1_practicequiz_q import Question1\n",
    "Question1().show()\n"
   ]
  },
  {
   "cell_type": "code",
   "execution_count": null,
   "id": "2",
   "metadata": {
    "tags": [
     "skip-execution"
    ]
   },
   "outputs": [],
   "source": [
    "# Run this block of code by pressing Shift + Enter to display the question\n",
    "from questions._1_practicequiz_q import Question2\n",
    "Question2().show()\n"
   ]
  },
  {
   "cell_type": "code",
   "execution_count": null,
   "id": "3",
   "metadata": {
    "tags": [
     "skip-execution"
    ]
   },
   "outputs": [],
   "source": [
    "# Run this block of code by pressing Shift + Enter to display the question\n",
    "from questions._1_practicequiz_q import Question3\n",
    "Question3().show()\n"
   ]
  },
  {
   "cell_type": "raw",
   "id": "4",
   "metadata": {
    "vscode": {
     "languageId": "raw"
    }
   },
   "source": [
    "# BEGIN QUESTION\n",
    "name: Free-Response-Modify-an-Inventory-Class"
   ]
  },
  {
   "cell_type": "markdown",
   "id": "5",
   "metadata": {
    "deletable": false,
    "editable": false
   },
   "source": [
    "## Modify an Inventory Class\n",
    "\n",
    "Given the `Inventory` class below, modify it to:\n",
    "- Add an `__init__()` method that initializes the `name` and `stock` attributes. The `stock` attribute should default to 0.\n",
    "- Add an `add_stock(quantity)` method that increases the `stock` attribute.\n",
    "- Add a `remove_stock(quantity)` method that decreases `stock` but ensures it doesn’t go below zero.\n",
    "- Implement a `__str__()` method that returns `\"Product: <name>, Stock: <stock>\"`.\n",
    "\n",
    "### Example:\n",
    "```python\n",
    "item = Inventory(\"Gears\", 50)\n",
    "item.add_stock(20)\n",
    "print(item)  # Output: Product: Gears, Stock: 70\n",
    "item.remove_stock(80)\n",
    "print(item)  # Output: Product: Gears, Stock: 0\n",
    "```"
   ]
  },
  {
   "cell_type": "raw",
   "id": "6",
   "metadata": {
    "vscode": {
     "languageId": "raw"
    }
   },
   "source": [
    "# BEGIN SOLUTION"
   ]
  },
  {
   "cell_type": "code",
   "execution_count": null,
   "id": "7",
   "metadata": {
    "tags": [
     "skip-execution"
    ]
   },
   "outputs": [],
   "source": [
    "# BEGIN SOLUTION\n",
    "class Inventory:\n",
    "    def __init__(self, name, stock=0):\n",
    "        self.name = name\n",
    "        self.stock = stock\n",
    "\n",
    "    def add_stock(self, quantity):\n",
    "        self.stock += quantity\n",
    "\n",
    "    def remove_stock(self, quantity):\n",
    "        self.stock = max(0, self.stock - quantity)\n",
    "\n",
    "    def __str__(self):\n",
    "        return f\"Product: {self.name}, Stock: {self.stock}\"\n",
    "# END SOLUTION\n",
    "\n",
    "# Example usage\n",
    "item = Inventory(\"Gears\", 50)\n",
    "item.add_stock(20)\n",
    "print(item)\n",
    "item.remove_stock(80)\n",
    "print(item)"
   ]
  },
  {
   "cell_type": "raw",
   "id": "8",
   "metadata": {
    "vscode": {
     "languageId": "raw"
    }
   },
   "source": [
    "# END SOLUTION"
   ]
  },
  {
   "cell_type": "raw",
   "id": "9",
   "metadata": {
    "vscode": {
     "languageId": "raw"
    }
   },
   "source": [
    "# BEGIN TESTS "
   ]
  },
  {
   "cell_type": "code",
   "execution_count": null,
   "id": "10",
   "metadata": {
    "tags": [
     "skip-execution"
    ]
   },
   "outputs": [],
   "source": [
    "\"\"\" # BEGIN TEST CONFIG\n",
    "points: 2\n",
    "hidden: false\n",
    "success_message: \"Success: Inventory object initializes correctly!\"\n",
    "failure_message: \"Failed: Inventory object does not initialize correctly.\"\n",
    "log_variables: [\"inventory_initialization\"]\n",
    "\"\"\"  # END TEST CONFIG\n",
    "\n",
    "item = Inventory(\"Gears\", 50)\n",
    "\n",
    "inventory_initialization = item.name == \"Gears\" and item.stock == 50\n",
    "\n",
    "assert (\n",
    "    inventory_initialization\n",
    "), f\"Expected Inventory('Gears', 50), but got name={item.name}, stock={item.stock}.\""
   ]
  },
  {
   "cell_type": "code",
   "execution_count": null,
   "id": "11",
   "metadata": {
    "tags": [
     "skip-execution"
    ]
   },
   "outputs": [],
   "source": [
    "\"\"\" # BEGIN TEST CONFIG\n",
    "points: 2\n",
    "hidden: false\n",
    "success_message: \"Success: Default stock value is correctly set to 0!\"\n",
    "failure_message: \"Failed: Default stock value is incorrect.\"\n",
    "log_variables: [\"default_stock_check\"]\n",
    "\"\"\"  # END TEST CONFIG\n",
    "\n",
    "item = Inventory(\"Bolts\")\n",
    "\n",
    "default_stock_check = item.stock == 0\n",
    "\n",
    "assert default_stock_check, f\"Expected default stock to be 0, but got {item.stock}.\""
   ]
  },
  {
   "cell_type": "code",
   "execution_count": null,
   "id": "12",
   "metadata": {
    "tags": [
     "skip-execution"
    ]
   },
   "outputs": [],
   "source": [
    "\"\"\" # BEGIN TEST CONFIG\n",
    "points: 2\n",
    "hidden: false\n",
    "success_message: \"Success: `add_stock()` correctly increases stock!\"\n",
    "failure_message: \"Failed: `add_stock()` does not increase stock correctly.\"\n",
    "log_variables: [\"stock_after_addition\"]\n",
    "\"\"\"  # END TEST CONFIG\n",
    "\n",
    "item = Inventory(\"Nuts\", 10)\n",
    "item.add_stock(20)\n",
    "\n",
    "stock_after_addition = item.stock\n",
    "\n",
    "assert (\n",
    "    stock_after_addition == 30\n",
    "), f\"Expected stock to be 30 after addition, but got {item.stock}.\""
   ]
  },
  {
   "cell_type": "code",
   "execution_count": null,
   "id": "13",
   "metadata": {
    "tags": [
     "skip-execution"
    ]
   },
   "outputs": [],
   "source": [
    "\"\"\" # BEGIN TEST CONFIG\n",
    "points: 2\n",
    "hidden: false\n",
    "success_message: \"Success: `remove_stock()` correctly decreases stock!\"\n",
    "failure_message: \"Failed: `remove_stock()` does not decrease stock correctly.\"\n",
    "log_variables: [\"stock_after_removal\"]\n",
    "\"\"\"  # END TEST CONFIG\n",
    "\n",
    "item = Inventory(\"Bolts\", 50)\n",
    "item.remove_stock(30)\n",
    "\n",
    "stock_after_removal = item.stock\n",
    "\n",
    "assert (\n",
    "    stock_after_removal == 20\n",
    "), f\"Expected stock to be 20 after removal, but got {item.stock}.\""
   ]
  },
  {
   "cell_type": "code",
   "execution_count": null,
   "id": "14",
   "metadata": {
    "tags": [
     "skip-execution"
    ]
   },
   "outputs": [],
   "source": [
    "\"\"\" # BEGIN TEST CONFIG\n",
    "points: 2\n",
    "hidden: false\n",
    "success_message: \"Success: Stock does not drop below 0!\"\n",
    "failure_message: \"Failed: Stock goes below 0.\"\n",
    "log_variables: [\"stock_after_excessive_removal\"]\n",
    "\"\"\"  # END TEST CONFIG\n",
    "\n",
    "item = Inventory(\"Washers\", 40)\n",
    "item.remove_stock(100)  # Attempt to remove more than available\n",
    "\n",
    "stock_after_excessive_removal = item.stock\n",
    "\n",
    "assert (\n",
    "    stock_after_excessive_removal == 0\n",
    "), f\"Expected stock to be 0 (not negative), but got {item.stock}.\""
   ]
  },
  {
   "cell_type": "code",
   "execution_count": null,
   "id": "15",
   "metadata": {
    "tags": [
     "skip-execution"
    ]
   },
   "outputs": [],
   "source": [
    "\"\"\" # BEGIN TEST CONFIG\n",
    "points: 2\n",
    "hidden: false\n",
    "success_message: \"Success: `__str__()` returns the correct format!\"\n",
    "failure_message: \"Failed: `__str__()` does not return the expected format.\"\n",
    "log_variables: [\"string_representation\"]\n",
    "\"\"\"  # END TEST CONFIG\n",
    "\n",
    "item = Inventory(\"Bearings\", 15)\n",
    "\n",
    "string_representation = str(item)\n",
    "\n",
    "expected_string = \"Product: Bearings, Stock: 15\"\n",
    "\n",
    "assert (\n",
    "    string_representation == expected_string\n",
    "), f\"Expected '{expected_string}', but got '{string_representation}'.\""
   ]
  },
  {
   "cell_type": "raw",
   "id": "16",
   "metadata": {
    "vscode": {
     "languageId": "raw"
    }
   },
   "source": [
    "# END TESTS"
   ]
  },
  {
   "cell_type": "raw",
   "id": "17",
   "metadata": {
    "vscode": {
     "languageId": "raw"
    }
   },
   "source": [
    "# END QUESTION"
   ]
  },
  {
   "cell_type": "markdown",
   "id": "18",
   "metadata": {},
   "source": [
    "## Submitting Assignment\n",
    "\n",
    "Please run the following block of code using `shift + enter` to submit your assignment, you should see your score."
   ]
  },
  {
   "cell_type": "code",
   "execution_count": null,
   "id": "19",
   "metadata": {
    "deletable": false,
    "editable": true,
    "tags": [
     "skip-execution"
    ]
   },
   "outputs": [],
   "source": [
    "from pykubegrader.submit.submit_assignment import submit_assignment\n",
    "\n",
    "submit_assignment(\"week7-practicequiz\", \"1_practicequiz_q\")"
   ]
  }
 ],
 "metadata": {
  "kernelspec": {
   "display_name": "Python 3",
   "language": "python",
   "name": "python3"
  },
  "language_info": {
   "codemirror_mode": {
    "name": "ipython",
    "version": 3
   },
   "file_extension": ".py",
   "mimetype": "text/x-python",
   "name": "python",
   "nbconvert_exporter": "python",
   "pygments_lexer": "ipython3",
   "version": "3.12.7"
  }
 },
 "nbformat": 4,
 "nbformat_minor": 5
}
