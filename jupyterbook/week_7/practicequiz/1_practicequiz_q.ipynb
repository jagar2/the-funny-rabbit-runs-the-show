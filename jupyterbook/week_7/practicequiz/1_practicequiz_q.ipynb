{
 "cells": [
  {
   "cell_type": "code",
   "execution_count": null,
   "id": "0",
   "metadata": {
    "deletable": false,
    "editable": false,
    "tags": [
     "skip-execution"
    ]
   },
   "outputs": [],
   "source": [
    "# You must make sure to run all cells in sequence using shift + enter or you might encounter errors\n",
    "from pykubegrader.initialize import initialize_assignment\n",
    "\n",
    "responses = initialize_assignment(\"1_practicequiz_q\", \"week_7\", \"practicequiz\", assignment_points = 28.0, assignment_tag = 'week7-practicequiz')\n",
    "\n",
    "# Initialize Otter\n",
    "import otter\n",
    "grader = otter.Notebook(\"1_practicequiz_q.ipynb\")"
   ]
  },
  {
   "cell_type": "markdown",
   "id": "1",
   "metadata": {
    "deletable": false,
    "editable": false
   },
   "source": [
    "# ❓A Manufacturing System using Object-Oriented Programming\n",
    "\n",
    "![](./assets/figures/subway-assembly.gif)\n",
    "\n",
    "\n"
   ]
  },
  {
   "cell_type": "code",
   "execution_count": null,
   "id": "2",
   "metadata": {
    "tags": [
     "skip-execution"
    ]
   },
   "outputs": [],
   "source": [
    "# Run this block of code by pressing Shift + Enter to display the question\n",
    "from questions._1_practicequiz_q import Question1\n",
    "Question1().show()\n"
   ]
  },
  {
   "cell_type": "code",
   "execution_count": null,
   "id": "3",
   "metadata": {
    "tags": [
     "skip-execution"
    ]
   },
   "outputs": [],
   "source": [
    "# Run this block of code by pressing Shift + Enter to display the question\n",
    "from questions._1_practicequiz_q import Question2\n",
    "Question2().show()\n"
   ]
  },
  {
   "cell_type": "code",
   "execution_count": null,
   "id": "4",
   "metadata": {
    "tags": [
     "skip-execution"
    ]
   },
   "outputs": [],
   "source": [
    "# Run this block of code by pressing Shift + Enter to display the question\n",
    "from questions._1_practicequiz_q import Question3\n",
    "Question3().show()\n"
   ]
  },
  {
   "cell_type": "markdown",
   "id": "5",
   "metadata": {
    "deletable": false,
    "editable": false
   },
   "source": [
    "## Question 1 (Points: 12.0): Modify an Inventory Class\n",
    "\n",
    "Given the `Inventory` class below, modify it to:\n",
    "- Add an `__init__()` method that initializes the `name` and `stock` attributes. The `stock` attribute should default to 0.\n",
    "- Add an `add_stock(quantity)` method that increases the `stock` attribute.\n",
    "- Add a `remove_stock(quantity)` method that decreases `stock` but ensures it doesn’t go below zero.\n",
    "- Implement a `__str__()` method that returns `\"Product: <name>, Stock: <stock>\"`.\n",
    "\n",
    "### Example:\n",
    "```python\n",
    "item = Inventory(\"Gears\", 50)\n",
    "item.add_stock(20)\n",
    "print(item)  # Output: Product: Gears, Stock: 70\n",
    "item.remove_stock(80)\n",
    "print(item)  # Output: Product: Gears, Stock: 0\n",
    "```"
   ]
  },
  {
   "cell_type": "code",
   "execution_count": null,
   "id": "6",
   "metadata": {
    "tags": [
     "skip-execution"
    ]
   },
   "outputs": [],
   "source": [
    "...\n",
    "\n",
    "# Example usage\n",
    "item = Inventory(\"Gears\", 50)\n",
    "item.add_stock(20)\n",
    "print(item)\n",
    "item.remove_stock(80)\n",
    "print(item)"
   ]
  },
  {
   "cell_type": "code",
   "execution_count": null,
   "id": "7",
   "metadata": {
    "deletable": false,
    "editable": false,
    "tags": [
     "skip-execution"
    ]
   },
   "outputs": [],
   "source": [
    "grader.check(\"Free-Response-Modify-an-Inventory-Class\")"
   ]
  },
  {
   "cell_type": "markdown",
   "id": "8",
   "metadata": {},
   "source": [
    "## Submitting Assignment\n",
    "\n",
    "Please run the following block of code using `shift + enter` to submit your assignment, you should see your score."
   ]
  },
  {
   "cell_type": "code",
   "execution_count": null,
   "id": "9",
   "metadata": {
    "deletable": false,
    "editable": true,
    "tags": [
     "skip-execution"
    ]
   },
   "outputs": [],
   "source": [
    "from pykubegrader.submit.submit_assignment import submit_assignment\n",
    "\n",
    "submit_assignment(\"week7-practicequiz\", \"1_practicequiz_q\")"
   ]
  }
 ],
 "metadata": {
  "kernelspec": {
   "display_name": "Python 3",
   "language": "python",
   "name": "python3"
  },
  "language_info": {
   "codemirror_mode": {
    "name": "ipython",
    "version": 3
   },
   "file_extension": ".py",
   "mimetype": "text/x-python",
   "name": "python",
   "nbconvert_exporter": "python",
   "pygments_lexer": "ipython3",
   "version": "3.12.7"
  },
  "otter": {
   "OK_FORMAT": true,
   "tests": {
    "Free-Response-Modify-an-Inventory-Class": {
     "name": "Free-Response-Modify-an-Inventory-Class",
     "points": null,
     "suites": [
      {
       "cases": [
        {
         "code": ">>> from pykubegrader.telemetry import ensure_responses, log_variable, score_question, submit_question, telemetry, update_responses\n>>> import os\n>>> import base64\n>>> max_question_points = str(12.0)\n>>> earned_points = 0\n>>> os.environ['EARNED_POINTS'] = str(earned_points)\n>>> os.environ['TOTAL_POINTS_FREE_RESPONSE'] = str(12.0)\n>>> log_variable('total-points', f'week7-practicequiz, 1_practicequiz_q', 12.0)\n>>> question_id = 'Free-Response-Modify-an-Inventory-Class-1'\n>>> max_score = 2.0\n>>> score = 0\n>>> item = Inventory('Gears', 50)\n>>> inventory_initialization = item.name == 'Gears' and item.stock == 50\n>>> assert inventory_initialization, f\"Expected Inventory('Gears', 50), but got name={item.name}, stock={item.stock}.\"\n>>> if inventory_initialization:\n...     score = 2.0\n>>> earned_points = float(os.environ.get('EARNED_POINTS', 0))\n>>> earned_points += score\n>>> log_variable('1_practicequiz_q', f'{score}, {max_score}', question_id)\n>>> os.environ['EARNED_POINTS'] = str(earned_points)\n>>> responses = update_responses(question_id, str(inventory_initialization))\n",
         "failure_message": "Failed: Inventory object does not initialize correctly.",
         "hidden": false,
         "locked": false,
         "points": 2,
         "success_message": "Success: Inventory object initializes correctly!"
        },
        {
         "code": ">>> from pykubegrader.telemetry import ensure_responses, log_variable, score_question, submit_question, telemetry, update_responses\n>>> import os\n>>> import base64\n>>> question_id = 'Free-Response-Modify-an-Inventory-Class-2'\n>>> max_score = 2.0\n>>> score = 0\n>>> item = Inventory('Bolts')\n>>> default_stock_check = item.stock == 0\n>>> assert default_stock_check, f'Expected default stock to be 0, but got {item.stock}.'\n>>> if default_stock_check:\n...     score = 2.0\n>>> earned_points = float(os.environ.get('EARNED_POINTS', 0))\n>>> earned_points += score\n>>> log_variable('1_practicequiz_q', f'{score}, {max_score}', question_id)\n>>> os.environ['EARNED_POINTS'] = str(earned_points)\n>>> responses = update_responses(question_id, str(default_stock_check))\n",
         "failure_message": "Failed: Default stock value is incorrect.",
         "hidden": false,
         "locked": false,
         "points": 2,
         "success_message": "Success: Default stock value is correctly set to 0!"
        },
        {
         "code": ">>> from pykubegrader.telemetry import ensure_responses, log_variable, score_question, submit_question, telemetry, update_responses\n>>> import os\n>>> import base64\n>>> question_id = 'Free-Response-Modify-an-Inventory-Class-3'\n>>> max_score = 2.0\n>>> score = 0\n>>> item = Inventory('Nuts', 10)\n>>> item.add_stock(20)\n>>> stock_after_addition = item.stock\n>>> assert stock_after_addition == 30, f'Expected stock to be 30 after addition, but got {item.stock}.'\n>>> if stock_after_addition == 30:\n...     score = 2.0\n>>> earned_points = float(os.environ.get('EARNED_POINTS', 0))\n>>> earned_points += score\n>>> log_variable('1_practicequiz_q', f'{score}, {max_score}', question_id)\n>>> os.environ['EARNED_POINTS'] = str(earned_points)\n>>> responses = update_responses(question_id, str(stock_after_addition))\n",
         "failure_message": "Failed: `add_stock()` does not increase stock correctly.",
         "hidden": false,
         "locked": false,
         "points": 2,
         "success_message": "Success: `add_stock()` correctly increases stock!"
        },
        {
         "code": ">>> from pykubegrader.telemetry import ensure_responses, log_variable, score_question, submit_question, telemetry, update_responses\n>>> import os\n>>> import base64\n>>> question_id = 'Free-Response-Modify-an-Inventory-Class-4'\n>>> max_score = 2.0\n>>> score = 0\n>>> item = Inventory('Bolts', 50)\n>>> item.remove_stock(30)\n>>> stock_after_removal = item.stock\n>>> assert stock_after_removal == 20, f'Expected stock to be 20 after removal, but got {item.stock}.'\n>>> if stock_after_removal == 20:\n...     score = 2.0\n>>> earned_points = float(os.environ.get('EARNED_POINTS', 0))\n>>> earned_points += score\n>>> log_variable('1_practicequiz_q', f'{score}, {max_score}', question_id)\n>>> os.environ['EARNED_POINTS'] = str(earned_points)\n>>> responses = update_responses(question_id, str(stock_after_removal))\n",
         "failure_message": "Failed: `remove_stock()` does not decrease stock correctly.",
         "hidden": false,
         "locked": false,
         "points": 2,
         "success_message": "Success: `remove_stock()` correctly decreases stock!"
        },
        {
         "code": ">>> from pykubegrader.telemetry import ensure_responses, log_variable, score_question, submit_question, telemetry, update_responses\n>>> import os\n>>> import base64\n>>> question_id = 'Free-Response-Modify-an-Inventory-Class-5'\n>>> max_score = 2.0\n>>> score = 0\n>>> item = Inventory('Washers', 40)\n>>> item.remove_stock(100)\n>>> stock_after_excessive_removal = item.stock\n>>> assert stock_after_excessive_removal == 0, f'Expected stock to be 0 (not negative), but got {item.stock}.'\n>>> if stock_after_excessive_removal == 0:\n...     score = 2.0\n>>> earned_points = float(os.environ.get('EARNED_POINTS', 0))\n>>> earned_points += score\n>>> log_variable('1_practicequiz_q', f'{score}, {max_score}', question_id)\n>>> os.environ['EARNED_POINTS'] = str(earned_points)\n>>> responses = update_responses(question_id, str(stock_after_excessive_removal))\n",
         "failure_message": "Failed: Stock goes below 0.",
         "hidden": false,
         "locked": false,
         "points": 2,
         "success_message": "Success: Stock does not drop below 0!"
        },
        {
         "code": ">>> from pykubegrader.telemetry import ensure_responses, log_variable, score_question, submit_question, telemetry, update_responses\n>>> import os\n>>> import base64\n>>> question_id = 'Free-Response-Modify-an-Inventory-Class-6'\n>>> max_score = 2.0\n>>> score = 0\n>>> item = Inventory('Bearings', 15)\n>>> string_representation = str(item)\n>>> expected_string = 'Product: Bearings, Stock: 15'\n>>> assert string_representation == expected_string, f\"Expected '{expected_string}', but got '{string_representation}'.\"\n>>> if string_representation == expected_string:\n...     score = 2.0\n>>> earned_points = float(os.environ.get('EARNED_POINTS', 0))\n>>> earned_points += score\n>>> log_variable('1_practicequiz_q', f'{score}, {max_score}', question_id)\n>>> os.environ['EARNED_POINTS'] = str(earned_points)\n>>> responses = update_responses(question_id, str(string_representation))\n",
         "failure_message": "Failed: `__str__()` does not return the expected format.",
         "hidden": false,
         "locked": false,
         "points": 2,
         "success_message": "Success: `__str__()` returns the correct format!"
        }
       ],
       "scored": true,
       "setup": "",
       "teardown": "",
       "type": "doctest"
      }
     ]
    }
   }
  }
 },
 "nbformat": 4,
 "nbformat_minor": 5
}
