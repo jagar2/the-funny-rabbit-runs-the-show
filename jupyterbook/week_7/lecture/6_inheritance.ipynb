{
 "cells": [
  {
   "cell_type": "markdown",
   "id": "0",
   "metadata": {},
   "source": [
    "# 📝 Inheritance in Python 🚗📚👨‍👩‍👧‍👦\n",
    "\n",
    "Inheritance is a core concept of object-oriented programming (OOP) that allows a class (the child class) to reuse, extend, or modify the behavior of another class (the parent class). This helps you avoid code repetition and maintain a clear, logical structure in your software.\n"
   ]
  },
  {
   "cell_type": "markdown",
   "id": "1",
   "metadata": {},
   "source": [
    "## Why Use Inheritance?\n"
   ]
  },
  {
   "cell_type": "markdown",
   "id": "2",
   "metadata": {},
   "source": [
    "1. Reusability\n",
    "\n",
    "- Child classes automatically inherit attributes and methods from the parent class.\n",
    "- Avoids duplicating code shared by multiple classes.\n"
   ]
  },
  {
   "cell_type": "markdown",
   "id": "3",
   "metadata": {},
   "source": [
    "2. Extensibility\n",
    "\n",
    "- Children can add or modify functionality while preserving shared behavior from the parent.\n"
   ]
  },
  {
   "cell_type": "markdown",
   "id": "4",
   "metadata": {},
   "source": [
    "3. Organizational Clarity\n",
    "- Logical hierarchy mirrors real-world or conceptual relationships (e.g., `Car` is a type of `Vehicle`).\n"
   ]
  },
  {
   "cell_type": "markdown",
   "id": "5",
   "metadata": {},
   "source": [
    "## Basic Example of Single Inheritance\n"
   ]
  },
  {
   "cell_type": "code",
   "execution_count": null,
   "id": "6",
   "metadata": {},
   "outputs": [],
   "source": [
    "class Vehicle:\n",
    "    def __init__(self, make, model):\n",
    "        self.make = make\n",
    "        self.model = model\n",
    "\n",
    "    def start_engine(self):\n",
    "        print(f\"{self.make} {self.model} engine started!\")\n",
    "\n",
    "\n",
    "class Car(Vehicle):\n",
    "    def __init__(self, make, model, doors):\n",
    "        # Call parent constructor using super()\n",
    "        super().__init__(make, model)\n",
    "        self.doors = doors\n",
    "\n",
    "    def open_trunk(self):\n",
    "        print(f\"{self.make} {self.model} trunk opened.\")\n",
    "\n",
    "\n",
    "# Creating instances\n",
    "my_car = Car(\"Toyota\", \"Corolla\", 4)\n",
    "my_car.start_engine()  # Inherited from Vehicle\n",
    "my_car.open_trunk()  # Defined in Car"
   ]
  },
  {
   "cell_type": "markdown",
   "id": "7",
   "metadata": {},
   "source": [
    "````\n",
    "\n",
    "Key Points\n",
    "\n",
    "- `Car` inherits all attributes and methods from `Vehicle` (like `start_engine`).\n",
    "- `super().init()` calls the parent class constructor.\n",
    "- `Car` adds new functionality: `open_trunk`.\n"
   ]
  },
  {
   "cell_type": "markdown",
   "id": "8",
   "metadata": {},
   "source": [
    "## Overriding Methods\n",
    "\n",
    "If the child class defines a method with the same name as a method in the parent class, it overrides that method:\n"
   ]
  },
  {
   "cell_type": "code",
   "execution_count": null,
   "id": "9",
   "metadata": {},
   "outputs": [],
   "source": [
    "class Vehicle:\n",
    "    def start_engine(self):\n",
    "        print(\"Vehicle's engine started (generic).\")\n",
    "\n",
    "\n",
    "class Car(Vehicle):\n",
    "    def start_engine(self):\n",
    "        print(\"Car's engine started (car-specific).\")\n",
    "\n",
    "\n",
    "my_car = Car()\n",
    "my_car.start_engine()  # \"Car's engine started (car-specific).\""
   ]
  },
  {
   "cell_type": "markdown",
   "id": "10",
   "metadata": {},
   "source": [
    "### Using `super()` in an Overridden Method\n",
    "\n",
    "Sometimes you still want to call the original parent method, then add extra steps:\n"
   ]
  },
  {
   "cell_type": "code",
   "execution_count": null,
   "id": "11",
   "metadata": {},
   "outputs": [],
   "source": [
    "class Car(Vehicle):\n",
    "    def start_engine(self):\n",
    "        super().start_engine()\n",
    "        print(\"Performing additional car checks...\")\n",
    "\n",
    "\n",
    "my_car = Car()\n",
    "\n",
    "my_car.start_engine()"
   ]
  },
  {
   "cell_type": "markdown",
   "id": "12",
   "metadata": {},
   "source": [
    "## Practical Examples\n"
   ]
  },
  {
   "cell_type": "markdown",
   "id": "13",
   "metadata": {},
   "source": [
    "1. Shape Hierarchy (Geometry)\n"
   ]
  },
  {
   "cell_type": "code",
   "execution_count": null,
   "id": "14",
   "metadata": {},
   "outputs": [],
   "source": [
    "class Shape:\n",
    "    def area(self):\n",
    "        raise NotImplementedError(\"Subclasses must implement this method.\")\n",
    "\n",
    "\n",
    "class Circle(Shape):\n",
    "    def __init__(self, radius):\n",
    "        self.radius = radius\n",
    "\n",
    "    def area(self):\n",
    "        return 3.14159 * (self.radius**2)\n",
    "\n",
    "\n",
    "my_circle = Circle(5)\n",
    "print(my_circle.area())  # 78.53975"
   ]
  },
  {
   "cell_type": "markdown",
   "id": "15",
   "metadata": {},
   "source": [
    "- `Circle` overrides `area()` from `Shape`.\n",
    "- Enforces a pattern where every shape must implement its own `area()`.\n"
   ]
  },
  {
   "cell_type": "markdown",
   "id": "16",
   "metadata": {},
   "source": [
    "2. User Permissions (Web/App)\n"
   ]
  },
  {
   "cell_type": "code",
   "execution_count": null,
   "id": "17",
   "metadata": {},
   "outputs": [],
   "source": [
    "class User:\n",
    "    def __init__(self, username):\n",
    "        self.username = username\n",
    "\n",
    "    def can_access(self, resource):\n",
    "        # Basic users might have minimal access\n",
    "        return resource in [\"public\"]\n",
    "\n",
    "\n",
    "class Admin(User):\n",
    "    def can_access(self, resource):\n",
    "        # Admins can access everything\n",
    "        return True\n",
    "\n",
    "\n",
    "user = User(\"john_doe\")\n",
    "admin = Admin(\"admin_user\")\n",
    "print(user.can_access(\"public\"))  # True\n",
    "print(user.can_access(\"private\"))  # False\n",
    "print(admin.can_access(\"private\"))  # True (overridden behavior)"
   ]
  },
  {
   "cell_type": "markdown",
   "id": "18",
   "metadata": {},
   "source": [
    "## Composition vs. Inheritance\n",
    "\n",
    "- Composition: Instead of inheriting, you have one class hold an instance of another.\n"
   ]
  },
  {
   "cell_type": "code",
   "execution_count": null,
   "id": "19",
   "metadata": {},
   "outputs": [],
   "source": [
    "class Engine:\n",
    "    def start(self):\n",
    "        print(\"Engine started.\")\n",
    "\n",
    "\n",
    "class Vehicle:\n",
    "    def __init__(self):\n",
    "        self.engine = Engine()\n",
    "\n",
    "    def start_engine(self):\n",
    "        self.engine.start()"
   ]
  },
  {
   "cell_type": "markdown",
   "id": "20",
   "metadata": {},
   "source": [
    "- When something is not strictly a specialized form of a parent class, composition may be more natural.\n",
    "\n",
    "- When to Use Inheritance"
   ]
  },
  {
   "cell_type": "markdown",
   "id": "21",
   "metadata": {},
   "source": [
    "1. IS-A Relationship: `Car` is a `Vehicle`."
   ]
  },
  {
   "cell_type": "markdown",
   "id": "22",
   "metadata": {},
   "source": [
    "2. Shared or Extended Behavior: Common logic in the parent, specialized in the child.\n"
   ]
  },
  {
   "cell_type": "markdown",
   "id": "23",
   "metadata": {},
   "source": [
    "## 6. Best Practices\n"
   ]
  },
  {
   "cell_type": "markdown",
   "id": "24",
   "metadata": {},
   "source": [
    "1. Use `super()`\n",
    "    - Ensures correct initialization of parent class attributes.\n",
    "    - Helps maintain readability in child methods.\n"
   ]
  },
  {
   "cell_type": "markdown",
   "id": "25",
   "metadata": {},
   "source": [
    "2. Keep Hierarchies Simple\n",
    "    - Deep, complex inheritance chains can be difficult to understand and maintain.\n"
   ]
  },
  {
   "cell_type": "markdown",
   "id": "26",
   "metadata": {},
   "source": [
    "3. Override Responsibly\n",
    "    - Only override methods if you need to provide different or enhanced behavior.\n"
   ]
  },
  {
   "cell_type": "markdown",
   "id": "27",
   "metadata": {},
   "source": [
    "4. Enforce Consistency\n",
    "    - If your parent class has certain expectations (e.g., a `move()` method), ensure child classes follow the same interface.\n"
   ]
  },
  {
   "cell_type": "markdown",
   "id": "28",
   "metadata": {},
   "source": [
    "\n",
    "```\n",
    "\n",
    "```"
   ]
  }
 ],
 "metadata": {
  "kernelspec": {
   "display_name": "engr131_dev",
   "language": "python",
   "name": "python3"
  },
  "language_info": {
   "codemirror_mode": {
    "name": "ipython",
    "version": 3
   },
   "file_extension": ".py",
   "mimetype": "text/x-python",
   "name": "python",
   "nbconvert_exporter": "python",
   "pygments_lexer": "ipython3",
   "version": "3.12.7"
  }
 },
 "nbformat": 4,
 "nbformat_minor": 5
}
