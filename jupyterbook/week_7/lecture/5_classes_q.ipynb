{
 "cells": [
  {
   "cell_type": "code",
   "execution_count": null,
   "id": "0",
   "metadata": {
    "deletable": false,
    "editable": false,
    "tags": [
     "skip-execution"
    ]
   },
   "outputs": [],
   "source": [
    "# You must make sure to run all cells in sequence using shift + enter or you might encounter errors\n",
    "from pykubegrader.initialize import initialize_assignment\n",
    "\n",
    "responses = initialize_assignment(\"5_classes_q\", \"week_7\", \"lecturenotgraded\", assignment_points = 21.0, assignment_tag = 'week7-lecturenotgraded')\n",
    "\n",
    "# Initialize Otter\n",
    "import otter\n",
    "grader = otter.Notebook(\"5_classes_q.ipynb\")"
   ]
  },
  {
   "cell_type": "markdown",
   "id": "1",
   "metadata": {
    "deletable": false,
    "editable": false
   },
   "source": [
    "# 💻 Engineering Material Simulation 🚀🔧\n",
    "\n",
    "![](./assets/figures/ai-simulation-laptop-1536x919-1.webp)\n"
   ]
  },
  {
   "cell_type": "markdown",
   "id": "2",
   "metadata": {
    "deletable": false,
    "editable": false
   },
   "source": [
    "## Problem Statement\n",
    "You are designing a Python-based simulation for tracking the stress-strain behavior of different materials under mechanical loading. The simulation should be object-oriented and include the following functionalities:\n"
   ]
  },
  {
   "cell_type": "markdown",
   "id": "3",
   "metadata": {
    "deletable": false,
    "editable": false
   },
   "source": [
    "1. Class and Instances:\n",
    "    - Define a class `Material` to represent different engineering materials.\n",
    "    - Each material instance should have properties such as `name`, `elastic_modulus`, `yield_strength`, and `strain` (default: `0.0`).\n"
   ]
  },
  {
   "cell_type": "markdown",
   "id": "4",
   "metadata": {
    "deletable": false,
    "editable": false
   },
   "source": [
    "2. Change Methods with Error Handling:\n",
    "    - Implement a method `apply_strain(self, strain_value: float)` to modify the strain.\n",
    "    - Ensure that the strain does not go below zero and does not exceed a predefined fracture strain (`0.05` for all materials). If an invalid strain is applied, raise a `ValueError`.\n"
   ]
  },
  {
   "cell_type": "markdown",
   "id": "5",
   "metadata": {
    "deletable": false,
    "editable": false
   },
   "source": [
    "3. Magic Methods:\n",
    "    - Implement the `str` magic method to print a readable summary of the material properties.\n",
    "    - Implement the `add` method to allow combining two materials into a new `CompositeMaterial` object with an average of their properties.\n"
   ]
  },
  {
   "cell_type": "markdown",
   "id": "6",
   "metadata": {
    "deletable": false,
    "editable": false
   },
   "source": [
    "4. Custom Iterator:\n",
    "    - Create a class `MaterialIterator` to iterate through a list of materials and return their names one by one.\n"
   ]
  },
  {
   "cell_type": "markdown",
   "id": "7",
   "metadata": {
    "deletable": false,
    "editable": false
   },
   "source": [
    "## Task\n",
    "Write the `Material` and `MaterialIterator` classes, ensuring they adhere to the problem constraints. Then, demonstrate the following:\n",
    "- Create instances for `Steel` and `Aluminum`.\n",
    "- Apply valid and invalid strain values and handle errors appropriately.\n",
    "- Print the material properties using `str`.\n",
    "- Combine `Steel` and `Aluminum` using `+` and print the new composite material.\n",
    "- Use `MaterialIterator` to iterate through a list of materials and display their names.\n"
   ]
  },
  {
   "cell_type": "code",
   "execution_count": null,
   "id": "8",
   "metadata": {
    "tags": [
     "skip-execution"
    ]
   },
   "outputs": [],
   "source": [
    "# Step 1: Define the Material class\n",
    "class Material:\n",
    "\n",
    "    # Step 2: add the __init__ method to initialize the Material class, with the following parameters:\n",
    "    # name: (str) Name of the material\n",
    "    # elastic_modulus: (float) Elastic modulus of the material in GPa\n",
    "    # yield_strength: (float) Yield strength of the material in MPa\n",
    "    # assign these parameters to the corresponding class attributes\n",
    "    # Add placeholders for strain and fracture_strain attributes with default values of 0.0 and 0.05, respectively.\n",
    "    ...\n",
    "        \"\"\"\n",
    "        ...\n",
    "        \"\"\"\n",
    "        ...\n",
    "\n",
    "    # Step 3: add the apply_strain method to the Material class, with the following parameters:\n",
    "    # strain_value: (float) Strain value to apply\n",
    "    # Check if the strain_value is negative and raise a ValueError with the message \"Strain cannot be negative!\"\n",
    "    # Check if the strain_value exceeds the fracture_strain attribute and raise a ValueError with the message \"Strain exceeds fracture limit!\"\n",
    "    # If the strain_value is valid, update the strain attribute with the strain_value\n",
    "    ...\n",
    "        \"\"\"\n",
    "        Apply strain to the material while ensuring it remains within valid limits.\n",
    "        :param strain_value: Strain value to apply\n",
    "        \"\"\"\n",
    "        ...\n",
    "\n",
    "    # Step 4: add the __str__ method to the Material class to return a readable string representation of the material.\n",
    "    # The string should include the name, elastic modulus, yield strength, and current strain of the material.\n",
    "    # here is an example of the expected output:\n",
    "    # Material: Steel\n",
    "    # Elastic Modulus: 200 GPa\n",
    "    # Yield Strength: 250 MPa\n",
    "    # Current Strain: 0.0200\n",
    "    ...\n",
    "        \"\"\"\n",
    "        Magic method to return a readable string representation of the material.\n",
    "        \"\"\"\n",
    "        ...\n",
    "\n",
    "    # Step 5: add the __add__ method to the Material class to combine two materials into a new composite material.\n",
    "    # The method should return a new Material instance with averaged properties of the two materials.\n",
    "    # The name of the composite material should be \"Composite(Material1 + Material2)\"\n",
    "    # The elastic modulus and yield strength of the composite material should be the average of the two materials.\n",
    "    # If the `other`` object is not an instance of Material, raise a TypeError with the message \"Can only add another Material instance!\"\n",
    "    ...\n",
    "        \"\"\"\n",
    "        Magic method to combine two materials into a new composite material.\n",
    "        :param other: Another Material instance\n",
    "        :return: CompositeMaterial with averaged properties\n",
    "        \"\"\"\n",
    "        # Check if the other object is a Material instance if not return a TypeError with the message \"Can only add another Material instance!\"\n",
    "        ...\n",
    "\n",
    "        # Create a composite material with averaged properties\n",
    "        # make the composite name as \"Composite(Material1 + Material2)\"\n",
    "        ...\n",
    "\n",
    "        # Calculate the average of elastic modulus and yield strength as composite_modulus and composite_yield_strength\n",
    "        ...\n",
    "\n",
    "        # Return a new Material instance with the composite properties\n",
    "        ...\n",
    "\n",
    "\n",
    "# Step 2: Define the MaterialIterator class\n",
    "\n",
    "\n",
    "class MaterialIterator:\n",
    "\n",
    "    # Step 3: add the __init__ method to initialize the MaterialIterator class, with the following parameters:\n",
    "    # materials: (list) List of Material instances\n",
    "    # assign the materials parameter to the materials attribute\n",
    "    # initialize the index attribute with a value of 0\n",
    "    ...\n",
    "        \"\"\"\n",
    "        Initialize the iterator with a list of materials.\n",
    "        :param materials: List of Material instances\n",
    "        \"\"\"\n",
    "        ...\n",
    "\n",
    "    # Step 4: add the __iter__ method to the MaterialIterator class to return the iterator object itself.\n",
    "    ...\n",
    "\n",
    "    # Step 5: add the __next__ method to the MaterialIterator class to return the next material name or stop iteration.\n",
    "    # If the index is greater than or equal to the length of materials, raise a StopIteration exception.\n",
    "    # Get the name of the current material using the index attribute.\n",
    "    # Increment the index by 1 to move to the next material.\n",
    "    # Return the material name.\n",
    "    ...\n",
    "\n",
    "\n",
    "# Step 3: Demonstrate Functionality\n",
    "\n",
    "\n",
    "# Create instances of materials with name steel with elastic modulus 200 GPa and yield strength 250 MPa\n",
    "...\n",
    "\n",
    "# Create another instance of material with name aluminum with elastic modulus 70 GPa and yield strength 150 MPa\n",
    "...\n",
    "\n",
    "# Apply valid strain\n",
    "try:\n",
    "    steel.apply_strain(0.02)\n",
    "except ValueError as e:\n",
    "    print(f\"Error: {e}\")\n",
    "\n",
    "# Attempt to apply invalid strain\n",
    "try:\n",
    "    aluminum.apply_strain(0.06)  # Exceeds fracture limit\n",
    "except ValueError as e:\n",
    "    print(f\"Error: {e}\")\n",
    "\n",
    "# Print material properties using __str__\n",
    "print(steel)\n",
    "print(aluminum)\n",
    "\n",
    "# Combine materials using __add__, and save to a new variable `composite``\n",
    "composite = ...\n",
    "print(composite)  # Composite material\n",
    "\n",
    "# Use MaterialIterator to iterate through a list of materials\n",
    "materials = [steel, aluminum, composite]\n",
    "iterator = ...\n",
    "\n",
    "print(\"\\nIterating through materials:\")\n",
    "for material_name in iterator:\n",
    "    print(material_name)"
   ]
  },
  {
   "cell_type": "code",
   "execution_count": null,
   "id": "9",
   "metadata": {
    "deletable": false,
    "editable": false,
    "tags": [
     "skip-execution"
    ]
   },
   "outputs": [],
   "source": [
    "grader.check(\"Materials-simulation-classes\")"
   ]
  },
  {
   "cell_type": "markdown",
   "id": "10",
   "metadata": {},
   "source": [
    "## Submitting Assignment\n",
    "\n",
    "Please run the following block of code using `shift + enter` to submit your assignment, you should see your score."
   ]
  },
  {
   "cell_type": "code",
   "execution_count": null,
   "id": "11",
   "metadata": {
    "deletable": false,
    "editable": true,
    "tags": [
     "skip-execution"
    ]
   },
   "outputs": [],
   "source": [
    "from pykubegrader.submit.submit_assignment import submit_assignment\n",
    "\n",
    "submit_assignment(\"week7-lecturenotgraded\", \"5_classes_q\")"
   ]
  }
 ],
 "metadata": {
  "kernelspec": {
   "display_name": "engr131_dev",
   "language": "python",
   "name": "python3"
  },
  "language_info": {
   "codemirror_mode": {
    "name": "ipython",
    "version": 3
   },
   "file_extension": ".py",
   "mimetype": "text/x-python",
   "name": "python",
   "nbconvert_exporter": "python",
   "pygments_lexer": "ipython3",
   "version": "3.12.7"
  },
  "otter": {
   "OK_FORMAT": true,
   "tests": {
    "Materials-simulation-classes": {
     "name": "Materials-simulation-classes",
     "points": null,
     "suites": [
      {
       "cases": [
        {
         "code": ">>> from pykubegrader.telemetry import ensure_responses, log_variable, score_question, submit_question, telemetry, update_responses\n>>> import os\n>>> import base64\n>>> max_question_points = str(21.0)\n>>> earned_points = 0\n>>> os.environ['EARNED_POINTS'] = str(earned_points)\n>>> os.environ['TOTAL_POINTS_FREE_RESPONSE'] = str(21.0)\n>>> log_variable('total-points', f'week7-lecturenotgraded, 5_classes_q', 21.0)\n>>> question_id = 'Materials-simulation-classes-1'\n>>> max_score = 1.0\n>>> score = 0\n>>> class_exists = 'Material' in globals() and 'MaterialIterator' in globals()\n>>> assert class_exists, 'Both `Material` and `MaterialIterator` classes must be defined.'\n>>> if class_exists:\n...     score = 1.0\n>>> earned_points = float(os.environ.get('EARNED_POINTS', 0))\n>>> earned_points += score\n>>> log_variable('5_classes_q', f'{score}, {max_score}', question_id)\n>>> os.environ['EARNED_POINTS'] = str(earned_points)\n>>> responses = update_responses(question_id, str(class_exists))\n",
         "failure_message": "Failed: One or both classes (`Material`, `MaterialIterator`) are missing.",
         "hidden": false,
         "locked": false,
         "points": 1,
         "success_message": "Success: `Material` and `MaterialIterator` classes are defined!"
        },
        {
         "code": ">>> from pykubegrader.telemetry import ensure_responses, log_variable, score_question, submit_question, telemetry, update_responses\n>>> import os\n>>> import base64\n>>> question_id = 'Materials-simulation-classes-2'\n>>> max_score = 2.0\n>>> score = 0\n>>> test_material = Material('Titanium', 120, 400)\n>>> material_attributes = {'name': test_material.name, 'elastic_modulus': test_material.elastic_modulus, 'yield_strength': test_material.yield_strength, 'strain': test_material.strain, 'fracture_strain': test_material.fracture_strain}\n>>> expected_attributes = {'name': 'Titanium', 'elastic_modulus': 120, 'yield_strength': 400, 'strain': 0.0, 'fracture_strain': 0.05}\n>>> assert material_attributes == expected_attributes, f'Expected {expected_attributes}, but got {material_attributes}.'\n>>> if material_attributes == expected_attributes:\n...     score = 2.0\n>>> earned_points = float(os.environ.get('EARNED_POINTS', 0))\n>>> earned_points += score\n>>> log_variable('5_classes_q', f'{score}, {max_score}', question_id)\n>>> os.environ['EARNED_POINTS'] = str(earned_points)\n>>> responses = update_responses(question_id, str(material_attributes))\n",
         "failure_message": "Failed: `Material` does not initialize attributes correctly.",
         "hidden": false,
         "locked": false,
         "points": 2,
         "success_message": "Success: `Material` initializes attributes correctly!"
        },
        {
         "code": ">>> from pykubegrader.telemetry import ensure_responses, log_variable, score_question, submit_question, telemetry, update_responses\n>>> import os\n>>> import base64\n>>> question_id = 'Materials-simulation-classes-3'\n>>> max_score = 2.0\n>>> score = 0\n>>> test_material = Material('Copper', 110, 350)\n>>> test_material.apply_strain(0.02)\n>>> updated_strain = test_material.strain\n>>> expected_strain = 0.02\n>>> assert updated_strain == expected_strain, f'Expected strain to be {expected_strain}, but got {updated_strain}.'\n>>> if updated_strain == expected_strain:\n...     score = 2.0\n>>> earned_points = float(os.environ.get('EARNED_POINTS', 0))\n>>> earned_points += score\n>>> log_variable('5_classes_q', f'{score}, {max_score}', question_id)\n>>> os.environ['EARNED_POINTS'] = str(earned_points)\n>>> responses = update_responses(question_id, str(updated_strain))\n",
         "failure_message": "Failed: `apply_strain()` does not update strain correctly.",
         "hidden": false,
         "locked": false,
         "points": 2,
         "success_message": "Success: `apply_strain()` correctly updates strain!"
        },
        {
         "code": ">>> from pykubegrader.telemetry import ensure_responses, log_variable, score_question, submit_question, telemetry, update_responses\n>>> import os\n>>> import base64\n>>> import pytest\n>>> question_id = 'Materials-simulation-classes-4'\n>>> max_score = 3.0\n>>> score = 0\n>>> test_material = Material('Brass', 90, 300)\n>>> error_raised = False\n>>> try:\n...     test_material.apply_strain(-0.01)\n... except ValueError as e:\n...     error_raised = str(e) == 'Strain cannot be negative!'\n>>> assert error_raised, 'Expected `ValueError: Strain cannot be negative!`, but no error was raised.'\n>>> error_raised = False\n>>> try:\n...     test_material.apply_strain(0.06)\n... except ValueError as e:\n...     error_raised = str(e) == 'Strain exceeds fracture limit!'\n>>> assert error_raised, 'Expected `ValueError: Strain exceeds fracture limit!`, but no error was raised.'\n>>> if error_raised and error_raised:\n...     score = 3.0\n>>> earned_points = float(os.environ.get('EARNED_POINTS', 0))\n>>> earned_points += score\n>>> log_variable('5_classes_q', f'{score}, {max_score}', question_id)\n>>> os.environ['EARNED_POINTS'] = str(earned_points)\n>>> responses = update_responses(question_id, str(error_raised))\n",
         "failure_message": "Failed: `apply_strain()` does not handle invalid strains correctly.",
         "hidden": false,
         "locked": false,
         "points": 3,
         "success_message": "Success: `apply_strain()` correctly handles invalid strains!"
        },
        {
         "code": ">>> from pykubegrader.telemetry import ensure_responses, log_variable, score_question, submit_question, telemetry, update_responses\n>>> import os\n>>> import base64\n>>> question_id = 'Materials-simulation-classes-5'\n>>> max_score = 2.0\n>>> score = 0\n>>> test_material = Material('Bronze', 110, 250)\n>>> material_string = str(test_material)\n>>> expected_string = 'Material: Bronze\\nElastic Modulus: 110 GPa\\nYield Strength: 250 MPa\\nCurrent Strain: 0.0000'\n>>> assert material_string == expected_string, f'Expected:\\n{expected_string}\\nbut got:\\n{material_string}'\n>>> if material_string == expected_string:\n...     score = 2.0\n>>> earned_points = float(os.environ.get('EARNED_POINTS', 0))\n>>> earned_points += score\n>>> log_variable('5_classes_q', f'{score}, {max_score}', question_id)\n>>> os.environ['EARNED_POINTS'] = str(earned_points)\n>>> responses = update_responses(question_id, str(material_string))\n",
         "failure_message": "Failed: `__str__()` does not return the expected string.",
         "hidden": false,
         "locked": false,
         "points": 2,
         "success_message": "Success: `__str__()` correctly represents a material!"
        },
        {
         "code": ">>> from pykubegrader.telemetry import ensure_responses, log_variable, score_question, submit_question, telemetry, update_responses\n>>> import os\n>>> import base64\n>>> question_id = 'Materials-simulation-classes-6'\n>>> max_score = 3.0\n>>> score = 0\n>>> material1 = Material('Nickel', 150, 500)\n>>> material2 = Material('Zinc', 90, 200)\n>>> composite = material1 + material2\n>>> composite_properties = {'name': composite.name, 'elastic_modulus': composite.elastic_modulus, 'yield_strength': composite.yield_strength}\n>>> expected_properties = {'name': 'Composite(Nickel + Zinc)', 'elastic_modulus': 120, 'yield_strength': 350}\n>>> assert composite_properties == expected_properties, f'Expected {expected_properties}, but got {composite_properties}.'\n>>> if composite_properties == expected_properties:\n...     score = 3.0\n>>> earned_points = float(os.environ.get('EARNED_POINTS', 0))\n>>> earned_points += score\n>>> log_variable('5_classes_q', f'{score}, {max_score}', question_id)\n>>> os.environ['EARNED_POINTS'] = str(earned_points)\n>>> responses = update_responses(question_id, str(composite_properties))\n",
         "failure_message": "Failed: `__add__()` does not combine materials correctly.",
         "hidden": false,
         "locked": false,
         "points": 3,
         "success_message": "Success: `__add__()` correctly creates composite materials!"
        },
        {
         "code": ">>> from pykubegrader.telemetry import ensure_responses, log_variable, score_question, submit_question, telemetry, update_responses\n>>> import os\n>>> import base64\n>>> question_id = 'Materials-simulation-classes-7'\n>>> max_score = 1.0\n>>> score = 0\n>>> test_material = Material('Titanium', 120, 400)\n>>> test_material.apply_strain(0.005)\n>>> updated_strain = test_material.strain\n>>> expected_strain = 0.005\n>>> assert updated_strain == expected_strain, f'Expected strain to be {expected_strain}, but got {updated_strain}.'\n>>> if updated_strain == expected_strain:\n...     score = 1.0\n>>> earned_points = float(os.environ.get('EARNED_POINTS', 0))\n>>> earned_points += score\n>>> log_variable('5_classes_q', f'{score}, {max_score}', question_id)\n>>> os.environ['EARNED_POINTS'] = str(earned_points)\n>>> responses = update_responses(question_id, str(updated_strain))\n",
         "failure_message": "Failed: `apply_strain()` does not correctly update strain for small values.",
         "hidden": false,
         "locked": false,
         "points": 1,
         "success_message": "Success: `apply_strain()` correctly updates strain for small values!"
        },
        {
         "code": ">>> from pykubegrader.telemetry import ensure_responses, log_variable, score_question, submit_question, telemetry, update_responses\n>>> import os\n>>> import base64\n>>> question_id = 'Materials-simulation-classes-8'\n>>> max_score = 3.0\n>>> score = 0\n>>> materials = [Material('Iron', 200, 250), Material('Lead', 40, 150), Material('Silver', 70, 300)]\n>>> iterator = MaterialIterator(materials)\n>>> iterated_names = list(iterator)\n>>> expected_names = ['Iron', 'Lead', 'Silver']\n>>> assert iterated_names == expected_names, f'Expected {expected_names}, but got {iterated_names}.'\n>>> if iterated_names == expected_names:\n...     score = 3.0\n>>> earned_points = float(os.environ.get('EARNED_POINTS', 0))\n>>> earned_points += score\n>>> log_variable('5_classes_q', f'{score}, {max_score}', question_id)\n>>> os.environ['EARNED_POINTS'] = str(earned_points)\n>>> responses = update_responses(question_id, str(iterated_names))\n",
         "failure_message": "Failed: `MaterialIterator` does not iterate correctly.",
         "hidden": false,
         "locked": false,
         "points": 3,
         "success_message": "Success: `MaterialIterator` correctly iterates through materials!"
        },
        {
         "code": ">>> from pykubegrader.telemetry import ensure_responses, log_variable, score_question, submit_question, telemetry, update_responses\n>>> import os\n>>> import base64\n>>> question_id = 'Materials-simulation-classes-9'\n>>> max_score = 1.0\n>>> score = 0\n>>> test_material = Material('Graphene', 200, 500)\n>>> test_material.apply_strain(0.05)\n>>> updated_strain = test_material.strain\n>>> expected_strain = 0.05\n>>> assert updated_strain == expected_strain, f'Expected strain to be {expected_strain}, but got {updated_strain}.'\n>>> if updated_strain == expected_strain:\n...     score = 1.0\n>>> earned_points = float(os.environ.get('EARNED_POINTS', 0))\n>>> earned_points += score\n>>> log_variable('5_classes_q', f'{score}, {max_score}', question_id)\n>>> os.environ['EARNED_POINTS'] = str(earned_points)\n>>> responses = update_responses(question_id, str(updated_strain))\n",
         "failure_message": "Failed: `apply_strain()` does not handle strain at the fracture limit.",
         "hidden": false,
         "locked": false,
         "points": 1,
         "success_message": "Success: `apply_strain()` correctly handles strain at the fracture limit!"
        },
        {
         "code": ">>> from pykubegrader.telemetry import ensure_responses, log_variable, score_question, submit_question, telemetry, update_responses\n>>> import os\n>>> import base64\n>>> question_id = 'Materials-simulation-classes-10'\n>>> max_score = 1.0\n>>> score = 0\n>>> copper = Material('Copper', 120, 400)\n>>> zinc = Material('Zinc', 90, 300)\n>>> composite = copper + zinc\n>>> composite_string = str(composite)\n>>> expected_string = 'Material: Composite(Copper + Zinc)\\nElastic Modulus: 105.0 GPa\\nYield Strength: 350.0 MPa\\nCurrent Strain: 0.0000'\n>>> assert composite_string == expected_string, f'Expected:\\n{expected_string}\\nbut got:\\n{composite_string}'\n>>> if composite_string == expected_string:\n...     score = 1.0\n>>> earned_points = float(os.environ.get('EARNED_POINTS', 0))\n>>> earned_points += score\n>>> log_variable('5_classes_q', f'{score}, {max_score}', question_id)\n>>> os.environ['EARNED_POINTS'] = str(earned_points)\n>>> responses = update_responses(question_id, str(composite_string))\n",
         "failure_message": "Failed: `__str__()` does not correctly represent composite materials.",
         "hidden": false,
         "locked": false,
         "points": 1,
         "success_message": "Success: `__str__()` correctly represents composite materials!"
        },
        {
         "code": ">>> from pykubegrader.telemetry import ensure_responses, log_variable, score_question, submit_question, telemetry, update_responses\n>>> import os\n>>> import base64\n>>> question_id = 'Materials-simulation-classes-11'\n>>> max_score = 1.0\n>>> score = 0\n>>> nickel = Material('Nickel', 180, 450)\n>>> iron = Material('Iron', 200, 550)\n>>> composite = nickel + iron\n>>> composite_type = isinstance(composite, Material)\n>>> assert composite_type, 'Expected `__add__()` to return an instance of `Material`, but it returned a different type.'\n>>> if composite_type:\n...     score = 1.0\n>>> earned_points = float(os.environ.get('EARNED_POINTS', 0))\n>>> earned_points += score\n>>> log_variable('5_classes_q', f'{score}, {max_score}', question_id)\n>>> os.environ['EARNED_POINTS'] = str(earned_points)\n>>> responses = update_responses(question_id, str(composite_type))\n",
         "failure_message": "Failed: `__add__()` does not return a `Material` instance.",
         "hidden": false,
         "locked": false,
         "points": 1,
         "success_message": "Success: `__add__()` correctly returns a `Material` instance!"
        },
        {
         "code": ">>> from pykubegrader.telemetry import ensure_responses, log_variable, score_question, submit_question, telemetry, update_responses\n>>> import os\n>>> import base64\n>>> question_id = 'Materials-simulation-classes-12'\n>>> max_score = 1.0\n>>> score = 0\n>>> single_material = [Material('Silver', 70, 300)]\n>>> iterator = MaterialIterator(single_material)\n>>> iterated_name = next(iterator)\n>>> expected_name = 'Silver'\n>>> assert iterated_name == expected_name, f'Expected `{expected_name}`, but got `{iterated_name}`.'\n>>> if iterated_name == expected_name:\n...     score = 1.0\n>>> earned_points = float(os.environ.get('EARNED_POINTS', 0))\n>>> earned_points += score\n>>> log_variable('5_classes_q', f'{score}, {max_score}', question_id)\n>>> os.environ['EARNED_POINTS'] = str(earned_points)\n>>> responses = update_responses(question_id, str(iterated_name))\n",
         "failure_message": "Failed: `MaterialIterator` does not correctly iterate over a single material.",
         "hidden": false,
         "locked": false,
         "points": 1,
         "success_message": "Success: `MaterialIterator` correctly iterates over a single material!"
        }
       ],
       "scored": true,
       "setup": "",
       "teardown": "",
       "type": "doctest"
      }
     ]
    }
   }
  }
 },
 "nbformat": 4,
 "nbformat_minor": 5
}
