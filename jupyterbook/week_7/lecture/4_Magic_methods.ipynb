{
 "cells": [
  {
   "cell_type": "markdown",
   "id": "0",
   "metadata": {},
   "source": [
    "# 📝✨ Magic Methods in Python ✨\n",
    "\n",
    "![](./assets/figures/steve-carrell-magic.gif)\n",
    "\n",
    "Magic methods (also known as *dunder methods*) are special methods in Python that begin and end with double underscores (e.g., `init`, `str`, `len`). They enable you to integrate your classes seamlessly with Python’s built-in operations, such as arithmetic, string conversion, comparison, and iteration.\n"
   ]
  },
  {
   "cell_type": "markdown",
   "id": "1",
   "metadata": {},
   "source": [
    "## What Are Magic Methods?\n",
    "\n",
    "- Definition: Predefined method names recognized by Python to perform specific tasks or enable specific syntactic sugar.\n",
    "- Naming: Always starts and ends with `__` (double underscores).\n",
    "- Examples: `init`, `str`, `repr`, `add`, `len`, `eq`, `iter`, etc.\n"
   ]
  },
  {
   "cell_type": "code",
   "execution_count": null,
   "id": "2",
   "metadata": {},
   "outputs": [],
   "source": [
    "class Example:\n",
    "    def __init__(self):\n",
    "        print(\"Object created!\")\n",
    "\n",
    "\n",
    "obj = Example()  # Automatically calls __init__"
   ]
  },
  {
   "cell_type": "markdown",
   "id": "3",
   "metadata": {},
   "source": [
    "## Common Magic Methods\n"
   ]
  },
  {
   "cell_type": "markdown",
   "id": "4",
   "metadata": {},
   "source": [
    "1. Object Construction & Representation\n",
    "    - `init(self, ...)`: Called after instance creation to initialize the object.\n",
    "    - `del(self)`: Called when the object is about to be destroyed (use cautiously).\n",
    "    - `repr(self)`: Returns an official string representation of the object (for developers).\n",
    "    - `str(self)`: Returns a readable string representation of the object (for end users).\n"
   ]
  },
  {
   "cell_type": "markdown",
   "id": "5",
   "metadata": {},
   "source": [
    "2. Arithmetic & Comparison\n",
    "    - `add(self, other)`: Defines the `+` operator.\n",
    "    - `sub(self, other)`: Defines the `-` operator.\n",
    "    - `mul(self, other)`, `truediv(self, other)`, etc.\n",
    "    - `eq(self, other)`, `lt(self, other)`, `gt(self, other)`: Comparison operators.\n"
   ]
  },
  {
   "cell_type": "markdown",
   "id": "6",
   "metadata": {},
   "source": [
    "3. Container & Sequence Protocols\n",
    "    - `len(self)`: Returns the length (used by `len()` function).\n",
    "    - `getitem(self, index)`: Enables indexing or slicing.\n",
    "    - `setitem(self, index, value)`: Enables assignment to an index.\n",
    "    - `iter(self)`: Returns an iterator object, allowing iteration over items (`for` loops).\n"
   ]
  },
  {
   "cell_type": "markdown",
   "id": "7",
   "metadata": {},
   "source": [
    "4. Context Manager Protocol\n",
    "    - `enter(self)`: Code that runs upon entering a `with` block.\n",
    "    - `exit(self, exc_type, exc_val, exc_tb)`: Code that runs upon exiting a `with` block.\n"
   ]
  },
  {
   "cell_type": "markdown",
   "id": "8",
   "metadata": {},
   "source": [
    "## Object Construction & Representation\n"
   ]
  },
  {
   "cell_type": "markdown",
   "id": "9",
   "metadata": {},
   "source": [
    "### `str` vs. `repr`\n",
    "- `str` should return a human-readable string.\n",
    "- `repr` is meant for unambiguous representation (often used for debugging).\n",
    "\n",
    "Example\n"
   ]
  },
  {
   "cell_type": "code",
   "execution_count": null,
   "id": "10",
   "metadata": {},
   "outputs": [],
   "source": [
    "class Point:\n",
    "    def __init__(self, x, y):\n",
    "        self.x = x\n",
    "        self.y = y\n",
    "\n",
    "    def __repr__(self):\n",
    "        return f\"Point(x={self.x}, y={self.y})\"\n",
    "\n",
    "    def __str__(self):\n",
    "        return f\"({self.x}, {self.y})\""
   ]
  },
  {
   "cell_type": "markdown",
   "id": "11",
   "metadata": {},
   "source": [
    "\n",
    "- `print(Point(1, 2))` will call `str` → `(1, 2)`\n",
    "- `Point(1,2)` in a Python REPL returns `repr` → `Point(x=1, y=2)`\n"
   ]
  },
  {
   "cell_type": "markdown",
   "id": "12",
   "metadata": {},
   "source": [
    "## Arithmetic & Comparison Methods\n"
   ]
  },
  {
   "cell_type": "markdown",
   "id": "13",
   "metadata": {},
   "source": [
    "### Arithmetic (`+`, `-`, `*`, `/`, etc.)"
   ]
  },
  {
   "cell_type": "code",
   "execution_count": null,
   "id": "14",
   "metadata": {},
   "outputs": [],
   "source": [
    "class Vector2D:\n",
    "    def __init__(self, x, y):\n",
    "        self.x = x\n",
    "        self.y = y\n",
    "\n",
    "    def __add__(self, other):\n",
    "        return Vector2D(self.x + other.x, self.y + other.y)\n",
    "\n",
    "    def __sub__(self, other):\n",
    "        return Vector2D(self.x - other.x, self.y - other.y)\n",
    "\n",
    "    def __repr__(self):\n",
    "        return f\"Vector2D({self.x}, {self.y})\"\n",
    "\n",
    "\n",
    "v1 = Vector2D(2, 3)\n",
    "v2 = Vector2D(5, 7)\n",
    "print(v1 + v2)  # Vector2D(7, 10)\n",
    "print(v1 - v2)  # Vector2D(-3, -4)"
   ]
  },
  {
   "cell_type": "markdown",
   "id": "15",
   "metadata": {},
   "source": [
    "### Comparison (`==`, `<`, `>`, etc.)"
   ]
  },
  {
   "cell_type": "code",
   "execution_count": null,
   "id": "16",
   "metadata": {},
   "outputs": [],
   "source": [
    "class Item:\n",
    "    def __init__(self, weight):\n",
    "        self.weight = weight\n",
    "\n",
    "    def __eq__(self, other):\n",
    "        return self.weight == other.weight\n",
    "\n",
    "    def __lt__(self, other):\n",
    "        return self.weight < other.weight"
   ]
  },
  {
   "cell_type": "markdown",
   "id": "17",
   "metadata": {},
   "source": [
    "## Container & Sequence Protocols\n"
   ]
  },
  {
   "cell_type": "markdown",
   "id": "18",
   "metadata": {},
   "source": [
    "1. `len(self)`: Defines the behavior of `len(obj)`."
   ]
  },
  {
   "cell_type": "markdown",
   "id": "19",
   "metadata": {},
   "source": [
    "2. `getitem(self, index)`: Access elements like `obj[index]`."
   ]
  },
  {
   "cell_type": "markdown",
   "id": "20",
   "metadata": {},
   "source": [
    "3. `iter(self)`: Allows the object to be iterated in a `for` loop.\n",
    "\n",
    "Example\n"
   ]
  },
  {
   "cell_type": "code",
   "execution_count": null,
   "id": "21",
   "metadata": {},
   "outputs": [],
   "source": [
    "class CustomList:\n",
    "    def __init__(self, data):\n",
    "        self.data = data\n",
    "\n",
    "    def __len__(self):\n",
    "        return len(self.data)\n",
    "\n",
    "    def __getitem__(self, index):\n",
    "        return self.data[index]\n",
    "\n",
    "    def __iter__(self):\n",
    "        return iter(self.data)\n",
    "\n",
    "\n",
    "numbers = CustomList([1, 2, 3, 4])\n",
    "print(len(numbers))  # 4\n",
    "print(numbers[2])  # 3\n",
    "for num in numbers:\n",
    "    print(num)  # Iterates 1, 2, 3, 4"
   ]
  },
  {
   "cell_type": "markdown",
   "id": "22",
   "metadata": {},
   "source": [
    "## Context Manager Protocol\n",
    "\n",
    "- `enter(self)`: Called at the start of a `with` block.\n",
    "- `exit(self, exc_type, exc_val, exc_tb)`: Called at the end, even if an exception occurred.\n",
    "\n",
    "Example\n"
   ]
  },
  {
   "cell_type": "code",
   "execution_count": null,
   "id": "23",
   "metadata": {},
   "outputs": [],
   "source": [
    "class FileOpener:\n",
    "    def __init__(self, filename):\n",
    "        self.filename = filename\n",
    "\n",
    "    def __enter__(self):\n",
    "        self.file = open(self.filename, \"w\")\n",
    "        return self.file\n",
    "\n",
    "    def __exit__(self, exc_type, exc_val, exc_tb):\n",
    "        self.file.close()\n",
    "\n",
    "\n",
    "with FileOpener(\"demo.txt\") as f:\n",
    "    f.write(\"Hello, world!\")\n",
    "# File is automatically closed when exiting 'with' block"
   ]
  },
  {
   "cell_type": "markdown",
   "id": "24",
   "metadata": {},
   "source": [
    "## Best Practices & Tips\n"
   ]
  },
  {
   "cell_type": "markdown",
   "id": "25",
   "metadata": {},
   "source": [
    "1. Use Magic Methods Judiciously\n",
    "    - They can make code more *Pythonic* but can also confuse readers if overused or used in non-intuitive ways."
   ]
  },
  {
   "cell_type": "markdown",
   "id": "26",
   "metadata": {},
   "source": [
    "2. Provide Clear Behavior\n",
    "    - If you overload `add`, make sure it logically represents addition in your context."
   ]
  },
  {
   "cell_type": "markdown",
   "id": "27",
   "metadata": {},
   "source": [
    "3. Maintain Readability\n",
    "    - Overriding too many magic methods can obscure what’s happening behind the scenes."
   ]
  },
  {
   "cell_type": "markdown",
   "id": "28",
   "metadata": {},
   "source": [
    "4. Use `repr` for Debugging\n",
    "    - Provide enough information to identify the object state."
   ]
  },
  {
   "cell_type": "markdown",
   "id": "29",
   "metadata": {},
   "source": [
    "5. Test Thoroughly\n",
    "    - When implementing custom arithmetic or iteration logic, ensure you handle edge cases (type checks, boundaries, etc.).\n"
   ]
  },
  {
   "cell_type": "markdown",
   "id": "30",
   "metadata": {},
   "source": [
    "\n",
    "Use magic methods to write more *Pythonic*, elegant code that integrates seamlessly with Python’s built-in operations and idioms.\n",
    "```"
   ]
  }
 ],
 "metadata": {
  "kernelspec": {
   "display_name": "Python 3 (ipykernel)",
   "language": "python",
   "name": "python3"
  },
  "language_info": {
   "codemirror_mode": {
    "name": "ipython",
    "version": 3
   },
   "file_extension": ".py",
   "mimetype": "text/x-python",
   "name": "python",
   "nbconvert_exporter": "python",
   "pygments_lexer": "ipython3",
   "version": "3.12.7"
  }
 },
 "nbformat": 4,
 "nbformat_minor": 5
}
