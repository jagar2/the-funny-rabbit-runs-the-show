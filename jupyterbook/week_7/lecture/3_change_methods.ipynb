{
 "cells": [
  {
   "cell_type": "markdown",
   "id": "0",
   "metadata": {},
   "source": [
    "# 📝 Change Methods in Python 🚀\n",
    "\n",
    "![](./assets/figures/functions_break_up.jpg)\n",
    "\n",
    "In object-oriented programming, change methods (often called mutator methods or setters) are responsible for modifying the internal state of an object. They provide a controlled way to update attributes, ensuring that any rules or constraints are respected.\n"
   ]
  },
  {
   "cell_type": "markdown",
   "id": "1",
   "metadata": {},
   "source": [
    "## What Are Change Methods?\n",
    "\n",
    "- Definition: A change method is a function within a class that modifies an object’s data (attributes).\n",
    "- Purpose: They offer a structured and controlled way to update an attribute so you don’t accidentally violate constraints or introduce inconsistencies.\n"
   ]
  },
  {
   "cell_type": "markdown",
   "id": "2",
   "metadata": {},
   "source": [
    "### Example Use Cases\n"
   ]
  },
  {
   "cell_type": "markdown",
   "id": "3",
   "metadata": {},
   "source": [
    "1. Validation: Ensure new values meet specific criteria (e.g., min/max range)."
   ]
  },
  {
   "cell_type": "markdown",
   "id": "4",
   "metadata": {},
   "source": [
    "2. Consistency: When one attribute changes, another might need to update automatically."
   ]
  },
  {
   "cell_type": "markdown",
   "id": "5",
   "metadata": {},
   "source": [
    "3. Logging: Record changes or trigger events when certain attributes are modified.\n"
   ]
  },
  {
   "cell_type": "markdown",
   "id": "6",
   "metadata": {},
   "source": [
    "## Why Use Change Methods Instead of Direct Attribute Access?\n"
   ]
  },
  {
   "cell_type": "markdown",
   "id": "7",
   "metadata": {},
   "source": [
    "1. Encapsulation\n",
    "    - You can hide the internal details of how data is stored.\n",
    "    - The class controls how external code can interact with those details."
   ]
  },
  {
   "cell_type": "markdown",
   "id": "8",
   "metadata": {},
   "source": [
    "2. Validation & Error Handling\n",
    "    - Check whether incoming data is valid (e.g., a temperature sensor reading must be above -273.15 °C).\n",
    "    - Raise errors or set defaults when invalid data is supplied."
   ]
  },
  {
   "cell_type": "markdown",
   "id": "9",
   "metadata": {},
   "source": [
    "3. Maintainability\n",
    "    - If you need to change the way data is stored or processed, you can modify the method without breaking external code.\n"
   ]
  },
  {
   "cell_type": "markdown",
   "id": "10",
   "metadata": {},
   "source": [
    "## Basic Structure of a Change Method\n",
    "\n",
    "Below is a simple example where we manage a machine’s operational speed. Notice how we handle validation in the `set_speed` method rather than letting the user directly modify `speed`:\n"
   ]
  },
  {
   "cell_type": "code",
   "execution_count": null,
   "id": "11",
   "metadata": {},
   "outputs": [],
   "source": [
    "class Machine:\n",
    "    def __init__(self, max_speed):\n",
    "        self.__speed = 0\n",
    "        self.__max_speed = max_speed\n",
    "\n",
    "    def set_speed(self, new_speed):\n",
    "        if 0 <= new_speed <= self.__max_speed:\n",
    "            self.__speed = new_speed\n",
    "            print(f\"Machine speed set to {new_speed}\")\n",
    "        else:\n",
    "            print(f\"Error: speed must be between 0 and {self.__max_speed}\")\n",
    "\n",
    "    def get_speed(self):\n",
    "        return self.__speed\n",
    "\n",
    "\n",
    "# Usage\n",
    "m = Machine(100)\n",
    "m.set_speed(50)  # Machine speed set to 50\n",
    "m.set_speed(150)  # Error: speed must be between 0 and 100"
   ]
  }
 ],
 "metadata": {
  "kernelspec": {
   "display_name": "engr131_dev",
   "language": "python",
   "name": "python3"
  },
  "language_info": {
   "codemirror_mode": {
    "name": "ipython",
    "version": 3
   },
   "file_extension": ".py",
   "mimetype": "text/x-python",
   "name": "python",
   "nbconvert_exporter": "python",
   "pygments_lexer": "ipython3",
   "version": "3.12.7"
  }
 },
 "nbformat": 4,
 "nbformat_minor": 5
}
