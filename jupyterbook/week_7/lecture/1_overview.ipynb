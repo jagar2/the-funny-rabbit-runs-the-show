{
 "cells": [
  {
   "cell_type": "markdown",
   "id": "0",
   "metadata": {},
   "source": [
    "# 📝 🚀 Object-Oriented Programming (OOP) in Python\n",
    "\n",
    "![Python OOP](./assets/figures/beavis-beavis-and-butthead-cp.gif)"
   ]
  },
  {
   "cell_type": "markdown",
   "id": "1",
   "metadata": {},
   "source": [
    "## Welcome & Overview\n",
    "\n",
    "Object-oriented programming allows you to code like an engineer, you can break problems into small parts and solve them one by one. This is a very powerful way to write code, and it's the way most professional programmers write code.\n"
   ]
  },
  {
   "cell_type": "markdown",
   "id": "2",
   "metadata": {},
   "source": [
    "1. Engineering Context\n",
    "- In mechanical, electrical, or industrial systems, well-structured software design is critical for reliability and scalability.\n",
    "- OOP provides a systematic approach to model complex engineering processes (robotic arms, conveyor lines, control systems).\n"
   ]
  },
  {
   "cell_type": "markdown",
   "id": "3",
   "metadata": {},
   "source": [
    "2. Why OOP Matters in Engineering\n",
    "- Modularity: Keep hardware interface code, logic, and data well-organized.\n",
    "- Scalability: As systems grow in complexity (more sensors, more machines), OOP architectures scale more gracefully.\n"
   ]
  },
  {
   "cell_type": "markdown",
   "id": "4",
   "metadata": {},
   "source": [
    "## OOP and the Engineering Analogy\n",
    "    - Classes are like blueprints in engineering:\n",
    "        - Define the shape, structure, and potential behaviors.\n",
    "    - Objects are actual machines or components built from those blueprints.\n"
   ]
  },
  {
   "cell_type": "markdown",
   "id": "5",
   "metadata": {},
   "source": [
    "### Example\n",
    "- A `RobotArm` class might define the dimensions, motor details, and control functions.\n",
    "- Each object is a specific robotic arm installed on the production floor with its own parameters (e.g., arm length, motor torque).\n"
   ]
  },
  {
   "cell_type": "markdown",
   "id": "6",
   "metadata": {},
   "source": [
    "## What is OOP? 🤖\n",
    "> OOP organizes real-world entities in code via classes and objects.\n",
    "\n",
    "Key Benefits in Engineering\n",
    "- Clean Architecture: Clear boundaries between software modules (e.g., sensor data handling, actuator control).\n",
    "- Maintainability: System components can be updated or replaced with minimal impact on the rest of the system.\n",
    "- Testability: Classes can be unit-tested individually, which is critical in safety-critical engineering applications.\n",
    "\n",
    "Sample Code"
   ]
  },
  {
   "cell_type": "code",
   "execution_count": null,
   "id": "7",
   "metadata": {},
   "outputs": [],
   "source": [
    "class Machine:\n",
    "    def __init__(self, name, operator):\n",
    "        self.name = name\n",
    "        self.operator = operator\n",
    "\n",
    "    def operate(self):\n",
    "        return f\"Machine '{self.name}' operated by {self.operator} is running.\"\n",
    "\n",
    "\n",
    "machine_a = Machine(\"Hydraulic Press\", \"Alice\")\n",
    "machine_b = Machine(\"Laser Cutter\", \"Bob\")\n",
    "\n",
    "print(machine_a.operate())\n",
    "print(machine_b.operate())"
   ]
  },
  {
   "cell_type": "markdown",
   "id": "8",
   "metadata": {},
   "source": [
    "## Four Pillars of OOP — Overview"
   ]
  },
  {
   "cell_type": "markdown",
   "id": "9",
   "metadata": {},
   "source": [
    "1. Encapsulation – Hiding internal details (like embedded controller internals)."
   ]
  },
  {
   "cell_type": "markdown",
   "id": "10",
   "metadata": {},
   "source": [
    "2. Inheritance – Building specialized machines from a base machine blueprint."
   ]
  },
  {
   "cell_type": "markdown",
   "id": "11",
   "metadata": {},
   "source": [
    "3. Polymorphism – Common methods that behave differently for varied components (e.g., different sensors)."
   ]
  },
  {
   "cell_type": "markdown",
   "id": "12",
   "metadata": {},
   "source": [
    "4. Abstraction – Providing a simplified interface to complex systems (e.g., a single API for controlling multiple machine types).\n",
    "\n",
    "Polymorphism and Abstraction you can think of like an on button. You can have on button actions for a lot of different machines, but they all do different things."
   ]
  },
  {
   "cell_type": "markdown",
   "id": "13",
   "metadata": {},
   "source": [
    "## Encapsulation 🤐\n",
    "Engineering Analogy:\n",
    "- Think of encapsulation like hiding sensitive internal schematics or proprietary control algorithms.\n",
    "- Only expose external interfaces needed to operate or monitor the machine, keeping the implementation protected.\n",
    "\n",
    "Code Example"
   ]
  },
  {
   "cell_type": "code",
   "execution_count": null,
   "id": "14",
   "metadata": {},
   "outputs": [],
   "source": [
    "class MotorController:\n",
    "    def __init__(self):\n",
    "        self.__firmware_version = \"v3.14\"  # Private detail\n",
    "\n",
    "    def get_firmware_info(self):\n",
    "        return \"Firmware details are restricted to authorized personnel.\""
   ]
  },
  {
   "cell_type": "code",
   "execution_count": null,
   "id": "15",
   "metadata": {},
   "outputs": [],
   "source": [
    "# Python doesn't enforce privacy strictly, but name-mangling is a common convention:\n",
    "controller = MotorController()\n",
    "# This will still work (though discouraged):\n",
    "print(controller._MotorController__firmware_version)  # \"v3.14\""
   ]
  },
  {
   "cell_type": "markdown",
   "id": "16",
   "metadata": {},
   "source": [
    "\n",
    "Key Takeaway\n",
    "- Encapsulation maintains system integrity: internal states and methods remain controlled, preventing accidental misuse.\n",
    "- a user is must less likely to accidently change _something than something itself.  \n"
   ]
  },
  {
   "cell_type": "markdown",
   "id": "17",
   "metadata": {},
   "source": [
    "## Inheritance 👶\n",
    "Engineering Analogy:\n",
    "- A Base Robot class might define universal properties (e.g., number of axes, control loops).\n",
    "- Specialized Robots (like welding robots or painting robots) inherit and extend the base class.\n",
    "\n",
    "Code Example"
   ]
  },
  {
   "cell_type": "code",
   "execution_count": null,
   "id": "18",
   "metadata": {},
   "outputs": [],
   "source": [
    "class BaseMachine:\n",
    "    def __init__(self, name):\n",
    "        self.name = name\n",
    "\n",
    "    def operate(self):\n",
    "        return f\"Machine '{self.name}' is operating in a basic mode.\"\n",
    "\n",
    "\n",
    "class CNC_Machine(BaseMachine):\n",
    "    def __init__(self):\n",
    "        super().__init__(\"CNC Machine\")\n",
    "\n",
    "    def operate(self):\n",
    "        return super().operate() + \" (Executing CNC-specific routines.)\"\n",
    "\n",
    "\n",
    "cnc = CNC_Machine()\n",
    "print(cnc.operate())"
   ]
  },
  {
   "cell_type": "markdown",
   "id": "19",
   "metadata": {},
   "source": [
    "\n",
    "Key Takeaway\n",
    "- `super()` lets the derived class reuse and extend parent functionality.\n",
    "- In large engineering systems, inheritance avoids rewriting shared functionality.\n"
   ]
  },
  {
   "cell_type": "markdown",
   "id": "20",
   "metadata": {},
   "source": [
    "## Polymorphism 🎭\n",
    "Engineering Analogy:\n",
    "- Different sensors (temperature, pressure, flow) can each implement a `read_data()` method.\n",
    "- The controlling system calls `sensor.read_data()` without worrying about sensor internals.\n",
    "\n",
    "Code Example"
   ]
  },
  {
   "cell_type": "code",
   "execution_count": null,
   "id": "21",
   "metadata": {},
   "outputs": [],
   "source": [
    "class TemperatureSensor:\n",
    "    def read_data(self):\n",
    "        return \"Temperature data in °C\"\n",
    "\n",
    "\n",
    "class PressureSensor:\n",
    "    def read_data(self):\n",
    "        return \"Pressure data in bar\"\n",
    "\n",
    "\n",
    "def perform_reading(sensor):\n",
    "    print(sensor.read_data())\n",
    "\n",
    "\n",
    "temp_sensor = TemperatureSensor()\n",
    "press_sensor = PressureSensor()\n",
    "\n",
    "perform_reading(temp_sensor)  # Temperature data in °C\n",
    "perform_reading(press_sensor)  # Pressure data in bar"
   ]
  },
  {
   "cell_type": "markdown",
   "id": "22",
   "metadata": {},
   "source": [
    "\n",
    "Key Takeaway\n",
    "- Polymorphism supports extensibility: new device types can be added without modifying existing code.\n"
   ]
  },
  {
   "cell_type": "markdown",
   "id": "23",
   "metadata": {},
   "source": [
    "## Abstraction 🕵️‍♂️\n",
    "> “Just give me a single control API; don’t worry about the details.”\n",
    "\n",
    "Engineering Analogy:\n",
    "- A factory automation system might define a general `MachineInterface`.\n",
    "- Individual machine types (e.g., conveyor belts, robotic arms, CNCs) implement the abstract functions differently.\n",
    "\n",
    "Code Example"
   ]
  },
  {
   "cell_type": "code",
   "execution_count": null,
   "id": "24",
   "metadata": {},
   "outputs": [],
   "source": [
    "from abc import ABC, abstractmethod\n",
    "\n",
    "\n",
    "class MachineInterface(ABC):\n",
    "    @abstractmethod\n",
    "    def start(self):\n",
    "        pass\n",
    "\n",
    "\n",
    "class ConveyorBelt(MachineInterface):\n",
    "    def start(self):\n",
    "        return \"Conveyor Belt running at 1.5 m/s\"\n",
    "\n",
    "\n",
    "class RoboticArm(MachineInterface):\n",
    "    def start(self):\n",
    "        return \"Robotic Arm initialized with 6 degrees of freedom\"\n",
    "\n",
    "\n",
    "def initialize_machine(machine):\n",
    "    print(machine.start())\n",
    "\n",
    "\n",
    "conveyor = ConveyorBelt()\n",
    "roboticarm = RoboticArm()\n",
    "\n",
    "initialize_machine(conveyor)  # Conveyor Belt running at 1.5 m/s\n",
    "initialize_machine(roboticarm)  # Robotic Arm initialized with 6 degrees of freedom"
   ]
  },
  {
   "cell_type": "markdown",
   "id": "25",
   "metadata": {},
   "source": [
    "\n",
    "Key Takeaway\n",
    "- Abstraction enforces a standard interface for different subclasses, streamlining operations in large facilities.\n"
   ]
  },
  {
   "cell_type": "markdown",
   "id": "26",
   "metadata": {},
   "source": [
    "## OOP in Real-World Engineering\n",
    "- Encapsulation\n",
    "    - PLCs (Programmable Logic Controllers) often have protected internal logic, with only certain parameters modifiable.\n",
    "- Inheritance\n",
    "    - Base class for sensor types; specialized classes for temperature, pressure, or motion sensors.\n",
    "- Polymorphism\n",
    "    - A universal `read()` method used by different sensor or actuator classes.\n",
    "- Abstraction\n",
    "    - High-level “start_machine()” API used by operators, hiding the underlying complexities of each subsystem.\n",
    "\n",
    "Why Engineers Care\n",
    "    - Reduces duplication in massive codebases for industrial systems.\n",
    "    - Eases maintenance and upgrades—add new machinery or sensors without breaking existing logic.\n"
   ]
  },
  {
   "cell_type": "markdown",
   "id": "27",
   "metadata": {},
   "source": [
    "##  Recap — Engineering Edition\n",
    "| OOP Concept   | Engineering Analogy                      | Benefit                                      |\n",
    "|-------------------|----------------------------------------------|--------------------------------------------------|\n",
    "| Encapsulation | Hiding internal controller details           | Controlled data access, better safety           |\n",
    "| Inheritance   | Specialized robots from a base robot class   | Shared functionality, easy extension            |\n",
    "| Polymorphism  | Common interface for different sensor types  | Uniform handling, flexible system integration   |\n",
    "| Abstraction   | Single control API for varied machine types  | Simpler user interface, hides complexity        |\n"
   ]
  }
 ],
 "metadata": {
  "kernelspec": {
   "display_name": "engr131_dev",
   "language": "python",
   "name": "python3"
  },
  "language_info": {
   "codemirror_mode": {
    "name": "ipython",
    "version": 3
   },
   "file_extension": ".py",
   "mimetype": "text/x-python",
   "name": "python",
   "nbconvert_exporter": "python",
   "pygments_lexer": "ipython3",
   "version": "3.12.7"
  }
 },
 "nbformat": 4,
 "nbformat_minor": 5
}
