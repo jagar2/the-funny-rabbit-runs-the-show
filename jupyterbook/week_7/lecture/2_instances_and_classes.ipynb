{
 "cells": [
  {
   "cell_type": "markdown",
   "id": "0",
   "metadata": {},
   "source": [
    "#📝 Introduction to Classes and Instances in Python 🚀📚\n",
    "\n",
    "![](./assets/figures/What-Should-I-Name-My-Class---Funny-Programming-Jokes---Comics---Fun.png)\n",
    "\n",
    "In Python (and many other languages), classes and instances form the backbone of object-oriented programming. "
   ]
  },
  {
   "cell_type": "markdown",
   "id": "1",
   "metadata": {},
   "source": [
    "## What Is a Class?\n",
    "\n",
    "A class is a blueprint or template for creating objects. It defines:\n",
    "\n",
    "- Attributes (data) that describe the object.\n",
    "- Methods (functions) that define the object's behaviors or actions.\n",
    "\n",
    "_Key idea:_ A class is not an actual thing in the program; it's the “plan” from which objects are built.\n"
   ]
  },
  {
   "cell_type": "markdown",
   "id": "2",
   "metadata": {},
   "source": [
    "### Class Example\n"
   ]
  },
  {
   "cell_type": "code",
   "execution_count": null,
   "id": "3",
   "metadata": {},
   "outputs": [],
   "source": [
    "class Vehicle:\n",
    "    def __init__(self, make, model):\n",
    "        self.make = make\n",
    "        self.model = model\n",
    "\n",
    "    def start_engine(self):\n",
    "        print(f\"{self.make} {self.model} engine started!\")"
   ]
  },
  {
   "cell_type": "markdown",
   "id": "4",
   "metadata": {},
   "source": [
    "In this example:\n",
    "\n",
    "- `init` is the constructor that defines how each Vehicle object is initialized.\n",
    "- `start_engine` is a method available to every Vehicle object.\n"
   ]
  },
  {
   "cell_type": "markdown",
   "id": "5",
   "metadata": {},
   "source": [
    "## What Is an Instance?\n",
    "\n",
    "An instance (or object) is a specific realization of a class. It contains actual data in its attributes and can call the class methods.\n"
   ]
  },
  {
   "cell_type": "markdown",
   "id": "6",
   "metadata": {},
   "source": [
    "### Instance Example\n"
   ]
  },
  {
   "cell_type": "code",
   "execution_count": null,
   "id": "7",
   "metadata": {},
   "outputs": [],
   "source": [
    "my_car = Vehicle(\"Toyota\", \"Corolla\")\n",
    "my_car.start_engine()"
   ]
  },
  {
   "cell_type": "markdown",
   "id": "8",
   "metadata": {},
   "source": [
    "\n",
    "- `my_car` is an instance of the `Vehicle` class.\n",
    "- It has `make = \"Toyota\"` and `model = \"Corolla\"`.\n",
    "- Calling `my_car.start_engine()` will print \"Toyota Corolla engine started!\".\n"
   ]
  },
  {
   "cell_type": "markdown",
   "id": "9",
   "metadata": {},
   "source": [
    "## Accessing Attributes and Methods\n",
    "\n",
    "Once you create an instance, you can:\n",
    "\n",
    "- Read or modify its attributes.\n",
    "- Invoke its methods.\n"
   ]
  },
  {
   "cell_type": "code",
   "execution_count": null,
   "id": "10",
   "metadata": {},
   "outputs": [],
   "source": [
    "my_car.model = \"Camry\"  # Changing the model\n",
    "print(my_car.model)  # Prints \"Camry\"\n",
    "my_car.start_engine()  # Prints \"Toyota Camry engine started!\""
   ]
  },
  {
   "cell_type": "markdown",
   "id": "11",
   "metadata": {},
   "source": [
    "## Multiple Instances\n",
    "\n",
    "Each instance has its own unique set of attribute values. For example:\n"
   ]
  },
  {
   "cell_type": "code",
   "execution_count": null,
   "id": "12",
   "metadata": {},
   "outputs": [],
   "source": [
    "car_a = Vehicle(\"Honda\", \"Civic\")\n",
    "car_b = Vehicle(\"Ford\", \"Focus\")\n",
    "\n",
    "car_a.start_engine()  # \"Honda Civic engine started!\"\n",
    "car_b.start_engine()  # \"Ford Focus engine started!\""
   ]
  },
  {
   "cell_type": "markdown",
   "id": "13",
   "metadata": {},
   "source": [
    "\n",
    "They are both Vehicles, but their data differs (`make` and `model`), and they behave independently.\n"
   ]
  },
  {
   "cell_type": "markdown",
   "id": "14",
   "metadata": {},
   "source": [
    "## Why Classes and Instances?\n"
   ]
  },
  {
   "cell_type": "markdown",
   "id": "15",
   "metadata": {},
   "source": [
    "1. Organization\n",
    "Group data (attributes) and behavior (methods) in one logical unit.\n"
   ]
  },
  {
   "cell_type": "markdown",
   "id": "16",
   "metadata": {},
   "source": [
    "2. Reusability\n",
    "Create multiple instances from a single class definition without duplicating code.\n"
   ]
  },
  {
   "cell_type": "markdown",
   "id": "17",
   "metadata": {},
   "source": [
    "3. Maintainability\n",
    "Changing the class definition automatically applies the update to all instances.\n"
   ]
  }
 ],
 "metadata": {
  "kernelspec": {
   "display_name": "engr131_dev",
   "language": "python",
   "name": "python3"
  },
  "language_info": {
   "codemirror_mode": {
    "name": "ipython",
    "version": 3
   },
   "file_extension": ".py",
   "mimetype": "text/x-python",
   "name": "python",
   "nbconvert_exporter": "python",
   "pygments_lexer": "ipython3",
   "version": "3.12.7"
  }
 },
 "nbformat": 4,
 "nbformat_minor": 5
}
