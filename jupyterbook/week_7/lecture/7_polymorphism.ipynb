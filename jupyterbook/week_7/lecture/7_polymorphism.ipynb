{
 "cells": [
  {
   "cell_type": "markdown",
   "id": "0",
   "metadata": {},
   "source": [
    "# 📝 Polymorphism in Python 🐍\n",
    "\n",
    "Polymorphism is an OOP concept where the same interface can lead to different implementations across multiple classes. It allows you to write flexible, extensible code that can handle different object types in a uniform way.\n"
   ]
  },
  {
   "cell_type": "markdown",
   "id": "1",
   "metadata": {},
   "source": [
    "## What Is Polymorphism?\n"
   ]
  },
  {
   "cell_type": "markdown",
   "id": "2",
   "metadata": {},
   "source": [
    "1. Definition: The ability of objects of different classes to respond to the same function or method call in different ways."
   ]
  },
  {
   "cell_type": "markdown",
   "id": "3",
   "metadata": {},
   "source": [
    "2. Purpose: Write generalized code that works with diverse objects, without needing type checks or separate logic paths.\n"
   ]
  },
  {
   "cell_type": "markdown",
   "id": "4",
   "metadata": {},
   "source": [
    "## Polymorphism with Class Methods\n"
   ]
  },
  {
   "cell_type": "markdown",
   "id": "5",
   "metadata": {},
   "source": [
    "### Example: A `speak()` Method in Different Animal Classes\n"
   ]
  },
  {
   "cell_type": "code",
   "execution_count": null,
   "id": "6",
   "metadata": {},
   "outputs": [],
   "source": [
    "class Animal:\n",
    "    def speak(self):\n",
    "        return \"Some generic sound\"\n",
    "\n",
    "\n",
    "class Dog(Animal):\n",
    "    def speak(self):\n",
    "        return \"Bark!\"\n",
    "\n",
    "\n",
    "class Cat(Animal):\n",
    "    def speak(self):\n",
    "        return \"Meow!\"\n",
    "\n",
    "\n",
    "def make_sound(animal):\n",
    "    print(animal.speak())\n",
    "\n",
    "\n",
    "dog = Dog()\n",
    "cat = Cat()\n",
    "\n",
    "make_sound(dog)  # \"Bark!\"\n",
    "make_sound(cat)  # \"Meow!\""
   ]
  },
  {
   "cell_type": "markdown",
   "id": "7",
   "metadata": {},
   "source": [
    "\n",
    "Key Points\n",
    "- Both `Dog` and `Cat` share the same method name (`speak()`), but each has a distinct implementation.\n",
    "- `make_sound()` doesn’t care whether `animal` is a `Dog` or `Cat`—it just calls `animal.speak()`.\n"
   ]
  },
  {
   "cell_type": "markdown",
   "id": "8",
   "metadata": {},
   "source": [
    "## Polymorphism with Built-In Functions\n",
    "\n",
    "Python’s built-in functions (e.g., `len()`, `sum()`) are designed to be polymorphic. You can implement magic methods (a.k.a. dunder methods) in your classes to extend these functions’ behavior to custom objects.\n"
   ]
  },
  {
   "cell_type": "code",
   "execution_count": null,
   "id": "9",
   "metadata": {},
   "outputs": [],
   "source": [
    "class CustomList:\n",
    "    def __init__(self, items):\n",
    "        self.items = items\n",
    "\n",
    "    def __len__(self):\n",
    "        return len(self.items)\n",
    "\n",
    "\n",
    "my_list = CustomList([1, 2, 3, 4])\n",
    "print(len(my_list))  # 4"
   ]
  },
  {
   "cell_type": "markdown",
   "id": "10",
   "metadata": {},
   "source": [
    "\n",
    "Key Points\n",
    "- Different classes can implement `len()` to customize how `len()` behaves.\n",
    "- Polymorphism ensures `len(obj)` will work regardless of the specific class implementing it, as long as `len()` is provided.\n"
   ]
  },
  {
   "cell_type": "markdown",
   "id": "11",
   "metadata": {},
   "source": [
    "## Polymorphism in Inheritance Hierarchies\n",
    "\n",
    "Polymorphism commonly appears with inheritance, where child classes override methods defined in a parent class. The calling code doesn’t need to know the child’s type—just that it implements the method.\n"
   ]
  },
  {
   "cell_type": "markdown",
   "id": "12",
   "metadata": {},
   "source": [
    "### Example: A Geometry Scenario\n"
   ]
  },
  {
   "cell_type": "code",
   "execution_count": null,
   "id": "13",
   "metadata": {},
   "outputs": [],
   "source": [
    "class Shape:\n",
    "    def area(self):\n",
    "        raise NotImplementedError(\"Must be implemented by subclasses\")\n",
    "\n",
    "\n",
    "class Circle(Shape):\n",
    "    def __init__(self, radius):\n",
    "        self.radius = radius\n",
    "\n",
    "    def area(self):\n",
    "        return 3.14159 * (self.radius**2)\n",
    "\n",
    "\n",
    "class Rectangle(Shape):\n",
    "    def __init__(self, width, height):\n",
    "        self.width = width\n",
    "        self.height = height\n",
    "\n",
    "    def area(self):\n",
    "        return self.width * self.height\n",
    "\n",
    "\n",
    "shapes = [Circle(5), Rectangle(3, 4)]\n",
    "for shape in shapes:\n",
    "    print(shape.area())  # Different calculations, same .area() interface"
   ]
  },
  {
   "cell_type": "markdown",
   "id": "14",
   "metadata": {},
   "source": [
    "\n",
    "Key Points\n",
    "- Both `Circle` and `Rectangle` share the `.area()` method name.\n",
    "- Looping through `shapes` calls `.area()` on each object, returning distinct results based on the shape type.\n"
   ]
  },
  {
   "cell_type": "markdown",
   "id": "15",
   "metadata": {},
   "source": [
    "## Polymorphism in Everyday Code\n"
   ]
  },
  {
   "cell_type": "markdown",
   "id": "16",
   "metadata": {},
   "source": [
    "1. File Handling\n",
    "    - `file_object.read()` can be any file-like object (text file, binary file, network stream) but they all support a `read()` method."
   ]
  },
  {
   "cell_type": "markdown",
   "id": "17",
   "metadata": {},
   "source": [
    "2. Collections\n",
    "    - `for x in collection:` works for lists, sets, dictionaries, and custom iterable classes, thanks to the `iter()` protocol."
   ]
  },
  {
   "cell_type": "markdown",
   "id": "18",
   "metadata": {},
   "source": [
    "3. Operator Overloading\n",
    "    - `a + b` can mean integer addition, float addition, string concatenation, or even custom vector addition depending on the operands’ types.\n"
   ]
  },
  {
   "cell_type": "markdown",
   "id": "19",
   "metadata": {},
   "source": [
    "## Duck Typing in Python\n",
    "\n",
    "![](./assets/figures/duck-typing-daffy.gif)\n",
    "\n",
    "- Concept: “If it walks like a duck and quacks like a duck, it’s a duck.”\n",
    "- Python uses duck typing, meaning if an object implements the required methods or attributes, it can be treated as a “duck” (or any other type in question).\n"
   ]
  },
  {
   "cell_type": "code",
   "execution_count": null,
   "id": "20",
   "metadata": {},
   "outputs": [],
   "source": [
    "class Duck:\n",
    "    def quack(self):\n",
    "        return \"Quack!\"\n",
    "\n",
    "\n",
    "class Person:\n",
    "    def quack(self):\n",
    "        return \"I can do a duck impression!\"\n",
    "\n",
    "\n",
    "def make_it_quack(entity):\n",
    "    print(entity.quack())\n",
    "\n",
    "\n",
    "d = Duck()\n",
    "p = Person()\n",
    "make_it_quack(d)  # \"Quack!\"\n",
    "make_it_quack(p)  # \"I can do a duck impression!\""
   ]
  },
  {
   "cell_type": "markdown",
   "id": "21",
   "metadata": {},
   "source": [
    "## Why Polymorphism Matters\n"
   ]
  },
  {
   "cell_type": "markdown",
   "id": "22",
   "metadata": {},
   "source": [
    "1. Code Reuse\n",
    "    - Write one function (`make_sound()`, `calculate_area()`) that works for various objects."
   ]
  },
  {
   "cell_type": "markdown",
   "id": "23",
   "metadata": {},
   "source": [
    "2. Flexibility\n",
    "    - Add new classes later without modifying existing logic, as long as you respect the expected interface."
   ]
  },
  {
   "cell_type": "markdown",
   "id": "24",
   "metadata": {},
   "source": [
    "3. Clean Architecture\n",
    "    - No “giant switch statements” or type checks needed—objects handle their own functionality.\n"
   ]
  },
  {
   "cell_type": "markdown",
   "id": "25",
   "metadata": {},
   "source": [
    "## Best Practices\n"
   ]
  },
  {
   "cell_type": "markdown",
   "id": "26",
   "metadata": {},
   "source": [
    "1. Consistent Method Names\n",
    "    - Ensure all classes that participate in a polymorphic operation use the same method name and parameters."
   ]
  },
  {
   "cell_type": "markdown",
   "id": "27",
   "metadata": {},
   "source": [
    "2. Interfaces & Abstract Base Classes (Optional in Python)\n",
    "    - Define an abstract class (using `abc` module) to specify required methods, ensuring all child classes provide them."
   ]
  },
  {
   "cell_type": "markdown",
   "id": "28",
   "metadata": {},
   "source": [
    "3. Avoid Unnecessary Type Checks\n",
    "    - Trust that if an object implements the method, you can call it (duck typing)."
   ]
  },
  {
   "cell_type": "markdown",
   "id": "29",
   "metadata": {},
   "source": [
    "4. Test Each Implementation\n",
    "    - Verify that each class correctly fulfills the interface’s contract (e.g., `.area()` returns correct geometry).\n"
   ]
  },
  {
   "cell_type": "markdown",
   "id": "30",
   "metadata": {},
   "source": [
    "\n",
    "With polymorphism, your code remains elegant, extensible, and maintains a consistent interface across multiple class implementations.\n",
    "```"
   ]
  }
 ],
 "metadata": {
  "kernelspec": {
   "display_name": "engr131_dev",
   "language": "python",
   "name": "python3"
  },
  "language_info": {
   "codemirror_mode": {
    "name": "ipython",
    "version": 3
   },
   "file_extension": ".py",
   "mimetype": "text/x-python",
   "name": "python",
   "nbconvert_exporter": "python",
   "pygments_lexer": "ipython3",
   "version": "3.12.7"
  }
 },
 "nbformat": 4,
 "nbformat_minor": 5
}
