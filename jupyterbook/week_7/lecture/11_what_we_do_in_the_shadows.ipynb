{
 "cells": [
  {
   "cell_type": "code",
   "execution_count": null,
   "id": "0",
   "metadata": {
    "deletable": false,
    "editable": false,
    "tags": [
     "skip-execution"
    ]
   },
   "outputs": [],
   "source": [
    "# You must make sure to run all cells in sequence using shift + enter or you might encounter errors\n",
    "from pykubegrader.initialize import initialize_assignment\n",
    "\n",
    "responses = initialize_assignment(\"11_what_we_do_in_the_shadows\", \"week_7\", \"lecturenotgraded\", assignment_points = 20.0, assignment_tag = 'week7-lecturenotgraded')\n",
    "\n",
    "# Initialize Otter\n",
    "import otter\n",
    "grader = otter.Notebook(\"11_what_we_do_in_the_shadows.ipynb\")"
   ]
  },
  {
   "cell_type": "markdown",
   "id": "1",
   "metadata": {
    "deletable": false,
    "editable": false
   },
   "source": [
    "# 💻🦇 What We Code in the Shadows 💀💻\n",
    "\n",
    "<iframe width=\"560\" height=\"315\" src=\"https://www.youtube.com/embed/IAZEWtyhpes?si=GaEVwjXbsumpmnSc\" title=\"YouTube video player\" frameborder=\"0\" allow=\"accelerometer; autoplay; clipboard-write; encrypted-media; gyroscope; picture-in-picture; web-share\" referrerpolicy=\"strict-origin-when-cross-origin\" allowfullscreen></iframe>\n",
    "\n",
    "The Vampire Council (yes, the same one from *What We Do in the Shadows* 🦇) has grown tired of inefficient blood-tracking methods—sticky notes on coffins and carved messages into castle walls just don’t cut it anymore.\n",
    "\n",
    "They need a modern Python-based blood registry to track the different vampire species in their coven and determine when it's safe to go outside. You, a newly turned vampire (congrats? 😬), have been given the task of coding it.\n",
    "\n",
    "![](./assets/figures/ae_movie-what-we-do-in-the-shadows-3.18.jpg)\n"
   ]
  },
  {
   "cell_type": "markdown",
   "id": "2",
   "metadata": {
    "deletable": false,
    "editable": false
   },
   "source": [
    "## 🎯 Your Mission (If You Choose to Accept It… You Don’t Really Have a Choice)\n",
    "\n",
    "Implement a class hierarchy that properly represents different vampire types while enforcing ancient vampire laws using:\n",
    "\n",
    "- 🦴 Abstract Classes (Because Some Things Should Never Be Instantiated)\n",
    "- 🧪 Static Methods (Because We Don’t Do Unnecessary Object Creation)\n",
    "- 🧛 Multiple Inheritance (Because Real Vampires Have Layers)\n"
   ]
  },
  {
   "cell_type": "markdown",
   "id": "3",
   "metadata": {
    "deletable": false,
    "editable": false
   },
   "source": [
    "## 📝 Coding Rules of the Vampire Council\n"
   ]
  },
  {
   "cell_type": "markdown",
   "id": "4",
   "metadata": {
    "deletable": false,
    "editable": false
   },
   "source": [
    "1. Create an abstract class `Vampire` 🦇 with:\n",
    "\n",
    "- An abstract method `feed()`, which MUST be implemented by all subclasses.\n",
    "- A class attribute `coven` (a list) to keep track of all vampires.\n",
    "- A constructor that takes `name` and adds the vampire to `coven`.\n"
   ]
  },
  {
   "cell_type": "markdown",
   "id": "5",
   "metadata": {
    "deletable": false,
    "editable": false
   },
   "source": [
    "1. Create a mixin `NightCreature` 🌙 with:\n",
    "\n",
    "- A static method `is_night(time: int) -> bool` that returns `True` if it's nighttime (18-6), otherwise `False`. (Because burning alive is a huge inconvenience.)\n"
   ]
  },
  {
   "cell_type": "markdown",
   "id": "6",
   "metadata": {
    "deletable": false,
    "editable": false
   },
   "source": [
    "1. Create three vampire subclasses 🧛:\n",
    "\n",
    "- `Nosferatu` 🦴: Creepy, silent, and way too old. Implements `feed()` and prints `\"Nosferatu {name} lurks in the basement and drinks ancient blood 🩸.\"`\n",
    "- `FancyVampire` 🍷: Think Laszlo and Nadja—elegant, dramatic, and refusing to eat peasant blood. Implements `feed()` and prints `\"Fancy Vampire {name} swirls a glass of Type O- 🍷 and complains about peasant blood.\"`\n",
    "- `EnergyVampire` 🔋: Like Colin Robinson, these vampires don’t drink blood—they drain life by boring people. Implements `feed()` and prints `\"Energy Vampire {name} starts a 2-hour lecture on tax law 📄 and drains the room.\"`\n",
    "- All vampires should inherit from `Vampire` and `NightCreature`.\n"
   ]
  },
  {
   "cell_type": "markdown",
   "id": "7",
   "metadata": {
    "deletable": false,
    "editable": false
   },
   "source": [
    "1. Test the system ✅:\n",
    "\n",
    "- Create three vampires (`Nosferatu(\"Petyr\")`, `FancyVampire(\"Laszlo\")`, `EnergyVampire(\"Colin Robinson\")`).\n",
    "- Call `.feed()` on each.\n",
    "- Check if `is_night(20)` and `is_night(10)` return the correct results.\n",
    "- Print the entire coven list.\n"
   ]
  },
  {
   "cell_type": "markdown",
   "id": "8",
   "metadata": {
    "deletable": false,
    "editable": false
   },
   "source": [
    "## 🏆 Expected Output\n",
    "\n",
    "```python\n",
    "Nosferatu Petyr lurks in the basement and drinks ancient blood 🩸.\n",
    "Fancy Vampire Laszlo swirls a glass of Type O- 🍷 and complains about peasant blood.\n",
    "Energy Vampire Colin Robinson starts a 2-hour lecture on tax law 📄 and drains the room.\n",
    "True\n",
    "False\n",
    "['Petyr', 'Laszlo', 'Colin Robinson']\n",
    "```"
   ]
  },
  {
   "cell_type": "code",
   "execution_count": null,
   "id": "9",
   "metadata": {
    "tags": [
     "skip-execution"
    ]
   },
   "outputs": [],
   "source": [
    "# Import from the abc module ABC and abstractmethod\n",
    "...\n",
    "\n",
    "# 🦇 Abstract base class for all vampires\n",
    "# build the Vampire class as an abstract base class with an abstract method feed\n",
    "...\n",
    "\n",
    "    # define a class variable coven as an empty list\n",
    "    ...\n",
    "\n",
    "    # define an __init__ method that takes a name parameter\n",
    "    # and sets the name attribute to the value of the name parameter\n",
    "    # and appends the name to the coven list\n",
    "    ...\n",
    "\n",
    "    # define an abstract method feed\n",
    "    ...\n",
    "\n",
    "\n",
    "# 🌙 Mixin class to determine if it's night\n",
    "# build the NightCreature class with a static method is_night that takes a time parameter\n",
    "# and returns True if the time is between 18 and 06 (nighttime)\n",
    "...\n",
    "\n",
    "# 🦴 Nosferatu: Creepy, terrifying, and socially awkward\n",
    "# build the Nosferatu class that inherits from Vampire and NightCreature\n",
    "# make the Nosferatu class feed method print a message: \"Nosferatu {name} lurks in the basement and drinks ancient blood 🩸.\"\n",
    "...\n",
    "\n",
    "\n",
    "# 🍷 Fancy Vampire: Lives for drama and expensive blood\n",
    "# build the FancyVampire class that inherits from Vampire and NightCreature\n",
    "# make the FancyVampire class feed method print a message: \"Fancy Vampire {name} swirls a glass of Type O- 🍷 and complains about peasant blood.\"\"\n",
    "...\n",
    "\n",
    "# 🔋 Energy Vampire: The real horror\n",
    "# Build the EnergyVampire class that inherits from Vampire and NightCreature\n",
    "# make the EnergyVampire class feed method print a message: \"Energy Vampire {name} starts a 2-hour lecture on tax law 📄 and drains the room.\"\n",
    "...\n",
    "\n",
    "# ✅ Test cases\n",
    "petyr = Nosferatu(\"Petyr\")\n",
    "laszlo = FancyVampire(\"Laszlo\")\n",
    "colin = EnergyVampire(\"Colin Robinson\")\n",
    "\n",
    "# Vampires feeding\n",
    "petyr.feed()\n",
    "laszlo.feed()\n",
    "colin.feed()\n",
    "\n",
    "# Checking night-time status\n",
    "print(NightCreature.is_night(20))  # True 🌙\n",
    "print(NightCreature.is_night(10))  # False ☀️\n",
    "\n",
    "# Checking the coven\n",
    "print(Vampire.coven)  # ['Petyr', 'Laszlo', 'Colin Robinson']"
   ]
  },
  {
   "cell_type": "code",
   "execution_count": null,
   "id": "10",
   "metadata": {
    "deletable": false,
    "editable": false,
    "tags": [
     "skip-execution"
    ]
   },
   "outputs": [],
   "source": [
    "grader.check(\"what-we-do-in the-shadows\")"
   ]
  },
  {
   "cell_type": "markdown",
   "id": "11",
   "metadata": {},
   "source": [
    "## Submitting Assignment\n",
    "\n",
    "Please run the following block of code using `shift + enter` to submit your assignment, you should see your score."
   ]
  },
  {
   "cell_type": "code",
   "execution_count": null,
   "id": "12",
   "metadata": {
    "deletable": false,
    "editable": true,
    "tags": [
     "skip-execution"
    ]
   },
   "outputs": [],
   "source": [
    "from pykubegrader.submit.submit_assignment import submit_assignment\n",
    "\n",
    "submit_assignment(\"week7-lecturenotgraded\", \"11_what_we_do_in_the_shadows\")"
   ]
  }
 ],
 "metadata": {
  "kernelspec": {
   "display_name": "Python 3",
   "language": "python",
   "name": "python3"
  },
  "language_info": {
   "codemirror_mode": {
    "name": "ipython",
    "version": 3
   },
   "file_extension": ".py",
   "mimetype": "text/x-python",
   "name": "python",
   "nbconvert_exporter": "python",
   "pygments_lexer": "ipython3",
   "version": "3.12.7"
  },
  "otter": {
   "OK_FORMAT": true,
   "tests": {
    "what-we-do-in the-shadows": {
     "name": "what-we-do-in the-shadows",
     "points": null,
     "suites": [
      {
       "cases": [
        {
         "code": ">>> from pykubegrader.telemetry import ensure_responses, log_variable, score_question, submit_question, telemetry, update_responses\n>>> import os\n>>> import base64\n>>> max_question_points = str(20.0)\n>>> earned_points = 0\n>>> os.environ['EARNED_POINTS'] = str(earned_points)\n>>> os.environ['TOTAL_POINTS_FREE_RESPONSE'] = str(20.0)\n>>> log_variable('total-points', f'week7-lecturenotgraded, 11_what_we_do_in_the_shadows', 20.0)\n>>> question_id = 'what-we-do-in the-shadows-1'\n>>> max_score = 1.0\n>>> score = 0\n>>> class_exists = all((cls in globals() for cls in ['Vampire', 'Nosferatu', 'FancyVampire', 'EnergyVampire', 'NightCreature']))\n>>> assert class_exists, 'One or more vampire-related classes are missing.'\n>>> if class_exists:\n...     score = 1.0\n>>> earned_points = float(os.environ.get('EARNED_POINTS', 0))\n>>> earned_points += score\n>>> log_variable('11_what_we_do_in_the_shadows', f'{score}, {max_score}', question_id)\n>>> os.environ['EARNED_POINTS'] = str(earned_points)\n>>> responses = update_responses(question_id, str(class_exists))\n",
         "failure_message": "Failed: One or more vampire classes are missing.",
         "hidden": false,
         "locked": false,
         "points": 1,
         "success_message": "Success: All vampire classes are defined!"
        },
        {
         "code": ">>> from pykubegrader.telemetry import ensure_responses, log_variable, score_question, submit_question, telemetry, update_responses\n>>> import os\n>>> import base64\n>>> import pytest\n>>> question_id = 'what-we-do-in the-shadows-2'\n>>> max_score = 2.0\n>>> score = 0\n>>> abstract_check = False\n>>> try:\n...     v = Vampire('Dracula')\n... except TypeError:\n...     abstract_check = True\n>>> assert abstract_check, '`Vampire` should be an abstract class and cannot be instantiated.'\n>>> if abstract_check:\n...     score = 2.0\n>>> earned_points = float(os.environ.get('EARNED_POINTS', 0))\n>>> earned_points += score\n>>> log_variable('11_what_we_do_in_the_shadows', f'{score}, {max_score}', question_id)\n>>> os.environ['EARNED_POINTS'] = str(earned_points)\n>>> responses = update_responses(question_id, str(abstract_check))\n",
         "failure_message": "Failed: `Vampire` is not behaving as an abstract class.",
         "hidden": false,
         "locked": false,
         "points": 2,
         "success_message": "Success: `Vampire` is an abstract class!"
        },
        {
         "code": ">>> from pykubegrader.telemetry import ensure_responses, log_variable, score_question, submit_question, telemetry, update_responses\n>>> import os\n>>> import base64\n>>> question_id = 'what-we-do-in the-shadows-3'\n>>> max_score = 2.0\n>>> score = 0\n>>> Vampire.coven = []\n>>> v1 = Nosferatu('Vlad')\n>>> v2 = FancyVampire('Carmilla')\n>>> v3 = EnergyVampire('Colin')\n>>> coven_members = Vampire.coven\n>>> expected_members = ['Vlad', 'Carmilla', 'Colin']\n>>> assert coven_members == expected_members, f'Expected {expected_members}, but got {coven_members}.'\n>>> if coven_members == expected_members:\n...     score = 2.0\n>>> earned_points = float(os.environ.get('EARNED_POINTS', 0))\n>>> earned_points += score\n>>> log_variable('11_what_we_do_in_the_shadows', f'{score}, {max_score}', question_id)\n>>> os.environ['EARNED_POINTS'] = str(earned_points)\n>>> responses = update_responses(question_id, str(coven_members))\n",
         "failure_message": "Failed: `Vampire.coven` does not track all vampires correctly.",
         "hidden": false,
         "locked": false,
         "points": 2,
         "success_message": "Success: `Vampire.coven` correctly tracks all vampires!"
        },
        {
         "code": ">>> from pykubegrader.telemetry import ensure_responses, log_variable, score_question, submit_question, telemetry, update_responses\n>>> import os\n>>> import base64\n>>> question_id = 'what-we-do-in the-shadows-4'\n>>> max_score = 2.0\n>>> score = 0\n>>> night_results = {'20:00': NightCreature.is_night(20), '10:00': NightCreature.is_night(10), '02:00': NightCreature.is_night(2), '18:00': NightCreature.is_night(18)}\n>>> expected_results = {'20:00': True, '10:00': False, '02:00': True, '18:00': True}\n>>> assert night_results == expected_results, f'Expected {expected_results}, but got {night_results}.'\n>>> if night_results == expected_results:\n...     score = 2.0\n>>> earned_points = float(os.environ.get('EARNED_POINTS', 0))\n>>> earned_points += score\n>>> log_variable('11_what_we_do_in_the_shadows', f'{score}, {max_score}', question_id)\n>>> os.environ['EARNED_POINTS'] = str(earned_points)\n>>> responses = update_responses(question_id, str(night_results))\n",
         "failure_message": "Failed: `NightCreature.is_night()` does not return correct values.",
         "hidden": false,
         "locked": false,
         "points": 2,
         "success_message": "Success: `NightCreature.is_night()` correctly determines nighttime!"
        },
        {
         "code": ">>> from pykubegrader.telemetry import ensure_responses, log_variable, score_question, submit_question, telemetry, update_responses\n>>> import os\n>>> import base64\n>>> import io\n>>> from contextlib import redirect_stdout\n>>> question_id = 'what-we-do-in the-shadows-5'\n>>> max_score = 2.0\n>>> score = 0\n>>> output = io.StringIO()\n>>> test_vampire = Nosferatu('Orlok')\n>>> with redirect_stdout(output):\n...     test_vampire.feed()\n>>> stdout_content = output.getvalue().strip()\n>>> expected_output = 'Nosferatu Orlok lurks in the basement and drinks ancient blood 🩸.'\n>>> assert stdout_content == expected_output, f\"Expected '{expected_output}', but got '{stdout_content}'.\"\n>>> if stdout_content == expected_output:\n...     score = 2.0\n>>> earned_points = float(os.environ.get('EARNED_POINTS', 0))\n>>> earned_points += score\n>>> log_variable('11_what_we_do_in_the_shadows', f'{score}, {max_score}', question_id)\n>>> os.environ['EARNED_POINTS'] = str(earned_points)\n>>> responses = update_responses(question_id, str(stdout_content))\n",
         "failure_message": "Failed: `Nosferatu.feed()` does not print the expected message.",
         "hidden": false,
         "locked": false,
         "points": 2,
         "success_message": "Success: `Nosferatu.feed()` prints the correct message!"
        },
        {
         "code": ">>> from pykubegrader.telemetry import ensure_responses, log_variable, score_question, submit_question, telemetry, update_responses\n>>> import os\n>>> import base64\n>>> import io\n>>> from contextlib import redirect_stdout\n>>> question_id = 'what-we-do-in the-shadows-6'\n>>> max_score = 2.0\n>>> score = 0\n>>> output = io.StringIO()\n>>> test_vampire = FancyVampire('Lestat')\n>>> with redirect_stdout(output):\n...     test_vampire.feed()\n>>> stdout_content = output.getvalue().strip()\n>>> expected_output = 'Fancy Vampire Lestat swirls a glass of Type O- 🍷 and complains about peasant blood.'\n>>> assert stdout_content == expected_output, f\"Expected '{expected_output}', but got '{stdout_content}'.\"\n>>> if stdout_content == expected_output:\n...     score = 2.0\n>>> earned_points = float(os.environ.get('EARNED_POINTS', 0))\n>>> earned_points += score\n>>> log_variable('11_what_we_do_in_the_shadows', f'{score}, {max_score}', question_id)\n>>> os.environ['EARNED_POINTS'] = str(earned_points)\n>>> responses = update_responses(question_id, str(stdout_content))\n",
         "failure_message": "Failed: `FancyVampire.feed()` does not print the expected message.",
         "hidden": false,
         "locked": false,
         "points": 2,
         "success_message": "Success: `FancyVampire.feed()` prints the correct message!"
        },
        {
         "code": ">>> from pykubegrader.telemetry import ensure_responses, log_variable, score_question, submit_question, telemetry, update_responses\n>>> import os\n>>> import base64\n>>> import io\n>>> from contextlib import redirect_stdout\n>>> question_id = 'what-we-do-in the-shadows-7'\n>>> max_score = 2.0\n>>> score = 0\n>>> output = io.StringIO()\n>>> test_vampire = EnergyVampire('Colin Robinson')\n>>> with redirect_stdout(output):\n...     test_vampire.feed()\n>>> stdout_content = output.getvalue().strip()\n>>> expected_output = 'Energy Vampire Colin Robinson starts a 2-hour lecture on tax law 📄 and drains the room.'\n>>> assert stdout_content == expected_output, f\"Expected '{expected_output}', but got '{stdout_content}'.\"\n>>> if stdout_content == expected_output:\n...     score = 2.0\n>>> earned_points = float(os.environ.get('EARNED_POINTS', 0))\n>>> earned_points += score\n>>> log_variable('11_what_we_do_in_the_shadows', f'{score}, {max_score}', question_id)\n>>> os.environ['EARNED_POINTS'] = str(earned_points)\n>>> responses = update_responses(question_id, str(stdout_content))\n",
         "failure_message": "Failed: `EnergyVampire.feed()` does not print the expected message.",
         "hidden": false,
         "locked": false,
         "points": 2,
         "success_message": "Success: `EnergyVampire.feed()` prints the correct message!"
        },
        {
         "code": ">>> from pykubegrader.telemetry import ensure_responses, log_variable, score_question, submit_question, telemetry, update_responses\n>>> import os\n>>> import base64\n>>> question_id = 'what-we-do-in the-shadows-8'\n>>> max_score = 1.0\n>>> score = 0\n>>> coven_identity = id(Nosferatu.coven) == id(FancyVampire.coven) == id(EnergyVampire.coven)\n>>> assert coven_identity, 'Expected `Vampire.coven` to be shared across all vampire subclasses.'\n>>> if coven_identity:\n...     score = 1.0\n>>> earned_points = float(os.environ.get('EARNED_POINTS', 0))\n>>> earned_points += score\n>>> log_variable('11_what_we_do_in_the_shadows', f'{score}, {max_score}', question_id)\n>>> os.environ['EARNED_POINTS'] = str(earned_points)\n>>> responses = update_responses(question_id, str(coven_identity))\n",
         "failure_message": "Failed: `Vampire.coven` is not a shared class variable.",
         "hidden": false,
         "locked": false,
         "points": 1,
         "success_message": "Success: `Vampire.coven` is correctly implemented as a class variable!"
        },
        {
         "code": ">>> from pykubegrader.telemetry import ensure_responses, log_variable, score_question, submit_question, telemetry, update_responses\n>>> import os\n>>> import base64\n>>> question_id = 'what-we-do-in the-shadows-9'\n>>> max_score = 1.0\n>>> score = 0\n>>> night_edge_cases = {'06:00': NightCreature.is_night(6), '18:00': NightCreature.is_night(18), '05:59': NightCreature.is_night(5), '17:59': NightCreature.is_night(17)}\n>>> expected_edge_cases = {'06:00': False, '18:00': True, '05:59': True, '17:59': False}\n>>> assert night_edge_cases == expected_edge_cases, f'Expected {expected_edge_cases}, but got {night_edge_cases}.'\n>>> if night_edge_cases == expected_edge_cases:\n...     score = 1.0\n>>> earned_points = float(os.environ.get('EARNED_POINTS', 0))\n>>> earned_points += score\n>>> log_variable('11_what_we_do_in_the_shadows', f'{score}, {max_score}', question_id)\n>>> os.environ['EARNED_POINTS'] = str(earned_points)\n>>> responses = update_responses(question_id, str(night_edge_cases))\n",
         "failure_message": "Failed: `NightCreature.is_night()` does not return correct values for boundary times.",
         "hidden": false,
         "locked": false,
         "points": 1,
         "success_message": "Success: `NightCreature.is_night()` correctly handles edge cases!"
        },
        {
         "code": ">>> from pykubegrader.telemetry import ensure_responses, log_variable, score_question, submit_question, telemetry, update_responses\n>>> import os\n>>> import base64\n>>> question_id = 'what-we-do-in the-shadows-10'\n>>> max_score = 1.0\n>>> score = 0\n>>> has_feed_method = all(('feed' in vars(cls) for cls in [Nosferatu, FancyVampire, EnergyVampire]))\n>>> assert has_feed_method, 'One or more vampire subclasses do not override `feed()`.'\n>>> if has_feed_method:\n...     score = 1.0\n>>> earned_points = float(os.environ.get('EARNED_POINTS', 0))\n>>> earned_points += score\n>>> log_variable('11_what_we_do_in_the_shadows', f'{score}, {max_score}', question_id)\n>>> os.environ['EARNED_POINTS'] = str(earned_points)\n>>> responses = update_responses(question_id, str(has_feed_method))\n",
         "failure_message": "Failed: One or more vampire subclasses do not implement `feed()`.",
         "hidden": false,
         "locked": false,
         "points": 1,
         "success_message": "Success: Each vampire subclass implements `feed()`!"
        },
        {
         "code": ">>> from pykubegrader.telemetry import ensure_responses, log_variable, score_question, submit_question, telemetry, update_responses\n>>> import os\n>>> import base64\n>>> import inspect\n>>> question_id = 'what-we-do-in the-shadows-11'\n>>> max_score = 2.0\n>>> score = 0\n>>> method_calls = {'Nosferatu': 'lurks in the basement' in inspect.getsource(Nosferatu.feed), 'FancyVampire': 'swirls a glass' in inspect.getsource(FancyVampire.feed), 'EnergyVampire': 'starts a 2-hour lecture' in inspect.getsource(EnergyVampire.feed)}\n>>> assert all(method_calls.values()), f'Expected all subclasses to implement `feed()` correctly, but found issues in: {[cls for cls, valid in method_calls.items() if not valid]}.'\n>>> if (all(method_calls.values()), f'Expected all subclasses to implement `feed()` correctly, but found issues in: {[cls for cls, valid in method_calls.items() if not valid]}.'):\n...     score = 2.0\n>>> earned_points = float(os.environ.get('EARNED_POINTS', 0))\n>>> earned_points += score\n>>> log_variable('11_what_we_do_in_the_shadows', f'{score}, {max_score}', question_id)\n>>> os.environ['EARNED_POINTS'] = str(earned_points)\n>>> responses = update_responses(question_id, str(method_calls))\n",
         "failure_message": "Failed: `feed()` is not properly implemented in all vampire subclasses.",
         "hidden": false,
         "locked": false,
         "points": 2,
         "success_message": "Success: Subclasses correctly call `feed()`!"
        },
        {
         "code": ">>> from pykubegrader.telemetry import ensure_responses, log_variable, score_question, submit_question, telemetry, update_responses\n>>> import os\n>>> import base64\n>>> question_id = 'what-we-do-in the-shadows-12'\n>>> max_score = 1.0\n>>> score = 0\n>>> Vampire.coven = []\n>>> out = Nosferatu('Dracula')\n>>> out = FancyVampire('Carmilla')\n>>> coven_before = list(Vampire.coven)\n>>> out = EnergyVampire('Mark')\n>>> coven_persistence = set(coven_before).issubset(set(Vampire.coven))\n>>> assert coven_persistence, f'Expected coven members to persist, but found unexpected reset: {Vampire.coven}.'\n>>> if coven_persistence:\n...     score = 1.0\n>>> earned_points = float(os.environ.get('EARNED_POINTS', 0))\n>>> earned_points += score\n>>> log_variable('11_what_we_do_in_the_shadows', f'{score}, {max_score}', question_id)\n>>> os.environ['EARNED_POINTS'] = str(earned_points)\n>>> responses = update_responses(question_id, str(coven_persistence))\n",
         "failure_message": "Failed: `Vampire.coven` resets unexpectedly.",
         "hidden": false,
         "locked": false,
         "points": 1,
         "success_message": "Success: `Vampire.coven` retains its members correctly!"
        },
        {
         "code": ">>> from pykubegrader.telemetry import ensure_responses, log_variable, score_question, submit_question, telemetry, update_responses\n>>> import os\n>>> import base64\n>>> question_id = 'what-we-do-in the-shadows-13'\n>>> max_score = 1.0\n>>> score = 0\n>>> Vampire.coven = []\n>>> for i in range(100):\n...     out = Nosferatu(f'Vampire{i}')\n>>> coven_size = len(Vampire.coven)\n>>> assert coven_size == 100, f'Expected 100 vampires in `Vampire.coven`, but found {coven_size}.'\n>>> if coven_size == 100:\n...     score = 1.0\n>>> earned_points = float(os.environ.get('EARNED_POINTS', 0))\n>>> earned_points += score\n>>> log_variable('11_what_we_do_in_the_shadows', f'{score}, {max_score}', question_id)\n>>> os.environ['EARNED_POINTS'] = str(earned_points)\n>>> responses = update_responses(question_id, str(coven_size))\n",
         "failure_message": "Failed: `Vampire.coven` does not handle large vampire counts correctly.",
         "hidden": false,
         "locked": false,
         "points": 1,
         "success_message": "Success: `Vampire.coven` correctly handles large inputs!"
        }
       ],
       "scored": true,
       "setup": "",
       "teardown": "",
       "type": "doctest"
      }
     ]
    }
   }
  }
 },
 "nbformat": 4,
 "nbformat_minor": 5
}
