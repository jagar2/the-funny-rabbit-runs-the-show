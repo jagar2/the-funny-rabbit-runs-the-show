{
 "cells": [
  {
   "cell_type": "markdown",
   "id": "0",
   "metadata": {},
   "source": [
    "# 📝 Decorators and Abstraction in Python Classes 🎨📚\n",
    "\n",
    "![](./assets/figures/decorating_gif.gif)\n"
   ]
  },
  {
   "cell_type": "markdown",
   "id": "1",
   "metadata": {},
   "source": [
    "## Decorators in Classes\n",
    "\n",
    "- Definition: A decorator in Python is a function that takes another function (or method) and extends its behavior.\n",
    "- Common Class Decorators:"
   ]
  },
  {
   "cell_type": "markdown",
   "id": "2",
   "metadata": {},
   "source": [
    "1. `@property` – Converts a method into a getter for an attribute."
   ]
  },
  {
   "cell_type": "markdown",
   "id": "3",
   "metadata": {},
   "source": [
    "2. `@<property>.setter` – Adds a setter method to the property."
   ]
  },
  {
   "cell_type": "markdown",
   "id": "4",
   "metadata": {},
   "source": [
    "3. `@classmethod` – Method belongs to the class, not the instance. Receives `cls` as the first argument."
   ]
  },
  {
   "cell_type": "markdown",
   "id": "5",
   "metadata": {},
   "source": [
    "4. `@staticmethod` – Method belongs to the class’s namespace but receives no automatic arguments.\n",
    "\n",
    "Why Decorators?\n",
    "They help create cleaner APIs, reduce boilerplate code, and organize logic (e.g., data validation, class-wide utilities) in a consistent way.\n"
   ]
  },
  {
   "cell_type": "markdown",
   "id": "6",
   "metadata": {},
   "source": [
    "##  `@property` and `@<property>.setter` in Detail\n"
   ]
  },
  {
   "cell_type": "markdown",
   "id": "7",
   "metadata": {},
   "source": [
    "### Simple Example with Validation\n"
   ]
  },
  {
   "cell_type": "code",
   "execution_count": null,
   "id": "8",
   "metadata": {
    "tags": [
     "skip-execution"
    ]
   },
   "outputs": [],
   "source": [
    "class Rectangle:\n",
    "    def __init__(self, width, height):\n",
    "        self._width = width\n",
    "        self._height = height\n",
    "\n",
    "    @property\n",
    "    def width(self):\n",
    "        return self._width\n",
    "\n",
    "    @width.setter\n",
    "    def width(self, value):\n",
    "        if value < 0:\n",
    "            raise ValueError(\"Width must be non-negative.\")\n",
    "        self._width = value\n",
    "\n",
    "    @property\n",
    "    def height(self):\n",
    "        return self._height\n",
    "\n",
    "    @height.setter\n",
    "    def height(self, value):\n",
    "        if value < 0:\n",
    "            raise ValueError(\"Height must be non-negative.\")\n",
    "        self._height = value\n",
    "\n",
    "    @property\n",
    "    def area(self):\n",
    "        \"\"\"Read-only property (no setter)\"\"\"\n",
    "        return self._width * self._height\n",
    "\n",
    "\n",
    "# Usage\n",
    "rect = Rectangle(10, 5)\n",
    "print(rect.area)  # 50\n",
    "rect.width = 20  # Valid\n",
    "rect.height = -10  # Raises ValueError"
   ]
  },
  {
   "cell_type": "markdown",
   "id": "9",
   "metadata": {},
   "source": [
    "1. `area` is a read-only property (no setter) – it’s computed from `_width` and `_height`."
   ]
  },
  {
   "cell_type": "markdown",
   "id": "10",
   "metadata": {},
   "source": [
    "2. Both `width` and `height` have validation logic in their setters.\n"
   ]
  },
  {
   "cell_type": "markdown",
   "id": "11",
   "metadata": {},
   "source": [
    "## More Examples: `@property` with Computed Attributes\n"
   ]
  },
  {
   "cell_type": "markdown",
   "id": "12",
   "metadata": {},
   "source": [
    "### Example: Bounding Box with Automatic Width/Height Updates\n"
   ]
  },
  {
   "cell_type": "code",
   "execution_count": null,
   "id": "13",
   "metadata": {},
   "outputs": [],
   "source": [
    "class BoundingBox:\n",
    "    def __init__(self, x1, y1, x2, y2):\n",
    "        self._x1 = x1\n",
    "        self._y1 = y1\n",
    "        self._x2 = x2\n",
    "        self._y2 = y2\n",
    "\n",
    "    @property\n",
    "    def width(self):\n",
    "        return abs(self._x2 - self._x1)\n",
    "\n",
    "    @property\n",
    "    def height(self):\n",
    "        return abs(self._y2 - self._y1)\n",
    "\n",
    "    @property\n",
    "    def x1(self):\n",
    "        return self._x1\n",
    "\n",
    "    @x1.setter\n",
    "    def x1(self, val):\n",
    "        self._x1 = val\n",
    "        # Could trigger logs, or re-calculate something if needed\n",
    "\n",
    "    # Similarly, x2, y1, y2 properties if needed\n",
    "\n",
    "\n",
    "bb = BoundingBox(0, 0, 10, 5)\n",
    "print(bb.width, bb.height)  # 10, 5\n",
    "bb.x1 = 2\n",
    "print(bb.width, bb.height)  # 8, 5 (auto-updated)"
   ]
  },
  {
   "cell_type": "markdown",
   "id": "14",
   "metadata": {},
   "source": [
    "\n",
    "- Whenever `x1` changes, `width` effectively updates because it’s computed from `_x1` and `_x2`.\n",
    "- This approach keeps logic consistent and user-friendly.\n"
   ]
  },
  {
   "cell_type": "markdown",
   "id": "15",
   "metadata": {},
   "source": [
    "## `@classmethod` and `@staticmethod`\n"
   ]
  },
  {
   "cell_type": "markdown",
   "id": "16",
   "metadata": {},
   "source": [
    "### `@classmethod`\n",
    "\n",
    "A class method is a method that is bound to the class and not the instance of the class. They have access to the class state that applies across all instances of the class. Class methods are marked with the `@classmethod` decorator and take `cls` as the first parameter, which refers to the class itself.\n",
    "\n",
    "Class methods are useful when you need to perform operations that pertain to the class as a whole, rather than to any particular instance. They are often used for factory methods that instantiate an instance of the class using alternative constructors, or for methods that need to modify class-level attributes.\n",
    "\n",
    "- Receives `cls` as the first parameter.\n",
    "- Often used as alternative constructors or class-level factories.\n"
   ]
  },
  {
   "cell_type": "code",
   "execution_count": null,
   "id": "17",
   "metadata": {},
   "outputs": [],
   "source": [
    "class Vector2D:\n",
    "    def __init__(self, x, y):\n",
    "        self.x = x\n",
    "        self.y = y\n",
    "\n",
    "    @classmethod\n",
    "    def from_tuple(cls, coord_tuple):\n",
    "        return cls(coord_tuple[0], coord_tuple[1])\n",
    "\n",
    "\n",
    "# Usage\n",
    "v = Vector2D.from_tuple((3, 4))\n",
    "print(v.x, v.y)  # 3, 4"
   ]
  },
  {
   "cell_type": "markdown",
   "id": "18",
   "metadata": {},
   "source": [
    "### `@staticmethod`\n",
    "\n",
    "Static methods are used when you need a function that logically belongs to a class but does not require access to any instance or class-specific data. They help in organizing code within the class's namespace, making it clear that the function is related to the class, even though it doesn't interact with the class or its instances.\n",
    "\n",
    "- Does not receive `self` or `cls`.\n",
    "- Functions that conceptually belong to a class’s domain but do not need instance or class data.\n"
   ]
  },
  {
   "cell_type": "code",
   "execution_count": null,
   "id": "19",
   "metadata": {},
   "outputs": [],
   "source": [
    "class VectorUtilities:\n",
    "    @staticmethod\n",
    "    def dot_product(v1, v2):\n",
    "        return v1.x * v2.x + v1.y * v2.y\n",
    "\n",
    "\n",
    "# Usage\n",
    "result = VectorUtilities.dot_product(Vector2D(1, 2), Vector2D(3, 4))\n",
    "print(result)  # 11"
   ]
  },
  {
   "cell_type": "markdown",
   "id": "20",
   "metadata": {},
   "source": [
    "## Abstract Classes for Enforced Interfaces\n",
    "\n",
    "- Abstraction: Defines a contract that child classes must fulfill.\n",
    "- `abc` Module: Use `ABC` (Abstract Base Class) and `@abstractmethod`.\n"
   ]
  },
  {
   "cell_type": "code",
   "execution_count": null,
   "id": "21",
   "metadata": {},
   "outputs": [],
   "source": [
    "from abc import ABC, abstractmethod\n",
    "\n",
    "\n",
    "class Sensor(ABC):\n",
    "    @abstractmethod\n",
    "    def read_data(self):\n",
    "        pass\n",
    "\n",
    "    @property\n",
    "    @abstractmethod\n",
    "    def unit(self):\n",
    "        \"\"\"Read-only property specifying the unit of measurement\"\"\"\n",
    "        pass"
   ]
  },
  {
   "cell_type": "markdown",
   "id": "22",
   "metadata": {},
   "source": [
    "\n",
    "- Any concrete subclass must implement `read_data` and `unit`.\n"
   ]
  },
  {
   "cell_type": "markdown",
   "id": "23",
   "metadata": {},
   "source": [
    "### Concrete Subclass Example\n"
   ]
  },
  {
   "cell_type": "code",
   "execution_count": null,
   "id": "24",
   "metadata": {},
   "outputs": [],
   "source": [
    "class TemperatureSensor(Sensor):\n",
    "    def __init__(self, location):\n",
    "        self._location = location\n",
    "        self._last_reading = 0.0\n",
    "\n",
    "    def read_data(self):\n",
    "        # Simulate reading from a real sensor\n",
    "        self._last_reading += 1.5\n",
    "        return self._last_reading\n",
    "\n",
    "    @property\n",
    "    def unit(self):\n",
    "        return \"Celsius\"\n",
    "\n",
    "\n",
    "# Usage\n",
    "sensor = TemperatureSensor(\"Kitchen\")\n",
    "sensor.read_data()\n",
    "sensor.unit"
   ]
  },
  {
   "cell_type": "markdown",
   "id": "25",
   "metadata": {},
   "source": [
    "## Additional Examples: Complex Validation + Abstract Patterns\n"
   ]
  },
  {
   "cell_type": "markdown",
   "id": "26",
   "metadata": {},
   "source": [
    "### Example: Calibrated Sensor with Setters\n"
   ]
  },
  {
   "cell_type": "code",
   "execution_count": null,
   "id": "27",
   "metadata": {},
   "outputs": [],
   "source": [
    "class CalibratedSensor(Sensor):\n",
    "    def __init__(self, offset=0):\n",
    "        self._offset = offset\n",
    "        self._latest = 0.0\n",
    "\n",
    "    def read_data(self):\n",
    "        # Hypothetical raw sensor value\n",
    "        raw_value = 42.0\n",
    "        self._latest = raw_value + self._offset\n",
    "        return self._latest\n",
    "\n",
    "    @property\n",
    "    def offset(self):\n",
    "        return self._offset\n",
    "\n",
    "    @offset.setter\n",
    "    def offset(self, val):\n",
    "        # For example, offset must be within -10 to 10\n",
    "        if not (-10 <= val <= 10):\n",
    "            raise ValueError(\"Offset out of supported range.\")\n",
    "        self._offset = val\n",
    "\n",
    "    @property\n",
    "    def unit(self):\n",
    "        return \"units\"\n",
    "\n",
    "\n",
    "sensor = CalibratedSensor()\n",
    "print(sensor.read_data())  # e.g. 42.0\n",
    "sensor.offset = 5\n",
    "print(sensor.read_data())  # e.g. 47.0\n",
    "# sensor.offset = 15         # Raises ValueError"
   ]
  },
  {
   "cell_type": "markdown",
   "id": "28",
   "metadata": {},
   "source": [
    "\n",
    "- The setter for `offset` ensures calibration remains within acceptable parameters.\n",
    "- `read_data()` references `_offset` to produce a final reading.\n"
   ]
  },
  {
   "cell_type": "markdown",
   "id": "29",
   "metadata": {},
   "source": [
    "## Best Practices & Takeaways\n"
   ]
  },
  {
   "cell_type": "markdown",
   "id": "30",
   "metadata": {},
   "source": [
    "1. Use `@property` for Readable APIs\n",
    "    - Attributes are accessed like `obj.attribute` without exposing raw internal state directly."
   ]
  },
  {
   "cell_type": "markdown",
   "id": "31",
   "metadata": {},
   "source": [
    "2. Validate with Setters\n",
    "    - Keep constraints or checks in the property’s setter, preventing invalid state."
   ]
  },
  {
   "cell_type": "markdown",
   "id": "32",
   "metadata": {},
   "source": [
    "3. Class-Level Helpers\n",
    "    - `@classmethod` for alternative constructors or class-level logic (parsing from strings, tuples, dicts, etc.).\n",
    "    - `@staticmethod` for utility methods that do not rely on class or instance data."
   ]
  },
  {
   "cell_type": "markdown",
   "id": "33",
   "metadata": {},
   "source": [
    "4. Abstraction with `abc`\n",
    "    - Define an abstract base class with `@abstractmethod` to enforce required methods/properties in child classes.\n",
    "    - Ensures all subclasses share consistent method signatures."
   ]
  },
  {
   "cell_type": "markdown",
   "id": "34",
   "metadata": {},
   "source": [
    "5. Documentation\n",
    "    - Docstrings for properties (`\"\"\"Getter: ...\"\"\"`, `\"\"\"Setter: ...\"\"\"`) clarify usage and constraints."
   ]
  },
  {
   "cell_type": "markdown",
   "id": "35",
   "metadata": {},
   "source": [
    "6. Simplicity & Clarity\n",
    "    - Avoid overcomplicating property or abstract class logic. Keep it straightforward and aligned with your design goals.\n"
   ]
  },
  {
   "cell_type": "markdown",
   "id": "36",
   "metadata": {},
   "source": [
    "## Summary\n",
    "\n",
    "- Decorators (e.g., `@property`, `@classmethod`, `@staticmethod`) streamline class design and reduce boilerplate.\n",
    "- Setters & Getters with properties provide a *Pythonic* way to combine data encapsulation and user-friendly attribute access.\n",
    "- Abstract Base Classes (`ABC`) allow you to define a contract that all derived classes must fulfill, ensuring consistent interfaces across your codebase.\n",
    "\n",
    "By combining these tools, you can build clean, maintainable, and flexible class hierarchies in Python, accommodating both simple use cases (like basic validation) and advanced frameworks (like robust sensor systems or plugin architectures).\n"
   ]
  }
 ],
 "metadata": {
  "kernelspec": {
   "display_name": "engr131_dev",
   "language": "python",
   "name": "python3"
  },
  "language_info": {
   "codemirror_mode": {
    "name": "ipython",
    "version": 3
   },
   "file_extension": ".py",
   "mimetype": "text/x-python",
   "name": "python",
   "nbconvert_exporter": "python",
   "pygments_lexer": "ipython3",
   "version": "3.12.7"
  }
 },
 "nbformat": 4,
 "nbformat_minor": 5
}
