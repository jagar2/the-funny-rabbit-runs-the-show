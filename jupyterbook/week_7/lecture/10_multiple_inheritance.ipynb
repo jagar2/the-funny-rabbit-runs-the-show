{
 "cells": [
  {
   "cell_type": "markdown",
   "id": "0",
   "metadata": {},
   "source": [
    "# 📝 Multiple Inheritance in Python 🐍✨\n",
    "\n",
    "![](./assets/figures/inheritance-parents.gif)\n",
    "\n",
    "In object-oriented programming, multiple inheritance allows a class to inherit from more than one parent class. While this can offer flexibility and code reuse, it also introduces complexities (like the diamond problem 💎) that are important to understand—especially in engineering contexts where software systems often reflect complex physical or logical relationships. ⚙️🔧\n"
   ]
  },
  {
   "cell_type": "markdown",
   "id": "1",
   "metadata": {},
   "source": [
    "## What Is Multiple Inheritance?\n"
   ]
  },
  {
   "cell_type": "markdown",
   "id": "2",
   "metadata": {},
   "source": [
    "1. Definition\n",
    "- A class derives from two or more parent classes, inheriting attributes and methods from each.\n"
   ]
  },
  {
   "cell_type": "markdown",
   "id": "3",
   "metadata": {},
   "source": [
    "2. Example Syntax\n"
   ]
  },
  {
   "cell_type": "code",
   "execution_count": null,
   "id": "4",
   "metadata": {},
   "outputs": [],
   "source": [
    "class ClassA:\n",
    "    pass\n",
    "\n",
    "\n",
    "class ClassB:\n",
    "    pass\n",
    "\n",
    "\n",
    "class ClassC(ClassA, ClassB):\n",
    "    pass"
   ]
  },
  {
   "cell_type": "markdown",
   "id": "5",
   "metadata": {},
   "source": [
    "3. Why Use It?\n",
    "    - In an engineering project, you might have a class that needs functionality from two distinct domains, such as:\n",
    "    - MechanicalSystem (managing mechanical operations)\n",
    "    - CommunicationSystem (handling signal processing or network protocols)\n",
    "    - A child class (e.g., AdvancedRobot) could inherit from both to combine these capabilities.\n"
   ]
  },
  {
   "cell_type": "markdown",
   "id": "6",
   "metadata": {},
   "source": [
    "## Engineering Context: Combining Domains\n"
   ]
  },
  {
   "cell_type": "markdown",
   "id": "7",
   "metadata": {},
   "source": [
    "### Example Scenario\n"
   ]
  },
  {
   "cell_type": "code",
   "execution_count": null,
   "id": "8",
   "metadata": {},
   "outputs": [],
   "source": [
    "class MechanicalSystem:\n",
    "    def activate_mechanism(self):\n",
    "        print(\"Mechanism activated at default parameters.\")\n",
    "\n",
    "\n",
    "class CommunicationSystem:\n",
    "    def send_signal(self, message):\n",
    "        print(f\"Sending signal: {message}\")\n",
    "\n",
    "\n",
    "class AdvancedRobot(MechanicalSystem, CommunicationSystem):\n",
    "    pass\n",
    "\n",
    "\n",
    "robot = AdvancedRobot()\n",
    "robot.activate_mechanism()  # Inherited from MechanicalSystem\n",
    "robot.send_signal(\"Status OK\")  # Inherited from CommunicationSystem"
   ]
  },
  {
   "cell_type": "markdown",
   "id": "9",
   "metadata": {},
   "source": [
    "\n",
    "- Real-World Analogy\n",
    "- A robot on an assembly line that can perform mechanical actions and broadcast system status—both functionalities are necessary for real-time monitoring and control.\n"
   ]
  },
  {
   "cell_type": "markdown",
   "id": "10",
   "metadata": {},
   "source": [
    "## Method Resolution Order (MRO)\n",
    "\n",
    "When multiple inheritance paths overlap, Python uses the C3 linearization algorithm (a.k.a. MRO) to determine the order in which base classes are searched for attributes and methods.\n"
   ]
  },
  {
   "cell_type": "markdown",
   "id": "11",
   "metadata": {},
   "source": [
    "1. Check `mro`\n",
    "- You can see the resolution order by inspecting the `mro` attribute:\n"
   ]
  },
  {
   "cell_type": "code",
   "execution_count": null,
   "id": "12",
   "metadata": {},
   "outputs": [],
   "source": [
    "print(AdvancedRobot.__mro__)"
   ]
  },
  {
   "cell_type": "markdown",
   "id": "13",
   "metadata": {},
   "source": [
    "2. Search Path\n",
    "- Python searches the child class first, then the leftmost parent (`MechanicalSystem`), then the next parent (`CommunicationSystem`), and so on up the hierarchy.\n"
   ]
  },
  {
   "cell_type": "markdown",
   "id": "14",
   "metadata": {},
   "source": [
    "## The Diamond Problem\n"
   ]
  },
  {
   "cell_type": "markdown",
   "id": "15",
   "metadata": {},
   "source": [
    "1. Definition\n",
    "- Occurs when a child class has two or more parents that inherit from the *same base class* in separate paths, causing a “diamond” shape in the inheritance graph.\n",
    "\n",
    "```plaintext\n",
    "Base\n",
    "/    \\\n",
    "A      B\n",
    "\\    /\n",
    "Child\n",
    "```\n"
   ]
  },
  {
   "cell_type": "markdown",
   "id": "16",
   "metadata": {},
   "source": [
    "2. Example\n"
   ]
  },
  {
   "cell_type": "code",
   "execution_count": null,
   "id": "17",
   "metadata": {},
   "outputs": [],
   "source": [
    "class Base:\n",
    "    def calibrate(self):\n",
    "        print(\"Calibrating base system...\")\n",
    "\n",
    "\n",
    "class A(Base):\n",
    "    def calibrate(self):\n",
    "        print(\"Calibrating in B's style.\")\n",
    "\n",
    "\n",
    "class B(Base):\n",
    "    def calibrate(self):\n",
    "        print(\"Calibrating in B's style.\")\n",
    "\n",
    "\n",
    "class Child(A, B):\n",
    "    pass\n",
    "\n",
    "\n",
    "c = Child()\n",
    "c.calibrate()  # Which calibrate() gets called?\n",
    "\n",
    "Child.__mro__  # Method Resolution Order"
   ]
  },
  {
   "cell_type": "markdown",
   "id": "18",
   "metadata": {},
   "source": [
    "3. How Python Resolves It\n",
    "- Python follows the MRO to decide which method is used first. In the example above, `B` is to the right, but due to the MRO, `B` might be visited before `A` if `A` doesn’t override `calibrate()`.\n",
    "- This can lead to subtle bugs if not carefully designed.\n"
   ]
  },
  {
   "cell_type": "markdown",
   "id": "19",
   "metadata": {},
   "source": [
    "## Engineering Examples of Multiple Inheritance\n"
   ]
  },
  {
   "cell_type": "markdown",
   "id": "20",
   "metadata": {},
   "source": [
    "1. Safety-Critical Systems\n",
    "    - Suppose you have a FailSafeSystem class that logs system states and triggers emergency stops, and a DiagnosticSystem class that collects performance metrics.\n",
    "    - A specialized class, FactoryRobot, might inherit from both if it needs to integrate safety features and perform real-time diagnostics.\n"
   ]
  },
  {
   "cell_type": "markdown",
   "id": "21",
   "metadata": {},
   "source": [
    "2. Mixed-Signal Electronics\n",
    "    - You might have a DigitalInterface class for reading/writing digital signals, and an AnalogInterface class for analog sensor data.\n",
    "    - A MixedSignalBoard class could inherit from both to handle integrated analog-digital IO logic.\n"
   ]
  },
  {
   "cell_type": "markdown",
   "id": "22",
   "metadata": {},
   "source": [
    "3. Supply Chain / Inventory Control\n",
    "    - A WarehouseOperations class might handle physical inventory checks (locations, capacity), while a DataAnalytics class handles forecasting demand.\n",
    "    - A new class WarehouseForecastSystem could combine the core features of both.\n"
   ]
  },
  {
   "cell_type": "markdown",
   "id": "23",
   "metadata": {},
   "source": [
    "## Best Practices\n"
   ]
  },
  {
   "cell_type": "markdown",
   "id": "24",
   "metadata": {},
   "source": [
    "1. Design for Composition Over Inheritance\n",
    "    - If two separate functionalities don’t naturally form an is-a relationship, consider composition (having objects as attributes) instead of multiple inheritance.\n"
   ]
  },
  {
   "cell_type": "markdown",
   "id": "25",
   "metadata": {},
   "source": [
    "2. Avoid Deep Inheritance Trees\n",
    "    - Complex class hierarchies are harder to maintain and debug. Keep designs as straightforward as possible.\n"
   ]
  },
  {
   "cell_type": "markdown",
   "id": "26",
   "metadata": {},
   "source": [
    "3. Explicitly Call Parent Methods\n",
    "    - When overriding, use `super()` carefully and consistently. In multiple inheritance, `super()` must follow the MRO to avoid skipping or duplicating calls.\n"
   ]
  },
  {
   "cell_type": "code",
   "execution_count": null,
   "id": "27",
   "metadata": {},
   "outputs": [],
   "source": [
    "class MechanicalSystem:\n",
    "    def start(self):\n",
    "        print(\"Mechanical system start\")\n",
    "\n",
    "\n",
    "class ElectricalSystem:\n",
    "    def start(self):\n",
    "        print(\"Electrical system start\")\n",
    "\n",
    "\n",
    "class HybridSystem(MechanicalSystem, ElectricalSystem):\n",
    "    def start(self):\n",
    "        # super() calls next in MRO: MechanicalSystem first, then ElectricalSystem\n",
    "        super().start()\n",
    "        print(\"Hybrid system additional start logic...\")\n",
    "\n",
    "\n",
    "hybrid = HybridSystem()\n",
    "\n",
    "hybrid.start()"
   ]
  },
  {
   "cell_type": "markdown",
   "id": "28",
   "metadata": {},
   "source": [
    "4. Document the MRO\n",
    "    - For complex engineering classes, documenting the inheritance diagram can prevent confusion among team members.\n"
   ]
  },
  {
   "cell_type": "markdown",
   "id": "29",
   "metadata": {},
   "source": [
    "5. Testing\n",
    "    - Thoroughly test classes that use multiple inheritance, especially methods that might be defined in multiple parents.\n"
   ]
  },
  {
   "cell_type": "markdown",
   "id": "30",
   "metadata": {},
   "source": [
    "## Summary\n",
    "\n",
    "- Multiple inheritance allows a class to inherit from multiple parents, combining functionalities in a single child class.\n",
    "- Method Resolution Order (MRO) ensures a deterministic path when searching for methods or attributes.\n",
    "- The Diamond Problem arises when two paths to a shared base class conflict, but Python’s MRO helps mitigate it.\n",
    "- Use Cases in Engineering:"
   ]
  },
  {
   "cell_type": "markdown",
   "id": "31",
   "metadata": {},
   "source": [
    "\n",
    "Multiple inheritance can be powerful for merging specialized engineering functionalities but requires careful design and awareness of the MRO to avoid conflicts and maintain clarity.\n",
    "```"
   ]
  }
 ],
 "metadata": {
  "kernelspec": {
   "display_name": "Python 3",
   "language": "python",
   "name": "python3"
  },
  "language_info": {
   "codemirror_mode": {
    "name": "ipython",
    "version": 3
   },
   "file_extension": ".py",
   "mimetype": "text/x-python",
   "name": "python",
   "nbconvert_exporter": "python",
   "pygments_lexer": "ipython3",
   "version": "3.12.7"
  }
 },
 "nbformat": 4,
 "nbformat_minor": 5
}
