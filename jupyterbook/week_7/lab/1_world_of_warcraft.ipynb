{
 "cells": [
  {
   "cell_type": "code",
   "execution_count": null,
   "metadata": {
    "deletable": false,
    "editable": false,
    "tags": [
     "skip-execution"
    ]
   },
   "outputs": [],
   "source": [
    "# You must make sure to run all cells in sequence using shift + enter or you might encounter errors\n",
    "from pykubegrader.initialize import initialize_assignment\n",
    "\n",
    "responses = initialize_assignment(\"1_world_of_warcraft\", \"week_7\", \"lab\", assignment_points = 186.0, assignment_tag = 'week7-lab')\n",
    "\n",
    "# Initialize Otter\n",
    "import otter\n",
    "grader = otter.Notebook(\"1_world_of_warcraft.ipynb\")"
   ]
  },
  {
   "cell_type": "markdown",
   "metadata": {
    "deletable": false,
    "editable": false
   },
   "source": [
    "# Welcome to Azeroth! 🌍⚔️✨  \n",
    "\n",
    "Note, this assignment counts for both a lab and a homework, assignment. \n",
    "\n",
    "![](./assets/figures/world-of-warcraft-logo-over-20th-anniversary-key-art.avif)\n",
    "\n",
    "In the sprawling, war-torn lands of **Azeroth**, where mighty warriors, cunning rogues, and wise mages roam, **World of Warcraft** (WoW) brings players into an epic adventure filled with magic, battles, and legendary loot. Whether you're defending your faction in the battlegrounds, slaying dragons in deep dungeons, or trading in the bustling streets of Stormwind, WoW is a game of endless possibilities.  \n",
    "\n",
    "From the moment you create your character, choosing from noble **Humans**, fierce **Orcs**, or mystical **Night Elves**, you're thrust into a world where every decision matters. Will you wield mighty **spells** as a **Mage**, charge into battle as a **Warrior**, or vanish into the shadows as a **Rogue**? Your equipment, spells, and abilities define your journey, and mastering them is key to survival.  \n",
    "\n",
    "![](./assets/figures/world-of-warcraft-classes.gif)\n",
    "\n",
    "But Azeroth isn’t just about brute strength—it’s about **strategy**. Equipping the right gear, managing your resources, and **casting spells at the perfect moment** can be the difference between **victory and defeat**. Speaking of spells…  \n",
    "\n",
    "## Can you figure out how to implement a **character class system** that mirrors WoW’s depth? 🏹🧙‍♂️⚡  \n",
    "The following code lays the groundwork for a WoW-inspired RPG system, featuring **items, spells, races, and classes**. Study the mechanics, then dive into the **arcane arts of programming** to shape your own **hero’s destiny!** 🎮🔥"
   ]
  },
  {
   "cell_type": "markdown",
   "metadata": {},
   "source": [
    "```{mermaid}\n",
    "graph TD;\n",
    "    A[initialize_assignment] -->|Returns responses| B[responses];\n",
    "    B -->|Initialize Otter| C[otter.Notebook];\n",
    "\n",
    "    subgraph \"Game Elements\"\n",
    "        I[Item] -->|Inherits| J[Armor];\n",
    "        I -->|Inherits| K[Weapon];\n",
    "\n",
    "        subgraph \"Spells\"\n",
    "            L[Spell] -->|Casts| M[Character];\n",
    "        end\n",
    "\n",
    "        subgraph \"Character Classes\"\n",
    "            N[ClassType] -->|Inherits| O[Warrior];\n",
    "            N -->|Inherits| P[Mage];\n",
    "            N -->|Inherits| Q[Monk];\n",
    "            N -->|Inherits| R[Paladin];\n",
    "        end\n",
    "\n",
    "        subgraph \"Equipment Management\"\n",
    "            S[EquipmentManager] -->|Manages| T[Character];\n",
    "            J -->|Equipped by| T;\n",
    "            K -->|Equipped by| T;\n",
    "        end\n",
    "\n",
    "        T -->|Uses Spells| L;\n",
    "        T -->|Has Class| N;\n",
    "        T -->|Equips Items| I;\n",
    "        T -->|Levels Up| U[Experience System];\n",
    "    end\n",
    "\n",
    "    subgraph \"Game Flow\"\n",
    "        V[play_game()] -->|Character Creation| T;\n",
    "        V -->|Game Choices| W[User Input];\n",
    "        W -->|View Stats| X[Show Stats];\n",
    "        W -->|View Inventory| Y[Show Inventory];\n",
    "        W -->|Cast Spell| L;\n",
    "        W -->|Use Item| I;\n",
    "        W -->|Gain Experience| U;\n",
    "        W -->|Exit| Z[End Game];\n",
    "    end\n",
    "```"
   ]
  },
  {
   "cell_type": "markdown",
   "metadata": {
    "deletable": false,
    "editable": false
   },
   "source": [
    "## **Gear Up, Hero! 🛡️⚔️💎**  \n",
    "\n",
    "![](./assets/figures/wow-gear.gif)\n",
    "\n",
    "In **World of Warcraft**, your character is only as strong as the **gear** and **items** they carry. Whether it's a **health potion** that saves you in the heat of battle, a **mystic robe** that enhances your spellcasting, or a **legendary weapon** that strikes fear into your enemies, items are the backbone of your **power progression**.  \n",
    "\n",
    "Every **potion, weapon, and armor piece** affects your stats in different ways—some **increase your strength**, others **restore your health**, and the best ones? Well, they might just turn the tide of battle in your favor. **Choosing the right items and knowing when to use them is the key to survival!**  \n",
    "\n",
    "The following code defines an **Item system**, allowing different items to modify a character’s stats dynamically. Study it well, because in Azeroth, **heroes are only as mighty as the gear they wield!** 🏹🔮🔥"
   ]
  },
  {
   "cell_type": "code",
   "execution_count": null,
   "metadata": {
    "tags": [
     "skip-execution"
    ]
   },
   "outputs": [],
   "source": [
    "# import ABC and abstractmethod from the abc module\n",
    "...\n",
    "\n",
    "# Create an Item class \n",
    "...\n",
    "    \"\"\"Base class for all items.\"\"\"\n",
    "\n",
    "    # Create an init method with the following attributes:\n",
    "    # name (str), effect (str), stat (str), value (int), slot (str)\n",
    "    # assign the attributes to self\n",
    "    ...\n",
    "    \n",
    "    def apply(self, character):\n",
    "        \"\"\"\n",
    "        Applies the item's effect to the given character.\n",
    "        If the item is a Weapon or Armor, it will be equipped instead of consumed.\n",
    "        \"\"\"\n",
    "            \n",
    "        # For consumable items (potions etc), apply the effect\n",
    "        if self.effect == \"increase\":\n",
    "            if self.stat == \"health\":\n",
    "                character.base_health += self.value\n",
    "            elif self.stat == \"mana\":\n",
    "                character.base_mana += self.value\n",
    "            elif self.stat == \"strength\":\n",
    "                character.strength += self.value\n",
    "            elif self.stat == \"agility\":\n",
    "                character.agility += self.value\n",
    "            elif self.stat == \"intellect\":\n",
    "                character.intellect += self.value\n",
    "        elif self.effect == \"restore\":\n",
    "            if self.stat == \"health\":\n",
    "                character.base_health = min(\n",
    "                    character.base_health + self.value, character.max_health\n",
    "                )\n",
    "            elif self.stat == \"mana\":\n",
    "                character.base_mana = min(\n",
    "                    character.base_mana + self.value, character.max_mana\n",
    "                )\n",
    "        \n",
    "        return f\"{character.name} used {self.name} → {self.stat} +{self.value}!\""
   ]
  },
  {
   "cell_type": "code",
   "execution_count": null,
   "metadata": {
    "deletable": false,
    "editable": false,
    "tags": [
     "skip-execution"
    ]
   },
   "outputs": [],
   "source": [
    "grader.check(\"Item-class-builder\")"
   ]
  },
  {
   "cell_type": "markdown",
   "metadata": {
    "deletable": false,
    "editable": false
   },
   "source": [
    "## Question 1 (Points: 16.0): Gear Up, Champion! 🛡️⚔️\n",
    "\n",
    "![](./assets/figures/Tiers_1-2-3.webp)\n",
    "\n",
    "In the vast lands of Azeroth, where battles rage and monsters lurk, a hero is only as good as their gear. You wouldn’t charge into battle wearing a flimsy tunic, would you? And fighting off a dragon with your bare fists? That’s a one-way ticket to the graveyard!\n",
    "\n",
    "That’s why armor and weapons are essential. A sturdy chestplate can absorb crushing blows, while a razor-sharp sword can cleave through enemies with ease. Whether you're a mighty warrior, a stealthy rogue, or a powerful mage, the right equipment can mean the difference between victory and defeat.\n",
    "\n",
    "Let’s take a look at how armor and weapons work in our World of Warcraft-inspired RPG system!"
   ]
  },
  {
   "cell_type": "code",
   "execution_count": null,
   "metadata": {
    "tags": [
     "skip-execution"
    ]
   },
   "outputs": [],
   "source": [
    "# define the Armor class, which inherits from the Item class\n",
    "...\n",
    "    \"\"\"\n",
    "    Represents protective gear that enhances a character’s defensive stats.\n",
    "\n",
    "    Armor items provide two key stat boosts:\n",
    "    - `defense`: Reduces incoming damage.\n",
    "    - `agility`: Improves evasion and movement speed.\n",
    "\n",
    "    Parameters:\n",
    "    -----------\n",
    "    name : str\n",
    "        The name of the armor (e.g., \"Knight’s Plate\", \"Shadow Cloak\").\n",
    "    stat : str\n",
    "        The primary stat affected by the armor (e.g., \"defense\", \"agility\").\n",
    "    value : int\n",
    "        The amount of additional stat provided by the armor.\n",
    "    slot : str\n",
    "        The equipment slot where the armor is worn (e.g., \"chest\", \"legs\", \"head\").\n",
    "\n",
    "    Effects:\n",
    "    --------\n",
    "    - **Equipping armor** increases the character’s overall survivability.\n",
    "    - **Higher agility armor** may benefit classes like rogues or hunters.\n",
    "\n",
    "    Example Usage:\n",
    "    --------------\n",
    "    >>> chestplate = Armor(name=\"Dragonbone Chestplate\", stat=\"defense\", value=50, slot=\"chest\")\n",
    "    >>> print(chestplate.name, chestplate.stat, chestplate.value, chestplate.slot)\n",
    "    \"Dragonbone Chestplate\", \"defense\", 50, \"chest\"\n",
    "    \"\"\"\n",
    "    # Define the __init__ method with the following attributes:\n",
    "    # name (str), stat (str), value (int), slot (str)\n",
    "    # call the super() method to initialize the attributes\n",
    "    # assign the stat, value, and slot attributes to self -- this is done in the super() method\n",
    "    # the default effect should be always \"increase\"\n",
    "    ...\n",
    "    \n",
    "    # define the apply method, this should call the equip_item method on the character\n",
    "    # this should replace the apply method in the Item class using abstraction\n",
    "    # return the character object having called the equip_item method, on the armor object\n",
    "    ...\n",
    "\n",
    "\n",
    "# Create a weapon class that inherits from the Item class\n",
    "...\n",
    "    \"\"\"\n",
    "    Represents an offensive item that enhances a character’s damage output.\n",
    "\n",
    "    Weapons provide two key benefits:\n",
    "    - `damage`: The amount of raw attack power added to the character’s abilities.\n",
    "    - `stat_boost`: A bonus applied to a primary stat (e.g., strength or intellect).\n",
    "\n",
    "    Parameters:\n",
    "    -----------\n",
    "    name : str\n",
    "        The name of the weapon (e.g., \"Flaming Sword\", \"Ice Staff\").\n",
    "    value : int\n",
    "        The base damage value of the weapon.\n",
    "    stat_boost : str\n",
    "        The primary stat affected by the weapon (e.g., \"strength\", \"intellect\").\n",
    "    slot : str, optional\n",
    "        The equipment slot, default is \"weapon\".\n",
    "\n",
    "    Effects:\n",
    "    --------\n",
    "    - **Melee weapons** boost strength and increase physical attack power.\n",
    "    - **Magic staves and wands** enhance intellect, increasing spell potency.\n",
    "    - **Different classes benefit from different weapons** (e.g., warriors favor axes, mages favor staves).\n",
    "\n",
    "    Example Usage:\n",
    "    --------------\n",
    "    >>> sword = Weapon(name=\"Doomblade\", value=75, stat_boost=\"strength\")\n",
    "    >>> print(sword.name, sword.value, sword.stat_boost, sword.slot)\n",
    "    \"Doomblade\", 75, \"strength\", \"weapon\"\n",
    "    \"\"\"\n",
    "    # Define the __init__ method with the following attributes:\n",
    "    # name (str), value (int), stat_boost (str), slot (str)\n",
    "    # call the super() method to initialize the attributes\n",
    "    # the default should be to \"increase\" the stat\n",
    "    ...\n",
    "    \n",
    "    # define the apply method, this should call the equip_item method on the character\n",
    "    # this should replace the apply method in the Item class using abstraction\n",
    "    # return the character object having called the equip_item method, on the weapon object\n",
    "    ...\n",
    "    \n",
    "    "
   ]
  },
  {
   "cell_type": "code",
   "execution_count": null,
   "metadata": {
    "deletable": false,
    "editable": false,
    "tags": [
     "skip-execution"
    ]
   },
   "outputs": [],
   "source": [
    "grader.check(\"Armor-class-builder\")"
   ]
  },
  {
   "cell_type": "markdown",
   "metadata": {
    "deletable": false,
    "editable": false
   },
   "source": [
    "### **Unleash the Arcane! 🔥⚡🧙**  \n",
    "\n",
    "![](./assets/figures/980495-fireball.jpg)\n",
    "\n",
    "Magic is the lifeblood of **Azeroth**—from the fiery blasts of a **mage’s Fireball** to the shadowy whispers of a **warlock’s curse**. Whether you’re hurling ice at your enemies or summoning divine light to heal allies, spells are a **powerful force** that can turn the tide of battle.  \n",
    "\n",
    "But **beware, young sorcerer!** 🔮✨ Casting spells isn’t free—each one **drains your mana**, and the most powerful incantations require **a high level of mastery**. Run out of mana in the middle of a fight? You might find yourself at the mercy of a rampaging orc… or worse!  \n",
    "\n",
    "The **Spell class** below allows spellcasters to **cast abilities**, but only if they have the **required level** and **enough mana** to fuel their arcane power. Study it well—your **magic-wielding future** depends on it! 🔥⚔️"
   ]
  },
  {
   "cell_type": "code",
   "execution_count": null,
   "metadata": {
    "tags": [
     "skip-execution"
    ]
   },
   "outputs": [],
   "source": [
    "# Create a class called Spell.\n",
    "...\n",
    "    \"\"\"\n",
    "    Represents a magical ability that consumes mana when cast.\n",
    "\n",
    "    Spells are powerful abilities that characters can use in battle. Each spell has\n",
    "    a name, damage value, mana cost, and a minimum level requirement. Characters\n",
    "    must meet the level requirement and have sufficient mana to cast the spell.\n",
    "\n",
    "    Attributes:\n",
    "    -----------\n",
    "    name : str\n",
    "        The name of the spell (e.g., \"Fireball\", \"Healing Light\", \"Shadow Bolt\").\n",
    "    damage : int\n",
    "        The amount of damage the spell inflicts on an enemy (or healing power for healing spells).\n",
    "    mana_cost : int\n",
    "        The amount of mana required to cast the spell.\n",
    "    level_required : int\n",
    "        The minimum character level required to use the spell.\n",
    "\n",
    "    Methods:\n",
    "    --------\n",
    "    cast(character):\n",
    "        Attempts to cast the spell using the given character.\n",
    "        - If the character's level is too low, it returns a message indicating that they cannot cast it.\n",
    "        - If the character does not have enough mana, it returns a message about insufficient mana.\n",
    "        - If the spell is successfully cast, the character's mana is reduced, and a message\n",
    "        is returned confirming the spell and its damage.\n",
    "\n",
    "    Example Usage:\n",
    "    --------------\n",
    "    >>> mage = Character(name=\"Merlin\", race=Human(), class_type=Mage())\n",
    "    >>> fireball = Spell(name=\"Fireball\", damage=50, mana_cost=20, level_required=1)\n",
    "    >>> print(fireball.cast(mage))\n",
    "    \"Merlin cast Fireball, dealing 50 damage!\"\n",
    "\n",
    "    Notes:\n",
    "    ------\n",
    "    - This class assumes the `character` parameter has attributes: `name`, `level`, and `base_mana`.\n",
    "    - The method does not handle spell resistance or critical hits.\n",
    "    \"\"\"\n",
    "    # Define the __init__ method with the following attributes:\n",
    "    # name (str), damage (int), mana_cost (int), level_required (int)\n",
    "    # assign the attributes to self\n",
    "    ...\n",
    "\n",
    "    # Define the cast method with the following parameters:\n",
    "    # self, character\n",
    "    # if the character's level is less than the level required for the spell\n",
    "    # return a message saying \"{character.name} is not high enough level to cast {self.name}!\"\n",
    "    # if the character does not have enough mana to cast the spell\n",
    "    # return a message saying \"Not enough mana to cast {self.name}!\"\n",
    "    # otherwise, subtract the mana cost from the character's base mana\n",
    "    # return a message saying \"{character.name} cast {self.name}, dealing {self.damage} damage!\"\n",
    "    ..."
   ]
  },
  {
   "cell_type": "code",
   "execution_count": null,
   "metadata": {
    "deletable": false,
    "editable": false,
    "tags": [
     "skip-execution"
    ]
   },
   "outputs": [],
   "source": [
    "grader.check(\"Spell-casting-class\")"
   ]
  },
  {
   "cell_type": "markdown",
   "metadata": {
    "deletable": false,
    "editable": false
   },
   "source": [
    "### **Forging Your Path: The Legacy of Class Archetypes in Azeroth ⚔️🔮🏹**  \n",
    "\n",
    "In the grand saga of **Azeroth**, where heroes rise and legends are forged, your **character class** defines your **role, abilities, and combat style**. Choosing a class is more than just selecting a title—it’s about embracing an **identity**.  \n",
    "\n",
    "Will you become a **Warrior**, clad in heavy armor, leading the charge into battle with raw strength and resilience? Or perhaps a **Mage**, wielding the destructive power of fire and ice, shaping reality itself with arcane mastery? Maybe you prefer the shadows, lurking unseen as a **Rogue**, striking with deadly precision before vanishing without a trace.  \n",
    "\n",
    "Each **class type** offers a unique set of advantages, spells, and abilities, shaping how you interact with the world and engage in combat. Some excel in **close-quarters melee combat**, others thrive in **long-range spellcasting**, while hybrid classes blend **multiple disciplines**, mastering a balance of offense and defense.  \n",
    "\n",
    "The **ClassType** class below serves as a **blueprint for all character archetypes**, setting the foundation for **base stats, special abilities, and spellcasting potential**. As an **abstract class**, it enforces a structure, ensuring that each specific class—be it a Warrior, Mage, or Rogue—must define its own **special ability progression**.  \n",
    "\n",
    "So, **adventurer**, the question remains:  \n",
    "What kind of hero will you become? ⚔️🔥✨  "
   ]
  },
  {
   "cell_type": "code",
   "execution_count": null,
   "metadata": {
    "tags": [
     "skip-execution"
    ]
   },
   "outputs": [],
   "source": [
    "# Create a class called ClassType.\n",
    "# It should inherit from the ABC class\n",
    "# It should have the following attributes:\n",
    "# name (str), base_health (int), base_mana (int)\n",
    "# It should have the following methods:\n",
    "# special_ability()\n",
    "...\n",
    "    \"\"\"\n",
    "    The ClassType class serves as an abstract base class for all character classes in the game.\n",
    "    \n",
    "    Attributes:\n",
    "        name (str): The name of the character class.\n",
    "        base_health (int): The base health points for the character class. Defaults to 100.\n",
    "        base_mana (int): The base mana points for the character class. Defaults to 50.\n",
    "        abilities (dict): A dictionary mapping levels to abilities unlocked at those levels.\n",
    "        spells (list): A list of spells available to the character class.\n",
    "    \n",
    "    Methods:\n",
    "        __init__(name, **kwargs):\n",
    "            Initializes the ClassType with a name, base health, base mana, abilities, and spells.\n",
    "        \n",
    "        special_ability(level):\n",
    "            Abstract method that returns the ability unlocked at a given level.\n",
    "            Must be implemented by subclasses.\n",
    "    \"\"\"\n",
    "    # define the __init__ method with the following attributes:\n",
    "    # use the **kwargs to initialize the attributes\n",
    "    # set the base_health and base_mana attributes to the values in kwargs with default values of 100 and 50 respectively\n",
    "    # set the abilities and spells attributes to empty dictionaries and lists respectively\n",
    "    ...\n",
    "    \n",
    "    # define the special_ability method, this is an abstract method that must be implemented by subclasses\n",
    "    # it should return the ability unlocked at a given level, this should call the abilities dictionary with the level as the key. \n",
    "    # if the level is not in the dictionary, return \"No new abilities at this level.\"\n",
    "    ..."
   ]
  },
  {
   "cell_type": "code",
   "execution_count": null,
   "metadata": {
    "deletable": false,
    "editable": false,
    "tags": [
     "skip-execution"
    ]
   },
   "outputs": [],
   "source": [
    "grader.check(\"ClassType-class\")"
   ]
  },
  {
   "cell_type": "markdown",
   "metadata": {
    "deletable": false,
    "editable": false
   },
   "source": [
    "### **Gear Up, Champion: Mastering Equipment in Azeroth ⚔️🛡️**  \n",
    "\n",
    "![](./assets/figures/Character_info_BfA_Equipment.webp)\n",
    "\n",
    "In the battle-scarred world of **Azeroth**, the difference between **victory and defeat** often comes down to the **gear you wield**. A **warrior without armor** is just a fool charging into battle, and a **mage without a staff** is nothing more than a scholar in robes. Every hero needs the **right equipment** to survive, thrive, and dominate the battlefield.  \n",
    "\n",
    "From the legendary **helmets of fallen kings** to **enchanted blades forged in dragonfire**, equipment grants heroes **increased power, defense, and agility**. But managing this gear is no easy task—**equipping the right items at the right time** can be the key to unlocking your full potential.  \n",
    "\n",
    "The **EquipmentManager** class below ensures that characters can properly **equip and unequip** items, allowing them to maximize their **strength, resilience, and magic power**. Whether you’re **donning a new chestplate** before a raid or **swapping weapons** for a duel, this system ensures that every piece of gear finds its rightful place.  \n",
    "\n",
    "So, **hero**, choose wisely—**the right equipment can make you a legend**. ⚡🔥🏹"
   ]
  },
  {
   "cell_type": "code",
   "execution_count": null,
   "metadata": {
    "tags": [
     "skip-execution"
    ]
   },
   "outputs": [],
   "source": [
    "# Create a class called EquipmentManager.\n",
    "# It should have the following attributes:\n",
    "# equipped_items (dict): A dictionary mapping slots to items\n",
    "# It should have the following methods:\n",
    "# equip_item(item)\n",
    "# unequip_item(slot)\n",
    "...\n",
    "        self.equipped_items = {\n",
    "            \"head\": None,\n",
    "            \"chest\": None,\n",
    "            \"legs\": None,\n",
    "            \"weapon\": None,\n",
    "        }\n",
    "\n",
    "    # define the equip_item method with the following parameters:\n",
    "    # self, item\n",
    "    # if the item.slot is in the equipped_items dictionary\n",
    "    # set the equipped_items dictionary to the item.slot key to the item\n",
    "    # return a message saying \"Equipped {item.name} in {item.slot} slot!\"\n",
    "    # otherwise, return a message saying \"Cannot equip this item.\"\n",
    "    ...\n",
    "    \n",
    "    # define the unequip_item method with the following parameters:\n",
    "    # self, slot\n",
    "    # if the slot is in the equipped_items dictionary and the slot is not None\n",
    "    # set the equipped_items dictionary to the slot key to None\n",
    "    # return a message saying \"Unequipped {removed_item.name} from {slot} slot!\"\n",
    "    # otherwise, return a message saying \"No item equipped in this slot.\"\n",
    "    ..."
   ]
  },
  {
   "cell_type": "code",
   "execution_count": null,
   "metadata": {
    "deletable": false,
    "editable": false,
    "tags": [
     "skip-execution"
    ]
   },
   "outputs": [],
   "source": [
    "grader.check(\"EquipmentManager-class\")"
   ]
  },
  {
   "cell_type": "markdown",
   "metadata": {
    "deletable": false,
    "editable": false
   },
   "source": [
    "### **The Unbreakable Vanguard: The Warrior’s Path ⚔️🛡️🔥**  \n",
    "\n",
    "![](./assets/figures/warrior-wow.webp)\n",
    "\n",
    "In **Azeroth**, few embody raw power and unyielding resolve like the **Warrior**. Clad in heavy armor, wielding colossal weapons, and standing firm in the face of overwhelming odds, the Warrior is a **living embodiment of strength and endurance**.  \n",
    "\n",
    "Unlike fragile spellcasters who rely on mana or cunning rogues who lurk in the shadows, Warriors **thrive in the thick of battle**. They charge headfirst into combat, using their immense resilience and brute force to crush their enemies. Whether **leading the charge in an epic siege** or **standing as the last line of defense**, the Warrior never falters.  \n",
    "\n",
    "The **Warrior class** below builds upon the **ClassType framework**, defining a character with **high health, minimal mana**, and a **set of abilities focused on physical combat**. Warriors start with the powerful **\"Charge\" ability**, allowing them to **rush into battle**, and gain access to **\"Battle Shout\"**, a rallying cry that strengthens their allies.  \n",
    "\n",
    "Are you ready to take up your **blade and shield**, to stand firm against the darkness? Then the Warrior’s path is yours to walk. ⚔️🔥💀"
   ]
  },
  {
   "cell_type": "code",
   "execution_count": null,
   "metadata": {
    "tags": [
     "skip-execution"
    ]
   },
   "outputs": [],
   "source": [
    "# Create a class called Warrior.\n",
    "# It should inherit from the ClassType class\n",
    "# It should have the following attributes:\n",
    "# name (str), base_health (int), base_mana (int)\n",
    "# It should have the following methods:\n",
    "# special_ability() which is a method inherited from the ClassType class\n",
    "...\n",
    "    # define the __init__ method with the following attributes:\n",
    "    # name (str), base_health (int), base_mana (int)\n",
    "    # use the **kwargs to initialize the attributes\n",
    "    # set the base_health and base_mana attributes to the values in kwargs with default values of 150 and 30 respectively\n",
    "    # set the abilities and spells attributes to empty dictionaries and lists respectively\n",
    "    ...\n",
    "        # call the super() method to initialize the attributes\n",
    "        # make sure to pass the name to the super() method warrior - {name}\n",
    "        # make sure to pass the base_health and base_mana to the super() method with default values of 150 and 30 respectively\n",
    "        ...\n",
    "        # Set the abilities to a dictionary with the key 1 and the value \"Charge - Rush and deal damage!\"\n",
    "        # Set the spells to a list with the Spell object \"Battle Shout\", 0 damage, 10 mana cost, and level required of 2\n",
    "        ...\n",
    "    \n",
    "    # Define the special_ability method with the following attributes:\n",
    "    # self\n",
    "    # return the abilities attribute 1\n",
    "    ..."
   ]
  },
  {
   "cell_type": "code",
   "execution_count": null,
   "metadata": {
    "deletable": false,
    "editable": false,
    "tags": [
     "skip-execution"
    ]
   },
   "outputs": [],
   "source": [
    "grader.check(\"Warrior-class\")"
   ]
  },
  {
   "cell_type": "markdown",
   "metadata": {
    "deletable": false,
    "editable": false
   },
   "source": [
    "### **Masters of the Arcane: The Path of the Mage 🔥📜✨**  \n",
    "\n",
    "In the mystical lands of **Azeroth**, knowledge is power, and no class wields it more destructively than the **Mage**. Masters of fire, frost, and arcane energy, Mages are **glass cannons**—fragile in body but capable of **unleashing catastrophic destruction** upon their foes.  \n",
    "\n",
    "With a flick of their wrist, a Mage can **incinerate enemies with fire**, **freeze them solid with ice**, or **bend time and space** to teleport across vast distances. Unlike warriors who charge into battle clad in heavy armor, Mages **stand at a distance**, strategically weaving spells that **control, devastate, and bewilder** their enemies.  \n",
    "\n",
    "The **Mage class** below is built upon the **ClassType framework**, defining a character with **low health but immense mana reserves**. Mages start with **\"Fireball\"**, a devastating spell that ignites foes, and later gain powerful spells like **\"Ice Barrier\"** for protection and **\"Teleport\"** to traverse great distances.  \n",
    "\n",
    "If you seek to wield **limitless magical potential**, commanding **fire, frost, and the arcane**, then step forward—the path of the Mage awaits. 🔥📖⚡"
   ]
  },
  {
   "cell_type": "code",
   "execution_count": null,
   "metadata": {
    "tags": [
     "skip-execution"
    ]
   },
   "outputs": [],
   "source": [
    "# Create a class called Mage.\n",
    "# It should inherit from the ClassType class\n",
    "# It should have the following attributes:\n",
    "# name (str), base_health (int), base_mana (int)\n",
    "# It should have the following methods:\n",
    "# special_ability() which is a method inherited from the ClassType class\n",
    "...\n",
    "    # define the __init__ method with the following attributes:\n",
    "    # name (str), base_health (int), base_mana (int)\n",
    "    # use the **kwargs to initialize the attributes\n",
    "    # set the base_health and base_mana attributes to the values in kwargs with default values of 80 and 150 respectively\n",
    "    ...\n",
    "        # call the super() method to initialize the attributes\n",
    "        # make sure to pass the name to the super() method mage\n",
    "        # make sure to pass the base_health and base_mana to the super() method with default values of 80 and 150 respectively\n",
    "        ...\n",
    "        # Set the abilities to a dictionary with the key 1 and the value \"Fireball - Cast a fire spell!\"\n",
    "        # Set the spells to a list with the Spell object \"Fireball\", 30 damage, 20 mana cost, and level required of 1\n",
    "        # Set the spells to a list with the Spell object \"Ice Barrier\", 0 damage, 40 mana cost, and level required of 5\n",
    "        # Set the spells to a list with the Spell object \"Teleport\", 0 damage, 50 mana cost, and level required of 10\n",
    "        ...\n",
    "        \n",
    "    # Define the special_ability method with the following attributes:\n",
    "    # self\n",
    "    # return the abilities attribute 1\n",
    "    ..."
   ]
  },
  {
   "cell_type": "code",
   "execution_count": null,
   "metadata": {
    "deletable": false,
    "editable": false,
    "tags": [
     "skip-execution"
    ]
   },
   "outputs": [],
   "source": [
    "grader.check(\"Mage-class\")"
   ]
  },
  {
   "cell_type": "markdown",
   "metadata": {
    "deletable": false,
    "editable": false
   },
   "source": [
    "### **The Way of Balance: The Path of the Monk 🌀🥋✨**  \n",
    "\n",
    "In the vast and mystical lands of **Azeroth**, few warriors embody both **discipline and harmony** like the **Monk**. Trained in the art of **hand-to-hand combat, spiritual energy, and inner balance**, Monks channel their **Chi** to deliver **swift, precise strikes** while maintaining a deep connection to their surroundings.  \n",
    "\n",
    "Unlike warriors who rely on brute force or mages who manipulate arcane energies, Monks **combine agility, wisdom, and spiritual resilience**. They can **strike with lightning-fast punches**, **redirect incoming attacks**, and even **heal wounds through meditation and energy flow**. Whether as **a fierce combatant**, **a tranquil healer**, or **a balanced master of both**, the Monk’s strength lies in their ability to **adapt and flow like water**.  \n",
    "\n",
    "The **Monk class** below builds upon the **ClassType framework**, defining a character with **balanced health and mana**, focusing on **mobility, self-sustainability, and precise attacks**. Monks begin with **\"Inner Focus\"**, allowing them to center their mind and body, and later gain access to **\"Chi Wave\"**, a technique that channels energy to strike enemies or heal allies.  \n",
    "\n",
    "Are you prepared to walk the path of balance, to master both **body and spirit**? If so, then the way of the **Monk** is yours to follow. 🌀🥋✨  "
   ]
  },
  {
   "cell_type": "code",
   "execution_count": null,
   "metadata": {
    "tags": [
     "skip-execution"
    ]
   },
   "outputs": [],
   "source": [
    "# It should inherit from the ClassType class\n",
    "# It should have the following attributes:\n",
    "# name (str), base_health (int), base_mana (int)\n",
    "# It should have the following methods:\n",
    "# special_ability() which is a method inherited from the ClassType class\n",
    "...\n",
    "    # define the __init__ method with the following attributes:\n",
    "    # name (str), base_health (int), base_mana (int)\n",
    "    # use the **kwargs to initialize the attributes\n",
    "    # set the base_health and base_mana attributes to the values in kwargs with default values of 120 and 90 respectively\n",
    "    ...\n",
    "        # call the super() method to initialize the attributes\n",
    "        # make sure to pass the name to the super() method monk \n",
    "        # make sure to pass the base_health and base_mana to the super() method with default values of 120 and 90 respectively\n",
    "        ...\n",
    "        # Set the abilities to a dictionary with the key 1 and the value \"Inner Focus - Center your mind and body for enhanced combat!\"\n",
    "        # Set the spells to a list with the Spell object \"Chi Wave\", 25 damage, 20 mana cost, and level required of 3\n",
    "        # Set the spells to a list with the Spell object \"Zen Meditation\", 0 damage, 30 mana cost, and level required of 5\n",
    "        # Set the spells to a list with the Spell object \"Flying Serpent Kick\", 40 damage, 25 mana cost, and level required of 7\n",
    "        ...\n",
    "        \n",
    "    # Define the special_ability method with the following attributes:\n",
    "    # self\n",
    "    # return the abilities attribute 1\n",
    "    ..."
   ]
  },
  {
   "cell_type": "code",
   "execution_count": null,
   "metadata": {
    "deletable": false,
    "editable": false,
    "tags": [
     "skip-execution"
    ]
   },
   "outputs": [],
   "source": [
    "grader.check(\"Monk-class\")"
   ]
  },
  {
   "cell_type": "markdown",
   "metadata": {
    "deletable": false,
    "editable": false
   },
   "source": [
    "### **The Shield of Light: The Path of the Paladin 🛡️✨⚔️**  \n",
    "\n",
    "In the realm of **Azeroth**, few warriors stand as resolute and unwavering as the **Paladin**. Champions of **divine justice**, Paladins wield the **power of the Light** to **smite their enemies, shield their allies, and heal the wounded**. Clad in shining armor and driven by an unbreakable sense of duty, they serve as the **ultimate protectors** against darkness.  \n",
    "\n",
    "Unlike reckless warriors who rely on brute strength or mages who manipulate the arcane, Paladins are **a perfect blend of might and magic**. They can **strike down foes with holy-infused weapons**, **cleanse ailments with purifying energy**, and **stand unyielding in the face of overwhelming odds**. Whether defending the weak, leading a charge, or calling upon divine power for miracles, the Paladin is **a beacon of hope and strength**.  \n",
    "\n",
    "The **Paladin class** below is built upon the **ClassType framework**, defining a character with **high health, moderate mana, and a mix of offensive, defensive, and healing abilities**. Paladins begin with **\"Divine Strike\"**, a melee attack imbued with holy energy, and later gain access to **\"Lay on Hands\"**, a miraculous healing spell that can restore an ally from the brink of death.  \n",
    "\n",
    "Will you **wield the Light**, bringing justice to the wicked and protection to the innocent? If so, the **Paladin’s oath** is yours to take. ⚔️🛡️✨  "
   ]
  },
  {
   "cell_type": "code",
   "execution_count": null,
   "metadata": {
    "tags": [
     "skip-execution"
    ]
   },
   "outputs": [],
   "source": [
    "# It should inherit from the ClassType class\n",
    "# It should have the following attributes:\n",
    "# name (str), base_health (int), base_mana (int)\n",
    "# It should have the following methods:\n",
    "# special_ability() which is a method inherited from the ClassType class\n",
    "...\n",
    "    # define the __init__ method with the following attributes:\n",
    "    # name (str), base_health (int), base_mana (int)\n",
    "    # use the **kwargs to initialize the attributes\n",
    "    # set the base_health and base_mana attributes to the values in kwargs with default values of 140 and 100 respectively\n",
    "    ...\n",
    "        # call the super() method to initialize the attributes\n",
    "        # make sure to pass the name to the super() method paladin \n",
    "        # make sure to pass the base_health and base_mana to the super() method with default values of 140 and 100 respectively\n",
    "        ...\n",
    "        # Set the abilities to a dictionary with the key 1 and the value \"Divine Strike - Strike with holy power, dealing extra damage!\"\n",
    "        # Set the spells to a list with the Spell object \"Holy Light\", 0 damage, 25 mana cost, and level required of 3\n",
    "        # Set the spells to a list with the Spell object \"Lay on Hands\", 0 damage, 50 mana cost, and level required of 8\n",
    "        # Set the spells to a list with the Spell object \"Consecration\", 15 damage, 20 mana cost, and level required of 5\n",
    "        ...\n",
    "        \n",
    "    # Define the special_ability method with the following attributes:\n",
    "    # self\n",
    "    # return the abilities attribute 1\n",
    "    ..."
   ]
  },
  {
   "cell_type": "code",
   "execution_count": null,
   "metadata": {
    "deletable": false,
    "editable": false,
    "tags": [
     "skip-execution"
    ]
   },
   "outputs": [],
   "source": [
    "grader.check(\"Paladin-class\")"
   ]
  },
  {
   "cell_type": "markdown",
   "metadata": {
    "deletable": false,
    "editable": false
   },
   "source": [
    "### **Forging a Legend: The Essence of a Hero ⚔️🌟**  \n",
    "\n",
    "Every great saga begins with a **hero**. Whether a **mighty warrior**, a **wise mage**, or a **shadowy rogue**, every adventurer in **Azeroth** starts as a simple traveler with a name, and a chosen path. But through battle, experience, and the right gear, they **grow into legends**.  \n",
    "\n",
    "A **character** in this world is more than just a collection of stats—they are **a living story**, shaped by the choices they make, the enemies they defeat, and the power they wield. As they **gain experience**, they level up, **growing stronger with each battle**. Through **equipment, spells, and abilities**, they carve out their own **unique identity**, setting themselves apart from others on their journey.  \n",
    "\n",
    "The **Character class** below serves as the **core of any adventurer**, seamlessly integrating:\n",
    "- **Class Type** 🔮 – Determining their combat style, abilities, and mana reserves.\n",
    "- **Equipment Management** 🛡️ – Controlling the weapons and armor they wield.  \n",
    "\n",
    "Heroes **earn experience**, **level up**, and **harness their magical and physical prowess** to become stronger. But the journey is long, and **only those with true courage will rise above all others**.  \n",
    "\n",
    "So, **who will you become?** Your adventure begins now. ⚡🔥✨  "
   ]
  },
  {
   "cell_type": "code",
   "execution_count": null,
   "metadata": {
    "tags": [
     "skip-execution"
    ]
   },
   "outputs": [],
   "source": [
    "# Build the Character class\n",
    "# It should inherit from ClassType and EquipmentManager\n",
    "# It should have the following attributes:\n",
    "# name (str), class_type (ClassType), inventory (list) - default is an empty list, max_health (int) - default is 100, max_mana (int) - default is 50\n",
    "...\n",
    "    \"\"\"\n",
    "    A class to represent a character in the game.\n",
    "\n",
    "    Attributes:\n",
    "    -----------\n",
    "    name : str\n",
    "        The name of the character.\n",
    "    class_type : ClassType\n",
    "        The class type of the character.\n",
    "    inventory : list\n",
    "        The inventory of the character, default is an empty list.\n",
    "    max_health : int\n",
    "        The maximum health of the character, default is 100.\n",
    "    max_mana : int\n",
    "        The maximum mana of the character, default is 50.\n",
    "\n",
    "    Methods:\n",
    "    --------\n",
    "    check_equipment(attribute):\n",
    "        Checks if the character has any equipment equipped.\n",
    "    base_health():\n",
    "        Gets the base health of the character.\n",
    "    base_health(value):\n",
    "        Sets the base health of the character, ensuring it does not exceed max health or drop below zero.\n",
    "    max_health():\n",
    "        Gets the maximum health of the character.\n",
    "    max_health(value):\n",
    "        Sets the maximum health of the character, ensuring it is a positive value.\n",
    "    base_mana():\n",
    "        Gets the base mana of the character.\n",
    "    base_mana(value):\n",
    "        Sets the base mana of the character, ensuring it does not exceed max mana or drop below zero.\n",
    "    max_mana():\n",
    "        Gets the maximum mana of the character.\n",
    "    max_mana(value):\n",
    "        Sets the maximum mana of the character, ensuring it is a positive value.\n",
    "    strength():\n",
    "        Gets the strength of the character, including any equipment boosts.\n",
    "    strength(value):\n",
    "        Sets the strength of the character, ensuring it is never negative.\n",
    "    agility():\n",
    "        Gets the agility of the character, including any equipment boosts.\n",
    "    agility(value):\n",
    "        Sets the agility of the character, ensuring it is never negative.\n",
    "    intellect():\n",
    "        Gets the intellect of the character, including any equipment boosts.\n",
    "    intellect(value):\n",
    "        Sets the intellect of the character, ensuring it is never negative.\n",
    "    gain_experience(xp):\n",
    "        Adds experience points and levels up if needed.\n",
    "    level_up():\n",
    "        Increases the character's level and enhances their attributes.\n",
    "    special_ability():\n",
    "        Calls the special ability of the assigned class.\n",
    "    cast_spell(spell_name):\n",
    "        Attempts to cast a spell if known.\n",
    "    add_to_inventory(item):\n",
    "        Adds an item to the character's inventory.\n",
    "    equip_from_inventory(item):\n",
    "        Equips an item, removing any existing item in that slot first.\n",
    "    unequip_item(slot):\n",
    "        Unequips an item and removes its effects.\n",
    "    view_equipped_items():\n",
    "        Displays all currently equipped items.\n",
    "    \"\"\"\n",
    "    \n",
    "    # Write the __init__ method with the following parameters:\n",
    "    # name (str), class_type (ClassType), inventory (list)- default is an empty list, max_health (int)- default is 100, max_mana (int)- default is 50\n",
    "    ...\n",
    "        \"\"\"\n",
    "        Constructs all the necessary attributes for the character object.\n",
    "\n",
    "        Parameters:\n",
    "        -----------\n",
    "        name : str\n",
    "            The name of the character.\n",
    "        class_type : ClassType\n",
    "            The class type of the character.\n",
    "        inventory : list, optional\n",
    "            The inventory of the character, default is an empty list.\n",
    "        max_health : int, optional\n",
    "            The maximum health of the character, default is 100.\n",
    "        max_mana : int, optional\n",
    "            The maximum mana of the character, default is 50.\n",
    "        \"\"\"\n",
    "        # First initialize the max values\n",
    "        # we want to use setters so by convention we use _ prefix to indicate a private variable\n",
    "        # assign the max_health and max_mana to the private variables\n",
    "        ...\n",
    "        \n",
    "        # Now initialize parent classes\n",
    "        # super() is used to call the __init__ method of the parent class\n",
    "        # We are initializing the ClassType\n",
    "        # we pass the name, base_health, and base_mana to the super() method, these are obtained from the class_type object\n",
    "        ...\n",
    "        \n",
    "        # Now we initialize the EquipmentManager\n",
    "        # We can just call the EquipmentManager __init__ method, on the character object -- recall that this is the character class so self is the character object\n",
    "        ...\n",
    "\n",
    "        # Copy class-specific attributes\n",
    "        # we can just assign the attributes to the character object\n",
    "        # assign the name, class_type, spells, abilities, level, experience, inventory\n",
    "        # for spells and abilities we can use the copy method to avoid shared reference, use the .copy() method\n",
    "        ...\n",
    "        \n",
    "        # Initialize other attributes\n",
    "        # we can just assign the attributes to the character object\n",
    "        # assign the level = 1, experience = 0, inventory = inventory\n",
    "        ...\n",
    "        \n",
    "    # --- Check Equipment ---\n",
    "    # an important utility is to check the equipment the character has equipped, and calculate the total attribute boost provided by the equipment\n",
    "    # define a method called check_equipment(attribute) that takes an attribute (strength, agility, intellect) as input, it should return the total attribute boost provided by the equipment\n",
    "    ...\n",
    "        \"\"\"\n",
    "        Checks if the character has any equipment equipped.\n",
    "\n",
    "        Parameters:\n",
    "        -----------\n",
    "        attribute : str\n",
    "            The attribute to check for equipment.\n",
    "\n",
    "        Returns:\n",
    "        --------\n",
    "        int\n",
    "            The total attribute boost from equipped items.\n",
    "        \"\"\"\n",
    "        # assign the initial attribute_boost to 0\n",
    "        ...\n",
    "\n",
    "        # iterate through the equipped items\n",
    "        # if the item is not None and the item's stat matches the attribute, add the item's value to the attribute_boost\n",
    "        # the value is always in the value attribute of the item, per the inheritance from the Item class\n",
    "        ...\n",
    "        \n",
    "        # return the attribute_boost\n",
    "        ...\n",
    "        \n",
    "    # --- Health ---\n",
    "    # we can use the @property decorator to define a property for the base_health attribute\n",
    "    ...\n",
    "        \"\"\"\n",
    "        Gets the base health of the character.\n",
    "\n",
    "        Returns:\n",
    "        --------\n",
    "        int\n",
    "            The base health of the character.\n",
    "        \"\"\"\n",
    "        # we can just return the private variable\n",
    "        ...\n",
    "\n",
    "    # we can use the @base_health.setter decorator to define a setter for the base_health attribute, this should take a value as input and set the private variable to the value\n",
    "    ...\n",
    "        \"\"\"\n",
    "        Sets the base health of the character, ensuring it does not exceed max health or drop below zero.\n",
    "\n",
    "        Parameters:\n",
    "        -----------\n",
    "        value : int\n",
    "            The new base health value.\n",
    "        \"\"\"\n",
    "        # we can use the max and min functions to ensure the value is not below 0 or above the max health\n",
    "        # this is the advantage of using setters and getters, we can control the value being set and ensure it is within a physical range\n",
    "        ...\n",
    "\n",
    "    # we can use the @property decorator to define a property for the max_health attribute\n",
    "    ...\n",
    "        \"\"\"\n",
    "        Gets the maximum health of the character.\n",
    "\n",
    "        Returns:\n",
    "        --------\n",
    "        int\n",
    "            The maximum health of the character.\n",
    "        \"\"\"\n",
    "        # we can just return the private variable\n",
    "        ...\n",
    "\n",
    "    # we can use the @max_health.setter decorator to define a setter for the max_health attribute, this should take a value as input and set the private variable to the value\n",
    "    ...\n",
    "        \"\"\"\n",
    "        Sets the maximum health of the character, ensuring it is a positive value.\n",
    "\n",
    "        Parameters:\n",
    "        -----------\n",
    "        value : int\n",
    "            The new maximum health value.\n",
    "        \"\"\"\n",
    "        # we can use the max function to ensure the value is not below 1\n",
    "        ...\n",
    "\n",
    "    # --- Mana ---\n",
    "    # we can use the @property decorator to define a property for the base_mana attribute\n",
    "    ...\n",
    "        \"\"\"\n",
    "        Gets the base mana of the character.\n",
    "\n",
    "        Returns:\n",
    "        --------\n",
    "        int\n",
    "            The base mana of the character.\n",
    "        \"\"\"\n",
    "        # we can just return the private variable\n",
    "        ...\n",
    "\n",
    "    # we can use the @base_mana.setter decorator to define a setter for the base_mana attribute, this should take a value as input and set the private variable to the value\n",
    "    ...\n",
    "        \"\"\"\n",
    "        Sets the base mana of the character, ensuring it does not exceed max mana or drop below zero.\n",
    "\n",
    "        Parameters:\n",
    "        -----------\n",
    "        value : int\n",
    "            The new base mana value.\n",
    "        \"\"\"\n",
    "        # we can use the max and min functions to ensure the value is not below 0 or above the max mana\n",
    "        ...\n",
    "\n",
    "    # we can use the @property decorator to define a property for the max_mana attribute\n",
    "    ...\n",
    "        \"\"\"\n",
    "        Gets the maximum mana of the character.\n",
    "\n",
    "        Returns:\n",
    "        --------\n",
    "        int\n",
    "            The maximum mana of the character.\n",
    "        \"\"\"\n",
    "        # we can just return the private variable\n",
    "        ...\n",
    "\n",
    "    # we can use the @max_mana.setter decorator to define a setter for the max_mana attribute, this should take a value as input and set the private variable to the value\n",
    "    ...\n",
    "        \"\"\"\n",
    "        Sets the maximum mana of the character, ensuring it is a positive value.\n",
    "\n",
    "        Parameters:\n",
    "        -----------\n",
    "        value : int\n",
    "            The new maximum mana value.\n",
    "        \"\"\"\n",
    "        # we can use the max function to ensure the value is not below 1\n",
    "        ...\n",
    "\n",
    "    # --- Strength ---\n",
    "    # we can use the @property decorator to define a property for the strength attribute\n",
    "    ...\n",
    "        \"\"\"\n",
    "        Gets the strength of the character, including any equipment boosts.\n",
    "\n",
    "        Returns:\n",
    "        --------\n",
    "        int\n",
    "            The total strength of the character.\n",
    "        \"\"\"\n",
    "        # we can use the check_equipment method to get the attribute boost from the equipment\n",
    "        ...\n",
    "        # we can return the strength plus the attribute boost, remember to use the _ prefix to access the private variable\n",
    "        ...\n",
    "\n",
    "    # we can use the @strength.setter decorator to define a setter for the strength attribute, this should take a value as input and set the private variable to the value\n",
    "    ...\n",
    "        \"\"\"\n",
    "        Sets the strength of the character, ensuring it is never negative.\n",
    "\n",
    "        Parameters:\n",
    "        -----------\n",
    "        value : int\n",
    "            The new strength value.\n",
    "        \"\"\"\n",
    "        # we can use the max function to ensure the value is not below 0\n",
    "        ...\n",
    "\n",
    "    # --- Agility ---\n",
    "    # we can use the @property decorator to define a property for the agility attribute\n",
    "    ...\n",
    "        \"\"\"\n",
    "        Gets the agility of the character, including any equipment boosts.\n",
    "\n",
    "        Returns:\n",
    "        --------\n",
    "        int\n",
    "            The total agility of the character.\n",
    "        \"\"\"\n",
    "        # we can use the check_equipment method to get the attribute boost from the equipment\n",
    "        ...\n",
    "        # we can return the agility plus the attribute boost, remember to use the _ prefix to access the private variable\n",
    "        ...\n",
    "\n",
    "    # we can use the @agility.setter decorator to define a setter for the agility attribute, this should take a value as input and set the private variable to the value\n",
    "    ...\n",
    "        \"\"\"\n",
    "        Sets the agility of the character, ensuring it is never negative.\n",
    "\n",
    "        Parameters:\n",
    "        -----------\n",
    "        value : int\n",
    "            The new agility value.\n",
    "        \"\"\"\n",
    "        # we can use the max function to ensure the value is not below 0\n",
    "        ...\n",
    "\n",
    "    # --- Intellect ---\n",
    "    # we can use the @property decorator to define a property for the intellect attribute\n",
    "    ...\n",
    "        \"\"\"\n",
    "        Gets the intellect of the character, including any equipment boosts.\n",
    "\n",
    "        Returns:\n",
    "        --------\n",
    "        int\n",
    "            The total intellect of the character.\n",
    "        \"\"\"\n",
    "        # we can use the check_equipment method to get the attribute boost from the equipment\n",
    "        ...\n",
    "        # we can return the intellect plus the attribute boost, remember to use the _ prefix to access the private variable\n",
    "        ...\n",
    "\n",
    "    # we can use the @intellect.setter decorator to define a setter for the intellect attribute, this should take a value as input and set the private variable to the value\n",
    "    ...\n",
    "        \"\"\"\n",
    "        Sets the intellect of the character, ensuring it is never negative.\n",
    "\n",
    "        Parameters:\n",
    "        -----------\n",
    "        value : int\n",
    "            The new intellect value.\n",
    "        \"\"\"\n",
    "        # we can use the max function to ensure the value is not below 0\n",
    "        ...\n",
    "\n",
    "    # --- Experience & Leveling ---\n",
    "    \n",
    "    # we want to define a method called gain_experience(xp) that takes an integer as input and adds the experience to the experience attribute\n",
    "    # we also want to level up the character if the experience is greater than or equal to the level times 100\n",
    "    # we can use the while loop to check if the experience is greater than or equal to the level times 100, and if it is, we can call the level_up method\n",
    "    # we can use the += operator to add the experience to the experience attribute\n",
    "    ...\n",
    "        \"\"\"\n",
    "        Adds experience points and levels up if needed.\n",
    "\n",
    "        Parameters:\n",
    "        -----------\n",
    "        xp : int\n",
    "            The amount of experience points to add.\n",
    "        \"\"\"\n",
    "        ...\n",
    "\n",
    "    # we can define a method called level_up that increases the level and enhances the attributes\n",
    "    # we can use the += operator to add the level to the level attribute by 1\n",
    "    # we can use the += operator to add the max_health to the max_health attribute by 10\n",
    "    # we can use the += operator to add the max_mana to the max_mana attribute by 5\n",
    "    # we can use the += operator to add the strength to the strength attribute by 2\n",
    "    # we can use the += operator to add the agility to the agility attribute by 2\n",
    "    # we can use the += operator to add the intellect to the intellect attribute by 2\n",
    "    # we can use the print function to print a message to the console \"🎉 {self.name} leveled up to Level {self.level}!\"\n",
    "    ...\n",
    "    \n",
    "    # --- Spell Casting ---\n",
    "    # we can define a method called special_ability that calls the special_ability method of the class_type attribute\n",
    "    # we can use the return statement to return the result of the special_ability method, this is in self.class_type.special_ability()\n",
    "    ...\n",
    "        \"\"\"\n",
    "        Calls the special ability of the assigned class.\n",
    "\n",
    "        Returns:\n",
    "        --------\n",
    "        str\n",
    "            The result of the special ability.\n",
    "        \"\"\"\n",
    "        ...\n",
    "\n",
    "    # we can define a method called cast_spell that takes a spell_name as input\n",
    "    # we can use the for loop to iterate through the spells attribute of the class_type attribute\n",
    "    # we can use the if statement to check if the spell_name is equal to the name of the spell\n",
    "    # we can use the return statement to return the result of the spell.cast(self) method\n",
    "    # we can use the return statement to return a message to the console \"{self.name} does not know the spell {spell_name}.\"\n",
    "    ...\n",
    "        \"\"\"\n",
    "        Attempts to cast a spell if known.\n",
    "\n",
    "        Parameters:\n",
    "        -----------\n",
    "        spell_name : str\n",
    "            The name of the spell to cast.\n",
    "\n",
    "        Returns:\n",
    "        --------\n",
    "        str\n",
    "            The result of the spell casting attempt.\n",
    "        \"\"\"\n",
    "        ...\n",
    "        \n",
    "    # --- Equipment ---\n",
    "    # we can define a method called add_to_inventory that takes an item as input\n",
    "    # we can use the append method to add the item to the inventory attribute\n",
    "    # we can use the return statement to return a message to the console \"{item.name} added to {self.name}'s inventory!\"\n",
    "    ...\n",
    "        \"\"\"\n",
    "        Adds an item to the character's inventory.\n",
    "\n",
    "        Parameters:\n",
    "        -----------\n",
    "        item : Item\n",
    "            The item to add to the inventory.\n",
    "\n",
    "        Returns:\n",
    "        --------\n",
    "        str\n",
    "            A message confirming the item was added.\n",
    "        \"\"\"\n",
    "        # we can use the append method to add the item to the inventory attribute\n",
    "        # we can use the return statement to return a message to the console \"{item.name} added to {self.name}'s inventory!\"\n",
    "        ...\n",
    "    \n",
    "    # we can define a method called equip_from_inventory that takes an item as input\n",
    "    # we can use the if statement to check if the item.slot is in the equipped_items attribute\n",
    "    # we can use the current_item variable to store the item in the equipped_items attribute\n",
    "    # we can use the return statement to return a message to the console \"Equipped {item.name} in {item.slot} slot!\"\n",
    "    # we can use the return statement to return a message to the console \"Cannot equip this item.\"\n",
    "    ...\n",
    "        \"\"\"\n",
    "        Equips an item, removing any existing item in that slot first.\n",
    "        Overrides the EquipmentManager's equip_item method.\n",
    "\n",
    "        Parameters:\n",
    "        -----------\n",
    "        item : Item\n",
    "            The item to equip.\n",
    "\n",
    "        Returns:\n",
    "        --------\n",
    "        str\n",
    "            A message confirming the item was equipped.\n",
    "        \"\"\"\n",
    "        if item.slot in self.equipped_items:\n",
    "            # Remove effects of currently equipped item if it exists\n",
    "            current_item = self.equipped_items[item.slot]\n",
    "     \n",
    "            return f\"Equipped {item.name} in {item.slot} slot!\"\n",
    "        return \"Cannot equip this item.\"\n",
    "\n",
    "    # def unequip_item(self, slot):\n",
    "    #     \"\"\"\n",
    "    #     Unequips an item and removes its effects.\n",
    "    #     Overrides the EquipmentManager's unequip_item method.\n",
    "\n",
    "    #     Parameters:\n",
    "    #     -----------\n",
    "    #     slot : str\n",
    "    #         The slot from which to unequip the item.\n",
    "\n",
    "    #     Returns:\n",
    "    #     --------\n",
    "    #     str\n",
    "    #         A message confirming the item was unequipped.\n",
    "    #     \"\"\"\n",
    "    #     if slot in self.equipped_items and self.equipped_items[slot]:\n",
    "    #         item = self.equipped_items[slot]\n",
    "            \n",
    "    #         # Remove item's effects\n",
    "    #         if isinstance(item, Armor):\n",
    "    #             self.agility -= item.agility\n",
    "    #         elif isinstance(item, Weapon):\n",
    "    #             if item.stat_boost == \"strength\":\n",
    "    #                 self.strength -= item.damage\n",
    "    #             elif item.stat_boost == \"intellect\":\n",
    "    #                 self.intellect -= item.damage\n",
    "            \n",
    "    #         # Add item back to inventory\n",
    "    #         self.inventory.append(item)\n",
    "    #         self.equipped_items[slot] = None\n",
    "            \n",
    "    #         return f\"Unequipped {item.name} from {slot} slot!\"\n",
    "    #     return \"No item equipped in this slot.\"\n",
    "    \n",
    "    # we can define a method called view_equipped_items that displays all currently equipped items\n",
    "    # we can use the for loop to iterate through the equipped_items attribute\n",
    "    # we can use the status variable to store the status of the item\n",
    "    # we can use the equipped_list variable to store the equipped items\n",
    "    # we can use the return statement to return a formatted string showing all equipped items\n",
    "    ...\n",
    "        \"\"\"\n",
    "        Displays all currently equipped items.\n",
    "\n",
    "        Returns:\n",
    "        --------\n",
    "        str\n",
    "            A formatted string showing all equipped items.\n",
    "        \"\"\"\n",
    "        # we can use the for loop to iterate through the equipped_items attribute\n",
    "        # we can use the status variable to store the status of the item\n",
    "        # we can use the equipped_list variable to store the equipped items\n",
    "        # we can use the return statement to return a formatted string showing all equipped items\n",
    "        equipped_list = []\n",
    "        for slot, item in self.equipped_items.items():\n",
    "            status = f\"⚔️ {item.name}\" if item else \"Empty\"\n",
    "            equipped_list.append(f\"{slot.capitalize()}: {status}\")\n",
    "        \n",
    "        return \"\\n\".join([\"Equipped Items:\"] + equipped_list)\n",
    "\n"
   ]
  },
  {
   "cell_type": "code",
   "execution_count": null,
   "metadata": {
    "deletable": false,
    "editable": false,
    "tags": [
     "skip-execution"
    ]
   },
   "outputs": [],
   "source": [
    "grader.check(\"Character-class\")"
   ]
  },
  {
   "cell_type": "markdown",
   "metadata": {
    "deletable": false,
    "editable": false
   },
   "source": [
    "## Question 10 (Points: 55.0): Playing the Game Example"
   ]
  },
  {
   "cell_type": "code",
   "execution_count": null,
   "metadata": {
    "tags": [
     "skip-execution"
    ]
   },
   "outputs": [],
   "source": [
    "### **Let's Play! 🎮⚔️✨**\n",
    "\n",
    "# We have provided a simple text-based game loop below.\n",
    "# You can use this to test your code.\n",
    "# This is just the start of your RPG game, with classes you can extend and modify this code to create your own RPG game!\n",
    "\n",
    "# Create some sample items\n",
    "items = [\n",
    "    Item(\"Health Potion\", \"restore\", \"health\", 50),\n",
    "    Item(\"Mana Potion\", \"restore\", \"mana\", 30),\n",
    "    Armor(\"Leather Vest\",\"agility\", 5, slot=\"chest\"),\n",
    "    Weapon(\"Iron Sword\", 20, stat=\"strength\"),\n",
    "    Weapon(\"Magic Staff\", 15, stat=\"intellect\")\n",
    "]\n",
    "\n",
    "def play_game():\n",
    "    \"\"\"Interactive game loop to test the RPG system.\"\"\"\n",
    "    print(\"Welcome to World of Warcraft RPG! 🌟\\n\")\n",
    "    \n",
    "    # Character creation\n",
    "    name = input(\"Enter your character's name: \")\n",
    "    print(\"\\nChoose your class:\")\n",
    "    print(\"1. Warrior ⚔️\")\n",
    "    print(\"2. Mage 🔮\")\n",
    "    print(\"3. Monk 🥋\")\n",
    "    print(\"4. Paladin 🛡️\")\n",
    "    \n",
    "    class_choice = input(\"\\nEnter your choice (1-4): \")\n",
    "    class_map = {\n",
    "        \"1\": Warrior(name),\n",
    "        \"2\": Mage(name),\n",
    "        \"3\": Monk(name),\n",
    "        \"4\": Paladin(name)\n",
    "    }\n",
    "    \n",
    "    # Create character\n",
    "    player = Character(\n",
    "        name=name,\n",
    "        class_type=class_map.get(class_choice, Warrior(name)), \n",
    "        inventory=items\n",
    "    )\n",
    "    \n",
    "    print(f\"\\n{player.name} the {player.class_type.name} enters Azeroth! ⚔️\")\n",
    "    \n",
    "    while True:\n",
    "        print(\"\\nWhat would you like to do?\")\n",
    "        print(\"1. View Stats 📊\")\n",
    "        print(\"2. View Inventory 🎒\")\n",
    "        print(\"3. Cast Spell ✨\")\n",
    "        print(\"4. Use Item 🔮\")\n",
    "        print(\"5. Gain Experience 📈\")\n",
    "        print(\"6. Exit Game 🚪\")\n",
    "        \n",
    "        choice = input(\"\\nEnter your choice (1-6): \")\n",
    "        \n",
    "        if choice == \"1\":\n",
    "            print(f\"\\n{player.name}'s Stats:\")\n",
    "            print(f\"Level: {player.level}\")\n",
    "            print(f\"Health: {player.base_health}\")\n",
    "            print(f\"Mana: {player.base_mana}\")\n",
    "            print(f\"Strength: {player.strength}\")\n",
    "            print(f\"Agility: {player.agility}\")\n",
    "            print(f\"Intellect: {player.intellect}\")\n",
    "            \n",
    "        elif choice == \"2\":\n",
    "            print(\"\\nInventory:\")\n",
    "            if not player.inventory:\n",
    "                print(\"Empty inventory!\")\n",
    "            else:\n",
    "                for item in player.inventory:\n",
    "                    print(f\"- {item.name}\")\n",
    "                    \n",
    "        elif choice == \"3\":\n",
    "            print(\"\\nAvailable Spells:\")\n",
    "            for spell in player.spells:\n",
    "                print(f\"- {spell.name} (Level {spell.level_required})\")\n",
    "            spell_name = input(\"\\nEnter spell name to cast (or press Enter to cancel): \")\n",
    "            if spell_name:\n",
    "                print(player.cast_spell(spell_name))\n",
    "                \n",
    "        elif choice == \"4\":\n",
    "            if not items:\n",
    "                print(\"\\nNo items available!\")\n",
    "            else:\n",
    "                print(\"\\nAvailable Items:\")\n",
    "                for i, item in enumerate(items, 1):\n",
    "                    print(f\"{i}. {item.name}\")\n",
    "                try:\n",
    "                    item_choice = int(input(\"\\nEnter item number to use (or 0 to cancel): \")) - 1\n",
    "                    if 0 <= item_choice < len(items):\n",
    "                        print(items[item_choice].apply(player))\n",
    "                except ValueError:\n",
    "                    print(\"Invalid choice!\")\n",
    "                    \n",
    "        elif choice == \"5\":\n",
    "            xp = 100\n",
    "            print(f\"\\nGaining {xp} experience points!\")\n",
    "            player.gain_experience(xp)\n",
    "            \n",
    "        elif choice == \"6\":\n",
    "            print(f\"\\nFarewell, {player.name}! Your legend will live on in Azeroth! 👋\")\n",
    "            break\n",
    "            \n",
    "        else:\n",
    "            print(\"\\nInvalid choice! Please try again.\")"
   ]
  },
  {
   "cell_type": "code",
   "execution_count": null,
   "metadata": {
    "tags": [
     "skip-execution"
    ]
   },
   "outputs": [],
   "source": [
    "play_game()"
   ]
  },
  {
   "cell_type": "markdown",
   "id": "36",
   "metadata": {},
   "source": [
    "## Submitting Assignment\n",
    "\n",
    "Please run the following block of code using `shift + enter` to submit your assignment, you should see your score."
   ]
  },
  {
   "cell_type": "code",
   "execution_count": null,
   "id": "37",
   "metadata": {
    "deletable": false,
    "editable": true,
    "tags": [
     "skip-execution"
    ]
   },
   "outputs": [],
   "source": [
    "from pykubegrader.submit.submit_assignment import submit_assignment\n",
    "\n",
    "submit_assignment(\"week7-lab\", \"1_world_of_warcraft\")"
   ]
  }
 ],
 "metadata": {
  "kernelspec": {
   "display_name": "engr131_dev",
   "language": "python",
   "name": "python3"
  },
  "language_info": {
   "codemirror_mode": {
    "name": "ipython",
    "version": 3
   },
   "file_extension": ".py",
   "mimetype": "text/x-python",
   "name": "python",
   "nbconvert_exporter": "python",
   "pygments_lexer": "ipython3",
   "version": "3.12.7"
  },
  "otter": {
   "OK_FORMAT": true,
   "tests": {
    "Armor-class-builder": {
     "name": "Armor-class-builder",
     "points": null,
     "suites": [
      {
       "cases": [
        {
         "code": ">>> from pykubegrader.telemetry import ensure_responses, log_variable, score_question, submit_question, telemetry, update_responses\n>>> import os\n>>> import base64\n>>> max_question_points = str(17.0)\n>>> earned_points = 0\n>>> os.environ['EARNED_POINTS'] = str(earned_points)\n>>> os.environ['TOTAL_POINTS_FREE_RESPONSE'] = str(186.0)\n>>> log_variable('total-points', f'week7-lab, 1_world_of_warcraft', 186.0)\n>>> question_id = 'Armor-class-builder-1'\n>>> max_score = 1.0\n>>> score = 0\n>>> class_exists = all((cls in globals() for cls in ['Armor', 'Weapon']))\n>>> assert class_exists, 'Expected `Armor` and `Weapon` classes to be defined, but one or both are missing.'\n>>> if class_exists:\n...     score = 1.0\n>>> earned_points = float(os.environ.get('EARNED_POINTS', 0))\n>>> earned_points += score\n>>> log_variable('1_world_of_warcraft', f'{score}, {max_score}', question_id)\n>>> os.environ['EARNED_POINTS'] = str(earned_points)\n>>> responses = update_responses(question_id, str(class_exists))\n",
         "failure_message": "Failed: One or both classes (`Armor`, `Weapon`) are missing.",
         "hidden": false,
         "locked": false,
         "points": 1,
         "success_message": "Success: `Armor` and `Weapon` classes are correctly defined!"
        },
        {
         "code": ">>> from pykubegrader.telemetry import ensure_responses, log_variable, score_question, submit_question, telemetry, update_responses\n>>> import os\n>>> import base64\n>>> question_id = 'Armor-class-builder-2'\n>>> max_score = 2.0\n>>> score = 0\n>>> test_armor = Armor(name='Dragonbone Chestplate', stat='defense', value=50, slot='chest')\n>>> armor_attributes = {'name': test_armor.name, 'effect': test_armor.effect, 'stat': test_armor.stat, 'value': test_armor.value, 'slot': test_armor.slot}\n>>> expected_attributes = {'name': 'Dragonbone Chestplate', 'effect': 'increase', 'stat': 'defense', 'value': 50, 'slot': 'chest'}\n>>> assert armor_attributes == expected_attributes, f'Expected {expected_attributes}, but got {armor_attributes}.'\n>>> if (armor_attributes == expected_attributes, f'Expected {expected_attributes}, but got {armor_attributes}.'):\n...     score = 2.0\n>>> earned_points = float(os.environ.get('EARNED_POINTS', 0))\n>>> earned_points += score\n>>> log_variable('1_world_of_warcraft', f'{score}, {max_score}', question_id)\n>>> os.environ['EARNED_POINTS'] = str(earned_points)\n>>> responses = update_responses(question_id, str(armor_attributes))\n",
         "failure_message": "Failed: `Armor` does not initialize attributes correctly.",
         "hidden": false,
         "locked": false,
         "points": 2,
         "success_message": "Success: `Armor` initializes attributes correctly!"
        },
        {
         "code": ">>> from pykubegrader.telemetry import ensure_responses, log_variable, score_question, submit_question, telemetry, update_responses\n>>> import os\n>>> import base64\n>>> question_id = 'Armor-class-builder-3'\n>>> max_score = 2.0\n>>> score = 0\n>>> test_weapon = Weapon(name='Doomblade', value=75, stat='strength')\n>>> weapon_attributes = {'name': test_weapon.name, 'effect': test_weapon.effect, 'stat': test_weapon.stat, 'value': test_weapon.value, 'slot': test_weapon.slot}\n>>> expected_attributes = {'name': 'Doomblade', 'effect': 'increase', 'stat': 'strength', 'value': 75, 'slot': 'weapon'}\n>>> assert weapon_attributes == expected_attributes, f'Expected {expected_attributes}, but got {weapon_attributes}.'\n>>> if (weapon_attributes == expected_attributes, f'Expected {expected_attributes}, but got {weapon_attributes}.'):\n...     score = 2.0\n>>> earned_points = float(os.environ.get('EARNED_POINTS', 0))\n>>> earned_points += score\n>>> log_variable('1_world_of_warcraft', f'{score}, {max_score}', question_id)\n>>> os.environ['EARNED_POINTS'] = str(earned_points)\n>>> responses = update_responses(question_id, str(weapon_attributes))\n",
         "failure_message": "Failed: `Weapon` does not initialize attributes correctly.",
         "hidden": false,
         "locked": false,
         "points": 2,
         "success_message": "Success: `Weapon` initializes attributes correctly!"
        },
        {
         "code": ">>> from pykubegrader.telemetry import ensure_responses, log_variable, score_question, submit_question, telemetry, update_responses\n>>> import os\n>>> import base64\n>>> question_id = 'Armor-class-builder-4'\n>>> max_score = 2.0\n>>> score = 0\n>>> test_weapon = Weapon(name='Doomblade', value=75, stat='strength')\n>>> weapon_attributes = {'name': test_weapon.name, 'effect': test_weapon.effect, 'stat': test_weapon.stat, 'value': test_weapon.value, 'slot': test_weapon.slot}\n>>> expected_attributes = {'name': 'Doomblade', 'effect': 'increase', 'stat': 'strength', 'value': 75, 'slot': 'weapon'}\n>>> assert weapon_attributes == expected_attributes, f'Expected {expected_attributes}, but got {weapon_attributes}.'\n>>> if (weapon_attributes == expected_attributes, f'Expected {expected_attributes}, but got {weapon_attributes}.'):\n...     score = 2.0\n>>> earned_points = float(os.environ.get('EARNED_POINTS', 0))\n>>> earned_points += score\n>>> log_variable('1_world_of_warcraft', f'{score}, {max_score}', question_id)\n>>> os.environ['EARNED_POINTS'] = str(earned_points)\n>>> responses = update_responses(question_id, str(weapon_attributes))\n",
         "failure_message": "Failed: `Weapon` does not initialize attributes correctly.",
         "hidden": false,
         "locked": false,
         "points": 2,
         "success_message": "Success: `Weapon` initializes attributes correctly!"
        },
        {
         "code": ">>> from pykubegrader.telemetry import ensure_responses, log_variable, score_question, submit_question, telemetry, update_responses\n>>> import os\n>>> import base64\n>>> question_id = 'Armor-class-builder-5'\n>>> max_score = 3.0\n>>> score = 0\n>>> class MockCharacter:\n...     def __init__(self):\n...         self.equipped_items = []\n...         self.equip_called = False\n...     def equip_item(self, item):\n...         self.equipped_items.append(item)\n...         self.equip_called = True\n...         return f'Equipped {item.name}'\n>>> character = MockCharacter()\n>>> helmet = Armor(name=\"Knight's Helmet\", stat='defense', value=20, slot='head')\n>>> out = helmet.apply(character)\n>>> equip_called = character.equip_called\n>>> assert equip_called, 'Expected `equip_item()` to be called when applying armor.'\n>>> if equip_called:\n...     score = 3.0\n>>> earned_points = float(os.environ.get('EARNED_POINTS', 0))\n>>> earned_points += score\n>>> log_variable('1_world_of_warcraft', f'{score}, {max_score}', question_id)\n>>> os.environ['EARNED_POINTS'] = str(earned_points)\n>>> responses = update_responses(question_id, str(equip_called))\n",
         "failure_message": "Failed: `apply()` does not call `equip_item()` for armor.",
         "hidden": false,
         "locked": false,
         "points": 3,
         "success_message": "Success: `apply()` correctly calls `equip_item()` for armor!"
        },
        {
         "code": ">>> from pykubegrader.telemetry import ensure_responses, log_variable, score_question, submit_question, telemetry, update_responses\n>>> import os\n>>> import base64\n>>> question_id = 'Armor-class-builder-6'\n>>> max_score = 3.0\n>>> score = 0\n>>> class MockCharacter:\n...     def __init__(self):\n...         self.equipped_items = []\n...         self.equip_called = False\n...     def equip_item(self, item):\n...         self.equipped_items.append(item)\n...         self.equip_called = True\n...         return f'Equipped {item.name}'\n>>> character = MockCharacter()\n>>> character.equipped_items = []\n>>> character.equip_called = False\n>>> sword = Weapon(name='Excalibur', value=30, stat='strength')\n>>> out = sword.apply(character)\n>>> equip_called = character.equip_called\n>>> assert equip_called, 'Expected `equip_item()` to be called when applying a weapon.'\n>>> if equip_called:\n...     score = 3.0\n>>> earned_points = float(os.environ.get('EARNED_POINTS', 0))\n>>> earned_points += score\n>>> log_variable('1_world_of_warcraft', f'{score}, {max_score}', question_id)\n>>> os.environ['EARNED_POINTS'] = str(earned_points)\n>>> responses = update_responses(question_id, str(equip_called))\n",
         "failure_message": "Failed: `apply()` does not call `equip_item()` for weapons.",
         "hidden": false,
         "locked": false,
         "points": 3,
         "success_message": "Success: `apply()` correctly calls `equip_item()` for weapons!"
        },
        {
         "code": ">>> from pykubegrader.telemetry import ensure_responses, log_variable, score_question, submit_question, telemetry, update_responses\n>>> import os\n>>> import base64\n>>> question_id = 'Armor-class-builder-7'\n>>> max_score = 2.0\n>>> score = 0\n>>> class MockCharacter:\n...     def __init__(self):\n...         self.equipped_items = []\n...         self.equip_called = False\n...     def equip_item(self, item):\n...         self.equipped_items.append(item)\n...         self.equip_called = True\n...         return f'Equipped {item.name}'\n>>> character = MockCharacter()\n>>> character.equipped_items = []\n>>> chestplate = Armor(name='Iron Chestplate', stat='defense', value=25, slot='chest')\n>>> sword = Weapon(name='Flaming Sword', value=40, stat='strength')\n>>> out = chestplate.apply(character)\n>>> out = sword.apply(character)\n>>> equipped_items = [item.name for item in character.equipped_items]\n>>> expected_equipped = ['Iron Chestplate', 'Flaming Sword']\n>>> assert equipped_items == expected_equipped, f'Expected equipped items {expected_equipped}, but found {equipped_items}.'\n>>> if (equipped_items == expected_equipped, f'Expected equipped items {expected_equipped}, but found {equipped_items}.'):\n...     score = 2.0\n>>> earned_points = float(os.environ.get('EARNED_POINTS', 0))\n>>> earned_points += score\n>>> log_variable('1_world_of_warcraft', f'{score}, {max_score}', question_id)\n>>> os.environ['EARNED_POINTS'] = str(earned_points)\n>>> responses = update_responses(question_id, str(equipped_items))\n",
         "failure_message": "Failed: Equipping `Armor` or `Weapon` does not work correctly.",
         "hidden": false,
         "locked": false,
         "points": 2,
         "success_message": "Success: Equipping `Armor` and `Weapon` works correctly!"
        },
        {
         "code": ">>> from pykubegrader.telemetry import ensure_responses, log_variable, score_question, submit_question, telemetry, update_responses\n>>> import os\n>>> import base64\n>>> import inspect\n>>> question_id = 'Armor-class-builder-8'\n>>> max_score = 2.0\n>>> score = 0\n>>> apply_overridden = all(('apply' in vars(cls) for cls in [Armor, Weapon]))\n>>> assert apply_overridden, 'Expected `apply()` to be explicitly defined in both `Armor` and `Weapon`, but found missing implementations.'\n>>> if (apply_overridden, 'Expected `apply()` to be explicitly defined in both `Armor` and `Weapon`, but found missing implementations.'):\n...     score = 2.0\n>>> earned_points = float(os.environ.get('EARNED_POINTS', 0))\n>>> earned_points += score\n>>> log_variable('1_world_of_warcraft', f'{score}, {max_score}', question_id)\n>>> os.environ['EARNED_POINTS'] = str(earned_points)\n>>> responses = update_responses(question_id, str(apply_overridden))\n",
         "failure_message": "Failed: `apply()` is not correctly overridden.",
         "hidden": false,
         "locked": false,
         "points": 2,
         "success_message": "Success: `apply()` method is properly overridden in `Armor` and `Weapon`!"
        }
       ],
       "scored": true,
       "setup": "",
       "teardown": "",
       "type": "doctest"
      }
     ]
    },
    "Character-class": {
     "name": "Character-class",
     "points": null,
     "suites": [
      {
       "cases": [
        {
         "code": ">>> from pykubegrader.telemetry import ensure_responses, log_variable, score_question, submit_question, telemetry, update_responses\n>>> import os\n>>> import base64\n>>> max_question_points = str(55.0)\n>>> earned_points = 0\n>>> os.environ['EARNED_POINTS'] = str(earned_points)\n>>> os.environ['TOTAL_POINTS_FREE_RESPONSE'] = str(186.0)\n>>> log_variable('total-points', f'week7-lab, 1_world_of_warcraft', 186.0)\n>>> question_id = 'Character-class-1'\n>>> max_score = 1.0\n>>> score = 0\n>>> class_exists = 'Character' in globals()\n>>> assert class_exists, 'Expected `Character` class to be defined, but it is missing.'\n>>> if class_exists:\n...     score = 1.0\n>>> earned_points = float(os.environ.get('EARNED_POINTS', 0))\n>>> earned_points += score\n>>> log_variable('1_world_of_warcraft', f'{score}, {max_score}', question_id)\n>>> os.environ['EARNED_POINTS'] = str(earned_points)\n>>> responses = update_responses(question_id, str(class_exists))\n",
         "failure_message": "Failed: `Character` class is not defined.",
         "hidden": false,
         "locked": false,
         "points": 1,
         "success_message": "Success: `Character` class is correctly defined!"
        },
        {
         "code": ">>> from pykubegrader.telemetry import ensure_responses, log_variable, score_question, submit_question, telemetry, update_responses\n>>> import os\n>>> import base64\n>>> question_id = 'Character-class-2'\n>>> max_score = 2.0\n>>> score = 0\n>>> inherits_correctly = issubclass(Character, (ClassType, EquipmentManager))\n>>> assert inherits_correctly, 'Expected `Character` to inherit from `ClassType` and `EquipmentManager`, but it does not.'\n>>> if inherits_correctly:\n...     score = 2.0\n>>> earned_points = float(os.environ.get('EARNED_POINTS', 0))\n>>> earned_points += score\n>>> log_variable('1_world_of_warcraft', f'{score}, {max_score}', question_id)\n>>> os.environ['EARNED_POINTS'] = str(earned_points)\n>>> responses = update_responses(question_id, str(inherits_correctly))\n",
         "failure_message": "Failed: `Character` does not correctly inherit from required classes.",
         "hidden": false,
         "locked": false,
         "points": 2,
         "success_message": "Success: `Character` correctly inherits from `ClassType` and `EquipmentManager`!"
        },
        {
         "code": ">>> from pykubegrader.telemetry import ensure_responses, log_variable, score_question, submit_question, telemetry, update_responses\n>>> import os\n>>> import base64\n>>> question_id = 'Character-class-3'\n>>> max_score = 2.0\n>>> score = 0\n>>> test_class = Warrior('Arthur')\n>>> test_character = Character(name='Arthur', class_type=test_class)\n>>> expected_attributes = {'name': 'Arthur', 'max_health': 100, 'max_mana': 50, 'level': 1, 'experience': 0, 'inventory': []}\n>>> character_attributes = {'name': test_character.name, 'max_health': test_character.max_health, 'max_mana': test_character.max_mana, 'level': test_character.level, 'experience': test_character.experience, 'inventory': test_character.inventory}\n>>> assert character_attributes == expected_attributes, f'Expected {expected_attributes}, but got {character_attributes}.'\n>>> if (character_attributes == expected_attributes, f'Expected {expected_attributes}, but got {character_attributes}.'):\n...     score = 2.0\n>>> earned_points = float(os.environ.get('EARNED_POINTS', 0))\n>>> earned_points += score\n>>> log_variable('1_world_of_warcraft', f'{score}, {max_score}', question_id)\n>>> os.environ['EARNED_POINTS'] = str(earned_points)\n>>> responses = update_responses(question_id, str(character_attributes))\n",
         "failure_message": "Failed: `Character` does not initialize attributes correctly.",
         "hidden": false,
         "locked": false,
         "points": 2,
         "success_message": "Success: `Character` initializes attributes correctly!"
        },
        {
         "code": ">>> from pykubegrader.telemetry import ensure_responses, log_variable, score_question, submit_question, telemetry, update_responses\n>>> import os\n>>> import base64\n>>> question_id = 'Character-class-4'\n>>> max_score = 2.0\n>>> score = 0\n>>> test_class = Warrior('Arthur')\n>>> test_character = Character(name='Arthur', class_type=test_class)\n>>> test_character.max_health = 150\n>>> test_character.max_mana = 80\n>>> test_character.base_health = 140\n>>> test_character.base_mana = 70\n>>> health_mana_test = {'max_health': test_character.max_health, 'max_mana': test_character.max_mana, 'base_health': test_character.base_health, 'base_mana': test_character.base_mana}\n>>> expected_values = {'max_health': 150, 'max_mana': 80, 'base_health': 140, 'base_mana': 70}\n>>> assert health_mana_test == expected_values, f'Expected {expected_values}, but got {health_mana_test}.'\n>>> if health_mana_test == expected_values:\n...     score = 2.0\n>>> earned_points = float(os.environ.get('EARNED_POINTS', 0))\n>>> earned_points += score\n>>> log_variable('1_world_of_warcraft', f'{score}, {max_score}', question_id)\n>>> os.environ['EARNED_POINTS'] = str(earned_points)\n>>> responses = update_responses(question_id, str(health_mana_test))\n",
         "failure_message": "Failed: Health and Mana properties do not function correctly.",
         "hidden": false,
         "locked": false,
         "points": 2,
         "success_message": "Success: Health and Mana properties work correctly!"
        },
        {
         "code": ">>> from pykubegrader.telemetry import ensure_responses, log_variable, score_question, submit_question, telemetry, update_responses\n>>> import os\n>>> import base64\n>>> question_id = 'Character-class-5'\n>>> max_score = 2.0\n>>> score = 0\n>>> test_class = Warrior('Arthur')\n>>> test_character = Character(name='Arthur', class_type=test_class)\n>>> test_character.max_health = 150\n>>> test_character.max_mana = 80\n>>> test_character.base_health = 140\n>>> test_character.base_mana = 70\n>>> health_mana_test = {'max_health': test_character.max_health, 'max_mana': test_character.max_mana, 'base_health': test_character.base_health, 'base_mana': test_character.base_mana}\n>>> expected_values = {'max_health': 150, 'max_mana': 80, 'base_health': 140, 'base_mana': 70}\n>>> assert health_mana_test == expected_values, f'Expected {expected_values}, but got {health_mana_test}.'\n>>> if health_mana_test == expected_values:\n...     score = 2.0\n>>> earned_points = float(os.environ.get('EARNED_POINTS', 0))\n>>> earned_points += score\n>>> log_variable('1_world_of_warcraft', f'{score}, {max_score}', question_id)\n>>> os.environ['EARNED_POINTS'] = str(earned_points)\n>>> responses = update_responses(question_id, str(health_mana_test))\n",
         "failure_message": "Failed: Health and Mana properties do not function correctly.",
         "hidden": false,
         "locked": false,
         "points": 2,
         "success_message": "Success: Health and Mana properties work correctly!"
        },
        {
         "code": ">>> from pykubegrader.telemetry import ensure_responses, log_variable, score_question, submit_question, telemetry, update_responses\n>>> import os\n>>> import base64\n>>> import os\n>>> import contextlib\n>>> question_id = 'Character-class-6'\n>>> max_score = 3.0\n>>> score = 0\n>>> test_class = Warrior('Arthur')\n>>> test_character = Character(name='Arthur', class_type=test_class)\n>>> test_character.experience = 0\n>>> test_character.level = 1\n>>> with open(os.devnull, 'w') as f, contextlib.redirect_stdout(f):\n...     test_character.gain_experience(120)\n>>> level_xp_test = {'level': test_character.level, 'experience': test_character.experience}\n>>> expected_level_xp = {'level': 2, 'experience': 120}\n>>> assert level_xp_test == expected_level_xp, f'Expected {expected_level_xp}, but got {level_xp_test}.'\n>>> if level_xp_test == expected_level_xp:\n...     score = 3.0\n>>> earned_points = float(os.environ.get('EARNED_POINTS', 0))\n>>> earned_points += score\n>>> log_variable('1_world_of_warcraft', f'{score}, {max_score}', question_id)\n>>> os.environ['EARNED_POINTS'] = str(earned_points)\n>>> responses = update_responses(question_id, str(level_xp_test))\n",
         "failure_message": "Failed: Experience gain or leveling up does not work correctly.",
         "hidden": false,
         "locked": false,
         "points": 3,
         "success_message": "Success: Gaining experience and leveling up functions correctly!"
        },
        {
         "code": ">>> from pykubegrader.telemetry import ensure_responses, log_variable, score_question, submit_question, telemetry, update_responses\n>>> import os\n>>> import base64\n>>> question_id = 'Character-class-7'\n>>> max_score = 3.0\n>>> score = 0\n>>> test_class = Warrior('Arthur')\n>>> test_character = Character(name='Arthur', class_type=test_class)\n>>> helmet = Armor(name='Knight Helmet', stat='defense', value=10, slot='head')\n>>> sword = Weapon(name='Excalibur', value=20, stat='strength')\n>>> equip_helmet = test_character.equip_item(helmet)\n>>> equip_sword = test_character.equip_item(sword)\n>>> unequip_helmet = test_character.unequip_item('head')\n>>> equipment_test = {'equip_helmet': equip_helmet, 'equip_sword': equip_sword, 'unequip_helmet': unequip_helmet}\n>>> expected_equipment_result = {'equip_helmet': 'Equipped Knight Helmet in head slot!', 'equip_sword': 'Equipped Excalibur in weapon slot!', 'unequip_helmet': 'Unequipped Knight Helmet from head slot!'}\n>>> assert equipment_test == expected_equipment_result, f'Expected {expected_equipment_result}, but got {equipment_test}.'\n>>> if equipment_test == expected_equipment_result:\n...     score = 3.0\n>>> earned_points = float(os.environ.get('EARNED_POINTS', 0))\n>>> earned_points += score\n>>> log_variable('1_world_of_warcraft', f'{score}, {max_score}', question_id)\n>>> os.environ['EARNED_POINTS'] = str(earned_points)\n>>> responses = update_responses(question_id, str(equipment_test))\n",
         "failure_message": "Failed: Equipment management does not function correctly.",
         "hidden": false,
         "locked": false,
         "points": 3,
         "success_message": "Success: Equipment management (equip/unequip) works correctly!"
        },
        {
         "code": ">>> from pykubegrader.telemetry import ensure_responses, log_variable, score_question, submit_question, telemetry, update_responses\n>>> import os\n>>> import base64\n>>> question_id = 'Character-class-8'\n>>> max_score = 3.0\n>>> score = 0\n>>> test_class = Warrior('Arthur')\n>>> test_character = Character(name='Arthur', class_type=test_class)\n>>> fireball = Spell(name='Fireball', damage=50, mana_cost=20, level_required=1)\n>>> test_character.spells.append(fireball)\n>>> valid_spell = test_character.cast_spell('Fireball')\n>>> invalid_spell = test_character.cast_spell('Ice Storm')\n>>> spell_cast_test = {'valid_spell': valid_spell, 'invalid_spell': invalid_spell}\n>>> expected_spell_result = {'valid_spell': 'Arthur cast Fireball, dealing 50 damage!', 'invalid_spell': 'Arthur does not know the spell Ice Storm.'}\n>>> assert spell_cast_test == expected_spell_result, f'Expected {expected_spell_result}, but got {spell_cast_test}.'\n>>> if spell_cast_test == expected_spell_result:\n...     score = 3.0\n>>> earned_points = float(os.environ.get('EARNED_POINTS', 0))\n>>> earned_points += score\n>>> log_variable('1_world_of_warcraft', f'{score}, {max_score}', question_id)\n>>> os.environ['EARNED_POINTS'] = str(earned_points)\n>>> responses = update_responses(question_id, str(spell_cast_test))\n",
         "failure_message": "Failed: Spell casting does not function correctly.",
         "hidden": false,
         "locked": false,
         "points": 3,
         "success_message": "Success: Spell casting works correctly!"
        },
        {
         "code": ">>> from pykubegrader.telemetry import ensure_responses, log_variable, score_question, submit_question, telemetry, update_responses\n>>> import os\n>>> import base64\n>>> question_id = 'Character-class-9'\n>>> max_score = 2.0\n>>> score = 0\n>>> default_class = Mage(name='Mage', base_health=80, base_mana=120)\n>>> default_character = Character(name='Gandalf', class_type=default_class)\n>>> default_stats = {'strength': default_character.strength, 'agility': default_character.agility, 'intellect': default_character.intellect}\n>>> expected_default_stats = {'strength': 10, 'agility': 10, 'intellect': 10}\n>>> assert default_stats == expected_default_stats, f'Expected {expected_default_stats}, but got {default_stats}.'\n>>> if default_stats == expected_default_stats:\n...     score = 2.0\n>>> earned_points = float(os.environ.get('EARNED_POINTS', 0))\n>>> earned_points += score\n>>> log_variable('1_world_of_warcraft', f'{score}, {max_score}', question_id)\n>>> os.environ['EARNED_POINTS'] = str(earned_points)\n>>> responses = update_responses(question_id, str(default_stats))\n",
         "failure_message": "Failed: Default stats are not properly initialized.",
         "hidden": false,
         "locked": false,
         "points": 2,
         "success_message": "Success: Default stats are correctly initialized!"
        },
        {
         "code": ">>> from pykubegrader.telemetry import ensure_responses, log_variable, score_question, submit_question, telemetry, update_responses\n>>> import os\n>>> import base64\n>>> question_id = 'Character-class-10'\n>>> max_score = 2.0\n>>> score = 0\n>>> default_class = Mage(name='Mage', base_health=80, base_mana=120)\n>>> default_character = Character(name='Gandalf', class_type=default_class)\n>>> default_character.base_health = -50\n>>> default_character.base_mana = -20\n>>> health_mana_negative_test = {'base_health': default_character.base_health, 'base_mana': default_character.base_mana}\n>>> expected_values = {'base_health': 0, 'base_mana': 0}\n>>> assert health_mana_negative_test == expected_values, f'Expected {expected_values}, but got {health_mana_negative_test}.'\n>>> if health_mana_negative_test == expected_values:\n...     score = 2.0\n>>> earned_points = float(os.environ.get('EARNED_POINTS', 0))\n>>> earned_points += score\n>>> log_variable('1_world_of_warcraft', f'{score}, {max_score}', question_id)\n>>> os.environ['EARNED_POINTS'] = str(earned_points)\n>>> responses = update_responses(question_id, str(health_mana_negative_test))\n",
         "failure_message": "Failed: Health or Mana can be negative.",
         "hidden": false,
         "locked": false,
         "points": 2,
         "success_message": "Success: Health and Mana cannot be set to negative values!"
        },
        {
         "code": ">>> from pykubegrader.telemetry import ensure_responses, log_variable, score_question, submit_question, telemetry, update_responses\n>>> import os\n>>> import base64\n>>> question_id = 'Character-class-11'\n>>> max_score = 2.0\n>>> score = 0\n>>> default_class = Mage(name='Mage', base_health=80, base_mana=120)\n>>> default_character = Character(name='Gandalf', class_type=default_class)\n>>> default_character.experience = 0\n>>> default_character.level = 1\n>>> default_character.gain_experience(50)\n>>> xp_accumulation = {'level': default_character.level, 'experience': default_character.experience}\n>>> expected_xp = {'level': 1, 'experience': 50}\n>>> assert xp_accumulation == expected_xp, f'Expected {expected_xp}, but got {xp_accumulation}.'\n>>> if xp_accumulation == expected_xp:\n...     score = 2.0\n>>> earned_points = float(os.environ.get('EARNED_POINTS', 0))\n>>> earned_points += score\n>>> log_variable('1_world_of_warcraft', f'{score}, {max_score}', question_id)\n>>> os.environ['EARNED_POINTS'] = str(earned_points)\n>>> responses = update_responses(question_id, str(xp_accumulation))\n",
         "failure_message": "Failed: XP accumulation does not work correctly.",
         "hidden": false,
         "locked": false,
         "points": 2,
         "success_message": "Success: XP accumulates correctly without leveling up!"
        },
        {
         "code": ">>> from pykubegrader.telemetry import ensure_responses, log_variable, score_question, submit_question, telemetry, update_responses\n>>> import os\n>>> import base64\n>>> question_id = 'Character-class-12'\n>>> max_score = 2.0\n>>> score = 0\n>>> default_class = Mage(name='Mage', base_health=80, base_mana=120)\n>>> default_character = Character(name='Gandalf', class_type=default_class)\n>>> unequip_empty_slot = default_character.unequip_item('head')\n>>> assert unequip_empty_slot == 'No item equipped in this slot.', 'Expected failure when unequipping empty slots.'\n>>> if unequip_empty_slot == 'No item equipped in this slot.':\n...     score = 2.0\n>>> earned_points = float(os.environ.get('EARNED_POINTS', 0))\n>>> earned_points += score\n>>> log_variable('1_world_of_warcraft', f'{score}, {max_score}', question_id)\n>>> os.environ['EARNED_POINTS'] = str(earned_points)\n>>> responses = update_responses(question_id, str(unequip_empty_slot))\n",
         "failure_message": "Failed: Unequipping an empty slot behaves incorrectly.",
         "hidden": false,
         "locked": false,
         "points": 2,
         "success_message": "Success: Unequipping an empty slot works correctly!"
        },
        {
         "code": ">>> from pykubegrader.telemetry import ensure_responses, log_variable, score_question, submit_question, telemetry, update_responses\n>>> import os\n>>> import base64\n>>> import os\n>>> import contextlib\n>>> question_id = 'Character-class-13'\n>>> max_score = 3.0\n>>> score = 0\n>>> default_class = Mage(name='Mage', base_health=80, base_mana=120)\n>>> default_character = Character(name='Gandalf', class_type=default_class)\n>>> default_character.level = 1\n>>> default_character.experience = 0\n>>> with open(os.devnull, 'w') as f, contextlib.redirect_stdout(f):\n...     default_character.gain_experience(250)\n>>> multi_level_test = {'level': default_character.level, 'experience': default_character.experience}\n>>> expected_multi_level = {'level': 3, 'experience': 250}\n>>> assert multi_level_test == expected_multi_level, f'Expected {expected_multi_level}, but got {multi_level_test}.'\n>>> if multi_level_test == expected_multi_level:\n...     score = 3.0\n>>> earned_points = float(os.environ.get('EARNED_POINTS', 0))\n>>> earned_points += score\n>>> log_variable('1_world_of_warcraft', f'{score}, {max_score}', question_id)\n>>> os.environ['EARNED_POINTS'] = str(earned_points)\n>>> responses = update_responses(question_id, str(multi_level_test))\n",
         "failure_message": "Failed: Multiple level-ups do not function as expected.",
         "hidden": false,
         "locked": false,
         "points": 3,
         "success_message": "Success: Multiple level-ups occur correctly!"
        },
        {
         "code": ">>> from pykubegrader.telemetry import ensure_responses, log_variable, score_question, submit_question, telemetry, update_responses\n>>> import os\n>>> import base64\n>>> question_id = 'Character-class-14'\n>>> max_score = 2.0\n>>> score = 0\n>>> warrior_class = Warrior(name='Warrior')\n>>> warrior_class.abilities[1] = 'Berserk Strike'\n>>> warrior = Character(name='Conan', class_type=warrior_class)\n>>> special_ability_test = warrior.special_ability()\n>>> expected_ability = 'Berserk Strike'\n>>> assert special_ability_test == expected_ability, f'Expected {expected_ability}, but got {special_ability_test}.'\n>>> if special_ability_test == expected_ability:\n...     score = 2.0\n>>> earned_points = float(os.environ.get('EARNED_POINTS', 0))\n>>> earned_points += score\n>>> log_variable('1_world_of_warcraft', f'{score}, {max_score}', question_id)\n>>> os.environ['EARNED_POINTS'] = str(earned_points)\n>>> responses = update_responses(question_id, str(special_ability_test))\n",
         "failure_message": "Failed: Special ability method does not return the correct ability.",
         "hidden": false,
         "locked": false,
         "points": 2,
         "success_message": "Success: Special ability method works correctly!"
        },
        {
         "code": ">>> from pykubegrader.telemetry import ensure_responses, log_variable, score_question, submit_question, telemetry, update_responses\n>>> import os\n>>> import base64\n>>> import os\n>>> import contextlib\n>>> question_id = 'Character-class-15'\n>>> max_score = 2.0\n>>> score = 0\n>>> warrior_class = Warrior(name='Warrior')\n>>> warrior_class.abilities[1] = 'Berserk Strike'\n>>> shield = Armor(name='Shield', stat='defense', value=15, slot='chest')\n>>> potion = Item(name='Health Potion', effect='restore', stat='health', value=30)\n>>> inventory_character = Character(name='Ragnar', class_type=warrior_class)\n>>> with open(os.devnull, 'w') as f, contextlib.redirect_stdout(f):\n...     inventory_character.add_to_inventory(shield)\n...     inventory_character.add_to_inventory(potion)\n>>> inventory_test = [item.name for item in inventory_character.inventory]\n>>> expected_inventory = ['Shield', 'Health Potion']\n>>> assert inventory_test == expected_inventory, f'Expected {expected_inventory}, but got {inventory_test}.'\n>>> if inventory_test == expected_inventory:\n...     score = 2.0\n>>> earned_points = float(os.environ.get('EARNED_POINTS', 0))\n>>> earned_points += score\n>>> log_variable('1_world_of_warcraft', f'{score}, {max_score}', question_id)\n>>> os.environ['EARNED_POINTS'] = str(earned_points)\n>>> responses = update_responses(question_id, str(inventory_test))\n",
         "failure_message": "Failed: Inventory system does not function correctly.",
         "hidden": false,
         "locked": false,
         "points": 2,
         "success_message": "Success: Inventory system correctly stores and retrieves items!"
        },
        {
         "code": ">>> from pykubegrader.telemetry import ensure_responses, log_variable, score_question, submit_question, telemetry, update_responses\n>>> import os\n>>> import base64\n>>> question_id = 'Character-class-16'\n>>> max_score = 2.0\n>>> score = 0\n>>> test_class = Warrior('Arthur')\n>>> test_character = Character(name='Arthur', class_type=test_class)\n>>> test_character.base_health = -20\n>>> negative_base_health_test = test_character.base_health\n>>> expected_value = 0\n>>> assert negative_base_health_test == expected_value, f'Expected {expected_value}, but got {negative_base_health_test}.'\n>>> if negative_base_health_test == expected_value:\n...     score = 2.0\n>>> earned_points = float(os.environ.get('EARNED_POINTS', 0))\n>>> earned_points += score\n>>> log_variable('1_world_of_warcraft', f'{score}, {max_score}', question_id)\n>>> os.environ['EARNED_POINTS'] = str(earned_points)\n>>> responses = update_responses(question_id, str(negative_base_health_test))\n",
         "failure_message": "Failed: Base health allows negative values.",
         "hidden": false,
         "locked": false,
         "points": 2,
         "success_message": "Success: Base health cannot be negative!"
        },
        {
         "code": ">>> from pykubegrader.telemetry import ensure_responses, log_variable, score_question, submit_question, telemetry, update_responses\n>>> import os\n>>> import base64\n>>> question_id = 'Character-class-17'\n>>> max_score = 2.0\n>>> score = 0\n>>> test_class = Warrior('Arthur')\n>>> test_character = Character(name='Arthur', class_type=test_class)\n>>> test_character.max_health = 0\n>>> max_health_test = test_character.max_health\n>>> expected_value = 1\n>>> assert max_health_test == expected_value, f'Expected {expected_value}, but got {max_health_test}.'\n>>> if max_health_test == expected_value:\n...     score = 2.0\n>>> earned_points = float(os.environ.get('EARNED_POINTS', 0))\n>>> earned_points += score\n>>> log_variable('1_world_of_warcraft', f'{score}, {max_score}', question_id)\n>>> os.environ['EARNED_POINTS'] = str(earned_points)\n>>> responses = update_responses(question_id, str(max_health_test))\n",
         "failure_message": "Failed: Max health allows zero or negative values.",
         "hidden": false,
         "locked": false,
         "points": 2,
         "success_message": "Success: Max health cannot be set to zero or negative!"
        },
        {
         "code": ">>> from pykubegrader.telemetry import ensure_responses, log_variable, score_question, submit_question, telemetry, update_responses\n>>> import os\n>>> import base64\n>>> question_id = 'Character-class-18'\n>>> max_score = 2.0\n>>> score = 0\n>>> test_class = Warrior('Arthur')\n>>> test_character = Character(name='Arthur', class_type=test_class)\n>>> test_character.max_mana = 100\n>>> test_character.base_mana = 150\n>>> base_mana_test = test_character.base_mana\n>>> expected_value = 100\n>>> assert base_mana_test == expected_value, f'Expected {expected_value}, but got {base_mana_test}.'\n>>> if base_mana_test == expected_value:\n...     score = 2.0\n>>> earned_points = float(os.environ.get('EARNED_POINTS', 0))\n>>> earned_points += score\n>>> log_variable('1_world_of_warcraft', f'{score}, {max_score}', question_id)\n>>> os.environ['EARNED_POINTS'] = str(earned_points)\n>>> responses = update_responses(question_id, str(base_mana_test))\n",
         "failure_message": "Failed: Base mana setter allows values above max mana.",
         "hidden": false,
         "locked": false,
         "points": 2,
         "success_message": "Success: Base mana setter correctly limits values!"
        },
        {
         "code": ">>> from pykubegrader.telemetry import ensure_responses, log_variable, score_question, submit_question, telemetry, update_responses\n>>> import os\n>>> import base64\n>>> question_id = 'Character-class-19'\n>>> max_score = 2.0\n>>> score = 0\n>>> test_class = Warrior('Arthur')\n>>> test_character = Character(name='Arthur', class_type=test_class)\n>>> test_character.base_mana = -50\n>>> negative_base_mana_test = test_character.base_mana\n>>> expected_value = 0\n>>> assert negative_base_mana_test == expected_value, f'Expected {expected_value}, but got {negative_base_mana_test}.'\n>>> if negative_base_mana_test == expected_value:\n...     score = 2.0\n>>> earned_points = float(os.environ.get('EARNED_POINTS', 0))\n>>> earned_points += score\n>>> log_variable('1_world_of_warcraft', f'{score}, {max_score}', question_id)\n>>> os.environ['EARNED_POINTS'] = str(earned_points)\n>>> responses = update_responses(question_id, str(negative_base_mana_test))\n",
         "failure_message": "Failed: Base mana allows negative values.",
         "hidden": false,
         "locked": false,
         "points": 2,
         "success_message": "Success: Base mana cannot be negative!"
        },
        {
         "code": ">>> from pykubegrader.telemetry import ensure_responses, log_variable, score_question, submit_question, telemetry, update_responses\n>>> import os\n>>> import base64\n>>> question_id = 'Character-class-20'\n>>> max_score = 2.0\n>>> score = 0\n>>> test_class = Warrior('Arthur')\n>>> test_character = Character(name='Arthur', class_type=test_class)\n>>> test_character.max_mana = 0\n>>> max_mana_test = test_character.max_mana\n>>> expected_value = 1\n>>> assert max_mana_test == expected_value, f'Expected {expected_value}, but got {max_mana_test}.'\n>>> if max_mana_test == expected_value:\n...     score = 2.0\n>>> earned_points = float(os.environ.get('EARNED_POINTS', 0))\n>>> earned_points += score\n>>> log_variable('1_world_of_warcraft', f'{score}, {max_score}', question_id)\n>>> os.environ['EARNED_POINTS'] = str(earned_points)\n>>> responses = update_responses(question_id, str(max_mana_test))\n",
         "failure_message": "Failed: Max mana allows zero or negative values.",
         "hidden": false,
         "locked": false,
         "points": 2,
         "success_message": "Success: Max mana cannot be zero or negative!"
        },
        {
         "code": ">>> from pykubegrader.telemetry import ensure_responses, log_variable, score_question, submit_question, telemetry, update_responses\n>>> import os\n>>> import base64\n>>> question_id = 'Character-class-21'\n>>> max_score = 2.0\n>>> score = 0\n>>> test_class = Warrior('Arthur')\n>>> test_character = Character(name='Arthur', class_type=test_class)\n>>> test_character.strength = -10\n>>> negative_strength_test = test_character.strength\n>>> expected_value = 0\n>>> assert negative_strength_test == expected_value, f'Expected {expected_value}, but got {negative_strength_test}.'\n>>> if negative_strength_test == expected_value:\n...     score = 2.0\n>>> earned_points = float(os.environ.get('EARNED_POINTS', 0))\n>>> earned_points += score\n>>> log_variable('1_world_of_warcraft', f'{score}, {max_score}', question_id)\n>>> os.environ['EARNED_POINTS'] = str(earned_points)\n>>> responses = update_responses(question_id, str(negative_strength_test))\n",
         "failure_message": "Failed: Strength allows negative values.",
         "hidden": false,
         "locked": false,
         "points": 2,
         "success_message": "Success: Strength cannot be negative!"
        },
        {
         "code": ">>> from pykubegrader.telemetry import ensure_responses, log_variable, score_question, submit_question, telemetry, update_responses\n>>> import os\n>>> import base64\n>>> question_id = 'Character-class-22'\n>>> max_score = 2.0\n>>> score = 0\n>>> test_class = Warrior('Arthur')\n>>> test_character = Character(name='Arthur', class_type=test_class)\n>>> test_character.agility = -5\n>>> negative_agility_test = test_character.agility\n>>> expected_value = 0\n>>> assert negative_agility_test == expected_value, f'Expected {expected_value}, but got {negative_agility_test}.'\n>>> if negative_agility_test == expected_value:\n...     score = 2.0\n>>> earned_points = float(os.environ.get('EARNED_POINTS', 0))\n>>> earned_points += score\n>>> log_variable('1_world_of_warcraft', f'{score}, {max_score}', question_id)\n>>> os.environ['EARNED_POINTS'] = str(earned_points)\n>>> responses = update_responses(question_id, str(negative_agility_test))\n",
         "failure_message": "Failed: Agility allows negative values.",
         "hidden": false,
         "locked": false,
         "points": 2,
         "success_message": "Success: Agility cannot be negative!"
        },
        {
         "code": ">>> from pykubegrader.telemetry import ensure_responses, log_variable, score_question, submit_question, telemetry, update_responses\n>>> import os\n>>> import base64\n>>> question_id = 'Character-class-23'\n>>> max_score = 2.0\n>>> score = 0\n>>> test_class = Warrior('Arthur')\n>>> test_character = Character(name='Arthur', class_type=test_class)\n>>> test_character.intellect = -15\n>>> negative_intellect_test = test_character.intellect\n>>> expected_value = 0\n>>> assert negative_intellect_test == expected_value, f'Expected {expected_value}, but got {negative_intellect_test}.'\n>>> if negative_intellect_test == expected_value:\n...     score = 2.0\n>>> earned_points = float(os.environ.get('EARNED_POINTS', 0))\n>>> earned_points += score\n>>> log_variable('1_world_of_warcraft', f'{score}, {max_score}', question_id)\n>>> os.environ['EARNED_POINTS'] = str(earned_points)\n>>> responses = update_responses(question_id, str(negative_intellect_test))\n",
         "failure_message": "Failed: Intellect allows negative values.",
         "hidden": false,
         "locked": false,
         "points": 2,
         "success_message": "Success: Intellect cannot be negative!"
        },
        {
         "code": ">>> from pykubegrader.telemetry import ensure_responses, log_variable, score_question, submit_question, telemetry, update_responses\n>>> import os\n>>> import base64\n>>> question_id = 'Character-class-24'\n>>> max_score = 4.0\n>>> score = 0\n>>> test_class = Mage(name='Mage', base_health=80, base_mana=120)\n>>> test_character = Character(name='Gandalf', class_type=test_class)\n>>> private_variables_exist = all((hasattr(test_character, attr) for attr in ['_max_health', '_max_mana', '_strength', '_agility', '_intellect', '_base_health', '_base_mana']))\n>>> assert private_variables_exist, 'Expected private variables (_max_health, _max_mana, etc.) to be defined, but they are missing.'\n>>> if private_variables_exist:\n...     score = 4.0\n>>> earned_points = float(os.environ.get('EARNED_POINTS', 0))\n>>> earned_points += score\n>>> log_variable('1_world_of_warcraft', f'{score}, {max_score}', question_id)\n>>> os.environ['EARNED_POINTS'] = str(earned_points)\n>>> responses = update_responses(question_id, str(private_variables_exist))\n",
         "failure_message": "Failed: Private variables are not correctly defined.",
         "hidden": false,
         "locked": false,
         "points": 4,
         "success_message": "Success: Private variables are correctly defined!"
        },
        {
         "code": ">>> from pykubegrader.telemetry import ensure_responses, log_variable, score_question, submit_question, telemetry, update_responses\n>>> import os\n>>> import base64\n>>> question_id = 'Character-class-25'\n>>> max_score = 2.0\n>>> score = 0\n>>> test_class = Mage(name='Mage', base_health=80, base_mana=120)\n>>> test_character = Character(name='Gandalf', class_type=test_class)\n>>> getter_test_results = {'max_health': test_character.max_health == test_character._max_health, 'max_mana': test_character.max_mana == test_character._max_mana, 'strength': test_character.strength == test_character._strength, 'agility': test_character.agility == test_character._agility, 'intellect': test_character.intellect == test_character._intellect}\n>>> assert all(getter_test_results.values()), f'Expected getters to return values from private variables, but found discrepancies: {getter_test_results}'\n>>> if all(getter_test_results.values()):\n...     score = 2.0\n>>> earned_points = float(os.environ.get('EARNED_POINTS', 0))\n>>> earned_points += score\n>>> log_variable('1_world_of_warcraft', f'{score}, {max_score}', question_id)\n>>> os.environ['EARNED_POINTS'] = str(earned_points)\n>>> responses = update_responses(question_id, str(getter_test_results))\n",
         "failure_message": "Failed: Getters do not return private variables correctly.",
         "hidden": false,
         "locked": false,
         "points": 2,
         "success_message": "Success: Getters correctly return private variables!"
        }
       ],
       "scored": true,
       "setup": "",
       "teardown": "",
       "type": "doctest"
      }
     ]
    },
    "ClassType-class": {
     "name": "ClassType-class",
     "points": null,
     "suites": [
      {
       "cases": [
        {
         "code": ">>> from pykubegrader.telemetry import ensure_responses, log_variable, score_question, submit_question, telemetry, update_responses\n>>> import os\n>>> import base64\n>>> max_question_points = str(14.0)\n>>> earned_points = 0\n>>> os.environ['EARNED_POINTS'] = str(earned_points)\n>>> os.environ['TOTAL_POINTS_FREE_RESPONSE'] = str(186.0)\n>>> log_variable('total-points', f'week7-lab, 1_world_of_warcraft', 186.0)\n>>> question_id = 'ClassType-class-1'\n>>> max_score = 1.0\n>>> score = 0\n>>> class_exists = 'ClassType' in globals()\n>>> assert class_exists, 'Expected `ClassType` class to be defined, but it is missing.'\n>>> if class_exists:\n...     score = 1.0\n>>> earned_points = float(os.environ.get('EARNED_POINTS', 0))\n>>> earned_points += score\n>>> log_variable('1_world_of_warcraft', f'{score}, {max_score}', question_id)\n>>> os.environ['EARNED_POINTS'] = str(earned_points)\n>>> responses = update_responses(question_id, str(class_exists))\n",
         "failure_message": "Failed: `ClassType` class is not defined.",
         "hidden": false,
         "locked": false,
         "points": 1,
         "success_message": "Success: `ClassType` class is correctly defined!"
        },
        {
         "code": ">>> from pykubegrader.telemetry import ensure_responses, log_variable, score_question, submit_question, telemetry, update_responses\n>>> import os\n>>> import base64\n>>> question_id = 'ClassType-class-2'\n>>> max_score = 2.0\n>>> score = 0\n>>> class MockClassType(ClassType):\n...     def special_ability(self, level):\n...         return self.abilities.get(level, 'No new abilities at this level.')\n>>> test_class = MockClassType(name='Warrior', base_health=120, base_mana=30)\n>>> class_attributes = {'name': test_class.name, 'base_health': test_class.base_health, 'base_mana': test_class.base_mana, 'abilities': test_class.abilities, 'spells': test_class.spells}\n>>> expected_attributes = {'name': 'Warrior', 'base_health': 120, 'base_mana': 30, 'abilities': {}, 'spells': []}\n>>> assert class_attributes == expected_attributes, f'Expected {expected_attributes}, but got {class_attributes}.'\n>>> if (class_attributes == expected_attributes, f'Expected {expected_attributes}, but got {class_attributes}.'):\n...     score = 2.0\n>>> earned_points = float(os.environ.get('EARNED_POINTS', 0))\n>>> earned_points += score\n>>> log_variable('1_world_of_warcraft', f'{score}, {max_score}', question_id)\n>>> os.environ['EARNED_POINTS'] = str(earned_points)\n>>> responses = update_responses(question_id, str(class_attributes))\n",
         "failure_message": "Failed: `ClassType` does not initialize attributes correctly.",
         "hidden": false,
         "locked": false,
         "points": 2,
         "success_message": "Success: `ClassType` initializes attributes correctly!"
        },
        {
         "code": ">>> from pykubegrader.telemetry import ensure_responses, log_variable, score_question, submit_question, telemetry, update_responses\n>>> import os\n>>> import base64\n>>> import pytest\n>>> question_id = 'ClassType-class-3'\n>>> max_score = 3.0\n>>> score = 0\n>>> try:\n...     instance = ClassType(name='Test')\n...     instantiation_error = False\n... except TypeError:\n...     instantiation_error = True\n>>> assert instantiation_error, 'Expected `TypeError` when instantiating `ClassType` directly.'\n>>> if instantiation_error:\n...     score = 3.0\n>>> earned_points = float(os.environ.get('EARNED_POINTS', 0))\n>>> earned_points += score\n>>> log_variable('1_world_of_warcraft', f'{score}, {max_score}', question_id)\n>>> os.environ['EARNED_POINTS'] = str(earned_points)\n>>> responses = update_responses(question_id, str(instantiation_error))\n",
         "failure_message": "Failed: `ClassType` can be instantiated, but it should be abstract.",
         "hidden": false,
         "locked": false,
         "points": 3,
         "success_message": "Success: `ClassType` cannot be instantiated directly!"
        },
        {
         "code": ">>> from pykubegrader.telemetry import ensure_responses, log_variable, score_question, submit_question, telemetry, update_responses\n>>> import os\n>>> import base64\n>>> question_id = 'ClassType-class-4'\n>>> max_score = 3.0\n>>> score = 0\n>>> class Mage(ClassType):\n...     def __init__(self):\n...         super().__init__('Mage')\n...         self.abilities = {1: 'Fireball', 5: 'Arcane Surge'}\n...     def special_ability(self, level):\n...         return self.abilities.get(level, 'No new abilities at this level.')\n>>> mage = Mage()\n>>> ability_message = mage.special_ability(5)\n>>> expected_message = 'Arcane Surge'\n>>> assert ability_message == expected_message, f\"Expected ability message '{expected_message}', but got '{ability_message}'.\"\n>>> if (ability_message == expected_message, f\"Expected ability message '{expected_message}', but got '{ability_message}'.\"):\n...     score = 3.0\n>>> earned_points = float(os.environ.get('EARNED_POINTS', 0))\n>>> earned_points += score\n>>> log_variable('1_world_of_warcraft', f'{score}, {max_score}', question_id)\n>>> os.environ['EARNED_POINTS'] = str(earned_points)\n>>> responses = update_responses(question_id, str(ability_message))\n",
         "failure_message": "Failed: `special_ability()` does not return the expected results.",
         "hidden": false,
         "locked": false,
         "points": 3,
         "success_message": "Success: `special_ability()` returns correct ability or default message!"
        },
        {
         "code": ">>> from pykubegrader.telemetry import ensure_responses, log_variable, score_question, submit_question, telemetry, update_responses\n>>> import os\n>>> import base64\n>>> question_id = 'ClassType-class-5'\n>>> max_score = 3.0\n>>> score = 0\n>>> class Mage(ClassType):\n...     def __init__(self):\n...         super().__init__('Mage')\n...         self.abilities = {1: 'Fireball', 5: 'Arcane Surge'}\n...     def special_ability(self, level):\n...         return self.abilities.get(level, 'No new abilities at this level.')\n>>> mage = Mage()\n>>> ability_message = mage.special_ability(10)\n>>> expected_message = 'No new abilities at this level.'\n>>> assert ability_message == expected_message, f\"Expected ability message '{expected_message}', but got '{ability_message}'.\"\n>>> if (ability_message == expected_message, f\"Expected ability message '{expected_message}', but got '{ability_message}'.\"):\n...     score = 3.0\n>>> earned_points = float(os.environ.get('EARNED_POINTS', 0))\n>>> earned_points += score\n>>> log_variable('1_world_of_warcraft', f'{score}, {max_score}', question_id)\n>>> os.environ['EARNED_POINTS'] = str(earned_points)\n>>> responses = update_responses(question_id, str(ability_message))\n",
         "failure_message": "Failed: `special_ability()` does not return default for missing levels.",
         "hidden": false,
         "locked": false,
         "points": 3,
         "success_message": "Success: `special_ability()` correctly returns default message for missing levels!"
        },
        {
         "code": ">>> from pykubegrader.telemetry import ensure_responses, log_variable, score_question, submit_question, telemetry, update_responses\n>>> import os\n>>> import base64\n>>> import inspect\n>>> question_id = 'ClassType-class-6'\n>>> max_score = 2.0\n>>> score = 0\n>>> abstract_method = inspect.isabstract(ClassType)\n>>> assert abstract_method, 'Expected `ClassType` to have an abstract `special_ability()` method.'\n>>> if abstract_method:\n...     score = 2.0\n>>> earned_points = float(os.environ.get('EARNED_POINTS', 0))\n>>> earned_points += score\n>>> log_variable('1_world_of_warcraft', f'{score}, {max_score}', question_id)\n>>> os.environ['EARNED_POINTS'] = str(earned_points)\n>>> responses = update_responses(question_id, str(abstract_method))\n",
         "failure_message": "Failed: `special_ability()` is not abstract.",
         "hidden": false,
         "locked": false,
         "points": 2,
         "success_message": "Success: `special_ability()` is properly enforced as an abstract method!"
        }
       ],
       "scored": true,
       "setup": "",
       "teardown": "",
       "type": "doctest"
      }
     ]
    },
    "EquipmentManager-class": {
     "name": "EquipmentManager-class",
     "points": null,
     "suites": [
      {
       "cases": [
        {
         "code": ">>> from pykubegrader.telemetry import ensure_responses, log_variable, score_question, submit_question, telemetry, update_responses\n>>> import os\n>>> import base64\n>>> max_question_points = str(15.0)\n>>> earned_points = 0\n>>> os.environ['EARNED_POINTS'] = str(earned_points)\n>>> os.environ['TOTAL_POINTS_FREE_RESPONSE'] = str(186.0)\n>>> log_variable('total-points', f'week7-lab, 1_world_of_warcraft', 186.0)\n>>> question_id = 'EquipmentManager-class-1'\n>>> max_score = 1.0\n>>> score = 0\n>>> class_exists = 'EquipmentManager' in globals()\n>>> assert class_exists, 'Expected `EquipmentManager` class to be defined, but it is missing.'\n>>> if class_exists:\n...     score = 1.0\n>>> earned_points = float(os.environ.get('EARNED_POINTS', 0))\n>>> earned_points += score\n>>> log_variable('1_world_of_warcraft', f'{score}, {max_score}', question_id)\n>>> os.environ['EARNED_POINTS'] = str(earned_points)\n>>> responses = update_responses(question_id, str(class_exists))\n",
         "failure_message": "Failed: `EquipmentManager` class is not defined.",
         "hidden": false,
         "locked": false,
         "points": 1,
         "success_message": "Success: `EquipmentManager` class is correctly defined!"
        },
        {
         "code": ">>> from pykubegrader.telemetry import ensure_responses, log_variable, score_question, submit_question, telemetry, update_responses\n>>> import os\n>>> import base64\n>>> question_id = 'EquipmentManager-class-2'\n>>> max_score = 2.0\n>>> score = 0\n>>> manager = EquipmentManager()\n>>> equipped_items = manager.equipped_items\n>>> expected_equipped_items = {'head': None, 'chest': None, 'legs': None, 'weapon': None}\n>>> assert equipped_items == expected_equipped_items, f'Expected {expected_equipped_items}, but got {equipped_items}.'\n>>> if (equipped_items == expected_equipped_items, f'Expected {expected_equipped_items}, but got {equipped_items}.'):\n...     score = 2.0\n>>> earned_points = float(os.environ.get('EARNED_POINTS', 0))\n>>> earned_points += score\n>>> log_variable('1_world_of_warcraft', f'{score}, {max_score}', question_id)\n>>> os.environ['EARNED_POINTS'] = str(earned_points)\n>>> responses = update_responses(question_id, str(equipped_items))\n",
         "failure_message": "Failed: `EquipmentManager` does not initialize equipped_items correctly.",
         "hidden": false,
         "locked": false,
         "points": 2,
         "success_message": "Success: `EquipmentManager` initializes equipped_items correctly!"
        },
        {
         "code": ">>> from pykubegrader.telemetry import ensure_responses, log_variable, score_question, submit_question, telemetry, update_responses\n>>> import os\n>>> import base64\n>>> import os\n>>> import contextlib\n>>> question_id = 'EquipmentManager-class-3'\n>>> max_score = 3.0\n>>> score = 0\n>>> manager = EquipmentManager()\n>>> class MockItem:\n...     def __init__(self, name, slot):\n...         self.name = name\n...         self.slot = slot\n>>> helmet = MockItem(name='Iron Helmet', slot='head')\n>>> with open(os.devnull, 'w') as f, contextlib.redirect_stdout(f):\n...     equip_message = manager.equip_item(helmet)\n>>> expected_message = 'Equipped Iron Helmet in head slot!'\n>>> assert equip_message == expected_message, f\"Expected message '{expected_message}', but got '{equip_message}'.\"\n>>> if (equip_message == expected_message, f\"Expected message '{expected_message}', but got '{equip_message}'.\"):\n...     score = 3.0\n>>> earned_points = float(os.environ.get('EARNED_POINTS', 0))\n>>> earned_points += score\n>>> log_variable('1_world_of_warcraft', f'{score}, {max_score}', question_id)\n>>> os.environ['EARNED_POINTS'] = str(earned_points)\n>>> responses = update_responses(question_id, str(equip_message))\n",
         "failure_message": "Failed: `equip_item()` does not equip an item correctly.",
         "hidden": false,
         "locked": false,
         "points": 3,
         "success_message": "Success: `equip_item()` correctly equips an item!"
        },
        {
         "code": ">>> from pykubegrader.telemetry import ensure_responses, log_variable, score_question, submit_question, telemetry, update_responses\n>>> import os\n>>> import base64\n>>> question_id = 'EquipmentManager-class-4'\n>>> max_score = 3.0\n>>> score = 0\n>>> manager = EquipmentManager()\n>>> class MockItem:\n...     def __init__(self, name, slot):\n...         self.name = name\n...         self.slot = slot\n>>> invalid_item = MockItem(name='Magic Ring', slot='ring')\n>>> equip_message = manager.equip_item(invalid_item)\n>>> expected_message = 'Cannot equip this item.'\n>>> assert equip_message == expected_message, f\"Expected message '{expected_message}', but got '{equip_message}'.\"\n>>> if (equip_message == expected_message, f\"Expected message '{expected_message}', but got '{equip_message}'.\"):\n...     score = 3.0\n>>> earned_points = float(os.environ.get('EARNED_POINTS', 0))\n>>> earned_points += score\n>>> log_variable('1_world_of_warcraft', f'{score}, {max_score}', question_id)\n>>> os.environ['EARNED_POINTS'] = str(earned_points)\n>>> responses = update_responses(question_id, str(equip_message))\n",
         "failure_message": "Failed: `equip_item()` allows equipping an invalid item.",
         "hidden": false,
         "locked": false,
         "points": 3,
         "success_message": "Success: `equip_item()` correctly prevents equipping an invalid item!"
        },
        {
         "code": ">>> from pykubegrader.telemetry import ensure_responses, log_variable, score_question, submit_question, telemetry, update_responses\n>>> import os\n>>> import base64\n>>> question_id = 'EquipmentManager-class-5'\n>>> max_score = 3.0\n>>> score = 0\n>>> manager = EquipmentManager()\n>>> class MockItem:\n...     def __init__(self, name, slot):\n...         self.name = name\n...         self.slot = slot\n>>> sword = MockItem(name='Iron Sword', slot='weapon')\n>>> axe = MockItem(name='Battle Axe', slot='weapon')\n>>> out = manager.equip_item(sword)\n>>> equip_message = manager.equip_item(axe)\n>>> expected_message = 'Equipped Battle Axe in weapon slot!'\n>>> assert equip_message == expected_message, f\"Expected message '{expected_message}', but got '{equip_message}'.\"\n>>> if (equip_message == expected_message, f\"Expected message '{expected_message}', but got '{equip_message}'.\"):\n...     score = 3.0\n>>> earned_points = float(os.environ.get('EARNED_POINTS', 0))\n>>> earned_points += score\n>>> log_variable('1_world_of_warcraft', f'{score}, {max_score}', question_id)\n>>> os.environ['EARNED_POINTS'] = str(earned_points)\n>>> responses = update_responses(question_id, str(equip_message))\n",
         "failure_message": "Failed: `equip_item()` does not correctly replace existing equipment.",
         "hidden": false,
         "locked": false,
         "points": 3,
         "success_message": "Success: `equip_item()` correctly replaces existing equipment!"
        },
        {
         "code": ">>> from pykubegrader.telemetry import ensure_responses, log_variable, score_question, submit_question, telemetry, update_responses\n>>> import os\n>>> import base64\n>>> question_id = 'EquipmentManager-class-6'\n>>> max_score = 3.0\n>>> score = 0\n>>> manager = EquipmentManager()\n>>> out = manager.unequip_item('weapon')\n>>> equipped_items = manager.equipped_items\n>>> expected_equipped_items = {'head': None, 'chest': None, 'legs': None, 'weapon': None}\n>>> assert equipped_items == expected_equipped_items, f'Expected {expected_equipped_items}, but got {equipped_items}.'\n>>> if (equipped_items == expected_equipped_items, f'Expected {expected_equipped_items}, but got {equipped_items}.'):\n...     score = 3.0\n>>> earned_points = float(os.environ.get('EARNED_POINTS', 0))\n>>> earned_points += score\n>>> log_variable('1_world_of_warcraft', f'{score}, {max_score}', question_id)\n>>> os.environ['EARNED_POINTS'] = str(earned_points)\n>>> responses = update_responses(question_id, str(equipped_items))\n",
         "failure_message": "Failed: `unequip_item()` does not correctly update `equipped_items`.",
         "hidden": false,
         "locked": false,
         "points": 3,
         "success_message": "Success: `unequip_item()` correctly updates `equipped_items`!"
        }
       ],
       "scored": true,
       "setup": "",
       "teardown": "",
       "type": "doctest"
      }
     ]
    },
    "Item-class-builder": {
     "name": "Item-class-builder",
     "points": null,
     "suites": [
      {
       "cases": [
        {
         "code": ">>> from pykubegrader.telemetry import ensure_responses, log_variable, score_question, submit_question, telemetry, update_responses\n>>> import os\n>>> import base64\n>>> max_question_points = str(16.0)\n>>> earned_points = 0\n>>> os.environ['EARNED_POINTS'] = str(earned_points)\n>>> os.environ['TOTAL_POINTS_FREE_RESPONSE'] = str(186.0)\n>>> log_variable('total-points', f'week7-lab, 1_world_of_warcraft', 186.0)\n>>> question_id = 'Item-class-builder-1'\n>>> max_score = 1.0\n>>> score = 0\n>>> class_exists = 'Item' in globals()\n>>> assert class_exists, 'Expected `Item` class to be defined, but it is missing.'\n>>> if class_exists:\n...     score = 1.0\n>>> earned_points = float(os.environ.get('EARNED_POINTS', 0))\n>>> earned_points += score\n>>> log_variable('1_world_of_warcraft', f'{score}, {max_score}', question_id)\n>>> os.environ['EARNED_POINTS'] = str(earned_points)\n>>> responses = update_responses(question_id, str(class_exists))\n",
         "failure_message": "Failed: `Item` class is not defined.",
         "hidden": false,
         "locked": false,
         "points": 1,
         "success_message": "Success: `Item` class is correctly defined!"
        },
        {
         "code": ">>> from pykubegrader.telemetry import ensure_responses, log_variable, score_question, submit_question, telemetry, update_responses\n>>> import os\n>>> import base64\n>>> question_id = 'Item-class-builder-2'\n>>> max_score = 2.0\n>>> score = 0\n>>> test_item = Item(name='Healing Potion', effect='restore', stat='health', value=50)\n>>> item_attributes = {'name': test_item.name, 'effect': test_item.effect, 'stat': test_item.stat, 'value': test_item.value, 'slot': test_item.slot}\n>>> expected_attributes = {'name': 'Healing Potion', 'effect': 'restore', 'stat': 'health', 'value': 50, 'slot': None}\n>>> assert item_attributes == expected_attributes, f'Expected {expected_attributes}, but got {item_attributes}.'\n>>> if (item_attributes == expected_attributes, f'Expected {expected_attributes}, but got {item_attributes}.'):\n...     score = 2.0\n>>> earned_points = float(os.environ.get('EARNED_POINTS', 0))\n>>> earned_points += score\n>>> log_variable('1_world_of_warcraft', f'{score}, {max_score}', question_id)\n>>> os.environ['EARNED_POINTS'] = str(earned_points)\n>>> responses = update_responses(question_id, str(item_attributes))\n",
         "failure_message": "Failed: `Item` does not initialize attributes correctly.",
         "hidden": false,
         "locked": false,
         "points": 2,
         "success_message": "Success: `Item` initializes attributes correctly!"
        },
        {
         "code": ">>> from pykubegrader.telemetry import ensure_responses, log_variable, score_question, submit_question, telemetry, update_responses\n>>> import os\n>>> import base64\n>>> question_id = 'Item-class-builder-3'\n>>> max_score = 3.0\n>>> score = 0\n>>> class MockCharacter:\n...     def __init__(self):\n...         self.name = 'Test Hero'\n...         self.base_health = 100\n...         self.base_mana = 50\n...         self.strength = 20\n...         self.agility = 15\n...         self.intellect = 10\n...         self.max_health = 200\n...         self.max_mana = 100\n>>> character = MockCharacter()\n>>> strength_item = Item(name='Power Gauntlets', effect='increase', stat='strength', value=5)\n>>> out = strength_item.apply(character)\n>>> updated_stat = character.strength\n>>> expected_stat = 25\n>>> assert updated_stat == expected_stat, f'Expected strength to be {expected_stat}, but got {updated_stat}.'\n>>> if (updated_stat == expected_stat, f'Expected strength to be {expected_stat}, but got {updated_stat}.'):\n...     score = 3.0\n>>> earned_points = float(os.environ.get('EARNED_POINTS', 0))\n>>> earned_points += score\n>>> log_variable('1_world_of_warcraft', f'{score}, {max_score}', question_id)\n>>> os.environ['EARNED_POINTS'] = str(earned_points)\n>>> responses = update_responses(question_id, str(updated_stat))\n",
         "failure_message": "Failed: `apply()` does not increase stats correctly.",
         "hidden": false,
         "locked": false,
         "points": 3,
         "success_message": "Success: `apply()` correctly increases character stats!"
        },
        {
         "code": ">>> from pykubegrader.telemetry import ensure_responses, log_variable, score_question, submit_question, telemetry, update_responses\n>>> import os\n>>> import base64\n>>> question_id = 'Item-class-builder-4'\n>>> max_score = 3.0\n>>> score = 0\n>>> class MockCharacter:\n...     def __init__(self):\n...         self.name = 'Test Hero'\n...         self.base_health = 100\n...         self.base_mana = 50\n...         self.strength = 20\n...         self.agility = 15\n...         self.intellect = 10\n...         self.max_health = 200\n...         self.max_mana = 100\n>>> character = MockCharacter()\n>>> character.base_health = 120\n>>> health_potion = Item(name='Healing Potion', effect='restore', stat='health', value=50)\n>>> out = health_potion.apply(character)\n>>> updated_health = character.base_health\n>>> expected_health = 170\n>>> assert updated_health == expected_health, f'Expected health to be {expected_health}, but got {updated_health}.'\n>>> if (updated_health == expected_health, f'Expected health to be {expected_health}, but got {updated_health}.'):\n...     score = 3.0\n>>> earned_points = float(os.environ.get('EARNED_POINTS', 0))\n>>> earned_points += score\n>>> log_variable('1_world_of_warcraft', f'{score}, {max_score}', question_id)\n>>> os.environ['EARNED_POINTS'] = str(earned_points)\n>>> responses = update_responses(question_id, str(updated_health))\n",
         "failure_message": "Failed: `apply()` does not restore health correctly.",
         "hidden": false,
         "locked": false,
         "points": 3,
         "success_message": "Success: `apply()` correctly restores health!"
        },
        {
         "code": ">>> from pykubegrader.telemetry import ensure_responses, log_variable, score_question, submit_question, telemetry, update_responses\n>>> import os\n>>> import base64\n>>> question_id = 'Item-class-builder-5'\n>>> max_score = 2.0\n>>> score = 0\n>>> class MockCharacter:\n...     def __init__(self):\n...         self.name = 'Test Hero'\n...         self.base_health = 100\n...         self.base_mana = 50\n...         self.strength = 20\n...         self.agility = 15\n...         self.intellect = 10\n...         self.max_health = 200\n...         self.max_mana = 100\n>>> character = MockCharacter()\n>>> character.base_health = 190\n>>> large_potion = Item(name='Mega Potion', effect='restore', stat='health', value=50)\n>>> out = large_potion.apply(character)\n>>> final_health = character.base_health\n>>> expected_max_health = character.max_health\n>>> assert final_health == expected_max_health, f'Expected health to be capped at {expected_max_health}, but got {final_health}.'\n>>> if (final_health == expected_max_health, f'Expected health to be capped at {expected_max_health}, but got {final_health}.'):\n...     score = 2.0\n>>> earned_points = float(os.environ.get('EARNED_POINTS', 0))\n>>> earned_points += score\n>>> log_variable('1_world_of_warcraft', f'{score}, {max_score}', question_id)\n>>> os.environ['EARNED_POINTS'] = str(earned_points)\n>>> responses = update_responses(question_id, str(final_health))\n",
         "failure_message": "Failed: `apply()` allows health to exceed max health.",
         "hidden": false,
         "locked": false,
         "points": 2,
         "success_message": "Success: `apply()` correctly prevents health from exceeding max health!"
        },
        {
         "code": ">>> from pykubegrader.telemetry import ensure_responses, log_variable, score_question, submit_question, telemetry, update_responses\n>>> import os\n>>> import base64\n>>> question_id = 'Item-class-builder-6'\n>>> max_score = 3.0\n>>> score = 0\n>>> class MockCharacter:\n...     def __init__(self):\n...         self.name = 'Test Hero'\n...         self.base_health = 100\n...         self.base_mana = 50\n...         self.strength = 20\n...         self.agility = 15\n...         self.intellect = 10\n...         self.max_health = 200\n...         self.max_mana = 100\n>>> character = MockCharacter()\n>>> character.base_mana = 40\n>>> mana_potion = Item(name='Mana Potion', effect='restore', stat='mana', value=30)\n>>> out = mana_potion.apply(character)\n>>> updated_mana = character.base_mana\n>>> expected_mana = 70\n>>> assert updated_mana == expected_mana, f'Expected mana to be {expected_mana}, but got {updated_mana}.'\n>>> if (updated_mana == expected_mana, f'Expected mana to be {expected_mana}, but got {updated_mana}.'):\n...     score = 3.0\n>>> earned_points = float(os.environ.get('EARNED_POINTS', 0))\n>>> earned_points += score\n>>> log_variable('1_world_of_warcraft', f'{score}, {max_score}', question_id)\n>>> os.environ['EARNED_POINTS'] = str(earned_points)\n>>> responses = update_responses(question_id, str(updated_mana))\n",
         "failure_message": "Failed: `apply()` does not restore mana correctly.",
         "hidden": false,
         "locked": false,
         "points": 3,
         "success_message": "Success: `apply()` correctly restores mana!"
        },
        {
         "code": ">>> from pykubegrader.telemetry import ensure_responses, log_variable, score_question, submit_question, telemetry, update_responses\n>>> import os\n>>> import base64\n>>> question_id = 'Item-class-builder-7'\n>>> max_score = 2.0\n>>> score = 0\n>>> class MockCharacter:\n...     def __init__(self):\n...         self.name = 'Test Hero'\n...         self.base_health = 100\n...         self.base_mana = 50\n...         self.strength = 20\n...         self.agility = 15\n...         self.intellect = 10\n...         self.max_health = 200\n...         self.max_mana = 100\n>>> character = MockCharacter()\n>>> character.strength = 20\n>>> bad_item = Item(name='Cursed Ring', effect='increase', stat='strength', value=-5)\n>>> out = bad_item.apply(character)\n>>> final_stat = character.strength\n>>> expected_stat = 15\n>>> assert final_stat == expected_stat, f'Expected strength to stay at {expected_stat}, but got {final_stat}.'\n>>> if (final_stat == expected_stat, f'Expected strength to stay at {expected_stat}, but got {final_stat}.'):\n...     score = 2.0\n>>> earned_points = float(os.environ.get('EARNED_POINTS', 0))\n>>> earned_points += score\n>>> log_variable('1_world_of_warcraft', f'{score}, {max_score}', question_id)\n>>> os.environ['EARNED_POINTS'] = str(earned_points)\n>>> responses = update_responses(question_id, str(final_stat))\n",
         "failure_message": "Failed: `apply()` allows negative stat modifications.",
         "hidden": false,
         "locked": false,
         "points": 2,
         "success_message": "Success: `apply()` does not allow negative stat modifications!"
        }
       ],
       "scored": true,
       "setup": "",
       "teardown": "",
       "type": "doctest"
      }
     ]
    },
    "Mage-class": {
     "name": "Mage-class",
     "points": null,
     "suites": [
      {
       "cases": [
        {
         "code": ">>> from pykubegrader.telemetry import ensure_responses, log_variable, score_question, submit_question, telemetry, update_responses\n>>> import os\n>>> import base64\n>>> max_question_points = str(13.0)\n>>> earned_points = 0\n>>> os.environ['EARNED_POINTS'] = str(earned_points)\n>>> os.environ['TOTAL_POINTS_FREE_RESPONSE'] = str(186.0)\n>>> log_variable('total-points', f'week7-lab, 1_world_of_warcraft', 186.0)\n>>> question_id = 'Mage-class-1'\n>>> max_score = 1.0\n>>> score = 0\n>>> class_exists = 'Mage' in globals()\n>>> assert class_exists, 'Expected `Mage` class to be defined, but it is missing.'\n>>> if class_exists:\n...     score = 1.0\n>>> earned_points = float(os.environ.get('EARNED_POINTS', 0))\n>>> earned_points += score\n>>> log_variable('1_world_of_warcraft', f'{score}, {max_score}', question_id)\n>>> os.environ['EARNED_POINTS'] = str(earned_points)\n>>> responses = update_responses(question_id, str(class_exists))\n",
         "failure_message": "Failed: `Mage` class is not defined.",
         "hidden": false,
         "locked": false,
         "points": 1,
         "success_message": "Success: `Mage` class is correctly defined!"
        },
        {
         "code": ">>> from pykubegrader.telemetry import ensure_responses, log_variable, score_question, submit_question, telemetry, update_responses\n>>> import os\n>>> import base64\n>>> question_id = 'Mage-class-2'\n>>> max_score = 2.0\n>>> score = 0\n>>> test_mage = Mage(name='Merlin')\n>>> class_attributes = {'name': test_mage.name, 'base_health': test_mage.base_health, 'base_mana': test_mage.base_mana, 'abilities': test_mage.abilities, 'spells': test_mage.spells}\n>>> expected_attributes = {'name': 'Mage', 'base_health': 80, 'base_mana': 150, 'abilities': {1: 'Fireball - Cast a fire spell!'}, 'spells': [Spell('Fireball', 30, 20, 1), Spell('Ice Barrier', 0, 40, 5), Spell('Teleport', 0, 50, 10)]}\n>>> assert class_attributes['name'] == expected_attributes['name']\n>>> assert class_attributes['base_health'] == expected_attributes['base_health']\n>>> assert class_attributes['base_mana'] == expected_attributes['base_mana']\n>>> assert class_attributes['abilities'] == expected_attributes['abilities']\n>>> assert len(class_attributes['spells']) == len(expected_attributes['spells'])\n>>> if class_attributes['name'] == expected_attributes['name'] and class_attributes['base_health'] == expected_attributes['base_health'] and (class_attributes['base_mana'] == expected_attributes['base_mana']) and (class_attributes['abilities'] == expected_attributes['abilities']) and (len(class_attributes['spells']) == len(expected_attributes['spells'])):\n...     score = 2.0\n>>> earned_points = float(os.environ.get('EARNED_POINTS', 0))\n>>> earned_points += score\n>>> log_variable('1_world_of_warcraft', f'{score}, {max_score}', question_id)\n>>> os.environ['EARNED_POINTS'] = str(earned_points)\n>>> responses = update_responses(question_id, str(class_attributes))\n",
         "failure_message": "Failed: `Mage` does not initialize attributes correctly.",
         "hidden": false,
         "locked": false,
         "points": 2,
         "success_message": "Success: `Mage` initializes attributes correctly!"
        },
        {
         "code": ">>> from pykubegrader.telemetry import ensure_responses, log_variable, score_question, submit_question, telemetry, update_responses\n>>> import os\n>>> import base64\n>>> question_id = 'Mage-class-3'\n>>> max_score = 2.0\n>>> score = 0\n>>> inherits_correctly = issubclass(Mage, ClassType)\n>>> assert inherits_correctly, 'Expected `Mage` to inherit from `ClassType`, but it does not.'\n>>> if inherits_correctly:\n...     score = 2.0\n>>> earned_points = float(os.environ.get('EARNED_POINTS', 0))\n>>> earned_points += score\n>>> log_variable('1_world_of_warcraft', f'{score}, {max_score}', question_id)\n>>> os.environ['EARNED_POINTS'] = str(earned_points)\n>>> responses = update_responses(question_id, str(inherits_correctly))\n",
         "failure_message": "Failed: `Mage` does not correctly inherit from `ClassType`.",
         "hidden": false,
         "locked": false,
         "points": 2,
         "success_message": "Success: `Mage` correctly inherits from `ClassType`!"
        },
        {
         "code": ">>> from pykubegrader.telemetry import ensure_responses, log_variable, score_question, submit_question, telemetry, update_responses\n>>> import os\n>>> import base64\n>>> question_id = 'Mage-class-4'\n>>> max_score = 3.0\n>>> score = 0\n>>> test_mage = Mage(name='Merlin')\n>>> ability_message = test_mage.special_ability()\n>>> expected_message = 'Fireball - Cast a fire spell!'\n>>> assert ability_message == expected_message, f\"Expected '{expected_message}', but got '{ability_message}'.\"\n>>> if (ability_message == expected_message, f\"Expected '{expected_message}', but got '{ability_message}'.\"):\n...     score = 3.0\n>>> earned_points = float(os.environ.get('EARNED_POINTS', 0))\n>>> earned_points += score\n>>> log_variable('1_world_of_warcraft', f'{score}, {max_score}', question_id)\n>>> os.environ['EARNED_POINTS'] = str(earned_points)\n>>> responses = update_responses(question_id, str(ability_message))\n",
         "failure_message": "Failed: `special_ability()` does not return the correct ability.",
         "hidden": false,
         "locked": false,
         "points": 3,
         "success_message": "Success: `special_ability()` correctly returns the Mage's ability!"
        },
        {
         "code": ">>> from pykubegrader.telemetry import ensure_responses, log_variable, score_question, submit_question, telemetry, update_responses\n>>> import os\n>>> import base64\n>>> question_id = 'Mage-class-5'\n>>> max_score = 2.0\n>>> score = 0\n>>> test_mage = Mage(name='Merlin')\n>>> spell_list = [(spell.name, spell.damage, spell.mana_cost, spell.level_required) for spell in test_mage.spells]\n>>> expected_spells = [('Fireball', 30, 20, 1), ('Ice Barrier', 0, 40, 5), ('Teleport', 0, 50, 10)]\n>>> assert spell_list == expected_spells, f'Expected spell list {expected_spells}, but got {spell_list}.'\n>>> if (spell_list == expected_spells, f'Expected spell list {expected_spells}, but got {spell_list}.'):\n...     score = 2.0\n>>> earned_points = float(os.environ.get('EARNED_POINTS', 0))\n>>> earned_points += score\n>>> log_variable('1_world_of_warcraft', f'{score}, {max_score}', question_id)\n>>> os.environ['EARNED_POINTS'] = str(earned_points)\n>>> responses = update_responses(question_id, str(spell_list))\n",
         "failure_message": "Failed: `Mage` does not correctly initialize the spell list.",
         "hidden": false,
         "locked": false,
         "points": 2,
         "success_message": "Success: `Mage` correctly initializes the spell list!"
        },
        {
         "code": ">>> from pykubegrader.telemetry import ensure_responses, log_variable, score_question, submit_question, telemetry, update_responses\n>>> import os\n>>> import base64\n>>> question_id = 'Mage-class-6'\n>>> max_score = 3.0\n>>> score = 0\n>>> test_mage = Mage(name='Merlin')\n>>> custom_mage = Mage(name='Gandalf', base_health=100, base_mana=200)\n>>> custom_attributes = {'base_health': custom_mage.base_health, 'base_mana': custom_mage.base_mana}\n>>> expected_custom_attributes = {'base_health': 100, 'base_mana': 200}\n>>> assert custom_attributes == expected_custom_attributes, f'Expected {expected_custom_attributes}, but got {custom_attributes}.'\n>>> if (custom_attributes == expected_custom_attributes, f'Expected {expected_custom_attributes}, but got {custom_attributes}.'):\n...     score = 3.0\n>>> earned_points = float(os.environ.get('EARNED_POINTS', 0))\n>>> earned_points += score\n>>> log_variable('1_world_of_warcraft', f'{score}, {max_score}', question_id)\n>>> os.environ['EARNED_POINTS'] = str(earned_points)\n>>> responses = update_responses(question_id, str(custom_attributes))\n",
         "failure_message": "Failed: `Mage` does not correctly accept custom health and mana.",
         "hidden": false,
         "locked": false,
         "points": 3,
         "success_message": "Success: `Mage` correctly initializes with custom health and mana!"
        }
       ],
       "scored": true,
       "setup": "",
       "teardown": "",
       "type": "doctest"
      }
     ]
    },
    "Monk-class": {
     "name": "Monk-class",
     "points": null,
     "suites": [
      {
       "cases": [
        {
         "code": ">>> from pykubegrader.telemetry import ensure_responses, log_variable, score_question, submit_question, telemetry, update_responses\n>>> import os\n>>> import base64\n>>> max_question_points = str(13.0)\n>>> earned_points = 0\n>>> os.environ['EARNED_POINTS'] = str(earned_points)\n>>> os.environ['TOTAL_POINTS_FREE_RESPONSE'] = str(186.0)\n>>> log_variable('total-points', f'week7-lab, 1_world_of_warcraft', 186.0)\n>>> question_id = 'Monk-class-1'\n>>> max_score = 1.0\n>>> score = 0\n>>> class_exists = 'Monk' in globals()\n>>> assert class_exists, 'Expected `Monk` class to be defined, but it is missing.'\n>>> if class_exists:\n...     score = 1.0\n>>> earned_points = float(os.environ.get('EARNED_POINTS', 0))\n>>> earned_points += score\n>>> log_variable('1_world_of_warcraft', f'{score}, {max_score}', question_id)\n>>> os.environ['EARNED_POINTS'] = str(earned_points)\n>>> responses = update_responses(question_id, str(class_exists))\n",
         "failure_message": "Failed: `Monk` class is not defined.",
         "hidden": false,
         "locked": false,
         "points": 1,
         "success_message": "Success: `Monk` class is correctly defined!"
        },
        {
         "code": ">>> from pykubegrader.telemetry import ensure_responses, log_variable, score_question, submit_question, telemetry, update_responses\n>>> import os\n>>> import base64\n>>> question_id = 'Monk-class-2'\n>>> max_score = 2.0\n>>> score = 0\n>>> test_monk = Monk(name='Lee')\n>>> class_attributes = {'name': test_monk.name, 'base_health': test_monk.base_health, 'base_mana': test_monk.base_mana, 'abilities': test_monk.abilities, 'spells': test_monk.spells}\n>>> expected_attributes = {'name': 'Monk', 'base_health': 120, 'base_mana': 90, 'abilities': {1: 'Inner Focus - Center your mind and body for enhanced combat!'}, 'spells': [Spell('Chi Wave', 25, 20, 3), Spell('Zen Meditation', 0, 30, 5), Spell('Flying Serpent Kick', 40, 25, 7)]}\n>>> assert class_attributes['name'] == expected_attributes['name']\n>>> assert class_attributes['base_health'] == expected_attributes['base_health']\n>>> assert class_attributes['base_mana'] == expected_attributes['base_mana']\n>>> assert class_attributes['abilities'] == expected_attributes['abilities']\n>>> assert len(class_attributes['spells']) == len(expected_attributes['spells'])\n>>> if class_attributes['name'] == expected_attributes['name'] and class_attributes['base_health'] == expected_attributes['base_health'] and (class_attributes['base_mana'] == expected_attributes['base_mana']) and (class_attributes['abilities'] == expected_attributes['abilities']) and (len(class_attributes['spells']) == len(expected_attributes['spells'])):\n...     score = 2.0\n>>> earned_points = float(os.environ.get('EARNED_POINTS', 0))\n>>> earned_points += score\n>>> log_variable('1_world_of_warcraft', f'{score}, {max_score}', question_id)\n>>> os.environ['EARNED_POINTS'] = str(earned_points)\n>>> responses = update_responses(question_id, str(class_attributes))\n",
         "failure_message": "Failed: `Monk` does not initialize attributes correctly.",
         "hidden": false,
         "locked": false,
         "points": 2,
         "success_message": "Success: `Monk` initializes attributes correctly!"
        },
        {
         "code": ">>> from pykubegrader.telemetry import ensure_responses, log_variable, score_question, submit_question, telemetry, update_responses\n>>> import os\n>>> import base64\n>>> question_id = 'Monk-class-3'\n>>> max_score = 2.0\n>>> score = 0\n>>> inherits_correctly = issubclass(Monk, ClassType)\n>>> assert inherits_correctly, 'Expected `Monk` to inherit from `ClassType`, but it does not.'\n>>> if inherits_correctly:\n...     score = 2.0\n>>> earned_points = float(os.environ.get('EARNED_POINTS', 0))\n>>> earned_points += score\n>>> log_variable('1_world_of_warcraft', f'{score}, {max_score}', question_id)\n>>> os.environ['EARNED_POINTS'] = str(earned_points)\n>>> responses = update_responses(question_id, str(inherits_correctly))\n",
         "failure_message": "Failed: `Monk` does not correctly inherit from `ClassType`.",
         "hidden": false,
         "locked": false,
         "points": 2,
         "success_message": "Success: `Monk` correctly inherits from `ClassType`!"
        },
        {
         "code": ">>> from pykubegrader.telemetry import ensure_responses, log_variable, score_question, submit_question, telemetry, update_responses\n>>> import os\n>>> import base64\n>>> question_id = 'Monk-class-4'\n>>> max_score = 3.0\n>>> score = 0\n>>> test_monk = Monk(name='Lee')\n>>> ability_message = test_monk.special_ability()\n>>> expected_message = 'Inner Focus - Center your mind and body for enhanced combat!'\n>>> assert ability_message == expected_message, f\"Expected '{expected_message}', but got '{ability_message}'.\"\n>>> if (ability_message == expected_message, f\"Expected '{expected_message}', but got '{ability_message}'.\"):\n...     score = 3.0\n>>> earned_points = float(os.environ.get('EARNED_POINTS', 0))\n>>> earned_points += score\n>>> log_variable('1_world_of_warcraft', f'{score}, {max_score}', question_id)\n>>> os.environ['EARNED_POINTS'] = str(earned_points)\n>>> responses = update_responses(question_id, str(ability_message))\n",
         "failure_message": "Failed: `special_ability()` does not return the correct ability.",
         "hidden": false,
         "locked": false,
         "points": 3,
         "success_message": "Success: `special_ability()` correctly returns the Monk's ability!"
        },
        {
         "code": ">>> from pykubegrader.telemetry import ensure_responses, log_variable, score_question, submit_question, telemetry, update_responses\n>>> import os\n>>> import base64\n>>> question_id = 'Monk-class-5'\n>>> max_score = 2.0\n>>> score = 0\n>>> test_monk = Monk(name='Lee')\n>>> spell_list = [(spell.name, spell.damage, spell.mana_cost, spell.level_required) for spell in test_monk.spells]\n>>> expected_spells = [('Chi Wave', 25, 20, 3), ('Zen Meditation', 0, 30, 5), ('Flying Serpent Kick', 40, 25, 7)]\n>>> assert spell_list == expected_spells, f'Expected spell list {expected_spells}, but got {spell_list}.'\n>>> if (spell_list == expected_spells, f'Expected spell list {expected_spells}, but got {spell_list}.'):\n...     score = 2.0\n>>> earned_points = float(os.environ.get('EARNED_POINTS', 0))\n>>> earned_points += score\n>>> log_variable('1_world_of_warcraft', f'{score}, {max_score}', question_id)\n>>> os.environ['EARNED_POINTS'] = str(earned_points)\n>>> responses = update_responses(question_id, str(spell_list))\n",
         "failure_message": "Failed: `Monk` does not correctly initialize the spell list.",
         "hidden": false,
         "locked": false,
         "points": 2,
         "success_message": "Success: `Monk` correctly initializes the spell list!"
        },
        {
         "code": ">>> from pykubegrader.telemetry import ensure_responses, log_variable, score_question, submit_question, telemetry, update_responses\n>>> import os\n>>> import base64\n>>> question_id = 'Monk-class-6'\n>>> max_score = 3.0\n>>> score = 0\n>>> custom_monk = Monk(name='Bruce', base_health=150, base_mana=120)\n>>> custom_attributes = {'base_health': custom_monk.base_health, 'base_mana': custom_monk.base_mana}\n>>> expected_custom_attributes = {'base_health': 150, 'base_mana': 120}\n>>> assert custom_attributes == expected_custom_attributes, f'Expected {expected_custom_attributes}, but got {custom_attributes}.'\n>>> if (custom_attributes == expected_custom_attributes, f'Expected {expected_custom_attributes}, but got {custom_attributes}.'):\n...     score = 3.0\n>>> earned_points = float(os.environ.get('EARNED_POINTS', 0))\n>>> earned_points += score\n>>> log_variable('1_world_of_warcraft', f'{score}, {max_score}', question_id)\n>>> os.environ['EARNED_POINTS'] = str(earned_points)\n>>> responses = update_responses(question_id, str(custom_attributes))\n",
         "failure_message": "Failed: `Monk` does not correctly accept custom health and mana.",
         "hidden": false,
         "locked": false,
         "points": 3,
         "success_message": "Success: `Monk` correctly initializes with custom health and mana!"
        }
       ],
       "scored": true,
       "setup": "",
       "teardown": "",
       "type": "doctest"
      }
     ]
    },
    "Paladin-class": {
     "name": "Paladin-class",
     "points": null,
     "suites": [
      {
       "cases": [
        {
         "code": ">>> from pykubegrader.telemetry import ensure_responses, log_variable, score_question, submit_question, telemetry, update_responses\n>>> import os\n>>> import base64\n>>> max_question_points = str(13.0)\n>>> earned_points = 0\n>>> os.environ['EARNED_POINTS'] = str(earned_points)\n>>> os.environ['TOTAL_POINTS_FREE_RESPONSE'] = str(186.0)\n>>> log_variable('total-points', f'week7-lab, 1_world_of_warcraft', 186.0)\n>>> question_id = 'Paladin-class-1'\n>>> max_score = 1.0\n>>> score = 0\n>>> class_exists = 'Paladin' in globals()\n>>> assert class_exists, 'Expected `Paladin` class to be defined, but it is missing.'\n>>> if class_exists:\n...     score = 1.0\n>>> earned_points = float(os.environ.get('EARNED_POINTS', 0))\n>>> earned_points += score\n>>> log_variable('1_world_of_warcraft', f'{score}, {max_score}', question_id)\n>>> os.environ['EARNED_POINTS'] = str(earned_points)\n>>> responses = update_responses(question_id, str(class_exists))\n",
         "failure_message": "Failed: `Paladin` class is not defined.",
         "hidden": false,
         "locked": false,
         "points": 1,
         "success_message": "Success: `Paladin` class is correctly defined!"
        },
        {
         "code": ">>> from pykubegrader.telemetry import ensure_responses, log_variable, score_question, submit_question, telemetry, update_responses\n>>> import os\n>>> import base64\n>>> question_id = 'Paladin-class-2'\n>>> max_score = 2.0\n>>> score = 0\n>>> test_paladin = Paladin(name='Uther')\n>>> class_attributes = {'name': test_paladin.name, 'base_health': test_paladin.base_health, 'base_mana': test_paladin.base_mana, 'abilities': test_paladin.abilities, 'spells': test_paladin.spells}\n>>> expected_attributes = {'name': 'Paladin', 'base_health': 140, 'base_mana': 100, 'abilities': {1: 'Divine Strike - Strike with holy power, dealing extra damage!'}, 'spells': [Spell('Holy Light', 0, 25, 3), Spell('Lay on Hands', 0, 50, 8), Spell('Consecration', 15, 20, 5)]}\n>>> assert class_attributes['name'] == expected_attributes['name']\n>>> assert class_attributes['base_health'] == expected_attributes['base_health']\n>>> assert class_attributes['base_mana'] == expected_attributes['base_mana']\n>>> assert class_attributes['abilities'] == expected_attributes['abilities']\n>>> assert len(class_attributes['spells']) == len(expected_attributes['spells'])\n>>> if class_attributes['name'] == expected_attributes['name'] and class_attributes['base_health'] == expected_attributes['base_health'] and (class_attributes['base_mana'] == expected_attributes['base_mana']) and (class_attributes['abilities'] == expected_attributes['abilities']) and (len(class_attributes['spells']) == len(expected_attributes['spells'])):\n...     score = 2.0\n>>> earned_points = float(os.environ.get('EARNED_POINTS', 0))\n>>> earned_points += score\n>>> log_variable('1_world_of_warcraft', f'{score}, {max_score}', question_id)\n>>> os.environ['EARNED_POINTS'] = str(earned_points)\n>>> responses = update_responses(question_id, str(class_attributes))\n",
         "failure_message": "Failed: `Paladin` does not initialize attributes correctly.",
         "hidden": false,
         "locked": false,
         "points": 2,
         "success_message": "Success: `Paladin` initializes attributes correctly!"
        },
        {
         "code": ">>> from pykubegrader.telemetry import ensure_responses, log_variable, score_question, submit_question, telemetry, update_responses\n>>> import os\n>>> import base64\n>>> question_id = 'Paladin-class-3'\n>>> max_score = 2.0\n>>> score = 0\n>>> inherits_correctly = issubclass(Paladin, ClassType)\n>>> assert inherits_correctly, 'Expected `Paladin` to inherit from `ClassType`, but it does not.'\n>>> if inherits_correctly:\n...     score = 2.0\n>>> earned_points = float(os.environ.get('EARNED_POINTS', 0))\n>>> earned_points += score\n>>> log_variable('1_world_of_warcraft', f'{score}, {max_score}', question_id)\n>>> os.environ['EARNED_POINTS'] = str(earned_points)\n>>> responses = update_responses(question_id, str(inherits_correctly))\n",
         "failure_message": "Failed: `Paladin` does not correctly inherit from `ClassType`.",
         "hidden": false,
         "locked": false,
         "points": 2,
         "success_message": "Success: `Paladin` correctly inherits from `ClassType`!"
        },
        {
         "code": ">>> from pykubegrader.telemetry import ensure_responses, log_variable, score_question, submit_question, telemetry, update_responses\n>>> import os\n>>> import base64\n>>> question_id = 'Paladin-class-4'\n>>> max_score = 3.0\n>>> score = 0\n>>> test_paladin = Paladin(name='Uther')\n>>> ability_message = test_paladin.special_ability()\n>>> expected_message = 'Divine Strike - Strike with holy power, dealing extra damage!'\n>>> assert ability_message == expected_message, f\"Expected '{expected_message}', but got '{ability_message}'.\"\n>>> if (ability_message == expected_message, f\"Expected '{expected_message}', but got '{ability_message}'.\"):\n...     score = 3.0\n>>> earned_points = float(os.environ.get('EARNED_POINTS', 0))\n>>> earned_points += score\n>>> log_variable('1_world_of_warcraft', f'{score}, {max_score}', question_id)\n>>> os.environ['EARNED_POINTS'] = str(earned_points)\n>>> responses = update_responses(question_id, str(ability_message))\n",
         "failure_message": "Failed: `special_ability()` does not return the correct ability.",
         "hidden": false,
         "locked": false,
         "points": 3,
         "success_message": "Success: `special_ability()` correctly returns the Paladin's ability!"
        },
        {
         "code": ">>> from pykubegrader.telemetry import ensure_responses, log_variable, score_question, submit_question, telemetry, update_responses\n>>> import os\n>>> import base64\n>>> question_id = 'Paladin-class-5'\n>>> max_score = 2.0\n>>> score = 0\n>>> test_paladin = Paladin(name='Uther')\n>>> spell_list = [(spell.name, spell.damage, spell.mana_cost, spell.level_required) for spell in test_paladin.spells]\n>>> expected_spells = [('Holy Light', 0, 25, 3), ('Lay on Hands', 0, 50, 8), ('Consecration', 15, 20, 5)]\n>>> assert spell_list == expected_spells, f'Expected spell list {expected_spells}, but got {spell_list}.'\n>>> if (spell_list == expected_spells, f'Expected spell list {expected_spells}, but got {spell_list}.'):\n...     score = 2.0\n>>> earned_points = float(os.environ.get('EARNED_POINTS', 0))\n>>> earned_points += score\n>>> log_variable('1_world_of_warcraft', f'{score}, {max_score}', question_id)\n>>> os.environ['EARNED_POINTS'] = str(earned_points)\n>>> responses = update_responses(question_id, str(spell_list))\n",
         "failure_message": "Failed: `Paladin` does not correctly initialize the spell list.",
         "hidden": false,
         "locked": false,
         "points": 2,
         "success_message": "Success: `Paladin` correctly initializes the spell list!"
        },
        {
         "code": ">>> from pykubegrader.telemetry import ensure_responses, log_variable, score_question, submit_question, telemetry, update_responses\n>>> import os\n>>> import base64\n>>> question_id = 'Paladin-class-6'\n>>> max_score = 3.0\n>>> score = 0\n>>> custom_paladin = Paladin(name='Tirion', base_health=160, base_mana=120)\n>>> custom_attributes = {'base_health': custom_paladin.base_health, 'base_mana': custom_paladin.base_mana}\n>>> expected_custom_attributes = {'base_health': 160, 'base_mana': 120}\n>>> assert custom_attributes == expected_custom_attributes, f'Expected {expected_custom_attributes}, but got {custom_attributes}.'\n>>> if (custom_attributes == expected_custom_attributes, f'Expected {expected_custom_attributes}, but got {custom_attributes}.'):\n...     score = 3.0\n>>> earned_points = float(os.environ.get('EARNED_POINTS', 0))\n>>> earned_points += score\n>>> log_variable('1_world_of_warcraft', f'{score}, {max_score}', question_id)\n>>> os.environ['EARNED_POINTS'] = str(earned_points)\n>>> responses = update_responses(question_id, str(custom_attributes))\n",
         "failure_message": "Failed: `Paladin` does not correctly accept custom health and mana.",
         "hidden": false,
         "locked": false,
         "points": 3,
         "success_message": "Success: `Paladin` correctly initializes with custom health and mana!"
        }
       ],
       "scored": true,
       "setup": "",
       "teardown": "",
       "type": "doctest"
      }
     ]
    },
    "Spell-casting-class": {
     "name": "Spell-casting-class",
     "points": null,
     "suites": [
      {
       "cases": [
        {
         "code": ">>> from pykubegrader.telemetry import ensure_responses, log_variable, score_question, submit_question, telemetry, update_responses\n>>> import os\n>>> import base64\n>>> max_question_points = str(17.0)\n>>> earned_points = 0\n>>> os.environ['EARNED_POINTS'] = str(earned_points)\n>>> os.environ['TOTAL_POINTS_FREE_RESPONSE'] = str(186.0)\n>>> log_variable('total-points', f'week7-lab, 1_world_of_warcraft', 186.0)\n>>> question_id = 'Spell-casting-class-1'\n>>> max_score = 1.0\n>>> score = 0\n>>> class_exists = 'Spell' in globals()\n>>> assert class_exists, 'Expected `Spell` class to be defined, but it is missing.'\n>>> if class_exists:\n...     score = 1.0\n>>> earned_points = float(os.environ.get('EARNED_POINTS', 0))\n>>> earned_points += score\n>>> log_variable('1_world_of_warcraft', f'{score}, {max_score}', question_id)\n>>> os.environ['EARNED_POINTS'] = str(earned_points)\n>>> responses = update_responses(question_id, str(class_exists))\n",
         "failure_message": "Failed: `Spell` class is not defined.",
         "hidden": false,
         "locked": false,
         "points": 1,
         "success_message": "Success: `Spell` class is correctly defined!"
        },
        {
         "code": ">>> from pykubegrader.telemetry import ensure_responses, log_variable, score_question, submit_question, telemetry, update_responses\n>>> import os\n>>> import base64\n>>> question_id = 'Spell-casting-class-2'\n>>> max_score = 2.0\n>>> score = 0\n>>> test_spell = Spell(name='Fireball', damage=50, mana_cost=20, level_required=3)\n>>> spell_attributes = {'name': test_spell.name, 'damage': test_spell.damage, 'mana_cost': test_spell.mana_cost, 'level_required': test_spell.level_required}\n>>> expected_attributes = {'name': 'Fireball', 'damage': 50, 'mana_cost': 20, 'level_required': 3}\n>>> assert spell_attributes == expected_attributes, f'Expected {expected_attributes}, but got {spell_attributes}.'\n>>> if (spell_attributes == expected_attributes, f'Expected {expected_attributes}, but got {spell_attributes}.'):\n...     score = 2.0\n>>> earned_points = float(os.environ.get('EARNED_POINTS', 0))\n>>> earned_points += score\n>>> log_variable('1_world_of_warcraft', f'{score}, {max_score}', question_id)\n>>> os.environ['EARNED_POINTS'] = str(earned_points)\n>>> responses = update_responses(question_id, str(spell_attributes))\n",
         "failure_message": "Failed: `Spell` does not initialize attributes correctly.",
         "hidden": false,
         "locked": false,
         "points": 2,
         "success_message": "Success: `Spell` initializes attributes correctly!"
        },
        {
         "code": ">>> from pykubegrader.telemetry import ensure_responses, log_variable, score_question, submit_question, telemetry, update_responses\n>>> import os\n>>> import base64\n>>> question_id = 'Spell-casting-class-3'\n>>> max_score = 3.0\n>>> score = 0\n>>> class MockCharacter:\n...     def __init__(self):\n...         self.name = 'Apprentice Mage'\n...         self.level = 1\n...         self.base_mana = 50\n>>> character = MockCharacter()\n>>> high_level_spell = Spell(name='Meteor Strike', damage=100, mana_cost=30, level_required=5)\n>>> cast_message = high_level_spell.cast(character)\n>>> expected_message = 'Apprentice Mage is not high enough level to cast Meteor Strike!'\n>>> assert cast_message == expected_message, f\"Expected message '{expected_message}', but got '{cast_message}'.\"\n>>> if (cast_message == expected_message, f\"Expected message '{expected_message}', but got '{cast_message}'.\"):\n...     score = 3.0\n>>> earned_points = float(os.environ.get('EARNED_POINTS', 0))\n>>> earned_points += score\n>>> log_variable('1_world_of_warcraft', f'{score}, {max_score}', question_id)\n>>> os.environ['EARNED_POINTS'] = str(earned_points)\n>>> responses = update_responses(question_id, str(cast_message))\n",
         "failure_message": "Failed: `cast()` does not check character level correctly.",
         "hidden": false,
         "locked": false,
         "points": 3,
         "success_message": "Success: `cast()` correctly checks character level!"
        },
        {
         "code": ">>> from pykubegrader.telemetry import ensure_responses, log_variable, score_question, submit_question, telemetry, update_responses\n>>> import os\n>>> import base64\n>>> question_id = 'Spell-casting-class-4'\n>>> max_score = 3.0\n>>> score = 0\n>>> class MockCharacter:\n...     def __init__(self):\n...         self.name = 'Apprentice Mage'\n...         self.level = 1\n...         self.base_mana = 50\n>>> character = MockCharacter()\n>>> character.base_mana = 10\n>>> mana_draining_spell = Spell(name='Lightning Bolt', damage=30, mana_cost=25, level_required=1)\n>>> cast_message = mana_draining_spell.cast(character)\n>>> expected_message = 'Not enough mana to cast Lightning Bolt!'\n>>> assert cast_message == expected_message, f\"Expected message '{expected_message}', but got '{cast_message}'.\"\n>>> if (cast_message == expected_message, f\"Expected message '{expected_message}', but got '{cast_message}'.\"):\n...     score = 3.0\n>>> earned_points = float(os.environ.get('EARNED_POINTS', 0))\n>>> earned_points += score\n>>> log_variable('1_world_of_warcraft', f'{score}, {max_score}', question_id)\n>>> os.environ['EARNED_POINTS'] = str(earned_points)\n>>> responses = update_responses(question_id, str(cast_message))\n",
         "failure_message": "Failed: `cast()` does not correctly check for sufficient mana.",
         "hidden": false,
         "locked": false,
         "points": 3,
         "success_message": "Success: `cast()` correctly checks for sufficient mana!"
        },
        {
         "code": ">>> from pykubegrader.telemetry import ensure_responses, log_variable, score_question, submit_question, telemetry, update_responses\n>>> import os\n>>> import base64\n>>> question_id = 'Spell-casting-class-5'\n>>> max_score = 3.0\n>>> score = 0\n>>> class MockCharacter:\n...     def __init__(self):\n...         self.name = 'Apprentice Mage'\n...         self.level = 1\n...         self.base_mana = 50\n>>> character = MockCharacter()\n>>> character.base_mana = 50\n>>> character.level = 5\n>>> valid_spell = Spell(name='Frost Nova', damage=40, mana_cost=20, level_required=3)\n>>> out = valid_spell.cast(character)\n>>> updated_mana = character.base_mana\n>>> expected_mana = 30\n>>> assert updated_mana == expected_mana, f'Expected mana to be {expected_mana}, but got {updated_mana}.'\n>>> if (updated_mana == expected_mana, f'Expected mana to be {expected_mana}, but got {updated_mana}.'):\n...     score = 3.0\n>>> earned_points = float(os.environ.get('EARNED_POINTS', 0))\n>>> earned_points += score\n>>> log_variable('1_world_of_warcraft', f'{score}, {max_score}', question_id)\n>>> os.environ['EARNED_POINTS'] = str(earned_points)\n>>> responses = update_responses(question_id, str(updated_mana))\n",
         "failure_message": "Failed: `cast()` does not correctly deduct mana.",
         "hidden": false,
         "locked": false,
         "points": 3,
         "success_message": "Success: `cast()` correctly deducts mana upon successful casting!"
        },
        {
         "code": ">>> from pykubegrader.telemetry import ensure_responses, log_variable, score_question, submit_question, telemetry, update_responses\n>>> import os\n>>> import base64\n>>> question_id = 'Spell-casting-class-6'\n>>> max_score = 2.0\n>>> score = 0\n>>> class MockCharacter:\n...     def __init__(self):\n...         self.name = 'Apprentice Mage'\n...         self.level = 3\n...         self.base_mana = 50\n>>> character = MockCharacter()\n>>> character.base_mana = 50\n>>> fireball_spell = Spell(name='Fireball', damage=50, mana_cost=20, level_required=3)\n>>> cast_message = fireball_spell.cast(character)\n>>> expected_message = 'Apprentice Mage cast Fireball, dealing 50 damage!'\n>>> assert cast_message == expected_message, f\"Expected message '{expected_message}', but got '{cast_message}'.\"\n>>> if (cast_message == expected_message, f\"Expected message '{expected_message}', but got '{cast_message}'.\"):\n...     score = 2.0\n>>> earned_points = float(os.environ.get('EARNED_POINTS', 0))\n>>> earned_points += score\n>>> log_variable('1_world_of_warcraft', f'{score}, {max_score}', question_id)\n>>> os.environ['EARNED_POINTS'] = str(earned_points)\n>>> responses = update_responses(question_id, str(cast_message))\n",
         "failure_message": "Failed: `cast()` does not return the expected success message.",
         "hidden": false,
         "locked": false,
         "points": 2,
         "success_message": "Success: `cast()` correctly returns a formatted success message!"
        },
        {
         "code": ">>> from pykubegrader.telemetry import ensure_responses, log_variable, score_question, submit_question, telemetry, update_responses\n>>> import os\n>>> import base64\n>>> question_id = 'Spell-casting-class-7'\n>>> max_score = 3.0\n>>> score = 0\n>>> class MockCharacter:\n...     def __init__(self):\n...         self.name = 'Apprentice Mage'\n...         self.level = 3\n...         self.base_mana = 50\n>>> character = MockCharacter()\n>>> character.base_mana = 60\n>>> ice_shard_spell = Spell(name='Ice Shard', damage=20, mana_cost=15, level_required=3)\n>>> out = ice_shard_spell.cast(character)\n>>> out = ice_shard_spell.cast(character)\n>>> out = ice_shard_spell.cast(character)\n>>> final_mana = character.base_mana\n>>> expected_mana = 15\n>>> assert final_mana == expected_mana, f'Expected mana to be {expected_mana}, but got {final_mana}.'\n>>> if (final_mana == expected_mana, f'Expected mana to be {expected_mana}, but got {final_mana}.'):\n...     score = 3.0\n>>> earned_points = float(os.environ.get('EARNED_POINTS', 0))\n>>> earned_points += score\n>>> log_variable('1_world_of_warcraft', f'{score}, {max_score}', question_id)\n>>> os.environ['EARNED_POINTS'] = str(earned_points)\n>>> responses = update_responses(question_id, str(final_mana))\n",
         "failure_message": "Failed: `cast()` does not correctly handle multiple spell casts.",
         "hidden": false,
         "locked": false,
         "points": 3,
         "success_message": "Success: `cast()` correctly handles multiple spell casts!"
        }
       ],
       "scored": true,
       "setup": "",
       "teardown": "",
       "type": "doctest"
      }
     ]
    },
    "Warrior-class": {
     "name": "Warrior-class",
     "points": null,
     "suites": [
      {
       "cases": [
        {
         "code": ">>> from pykubegrader.telemetry import ensure_responses, log_variable, score_question, submit_question, telemetry, update_responses\n>>> import os\n>>> import base64\n>>> max_question_points = str(13.0)\n>>> earned_points = 0\n>>> os.environ['EARNED_POINTS'] = str(earned_points)\n>>> os.environ['TOTAL_POINTS_FREE_RESPONSE'] = str(186.0)\n>>> log_variable('total-points', f'week7-lab, 1_world_of_warcraft', 186.0)\n>>> question_id = 'Warrior-class-1'\n>>> max_score = 1.0\n>>> score = 0\n>>> class_exists = 'Warrior' in globals()\n>>> assert class_exists, 'Expected `Warrior` class to be defined, but it is missing.'\n>>> if class_exists:\n...     score = 1.0\n>>> earned_points = float(os.environ.get('EARNED_POINTS', 0))\n>>> earned_points += score\n>>> log_variable('1_world_of_warcraft', f'{score}, {max_score}', question_id)\n>>> os.environ['EARNED_POINTS'] = str(earned_points)\n>>> responses = update_responses(question_id, str(class_exists))\n",
         "failure_message": "Failed: `Warrior` class is not defined.",
         "hidden": false,
         "locked": false,
         "points": 1,
         "success_message": "Success: `Warrior` class is correctly defined!"
        },
        {
         "code": ">>> from pykubegrader.telemetry import ensure_responses, log_variable, score_question, submit_question, telemetry, update_responses\n>>> import os\n>>> import base64\n>>> question_id = 'Warrior-class-2'\n>>> max_score = 2.0\n>>> score = 0\n>>> test_warrior = Warrior(name='Ragnar')\n>>> class_attributes = {'name': test_warrior.name, 'base_health': test_warrior.base_health, 'base_mana': test_warrior.base_mana, 'abilities': test_warrior.abilities, 'spells': test_warrior.spells}\n>>> expected_attributes = {'name': 'Warrior - Ragnar', 'base_health': 150, 'base_mana': 30, 'abilities': {1: 'Charge - Rush and deal damage!'}, 'spells': [Spell('Battle Shout', 0, 10, 2)]}\n>>> assert class_attributes['name'] == expected_attributes['name']\n>>> assert class_attributes['base_health'] == expected_attributes['base_health']\n>>> assert class_attributes['base_mana'] == expected_attributes['base_mana']\n>>> assert class_attributes['abilities'] == expected_attributes['abilities']\n>>> assert len(class_attributes['spells']) == len(expected_attributes['spells'])\n>>> if class_attributes['name'] == expected_attributes['name'] and class_attributes['base_health'] == expected_attributes['base_health'] and (class_attributes['base_mana'] == expected_attributes['base_mana']) and (class_attributes['abilities'] == expected_attributes['abilities']) and (len(class_attributes['spells']) == len(expected_attributes['spells'])):\n...     score = 2.0\n>>> earned_points = float(os.environ.get('EARNED_POINTS', 0))\n>>> earned_points += score\n>>> log_variable('1_world_of_warcraft', f'{score}, {max_score}', question_id)\n>>> os.environ['EARNED_POINTS'] = str(earned_points)\n>>> responses = update_responses(question_id, str(class_attributes))\n",
         "failure_message": "Failed: `Warrior` does not initialize attributes correctly.",
         "hidden": false,
         "locked": false,
         "points": 2,
         "success_message": "Success: `Warrior` initializes attributes correctly!"
        },
        {
         "code": ">>> from pykubegrader.telemetry import ensure_responses, log_variable, score_question, submit_question, telemetry, update_responses\n>>> import os\n>>> import base64\n>>> question_id = 'Warrior-class-3'\n>>> max_score = 2.0\n>>> score = 0\n>>> inherits_correctly = issubclass(Warrior, ClassType)\n>>> assert inherits_correctly, 'Expected `Warrior` to inherit from `ClassType`, but it does not.'\n>>> if inherits_correctly:\n...     score = 2.0\n>>> earned_points = float(os.environ.get('EARNED_POINTS', 0))\n>>> earned_points += score\n>>> log_variable('1_world_of_warcraft', f'{score}, {max_score}', question_id)\n>>> os.environ['EARNED_POINTS'] = str(earned_points)\n>>> responses = update_responses(question_id, str(inherits_correctly))\n",
         "failure_message": "Failed: `Warrior` does not correctly inherit from `ClassType`.",
         "hidden": false,
         "locked": false,
         "points": 2,
         "success_message": "Success: `Warrior` correctly inherits from `ClassType`!"
        },
        {
         "code": ">>> from pykubegrader.telemetry import ensure_responses, log_variable, score_question, submit_question, telemetry, update_responses\n>>> import os\n>>> import base64\n>>> question_id = 'Warrior-class-4'\n>>> max_score = 3.0\n>>> score = 0\n>>> test_warrior = Warrior(name='Ragnar')\n>>> ability_message = test_warrior.special_ability()\n>>> expected_message = 'Charge - Rush and deal damage!'\n>>> assert ability_message == expected_message, f\"Expected '{expected_message}', but got '{ability_message}'.\"\n>>> if (ability_message == expected_message, f\"Expected '{expected_message}', but got '{ability_message}'.\"):\n...     score = 3.0\n>>> earned_points = float(os.environ.get('EARNED_POINTS', 0))\n>>> earned_points += score\n>>> log_variable('1_world_of_warcraft', f'{score}, {max_score}', question_id)\n>>> os.environ['EARNED_POINTS'] = str(earned_points)\n>>> responses = update_responses(question_id, str(ability_message))\n",
         "failure_message": "Failed: `special_ability()` does not return the correct ability.",
         "hidden": false,
         "locked": false,
         "points": 3,
         "success_message": "Success: `special_ability()` correctly returns the Warrior's ability!"
        },
        {
         "code": ">>> from pykubegrader.telemetry import ensure_responses, log_variable, score_question, submit_question, telemetry, update_responses\n>>> import os\n>>> import base64\n>>> question_id = 'Warrior-class-5'\n>>> max_score = 2.0\n>>> score = 0\n>>> test_warrior = Warrior(name='Ragnar')\n>>> spell_list = [(spell.name, spell.damage, spell.mana_cost, spell.level_required) for spell in test_warrior.spells]\n>>> expected_spells = [('Battle Shout', 0, 10, 2)]\n>>> assert spell_list == expected_spells, f'Expected spell list {expected_spells}, but got {spell_list}.'\n>>> if (spell_list == expected_spells, f'Expected spell list {expected_spells}, but got {spell_list}.'):\n...     score = 2.0\n>>> earned_points = float(os.environ.get('EARNED_POINTS', 0))\n>>> earned_points += score\n>>> log_variable('1_world_of_warcraft', f'{score}, {max_score}', question_id)\n>>> os.environ['EARNED_POINTS'] = str(earned_points)\n>>> responses = update_responses(question_id, str(spell_list))\n",
         "failure_message": "Failed: `Warrior` does not correctly initialize the spell list.",
         "hidden": false,
         "locked": false,
         "points": 2,
         "success_message": "Success: `Warrior` correctly initializes the spell list!"
        },
        {
         "code": ">>> from pykubegrader.telemetry import ensure_responses, log_variable, score_question, submit_question, telemetry, update_responses\n>>> import os\n>>> import base64\n>>> question_id = 'Warrior-class-6'\n>>> max_score = 3.0\n>>> score = 0\n>>> custom_warrior = Warrior(name='Bjorn', base_health=200, base_mana=50)\n>>> custom_attributes = {'base_health': custom_warrior.base_health, 'base_mana': custom_warrior.base_mana}\n>>> expected_custom_attributes = {'base_health': 200, 'base_mana': 50}\n>>> assert custom_attributes == expected_custom_attributes, f'Expected {expected_custom_attributes}, but got {custom_attributes}.'\n>>> if (custom_attributes == expected_custom_attributes, f'Expected {expected_custom_attributes}, but got {custom_attributes}.'):\n...     score = 3.0\n>>> earned_points = float(os.environ.get('EARNED_POINTS', 0))\n>>> earned_points += score\n>>> log_variable('1_world_of_warcraft', f'{score}, {max_score}', question_id)\n>>> os.environ['EARNED_POINTS'] = str(earned_points)\n>>> responses = update_responses(question_id, str(custom_attributes))\n",
         "failure_message": "Failed: `Warrior` does not correctly accept custom health and mana.",
         "hidden": false,
         "locked": false,
         "points": 3,
         "success_message": "Success: `Warrior` correctly initializes with custom health and mana!"
        }
       ],
       "scored": true,
       "setup": "",
       "teardown": "",
       "type": "doctest"
      }
     ]
    }
   }
  }
 },
 "nbformat": 4,
 "nbformat_minor": 2
}
