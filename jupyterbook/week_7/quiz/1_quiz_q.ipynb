{
 "cells": [
  {
   "cell_type": "markdown",
   "id": "0",
   "metadata": {},
   "source": [
    "# ❓ Python Quiz: Object-Oriented Programming in Piping Fluid Flow"
   ]
  },
  {
   "cell_type": "raw",
   "id": "1",
   "metadata": {
    "vscode": {
     "languageId": "raw"
    }
   },
   "source": [
    "# BEGIN MULTIPLE CHOICE\n",
    "## points: 1\n",
    "## title: Select the Best Answer\n",
    "## question number: 1"
   ]
  },
  {
   "cell_type": "markdown",
   "id": "2",
   "metadata": {},
   "source": [
    "## pipe-instance\n",
    "### **How do you correctly create an instance of a class named `Pipe`?**\n",
    "\n",
    "#### OPTIONS\n",
    "`pipe1 = Pipe()`  \n",
    "`pipe1 = new Pipe`  \n",
    "`pipe1 = Pipe.create()`  \n",
    "`class pipe1 = Pipe`  \n",
    "\n",
    "#### SOLUTION\n",
    "`pipe1 = Pipe()`"
   ]
  },
  {
   "cell_type": "markdown",
   "id": "3",
   "metadata": {},
   "source": [
    "## flow-rate\n",
    "### **What will the following code output?**\n",
    "```python\n",
    "class Pipe:\n",
    "    flow_rate = 10\n",
    "\n",
    "pipe1 = Pipe()\n",
    "pipe2 = Pipe()\n",
    "pipe1.flow_rate = 20\n",
    "print(pipe2.flow_rate)\n",
    "```\n",
    "\n",
    "#### OPTIONS\n",
    "10  \n",
    "20  \n",
    "Error  \n",
    "None  \n",
    "\n",
    "#### SOLUTION\n",
    "10"
   ]
  },
  {
   "cell_type": "markdown",
   "id": "4",
   "metadata": {},
   "source": [
    "## valve-method\n",
    "### **Which method in a class is automatically called when a new instance is created?**\n",
    "\n",
    "#### OPTIONS\n",
    "`__init__`  \n",
    "`__new__`  \n",
    "`create_instance`  \n",
    "`initialize`  \n",
    "\n",
    "#### SOLUTION\n",
    "`__init__`"
   ]
  },
  {
   "cell_type": "markdown",
   "id": "5",
   "metadata": {},
   "source": [
    "## pipe-status\n",
    "### **What will be the output of the following code?**\n",
    "```python\n",
    "class Pipe:\n",
    "    def __init__(self):\n",
    "        self.status = \"open\"\n",
    "\n",
    "p1 = Pipe()\n",
    "p1.status = \"closed\"\n",
    "print(p1.status)\n",
    "```\n",
    "\n",
    "#### OPTIONS\n",
    "open  \n",
    "closed  \n",
    "Error  \n",
    "None  \n",
    "\n",
    "#### SOLUTION\n",
    "closed"
   ]
  },
  {
   "cell_type": "code",
   "execution_count": null,
   "id": "6",
   "metadata": {},
   "outputs": [],
   "source": [
    "# END MULTIPLE CHOICE"
   ]
  },
  {
   "cell_type": "code",
   "execution_count": null,
   "id": "7",
   "metadata": {},
   "outputs": [],
   "source": [
    "# BEGIN SELECT MANY\n",
    "## points: 2\n",
    "## title: Select All That Apply\n",
    "## question number: 2\n",
    "## grade: parts"
   ]
  },
  {
   "cell_type": "markdown",
   "id": "8",
   "metadata": {},
   "source": [
    "## class-attributes\n",
    "### **Which of the following are true about class attributes in Python?**\n",
    "\n",
    "#### OPTIONS\n",
    "Class attributes are shared across all instances.  \n",
    "Class attributes can be modified at the instance level.  \n",
    "Class attributes must always be integers.  \n",
    "A class attribute can be accessed using both the class name and an instance.  \n",
    "\n",
    "#### SOLUTION\n",
    "Class attributes are shared across all instances.  \n",
    "Class attributes can be modified at the instance level.  \n",
    "A class attribute can be accessed using both the class name and an instance."
   ]
  },
  {
   "cell_type": "markdown",
   "id": "9",
   "metadata": {},
   "source": [
    "## object-oriented-benefits\n",
    "### **What are benefits of using object-oriented programming (OOP) in a piping system simulation?**\n",
    "\n",
    "#### OPTIONS\n",
    "Code reusability through inheritance.  \n",
    "More structured and modular code.  \n",
    "Slower performance due to extra complexity.  \n",
    "Easier to model real-world systems like pipes and valves.  \n",
    "\n",
    "#### SOLUTION\n",
    "Code reusability through inheritance.  \n",
    "More structured and modular code.  \n",
    "Easier to model real-world systems like pipes and valves."
   ]
  },
  {
   "cell_type": "markdown",
   "id": "10",
   "metadata": {},
   "source": [
    "## class-methods\n",
    "### **Which of the following statements about instance methods are true?**\n",
    "\n",
    "#### OPTIONS\n",
    "Instance methods can access both instance attributes and class attributes.  \n",
    "An instance method must always have `self` as its first parameter.  \n",
    "Instance methods can only modify class attributes.  \n",
    "An instance method can call other methods of the same class.  \n",
    "\n",
    "#### SOLUTION\n",
    "Instance methods can access both instance attributes and class attributes.  \n",
    "An instance method must always have `self` as its first parameter.  \n",
    "An instance method can call other methods of the same class."
   ]
  },
  {
   "cell_type": "markdown",
   "id": "11",
   "metadata": {},
   "source": [
    "## pipeline-maintenance\n",
    "### **Which of the following are good practices for designing a `Pipe` class in a fluid flow system?**\n",
    "\n",
    "#### OPTIONS\n",
    "Define an `__init__` method to initialize pipe attributes.  \n",
    "Use class attributes to store unique pipe IDs.  \n",
    "Implement methods like `open_valve()` and `close_valve()`.  \n",
    "Store all pipe attributes in global variables instead of the class.  \n",
    "\n",
    "#### SOLUTION\n",
    "Define an `__init__` method to initialize pipe attributes.  \n",
    "Implement methods like `open_valve()` and `close_valve()`."
   ]
  },
  {
   "cell_type": "code",
   "execution_count": null,
   "id": "12",
   "metadata": {},
   "outputs": [],
   "source": [
    "# END SELECT MANY"
   ]
  },
  {
   "cell_type": "raw",
   "id": "13",
   "metadata": {
    "vscode": {
     "languageId": "raw"
    }
   },
   "source": [
    "# BEGIN TF\n",
    "## points: 1\n",
    "## title: True or False\n",
    "## question number: 3"
   ]
  },
  {
   "cell_type": "markdown",
   "id": "14",
   "metadata": {},
   "source": [
    "## instance-vs-class\n",
    "### **Instance variables belong to the class and are shared among all instances.**\n",
    "\n",
    "#### SOLUTION\n",
    "False"
   ]
  },
  {
   "cell_type": "markdown",
   "id": "15",
   "metadata": {},
   "source": [
    "## class-inheritance\n",
    "### **A subclass automatically inherits all methods and attributes from its parent class.**\n",
    "\n",
    "#### SOLUTION\n",
    "True"
   ]
  },
  {
   "cell_type": "markdown",
   "id": "16",
   "metadata": {},
   "source": [
    "## self-keyword\n",
    "### **The `self` keyword refers to the instance of the class within a method.**\n",
    "\n",
    "#### SOLUTION\n",
    "True"
   ]
  },
  {
   "cell_type": "markdown",
   "id": "17",
   "metadata": {},
   "source": [
    "## encapsulation\n",
    "### **Encapsulation is the practice of restricting direct access to certain attributes and methods of a class.**\n",
    "\n",
    "#### SOLUTION\n",
    "True"
   ]
  },
  {
   "cell_type": "raw",
   "id": "18",
   "metadata": {
    "vscode": {
     "languageId": "raw"
    }
   },
   "source": [
    "# END TF"
   ]
  },
  {
   "cell_type": "raw",
   "id": "19",
   "metadata": {
    "vscode": {
     "languageId": "raw"
    }
   },
   "source": [
    "# BEGIN QUESTION\n",
    "name: Free-Response-Modify-a-Pipeline-Class"
   ]
  },
  {
   "cell_type": "markdown",
   "id": "20",
   "metadata": {},
   "source": [
    "## Modify a Pipeline Class\n",
    "\n",
    "Given the `Pipeline` class below, modify it to:\n",
    "- Add an `increase_flow(rate)` method that increases the `flow_rate` attribute.\n",
    "- Add a `decrease_flow(rate)` method that decreases `flow_rate` but ensures it doesn’t go below zero.\n",
    "- Implement a `__str__()` method that returns `\"Pipeline: <name>, Flow Rate: <flow_rate> L/s\"`.\n",
    "\n",
    "### Example:\n",
    "```python\n",
    "pipe = Pipeline(\"Main\", 50)\n",
    "pipe.increase_flow(20)\n",
    "print(pipe)  # Output: Pipeline: Main, Flow Rate: 70 L/s\n",
    "pipe.decrease_flow(80)\n",
    "print(pipe)  # Output: Pipeline: Main, Flow Rate: 0 L/s\n",
    "```"
   ]
  },
  {
   "cell_type": "code",
   "execution_count": null,
   "id": "21",
   "metadata": {},
   "outputs": [],
   "source": [
    "# BEGIN SOLUTION\n",
    "\n",
    "class Pipeline:\n",
    "    def __init__(self, name, flow_rate=0):\n",
    "        self.name = name\n",
    "        self.flow_rate = flow_rate\n",
    "\n",
    "    def increase_flow(self, rate):\n",
    "        self.flow_rate += rate\n",
    "\n",
    "    def decrease_flow(self, rate):\n",
    "        self.flow_rate = max(0, self.flow_rate - rate)\n",
    "\n",
    "    def __str__(self):\n",
    "        return f\"Pipeline: {self.name}, Flow Rate: {self.flow_rate} L/s\""
   ]
  },
  {
   "cell_type": "raw",
   "id": "22",
   "metadata": {
    "vscode": {
     "languageId": "raw"
    }
   },
   "source": [
    "# END SOLUTION"
   ]
  }
 ],
 "metadata": {
  "language_info": {
   "name": "python"
  }
 },
 "nbformat": 4,
 "nbformat_minor": 5
}
