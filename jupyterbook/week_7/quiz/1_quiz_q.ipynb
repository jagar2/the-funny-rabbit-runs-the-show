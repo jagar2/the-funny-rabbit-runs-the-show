{
 "cells": [
  {
   "cell_type": "code",
   "execution_count": null,
   "id": "0",
   "metadata": {
    "tags": [
     "skip-execution"
    ]
   },
   "outputs": [],
   "source": [
    "from pykubegrader.tokens.validate_token import validate_token\n",
    "validate_token('type the key provided by your instructor here', assignment = 'week7-quiz')\n"
   ]
  },
  {
   "cell_type": "code",
   "execution_count": null,
   "id": "1",
   "metadata": {
    "tags": [
     "skip-execution"
    ]
   },
   "outputs": [],
   "source": [
    "validate_token(assignment = 'week7-quiz')\n"
   ]
  },
  {
   "cell_type": "markdown",
   "id": "2",
   "metadata": {
    "deletable": false,
    "editable": false
   },
   "source": [
    "# ❓Quiz: Object-Oriented Programming in Piping Fluid Flow"
   ]
  },
  {
   "cell_type": "code",
   "execution_count": null,
   "id": "3",
   "metadata": {
    "tags": [
     "skip-execution"
    ]
   },
   "outputs": [],
   "source": [
    "# You must make sure to run all cells in sequence using shift + enter or you might encounter errors\n",
    "from pykubegrader.initialize import initialize_assignment\n",
    "\n",
    "responses = initialize_assignment(\"1_quiz_q\", \"week_7\", \"quiz\", assignment_points = 16.0, assignment_tag = 'week7-quiz')\n",
    "\n",
    "# Run this block of code by pressing Shift + Enter to display the question\n",
    "from questions._1_quiz_q import Question1\n",
    "Question1().show()\n"
   ]
  },
  {
   "cell_type": "code",
   "execution_count": null,
   "id": "4",
   "metadata": {
    "tags": [
     "skip-execution"
    ]
   },
   "outputs": [],
   "source": [
    "# Run this block of code by pressing Shift + Enter to display the question\n",
    "from questions._1_quiz_q import Question2\n",
    "Question2().show()\n"
   ]
  },
  {
   "cell_type": "code",
   "execution_count": null,
   "id": "5",
   "metadata": {
    "tags": [
     "skip-execution"
    ]
   },
   "outputs": [],
   "source": [
    "# Run this block of code by pressing Shift + Enter to display the question\n",
    "from questions._1_quiz_q import Question3\n",
    "Question3().show()\n"
   ]
  },
  {
   "cell_type": "raw",
   "id": "6",
   "metadata": {
    "vscode": {
     "languageId": "raw"
    }
   },
   "source": [
    "# BEGIN QUESTION\n",
    "name: Free-Response-Modify-a-Pipeline-Class"
   ]
  },
  {
   "cell_type": "markdown",
   "id": "7",
   "metadata": {
    "deletable": false,
    "editable": false
   },
   "source": [
    "## Modify a Pipeline Class\n",
    "\n",
    "Given the `Pipeline` class below, modify it to:\n",
    "- Add an `__init__()` method that initializes the `name` and `flow_rate` attributes. The `flow_rate` attribute should default to 0.\n",
    "- Add an `increase_flow(rate)` method that increases the `flow_rate` attribute. \n",
    "- Add a `decrease_flow(rate)` method that decreases `flow_rate` but ensures it doesn’t go below zero.\n",
    "- Implement a `__str__()` method that returns `\"Pipeline: <name>, Flow Rate: <flow_rate> L/s\"`.\n",
    "\n",
    "### Example:\n",
    "```python\n",
    "pipe = Pipeline(\"Main\", 50)\n",
    "pipe.increase_flow(20)\n",
    "print(pipe)  # Output: Pipeline: Main, Flow Rate: 70 L/s\n",
    "pipe.decrease_flow(80)\n",
    "print(pipe)  # Output: Pipeline: Main, Flow Rate: 0 L/s\n",
    "```"
   ]
  },
  {
   "cell_type": "raw",
   "id": "8",
   "metadata": {
    "vscode": {
     "languageId": "raw"
    }
   },
   "source": [
    "# BEGIN SOLUTION"
   ]
  },
  {
   "cell_type": "code",
   "execution_count": null,
   "id": "9",
   "metadata": {
    "tags": [
     "skip-execution"
    ]
   },
   "outputs": [],
   "source": [
    "# BEGIN SOLUTION\n",
    "class Pipeline:\n",
    "    def __init__(self, name, flow_rate=0):\n",
    "        self.name = name\n",
    "        self.flow_rate = flow_rate\n",
    "\n",
    "    def increase_flow(self, rate):\n",
    "        self.flow_rate += rate\n",
    "\n",
    "    def decrease_flow(self, rate):\n",
    "        self.flow_rate = max(0, self.flow_rate - rate)\n",
    "\n",
    "    def __str__(self):\n",
    "        return f\"Pipeline: {self.name}, Flow Rate: {self.flow_rate} L/s\"\n",
    "# END SOLUTION\n",
    "\n",
    "pipe = Pipeline(\"Main\", 50)\n",
    "pipe.increase_flow(20)\n",
    "print(pipe)  # Output: Pipeline: Main, Flow Rate: 70 L/s\n",
    "pipe.decrease_flow(80)\n",
    "print(pipe)  # Output: Pipeline: Main, Flow Rate: 0 L/s"
   ]
  },
  {
   "cell_type": "raw",
   "id": "10",
   "metadata": {
    "vscode": {
     "languageId": "raw"
    }
   },
   "source": [
    "# END SOLUTION"
   ]
  },
  {
   "cell_type": "raw",
   "id": "11",
   "metadata": {
    "vscode": {
     "languageId": "raw"
    }
   },
   "source": [
    "# BEGIN TESTS"
   ]
  },
  {
   "cell_type": "code",
   "execution_count": null,
   "id": "12",
   "metadata": {
    "tags": [
     "skip-execution"
    ]
   },
   "outputs": [],
   "source": [
    "\"\"\" # BEGIN TEST CONFIG\n",
    "points: 2\n",
    "hidden: false\n",
    "success_message: \"Success: Pipeline object initializes correctly!\"\n",
    "failure_message: \"Failed: Pipeline object does not initialize correctly.\"\n",
    "log_variables: [\"pipeline_initialization\"]\n",
    "\"\"\"  # END TEST CONFIG\n",
    "\n",
    "item = Pipeline(\"Main\", 50)\n",
    "\n",
    "pipeline_initialization = item.name == \"Main\" and item.flow_rate == 50\n",
    "\n",
    "assert (\n",
    "    pipeline_initialization\n",
    "), f\"Expected Pipeline('Main', 50), but got name={item.name}, flow_rate={item.flow_rate}.\""
   ]
  },
  {
   "cell_type": "code",
   "execution_count": null,
   "id": "13",
   "metadata": {
    "tags": [
     "skip-execution"
    ]
   },
   "outputs": [],
   "source": [
    "\"\"\" # BEGIN TEST CONFIG\n",
    "points: 2\n",
    "hidden: false\n",
    "success_message: \"Success: Default stock value is correctly set to 0!\"\n",
    "failure_message: \"Failed: Default flow_rate value is incorrect.\"\n",
    "log_variables: [\"default_flow_rate_check\"]\n",
    "\"\"\"  # END TEST CONFIG\n",
    "\n",
    "item = Pipeline(\"Main\")\n",
    "\n",
    "default_flow_rate_check = item.flow_rate == 0\n",
    "\n",
    "assert default_flow_rate_check, f\"Expected default flow_rate to be 0, but got {item.flow_rate}.\""
   ]
  },
  {
   "cell_type": "code",
   "execution_count": null,
   "id": "14",
   "metadata": {
    "tags": [
     "skip-execution"
    ]
   },
   "outputs": [],
   "source": [
    "\"\"\" # BEGIN TEST CONFIG\n",
    "points: 2\n",
    "hidden: false\n",
    "success_message: \"Success: `increase_flow()` correctly increases flow_rate!\"\n",
    "failure_message: \"Failed: `increase_flow()` does not increase flow_rate correctly.\"\n",
    "log_variables: [\"flow_after_addition\"]\n",
    "\"\"\"  # END TEST CONFIG\n",
    "\n",
    "item = Pipeline(\"Main\", 10)\n",
    "item.increase_flow(20)\n",
    "\n",
    "flow_after_addition = item.flow_rate\n",
    "\n",
    "assert (\n",
    "    flow_after_addition == 30\n",
    "), f\"Expected flow_rate to be 30 after addition, but got {item.flow_rate}.\""
   ]
  },
  {
   "cell_type": "code",
   "execution_count": null,
   "id": "15",
   "metadata": {
    "tags": [
     "skip-execution"
    ]
   },
   "outputs": [],
   "source": [
    "\"\"\" # BEGIN TEST CONFIG\n",
    "points: 2\n",
    "hidden: false\n",
    "success_message: \"Success: `decrease_flow()` correctly decreases flow_rate!\"\n",
    "failure_message: \"Failed: `decrease_flow()` does not decrease flow_rate correctly.\"\n",
    "log_variables: [\"flow_after_removal\"]\n",
    "\"\"\"  # END TEST CONFIG\n",
    "\n",
    "item = Pipeline(\"Main\", 50)\n",
    "item.decrease_flow(30)\n",
    "\n",
    "flow_after_removal = item.flow_rate\n",
    "\n",
    "assert (\n",
    "    flow_after_removal == 20\n",
    "), f\"Expected flow_rate to be 20 after removal, but got {item.flow_rate}.\""
   ]
  },
  {
   "cell_type": "code",
   "execution_count": null,
   "id": "16",
   "metadata": {
    "tags": [
     "skip-execution"
    ]
   },
   "outputs": [],
   "source": [
    "\"\"\" # BEGIN TEST CONFIG\n",
    "points: 2\n",
    "hidden: false\n",
    "success_message: \"Success: Flow rate does not drop below 0!\"\n",
    "failure_message: \"Failed: Flow rate goes below 0.\"\n",
    "log_variables: [\"flow_after_excessive_removal\"]\n",
    "\"\"\"  # END TEST CONFIG\n",
    "\n",
    "item = Pipeline(\"Main\", 40)\n",
    "item.decrease_flow(100)  # Attempt to remove more than available\n",
    "\n",
    "flow_after_excessive_removal = item.flow_rate\n",
    "\n",
    "assert (\n",
    "    flow_after_excessive_removal == 0\n",
    "), f\"Expected flow_rate to be 0 (not negative), but got {item.flow_rate}.\""
   ]
  },
  {
   "cell_type": "code",
   "execution_count": null,
   "id": "17",
   "metadata": {
    "tags": [
     "skip-execution"
    ]
   },
   "outputs": [],
   "source": [
    "\"\"\" # BEGIN TEST CONFIG\n",
    "points: 2\n",
    "hidden: false\n",
    "success_message: \"Success: `__str__()` returns the correct format!\"\n",
    "failure_message: \"Failed: `__str__()` does not return the expected format.\"\n",
    "log_variables: [\"string_representation\"]\n",
    "\"\"\"  # END TEST CONFIG\n",
    "\n",
    "item = Pipeline(\"Main\", 15)\n",
    "\n",
    "string_representation = str(item)\n",
    "\n",
    "expected_string = \"Pipeline: Main, Flow Rate: 15 L/s\"\n",
    "\n",
    "assert (\n",
    "    string_representation == expected_string\n",
    "), f\"Expected '{expected_string}', but got '{string_representation}'.\""
   ]
  },
  {
   "cell_type": "raw",
   "id": "18",
   "metadata": {
    "vscode": {
     "languageId": "raw"
    }
   },
   "source": [
    "# END TESTS"
   ]
  },
  {
   "cell_type": "raw",
   "id": "19",
   "metadata": {
    "vscode": {
     "languageId": "raw"
    }
   },
   "source": [
    "# END QUESTION"
   ]
  },
  {
   "cell_type": "markdown",
   "id": "20",
   "metadata": {},
   "source": [
    "## Submitting Assignment\n",
    "\n",
    "Please run the following block of code using `shift + enter` to submit your assignment, you should see your score."
   ]
  },
  {
   "cell_type": "code",
   "execution_count": null,
   "id": "21",
   "metadata": {
    "deletable": false,
    "editable": true,
    "tags": [
     "skip-execution"
    ]
   },
   "outputs": [],
   "source": [
    "from pykubegrader.tokens.validate_token import validate_token\n",
    "validate_token(assignment = 'week7-quiz')\n",
    "\n",
    "\n",
    "from pykubegrader.submit.submit_assignment import submit_assignment\n",
    "\n",
    "submit_assignment(\"week7-quiz\", \"1_quiz_q\")"
   ]
  }
 ],
 "metadata": {
  "kernelspec": {
   "display_name": "Python 3",
   "language": "python",
   "name": "python3"
  },
  "language_info": {
   "codemirror_mode": {
    "name": "ipython",
    "version": 3
   },
   "file_extension": ".py",
   "mimetype": "text/x-python",
   "name": "python",
   "nbconvert_exporter": "python",
   "pygments_lexer": "ipython3",
   "version": "3.12.7"
  }
 },
 "nbformat": 4,
 "nbformat_minor": 5
}
