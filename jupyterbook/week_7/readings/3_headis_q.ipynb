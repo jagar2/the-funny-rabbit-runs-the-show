{
 "cells": [
  {
   "cell_type": "code",
   "execution_count": null,
   "id": "0",
   "metadata": {
    "deletable": false,
    "editable": false,
    "tags": [
     "skip-execution"
    ]
   },
   "outputs": [],
   "source": [
    "# You must make sure to run all cells in sequence using shift + enter or you might encounter errors\n",
    "from pykubegrader.initialize import initialize_assignment\n",
    "\n",
    "responses = initialize_assignment(\"3_headis_q\", \"week_7\", \"readings\", assignment_points = 19.0, assignment_tag = 'week7-readings')\n",
    "\n",
    "# Initialize Otter\n",
    "import otter\n",
    "grader = otter.Notebook(\"3_headis_q.ipynb\")"
   ]
  },
  {
   "cell_type": "markdown",
   "id": "1",
   "metadata": {
    "deletable": false,
    "editable": false
   },
   "source": [
    "# 🏓 Classes and Instances in Headis\n",
    "\n",
    "<iframe width=\"560\" height=\"315\" src=\"https://www.youtube.com/embed/DjFXXhJ-cqA?si=4Y96DeKaETRPL_7t\" title=\"YouTube video player\" frameborder=\"0\" allow=\"accelerometer; autoplay; clipboard-write; encrypted-media; gyroscope; picture-in-picture; web-share\" referrerpolicy=\"strict-origin-when-cross-origin\" allowfullscreen></iframe>\n",
    "\n",
    "Headis is a fast-paced sport that blends table tennis and soccer, where players use their heads instead of paddles to hit the ball. Just like in programming, where we define **classes** to structure objects, Headis players have their own attributes and behaviors—speed, agility, and skill levels. Let’s explore how we can represent this sport using Python classes!"
   ]
  },
  {
   "cell_type": "code",
   "execution_count": null,
   "id": "2",
   "metadata": {
    "tags": [
     "skip-execution"
    ]
   },
   "outputs": [],
   "source": [
    "# Run this block of code by pressing Shift + Enter to display the question\n",
    "from questions._3_headis_q import Question1\n",
    "Question1().show()\n"
   ]
  },
  {
   "cell_type": "code",
   "execution_count": null,
   "id": "3",
   "metadata": {
    "tags": [
     "skip-execution"
    ]
   },
   "outputs": [],
   "source": [
    "# Run this block of code by pressing Shift + Enter to display the question\n",
    "from questions._3_headis_q import Question2\n",
    "Question2().show()\n"
   ]
  },
  {
   "cell_type": "code",
   "execution_count": null,
   "id": "4",
   "metadata": {
    "tags": [
     "skip-execution"
    ]
   },
   "outputs": [],
   "source": [
    "# Run this block of code by pressing Shift + Enter to display the question\n",
    "from questions._3_headis_q import Question3\n",
    "Question3().show()\n"
   ]
  },
  {
   "cell_type": "markdown",
   "id": "5",
   "metadata": {
    "deletable": false,
    "editable": false
   },
   "source": [
    "## Question 1 (Points: 12.0): 🎾 Free Response: Design a HeadisPlayer Class\n",
    "\n",
    "Imagine you're creating a **HeadisPlayer** class in Python. Your class should include:\n",
    "\n",
    "- Attributes for the player's **name**, **speed**, and **accuracy**.\n",
    "- A method called `hit_ball()` that prints `\"Player {name} hits the ball!\"`\n",
    "- A method `improve_skill()` that increases **accuracy** by a given `amount`.\n",
    "\n",
    "**Write your class definition below.**"
   ]
  },
  {
   "cell_type": "code",
   "execution_count": null,
   "id": "6",
   "metadata": {
    "tags": [
     "skip-execution"
    ]
   },
   "outputs": [],
   "source": [
    "..."
   ]
  },
  {
   "cell_type": "code",
   "execution_count": null,
   "id": "7",
   "metadata": {
    "deletable": false,
    "editable": false,
    "tags": [
     "skip-execution"
    ]
   },
   "outputs": [],
   "source": [
    "grader.check(\"headis-player-class-design\")"
   ]
  },
  {
   "cell_type": "markdown",
   "id": "8",
   "metadata": {},
   "source": [
    "## Submitting Assignment\n",
    "\n",
    "Please run the following block of code using `shift + enter` to submit your assignment, you should see your score."
   ]
  },
  {
   "cell_type": "code",
   "execution_count": null,
   "id": "9",
   "metadata": {
    "deletable": false,
    "editable": true,
    "tags": [
     "skip-execution"
    ]
   },
   "outputs": [],
   "source": [
    "from pykubegrader.submit.submit_assignment import submit_assignment\n",
    "\n",
    "submit_assignment(\"week7-readings\", \"3_headis_q\")"
   ]
  }
 ],
 "metadata": {
  "kernelspec": {
   "display_name": "dev_venv",
   "language": "python",
   "name": "python3"
  },
  "language_info": {
   "codemirror_mode": {
    "name": "ipython",
    "version": 3
   },
   "file_extension": ".py",
   "mimetype": "text/x-python",
   "name": "python",
   "nbconvert_exporter": "python",
   "pygments_lexer": "ipython3",
   "version": "3.13.1"
  },
  "otter": {
   "OK_FORMAT": true,
   "tests": {
    "headis-player-class-design": {
     "name": "headis-player-class-design",
     "points": null,
     "suites": [
      {
       "cases": [
        {
         "code": ">>> from pykubegrader.telemetry import ensure_responses, log_variable, score_question, submit_question, telemetry, update_responses\n>>> import os\n>>> import base64\n>>> max_question_points = str(12.0)\n>>> earned_points = 0\n>>> os.environ['EARNED_POINTS'] = str(earned_points)\n>>> os.environ['TOTAL_POINTS_FREE_RESPONSE'] = str(12.0)\n>>> log_variable('total-points', f'week7-readings, 3_headis_q', 12.0)\n>>> question_id = 'headis-player-class-design-1'\n>>> max_score = 1.0\n>>> score = 0\n>>> class_exists = 'HeadisPlayer' in globals()\n>>> assert class_exists, 'The class `HeadisPlayer` must be defined in the script.'\n>>> if class_exists:\n...     score = 1.0\n>>> earned_points = float(os.environ.get('EARNED_POINTS', 0))\n>>> earned_points += score\n>>> log_variable('3_headis_q', f'{score}, {max_score}', question_id)\n>>> os.environ['EARNED_POINTS'] = str(earned_points)\n>>> responses = update_responses(question_id, str(class_exists))\n",
         "failure_message": "Failed: `HeadisPlayer` class is not defined.",
         "hidden": false,
         "locked": false,
         "points": 1,
         "success_message": "Success: `HeadisPlayer` class is defined!"
        },
        {
         "code": ">>> from pykubegrader.telemetry import ensure_responses, log_variable, score_question, submit_question, telemetry, update_responses\n>>> import os\n>>> import base64\n>>> question_id = 'headis-player-class-design-2'\n>>> max_score = 2.0\n>>> score = 0\n>>> test_player = HeadisPlayer('Jordan', 7, 80)\n>>> player_attributes = {'name': test_player.name, 'speed': test_player.speed, 'accuracy': test_player.accuracy}\n>>> expected_attributes = {'name': 'Jordan', 'speed': 7, 'accuracy': 80}\n>>> condition = player_attributes == expected_attributes\n>>> assert condition, f'Expected {expected_attributes}, but got {player_attributes}.'\n>>> if condition:\n...     score = 2.0\n>>> earned_points = float(os.environ.get('EARNED_POINTS', 0))\n>>> earned_points += score\n>>> log_variable('3_headis_q', f'{score}, {max_score}', question_id)\n>>> os.environ['EARNED_POINTS'] = str(earned_points)\n>>> responses = update_responses(question_id, str(player_attributes))\n",
         "failure_message": "Failed: `HeadisPlayer` does not initialize attributes correctly.",
         "hidden": false,
         "locked": false,
         "points": 2,
         "success_message": "Success: `HeadisPlayer` initializes correctly!"
        },
        {
         "code": ">>> from pykubegrader.telemetry import ensure_responses, log_variable, score_question, submit_question, telemetry, update_responses\n>>> import os\n>>> import base64\n>>> import io\n>>> from contextlib import redirect_stdout\n>>> question_id = 'headis-player-class-design-3'\n>>> max_score = 2.0\n>>> score = 0\n>>> output = io.StringIO()\n>>> test_player = HeadisPlayer('Serena', 9, 85)\n>>> with redirect_stdout(output):\n...     test_player.hit_ball()\n>>> stdout_content = output.getvalue().strip()\n>>> expected_output = 'Player Serena hits the ball!'\n>>> condition = stdout_content == expected_output\n>>> assert condition, f\"Expected '{expected_output}', but got '{stdout_content}'.\"\n>>> if condition:\n...     score = 2.0\n>>> earned_points = float(os.environ.get('EARNED_POINTS', 0))\n>>> earned_points += score\n>>> log_variable('3_headis_q', f'{score}, {max_score}', question_id)\n>>> os.environ['EARNED_POINTS'] = str(earned_points)\n>>> responses = update_responses(question_id, str(stdout_content))\n",
         "failure_message": "Failed: `hit_ball()` does not print correctly.",
         "hidden": false,
         "locked": false,
         "points": 2,
         "success_message": "Success: `hit_ball()` prints the correct message!"
        },
        {
         "code": ">>> from pykubegrader.telemetry import ensure_responses, log_variable, score_question, submit_question, telemetry, update_responses\n>>> import os\n>>> import base64\n>>> import io\n>>> from contextlib import redirect_stdout\n>>> question_id = 'headis-player-class-design-4'\n>>> max_score = 2.0\n>>> score = 0\n>>> output = io.StringIO()\n>>> test_player = HeadisPlayer('Serena', 9, 85)\n>>> with redirect_stdout(output):\n...     test_player.hit_ball()\n>>> stdout_content = output.getvalue().strip()\n>>> expected_output = 'Player Serena hits the ball!'\n>>> condition = stdout_content == expected_output\n>>> assert condition, f\"Expected '{expected_output}', but got '{stdout_content}'.\"\n>>> if condition:\n...     score = 2.0\n>>> earned_points = float(os.environ.get('EARNED_POINTS', 0))\n>>> earned_points += score\n>>> log_variable('3_headis_q', f'{score}, {max_score}', question_id)\n>>> os.environ['EARNED_POINTS'] = str(earned_points)\n>>> responses = update_responses(question_id, str(stdout_content))\n",
         "failure_message": "Failed: `hit_ball()` does not print correctly.",
         "hidden": false,
         "locked": false,
         "points": 2,
         "success_message": "Success: `hit_ball()` prints the correct message!"
        },
        {
         "code": ">>> from pykubegrader.telemetry import ensure_responses, log_variable, score_question, submit_question, telemetry, update_responses\n>>> import os\n>>> import base64\n>>> import io\n>>> from contextlib import redirect_stdout\n>>> question_id = 'headis-player-class-design-5'\n>>> max_score = 3.0\n>>> score = 0\n>>> test_player = HeadisPlayer('Nadal', 6, 70)\n>>> output = io.StringIO()\n>>> with redirect_stdout(output):\n...     test_player.improve_skill(10)\n>>> stdout_content = output.getvalue().strip()\n>>> updated_accuracy = test_player.accuracy\n>>> expected_accuracy = 80\n>>> expected_output = \"Nadal's accuracy increased to 80!\"\n>>> condition1 = updated_accuracy == expected_accuracy\n>>> assert condition1, f'Expected accuracy {expected_accuracy}, but got {updated_accuracy}.'\n>>> condition2 = stdout_content == expected_output\n>>> assert condition2, f\"Expected '{expected_output}', but got '{stdout_content}'.\"\n>>> if condition1 and condition2:\n...     score = 3.0\n>>> earned_points = float(os.environ.get('EARNED_POINTS', 0))\n>>> earned_points += score\n>>> log_variable('3_headis_q', f'{score}, {max_score}', question_id)\n>>> os.environ['EARNED_POINTS'] = str(earned_points)\n>>> responses = update_responses(question_id, str(updated_accuracy))\n",
         "failure_message": "Failed: `improve_skill()` does not update accuracy correctly.",
         "hidden": false,
         "locked": false,
         "points": 3,
         "success_message": "Success: `improve_skill()` correctly increases accuracy!"
        },
        {
         "code": ">>> from pykubegrader.telemetry import ensure_responses, log_variable, score_question, submit_question, telemetry, update_responses\n>>> import os\n>>> import base64\n>>> import io\n>>> from contextlib import redirect_stdout\n>>> question_id = 'headis-player-class-design-6'\n>>> max_score = 2.0\n>>> score = 0\n>>> test_player = HeadisPlayer('Federer', 8, 90)\n>>> output = io.StringIO()\n>>> with redirect_stdout(output):\n...     test_player.improve_skill(-20)\n>>> updated_accuracy = test_player.accuracy\n>>> expected_accuracy = 70\n>>> condition = updated_accuracy == expected_accuracy\n>>> assert condition, f'Expected accuracy {expected_accuracy}, but got {updated_accuracy}.'\n>>> if condition:\n...     score = 2.0\n>>> earned_points = float(os.environ.get('EARNED_POINTS', 0))\n>>> earned_points += score\n>>> log_variable('3_headis_q', f'{score}, {max_score}', question_id)\n>>> os.environ['EARNED_POINTS'] = str(earned_points)\n>>> responses = update_responses(question_id, str(updated_accuracy))\n",
         "failure_message": "Failed: `improve_skill()` does not handle negative values correctly.",
         "hidden": false,
         "locked": false,
         "points": 2,
         "success_message": "Success: `improve_skill()` correctly handles negative values!"
        }
       ],
       "scored": true,
       "setup": "",
       "teardown": "",
       "type": "doctest"
      }
     ]
    }
   }
  }
 },
 "nbformat": 4,
 "nbformat_minor": 5
}
