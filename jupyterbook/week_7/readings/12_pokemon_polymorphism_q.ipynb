{
 "cells": [
  {
   "cell_type": "code",
   "execution_count": null,
   "id": "0",
   "metadata": {
    "deletable": false,
    "editable": false,
    "tags": [
     "skip-execution"
    ]
   },
   "outputs": [],
   "source": [
    "# You must make sure to run all cells in sequence using shift + enter or you might encounter errors\n",
    "from pykubegrader.initialize import initialize_assignment\n",
    "\n",
    "responses = initialize_assignment(\"12_pokemon_polymorphism_q\", \"week_7\", \"readings\", assignment_points = 18.0, assignment_tag = 'week7-readings')\n",
    "\n",
    "# Initialize Otter\n",
    "import otter\n",
    "grader = otter.Notebook(\"12_pokemon_polymorphism_q.ipynb\")"
   ]
  },
  {
   "cell_type": "markdown",
   "id": "1",
   "metadata": {
    "deletable": false,
    "editable": false
   },
   "source": [
    "# ❓🔥 Polymorphism in Python: Pokémon Battle System\n",
    "\n",
    "![](./assets/figures/pokemon_go.jpg)\n",
    "\n",
    "In the **Pokémon** universe, different Pokémon species share common actions like **attacking, using abilities, and evolving**, but they execute these actions in **different ways** depending on their type.  \n",
    "\n",
    "This is similar to **polymorphism** in Python, where **multiple classes can share the same method names but implement them differently**. For example, both **Charizard** and **Pikachu** can use the **attack()** method, but Charizard might use **Flamethrower**, while Pikachu uses **Thunderbolt**.  \n",
    "\n",
    "Let’s explore how **polymorphism** allows us to create flexible and reusable Pokémon battle systems in Python!"
   ]
  },
  {
   "cell_type": "code",
   "execution_count": null,
   "id": "2",
   "metadata": {
    "tags": [
     "skip-execution"
    ]
   },
   "outputs": [],
   "source": [
    "# Run this block of code by pressing Shift + Enter to display the question\n",
    "from questions._12_pokemon_polymorphism_q import Question1\n",
    "Question1().show()\n"
   ]
  },
  {
   "cell_type": "code",
   "execution_count": null,
   "id": "3",
   "metadata": {
    "tags": [
     "skip-execution"
    ]
   },
   "outputs": [],
   "source": [
    "# Run this block of code by pressing Shift + Enter to display the question\n",
    "from questions._12_pokemon_polymorphism_q import Question2\n",
    "Question2().show()\n"
   ]
  },
  {
   "cell_type": "code",
   "execution_count": null,
   "id": "4",
   "metadata": {
    "tags": [
     "skip-execution"
    ]
   },
   "outputs": [],
   "source": [
    "# Run this block of code by pressing Shift + Enter to display the question\n",
    "from questions._12_pokemon_polymorphism_q import Question3\n",
    "Question3().show()\n"
   ]
  },
  {
   "cell_type": "markdown",
   "id": "5",
   "metadata": {
    "deletable": false,
    "editable": false
   },
   "source": [
    "## Question 1 (Points: 11.0): ⚡ Free Response: Implement Polymorphism in a Pokémon Battle System\n",
    "\n",
    "Implement a **Pokémon battle system** using polymorphism:\n",
    "\n",
    "- Create a **base class** `Pokemon` with:\n",
    "    - A method `attack()` that returns `\"A Pokémon attacks!\"`\n",
    "- Create subclasses `Pikachu` and `Charizard` that:\n",
    "    - Override `attack()` with `\"Pikachu uses Thunderbolt!\"` and `\"Charizard uses Flamethrower!\"`\n",
    "- Create a function `battle(pokemon1, pokemon2)` that:\n",
    "    - Calls `.attack()` on both Pokémon and prints the results.\n",
    "\n",
    "### **Example Usage**\n",
    "```python\n",
    "p1 = Pikachu()\n",
    "p2 = Charizard()\n",
    "battle(p1, p2)\n",
    "```\n",
    "**Expected Output:**\n",
    "```\n",
    "Pikachu uses Thunderbolt!\n",
    "Charizard uses Flamethrower!\n",
    "```"
   ]
  },
  {
   "cell_type": "code",
   "execution_count": null,
   "id": "6",
   "metadata": {
    "tags": [
     "skip-execution"
    ]
   },
   "outputs": [],
   "source": [
    "...\n",
    "\n",
    "\n",
    "# Example usage\n",
    "p1 = Pikachu()\n",
    "p2 = Charizard()\n",
    "battle(p1, p2)"
   ]
  },
  {
   "cell_type": "code",
   "execution_count": null,
   "id": "7",
   "metadata": {
    "deletable": false,
    "editable": false,
    "tags": [
     "skip-execution"
    ]
   },
   "outputs": [],
   "source": [
    "grader.check(\"Pokemon-Polymorphism-Classes\")"
   ]
  },
  {
   "cell_type": "markdown",
   "id": "8",
   "metadata": {},
   "source": [
    "## Submitting Assignment\n",
    "\n",
    "Please run the following block of code using `shift + enter` to submit your assignment, you should see your score."
   ]
  },
  {
   "cell_type": "code",
   "execution_count": null,
   "id": "9",
   "metadata": {
    "deletable": false,
    "editable": true,
    "tags": [
     "skip-execution"
    ]
   },
   "outputs": [],
   "source": [
    "from pykubegrader.submit.submit_assignment import submit_assignment\n",
    "\n",
    "submit_assignment(\"week7-readings\", \"12_pokemon_polymorphism_q\")"
   ]
  }
 ],
 "metadata": {
  "kernelspec": {
   "display_name": "engr131_dev",
   "language": "python",
   "name": "python3"
  },
  "language_info": {
   "codemirror_mode": {
    "name": "ipython",
    "version": 3
   },
   "file_extension": ".py",
   "mimetype": "text/x-python",
   "name": "python",
   "nbconvert_exporter": "python",
   "pygments_lexer": "ipython3",
   "version": "3.12.7"
  },
  "otter": {
   "OK_FORMAT": true,
   "tests": {
    "Pokemon-Polymorphism-Classes": {
     "name": "Pokemon-Polymorphism-Classes",
     "points": null,
     "suites": [
      {
       "cases": [
        {
         "code": ">>> from pykubegrader.telemetry import ensure_responses, log_variable, score_question, submit_question, telemetry, update_responses\n>>> import os\n>>> import base64\n>>> max_question_points = str(11.0)\n>>> earned_points = 0\n>>> os.environ['EARNED_POINTS'] = str(earned_points)\n>>> os.environ['TOTAL_POINTS_FREE_RESPONSE'] = str(11.0)\n>>> log_variable('total-points', f'week7-readings, 12_pokemon_polymorphism_q', 11.0)\n>>> question_id = 'Pokemon-Polymorphism-Classes-1'\n>>> max_score = 2.0\n>>> score = 0\n>>> p = Pokemon()\n>>> assert p.attack() == 'A Pokémon attacks!', 'Incorrect base class attack method.'\n>>> if p.attack() == 'A Pokémon attacks!':\n...     score = 2.0\n>>> earned_points = float(os.environ.get('EARNED_POINTS', 0))\n>>> earned_points += score\n>>> log_variable('12_pokemon_polymorphism_q', f'{score}, {max_score}', question_id)\n>>> os.environ['EARNED_POINTS'] = str(earned_points)\n",
         "failure_message": "Failed: The base Pokemon class is missing attributes.",
         "hidden": false,
         "locked": false,
         "points": 2,
         "success_message": "Success: The base Pokemon class initializes correctly!"
        },
        {
         "code": ">>> from pykubegrader.telemetry import ensure_responses, log_variable, score_question, submit_question, telemetry, update_responses\n>>> import os\n>>> import base64\n>>> question_id = 'Pokemon-Polymorphism-Classes-2'\n>>> max_score = 3.0\n>>> score = 0\n>>> pikachu = Pikachu()\n>>> condition = pikachu.attack() == 'Pikachu uses Thunderbolt!'\n>>> assert condition, 'Incorrect Pikachu attack method.'\n>>> if condition:\n...     score = 3.0\n>>> earned_points = float(os.environ.get('EARNED_POINTS', 0))\n>>> earned_points += score\n>>> log_variable('12_pokemon_polymorphism_q', f'{score}, {max_score}', question_id)\n>>> os.environ['EARNED_POINTS'] = str(earned_points)\n",
         "failure_message": "Failed: Pikachu's attack() does not return the expected string.",
         "hidden": false,
         "locked": false,
         "points": 3,
         "success_message": "Success: Pikachu subclass overrides attack() correctly!"
        },
        {
         "code": ">>> from pykubegrader.telemetry import ensure_responses, log_variable, score_question, submit_question, telemetry, update_responses\n>>> import os\n>>> import base64\n>>> question_id = 'Pokemon-Polymorphism-Classes-3'\n>>> max_score = 3.0\n>>> score = 0\n>>> charizard = Charizard()\n>>> condition = charizard.attack() == 'Charizard uses Flamethrower!'\n>>> assert condition, 'Incorrect Charizard attack method.'\n>>> if condition:\n...     score = 3.0\n>>> earned_points = float(os.environ.get('EARNED_POINTS', 0))\n>>> earned_points += score\n>>> log_variable('12_pokemon_polymorphism_q', f'{score}, {max_score}', question_id)\n>>> os.environ['EARNED_POINTS'] = str(earned_points)\n",
         "failure_message": "Failed: Charizard's attack() does not return the expected string.",
         "hidden": false,
         "locked": false,
         "points": 3,
         "success_message": "Success: Charizard subclass overrides attack() correctly!"
        },
        {
         "code": ">>> from pykubegrader.telemetry import ensure_responses, log_variable, score_question, submit_question, telemetry, update_responses\n>>> import os\n>>> import base64\n>>> import io\n>>> import sys\n>>> question_id = 'Pokemon-Polymorphism-Classes-4'\n>>> max_score = 3.0\n>>> score = 0\n>>> output_capture = io.StringIO()\n>>> sys.stdout = output_capture\n>>> battle(Pikachu(), Charizard())\n>>> sys.stdout = sys.__stdout__\n>>> expected_output = 'Pikachu uses Thunderbolt!\\nCharizard uses Flamethrower!'\n>>> condition = output_capture.getvalue().strip() == expected_output\n>>> assert condition, 'battle() does not return expected results.'\n>>> if condition:\n...     score = 3.0\n>>> earned_points = float(os.environ.get('EARNED_POINTS', 0))\n>>> earned_points += score\n>>> log_variable('12_pokemon_polymorphism_q', f'{score}, {max_score}', question_id)\n>>> os.environ['EARNED_POINTS'] = str(earned_points)\n",
         "failure_message": "Failed: The battle function does not properly call attack() methods.",
         "hidden": false,
         "locked": false,
         "points": 3,
         "success_message": "Success: The battle function correctly calls attack() on both Pokémon!"
        }
       ],
       "scored": true,
       "setup": "",
       "teardown": "",
       "type": "doctest"
      }
     ]
    }
   }
  }
 },
 "nbformat": 4,
 "nbformat_minor": 5
}
