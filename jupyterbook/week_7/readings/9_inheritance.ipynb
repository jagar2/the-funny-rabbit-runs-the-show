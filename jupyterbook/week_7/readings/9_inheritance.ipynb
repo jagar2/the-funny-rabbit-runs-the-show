{
 "cells": [
  {
   "cell_type": "markdown",
   "id": "0",
   "metadata": {},
   "source": [
    "# 📖 🥊 Python Inheritance & Methods: PowerSlap Edition\n",
    "\n",
    "**Note**: I would highly recommend that nobody in the class participate in this crazy sport. It's dangerous and you could get hurt, however, it is somewhat curious what people will do for sport, fame, and money.\n",
    "\n",
    "<iframe width=\"560\" height=\"315\" src=\"https://www.youtube.com/embed/9YFuO0cYTlo?si=bgDjW3-En9ilVC5y\" title=\"YouTube video player\" frameborder=\"0\" allow=\"accelerometer; autoplay; clipboard-write; encrypted-media; gyroscope; picture-in-picture; web-share\" referrerpolicy=\"strict-origin-when-cross-origin\" allowfullscreen></iframe>"
   ]
  },
  {
   "cell_type": "markdown",
   "id": "1",
   "metadata": {},
   "source": [
    "## 🚀 Introduction\n",
    "\n",
    "Inheritance is a powerful feature in object-oriented programming that enables code reuse, better structure, and logical hierarchies. This chapter explores how inheritance works in Python, demonstrating its practical applications using a PowerSlap Fighters analogy and real-world coding examples.\n",
    "\n",
    "By the end of this chapter, you will:\n",
    "\n",
    "- Understand the basics of inheritance and why it's useful.\n",
    "- Learn how to extend classes using `super()`.\n",
    "- Differentiate between instance methods and class methods.\n"
   ]
  },
  {
   "cell_type": "markdown",
   "id": "2",
   "metadata": {},
   "source": [
    "## 🏆 What is Inheritance?\n",
    "\n",
    "Inheritance allows us to create a base class (parent) and extend it with specialized child classes. This promotes code reuse and modularity.\n"
   ]
  },
  {
   "cell_type": "markdown",
   "id": "3",
   "metadata": {},
   "source": [
    "### Example: PowerSlap Fighters 🥊\n",
    "\n",
    "In our scenario, we define a base class `Fighter`, and then create specialized fighters with unique abilities:\n",
    "\n",
    "- `Fighter` (Base Class)\n",
    "- `Slapper` (Child Class)\n",
    "- `HeavyHitter` (Child Class)\n"
   ]
  },
  {
   "cell_type": "markdown",
   "id": "4",
   "metadata": {},
   "source": [
    "#### Class Hierarchy Diagram\n",
    "\n",
    "```mermaid\n",
    "classDiagram\n",
    "Fighter <|-- Slapper\n",
    "Fighter <|-- HeavyHitter\n",
    "class Fighter{\n",
    "+name\n",
    "+power\n",
    "+durability\n",
    "+introduce()\n",
    "}\n",
    "class Slapper{\n",
    "+accuracy\n",
    "+slap()\n",
    "}\n",
    "class HeavyHitter{\n",
    "+stamina\n",
    "+knockout_slap()\n",
    "}\n",
    "```\n",
    "\n",
    "This structure ensures code reusability while allowing each fighter to have unique attributes and behaviors.\n"
   ]
  },
  {
   "cell_type": "markdown",
   "id": "5",
   "metadata": {},
   "source": [
    "## 🔥 Creating a Base Fighter Class\n",
    "\n",
    "The base class `Fighter` defines common properties for all fighters.\n"
   ]
  },
  {
   "cell_type": "code",
   "execution_count": null,
   "id": "6",
   "metadata": {},
   "outputs": [],
   "source": [
    "class Fighter:\n",
    "    def __init__(self, name, power, durability):\n",
    "        self.name = name  # Fighter's name\n",
    "        self.power = power  # Slap power level\n",
    "        self.durability = durability  # Ability to withstand damage\n",
    "\n",
    "    def introduce(self):\n",
    "        \"\"\"Introduce the fighter.\"\"\"\n",
    "        return f\"👊 {self.name} enters the PowerSlap arena!\""
   ]
  },
  {
   "cell_type": "markdown",
   "id": "7",
   "metadata": {},
   "source": [
    "### Key Features:\n",
    "\n",
    "- `init()` initializes the fighter attributes.\n",
    "- `introduce()` provides a basic introduction method.\n"
   ]
  },
  {
   "cell_type": "markdown",
   "id": "8",
   "metadata": {},
   "source": [
    "## 💥 Creating Specialized Fighters with Inheritance\n",
    "\n",
    "We extend `Fighter` to create two specialized fighter types: `Slapper` and `HeavyHitter`.\n"
   ]
  },
  {
   "cell_type": "markdown",
   "id": "9",
   "metadata": {},
   "source": [
    "### The `Slapper` Class\n"
   ]
  },
  {
   "cell_type": "code",
   "execution_count": null,
   "id": "10",
   "metadata": {},
   "outputs": [],
   "source": [
    "class Slapper(Fighter):\n",
    "    def __init__(self, name, power, durability, accuracy):\n",
    "        super().__init__(name, power, durability)  # Inherit from Fighter\n",
    "        self.accuracy = accuracy  # Additional attribute\n",
    "\n",
    "    def slap(self):\n",
    "        return f\"🖐️ {self.name} delivers a {self.power} power slap with {self.accuracy}% accuracy!\""
   ]
  },
  {
   "cell_type": "markdown",
   "id": "11",
   "metadata": {},
   "source": [
    "### The `HeavyHitter` Class\n"
   ]
  },
  {
   "cell_type": "code",
   "execution_count": null,
   "id": "12",
   "metadata": {},
   "outputs": [],
   "source": [
    "class HeavyHitter(Fighter):\n",
    "    def __init__(self, name, power, durability, stamina):\n",
    "        super().__init__(name, power, durability)  # Inherit from Fighter\n",
    "        self.stamina = stamina  # Additional attribute\n",
    "\n",
    "    def knockout_slap(self):\n",
    "        return f\"💥 {self.name} goes for a brutal {self.power} power KO slap with {self.stamina}% stamina left!\""
   ]
  },
  {
   "cell_type": "markdown",
   "id": "13",
   "metadata": {},
   "source": [
    "### Key Features:\n",
    "\n",
    "- `super().init()` calls the parent class constructor to avoid redundant code.\n",
    "- Each subclass inherits attributes and methods from `Fighter` while adding new ones.\n"
   ]
  },
  {
   "cell_type": "markdown",
   "id": "14",
   "metadata": {},
   "source": [
    "## ⚡ Using Our Fighter Classes\n",
    "\n",
    "Let's create and test our fighter classes:\n"
   ]
  },
  {
   "cell_type": "code",
   "execution_count": null,
   "id": "15",
   "metadata": {},
   "outputs": [],
   "source": [
    "slap_fighter = Slapper(\"John 'Quick Hand' Doe\", 80, 60, 90)\n",
    "heavy_fighter = HeavyHitter(\"Mike 'Iron Palm' Tyson\", 100, 90, 70)\n",
    "\n",
    "print(slap_fighter.introduce())  # 👊 John 'Quick Hand' Doe enters the PowerSlap arena!\n",
    "print(\n",
    "    slap_fighter.slap()\n",
    ")  # 🖐️ John 'Quick Hand' Doe delivers an 80 power slap with 90% accuracy!\n",
    "\n",
    "print(\n",
    "    heavy_fighter.introduce()\n",
    ")  # 👊 Mike 'Iron Palm' Tyson enters the PowerSlap arena!\n",
    "print(\n",
    "    heavy_fighter.knockout_slap()\n",
    ")  # 💥 Mike 'Iron Palm' Tyson goes for a brutal 100 power KO slap with 70% stamina left!"
   ]
  },
  {
   "cell_type": "markdown",
   "id": "16",
   "metadata": {},
   "source": [
    "## 📊 Applying Inheritance Beyond Fighters\n",
    "\n",
    "Inheritance is widely used in various real-world applications, including graphing systems and optimization problems.\n"
   ]
  },
  {
   "cell_type": "markdown",
   "id": "17",
   "metadata": {},
   "source": [
    "### Example: Graphing System with Inheritance\n",
    "\n",
    "We can create a base `Graph` class and extend it to support different graph types.\n"
   ]
  },
  {
   "cell_type": "code",
   "execution_count": null,
   "id": "18",
   "metadata": {},
   "outputs": [],
   "source": [
    "import matplotlib.pyplot as plt\n",
    "\n",
    "class Graph:\n",
    "    def __init__(self, title):\n",
    "        self.title = title\n",
    "\n",
    "    def show_title(self):\n",
    "        return f\"📈 Graph: {self.title}\"\n",
    "    \n",
    "    def show_caption(self, caption):\n",
    "        return f\"📊 {caption}\"\n",
    "\n",
    "\n",
    "class LineGraph(Graph):\n",
    "    def __init__(self, title, x_values, y_values):\n",
    "        super().__init__(title)\n",
    "        self.x_values = x_values\n",
    "        self.y_values = y_values\n",
    "\n",
    "    def plot(self):\n",
    "        plt.plot(self.x_values, self.y_values)\n",
    "        plt.title(self.title)\n",
    "        plt.show()"
   ]
  },
  {
   "cell_type": "markdown",
   "id": "19",
   "metadata": {},
   "source": [
    "### Using Our Graph Classes\n"
   ]
  },
  {
   "cell_type": "code",
   "execution_count": null,
   "id": "20",
   "metadata": {},
   "outputs": [],
   "source": [
    "line_chart = LineGraph(\"Stock Prices\", [1, 2, 3, 4], [100, 150, 200, 250])\n",
    "print(line_chart.show_title())  # 📈 Graph: Stock Prices\n",
    "line_chart.plot()  # Displays a line chart\n",
    "print(line_chart.show_caption(\"This is my caption\"))"
   ]
  },
  {
   "cell_type": "markdown",
   "id": "21",
   "metadata": {},
   "source": [
    "## 📌 Key Takeaways\n",
    "\n",
    "✅ Inheritance allows us to create a base class (`Fighter`) and specialized versions (`Slapper`, `HeavyHitter`).\n",
    "\n",
    "✅ `super()` calls the parent constructor, keeping code clean and reusable.\n",
    "\n",
    "✅ Child classes can have additional attributes & methods beyond the parent class.\n",
    "\n",
    "✅ Inheritance is widely used in graphing, optimization, and structured modeling.\n",
    "\n",
    "🥊 PowerSlap fighters inherit raw power—just like Python classes inherit code!"
   ]
  }
 ],
 "metadata": {
  "kernelspec": {
   "display_name": "engr131_dev",
   "language": "python",
   "name": "python3"
  },
  "language_info": {
   "codemirror_mode": {
    "name": "ipython",
    "version": 3
   },
   "file_extension": ".py",
   "mimetype": "text/x-python",
   "name": "python",
   "nbconvert_exporter": "python",
   "pygments_lexer": "ipython3",
   "version": "3.12.7"
  }
 },
 "nbformat": 4,
 "nbformat_minor": 5
}
