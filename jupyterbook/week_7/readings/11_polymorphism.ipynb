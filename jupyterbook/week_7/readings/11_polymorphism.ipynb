{
 "cells": [
  {
   "cell_type": "markdown",
   "id": "0",
   "metadata": {},
   "source": [
    "# 📖 🐱 Polymorphism in Python: Cat Breeds Edition\n",
    "\n",
    "![](./assets/figures/cat_breeds.webp)\n"
   ]
  },
  {
   "cell_type": "markdown",
   "id": "1",
   "metadata": {},
   "source": [
    "## 🚀 Introduction\n",
    "\n",
    "Polymorphism is a key concept in object-oriented programming that allows different classes to share the same method names while executing different behaviors based on the object calling them. This makes code more flexible and reusable.\n",
    "\n",
    "By the end of this guide, you will:\n",
    "\n",
    "- Understand the concept of polymorphism and its benefits.\n",
    "- Use polymorphism to allow different classes to implement the same methods in unique ways.\n",
    "- Implement method overriding to customize behavior in subclasses.\n"
   ]
  },
  {
   "cell_type": "markdown",
   "id": "2",
   "metadata": {},
   "source": [
    "## 🏆 What is Polymorphism?\n",
    "\n",
    "Polymorphism allows different classes to share the same method names but execute different behaviors depending on the object calling them.\n"
   ]
  },
  {
   "cell_type": "markdown",
   "id": "3",
   "metadata": {},
   "source": [
    "### Why is Polymorphism Useful?\n",
    "\n",
    "- Consistency: You can call the same method on different objects without worrying about their exact type.\n",
    "- Extensibility: You can add new classes without modifying existing code.\n",
    "- Code Reusability: Instead of writing different functions for each type, you use a common interface.\n"
   ]
  },
  {
   "cell_type": "markdown",
   "id": "4",
   "metadata": {},
   "source": [
    "### Example: Cat Breeds 🐱\n",
    "\n",
    "Different cat breeds—Siamese, Maine Coon, and Bengal—all meow, but each has a unique style of meowing.\n",
    "\n",
    "This was Prof. Agar's cat who sadly passed during COVID-19\n",
    "\n",
    "![](./assets/figures/pj-agar.jpg)\n"
   ]
  },
  {
   "cell_type": "markdown",
   "id": "5",
   "metadata": {},
   "source": [
    "#### Class Hierarchy Diagram\n",
    "\n",
    "```mermaid\n",
    "classDiagram\n",
    "Cat <|-- Siamese\n",
    "Cat <|-- MaineCoon\n",
    "Cat <|-- Bengal\n",
    "class Cat{\n",
    "+name\n",
    "+meow()\n",
    "}\n",
    "class Siamese{\n",
    "+meow()\n",
    "}\n",
    "class MaineCoon{\n",
    "+meow()\n",
    "}\n",
    "class Bengal{\n",
    "+meow()\n",
    "}\n",
    "```\n"
   ]
  },
  {
   "cell_type": "markdown",
   "id": "6",
   "metadata": {},
   "source": [
    "## 🐾 Creating a Base Cat Class\n"
   ]
  },
  {
   "cell_type": "code",
   "execution_count": null,
   "id": "7",
   "metadata": {},
   "outputs": [],
   "source": [
    "class Cat:\n",
    "    def __init__(self, name):\n",
    "        self.name = name\n",
    "\n",
    "    def meow(self):\n",
    "        \"\"\"Generic meow sound.\"\"\"\n",
    "        return f\"{self.name} says: Meow!\""
   ]
  },
  {
   "cell_type": "markdown",
   "id": "8",
   "metadata": {},
   "source": [
    "### Key Features:\n",
    "\n",
    "- `init()` initializes the cat’s name.\n",
    "- `meow()` is a general method that all cats can override.\n"
   ]
  },
  {
   "cell_type": "markdown",
   "id": "9",
   "metadata": {},
   "source": [
    "## 😻 Creating Specific Cat Breeds with Polymorphism\n",
    "\n",
    "Each cat breed overrides the `meow()` method with its own unique sound.\n"
   ]
  },
  {
   "cell_type": "code",
   "execution_count": null,
   "id": "10",
   "metadata": {},
   "outputs": [],
   "source": [
    "class Siamese(Cat):\n",
    "    def meow(self):\n",
    "        return f\"{self.name} says: Meeeeow! (in a fancy Siamese way)\""
   ]
  },
  {
   "cell_type": "code",
   "execution_count": null,
   "id": "11",
   "metadata": {},
   "outputs": [],
   "source": [
    "class MaineCoon(Cat):\n",
    "    def meow(self):\n",
    "        return f\"{self.name} says: MRRROOOOW! (deep Maine Coon roar)\""
   ]
  },
  {
   "cell_type": "code",
   "execution_count": null,
   "id": "12",
   "metadata": {},
   "outputs": [],
   "source": [
    "class Bengal(Cat):\n",
    "    def meow(self):\n",
    "        return f\"{self.name} says: Mew! Mew! (quick Bengal chirps)\""
   ]
  },
  {
   "cell_type": "markdown",
   "id": "13",
   "metadata": {},
   "source": [
    "### Key Features:\n",
    "\n",
    "- Each cat breed overrides `meow()` differently.\n",
    "- The method signature remains the same, but the output varies.\n"
   ]
  },
  {
   "cell_type": "markdown",
   "id": "14",
   "metadata": {},
   "source": [
    "## 🎭 Using Polymorphism in Action\n"
   ]
  },
  {
   "cell_type": "code",
   "execution_count": null,
   "id": "15",
   "metadata": {},
   "outputs": [],
   "source": [
    "cats = [Siamese(\"Luna\"), MaineCoon(\"Thor\"), Bengal(\"Simba\")]\n",
    "\n",
    "for cat in cats:\n",
    "    print(cat.meow())"
   ]
  },
  {
   "cell_type": "markdown",
   "id": "16",
   "metadata": {},
   "source": [
    "### Output:\n",
    "\n",
    "```shell\n",
    "Luna says: Meeeeow! (in a fancy Siamese way)\n",
    "Thor says: MRRROOOOW! (deep Maine Coon roar)\n",
    "Simba says: Mew! Mew! (quick Bengal chirps)\n",
    "```\n"
   ]
  },
  {
   "cell_type": "markdown",
   "id": "17",
   "metadata": {},
   "source": [
    "### Why is this Useful?\n",
    "\n",
    "✅ Same method name (`meow`) but different behaviors.\n",
    "\n",
    "✅ Easier to work with different objects in loops/functions.\n",
    "\n",
    "✅ New cat breeds can be added without changing existing code!\n"
   ]
  },
  {
   "cell_type": "markdown",
   "id": "18",
   "metadata": {},
   "source": [
    "## 🛠 More Examples of Polymorphism\n"
   ]
  },
  {
   "cell_type": "markdown",
   "id": "19",
   "metadata": {},
   "source": [
    "### Example 1: Using Polymorphism with a Function\n"
   ]
  },
  {
   "cell_type": "code",
   "execution_count": null,
   "id": "20",
   "metadata": {},
   "outputs": [],
   "source": [
    "def make_cats_meow(cat):\n",
    "    print(cat.meow())\n",
    "\n",
    "\n",
    "cat1 = Siamese(\"Luna\")\n",
    "cat2 = MaineCoon(\"Thor\")\n",
    "cat3 = Bengal(\"Simba\")\n",
    "\n",
    "make_cats_meow(cat1)  # Luna says: Meeeeow! (in a fancy Siamese way)\n",
    "make_cats_meow(cat2)  # Thor says: MRRROOOOW! (deep Maine Coon roar)\n",
    "make_cats_meow(cat3)  # Simba says: Mew! Mew! (quick Bengal chirps)"
   ]
  },
  {
   "cell_type": "markdown",
   "id": "21",
   "metadata": {},
   "source": [
    "\n",
    "- A single function `make_cats_meow()` calls `meow()` on different cat types without needing `if` statements.\n"
   ]
  },
  {
   "cell_type": "markdown",
   "id": "22",
   "metadata": {},
   "source": [
    "### Example 2: Using Polymorphism with `len()`\n",
    "\n",
    "Python’s built-in `len()` function is an example of polymorphism!\n"
   ]
  },
  {
   "cell_type": "code",
   "execution_count": null,
   "id": "23",
   "metadata": {},
   "outputs": [],
   "source": [
    "print(len(\"Paws\"))  # Works on a string\n",
    "print(len([1, 2, 3, 4]))  # Works on a list\n",
    "print(len({\"name\": \"Whiskers\", \"age\": 3}))  # Works on a dictionary"
   ]
  },
  {
   "cell_type": "markdown",
   "id": "24",
   "metadata": {},
   "source": [
    "\n",
    "- `len()` works on multiple data types because each object implements `len()` differently.\n"
   ]
  },
  {
   "cell_type": "markdown",
   "id": "25",
   "metadata": {},
   "source": [
    "## 📌 Key Takeaways\n",
    "\n",
    "✅ Polymorphism allows multiple classes to share method names but have different behaviors.\n",
    "\n",
    "✅ Method overriding lets subclasses customize inherited methods.\n",
    "\n",
    "✅ Polymorphism makes code more reusable, modular, and scalable.\n",
    "\n",
    "✅ Built-in functions like `len()` also use polymorphism.\n",
    "\n",
    "🐱 Just like every cat has a unique personality, Python classes can override methods to exhibit their own behaviors!"
   ]
  }
 ],
 "metadata": {
  "kernelspec": {
   "display_name": "engr131_dev",
   "language": "python",
   "name": "python3"
  },
  "language_info": {
   "codemirror_mode": {
    "name": "ipython",
    "version": 3
   },
   "file_extension": ".py",
   "mimetype": "text/x-python",
   "name": "python",
   "nbconvert_exporter": "python",
   "pygments_lexer": "ipython3",
   "version": "3.12.7"
  }
 },
 "nbformat": 4,
 "nbformat_minor": 5
}
