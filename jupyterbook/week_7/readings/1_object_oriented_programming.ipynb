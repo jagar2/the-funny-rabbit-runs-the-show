{
 "cells": [
  {
   "cell_type": "markdown",
   "id": "0",
   "metadata": {},
   "source": [
    "# 🚀 Object-Oriented Programming (OOP) in Python: The Silicon Valley Edition 💻\n"
   ]
  },
  {
   "cell_type": "markdown",
   "id": "1",
   "metadata": {},
   "source": [
    "## 🏢 Welcome to Pied Piper OOP 🚀\n",
    "\n",
    "![](./assets/figures/sv-1.gif)\n",
    "\n",
    "Richard Hendricks' journey in _Silicon Valley_ mirrors the essence of Object-Oriented Programming (OOP). Just like his startup, OOP is about structuring code to be reusable, scalable, and modular. Instead of writing a jumbled mess of functions (a.k.a. a “Code Soup” that even _Jared_ would disapprove of), we break things down into classes and objects, like structuring a well-funded startup.\n"
   ]
  },
  {
   "cell_type": "markdown",
   "id": "2",
   "metadata": {},
   "source": [
    "## 1. What is OOP? 🤖\n",
    "\n",
    "At its core, OOP is a way to organize and model real-world entities using code. It allows us to bundle data (attributes) and behavior (methods) into classes.\n",
    "\n",
    "💡 Think of a class as a startup, and an object as a specific startup instance.\n"
   ]
  },
  {
   "cell_type": "code",
   "execution_count": null,
   "id": "3",
   "metadata": {},
   "outputs": [],
   "source": [
    "class Startup:\n",
    "    def __init__(self, name, founder):\n",
    "        self.name = name\n",
    "        self.founder = founder\n",
    "\n",
    "    def pitch(self):\n",
    "        return f\"Welcome to {self.name}, founded by {self.founder}!\"\n",
    "\n",
    "\n",
    "pied_piper = Startup(\"Pied Piper\", \"Richard Hendricks\")\n",
    "hooli = Startup(\"Hooli\", \"Gavin Belson\")\n",
    "\n",
    "print(pied_piper.pitch())  # Welcome to Pied Piper, founded by Richard Hendricks!\n",
    "print(hooli.pitch())  # Welcome to Hooli, founded by Gavin Belson!"
   ]
  },
  {
   "cell_type": "markdown",
   "id": "4",
   "metadata": {},
   "source": [
    "![](./assets/figures/sv-3.gif)\n",
    "\n",
    "### Why OOP?\n",
    "\n",
    "- Reusability: No need to rewrite similar code for each startup.\n",
    "- Scalability: Easily extend and modify behaviors without breaking existing logic.\n",
    "- Encapsulation: Each startup operates independently, just like in the tech world.\n"
   ]
  },
  {
   "cell_type": "markdown",
   "id": "5",
   "metadata": {},
   "source": [
    "## 2. The Four Pillars of OOP: As Told by the Silicon Valley Gang\n"
   ]
  },
  {
   "cell_type": "markdown",
   "id": "6",
   "metadata": {},
   "source": [
    "### A. Encapsulation 🤐\n",
    "\n",
    "![](./assets/figures/sv-4.gif)\n",
    "\n",
    "_\"That’s proprietary!\"_ - Every big tech company, ever.\n",
    "\n",
    "Encapsulation is hiding the internal workings of an object and only exposing what is necessary. Think of it as proprietary technology, like Pied Piper’s compression algorithm that Richard guards with his life.\n"
   ]
  },
  {
   "cell_type": "code",
   "execution_count": null,
   "id": "7",
   "metadata": {},
   "outputs": [],
   "source": [
    "class CompressionAlgorithm:\n",
    "    def __init__(self):\n",
    "        self.__secret_algorithm = \"Middle-Out\"\n",
    "\n",
    "    def get_algorithm(self):\n",
    "        return \"Sorry, that's proprietary!\"\n",
    "\n",
    "\n",
    "pied_piper_algo = CompressionAlgorithm()\n",
    "print(pied_piper_algo.get_algorithm())  # Sorry, that's proprietary!"
   ]
  },
  {
   "cell_type": "markdown",
   "id": "8",
   "metadata": {},
   "source": [
    "**Well not really, but you get the point.**"
   ]
  },
  {
   "cell_type": "code",
   "execution_count": null,
   "id": "9",
   "metadata": {},
   "outputs": [],
   "source": [
    "# well not really, we can still access the secret algorithm\n",
    "print(pied_piper_algo._CompressionAlgorithm__secret_algorithm)  # Middle-Out"
   ]
  },
  {
   "cell_type": "markdown",
   "id": "10",
   "metadata": {},
   "source": [
    "🔐 Key Takeaway: Use private variables (`var`) to restrict direct access and getter methods** to control what’s exposed."
   ]
  },
  {
   "cell_type": "markdown",
   "id": "11",
   "metadata": {},
   "source": [
    "### B. Inheritance 👶\n",
    "\n",
    "![](./assets/figures/sv-5.webp)\n",
    "\n",
    "_\"Hooli XYZ is just a rip-off of Pied Piper.\"_ - Dinesh, probably.\n",
    "\n",
    "Inheritance allows a class to extend the functionality of another class, just like Hooli stealing Pied Piper’s idea and rebranding it (_cough_ Hooli XYZ _cough_).\n"
   ]
  },
  {
   "cell_type": "code",
   "execution_count": null,
   "id": "12",
   "metadata": {},
   "outputs": [],
   "source": [
    "class Startup:\n",
    "    def __init__(self, name):\n",
    "        self.name = name\n",
    "\n",
    "    def pitch(self):\n",
    "        return f\"Our startup {self.name} is revolutionizing the industry!\"\n",
    "\n",
    "\n",
    "# Hooli tries to steal ideas 🤦‍♂️\n",
    "class HooliXYZ(Startup):\n",
    "    def __init__(self):\n",
    "        super().__init__(\"Hooli XYZ\")\n",
    "\n",
    "    def pitch(self):\n",
    "        return super().pitch() + \" (But worse.)\"\n",
    "\n",
    "\n",
    "hooli_xyz = HooliXYZ()\n",
    "\n",
    "print(\n",
    "    hooli_xyz.pitch()\n",
    ")  # Our startup Hooli XYZ is revolutionizing the industry! (But worse.)"
   ]
  },
  {
   "cell_type": "markdown",
   "id": "13",
   "metadata": {},
   "source": [
    "📌 Key Takeaway: Use `super()` to inherit methods from a parent class."
   ]
  },
  {
   "cell_type": "markdown",
   "id": "14",
   "metadata": {},
   "source": [
    "### C. Polymorphism 🎭\n",
    "\n",
    "![](./assets/figures/sv-6.webp)\n",
    "\n",
    "_\"The same function, different behavior.\"_ - Gilfoyle, explaining server architectures.\n",
    "\n",
    "Polymorphism means different objects can share the same method but behave differently. It's like how both Richard and Gavin can \"pitch\" a product, but one is actually innovative while the other is just corporate nonsense.\n"
   ]
  },
  {
   "cell_type": "code",
   "execution_count": null,
   "id": "15",
   "metadata": {},
   "outputs": [],
   "source": [
    "class Programmer:\n",
    "    def code(self):\n",
    "        return \"Writing elegant Python code.\"\n",
    "\n",
    "\n",
    "class BusinessGuy:\n",
    "    def code(self):\n",
    "        return \"Writing corporate buzzwords in PowerPoint.\"\n",
    "\n",
    "\n",
    "def work(person):\n",
    "    print(person.code())\n",
    "\n",
    "\n",
    "richard = Programmer()\n",
    "gavin = BusinessGuy()\n",
    "\n",
    "work(richard)  # Writing elegant Python code.\n",
    "work(gavin)  # Writing corporate buzzwords in PowerPoint."
   ]
  },
  {
   "cell_type": "markdown",
   "id": "16",
   "metadata": {},
   "source": [
    "🤹 Key Takeaway: Methods like `.code()` exist in different classes but behave according to their specific implementation."
   ]
  },
  {
   "cell_type": "markdown",
   "id": "17",
   "metadata": {},
   "source": [
    "### D. Abstraction 🕵️‍♂️\n",
    "\n",
    "_\"Just use the API, don’t worry about the details.\"_ - Every SaaS company.\n",
    "\n",
    "Abstraction means hiding complex details and exposing only what is necessary. The average developer doesn’t need to know how Pied Piper’s AI-driven decentralized internet works—just that it compresses data.\n"
   ]
  },
  {
   "cell_type": "code",
   "execution_count": null,
   "id": "18",
   "metadata": {},
   "outputs": [],
   "source": [
    "from abc import ABC, abstractmethod\n",
    "\n",
    "class CloudService(ABC):\n",
    "    @abstractmethod\n",
    "    def deploy(self):\n",
    "        pass  # Must be implemented by subclasses\n",
    "\n",
    "\n",
    "class AWS(CloudService):\n",
    "    def deploy(self):\n",
    "        return \"Deploying to AWS (and preparing for massive billing).\"\n",
    "\n",
    "\n",
    "class PiedPiperNet(CloudService):\n",
    "    def deploy(self):\n",
    "        return \"Deploying on Pied Piper's decentralized internet.\"\n",
    "\n",
    "def launch(service):\n",
    "    print(service.deploy())\n",
    "\n",
    "aws = AWS()\n",
    "pied_piper_net = PiedPiperNet()\n",
    "\n",
    "launch(aws)  # Deploying to AWS (and preparing for massive billing).\n",
    "launch(pied_piper_net)  # Deploying on Pied Piper's decentralized internet."
   ]
  },
  {
   "cell_type": "markdown",
   "id": "19",
   "metadata": {},
   "source": [
    "🎭 Key Takeaway: Use abstract classes (`ABC`) to enforce structure without exposing unnecessary complexity."
   ]
  },
  {
   "cell_type": "markdown",
   "id": "20",
   "metadata": {},
   "source": [
    "## 3. OOP in the Real Tech World 🌍\n",
    "\n",
    "- Encapsulation: Private APIs (like Google’s internal services).\n",
    "- Inheritance: Frameworks (e.g., Django’s `BaseUser` class).\n",
    "- Polymorphism: Duck typing in Python (`len()` works on both lists and strings).\n",
    "- Abstraction: SaaS platforms (AWS, Firebase) abstract away infrastructure.\n"
   ]
  },
  {
   "cell_type": "markdown",
   "id": "21",
   "metadata": {},
   "source": [
    "## Final Thoughts: Would Gilfoyle Approve?\n",
    "\n",
    "Using OOP in Python makes code more maintainable and scalable, just like how Pied Piper went from a garage startup to a decentralized internet empire (almost). Whether you're writing server-side compression algorithms or glorified CRUD apps, OOP helps you structure code like a well-run startup.\n",
    "\n",
    "⚡ _\"This is the future. And the future is object-oriented.\"_ - Probably Gilfoyle, in some dystopian speech.\n"
   ]
  },
  {
   "cell_type": "markdown",
   "id": "22",
   "metadata": {},
   "source": [
    "## 🚀 Quick OOP Recap (Silicon Valley Edition)\n",
    "\n",
    "| OOP Concept   | Silicon Valley Analogy          |\n",
    "| ----------------- | ----------------------------------- |\n",
    "| Encapsulation | Proprietary algorithms (Middle-Out) |\n",
    "| Inheritance   | Hooli copying Pied Piper            |\n",
    "| Polymorphism  | Richard vs. Gavin pitching          |\n",
    "| Abstraction   | SaaS platforms hiding complexity    |\n"
   ]
  },
  {
   "cell_type": "markdown",
   "id": "23",
   "metadata": {},
   "source": [
    "## Next Steps: Build Your Own Tech Empire\n",
    "\n",
    "🔥 Now that you understand Object-Oriented Programming, try implementing:\n"
   ]
  },
  {
   "cell_type": "markdown",
   "id": "24",
   "metadata": {},
   "source": [
    "1. A class-based model for a startup incubator."
   ]
  },
  {
   "cell_type": "markdown",
   "id": "25",
   "metadata": {},
   "source": [
    "2. An API for handling venture capital investments."
   ]
  },
  {
   "cell_type": "markdown",
   "id": "26",
   "metadata": {},
   "source": [
    "3. An AI-driven version of Jian-Yang’s “Not Hotdog” app.\n",
    "\n",
    "👨‍💻 Remember: \"You need to fail. You need to get your heart broken. And then you need to get rejected. You need to be defeated.\" - Jared Dunn (Also, what debugging feels like). 🚀\n",
    "\n",
    "We will continue covering these concepts in more detail in the upcoming readings and labs. Stay tuned for more tech insights from the Pied Piper team!"
   ]
  }
 ],
 "metadata": {
  "kernelspec": {
   "display_name": "engr131_dev",
   "language": "python",
   "name": "python3"
  },
  "language_info": {
   "codemirror_mode": {
    "name": "ipython",
    "version": 3
   },
   "file_extension": ".py",
   "mimetype": "text/x-python",
   "name": "python",
   "nbconvert_exporter": "python",
   "pygments_lexer": "ipython3",
   "version": "3.12.7"
  }
 },
 "nbformat": 4,
 "nbformat_minor": 5
}
