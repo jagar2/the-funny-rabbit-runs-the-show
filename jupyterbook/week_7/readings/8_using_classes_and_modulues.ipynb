{
 "cells": [
  {
   "cell_type": "markdown",
   "id": "0",
   "metadata": {},
   "source": [
    "# 🚀 Advanced Python Classes: Unlocking Their Power\n",
    "\n",
    "![](./assets/figures/j5.gif)\n"
   ]
  },
  {
   "cell_type": "markdown",
   "id": "1",
   "metadata": {},
   "source": [
    "## 🏗️ Introduction\n",
    "Python classes offer more than just data storage. They enable automation, dynamic content generation, and even interactive capabilities like text-to-speech. This guide explores four advanced uses of Python classes that make coding more efficient and fun.\n"
   ]
  },
  {
   "cell_type": "markdown",
   "id": "2",
   "metadata": {},
   "source": [
    "## ⏳ 1️⃣ Creating a Self-Updating Timer\n"
   ]
  },
  {
   "cell_type": "markdown",
   "id": "3",
   "metadata": {},
   "source": [
    "### Why Use It?\n",
    "A timer class can dynamically track elapsed time, which is useful for benchmarking scripts or measuring execution duration.\n"
   ]
  },
  {
   "cell_type": "markdown",
   "id": "4",
   "metadata": {},
   "source": [
    "### Implementation"
   ]
  },
  {
   "cell_type": "code",
   "execution_count": null,
   "id": "5",
   "metadata": {},
   "outputs": [],
   "source": [
    "import time\n",
    "\n",
    "class Timer:\n",
    "    def __init__(self):\n",
    "        self.start_time = time.time()\n",
    "\n",
    "    def elapsed(self):\n",
    "        return f\"⏳ {time.time() - self.start_time:.2f} seconds elapsed\""
   ]
  },
  {
   "cell_type": "markdown",
   "id": "6",
   "metadata": {},
   "source": [
    "### Example Usage"
   ]
  },
  {
   "cell_type": "code",
   "execution_count": null,
   "id": "7",
   "metadata": {},
   "outputs": [],
   "source": [
    "my_timer = Timer()\n",
    "time.sleep(2)\n",
    "print(my_timer.elapsed())  # ⏳ 2.00 seconds elapsed"
   ]
  },
  {
   "cell_type": "markdown",
   "id": "8",
   "metadata": {},
   "source": [
    "\n",
    "This simple class allows you to track elapsed time effortlessly within any Python script.\n"
   ]
  },
  {
   "cell_type": "markdown",
   "id": "9",
   "metadata": {},
   "source": [
    "## 🌐 2️⃣ Generating HTML Dynamically\n"
   ]
  },
  {
   "cell_type": "markdown",
   "id": "10",
   "metadata": {},
   "source": [
    "### Why Use It?\n",
    "Instead of manually writing HTML, use a class to generate structured web content dynamically.\n"
   ]
  },
  {
   "cell_type": "markdown",
   "id": "11",
   "metadata": {},
   "source": [
    "### Implementation"
   ]
  },
  {
   "cell_type": "code",
   "execution_count": null,
   "id": "12",
   "metadata": {},
   "outputs": [],
   "source": [
    "class HTMLPage:\n",
    "    def __init__(self, title):\n",
    "        self.title = title\n",
    "        self.body = \"\"\n",
    "\n",
    "    def add_paragraph(self, text):\n",
    "        self.body += f\"<p>{text}</p>\\n\"\n",
    "\n",
    "    def render(self):\n",
    "        return f\"\"\"<html>\n",
    "<head><title>{self.title}</title></head>\n",
    "<body>\n",
    "{self.body}\n",
    "</body>\n",
    "</html>\"\"\""
   ]
  },
  {
   "cell_type": "markdown",
   "id": "13",
   "metadata": {},
   "source": [
    "### Example Usage"
   ]
  },
  {
   "cell_type": "code",
   "execution_count": null,
   "id": "14",
   "metadata": {},
   "outputs": [],
   "source": [
    "page = HTMLPage(\"Dynamic Page\")\n",
    "page.add_paragraph(\"Welcome to this auto-generated webpage!\")\n",
    "page.add_paragraph(\"Powered by Python classes.\")\n",
    "print(page.render())"
   ]
  },
  {
   "cell_type": "markdown",
   "id": "15",
   "metadata": {},
   "source": [
    "This method is great for automating content creation for websites, reports, and emails.\n"
   ]
  },
  {
   "cell_type": "markdown",
   "id": "16",
   "metadata": {},
   "source": [
    "## 🔊 3️⃣ Enabling Text-to-Speech with Python\n"
   ]
  },
  {
   "cell_type": "markdown",
   "id": "17",
   "metadata": {},
   "source": [
    "### Why Use It?\n",
    "Turn text into speech with `pyttsx3`, allowing Python scripts to interact audibly.\n"
   ]
  },
  {
   "cell_type": "markdown",
   "id": "18",
   "metadata": {},
   "source": [
    "### Implementation"
   ]
  },
  {
   "cell_type": "code",
   "execution_count": null,
   "id": "19",
   "metadata": {},
   "outputs": [],
   "source": [
    "import pyttsx3\n",
    "\n",
    "\n",
    "class Speaker:\n",
    "    def __init__(self, voice_rate=150):\n",
    "        self.engine = pyttsx3.init()\n",
    "        self.engine.setProperty(\"rate\", voice_rate)\n",
    "\n",
    "    def say(self, text):\n",
    "        self.engine.say(text)\n",
    "        self.engine.runAndWait()"
   ]
  },
  {
   "cell_type": "markdown",
   "id": "20",
   "metadata": {},
   "source": [
    "### Example Usage"
   ]
  },
  {
   "cell_type": "code",
   "execution_count": null,
   "id": "21",
   "metadata": {},
   "outputs": [],
   "source": [
    "s = Speaker()\n",
    "s.say(\"Hello! I am a Python class that speaks!\")"
   ]
  },
  {
   "cell_type": "markdown",
   "id": "22",
   "metadata": {},
   "source": [
    "This approach is useful for accessibility, notifications, or AI-powered assistants. Note, this likely will not work on your jupyter notebook because of dependencies.\n"
   ]
  },
  {
   "cell_type": "markdown",
   "id": "23",
   "metadata": {},
   "source": [
    "## 🤖 4️⃣ Building a Neural Network for MNIST\n"
   ]
  },
  {
   "cell_type": "markdown",
   "id": "24",
   "metadata": {},
   "source": [
    "### Why Use It?\n",
    "Neural networks power modern AI applications. This class defines a simple model to recognize handwritten digits using PyTorch.\n"
   ]
  },
  {
   "cell_type": "markdown",
   "id": "25",
   "metadata": {},
   "source": [
    "### Implementation"
   ]
  },
  {
   "cell_type": "code",
   "execution_count": null,
   "id": "26",
   "metadata": {},
   "outputs": [],
   "source": [
    "import torch\n",
    "import torch.nn as nn\n",
    "import torch.optim as optim\n",
    "import torchvision\n",
    "import torchvision.transforms as transforms\n",
    "import matplotlib.pyplot as plt\n",
    "\n",
    "\n",
    "# ✅ 1. Define the Neural Network\n",
    "class NeuralNetwork(nn.Module):\n",
    "    def __init__(self):\n",
    "        super(NeuralNetwork, self).__init__()\n",
    "        self.layer1 = nn.Linear(28 * 28, 128)\n",
    "        self.layer2 = nn.Linear(128, 64)\n",
    "        self.output_layer = nn.Linear(64, 10)\n",
    "        self.activation = nn.ReLU()\n",
    "        self.softmax = nn.LogSoftmax(dim=1)\n",
    "\n",
    "    def forward(self, x):\n",
    "        x = x.view(-1, 28 * 28)  # Flatten input\n",
    "        x = self.activation(self.layer1(x))\n",
    "        x = self.activation(self.layer2(x))\n",
    "        x = self.softmax(self.output_layer(x))\n",
    "        return x\n",
    "\n",
    "\n",
    "# ✅ 2. Load MNIST Dataset\n",
    "transform = transforms.Compose(\n",
    "    [transforms.ToTensor(), transforms.Normalize((0.5,), (0.5,))]\n",
    ")\n",
    "\n",
    "train_dataset = torchvision.datasets.MNIST(\n",
    "    root=\"./data\", train=True, transform=transform, download=True\n",
    ")\n",
    "test_dataset = torchvision.datasets.MNIST(\n",
    "    root=\"./data\", train=False, transform=transform, download=True\n",
    ")\n",
    "\n",
    "train_loader = torch.utils.data.DataLoader(train_dataset, batch_size=64, shuffle=True)\n",
    "test_loader = torch.utils.data.DataLoader(test_dataset, batch_size=64, shuffle=False)\n",
    "\n",
    "# ✅ 3. Initialize Model, Loss, and Optimizer\n",
    "device = torch.device(\"cuda\" if torch.cuda.is_available() else \"cpu\")\n",
    "model = NeuralNetwork().to(device)\n",
    "criterion = nn.CrossEntropyLoss()\n",
    "optimizer = optim.Adam(model.parameters(), lr=0.001)\n",
    "\n",
    "\n",
    "# ✅ 4. Training the Model\n",
    "def train_model(model, train_loader, criterion, optimizer, epochs=5):\n",
    "    model.train()\n",
    "    for epoch in range(epochs):\n",
    "        total_loss = 0\n",
    "        for images, labels in train_loader:\n",
    "            images, labels = images.to(device), labels.to(device)\n",
    "\n",
    "            optimizer.zero_grad()\n",
    "            outputs = model(images)\n",
    "            loss = criterion(outputs, labels)\n",
    "            loss.backward()\n",
    "            optimizer.step()\n",
    "            total_loss += loss.item()\n",
    "\n",
    "        print(f\"Epoch [{epoch+1}/{epochs}], Loss: {total_loss/len(train_loader):.4f}\")\n",
    "\n",
    "\n",
    "train_model(model, train_loader, criterion, optimizer, epochs=5)\n",
    "\n",
    "\n",
    "# ✅ 5. Evaluating the Model\n",
    "def evaluate_model(model, test_loader):\n",
    "    model.eval()\n",
    "    correct, total = 0, 0\n",
    "\n",
    "    with torch.no_grad():\n",
    "        for images, labels in test_loader:\n",
    "            images, labels = images.to(device), labels.to(device)\n",
    "            outputs = model(images)\n",
    "            _, predicted = torch.max(outputs, 1)\n",
    "            total += labels.size(0)\n",
    "            correct += (predicted == labels).sum().item()\n",
    "\n",
    "    print(f\"Test Accuracy: {100 * correct / total:.2f}%\")\n",
    "\n",
    "\n",
    "evaluate_model(model, test_loader)\n",
    "\n",
    "\n",
    "# ✅ 6. Visualizing Some Predictions\n",
    "def visualize_predictions(model, test_loader):\n",
    "    model.eval()\n",
    "    images, labels = next(iter(test_loader))\n",
    "    images, labels = images.to(device), labels.to(device)\n",
    "\n",
    "    with torch.no_grad():\n",
    "        outputs = model(images)\n",
    "        _, predicted = torch.max(outputs, 1)\n",
    "\n",
    "    # Plot images with predictions\n",
    "    fig, axes = plt.subplots(1, 6, figsize=(12, 4))\n",
    "    for i in range(6):\n",
    "        axes[i].imshow(images[i].cpu().reshape(28, 28), cmap=\"gray\")\n",
    "        axes[i].set_title(f\"Pred: {predicted[i].item()}\")\n",
    "        axes[i].axis(\"off\")\n",
    "\n",
    "    plt.show()\n",
    "\n",
    "\n",
    "visualize_predictions(model, test_loader)"
   ]
  },
  {
   "cell_type": "markdown",
   "id": "27",
   "metadata": {},
   "source": [
    "This class structure makes AI model implementation modular and reusable.\n"
   ]
  },
  {
   "cell_type": "markdown",
   "id": "28",
   "metadata": {},
   "source": [
    "## 📌 Conclusion\n",
    "Python classes enable powerful automation and abstraction. Whether for tracking time, generating web content, interacting with users, or implementing AI, classes allow for scalable and maintainable code.\n",
    "\n",
    "✅ Timers make benchmarking easy.\n",
    "\n",
    "✅ Dynamic HTML generation streamlines web development.\n",
    "\n",
    "✅ Text-to-speech enhances interactivity.\n",
    "\n",
    "✅ Neural networks power AI applications.\n",
    "\n",
    "🚀 Leverage Python classes to write cleaner, more powerful code today!\n"
   ]
  },
  {
   "cell_type": "markdown",
   "id": "29",
   "metadata": {},
   "source": []
  }
 ],
 "metadata": {
  "kernelspec": {
   "display_name": "engr131_dev",
   "language": "python",
   "name": "python3"
  },
  "language_info": {
   "codemirror_mode": {
    "name": "ipython",
    "version": 3
   },
   "file_extension": ".py",
   "mimetype": "text/x-python",
   "name": "python",
   "nbconvert_exporter": "python",
   "pygments_lexer": "ipython3",
   "version": "3.12.7"
  }
 },
 "nbformat": 4,
 "nbformat_minor": 5
}
