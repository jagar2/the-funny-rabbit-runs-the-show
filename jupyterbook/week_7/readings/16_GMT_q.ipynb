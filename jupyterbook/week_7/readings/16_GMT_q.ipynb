{
 "cells": [
  {
   "cell_type": "code",
   "execution_count": null,
   "id": "0",
   "metadata": {
    "deletable": false,
    "editable": false,
    "tags": [
     "skip-execution"
    ]
   },
   "outputs": [],
   "source": [
    "# You must make sure to run all cells in sequence using shift + enter or you might encounter errors\n",
    "from pykubegrader.initialize import initialize_assignment\n",
    "\n",
    "responses = initialize_assignment(\"16_GMT_q\", \"week_7\", \"readings\", assignment_points = 21.0, assignment_tag = 'week7-readings')\n",
    "\n",
    "# Initialize Otter\n",
    "import otter\n",
    "grader = otter.Notebook(\"16_GMT_q.ipynb\")"
   ]
  },
  {
   "cell_type": "markdown",
   "id": "1",
   "metadata": {
    "deletable": false,
    "editable": false
   },
   "source": [
    "# ⌚ Multiple Inheritance in Python: The Rolex GMT Master\n",
    "\n",
    "![](./assets/figures/GMT-rolex.jpg)\n",
    "\n",
    "The **Rolex GMT-Master** is one of the most iconic watches ever created, designed for **pilots and travelers** who needed to track multiple time zones. The watch combines **precise movement**, **durability**, and **aesthetic elegance**.  \n",
    "\n",
    "Similarly, in Python, **multiple inheritance** allows a class to combine **features from multiple parent classes**, just like the **GMT-Master blends aviation functionality with luxury craftsmanship**.  \n",
    "\n",
    "Let’s explore how **multiple inheritance** enables us to **design complex and versatile class structures**—just like Rolex engineers do when crafting legendary watches."
   ]
  },
  {
   "cell_type": "code",
   "execution_count": null,
   "id": "2",
   "metadata": {
    "tags": [
     "skip-execution"
    ]
   },
   "outputs": [],
   "source": [
    "# Run this block of code by pressing Shift + Enter to display the question\n",
    "from questions._16_GMT_q import Question1\n",
    "Question1().show()\n"
   ]
  },
  {
   "cell_type": "code",
   "execution_count": null,
   "id": "3",
   "metadata": {
    "tags": [
     "skip-execution"
    ]
   },
   "outputs": [],
   "source": [
    "# Run this block of code by pressing Shift + Enter to display the question\n",
    "from questions._16_GMT_q import Question2\n",
    "Question2().show()\n"
   ]
  },
  {
   "cell_type": "code",
   "execution_count": null,
   "id": "4",
   "metadata": {
    "tags": [
     "skip-execution"
    ]
   },
   "outputs": [],
   "source": [
    "# Run this block of code by pressing Shift + Enter to display the question\n",
    "from questions._16_GMT_q import Question3\n",
    "Question3().show()\n"
   ]
  },
  {
   "cell_type": "markdown",
   "id": "5",
   "metadata": {
    "deletable": false,
    "editable": false
   },
   "source": [
    "## Question 1 (Points: 12.0): ⌚ Free Response: Implement Multiple Inheritance for a Rolex GMT Watch\n",
    "\n",
    "Design a **Python class structure** that models a **Rolex GMT-Master watch** using **multiple inheritance**:\n",
    "\n",
    "- Create a **base class** `Timekeeping` with:\n",
    "    - A method `show_time()` that returns `\"Showing local time.\"`\n",
    "- Create another **base class** `GMTFunctionality` with:\n",
    "    - A method `show_gmt()` that returns `\"Showing GMT time.\"`\n",
    "- Create a subclass `RolexGMT` that:\n",
    "    - Inherits from **both** `Timekeeping` and `GMTFunctionality`.\n",
    "    - Overrides `show_time()` to include **both local and GMT time**.\n",
    "\n",
    "### **Example Usage**\n",
    "```python\n",
    "watch = RolexGMT()\n",
    "print(watch.show_time())\n",
    "print(watch.show_gmt())\n",
    "```\n",
    "**Expected Output:**\n",
    "```\n",
    "Local Time: Showing local time.\n",
    "GMT Time: Showing GMT time.\n",
    "```"
   ]
  },
  {
   "cell_type": "code",
   "execution_count": null,
   "id": "6",
   "metadata": {
    "tags": [
     "skip-execution"
    ]
   },
   "outputs": [],
   "source": [
    "...\n",
    "\n",
    "# Example usage\n",
    "watch = RolexGMT()\n",
    "print(watch.show_time())\n",
    "print(watch.show_gmt())"
   ]
  },
  {
   "cell_type": "code",
   "execution_count": null,
   "id": "7",
   "metadata": {
    "deletable": false,
    "editable": false,
    "tags": [
     "skip-execution"
    ]
   },
   "outputs": [],
   "source": [
    "grader.check(\"Rolex-GMT-Multiple-Inheritance\")"
   ]
  },
  {
   "cell_type": "markdown",
   "id": "8",
   "metadata": {},
   "source": [
    "## Submitting Assignment\n",
    "\n",
    "Please run the following block of code using `shift + enter` to submit your assignment, you should see your score."
   ]
  },
  {
   "cell_type": "code",
   "execution_count": null,
   "id": "9",
   "metadata": {
    "deletable": false,
    "editable": true,
    "tags": [
     "skip-execution"
    ]
   },
   "outputs": [],
   "source": [
    "from pykubegrader.submit.submit_assignment import submit_assignment\n",
    "\n",
    "submit_assignment(\"week7-readings\", \"16_GMT_q\")"
   ]
  }
 ],
 "metadata": {
  "kernelspec": {
   "display_name": "dev_venv",
   "language": "python",
   "name": "python3"
  },
  "language_info": {
   "codemirror_mode": {
    "name": "ipython",
    "version": 3
   },
   "file_extension": ".py",
   "mimetype": "text/x-python",
   "name": "python",
   "nbconvert_exporter": "python",
   "pygments_lexer": "ipython3",
   "version": "3.13.1"
  },
  "otter": {
   "OK_FORMAT": true,
   "tests": {
    "Rolex-GMT-Multiple-Inheritance": {
     "name": "Rolex-GMT-Multiple-Inheritance",
     "points": null,
     "suites": [
      {
       "cases": [
        {
         "code": ">>> from pykubegrader.telemetry import ensure_responses, log_variable, score_question, submit_question, telemetry, update_responses\n>>> import os\n>>> import base64\n>>> max_question_points = str(12.0)\n>>> earned_points = 0\n>>> os.environ['EARNED_POINTS'] = str(earned_points)\n>>> os.environ['TOTAL_POINTS_FREE_RESPONSE'] = str(12.0)\n>>> log_variable('total-points', f'week7-readings, 16_GMT_q', 12.0)\n>>> question_id = 'Rolex-GMT-Multiple-Inheritance-1'\n>>> max_score = 3.0\n>>> score = 0\n>>> t = Timekeeping()\n>>> assert t.show_time() == 'Showing local time.', 'Incorrect Timekeeping method output.'\n>>> if t.show_time() == 'Showing local time.':\n...     score = 3.0\n>>> earned_points = float(os.environ.get('EARNED_POINTS', 0))\n>>> earned_points += score\n>>> log_variable('16_GMT_q', f'{score}, {max_score}', question_id)\n>>> os.environ['EARNED_POINTS'] = str(earned_points)\n",
         "failure_message": "Failed: The base Timekeeping class is missing required methods.",
         "hidden": false,
         "locked": false,
         "points": 3,
         "success_message": "Success: The base Timekeeping class initializes correctly!"
        },
        {
         "code": ">>> from pykubegrader.telemetry import ensure_responses, log_variable, score_question, submit_question, telemetry, update_responses\n>>> import os\n>>> import base64\n>>> question_id = 'Rolex-GMT-Multiple-Inheritance-2'\n>>> max_score = 3.0\n>>> score = 0\n>>> g = GMTFunctionality()\n>>> condition = g.show_gmt() == 'Showing GMT time.'\n>>> assert condition, 'Incorrect GMTFunctionality method output.'\n>>> if condition:\n...     score = 3.0\n>>> earned_points = float(os.environ.get('EARNED_POINTS', 0))\n>>> earned_points += score\n>>> log_variable('16_GMT_q', f'{score}, {max_score}', question_id)\n>>> os.environ['EARNED_POINTS'] = str(earned_points)\n",
         "failure_message": "Failed: The GMTFunctionality class is missing required methods.",
         "hidden": false,
         "locked": false,
         "points": 3,
         "success_message": "Success: The GMTFunctionality class initializes correctly!"
        },
        {
         "code": ">>> from pykubegrader.telemetry import ensure_responses, log_variable, score_question, submit_question, telemetry, update_responses\n>>> import os\n>>> import base64\n>>> question_id = 'Rolex-GMT-Multiple-Inheritance-3'\n>>> max_score = 3.0\n>>> score = 0\n>>> r = RolexGMT()\n>>> condition = isinstance(r, Timekeeping) and isinstance(r, GMTFunctionality)\n>>> assert condition, 'RolexGMT does not inherit properly.'\n>>> if condition:\n...     score = 3.0\n>>> earned_points = float(os.environ.get('EARNED_POINTS', 0))\n>>> earned_points += score\n>>> log_variable('16_GMT_q', f'{score}, {max_score}', question_id)\n>>> os.environ['EARNED_POINTS'] = str(earned_points)\n",
         "failure_message": "Failed: RolexGMT does not inherit properly from both base classes.",
         "hidden": false,
         "locked": false,
         "points": 3,
         "success_message": "Success: The RolexGMT class correctly inherits from both base classes!"
        },
        {
         "code": ">>> from pykubegrader.telemetry import ensure_responses, log_variable, score_question, submit_question, telemetry, update_responses\n>>> import os\n>>> import base64\n>>> question_id = 'Rolex-GMT-Multiple-Inheritance-4'\n>>> max_score = 3.0\n>>> score = 0\n>>> r = RolexGMT()\n>>> output = r.show_time()\n>>> expected_local = 'Local Time: Showing local time.'\n>>> expected_gmt = 'GMT Time: Showing GMT time.'\n>>> condition = expected_local in output and expected_gmt in output\n>>> assert condition, 'RolexGMT show_time() is missing required outputs.'\n>>> if condition:\n...     score = 3.0\n>>> earned_points = float(os.environ.get('EARNED_POINTS', 0))\n>>> earned_points += score\n>>> log_variable('16_GMT_q', f'{score}, {max_score}', question_id)\n>>> os.environ['EARNED_POINTS'] = str(earned_points)\n",
         "failure_message": "Failed: RolexGMT show_time() does not include both local and GMT time.",
         "hidden": false,
         "locked": false,
         "points": 3,
         "success_message": "Success: The RolexGMT class correctly overrides show_time()!"
        }
       ],
       "scored": true,
       "setup": "",
       "teardown": "",
       "type": "doctest"
      }
     ]
    }
   }
  }
 },
 "nbformat": 4,
 "nbformat_minor": 5
}
