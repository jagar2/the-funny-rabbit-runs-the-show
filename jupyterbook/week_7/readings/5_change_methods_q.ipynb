{
 "cells": [
  {
   "cell_type": "code",
   "execution_count": null,
   "id": "0",
   "metadata": {
    "deletable": false,
    "editable": false,
    "tags": [
     "skip-execution"
    ]
   },
   "outputs": [],
   "source": [
    "# You must make sure to run all cells in sequence using shift + enter or you might encounter errors\n",
    "from pykubegrader.initialize import initialize_assignment\n",
    "\n",
    "responses = initialize_assignment(\"5_change_methods_q\", \"week_7\", \"readings\", assignment_points = 26.0, assignment_tag = 'week7-readings')\n",
    "\n",
    "# Initialize Otter\n",
    "import otter\n",
    "grader = otter.Notebook(\"5_change_methods_q.ipynb\")"
   ]
  },
  {
   "cell_type": "markdown",
   "id": "1",
   "metadata": {
    "deletable": false,
    "editable": false
   },
   "source": [
    "# ❓✍️ Implementing Change Methods in Classes: The Evolution of Helvetica\n",
    "\n",
    "<iframe width=\"560\" height=\"315\" src=\"https://www.youtube.com/embed/Ayg_K_CR2tc?si=peNGIzO6iducMzPX\" title=\"YouTube video player\" frameborder=\"0\" allow=\"accelerometer; autoplay; clipboard-write; encrypted-media; gyroscope; picture-in-picture; web-share\" referrerpolicy=\"strict-origin-when-cross-origin\" allowfullscreen></iframe>\n",
    "\n",
    "\n",
    "Helvetica, one of the most iconic typefaces, has undergone several refinements since its creation in **1957** by Swiss type designer **Max Miedinger**. Originally named **Neue Haas Grotesk**, it was later adapted and rebranded as **Helvetica** to appeal to international audiences.  \n",
    "\n",
    "Just as Helvetica was updated and refined over time, we often need to **modify objects in Python classes** by implementing **change methods** that update attributes dynamically. Let’s explore how Python **change methods** can help model **the evolution of Helvetica** in an object-oriented way!"
   ]
  },
  {
   "cell_type": "code",
   "execution_count": null,
   "id": "2",
   "metadata": {
    "tags": [
     "skip-execution"
    ]
   },
   "outputs": [],
   "source": [
    "# Run this block of code by pressing Shift + Enter to display the question\n",
    "from questions._5_change_methods_q import Question1\n",
    "Question1().show()\n"
   ]
  },
  {
   "cell_type": "code",
   "execution_count": null,
   "id": "3",
   "metadata": {
    "tags": [
     "skip-execution"
    ]
   },
   "outputs": [],
   "source": [
    "# Run this block of code by pressing Shift + Enter to display the question\n",
    "from questions._5_change_methods_q import Question2\n",
    "Question2().show()\n"
   ]
  },
  {
   "cell_type": "code",
   "execution_count": null,
   "id": "4",
   "metadata": {
    "tags": [
     "skip-execution"
    ]
   },
   "outputs": [],
   "source": [
    "# Run this block of code by pressing Shift + Enter to display the question\n",
    "from questions._5_change_methods_q import Question3\n",
    "Question3().show()\n"
   ]
  },
  {
   "cell_type": "markdown",
   "id": "5",
   "metadata": {
    "deletable": false,
    "editable": false
   },
   "source": [
    "## Question 1 (Points: 17.0): 🖋️ Free Response: Implement Change Methods for a `Font` Class\n",
    "\n",
    "Design a Python class **`Font`** that models the **evolution of Helvetica**. Your class should:\n",
    "\n",
    "- Have attributes for **name**, **size**, and **weight** (e.g., `\"Helvetica\"`, `12`, `\"Regular\"`).\n",
    "- Include the following **change methods**:\n",
    "    - `update_name(self, new_name)`: Changes the font name.\n",
    "    - `set_size(self, new_size)`: Updates the font size.\n",
    "    - `change_weight(self, new_weight)`: Adjusts the font weight.\n",
    "    - **(Bonus)** Return `self` in each method to allow **method chaining**.\n",
    "\n",
    "### **Example Usage**\n",
    "```python\n",
    "f = Font(\"Helvetica\", 12, \"Regular\")\n",
    "f.update_name(\"Helvetica Neue\").set_size(14).change_weight(\"Bold\")\n",
    "print(f.name, f.size, f.weight)  # Output: Helvetica Neue 14 Bold\n",
    "```"
   ]
  },
  {
   "cell_type": "code",
   "execution_count": null,
   "id": "6",
   "metadata": {
    "tags": [
     "skip-execution"
    ]
   },
   "outputs": [],
   "source": [
    "...\n",
    "\n",
    "# Example usage\n",
    "f = Font(\"Helvetica\", 12, \"Regular\")\n",
    "f.update_name(\"Helvetica Neue\").set_size(14).change_weight(\"Bold\")\n",
    "print(f.name, f.size, f.weight)  # Expected: Helvetica Neue 14 Bold"
   ]
  },
  {
   "cell_type": "code",
   "execution_count": null,
   "id": "7",
   "metadata": {
    "deletable": false,
    "editable": false,
    "tags": [
     "skip-execution"
    ]
   },
   "outputs": [],
   "source": [
    "grader.check(\"Helvetica-Class-Methods\")"
   ]
  },
  {
   "cell_type": "markdown",
   "id": "8",
   "metadata": {},
   "source": [
    "## Submitting Assignment\n",
    "\n",
    "Please run the following block of code using `shift + enter` to submit your assignment, you should see your score."
   ]
  },
  {
   "cell_type": "code",
   "execution_count": null,
   "id": "9",
   "metadata": {
    "deletable": false,
    "editable": true,
    "tags": [
     "skip-execution"
    ]
   },
   "outputs": [],
   "source": [
    "from pykubegrader.submit.submit_assignment import submit_assignment\n",
    "\n",
    "submit_assignment(\"week7-readings\", \"5_change_methods_q\")"
   ]
  }
 ],
 "metadata": {
  "kernelspec": {
   "display_name": "dev_venv",
   "language": "python",
   "name": "python3"
  },
  "language_info": {
   "codemirror_mode": {
    "name": "ipython",
    "version": 3
   },
   "file_extension": ".py",
   "mimetype": "text/x-python",
   "name": "python",
   "nbconvert_exporter": "python",
   "pygments_lexer": "ipython3",
   "version": "3.13.1"
  },
  "otter": {
   "OK_FORMAT": true,
   "tests": {
    "Helvetica-Class-Methods": {
     "name": "Helvetica-Class-Methods",
     "points": null,
     "suites": [
      {
       "cases": [
        {
         "code": ">>> from pykubegrader.telemetry import ensure_responses, log_variable, score_question, submit_question, telemetry, update_responses\n>>> import os\n>>> import base64\n>>> max_question_points = str(17.0)\n>>> earned_points = 0\n>>> os.environ['EARNED_POINTS'] = str(earned_points)\n>>> os.environ['TOTAL_POINTS_FREE_RESPONSE'] = str(17.0)\n>>> log_variable('total-points', f'week7-readings, 5_change_methods_q', 17.0)\n>>> question_id = 'Helvetica-Class-Methods-1'\n>>> max_score = 1.0\n>>> score = 0\n>>> class_exists = 'Font' in globals()\n>>> assert class_exists, 'The class `Font` must be defined in the script.'\n>>> if class_exists:\n...     score = 1.0\n>>> earned_points = float(os.environ.get('EARNED_POINTS', 0))\n>>> earned_points += score\n>>> log_variable('5_change_methods_q', f'{score}, {max_score}', question_id)\n>>> os.environ['EARNED_POINTS'] = str(earned_points)\n>>> responses = update_responses(question_id, str(class_exists))\n",
         "failure_message": "Failed: `Font` class is not defined.",
         "hidden": false,
         "locked": false,
         "points": 1,
         "success_message": "Success: `Font` class is defined!"
        },
        {
         "code": ">>> from pykubegrader.telemetry import ensure_responses, log_variable, score_question, submit_question, telemetry, update_responses\n>>> import os\n>>> import base64\n>>> question_id = 'Helvetica-Class-Methods-2'\n>>> max_score = 2.0\n>>> score = 0\n>>> test_font = Font('Arial', 16, 'Medium')\n>>> font_attributes = {'name': test_font.name, 'size': test_font.size, 'weight': test_font.weight}\n>>> expected_attributes = {'name': 'Arial', 'size': 16, 'weight': 'Medium'}\n>>> condition = font_attributes == expected_attributes\n>>> assert condition, f'Expected {expected_attributes}, but got {font_attributes}.'\n>>> if condition:\n...     score = 2.0\n>>> earned_points = float(os.environ.get('EARNED_POINTS', 0))\n>>> earned_points += score\n>>> log_variable('5_change_methods_q', f'{score}, {max_score}', question_id)\n>>> os.environ['EARNED_POINTS'] = str(earned_points)\n>>> responses = update_responses(question_id, str(font_attributes))\n",
         "failure_message": "Failed: `Font` does not initialize attributes correctly.",
         "hidden": false,
         "locked": false,
         "points": 2,
         "success_message": "Success: `Font` initializes attributes correctly!"
        },
        {
         "code": ">>> from pykubegrader.telemetry import ensure_responses, log_variable, score_question, submit_question, telemetry, update_responses\n>>> import os\n>>> import base64\n>>> question_id = 'Helvetica-Class-Methods-3'\n>>> max_score = 2.0\n>>> score = 0\n>>> test_font = Font('Times', 14, 'Bold')\n>>> out = test_font.update_name('Times New Roman')\n>>> updated_name = test_font.name\n>>> expected_name = 'Times New Roman'\n>>> condition = updated_name == expected_name\n>>> assert condition, f'Expected name to be {expected_name}, but got {updated_name}.'\n>>> if condition:\n...     score = 2.0\n>>> earned_points = float(os.environ.get('EARNED_POINTS', 0))\n>>> earned_points += score\n>>> log_variable('5_change_methods_q', f'{score}, {max_score}', question_id)\n>>> os.environ['EARNED_POINTS'] = str(earned_points)\n>>> responses = update_responses(question_id, str(updated_name))\n",
         "failure_message": "Failed: `update_name()` does not update the font name correctly.",
         "hidden": false,
         "locked": false,
         "points": 2,
         "success_message": "Success: `update_name()` correctly updates the font name!"
        },
        {
         "code": ">>> from pykubegrader.telemetry import ensure_responses, log_variable, score_question, submit_question, telemetry, update_responses\n>>> import os\n>>> import base64\n>>> question_id = 'Helvetica-Class-Methods-4'\n>>> max_score = 2.0\n>>> score = 0\n>>> test_font = Font('Times', 14, 'Bold')\n>>> out = test_font.update_name('Times New Roman')\n>>> updated_name = test_font.name\n>>> expected_name = 'Times New Roman'\n>>> condition = updated_name == expected_name\n>>> assert condition, f'Expected name to be {expected_name}, but got {updated_name}.'\n>>> if condition:\n...     score = 2.0\n>>> earned_points = float(os.environ.get('EARNED_POINTS', 0))\n>>> earned_points += score\n>>> log_variable('5_change_methods_q', f'{score}, {max_score}', question_id)\n>>> os.environ['EARNED_POINTS'] = str(earned_points)\n>>> responses = update_responses(question_id, str(updated_name))\n",
         "failure_message": "Failed: `update_name()` does not update the font name correctly.",
         "hidden": false,
         "locked": false,
         "points": 2,
         "success_message": "Success: `update_name()` correctly updates the font name!"
        },
        {
         "code": ">>> from pykubegrader.telemetry import ensure_responses, log_variable, score_question, submit_question, telemetry, update_responses\n>>> import os\n>>> import base64\n>>> question_id = 'Helvetica-Class-Methods-5'\n>>> max_score = 2.0\n>>> score = 0\n>>> test_font = Font('Verdana', 10, 'Light')\n>>> out = test_font.set_size(18)\n>>> updated_size = test_font.size\n>>> expected_size = 18\n>>> condition = updated_size == expected_size\n>>> assert condition, f'Expected size to be {expected_size}, but got {updated_size}.'\n>>> if condition:\n...     score = 2.0\n>>> earned_points = float(os.environ.get('EARNED_POINTS', 0))\n>>> earned_points += score\n>>> log_variable('5_change_methods_q', f'{score}, {max_score}', question_id)\n>>> os.environ['EARNED_POINTS'] = str(earned_points)\n>>> responses = update_responses(question_id, str(updated_size))\n",
         "failure_message": "Failed: `set_size()` does not update the font size correctly.",
         "hidden": false,
         "locked": false,
         "points": 2,
         "success_message": "Success: `set_size()` correctly updates the font size!"
        },
        {
         "code": ">>> from pykubegrader.telemetry import ensure_responses, log_variable, score_question, submit_question, telemetry, update_responses\n>>> import os\n>>> import base64\n>>> question_id = 'Helvetica-Class-Methods-6'\n>>> max_score = 2.0\n>>> score = 0\n>>> test_font = Font('Courier', 12, 'Thin')\n>>> out = test_font.change_weight('Black')\n>>> updated_weight = test_font.weight\n>>> expected_weight = 'Black'\n>>> condition = updated_weight == expected_weight\n>>> assert condition, f'Expected weight to be {expected_weight}, but got {updated_weight}.'\n>>> if condition:\n...     score = 2.0\n>>> earned_points = float(os.environ.get('EARNED_POINTS', 0))\n>>> earned_points += score\n>>> log_variable('5_change_methods_q', f'{score}, {max_score}', question_id)\n>>> os.environ['EARNED_POINTS'] = str(earned_points)\n>>> responses = update_responses(question_id, str(updated_weight))\n",
         "failure_message": "Failed: `change_weight()` does not update the font weight correctly.",
         "hidden": false,
         "locked": false,
         "points": 2,
         "success_message": "Success: `change_weight()` correctly updates the font weight!"
        },
        {
         "code": ">>> from pykubegrader.telemetry import ensure_responses, log_variable, score_question, submit_question, telemetry, update_responses\n>>> import os\n>>> import base64\n>>> question_id = 'Helvetica-Class-Methods-7'\n>>> max_score = 3.0\n>>> score = 0\n>>> test_font = Font('Tahoma', 14, 'Normal')\n>>> chaining_result = test_font.update_name('Tahoma Pro').set_size(20).change_weight('Extra Bold')\n>>> chaining_success = isinstance(chaining_result, Font)\n>>> assert chaining_success, 'Methods must return `self` to support method chaining.'\n>>> if chaining_success:\n...     score = 3.0\n>>> earned_points = float(os.environ.get('EARNED_POINTS', 0))\n>>> earned_points += score\n>>> log_variable('5_change_methods_q', f'{score}, {max_score}', question_id)\n>>> os.environ['EARNED_POINTS'] = str(earned_points)\n>>> responses = update_responses(question_id, str(chaining_success))\n",
         "failure_message": "Failed: Methods do not return `self` for chaining.",
         "hidden": false,
         "locked": false,
         "points": 3,
         "success_message": "Success: Method chaining works correctly!"
        },
        {
         "code": ">>> from pykubegrader.telemetry import ensure_responses, log_variable, score_question, submit_question, telemetry, update_responses\n>>> import os\n>>> import base64\n>>> question_id = 'Helvetica-Class-Methods-8'\n>>> max_score = 3.0\n>>> score = 0\n>>> test_font = Font('Comic Sans', 12, 'Regular')\n>>> out = test_font.update_name('Comic Sans Pro').set_size(16).change_weight('SemiBold')\n>>> final_values = {'name': test_font.name, 'size': test_font.size, 'weight': test_font.weight}\n>>> expected_values = {'name': 'Comic Sans Pro', 'size': 16, 'weight': 'SemiBold'}\n>>> condition = final_values == expected_values\n>>> assert condition, f'Expected {expected_values}, but got {final_values}.'\n>>> if condition:\n...     score = 3.0\n>>> earned_points = float(os.environ.get('EARNED_POINTS', 0))\n>>> earned_points += score\n>>> log_variable('5_change_methods_q', f'{score}, {max_score}', question_id)\n>>> os.environ['EARNED_POINTS'] = str(earned_points)\n>>> responses = update_responses(question_id, str(final_values))\n",
         "failure_message": "Failed: BONUS Sequential updates do not modify the `Font` instance as expected.",
         "hidden": false,
         "locked": false,
         "points": 3,
         "success_message": "Success: BONUS Multiple updates correctly modify the `Font` instance!"
        }
       ],
       "scored": true,
       "setup": "",
       "teardown": "",
       "type": "doctest"
      }
     ]
    }
   }
  }
 },
 "nbformat": 4,
 "nbformat_minor": 5
}
