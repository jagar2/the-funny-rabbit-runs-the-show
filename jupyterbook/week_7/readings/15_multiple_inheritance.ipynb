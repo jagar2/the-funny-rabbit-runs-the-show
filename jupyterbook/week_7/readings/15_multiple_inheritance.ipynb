{
 "cells": [
  {
   "cell_type": "markdown",
   "id": "0",
   "metadata": {},
   "source": [
    "#  📖 🐶 Multiple Inheritance in Python: Mixed Dog Breeds \n",
    "\n",
    "Prof. Agar's Dog Nala\n",
    "\n",
    "![](./assets/figures/nala-glamor.jpg)"
   ]
  },
  {
   "cell_type": "markdown",
   "id": "1",
   "metadata": {},
   "source": [
    "## 🚀 Introduction\n",
    "Multiple inheritance is a feature in object-oriented programming where a class can inherit attributes and methods from more than one parent class. This allows for the combination of features from multiple base classes, similar to how mixed dog breeds inherit characteristics from both parents.\n",
    "\n",
    "By the end of this guide, you will:\n",
    "- Understand the concept of multiple inheritance and its benefits.\n",
    "- Learn how to create and work with multiple parent classes in Python.\n",
    "- Explore multiple inheritance through the analogy of mixed dog breeds!\n"
   ]
  },
  {
   "cell_type": "markdown",
   "id": "2",
   "metadata": {},
   "source": [
    "## 🏆 What is Multiple Inheritance?\n",
    "Multiple inheritance allows a class to inherit features from multiple parent classes. This enables code reuse, flexibility, and efficient hierarchy structures.\n"
   ]
  },
  {
   "cell_type": "markdown",
   "id": "3",
   "metadata": {},
   "source": [
    "### Why is Multiple Inheritance Useful?\n",
    "- Combines Traits: Just like mixed-breed dogs inherit characteristics from different breeds, a child class can inherit methods from multiple parent classes.\n",
    "- Code Reusability: Instead of rewriting similar functionality in multiple classes, we define it once and share it.\n",
    "- Greater Flexibility: Allows objects to take on behaviors from different categories.\n"
   ]
  },
  {
   "cell_type": "markdown",
   "id": "4",
   "metadata": {},
   "source": [
    "## 🐶 Dog Breeds and Multiple Inheritance\n",
    "Imagine we have different purebred dog classes with distinct behaviors:\n",
    "- `Retriever` (Loves fetching)\n",
    "- `Bulldog` (Strong and sturdy)\n",
    "- `Husky` (Energetic and howls a lot)\n",
    "\n",
    "A mixed breed dog can inherit from multiple breeds, combining their traits.\n"
   ]
  },
  {
   "cell_type": "markdown",
   "id": "5",
   "metadata": {},
   "source": [
    "#### Class Hierarchy Diagram\n",
    "```mermaid\n",
    "classDiagram\n",
    "Retriever <|-- LabradorRetriever\n",
    "Bulldog <|-- MixedBulldog\n",
    "Husky <|-- MixedHusky\n",
    "MixedBreed <|-- LabradorBulldog\n",
    "MixedBreed <|-- HuskyBulldog\n",
    "class Retriever{\n",
    "+fetch()\n",
    "}\n",
    "class Bulldog{\n",
    "+strength()\n",
    "}\n",
    "class Husky{\n",
    "+howl()\n",
    "}\n",
    "class MixedBreed{\n",
    "+show_traits()\n",
    "}\n",
    "class LabradorBulldog{\n",
    "+fetch()\n",
    "+strength()\n",
    "}\n",
    "class HuskyBulldog{\n",
    "+howl()\n",
    "+strength()\n",
    "}\n",
    "```\n"
   ]
  },
  {
   "cell_type": "markdown",
   "id": "6",
   "metadata": {},
   "source": [
    "## 🦴 Defining Parent Classes for Dog Breeds\n"
   ]
  },
  {
   "cell_type": "markdown",
   "id": "7",
   "metadata": {},
   "source": [
    "### Retriever (Loves Fetching)"
   ]
  },
  {
   "cell_type": "code",
   "execution_count": null,
   "id": "8",
   "metadata": {},
   "outputs": [],
   "source": [
    "class Retriever:\n",
    "    def fetch(self):\n",
    "        return \"🐾 The dog happily fetches the ball!\""
   ]
  },
  {
   "cell_type": "markdown",
   "id": "9",
   "metadata": {},
   "source": [
    "### Bulldog (Strong & Protective)"
   ]
  },
  {
   "cell_type": "code",
   "execution_count": null,
   "id": "10",
   "metadata": {},
   "outputs": [],
   "source": [
    "class Bulldog:\n",
    "    def strength(self):\n",
    "        return \"💪 The dog is strong and stands its ground!\""
   ]
  },
  {
   "cell_type": "markdown",
   "id": "11",
   "metadata": {},
   "source": [
    "### Husky (Energetic & Loves to Howl)"
   ]
  },
  {
   "cell_type": "code",
   "execution_count": null,
   "id": "12",
   "metadata": {},
   "outputs": [],
   "source": [
    "class Husky:\n",
    "    def howl(self):\n",
    "        return \"🐺 The dog howls loudly into the night!\""
   ]
  },
  {
   "cell_type": "markdown",
   "id": "13",
   "metadata": {},
   "source": [
    "## 🐾 Creating Mixed Breed Dogs with Multiple Inheritance\n"
   ]
  },
  {
   "cell_type": "markdown",
   "id": "14",
   "metadata": {},
   "source": [
    "### Labrador-Bulldog Mix (inherits from Retriever & Bulldog)"
   ]
  },
  {
   "cell_type": "code",
   "execution_count": null,
   "id": "15",
   "metadata": {},
   "outputs": [],
   "source": [
    "class LabradorBulldog(Retriever, Bulldog):\n",
    "    def show_traits(self):\n",
    "        return f\"{self.fetch()} {self.strength()}\""
   ]
  },
  {
   "cell_type": "markdown",
   "id": "16",
   "metadata": {},
   "source": [
    "### Husky-Bulldog Mix (inherits from Husky & Bulldog)"
   ]
  },
  {
   "cell_type": "code",
   "execution_count": null,
   "id": "17",
   "metadata": {},
   "outputs": [],
   "source": [
    "class HuskyBulldog(Husky, Bulldog):\n",
    "    def show_traits(self):\n",
    "        return f\"{self.howl()} {self.strength()}\""
   ]
  },
  {
   "cell_type": "markdown",
   "id": "18",
   "metadata": {},
   "source": [
    "### Key Features:\n",
    "- `LabradorBulldog` inherits from Retriever and Bulldog.\n",
    "- `HuskyBulldog` inherits from Husky and Bulldog.\n",
    "- Each mixed breed gets traits from both parents.\n"
   ]
  },
  {
   "cell_type": "markdown",
   "id": "19",
   "metadata": {},
   "source": [
    "## 🎭 Using Multiple Inheritance in Action"
   ]
  },
  {
   "cell_type": "code",
   "execution_count": null,
   "id": "20",
   "metadata": {},
   "outputs": [],
   "source": [
    "lab_bulldog = LabradorBulldog()\n",
    "husky_bulldog = HuskyBulldog()\n",
    "\n",
    "print(\n",
    "    lab_bulldog.show_traits()\n",
    ")  # 🐾 The dog happily fetches the ball! 💪 The dog is strong and stands its ground!\n",
    "print(\n",
    "    husky_bulldog.show_traits()\n",
    ")  # 🐺 The dog howls loudly into the night! 💪 The dog is strong and stands its ground!"
   ]
  },
  {
   "cell_type": "markdown",
   "id": "21",
   "metadata": {},
   "source": [
    "### Why is This Useful?\n",
    "✅ Mixes multiple behaviors into one class.\n",
    "✅ No redundant code—each behavior is inherited from a parent class.\n",
    "✅ New mixed breeds can be created without modifying existing classes!\n"
   ]
  },
  {
   "cell_type": "markdown",
   "id": "22",
   "metadata": {},
   "source": [
    "## 🛠 More Examples of Multiple Inheritance\n"
   ]
  },
  {
   "cell_type": "markdown",
   "id": "23",
   "metadata": {},
   "source": [
    "### Example 1: Hybrid Vehicles"
   ]
  },
  {
   "cell_type": "code",
   "execution_count": null,
   "id": "24",
   "metadata": {},
   "outputs": [],
   "source": [
    "class ElectricVehicle:\n",
    "    def charge(self):\n",
    "        return \"🔋 The vehicle is charging.\"\n",
    "\n",
    "\n",
    "class GasolineVehicle:\n",
    "    def refuel(self):\n",
    "        return \"⛽ The vehicle is refueling.\"\n",
    "\n",
    "\n",
    "class HybridCar(ElectricVehicle, GasolineVehicle):\n",
    "    def drive(self):\n",
    "        return \"🚗 The hybrid car is driving efficiently!\""
   ]
  },
  {
   "cell_type": "code",
   "execution_count": null,
   "id": "25",
   "metadata": {},
   "outputs": [],
   "source": [
    "hybrid = HybridCar()\n",
    "print(hybrid.charge())  # 🔋 The vehicle is charging.\n",
    "print(hybrid.refuel())  # ⛽ The vehicle is refueling.\n",
    "print(hybrid.drive())  # 🚗 The hybrid car is driving efficiently!"
   ]
  },
  {
   "cell_type": "markdown",
   "id": "26",
   "metadata": {},
   "source": [
    "### Example 2: Multiple Inheritance in Python\n",
    "Python uses the Method Resolution Order (MRO) to determine which parent class method to call when there’s a conflict."
   ]
  },
  {
   "cell_type": "code",
   "execution_count": null,
   "id": "27",
   "metadata": {},
   "outputs": [],
   "source": [
    "class A:\n",
    "    def show(self):\n",
    "        return \"Class A\"\n",
    "\n",
    "\n",
    "class B(A):\n",
    "    def show(self):\n",
    "        return \"Class B overrides A\"\n",
    "\n",
    "\n",
    "class C(A):\n",
    "    def show(self):\n",
    "        return \"Class C overrides A\"\n",
    "\n",
    "\n",
    "class D(B, C):\n",
    "    pass  # Inherits from B first, then C\n",
    "\n",
    "\n",
    "obj = D()\n",
    "print(obj.show())  # Output: \"Class B overrides A\" (B is prioritized over C)"
   ]
  },
  {
   "cell_type": "markdown",
   "id": "28",
   "metadata": {},
   "source": [
    "## 📌 Key Takeaways\n",
    "\n",
    "✅ Multiple inheritance allows a class to inherit from more than one parent class.\n",
    "\n",
    "✅ It enables the combination of different behaviors into a single object.\n",
    "\n",
    "✅ Python’s MRO ensures a consistent way to resolve method calls.\n",
    "\n",
    "✅ Just like mixed-breed dogs inherit traits from different parents, multiple inheritance allows classes to inherit diverse functionalities.\n",
    "\n",
    "🐶 Just as dog breeds are mixed to get the best traits, multiple inheritance in Python lets classes inherit the best features from multiple sources!\n"
   ]
  }
 ],
 "metadata": {
  "kernelspec": {
   "display_name": "engr131_dev",
   "language": "python",
   "name": "python3"
  },
  "language_info": {
   "codemirror_mode": {
    "name": "ipython",
    "version": 3
   },
   "file_extension": ".py",
   "mimetype": "text/x-python",
   "name": "python",
   "nbconvert_exporter": "python",
   "pygments_lexer": "ipython3",
   "version": "3.12.7"
  }
 },
 "nbformat": 4,
 "nbformat_minor": 5
}
