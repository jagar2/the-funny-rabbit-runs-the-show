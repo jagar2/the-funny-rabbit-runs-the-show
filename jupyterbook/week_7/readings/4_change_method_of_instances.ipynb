{
 "cells": [
  {
   "cell_type": "markdown",
   "id": "0",
   "metadata": {},
   "source": [
    "# 📖 ☕ Mastering Object-Oriented Programming with Kopelauac Coffee\n",
    "\n",
    "![](./assets/figures/civet.webp)\n",
    "\n",
    "Kopi luwak, also known as civet coffee, is a coffee that consists of partially digested coffee cherries, which have been eaten and defecated by the Asian palm civet (Paradoxurus hermaphroditus). The cherries are fermented as they pass through a civet's intestines, and after being defecated with other fecal matter, they are collected.\n"
   ]
  },
  {
   "cell_type": "markdown",
   "id": "1",
   "metadata": {},
   "source": [
    "## 🚀 Introduction\n",
    "Object-oriented programming (OOP) allows us to structure our code in a way that models real-world entities. Think of it like crafting the perfect cup of coffee: each cup has its own unique qualities, yet they all follow a fundamental recipe. In this guide, we’ll explore how instance methods in Python help manage and modify objects dynamically.\n",
    "\n",
    "By the end of this guide, you’ll be able to:\n",
    "- Implement `init()` with multiple parameters, including default values.\n",
    "- Understand how instance methods access and modify attributes.\n"
   ]
  },
  {
   "cell_type": "markdown",
   "id": "2",
   "metadata": {},
   "source": [
    "## ☕ Understanding Classes and Objects"
   ]
  },
  {
   "cell_type": "markdown",
   "id": "3",
   "metadata": {},
   "source": [
    "### What is a Class?\n",
    "\n",
    "![](./assets/figures/cupping.webp)\n",
    "\n",
    "A class is like a coffee recipe book, defining essential components such as:\n",
    "- Attributes (e.g., flavor, origin, roast level)\n",
    "- Methods (e.g., brew, serve, refill)\n",
    "\n",
    "It provides a blueprint for creating coffee cups, ensuring consistency in every brew.\n"
   ]
  },
  {
   "cell_type": "markdown",
   "id": "4",
   "metadata": {},
   "source": [
    "### What is an Object?\n",
    "An object is an actual cup of coffee brewed using the class blueprint. Each object (cup) can have unique properties like strength, roast level, and size while still following the same core principles.\n"
   ]
  },
  {
   "cell_type": "markdown",
   "id": "5",
   "metadata": {},
   "source": [
    "### Example: Kopelauac Coffee ☕🐱\n",
    "Kopelauac coffee is an exotic, high-end coffee known for its unique processing method and rich flavor. We’ll use Python to model and craft the perfect cup of Kopelauac coffee.\n"
   ]
  },
  {
   "cell_type": "markdown",
   "id": "6",
   "metadata": {},
   "source": [
    "## 🔧 Defining a Class with Instance Methods"
   ]
  },
  {
   "cell_type": "markdown",
   "id": "7",
   "metadata": {},
   "source": [
    "### Creating the `CoffeeCup` Class"
   ]
  },
  {
   "cell_type": "code",
   "execution_count": null,
   "id": "8",
   "metadata": {},
   "outputs": [],
   "source": [
    "class CoffeeCup:\n",
    "    \n",
    "    # This defines the attributes of the class\n",
    "    # The rules for inputs are the same as for functions\n",
    "    def __init__(self, origin, roast_level, caffeine_content, size=\"Medium\"):\n",
    "        \"\"\"Initialize instance attributes with default values where applicable.\"\"\"\n",
    "        self.origin = origin  # Instance Attribute\n",
    "        self.roast_level = roast_level  # Instance Attribute\n",
    "        self.caffeine_content = caffeine_content  # Instance Attribute\n",
    "        self.size = size  # Default Parameter\n",
    "\n",
    "    # This defines the methods of the class, that describe the coffee cup, based on its attributes\n",
    "    def describe_coffee(self):\n",
    "        \"\"\"Returns a description of the coffee cup.\"\"\"\n",
    "        return f\"☕ {self.size} cup of {self.roast_level} roast from {self.origin} | {self.caffeine_content}mg caffeine\"\n",
    "\n",
    "    # This defines the methods of the class, that change the coffee cup attributes\n",
    "    # these are sometimes called \"setter\" methods\n",
    "    def change_size(self, new_size):\n",
    "        \"\"\"Modify the coffee cup size.\"\"\"\n",
    "        self.size = new_size\n",
    "        return f\"Your coffee is now a {self.size} size! More caffeine, more energy! 🚀\""
   ]
  },
  {
   "cell_type": "markdown",
   "id": "9",
   "metadata": {},
   "source": [
    "### Understanding the Code:\n",
    "- `init()` initializes attributes like `origin`, `roast_level`, and `caffeine_content`, with `size` defaulting to \"Medium.\"\n",
    "- `describe_coffee()` provides a textual representation of the coffee’s characteristics.\n",
    "- `change_size()` updates the coffee cup’s size dynamically.\n"
   ]
  },
  {
   "cell_type": "markdown",
   "id": "10",
   "metadata": {},
   "source": [
    "```{note} Understanding the `self` Parameter\n",
    "In Python, the `self` parameter refers to the current instance of the class. It allows instance methods to access and modify object attributes. The first input parameter of an instance method is always `self`, and refers to the object itself.\n",
    "```"
   ]
  },
  {
   "cell_type": "markdown",
   "id": "11",
   "metadata": {},
   "source": [
    "## ☕ Brewing and Describing Coffee Cups"
   ]
  },
  {
   "cell_type": "code",
   "execution_count": null,
   "id": "12",
   "metadata": {},
   "outputs": [],
   "source": [
    "# Brewing some exotic coffee\n",
    "cup1 = CoffeeCup(\"Indonesia\", \"Dark\", 150)\n",
    "cup2 = CoffeeCup(\"Ethiopia\", \"Medium\", 120, size=\"Large\")\n",
    "cup3 = CoffeeCup(\"Hawaii Kona\", \"Light\", 80, size=\"Small\")\n",
    "\n",
    "# Displaying coffee details\n",
    "print(\n",
    "    cup1.describe_coffee()\n",
    ")  # ☕ Medium cup of Dark roast from Indonesia | 150mg caffeine\n",
    "print(\n",
    "    cup2.describe_coffee()\n",
    ")  # ☕ Large cup of Medium roast from Ethiopia | 120mg caffeine\n",
    "print(\n",
    "    cup3.describe_coffee()\n",
    ")  # ☕ Small cup of Light roast from Hawaii Kona | 80mg caffeine"
   ]
  },
  {
   "cell_type": "markdown",
   "id": "13",
   "metadata": {},
   "source": [
    "### Key Insights:\n",
    "- Each coffee cup (object) is initialized with unique attributes.\n",
    "- The `describe_coffee()` method provides a convenient way to display coffee properties.\n"
   ]
  },
  {
   "cell_type": "markdown",
   "id": "14",
   "metadata": {},
   "source": [
    "## 📌 Modifying Instance Attributes with Methods"
   ]
  },
  {
   "cell_type": "code",
   "execution_count": null,
   "id": "15",
   "metadata": {},
   "outputs": [],
   "source": [
    "# Upsizing the coffee cup\n",
    "print(\n",
    "    cup1.change_size(\"Large\")\n",
    ")  # Your coffee is now a Large size! More caffeine, more energy! 🚀\n",
    "print(\n",
    "    cup1.describe_coffee()\n",
    ")  # ☕ Large cup of Dark roast from Indonesia | 150mg caffeine"
   ]
  },
  {
   "cell_type": "markdown",
   "id": "16",
   "metadata": {},
   "source": [
    "## Alternative Syntax Setters and Getters\n",
    "\n",
    "![](./assets/figures/venti.gif)\n",
    "\n",
    "In python a more advanced way to set and get attributes is by using the `@property` decorator. This allows you to use the method as an attribute, and set the attribute using the `@method.setter` decorator to set the attribute.\n",
    "\n",
    "```{Definition} Decorators\n",
    "Decorators are a way to modify or extend the behavior of functions or methods. They are functions that take another function as an argument and return a new function, usually extending the behavior of the original function. Think of this as a wrapper around the original function.\n",
    "```"
   ]
  },
  {
   "cell_type": "code",
   "execution_count": null,
   "id": "17",
   "metadata": {},
   "outputs": [],
   "source": [
    "class CoffeeCup:\n",
    "\n",
    "    def __init__(self, origin, roast_level, caffeine_density, size=\"Medium\"):\n",
    "        \"\"\"Initialize instance attributes with default values where applicable.\"\"\"\n",
    "        self.origin = origin  # Instance Attribute\n",
    "        self.roast_level = roast_level  # Instance Attribute\n",
    "        self.caffeine_density = caffeine_density  # Instance Attribute\n",
    "        self._size = size  # Default Parameter with leading underscore to indicate private attribute\n",
    "\n",
    "    @property\n",
    "    def size(self):\n",
    "        \"\"\"Getter for size attribute.\"\"\"\n",
    "        return self._size\n",
    "\n",
    "    @size.setter\n",
    "    def size(self, new_size):\n",
    "        \"\"\"Setter for size attribute.\"\"\"\n",
    "        self._size = new_size\n",
    "\n",
    "    @property\n",
    "    def caffeine_content (self):\n",
    "        if self.size == \"Small\":\n",
    "            return self.caffeine_density * 0.75\n",
    "        elif self.size == \"Medium\":\n",
    "            return self.caffeine_density\n",
    "        elif self.size == \"Large\":\n",
    "            return self.caffeine_density * 1.25\n",
    "\n",
    "    def describe_coffee(self):\n",
    "        \"\"\"Returns a description of the coffee cup.\"\"\"\n",
    "        return f\"☕ {self._size} cup of {self.roast_level} roast from {self.origin} | {self.caffeine_content}mg caffeine\"\n",
    "\n",
    "# Create an instance of the class\n",
    "my_coffee = CoffeeCup(\"Ethiopia\", \"Light\", 100)\n",
    "\n",
    "# Access the instance attributes\n",
    "print(my_coffee.size)  # Ethiopia\n",
    "\n",
    "# Access the instance methods\n",
    "print(my_coffee.describe_coffee())  # ☕ Medium cup of Light roast from Ethiopia\n",
    "\n",
    "# Change the size of the coffee cup\n",
    "my_coffee.size = \"Large\"\n",
    "\n",
    "# Access the instance attributes\n",
    "print(my_coffee.size)  # Ethiopia\n",
    "\n",
    "# Access the instance methods\n",
    "print(my_coffee.describe_coffee())  # ☕ Medium cup of Light roast from Ethiopia"
   ]
  },
  {
   "cell_type": "markdown",
   "id": "18",
   "metadata": {
    "vscode": {
     "languageId": "bat"
    }
   },
   "source": [
    "### The Value of Using Getters and Setters\n",
    "\n",
    "This might seem like a lot of extra work, but using getters and setters provides several benefits:\n",
    "\n",
    "1. **Encapsulation**: Getters and setters allow you to hide the internal representation of an attribute and expose it in a controlled manner. This helps in maintaining the integrity of the data by preventing unauthorized access and modification.\n",
    "\n",
    "2. **Validation**: Setters can include validation logic to ensure that any value assigned to an attribute meets certain criteria. This helps in maintaining the consistency and correctness of the data.\n",
    "\n",
    "3. **Flexibility**: By using getters and setters, you can change the internal implementation of an attribute without affecting the external interface. This makes the code more flexible and easier to maintain.\n",
    "\n",
    "4. **Computed Properties**: Getters can be used to compute the value of an attribute dynamically, based on other attributes. This allows for more complex and derived properties without storing redundant data.\n",
    "\n",
    "5. **Debugging**: Getters and setters can include logging or debugging statements to track when and how attributes are accessed or modified. This can be helpful in identifying issues and understanding the behavior of the code.\n"
   ]
  },
  {
   "cell_type": "markdown",
   "id": "19",
   "metadata": {},
   "source": [
    "### What Happened?\n",
    "- The `change_size()` method modified the `size` attribute of `cup1`.\n",
    "- Instance methods allow objects to update their properties dynamically.\n"
   ]
  },
  {
   "cell_type": "markdown",
   "id": "20",
   "metadata": {},
   "source": [
    "## 🏆 Final Thoughts\n",
    "\n",
    "✅ The `init()` method initializes instance attributes and supports default values.\n",
    "\n",
    "✅ Instance methods can access and modify attributes dynamically.\n",
    "\n",
    "✅ Methods allow objects to adapt to changing requirements.\n",
    "\n",
    "✅ Kopelauac coffee is a masterpiece, much like Python’s OOP model! ☕🚀\n",
    "\n",
    "Just like refining a coffee brew to match your taste, instance methods enable Python objects to evolve and adapt. Cheers to writing better, more maintainable code—one cup of coffee at a time!\n"
   ]
  }
 ],
 "metadata": {
  "kernelspec": {
   "display_name": "engr131_dev",
   "language": "python",
   "name": "python3"
  },
  "language_info": {
   "codemirror_mode": {
    "name": "ipython",
    "version": 3
   },
   "file_extension": ".py",
   "mimetype": "text/x-python",
   "name": "python",
   "nbconvert_exporter": "python",
   "pygments_lexer": "ipython3",
   "version": "3.12.7"
  }
 },
 "nbformat": 4,
 "nbformat_minor": 5
}
