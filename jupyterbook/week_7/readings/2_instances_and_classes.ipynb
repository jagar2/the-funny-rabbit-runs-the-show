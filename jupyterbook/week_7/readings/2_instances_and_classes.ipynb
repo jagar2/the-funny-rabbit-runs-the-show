{
 "cells": [
  {
   "cell_type": "markdown",
   "id": "0",
   "metadata": {},
   "source": [
    "#  🏎️Object-Oriented Programming & Sports Cars 🏎️\n",
    "\n",
    "![](./assets/figures/supercar-1.webp)"
   ]
  },
  {
   "cell_type": "markdown",
   "id": "1",
   "metadata": {},
   "source": [
    "## 🏗️ Classes: The Blueprint of High-Speed Beasts\n",
    "A class in Python acts like the design blueprint of a sports car. It defines what every sports car should have (attributes) and what it can do (methods).\n"
   ]
  },
  {
   "cell_type": "markdown",
   "id": "2",
   "metadata": {},
   "source": [
    "### Example: The SportsCar Class"
   ]
  },
  {
   "cell_type": "code",
   "execution_count": null,
   "id": "3",
   "metadata": {},
   "outputs": [],
   "source": [
    "class SportsCar:\n",
    "    \"\"\"A blueprint for creating sports cars.\"\"\"\n",
    "\n",
    "    # Class Attribute (shared by all instances)\n",
    "    category = \"Sports Car\"\n",
    "\n",
    "    def __init__(self, brand, model, horsepower, top_speed):\n",
    "        \"\"\"Each sports car has unique specifications.\"\"\"\n",
    "        self.brand = brand\n",
    "        self.model = model\n",
    "        self.horsepower = horsepower\n",
    "        self.top_speed = top_speed\n",
    "\n",
    "    def display_info(self):\n",
    "        \"\"\"Showcase the car's specs.\"\"\"\n",
    "        return f\"🔥 {self.brand} {self.model} | HP: {self.horsepower} | Top Speed: {self.top_speed} km/h 🚀\""
   ]
  },
  {
   "cell_type": "markdown",
   "id": "4",
   "metadata": {},
   "source": [
    "### Key Concept:\n",
    "- A class acts as a template or blueprint for multiple objects.\n",
    "\n",
    "## How do you make a class in Python?\n",
    "\n",
    "When you create a class you **instantiate** it to create an **object**. An object is an instance of a class. The instantiation process is handeled by the `__init__` method. This is a built-in magic method that is called when an object is created."
   ]
  },
  {
   "cell_type": "markdown",
   "id": "5",
   "metadata": {},
   "source": [
    "## 🏎️ Instance Attributes: Making Each Car Unique\n",
    "\n",
    "![](./assets/figures/supercar-2.webp)\n",
    "\n",
    "Instance attributes belong to individual objects, meaning each sports car has its own brand, model, horsepower, and top speed.\n"
   ]
  },
  {
   "cell_type": "markdown",
   "id": "6",
   "metadata": {},
   "source": [
    "### Example: Creating Car Objects"
   ]
  },
  {
   "cell_type": "code",
   "execution_count": null,
   "id": "7",
   "metadata": {},
   "outputs": [],
   "source": [
    "car1 = SportsCar(\"Ferrari\", \"F8 Tributo\", 710, 340)\n",
    "car2 = SportsCar(\"Lamborghini\", \"Huracan\", 630, 325)\n",
    "car3 = SportsCar(\"McLaren\", \"720S\", 710, 341)\n",
    "\n",
    "print(car1.display_info())  # 🔥 Ferrari F8 Tributo | HP: 710 | Top Speed: 340 km/h 🚀\n",
    "print(car2.display_info())  # 🔥 Lamborghini Huracan | HP: 630 | Top Speed: 325 km/h 🚀\n",
    "print(car3.display_info())  # 🔥 McLaren 720S | HP: 710 | Top Speed: 341 km/h 🚀"
   ]
  },
  {
   "cell_type": "markdown",
   "id": "8",
   "metadata": {},
   "source": [
    "### Key Concept:\n",
    "- Each object (car) has its own values for `brand`, `model`, `horsepower`, and `top_speed`, making them unique, they all have the same base attributes and schema defined by the class, but different values.\n"
   ]
  },
  {
   "cell_type": "markdown",
   "id": "9",
   "metadata": {},
   "source": [
    "## 🚘 Class Attributes: Shared Characteristics of All Cars\n",
    "Class attributes are shared across all objects. They define properties common to every instance. These are defined outside the `__init__` method, and thus are not modified during instantiation.\n"
   ]
  },
  {
   "cell_type": "markdown",
   "id": "10",
   "metadata": {},
   "source": [
    "### Example: Class Attribute in Action"
   ]
  },
  {
   "cell_type": "code",
   "execution_count": null,
   "id": "11",
   "metadata": {},
   "outputs": [],
   "source": [
    "print(car1.category)  # Sports Car\n",
    "print(car2.category)  # Sports Car"
   ]
  },
  {
   "cell_type": "markdown",
   "id": "12",
   "metadata": {},
   "source": [
    "### Modifying a Class Attribute\n",
    "\n",
    "Throughout this class we have called sub-methods and used classes. When you import sub-modules from packages, you are using class attributes. For example, when you import the `math` module, you are using the class attribute `pi`. This can be called with `math.pi`. The `.` operator is used to access class attributes.\n",
    "\n",
    "You can also modify class attributes by using the `.` operator. For example, you can change all the cars' `wheels` attribute to 4 by using `SportsCar.wheels = 4`."
   ]
  },
  {
   "cell_type": "code",
   "execution_count": null,
   "id": "13",
   "metadata": {},
   "outputs": [],
   "source": [
    "# Changing the category for ALL sports cars\n",
    "SportsCar.category = \"High-Performance Monster\"\n",
    "SportsCar.wheels = 4\n",
    "\n",
    "print(car1.category)  # High-Performance Monster\n",
    "print(car2.category)  # High-Performance Monster\n",
    "print(car2.wheels) \n",
    "print(car1.wheels)"
   ]
  },
  {
   "cell_type": "markdown",
   "id": "14",
   "metadata": {},
   "source": [
    "### Key Concept:\n",
    "- Class attributes are shared across all instances of the class.\n",
    "- Changing the class attribute modifies it for every object.\n"
   ]
  },
  {
   "cell_type": "markdown",
   "id": "15",
   "metadata": {},
   "source": [
    "## 🏁 Objects: Customizing Speed Machines\n",
    "Objects allow us to create customized sports cars while still following a standardized blueprint.\n"
   ]
  },
  {
   "cell_type": "markdown",
   "id": "16",
   "metadata": {},
   "source": [
    "### Example: Modifying a Car's Attributes"
   ]
  },
  {
   "cell_type": "code",
   "execution_count": null,
   "id": "17",
   "metadata": {},
   "outputs": [],
   "source": [
    "# Upgrading the Ferrari\n",
    "car1.horsepower = 720  # More power!\n",
    "print(car1.display_info())  # 🔥 Ferrari F8 Tributo | HP: 720 | Top Speed: 340 km/h 🚀"
   ]
  },
  {
   "cell_type": "markdown",
   "id": "18",
   "metadata": {},
   "source": [
    "**Note** this modified the object `car1` and not the class `SportsCar`. Thus other cars will not be affected by this change. This is right because my Subaru Forester sure doesn't have 720 horsepower.\n",
    "\n",
    "### Key Concept:\n",
    "- Objects can be modified individually, just like tuning a sports car.\n"
   ]
  },
  {
   "cell_type": "markdown",
   "id": "19",
   "metadata": {},
   "source": [
    "## 🏆 Summary\n",
    "\n",
    "✅ Classes define the blueprint of high-speed beasts.\n",
    "\n",
    "✅ Instance attributes make each sports car unique.\n",
    "\n",
    "✅ Class attributes define shared characteristics of all cars.\n",
    "\n",
    "✅ Objects let us create customized speed machines while following the same elite standards.\n",
    "\n",
    "🏎️ Just like sports cars dominate the roads, OOP helps structure code with speed and efficiency! 🚀💨"
   ]
  },
  {
   "cell_type": "markdown",
   "id": "20",
   "metadata": {},
   "source": []
  }
 ],
 "metadata": {
  "kernelspec": {
   "display_name": "engr131_dev",
   "language": "python",
   "name": "python3"
  },
  "language_info": {
   "codemirror_mode": {
    "name": "ipython",
    "version": 3
   },
   "file_extension": ".py",
   "mimetype": "text/x-python",
   "name": "python",
   "nbconvert_exporter": "python",
   "pygments_lexer": "ipython3",
   "version": "3.12.7"
  }
 },
 "nbformat": 4,
 "nbformat_minor": 5
}
