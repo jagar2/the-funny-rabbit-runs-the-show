{
 "cells": [
  {
   "cell_type": "markdown",
   "id": "0",
   "metadata": {},
   "source": [
    "# 🎩 Mastering Magic Methods & Operator Overloading in Python\n",
    "\n",
    "![](./assets/figures/houdini.webp)\n"
   ]
  },
  {
   "cell_type": "markdown",
   "id": "1",
   "metadata": {},
   "source": [
    "## 🎭 Introduction\n",
    "Magic methods, also known as dunder (double underscore) methods, are special Python methods that allow objects to interact seamlessly with built-in operations. They enable objects to behave like native data types, providing intuitive and powerful functionality.\n",
    "\n",
    "By the end of this chapter, you’ll be able to:\n",
    "- Understand magic methods and their role in Python classes. 🪄\n",
    "- Implement operator overloading to make objects behave magically. 🎩✨\n"
   ]
  },
  {
   "cell_type": "markdown",
   "id": "2",
   "metadata": {},
   "source": [
    "## 🎩 What Are Magic Methods?\n",
    "Magic methods, denoted by double underscores `__` (e.g., `init`, `str`), are automatically triggered when specific operations are performed on objects. They allow objects to interact with Python’s syntax in a natural way.\n"
   ]
  },
  {
   "cell_type": "markdown",
   "id": "3",
   "metadata": {},
   "source": [
    "### Example: Houdini the Magician 🎩🐰\n",
    "Imagine Houdini performing mind-boggling tricks. To make objects (like cards, chains, and locks) interact smoothly, he needs magic methods that enable seamless operations.\n"
   ]
  },
  {
   "cell_type": "markdown",
   "id": "4",
   "metadata": {},
   "source": [
    "## 🃏 Defining a Class with Magic Methods"
   ]
  },
  {
   "cell_type": "markdown",
   "id": "5",
   "metadata": {},
   "source": [
    "### The `HoudiniTrick` Class"
   ]
  },
  {
   "cell_type": "code",
   "execution_count": null,
   "id": "6",
   "metadata": {},
   "outputs": [],
   "source": [
    "class HoudiniTrick:\n",
    "    def __init__(self, trick_name, difficulty):\n",
    "        \"\"\"Initialize instance attributes.\"\"\"\n",
    "        self.trick_name = trick_name\n",
    "        self.difficulty = difficulty  # 1 to 10 scale\n",
    "\n",
    "    def __str__(self):\n",
    "        \"\"\"Defines what happens when we print an object.\"\"\"\n",
    "        return f\"🎩 Houdini's Trick: {self.trick_name} (Difficulty: {self.difficulty})\"\n",
    "\n",
    "    def __add__(self, other):\n",
    "        \"\"\"Combining two tricks results in a new, harder trick!\"\"\"\n",
    "        new_trick = self.trick_name + \" & \" + other.trick_name\n",
    "        new_difficulty = self.difficulty + other.difficulty\n",
    "        return HoudiniTrick(new_trick, new_difficulty)"
   ]
  },
  {
   "cell_type": "markdown",
   "id": "7",
   "metadata": {},
   "source": [
    "### Understanding the Code:\n",
    "- `init()` initializes attributes (`trick_name`, `difficulty`).\n",
    "- `str()` provides a readable string representation when `print()` is called.\n",
    "- `add()` enables operator overloading to combine tricks dynamically.\n"
   ]
  },
  {
   "cell_type": "markdown",
   "id": "8",
   "metadata": {},
   "source": [
    "## 🪄 Creating Houdini's Magic Tricks"
   ]
  },
  {
   "cell_type": "code",
   "execution_count": null,
   "id": "9",
   "metadata": {},
   "outputs": [],
   "source": [
    "# Creating individual magic tricks\n",
    "trick1 = HoudiniTrick(\"Vanishing Act\", 5)\n",
    "trick2 = HoudiniTrick(\"Escape from Chains\", 7)\n",
    "\n",
    "# Displaying the tricks\n",
    "# When we call print we are calling the __str__ method\n",
    "print(trick1)  # 🎩 Houdini's Trick: Vanishing Act (Difficulty: 5)\n",
    "print(trick2)  # 🎩 Houdini's Trick: Escape from Chains (Difficulty: 7)"
   ]
  },
  {
   "cell_type": "markdown",
   "id": "10",
   "metadata": {},
   "source": [
    "### What’s Happening?\n",
    "- The `str()` method formats the trick into a readable string.\n",
    "- Without `str()`, printing would return an unintuitive memory reference.\n"
   ]
  },
  {
   "cell_type": "markdown",
   "id": "11",
   "metadata": {},
   "source": [
    "## 🔗 Overloading Operators for Ultimate Magic"
   ]
  },
  {
   "cell_type": "code",
   "execution_count": null,
   "id": "12",
   "metadata": {},
   "outputs": [],
   "source": [
    "# Combining tricks (Magic Method: __add__)\n",
    "super_trick = trick1 + trick2\n",
    "print(\n",
    "    super_trick\n",
    ")  # 🎩 Houdini's Trick: Vanishing Act & Escape from Chains (Difficulty: 12)"
   ]
  },
  {
   "cell_type": "markdown",
   "id": "13",
   "metadata": {},
   "source": [
    "### Why This Works:\n",
    "- Operator Overloading: The `+` operator creates a new trick with increased difficulty.\n",
    "- Python calls `add()` automatically when `+` is used between two `HoudiniTrick` objects.\n",
    "- If the `+` operator is used with other types, Python raises an `AttributeError`.\n"
   ]
  },
  {
   "cell_type": "code",
   "execution_count": null,
   "id": "14",
   "metadata": {
    "tags": [
     "skip-execution"
    ]
   },
   "outputs": [],
   "source": [
    "super_duper_trick = super_trick + 1"
   ]
  },
  {
   "cell_type": "markdown",
   "id": "15",
   "metadata": {},
   "source": [
    "## 🎭 More Magic Methods to Explore\n",
    "Python provides many dunder methods for different operations:\n",
    "\n",
    "| Magic Method  | Description |\n",
    "|--------------|------------|\n",
    "| `sub()`  | Overloads `-` operator |\n",
    "| `mul()`  | Overloads `*` operator |\n",
    "| `eq()`   | Overloads `==` for comparisons |\n",
    "| `lt()`   | Overloads `<` for sorting |\n",
    "| `len()`  | Allows `len(obj)` to return a custom length |\n",
    "\n",
    "Example:"
   ]
  },
  {
   "cell_type": "code",
   "execution_count": null,
   "id": "16",
   "metadata": {
    "tags": [
     "skip-execution"
    ]
   },
   "outputs": [],
   "source": [
    "class HoudiniTrick:\n",
    "    def __init__(self, trick_name, difficulty):\n",
    "        \"\"\"Initialize instance attributes.\"\"\"\n",
    "        self.trick_name = trick_name\n",
    "        self.difficulty = difficulty  # 1 to 10 scale\n",
    "\n",
    "    def __str__(self):\n",
    "        \"\"\"Defines what happens when we print an object.\"\"\"\n",
    "        return f\"🎩 Houdini's Trick: {self.trick_name} (Difficulty: {self.difficulty})\"\n",
    "\n",
    "    def __add__(self, other):\n",
    "        \"\"\"Combining two tricks results in a new, harder trick!\"\"\"\n",
    "        new_trick = self.trick_name + \" & \" + other.trick_name\n",
    "        new_difficulty = self.difficulty + other.difficulty\n",
    "        return HoudiniTrick(new_trick, new_difficulty)\n",
    "\n",
    "    def __len__(self):\n",
    "        \"\"\"Defines the length of the trick (based on difficulty).\"\"\"\n",
    "        return self.difficulty\n",
    "\n",
    "\n",
    "print(len(trick1))  # 5"
   ]
  },
  {
   "cell_type": "markdown",
   "id": "17",
   "metadata": {},
   "source": [
    "### What’s Happening?\n",
    "\n",
    "This resulted in an error because while we did change the class we have not instantiated a new object of the class. Let's do that now."
   ]
  },
  {
   "cell_type": "code",
   "execution_count": null,
   "id": "18",
   "metadata": {},
   "outputs": [],
   "source": [
    "trick1 = HoudiniTrick(\"Vanishing Act\", 5)\n",
    "\n",
    "len(trick1) # 5"
   ]
  },
  {
   "cell_type": "markdown",
   "id": "19",
   "metadata": {},
   "source": [
    "| Magic Method         | Description |\n",
    "|----------------------|-------------|\n",
    "| `__new__(cls, ...)`  | Controls instance creation; used in metaclasses. |\n",
    "| `__init__(self, ...)` | Initializes a new instance after creation. |\n",
    "| `__del__(self)` | Defines cleanup behavior when an object is deleted. |\n",
    "| `__repr__(self)` | Returns an official string representation of the object. |\n",
    "| `__str__(self)` | Returns a user-friendly string representation. |\n",
    "| `__bytes__(self)` | Defines byte representation of an object (`bytes(obj)`). |\n",
    "| `__format__(self, format_spec)` | Controls string formatting via `format(obj)`. |\n",
    "| `__lt__(self, other)` | Implements `<` (less than) comparison. |\n",
    "| `__le__(self, other)` | Implements `<=` (less than or equal to) comparison. |\n",
    "| `__eq__(self, other)` | Implements `==` (equality) comparison. |\n",
    "| `__ne__(self, other)` | Implements `!=` (inequality) comparison. |\n",
    "| `__gt__(self, other)` | Implements `>` (greater than) comparison. |\n",
    "| `__ge__(self, other)` | Implements `>=` (greater than or equal to) comparison. |\n",
    "| `__hash__(self)` | Defines a hash function for hashable objects. |\n",
    "| `__bool__(self)` | Defines object truthiness in a boolean context. |\n",
    "| `__call__(self, ...)` | Allows an instance to be called like a function. |\n",
    "| `__len__(self)` | Defines behavior for `len(obj)`. |\n",
    "| `__getitem__(self, key)` | Enables indexing via `obj[key]`. |\n",
    "| `__setitem__(self, key, value)` | Enables assignment via `obj[key] = value`. |\n",
    "| `__delitem__(self, key)` | Enables deletion via `del obj[key]`. |\n",
    "| `__iter__(self)` | Returns an iterator object (`iter(obj)`). |\n",
    "| `__next__(self)` | Implements iteration (`next(obj)`). |\n",
    "| `__reversed__(self)` | Defines behavior for `reversed(obj)`. |\n",
    "| `__contains__(self, item)` | Implements `in` operator behavior. |\n",
    "| `__add__(self, other)` | Implements `+` addition. |\n",
    "| `__sub__(self, other)` | Implements `-` subtraction. |\n",
    "| `__mul__(self, other)` | Implements `*` multiplication. |\n",
    "| `__matmul__(self, other)` | Implements `@` matrix multiplication. |\n",
    "| `__truediv__(self, other)` | Implements `/` true division. |\n",
    "| `__floordiv__(self, other)` | Implements `//` floor division. |\n",
    "| `__mod__(self, other)` | Implements `%` modulus. |\n",
    "| `__divmod__(self, other)` | Implements `divmod(obj, other)`. |\n",
    "| `__pow__(self, exp, mod=None)` | Implements `**` exponentiation. |\n",
    "| `__lshift__(self, other)` | Implements `<<` bitwise left shift. |\n",
    "| `__rshift__(self, other)` | Implements `>>` bitwise right shift. |\n",
    "| `__and__(self, other)` | Implements `&` bitwise AND. |\n",
    "| `__or__(self, other)` | Implements `|` bitwise OR. |\n",
    "| `__xor__(self, other)` | Implements `^` bitwise XOR. |\n",
    "| `__invert__(self)` | Implements `~` bitwise inversion. |\n",
    "| `__iadd__(self, other)` | Implements `+=` in-place addition. |\n",
    "| `__isub__(self, other)` | Implements `-=` in-place subtraction. |\n",
    "| `__imul__(self, other)` | Implements `*=` in-place multiplication. |\n",
    "| `__imatmul__(self, other)` | Implements `@=` in-place matrix multiplication. |\n",
    "| `__itruediv__(self, other)` | Implements `/=` in-place division. |\n",
    "| `__ifloordiv__(self, other)` | Implements `//=` in-place floor division. |\n",
    "| `__imod__(self, other)` | Implements `%=` in-place modulus. |\n",
    "| `__ipow__(self, other, mod=None)` | Implements `**=` in-place exponentiation. |\n",
    "| `__ilshift__(self, other)` | Implements `<<=` in-place left shift. |\n",
    "| `__irshift__(self, other)` | Implements `>>=` in-place right shift. |\n",
    "| `__iand__(self, other)` | Implements `&=` in-place bitwise AND. |\n",
    "| `__ior__(self, other)` | Implements `|=` in-place bitwise OR. |\n",
    "| `__ixor__(self, other)` | Implements `^=` in-place bitwise XOR. |\n",
    "| `__neg__(self)` | Implements unary `-` negation. |\n",
    "| `__pos__(self)` | Implements unary `+`. |\n",
    "| `__abs__(self)` | Implements `abs(obj)`. |\n",
    "| `__round__(self, n)` | Implements `round(obj, n)`. |\n",
    "| `__floor__(self)` | Implements `math.floor(obj)`. |\n",
    "| `__ceil__(self)` | Implements `math.ceil(obj)`. |\n",
    "| `__trunc__(self)` | Implements `math.trunc(obj)`. |\n",
    "| `__index__(self)` | Implements conversion to integer for slicing. |\n",
    "| `__enter__(self)` | Implements context manager entry (`with obj`). |\n",
    "| `__exit__(self, exc_type, exc_value, traceback)` | Implements context manager exit. |\n",
    "| `__getattr__(self, name)` | Defines behavior for undefined attribute access. |\n",
    "| `__setattr__(self, name, value)` | Defines behavior for attribute assignment. |\n",
    "| `__delattr__(self, name)` | Defines behavior for attribute deletion. |\n",
    "| `__dir__(self)` | Defines `dir(obj)` listing. |\n",
    "| `__class__(self)` | Returns the class of an instance. |\n",
    "| `__instancecheck__(self, instance)` | Custom `isinstance(instance, cls)`. |\n",
    "| `__subclasscheck__(self, subclass)` | Custom `issubclass(subclass, cls)`. |\n",
    "| `__get__(self, instance, owner)` | Implements descriptor protocol for attribute retrieval. |\n",
    "| `__set__(self, instance, value)` | Implements descriptor protocol for attribute assignment. |\n",
    "| `__delete__(self, instance)` | Implements descriptor protocol for attribute deletion. |\n"
   ]
  },
  {
   "cell_type": "markdown",
   "id": "20",
   "metadata": {},
   "source": [
    "## 🎩 Final Thoughts\n",
    "\n",
    "✅ Magic methods make objects behave like built-in types.\n",
    "\n",
    "✅ Operator overloading enhances object interaction with Python syntax.\n",
    "\n",
    "✅ `str()` improves object readability.\n",
    "    aw\n",
    "✅ Python is the ultimate magician, but you control the magic! 🎩✨\n",
    "\n",
    "🔮 Just like Houdini captivated audiences, Python’s magic methods make your objects feel alive!"
   ]
  }
 ],
 "metadata": {
  "kernelspec": {
   "display_name": "engr131_dev",
   "language": "python",
   "name": "python3"
  },
  "language_info": {
   "codemirror_mode": {
    "name": "ipython",
    "version": 3
   },
   "file_extension": ".py",
   "mimetype": "text/x-python",
   "name": "python",
   "nbconvert_exporter": "python",
   "pygments_lexer": "ipython3",
   "version": "3.12.7"
  }
 },
 "nbformat": 4,
 "nbformat_minor": 5
}
