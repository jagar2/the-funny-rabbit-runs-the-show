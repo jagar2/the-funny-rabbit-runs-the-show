{
 "cells": [
  {
   "cell_type": "code",
   "execution_count": null,
   "id": "0",
   "metadata": {
    "deletable": false,
    "editable": false,
    "tags": [
     "skip-execution"
    ]
   },
   "outputs": [],
   "source": [
    "# You must make sure to run all cells in sequence using shift + enter or you might encounter errors\n",
    "from pykubegrader.initialize import initialize_assignment\n",
    "\n",
    "responses = initialize_assignment(\"14_toyota_accelerator_q\", \"week_7\", \"readings\", assignment_points = 19.0, assignment_tag = 'week7-readings')\n",
    "\n",
    "# Initialize Otter\n",
    "import otter\n",
    "grader = otter.Notebook(\"14_toyota_accelerator_q.ipynb\")"
   ]
  },
  {
   "cell_type": "markdown",
   "id": "1",
   "metadata": {
    "deletable": false,
    "editable": false
   },
   "source": [
    "# 🚗 Abstraction in Python: The Single Bit Flip That Killed Toyota's Accelerator\n",
    "\n",
    "![](./assets/figures/bit_flip.png)\n",
    "\n",
    "In **2009**, a major recall of Toyota vehicles was triggered by **sudden unintended acceleration** incidents. Investigations revealed that **a single bit flip** in memory could cause **a stuck accelerator**, leading to catastrophic failures.  \n",
    "\n",
    "This was due to **software complexity**—Toyota’s acceleration control system had **millions of lines of code**, with **poor abstraction** making debugging nearly impossible.  \n",
    "\n",
    "In Python, **abstraction** helps us hide complexity by defining **base classes and abstract methods**, ensuring **only essential details are exposed**.  \n",
    "\n",
    "Let’s explore how **abstraction in Python** can help us **design safer, more manageable software systems**—just as Toyota engineers should have done."
   ]
  },
  {
   "cell_type": "code",
   "execution_count": null,
   "id": "2",
   "metadata": {
    "tags": [
     "skip-execution"
    ]
   },
   "outputs": [],
   "source": [
    "# Run this block of code by pressing Shift + Enter to display the question\n",
    "from questions._14_toyota_accelerator_q import Question1\n",
    "Question1().show()\n"
   ]
  },
  {
   "cell_type": "code",
   "execution_count": null,
   "id": "3",
   "metadata": {
    "tags": [
     "skip-execution"
    ]
   },
   "outputs": [],
   "source": [
    "# Run this block of code by pressing Shift + Enter to display the question\n",
    "from questions._14_toyota_accelerator_q import Question2\n",
    "Question2().show()\n"
   ]
  },
  {
   "cell_type": "code",
   "execution_count": null,
   "id": "4",
   "metadata": {
    "tags": [
     "skip-execution"
    ]
   },
   "outputs": [],
   "source": [
    "# Run this block of code by pressing Shift + Enter to display the question\n",
    "from questions._14_toyota_accelerator_q import Question3\n",
    "Question3().show()\n"
   ]
  },
  {
   "cell_type": "markdown",
   "id": "5",
   "metadata": {
    "deletable": false,
    "editable": false
   },
   "source": [
    "## Question 1 (Points: 11.0): ⚙️ Free Response: Implement Abstraction for a Safer Accelerator System\n",
    "\n",
    "Implement a **safe accelerator control system** using **abstraction**:\n",
    "\n",
    "- Create an **abstract class** `AcceleratorControl` with:\n",
    "    - An **abstract method** `apply_brakes()`.\n",
    "    - An **abstract method** `override_acceleration()`.\n",
    "\n",
    "Note: since we don't want to implement these methods in the base class, we use the `@abstractmethod` decorator, and `pass` as a placeholder.\n",
    "\n",
    "- Create a subclass `ToyotaAccelerator` that:\n",
    "    - Implements `apply_brakes()` by printing `\"Brakes applied!\"`.\n",
    "    - Implements `override_acceleration()` by printing `\"Acceleration override engaged!\"`.\n",
    "\n",
    "### **Example Usage**\n",
    "```python\n",
    "t = ToyotaAccelerator()\n",
    "t.apply_brakes()\n",
    "t.override_acceleration()\n",
    "```\n",
    "**Expected Output:**\n",
    "```\n",
    "Brakes applied!\n",
    "Acceleration override engaged!\n",
    "```"
   ]
  },
  {
   "cell_type": "code",
   "execution_count": null,
   "id": "6",
   "metadata": {
    "tags": [
     "skip-execution"
    ]
   },
   "outputs": [],
   "source": [
    "...\n",
    "\n",
    "# Example usage\n",
    "t = ToyotaAccelerator()\n",
    "t.apply_brakes()\n",
    "t.override_acceleration()"
   ]
  },
  {
   "cell_type": "code",
   "execution_count": null,
   "id": "7",
   "metadata": {
    "deletable": false,
    "editable": false,
    "tags": [
     "skip-execution"
    ]
   },
   "outputs": [],
   "source": [
    "# END QUESTION"
   ]
  },
  {
   "cell_type": "markdown",
   "id": "8",
   "metadata": {},
   "source": [
    "## Submitting Assignment\n",
    "\n",
    "Please run the following block of code using `shift + enter` to submit your assignment, you should see your score."
   ]
  },
  {
   "cell_type": "code",
   "execution_count": null,
   "id": "9",
   "metadata": {
    "deletable": false,
    "editable": true,
    "tags": [
     "skip-execution"
    ]
   },
   "outputs": [],
   "source": [
    "from pykubegrader.submit.submit_assignment import submit_assignment\n",
    "\n",
    "submit_assignment(\"week7-readings\", \"14_toyota_accelerator_q\")"
   ]
  }
 ],
 "metadata": {
  "kernelspec": {
   "display_name": "engr131_dev",
   "language": "python",
   "name": "python3"
  },
  "language_info": {
   "codemirror_mode": {
    "name": "ipython",
    "version": 3
   },
   "file_extension": ".py",
   "mimetype": "text/x-python",
   "name": "python",
   "nbconvert_exporter": "python",
   "pygments_lexer": "ipython3",
   "version": "3.12.7"
  },
  "otter": {
   "OK_FORMAT": true,
   "tests": {
    "Toyota-Abstraction-Class": {
     "name": "Toyota-Abstraction-Class",
     "points": null,
     "suites": [
      {
       "cases": [
        {
         "code": ">>> from pykubegrader.telemetry import ensure_responses, log_variable, score_question, submit_question, telemetry, update_responses\n>>> import os\n>>> import base64\n>>> max_question_points = str(11.0)\n>>> earned_points = 0\n>>> os.environ['EARNED_POINTS'] = str(earned_points)\n>>> os.environ['TOTAL_POINTS_FREE_RESPONSE'] = str(11.0)\n>>> log_variable('total-points', f'week7-readings, 14_toyota_accelerator_q', 11.0)\n>>> question_id = 'Toyota-Abstraction-Class-1'\n>>> max_score = 1.0\n>>> score = 0\n>>> class_exists = 'AcceleratorControl' in globals() and 'ToyotaAccelerator' in globals()\n>>> assert class_exists\n>>> if class_exists:\n...     score = 1.0\n>>> earned_points = float(os.environ.get('EARNED_POINTS', 0))\n>>> earned_points += score\n>>> log_variable('14_toyota_accelerator_q', f'{score}, {max_score}', question_id)\n>>> os.environ['EARNED_POINTS'] = str(earned_points)\n>>> responses = update_responses(question_id, str(class_exists))\n",
         "failure_message": "Failed: One or both classes (`AcceleratorControl`, `ToyotaAccelerator`) are missing.",
         "hidden": false,
         "locked": false,
         "points": 1,
         "success_message": "Success: `AcceleratorControl` and `ToyotaAccelerator` classes are defined!"
        },
        {
         "code": ">>> from pykubegrader.telemetry import ensure_responses, log_variable, score_question, submit_question, telemetry, update_responses\n>>> import os\n>>> import base64\n>>> import pytest\n>>> question_id = 'Toyota-Abstraction-Class-2'\n>>> max_score = 2.0\n>>> score = 0\n>>> abstract_check = False\n>>> try:\n...     a = AcceleratorControl()\n... except TypeError:\n...     abstract_check = True\n>>> assert abstract_check, '`AcceleratorControl` should be abstract and cannot be instantiated.'\n>>> if abstract_check:\n...     score = 2.0\n>>> earned_points = float(os.environ.get('EARNED_POINTS', 0))\n>>> earned_points += score\n>>> log_variable('14_toyota_accelerator_q', f'{score}, {max_score}', question_id)\n>>> os.environ['EARNED_POINTS'] = str(earned_points)\n>>> responses = update_responses(question_id, str(abstract_check))\n",
         "failure_message": "Failed: `AcceleratorControl` is not behaving as an abstract class.",
         "hidden": false,
         "locked": false,
         "points": 2,
         "success_message": "Success: `AcceleratorControl` is an abstract class!"
        },
        {
         "code": ">>> from pykubegrader.telemetry import ensure_responses, log_variable, score_question, submit_question, telemetry, update_responses\n>>> import os\n>>> import base64\n>>> question_id = 'Toyota-Abstraction-Class-3'\n>>> max_score = 2.0\n>>> score = 0\n>>> is_subclass = issubclass(ToyotaAccelerator, AcceleratorControl)\n>>> assert is_subclass, '`ToyotaAccelerator` must inherit from `AcceleratorControl`.'\n>>> if is_subclass:\n...     score = 2.0\n>>> earned_points = float(os.environ.get('EARNED_POINTS', 0))\n>>> earned_points += score\n>>> log_variable('14_toyota_accelerator_q', f'{score}, {max_score}', question_id)\n>>> os.environ['EARNED_POINTS'] = str(earned_points)\n>>> responses = update_responses(question_id, str(is_subclass))\n",
         "failure_message": "Failed: `ToyotaAccelerator` does not implement `AcceleratorControl` properly.",
         "hidden": false,
         "locked": false,
         "points": 2,
         "success_message": "Success: `ToyotaAccelerator` correctly implements `AcceleratorControl`!"
        },
        {
         "code": ">>> from pykubegrader.telemetry import ensure_responses, log_variable, score_question, submit_question, telemetry, update_responses\n>>> import os\n>>> import base64\n>>> import inspect\n>>> question_id = 'Toyota-Abstraction-Class-4'\n>>> max_score = 2.0\n>>> score = 0\n>>> implemented_methods = set(dir(ToyotaAccelerator))\n>>> required_methods = {'apply_brakes', 'override_acceleration'}\n>>> condition = required_methods.issubset(implemented_methods)\n>>> assert condition, f'`ToyotaAccelerator` is missing required methods: {required_methods - implemented_methods}.'\n>>> if condition:\n...     score = 2.0\n>>> earned_points = float(os.environ.get('EARNED_POINTS', 0))\n>>> earned_points += score\n>>> log_variable('14_toyota_accelerator_q', f'{score}, {max_score}', question_id)\n>>> os.environ['EARNED_POINTS'] = str(earned_points)\n>>> responses = update_responses(question_id, str(implemented_methods))\n",
         "failure_message": "Failed: `ToyotaAccelerator` is missing one or more abstract methods.",
         "hidden": false,
         "locked": false,
         "points": 2,
         "success_message": "Success: `ToyotaAccelerator` correctly implements all abstract methods!"
        },
        {
         "code": ">>> from pykubegrader.telemetry import ensure_responses, log_variable, score_question, submit_question, telemetry, update_responses\n>>> import os\n>>> import base64\n>>> import io\n>>> from contextlib import redirect_stdout\n>>> question_id = 'Toyota-Abstraction-Class-5'\n>>> max_score = 2.0\n>>> score = 0\n>>> output = io.StringIO()\n>>> test_accel = ToyotaAccelerator()\n>>> with redirect_stdout(output):\n...     test_accel.apply_brakes()\n>>> stdout_content = output.getvalue().strip()\n>>> expected_output = 'Brakes applied!'\n>>> condition = stdout_content == expected_output\n>>> assert condition, f\"Expected '{expected_output}', but got '{stdout_content}'.\"\n>>> if condition:\n...     score = 2.0\n>>> earned_points = float(os.environ.get('EARNED_POINTS', 0))\n>>> earned_points += score\n>>> log_variable('14_toyota_accelerator_q', f'{score}, {max_score}', question_id)\n>>> os.environ['EARNED_POINTS'] = str(earned_points)\n>>> responses = update_responses(question_id, str(stdout_content))\n",
         "failure_message": "Failed: `apply_brakes()` does not print the expected message.",
         "hidden": false,
         "locked": false,
         "points": 2,
         "success_message": "Success: `apply_brakes()` correctly prints!"
        },
        {
         "code": ">>> from pykubegrader.telemetry import ensure_responses, log_variable, score_question, submit_question, telemetry, update_responses\n>>> import os\n>>> import base64\n>>> import io\n>>> from contextlib import redirect_stdout\n>>> question_id = 'Toyota-Abstraction-Class-6'\n>>> max_score = 2.0\n>>> score = 0\n>>> output = io.StringIO()\n>>> test_accel = ToyotaAccelerator()\n>>> with redirect_stdout(output):\n...     test_accel.override_acceleration()\n>>> stdout_content = output.getvalue().strip()\n>>> expected_output = 'Acceleration override engaged!'\n>>> condition = stdout_content == expected_output\n>>> assert condition, f\"Expected '{expected_output}', but got '{stdout_content}'.\"\n>>> if condition:\n...     score = 2.0\n>>> earned_points = float(os.environ.get('EARNED_POINTS', 0))\n>>> earned_points += score\n>>> log_variable('14_toyota_accelerator_q', f'{score}, {max_score}', question_id)\n>>> os.environ['EARNED_POINTS'] = str(earned_points)\n>>> responses = update_responses(question_id, str(stdout_content))\n",
         "failure_message": "Failed: `override_acceleration()` does not print the expected message.",
         "hidden": false,
         "locked": false,
         "points": 2,
         "success_message": "Success: `override_acceleration()` correctly prints!"
        }
       ],
       "scored": true,
       "setup": "",
       "teardown": "",
       "type": "doctest"
      }
     ]
    }
   }
  }
 },
 "nbformat": 4,
 "nbformat_minor": 5
}
