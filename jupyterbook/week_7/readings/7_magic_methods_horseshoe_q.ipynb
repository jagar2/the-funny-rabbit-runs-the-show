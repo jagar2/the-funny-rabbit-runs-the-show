{
 "cells": [
  {
   "cell_type": "code",
   "execution_count": null,
   "id": "0",
   "metadata": {
    "deletable": false,
    "editable": false,
    "tags": [
     "skip-execution"
    ]
   },
   "outputs": [],
   "source": [
    "# You must make sure to run all cells in sequence using shift + enter or you might encounter errors\n",
    "from pykubegrader.initialize import initialize_assignment\n",
    "\n",
    "responses = initialize_assignment(\"7_magic_methods_horseshoe_q\", \"week_7\", \"readings\", assignment_points = 22.0, assignment_tag = 'week7-readings')\n",
    "\n",
    "# Initialize Otter\n",
    "import otter\n",
    "grader = otter.Notebook(\"7_magic_methods_horseshoe_q.ipynb\")"
   ]
  },
  {
   "cell_type": "markdown",
   "id": "1",
   "metadata": {
    "deletable": false,
    "editable": false
   },
   "source": [
    "# 🦀 Magic Methods and the \"Blue Blood\" of Horseshoe Crabs\n",
    "\n",
    "![](./assets/figures/blue-blood-horseshoe.jpg)\n",
    "\n",
    "Horseshoe crabs have survived for **hundreds of millions of years**, thanks in part to their unique **blue blood**. This blood contains **hemocyanin**, which transports oxygen and has remarkable antibacterial properties, making it vital for **modern medicine**.  \n",
    "\n",
    "In Python, **magic methods** (also called **dunder methods**) give classes special abilities, just as hemocyanin grants horseshoe crabs extraordinary resilience. These methods allow objects to support **addition, string representation, comparisons**, and more.\n",
    "\n",
    "Let’s explore how **magic methods** empower Python classes, just as the blue blood of horseshoe crabs has ensured their survival through the ages!"
   ]
  },
  {
   "cell_type": "code",
   "execution_count": null,
   "id": "2",
   "metadata": {
    "tags": [
     "skip-execution"
    ]
   },
   "outputs": [],
   "source": [
    "# Run this block of code by pressing Shift + Enter to display the question\n",
    "from questions._7_magic_methods_horseshoe_q import Question1\n",
    "Question1().show()\n"
   ]
  },
  {
   "cell_type": "code",
   "execution_count": null,
   "id": "3",
   "metadata": {
    "tags": [
     "skip-execution"
    ]
   },
   "outputs": [],
   "source": [
    "# Run this block of code by pressing Shift + Enter to display the question\n",
    "from questions._7_magic_methods_horseshoe_q import Question2\n",
    "Question2().show()\n"
   ]
  },
  {
   "cell_type": "code",
   "execution_count": null,
   "id": "4",
   "metadata": {
    "tags": [
     "skip-execution"
    ]
   },
   "outputs": [],
   "source": [
    "# Run this block of code by pressing Shift + Enter to display the question\n",
    "from questions._7_magic_methods_horseshoe_q import Question3\n",
    "Question3().show()\n"
   ]
  },
  {
   "cell_type": "markdown",
   "id": "5",
   "metadata": {
    "deletable": false,
    "editable": false
   },
   "source": [
    "## Question 1 (Points: 13.0): 🦀 Free Response: Implement Magic Methods in a `HorseshoeCrab` Class\n",
    "\n",
    "Design a Python class `HorseshoeCrab` that includes:\n",
    "\n",
    "- **`__init__`**: Initializes attributes for `species` (str) and `hemocyanin_level` (int).\n",
    "- **`__str__`**: Returns a string in the format `\"Horseshoe Crab of species <species>, hemocyanin level: <hemocyanin_level>\"`.\n",
    "- **`__add__`**: Combines two crabs' hemocyanin levels when using `+`. Add must make sure that the species of both crabs is the same, and should return a new `HorseshoeCrab` instance.\n",
    "                            if the crabs are not the same species return `ValueError(\"Crabs must be of the same species to combine hemocyanin levels.\")`.\n",
    "- **`__eq__`**: Returns `True` if two crabs have the same `species` and `hemocyanin_level`.\n",
    "\n",
    "**Example Usage**\n",
    "```python\n",
    "h1 = HorseshoeCrab(\"Limulus polyphemus\", 100)\n",
    "h2 = HorseshoeCrab(\"Limulus polyphemus\", 150)\n",
    "print(h1)  # Output: \"Horseshoe Crab of species Limulus polyphemus, hemocyanin level: 100\"\n",
    "h3 = h1 + h2\n",
    "print(h3)  # Output: \"Horseshoe Crab of species Limulus polyphemus, hemocyanin level: 250\"\n",
    "print(h1 == h2)  # Output: False\n",
    "```"
   ]
  },
  {
   "cell_type": "code",
   "execution_count": null,
   "id": "6",
   "metadata": {
    "tags": [
     "skip-execution"
    ]
   },
   "outputs": [],
   "source": [
    "...\n",
    "\n",
    "# Example usage\n",
    "h1 = HorseshoeCrab(\"Limulus polyphemus\", 100)\n",
    "h2 = HorseshoeCrab(\"Limulus polyphemus\", 150)\n",
    "h3 = h1 + h2\n",
    "print(h3)  # Expected: \"Horseshoe Crab of species Limulus polyphemus, hemocyanin level: 250\"\n",
    "print(h1 == h2)  # Expected: False"
   ]
  },
  {
   "cell_type": "code",
   "execution_count": null,
   "id": "7",
   "metadata": {
    "deletable": false,
    "editable": false,
    "tags": [
     "skip-execution"
    ]
   },
   "outputs": [],
   "source": [
    "grader.check(\"HorseshoeCrab-Magic-Methods\")"
   ]
  },
  {
   "cell_type": "markdown",
   "id": "8",
   "metadata": {},
   "source": [
    "## Submitting Assignment\n",
    "\n",
    "Please run the following block of code using `shift + enter` to submit your assignment, you should see your score."
   ]
  },
  {
   "cell_type": "code",
   "execution_count": null,
   "id": "9",
   "metadata": {
    "deletable": false,
    "editable": true,
    "tags": [
     "skip-execution"
    ]
   },
   "outputs": [],
   "source": [
    "from pykubegrader.submit.submit_assignment import submit_assignment\n",
    "\n",
    "submit_assignment(\"week7-readings\", \"7_magic_methods_horseshoe_q\")"
   ]
  }
 ],
 "metadata": {
  "kernelspec": {
   "display_name": "engr131_dev",
   "language": "python",
   "name": "python3"
  },
  "language_info": {
   "codemirror_mode": {
    "name": "ipython",
    "version": 3
   },
   "file_extension": ".py",
   "mimetype": "text/x-python",
   "name": "python",
   "nbconvert_exporter": "python",
   "pygments_lexer": "ipython3",
   "version": "3.12.7"
  },
  "otter": {
   "OK_FORMAT": true,
   "tests": {
    "HorseshoeCrab-Magic-Methods": {
     "name": "HorseshoeCrab-Magic-Methods",
     "points": null,
     "suites": [
      {
       "cases": [
        {
         "code": ">>> from pykubegrader.telemetry import ensure_responses, log_variable, score_question, submit_question, telemetry, update_responses\n>>> import os\n>>> import base64\n>>> max_question_points = str(13.0)\n>>> earned_points = 0\n>>> os.environ['EARNED_POINTS'] = str(earned_points)\n>>> os.environ['TOTAL_POINTS_FREE_RESPONSE'] = str(13.0)\n>>> log_variable('total-points', f'week7-readings, 7_magic_methods_horseshoe_q', 13.0)\n>>> question_id = 'HorseshoeCrab-Magic-Methods-1'\n>>> max_score = 1.0\n>>> score = 0\n>>> class_exists = 'HorseshoeCrab' in globals()\n>>> assert class_exists, 'The class `HorseshoeCrab` must be defined in the script.'\n>>> if class_exists:\n...     score = 1.0\n>>> earned_points = float(os.environ.get('EARNED_POINTS', 0))\n>>> earned_points += score\n>>> log_variable('7_magic_methods_horseshoe_q', f'{score}, {max_score}', question_id)\n>>> os.environ['EARNED_POINTS'] = str(earned_points)\n>>> responses = update_responses(question_id, str(class_exists))\n",
         "failure_message": "Failed: `HorseshoeCrab` class is not defined.",
         "hidden": false,
         "locked": false,
         "points": 1,
         "success_message": "Success: `HorseshoeCrab` class is defined!"
        },
        {
         "code": ">>> from pykubegrader.telemetry import ensure_responses, log_variable, score_question, submit_question, telemetry, update_responses\n>>> import os\n>>> import base64\n>>> question_id = 'HorseshoeCrab-Magic-Methods-2'\n>>> max_score = 2.0\n>>> score = 0\n>>> test_crab = HorseshoeCrab('Tachypleus tridentatus', 120)\n>>> crab_attributes = {'species': test_crab.species, 'hemocyanin_level': test_crab.hemocyanin_level}\n>>> expected_attributes = {'species': 'Tachypleus tridentatus', 'hemocyanin_level': 120}\n>>> condition = crab_attributes == expected_attributes\n>>> assert condition, f'Expected {expected_attributes}, but got {crab_attributes}.'\n>>> if condition:\n...     score = 2.0\n>>> earned_points = float(os.environ.get('EARNED_POINTS', 0))\n>>> earned_points += score\n>>> log_variable('7_magic_methods_horseshoe_q', f'{score}, {max_score}', question_id)\n>>> os.environ['EARNED_POINTS'] = str(earned_points)\n>>> responses = update_responses(question_id, str(crab_attributes))\n",
         "failure_message": "Failed: `HorseshoeCrab` does not initialize attributes correctly.",
         "hidden": false,
         "locked": false,
         "points": 2,
         "success_message": "Success: `HorseshoeCrab` initializes attributes correctly!"
        },
        {
         "code": ">>> from pykubegrader.telemetry import ensure_responses, log_variable, score_question, submit_question, telemetry, update_responses\n>>> import os\n>>> import base64\n>>> question_id = 'HorseshoeCrab-Magic-Methods-3'\n>>> max_score = 2.0\n>>> score = 0\n>>> test_crab = HorseshoeCrab('Carcinoscorpius rotundicauda', 85)\n>>> crab_string = str(test_crab)\n>>> expected_string = 'Horseshoe Crab of species Carcinoscorpius rotundicauda, hemocyanin level: 85'\n>>> condition = crab_string == expected_string\n>>> assert condition, f\"Expected '{expected_string}', but got '{crab_string}'.\"\n>>> if condition:\n...     score = 2.0\n>>> earned_points = float(os.environ.get('EARNED_POINTS', 0))\n>>> earned_points += score\n>>> log_variable('7_magic_methods_horseshoe_q', f'{score}, {max_score}', question_id)\n>>> os.environ['EARNED_POINTS'] = str(earned_points)\n>>> responses = update_responses(question_id, str(crab_string))\n",
         "failure_message": "Failed: `__str__()` does not return the correct string.",
         "hidden": false,
         "locked": false,
         "points": 2,
         "success_message": "Success: `__str__()` correctly represents the crab!"
        },
        {
         "code": ">>> from pykubegrader.telemetry import ensure_responses, log_variable, score_question, submit_question, telemetry, update_responses\n>>> import os\n>>> import base64\n>>> question_id = 'HorseshoeCrab-Magic-Methods-4'\n>>> max_score = 3.0\n>>> score = 0\n>>> crab1 = HorseshoeCrab('Limulus polyphemus', 200)\n>>> crab2 = HorseshoeCrab('Limulus polyphemus', 300)\n>>> combined_crab = crab1 + crab2\n>>> combined_hemocyanin = combined_crab.hemocyanin_level\n>>> expected_hemocyanin = 500\n>>> condition = combined_hemocyanin == expected_hemocyanin\n>>> assert condition, f'Expected hemocyanin level {expected_hemocyanin}, but got {combined_hemocyanin}.'\n>>> if condition:\n...     score = 3.0\n>>> earned_points = float(os.environ.get('EARNED_POINTS', 0))\n>>> earned_points += score\n>>> log_variable('7_magic_methods_horseshoe_q', f'{score}, {max_score}', question_id)\n>>> os.environ['EARNED_POINTS'] = str(earned_points)\n>>> responses = update_responses(question_id, str(combined_hemocyanin))\n",
         "failure_message": "Failed: `__add__()` does not add hemocyanin levels correctly.",
         "hidden": false,
         "locked": false,
         "points": 3,
         "success_message": "Success: `__add__()` correctly adds hemocyanin levels!"
        },
        {
         "code": ">>> from pykubegrader.telemetry import ensure_responses, log_variable, score_question, submit_question, telemetry, update_responses\n>>> import os\n>>> import base64\n>>> question_id = 'HorseshoeCrab-Magic-Methods-5'\n>>> max_score = 3.0\n>>> score = 0\n>>> crab1 = HorseshoeCrab('Limulus polyphemus', 200)\n>>> crab2 = HorseshoeCrab('Limulus polyphemus', 300)\n>>> combined_crab = crab1 + crab2\n>>> combined_hemocyanin = combined_crab.hemocyanin_level\n>>> expected_hemocyanin = 500\n>>> condition = combined_hemocyanin == expected_hemocyanin\n>>> assert condition, f'Expected hemocyanin level {expected_hemocyanin}, but got {combined_hemocyanin}.'\n>>> if condition:\n...     score = 3.0\n>>> earned_points = float(os.environ.get('EARNED_POINTS', 0))\n>>> earned_points += score\n>>> log_variable('7_magic_methods_horseshoe_q', f'{score}, {max_score}', question_id)\n>>> os.environ['EARNED_POINTS'] = str(earned_points)\n>>> responses = update_responses(question_id, str(combined_hemocyanin))\n",
         "failure_message": "Failed: `__add__()` does not add hemocyanin levels correctly.",
         "hidden": false,
         "locked": false,
         "points": 3,
         "success_message": "Success: `__add__()` correctly adds hemocyanin levels!"
        },
        {
         "code": ">>> from pykubegrader.telemetry import ensure_responses, log_variable, score_question, submit_question, telemetry, update_responses\n>>> import os\n>>> import base64\n>>> question_id = 'HorseshoeCrab-Magic-Methods-6'\n>>> max_score = 2.0\n>>> score = 0\n>>> crab1 = HorseshoeCrab('Limulus polyphemus', 250)\n>>> crab2 = HorseshoeCrab('Limulus polyphemus', 250)\n>>> crab3 = HorseshoeCrab('Limulus polyphemus', 300)\n>>> equality_check = crab1 == crab2 and (not crab1 == crab3)\n>>> assert equality_check\n>>> if equality_check:\n...     score = 2.0\n>>> earned_points = float(os.environ.get('EARNED_POINTS', 0))\n>>> earned_points += score\n>>> log_variable('7_magic_methods_horseshoe_q', f'{score}, {max_score}', question_id)\n>>> os.environ['EARNED_POINTS'] = str(earned_points)\n>>> responses = update_responses(question_id, str(equality_check))\n",
         "failure_message": "Failed: `__eq__()` does not compare crabs correctly.",
         "hidden": false,
         "locked": false,
         "points": 2,
         "success_message": "Success: `__eq__()` correctly compares crabs!"
        }
       ],
       "scored": true,
       "setup": "",
       "teardown": "",
       "type": "doctest"
      }
     ]
    }
   }
  }
 },
 "nbformat": 4,
 "nbformat_minor": 5
}
