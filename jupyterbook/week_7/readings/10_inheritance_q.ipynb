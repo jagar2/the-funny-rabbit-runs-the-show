{
 "cells": [
  {
   "cell_type": "code",
   "execution_count": null,
   "id": "0",
   "metadata": {
    "deletable": false,
    "editable": false,
    "tags": [
     "skip-execution"
    ]
   },
   "outputs": [],
   "source": [
    "# You must make sure to run all cells in sequence using shift + enter or you might encounter errors\n",
    "from pykubegrader.initialize import initialize_assignment\n",
    "\n",
    "responses = initialize_assignment(\"10_inheritance_q\", \"week_7\", \"readings\", assignment_points = 24.0, assignment_tag = 'week7-readings')\n",
    "\n",
    "# Initialize Otter\n",
    "import otter\n",
    "grader = otter.Notebook(\"10_inheritance_q.ipynb\")"
   ]
  },
  {
   "cell_type": "markdown",
   "id": "1",
   "metadata": {
    "deletable": false,
    "editable": false
   },
   "source": [
    "# ❓🏈 Inheritance in Python: Building NFL Madden Player Classes\n",
    "\n",
    "![](./assets/figures/justinJ.jpeg)\n",
    "\n",
    "The **Madden NFL** video game franchise has been a staple for football fans for decades. Each player in the game has unique **attributes and abilities**, but all players share common **characteristics** like **name, position, and rating**.  \n",
    "\n",
    "In Python, **inheritance** allows us to model this by creating a **base Player class** and extending it into **specialized player types** like **Quarterbacks, Wide Receivers, and Defensive Linemen**.  \n",
    "\n",
    "Let’s explore **how inheritance helps us organize player attributes and skills in Madden NFL** using Python classes!"
   ]
  },
  {
   "cell_type": "code",
   "execution_count": null,
   "id": "2",
   "metadata": {
    "tags": [
     "skip-execution"
    ]
   },
   "outputs": [],
   "source": [
    "# Run this block of code by pressing Shift + Enter to display the question\n",
    "from questions._10_inheritance_q import Question1\n",
    "Question1().show()\n"
   ]
  },
  {
   "cell_type": "code",
   "execution_count": null,
   "id": "3",
   "metadata": {
    "tags": [
     "skip-execution"
    ]
   },
   "outputs": [],
   "source": [
    "# Run this block of code by pressing Shift + Enter to display the question\n",
    "from questions._10_inheritance_q import Question2\n",
    "Question2().show()\n"
   ]
  },
  {
   "cell_type": "code",
   "execution_count": null,
   "id": "4",
   "metadata": {
    "tags": [
     "skip-execution"
    ]
   },
   "outputs": [],
   "source": [
    "# Run this block of code by pressing Shift + Enter to display the question\n",
    "from questions._10_inheritance_q import Question3\n",
    "Question3().show()\n"
   ]
  },
  {
   "cell_type": "markdown",
   "id": "5",
   "metadata": {
    "deletable": false,
    "editable": false
   },
   "source": [
    "## Question 1 (Points: 15.0): 🏈 Free Response: Create an Inheritance Structure for Madden NFL Players\n",
    "\n",
    "Implement a class hierarchy for Madden NFL players:\n",
    "\n",
    "- Create a **base class** `Player` with:\n",
    "    - `name` (str) and `rating` (int).\n",
    "    - A method `describe()` that prints player details. It should print `Player: <name>, Rating: <rating>`, where the `<name>` and `<rating>` are the player's attributes.\n",
    "- Create a subclass `Quarterback` that:\n",
    "    - Inherits from `Player`.\n",
    "    - Adds a `throwing_power` attribute.\n",
    "    - Overrides `describe()` to include `throwing_power`. To do this, you need to call super on the `describe()` method of the parent class.\n",
    "\n",
    "### **Example Usage**\n",
    "```python\n",
    "qb = Quarterback(\"Lamar Jackson\", 91, 96)\n",
    "qb.describe()\n",
    "```\n",
    "**Expected Output:**\n",
    "```\n",
    "Player: Lamar Jackson, Rating: 91\n",
    "Throwing Power: 96\n",
    "```"
   ]
  },
  {
   "cell_type": "code",
   "execution_count": null,
   "id": "6",
   "metadata": {
    "tags": [
     "skip-execution"
    ]
   },
   "outputs": [],
   "source": [
    "...\n",
    "\n",
    "# Example usage\n",
    "qb = Quarterback(\"Lamar Jackson\", 91, 96)\n",
    "qb.describe()"
   ]
  },
  {
   "cell_type": "code",
   "execution_count": null,
   "id": "7",
   "metadata": {
    "deletable": false,
    "editable": false,
    "tags": [
     "skip-execution"
    ]
   },
   "outputs": [],
   "source": [
    "grader.check(\"Madden-Inheritance-Classes\")"
   ]
  },
  {
   "cell_type": "markdown",
   "id": "8",
   "metadata": {},
   "source": [
    "## Submitting Assignment\n",
    "\n",
    "Please run the following block of code using `shift + enter` to submit your assignment, you should see your score."
   ]
  },
  {
   "cell_type": "code",
   "execution_count": null,
   "id": "9",
   "metadata": {
    "deletable": false,
    "editable": true,
    "tags": [
     "skip-execution"
    ]
   },
   "outputs": [],
   "source": [
    "from pykubegrader.submit.submit_assignment import submit_assignment\n",
    "\n",
    "submit_assignment(\"week7-readings\", \"10_inheritance_q\")"
   ]
  }
 ],
 "metadata": {
  "kernelspec": {
   "display_name": "engr131_dev",
   "language": "python",
   "name": "python3"
  },
  "language_info": {
   "codemirror_mode": {
    "name": "ipython",
    "version": 3
   },
   "file_extension": ".py",
   "mimetype": "text/x-python",
   "name": "python",
   "nbconvert_exporter": "python",
   "pygments_lexer": "ipython3",
   "version": "3.12.7"
  },
  "otter": {
   "OK_FORMAT": true,
   "tests": {
    "Madden-Inheritance-Classes": {
     "name": "Madden-Inheritance-Classes",
     "points": null,
     "suites": [
      {
       "cases": [
        {
         "code": ">>> from pykubegrader.telemetry import ensure_responses, log_variable, score_question, submit_question, telemetry, update_responses\n>>> import os\n>>> import base64\n>>> max_question_points = str(15.0)\n>>> earned_points = 0\n>>> os.environ['EARNED_POINTS'] = str(earned_points)\n>>> os.environ['TOTAL_POINTS_FREE_RESPONSE'] = str(15.0)\n>>> log_variable('total-points', f'week7-readings, 10_inheritance_q', 15.0)\n>>> question_id = 'Madden-Inheritance-Classes-1'\n>>> max_score = 1.0\n>>> score = 0\n>>> class_exists = 'Player' in globals() and 'Quarterback' in globals()\n>>> assert class_exists, 'Both `Player` and `Quarterback` classes must be defined.'\n>>> if class_exists:\n...     score = 1.0\n>>> earned_points = float(os.environ.get('EARNED_POINTS', 0))\n>>> earned_points += score\n>>> log_variable('10_inheritance_q', f'{score}, {max_score}', question_id)\n>>> os.environ['EARNED_POINTS'] = str(earned_points)\n>>> responses = update_responses(question_id, str(class_exists))\n",
         "failure_message": "Failed: One or both classes (`Player`, `Quarterback`) are missing.",
         "hidden": false,
         "locked": false,
         "points": 1,
         "success_message": "Success: `Player` and `Quarterback` classes are defined!"
        },
        {
         "code": ">>> from pykubegrader.telemetry import ensure_responses, log_variable, score_question, submit_question, telemetry, update_responses\n>>> import os\n>>> import base64\n>>> question_id = 'Madden-Inheritance-Classes-2'\n>>> max_score = 2.0\n>>> score = 0\n>>> test_player = Player('Patrick Mahomes', 97)\n>>> player_attributes = {'name': test_player.name, 'rating': test_player.rating}\n>>> expected_attributes = {'name': 'Patrick Mahomes', 'rating': 97}\n>>> condition = player_attributes == expected_attributes\n>>> assert condition, f'Expected {expected_attributes}, but got {player_attributes}.'\n>>> if condition:\n...     score = 2.0\n>>> earned_points = float(os.environ.get('EARNED_POINTS', 0))\n>>> earned_points += score\n>>> log_variable('10_inheritance_q', f'{score}, {max_score}', question_id)\n>>> os.environ['EARNED_POINTS'] = str(earned_points)\n>>> responses = update_responses(question_id, str(player_attributes))\n",
         "failure_message": "Failed: `Player` does not initialize attributes correctly.",
         "hidden": false,
         "locked": false,
         "points": 2,
         "success_message": "Success: `Player` initializes attributes correctly!"
        },
        {
         "code": ">>> from pykubegrader.telemetry import ensure_responses, log_variable, score_question, submit_question, telemetry, update_responses\n>>> import os\n>>> import base64\n>>> question_id = 'Madden-Inheritance-Classes-3'\n>>> max_score = 2.0\n>>> score = 0\n>>> test_qb = Quarterback('Josh Allen', 92, 98)\n>>> qb_attributes = {'name': test_qb.name, 'rating': test_qb.rating, 'throwing_power': test_qb.throwing_power}\n>>> expected_attributes = {'name': 'Josh Allen', 'rating': 92, 'throwing_power': 98}\n>>> condition = qb_attributes == expected_attributes\n>>> assert condition, f'Expected {expected_attributes}, but got {qb_attributes}.'\n>>> if condition:\n...     score = 2.0\n>>> earned_points = float(os.environ.get('EARNED_POINTS', 0))\n>>> earned_points += score\n>>> log_variable('10_inheritance_q', f'{score}, {max_score}', question_id)\n>>> os.environ['EARNED_POINTS'] = str(earned_points)\n>>> responses = update_responses(question_id, str(qb_attributes))\n",
         "failure_message": "Failed: `Quarterback` does not initialize attributes correctly.",
         "hidden": false,
         "locked": false,
         "points": 2,
         "success_message": "Success: `Quarterback` initializes attributes correctly!"
        },
        {
         "code": ">>> from pykubegrader.telemetry import ensure_responses, log_variable, score_question, submit_question, telemetry, update_responses\n>>> import os\n>>> import base64\n>>> question_id = 'Madden-Inheritance-Classes-4'\n>>> max_score = 2.0\n>>> score = 0\n>>> is_subclass = issubclass(Quarterback, Player)\n>>> assert is_subclass, '`Quarterback` must inherit from `Player`.'\n>>> if is_subclass:\n...     score = 2.0\n>>> earned_points = float(os.environ.get('EARNED_POINTS', 0))\n>>> earned_points += score\n>>> log_variable('10_inheritance_q', f'{score}, {max_score}', question_id)\n>>> os.environ['EARNED_POINTS'] = str(earned_points)\n>>> responses = update_responses(question_id, str(is_subclass))\n",
         "failure_message": "Failed: `Quarterback` does not inherit from `Player`.",
         "hidden": false,
         "locked": false,
         "points": 2,
         "success_message": "Success: `Quarterback` correctly inherits from `Player`!"
        },
        {
         "code": ">>> from pykubegrader.telemetry import ensure_responses, log_variable, score_question, submit_question, telemetry, update_responses\n>>> import os\n>>> import base64\n>>> question_id = 'Madden-Inheritance-Classes-5'\n>>> max_score = 2.0\n>>> score = 0\n>>> is_subclass = issubclass(Quarterback, Player)\n>>> assert is_subclass, '`Quarterback` must inherit from `Player`.'\n>>> if is_subclass:\n...     score = 2.0\n>>> earned_points = float(os.environ.get('EARNED_POINTS', 0))\n>>> earned_points += score\n>>> log_variable('10_inheritance_q', f'{score}, {max_score}', question_id)\n>>> os.environ['EARNED_POINTS'] = str(earned_points)\n>>> responses = update_responses(question_id, str(is_subclass))\n",
         "failure_message": "Failed: `Quarterback` does not inherit from `Player`.",
         "hidden": false,
         "locked": false,
         "points": 2,
         "success_message": "Success: `Quarterback` correctly inherits from `Player`!"
        },
        {
         "code": ">>> from pykubegrader.telemetry import ensure_responses, log_variable, score_question, submit_question, telemetry, update_responses\n>>> import os\n>>> import base64\n>>> import inspect\n>>> question_id = 'Madden-Inheritance-Classes-6'\n>>> max_score = 2.0\n>>> score = 0\n>>> qb_describe_code = inspect.getsource(Quarterback.describe)\n>>> method_overridden = 'super().describe()' in qb_describe_code\n>>> assert method_overridden, 'The `describe()` method in `Quarterback` must call `super().describe()`.'\n>>> if method_overridden:\n...     score = 2.0\n>>> earned_points = float(os.environ.get('EARNED_POINTS', 0))\n>>> earned_points += score\n>>> log_variable('10_inheritance_q', f'{score}, {max_score}', question_id)\n>>> os.environ['EARNED_POINTS'] = str(earned_points)\n>>> responses = update_responses(question_id, str(method_overridden))\n",
         "failure_message": "Failed: `Quarterback.describe()` does not override `Player.describe()`.",
         "hidden": false,
         "locked": false,
         "points": 2,
         "success_message": "Success: `Quarterback.describe()` overrides `Player.describe()` correctly!"
        },
        {
         "code": ">>> from pykubegrader.telemetry import ensure_responses, log_variable, score_question, submit_question, telemetry, update_responses\n>>> import os\n>>> import base64\n>>> import io\n>>> from contextlib import redirect_stdout\n>>> question_id = 'Madden-Inheritance-Classes-7'\n>>> max_score = 2.0\n>>> score = 0\n>>> output = io.StringIO()\n>>> test_player = Player('Joe Burrow', 95)\n>>> with redirect_stdout(output):\n...     test_player.describe()\n>>> stdout_content = output.getvalue().strip()\n>>> expected_output = 'Player: Joe Burrow, Rating: 95'\n>>> condition = stdout_content == expected_output\n>>> assert condition, f\"Expected '{expected_output}', but got '{stdout_content}'.\"\n>>> if condition:\n...     score = 2.0\n>>> earned_points = float(os.environ.get('EARNED_POINTS', 0))\n>>> earned_points += score\n>>> log_variable('10_inheritance_q', f'{score}, {max_score}', question_id)\n>>> os.environ['EARNED_POINTS'] = str(earned_points)\n>>> responses = update_responses(question_id, str(stdout_content))\n",
         "failure_message": "Failed: `describe()` does not print correctly for `Player`.",
         "hidden": false,
         "locked": false,
         "points": 2,
         "success_message": "Success: `describe()` correctly prints for `Player`!"
        },
        {
         "code": ">>> from pykubegrader.telemetry import ensure_responses, log_variable, score_question, submit_question, telemetry, update_responses\n>>> import os\n>>> import base64\n>>> import io\n>>> from contextlib import redirect_stdout\n>>> question_id = 'Madden-Inheritance-Classes-8'\n>>> max_score = 2.0\n>>> score = 0\n>>> output = io.StringIO()\n>>> test_qb = Quarterback('Aaron Rodgers', 94, 97)\n>>> with redirect_stdout(output):\n...     test_qb.describe()\n>>> stdout_content = output.getvalue().strip()\n>>> expected_output = 'Player: Aaron Rodgers, Rating: 94\\nThrowing Power: 97'\n>>> condition = stdout_content == expected_output\n>>> assert condition, f\"Expected:\\n'{expected_output}'\\nbut got:\\n'{stdout_content}'.\"\n>>> if condition:\n...     score = 2.0\n>>> earned_points = float(os.environ.get('EARNED_POINTS', 0))\n>>> earned_points += score\n>>> log_variable('10_inheritance_q', f'{score}, {max_score}', question_id)\n>>> os.environ['EARNED_POINTS'] = str(earned_points)\n>>> responses = update_responses(question_id, str(stdout_content))\n",
         "failure_message": "Failed: `describe()` does not print correctly for `Quarterback`.",
         "hidden": false,
         "locked": false,
         "points": 2,
         "success_message": "Success: `describe()` correctly prints for `Quarterback`!"
        }
       ],
       "scored": true,
       "setup": "",
       "teardown": "",
       "type": "doctest"
      }
     ]
    }
   }
  }
 },
 "nbformat": 4,
 "nbformat_minor": 5
}
