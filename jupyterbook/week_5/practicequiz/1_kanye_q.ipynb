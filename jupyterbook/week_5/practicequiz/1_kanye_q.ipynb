{
 "cells": [
  {
   "cell_type": "code",
   "execution_count": null,
   "id": "0",
   "metadata": {
    "deletable": false,
    "editable": false,
    "tags": [
     "skip-execution"
    ]
   },
   "outputs": [],
   "source": [
    "# You must make sure to run all cells in sequence using shift + enter or you might encounter errors\n",
    "from pykubegrader.initialize import initialize_assignment\n",
    "\n",
    "responses = initialize_assignment(\"1_kanye_q\", \"week_5\", \"practicequiz\", assignment_points = 16.0, assignment_tag = 'week5-practicequiz')\n",
    "\n",
    "# Initialize Otter\n",
    "import otter\n",
    "grader = otter.Notebook(\"1_kanye_q.ipynb\")"
   ]
  },
  {
   "cell_type": "markdown",
   "id": "1",
   "metadata": {
    "deletable": false,
    "editable": false
   },
   "source": [
    "# ❓ Practice Quiz: Kanye Says the Darndest Things! 🤔\n",
    "\n",
    "<video width=\"640\" height=\"360\" controls>\n",
    "  <source src=\"../../_static/bo_burnam_movie.mp4\" type=\"video/mp4\">\n",
    "  Your browser does not support the video tag.\n",
    "</video>\n",
    "\n",
    "Kanye is known for making **outrageous, unpredictable** statements. Your job? \n",
    "\n",
    "Write functions that **track, analyze, and fact-check** Kanye’s wildest quotes! 🎤🔥"
   ]
  },
  {
   "cell_type": "code",
   "execution_count": null,
   "id": "2",
   "metadata": {
    "tags": [
     "skip-execution"
    ]
   },
   "outputs": [],
   "source": [
    "# Run this block of code by pressing Shift + Enter to display the question\n",
    "from questions._1_kanye_q import Question1\n",
    "Question1().show()\n"
   ]
  },
  {
   "cell_type": "code",
   "execution_count": null,
   "id": "3",
   "metadata": {
    "tags": [
     "skip-execution"
    ]
   },
   "outputs": [],
   "source": [
    "# Run this block of code by pressing Shift + Enter to display the question\n",
    "from questions._1_kanye_q import Question2\n",
    "Question2().show()\n"
   ]
  },
  {
   "cell_type": "code",
   "execution_count": null,
   "id": "4",
   "metadata": {
    "tags": [
     "skip-execution"
    ]
   },
   "outputs": [],
   "source": [
    "# Run this block of code by pressing Shift + Enter to display the question\n",
    "from questions._1_kanye_q import Question3\n",
    "Question3().show()\n"
   ]
  },
  {
   "cell_type": "markdown",
   "id": "5",
   "metadata": {
    "deletable": false,
    "editable": false
   },
   "source": [
    "## Question 1 (Points: 7.0): Kanye’s Wildest Quotes Tracker 🎤🔥\n",
    "\n",
    "\n",
    " Kanye’s interviews are **full of unpredictable statements**. We need a function to **track** what he says and **detect the wildest moments**.\n",
    "\n",
    " The program should:\n",
    "\n",
    " 1. Accept an arbitrary number of **Kanye quotes** using `*args`.\n",
    "\n",
    " 2. Detect if any quote exceeds **500 characters**, and print a warning if detected.\n",
    "\n",
    " 3. Calculate the **total length of all Kanye’s statements** and return it.\n",
    "\n",
    " 4. Allow an optional `alert_threshold` parameter using `**kwargs` to adjust the warning limit dynamically.\n",
    "\n",
    "\n",
    " ### Implementation Details\n",
    "\n",
    " 1. Define a function `track_kanye(*args, **kwargs)`.\n",
    "\n",
    " 2. Loop through all `*args` values and:\n",
    "\n",
    "    - Print a **warning message** if any quote exceeds `500 characters` or the provided `alert_threshold` from `**kwargs`.\n",
    "\n",
    " 3. Calculate the **total length of all quotes**.\n",
    "\n",
    " 4. Return the total character count."
   ]
  },
  {
   "cell_type": "code",
   "execution_count": null,
   "id": "6",
   "metadata": {
    "tags": [
     "skip-execution"
    ]
   },
   "outputs": [],
   "source": [
    "# Define the function to monitor Kanye quotes\n",
    "...\n",
    "\n",
    "    # Extract the alert threshold from the keyword arguments\n",
    "    # Recall kwargs is a dictionary, and thus we can use the get method to extract the value of the key \"alert_threshold\"\n",
    "    ...\n",
    "    \n",
    "    # Initialize an empty list to store warnings\n",
    "    ...\n",
    "    \n",
    "    # Iterate over the quotes and check if any quote exceeds the alert threshold\n",
    "    # If a quote exceeds the alert threshold, append a warning to the warnings list\n",
    "    # we have provided a sample warning message for you to use, look at the call to determine the correct variable to use\n",
    "    ...\n",
    "            warnings.append(f\"⚠️ Warning: Extremely long Kanye quote detected ({len(quote)} characters)!\")\n",
    "\n",
    "    # Calculate the total length of all quotes\n",
    "    # We can use a generator expression to calculate the total length of all quotes\n",
    "    # Store the total length in a variable called total_length\n",
    "    ...\n",
    "    \n",
    "    # Return the total length of all quotes and the warnings\n",
    "    ...\n"
   ]
  },
  {
   "cell_type": "code",
   "execution_count": null,
   "id": "7",
   "metadata": {
    "deletable": false,
    "editable": false,
    "tags": [
     "skip-execution"
    ]
   },
   "outputs": [],
   "source": [
    "grader.check(\"Kanye-Quote-Analysis\")"
   ]
  },
  {
   "cell_type": "markdown",
   "id": "8",
   "metadata": {},
   "source": [
    "## Submitting Assignment\n",
    "\n",
    "Please run the following block of code using `shift + enter` to submit your assignment, you should see your score."
   ]
  },
  {
   "cell_type": "code",
   "execution_count": null,
   "id": "9",
   "metadata": {
    "deletable": false,
    "editable": false,
    "tags": [
     "skip-execution"
    ]
   },
   "outputs": [],
   "source": [
    "from pykubegrader.submit.submit_assignment import submit_assignment\n",
    "\n",
    "submit_assignment(\"week5-practicequiz\", \"1_kanye_q\")"
   ]
  }
 ],
 "metadata": {
  "kernelspec": {
   "display_name": "engr131_dev",
   "language": "python",
   "name": "python3"
  },
  "language_info": {
   "codemirror_mode": {
    "name": "ipython",
    "version": 3
   },
   "file_extension": ".py",
   "mimetype": "text/x-python",
   "name": "python",
   "nbconvert_exporter": "python",
   "pygments_lexer": "ipython3",
   "version": "3.12.7"
  },
  "otter": {
   "OK_FORMAT": true,
   "tests": {
    "Kanye-Quote-Analysis": {
     "name": "Kanye-Quote-Analysis",
     "points": null,
     "suites": [
      {
       "cases": [
        {
         "code": ">>> from pykubegrader.telemetry import ensure_responses, log_variable, score_question, submit_question, telemetry, update_responses\n>>> import os\n>>> import base64\n>>> max_question_points = str(7.0)\n>>> earned_points = 0\n>>> os.environ['EARNED_POINTS'] = str(earned_points)\n>>> os.environ['TOTAL_POINTS_FREE_RESPONSE'] = str(7.0)\n>>> log_variable('total-points', f'Reading-Week-X, 1_kanye_q', 7.0)\n>>> question_id = 'Kanye-Quote-Analysis-1'\n>>> max_score = 2.0\n>>> score = 0\n>>> exec(base64.b64decode('dG90YWxfbGVuZ3RoLCBfID0gdHJhY2tfa2FueWUoIkkgYW0gYSBjcmVhdGl2ZSBnZW5pdXMuIiwgIkkgYW0gdGhlIGJlc3QgYXJ0aXN0IG9mIGFsbCB0aW1lLiIp').decode())\n>>> exec(base64.b64decode('dG90YWxfbGVuZ3RoXyA9IGxlbigiSSBhbSBhIGNyZWF0aXZlIGdlbml1cy4iKSArIGxlbigiSSBhbSB0aGUgYmVzdCBhcnRpc3Qgb2YgYWxsIHRpbWUuIik=').decode())\n>>> condition = total_length_ == total_length\n>>> assert condition\n>>> if condition:\n...     score = 2.0\n>>> earned_points = float(os.environ.get('EARNED_POINTS', 0))\n>>> earned_points += score\n>>> log_variable('1_kanye_q', f'{score}, {max_score}', question_id)\n>>> os.environ['EARNED_POINTS'] = str(earned_points)\n",
         "failure_message": "Failed: Function does not correctly calculate total character count.",
         "hidden": false,
         "locked": false,
         "points": 2,
         "success_message": "Success: Function correctly calculates total character count!"
        },
        {
         "code": ">>> from pykubegrader.telemetry import ensure_responses, log_variable, score_question, submit_question, telemetry, update_responses\n>>> import os\n>>> import base64\n>>> question_id = 'Kanye-Quote-Analysis-2'\n>>> max_score = 2.0\n>>> score = 0\n>>> _, warnings = track_kanye('This is a very long quote that keeps going on and on ' * 10)\n>>> expected_warning = '⚠️ Warning: Extremely long Kanye quote detected'\n>>> assert any((expected_warning in warning for warning in warnings)), 'Expected warning but did not find it.'\n>>> if any((expected_warning in warning for warning in warnings)):\n...     score = 2.0\n>>> earned_points = float(os.environ.get('EARNED_POINTS', 0))\n>>> earned_points += score\n>>> log_variable('1_kanye_q', f'{score}, {max_score}', question_id)\n>>> os.environ['EARNED_POINTS'] = str(earned_points)\n",
         "failure_message": "Failed: Function does not correctly detect long Kanye quotes.",
         "hidden": false,
         "locked": false,
         "points": 2,
         "success_message": "Success: Function correctly detects long Kanye quotes!"
        },
        {
         "code": ">>> from pykubegrader.telemetry import ensure_responses, log_variable, score_question, submit_question, telemetry, update_responses\n>>> import os\n>>> import base64\n>>> question_id = 'Kanye-Quote-Analysis-3'\n>>> max_score = 1.0\n>>> score = 0\n>>> _, warnings = track_kanye('Short', 'This is an extra long quote' * 20, alert_threshold=1000)\n>>> assert not warnings, 'Expected no warnings for a custom alert threshold of 1000.'\n>>> if not warnings:\n...     score = 1.0\n>>> earned_points = float(os.environ.get('EARNED_POINTS', 0))\n>>> earned_points += score\n>>> log_variable('1_kanye_q', f'{score}, {max_score}', question_id)\n>>> os.environ['EARNED_POINTS'] = str(earned_points)\n",
         "failure_message": "Failed: Function does not apply custom alert threshold correctly.",
         "hidden": false,
         "locked": false,
         "points": 1,
         "success_message": "Success: Function correctly applies custom alert threshold!"
        },
        {
         "code": ">>> from pykubegrader.telemetry import ensure_responses, log_variable, score_question, submit_question, telemetry, update_responses\n>>> import os\n>>> import base64\n>>> question_id = 'Kanye-Quote-Analysis-4'\n>>> max_score = 2.0\n>>> score = 0\n>>> total_length, warnings = track_kanye()\n>>> assert total_length == 0, 'Expected total character count to be 0 for empty input.'\n>>> assert not warnings, 'Expected no warnings for empty input.'\n>>> if total_length == 0 and (not warnings):\n...     score = 2.0\n>>> earned_points = float(os.environ.get('EARNED_POINTS', 0))\n>>> earned_points += score\n>>> log_variable('1_kanye_q', f'{score}, {max_score}', question_id)\n>>> os.environ['EARNED_POINTS'] = str(earned_points)\n",
         "failure_message": "Failed: Function does not handle empty input correctly.",
         "hidden": false,
         "locked": false,
         "points": 2,
         "success_message": "Success: Function correctly handles edge cases (no quotes)!"
        }
       ],
       "scored": true,
       "setup": "",
       "teardown": "",
       "type": "doctest"
      }
     ]
    }
   }
  }
 },
 "nbformat": 4,
 "nbformat_minor": 5
}
