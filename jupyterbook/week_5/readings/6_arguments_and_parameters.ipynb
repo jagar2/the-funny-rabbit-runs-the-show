{
 "cells": [
  {
   "cell_type": "markdown",
   "id": "0",
   "metadata": {},
   "source": [
    "# 🖖 Arguments and Parameters: The Spock & Captain Kirk Duo\n",
    "\n",
    "![](./assets/figures/spock-and-captian-kirk.jpg)\n",
    "\n",
    "In the world of Python functions, parameters and arguments work together like the ultimate sci-fi team: Spock and Captain Kirk from _Star Trek_. 🚀\n",
    "\n",
    "- Parameters: The logical, methodical Spock 🖖 who defines the rules and structure of the function.\n",
    "- Arguments: The adventurous, daring Captain Kirk 👨‍🚀 who brings the actual data (and maybe some chaos) to boldly go where no function has gone before.\n",
    "\n",
    "Let’s beam up some knowledge and explore this dynamic duo in detail! 🌌✨\n"
   ]
  },
  {
   "cell_type": "markdown",
   "id": "1",
   "metadata": {},
   "source": [
    "## 🖖 Parameters: Spock Defines the Mission\n",
    "\n",
    "A parameter is a placeholder—a logical variable declared in the function’s definition. Just like Spock, parameters don’t act on their own. They calmly wait for the arguments (Captain Kirk) to bring the mission data. 🪐\n"
   ]
  },
  {
   "cell_type": "markdown",
   "id": "2",
   "metadata": {},
   "source": [
    "### Example: Spock Prepares the Function\n"
   ]
  },
  {
   "cell_type": "code",
   "execution_count": null,
   "id": "3",
   "metadata": {},
   "outputs": [],
   "source": [
    "def explore_planet(planet_name, crew_size):\n",
    "    \"\"\"\n",
    "    Explores a planet based on its name and crew size.\n",
    "    Parameters:\n",
    "    - planet_name: Name of the planet to explore (string)\n",
    "    - crew_size: Number of crew members (int)\n",
    "    \"\"\"\n",
    "    print(f\"Exploring {planet_name} with {crew_size} crew members.\")"
   ]
  },
  {
   "cell_type": "markdown",
   "id": "4",
   "metadata": {},
   "source": [
    "\n",
    "- `planet_name` and `crew_size` are parameters—they define what the function _expects_.\n",
    "- Spock is methodical: he defines the logic but doesn’t execute it yet.\n"
   ]
  },
  {
   "cell_type": "markdown",
   "id": "5",
   "metadata": {},
   "source": [
    "## 👨‍🚀 Arguments: Captain Kirk Brings the Adventure\n",
    "\n",
    "An argument is the actual value you pass to the function when calling it. Captain Kirk, with all his boldness, supplies these real-world inputs to make Spock’s plans a reality! 🌟\n"
   ]
  },
  {
   "cell_type": "markdown",
   "id": "6",
   "metadata": {},
   "source": [
    "### Example: Kirk Calls the Function\n"
   ]
  },
  {
   "cell_type": "code",
   "execution_count": null,
   "id": "7",
   "metadata": {},
   "outputs": [],
   "source": [
    "explore_planet(\"Vulcan\", 5)\n",
    "# Output: Exploring Vulcan with 5 crew members."
   ]
  },
  {
   "cell_type": "markdown",
   "id": "8",
   "metadata": {},
   "source": [
    "\n",
    "- `\"Vulcan\"` and `5` are arguments—they’re the actual mission data.\n",
    "- Kirk takes action, assigning real values to the logical placeholders Spock defined.\n",
    "\n",
    "🎯 Key Difference:\n",
    "\n",
    "- Parameters = Defined in the function’s definition.\n",
    "- Arguments = Passed during the function call.\n"
   ]
  },
  {
   "cell_type": "markdown",
   "id": "9",
   "metadata": {},
   "source": [
    "## 🚀 How They Work Together: The Enterprise at Full Power\n",
    "\n",
    "When Captain Kirk supplies arguments, Spock plugs them into the function’s logic and executes the plan:\n"
   ]
  },
  {
   "cell_type": "markdown",
   "id": "10",
   "metadata": {},
   "source": [
    "### Example: Starfleet Mission\n"
   ]
  },
  {
   "cell_type": "code",
   "execution_count": null,
   "id": "11",
   "metadata": {},
   "outputs": [],
   "source": [
    "def starship_mission(destination, mission_type):\n",
    "    \"\"\"\n",
    "    Executes a Starfleet mission based on its destination and mission type.\n",
    "    \"\"\"\n",
    "    print(f\"Starship is heading to {destination} for a {mission_type} mission.\")\n",
    "\n",
    "# Kirk supplies the arguments:\n",
    "starship_mission(\"Andoria\", \"diplomatic\")\n",
    "starship_mission(\"Kronos\", \"combat\")"
   ]
  },
  {
   "cell_type": "markdown",
   "id": "12",
   "metadata": {},
   "source": [
    "- Spock (parameters) defines the logic: `destination` and `mission_type`.\n",
    "- Kirk (arguments) brings the adventure: `\"Andoria\"` & `\"diplomatic\"`, `\"Kronos\"` & `\"combat\"`.\n"
   ]
  },
  {
   "cell_type": "markdown",
   "id": "13",
   "metadata": {},
   "source": [
    "## 🛠️ Types of Parameters and Arguments: Mission Variants\n",
    "\n",
    "Like Starfleet missions, there are different types of parameters and arguments. Let’s decode them:\n"
   ]
  },
  {
   "cell_type": "markdown",
   "id": "14",
   "metadata": {},
   "source": [
    "### 1. Positional Parameters & Arguments\n",
    "\n",
    "These match in order—what Kirk passes is assigned directly to Spock’s placeholders.\n"
   ]
  },
  {
   "cell_type": "markdown",
   "id": "15",
   "metadata": {},
   "source": [
    "#### Example:\n"
   ]
  },
  {
   "cell_type": "code",
   "execution_count": null,
   "id": "16",
   "metadata": {},
   "outputs": [],
   "source": [
    "def transport(location, passengers):\n",
    "    print(f\"Transporting {passengers} to {location}.\")\n",
    "\n",
    "transport(\"Earth\", 100)  # Positional matching"
   ]
  },
  {
   "cell_type": "markdown",
   "id": "17",
   "metadata": {},
   "source": [
    "- First argument (`\"Earth\"`) matches the first parameter (`location`).\n",
    "- Second argument (`100`) matches the second parameter (`passengers`).\n"
   ]
  },
  {
   "cell_type": "markdown",
   "id": "18",
   "metadata": {},
   "source": [
    "### 2. Keyword Arguments: Communicating Clearly with Spock\n",
    "\n",
    "Captain Kirk can specify which parameter each argument belongs to—avoiding confusion in complex missions.\n"
   ]
  },
  {
   "cell_type": "markdown",
   "id": "19",
   "metadata": {},
   "source": [
    "#### Example:\n"
   ]
  },
  {
   "cell_type": "code",
   "execution_count": null,
   "id": "20",
   "metadata": {},
   "outputs": [],
   "source": [
    "transport(passengers=500, location=\"Mars\")"
   ]
  },
  {
   "cell_type": "markdown",
   "id": "21",
   "metadata": {},
   "source": [
    "- Kirk explicitly says who goes where: `passengers=500`, `location=\"Mars\"`.\n",
    "- Order doesn’t matter when using keyword arguments.\n"
   ]
  },
  {
   "cell_type": "markdown",
   "id": "22",
   "metadata": {},
   "source": [
    "### 3. Default Parameters: Spock Prepares Backup Plans\n",
    "\n",
    "Spock loves logic, so he predefines default values for parameters in case Kirk forgets to supply them.\n"
   ]
  },
  {
   "cell_type": "markdown",
   "id": "23",
   "metadata": {},
   "source": [
    "#### Example:\n"
   ]
  },
  {
   "cell_type": "code",
   "execution_count": null,
   "id": "24",
   "metadata": {},
   "outputs": [],
   "source": [
    "def scan_area(radius=5):\n",
    "    print(f\"Scanning an area with radius {radius}.\")\n",
    "\n",
    "scan_area()  # Uses the default radius\n",
    "scan_area(10)  # Kirk overrides the default"
   ]
  },
  {
   "cell_type": "markdown",
   "id": "25",
   "metadata": {},
   "source": [
    "- Default parameters ensure the function always has a value to work with.\n",
    "- Kirk can override them if needed.\n"
   ]
  },
  {
   "cell_type": "markdown",
   "id": "26",
   "metadata": {},
   "source": [
    "### 4. Variable-Length Arguments: Endless Exploration\n",
    "\n",
    "Some missions need flexibility—Kirk can pass as many or as few arguments as he wants. Spock uses `*args` or `**kwargs` to handle these cases.\n"
   ]
  },
  {
   "cell_type": "markdown",
   "id": "27",
   "metadata": {},
   "source": [
    "#### Example: Infinite Star Systems\n"
   ]
  },
  {
   "cell_type": "code",
   "execution_count": null,
   "id": "28",
   "metadata": {},
   "outputs": [],
   "source": [
    "def explore(*planets):\n",
    "    for planet in planets:\n",
    "        print(f\"Exploring {planet}!\")\n",
    "\n",
    "explore(\"Vulcan\", \"Earth\", \"Risa\", \"Kronos\")"
   ]
  },
  {
   "cell_type": "markdown",
   "id": "29",
   "metadata": {},
   "source": [
    "- `*planets` lets Spock handle an arbitrary number of arguments.\n",
    "- Perfect for galaxy-wide adventures! 🌌\n"
   ]
  },
  {
   "cell_type": "markdown",
   "id": "30",
   "metadata": {},
   "source": [
    "## 🛡️ Error Alert: Mismatched Missions\n",
    "\n",
    "If Kirk and Spock don’t agree on the number or type of arguments, Starfleet operations fail! 🚨\n"
   ]
  },
  {
   "cell_type": "markdown",
   "id": "31",
   "metadata": {},
   "source": [
    "#### Example: Too Few Arguments\n"
   ]
  },
  {
   "cell_type": "code",
   "execution_count": null,
   "id": "32",
   "metadata": {
    "tags": [
     "skip-execution"
    ]
   },
   "outputs": [],
   "source": [
    "starship_mission(\"Earth\")\n",
    "# Error: TypeError: starship_mission() missing 1 required positional argument: 'mission_type'"
   ]
  },
  {
   "cell_type": "markdown",
   "id": "33",
   "metadata": {},
   "source": [
    "## 🌟 Wrap-Up: The Ultimate Dynamic Duo\n",
    "\n",
    "Like Spock and Captain Kirk, parameters and arguments work together seamlessly to drive your Python functions:\n"
   ]
  },
  {
   "cell_type": "markdown",
   "id": "34",
   "metadata": {},
   "source": [
    "1. Parameters (Spock): Logical placeholders defined in the function."
   ]
  },
  {
   "cell_type": "markdown",
   "id": "35",
   "metadata": {},
   "source": [
    "2. Arguments (Kirk): Real-world data passed during the function call.\n",
    "\n",
    "🎯 Remember:\n",
    "\n",
    "- Parameters = Define the _logic_ (what’s expected).\n",
    "- Arguments = Supply the _data_ (what’s real).\n",
    "\n",
    "Together, they enable your code to boldly go where no function has gone before! 🚀✨"
   ]
  }
 ],
 "metadata": {
  "kernelspec": {
   "display_name": "engr131_dev",
   "language": "python",
   "name": "python3"
  },
  "language_info": {
   "codemirror_mode": {
    "name": "ipython",
    "version": 3
   },
   "file_extension": ".py",
   "mimetype": "text/x-python",
   "name": "python",
   "nbconvert_exporter": "python",
   "pygments_lexer": "ipython3",
   "version": "3.12.7"
  }
 },
 "nbformat": 4,
 "nbformat_minor": 5
}
