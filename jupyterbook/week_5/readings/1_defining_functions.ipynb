{
 "cells": [
  {
   "cell_type": "markdown",
   "id": "0",
   "metadata": {},
   "source": [
    "# 🛠️ Function Junction, What's Your Function? 🚂💻\n",
    "\n",
    "![Conjunction Junction](./assets/figures/conjunction-junction.png)\n",
    "\n",
    "Welcome aboard the Function Junction Express, where we’ll learn how to define and use functions in Python! Just like \"Conjunction Junction\" connects phrases, clauses, and ideas 🎶, Python functions connect inputs to outputs, making your code smooth and efficient. Let's get rolling! 🚂💨\n"
   ]
  },
  {
   "cell_type": "markdown",
   "id": "1",
   "metadata": {},
   "source": [
    "## 🎤 What’s a Function?\n",
    "\n",
    "In Python, a function is like a train 🚂 that takes passengers (inputs), follows a track (code), and arrives at a destination (output). It helps you avoid writing the same code over and over again.\n",
    "\n",
    "💡 Real-World Context: Imagine you're a train conductor. Instead of building a new train for every passenger trip, you reuse the same train and just change the passengers and destination. That’s how functions work—they save time and effort! ⏳💻\n"
   ]
  },
  {
   "cell_type": "markdown",
   "id": "2",
   "metadata": {},
   "source": [
    "## 🎵 Function Junction, How Do You Work?\n",
    "\n",
    "Defining a function is as simple as singing \"Conjunction Junction, what’s your function?\" \n",
    "\n",
    "```{admonition} Syntax\n",
    "\n",
    "```python\n",
    "def function_name(parameters):\n",
    "    \"\"\"\n",
    "    Docstring: Explains what the function does.\n",
    "    \"\"\"\n",
    "    # Code block (the track the function follows)\n",
    "    return result  # The train’s final destination\n",
    "```\n",
    "\n",
    "Let’s break it down:\n",
    "\n",
    "- `def`: Short for \"define\"—tells Python you’re about to create a function.\n",
    "- `function_name`: The name of your train (make it descriptive!).\n",
    "- `parameters`: The passengers—data the function needs to run.\n",
    "- `return`: The train’s destination—what the function gives back.\n",
    "\n",
    "```\n"
   ]
  },
  {
   "cell_type": "markdown",
   "id": "3",
   "metadata": {},
   "source": [
    "## 🚂 Example: Adding Two Numbers\n",
    "\n",
    "Let’s create a train that adds two numbers together:\n"
   ]
  },
  {
   "cell_type": "code",
   "execution_count": null,
   "id": "4",
   "metadata": {},
   "outputs": [],
   "source": [
    "def add_numbers(num1, num2):\n",
    "    \"\"\"\n",
    "    Adds two numbers and returns the result.\n",
    "    \"\"\"\n",
    "    result = num1 + num2\n",
    "    return result"
   ]
  },
  {
   "cell_type": "markdown",
   "id": "5",
   "metadata": {},
   "source": [
    "### Calling the Function:"
   ]
  },
  {
   "cell_type": "code",
   "execution_count": null,
   "id": "6",
   "metadata": {},
   "outputs": [],
   "source": [
    "sum_of_numbers = add_numbers(5, 7)  # Hop on the train with 5 and 7\n",
    "print(sum_of_numbers)  # The train arrives at 12"
   ]
  },
  {
   "cell_type": "markdown",
   "id": "7",
   "metadata": {},
   "source": [
    "\n",
    "🎵 Function Junction, adding and returning!\n"
   ]
  },
  {
   "cell_type": "markdown",
   "id": "8",
   "metadata": {},
   "source": [
    "## 🛠️ Let’s Build a More Complex Train!\n"
   ]
  },
  {
   "cell_type": "markdown",
   "id": "9",
   "metadata": {},
   "source": [
    "### 🚂 Train Name: \"Grade Calculator\"\n",
    "\n",
    "Imagine you're a teacher 📚 grading exams. Instead of calculating the average grade manually for every student, you can use a function:\n"
   ]
  },
  {
   "cell_type": "code",
   "execution_count": null,
   "id": "10",
   "metadata": {},
   "outputs": [],
   "source": [
    "def calculate_grade(grades):\n",
    "    \"\"\"\n",
    "    Takes a list of grades and calculates the average.\n",
    "    \"\"\"\n",
    "    total = sum(grades)\n",
    "    average = total / len(grades)\n",
    "    return average"
   ]
  },
  {
   "cell_type": "markdown",
   "id": "11",
   "metadata": {},
   "source": [
    "### Using the Function:"
   ]
  },
  {
   "cell_type": "code",
   "execution_count": null,
   "id": "12",
   "metadata": {},
   "outputs": [],
   "source": [
    "student_grades = [85, 92, 78, 90]\n",
    "average_grade = calculate_grade(student_grades)\n",
    "print(f\"The average grade is: {average_grade}\")"
   ]
  },
  {
   "cell_type": "markdown",
   "id": "13",
   "metadata": {},
   "source": [
    "\n",
    "🎵 Function Junction, calculating averages!\n"
   ]
  },
  {
   "cell_type": "markdown",
   "id": "14",
   "metadata": {},
   "source": [
    "## 🎯 Why Use Functions?\n",
    "\n",
    "Here’s why functions are the superstars of Python:\n"
   ]
  },
  {
   "cell_type": "markdown",
   "id": "15",
   "metadata": {},
   "source": [
    "1. Reusability: Write once, use forever! 🚀\n",
    "    - Example: You can reuse the `calculate_grade` function for any class, not just one student."
   ]
  },
  {
   "cell_type": "markdown",
   "id": "16",
   "metadata": {},
   "source": [
    "2. Modularity: Break big problems into smaller, manageable pieces. 🧩\n",
    "    - Example: Instead of writing all the logic in one place, split it into functions like `add_numbers` or `calculate_grade`."
   ]
  },
  {
   "cell_type": "markdown",
   "id": "17",
   "metadata": {},
   "source": [
    "3. Readability: Functions make your code easier to read, like clear train stations on a map. 🗺️\n"
   ]
  },
  {
   "cell_type": "markdown",
   "id": "18",
   "metadata": {},
   "source": [
    "## 🎓 Real-Life Context: Functions in Action\n",
    "\n",
    "Functions are everywhere! Here are some examples:\n",
    "\n",
    "- School Attendance System: A function that checks if students are present 🎒.\n",
    "- Weather App: A function that converts temperatures from Fahrenheit to Celsius 🌡️.\n",
    "- Gaming: A function that calculates player scores 🕹️.\n",
    "\n",
    "Let’s create a simple weather conversion function for fun:\n"
   ]
  },
  {
   "cell_type": "markdown",
   "id": "19",
   "metadata": {},
   "source": [
    "### 🚂 Train Name: \"Temperature Converter\""
   ]
  },
  {
   "cell_type": "code",
   "execution_count": null,
   "id": "20",
   "metadata": {},
   "outputs": [],
   "source": [
    "def fahrenheit_to_celsius(fahrenheit):\n",
    "    \"\"\"\n",
    "    Converts Fahrenheit to Celsius.\n",
    "    \"\"\"\n",
    "    celsius = (fahrenheit - 32) * 5 / 9\n",
    "    return celsius"
   ]
  },
  {
   "cell_type": "markdown",
   "id": "21",
   "metadata": {},
   "source": [
    "### Calling the Function:"
   ]
  },
  {
   "cell_type": "code",
   "execution_count": null,
   "id": "22",
   "metadata": {},
   "outputs": [],
   "source": [
    "temp_in_fahrenheit = 98.6\n",
    "temp_in_celsius = fahrenheit_to_celsius(temp_in_fahrenheit)\n",
    "print(f\"{temp_in_fahrenheit}°F is {temp_in_celsius:.2f}°C\")"
   ]
  },
  {
   "cell_type": "markdown",
   "id": "23",
   "metadata": {},
   "source": [
    "\n",
    "🎵 Function Junction, converting temperatures!\n"
   ]
  },
  {
   "cell_type": "markdown",
   "id": "24",
   "metadata": {},
   "source": [
    "## 🛤️ Functions and Loops: A Perfect Pair\n",
    "\n",
    "Just like a train that makes multiple stops, functions can loop through data to do repeated tasks. Let’s make a function to shout out student names 📢:\n"
   ]
  },
  {
   "cell_type": "code",
   "execution_count": null,
   "id": "25",
   "metadata": {},
   "outputs": [],
   "source": [
    "def shout_names(names):\n",
    "    \"\"\"\n",
    "    Prints each name in all caps.\n",
    "    \"\"\"\n",
    "    for name in names:\n",
    "        print(name.upper())"
   ]
  },
  {
   "cell_type": "markdown",
   "id": "26",
   "metadata": {},
   "source": [
    "### Calling the Function:"
   ]
  },
  {
   "cell_type": "code",
   "execution_count": null,
   "id": "27",
   "metadata": {},
   "outputs": [],
   "source": [
    "student_names = [\"Alice\", \"Bob\", \"Charlie\"]\n",
    "shout_names(student_names)"
   ]
  },
  {
   "cell_type": "markdown",
   "id": "28",
   "metadata": {},
   "source": [
    "\n",
    "🎵 Function Junction, shouting out names!\n"
   ]
  },
  {
   "cell_type": "markdown",
   "id": "29",
   "metadata": {},
   "source": [
    "## 🚂 All Aboard the Lambda Express!\n",
    "\n",
    "Not all functions need to be long and detailed. Lambda functions are quick, one-line trains 🚅:\n"
   ]
  },
  {
   "cell_type": "markdown",
   "id": "30",
   "metadata": {},
   "source": [
    "### Example:"
   ]
  },
  {
   "cell_type": "code",
   "execution_count": null,
   "id": "31",
   "metadata": {},
   "outputs": [],
   "source": [
    "square = lambda x: x**2\n",
    "print(square(4))  # Outputs: 16"
   ]
  },
  {
   "cell_type": "markdown",
   "id": "32",
   "metadata": {},
   "source": [
    "\n",
    "🎵 Function Junction, quick calculations!\n"
   ]
  },
  {
   "cell_type": "markdown",
   "id": "33",
   "metadata": {},
   "source": [
    "## 🚀 Wrap-Up: Your Python Train Station 🛤️\n",
    "\n",
    "Now that you’ve mastered defining functions, you can build all kinds of trains for your Python station 🚂💻. From calculating grades 🎓 to converting temperatures 🌡️, your functions will keep your code efficient and organized.\n",
    "\n",
    "🎶 \"Function Junction, that’s your function! Connecting inputs to outputs and making code run!\"\n"
   ]
  }
 ],
 "metadata": {
  "language_info": {
   "name": "python"
  }
 },
 "nbformat": 4,
 "nbformat_minor": 5
}
