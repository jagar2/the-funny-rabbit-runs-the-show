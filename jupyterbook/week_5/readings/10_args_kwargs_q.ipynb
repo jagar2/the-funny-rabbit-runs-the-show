{
 "cells": [
  {
   "cell_type": "code",
   "execution_count": null,
   "id": "0",
   "metadata": {
    "deletable": false,
    "editable": false,
    "tags": [
     "skip-execution"
    ]
   },
   "outputs": [],
   "source": [
    "# You must make sure to run all cells in sequence using shift + enter or you might encounter errors\n",
    "from pykubegrader.initialize import initialize_assignment\n",
    "\n",
    "responses = initialize_assignment(\"10_args_kwargs_q\", \"week_5\", \"readings\", assignment_points = 30.0, assignment_tag = 'week5-readings')\n",
    "\n",
    "# Initialize Otter\n",
    "import otter\n",
    "grader = otter.Notebook(\"10_args_kwargs_q.ipynb\")"
   ]
  },
  {
   "cell_type": "markdown",
   "id": "1",
   "metadata": {
    "deletable": false,
    "editable": false
   },
   "source": [
    "# ❓ `*args` and `**kwargs` in Brawl Stars\n",
    "\n",
    "![](./assets/figures/brawl-stars-characters.webp)"
   ]
  },
  {
   "cell_type": "code",
   "execution_count": null,
   "id": "2",
   "metadata": {
    "tags": [
     "skip-execution"
    ]
   },
   "outputs": [],
   "source": [
    "# Run this block of code by pressing Shift + Enter to display the question\n",
    "from questions._10_args_kwargs_q import Question1\n",
    "Question1().show()\n"
   ]
  },
  {
   "cell_type": "code",
   "execution_count": null,
   "id": "3",
   "metadata": {
    "tags": [
     "skip-execution"
    ]
   },
   "outputs": [],
   "source": [
    "# Run this block of code by pressing Shift + Enter to display the question\n",
    "from questions._10_args_kwargs_q import Question2\n",
    "Question2().show()\n"
   ]
  },
  {
   "cell_type": "code",
   "execution_count": null,
   "id": "4",
   "metadata": {
    "tags": [
     "skip-execution"
    ]
   },
   "outputs": [],
   "source": [
    "# Run this block of code by pressing Shift + Enter to display the question\n",
    "from questions._10_args_kwargs_q import Question3\n",
    "Question3().show()\n"
   ]
  },
  {
   "cell_type": "markdown",
   "id": "5",
   "metadata": {
    "deletable": false,
    "editable": false
   },
   "source": [
    "## Write a Function to Display Brawler Stats\n",
    "\n",
    "Write a Python function named `display_brawler_stats` that:\n",
    "- Accepts a brawler's name as the first parameter.\n",
    "- Accepts additional statistics as keyword arguments (`**kwargs`).\n",
    "- Prints the brawler's name and their statistics in the format:\n",
    "    ```\n",
    "    Name: <name>\n",
    "    Health: <value>\n",
    "    Power: <value>\n",
    "    ```\n",
    "- Use the string method `capitalize()` to capitalize the the stat which you are describing"
   ]
  },
  {
   "cell_type": "code",
   "execution_count": null,
   "id": "6",
   "metadata": {
    "tags": [
     "skip-execution"
    ]
   },
   "outputs": [],
   "source": [
    "...\n",
    "    \n",
    "# Example usage\n",
    "display_brawler_stats(\"Shelly\", health=3600, power=10)"
   ]
  },
  {
   "cell_type": "code",
   "execution_count": null,
   "id": "7",
   "metadata": {
    "deletable": false,
    "editable": false,
    "tags": [
     "skip-execution"
    ]
   },
   "outputs": [],
   "source": [
    "grader.check(\"Brawler-Stats-question\")"
   ]
  },
  {
   "cell_type": "markdown",
   "id": "8",
   "metadata": {
    "deletable": false,
    "editable": false
   },
   "source": [
    "## **Brawler's Survival Challenge**\n",
    "\n",
    "![](./assets/figures/josh-brawl.jpeg)\n",
    "\n",
    "In **Brawl Stars**, characters take damage from enemy attacks and receive healing from allies or abilities. Your task is to implement a system that calculates a **brawler's remaining hitpoints** after taking damage and receiving healing.\n",
    "\n",
    "### **Instructions**\n",
    "You need to implement the following **three functions**:\n",
    "\n",
    "1. **`apply_damage(hitpoints, damage)`**  \n",
    "   - **Parameters**: \n",
    "     - `hitpoints` (int): The brawler’s current HP.\n",
    "     - `damage` (int): The amount of damage taken.\n",
    "   - **Returns**: The new HP after taking damage. If HP falls below **zero**, it should return **zero**. This can be done several ways. One way is to use the `max()` function to return the maximum of 0 and the result of the subtraction.\n",
    "\n",
    "2. **`apply_healing(hitpoints, healing, max_hitpoints)`**  \n",
    "   - **Parameters**:  \n",
    "     - `hitpoints` (int): The brawler’s current HP.\n",
    "     - `healing` (int): The amount of healing received.\n",
    "     - `max_hitpoints` (int): The brawler’s maximum HP.\n",
    "\n",
    "    Make sure healing does not happen it the Brawler has been eliminated (HP = 0), or if the healing would exceed the maximum HP.\n",
    "   - **Returns**: The new HP after healing, but it **cannot exceed** `max_hitpoints`. You can use the `min()` function to return the minimum of `max_hitpoints` and the result of the addition.\n",
    "\n",
    "3. **`calculate_remaining_hp(starting_hp, max_hp, damage_taken, healing_received)`**  \n",
    "   - Calls the first two functions to compute the **final** HP of the brawler.\n",
    "   - **Parameters**:  \n",
    "     - `starting_hp` (int): The brawler’s initial HP.\n",
    "     - `max_hp` (int): The brawler’s maximum HP.\n",
    "     - `damage_taken` (int): The total damage received.\n",
    "     - `healing_received` (int): The total healing received.\n",
    "   - **Returns**: The final HP after applying damage and healing.\n",
    "\n",
    "\n",
    "### **Example Usage**\n",
    "```python\n",
    "# Shelly starts with 3600 HP and takes 1200 damage, but receives 500 healing.\n",
    "remaining_hp = calculate_remaining_hp(3600, 3600, 1200, 500)\n",
    "print(remaining_hp)  # Expected Output: 2900\n",
    "```"
   ]
  },
  {
   "cell_type": "code",
   "execution_count": null,
   "id": "9",
   "metadata": {
    "tags": [
     "skip-execution"
    ]
   },
   "outputs": [],
   "source": [
    "# Function to apply damage to a brawler's HP\n",
    "...\n",
    "\n",
    "\n",
    "# Function to apply healing to a brawler's HP\n",
    "...\n",
    "\n",
    "\n",
    "# Function to calculate remaining HP after applying damage and healing\n",
    "..."
   ]
  },
  {
   "cell_type": "code",
   "execution_count": null,
   "id": "10",
   "metadata": {
    "deletable": false,
    "editable": false,
    "tags": [
     "skip-execution"
    ]
   },
   "outputs": [],
   "source": [
    "grader.check(\"Brawler-Damage-Stats\")"
   ]
  },
  {
   "cell_type": "markdown",
   "id": "11",
   "metadata": {},
   "source": [
    "## Submitting Assignment\n",
    "\n",
    "Please run the following block of code using `shift + enter` to submit your assignment, you should see your score."
   ]
  },
  {
   "cell_type": "code",
   "execution_count": null,
   "id": "12",
   "metadata": {
    "deletable": false,
    "editable": false,
    "tags": [
     "skip-execution"
    ]
   },
   "outputs": [],
   "source": [
    "from pykubegrader.submit.submit_assignment import submit_assignment\n",
    "\n",
    "submit_assignment(\"week5-readings\", \"10_args_kwargs_q\")"
   ]
  }
 ],
 "metadata": {
  "kernelspec": {
   "display_name": "engr131_dev",
   "language": "python",
   "name": "python3"
  },
  "language_info": {
   "codemirror_mode": {
    "name": "ipython",
    "version": 3
   },
   "file_extension": ".py",
   "mimetype": "text/x-python",
   "name": "python",
   "nbconvert_exporter": "python",
   "pygments_lexer": "ipython3",
   "version": "3.12.7"
  },
  "otter": {
   "OK_FORMAT": true,
   "tests": {
    "Brawler-Damage-Stats": {
     "name": "Brawler-Damage-Stats",
     "points": null,
     "suites": [
      {
       "cases": [
        {
         "code": ">>> from pykubegrader.telemetry import ensure_responses, log_variable, score_question, submit_question, telemetry, update_responses\n>>> import os\n>>> max_question_points = str(14.0)\n>>> earned_points = 0\n>>> os.environ['EARNED_POINTS'] = str(earned_points)\n>>> os.environ['TOTAL_POINTS_FREE_RESPONSE'] = str(21.0)\n>>> log_variable('total-points', f'Reading-Week-X, 10_args_kwargs_q', 21.0)\n>>> question_id = 'Brawler-Damage-Stats-1'\n>>> max_score = 2.0\n>>> score = 0\n>>> hitpoints = 3600\n>>> damage = 1200\n>>> expected_output = 2400\n>>> actual_output = apply_damage(hitpoints, damage)\n>>> assert actual_output == expected_output, f'Expected {expected_output}, but got {actual_output}.'\n>>> if (actual_output == expected_output, f'Expected {expected_output}, but got {actual_output}.'):\n...     score = 2.0\n>>> earned_points = float(os.environ.get('EARNED_POINTS', 0))\n>>> earned_points += score\n>>> log_variable('10_args_kwargs_q', f'{score}, {max_score}', question_id)\n>>> os.environ['EARNED_POINTS'] = str(earned_points)\n>>> responses = update_responses(question_id, str(hitpoints))\n>>> responses = update_responses(question_id, str(damage))\n>>> responses = update_responses(question_id, str(expected_output))\n>>> responses = update_responses(question_id, str(actual_output))\n",
         "failure_message": "Failed: Damage calculation is incorrect.",
         "hidden": false,
         "locked": false,
         "points": 2,
         "success_message": "Success: Damage is applied correctly!"
        },
        {
         "code": ">>> from pykubegrader.telemetry import ensure_responses, log_variable, score_question, submit_question, telemetry, update_responses\n>>> import os\n>>> question_id = 'Brawler-Damage-Stats-2'\n>>> max_score = 2.0\n>>> score = 0\n>>> hitpoints = 1000\n>>> damage = 1500\n>>> expected_output = 0\n>>> actual_output = apply_damage(hitpoints, damage)\n>>> assert actual_output == expected_output, f'Expected {expected_output}, but got {actual_output}.'\n>>> if (actual_output == expected_output, f'Expected {expected_output}, but got {actual_output}.'):\n...     score = 2.0\n>>> earned_points = float(os.environ.get('EARNED_POINTS', 0))\n>>> earned_points += score\n>>> log_variable('10_args_kwargs_q', f'{score}, {max_score}', question_id)\n>>> os.environ['EARNED_POINTS'] = str(earned_points)\n>>> responses = update_responses(question_id, str(hitpoints))\n>>> responses = update_responses(question_id, str(damage))\n>>> responses = update_responses(question_id, str(expected_output))\n>>> responses = update_responses(question_id, str(actual_output))\n",
         "failure_message": "Failed: HP can go below zero.",
         "hidden": false,
         "locked": false,
         "points": 2,
         "success_message": "Success: Damage does not drop below zero!"
        },
        {
         "code": ">>> from pykubegrader.telemetry import ensure_responses, log_variable, score_question, submit_question, telemetry, update_responses\n>>> import os\n>>> question_id = 'Brawler-Damage-Stats-3'\n>>> max_score = 2.0\n>>> score = 0\n>>> hitpoints = 2000\n>>> healing = 500\n>>> max_hitpoints = 3600\n>>> expected_output = 2500\n>>> actual_output = apply_healing(hitpoints, healing, max_hitpoints)\n>>> assert actual_output == expected_output, f'Expected {expected_output}, but got {actual_output}.'\n>>> if (actual_output == expected_output, f'Expected {expected_output}, but got {actual_output}.'):\n...     score = 2.0\n>>> earned_points = float(os.environ.get('EARNED_POINTS', 0))\n>>> earned_points += score\n>>> log_variable('10_args_kwargs_q', f'{score}, {max_score}', question_id)\n>>> os.environ['EARNED_POINTS'] = str(earned_points)\n>>> responses = update_responses(question_id, str(hitpoints))\n>>> responses = update_responses(question_id, str(healing))\n>>> responses = update_responses(question_id, str(max_hitpoints))\n>>> responses = update_responses(question_id, str(expected_output))\n>>> responses = update_responses(question_id, str(actual_output))\n",
         "failure_message": "Failed: Healing calculation is incorrect.",
         "hidden": false,
         "locked": false,
         "points": 2,
         "success_message": "Success: Healing is applied correctly!"
        },
        {
         "code": ">>> from pykubegrader.telemetry import ensure_responses, log_variable, score_question, submit_question, telemetry, update_responses\n>>> import os\n>>> question_id = 'Brawler-Damage-Stats-4'\n>>> max_score = 2.0\n>>> score = 0\n>>> hitpoints = 3500\n>>> healing = 500\n>>> max_hitpoints = 3600\n>>> expected_output = 3600\n>>> actual_output = apply_healing(hitpoints, healing, max_hitpoints)\n>>> assert actual_output == expected_output, f'Expected {expected_output}, but got {actual_output}.'\n>>> if (actual_output == expected_output, f'Expected {expected_output}, but got {actual_output}.'):\n...     score = 2.0\n>>> earned_points = float(os.environ.get('EARNED_POINTS', 0))\n>>> earned_points += score\n>>> log_variable('10_args_kwargs_q', f'{score}, {max_score}', question_id)\n>>> os.environ['EARNED_POINTS'] = str(earned_points)\n>>> responses = update_responses(question_id, str(hitpoints))\n>>> responses = update_responses(question_id, str(healing))\n>>> responses = update_responses(question_id, str(max_hitpoints))\n>>> responses = update_responses(question_id, str(expected_output))\n>>> responses = update_responses(question_id, str(actual_output))\n",
         "failure_message": "Failed: Healing allows HP to exceed the max.",
         "hidden": false,
         "locked": false,
         "points": 2,
         "success_message": "Success: Healing does not exceed max HP!"
        },
        {
         "code": ">>> from pykubegrader.telemetry import ensure_responses, log_variable, score_question, submit_question, telemetry, update_responses\n>>> import os\n>>> question_id = 'Brawler-Damage-Stats-5'\n>>> max_score = 3.0\n>>> score = 0\n>>> starting_hp = 3600\n>>> max_hp = 3600\n>>> damage_taken = 1200\n>>> healing_received = 500\n>>> expected_output = 2900\n>>> actual_output = calculate_remaining_hp(starting_hp, max_hp, damage_taken, healing_received)\n>>> assert actual_output == expected_output, f'Expected {expected_output}, but got {actual_output}.'\n>>> if (actual_output == expected_output, f'Expected {expected_output}, but got {actual_output}.'):\n...     score = 3.0\n>>> earned_points = float(os.environ.get('EARNED_POINTS', 0))\n>>> earned_points += score\n>>> log_variable('10_args_kwargs_q', f'{score}, {max_score}', question_id)\n>>> os.environ['EARNED_POINTS'] = str(earned_points)\n>>> responses = update_responses(question_id, str(starting_hp))\n>>> responses = update_responses(question_id, str(max_hp))\n>>> responses = update_responses(question_id, str(damage_taken))\n>>> responses = update_responses(question_id, str(healing_received))\n>>> responses = update_responses(question_id, str(expected_output))\n>>> responses = update_responses(question_id, str(actual_output))\n",
         "failure_message": "Failed: The function does not correctly compute remaining HP.",
         "hidden": false,
         "locked": false,
         "points": 3,
         "success_message": "Success: The function correctly calculates remaining HP!"
        },
        {
         "code": ">>> from pykubegrader.telemetry import ensure_responses, log_variable, score_question, submit_question, telemetry, update_responses\n>>> import os\n>>> question_id = 'Brawler-Damage-Stats-6'\n>>> max_score = 3.0\n>>> score = 0\n>>> starting_hp = 1000\n>>> max_hp = 1000\n>>> damage_taken = 2000\n>>> healing_received = 500\n>>> expected_output = 0\n>>> actual_output = calculate_remaining_hp(starting_hp, max_hp, damage_taken, healing_received)\n>>> assert actual_output == expected_output, f'Expected {expected_output}, but got {actual_output}.'\n>>> if (actual_output == expected_output, f'Expected {expected_output}, but got {actual_output}.'):\n...     score = 3.0\n>>> earned_points = float(os.environ.get('EARNED_POINTS', 0))\n>>> earned_points += score\n>>> log_variable('10_args_kwargs_q', f'{score}, {max_score}', question_id)\n>>> os.environ['EARNED_POINTS'] = str(earned_points)\n>>> responses = update_responses(question_id, str(starting_hp))\n>>> responses = update_responses(question_id, str(max_hp))\n>>> responses = update_responses(question_id, str(damage_taken))\n>>> responses = update_responses(question_id, str(healing_received))\n>>> responses = update_responses(question_id, str(expected_output))\n>>> responses = update_responses(question_id, str(actual_output))\n",
         "failure_message": "Failed: HP drops below zero.",
         "hidden": false,
         "locked": false,
         "points": 3,
         "success_message": "Success: HP does not go negative!"
        }
       ],
       "scored": true,
       "setup": "",
       "teardown": "",
       "type": "doctest"
      }
     ]
    },
    "Brawler-Stats-question": {
     "name": "Brawler-Stats-question",
     "points": null,
     "suites": [
      {
       "cases": [
        {
         "code": ">>> from pykubegrader.telemetry import ensure_responses, log_variable, score_question, submit_question, telemetry, update_responses\n>>> import os\n>>> import io\n>>> import sys\n>>> max_question_points = str(7.0)\n>>> earned_points = 0\n>>> os.environ['EARNED_POINTS'] = str(earned_points)\n>>> os.environ['TOTAL_POINTS_FREE_RESPONSE'] = str(21.0)\n>>> log_variable('total-points', f'Reading-Week-X, 10_args_kwargs_q', 21.0)\n>>> question_id = 'Brawler-Stats-question-1'\n>>> max_score = 1.0\n>>> score = 0\n>>> name = 'Shelly'\n>>> kwargs = {'health': 3600, 'power': 10}\n>>> condition = 'display_brawler_stats' in globals()\n>>> if condition:\n...     output_capture = io.StringIO()\n...     sys.stdout = output_capture\n...     display_brawler_stats(name, **kwargs)\n...     sys.stdout = sys.__stdout__\n>>> assert condition, 'The function raised an error when called.'\n>>> if condition:\n...     score = 1.0\n>>> earned_points = float(os.environ.get('EARNED_POINTS', 0))\n>>> earned_points += score\n>>> log_variable('10_args_kwargs_q', f'{score}, {max_score}', question_id)\n>>> os.environ['EARNED_POINTS'] = str(earned_points)\n",
         "failure_message": "Failed: The function encounters an error when called.",
         "hidden": false,
         "locked": false,
         "points": 1,
         "success_message": "Success: The function executes without errors!"
        },
        {
         "code": ">>> from pykubegrader.telemetry import ensure_responses, log_variable, score_question, submit_question, telemetry, update_responses\n>>> import os\n>>> import io\n>>> import sys\n>>> question_id = 'Brawler-Stats-question-2'\n>>> max_score = 1.0\n>>> score = 0\n>>> name = 'Shelly'\n>>> kwargs = {'health': 3600, 'power': 10}\n>>> expected_output = 'Name: Shelly'\n>>> output_capture = io.StringIO()\n>>> sys.stdout = output_capture\n>>> display_brawler_stats(name, **kwargs)\n>>> sys.stdout = sys.__stdout__\n>>> actual_output = output_capture.getvalue().strip().split('\\n')[0]\n>>> assert actual_output == expected_output, f'Expected output:\\n{expected_output}\\nBut got:\\n{actual_output}'\n>>> if (actual_output == expected_output, f'Expected output:\\n{expected_output}\\nBut got:\\n{actual_output}'):\n...     score = 1.0\n>>> earned_points = float(os.environ.get('EARNED_POINTS', 0))\n>>> earned_points += score\n>>> log_variable('10_args_kwargs_q', f'{score}, {max_score}', question_id)\n>>> os.environ['EARNED_POINTS'] = str(earned_points)\n",
         "failure_message": "Failed: The function does not correctly print the name.",
         "hidden": false,
         "locked": false,
         "points": 1,
         "success_message": "Success: The function correctly prints the name!"
        },
        {
         "code": ">>> from pykubegrader.telemetry import ensure_responses, log_variable, score_question, submit_question, telemetry, update_responses\n>>> import os\n>>> import io\n>>> import sys\n>>> question_id = 'Brawler-Stats-question-3'\n>>> max_score = 1.0\n>>> score = 0\n>>> name = 'Shelly'\n>>> kwargs = {'health': 3600, 'power': 10}\n>>> expected_output = 'Name: Shelly'\n>>> expected_stat_output = 'Health: 3600'\n>>> output_capture = io.StringIO()\n>>> sys.stdout = output_capture\n>>> display_brawler_stats(name, **kwargs)\n>>> sys.stdout = sys.__stdout__\n>>> actual_output_lines = output_capture.getvalue().strip().split('\\n')\n>>> condition = any((line == expected_stat_output for line in actual_output_lines))\n>>> assert condition, f\"Expected to find '{expected_stat_output}' in the output, but it was missing.\"\n>>> if (condition, f\"Expected to find '{expected_stat_output}' in the output, but it was missing.\"):\n...     score = 1.0\n>>> earned_points = float(os.environ.get('EARNED_POINTS', 0))\n>>> earned_points += score\n>>> log_variable('10_args_kwargs_q', f'{score}, {max_score}', question_id)\n>>> os.environ['EARNED_POINTS'] = str(earned_points)\n",
         "failure_message": "Failed: The function does not correctly print a stat.",
         "hidden": false,
         "locked": false,
         "points": 1,
         "success_message": "Success: The function correctly prints at least one stat!"
        },
        {
         "code": ">>> from pykubegrader.telemetry import ensure_responses, log_variable, score_question, submit_question, telemetry, update_responses\n>>> import os\n>>> import io\n>>> import sys\n>>> question_id = 'Brawler-Stats-question-4'\n>>> max_score = 1.0\n>>> score = 0\n>>> name = 'Shelly'\n>>> kwargs = {'health': 3600, 'power': 10}\n>>> expected_output = 'Name: Shelly'\n>>> expected_stat_output = 'Health: 3600'\n>>> output_capture = io.StringIO()\n>>> sys.stdout = output_capture\n>>> display_brawler_stats(name, **kwargs)\n>>> sys.stdout = sys.__stdout__\n>>> expected_capitalization = ['Health: 3600', 'Power: 10']\n>>> actual_output_lines = output_capture.getvalue().strip().split('\\n')\n>>> condition = all((stat in actual_output_lines for stat in expected_capitalization))\n>>> assert condition, f'Expected stats with correct capitalization:\\n{expected_capitalization}\\nBut got:\\n{actual_output_lines}'\n>>> if (condition, f'Expected stats with correct capitalization:\\n{expected_capitalization}\\nBut got:\\n{actual_output_lines}'):\n...     score = 1.0\n>>> earned_points = float(os.environ.get('EARNED_POINTS', 0))\n>>> earned_points += score\n>>> log_variable('10_args_kwargs_q', f'{score}, {max_score}', question_id)\n>>> os.environ['EARNED_POINTS'] = str(earned_points)\n",
         "failure_message": "Failed: The function does not capitalize stats correctly.",
         "hidden": false,
         "locked": false,
         "points": 1,
         "success_message": "Success: The function correctly capitalizes stats!"
        },
        {
         "code": ">>> from pykubegrader.telemetry import ensure_responses, log_variable, score_question, submit_question, telemetry, update_responses\n>>> import os\n>>> import io\n>>> import sys\n>>> question_id = 'Brawler-Stats-question-5'\n>>> max_score = 2.0\n>>> score = 0\n>>> name = 'Shelly'\n>>> kwargs = {'health': 3600, 'power': 10}\n>>> expected_output = 'Name: Shelly'\n>>> expected_stat_output = 'Health: 3600'\n>>> output_capture = io.StringIO()\n>>> sys.stdout = output_capture\n>>> display_brawler_stats(name, **kwargs)\n>>> sys.stdout = sys.__stdout__\n>>> expected_output = 'Name: Shelly\\nHealth: 3600\\nPower: 10'\n>>> actual_output = output_capture.getvalue().strip()\n>>> assert actual_output == expected_output, f'Expected output:\\n{expected_output}\\nBut got:\\n{actual_output}'\n>>> if (actual_output == expected_output, f'Expected output:\\n{expected_output}\\nBut got:\\n{actual_output}'):\n...     score = 2.0\n>>> earned_points = float(os.environ.get('EARNED_POINTS', 0))\n>>> earned_points += score\n>>> log_variable('10_args_kwargs_q', f'{score}, {max_score}', question_id)\n>>> os.environ['EARNED_POINTS'] = str(earned_points)\n",
         "failure_message": "Failed: The function does not print multiple stats correctly.",
         "hidden": false,
         "locked": false,
         "points": 2,
         "success_message": "Success: The function correctly prints multiple stats!"
        },
        {
         "code": ">>> from pykubegrader.telemetry import ensure_responses, log_variable, score_question, submit_question, telemetry, update_responses\n>>> import os\n>>> import io\n>>> import sys\n>>> question_id = 'Brawler-Stats-question-6'\n>>> max_score = 1.0\n>>> score = 0\n>>> output_capture = io.StringIO()\n>>> sys.stdout = output_capture\n>>> display_brawler_stats('Colt')\n>>> sys.stdout = sys.__stdout__\n>>> expected_output = 'Name: Colt'\n>>> actual_output = output_capture.getvalue().strip()\n>>> assert actual_output == expected_output, f'Expected output:\\n{expected_output}\\nBut got:\\n{actual_output}'\n>>> if (actual_output == expected_output, f'Expected output:\\n{expected_output}\\nBut got:\\n{actual_output}'):\n...     score = 1.0\n>>> earned_points = float(os.environ.get('EARNED_POINTS', 0))\n>>> earned_points += score\n>>> log_variable('10_args_kwargs_q', f'{score}, {max_score}', question_id)\n>>> os.environ['EARNED_POINTS'] = str(earned_points)\n",
         "failure_message": "Failed: The function does not handle empty stats correctly.",
         "hidden": false,
         "locked": false,
         "points": 1,
         "success_message": "Success: The function correctly handles empty stats!"
        }
       ],
       "scored": true,
       "setup": "",
       "teardown": "",
       "type": "doctest"
      }
     ]
    }
   }
  }
 },
 "nbformat": 4,
 "nbformat_minor": 5
}
