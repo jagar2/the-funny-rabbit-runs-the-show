{
 "cells": [
  {
   "cell_type": "markdown",
   "id": "0",
   "metadata": {
    "deletable": false,
    "editable": false
   },
   "source": [
    "# ❓ Python Quiz: `*args` and `**kwargs` in Brawl Stars\n",
    "\n",
    "![](./assets/figures/brawl-stars-characters.webp)"
   ]
  },
  {
   "cell_type": "code",
   "execution_count": null,
   "id": "1",
   "metadata": {
    "tags": [
     "skip-execution"
    ]
   },
   "outputs": [],
   "source": [
    "# You must make sure to run all cells in sequence using shift + enter or you might encounter errors\n",
    "from pykubegrader.initialize import initialize_assignment\n",
    "\n",
    "responses = initialize_assignment(\"10_args_kwargs_q\", \"week_5\", \"readings\", assignment_points = 9.0, assignment_tag = 'week5-readings')\n",
    "\n",
    "# Run this block of code by pressing Shift + Enter to display the question\n",
    "from questions._10_args_kwargs_q import Question1\n",
    "Question1().show()\n"
   ]
  },
  {
   "cell_type": "code",
   "execution_count": null,
   "id": "2",
   "metadata": {
    "tags": [
     "skip-execution"
    ]
   },
   "outputs": [],
   "source": [
    "# Run this block of code by pressing Shift + Enter to display the question\n",
    "from questions._10_args_kwargs_q import Question2\n",
    "Question2().show()\n"
   ]
  },
  {
   "cell_type": "code",
   "execution_count": null,
   "id": "3",
   "metadata": {
    "tags": [
     "skip-execution"
    ]
   },
   "outputs": [],
   "source": [
    "# Run this block of code by pressing Shift + Enter to display the question\n",
    "from questions._10_args_kwargs_q import Question3\n",
    "Question3().show()\n"
   ]
  },
  {
   "cell_type": "raw",
   "id": "4",
   "metadata": {
    "vscode": {
     "languageId": "raw"
    }
   },
   "source": [
    "# BEGIN QUESTION\n",
    "name: Brawler-Stats-question"
   ]
  },
  {
   "cell_type": "markdown",
   "id": "5",
   "metadata": {
    "deletable": false,
    "editable": false
   },
   "source": [
    "## Write a Function to Display Brawler Stats\n",
    "\n",
    "Write a Python function named `display_brawler_stats` that:\n",
    "- Accepts a brawler's name as the first parameter.\n",
    "- Accepts additional statistics as keyword arguments (`**kwargs`).\n",
    "- Prints the brawler's name and their statistics in the format:\n",
    "    ```\n",
    "    Name: <name>\n",
    "    Health: <value>\n",
    "    Power: <value>\n",
    "    ```\n",
    "- Use the string method `capitalize()` to capitalize the the stat which you are describing"
   ]
  },
  {
   "cell_type": "code",
   "execution_count": null,
   "id": "6",
   "metadata": {
    "tags": [
     "skip-execution"
    ]
   },
   "outputs": [],
   "source": [
    "# BEGIN SOLUTION\n",
    "def display_brawler_stats(name, **kwargs):\n",
    "    print(f\"Name: {name}\")\n",
    "    for stat, value in kwargs.items():\n",
    "        print(f\"{stat.capitalize()}: {value}\")\n",
    "# END SOLUTION\n",
    "    \n",
    "# Example usage\n",
    "display_brawler_stats(\"Shelly\", health=3600, power=10)"
   ]
  },
  {
   "cell_type": "raw",
   "id": "7",
   "metadata": {
    "vscode": {
     "languageId": "raw"
    }
   },
   "source": [
    "# END SOLUTION"
   ]
  },
  {
   "cell_type": "raw",
   "id": "8",
   "metadata": {
    "vscode": {
     "languageId": "raw"
    }
   },
   "source": [
    "# BEGIN TESTS"
   ]
  },
  {
   "cell_type": "code",
   "execution_count": null,
   "id": "9",
   "metadata": {
    "tags": [
     "skip-execution"
    ]
   },
   "outputs": [],
   "source": [
    "\"\"\" # BEGIN TEST CONFIG\n",
    "points: 1\n",
    "hidden: false\n",
    "success_message: \"Success: The function executes without errors!\"\n",
    "failure_message: \"Failed: The function encounters an error when called.\"\n",
    "\"\"\"  # END TEST CONFIG\n",
    "\n",
    "\n",
    "# Check if the function exists\n",
    "condition = 'display_brawler_stats' in globals()\n",
    "\n",
    "# Call the function if it exists\n",
    "if condition:\n",
    "    display_brawler_stats(\"Shelly\", health=3600, power=10)\n",
    "\n",
    "assert condition, \"The function raised an error when called.\"\n"
   ]
  },
  {
   "cell_type": "code",
   "execution_count": null,
   "id": "10",
   "metadata": {
    "tags": [
     "skip-execution"
    ]
   },
   "outputs": [],
   "source": [
    "\"\"\" # BEGIN TEST CONFIG\n",
    "points: 1\n",
    "hidden: false\n",
    "success_message: \"Success: The function correctly prints the name!\"\n",
    "failure_message: \"Failed: The function does not correctly print the name.\"\n",
    "log_variables: [\"name\", \"expected_output\", \"actual_output\"]\n",
    "\"\"\"  # END TEST CONFIG\n",
    "\n",
    "import io\n",
    "import sys\n",
    "\n",
    "name = \"Shelly\"\n",
    "kwargs = {\"health\": 3600, \"power\": 10}\n",
    "expected_output = \"Name: Shelly\"\n",
    "\n",
    "# Capture printed output\n",
    "output_capture = io.StringIO()\n",
    "sys.stdout = output_capture\n",
    "display_brawler_stats(name, **kwargs)\n",
    "sys.stdout = sys.__stdout__\n",
    "\n",
    "actual_output = output_capture.getvalue().strip().split(\"\\n\")[0]\n",
    "\n",
    "assert actual_output == expected_output, (\n",
    "    f\"Expected output:\\n{expected_output}\\nBut got:\\n{actual_output}\"\n",
    ")\n"
   ]
  },
  {
   "cell_type": "code",
   "execution_count": null,
   "id": "11",
   "metadata": {
    "tags": [
     "skip-execution"
    ]
   },
   "outputs": [],
   "source": [
    "\"\"\" # BEGIN TEST CONFIG\n",
    "points: 1\n",
    "hidden: false\n",
    "success_message: \"Success: The function correctly prints at least one stat!\"\n",
    "failure_message: \"Failed: The function does not correctly print a stat.\"\n",
    "log_variables: [\"stat\", \"expected_output\", \"actual_output\"]\n",
    "\"\"\"  # END TEST CONFIG\n",
    "\n",
    "expected_stat_output = \"Health: 3600\"\n",
    "\n",
    "actual_output_lines = output_capture.getvalue().strip().split(\"\\n\")\n",
    "\n",
    "condition = any(line == expected_stat_output for line in actual_output_lines)\n",
    "\n",
    "assert condition, (\n",
    "    f\"Expected to find '{expected_stat_output}' in the output, but it was missing.\"\n",
    ")\n"
   ]
  },
  {
   "cell_type": "code",
   "execution_count": null,
   "id": "12",
   "metadata": {
    "tags": [
     "skip-execution"
    ]
   },
   "outputs": [],
   "source": [
    "\"\"\" # BEGIN TEST CONFIG\n",
    "points: 1\n",
    "hidden: false\n",
    "success_message: \"Success: The function correctly capitalizes stats!\"\n",
    "failure_message: \"Failed: The function does not capitalize stats correctly.\"\n",
    "log_variables: [\"stats\", \"expected_output\", \"actual_output\"]\n",
    "\"\"\"  # END TEST CONFIG\n",
    "\n",
    "expected_capitalization = [\"Health: 3600\", \"Power: 10\"]\n",
    "actual_output_lines = output_capture.getvalue().strip().split(\"\\n\")\n",
    "\n",
    "condition = all(stat in actual_output_lines for stat in expected_capitalization)\n",
    "\n",
    "assert condition, (\n",
    "    f\"Expected stats with correct capitalization:\\n{expected_capitalization}\\n\"\n",
    "    f\"But got:\\n{actual_output_lines}\"\n",
    ")\n"
   ]
  },
  {
   "cell_type": "code",
   "execution_count": null,
   "id": "13",
   "metadata": {
    "tags": [
     "skip-execution"
    ]
   },
   "outputs": [],
   "source": [
    "\"\"\" # BEGIN TEST CONFIG\n",
    "points: 2\n",
    "hidden: false\n",
    "success_message: \"Success: The function correctly prints multiple stats!\"\n",
    "failure_message: \"Failed: The function does not print multiple stats correctly.\"\n",
    "log_variables: [\"stats\", \"expected_output\", \"actual_output\"]\n",
    "\"\"\"  # END TEST CONFIG\n",
    "\n",
    "expected_output = \"Name: Shelly\\nHealth: 3600\\nPower: 10\"\n",
    "actual_output = output_capture.getvalue().strip()\n",
    "\n",
    "assert actual_output == expected_output, (\n",
    "    f\"Expected output:\\n{expected_output}\\nBut got:\\n{actual_output}\"\n",
    ")\n"
   ]
  },
  {
   "cell_type": "code",
   "execution_count": null,
   "id": "14",
   "metadata": {
    "tags": [
     "skip-execution"
    ]
   },
   "outputs": [],
   "source": [
    "\"\"\" # BEGIN TEST CONFIG\n",
    "points: 1\n",
    "hidden: false\n",
    "success_message: \"Success: The function correctly handles empty stats!\"\n",
    "failure_message: \"Failed: The function does not handle empty stats correctly.\"\n",
    "log_variables: [\"name\", \"expected_output\", \"actual_output\"]\n",
    "\"\"\"  # END TEST CONFIG\n",
    "\n",
    "output_capture = io.StringIO()\n",
    "sys.stdout = output_capture\n",
    "display_brawler_stats(\"Colt\")  # No additional stats\n",
    "sys.stdout = sys.__stdout__\n",
    "\n",
    "expected_output = \"Name: Colt\"\n",
    "actual_output = output_capture.getvalue().strip()\n",
    "\n",
    "assert actual_output == expected_output, (\n",
    "    f\"Expected output:\\n{expected_output}\\nBut got:\\n{actual_output}\"\n",
    ")\n"
   ]
  },
  {
   "cell_type": "raw",
   "id": "15",
   "metadata": {
    "vscode": {
     "languageId": "raw"
    }
   },
   "source": [
    "# END TESTS"
   ]
  },
  {
   "cell_type": "raw",
   "id": "16",
   "metadata": {
    "vscode": {
     "languageId": "raw"
    }
   },
   "source": [
    "# END QUESTIONS"
   ]
  },
  {
   "cell_type": "raw",
   "id": "17",
   "metadata": {
    "vscode": {
     "languageId": "raw"
    }
   },
   "source": [
    "# BEGIN QUESTION\n",
    "name: Brawler-Damage-Stats"
   ]
  },
  {
   "cell_type": "markdown",
   "id": "18",
   "metadata": {
    "deletable": false,
    "editable": false
   },
   "source": [
    "## **Brawler's Survival Challenge**\n",
    "\n",
    "![](./assets/figures/josh-brawl.jpeg)\n",
    "\n",
    "In **Brawl Stars**, characters take damage from enemy attacks and receive healing from allies or abilities. Your task is to implement a system that calculates a **brawler's remaining hitpoints** after taking damage and receiving healing.\n",
    "\n",
    "### **Instructions**\n",
    "You need to implement the following **three functions**:\n",
    "\n",
    "1. **`apply_damage(hitpoints, damage)`**  \n",
    "   - **Parameters**: \n",
    "     - `hitpoints` (int): The brawler’s current HP.\n",
    "     - `damage` (int): The amount of damage taken.\n",
    "   - **Returns**: The new HP after taking damage. If HP falls below **zero**, it should return **zero**. This can be done several ways. One way is to use the `max()` function to return the maximum of 0 and the result of the subtraction.\n",
    "\n",
    "2. **`apply_healing(hitpoints, healing, max_hitpoints)`**  \n",
    "   - **Parameters**:  \n",
    "     - `hitpoints` (int): The brawler’s current HP.\n",
    "     - `healing` (int): The amount of healing received.\n",
    "     - `max_hitpoints` (int): The brawler’s maximum HP.\n",
    "\n",
    "    Make sure healing does not happen it the Brawler has been eliminated (HP = 0), or if the healing would exceed the maximum HP.\n",
    "   - **Returns**: The new HP after healing, but it **cannot exceed** `max_hitpoints`. You can use the `min()` function to return the minimum of `max_hitpoints` and the result of the addition.\n",
    "\n",
    "3. **`calculate_remaining_hp(starting_hp, max_hp, damage_taken, healing_received)`**  \n",
    "   - Calls the first two functions to compute the **final** HP of the brawler.\n",
    "   - **Parameters**:  \n",
    "     - `starting_hp` (int): The brawler’s initial HP.\n",
    "     - `max_hp` (int): The brawler’s maximum HP.\n",
    "     - `damage_taken` (int): The total damage received.\n",
    "     - `healing_received` (int): The total healing received.\n",
    "   - **Returns**: The final HP after applying damage and healing.\n",
    "\n",
    "\n",
    "### **Example Usage**\n",
    "```python\n",
    "# Shelly starts with 3600 HP and takes 1200 damage, but receives 500 healing.\n",
    "remaining_hp = calculate_remaining_hp(3600, 3600, 1200, 500)\n",
    "print(remaining_hp)  # Expected Output: 2900\n",
    "```"
   ]
  },
  {
   "cell_type": "raw",
   "id": "19",
   "metadata": {
    "vscode": {
     "languageId": "raw"
    }
   },
   "source": [
    "# BEGIN SOLUTION"
   ]
  },
  {
   "cell_type": "code",
   "execution_count": null,
   "id": "20",
   "metadata": {
    "tags": [
     "skip-execution"
    ]
   },
   "outputs": [],
   "source": [
    "# Function to apply damage to a brawler's HP\n",
    "# BEGIN SOLUTION\n",
    "def apply_damage(hitpoints, damage):\n",
    "    \"\"\"Reduces hitpoints by the given damage amount, ensuring it does not drop below zero.\"\"\"\n",
    "    return max(hitpoints - damage, 0)\n",
    "# END SOLUTION\n",
    "\n",
    "\n",
    "# Function to apply healing to a brawler's HP\n",
    "# BEGIN SOLUTION\n",
    "def apply_healing(hitpoints, healing, max_hitpoints):\n",
    "    \"\"\"Increases hitpoints by the healing amount but does not exceed max_hitpoints.\"\"\"\n",
    "    if hitpoints == 0:\n",
    "        return 0\n",
    "    return min(hitpoints + healing, max_hitpoints)\n",
    "# END SOLUTION\n",
    "\n",
    "\n",
    "# Function to calculate remaining HP after applying damage and healing\n",
    "# BEGIN SOLUTION\n",
    "def calculate_remaining_hp(starting_hp, max_hp, damage_taken, healing_received):\n",
    "    \"\"\"\n",
    "    First applies damage, then applies healing, and ensures HP stays within bounds.\n",
    "    \"\"\"\n",
    "    current_hp = apply_damage(starting_hp, damage_taken)\n",
    "    final_hp = apply_healing(current_hp, healing_received, max_hp)\n",
    "    return final_hp\n",
    "# END SOLUTION"
   ]
  },
  {
   "cell_type": "raw",
   "id": "21",
   "metadata": {
    "vscode": {
     "languageId": "raw"
    }
   },
   "source": [
    "# END SOLUTION"
   ]
  },
  {
   "cell_type": "raw",
   "id": "22",
   "metadata": {
    "vscode": {
     "languageId": "raw"
    }
   },
   "source": [
    "# BEGIN TESTS"
   ]
  },
  {
   "cell_type": "code",
   "execution_count": null,
   "id": "23",
   "metadata": {
    "tags": [
     "skip-execution"
    ]
   },
   "outputs": [],
   "source": [
    "\"\"\" # BEGIN TEST CONFIG\n",
    "points: 2\n",
    "hidden: false\n",
    "success_message: \"Success: Damage is applied correctly!\"\n",
    "failure_message: \"Failed: Damage calculation is incorrect.\"\n",
    "log_variables: [\"hitpoints\", \"damage\", \"expected_output\", \"actual_output\"]\n",
    "\"\"\"  # END TEST CONFIG\n",
    "\n",
    "# Test case 1: Normal damage application\n",
    "hitpoints = 3600\n",
    "damage = 1200\n",
    "expected_output = 2400\n",
    "actual_output = apply_damage(hitpoints, damage)\n",
    "\n",
    "assert actual_output == expected_output, (\n",
    "    f\"Expected {expected_output}, but got {actual_output}.\"\n",
    ")"
   ]
  },
  {
   "cell_type": "code",
   "execution_count": null,
   "id": "24",
   "metadata": {
    "tags": [
     "skip-execution"
    ]
   },
   "outputs": [],
   "source": [
    "\"\"\" # BEGIN TEST CONFIG\n",
    "points: 2\n",
    "hidden: false\n",
    "success_message: \"Success: Damage does not drop below zero!\"\n",
    "failure_message: \"Failed: HP can go below zero.\"\n",
    "log_variables: [\"hitpoints\", \"damage\", \"expected_output\", \"actual_output\"]\n",
    "\"\"\"  # END TEST CONFIG\n",
    "\n",
    "# Test case 2: Damage exceeds HP\n",
    "hitpoints = 1000\n",
    "damage = 1500\n",
    "expected_output = 0\n",
    "actual_output = apply_damage(hitpoints, damage)\n",
    "\n",
    "assert actual_output == expected_output, (\n",
    "    f\"Expected {expected_output}, but got {actual_output}.\"\n",
    ")\n"
   ]
  },
  {
   "cell_type": "code",
   "execution_count": null,
   "id": "25",
   "metadata": {
    "tags": [
     "skip-execution"
    ]
   },
   "outputs": [],
   "source": [
    "\"\"\" # BEGIN TEST CONFIG\n",
    "points: 2\n",
    "hidden: false\n",
    "success_message: \"Success: Healing is applied correctly!\"\n",
    "failure_message: \"Failed: Healing calculation is incorrect.\"\n",
    "log_variables: [\"hitpoints\", \"healing\", \"max_hitpoints\", \"expected_output\", \"actual_output\"]\n",
    "\"\"\"  # END TEST CONFIG\n",
    "\n",
    "# Test case 3: Normal healing\n",
    "hitpoints = 2000\n",
    "healing = 500\n",
    "max_hitpoints = 3600\n",
    "expected_output = 2500\n",
    "actual_output = apply_healing(hitpoints, healing, max_hitpoints)\n",
    "\n",
    "assert actual_output == expected_output, (\n",
    "    f\"Expected {expected_output}, but got {actual_output}.\"\n",
    ")\n"
   ]
  },
  {
   "cell_type": "code",
   "execution_count": null,
   "id": "26",
   "metadata": {
    "tags": [
     "skip-execution"
    ]
   },
   "outputs": [],
   "source": [
    "\"\"\" # BEGIN TEST CONFIG\n",
    "points: 2\n",
    "hidden: false\n",
    "success_message: \"Success: Healing does not exceed max HP!\"\n",
    "failure_message: \"Failed: Healing allows HP to exceed the max.\"\n",
    "log_variables: [\"hitpoints\", \"healing\", \"max_hitpoints\", \"expected_output\", \"actual_output\"]\n",
    "\"\"\"  # END TEST CONFIG\n",
    "\n",
    "# Test case 4: Healing should not go above max HP\n",
    "hitpoints = 3500\n",
    "healing = 500\n",
    "max_hitpoints = 3600\n",
    "expected_output = 3600  # Should cap at max HP\n",
    "actual_output = apply_healing(hitpoints, healing, max_hitpoints)\n",
    "\n",
    "assert actual_output == expected_output, (\n",
    "    f\"Expected {expected_output}, but got {actual_output}.\"\n",
    ")\n"
   ]
  },
  {
   "cell_type": "code",
   "execution_count": null,
   "id": "27",
   "metadata": {
    "tags": [
     "skip-execution"
    ]
   },
   "outputs": [],
   "source": [
    "\"\"\" # BEGIN TEST CONFIG\n",
    "points: 3\n",
    "hidden: false\n",
    "success_message: \"Success: The function correctly calculates remaining HP!\"\n",
    "failure_message: \"Failed: The function does not correctly compute remaining HP.\"\n",
    "log_variables: [\"starting_hp\", \"max_hp\", \"damage_taken\", \"healing_received\", \"expected_output\", \"actual_output\"]\n",
    "\"\"\"  # END TEST CONFIG\n",
    "\n",
    "# Test case 5: Applying both damage and healing\n",
    "starting_hp = 3600\n",
    "max_hp = 3600\n",
    "damage_taken = 1200\n",
    "healing_received = 500\n",
    "expected_output = 2900  # (3600 - 1200 + 500)\n",
    "actual_output = calculate_remaining_hp(starting_hp, max_hp, damage_taken, healing_received)\n",
    "\n",
    "assert actual_output == expected_output, (\n",
    "    f\"Expected {expected_output}, but got {actual_output}.\"\n",
    ")\n"
   ]
  },
  {
   "cell_type": "code",
   "execution_count": null,
   "id": "28",
   "metadata": {
    "tags": [
     "skip-execution"
    ]
   },
   "outputs": [],
   "source": [
    "\"\"\" # BEGIN TEST CONFIG\n",
    "points: 3\n",
    "hidden: false\n",
    "success_message: \"Success: HP does not go negative!\"\n",
    "failure_message: \"Failed: HP drops below zero.\"\n",
    "log_variables: [\"starting_hp\", \"max_hp\", \"damage_taken\", \"healing_received\", \"expected_output\", \"actual_output\"]\n",
    "\"\"\"  # END TEST CONFIG\n",
    "\n",
    "# Test case 6: Extreme damage\n",
    "starting_hp = 1000\n",
    "max_hp = 1000\n",
    "damage_taken = 2000\n",
    "healing_received = 500\n",
    "expected_output = 0  # Should be 0, since healing happens after death\n",
    "actual_output = calculate_remaining_hp(starting_hp, max_hp, damage_taken, healing_received)\n",
    "\n",
    "assert actual_output == expected_output, (\n",
    "    f\"Expected {expected_output}, but got {actual_output}.\"\n",
    ")\n"
   ]
  },
  {
   "cell_type": "raw",
   "id": "29",
   "metadata": {
    "vscode": {
     "languageId": "raw"
    }
   },
   "source": [
    "# END TESTS"
   ]
  },
  {
   "cell_type": "raw",
   "id": "30",
   "metadata": {
    "vscode": {
     "languageId": "raw"
    }
   },
   "source": [
    "# END QUESTION"
   ]
  },
  {
   "cell_type": "markdown",
   "id": "31",
   "metadata": {},
   "source": [
    "## Submitting Assignment\n",
    "\n",
    "Please run the following block of code using `shift + enter` to submit your assignment, you should see your score."
   ]
  },
  {
   "cell_type": "code",
   "execution_count": null,
   "id": "32",
   "metadata": {
    "deletable": false,
    "editable": false,
    "tags": [
     "skip-execution"
    ]
   },
   "outputs": [],
   "source": [
    "from pykubegrader.submit.submit_assignment import submit_assignment\n",
    "\n",
    "submit_assignment(\"week5-readings\", \"10_args_kwargs_q\")"
   ]
  }
 ],
 "metadata": {
  "kernelspec": {
   "display_name": "engr131_dev",
   "language": "python",
   "name": "python3"
  },
  "language_info": {
   "codemirror_mode": {
    "name": "ipython",
    "version": 3
   },
   "file_extension": ".py",
   "mimetype": "text/x-python",
   "name": "python",
   "nbconvert_exporter": "python",
   "pygments_lexer": "ipython3",
   "version": "3.12.7"
  }
 },
 "nbformat": 4,
 "nbformat_minor": 5
}
