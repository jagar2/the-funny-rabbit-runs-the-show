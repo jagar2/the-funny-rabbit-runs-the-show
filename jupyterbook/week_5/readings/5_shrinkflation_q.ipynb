{
 "cells": [
  {
   "cell_type": "code",
   "execution_count": null,
   "id": "0",
   "metadata": {
    "deletable": false,
    "editable": false,
    "tags": [
     "skip-execution"
    ]
   },
   "outputs": [],
   "source": [
    "# You must make sure to run all cells in sequence using shift + enter or you might encounter errors\n",
    "from pykubegrader.initialize import initialize_assignment\n",
    "\n",
    "responses = initialize_assignment(\"5_shrinkflation_q\", \"week_5\", \"readings\", assignment_points = 15.0, assignment_tag = 'week5-readings')\n",
    "\n",
    "# Initialize Otter\n",
    "import otter\n",
    "grader = otter.Notebook(\"5_shrinkflation_q.ipynb\")"
   ]
  },
  {
   "cell_type": "markdown",
   "id": "1",
   "metadata": {
    "deletable": false,
    "editable": false
   },
   "source": [
    "# ❓ Shrinkflation Function Scope \n",
    "\n",
    "![](./assets/figures/shrinkflation1.png)"
   ]
  },
  {
   "cell_type": "code",
   "execution_count": null,
   "id": "2",
   "metadata": {
    "tags": [
     "skip-execution"
    ]
   },
   "outputs": [],
   "source": [
    "# Run this block of code by pressing Shift + Enter to display the question\n",
    "from questions._5_shrinkflation_q import Question1\n",
    "Question1().show()\n"
   ]
  },
  {
   "cell_type": "code",
   "execution_count": null,
   "id": "3",
   "metadata": {
    "tags": [
     "skip-execution"
    ]
   },
   "outputs": [],
   "source": [
    "# Run this block of code by pressing Shift + Enter to display the question\n",
    "from questions._5_shrinkflation_q import Question2\n",
    "Question2().show()\n"
   ]
  },
  {
   "cell_type": "code",
   "execution_count": null,
   "id": "4",
   "metadata": {
    "tags": [
     "skip-execution"
    ]
   },
   "outputs": [],
   "source": [
    "# Run this block of code by pressing Shift + Enter to display the question\n",
    "from questions._5_shrinkflation_q import Question3\n",
    "Question3().show()\n"
   ]
  },
  {
   "cell_type": "markdown",
   "id": "5",
   "metadata": {
    "deletable": false,
    "editable": false
   },
   "source": [
    "## Question 1 (Points: 6.0): Calculate the Shrinkflation Price\n",
    "\n",
    "![](./assets/figures/shrinkflation2.jpg)\n",
    "\n",
    "Write a Python function named `adjust_price` that:\n",
    "- Accepts two arguments: `original_price` (float) and `shrink_factor` (float).\n",
    "- Calculates the adjusted price by multiplying `original_price` by `shrink_factor`.\n",
    "- Returns the adjusted price.\n",
    "Ensure that the function uses local variables only and does not rely on any global variables."
   ]
  },
  {
   "cell_type": "code",
   "execution_count": null,
   "id": "6",
   "metadata": {
    "tags": [
     "skip-execution"
    ]
   },
   "outputs": [],
   "source": [
    "...\n",
    "\n",
    "print(adjust_price(10.0, 0.8)) # Should print 8.0"
   ]
  },
  {
   "cell_type": "code",
   "execution_count": null,
   "id": "7",
   "metadata": {
    "deletable": false,
    "editable": false,
    "tags": [
     "skip-execution"
    ]
   },
   "outputs": [],
   "source": [
    "grader.check(\"Shrinkflation-Price\")"
   ]
  },
  {
   "cell_type": "markdown",
   "id": "8",
   "metadata": {},
   "source": [
    "## Submitting Assignment\n",
    "\n",
    "Please run the following block of code using `shift + enter` to submit your assignment, you should see your score."
   ]
  },
  {
   "cell_type": "code",
   "execution_count": null,
   "id": "9",
   "metadata": {
    "deletable": false,
    "editable": true,
    "tags": [
     "skip-execution"
    ]
   },
   "outputs": [],
   "source": [
    "from pykubegrader.submit.submit_assignment import submit_assignment\n",
    "\n",
    "submit_assignment(\"week5-readings\", \"5_shrinkflation_q\")"
   ]
  }
 ],
 "metadata": {
  "kernelspec": {
   "display_name": "engr131_dev",
   "language": "python",
   "name": "python3"
  },
  "language_info": {
   "codemirror_mode": {
    "name": "ipython",
    "version": 3
   },
   "file_extension": ".py",
   "mimetype": "text/x-python",
   "name": "python",
   "nbconvert_exporter": "python",
   "pygments_lexer": "ipython3",
   "version": "3.12.7"
  },
  "otter": {
   "OK_FORMAT": true,
   "tests": {
    "Shrinkflation-Price": {
     "name": "Shrinkflation-Price",
     "points": null,
     "suites": [
      {
       "cases": [
        {
         "code": ">>> from pykubegrader.telemetry import ensure_responses, log_variable, score_question, submit_question, telemetry, update_responses\n>>> import os\n>>> import base64\n>>> max_question_points = str(6.0)\n>>> earned_points = 0\n>>> os.environ['EARNED_POINTS'] = str(earned_points)\n>>> os.environ['TOTAL_POINTS_FREE_RESPONSE'] = str(6.0)\n>>> log_variable('total-points', f'Reading-Week-X, 5_shrinkflation_q', 6.0)\n>>> question_id = 'Shrinkflation-Price-1'\n>>> max_score = 1.0\n>>> score = 0\n>>> input_original_price = 10.0\n>>> input_shrink_factor = 0.8\n>>> expected_price = 8.0\n>>> calculated_price = adjust_price(input_original_price, input_shrink_factor)\n>>> condition = calculated_price == expected_price\n>>> assert condition, f'Expected price: {expected_price}, but got: {calculated_price} for input ({input_original_price}, {input_shrink_factor}).'\n>>> if condition:\n...     score = 1.0\n>>> earned_points = float(os.environ.get('EARNED_POINTS', 0))\n>>> earned_points += score\n>>> log_variable('5_shrinkflation_q', f'{score}, {max_score}', question_id)\n>>> os.environ['EARNED_POINTS'] = str(earned_points)\n",
         "failure_message": "Failed: The function does not correctly adjust the price with a basic shrink factor.",
         "hidden": false,
         "locked": false,
         "points": 1,
         "success_message": "Success: The function correctly adjusts the price with a basic shrink factor!"
        },
        {
         "code": ">>> from pykubegrader.telemetry import ensure_responses, log_variable, score_question, submit_question, telemetry, update_responses\n>>> import os\n>>> import base64\n>>> question_id = 'Shrinkflation-Price-2'\n>>> max_score = 1.0\n>>> score = 0\n>>> input_original_price = 50.0\n>>> input_shrink_factor = 1.0\n>>> expected_price = 50.0\n>>> calculated_price = adjust_price(input_original_price, input_shrink_factor)\n>>> condition = calculated_price == expected_price\n>>> assert condition, f'Expected price: {expected_price}, but got: {calculated_price} for input ({input_original_price}, {input_shrink_factor}).'\n>>> if condition:\n...     score = 1.0\n>>> earned_points = float(os.environ.get('EARNED_POINTS', 0))\n>>> earned_points += score\n>>> log_variable('5_shrinkflation_q', f'{score}, {max_score}', question_id)\n>>> os.environ['EARNED_POINTS'] = str(earned_points)\n",
         "failure_message": "Failed: The function does not correctly handle a shrink factor of 1.",
         "hidden": false,
         "locked": false,
         "points": 1,
         "success_message": "Success: The function correctly handles a shrink factor of 1 (no adjustment)!"
        },
        {
         "code": ">>> from pykubegrader.telemetry import ensure_responses, log_variable, score_question, submit_question, telemetry, update_responses\n>>> import os\n>>> import base64\n>>> question_id = 'Shrinkflation-Price-3'\n>>> max_score = 2.0\n>>> score = 0\n>>> input_original_price = 20.0\n>>> input_shrink_factor = 0.0\n>>> expected_price = 0.0\n>>> calculated_price = adjust_price(input_original_price, input_shrink_factor)\n>>> condition = calculated_price == expected_price\n>>> assert condition, f'Expected price: {expected_price}, but got: {calculated_price} for input ({input_original_price}, {input_shrink_factor}).'\n>>> if condition:\n...     score = 2.0\n>>> earned_points = float(os.environ.get('EARNED_POINTS', 0))\n>>> earned_points += score\n>>> log_variable('5_shrinkflation_q', f'{score}, {max_score}', question_id)\n>>> os.environ['EARNED_POINTS'] = str(earned_points)\n",
         "failure_message": "Failed: The function does not correctly handle a shrink factor of 0.",
         "hidden": false,
         "locked": false,
         "points": 2,
         "success_message": "Success: The function correctly handles a shrink factor of 0 (price adjusted to 0)!"
        },
        {
         "code": ">>> from pykubegrader.telemetry import ensure_responses, log_variable, score_question, submit_question, telemetry, update_responses\n>>> import os\n>>> import base64\n>>> question_id = 'Shrinkflation-Price-4'\n>>> max_score = 2.0\n>>> score = 0\n>>> input_original_price = 15.0\n>>> input_shrink_factor = 1.5\n>>> expected_price = 22.5\n>>> calculated_price = adjust_price(input_original_price, input_shrink_factor)\n>>> condition = calculated_price == expected_price\n>>> assert condition, f'Expected price: {expected_price}, but got: {calculated_price} for input ({input_original_price}, {input_shrink_factor}).'\n>>> if condition:\n...     score = 2.0\n>>> earned_points = float(os.environ.get('EARNED_POINTS', 0))\n>>> earned_points += score\n>>> log_variable('5_shrinkflation_q', f'{score}, {max_score}', question_id)\n>>> os.environ['EARNED_POINTS'] = str(earned_points)\n",
         "failure_message": "Failed: The function does not correctly handle a shrink factor greater than 1.",
         "hidden": false,
         "locked": false,
         "points": 2,
         "success_message": "Success: The function correctly handles a shrink factor greater than 1!"
        }
       ],
       "scored": true,
       "setup": "",
       "teardown": "",
       "type": "doctest"
      }
     ]
    }
   }
  }
 },
 "nbformat": 4,
 "nbformat_minor": 5
}
