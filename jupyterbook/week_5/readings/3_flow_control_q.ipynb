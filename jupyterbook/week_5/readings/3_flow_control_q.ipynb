{
 "cells": [
  {
   "cell_type": "code",
   "execution_count": null,
   "id": "0",
   "metadata": {
    "deletable": false,
    "editable": false,
    "tags": [
     "skip-execution"
    ]
   },
   "outputs": [],
   "source": [
    "# You must make sure to run all cells in sequence using shift + enter or you might encounter errors\n",
    "from pykubegrader.initialize import initialize_assignment\n",
    "\n",
    "responses = initialize_assignment(\"3_flow_control_q\", \"week_5\", \"readings\", assignment_points = 16.0, assignment_tag = 'week5-readings')\n",
    "\n",
    "# Initialize Otter\n",
    "import otter\n",
    "grader = otter.Notebook(\"3_flow_control_q.ipynb\")"
   ]
  },
  {
   "cell_type": "markdown",
   "id": "1",
   "metadata": {
    "deletable": false,
    "editable": false
   },
   "source": [
    "# ❓ Functions and Flow Control in the Mall\n",
    "\n",
    "![](./assets/figures/Edith-Macefields-House-1.jpg)\n",
    "\n",
    "Edith Macefield became a symbol of defiance and resilience when she refused a $1 million offer to sell her small, humble home in Seattle’s Ballard neighborhood to make way for a commercial development. Developers planned to construct a sprawling shopping center but faced an immovable obstacle in Macefield, who chose to stay in the house where she had lived for decades. Her steadfastness turned her into a local legend, and her story inspired comparisons to the movie Up. Rather than forcing her out, the developers built the five-story complex around her home, leaving it dwarfed by the surrounding structure. Macefield’s determination to remain true to her roots captured the public's imagination, making her a beloved figure and a poignant reminder of the value of standing up for what matters most to you."
   ]
  },
  {
   "cell_type": "code",
   "execution_count": null,
   "id": "2",
   "metadata": {
    "tags": [
     "skip-execution"
    ]
   },
   "outputs": [],
   "source": [
    "# Run this block of code by pressing Shift + Enter to display the question\n",
    "from questions._3_flow_control_q import Question1\n",
    "Question1().show()\n"
   ]
  },
  {
   "cell_type": "code",
   "execution_count": null,
   "id": "3",
   "metadata": {
    "tags": [
     "skip-execution"
    ]
   },
   "outputs": [],
   "source": [
    "# Run this block of code by pressing Shift + Enter to display the question\n",
    "from questions._3_flow_control_q import Question2\n",
    "Question2().show()\n"
   ]
  },
  {
   "cell_type": "code",
   "execution_count": null,
   "id": "4",
   "metadata": {
    "tags": [
     "skip-execution"
    ]
   },
   "outputs": [],
   "source": [
    "# Run this block of code by pressing Shift + Enter to display the question\n",
    "from questions._3_flow_control_q import Question3\n",
    "Question3().show()\n"
   ]
  },
  {
   "cell_type": "markdown",
   "id": "5",
   "metadata": {
    "deletable": false,
    "editable": false
   },
   "source": [
    "## Write a Function to Calculate Total Revenue\n",
    "The mall is analyzing its revenue from parking fees. Write a Python function `calculate_total_revenue` that:\n",
    "\n",
    "- Accepts a list of hours parked by multiple cars.\n",
    "\n",
    "Calculates the total revenue, using the following parking fee rules:\n",
    "\n",
    "- \\$5 for up to 2 hours.\n",
    "- \\$10 for 3-5 hours.\n",
    "- \\$15 for more than 5 hours.\n",
    "- Returns the total revenue.\n"
   ]
  },
  {
   "cell_type": "code",
   "execution_count": null,
   "id": "6",
   "metadata": {
    "tags": [
     "skip-execution"
    ]
   },
   "outputs": [],
   "source": [
    "...\n",
    "\n",
    "# Example usage\n",
    "hours_parked = [1, 3, 6, 2, 5]\n",
    "print(calculate_total_revenue(hours_parked)) # Should print 45"
   ]
  },
  {
   "cell_type": "code",
   "execution_count": null,
   "id": "7",
   "metadata": {
    "deletable": false,
    "editable": false,
    "tags": [
     "skip-execution"
    ]
   },
   "outputs": [],
   "source": [
    "grader.check(\"Mall-calculation-total-revenue\")"
   ]
  },
  {
   "cell_type": "markdown",
   "id": "8",
   "metadata": {},
   "source": [
    "## Submitting Assignment\n",
    "\n",
    "Please run the following block of code using `shift + enter` to submit your assignment, you should see your score."
   ]
  },
  {
   "cell_type": "code",
   "execution_count": null,
   "id": "9",
   "metadata": {
    "deletable": false,
    "editable": false,
    "tags": [
     "skip-execution"
    ]
   },
   "outputs": [],
   "source": [
    "from pykubegrader.submit.submit_assignment import submit_assignment\n",
    "\n",
    "submit_assignment(\"week5-readings\", \"3_flow_control_q\")"
   ]
  }
 ],
 "metadata": {
  "kernelspec": {
   "display_name": "engr131_dev",
   "language": "python",
   "name": "python3"
  },
  "language_info": {
   "codemirror_mode": {
    "name": "ipython",
    "version": 3
   },
   "file_extension": ".py",
   "mimetype": "text/x-python",
   "name": "python",
   "nbconvert_exporter": "python",
   "pygments_lexer": "ipython3",
   "version": "3.12.7"
  },
  "otter": {
   "OK_FORMAT": true,
   "tests": {
    "Mall-calculation-total-revenue": {
     "name": "Mall-calculation-total-revenue",
     "points": null,
     "suites": [
      {
       "cases": [
        {
         "code": ">>> from pykubegrader.telemetry import ensure_responses, log_variable, score_question, submit_question, telemetry, update_responses\n>>> import os\n>>> max_question_points = str(7.0)\n>>> earned_points = 0\n>>> os.environ['EARNED_POINTS'] = str(earned_points)\n>>> os.environ['TOTAL_POINTS_FREE_RESPONSE'] = str(7.0)\n>>> log_variable('total-points', f'Reading-Week-X, 3_flow_control_q', 7.0)\n>>> question_id = 'Mall-calculation-total-revenue-1'\n>>> max_score = 1.0\n>>> score = 0\n>>> input_hours = [1, 2, 2, 1]\n>>> expected_revenue = len(input_hours) * 5\n>>> calculated_revenue = calculate_total_revenue(input_hours)\n>>> condition = calculated_revenue == expected_revenue\n>>> assert condition, f'Expected revenue: {expected_revenue}, but got: {calculated_revenue} for input {input_hours}.'\n>>> if (condition, f'Expected revenue: {expected_revenue}, but got: {calculated_revenue} for input {input_hours}.'):\n...     score = 1.0\n>>> earned_points = float(os.environ.get('EARNED_POINTS', 0))\n>>> earned_points += score\n>>> log_variable('3_flow_control_q', f'{score}, {max_score}', question_id)\n>>> os.environ['EARNED_POINTS'] = str(earned_points)\n>>> responses = update_responses(question_id, str(input_hours))\n>>> responses = update_responses(question_id, str(expected_revenue))\n>>> responses = update_responses(question_id, str(calculated_revenue))\n",
         "failure_message": "Failed: The function does not correctly calculate revenue for short parking durations.",
         "hidden": false,
         "locked": false,
         "points": 1,
         "success_message": "Success: The function correctly calculates revenue for short parking durations!"
        },
        {
         "code": ">>> from pykubegrader.telemetry import ensure_responses, log_variable, score_question, submit_question, telemetry, update_responses\n>>> import os\n>>> question_id = 'Mall-calculation-total-revenue-2'\n>>> max_score = 1.0\n>>> score = 0\n>>> input_hours = [3, 4, 5, 4]\n>>> expected_revenue = len(input_hours) * 10\n>>> calculated_revenue = calculate_total_revenue(input_hours)\n>>> condition = calculated_revenue == expected_revenue\n>>> assert condition, f'Expected revenue: {expected_revenue}, but got: {calculated_revenue} for input {input_hours}.'\n>>> if condition:\n...     score = 1.0\n>>> earned_points = float(os.environ.get('EARNED_POINTS', 0))\n>>> earned_points += score\n>>> log_variable('3_flow_control_q', f'{score}, {max_score}', question_id)\n>>> os.environ['EARNED_POINTS'] = str(earned_points)\n>>> responses = update_responses(question_id, str(input_hours))\n>>> responses = update_responses(question_id, str(expected_revenue))\n>>> responses = update_responses(question_id, str(calculated_revenue))\n",
         "failure_message": "Failed: The function does not correctly calculate revenue for medium parking durations.",
         "hidden": false,
         "locked": false,
         "points": 1,
         "success_message": "Success: The function correctly calculates revenue for medium parking durations!"
        },
        {
         "code": ">>> from pykubegrader.telemetry import ensure_responses, log_variable, score_question, submit_question, telemetry, update_responses\n>>> import os\n>>> question_id = 'Mall-calculation-total-revenue-3'\n>>> max_score = 1.0\n>>> score = 0\n>>> input_hours = [3, 4, 5, 4]\n>>> expected_revenue = len(input_hours) * 10\n>>> calculated_revenue = calculate_total_revenue(input_hours)\n>>> condition = calculated_revenue == expected_revenue\n>>> assert condition, f'Expected revenue: {expected_revenue}, but got: {calculated_revenue} for input {input_hours}.'\n>>> if condition:\n...     score = 1.0\n>>> earned_points = float(os.environ.get('EARNED_POINTS', 0))\n>>> earned_points += score\n>>> log_variable('3_flow_control_q', f'{score}, {max_score}', question_id)\n>>> os.environ['EARNED_POINTS'] = str(earned_points)\n>>> responses = update_responses(question_id, str(input_hours))\n>>> responses = update_responses(question_id, str(expected_revenue))\n>>> responses = update_responses(question_id, str(calculated_revenue))\n",
         "failure_message": "Failed: The function does not correctly calculate revenue for medium parking durations.",
         "hidden": false,
         "locked": false,
         "points": 1,
         "success_message": "Success: The function correctly calculates revenue for medium parking durations!"
        },
        {
         "code": ">>> from pykubegrader.telemetry import ensure_responses, log_variable, score_question, submit_question, telemetry, update_responses\n>>> import os\n>>> question_id = 'Mall-calculation-total-revenue-4'\n>>> max_score = 1.0\n>>> score = 0\n>>> input_hours = [6, 7, 8, 10]\n>>> expected_revenue = len(input_hours) * 15\n>>> calculated_revenue = calculate_total_revenue(input_hours)\n>>> condition = calculated_revenue == expected_revenue\n>>> assert condition, f'Expected revenue: {expected_revenue}, but got: {calculated_revenue} for input {input_hours}.'\n>>> if condition:\n...     score = 1.0\n>>> earned_points = float(os.environ.get('EARNED_POINTS', 0))\n>>> earned_points += score\n>>> log_variable('3_flow_control_q', f'{score}, {max_score}', question_id)\n>>> os.environ['EARNED_POINTS'] = str(earned_points)\n>>> responses = update_responses(question_id, str(input_hours))\n>>> responses = update_responses(question_id, str(expected_revenue))\n>>> responses = update_responses(question_id, str(calculated_revenue))\n",
         "failure_message": "Failed: The function does not correctly calculate revenue for long parking durations.",
         "hidden": false,
         "locked": false,
         "points": 1,
         "success_message": "Success: The function correctly calculates revenue for long parking durations!"
        },
        {
         "code": ">>> from pykubegrader.telemetry import ensure_responses, log_variable, score_question, submit_question, telemetry, update_responses\n>>> import os\n>>> question_id = 'Mall-calculation-total-revenue-5'\n>>> max_score = 2.0\n>>> score = 0\n>>> input_hours = [1, 3, 6, 2, 5]\n>>> expected_revenue = 5 + 10 + 15 + 5 + 10\n>>> calculated_revenue = calculate_total_revenue(input_hours)\n>>> condition = calculated_revenue == expected_revenue\n>>> assert condition, f'Expected revenue: {expected_revenue}, but got: {calculated_revenue} for input {input_hours}.'\n>>> if condition:\n...     score = 2.0\n>>> earned_points = float(os.environ.get('EARNED_POINTS', 0))\n>>> earned_points += score\n>>> log_variable('3_flow_control_q', f'{score}, {max_score}', question_id)\n>>> os.environ['EARNED_POINTS'] = str(earned_points)\n>>> responses = update_responses(question_id, str(input_hours))\n>>> responses = update_responses(question_id, str(expected_revenue))\n>>> responses = update_responses(question_id, str(calculated_revenue))\n",
         "failure_message": "Failed: The function does not correctly calculate revenue for mixed parking durations.",
         "hidden": false,
         "locked": false,
         "points": 2,
         "success_message": "Success: The function correctly calculates revenue for mixed parking durations!"
        },
        {
         "code": ">>> from pykubegrader.telemetry import ensure_responses, log_variable, score_question, submit_question, telemetry, update_responses\n>>> import os\n>>> question_id = 'Mall-calculation-total-revenue-6'\n>>> max_score = 1.0\n>>> score = 0\n>>> input_hours = []\n>>> expected_revenue = 0\n>>> calculated_revenue = calculate_total_revenue(input_hours)\n>>> condition = calculated_revenue == expected_revenue\n>>> assert condition, f'Expected revenue: {expected_revenue}, but got: {calculated_revenue} for input {input_hours}.'\n>>> if condition:\n...     score = 1.0\n>>> earned_points = float(os.environ.get('EARNED_POINTS', 0))\n>>> earned_points += score\n>>> log_variable('3_flow_control_q', f'{score}, {max_score}', question_id)\n>>> os.environ['EARNED_POINTS'] = str(earned_points)\n>>> responses = update_responses(question_id, str(input_hours))\n>>> responses = update_responses(question_id, str(expected_revenue))\n>>> responses = update_responses(question_id, str(calculated_revenue))\n",
         "failure_message": "Failed: The function does not correctly calculate revenue for an empty list.",
         "hidden": false,
         "locked": false,
         "points": 1,
         "success_message": "Success: The function correctly calculates revenue for an empty list!"
        }
       ],
       "scored": true,
       "setup": "",
       "teardown": "",
       "type": "doctest"
      }
     ]
    }
   }
  }
 },
 "nbformat": 4,
 "nbformat_minor": 5
}
