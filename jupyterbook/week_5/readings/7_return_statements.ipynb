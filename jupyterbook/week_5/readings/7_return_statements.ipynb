{
 "cells": [
  {
   "cell_type": "markdown",
   "id": "0",
   "metadata": {},
   "source": [
    "# 🤖 Return Statements: \"I’ll Be Back\"—Just Like the Terminator, but with Data!\n",
    "\n",
    "![](./assets/figures/ill-be-back.jpg)\n",
    "\n",
    "In the world of Python functions, the return statement is the Terminator of your code. When a function reaches a `return` statement, it doesn’t destroy everything in its path (thankfully 😅). Instead, it delivers data back to where the function was called, making it one of the most powerful tools in your programming arsenal.\n",
    "\n",
    "Let’s break down the \"I’ll be back\" nature of `return` statements and learn how they work—calm, calculated, and full of purpose (just like our favorite cyborg hero). 🔧✨\n"
   ]
  },
  {
   "cell_type": "markdown",
   "id": "1",
   "metadata": {},
   "source": [
    "## 🎤 What Does `return` Do?\n",
    "\n",
    "In Python, the `return` statement terminates the execution of a function and sends a value (or multiple values) back to the caller. It’s like the Terminator’s iconic promise:\n",
    "\n",
    "💬 \"I’ll be back… with data.\"\n",
    "\n",
    "Without a `return` statement, a function doesn’t send anything back—it just performs its tasks silently, like a bodyguard protecting John Connor in the background. But with `return`, you can send valuable information back to the main program.\n"
   ]
  },
  {
   "cell_type": "markdown",
   "id": "2",
   "metadata": {},
   "source": [
    "## 🤖 Basic Return Statement: Deliver the Data\n"
   ]
  },
  {
   "cell_type": "markdown",
   "id": "3",
   "metadata": {},
   "source": [
    "### Example: The Terminator’s Mission (Simple Return)\n",
    "\n",
    "Let’s say the Terminator’s mission is to calculate the square of a number and return the result to Skynet. He uses a function:\n"
   ]
  },
  {
   "cell_type": "code",
   "execution_count": null,
   "id": "4",
   "metadata": {},
   "outputs": [],
   "source": [
    "def calculate_square(number):\n",
    "    \"\"\"\n",
    "    Returns the square of a given number.\n",
    "    \"\"\"\n",
    "    return number**2"
   ]
  },
  {
   "cell_type": "markdown",
   "id": "5",
   "metadata": {},
   "source": [
    "### Calling the Function:\n"
   ]
  },
  {
   "cell_type": "code",
   "execution_count": null,
   "id": "6",
   "metadata": {},
   "outputs": [],
   "source": [
    "result = calculate_square(4)  # The Terminator returns 16 to Skynet\n",
    "print(result)  # Output: 16"
   ]
  },
  {
   "cell_type": "markdown",
   "id": "7",
   "metadata": {},
   "source": [
    "\n",
    "Here’s what happens:\n"
   ]
  },
  {
   "cell_type": "markdown",
   "id": "8",
   "metadata": {},
   "source": [
    "1. The function is called with the argument `4`."
   ]
  },
  {
   "cell_type": "markdown",
   "id": "9",
   "metadata": {},
   "source": [
    "2. The function calculates `4 ** 2` (16)."
   ]
  },
  {
   "cell_type": "markdown",
   "id": "10",
   "metadata": {},
   "source": [
    "3. The `return` statement sends `16` back to the caller."
   ]
  },
  {
   "cell_type": "markdown",
   "id": "11",
   "metadata": {},
   "source": [
    "4. The main program receives the result and stores it in the variable `result`.\n",
    "\n",
    "🎯 Key Idea: Just like the Terminator, the function doesn’t stick around after delivering its payload. Once it executes the `return` statement, it’s done.\n"
   ]
  },
  {
   "cell_type": "markdown",
   "id": "12",
   "metadata": {},
   "source": [
    "## 🔄 Multiple Returns: Choose Your Mission\n",
    "\n",
    "A function can use multiple `return` statements to handle different scenarios, like a Terminator choosing between multiple missions. 🎯\n"
   ]
  },
  {
   "cell_type": "markdown",
   "id": "13",
   "metadata": {},
   "source": [
    "### Example: Skynet’s Decision Maker\n"
   ]
  },
  {
   "cell_type": "code",
   "execution_count": null,
   "id": "14",
   "metadata": {},
   "outputs": [],
   "source": [
    "def skynet_decision(status):\n",
    "    \"\"\"\n",
    "    Returns a different message based on Skynet's status.\n",
    "    \"\"\"\n",
    "    if status == \"active\":\n",
    "        return \"Deploy Terminators.\"\n",
    "    elif status == \"inactive\":\n",
    "        return \"Await further orders.\"\n",
    "    else:\n",
    "        return \"Error: Unknown status.\""
   ]
  },
  {
   "cell_type": "markdown",
   "id": "15",
   "metadata": {},
   "source": [
    "### Calling the Function:\n"
   ]
  },
  {
   "cell_type": "code",
   "execution_count": null,
   "id": "16",
   "metadata": {},
   "outputs": [],
   "source": [
    "print(skynet_decision(\"active\"))  # Output: Deploy Terminators.\n",
    "print(skynet_decision(\"inactive\"))  # Output: Await further orders.\n",
    "print(skynet_decision(\"unknown\"))  # Output: Error: Unknown status."
   ]
  },
  {
   "cell_type": "markdown",
   "id": "17",
   "metadata": {},
   "source": [
    "\n",
    "🎯 Key Idea: The `return` statement allows Skynet to respond dynamically based on its status. Once it returns a value, the function exits immediately.\n"
   ]
  },
  {
   "cell_type": "markdown",
   "id": "18",
   "metadata": {},
   "source": [
    "## 🧳 Returning Multiple Items: Pack the Payload\n",
    "\n",
    "Sometimes, the Terminator doesn’t just bring back one piece of data—he returns a whole arsenal! You can use `return` to send multiple values back, neatly packaged in a tuple.\n"
   ]
  },
  {
   "cell_type": "markdown",
   "id": "19",
   "metadata": {},
   "source": [
    "### Example: Terminator’s Report\n"
   ]
  },
  {
   "cell_type": "code",
   "execution_count": null,
   "id": "20",
   "metadata": {},
   "outputs": [],
   "source": [
    "def mission_report(mission_success, enemies_terminated):\n",
    "    \"\"\"\n",
    "    Returns a detailed report of the mission.\n",
    "    \"\"\"\n",
    "    return mission_success, enemies_terminated"
   ]
  },
  {
   "cell_type": "markdown",
   "id": "21",
   "metadata": {},
   "source": [
    "### Calling the Function:\n"
   ]
  },
  {
   "cell_type": "code",
   "execution_count": null,
   "id": "22",
   "metadata": {},
   "outputs": [],
   "source": [
    "success, enemies = mission_report(True, 42)\n",
    "print(f\"Mission success: {success}\")\n",
    "print(f\"Enemies terminated: {enemies}\")"
   ]
  },
  {
   "cell_type": "markdown",
   "id": "23",
   "metadata": {},
   "source": [
    "🎯 Key Idea: With multiple return values, the Terminator delivers a full report—clear, concise, and ready for action.\n"
   ]
  },
  {
   "cell_type": "markdown",
   "id": "24",
   "metadata": {},
   "source": [
    "## 🔄 Return vs Print: Why Return is Superior\n",
    "\n",
    "You might wonder, “Why use `return` instead of `print`?” While `print` displays information, it doesn’t send data back to the caller for further use. `return`, on the other hand, delivers the payload so your program can continue using it.\n"
   ]
  },
  {
   "cell_type": "markdown",
   "id": "25",
   "metadata": {},
   "source": [
    "### Example: `return` vs. `print`\n"
   ]
  },
  {
   "cell_type": "code",
   "execution_count": null,
   "id": "26",
   "metadata": {},
   "outputs": [],
   "source": [
    "def terminator_response():\n",
    "    return \"I'll be back.\"\n",
    "\n",
    "\n",
    "response = terminator_response()\n",
    "print(response)  # You can use the returned value later."
   ]
  },
  {
   "cell_type": "markdown",
   "id": "27",
   "metadata": {},
   "source": [
    "### Why `print` Falls Short:\n"
   ]
  },
  {
   "cell_type": "code",
   "execution_count": null,
   "id": "28",
   "metadata": {},
   "outputs": [],
   "source": [
    "def terminator_response():\n",
    "    print(\"I'll be back.\")\n",
    "\n",
    "\n",
    "response = terminator_response()  # Returns None, not the data\n",
    "print(response)  # Output: None"
   ]
  },
  {
   "cell_type": "markdown",
   "id": "29",
   "metadata": {},
   "source": [
    "\n",
    "🎯 Key Idea: `return` makes your functions reusable and powerful, while `print` is better for quick debugging.\n"
   ]
  },
  {
   "cell_type": "markdown",
   "id": "30",
   "metadata": {},
   "source": [
    "## 🛑 Return Ends the Function\n",
    "\n",
    "The Terminator doesn’t linger after completing his mission—neither does a function after a `return`. Once the `return` statement executes, the function stops immediately, no matter what’s left.\n"
   ]
  },
  {
   "cell_type": "markdown",
   "id": "31",
   "metadata": {},
   "source": [
    "### Example: Early Exit\n"
   ]
  },
  {
   "cell_type": "code",
   "execution_count": null,
   "id": "32",
   "metadata": {},
   "outputs": [],
   "source": [
    "def mission_abort(is_dangerous):\n",
    "    \"\"\"\n",
    "    Returns a message and exits early if the mission is too dangerous.\n",
    "    \"\"\"\n",
    "    if is_dangerous:\n",
    "        return \"Mission aborted. Danger too high.\"\n",
    "    return \"Mission continues.\""
   ]
  },
  {
   "cell_type": "markdown",
   "id": "33",
   "metadata": {},
   "source": [
    "### Calling the Function:\n"
   ]
  },
  {
   "cell_type": "code",
   "execution_count": null,
   "id": "34",
   "metadata": {},
   "outputs": [],
   "source": [
    "print(mission_abort(True))  # Output: Mission aborted. Danger too high.\n",
    "print(mission_abort(False))  # Output: Mission continues."
   ]
  },
  {
   "cell_type": "markdown",
   "id": "35",
   "metadata": {},
   "source": [
    "\n",
    "🎯 Key Idea: The first `return` stops the function instantly, just like a Terminator saying, “No further action required.”\n"
   ]
  },
  {
   "cell_type": "markdown",
   "id": "36",
   "metadata": {},
   "source": [
    "## 🤖 Return Nothing: The Silent Terminator\n",
    "\n",
    "If you don’t use a `return` statement, or just write `return` with no value, the function will return `None`.\n"
   ]
  },
  {
   "cell_type": "markdown",
   "id": "37",
   "metadata": {},
   "source": [
    "### Example: No Return Value\n"
   ]
  },
  {
   "cell_type": "code",
   "execution_count": null,
   "id": "38",
   "metadata": {},
   "outputs": [],
   "source": [
    "def silent_mission():\n",
    "    pass\n",
    "\n",
    "\n",
    "result = silent_mission()\n",
    "print(result)  # Output: None"
   ]
  },
  {
   "cell_type": "markdown",
   "id": "39",
   "metadata": {},
   "source": [
    "\n",
    "🎯 Key Idea: Sometimes, the Terminator just walks away—delivering nothing. This can be useful when the function’s purpose is simply to perform an action (like logging data).\n"
   ]
  },
  {
   "cell_type": "markdown",
   "id": "40",
   "metadata": {},
   "source": [
    "## 🌌 Wrap-Up: Why Return is the Ultimate Terminator Tool\n",
    "\n",
    "The `return` statement is the backbone of reusable and flexible functions. Just like the Terminator’s iconic \"I’ll be back\", it ensures your function can complete its mission and deliver valuable data back to the caller.\n"
   ]
  },
  {
   "cell_type": "markdown",
   "id": "41",
   "metadata": {},
   "source": [
    "### Key Takeaways:\n"
   ]
  },
  {
   "cell_type": "markdown",
   "id": "42",
   "metadata": {},
   "source": [
    "1. Returns Deliver Data: Send results back to the caller for further use."
   ]
  },
  {
   "cell_type": "markdown",
   "id": "43",
   "metadata": {},
   "source": [
    "2. Multiple Returns: Handle different outcomes with clarity."
   ]
  },
  {
   "cell_type": "markdown",
   "id": "44",
   "metadata": {},
   "source": [
    "3. Multiple Values: Return entire payloads of data using tuples."
   ]
  },
  {
   "cell_type": "markdown",
   "id": "45",
   "metadata": {},
   "source": [
    "4. Stops Execution: Once `return` is hit, the function ends—no questions asked."
   ]
  },
  {
   "cell_type": "markdown",
   "id": "46",
   "metadata": {},
   "source": [
    "5. No Return? No Problem: Functions without `return` statements return `None`.\n",
    "\n",
    "So, next time you write a function, channel your inner Terminator and make sure it comes back with data—efficiently, logically, and ready to take on the next mission. 🤖✨\n",
    "\n",
    "🎬 \"Hasta la vista, baby!\""
   ]
  }
 ],
 "metadata": {
  "kernelspec": {
   "display_name": "engr131_dev",
   "language": "python",
   "name": "python3"
  },
  "language_info": {
   "codemirror_mode": {
    "name": "ipython",
    "version": 3
   },
   "file_extension": ".py",
   "mimetype": "text/x-python",
   "name": "python",
   "nbconvert_exporter": "python",
   "pygments_lexer": "ipython3",
   "version": "3.12.7"
  }
 },
 "nbformat": 4,
 "nbformat_minor": 5
}
