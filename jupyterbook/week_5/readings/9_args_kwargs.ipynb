{
 "cells": [
  {
   "cell_type": "markdown",
   "id": "0",
   "metadata": {},
   "source": [
    "# 🛠️ Args and Kwargs: The Art of Flexible Functions\n",
    "\n",
    "![](./assets/figures/manhole-1.jpg)\n",
    "\n",
    "In Python, `*args` and `kwargs` give your functions the flexibility to accept a variety of inputs, just like the stunning diversity of Japanese manhole covers. Every city in Japan takes pride in designing its own unique manhole covers, featuring flowers, landscapes, or cultural icons 🌸🌄🐉.\n",
    "\n",
    "Much like these manhole covers, `*args` and `**kwargs` bring a unique flair to your functions. They allow you to accept any number of positional or keyword arguments, making your functions as customizable as the intricate art on those covers.\n",
    "\n"
   ]
  },
  {
   "cell_type": "markdown",
   "id": "1",
   "metadata": {},
   "source": [
    "## 🎨 What are `*args` and `**kwargs`?\n",
    "\n",
    "- `*args`: A way to accept any number of positional arguments in a function. Think of it as a blank canvas—you can pass as many or as few arguments as you like, and the function will still work.\n",
    "\n",
    "- `kwargs`: A way to accept any number of keyword arguments in a function. It’s like choosing details for your custom design—you specify parameters with names and values, and Python will handle the rest.\n",
    "\n"
   ]
  },
  {
   "cell_type": "markdown",
   "id": "2",
   "metadata": {},
   "source": [
    "## 🛠️ Using `*args`: Adding Positional Flair\n",
    "\n",
    "Imagine you’re designing a manhole cover with layers of detail—each layer represents a positional argument.\n"
   ]
  },
  {
   "cell_type": "markdown",
   "id": "3",
   "metadata": {},
   "source": [
    "### Example: Creating a Custom Manhole Cover\n"
   ]
  },
  {
   "cell_type": "code",
   "execution_count": null,
   "id": "4",
   "metadata": {},
   "outputs": [],
   "source": [
    "def create_manhole_cover(*elements):\n",
    "    \"\"\"\n",
    "    Combines multiple elements into a single manhole cover design.\n",
    "    \"\"\"\n",
    "    print(\"Creating a manhole cover with:\")\n",
    "    for element in elements:\n",
    "        print(f\"- {element}\")"
   ]
  },
  {
   "cell_type": "markdown",
   "id": "5",
   "metadata": {},
   "source": [
    "### Calling the Function:\n"
   ]
  },
  {
   "cell_type": "code",
   "execution_count": null,
   "id": "6",
   "metadata": {},
   "outputs": [],
   "source": [
    "create_manhole_cover(\"Cherry Blossoms\", \"Mount Fuji\", \"Rivers\")\n",
    "create_manhole_cover(\"Dragons\", \"Lanterns\")"
   ]
  },
  {
   "cell_type": "markdown",
   "id": "7",
   "metadata": {},
   "source": [
    "🎯 Key Idea: With `*args`, you can freely add as many layers of design as you want. It’s perfect for functions that need to handle flexible inputs.\n",
    "\n"
   ]
  },
  {
   "cell_type": "markdown",
   "id": "8",
   "metadata": {},
   "source": [
    "## 🖌️ Using `**kwargs`: Customizing the Details\n",
    "\n",
    "![](./assets/figures/manhole-2.jpg)\n",
    "\n",
    "\n",
    "Just like cities in Japan add their names, emblems, or special colors to their manhole covers, `kwargs` allows you to add custom details to your function through keyword arguments.\n"
   ]
  },
  {
   "cell_type": "markdown",
   "id": "9",
   "metadata": {},
   "source": [
    "### Example: Adding Custom Details\n"
   ]
  },
  {
   "cell_type": "code",
   "execution_count": null,
   "id": "10",
   "metadata": {},
   "outputs": [],
   "source": [
    "def customize_manhole_cover(**details):\n",
    "    \"\"\"\n",
    "    Customizes a manhole cover with specific details.\n",
    "    \"\"\"\n",
    "    print(\"Customizing the manhole cover with:\")\n",
    "    for key, value in details.items():\n",
    "        print(f\"{key.capitalize()}: {value}\")"
   ]
  },
  {
   "cell_type": "markdown",
   "id": "11",
   "metadata": {},
   "source": [
    "### Calling the Function:\n"
   ]
  },
  {
   "cell_type": "code",
   "execution_count": null,
   "id": "12",
   "metadata": {},
   "outputs": [],
   "source": [
    "customize_manhole_cover(city=\"Kyoto\", color=\"Gold\", pattern=\"Geometric\")\n",
    "customize_manhole_cover(city=\"Tokyo\", theme=\"Cherry Blossoms\", year=2024)"
   ]
  },
  {
   "cell_type": "markdown",
   "id": "13",
   "metadata": {},
   "source": [
    "🎯 Key Idea: `**kwargs` lets you pass named arguments for a detailed, customized design. Perfect for adding personality to your function inputs!\n",
    "\n"
   ]
  },
  {
   "cell_type": "markdown",
   "id": "14",
   "metadata": {},
   "source": [
    "## 🎨 Combining `*args` and `kwargs`: Mastering the Art\n",
    "\n",
    "![](./assets/figures/manhole-3.jpg)\n",
    "\n",
    "Sometimes, you need both the broad strokes of `*args` and the intricate details of `**kwargs` to design the ultimate manhole cover.\n"
   ]
  },
  {
   "cell_type": "markdown",
   "id": "15",
   "metadata": {},
   "source": [
    "### Example: The Ultimate Manhole Cover\n"
   ]
  },
  {
   "cell_type": "code",
   "execution_count": null,
   "id": "16",
   "metadata": {},
   "outputs": [],
   "source": [
    "def ultimate_manhole_cover(*elements, **details):\n",
    "    \"\"\"\n",
    "    Combines layers of design elements with custom details for a unique manhole cover.\n",
    "    \"\"\"\n",
    "    print(\"Manhole Cover Design:\")\n",
    "    print(\"Elements:\")\n",
    "    for element in elements:\n",
    "        print(f\"- {element}\")\n",
    "    print(\"Details:\")\n",
    "    for key, value in details.items():\n",
    "        print(f\"{key.capitalize()}: {value}\")"
   ]
  },
  {
   "cell_type": "markdown",
   "id": "17",
   "metadata": {},
   "source": [
    "### Calling the Function:\n"
   ]
  },
  {
   "cell_type": "code",
   "execution_count": null,
   "id": "18",
   "metadata": {},
   "outputs": [],
   "source": [
    "ultimate_manhole_cover(\n",
    "    \"Flowers\", \"Mountains\", \"Streams\", city=\"Nara\", color=\"Silver\", year=2025\n",
    ")"
   ]
  },
  {
   "cell_type": "markdown",
   "id": "19",
   "metadata": {},
   "source": [
    "🎯 Key Idea: Use `*args` for the core design elements and `**kwargs` for the finishing touches. Together, they create a masterpiece.\n",
    "\n"
   ]
  },
  {
   "cell_type": "markdown",
   "id": "20",
   "metadata": {},
   "source": [
    "## 🛠️ When to Use `*args` and `kwargs`\\*\\*\n"
   ]
  },
  {
   "cell_type": "markdown",
   "id": "21",
   "metadata": {},
   "source": [
    "1. `*args`: When you need to accept a variable number of positional arguments, such as a list of features or items.\n",
    "\n",
    "- Example: Layers of manhole design (`\"Rivers\"`, `\"Mount Fuji\"`, `\"Cherry Blossoms\"`).\n"
   ]
  },
  {
   "cell_type": "markdown",
   "id": "22",
   "metadata": {},
   "source": [
    "2. `kwargs`: When you need to accept variable keyword arguments\\*\\* for custom configurations.\n",
    "\n",
    "- Example: Details like `city=\"Osaka\"`, `color=\"Gold\"`, `theme=\"Dragons\"`.\n"
   ]
  },
  {
   "cell_type": "markdown",
   "id": "23",
   "metadata": {},
   "source": [
    "3. Combined: Use both when you want ultimate flexibility in your function.\n",
    "\n"
   ]
  },
  {
   "cell_type": "markdown",
   "id": "24",
   "metadata": {},
   "source": [
    "## 🎯 Real-World Use Case: Japanese Manhole Art Database\n",
    "\n",
    "Imagine creating a database of Japanese manhole covers, where each entry can have a variable number of design elements and custom details.\n"
   ]
  },
  {
   "cell_type": "markdown",
   "id": "25",
   "metadata": {},
   "source": [
    "### Example: Recording Manhole Covers\n"
   ]
  },
  {
   "cell_type": "code",
   "execution_count": null,
   "id": "26",
   "metadata": {},
   "outputs": [],
   "source": [
    "def record_manhole_cover(id, *elements, **details):\n",
    "    \"\"\"\n",
    "    Records a manhole cover design with unique elements and details.\n",
    "    \"\"\"\n",
    "    print(f\"Recording Manhole Cover ID: {id}\")\n",
    "    print(\"Elements:\")\n",
    "    for element in elements:\n",
    "        print(f\"- {element}\")\n",
    "    print(\"Details:\")\n",
    "    for key, value in details.items():\n",
    "        print(f\"{key.capitalize()}: {value}\")"
   ]
  },
  {
   "cell_type": "markdown",
   "id": "27",
   "metadata": {},
   "source": [
    "### Calling the Function:\n"
   ]
  },
  {
   "cell_type": "code",
   "execution_count": null,
   "id": "28",
   "metadata": {},
   "outputs": [],
   "source": [
    "record_manhole_cover(\n",
    "    101,\n",
    "    \"Cherry Blossoms\",\n",
    "    \"Cranes\",\n",
    "    \"Sun\",\n",
    "    city=\"Hiroshima\",\n",
    "    color=\"Red\",\n",
    "    year=2023,\n",
    "    theme=\"Peace\",\n",
    ")\n",
    "\n",
    "record_manhole_cover(102, \"Waves\", \"Fish\", city=\"Osaka\", color=\"Blue\")"
   ]
  },
  {
   "cell_type": "markdown",
   "id": "29",
   "metadata": {},
   "source": [
    "🎯 Key Idea: This approach is perfect for building dynamic systems that need to adapt to various inputs, just like Japan’s iconic manhole covers adapt to each city’s culture.\n",
    "\n"
   ]
  },
  {
   "cell_type": "markdown",
   "id": "30",
   "metadata": {},
   "source": [
    "## 🌟 Wrap-Up: Designing Functions Like Manhole Covers\n",
    "\n",
    "With `*args` and `**kwargs`, your functions can be as flexible and creative as Japanese manhole cover designs:\n"
   ]
  },
  {
   "cell_type": "markdown",
   "id": "31",
   "metadata": {},
   "source": [
    "1. 🎨 `*args`: Accepts a variable number of positional inputs for the core design."
   ]
  },
  {
   "cell_type": "markdown",
   "id": "32",
   "metadata": {},
   "source": [
    "2. 🖌️ `kwargs`\\*\\*: Handles keyword inputs for intricate customizations."
   ]
  },
  {
   "cell_type": "markdown",
   "id": "33",
   "metadata": {},
   "source": [
    "3. 🛠️ Combined: Offers ultimate flexibility for creating masterpieces.\n",
    "\n",
    "Next time you write a function, think like a Japanese manhole cover designer—combine creativity, adaptability, and precision for stunning results! 🌸✨"
   ]
  },
  {
   "cell_type": "markdown",
   "id": "34",
   "metadata": {},
   "source": []
  }
 ],
 "metadata": {
  "kernelspec": {
   "display_name": "engr131_dev",
   "language": "python",
   "name": "python3"
  },
  "language_info": {
   "codemirror_mode": {
    "name": "ipython",
    "version": 3
   },
   "file_extension": ".py",
   "mimetype": "text/x-python",
   "name": "python",
   "nbconvert_exporter": "python",
   "pygments_lexer": "ipython3",
   "version": "3.12.7"
  }
 },
 "nbformat": 4,
 "nbformat_minor": 5
}
