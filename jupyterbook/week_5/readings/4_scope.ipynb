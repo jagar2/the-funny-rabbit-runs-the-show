{
 "cells": [
  {
   "cell_type": "markdown",
   "id": "0",
   "metadata": {},
   "source": [
    "# 🎲 What Happens in the Function, Stays in the Function – Vegas Rules of Scope 🃏\n",
    "\n",
    "![](./assets/figures/hangover-movie.jpg)\n",
    "\n",
    "Welcome to the dazzling world of function scope, where variables follow the ultimate rule:\n",
    "\"What happens in the function, stays in the function!\"\n",
    "\n",
    "Just like the secrets and adventures of Las Vegas nights never leave the Strip 🌆, the variables you define inside a function can’t escape—they’re local to the function. Let’s explore these Vegas rules and why they’re so important for keeping your Python code clean, organized, and drama-free! 🎩✨\n"
   ]
  },
  {
   "cell_type": "markdown",
   "id": "1",
   "metadata": {},
   "source": [
    "## 🎰 Rule #1: Local Variables Stay Inside the Function\n",
    "\n",
    "When you create a variable inside a function, it’s local to that function. It’s like a high-roller at a Vegas casino 🃏—only recognized while inside. The moment you step out of the function, poof! The variable disappears into the neon-lit night. 🌃✨\n"
   ]
  },
  {
   "cell_type": "markdown",
   "id": "2",
   "metadata": {},
   "source": [
    "### Example: Blackjack Table 🎲\n"
   ]
  },
  {
   "cell_type": "code",
   "execution_count": null,
   "id": "3",
   "metadata": {},
   "outputs": [],
   "source": [
    "def blackjack():\n",
    "    card_total = 21  # Local variable\n",
    "    print(f\"You hit the perfect hand: {card_total}!\")"
   ]
  },
  {
   "cell_type": "markdown",
   "id": "4",
   "metadata": {},
   "source": [
    "### Calling the Function:\n"
   ]
  },
  {
   "cell_type": "code",
   "execution_count": null,
   "id": "5",
   "metadata": {},
   "outputs": [],
   "source": [
    "blackjack()"
   ]
  },
  {
   "cell_type": "markdown",
   "id": "6",
   "metadata": {},
   "source": [
    "### Accessing the Variable Outside:\n"
   ]
  },
  {
   "cell_type": "code",
   "execution_count": null,
   "id": "7",
   "metadata": {
    "tags": [
     "skip-excecution"
    ]
   },
   "outputs": [],
   "source": [
    "print(card_total)\n",
    "# Error: NameError: name 'card_total' is not defined"
   ]
  },
  {
   "cell_type": "markdown",
   "id": "8",
   "metadata": {},
   "source": [
    "\n",
    "🎲 Vegas Rule: `card_total` only exists while you’re playing the function’s Blackjack table. Once the game ends, the cards are shuffled, and the variable is gone! 🃏\n",
    "\n"
   ]
  },
  {
   "cell_type": "markdown",
   "id": "9",
   "metadata": {},
   "source": [
    "## 🎭 Rule #2: Different Tables, Different Variables\n",
    "\n",
    "Just like every table in a Vegas casino has its own set of players and chips 🎰, every function has its own unique variables. Local variables in one function won’t affect those in another.\n"
   ]
  },
  {
   "cell_type": "markdown",
   "id": "10",
   "metadata": {},
   "source": [
    "### Example: Roulette vs. Poker 🎰♠️\n"
   ]
  },
  {
   "cell_type": "code",
   "execution_count": null,
   "id": "11",
   "metadata": {},
   "outputs": [],
   "source": [
    "def roulette():\n",
    "    bet = \"red\"\n",
    "    print(f\"Placed a bet on {bet}!\")\n",
    "\n",
    "def poker():\n",
    "    bet = \"royal flush\"\n",
    "    print(f\"You are holding a {bet}!\")\n",
    "\n",
    "roulette()\n",
    "poker()"
   ]
  },
  {
   "cell_type": "markdown",
   "id": "12",
   "metadata": {},
   "source": [
    "### Trying to Mix Tables:\n"
   ]
  },
  {
   "cell_type": "code",
   "execution_count": null,
   "id": "13",
   "metadata": {
    "tags": [
     "skip-execution"
    ]
   },
   "outputs": [],
   "source": [
    "print(bet)"
   ]
  },
  {
   "cell_type": "markdown",
   "id": "14",
   "metadata": {},
   "source": [
    "\n",
    "🎲 Vegas Rule: Each function is its own table, and what happens at one table doesn’t affect the others. No cross-talk, no drama. 🥂\n",
    "\n"
   ]
  },
  {
   "cell_type": "markdown",
   "id": "15",
   "metadata": {},
   "source": [
    "## 🎩 Rule #3: Enclosing Scope – The VIP Lounge 🛋️\n",
    "\n",
    "Some Vegas lounges are private—accessible only to certain VIPs. Similarly, a nested function can access variables in its parent (enclosing) function. Think of this as Vegas backstage access for those in the know.\n"
   ]
  },
  {
   "cell_type": "markdown",
   "id": "16",
   "metadata": {},
   "source": [
    "### Example: The Secret Ice Lounge ❄️\n"
   ]
  },
  {
   "cell_type": "code",
   "execution_count": null,
   "id": "17",
   "metadata": {},
   "outputs": [],
   "source": [
    "def secret_lounge():\n",
    "    password = \"ice\"\n",
    "    print(\"Welcome to the Ice Lounge!\")\n",
    "\n",
    "    def bartender():\n",
    "        print(f\"The bartender whispers: 'The password is {password}.'\")\n",
    "\n",
    "    bartender()"
   ]
  },
  {
   "cell_type": "markdown",
   "id": "18",
   "metadata": {},
   "source": [
    "### Calling the Function:\n"
   ]
  },
  {
   "cell_type": "code",
   "execution_count": null,
   "id": "19",
   "metadata": {},
   "outputs": [],
   "source": [
    "secret_lounge()"
   ]
  },
  {
   "cell_type": "markdown",
   "id": "20",
   "metadata": {},
   "source": [
    "🎲 Vegas Rule: The `password` is in the parent function’s scope, so it’s accessible to the `bartender` function. VIPs only, please! 🚪✨\n",
    "\n"
   ]
  },
  {
   "cell_type": "markdown",
   "id": "21",
   "metadata": {},
   "source": [
    "## 🌍 Rule #4: Global Scope – The Vegas Strip 🛤️\n",
    "\n",
    "While variables inside a function are local (hidden), variables declared outside any function are global—they live on the Vegas Strip 🌆, visible to everyone.\n"
   ]
  },
  {
   "cell_type": "markdown",
   "id": "22",
   "metadata": {},
   "source": [
    "### Example: The Vegas Theme 🎶\n"
   ]
  },
  {
   "cell_type": "code",
   "execution_count": null,
   "id": "23",
   "metadata": {},
   "outputs": [],
   "source": [
    "theme = \"Vegas Nights\"  # Global variable\n",
    "\n",
    "def casino():\n",
    "    print(f\"The casino is running a {theme} party!\")\n",
    "\n",
    "casino()\n",
    "print(f\"The theme for all events is {theme}.\")"
   ]
  },
  {
   "cell_type": "markdown",
   "id": "24",
   "metadata": {},
   "source": [
    "🎲 Vegas Rule: Global variables, like the Strip, are accessible to everyone in your code. But beware—this can lead to chaos! 🌟\n",
    "\n"
   ]
  },
  {
   "cell_type": "markdown",
   "id": "25",
   "metadata": {},
   "source": [
    "## 🔐 Rule #5: Breaking Vegas Rules with `global`\n",
    "\n",
    "Sometimes, you might need to modify a global variable inside a function. But this breaks Vegas protocol—like sneaking casino chips into your suitcase 🎒!\n"
   ]
  },
  {
   "cell_type": "markdown",
   "id": "26",
   "metadata": {},
   "source": [
    "### Example: Cheating the System 🕵️‍♂️\n"
   ]
  },
  {
   "cell_type": "code",
   "execution_count": null,
   "id": "27",
   "metadata": {},
   "outputs": [],
   "source": [
    "jackpot = 0  # Global variable\n",
    "\n",
    "def win_big():\n",
    "    global jackpot  # Declare that you're modifying the global variable\n",
    "    jackpot += 1000\n",
    "    print(f\"You won! Jackpot is now ${jackpot}.\")\n",
    "\n",
    "win_big()\n",
    "print(f\"The total jackpot is ${jackpot}.\")"
   ]
  },
  {
   "cell_type": "markdown",
   "id": "28",
   "metadata": {},
   "source": [
    "💡 Pro Tip: Avoid using `global` unless absolutely necessary. It’s better to keep winnings (variables) at the table where they belong! 🎉\n",
    "\n"
   ]
  },
  {
   "cell_type": "markdown",
   "id": "29",
   "metadata": {},
   "source": [
    "## 🌟 Shadowing: When Two Variables Have the Same Name\n",
    "\n",
    "If a local variable has the same name as a global variable, the local variable shadows the global one inside the function. This keeps the Vegas magic intact—local rules always take priority at the table! 🎩✨\n"
   ]
  },
  {
   "cell_type": "markdown",
   "id": "30",
   "metadata": {},
   "source": [
    "### Example: The Mirage 🏝️\n"
   ]
  },
  {
   "cell_type": "code",
   "execution_count": null,
   "id": "31",
   "metadata": {},
   "outputs": [],
   "source": [
    "theme = \"Vegas Nights\"  # Global variable\n",
    "\n",
    "def private_party():\n",
    "    theme = \"Hawaiian Luau\"  # Local variable\n",
    "    print(f\"The private party theme is {theme}.\")\n",
    "\n",
    "private_party()\n",
    "print(f\"The general party theme is {theme}.\")"
   ]
  },
  {
   "cell_type": "markdown",
   "id": "32",
   "metadata": {},
   "source": [
    "🎲 Vegas Rule: Local variables always win inside their function. Outside the function, the global variable rules the Strip.\n"
   ]
  },
  {
   "cell_type": "markdown",
   "id": "33",
   "metadata": {},
   "source": [
    "## 🎯 Why Vegas Rules of Scope Matter\n",
    "\n",
    "Understanding function scope (aka Vegas rules) helps you:\n"
   ]
  },
  {
   "cell_type": "markdown",
   "id": "34",
   "metadata": {},
   "source": [
    "1. 🛠️ Organize Code: Keep variables where they belong, reducing confusion."
   ]
  },
  {
   "cell_type": "markdown",
   "id": "35",
   "metadata": {},
   "source": [
    "2. 🛡️ Avoid Conflicts: Local variables won’t clash with global ones."
   ]
  },
  {
   "cell_type": "markdown",
   "id": "36",
   "metadata": {},
   "source": [
    "3. 🚀 Optimize Memory: Local variables disappear after the function ends, freeing up resources.\n",
    "\n"
   ]
  },
  {
   "cell_type": "markdown",
   "id": "37",
   "metadata": {},
   "source": [
    "## 🚂 Wrap-Up: Viva Las Functions! 🎉\n",
    "\n",
    "With the Vegas Rules of Scope, your code will stay clean, efficient, and drama-free. Remember:\n"
   ]
  },
  {
   "cell_type": "markdown",
   "id": "38",
   "metadata": {},
   "source": [
    "1. 🎲 Local Variables: What happens in the function, stays in the function."
   ]
  },
  {
   "cell_type": "markdown",
   "id": "39",
   "metadata": {},
   "source": [
    "2. 🎲 Enclosing Scope: Nested functions can access parent variables (VIP lounge access)."
   ]
  },
  {
   "cell_type": "markdown",
   "id": "40",
   "metadata": {},
   "source": [
    "3. 🎲 Global Scope: Variables outside functions are global (the Vegas Strip)."
   ]
  },
  {
   "cell_type": "markdown",
   "id": "41",
   "metadata": {},
   "source": [
    "4. 🎲 Shadowing: Local variables take priority over global ones inside a function.\n",
    "\n",
    "So go ahead—write your functions like a Vegas pro and let your variables party responsibly! 🥳🎰"
   ]
  },
  {
   "cell_type": "markdown",
   "id": "42",
   "metadata": {},
   "source": []
  }
 ],
 "metadata": {
  "kernelspec": {
   "display_name": "engr131_dev",
   "language": "python",
   "name": "python3"
  },
  "language_info": {
   "codemirror_mode": {
    "name": "ipython",
    "version": 3
   },
   "file_extension": ".py",
   "mimetype": "text/x-python",
   "name": "python",
   "nbconvert_exporter": "python",
   "pygments_lexer": "ipython3",
   "version": "3.12.7"
  }
 },
 "nbformat": 4,
 "nbformat_minor": 5
}
