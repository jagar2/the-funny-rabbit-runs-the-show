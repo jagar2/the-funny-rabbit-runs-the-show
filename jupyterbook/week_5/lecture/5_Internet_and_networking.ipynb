{
 "cells": [
  {
   "cell_type": "markdown",
   "id": "0",
   "metadata": {},
   "source": [
    "# 🌐 **Internet and Networking Overview**\n"
   ]
  },
  {
   "cell_type": "markdown",
   "id": "1",
   "metadata": {},
   "source": [
    "## **📌 What is the Internet?**\n",
    "The **Internet** is a vast global network that connects billions of devices. It enables communication, information sharing, and commerce worldwide.\n"
   ]
  },
  {
   "cell_type": "markdown",
   "id": "2",
   "metadata": {},
   "source": [
    "### **Key Facts:**\n",
    "- Initially developed as **ARPANET** in the **1960s** by the U.S. Department of Defense.\n",
    "- Currently, there are over **5 billion** active users on the Internet.\n",
    "- Operates based on the **TCP/IP** (Transmission Control Protocol/Internet Protocol) suite.\n",
    "\n",
    "**Fun Fact:** The first message ever sent over the Internet was \"LO\" (an attempt to send \"LOGIN\" before the system crashed!).\n"
   ]
  },
  {
   "cell_type": "markdown",
   "id": "3",
   "metadata": {},
   "source": [
    "## **📡 What is Networking?**\n",
    "Networking involves connecting devices to facilitate data exchange.\n"
   ]
  },
  {
   "cell_type": "markdown",
   "id": "4",
   "metadata": {},
   "source": [
    "### **Types of Networks:**\n",
    "- **Local Area Network (LAN):** Limited to a specific location, such as an office or home.\n",
    "- **Wide Area Network (WAN):** Covers broader regions (e.g., the Internet).\n",
    "- **Wireless Networks:** Use radio signals for communication (Wi-Fi, 4G, 5G).\n",
    "- **Metropolitan Area Network (MAN):** Covers a city or a large area.\n",
    "- **Personal Area Network (PAN):** Connects personal devices like phones and smartwatches.\n",
    "\n",
    "**Fun Fact:** \"Wi-Fi\" doesn’t actually stand for anything; it was just a catchy marketing term!\n"
   ]
  },
  {
   "cell_type": "markdown",
   "id": "5",
   "metadata": {},
   "source": [
    "## **🔢 Understanding IP Addresses**\n",
    "Every device on the Internet is assigned a unique **IP (Internet Protocol) Address** to communicate.\n"
   ]
  },
  {
   "cell_type": "markdown",
   "id": "6",
   "metadata": {},
   "source": [
    "### **IPv4 vs. IPv6:**\n",
    "- **IPv4 (Internet Protocol Version 4)**: Uses a **32-bit address** format, allowing for **4.3 billion** unique addresses (e.g., `192.168.1.1`).\n",
    "- **IPv6 (Internet Protocol Version 6)**: Uses a **128-bit address**, allowing for **340 undecillion** unique addresses (`2001:0db8:85a3:0000:0000:8a2e:0370:7334`).\n"
   ]
  },
  {
   "cell_type": "markdown",
   "id": "7",
   "metadata": {},
   "source": [
    "### **Public vs. Private IP Addresses**\n",
    "- **Public IPs**: Assigned by ISPs (Internet Service Providers) and used to identify devices on the Internet.\n",
    "- **Private IPs**: Used within internal networks (e.g., home or office LANs).\n",
    "- Common private ranges:\n",
    "- `10.0.0.0 - 10.255.255.255`\n",
    "- `172.16.0.0 - 172.31.255.255`\n",
    "- `192.168.0.0 - 192.168.255.255`\n",
    "\n",
    "**Fun Fact:** IPv6 provides enough IP addresses to assign one to every atom on Earth!\n"
   ]
  },
  {
   "cell_type": "markdown",
   "id": "8",
   "metadata": {},
   "source": [
    "## **🖥️ How the Internet Works**\n",
    "When you visit a website (`www.example.com`):"
   ]
  },
  {
   "cell_type": "markdown",
   "id": "9",
   "metadata": {},
   "source": [
    "1. Your device queries a **DNS (Domain Name System)** server to get the site's **IP address**."
   ]
  },
  {
   "cell_type": "markdown",
   "id": "10",
   "metadata": {},
   "source": [
    "2. Your browser sends a **data request** using HTTP/HTTPS."
   ]
  },
  {
   "cell_type": "markdown",
   "id": "11",
   "metadata": {},
   "source": [
    "3. The request travels through routers, switches, and ISPs."
   ]
  },
  {
   "cell_type": "markdown",
   "id": "12",
   "metadata": {},
   "source": [
    "4. The **web server** hosting the website processes the request and sends data back."
   ]
  },
  {
   "cell_type": "markdown",
   "id": "13",
   "metadata": {},
   "source": [
    "5. Your browser receives and renders the page.\n",
    "\n",
    "**Fun Fact:** The first website ever created is still online: [http://info.cern.ch](http://info.cern.ch)!\n"
   ]
  },
  {
   "cell_type": "markdown",
   "id": "14",
   "metadata": {},
   "source": [
    "## **🌍 Scale of the Internet**\n",
    "- Over **1.5 billion** websites exist today.\n",
    "- **330 million** domain names are registered.\n",
    "- Data transmission speeds reach **petabits per second** over backbone networks.\n",
    "- **Google** processes **8.5 billion** searches per day!\n",
    "\n",
    "**Fun Fact:** The total weight of all the electrons in the Internet’s data is only **50 grams**—about the weight of a strawberry!\n"
   ]
  },
  {
   "cell_type": "markdown",
   "id": "15",
   "metadata": {},
   "source": [
    "## **🛠️ Key Networking Components**\n"
   ]
  },
  {
   "cell_type": "markdown",
   "id": "16",
   "metadata": {},
   "source": [
    "### **Router**\n",
    "- A router directs traffic between networks and ensures that data packets reach their correct destinations.\n",
    "- It operates at the **network layer (Layer 3)** of the OSI model.\n",
    "- Can connect multiple networks and manage both **wired and wireless** connections.\n",
    "- Often assigned a **public IP address** to act as a gateway to the Internet.\n"
   ]
  },
  {
   "cell_type": "markdown",
   "id": "17",
   "metadata": {},
   "source": [
    "### **Switch**\n",
    "- A switch connects devices within a **LAN (Local Area Network)** and forwards data only to the intended recipient.\n",
    "- Operates at the **data link layer (Layer 2)** of the OSI model.\n",
    "- Can be **managed** (configurable) or **unmanaged** (plug-and-play).\n"
   ]
  },
  {
   "cell_type": "markdown",
   "id": "18",
   "metadata": {},
   "source": [
    "### **Firewall**\n",
    "- A firewall is a **security device** that monitors and controls incoming and outgoing network traffic.\n",
    "- Can be **hardware-based** (dedicated devices) or **software-based** (running on a computer or router).\n",
    "- Uses predefined rules to block or allow network packets.\n",
    "- Helps prevent unauthorized access and cyber threats.\n"
   ]
  },
  {
   "cell_type": "markdown",
   "id": "19",
   "metadata": {},
   "source": [
    "## **📌 Typical Network Configurations**\n"
   ]
  },
  {
   "cell_type": "markdown",
   "id": "20",
   "metadata": {},
   "source": [
    "### **Home Network (Basic LAN Setup)**\n",
    "- **Router** connects to the ISP and assigns IP addresses.\n",
    "- **Switch (if needed)** connects additional devices like PCs, smart TVs, and printers.\n",
    "- **Firewall (built into router)** secures the network.\n",
    "- Devices use **private IP addresses** and access the Internet via **NAT (Network Address Translation)**.\n"
   ]
  },
  {
   "cell_type": "markdown",
   "id": "21",
   "metadata": {},
   "source": [
    "### **Enterprise Network (Complex Setup)**\n",
    "- **Multiple routers** for redundancy and load balancing.\n",
    "- **Layer 3 switches** for efficient internal routing.\n",
    "- **Firewalls and intrusion detection systems** for security.\n",
    "- **VPN (Virtual Private Network)** for secure remote access.\n",
    "\n",
    "**Fun Fact:** Large enterprises often use multiple firewalls to segment internal networks for security reasons.\n"
   ]
  },
  {
   "cell_type": "markdown",
   "id": "22",
   "metadata": {},
   "source": [
    "## **🔐 Internet Security**\n",
    "To stay safe online:\n",
    "- **Encryption (HTTPS):** Protects data during transmission.\n",
    "- **VPN (Virtual Private Network):** Masks IP addresses.\n",
    "- **Firewalls:** Block unauthorized traffic.\n",
    "- **2FA (Two-Factor Authentication):** Adds an extra security layer.\n",
    "\n",
    "**Fun Fact:** The longest password cracked by brute force took **4.5 years**!\n"
   ]
  },
  {
   "cell_type": "markdown",
   "id": "23",
   "metadata": {},
   "source": [
    "🚀 **Every search, stream, and click travels thousands of miles in milliseconds!**\n"
   ]
  }
 ],
 "metadata": {
  "language_info": {
   "name": "python"
  }
 },
 "nbformat": 4,
 "nbformat_minor": 5
}
