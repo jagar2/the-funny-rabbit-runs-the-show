{
 "cells": [
  {
   "cell_type": "markdown",
   "id": "0",
   "metadata": {},
   "source": [
    "# 🏗️ Engineering Applications of Python Functions\n"
   ]
  },
  {
   "cell_type": "markdown",
   "id": "1",
   "metadata": {},
   "source": [
    "## 🔧 What are Functions?\n",
    "A function in Python is a reusable block of code that takes inputs, processes them, and returns an output. In engineering, functions help automate calculations, optimize workflows, and standardize repetitive tasks.\n"
   ]
  },
  {
   "cell_type": "markdown",
   "id": "2",
   "metadata": {},
   "source": [
    "### Why Use Functions in Engineering?\n",
    "- Modularity: Break complex problems into manageable parts.\n",
    "- Reusability: Avoid rewriting the same code.\n",
    "- Scalability: Easily adapt calculations for different datasets.\n",
    "- Error Reduction: Encapsulate logic to minimize mistakes.\n"
   ]
  },
  {
   "cell_type": "markdown",
   "id": "3",
   "metadata": {},
   "source": [
    "## 📌 Key Components of a Python Function\n",
    "\n",
    "A function in Python consists of several key parts:\n",
    "\n",
    "```python\n",
    "# Function definition\n",
    "def function_name(parameters):\n",
    "    \"\"\"Docstring explaining the function.\"\"\"\n",
    "    # Code block (processing steps)\n",
    "    return output\n",
    "```"
   ]
  },
  {
   "cell_type": "markdown",
   "id": "4",
   "metadata": {},
   "source": [
    "### Key Parts:\n",
    "- `def` keyword: Declares the function.\n",
    "- Function Name: Should be descriptive and follow snake_case convention. -- each word is separated by an underscore.\n",
    "- Parameters: Inputs that the function accepts.\n",
    "- Return Statement: Provides output to the caller.\n",
    "- Docstring: Optional but recommended for documentation.\n"
   ]
  },
  {
   "cell_type": "markdown",
   "id": "5",
   "metadata": {},
   "source": [
    "### Example: Calculating Stress in a Material"
   ]
  },
  {
   "cell_type": "code",
   "execution_count": null,
   "id": "6",
   "metadata": {},
   "outputs": [],
   "source": [
    "def calculate_stress(force: float, area: float) -> float:\n",
    "    \"\"\"Returns the stress given force (N) and area (m²).\"\"\"\n",
    "    return force / area\n",
    "\n",
    "# Example use\n",
    "stress = calculate_stress(500, 0.005)\n",
    "print(f\"Stress: {stress:.2f} Pa\")"
   ]
  },
  {
   "cell_type": "markdown",
   "id": "7",
   "metadata": {},
   "source": [
    "Why This Matters?\n",
    "- Uses type hints (`: float`, `-> float`) to improve code readability and debugging.\n",
    "- Helps in structural analysis in mechanical and civil engineering.\n"
   ]
  },
  {
   "cell_type": "markdown",
   "id": "8",
   "metadata": {},
   "source": [
    "## 🛠️ Required vs. Optional Parameters\n",
    "Python functions support both required and optional parameters:\n"
   ]
  },
  {
   "cell_type": "markdown",
   "id": "9",
   "metadata": {},
   "source": [
    "### Required Parameters\n",
    "- Must always be provided when calling the function.\n",
    "- Essential for computations where missing data would break logic.\n"
   ]
  },
  {
   "cell_type": "code",
   "execution_count": null,
   "id": "10",
   "metadata": {},
   "outputs": [],
   "source": [
    "def calculate_pressure(force: float, area: float) -> float:\n",
    "    \"\"\"Calculates pressure given force (N) and area (m²).\"\"\"\n",
    "    return force / area\n",
    "\n",
    "pressure = calculate_pressure(1000, 2)\n",
    "print(f\"Pressure: {pressure} Pa\")"
   ]
  },
  {
   "cell_type": "markdown",
   "id": "11",
   "metadata": {},
   "source": [
    "### Optional Parameters with Default Values\n",
    "- Useful when a parameter usually has a standard value.\n",
    "- Prevents unnecessary repetitive input.\n"
   ]
  },
  {
   "cell_type": "code",
   "execution_count": null,
   "id": "12",
   "metadata": {},
   "outputs": [],
   "source": [
    "def calculate_torque(force: float, radius: float = 0.5) -> float:\n",
    "    \"\"\"Calculates torque with a default radius (meters).\"\"\"\n",
    "    return force * radius\n",
    "\n",
    "print(calculate_torque(200))  # Uses default radius of 0.5\n",
    "print(calculate_torque(200, 0.75))  # Custom radius"
   ]
  },
  {
   "cell_type": "markdown",
   "id": "13",
   "metadata": {},
   "source": [
    "Why Use Defaults?\n",
    "- Engineers often have industry-standard values but need flexibility.\n",
    "- Saves time and avoids redundancy.\n"
   ]
  },
  {
   "cell_type": "markdown",
   "id": "14",
   "metadata": {},
   "source": [
    "## 🔍 Advanced Tools: Type Hints and Return Annotations\n",
    "Python provides type hints to specify expected input and output types:"
   ]
  },
  {
   "cell_type": "code",
   "execution_count": null,
   "id": "15",
   "metadata": {},
   "outputs": [],
   "source": [
    "def velocity(distance: float, time: float) -> float:\n",
    "    \"\"\"Returns velocity in meters per second (m/s).\"\"\"\n",
    "    print(type(distance))\n",
    "    return distance / time\n",
    "\n",
    "velocity = velocity(100, 9.58)"
   ]
  },
  {
   "cell_type": "markdown",
   "id": "16",
   "metadata": {},
   "source": [
    "### Benefits of Type Hints\n",
    "- Enhances readability.\n",
    "- Helps with debugging and documentation.\n",
    "- Works well with static code checkers like mypy.\n",
    "- Not enforced at runtime but can be used by external tools.\n"
   ]
  },
  {
   "cell_type": "markdown",
   "id": "17",
   "metadata": {},
   "source": [
    "## 🚀 Key Takeaways\n",
    "- Functions improve efficiency and accuracy in engineering calculations.\n",
    "- Required parameters ensure necessary data is provided.\n",
    "- Optional parameters improve flexibility.\n",
    "- Type hints make code more readable and easier to debug.\n",
    "\n",
    "🎯 Start using Python functions to optimize your engineering workflows today!\n"
   ]
  }
 ],
 "metadata": {
  "kernelspec": {
   "display_name": "engr131_dev",
   "language": "python",
   "name": "python3"
  },
  "language_info": {
   "codemirror_mode": {
    "name": "ipython",
    "version": 3
   },
   "file_extension": ".py",
   "mimetype": "text/x-python",
   "name": "python",
   "nbconvert_exporter": "python",
   "pygments_lexer": "ipython3",
   "version": "3.12.7"
  }
 },
 "nbformat": 4,
 "nbformat_minor": 5
}
