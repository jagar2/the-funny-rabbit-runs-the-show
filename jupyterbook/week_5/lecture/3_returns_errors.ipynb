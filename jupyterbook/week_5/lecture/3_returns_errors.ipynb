{
 "cells": [
  {
   "cell_type": "markdown",
   "id": "0",
   "metadata": {},
   "source": [
    "# 📡 **Returning Information from Functions: Best Practices in Engineering**\n"
   ]
  },
  {
   "cell_type": "markdown",
   "id": "1",
   "metadata": {},
   "source": [
    "## 🚀 **Engineering Context: Satellite Thermal Regulation**"
   ]
  },
  {
   "cell_type": "markdown",
   "id": "2",
   "metadata": {},
   "source": [
    "### **Fun Fact:**\n",
    "Satellites orbiting Earth experience extreme temperature fluctuations, ranging from -250°F to 250°F! Engineers use thermal regulation functions to monitor and adjust satellite temperature using **radiative heat transfer calculations**.\n"
   ]
  },
  {
   "cell_type": "markdown",
   "id": "3",
   "metadata": {},
   "source": [
    "## 🔄 **Different Ways to Return Information from Functions**\n",
    "Engineers need **multiple output methods** in their programs to **monitor, log, and optimize** satellite performance.\n"
   ]
  },
  {
   "cell_type": "markdown",
   "id": "4",
   "metadata": {},
   "source": [
    "1. **Printing Results (`print`)**"
   ]
  },
  {
   "cell_type": "markdown",
   "id": "5",
   "metadata": {},
   "source": [
    "2. **Returning Values (`return`)**"
   ]
  },
  {
   "cell_type": "markdown",
   "id": "6",
   "metadata": {},
   "source": [
    "3. **Logging to a File (`logfile`)**"
   ]
  },
  {
   "cell_type": "markdown",
   "id": "7",
   "metadata": {},
   "source": [
    "4. **Using Generators (`yield`)**"
   ]
  },
  {
   "cell_type": "markdown",
   "id": "8",
   "metadata": {},
   "source": [
    "5. **Error Handling (`try-except`, `raise`)**\n"
   ]
  },
  {
   "cell_type": "markdown",
   "id": "9",
   "metadata": {},
   "source": [
    "## 🖨️ **1. Printing Results (`print`)**\n",
    "Useful for **real-time monitoring** in simulations or debugging:"
   ]
  },
  {
   "cell_type": "code",
   "execution_count": null,
   "id": "10",
   "metadata": {},
   "outputs": [],
   "source": [
    "def monitor_temperature(temp: float):\n",
    "    \"\"\"Prints a message based on satellite temperature.\"\"\"\n",
    "    if temp < -100:\n",
    "        print(\"Warning: Temperature too low!\")\n",
    "    elif temp > 150:\n",
    "        print(\"Warning: Overheating!\")\n",
    "    else:\n",
    "        print(f\"Temperature is stable at {temp}°F\")\n",
    "\n",
    "# Example Usage:\n",
    "monitor_temperature(-120)  # Outputs: Warning: Temperature too low!"
   ]
  },
  {
   "cell_type": "markdown",
   "id": "11",
   "metadata": {},
   "source": [
    "### **When to Use?**\n",
    "- For **quick debugging**\n",
    "- When real-time **console monitoring** is required\n"
   ]
  },
  {
   "cell_type": "markdown",
   "id": "12",
   "metadata": {},
   "source": [
    "## 🔄 **2. Returning Values (`return`)**\n",
    "Useful for **storing results** or **passing outputs** between functions:"
   ]
  },
  {
   "cell_type": "code",
   "execution_count": null,
   "id": "13",
   "metadata": {},
   "outputs": [],
   "source": [
    "def calculate_radiative_heat(emissivity: float, area: float, temp: float) -> float:\n",
    "    \"\"\"Calculates radiative heat loss using Stefan-Boltzmann Law.\"\"\"\n",
    "    stefan_boltzmann = 5.67e-8  # W/m²K⁴\n",
    "    return emissivity * stefan_boltzmann * area * (temp + 273.15)**4\n",
    "\n",
    "# Example Usage:\n",
    "heat_loss = calculate_radiative_heat(0.85, 2.5, 120)\n",
    "print(f\"Heat Loss: {heat_loss:.2f} W\")"
   ]
  },
  {
   "cell_type": "markdown",
   "id": "14",
   "metadata": {},
   "source": [
    "### **When to Use?**\n",
    "- When **outputs need further processing**\n",
    "- To **return precise values** for storage or calculations\n"
   ]
  },
  {
   "cell_type": "markdown",
   "id": "15",
   "metadata": {},
   "source": [
    "## 📜 **3. Logging to a File (`logfile`)**\n",
    "Useful for **long-term system monitoring and diagnostics**:"
   ]
  },
  {
   "cell_type": "code",
   "execution_count": null,
   "id": "16",
   "metadata": {},
   "outputs": [],
   "source": [
    "import logging\n",
    "\n",
    "# Configure logging\n",
    "logging.basicConfig(filename='satellite_log.txt', level=logging.INFO, format='%(asctime)s - %(message)s')\n",
    "\n",
    "def log_temperature(temp: float):\n",
    "    \"\"\"Logs temperature readings to a file.\"\"\"\n",
    "    logging.info(f\"Temperature recorded: {temp}°F\")\n",
    "\n",
    "# Example Usage:\n",
    "log_temperature(130)  # Writes to 'satellite_log.txt'"
   ]
  },
  {
   "cell_type": "markdown",
   "id": "17",
   "metadata": {},
   "source": [
    "### **When to Use?**\n",
    "- To **track system behavior over time**\n",
    "- When **real-time monitoring isn’t feasible**\n"
   ]
  },
  {
   "cell_type": "markdown",
   "id": "18",
   "metadata": {},
   "source": [
    "## 🔁 **4. Using Generators (`yield`)**\n",
    "Useful for **handling large datasets efficiently**, like streaming satellite telemetry:"
   ]
  },
  {
   "cell_type": "code",
   "execution_count": null,
   "id": "19",
   "metadata": {},
   "outputs": [],
   "source": [
    "def satellite_temperature_generator(temps: list):\n",
    "    \"\"\"Yields temperature readings one at a time.\"\"\"\n",
    "    for temp in temps:\n",
    "        yield temp\n",
    "\n",
    "# Example Usage:\n",
    "temps = [-100, -50, 0, 50, 100, 150]\n",
    "for reading in satellite_temperature_generator(temps):\n",
    "    print(f\"Satellite Temp: {reading}°F\")"
   ]
  },
  {
   "cell_type": "markdown",
   "id": "20",
   "metadata": {},
   "source": [
    "### **When to Use?**\n",
    "- When dealing with **large datasets**\n",
    "- For **real-time telemetry streaming**\n"
   ]
  },
  {
   "cell_type": "markdown",
   "id": "21",
   "metadata": {},
   "source": [
    "## ⚠️ **5. Error Handling (`try-except`, `raise`)**\n",
    "Prevents critical failures in space missions by handling unexpected issues:"
   ]
  },
  {
   "cell_type": "code",
   "execution_count": null,
   "id": "22",
   "metadata": {},
   "outputs": [],
   "source": [
    "def compute_energy_output(solar_power: float, efficiency: float) -> float:\n",
    "    \"\"\"Calculates energy output while handling invalid inputs.\"\"\"\n",
    "    try:\n",
    "        if not (0 <= efficiency <= 1):\n",
    "            raise ValueError(\"Efficiency must be between 0 and 1\")\n",
    "        return solar_power * efficiency\n",
    "    except ValueError as e:\n",
    "        print(f\"Error: {e}\")\n",
    "        return 0\n",
    "\n",
    "# Example Usage:\n",
    "energy = compute_energy_output(500, 1.2)  # Outputs: Error: Efficiency must be between 0 and 1"
   ]
  },
  {
   "cell_type": "markdown",
   "id": "23",
   "metadata": {},
   "source": [
    "### **Additional Example: Raising Specific Errors**\n",
    "Handling satellite power fluctuations:"
   ]
  },
  {
   "cell_type": "code",
   "execution_count": null,
   "id": "24",
   "metadata": {},
   "outputs": [],
   "source": [
    "def check_battery_status(voltage: float):\n",
    "    \"\"\"Checks battery voltage and raises errors for critical conditions.\"\"\"\n",
    "    if voltage < 20:\n",
    "        raise RuntimeError(\"Battery voltage critically low! Potential mission failure.\")\n",
    "    elif voltage > 100:\n",
    "        raise OverflowError(\"Battery voltage too high! Risk of component damage.\")\n",
    "    else:\n",
    "        return \"Battery voltage within safe limits.\"\n",
    "\n",
    "# Example Usage:\n",
    "try:\n",
    "    print(check_battery_status(15))  # Will raise RuntimeError\n",
    "except RuntimeError as e:\n",
    "    print(f\"Critical Alert: {e}\")"
   ]
  },
  {
   "cell_type": "markdown",
   "id": "25",
   "metadata": {},
   "source": [
    "### **When to Use?**\n",
    "- To **handle unexpected inputs**\n",
    "- To **prevent mission-critical failures**\n",
    "- To **force early termination when safety is at risk**\n"
   ]
  },
  {
   "cell_type": "markdown",
   "id": "26",
   "metadata": {},
   "source": [
    "## 🚀 **Key Takeaways**\n",
    "✅ Use **`print`** for real-time debugging and monitoring\n",
    "✅ Use **`return`** when passing values between functions\n",
    "✅ Use **log files** to store historical data for diagnostics\n",
    "✅ Use **generators (`yield`)** for real-time telemetry and large data handling\n",
    "✅ Use **error handling (`raise`, `try-except`)** to prevent system crashes in critical engineering applications\n",
    "\n",
    "🎯 **Optimize satellite performance by choosing the right function output method!**"
   ]
  }
 ],
 "metadata": {},
 "nbformat": 4,
 "nbformat_minor": 5
}
