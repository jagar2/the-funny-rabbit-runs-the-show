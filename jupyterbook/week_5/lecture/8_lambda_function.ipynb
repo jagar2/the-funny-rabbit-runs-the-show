{
 "cells": [
  {
   "cell_type": "markdown",
   "id": "0",
   "metadata": {},
   "source": [
    "# ⚙️ **Lambda Functions in Engineering: The Power of One-Liners**\n"
   ]
  },
  {
   "cell_type": "markdown",
   "id": "1",
   "metadata": {},
   "source": [
    "## 🏗️ **Engineering Context: Structural Analysis and Data Processing**"
   ]
  },
  {
   "cell_type": "markdown",
   "id": "2",
   "metadata": {},
   "source": [
    "### **Fun Fact:**\n",
    "In structural engineering, **real-time calculations** are essential for analyzing stress, strain, and load distribution. **Lambda functions** provide a concise way to compute formulas on-the-fly without defining full functions, making them perfect for quick simulations!\n",
    "\n"
   ]
  },
  {
   "cell_type": "markdown",
   "id": "3",
   "metadata": {},
   "source": [
    "## 🔍 **What are Lambda Functions?**\n",
    "A **lambda function** is a **one-line anonymous function** that can take any number of arguments but **only one expression**.\n"
   ]
  },
  {
   "cell_type": "markdown",
   "id": "4",
   "metadata": {},
   "source": [
    "### **Syntax:**"
   ]
  },
  {
   "cell_type": "code",
   "execution_count": null,
   "id": "5",
   "metadata": {},
   "outputs": [],
   "source": [
    "lambda arguments: expression"
   ]
  },
  {
   "cell_type": "markdown",
   "id": "6",
   "metadata": {},
   "source": [
    "\n",
    "- **`lambda`** → Declares the function.\n",
    "- **`arguments`** → Inputs to the function (similar to parameters in `def`).\n",
    "- **`expression`** → The operation performed (must be a single expression).\n",
    "\n"
   ]
  },
  {
   "cell_type": "markdown",
   "id": "7",
   "metadata": {},
   "source": [
    "## 🏗️ **Example 1: Quick Engineering Calculations**\n",
    "Lambda functions are ideal for **small engineering computations**.\n"
   ]
  },
  {
   "cell_type": "code",
   "execution_count": null,
   "id": "8",
   "metadata": {},
   "outputs": [],
   "source": [
    "# Calculate stress (σ = F/A)\n",
    "stress = lambda force, area: force / area\n",
    "\n",
    "# Example Usage:\n",
    "print(f\"Stress: {stress(1000, 0.005)} Pa\")"
   ]
  },
  {
   "cell_type": "markdown",
   "id": "9",
   "metadata": {},
   "source": [
    "### **Why Use a Lambda Function?**\n",
    "- No need to define a full function (`def` statement).\n",
    "- Useful for quick, single-use calculations.\n",
    "\n"
   ]
  },
  {
   "cell_type": "markdown",
   "id": "10",
   "metadata": {},
   "source": [
    "## 🔄 **Example 2: Sorting Engineering Data**\n",
    "Lambda functions simplify **sorting data structures** used in simulations.\n"
   ]
  },
  {
   "cell_type": "code",
   "execution_count": null,
   "id": "11",
   "metadata": {},
   "outputs": [],
   "source": [
    "materials = [(\"Steel\", 200), (\"Aluminum\", 70), (\"Titanium\", 120)]\n",
    "\n",
    "# Sort materials by strength\n",
    "materials.sort(key=lambda material: material[1])\n",
    "\n",
    "print(materials)"
   ]
  },
  {
   "cell_type": "markdown",
   "id": "12",
   "metadata": {},
   "source": [
    "### **Why Use Lambda Here?**\n",
    "- Quickly sorts data without defining a separate function.\n",
    "- Enhances readability in **data processing tasks**.\n",
    "\n"
   ]
  },
  {
   "cell_type": "markdown",
   "id": "13",
   "metadata": {},
   "source": [
    "## 📊 **Example 3: Filtering Sensor Readings**\n",
    "Lambda functions work well with **filtering** operations.\n"
   ]
  },
  {
   "cell_type": "code",
   "execution_count": null,
   "id": "14",
   "metadata": {},
   "outputs": [],
   "source": [
    "sensor_readings = [1.2, 3.5, 2.7, 0.5, 4.0, 0.9]\n",
    "\n",
    "# Filter out low sensor readings\n",
    "valid_readings = list(filter(lambda x: x > 1.0, sensor_readings))\n",
    "\n",
    "print(valid_readings)"
   ]
  },
  {
   "cell_type": "markdown",
   "id": "15",
   "metadata": {},
   "source": [
    "### **Why Use Lambda?**\n",
    "- **Quickly applies filtering conditions**.\n",
    "- Used in **sensor monitoring and threshold detection**.\n",
    "\n"
   ]
  },
  {
   "cell_type": "markdown",
   "id": "16",
   "metadata": {},
   "source": [
    "## 🔁 **Example 4: Mapping Functions for Batch Computations**\n",
    "In engineering, we often apply **the same formula to multiple data points**.\n"
   ]
  },
  {
   "cell_type": "code",
   "execution_count": null,
   "id": "17",
   "metadata": {},
   "outputs": [],
   "source": [
    "temperatures_c = [20, 35, 50, 65]\n",
    "\n",
    "# Convert Celsius to Fahrenheit\n",
    "convert_to_fahrenheit = list(map(lambda c: (c * 9 / 5) + 32, temperatures_c))\n",
    "\n",
    "print(convert_to_fahrenheit)"
   ]
  },
  {
   "cell_type": "markdown",
   "id": "18",
   "metadata": {},
   "source": [
    "### **Why Use Lambda?**\n",
    "- Simplifies bulk computations without loops.\n",
    "- Common in **real-time data transformations**.\n",
    "\n"
   ]
  },
  {
   "cell_type": "markdown",
   "id": "19",
   "metadata": {},
   "source": [
    "## 🏗️ **Example 5: Using Lambda in Function Arguments**\n",
    "Lambda functions are useful **when passing functions as arguments**.\n"
   ]
  },
  {
   "cell_type": "code",
   "execution_count": null,
   "id": "20",
   "metadata": {},
   "outputs": [],
   "source": [
    "def calculate_force(func, mass, acceleration):\n",
    "    return func(mass, acceleration)\n",
    "\n",
    "\n",
    "# Lambda for Newton's second law (F = ma)\n",
    "force = calculate_force(lambda m, a: m * a, 50, 9.81)\n",
    "\n",
    "print(f\"Force: {force} N\")"
   ]
  },
  {
   "cell_type": "markdown",
   "id": "21",
   "metadata": {},
   "source": [
    "### **Why Use Lambda?**\n",
    "- Avoids defining unnecessary functions.\n",
    "- Useful in **dynamically selecting equations**.\n",
    "\n"
   ]
  },
  {
   "cell_type": "markdown",
   "id": "22",
   "metadata": {},
   "source": [
    "## ⚡ **Example 6: Simple Dynamic Programming with Lambda**\n",
    "Lambda functions can be used in **dynamic programming** to optimize calculations, such as **caching results for efficiency**.\n",
    "\n",
    "```{definition} Memoization\n",
    "Memoization is an optimization technique that stores the results of expensive function calls and returns the cached result when the same inputs occur again.\n",
    "```\n"
   ]
  },
  {
   "cell_type": "code",
   "execution_count": null,
   "id": "23",
   "metadata": {},
   "outputs": [],
   "source": [
    "from functools import lru_cache\n",
    "\n",
    "# Use memoization to store previous computations\n",
    "\n",
    "\n",
    "@lru_cache(None)\n",
    "def factorial(n):\n",
    "    return 1 if n == 0 else n * factorial(n - 1)\n",
    "\n",
    "\n",
    "# Example Usage:\n",
    "print(f\"Factorial(5): {factorial(5)}\")"
   ]
  },
  {
   "cell_type": "markdown",
   "id": "24",
   "metadata": {},
   "source": [
    "### **Detailed Explanation:**\n",
    "- **Dynamic programming** is a technique used to **optimize recursive functions** by **storing previously computed results**.\n",
    "- `lru_cache(None)` is a **built-in Python decorator** that enables **memoization**, reducing redundant calculations.\n",
    "- When `factorial(5)` is called:\n",
    "- It recursively computes `factorial(4)`, `factorial(3)`, `factorial(2)`, etc.\n",
    "- Each computed value is **cached**, so future calls to `factorial(n)` retrieve stored results instead of recalculating them.\n",
    "- This is particularly useful in **engineering applications** where repeated calculations (e.g., stress-strain relationships, thermal simulations) are expensive.\n"
   ]
  },
  {
   "cell_type": "markdown",
   "id": "25",
   "metadata": {},
   "source": [
    "### **Why Use Lambda for Dynamic Programming?**\n",
    "- **Avoids recomputation** in recursive functions.\n",
    "- Useful in **optimization problems and engineering simulations**.\n",
    "- Improves performance in **iterative calculations**.\n",
    "\n"
   ]
  },
  {
   "cell_type": "markdown",
   "id": "26",
   "metadata": {},
   "source": [
    "## 🎯 **Best Practices for Lambda Functions in Engineering**\n",
    "✅ Use lambda functions for **quick, single-line calculations**.\n",
    "✅ Avoid complex logic inside lambda functions—use `def` for clarity.\n",
    "✅ Use `map()`, `filter()`, and `sort()` with lambda for **data processing**.\n",
    "✅ Use lambda for **dynamic formula selection** in simulations.\n",
    "✅ Use **memoization (`lru_cache`)** with lambda for optimizing **recursive calculations**.\n",
    "\n",
    "🏗️ **Lambda functions streamline engineering calculations, keeping your code concise and efficient!**"
   ]
  }
 ],
 "metadata": {},
 "nbformat": 4,
 "nbformat_minor": 5
}
