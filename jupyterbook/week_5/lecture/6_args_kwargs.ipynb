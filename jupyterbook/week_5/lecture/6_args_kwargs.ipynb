{
 "cells": [
  {
   "cell_type": "markdown",
   "id": "0",
   "metadata": {},
   "source": [
    "# 🎮 Mastering `*args` and `kwargs`: Flexible Functions in Game Development**\n"
   ]
  },
  {
   "cell_type": "markdown",
   "id": "1",
   "metadata": {},
   "source": [
    "## 🕹️ Gaming Context: Dynamic Game Mechanics"
   ]
  },
  {
   "cell_type": "markdown",
   "id": "2",
   "metadata": {},
   "source": [
    "### Fun Fact:\n",
    "Modern video games use dynamic function calls to handle character abilities, power-ups, and player actions without hardcoding every possible scenario. Python’s `*args` and `**kwargs` allow developers to write flexible, reusable functions that adapt to different inputs!\n"
   ]
  },
  {
   "cell_type": "markdown",
   "id": "3",
   "metadata": {},
   "source": [
    "## 🔄 Understanding `*args` and `kwargs`**\n",
    "Python allows functions to accept variable-length arguments using:\n"
   ]
  },
  {
   "cell_type": "markdown",
   "id": "4",
   "metadata": {},
   "source": [
    "1. `*args` (Non-keyword arguments) → Accepts multiple positional arguments as a tuple."
   ]
  },
  {
   "cell_type": "markdown",
   "id": "5",
   "metadata": {},
   "source": [
    "2. `kwargs` (Keyword arguments)** → Accepts multiple named arguments as a dictionary.\n"
   ]
  },
  {
   "cell_type": "markdown",
   "id": "6",
   "metadata": {},
   "source": [
    "## 🏗️ Example 1: Using `*args` for Variable Player Actions\n",
    "`*args` is useful when the number of arguments is not fixed, such as a player performing multiple actions in a game.\n"
   ]
  },
  {
   "cell_type": "code",
   "execution_count": null,
   "id": "7",
   "metadata": {},
   "outputs": [],
   "source": [
    "def player_actions(player_name, *actions):\n",
    "    \"\"\"Prints a list of actions a player performs.\"\"\"\n",
    "    print(f\"{player_name} is performing:\")\n",
    "    for action in actions:\n",
    "        print(f\"- {action}\")\n",
    "\n",
    "# Example Usage:\n",
    "player_actions(\"Knight\", \"attack\", \"block\", \"dodge\")\n",
    "player_actions(\"Mage\", \"cast fireball\", \"teleport\")"
   ]
  },
  {
   "cell_type": "markdown",
   "id": "8",
   "metadata": {},
   "source": [
    "### Why Use `*args`?\n",
    "- Players may perform different numbers of actions depending on the game state.\n",
    "- Helps avoid hardcoded function parameters, making the code adaptable.\n"
   ]
  },
  {
   "cell_type": "markdown",
   "id": "9",
   "metadata": {},
   "source": [
    "## 🎮 Example 2: Using `kwargs` for Character Customization**\n",
    "`kwargs` is useful when different characters** have unique attributes.\n"
   ]
  },
  {
   "cell_type": "code",
   "execution_count": null,
   "id": "10",
   "metadata": {},
   "outputs": [],
   "source": [
    "def create_character(name, **attributes):\n",
    "    \"\"\"Creates a character with dynamic attributes.\"\"\"\n",
    "    print(f\"Character: {name}\")\n",
    "    for key, value in attributes.items():\n",
    "        print(f\"  {key}: {value}\")\n",
    "\n",
    "# Example Usage:\n",
    "create_character(\"Elf Archer\", health=100, agility=80, strength=50)\n",
    "create_character(\"Orc Warrior\", health=150, strength=90, armor=70)"
   ]
  },
  {
   "cell_type": "markdown",
   "id": "11",
   "metadata": {},
   "source": [
    "### Why Use `kwargs`?**\n",
    "- Allows dynamic character creation without defining every possible attribute in advance.\n",
    "- Provides flexibility for upgrades and modifications during gameplay.\n"
   ]
  },
  {
   "cell_type": "markdown",
   "id": "12",
   "metadata": {},
   "source": [
    "## 🔄 Combining `*args` and `kwargs` for Game Events**\n",
    "Sometimes, both variable actions (`*args`) and custom attributes (`kwargs`)** are needed.\n"
   ]
  },
  {
   "cell_type": "code",
   "execution_count": null,
   "id": "13",
   "metadata": {},
   "outputs": [],
   "source": [
    "def game_event(event_name, *players, **modifiers):\n",
    "    \"\"\"Handles game events dynamically.\"\"\"\n",
    "    print(f\"Event: {event_name}\")\n",
    "    print(\"Players involved:\", \", \".join(players))\n",
    "    for key, value in modifiers.items():\n",
    "        print(f\"  {key}: {value}\")\n",
    "\n",
    "# Example Usage:\n",
    "game_event(\"Boss Battle\", \"Knight\", \"Mage\", difficulty=\"Hard\", reward=\"Legendary Sword\")"
   ]
  },
  {
   "cell_type": "markdown",
   "id": "14",
   "metadata": {},
   "source": [
    "### Why Use Both?\n",
    "- `*args` handles multiple players or actions.\n",
    "- `kwargs` allows dynamic modifications** to gameplay (e.g., difficulty levels, rewards).\n"
   ]
  },
  {
   "cell_type": "markdown",
   "id": "15",
   "metadata": {},
   "source": [
    "## 🔁 Example 4: Multiple Interacting Functions Using `*args` and `kwargs`**\n",
    "In complex games, functions often call each other while passing `*args` and `**kwargs` dynamically.\n"
   ]
  },
  {
   "cell_type": "code",
   "execution_count": null,
   "id": "16",
   "metadata": {},
   "outputs": [],
   "source": [
    "def apply_status_effects(player_name, *effects, **stats):\n",
    "    \"\"\"Applies multiple status effects to a player.\"\"\"\n",
    "    print(f\"{player_name} is affected by:\")\n",
    "    for effect in effects:\n",
    "        print(f\"- {effect}\")\n",
    "    print(\"Updated Stats:\")\n",
    "    for key, value in stats.items():\n",
    "        print(f\"  {key}: {value}\")\n",
    "\n",
    "\n",
    "def process_combat(player_name, *actions, **modifiers):\n",
    "    \"\"\"Processes a combat turn, applying actions and effects.\"\"\"\n",
    "    print(f\"{player_name} is taking action:\")\n",
    "    for action in actions:\n",
    "        print(f\"- {action}\")\n",
    "    apply_status_effects(player_name, *actions, **modifiers)\n",
    "\n",
    "# Example Usage:\n",
    "process_combat(\"Warrior\", \"attack\", \"stun\", strength=90, agility=75)"
   ]
  },
  {
   "cell_type": "markdown",
   "id": "17",
   "metadata": {},
   "source": [
    "### Rules for Interacting Functions:"
   ]
  },
  {
   "cell_type": "markdown",
   "id": "18",
   "metadata": {},
   "source": [
    "1. Pass `*args` and `kwargs` correctly** when calling another function."
   ]
  },
  {
   "cell_type": "markdown",
   "id": "19",
   "metadata": {},
   "source": [
    "2. Unpack arguments properly inside the called function (`*effects`, `**stats`)."
   ]
  },
  {
   "cell_type": "markdown",
   "id": "20",
   "metadata": {},
   "source": [
    "3. Ensure modularity, so that each function performs a single role.\n"
   ]
  },
  {
   "cell_type": "markdown",
   "id": "21",
   "metadata": {},
   "source": [
    "## 🎯 Best Practices for `*args` and `kwargs` in Game Development**\n",
    "✅ Use `*args` for flexible sequences of inputs (e.g., multiple actions, items, or players).\n",
    "✅ Use `kwargs` for dynamic key-value pairs** (e.g., attributes, settings, game configurations).\n",
    "✅ Combine both when you need multiple dynamic elements in a function.\n",
    "✅ Always document expected arguments to keep functions readable.\n",
    "✅ Modularize interacting functions to maintain clean, efficient code.\n",
    "\n",
    "🎮 With `*args` and `kwargs`, you can build dynamic, adaptable game mechanics that evolve with gameplay!**"
   ]
  }
 ],
 "metadata": {},
 "nbformat": 4,
 "nbformat_minor": 5
}
