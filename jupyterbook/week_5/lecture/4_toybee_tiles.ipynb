{
 "cells": [
  {
   "cell_type": "code",
   "execution_count": null,
   "id": "0",
   "metadata": {
    "deletable": false,
    "editable": false,
    "tags": [
     "skip-execution"
    ]
   },
   "outputs": [],
   "source": [
    "# You must make sure to run all cells in sequence using shift + enter or you might encounter errors\n",
    "from pykubegrader.initialize import initialize_assignment\n",
    "\n",
    "responses = initialize_assignment(\"4_toybee_tiles\", \"week_5\", \"lecture-not-graded\", assignment_points = 10.0, assignment_tag = 'week5-lecture-not-graded')\n",
    "\n",
    "# Initialize Otter\n",
    "import otter\n",
    "grader = otter.Notebook(\"4_toybee_tiles.ipynb\")"
   ]
  },
  {
   "cell_type": "markdown",
   "id": "1",
   "metadata": {
    "deletable": false,
    "editable": false
   },
   "source": [
    "# 💻 Activity: Toynbee Tiles: Error Handling, Function Definitions, and Returns\n",
    "\n",
    "## Question 1 (Points: 10.0): Unraveling the Mystery of Toynbee Tiles with Python! 🕵️‍♂️🔍\n",
    "\n",
    "![](./assets/figures/toynbee-tiles-map2.png)\n",
    "\n",
    "![](./assets/figures/toynbee-2.jpg)\n",
    "\n",
    "### Instructions:\n",
    "The **Toynbee Tiles** are mysterious plaques embedded in urban streets, often containing cryptic messages. Your task is to write a function, `analyze_tile()`, that processes a tile's message while handling various errors.\n",
    "### Requirements:\n",
    "1. **Function Definition:** Define a function `analyze_tile(message, location=\"Unknown\")`.\n",
    "2. **Documentation:** Include a docstring with the function's name, parameters, and a brief description.\n",
    "\n",
    "    ```python\n",
    "    \"\"\"\n",
    "    Processes a Toynbee Tile message while handling errors.\n",
    "\n",
    "    Args:\n",
    "        message (str): The message on the tile.\n",
    "        location (str, optional): The tile's location. Defaults to \"Unknown\".\n",
    "\n",
    "    Returns:\n",
    "        str: A formatted string describing the tile.\n",
    "    \"\"\"\n",
    "    ```\n",
    "\n",
    "2. **Input Handling:**\n",
    "- `message` (required): A string containing the tile’s message.\n",
    "- `location` (optional, default `\"Unknown\"`): The place where the tile was found.\n",
    "3. **Error Handling:**\n",
    "- Raise a `ValueError` if `message` is an empty string.\n",
    "- Raise a `TypeError` if `message` is not a string.\n",
    "4. **Return Statement:**\n",
    "- If valid, return a formatted string:\n",
    "```\n",
    "Tile Found: <message>\n",
    "Location: <location>\n",
    "```\n",
    "5. **Location Handling:** If `location` is not a string, return an error message `\"Invalid location format.\"`.\n",
    "### Example Usage:\n",
    "```python\n",
    "analyze_tile(\"Resurrect dead on planet Jupiter\", \"Philadelphia\")\n",
    "```\n",
    "**Expected Output:**\n",
    "```\n",
    "Tile Found: Resurrect dead on planet Jupiter\n",
    "Location: Philadelphia\n",
    "```\n",
    "If an error occurs, return a meaningful error message instead of crashing.\n",
    "### Helpful Information:\n",
    "- Use `if not message:` to check for an empty string.\n",
    "- Use `isinstance(variable, str)` to check if a value is a string.\n",
    "- Use `raise ValueError(\"message\")` or `raise TypeError(\"message\")` for errors.\n",
    "- Ensure the function gracefully handles incorrect inputs.\n",
    "\n",
    "![](./assets/figures/toynbee-3.jpeg)"
   ]
  },
  {
   "cell_type": "code",
   "execution_count": null,
   "id": "2",
   "metadata": {
    "tags": [
     "skip-execution"
    ]
   },
   "outputs": [],
   "source": [
    "# Function Definition\n",
    "...\n",
    "    \"\"\"\n",
    "    ...\n",
    "    \"\"\"\n",
    "    # Error Handling\n",
    "    # When message is not a string, raise TypeError, \"Message must be a string.\"\n",
    "    ...\n",
    "\n",
    "    # When message is empty, raise ValueError, \"Message cannot be empty.\"\n",
    "    ...\n",
    "\n",
    "    # When location is not a string, return \"Invalid location format.\"\n",
    "    ...\n",
    "\n",
    "    # Return formatted output\n",
    "    ...\n",
    "    \n",
    "# Example usage\n",
    "print(analyze_tile(\"Resurrect dead on planet Jupiter\", \"Philadelphia\"))"
   ]
  },
  {
   "cell_type": "code",
   "execution_count": null,
   "id": "3",
   "metadata": {
    "deletable": false,
    "editable": false,
    "tags": [
     "skip-execution"
    ]
   },
   "outputs": [],
   "source": [
    "grader.check(\"toybee-tiles-function\")"
   ]
  },
  {
   "cell_type": "markdown",
   "id": "4",
   "metadata": {},
   "source": [
    "## Submitting Assignment\n",
    "\n",
    "Please run the following block of code using `shift + enter` to submit your assignment, you should see your score."
   ]
  },
  {
   "cell_type": "code",
   "execution_count": null,
   "id": "5",
   "metadata": {
    "deletable": false,
    "editable": true,
    "tags": [
     "skip-execution"
    ]
   },
   "outputs": [],
   "source": [
    "from pykubegrader.submit.submit_assignment import submit_assignment\n",
    "\n",
    "submit_assignment(\"week5-lecture-not-graded\", \"4_toybee_tiles\")"
   ]
  }
 ],
 "metadata": {
  "kernelspec": {
   "display_name": "engr131_dev",
   "language": "python",
   "name": "python3"
  },
  "language_info": {
   "codemirror_mode": {
    "name": "ipython",
    "version": 3
   },
   "file_extension": ".py",
   "mimetype": "text/x-python",
   "name": "python",
   "nbconvert_exporter": "python",
   "pygments_lexer": "ipython3",
   "version": "3.12.7"
  },
  "otter": {
   "OK_FORMAT": true,
   "tests": {
    "toybee-tiles-function": {
     "name": "toybee-tiles-function",
     "points": null,
     "suites": [
      {
       "cases": [
        {
         "code": ">>> from pykubegrader.telemetry import ensure_responses, log_variable, score_question, submit_question, telemetry, update_responses\n>>> import os\n>>> import base64\n>>> import io\n>>> import sys\n>>> max_question_points = str(10.0)\n>>> earned_points = 0\n>>> os.environ['EARNED_POINTS'] = str(earned_points)\n>>> os.environ['TOTAL_POINTS_FREE_RESPONSE'] = str(10.0)\n>>> log_variable('total-points', f'Reading-Week-X, 4_toybee_tiles', 10.0)\n>>> question_id = 'toybee-tiles-function-1'\n>>> max_score = 1.0\n>>> score = 0\n>>> condition = 'analyze_tile' in globals()\n>>> sys.stdout = io.StringIO()\n>>> analyze_tile('Test message', 'Test location')\n>>> sys.stdout = sys.__stdout__\n>>> assert condition, 'The function raised an error when called.'\n>>> if condition:\n...     score = 1.0\n>>> earned_points = float(os.environ.get('EARNED_POINTS', 0))\n>>> earned_points += score\n>>> log_variable('4_toybee_tiles', f'{score}, {max_score}', question_id)\n>>> os.environ['EARNED_POINTS'] = str(earned_points)\n",
         "failure_message": "Failed: The function encounters an error when called.",
         "hidden": false,
         "locked": false,
         "points": 1,
         "success_message": "Success: The function executes without errors!"
        },
        {
         "code": ">>> from pykubegrader.telemetry import ensure_responses, log_variable, score_question, submit_question, telemetry, update_responses\n>>> import os\n>>> import base64\n>>> question_id = 'toybee-tiles-function-2'\n>>> max_score = 1.0\n>>> score = 0\n>>> try:\n...     analyze_tile(12345)\n... except TypeError as e:\n...     condition = str(e) == 'Message must be a string.'\n... else:\n...     condition = False\n>>> assert condition, 'Expected a TypeError with the correct message, but it was not raised.'\n>>> if condition:\n...     score = 1.0\n>>> earned_points = float(os.environ.get('EARNED_POINTS', 0))\n>>> earned_points += score\n>>> log_variable('4_toybee_tiles', f'{score}, {max_score}', question_id)\n>>> os.environ['EARNED_POINTS'] = str(earned_points)\n",
         "failure_message": "Failed: The function does not handle non-string messages correctly.",
         "hidden": false,
         "locked": false,
         "points": 1,
         "success_message": "Success: The function correctly raises an error for non-string messages!"
        },
        {
         "code": ">>> from pykubegrader.telemetry import ensure_responses, log_variable, score_question, submit_question, telemetry, update_responses\n>>> import os\n>>> import base64\n>>> question_id = 'toybee-tiles-function-3'\n>>> max_score = 1.0\n>>> score = 0\n>>> try:\n...     analyze_tile('')\n... except ValueError as e:\n...     condition = str(e) == 'Message cannot be empty.'\n... else:\n...     condition = False\n>>> assert condition, 'Expected a ValueError with the correct message, but it was not raised.'\n>>> if condition:\n...     score = 1.0\n>>> earned_points = float(os.environ.get('EARNED_POINTS', 0))\n>>> earned_points += score\n>>> log_variable('4_toybee_tiles', f'{score}, {max_score}', question_id)\n>>> os.environ['EARNED_POINTS'] = str(earned_points)\n",
         "failure_message": "Failed: The function does not handle empty messages correctly.",
         "hidden": false,
         "locked": false,
         "points": 1,
         "success_message": "Success: The function correctly raises an error for empty messages!"
        },
        {
         "code": ">>> from pykubegrader.telemetry import ensure_responses, log_variable, score_question, submit_question, telemetry, update_responses\n>>> import os\n>>> import base64\n>>> question_id = 'toybee-tiles-function-4'\n>>> max_score = 2.0\n>>> score = 0\n>>> output = analyze_tile('Resurrect dead on planet Jupiter', 'Philadelphia')\n>>> expected_output = 'Tile Found: Resurrect dead on planet Jupiter\\nLocation: Philadelphia'\n>>> assert output == expected_output\n>>> if output == expected_output:\n...     score = 2.0\n>>> earned_points = float(os.environ.get('EARNED_POINTS', 0))\n>>> earned_points += score\n>>> log_variable('4_toybee_tiles', f'{score}, {max_score}', question_id)\n>>> os.environ['EARNED_POINTS'] = str(earned_points)\n",
         "failure_message": "Failed: The function does not format output correctly.",
         "hidden": false,
         "locked": false,
         "points": 2,
         "success_message": "Success: The function correctly formats output for valid input!"
        },
        {
         "code": ">>> from pykubegrader.telemetry import ensure_responses, log_variable, score_question, submit_question, telemetry, update_responses\n>>> import os\n>>> import base64\n>>> question_id = 'toybee-tiles-function-5'\n>>> max_score = 2.0\n>>> score = 0\n>>> output = analyze_tile('Resurrect dead on planet Jupiter')\n>>> expected_output = 'Tile Found: Resurrect dead on planet Jupiter\\nLocation: Unknown'\n>>> assert output == expected_output\n>>> if output == expected_output:\n...     score = 2.0\n>>> earned_points = float(os.environ.get('EARNED_POINTS', 0))\n>>> earned_points += score\n>>> log_variable('4_toybee_tiles', f'{score}, {max_score}', question_id)\n>>> os.environ['EARNED_POINTS'] = str(earned_points)\n",
         "failure_message": "Failed: The function does not handle missing 'location' correctly.",
         "hidden": false,
         "locked": false,
         "points": 2,
         "success_message": "Success: The function correctly handles missing 'location' argument!"
        },
        {
         "code": ">>> from pykubegrader.telemetry import ensure_responses, log_variable, score_question, submit_question, telemetry, update_responses\n>>> import os\n>>> import base64\n>>> question_id = 'toybee-tiles-function-6'\n>>> max_score = 2.0\n>>> score = 0\n>>> output = analyze_tile('Resurrect dead on planet Jupiter', 12345)\n>>> expected_output = 'Invalid location format.'\n>>> assert output == expected_output\n>>> if output == expected_output:\n...     score = 2.0\n>>> earned_points = float(os.environ.get('EARNED_POINTS', 0))\n>>> earned_points += score\n>>> log_variable('4_toybee_tiles', f'{score}, {max_score}', question_id)\n>>> os.environ['EARNED_POINTS'] = str(earned_points)\n",
         "failure_message": "Failed: The function does not handle non-string location correctly.",
         "hidden": false,
         "locked": false,
         "points": 2,
         "success_message": "Success: The function correctly handles non-string location input!"
        },
        {
         "code": ">>> from pykubegrader.telemetry import ensure_responses, log_variable, score_question, submit_question, telemetry, update_responses\n>>> import os\n>>> import base64\n>>> question_id = 'toybee-tiles-function-7'\n>>> max_score = 1.0\n>>> score = 0\n>>> docstring = analyze_tile.__doc__\n>>> condition = docstring is not None and 'Args:' in docstring and ('Returns:' in docstring) and ('message (str): The message on the tile.' in docstring) and (\"location (str, optional): The tile's location.\" in docstring) and ('A formatted string describing the tile.' in docstring)\n>>> assert condition, \"The function's docstring is incomplete.\"\n>>> if condition:\n...     score = 1.0\n>>> earned_points = float(os.environ.get('EARNED_POINTS', 0))\n>>> earned_points += score\n>>> log_variable('4_toybee_tiles', f'{score}, {max_score}', question_id)\n>>> os.environ['EARNED_POINTS'] = str(earned_points)\n",
         "failure_message": "Failed: The function does not have a complete docstring.",
         "hidden": false,
         "locked": false,
         "points": 1,
         "success_message": "Success: The function has a complete docstring!"
        }
       ],
       "scored": true,
       "setup": "",
       "teardown": "",
       "type": "doctest"
      }
     ]
    }
   }
  }
 },
 "nbformat": 4,
 "nbformat_minor": 5
}
