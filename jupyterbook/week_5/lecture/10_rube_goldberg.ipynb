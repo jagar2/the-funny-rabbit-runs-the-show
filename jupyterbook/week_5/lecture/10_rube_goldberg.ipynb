{
 "cells": [
  {
   "cell_type": "code",
   "execution_count": null,
   "id": "0",
   "metadata": {
    "tags": [
     "skip-execution"
    ]
   },
   "outputs": [],
   "source": [
    "from pykubegrader.tokens.validate_token import validate_token\n",
    "validate_token('type the key provided by your instructor here')\n"
   ]
  },
  {
   "cell_type": "code",
   "execution_count": null,
   "id": "1",
   "metadata": {
    "deletable": false,
    "editable": false,
    "tags": [
     "skip-execution"
    ]
   },
   "outputs": [],
   "source": [
    "# You must make sure to run all cells in sequence using shift + enter or you might encounter errors\n",
    "from pykubegrader.initialize import initialize_assignment\n",
    "\n",
    "responses = initialize_assignment(\"10_rube_goldberg\", \"week_5\", \"lecture\", assignment_points = 21.0, assignment_tag = 'week5-lecture')\n",
    "\n",
    "# Initialize Otter\n",
    "import otter\n",
    "grader = otter.Notebook(\"10_rube_goldberg.ipynb\")"
   ]
  },
  {
   "cell_type": "markdown",
   "id": "2",
   "metadata": {
    "deletable": false,
    "editable": false
   },
   "source": [
    "# 💻 Activity Rube Goldberg Machine: Modular Functions with *args and **kwargs\n",
    "\n",
    "## Question 1 (Points: 21.0): Rube Goldberg Machine\n",
    "\n",
    "![Rube Goldberg Machine](./assets/figures/200.gif)\n",
    "\n",
    "### Instructions:\n",
    "You are designing a **Rube Goldberg machine simulator** where multiple functions interact in a sequence to achieve a simple goal in an overly complex way.\n",
    "\n",
    "Your task is to define multiple modular functions that take flexible inputs using `*args` and `**kwargs`.\n",
    "\n",
    "### Requirements:\n",
    "1. **Define a Function `start_machine(*args, **kwargs)`**  \n",
    "   - Calls other functions based on `*args`.\n",
    "   - Passes metadata (like `speed=`, `material=`) using `**kwargs`.\n",
    "   \n",
    "2. **Define Helper Functions for Components:**  \n",
    "   - Each function should accept flexible arguments and pass data to the next function.\n",
    "   - Example:  \n",
    "     ```python\n",
    "     def lever(action, *args, **kwargs):\n",
    "         return f\"Lever {action} → {next_step(*args, **kwargs)}\"\n",
    "     ```\n",
    "\n",
    "3. **Ensure Function Interaction:**  \n",
    "   - Functions should call one another, creating a step-by-step simulation.\n",
    "   - The final function should return `\"Goal Achieved!\"`.\n",
    "   \n",
    "4. **Example Execution:**\n",
    "```python\n",
    "start_machine(\"lever\", \"pulley\", \"dominoes\", speed=\"fast\", material=\"wood\")\n",
    "```\n",
    "**Expected Output:**\n",
    "```\n",
    "Lever triggered → Pulley activated → Dominoes toppled → Goal Achieved!\n",
    "```\n",
    "\n",
    "### Helpful Information:\n",
    "- Use `*args` to dynamically chain components.\n",
    "- Use `**kwargs` to pass machine properties like speed or material.\n",
    "- The machine should always end with `\"Goal Achieved!\"`."
   ]
  },
  {
   "cell_type": "code",
   "execution_count": null,
   "id": "3",
   "metadata": {
    "tags": [
     "skip-execution"
    ]
   },
   "outputs": [],
   "source": [
    "# Function Definitions\n",
    "# A Rube Goldberg machine is a contraption that is deliberately over-engineered to perform a simple task.\n",
    "\n",
    "\n",
    "# Define a function lever that takes an argument and returns a string that says \"Lever triggered → [next_step]\".\n",
    "...\n",
    "\n",
    "\n",
    "# Define a function pulley that takes an action as an argument and returns a string that says \"Pulley [action] → [next_step]\".\n",
    "...\n",
    "\n",
    "\n",
    "# Define a function dominoes that takes an action as an argument and returns a string that says \"Dominoes [action] → [next_step]\".\n",
    "...\n",
    "\n",
    "\n",
    "# Define a function next_step that takes a variable number of arguments and returns a string that says \"Goal Achieved!\" if no arguments are passed.\n",
    "# If arguments are passed, the function should determine the next step in the machine based on the first argument and call the corresponding function.\n",
    "# The function should return \"Unknown step!\" if the first argument does not match any of the defined functions.\n",
    "def next_step(*args, **kwargs):\n",
    "    \"\"\"Determines the next step in the machine.\"\"\"\n",
    "\n",
    "    # if no arguments are passed, return \"Goal Achieved!\"\n",
    "    ...\n",
    "\n",
    "    # From the first argument, determine the next component, save to the `next_component`` variable, and save the remaining arguments to the `remaining_steps` variable\n",
    "    ...\n",
    "\n",
    "    # Create a dictionary that maps the next component to the corresponding function\n",
    "    # Save this dictionary to the `component_map` variable\n",
    "    ...\n",
    "\n",
    "    # If the next component is in the component map, call the corresponding function with the remaining steps and return the result\n",
    "    # If the next component is not in the component map, return \"Unknown step!\"\n",
    "    # Recall, you can use the in operator to check if a key is in a dictionary\n",
    "    ...\n",
    "\n",
    "\n",
    "# Define a function start_machine that takes a variable number of arguments and keyword arguments and initiates the Rube Goldberg machine.\n",
    "# The function should call the next_step function with the provided arguments and return the result.\n",
    "# This is the main function call that initiates the machine.\n",
    "...\n",
    "\n",
    "# Example execution\n",
    "print(start_machine(\"lever\", \"pulley\", \"dominoes\", speed=\"fast\", material=\"wood\"))"
   ]
  },
  {
   "cell_type": "code",
   "execution_count": null,
   "id": "4",
   "metadata": {
    "deletable": false,
    "editable": false,
    "tags": [
     "skip-execution"
    ]
   },
   "outputs": [],
   "source": [
    "grader.check(\"rube-goldberg-modularity\")"
   ]
  },
  {
   "cell_type": "markdown",
   "id": "5",
   "metadata": {},
   "source": [
    "## Submitting Assignment\n",
    "\n",
    "Please run the following block of code using `shift + enter` to submit your assignment, you should see your score."
   ]
  },
  {
   "cell_type": "code",
   "execution_count": null,
   "id": "6",
   "metadata": {
    "deletable": false,
    "editable": false,
    "tags": [
     "skip-execution"
    ]
   },
   "outputs": [],
   "source": [
    "from pykubegrader.tokens.validate_token import validate_token\n",
    "validate_token()\n",
    "\n",
    "\n",
    "from pykubegrader.submit.submit_assignment import submit_assignment\n",
    "\n",
    "submit_assignment(\"week5-lecture\", \"10_rube_goldberg\")"
   ]
  }
 ],
 "metadata": {
  "kernelspec": {
   "display_name": "engr131_dev",
   "language": "python",
   "name": "python3"
  },
  "language_info": {
   "codemirror_mode": {
    "name": "ipython",
    "version": 3
   },
   "file_extension": ".py",
   "mimetype": "text/x-python",
   "name": "python",
   "nbconvert_exporter": "python",
   "pygments_lexer": "ipython3",
   "version": "3.12.7"
  },
  "otter": {
   "OK_FORMAT": true,
   "tests": {
    "rube-goldberg-modularity": {
     "name": "rube-goldberg-modularity",
     "points": null,
     "suites": [
      {
       "cases": [
        {
         "code": ">>> from pykubegrader.telemetry import ensure_responses, log_variable, score_question, submit_question, telemetry, update_responses\n>>> import os\n>>> import base64\n>>> max_question_points = str(21.0)\n>>> earned_points = 0\n>>> os.environ['EARNED_POINTS'] = str(earned_points)\n>>> os.environ['TOTAL_POINTS_FREE_RESPONSE'] = str(21.0)\n>>> from pykubegrader.tokens.validate_token import validate_token\n>>> validate_token()\n>>> log_variable('total-points', f'Reading-Week-X, 10_rube_goldberg', 21.0)\n>>> question_id = 'rube-goldberg-modularity-1'\n>>> max_score = 1.0\n>>> score = 0\n>>> condition = 'lever' in globals() and callable(lever)\n>>> assert condition, \"The function 'lever' is not defined or not callable.\"\n>>> if condition:\n...     score = 1.0\n>>> earned_points = float(os.environ.get('EARNED_POINTS', 0))\n>>> earned_points += score\n>>> log_variable('10_rube_goldberg', f'{score}, {max_score}', question_id)\n>>> os.environ['EARNED_POINTS'] = str(earned_points)\n",
         "failure_message": "Failed: The function 'lever' is not defined or not callable.",
         "hidden": false,
         "locked": false,
         "points": 1,
         "success_message": "Success: The function 'lever' is defined and callable!"
        },
        {
         "code": ">>> from pykubegrader.telemetry import ensure_responses, log_variable, score_question, submit_question, telemetry, update_responses\n>>> import os\n>>> import base64\n>>> question_id = 'rube-goldberg-modularity-2'\n>>> max_score = 1.0\n>>> score = 0\n>>> condition = 'pulley' in globals() and callable(pulley)\n>>> assert condition, \"The function 'pulley' is not defined or not callable.\"\n>>> if condition:\n...     score = 1.0\n>>> earned_points = float(os.environ.get('EARNED_POINTS', 0))\n>>> earned_points += score\n>>> log_variable('10_rube_goldberg', f'{score}, {max_score}', question_id)\n>>> os.environ['EARNED_POINTS'] = str(earned_points)\n",
         "failure_message": "Failed: The function 'pulley' is not defined or not callable.",
         "hidden": false,
         "locked": false,
         "points": 1,
         "success_message": "Success: The function 'pulley' is defined and callable!"
        },
        {
         "code": ">>> from pykubegrader.telemetry import ensure_responses, log_variable, score_question, submit_question, telemetry, update_responses\n>>> import os\n>>> import base64\n>>> question_id = 'rube-goldberg-modularity-3'\n>>> max_score = 1.0\n>>> score = 0\n>>> condition = 'dominoes' in globals() and callable(dominoes)\n>>> assert condition, \"The function 'dominoes' is not defined or not callable.\"\n>>> if condition:\n...     score = 1.0\n>>> earned_points = float(os.environ.get('EARNED_POINTS', 0))\n>>> earned_points += score\n>>> log_variable('10_rube_goldberg', f'{score}, {max_score}', question_id)\n>>> os.environ['EARNED_POINTS'] = str(earned_points)\n",
         "failure_message": "Failed: The function 'dominoes' is not defined or not callable.",
         "hidden": false,
         "locked": false,
         "points": 1,
         "success_message": "Success: The function 'dominoes' is defined and callable!"
        },
        {
         "code": ">>> from pykubegrader.telemetry import ensure_responses, log_variable, score_question, submit_question, telemetry, update_responses\n>>> import os\n>>> import base64\n>>> question_id = 'rube-goldberg-modularity-4'\n>>> max_score = 1.0\n>>> score = 0\n>>> condition = 'next_step' in globals() and callable(next_step)\n>>> assert condition, \"The function 'next_step' is not defined or not callable.\"\n>>> if condition:\n...     score = 1.0\n>>> earned_points = float(os.environ.get('EARNED_POINTS', 0))\n>>> earned_points += score\n>>> log_variable('10_rube_goldberg', f'{score}, {max_score}', question_id)\n>>> os.environ['EARNED_POINTS'] = str(earned_points)\n",
         "failure_message": "Failed: The function 'next_step' is not defined or not callable.",
         "hidden": false,
         "locked": false,
         "points": 1,
         "success_message": "Success: The function 'next_step' is defined and callable!"
        },
        {
         "code": ">>> from pykubegrader.telemetry import ensure_responses, log_variable, score_question, submit_question, telemetry, update_responses\n>>> import os\n>>> import base64\n>>> question_id = 'rube-goldberg-modularity-5'\n>>> max_score = 1.0\n>>> score = 0\n>>> condition = 'start_machine' in globals() and callable(start_machine)\n>>> assert condition, \"The function 'start_machine' is not defined or not callable.\"\n>>> if condition:\n...     score = 1.0\n>>> earned_points = float(os.environ.get('EARNED_POINTS', 0))\n>>> earned_points += score\n>>> log_variable('10_rube_goldberg', f'{score}, {max_score}', question_id)\n>>> os.environ['EARNED_POINTS'] = str(earned_points)\n",
         "failure_message": "Failed: The function 'start_machine' is not defined or not callable.",
         "hidden": false,
         "locked": false,
         "points": 1,
         "success_message": "Success: The function 'start_machine' is defined and callable!"
        },
        {
         "code": ">>> from pykubegrader.telemetry import ensure_responses, log_variable, score_question, submit_question, telemetry, update_responses\n>>> import os\n>>> import base64\n>>> question_id = 'rube-goldberg-modularity-6'\n>>> max_score = 2.0\n>>> score = 0\n>>> expected_output = 'Lever triggered → Goal Achieved!'\n>>> actual_output = lever()\n>>> assert actual_output == expected_output, f'Expected:\\n{expected_output}\\nBut got:\\n{actual_output}'\n>>> if (actual_output == expected_output, f'Expected:\\n{expected_output}\\nBut got:\\n{actual_output}'):\n...     score = 2.0\n>>> earned_points = float(os.environ.get('EARNED_POINTS', 0))\n>>> earned_points += score\n>>> log_variable('10_rube_goldberg', f'{score}, {max_score}', question_id)\n>>> os.environ['EARNED_POINTS'] = str(earned_points)\n",
         "failure_message": "Failed: The function 'lever' does not return the expected format.",
         "hidden": false,
         "locked": false,
         "points": 2,
         "success_message": "Success: The function 'lever' correctly returns the expected format!"
        },
        {
         "code": ">>> from pykubegrader.telemetry import ensure_responses, log_variable, score_question, submit_question, telemetry, update_responses\n>>> import os\n>>> import base64\n>>> question_id = 'rube-goldberg-modularity-7'\n>>> max_score = 2.0\n>>> score = 0\n>>> expected_output = 'Pulley activated → Goal Achieved!'\n>>> actual_output = pulley()\n>>> assert actual_output == expected_output, f'Expected:\\n{expected_output}\\nBut got:\\n{actual_output}'\n>>> if (actual_output == expected_output, f'Expected:\\n{expected_output}\\nBut got:\\n{actual_output}'):\n...     score = 2.0\n>>> earned_points = float(os.environ.get('EARNED_POINTS', 0))\n>>> earned_points += score\n>>> log_variable('10_rube_goldberg', f'{score}, {max_score}', question_id)\n>>> os.environ['EARNED_POINTS'] = str(earned_points)\n",
         "failure_message": "Failed: The function 'pulley' does not return the expected format.",
         "hidden": false,
         "locked": false,
         "points": 2,
         "success_message": "Success: The function 'pulley' correctly returns the expected format!"
        },
        {
         "code": ">>> from pykubegrader.telemetry import ensure_responses, log_variable, score_question, submit_question, telemetry, update_responses\n>>> import os\n>>> import base64\n>>> question_id = 'rube-goldberg-modularity-8'\n>>> max_score = 2.0\n>>> score = 0\n>>> expected_output = 'Dominoes toppled → Goal Achieved!'\n>>> actual_output = dominoes()\n>>> assert actual_output == expected_output, f'Expected:\\n{expected_output}\\nBut got:\\n{actual_output}'\n>>> if (actual_output == expected_output, f'Expected:\\n{expected_output}\\nBut got:\\n{actual_output}'):\n...     score = 2.0\n>>> earned_points = float(os.environ.get('EARNED_POINTS', 0))\n>>> earned_points += score\n>>> log_variable('10_rube_goldberg', f'{score}, {max_score}', question_id)\n>>> os.environ['EARNED_POINTS'] = str(earned_points)\n",
         "failure_message": "Failed: The function 'dominoes' does not return the expected format.",
         "hidden": false,
         "locked": false,
         "points": 2,
         "success_message": "Success: The function 'dominoes' correctly returns the expected format!"
        },
        {
         "code": ">>> from pykubegrader.telemetry import ensure_responses, log_variable, score_question, submit_question, telemetry, update_responses\n>>> import os\n>>> import base64\n>>> question_id = 'rube-goldberg-modularity-9'\n>>> max_score = 3.0\n>>> score = 0\n>>> expected_output = 'Lever triggered → Pulley activated → Dominoes toppled → Goal Achieved!'\n>>> actual_output = next_step('lever', 'pulley', 'dominoes')\n>>> assert actual_output == expected_output, f'Expected:\\n{expected_output}\\nBut got:\\n{actual_output}'\n>>> if (actual_output == expected_output, f'Expected:\\n{expected_output}\\nBut got:\\n{actual_output}'):\n...     score = 3.0\n>>> earned_points = float(os.environ.get('EARNED_POINTS', 0))\n>>> earned_points += score\n>>> log_variable('10_rube_goldberg', f'{score}, {max_score}', question_id)\n>>> os.environ['EARNED_POINTS'] = str(earned_points)\n",
         "failure_message": "Failed: The function 'next_step' does not resolve steps correctly.",
         "hidden": false,
         "locked": false,
         "points": 3,
         "success_message": "Success: The function 'next_step' correctly resolves a sequence of steps!"
        },
        {
         "code": ">>> from pykubegrader.telemetry import ensure_responses, log_variable, score_question, submit_question, telemetry, update_responses\n>>> import os\n>>> import base64\n>>> question_id = 'rube-goldberg-modularity-10'\n>>> max_score = 2.0\n>>> score = 0\n>>> expected_output = 'Unknown step!'\n>>> actual_output = next_step('catapult')\n>>> assert actual_output == expected_output, f'Expected:\\n{expected_output}\\nBut got:\\n{actual_output}'\n>>> if (actual_output == expected_output, f'Expected:\\n{expected_output}\\nBut got:\\n{actual_output}'):\n...     score = 2.0\n>>> earned_points = float(os.environ.get('EARNED_POINTS', 0))\n>>> earned_points += score\n>>> log_variable('10_rube_goldberg', f'{score}, {max_score}', question_id)\n>>> os.environ['EARNED_POINTS'] = str(earned_points)\n",
         "failure_message": "Failed: The function 'next_step' does not handle unknown steps correctly.",
         "hidden": false,
         "locked": false,
         "points": 2,
         "success_message": "Success: The function 'next_step' correctly identifies an unknown step!"
        },
        {
         "code": ">>> from pykubegrader.telemetry import ensure_responses, log_variable, score_question, submit_question, telemetry, update_responses\n>>> import os\n>>> import base64\n>>> question_id = 'rube-goldberg-modularity-11'\n>>> max_score = 3.0\n>>> score = 0\n>>> expected_output = 'Lever triggered → Pulley activated → Dominoes toppled → Goal Achieved!'\n>>> actual_output = start_machine('lever', 'pulley', 'dominoes')\n>>> assert actual_output == expected_output, f'Expected:\\n{expected_output}\\nBut got:\\n{actual_output}'\n>>> if (actual_output == expected_output, f'Expected:\\n{expected_output}\\nBut got:\\n{actual_output}'):\n...     score = 3.0\n>>> earned_points = float(os.environ.get('EARNED_POINTS', 0))\n>>> earned_points += score\n>>> log_variable('10_rube_goldberg', f'{score}, {max_score}', question_id)\n>>> os.environ['EARNED_POINTS'] = str(earned_points)\n",
         "failure_message": "Failed: The function 'start_machine' does not work correctly.",
         "hidden": false,
         "locked": false,
         "points": 3,
         "success_message": "Success: The function 'start_machine' correctly initiates the machine!"
        },
        {
         "code": ">>> from pykubegrader.telemetry import ensure_responses, log_variable, score_question, submit_question, telemetry, update_responses\n>>> import os\n>>> import base64\n>>> question_id = 'rube-goldberg-modularity-12'\n>>> max_score = 2.0\n>>> score = 0\n>>> expected_output = 'Goal Achieved!'\n>>> actual_output = start_machine()\n>>> assert actual_output == expected_output, f'Expected:\\n{expected_output}\\nBut got:\\n{actual_output}'\n>>> if (actual_output == expected_output, f'Expected:\\n{expected_output}\\nBut got:\\n{actual_output}'):\n...     score = 2.0\n>>> earned_points = float(os.environ.get('EARNED_POINTS', 0))\n>>> earned_points += score\n>>> log_variable('10_rube_goldberg', f'{score}, {max_score}', question_id)\n>>> os.environ['EARNED_POINTS'] = str(earned_points)\n",
         "failure_message": "Failed: The function 'start_machine' does not return 'Goal Achieved!' for empty calls.",
         "hidden": false,
         "locked": false,
         "points": 2,
         "success_message": "Success: The function 'start_machine' correctly handles an empty call!"
        }
       ],
       "scored": true,
       "setup": "",
       "teardown": "",
       "type": "doctest"
      }
     ]
    }
   }
  }
 },
 "nbformat": 4,
 "nbformat_minor": 5
}
