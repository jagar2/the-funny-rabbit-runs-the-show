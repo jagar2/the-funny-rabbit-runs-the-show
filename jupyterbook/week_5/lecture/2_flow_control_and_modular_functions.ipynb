{
 "cells": [
  {
   "cell_type": "markdown",
   "id": "0",
   "metadata": {
    "slideshow": {
     "slide_type": "slide"
    }
   },
   "source": [
    "# 📝  🌊 Flow Control in Functions & Nested Function Calls"
   ]
  },
  {
   "cell_type": "markdown",
   "id": "1",
   "metadata": {
    "slideshow": {
     "slide_type": "slide"
    }
   },
   "source": [
    "## 🏭 Engineering Context: Industrial Fluid Flow\n",
    "\n",
    "<iframe width=\"560\" height=\"315\" src=\"https://www.youtube.com/embed/qs_Bq9C9LMI?si=c2xa2pyBG3nDwL7n\" title=\"YouTube video player\" frameborder=\"0\" allow=\"accelerometer; autoplay; clipboard-write; encrypted-media; gyroscope; picture-in-picture; web-share\" referrerpolicy=\"strict-origin-when-cross-origin\" allowfullscreen></iframe>"
   ]
  },
  {
   "cell_type": "markdown",
   "id": "2",
   "metadata": {
    "slideshow": {
     "slide_type": "subslide"
    }
   },
   "source": [
    "### Fun Fact:\n",
    "In large industrial pipelines, engineers use fluid flow equations to optimize pressure, velocity, and energy efficiency. Proper flow control prevents damage, reduces costs, and ensures smooth operations!\n"
   ]
  },
  {
   "cell_type": "markdown",
   "id": "3",
   "metadata": {
    "slideshow": {
     "slide_type": "slide"
    }
   },
   "source": [
    "## 🔄 Controlling Flow in Functions\n",
    "Flow control in functions ensures that logic is executed conditionally, iteratively, or recursively, depending on the engineering scenario.\n"
   ]
  },
  {
   "cell_type": "markdown",
   "id": "4",
   "metadata": {
    "slideshow": {
     "slide_type": "subslide"
    }
   },
   "source": [
    "### Example 1: Flow Classification in a Pipeline"
   ]
  },
  {
   "cell_type": "code",
   "execution_count": null,
   "id": "5",
   "metadata": {
    "slideshow": {
     "slide_type": "fragment"
    }
   },
   "outputs": [],
   "source": [
    "def classify_flow(velocity: float) -> str:\n",
    "    \"\"\"Determines flow type based on velocity thresholds.\"\"\"\n",
    "    if velocity < 0.5:\n",
    "        return \"Laminar Flow (Smooth)\"\n",
    "    elif 0.5 <= velocity < 3.0:\n",
    "        return \"Transitional Flow (Unstable)\"\n",
    "    else:\n",
    "        return \"Turbulent Flow (Rough)\"\n",
    "\n",
    "\n",
    "# Example Usage:\n",
    "flow_type = classify_flow(2.0)\n",
    "print(f\"The flow type is: {flow_type}\")"
   ]
  },
  {
   "cell_type": "markdown",
   "id": "6",
   "metadata": {
    "slideshow": {
     "slide_type": "subslide"
    }
   },
   "source": [
    "### Why It Matters?\n",
    "- Laminar flow is energy-efficient but occurs at lower speeds.\n",
    "- Turbulent flow increases resistance but enhances mixing (useful in chemical processes).\n",
    "- Engineers need to control flow conditions in pipeline design.\n"
   ]
  },
  {
   "cell_type": "markdown",
   "id": "7",
   "metadata": {
    "slideshow": {
     "slide_type": "slide"
    }
   },
   "source": [
    "## 🏗️ Functions Calling Other Functions (Modular Design)\n",
    "Complex engineering problems require multiple functions working together.\n"
   ]
  },
  {
   "cell_type": "markdown",
   "id": "8",
   "metadata": {
    "slideshow": {
     "slide_type": "subslide"
    }
   },
   "source": [
    "### Example 2: Calculating Reynolds Number\n",
    "Formula:\n",
    "\n",
    "$ Re = \\frac{\\rho v D}{\\mu} $\n"
   ]
  },
  {
   "cell_type": "code",
   "execution_count": null,
   "id": "9",
   "metadata": {
    "slideshow": {
     "slide_type": "fragment"
    }
   },
   "outputs": [],
   "source": [
    "def reynolds_number(\n",
    "    density: float, velocity: float, diameter: float, viscosity: float\n",
    ") -> float:\n",
    "    \"\"\"Calculates the Reynolds number for fluid flow.\"\"\"\n",
    "    return (density * velocity * diameter) / viscosity\n",
    "\n",
    "\n",
    "# Using another function to classify the flow\n",
    "\n",
    "\n",
    "def classify_reynolds_number(Re: float) -> str:\n",
    "    \"\"\"Determines if flow is laminar or turbulent based on Reynolds number.\"\"\"\n",
    "    if Re < 2300:\n",
    "        return \"Laminar Flow\"\n",
    "    elif 2300 <= Re < 4000:\n",
    "        return \"Transitional Flow\"\n",
    "    else:\n",
    "        return \"Turbulent Flow\"\n",
    "\n",
    "\n",
    "# Main function that combines both calculations\n",
    "\n",
    "\n",
    "def analyze_fluid_flow(\n",
    "    density: float, velocity: float, diameter: float, viscosity: float\n",
    "):\n",
    "    \"\"\"Calculates Reynolds number and classifies flow type.\"\"\"\n",
    "    Re = reynolds_number(density, velocity, diameter, viscosity)\n",
    "    flow_type = classify_reynolds_number(Re)\n",
    "    print(f\"Reynolds Number: {Re:.2f}\")\n",
    "    print(f\"Flow Classification: {flow_type}\")\n",
    "\n",
    "\n",
    "# Example Usage:\n",
    "analyze_fluid_flow(density=1000, velocity=2.5, diameter=0.05, viscosity=0.001)"
   ]
  },
  {
   "cell_type": "markdown",
   "id": "10",
   "metadata": {
    "slideshow": {
     "slide_type": "subslide"
    }
   },
   "source": [
    "### Why It Matters?\n",
    "- Reynolds number determines whether fluid flow is smooth or turbulent.\n",
    "- Engineers use this to design pipelines, prevent erosion, and reduce energy loss.\n",
    "- Modular functions help engineers separate calculations, making debugging and modifications easier.\n"
   ]
  },
  {
   "cell_type": "markdown",
   "id": "11",
   "metadata": {
    "slideshow": {
     "slide_type": "slide"
    }
   },
   "source": [
    "## 🔄 Modularity in Large-Scale Systems\n",
    "In industrial applications, modular functions improve scalability and maintainability.\n"
   ]
  },
  {
   "cell_type": "markdown",
   "id": "12",
   "metadata": {
    "slideshow": {
     "slide_type": "subslide"
    }
   },
   "source": [
    "### Example 3: Multi-Stage Pump System Analysis"
   ]
  },
  {
   "cell_type": "code",
   "execution_count": null,
   "id": "13",
   "metadata": {
    "slideshow": {
     "slide_type": "fragment"
    }
   },
   "outputs": [],
   "source": [
    "def pump_efficiency(flow_rate: float, power_input: float) -> float:\n",
    "    \"\"\"Calculates pump efficiency based on flow rate and power input.\"\"\"\n",
    "    return (flow_rate * 9.81) / power_input * 100\n",
    "\n",
    "\n",
    "def total_power_usage(power_stages: list) -> float:\n",
    "    \"\"\"Calculates total power consumption from multiple pump stages.\"\"\"\n",
    "    return sum(power_stages)\n",
    "\n",
    "\n",
    "def analyze_pump_system(flow_rate: float, power_stages: list):\n",
    "    \"\"\"Analyzes a multi-stage pump system for efficiency and power consumption.\"\"\"\n",
    "    total_power = total_power_usage(power_stages)\n",
    "    efficiency = pump_efficiency(flow_rate, total_power)\n",
    "    print(f\"Total Power Usage: {total_power:.2f} kW\")\n",
    "    print(f\"Pump Efficiency: {efficiency:.2f}%\")\n",
    "\n",
    "\n",
    "# Example Usage:\n",
    "analyze_pump_system(flow_rate=500, power_stages=[50, 55, 60])"
   ]
  },
  {
   "cell_type": "markdown",
   "id": "14",
   "metadata": {
    "slideshow": {
     "slide_type": "subslide"
    }
   },
   "source": [
    "### Why It Matters?\n",
    "- Multi-stage pumps reduce pressure fluctuations and increase energy efficiency.\n",
    "- Modular functions allow independent debugging of efficiency and power usage calculations.\n"
   ]
  },
  {
   "cell_type": "markdown",
   "id": "15",
   "metadata": {
    "slideshow": {
     "slide_type": "slide"
    }
   },
   "source": [
    "## 🚀 Key Takeaways\n",
    "- Flow control in functions enables smart decision-making in calculations.\n",
    "- Nested functions allow for modular engineering computations.\n",
    "- Modular functions simplify large-scale systems like pipelines and pump networks.\n",
    "- Fluid flow analysis is critical in industrial processes, HVAC systems, and aerospace engineering.\n",
    "\n",
    "🎯 Use modular Python functions to simulate, optimize, and control engineering processes!"
   ]
  }
 ],
 "metadata": {
  "language_info": {
   "name": "python"
  }
 },
 "nbformat": 4,
 "nbformat_minor": 5
}
