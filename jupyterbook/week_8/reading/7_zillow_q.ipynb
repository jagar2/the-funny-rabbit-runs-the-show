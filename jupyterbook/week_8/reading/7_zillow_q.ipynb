{
 "cells": [
  {
   "cell_type": "code",
   "execution_count": null,
   "id": "0",
   "metadata": {
    "deletable": false,
    "editable": false,
    "tags": [
     "skip-execution"
    ]
   },
   "outputs": [],
   "source": [
    "# You must make sure to run all cells in sequence using shift + enter or you might encounter errors\n",
    "from pykubegrader.initialize import initialize_assignment\n",
    "\n",
    "responses = initialize_assignment(\"7_zillow_q\", \"week_8\", \"readings\", assignment_points = 20.0, assignment_tag = 'week8-readings')\n",
    "\n",
    "# Initialize Otter\n",
    "import otter\n",
    "grader = otter.Notebook(\"7_zillow_q.ipynb\")"
   ]
  },
  {
   "cell_type": "markdown",
   "id": "1",
   "metadata": {
    "deletable": false,
    "editable": false
   },
   "source": [
    "# ❓ Welcome to the wild world of Zillow Gone Wild! 🏡✨\n",
    "\n",
    "In this activity, we're diving into the California housing market with the zest of a real estate mogul and the curiosity of a data scientist. Armed with Python and a sprinkle of magic from sklearn, we're about to fetch a treasure trove of housing data that's just begging to be explored.\n",
    "\n",
    "Our mission, should we choose to accept it (and we totally do), is to unravel the mysteries hidden within this dataset. We'll start by conjuring up a dazzling data profile using ydata_profiling. Think of it as a crystal ball that reveals the secrets of our data—distributions, correlations, and maybe even a few skeletons in the closet. 🧙‍♂️🔮\n",
    "\n",
    "But wait, there's more! We're not just stopping at data profiling. Oh no, we're going full Picasso with Bokeh, crafting an interactive scatter plot masterpiece. Picture this: housing prices dancing with population numbers, all under the spotlight of your mouse cursor. Tooltips will be our backstage pass, giving us the inside scoop on each data point. 🎨🖱️\n",
    "\n",
    "And for those of you with a penchant for precision, we've got a filtering function that lets you sift through listings like a pro. Want to see only the homes with at least four bedrooms? No problem! Our ZillowAnalyzer class is here to make your real estate dreams come true.\n",
    "So buckle up, grab your virtual hard hat, and let's build some data-driven insights that would make even the most seasoned realtor green with envy. Let's get analyzing! 🏠💡📊\n",
    "\n",
    "![](./assets/figures/zillow-goes-wild.jpg)"
   ]
  },
  {
   "cell_type": "code",
   "execution_count": null,
   "id": "2",
   "metadata": {
    "tags": [
     "skip-execution"
    ]
   },
   "outputs": [],
   "source": [
    "# import the pandas library as pd\n",
    "# import the fetch_california_housing dataset from sklearn.datasets\n",
    "...\n",
    "\n",
    "# Load the dataset\n",
    "# The dataset is stored in a class, if you instantiate the class, you can access the data\n",
    "# instantiate the class into a variable called housing\n",
    "...\n",
    "\n",
    "# Convert to a DataFrame\n",
    "# We will use the pd.DataFrame() function to convert the data to a DataFrame\n",
    "# The data is stored in the housing.data variable\n",
    "# The feature names are stored in the housing.feature_names variable, make sure to set the column names to the feature names\n",
    "# store the DataFrame in a variable called df\n",
    "...\n",
    "\n",
    "# Add the price (targets) to the DataFrame\n",
    "# The price is stored in the housing.target variable\n",
    "# store the price in a variable called price\n",
    "# you can do this by creating a new column in the DataFrame and assigning the price variable to it, this is done just like you would a dictionary.\n",
    "...\n"
   ]
  },
  {
   "cell_type": "code",
   "execution_count": null,
   "id": "3",
   "metadata": {
    "deletable": false,
    "editable": false,
    "tags": [
     "skip-execution"
    ]
   },
   "outputs": [],
   "source": [
    "grader.check(\"loading-the-zillow-data\")"
   ]
  },
  {
   "cell_type": "markdown",
   "id": "4",
   "metadata": {
    "deletable": false,
    "editable": false
   },
   "source": [
    "## Building the ZillowAnalyzer class\n",
    "\n",
    "Now we will build the ZillowAnalyzer class. This class will have the following methods:\n",
    "- __init__: This method will initialize the class with a list of home listings.\n",
    "- generate_profile: This method will generate a ydata profiling report.\n",
    "- create_visualization: This method will create an interactive scatter plot using Bokeh.\n",
    "- filter_by_bedrooms: This method will filter the listings by the number of bedrooms.\n",
    "\n"
   ]
  },
  {
   "cell_type": "code",
   "execution_count": null,
   "id": "5",
   "metadata": {
    "tags": [
     "skip-execution"
    ]
   },
   "outputs": [],
   "source": [
    "df[\"AveBedrms\"].head()"
   ]
  },
  {
   "cell_type": "code",
   "execution_count": null,
   "id": "6",
   "metadata": {
    "tags": [
     "skip-execution"
    ]
   },
   "outputs": [],
   "source": [
    "# import the pandas library as pd\n",
    "# import the ydata_profiling library\n",
    "# from the bokeh.plotting module, import the figure and show functions\n",
    "# from the bokeh.models module, import the ColumnDataSource and HoverTool classes\n",
    "# from the bokeh.io module, import the output_notebook function\n",
    "...\n",
    "\n",
    "# Define the ZillowAnalyzer class\n",
    "...\n",
    "\n",
    "    # The constructor method for the class\n",
    "    # This initializes the class with with a dataframe of home listings\n",
    "    # Assign the dataframe to the instance variable df\n",
    "    ...\n",
    "\n",
    "    # Make the methods generate_profile, that takes itself as an input argument\n",
    "    # call the ydata_profiling library to generate a report, and save the report to a local variable called profile\n",
    "    # return the profile by calling the to_notebook_iframe method with no input arguments, this will return the report as an iframe\n",
    "    ...\n",
    "    \n",
    "    # Make the method create_visualization, that takes itself as an input argument\n",
    "    ...\n",
    "        \"\"\"Generate an interactive scatter plot using Bokeh.\"\"\"\n",
    "        # call the output_notebook function to output the notebook\n",
    "        # create a ColumnDataSource object from the dataframe, using the ColumnDataSource function\n",
    "        ...\n",
    "\n",
    "        # create a figure object `p` from the figure function, make sure to use the bokeh figure function\n",
    "        # set the title of the figure to \"Zillow Gone Wild: Price vs. Population\"\n",
    "        # set the x_axis_label to \"Population\"\n",
    "        # set the y_axis_label to \"Price\"\n",
    "        # add the following tooltips to the figure:\n",
    "        # tooltips=[\n",
    "        #             (\"Population\", \"@Population\"),\n",
    "        #             (\"Price\", \"@price\"),\n",
    "        #             (\"AveRooms\", \"@AveRooms\"),\n",
    "        #             (\"AveBedrms\", \"@AveBedrms\"),\n",
    "        #             (\"AveOccup\", \"@AveOccup\"),\n",
    "        #             (\"Latitude\", \"@Latitude\"),\n",
    "        #             (\"Longitude\", \"@Longitude\"),\n",
    "        #             (\"MedInc\", \"@MedInc\"),\n",
    "        #         ]\n",
    "        ...\n",
    "\n",
    "        # create a scatter plot from the figure object - this is done by calling the scatter function on the figure object\n",
    "        # set the x to \"Population\"\n",
    "        # set the y to \"price\"\n",
    "        # set the size to 10\n",
    "        # set the color to \"navy\"\n",
    "        # set the alpha to 0.6\n",
    "        ...\n",
    "        \n",
    "        # add a hover tool to the figure\n",
    "        # instantiate the HoverTool class\n",
    "        # add the tool to the figure, using the add tool method in the figure object\n",
    "        ...\n",
    "\n",
    "        # show the figure\n",
    "        ...\n",
    "\n",
    "    # Make the method filter_by_bedrooms, that takes itself as an input argument\n",
    "    # and a minimum number of bedrooms\n",
    "    # return the listings with at least the minimum number of bedrooms\n",
    "    # you will need to look up how to filter a pandas dataframe\n",
    "    ...\n",
    "\n",
    "# Instantiate and Test\n",
    "# Instantiate the ZillowAnalyzer class with the dataframe df, store the instance in a variable called analyzer\n",
    "# generate the profile of the dataframe, store the profile in a variable called profile\n",
    "# create the visualization, store the figure in a variable called p\n",
    "# filter the dataframe by 4 bedrooms, store the filtered dataframe in a variable called filtered_df\n",
    "..."
   ]
  },
  {
   "cell_type": "code",
   "execution_count": null,
   "id": "7",
   "metadata": {
    "deletable": false,
    "editable": false,
    "tags": [
     "skip-execution"
    ]
   },
   "outputs": [],
   "source": [
    "grader.check(\"zillow-gone-wild-bokeh-ydata-class\")"
   ]
  },
  {
   "cell_type": "markdown",
   "id": "8",
   "metadata": {},
   "source": [
    "## Submitting Assignment\n",
    "\n",
    "Please run the following block of code using `shift + enter` to submit your assignment, you should see your score."
   ]
  },
  {
   "cell_type": "code",
   "execution_count": null,
   "id": "9",
   "metadata": {
    "deletable": false,
    "editable": true,
    "tags": [
     "skip-execution"
    ]
   },
   "outputs": [],
   "source": [
    "from pykubegrader.submit.submit_assignment import submit_assignment\n",
    "\n",
    "submit_assignment(\"week8-readings\", \"7_zillow_q\")"
   ]
  }
 ],
 "metadata": {
  "kernelspec": {
   "display_name": "Python 3",
   "language": "python",
   "name": "python3"
  },
  "language_info": {
   "codemirror_mode": {
    "name": "ipython",
    "version": 3
   },
   "file_extension": ".py",
   "mimetype": "text/x-python",
   "name": "python",
   "nbconvert_exporter": "python",
   "pygments_lexer": "ipython3",
   "version": "3.12.7"
  },
  "otter": {
   "OK_FORMAT": true,
   "tests": {
    "loading-the-zillow-data": {
     "name": "loading-the-zillow-data",
     "points": null,
     "suites": [
      {
       "cases": [
        {
         "code": ">>> from pykubegrader.telemetry import ensure_responses, log_variable, score_question, submit_question, telemetry, update_responses\n>>> import os\n>>> import base64\n>>> import sys\n>>> max_question_points = str(4.0)\n>>> earned_points = 0\n>>> os.environ['EARNED_POINTS'] = str(earned_points)\n>>> os.environ['TOTAL_POINTS_FREE_RESPONSE'] = str(20.0)\n>>> log_variable('total-points', f'week8-readings, 7_zillow_q', 20.0)\n>>> question_id = 'loading-the-zillow-data-1'\n>>> max_score = 1.0\n>>> score = 0\n>>> assert 'pandas' in sys.modules, 'Pandas is not imported.'\n>>> assert 'sklearn.datasets' in sys.modules, 'fetch_california_housing is not imported.'\n>>> if 'pandas' in sys.modules and 'sklearn.datasets' in sys.modules:\n...     score = 1.0\n>>> earned_points = float(os.environ.get('EARNED_POINTS', 0))\n>>> earned_points += score\n>>> log_variable('7_zillow_q', f'{score}, {max_score}', question_id)\n>>> os.environ['EARNED_POINTS'] = str(earned_points)\n",
         "failure_message": "Failed: Libraries are not imported correctly.",
         "hidden": false,
         "locked": false,
         "points": 1,
         "success_message": "Success: Required libraries are imported correctly!"
        },
        {
         "code": ">>> from pykubegrader.telemetry import ensure_responses, log_variable, score_question, submit_question, telemetry, update_responses\n>>> import os\n>>> import base64\n>>> question_id = 'loading-the-zillow-data-2'\n>>> max_score = 1.0\n>>> score = 0\n>>> condition1 = 'housing' in locals()\n>>> assert condition1, \"Variable 'housing' is not defined.\"\n>>> condition2 = hasattr(housing, 'data') and hasattr(housing, 'feature_names')\n>>> assert condition2, 'housing object does not contain expected attributes.'\n>>> if condition1 and condition2:\n...     score = 1.0\n>>> earned_points = float(os.environ.get('EARNED_POINTS', 0))\n>>> earned_points += score\n>>> log_variable('7_zillow_q', f'{score}, {max_score}', question_id)\n>>> os.environ['EARNED_POINTS'] = str(earned_points)\n>>> responses = update_responses(question_id, str(housing))\n",
         "failure_message": "Failed: California housing dataset is not loaded correctly.",
         "hidden": false,
         "locked": false,
         "points": 1,
         "success_message": "Success: California housing dataset loaded correctly!"
        },
        {
         "code": ">>> from pykubegrader.telemetry import ensure_responses, log_variable, score_question, submit_question, telemetry, update_responses\n>>> import os\n>>> import base64\n>>> question_id = 'loading-the-zillow-data-3'\n>>> max_score = 1.0\n>>> score = 0\n>>> condition1 = 'price' in df.columns\n>>> assert condition1, 'Price column is missing in the DataFrame.'\n>>> condition2 = df['price'].shape[0] == housing.target.shape[0]\n>>> assert condition2, 'Price column does not match the expected number of rows.'\n>>> if condition1 and condition2:\n...     score = 1.0\n>>> earned_points = float(os.environ.get('EARNED_POINTS', 0))\n>>> earned_points += score\n>>> log_variable('7_zillow_q', f'{score}, {max_score}', question_id)\n>>> os.environ['EARNED_POINTS'] = str(earned_points)\n>>> responses = update_responses(question_id, str(df))\n",
         "failure_message": "Failed: Price column is not added correctly.",
         "hidden": false,
         "locked": false,
         "points": 1,
         "success_message": "Success: Price column added correctly!"
        },
        {
         "code": ">>> from pykubegrader.telemetry import ensure_responses, log_variable, score_question, submit_question, telemetry, update_responses\n>>> import os\n>>> import base64\n>>> question_id = 'loading-the-zillow-data-4'\n>>> max_score = 1.0\n>>> score = 0\n>>> exec(base64.b64decode('ZnJvbSBza2xlYXJuLmRhdGFzZXRzIGltcG9ydCBmZXRjaF9jYWxpZm9ybmlhX2hvdXNpbmcgYXMgaG91c2luZ18=').decode())\n>>> exec(base64.b64decode('aG91c2luZ18gPSBob3VzaW5nXygp').decode())\n>>> housing_.feature_names.append('price')\n>>> condition1 = 'df' in locals()\n>>> condition2 = isinstance(df, pd.DataFrame)\n>>> condition3 = not df.empty\n>>> condition4 = list(df.columns) == housing_.feature_names\n>>> assert condition1\n>>> assert condition2\n>>> assert condition3\n>>> assert condition4\n>>> if condition1 and condition2 and condition3 and condition4:\n...     score = 1.0\n>>> earned_points = float(os.environ.get('EARNED_POINTS', 0))\n>>> earned_points += score\n>>> log_variable('7_zillow_q', f'{score}, {max_score}', question_id)\n>>> os.environ['EARNED_POINTS'] = str(earned_points)\n",
         "failure_message": "Failed: DataFrame is not created correctly.",
         "hidden": false,
         "locked": false,
         "points": 1,
         "success_message": "Success: DataFrame created correctly!"
        }
       ],
       "scored": true,
       "setup": "",
       "teardown": "",
       "type": "doctest"
      }
     ]
    },
    "zillow-gone-wild-bokeh-ydata-class": {
     "name": "zillow-gone-wild-bokeh-ydata-class",
     "points": null,
     "suites": [
      {
       "cases": [
        {
         "code": ">>> from pykubegrader.telemetry import ensure_responses, log_variable, score_question, submit_question, telemetry, update_responses\n>>> import os\n>>> import base64\n>>> import sys\n>>> max_question_points = str(16.0)\n>>> earned_points = 0\n>>> os.environ['EARNED_POINTS'] = str(earned_points)\n>>> os.environ['TOTAL_POINTS_FREE_RESPONSE'] = str(20.0)\n>>> log_variable('total-points', f'week8-readings, 7_zillow_q', 20.0)\n>>> question_id = 'zillow-gone-wild-bokeh-ydata-class-1'\n>>> max_score = 2.0\n>>> score = 0\n>>> condition1 = 'pandas' in sys.modules\n>>> assert condition1, 'Pandas is not imported.'\n>>> condition2 = 'ydata_profiling' in sys.modules\n>>> assert condition2, 'ydata_profiling is not imported.'\n>>> condition3 = 'bokeh.plotting' in sys.modules\n>>> assert condition3, 'Bokeh plotting functions are not imported.'\n>>> condition4 = 'bokeh.models' in sys.modules\n>>> assert condition4, 'Bokeh models are not imported.'\n>>> assert 'bokeh.io' in sys.modules, 'Bokeh IO is not imported.'\n>>> if condition1 and condition2 and condition3 and condition4 and ('bokeh.io' in sys.modules):\n...     score = 2.0\n>>> earned_points = float(os.environ.get('EARNED_POINTS', 0))\n>>> earned_points += score\n>>> log_variable('7_zillow_q', f'{score}, {max_score}', question_id)\n>>> os.environ['EARNED_POINTS'] = str(earned_points)\n",
         "failure_message": "Failed: Libraries are not imported correctly.",
         "hidden": false,
         "locked": false,
         "points": 2,
         "success_message": "Success: Required libraries are imported correctly!"
        },
        {
         "code": ">>> from pykubegrader.telemetry import ensure_responses, log_variable, score_question, submit_question, telemetry, update_responses\n>>> import os\n>>> import base64\n>>> question_id = 'zillow-gone-wild-bokeh-ydata-class-2'\n>>> max_score = 2.0\n>>> score = 0\n>>> condition1 = 'ZillowAnalyzer' in globals()\n>>> assert condition1, 'ZillowAnalyzer class is not defined.'\n>>> condition2 = callable(ZillowAnalyzer)\n>>> assert condition2, 'ZillowAnalyzer is not a callable class.'\n>>> if condition1 and condition2:\n...     score = 2.0\n>>> earned_points = float(os.environ.get('EARNED_POINTS', 0))\n>>> earned_points += score\n>>> log_variable('7_zillow_q', f'{score}, {max_score}', question_id)\n>>> os.environ['EARNED_POINTS'] = str(earned_points)\n",
         "failure_message": "Failed: ZillowAnalyzer class is not defined correctly.",
         "hidden": false,
         "locked": false,
         "points": 2,
         "success_message": "Success: ZillowAnalyzer class is defined correctly!"
        },
        {
         "code": ">>> from pykubegrader.telemetry import ensure_responses, log_variable, score_question, submit_question, telemetry, update_responses\n>>> import os\n>>> import base64\n>>> import pandas as pd\n>>> question_id = 'zillow-gone-wild-bokeh-ydata-class-3'\n>>> max_score = 3.0\n>>> score = 0\n>>> df_test = pd.DataFrame({'Population': [100, 200], 'price': [500000, 750000], 'AveBedrms': [3, 4]})\n>>> analyzer = ZillowAnalyzer(df_test)\n>>> condition1 = hasattr(analyzer, 'df')\n>>> assert condition1, \"ZillowAnalyzer instance does not have 'df' attribute.\"\n>>> condition2 = isinstance(analyzer.df, pd.DataFrame)\n>>> assert condition2, 'df attribute is not a DataFrame.'\n>>> if condition1 and condition2:\n...     score = 3.0\n>>> earned_points = float(os.environ.get('EARNED_POINTS', 0))\n>>> earned_points += score\n>>> log_variable('7_zillow_q', f'{score}, {max_score}', question_id)\n>>> os.environ['EARNED_POINTS'] = str(earned_points)\n>>> responses = update_responses(question_id, str(df))\n",
         "failure_message": "Failed: ZillowAnalyzer class does not initialize correctly.",
         "hidden": false,
         "locked": false,
         "points": 3,
         "success_message": "Success: ZillowAnalyzer class initializes correctly!"
        },
        {
         "code": ">>> from pykubegrader.telemetry import ensure_responses, log_variable, score_question, submit_question, telemetry, update_responses\n>>> import os\n>>> import base64\n>>> profile = analyzer.generate_profile()\n>>> from ydata_profiling import ProfileReport\n>>> condition1 = profile is not None\n>>> assert condition1, 'generate_profile() returned None.'\n>>> condition2 = isinstance(profile, ProfileReport)\n>>> assert condition2, 'generate_profile() did not return a ProfileReport instance.'\n>>> profile.to_file('test_profile.html')\n>>> import os\n>>> question_id = 'zillow-gone-wild-bokeh-ydata-class-4'\n>>> max_score = 3.0\n>>> score = 0\n>>> condition1 = os.path.exists('test_profile.html')\n>>> assert condition1 and condition2, 'Profile file was not created.'\n>>> if condition1 and condition2 and (condition1 and condition2):\n...     score = 3.0\n>>> earned_points = float(os.environ.get('EARNED_POINTS', 0))\n>>> earned_points += score\n>>> log_variable('7_zillow_q', f'{score}, {max_score}', question_id)\n>>> os.environ['EARNED_POINTS'] = str(earned_points)\n",
         "failure_message": "Failed: generate_profile method does not return expected output.",
         "hidden": false,
         "locked": false,
         "points": 3,
         "success_message": "Success: generate_profile method runs correctly!"
        },
        {
         "code": ">>> from pykubegrader.telemetry import ensure_responses, log_variable, score_question, submit_question, telemetry, update_responses\n>>> import os\n>>> import base64\n>>> question_id = 'zillow-gone-wild-bokeh-ydata-class-5'\n>>> max_score = 3.0\n>>> score = 0\n>>> try:\n...     analyzer.create_visualization()\n...     success = True\n... except Exception:\n...     success = False\n>>> assert success, 'create_visualization method threw an exception.'\n>>> if success:\n...     score = 3.0\n>>> earned_points = float(os.environ.get('EARNED_POINTS', 0))\n>>> earned_points += score\n>>> log_variable('7_zillow_q', f'{score}, {max_score}', question_id)\n>>> os.environ['EARNED_POINTS'] = str(earned_points)\n",
         "failure_message": "Failed: create_visualization method threw an error.",
         "hidden": false,
         "locked": false,
         "points": 3,
         "success_message": "Success: create_visualization method runs without errors!"
        },
        {
         "code": ">>> from pykubegrader.telemetry import ensure_responses, log_variable, score_question, submit_question, telemetry, update_responses\n>>> import os\n>>> import base64\n>>> import pandas as pd\n>>> question_id = 'zillow-gone-wild-bokeh-ydata-class-6'\n>>> max_score = 3.0\n>>> score = 0\n>>> df_test = pd.DataFrame({'Population': [100, 200], 'price': [500000, 750000], 'AveBedrms': [3, 4]})\n>>> analyzer = ZillowAnalyzer(df_test)\n>>> filtered_df = analyzer.filter_by_bedrooms(13)\n>>> condition1 = isinstance(filtered_df, pd.DataFrame)\n>>> assert condition1, 'filter_by_bedrooms does not return a DataFrame.'\n>>> condition2 = all(filtered_df['AveBedrms'] >= 1)\n>>> assert condition2, 'filter_by_bedrooms does not filter correctly.'\n>>> if condition1 and condition2:\n...     score = 3.0\n>>> earned_points = float(os.environ.get('EARNED_POINTS', 0))\n>>> earned_points += score\n>>> log_variable('7_zillow_q', f'{score}, {max_score}', question_id)\n>>> os.environ['EARNED_POINTS'] = str(earned_points)\n>>> responses = update_responses(question_id, str(filtered_df))\n",
         "failure_message": "Failed: filter_by_bedrooms method does not return expected results.",
         "hidden": false,
         "locked": false,
         "points": 3,
         "success_message": "Success: filter_by_bedrooms method filters correctly!"
        }
       ],
       "scored": true,
       "setup": "",
       "teardown": "",
       "type": "doctest"
      }
     ]
    }
   }
  }
 },
 "nbformat": 4,
 "nbformat_minor": 5
}
