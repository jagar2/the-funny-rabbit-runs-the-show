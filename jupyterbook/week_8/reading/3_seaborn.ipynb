{
 "cells": [
  {
   "cell_type": "markdown",
   "id": "0",
   "metadata": {},
   "source": [
    "# 📊 **Data Visualization with Seaborn: Engineering Applications** 🏗️⚙️\n"
   ]
  },
  {
   "cell_type": "markdown",
   "id": "1",
   "metadata": {},
   "source": [
    "## 🚀 **Why Data Visualization?**\n",
    "In engineering, we deal with **large datasets**, **sensor readings**, **simulations**, and **experimental results**. Data visualization helps us **extract meaningful insights** quickly. **Seaborn**, a Python data visualization library, enhances Matplotlib’s functionality, providing elegant and informative statistical graphics with minimal effort.\n",
    "\n",
    "In this guide, we'll explore **Seaborn** with **engineering-focused examples**, such as **material strength distributions**, **sensor error analysis**, and **signal processing**.\n"
   ]
  },
  {
   "cell_type": "markdown",
   "id": "2",
   "metadata": {},
   "source": [
    "## 🔧 **Getting Started with Seaborn**"
   ]
  },
  {
   "cell_type": "markdown",
   "id": "3",
   "metadata": {},
   "source": [
    "### **📦 Installing Seaborn**\n",
    "If you haven’t installed Seaborn yet, you can do so using:\n",
    "```bash\n",
    "pip install seaborn\n",
    "```\n"
   ]
  },
  {
   "cell_type": "markdown",
   "id": "4",
   "metadata": {},
   "source": [
    "### **🛠 Importing Required Libraries**"
   ]
  },
  {
   "cell_type": "code",
   "execution_count": null,
   "id": "5",
   "metadata": {},
   "outputs": [],
   "source": [
    "import seaborn as sns\n",
    "import matplotlib.pyplot as plt\n",
    "import numpy as np\n",
    "import pandas as pd"
   ]
  },
  {
   "cell_type": "markdown",
   "id": "6",
   "metadata": {},
   "source": []
  },
  {
   "cell_type": "markdown",
   "id": "7",
   "metadata": {},
   "source": [
    "# **1️⃣ Line Plots: Time Series in Engineering 📡**\n",
    "**Use Case**: Monitoring **sensor readings over time** (e.g., temperature fluctuations in an industrial process).\n"
   ]
  },
  {
   "cell_type": "markdown",
   "id": "8",
   "metadata": {},
   "source": [
    "### **Example: Temperature Sensor Readings**"
   ]
  },
  {
   "cell_type": "code",
   "execution_count": null,
   "id": "9",
   "metadata": {},
   "outputs": [],
   "source": [
    "# Simulated data: Temperature sensor readings over time\n",
    "time = np.linspace(0, 24, 100)  # 24-hour period\n",
    "temperature = 25 + 2 * np.sin(time / 3) + np.random.normal(scale=0.5, size=100)\n",
    "\n",
    "df = pd.DataFrame({'Time (hours)': time, 'Temperature (°C)': temperature})\n",
    "\n",
    "# Seaborn Line Plot\n",
    "plt.figure(figsize=(8,5))\n",
    "sns.lineplot(x='Time (hours)', y='Temperature (°C)', data=df, marker=\"o\", linewidth=2)\n",
    "plt.title(\"Temperature Sensor Readings Over Time\")\n",
    "plt.xlabel(\"Time (hours)\")\n",
    "plt.ylabel(\"Temperature (°C)\")\n",
    "plt.grid()\n",
    "plt.show()"
   ]
  },
  {
   "cell_type": "markdown",
   "id": "10",
   "metadata": {},
   "source": [
    "**Insights**:\n",
    "✅ Detect temperature fluctuations.\n",
    "✅ Identify **periodic patterns** and anomalies.\n"
   ]
  },
  {
   "cell_type": "markdown",
   "id": "11",
   "metadata": {},
   "source": [
    "# **2️⃣ Histograms & KDE: Material Strength Distribution 🏗️**\n",
    "**Use Case**: Understanding **variability in material properties** (e.g., tensile strength of steel samples).\n"
   ]
  },
  {
   "cell_type": "markdown",
   "id": "12",
   "metadata": {},
   "source": [
    "### **Example: Tensile Strength Distribution**"
   ]
  },
  {
   "cell_type": "code",
   "execution_count": null,
   "id": "13",
   "metadata": {},
   "outputs": [],
   "source": [
    "# Simulated tensile strength data (in MPa)\n",
    "strength_data = np.random.normal(loc=400, scale=20, size=200)  # Mean = 400 MPa, Std Dev = 20 MPa\n",
    "\n",
    "df = pd.DataFrame({'Tensile Strength (MPa)': strength_data})\n",
    "\n",
    "# Seaborn Histogram and KDE\n",
    "plt.figure(figsize=(8,5))\n",
    "sns.histplot(df, x=\"Tensile Strength (MPa)\", kde=True, bins=20, color='steelblue')\n",
    "plt.title(\"Distribution of Tensile Strength in Steel Samples\")\n",
    "plt.xlabel(\"Tensile Strength (MPa)\")\n",
    "plt.ylabel(\"Frequency\")\n",
    "plt.grid()\n",
    "plt.show()"
   ]
  },
  {
   "cell_type": "markdown",
   "id": "14",
   "metadata": {},
   "source": [
    "**Insights**:\n",
    "✅ Check if material properties follow a **normal distribution**.\n",
    "✅ Identify **weak samples** (outliers on the lower end).\n"
   ]
  },
  {
   "cell_type": "markdown",
   "id": "15",
   "metadata": {},
   "source": [
    "# **3️⃣ Boxplots: Detecting Sensor Errors in a Manufacturing Line 🏭**\n",
    "**Use Case**: Identifying **outliers in sensor readings** across multiple machines.\n"
   ]
  },
  {
   "cell_type": "markdown",
   "id": "16",
   "metadata": {},
   "source": [
    "### **Example: Comparing Pressure Sensors**"
   ]
  },
  {
   "cell_type": "code",
   "execution_count": null,
   "id": "17",
   "metadata": {},
   "outputs": [],
   "source": [
    "# Simulated pressure sensor readings for different machines\n",
    "np.random.seed(42)\n",
    "machines = ['Machine A', 'Machine B', 'Machine C']\n",
    "data = {\n",
    "    'Machine': np.repeat(machines, 50),\n",
    "    'Pressure (Pa)': np.concatenate([\n",
    "        np.random.normal(100, 5, 50),\n",
    "        np.random.normal(102, 4, 50),\n",
    "        np.random.normal(98, 6, 50)\n",
    "    ])\n",
    "}\n",
    "\n",
    "df = pd.DataFrame(data)\n",
    "\n",
    "# Seaborn Boxplot\n",
    "plt.figure(figsize=(8,5))\n",
    "sns.boxplot(x='Machine', y='Pressure (Pa)', data=df, palette=\"coolwarm\")\n",
    "plt.title(\"Pressure Sensor Readings Across Machines\")\n",
    "plt.xlabel(\"Machine\")\n",
    "plt.ylabel(\"Pressure (Pa)\")\n",
    "plt.grid()\n",
    "plt.show()"
   ]
  },
  {
   "cell_type": "markdown",
   "id": "18",
   "metadata": {},
   "source": [
    "**Insights**:\n",
    "✅ Spot **inconsistent sensors** (outliers).\n",
    "✅ Evaluate **precision and variability** across machines.\n"
   ]
  },
  {
   "cell_type": "markdown",
   "id": "19",
   "metadata": {},
   "source": [
    "# **4️⃣ Scatter Plots: Correlation Between Variables 📈**\n",
    "**Use Case**: Evaluating **relationships between two parameters**, such as **load vs. deflection in a mechanical test**.\n"
   ]
  },
  {
   "cell_type": "markdown",
   "id": "20",
   "metadata": {},
   "source": [
    "### **Example: Load vs. Deflection in a Beam**"
   ]
  },
  {
   "cell_type": "code",
   "execution_count": null,
   "id": "21",
   "metadata": {},
   "outputs": [],
   "source": [
    "# Simulated beam deflection data\n",
    "load = np.linspace(0, 1000, 100)  # Load in Newtons\n",
    "deflection = 0.01 * load + np.random.normal(scale=5, size=100)  # Linear relation with noise\n",
    "\n",
    "df = pd.DataFrame({'Load (N)': load, 'Deflection (mm)': deflection})\n",
    "\n",
    "# Seaborn Scatter Plot\n",
    "plt.figure(figsize=(8,5))\n",
    "sns.scatterplot(x='Load (N)', y='Deflection (mm)', data=df, color='darkorange', alpha=0.7)\n",
    "plt.title(\"Load vs. Deflection in a Beam\")\n",
    "plt.xlabel(\"Load (N)\")\n",
    "plt.ylabel(\"Deflection (mm)\")\n",
    "plt.grid()\n",
    "plt.show()"
   ]
  },
  {
   "cell_type": "markdown",
   "id": "22",
   "metadata": {},
   "source": [
    "**Insights**:\n",
    "✅ Observe **linear behavior** of materials under load.\n",
    "✅ Identify potential **yield points or non-linearity**.\n"
   ]
  },
  {
   "cell_type": "markdown",
   "id": "23",
   "metadata": {},
   "source": [
    "# **5️⃣ Heatmaps: Thermal Stress Analysis 🌡️**\n",
    "**Use Case**: **Visualizing heat distribution** on a metal surface in a stress test.\n"
   ]
  },
  {
   "cell_type": "markdown",
   "id": "24",
   "metadata": {},
   "source": [
    "### **Example: Heat Distribution in a Metal Plate**"
   ]
  },
  {
   "cell_type": "code",
   "execution_count": null,
   "id": "25",
   "metadata": {},
   "outputs": [],
   "source": [
    "# Simulated heat distribution data\n",
    "heat_map = np.random.uniform(20, 100, (10, 10))  # Temperature matrix (10x10)\n",
    "\n",
    "plt.figure(figsize=(8,6))\n",
    "sns.heatmap(heat_map, cmap=\"coolwarm\", annot=True, fmt=\".1f\")\n",
    "plt.title(\"Thermal Stress Distribution on Metal Surface\")\n",
    "plt.xlabel(\"Position X\")\n",
    "plt.ylabel(\"Position Y\")\n",
    "plt.show()"
   ]
  },
  {
   "cell_type": "markdown",
   "id": "26",
   "metadata": {},
   "source": [
    "**Insights**:\n",
    "✅ Locate **hotspots** in thermal simulations.\n",
    "✅ Optimize **cooling mechanisms** in design.\n"
   ]
  },
  {
   "cell_type": "markdown",
   "id": "27",
   "metadata": {},
   "source": [
    "# **6️⃣ Pair Plots: Multivariable Analysis in Materials Testing 🏗️**\n",
    "**Use Case**: Analyzing **multiple material properties simultaneously**.\n"
   ]
  },
  {
   "cell_type": "markdown",
   "id": "28",
   "metadata": {},
   "source": [
    "### **Example: Mechanical Properties of Alloys**"
   ]
  },
  {
   "cell_type": "code",
   "execution_count": null,
   "id": "29",
   "metadata": {},
   "outputs": [],
   "source": [
    "# Simulated dataset of material properties\n",
    "df = pd.DataFrame({\n",
    "    \"Hardness\": np.random.normal(200, 30, 100),\n",
    "    \"Tensile Strength\": np.random.normal(400, 50, 100),\n",
    "    \"Yield Strength\": np.random.normal(250, 40, 100)\n",
    "})\n",
    "\n",
    "# Seaborn Pair Plot\n",
    "sns.pairplot(df, diag_kind=\"kde\", markers=\"o\", plot_kws={'alpha':0.7})\n",
    "plt.show()"
   ]
  },
  {
   "cell_type": "markdown",
   "id": "30",
   "metadata": {},
   "source": [
    "**Insights**:\n",
    "✅ Identify **correlations** between mechanical properties.\n",
    "✅ Understand **trade-offs** in material selection.\n"
   ]
  },
  {
   "cell_type": "markdown",
   "id": "31",
   "metadata": {},
   "source": [
    "# 🏆 **Final Takeaways**\n",
    "🔹 **Seaborn** makes it easy to visualize complex engineering data.\n",
    "🔹 **Histograms** and **KDE** help analyze **distributions** in material properties.\n",
    "🔹 **Boxplots** reveal **outliers and inconsistencies** in sensor readings.\n",
    "🔹 **Scatter plots** are perfect for studying **correlations** like **load vs. deflection**.\n",
    "🔹 **Heatmaps** provide **spatial insights** into temperature/stress distributions.\n",
    "🔹 **Pair plots** help explore **multi-variable relationships** in engineering datasets.\n",
    "\n",
    "🚀 **Engineers who visualize their data make better, faster decisions!** 💡\n",
    "\n",
    "Would you like me to add **interactive visualizations** using **Plotly** or **animations** for time-series data? 😊\n",
    "\n",
    "Alright, let's inject some fun and cheeky vibes into our data visualization journey with Seaborn! Imagine we're not just engineers, we're the **rockstars of data**, zooming around in a world of colorful plots, making sense of the numbers like pros. Let's get into it! 🏎️💨\n"
   ]
  },
  {
   "cell_type": "markdown",
   "id": "32",
   "metadata": {},
   "source": [
    "# 📊 **Data Visualization with Seaborn: The Cheeky Engineer's Guide** 🚀⚙️\n"
   ]
  },
  {
   "cell_type": "markdown",
   "id": "33",
   "metadata": {},
   "source": [
    "## **🧠 Why Should You Care About Data Visualization?**\n",
    "Imagine you’re an engineer, sitting in your lab surrounded by piles of **data**, **numbers**, and **measurements**. But wait... how do you know if that **test result** or **sensor reading** is any good? You can **analyze** all day, but nothing beats **visualizing** that data like a boss. 🎨💻\n",
    "\n",
    "That’s where **Seaborn** comes in—just like a turbo boost for your analysis. No more boring spreadsheets, we’re talking **flashy, cool visuals** that will make your engineering colleagues say, “I want to see those plots again!” 😎\n"
   ]
  },
  {
   "cell_type": "markdown",
   "id": "34",
   "metadata": {},
   "source": [
    "## **🏗️ Let's Build the Blueprint: Classes & Plots!**\n"
   ]
  },
  {
   "cell_type": "markdown",
   "id": "35",
   "metadata": {},
   "source": [
    "### **What Is Seaborn?**\n",
    "Seaborn is like the **Ferrari of Python’s data visualization libraries**—super fast, super sleek, and always ready to show off. It builds on **Matplotlib**, but with much **less code and way more style**. Let’s get rolling! 🏎️\n"
   ]
  },
  {
   "cell_type": "markdown",
   "id": "36",
   "metadata": {},
   "source": [
    "## **🎨 1. Line Plots: Keep Calm and Track Your Data 📡**\n",
    "When you’re tracking **sensor data** over time, you need a smooth, continuous plot. No one wants to stare at **raw numbers** on a sheet—let’s **line it up**, baby!\n"
   ]
  },
  {
   "cell_type": "markdown",
   "id": "37",
   "metadata": {},
   "source": [
    "### **Example: Temperature Data Over Time**"
   ]
  },
  {
   "cell_type": "code",
   "execution_count": null,
   "id": "38",
   "metadata": {},
   "outputs": [],
   "source": [
    "# Simulating sensor data over 24 hours\n",
    "time = np.linspace(0, 24, 100)  # 24-hour time window\n",
    "temperature = 25 + 2 * np.sin(time / 3) + np.random.normal(scale=0.5, size=100)\n",
    "\n",
    "# Making our cool DataFrame\n",
    "df = pd.DataFrame({'Time (hrs)': time, 'Temperature (°C)': temperature})\n",
    "\n",
    "# Plot it like it’s hot\n",
    "plt.figure(figsize=(8,5))\n",
    "sns.lineplot(x='Time (hrs)', y='Temperature (°C)', data=df, marker=\"o\", linewidth=2)\n",
    "plt.title(\"Temperature Fluctuations: We Have Data... And We’re Showing It Off!\")\n",
    "plt.xlabel(\"Time (hrs)\")\n",
    "plt.ylabel(\"Temperature (°C)\")\n",
    "plt.grid()\n",
    "plt.show()"
   ]
  },
  {
   "cell_type": "markdown",
   "id": "39",
   "metadata": {},
   "source": [
    "**Chill Fact**: The **periodic fluctuations**? That’s **temperature dynamics**—and you didn’t have to stare at a spreadsheet to realize it! 🎉\n"
   ]
  },
  {
   "cell_type": "markdown",
   "id": "40",
   "metadata": {},
   "source": [
    "## **📉 2. Histograms & KDE: Making Sense of Material Strength 🏗️**\n",
    "Ever wondered how **strong** your steel really is? A histogram (with a side of **KDE**, because why not?) tells you exactly that. Let’s show that **tensile strength** who’s boss. 💪\n"
   ]
  },
  {
   "cell_type": "markdown",
   "id": "41",
   "metadata": {},
   "source": [
    "### **Example: Material Strength in Steel**"
   ]
  },
  {
   "cell_type": "code",
   "execution_count": null,
   "id": "42",
   "metadata": {},
   "outputs": [],
   "source": [
    "# Steel tensile strength, sampled with a nice bell curve\n",
    "strength_data = np.random.normal(loc=400, scale=20, size=200)  # 400 MPa average, 20 MPa std dev\n",
    "\n",
    "# Create DataFrame\n",
    "df = pd.DataFrame({'Tensile Strength (MPa)': strength_data})\n",
    "\n",
    "# Plotting that beautiful distribution\n",
    "plt.figure(figsize=(8,5))\n",
    "sns.histplot(df, x=\"Tensile Strength (MPa)\", kde=True, bins=20, color='steelblue')\n",
    "plt.title(\"Steel's Strength: How Strong is That Steel Anyway?\")\n",
    "plt.xlabel(\"Tensile Strength (MPa)\")\n",
    "plt.ylabel(\"Frequency\")\n",
    "plt.grid()\n",
    "plt.show()"
   ]
  },
  {
   "cell_type": "markdown",
   "id": "43",
   "metadata": {},
   "source": [
    "**Hot Tip**: If it looks like a **normal distribution**, you're good to go. Otherwise, time to call in the engineers for some **material testing adjustments**! 🛠️\n"
   ]
  },
  {
   "cell_type": "markdown",
   "id": "44",
   "metadata": {},
   "source": [
    "## **📦 3. Boxplots: Tuning Sensor Data for a Smooth Ride 🏁**\n",
    "We engineers love **data consistency**, right? **Boxplots** help us spot those **naughty outliers** in sensor readings. Let's see if your **pressure sensors** are on their best behavior! 🚨\n"
   ]
  },
  {
   "cell_type": "markdown",
   "id": "45",
   "metadata": {},
   "source": [
    "### **Example: Comparing Sensors on Machines**"
   ]
  },
  {
   "cell_type": "code",
   "execution_count": null,
   "id": "46",
   "metadata": {},
   "outputs": [],
   "source": [
    "# Simulating pressure data for three different machines\n",
    "np.random.seed(42)\n",
    "machines = ['Machine A', 'Machine B', 'Machine C']\n",
    "pressure_data = {\n",
    "    'Machine': np.repeat(machines, 50),\n",
    "    'Pressure (Pa)': np.concatenate([\n",
    "        np.random.normal(100, 5, 50),\n",
    "        np.random.normal(102, 4, 50),\n",
    "        np.random.normal(98, 6, 50)\n",
    "    ])\n",
    "}\n",
    "\n",
    "df = pd.DataFrame(pressure_data)\n",
    "\n",
    "# Boxplot time, let's see which sensor needs a slap!\n",
    "plt.figure(figsize=(8,5))\n",
    "sns.boxplot(x='Machine', y='Pressure (Pa)', data=df, palette=\"coolwarm\")\n",
    "plt.title(\"Pressure Readings: Spotting the Rebels in the Machine Squad\")\n",
    "plt.xlabel(\"Machine\")\n",
    "plt.ylabel(\"Pressure (Pa)\")\n",
    "plt.grid()\n",
    "plt.show()"
   ]
  },
  {
   "cell_type": "markdown",
   "id": "47",
   "metadata": {},
   "source": [
    "**Tidy Tip**: **Outliers?** A **slap on the wrist** (or maybe a recalibration). Keep an eye out for those rogue sensors! 👀\n"
   ]
  },
  {
   "cell_type": "markdown",
   "id": "48",
   "metadata": {},
   "source": [
    "## **🌍 4. Scatter Plots: Finding Relationships Between Forces 🔍**\n",
    "When you're testing a **beam** under load, **scatter plots** help visualize the relationship. Is it a **perfect linear relationship**, or is your material **being a diva** and behaving erratically? 🧐\n"
   ]
  },
  {
   "cell_type": "markdown",
   "id": "49",
   "metadata": {},
   "source": [
    "### **Example: Load vs. Deflection (Beam Testing)**"
   ]
  },
  {
   "cell_type": "code",
   "execution_count": null,
   "id": "50",
   "metadata": {},
   "outputs": [],
   "source": [
    "# Simulating a simple load vs. deflection data (engineering style!)\n",
    "load = np.linspace(0, 1000, 100)  # Load in Newtons\n",
    "deflection = 0.01 * load + np.random.normal(scale=5, size=100)  # Linear with some noise\n",
    "\n",
    "df = pd.DataFrame({'Load (N)': load, 'Deflection (mm)': deflection})\n",
    "\n",
    "# Scatter plot to reveal the **force of deflection**! ⚡\n",
    "plt.figure(figsize=(8,5))\n",
    "sns.scatterplot(x='Load (N)', y='Deflection (mm)', data=df, color='darkorange', alpha=0.7)\n",
    "plt.title(\"Load vs. Deflection: Testing the Limits of Your Beam\")\n",
    "plt.xlabel(\"Load (N)\")\n",
    "plt.ylabel(\"Deflection (mm)\")\n",
    "plt.grid()\n",
    "plt.show()"
   ]
  },
  {
   "cell_type": "markdown",
   "id": "51",
   "metadata": {},
   "source": [
    "**Pro Tip**: If the plot **looks straight**—your material is behaving! If not, maybe it’s **time to rethink the design**. 🔨\n"
   ]
  },
  {
   "cell_type": "markdown",
   "id": "52",
   "metadata": {},
   "source": [
    "## **🧠 5. Pair Plots: Analyzing Multiple Variables in One Go** 🎯\n",
    "Why settle for just one relationship when you can see them all at once? **Pair plots** let you check out multiple **material properties** in a single glance. Perfect for when you're making the **ultimate engineering material** decision. 🧳\n"
   ]
  },
  {
   "cell_type": "markdown",
   "id": "53",
   "metadata": {},
   "source": [
    "### **Example: Mechanical Properties of Alloys**"
   ]
  },
  {
   "cell_type": "code",
   "execution_count": null,
   "id": "54",
   "metadata": {},
   "outputs": [],
   "source": [
    "# Simulating mechanical properties of alloys (Hardness, Tensile Strength, Yield Strength)\n",
    "df = pd.DataFrame({\n",
    "    \"Hardness\": np.random.normal(200, 30, 100),\n",
    "    \"Tensile Strength\": np.random.normal(400, 50, 100),\n",
    "    \"Yield Strength\": np.random.normal(250, 40, 100)\n",
    "})\n",
    "\n",
    "# Pair plot – all the properties, one view\n",
    "sns.pairplot(df, diag_kind=\"kde\", markers=\"o\", plot_kws={'alpha':0.7})\n",
    "plt.show()"
   ]
  },
  {
   "cell_type": "markdown",
   "id": "55",
   "metadata": {},
   "source": [
    "**Key Insight**: Want to know if **Hardness** correlates with **Tensile Strength**? This plot tells you all! 🔍\n"
   ]
  },
  {
   "cell_type": "markdown",
   "id": "56",
   "metadata": {},
   "source": [
    "## 🏆 **Final Thoughts: You’re the Rockstar of Data Visualization** 🎸\n",
    "With **Seaborn**, you’ve unlocked the power to visualize your engineering data like a **pro**. Whether you're working on **material testing**, **sensor validation**, or **beam analysis**, Seaborn helps you make sense of the chaos. 🏎️\n",
    "\n",
    "- **Line Plots**: Monitor time-dependent data, like **sensor readings**.\n",
    "- **Histograms & KDE**: Check the distribution of **material properties**.\n",
    "- **Boxplots**: Spot rogue **outliers** in sensor data.\n",
    "- **Scatter Plots**: Analyze relationships between **load** and **deflection**.\n",
    "- **Pair Plots**: Get the big picture of multiple variables.\n",
    "\n",
    "So next time you're deep in your analysis, just remember: **Don’t just crunch numbers—make them look cool!** 🎨\n",
    "\n",
    "Ready to make your own flashy Seaborn plots? 😎 Let me know if you want more **interactive visualizations** or **custom styling tips**!\n"
   ]
  },
  {
   "cell_type": "markdown",
   "id": "57",
   "metadata": {},
   "source": [
    "# 🚀 **Seaborn: Engineering Data Visualization for Nerds Who Like Pretty Graphs** 🎨📊\n"
   ]
  },
  {
   "cell_type": "markdown",
   "id": "58",
   "metadata": {},
   "source": [
    "## **🎯 Why Engineers Should Care About Data Visualization?**\n",
    "Listen, I get it. You’re an engineer, not an artist. You’d rather play with CAD models, optimize PID controllers, or figure out why your 3D print failed for the 37th time. **But data visualization matters**!\n",
    "\n",
    "Good plots can:\n",
    "✅ **Turn messy sensor data into actionable insights.**\n",
    "✅ **Expose trends, patterns, and the occasional disaster.**\n",
    "✅ **Help you flex on your colleagues with fancy reports.**\n",
    "\n",
    "And let's be real—if you present raw CSV dumps in your slides, your audience will mentally check out **before the third bullet point**. 💤\n",
    "\n",
    "Enter **Seaborn**—Matplotlib’s cooler, younger cousin who actually dresses well and doesn’t make you write 15 lines of code just to change a font size.\n"
   ]
  },
  {
   "cell_type": "markdown",
   "id": "59",
   "metadata": {},
   "source": [
    "## **🛠️ Getting Started (a.k.a. Installing the Magic)**\n",
    "If you haven’t installed Seaborn yet, please do so now. Your plots (and your dignity) will thank you.\n",
    "```bash\n",
    "pip install seaborn\n",
    "```\n",
    "\n",
    "Now, let’s import the essentials:"
   ]
  },
  {
   "cell_type": "code",
   "execution_count": null,
   "id": "60",
   "metadata": {},
   "outputs": [],
   "source": [
    "import seaborn as sns\n",
    "import matplotlib.pyplot as plt\n",
    "import numpy as np\n",
    "import pandas as pd"
   ]
  },
  {
   "cell_type": "markdown",
   "id": "61",
   "metadata": {},
   "source": []
  },
  {
   "cell_type": "markdown",
   "id": "62",
   "metadata": {},
   "source": [
    "# 🏗️ **1️⃣ Line Plots: Monitoring Engineering Stuff in Real-Time**\n",
    "👀 **Use Case**: Watching a sensor go rogue in real time before it *literally* blows up your system.\n"
   ]
  },
  {
   "cell_type": "markdown",
   "id": "63",
   "metadata": {},
   "source": [
    "### **Example: Temperature Sensor in a Rocket Engine 🚀🔥**"
   ]
  },
  {
   "cell_type": "code",
   "execution_count": null,
   "id": "64",
   "metadata": {},
   "outputs": [],
   "source": [
    "time = np.linspace(0, 10, 100)  # 10 seconds of data\n",
    "temperature = 500 + 20 * np.sin(time * 2) + np.random.normal(scale=5, size=100)\n",
    "\n",
    "df = pd.DataFrame({'Time (s)': time, 'Temperature (°C)': temperature})\n",
    "\n",
    "plt.figure(figsize=(8,5))\n",
    "sns.lineplot(x='Time (s)', y='Temperature (°C)', data=df, marker=\"o\", linewidth=2, color='red')\n",
    "plt.title(\"Rocket Engine Temperature Over Time 🚀🔥\")\n",
    "plt.xlabel(\"Time (s)\")\n",
    "plt.ylabel(\"Temperature (°C)\")\n",
    "plt.grid()\n",
    "plt.show()"
   ]
  },
  {
   "cell_type": "markdown",
   "id": "65",
   "metadata": {},
   "source": []
  },
  {
   "cell_type": "markdown",
   "id": "66",
   "metadata": {},
   "source": [
    "### **🔥 What This Tells Us:**\n",
    "✅ Everything looks good… until it doesn’t. That last data point? Yeah, **that’s a problem.** 🚨\n",
    "✅ If the temperature spikes beyond safe limits, we’re about to **accidentally invent a new fireworks show.**\n"
   ]
  },
  {
   "cell_type": "markdown",
   "id": "67",
   "metadata": {},
   "source": [
    "# 🔬 **2️⃣ Histograms & KDE: Material Testing for Fun (and Explosions)**\n",
    "👀 **Use Case**: Making sure the steel you’re using for that bridge **doesn’t snap in half like a Pringles chip.**\n"
   ]
  },
  {
   "cell_type": "markdown",
   "id": "68",
   "metadata": {},
   "source": [
    "### **Example: Tensile Strength of Steel Samples 🏗️**"
   ]
  },
  {
   "cell_type": "code",
   "execution_count": null,
   "id": "69",
   "metadata": {},
   "outputs": [],
   "source": [
    "strength_data = np.random.normal(loc=400, scale=20, size=200)  # Mean = 400 MPa, Std Dev = 20 MPa\n",
    "df = pd.DataFrame({'Tensile Strength (MPa)': strength_data})\n",
    "\n",
    "plt.figure(figsize=(8,5))\n",
    "sns.histplot(df, x=\"Tensile Strength (MPa)\", kde=True, bins=20, color='steelblue')\n",
    "plt.title(\"How Strong is Our Steel? (Tensile Strength Distribution) 🏗️\")\n",
    "plt.xlabel(\"Tensile Strength (MPa)\")\n",
    "plt.ylabel(\"Frequency\")\n",
    "plt.grid()\n",
    "plt.show()"
   ]
  },
  {
   "cell_type": "markdown",
   "id": "70",
   "metadata": {},
   "source": []
  },
  {
   "cell_type": "markdown",
   "id": "71",
   "metadata": {},
   "source": [
    "### **💡 What This Tells Us:**\n",
    "✅ Most samples hover around **400 MPa**—great!\n",
    "✅ But see those **outliers on the lower end**? Yeah, those are the ones that **will fail first and get you sued.**\n"
   ]
  },
  {
   "cell_type": "markdown",
   "id": "72",
   "metadata": {},
   "source": [
    "# ⚙️ **3️⃣ Boxplots: Finding That One Machine That’s Always Wrong**\n",
    "👀 **Use Case**: You have multiple machines measuring pressure, but one of them **had too much coffee and keeps giving erratic readings.**\n"
   ]
  },
  {
   "cell_type": "markdown",
   "id": "73",
   "metadata": {},
   "source": [
    "### **Example: Pressure Sensors in a Factory 🏭**"
   ]
  },
  {
   "cell_type": "code",
   "execution_count": null,
   "id": "74",
   "metadata": {},
   "outputs": [],
   "source": [
    "np.random.seed(42)\n",
    "machines = ['Machine A', 'Machine B', 'Machine C']\n",
    "data = {\n",
    "    'Machine': np.repeat(machines, 50),\n",
    "    'Pressure (Pa)': np.concatenate([\n",
    "        np.random.normal(100, 5, 50),\n",
    "        np.random.normal(102, 4, 50),\n",
    "        np.random.normal(98, 6, 50)\n",
    "    ])\n",
    "}\n",
    "\n",
    "df = pd.DataFrame(data)\n",
    "\n",
    "plt.figure(figsize=(8,5))\n",
    "sns.boxplot(x='Machine', y='Pressure (Pa)', data=df, palette=\"coolwarm\")\n",
    "plt.title(\"Which Pressure Sensor Needs to Be Fired? 🏭\")\n",
    "plt.xlabel(\"Machine\")\n",
    "plt.ylabel(\"Pressure (Pa)\")\n",
    "plt.grid()\n",
    "plt.show()"
   ]
  },
  {
   "cell_type": "markdown",
   "id": "75",
   "metadata": {},
   "source": []
  },
  {
   "cell_type": "markdown",
   "id": "76",
   "metadata": {},
   "source": [
    "### **🤨 What This Tells Us:**\n",
    "✅ **Machine B is the favorite child**—its readings are stable.\n",
    "✅ **Machine C, however, is the problem child**—what’s with all the **outliers**?!\n",
    "\n",
    "**Moral of the story:** If your machine’s boxplot looks like it’s throwing a tantrum, it might need **recalibration (or a timeout).**\n"
   ]
  },
  {
   "cell_type": "markdown",
   "id": "77",
   "metadata": {},
   "source": [
    "# 🔥 **4️⃣ Scatter Plots: Finding Patterns in the Chaos**\n",
    "👀 **Use Case**: Does adding more load to a beam increase deflection? (Or does it just break?)\n"
   ]
  },
  {
   "cell_type": "markdown",
   "id": "78",
   "metadata": {},
   "source": [
    "### **Example: Load vs. Deflection in a Beam**"
   ]
  },
  {
   "cell_type": "code",
   "execution_count": null,
   "id": "79",
   "metadata": {},
   "outputs": [],
   "source": [
    "load = np.linspace(0, 1000, 100)\n",
    "deflection = 0.01 * load + np.random.normal(scale=5, size=100)\n",
    "\n",
    "df = pd.DataFrame({'Load (N)': load, 'Deflection (mm)': deflection})\n",
    "\n",
    "plt.figure(figsize=(8,5))\n",
    "sns.scatterplot(x='Load (N)', y='Deflection (mm)', data=df, color='darkorange', alpha=0.7)\n",
    "plt.title(\"Will This Beam Break? Load vs. Deflection 📉\")\n",
    "plt.xlabel(\"Load (N)\")\n",
    "plt.ylabel(\"Deflection (mm)\")\n",
    "plt.grid()\n",
    "plt.show()"
   ]
  },
  {
   "cell_type": "markdown",
   "id": "80",
   "metadata": {},
   "source": []
  },
  {
   "cell_type": "markdown",
   "id": "81",
   "metadata": {},
   "source": [
    "### **🔍 What This Tells Us:**\n",
    "✅ If the relationship is linear, great!\n",
    "✅ If there’s a **sudden jump** in deflection—**uh oh, the beam is failing!** 💀\n"
   ]
  },
  {
   "cell_type": "markdown",
   "id": "82",
   "metadata": {},
   "source": [
    "# 🌡️ **5️⃣ Heatmaps: Thermal Stress Analysis (a.k.a. Finding the Hotspots)**\n",
    "👀 **Use Case**: Where will your turbine blade melt first?\n"
   ]
  },
  {
   "cell_type": "markdown",
   "id": "83",
   "metadata": {},
   "source": [
    "### **Example: Heat Distribution in a Metal Plate**"
   ]
  },
  {
   "cell_type": "code",
   "execution_count": null,
   "id": "84",
   "metadata": {},
   "outputs": [],
   "source": [
    "heat_map = np.random.uniform(20, 100, (10, 10))\n",
    "\n",
    "plt.figure(figsize=(8,6))\n",
    "sns.heatmap(heat_map, cmap=\"coolwarm\", annot=True, fmt=\".1f\")\n",
    "plt.title(\"🔥 Where Will This Metal Overheat First? 🔥\")\n",
    "plt.xlabel(\"Position X\")\n",
    "plt.ylabel(\"Position Y\")\n",
    "plt.show()"
   ]
  },
  {
   "cell_type": "markdown",
   "id": "85",
   "metadata": {},
   "source": []
  },
  {
   "cell_type": "markdown",
   "id": "86",
   "metadata": {},
   "source": [
    "### **🚨 What This Tells Us:**\n",
    "✅ Blue = **Cool zones (safe)**\n",
    "✅ Red = **\"Houston, we have a problem.\"**\n"
   ]
  },
  {
   "cell_type": "markdown",
   "id": "87",
   "metadata": {},
   "source": [
    "# 🏆 **Final Takeaways (a.k.a. Why You Should Care)**\n",
    "✔️ **Seaborn saves time**—no more struggling with Matplotlib’s cryptic settings.\n",
    "✔️ **Your boss loves pretty plots**—good visuals = more funding!\n",
    "✔️ **Seeing the problem early means preventing disaster.**\n"
   ]
  },
  {
   "cell_type": "markdown",
   "id": "88",
   "metadata": {},
   "source": [
    "# 🚀 **Seaborn for Engineers: More Examples to Wow Your Boss** 📊⚙️\n",
    "\n",
    "You asked for **more** examples? Buckle up, because we’re about to deep-dive into **even more** Seaborn magic for engineering data analysis! **Material failures, circuit performance, fluid dynamics, and signal processing**—we're covering it all. 💡\n"
   ]
  },
  {
   "cell_type": "markdown",
   "id": "89",
   "metadata": {},
   "source": [
    "## **🔍 6️⃣ Violin Plots: Visualizing Circuit Performance Variability** 🎛️\n",
    "👀 **Use Case**: You’re testing the output voltage of multiple circuits, and you want to see the **distribution and spread** of values.\n"
   ]
  },
  {
   "cell_type": "markdown",
   "id": "90",
   "metadata": {},
   "source": [
    "### **Example: Voltage Output Across Multiple Circuit Boards**"
   ]
  },
  {
   "cell_type": "code",
   "execution_count": null,
   "id": "91",
   "metadata": {},
   "outputs": [],
   "source": [
    "# Simulated voltage output data for different circuits\n",
    "np.random.seed(42)\n",
    "circuits = ['Circuit A', 'Circuit B', 'Circuit C']\n",
    "data = {\n",
    "    'Circuit': np.repeat(circuits, 50),\n",
    "    'Voltage Output (V)': np.concatenate([\n",
    "        np.random.normal(5.0, 0.1, 50),\n",
    "        np.random.normal(5.1, 0.15, 50),\n",
    "        np.random.normal(4.9, 0.12, 50)\n",
    "    ])\n",
    "}\n",
    "\n",
    "df = pd.DataFrame(data)\n",
    "\n",
    "# Violin Plot - shows distribution density & spread\n",
    "plt.figure(figsize=(8,5))\n",
    "sns.violinplot(x='Circuit', y='Voltage Output (V)', data=df, palette=\"viridis\")\n",
    "plt.title(\"Voltage Output Variation Across Circuit Boards 🎛️\")\n",
    "plt.xlabel(\"Circuit Board\")\n",
    "plt.ylabel(\"Voltage Output (V)\")\n",
    "plt.grid()\n",
    "plt.show()"
   ]
  },
  {
   "cell_type": "markdown",
   "id": "92",
   "metadata": {},
   "source": [
    "### **🔍 What This Reveals:**\n",
    "✅ **Circuit B has the highest spread**, meaning it’s **less stable**.\n",
    "✅ **Circuit A is tightly packed**, so **it’s the most reliable choice.**\n",
    "✅ **Circuit C dips below 4.9V too often**—this **could lead to underperformance.**\n"
   ]
  },
  {
   "cell_type": "markdown",
   "id": "93",
   "metadata": {},
   "source": [
    "## **🌊 7️⃣ Regression Plots: Modeling Fluid Dynamics & Flow Rate** 💦\n",
    "👀 **Use Case**: You want to **analyze** the relationship between **pipe diameter** and **fluid flow rate**.\n"
   ]
  },
  {
   "cell_type": "markdown",
   "id": "94",
   "metadata": {},
   "source": [
    "### **Example: Pipe Diameter vs. Flow Rate in a Hydraulics System**"
   ]
  },
  {
   "cell_type": "code",
   "execution_count": null,
   "id": "95",
   "metadata": {},
   "outputs": [],
   "source": [
    "# Simulated pipe diameter vs flow rate data\n",
    "diameter = np.linspace(1, 10, 50)\n",
    "flow_rate = 10 * diameter ** 1.8 + np.random.normal(scale=5, size=50)  # Power-law relation\n",
    "\n",
    "df = pd.DataFrame({'Pipe Diameter (cm)': diameter, 'Flow Rate (L/s)': flow_rate})\n",
    "\n",
    "# Regression Plot (Best-fit line)\n",
    "plt.figure(figsize=(8,5))\n",
    "sns.regplot(x='Pipe Diameter (cm)', y='Flow Rate (L/s)', data=df, scatter_kws={'color':'blue'}, line_kws={'color':'red'})\n",
    "plt.title(\"Pipe Diameter vs. Flow Rate: Can We Predict Flow? 💦\")\n",
    "plt.xlabel(\"Pipe Diameter (cm)\")\n",
    "plt.ylabel(\"Flow Rate (L/s)\")\n",
    "plt.grid()\n",
    "plt.show()"
   ]
  },
  {
   "cell_type": "markdown",
   "id": "96",
   "metadata": {},
   "source": [
    "### **💡 What This Reveals:**\n",
    "✅ **Clear positive correlation**—bigger pipes allow for more flow.\n",
    "✅ **Curve follows a power law** (which makes sense for fluid dynamics).\n",
    "✅ **Outliers?** If a pipe **isn’t flowing as expected**, check for **blockages or turbulence**!\n"
   ]
  },
  {
   "cell_type": "markdown",
   "id": "97",
   "metadata": {},
   "source": [
    "## **📡 8️⃣ Joint Plots: Analyzing Noise vs. Signal Strength in Electronics** 📶\n",
    "👀 **Use Case**: You’re designing a communication system and need to **compare signal strength to noise levels**.\n"
   ]
  },
  {
   "cell_type": "markdown",
   "id": "98",
   "metadata": {},
   "source": [
    "### **Example: Noise Power vs. Signal Strength in RF Systems**"
   ]
  },
  {
   "cell_type": "code",
   "execution_count": null,
   "id": "99",
   "metadata": {},
   "outputs": [],
   "source": [
    "# Simulated noise vs. signal strength data\n",
    "np.random.seed(42)\n",
    "signal_strength = np.linspace(0, 100, 100)\n",
    "noise_power = 10 + 0.1 * signal_strength + np.random.normal(scale=2, size=100)\n",
    "\n",
    "df = pd.DataFrame({'Signal Strength (dB)': signal_strength, 'Noise Power (dB)': noise_power})\n",
    "\n",
    "# Jointplot (Scatter + Histogram)\n",
    "sns.jointplot(x='Signal Strength (dB)', y='Noise Power (dB)', data=df, kind=\"reg\", height=6)\n",
    "plt.suptitle(\"Noise vs. Signal Strength: Is Our RF System Reliable? 📡\", y=1.02)\n",
    "plt.show()"
   ]
  },
  {
   "cell_type": "markdown",
   "id": "100",
   "metadata": {},
   "source": [
    "### **📡 What This Reveals:**\n",
    "✅ **Low signal strength = erratic noise behavior** (expected in low-power signals).\n",
    "✅ **Higher signal strength = noise stabilizes**—this is **desired behavior**.\n",
    "✅ **If noise spikes at high signals?** Something’s **wrong with the amplification stage!**\n"
   ]
  },
  {
   "cell_type": "markdown",
   "id": "101",
   "metadata": {},
   "source": [
    "## **🛠 9️⃣ Swarm Plots: Component Tolerances in Manufacturing** 🏭\n",
    "👀 **Use Case**: In **mass production**, no two components are exactly the same. **But are they within spec?**\n"
   ]
  },
  {
   "cell_type": "markdown",
   "id": "102",
   "metadata": {},
   "source": [
    "### **Example: Measuring Resistor Tolerances in PCB Assembly**"
   ]
  },
  {
   "cell_type": "code",
   "execution_count": null,
   "id": "103",
   "metadata": {},
   "outputs": [],
   "source": [
    "# Simulated resistor values from manufacturing batch\n",
    "np.random.seed(42)\n",
    "resistor_types = ['1kΩ', '10kΩ', '100kΩ']\n",
    "data = {\n",
    "    'Resistor Type': np.repeat(resistor_types, 50),\n",
    "    'Measured Resistance (Ω)': np.concatenate([\n",
    "        np.random.normal(1000, 20, 50),\n",
    "        np.random.normal(10000, 150, 50),\n",
    "        np.random.normal(100000, 500, 50)\n",
    "    ])\n",
    "}\n",
    "\n",
    "df = pd.DataFrame(data)\n",
    "\n",
    "# Swarm Plot - Shows individual data points\n",
    "plt.figure(figsize=(8,5))\n",
    "sns.swarmplot(x='Resistor Type', y='Measured Resistance (Ω)', data=df, palette=\"rocket\")\n",
    "plt.title(\"Component Tolerances: Are These Resistors Within Spec? 🔬\")\n",
    "plt.xlabel(\"Resistor Type\")\n",
    "plt.ylabel(\"Measured Resistance (Ω)\")\n",
    "plt.grid()\n",
    "plt.show()"
   ]
  },
  {
   "cell_type": "markdown",
   "id": "104",
   "metadata": {},
   "source": [
    "### **🎯 What This Reveals:**\n",
    "✅ **Most resistors are within expected tolerance** (tight clusters).\n",
    "✅ **Some 100kΩ resistors are too far off**—bad batch? **Time to reject those.**\n",
    "✅ **Can identify trends per component type** (e.g., **higher resistances show more variation**).\n"
   ]
  },
  {
   "cell_type": "markdown",
   "id": "105",
   "metadata": {},
   "source": [
    "## **📊 🔟 Pair Grids: Multivariate Analysis of Battery Performance 🔋**\n",
    "👀 **Use Case**: You’re analyzing multiple characteristics of **batteries**—energy capacity, voltage, and charge cycles.\n"
   ]
  },
  {
   "cell_type": "markdown",
   "id": "106",
   "metadata": {},
   "source": [
    "### **Example: Battery Data for a New EV Prototype**"
   ]
  },
  {
   "cell_type": "code",
   "execution_count": null,
   "id": "107",
   "metadata": {},
   "outputs": [],
   "source": [
    "# Simulated battery performance dataset\n",
    "df = pd.DataFrame({\n",
    "    \"Capacity (mAh)\": np.random.normal(3000, 200, 100),\n",
    "    \"Voltage (V)\": np.random.normal(3.7, 0.1, 100),\n",
    "    \"Charge Cycles\": np.random.randint(100, 1000, 100)\n",
    "})\n",
    "\n",
    "# Pair Grid Plot - Shows relationships between multiple variables\n",
    "g = sns.pairplot(df, diag_kind=\"kde\", markers=\"o\", plot_kws={'alpha':0.7})\n",
    "g.fig.suptitle(\"Battery Performance Analysis 🔋\", y=1.02)\n",
    "plt.show()"
   ]
  },
  {
   "cell_type": "markdown",
   "id": "108",
   "metadata": {},
   "source": [
    "### **🔋 What This Reveals:**\n",
    "✅ **Higher capacity batteries may degrade faster (fewer charge cycles).**\n",
    "✅ **Some outliers—are they defective batteries?**\n",
    "✅ **Voltage stability—ensures batteries are consistent across production.**\n"
   ]
  },
  {
   "cell_type": "markdown",
   "id": "109",
   "metadata": {},
   "source": [
    "## **🎯 Final Takeaways**\n",
    "🎨 Seaborn isn’t just about making graphs look cool—it’s about **extracting insights from raw data** in an efficient way.\n",
    "\n",
    "✔️ **Violin & Swarm plots** uncover **manufacturing variations**.\n",
    "✔️ **Regression plots** model **fluid flow, signal strength, or material behavior**.\n",
    "✔️ **Joint plots** help engineers **evaluate noise, interference, and performance**.\n",
    "✔️ **Heatmaps** detect **thermal stress in materials**.\n",
    "✔️ **Pair Grids** enable **multivariable analysis** for complex systems.\n",
    "\n",
    "🚀 **Engineering is data-driven.** If you’re not visualizing it, **you’re missing the bigger picture!**\n",
    "\n",
    "So go forth, engineer **beautiful visualizations** and **prevent catastrophic failures** before they happen. 🎨⚡"
   ]
  }
 ],
 "metadata": {},
 "nbformat": 4,
 "nbformat_minor": 5
}
