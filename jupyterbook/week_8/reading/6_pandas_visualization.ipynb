{
 "cells": [
  {
   "cell_type": "markdown",
   "id": "0",
   "metadata": {},
   "source": [
    "# 📖 🦸 **Superhero Analytics: The Data Tools Your Boss Doesn’t Know About!** 🤫💻\n",
    "\n",
    "🚀 Imagine you’re a **data scientist at a secret superhero organization** 🏢. Your job? To analyze **superhero performance** across the city, tracking battles, injuries, and, of course, **social media engagement** (because even superheroes need clout 📱).\n",
    "\n",
    "But there's a **problem**…\n",
    "\n",
    "Your **boss**, the billionaire-genius-tech-entrepreneur (let’s call him… Elon 🤖), doesn’t believe in **data-driven decisions**. He **\"trusts his gut\"** and assumes that **“real intelligence doesn’t need analytics”** 🤦‍♂️.\n",
    "\n",
    "Little does he know, you’ve got **three secret weapons** hidden in your **data scientist utility belt** 🛠️:\n",
    "\n",
    "✅ **pandas** 🐼 – Your AI-powered sidekick for **data wrangling**.\\\n",
    "✅ **Bokeh** 🎨 – The **interactive data visualization** tool you use to impress people at conferences.\\\n",
    "✅ **ydata-profiling** 🔎 – The **one-click “I did 3 days of work in 10 seconds” magic trick**.\n"
   ]
  },
  {
   "cell_type": "markdown",
   "id": "1",
   "metadata": {},
   "source": [
    "## 🏢 **Mission: Analyzing the Superhero Roster**\n",
    "\n",
    "Your job is to analyze **the efficiency of different superheroes** in stopping crime across **New York City**.\n",
    "\n",
    "Let's load our **superhero dataset** (totally not leaked from a top-secret database):\n"
   ]
  },
  {
   "cell_type": "code",
   "execution_count": null,
   "id": "2",
   "metadata": {},
   "outputs": [],
   "source": [
    "import pandas as pd\n",
    "\n",
    "data = {\n",
    "    \"Hero\": [\"Iron Dude\", \"The Bat\", \"Doctor Mystique\", \"Superguy\", \"Elon-X\"],\n",
    "    \"Crimes Stopped\": [150, 230, 120, 180, 95],\n",
    "    \"Collaterals ($M)\": [2.5, 1.2, 0.8, 3.4, 100.0],  # Elon tends to \"overdo\" things\n",
    "    \"Social Media Score\": [90, 85, 70, 88, 500]  # Elon-X always wins Twitter 🤖\n",
    "}\n",
    "\n",
    "df = pd.DataFrame(data)\n",
    "print(df)"
   ]
  },
  {
   "cell_type": "markdown",
   "id": "3",
   "metadata": {},
   "source": [
    "\n",
    "📌 **The Problem?**\\\n",
    "Elon-X (**your boss**) believes **he’s the best superhero** ever. But **the data says otherwise**… 😬\n"
   ]
  },
  {
   "cell_type": "markdown",
   "id": "4",
   "metadata": {},
   "source": [
    "## 🎨 **Step 1: Use Bokeh to Create an Interactive Plot**\n",
    "\n",
    "Since Elon loves **visuals over spreadsheets**, let’s make an **interactive scatter plot** to compare **Crimes Stopped vs. Collateral Damage**.\n"
   ]
  },
  {
   "cell_type": "code",
   "execution_count": null,
   "id": "5",
   "metadata": {},
   "outputs": [],
   "source": [
    "from bokeh.plotting import figure, show\n",
    "from bokeh.io import output_notebook\n",
    "from bokeh.models import ColumnDataSource\n",
    "\n",
    "output_notebook()  # Render plots inside Jupyter Notebook\n",
    "\n",
    "source = ColumnDataSource(df)\n",
    "\n",
    "p = figure(title=\"Superhero Performance: Efficiency vs. Destruction\",\n",
    "           x_axis_label=\"Crimes Stopped\",\n",
    "           y_axis_label=\"Collateral Damage ($M)\",\n",
    "           tools=\"hover\", tooltips=[(\"Hero\", \"@Hero\"), (\"Crimes\", \"@{Crimes Stopped}\"), (\"Damage\", \"@{Collaterals ($M)}\")])\n",
    "\n",
    "p.circle(x=\"Crimes Stopped\", y=\"Collaterals ($M)\", size=15, source=source, color=\"red\", alpha=0.6)\n",
    "\n",
    "show(p)  # Interactive visualization"
   ]
  },
  {
   "cell_type": "markdown",
   "id": "6",
   "metadata": {},
   "source": [
    "\n",
    "🚀 **What does this show?**\n",
    "\n",
    "- **Iron Dude** and **The Bat** are **efficient and precise**.\n",
    "- **Doctor Mystique** causes **the least damage** but also **stops fewer crimes**.\n",
    "- **Superguy** is **powerful but reckless**.\n",
    "- **Elon-X… well…** let’s just say **he causes more destruction than he prevents**. 😅\n"
   ]
  },
  {
   "cell_type": "markdown",
   "id": "7",
   "metadata": {},
   "source": [
    "## 🔍 **Step 2: Use ydata-profiling to Automate Data Analysis**\n",
    "\n",
    "Since Elon **doesn’t read spreadsheets**, let’s generate a **fully automated report** on superhero performance **without manually analyzing anything**.\n"
   ]
  },
  {
   "cell_type": "code",
   "execution_count": null,
   "id": "8",
   "metadata": {},
   "outputs": [],
   "source": [
    "from ydata_profiling import ProfileReport\n",
    "\n",
    "profile = ProfileReport(df, explorative=True)\n",
    "profile.to_notebook_iframe()  # Generates an interactive report inside Jupyter"
   ]
  },
  {
   "cell_type": "markdown",
   "id": "9",
   "metadata": {},
   "source": [
    "\n",
    "**What’s Inside the Report?** 🤯\\\n",
    "✅ **Correlations** between hero performance and destruction.\\\n",
    "✅ **Outliers** (Hint: **Elon-X is off the charts**).\\\n",
    "✅ **Detailed visuals** that would take **hours to make manually**.\n",
    "\n",
    "You just did **a full data audit** in **one line of code**. Your boss still thinks you spent **all night** working on it. **Win-win!** 🏆\n"
   ]
  },
  {
   "cell_type": "markdown",
   "id": "10",
   "metadata": {},
   "source": [
    "## 🎭 **Step 3: The Elon-X Reality Check**\n",
    "\n",
    "After seeing the report, your boss still insists:\n",
    "\n",
    "> \"Numbers don’t matter, I have the most followers!\" 📱🤖\n",
    "\n",
    "No problem. You **filter the data** to prove your point:\n"
   ]
  },
  {
   "cell_type": "code",
   "execution_count": null,
   "id": "11",
   "metadata": {},
   "outputs": [],
   "source": [
    "df_sorted = df.sort_values(by=\"Crimes Stopped\", ascending=False)\n",
    "print(df_sorted[[\"Hero\", \"Crimes Stopped\", \"Collaterals ($M)\"]].head())"
   ]
  },
  {
   "cell_type": "markdown",
   "id": "12",
   "metadata": {},
   "source": [
    "\n",
    "📊 **Result?**\n",
    "\n",
    "- **The Bat** and **Iron Dude** are objectively the best superheroes.\n",
    "- **Elon-X has stopped the fewest crimes while causing 100x more destruction.**\n",
    "- **Elon’s social media score is insane, but crime isn’t fought with tweets.** 🤷‍♂️\n"
   ]
  },
  {
   "cell_type": "markdown",
   "id": "13",
   "metadata": {},
   "source": [
    "## 🤯 **Mission Accomplished: You Outsmarted Your Boss!**\n",
    "\n",
    "| **Hero** | **Crimes Stopped** | **Collateral ($M)** | **Social Media Score** |\n",
    "|---------------|----------------|----------------|------------------|\n",
    "| The Bat | 230 | 1.2 | 85 |\n",
    "| Iron Dude | 150 | 2.5 | 90 |\n",
    "| Superguy | 180 | 3.4 | 88 |\n",
    "| Doctor Mystique | 120 | 0.8 | 70 |\n",
    "| **Elon-X** | **95** | **100.0** | **500** |\n",
    "\n",
    "📌 **Key Takeaways:**\\\n",
    "✅ **Your boss was wrong** (as usual).\\\n",
    "✅ **pandas, Bokeh, and ydata-profiling** helped you analyze and visualize superhero efficiency.\\\n",
    "✅ **Interactive graphics > Spreadsheets** (because cool visuals get funding).\\\n",
    "✅ **ydata-profiling = Instant Insights** (and a **great way to look smart** at meetings).\n"
   ]
  },
  {
   "cell_type": "markdown",
   "id": "14",
   "metadata": {},
   "source": [
    "## 🎯 **Your Secret to Outsmarting Any Boss?**\n",
    "\n",
    "Next time your boss questions **data-driven decisions**, just:\n"
   ]
  },
  {
   "cell_type": "markdown",
   "id": "15",
   "metadata": {},
   "source": [
    "1. **Use pandas to structure your data.**"
   ]
  },
  {
   "cell_type": "markdown",
   "id": "16",
   "metadata": {},
   "source": [
    "1. **Create a Bokeh visualization** to make it look fancy."
   ]
  },
  {
   "cell_type": "markdown",
   "id": "17",
   "metadata": {},
   "source": [
    "1. **Run ydata-profiling and let the AI do the analysis for you.**\n",
    "\n",
    "💡 **Work smarter, not harder.** 🤓🚀\n"
   ]
  },
  {
   "cell_type": "markdown",
   "id": "18",
   "metadata": {},
   "source": [
    "### 📚 **Further Reading:**\n",
    "\n",
    "📖 **Pandas Docs:** [https://pandas.pydata.org/](https://pandas.pydata.org/)\\\n",
    "📖 **Bokeh Docs:** [https://docs.bokeh.org/](https://docs.bokeh.org/)\\\n",
    "📖 **ydata-profiling Docs:** [https://ydata-profiling.ydata.ai/](https://ydata-profiling.ydata.ai/)\n",
    "\n",
    "🚀 **Congrats!** You now have the ultimate **data scientist toolkit** that even **Elon-X** can’t compete with. **Use it wisely!** 🦸📊"
   ]
  }
 ],
 "metadata": {
  "kernelspec": {
   "display_name": "Python 3",
   "language": "python",
   "name": "python3"
  },
  "language_info": {
   "codemirror_mode": {
    "name": "ipython",
    "version": 3
   },
   "file_extension": ".py",
   "mimetype": "text/x-python",
   "name": "python",
   "nbconvert_exporter": "python",
   "pygments_lexer": "ipython3",
   "version": "3.12.7"
  }
 },
 "nbformat": 4,
 "nbformat_minor": 5
}
