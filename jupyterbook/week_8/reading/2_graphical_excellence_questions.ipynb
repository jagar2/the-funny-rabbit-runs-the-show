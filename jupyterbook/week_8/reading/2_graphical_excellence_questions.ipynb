{
 "cells": [
  {
   "cell_type": "code",
   "execution_count": null,
   "id": "0",
   "metadata": {},
   "outputs": [],
   "source": [
    "# BEGIN MULTIPLE CHOICE\n",
    "## points: 1\n",
    "## title: Select the Best Answer\n",
    "## question number: 1"
   ]
  },
  {
   "cell_type": "markdown",
   "id": "1",
   "metadata": {},
   "source": [
    "## visualization-principles\n",
    "### **What is the primary goal of effective data visualization?**\n",
    "\n",
    "#### OPTIONS\n",
    "To make figures as colorful as possible.  \n",
    "To accurately and efficiently communicate data insights.  \n",
    "To create abstract artistic representations of data.  \n",
    "To use the most complex software available.  \n",
    "\n",
    "#### SOLUTION\n",
    "To accurately and efficiently communicate data insights."
   ]
  },
  {
   "cell_type": "markdown",
   "id": "2",
   "metadata": {},
   "source": [
    "## color-usage\n",
    "### **Why is color an important tool in data visualization?**\n",
    "\n",
    "#### OPTIONS\n",
    "It makes figures look more aesthetically pleasing.  \n",
    "It enhances memorability and helps distinguish data categories.  \n",
    "It should be avoided due to accessibility concerns.  \n",
    "It is only useful for digital formats, not print.  \n",
    "\n",
    "#### SOLUTION\n",
    "It enhances memorability and helps distinguish data categories."
   ]
  },
  {
   "cell_type": "markdown",
   "id": "3",
   "metadata": {},
   "source": [
    "## visualization-errors\n",
    "### **Which of the following is a common issue found in scientific visualizations?**\n",
    "\n",
    "#### OPTIONS\n",
    "Using only black and white figures.  \n",
    "Using bar plots to represent means without showing distribution.  \n",
    "Avoiding any use of graphical elements.  \n",
    "Providing too much uncertainty in figures.  \n",
    "\n",
    "#### SOLUTION\n",
    "Using bar plots to represent means without showing distribution."
   ]
  },
  {
   "cell_type": "markdown",
   "id": "4",
   "metadata": {},
   "source": [
    "## software-selection\n",
    "### **What is the best approach when selecting a tool for data visualization?**\n",
    "\n",
    "#### OPTIONS\n",
    "Use only basic spreadsheet programs for all figures.  \n",
    "Choose a tool that allows flexibility and customization of visuals.  \n",
    "Avoid learning new software and rely only on default settings.  \n",
    "Only use proprietary software for scientific figures.  \n",
    "\n",
    "#### SOLUTION\n",
    "Choose a tool that allows flexibility and customization of visuals."
   ]
  },
  {
   "cell_type": "code",
   "execution_count": null,
   "id": "5",
   "metadata": {},
   "outputs": [],
   "source": [
    "# END MULTIPLE CHOICE"
   ]
  },
  {
   "cell_type": "code",
   "execution_count": null,
   "id": "6",
   "metadata": {},
   "outputs": [],
   "source": [
    "# BEGIN SELECT MANY\n",
    "## points: 2\n",
    "## title: Select All That Apply\n",
    "## question number: 2\n",
    "## grade: parts"
   ]
  },
  {
   "cell_type": "markdown",
   "id": "7",
   "metadata": {},
   "source": [
    "## visualization-best-practices\n",
    "### **Which of the following are best practices for effective data visualization?**\n",
    "\n",
    "#### OPTIONS\n",
    "Prioritize the message before selecting the figure type.  \n",
    "Always use 3D bar plots for better aesthetics.  \n",
    "Include uncertainty measures when applicable.  \n",
    "Keep figure captions detailed and self-explanatory.  \n",
    "\n",
    "#### SOLUTION\n",
    "Prioritize the message before selecting the figure type.  \n",
    "Include uncertainty measures when applicable.  \n",
    "Keep figure captions detailed and self-explanatory."
   ]
  },
  {
   "cell_type": "markdown",
   "id": "8",
   "metadata": {},
   "source": [
    "## figure-geometries\n",
    "### **Which of the following statements about figure geometries are true?**\n",
    "\n",
    "#### OPTIONS\n",
    "Different geometries (bar, scatter, heatmap) should be selected based on the data type.  \n",
    "Scatterplots should only be used when there is no visible trend in the data.  \n",
    "Heatmaps can effectively display large datasets with patterns over time.  \n",
    "Histograms are useful for visualizing numerical data distributions.  \n",
    "\n",
    "#### SOLUTION\n",
    "Different geometries (bar, scatter, heatmap) should be selected based on the data type.  \n",
    "Heatmaps can effectively display large datasets with patterns over time.  \n",
    "Histograms are useful for visualizing numerical data distributions."
   ]
  },
  {
   "cell_type": "markdown",
   "id": "9",
   "metadata": {},
   "source": [
    "## small-multiples\n",
    "### **What are the benefits of using small multiples (paneling) in visualization?**\n",
    "\n",
    "#### OPTIONS\n",
    "They allow for direct comparisons across different variables.  \n",
    "They reduce the need for legends in figures.  \n",
    "They make it easier to compare changes over time.  \n",
    "They simplify complex datasets into a single view.  \n",
    "\n",
    "#### SOLUTION\n",
    "They allow for direct comparisons across different variables.  \n",
    "They make it easier to compare changes over time."
   ]
  },
  {
   "cell_type": "markdown",
   "id": "10",
   "metadata": {},
   "source": [
    "## infographic-benefits\n",
    "### **Why should researchers consider using infographics in their publications?**\n",
    "\n",
    "#### OPTIONS\n",
    "Infographics improve memorability of visual content.  \n",
    "They replace the need for any written descriptions.  \n",
    "They can blend multiple elements such as text, images, and diagrams effectively.  \n",
    "Infographics are only useful for non-scientific audiences.  \n",
    "\n",
    "#### SOLUTION\n",
    "Infographics improve memorability of visual content.  \n",
    "They can blend multiple elements such as text, images, and diagrams effectively."
   ]
  },
  {
   "cell_type": "code",
   "execution_count": null,
   "id": "11",
   "metadata": {},
   "outputs": [],
   "source": [
    "# END SELECT MANY"
   ]
  },
  {
   "cell_type": "raw",
   "execution_count": null,
   "id": "12",
   "metadata": {
    "vscode": {
     "languageId": "raw"
    }
   },
   "outputs": [],
   "source": [
    "# BEGIN TF\n",
    "## points: 1\n",
    "## title: True or False\n",
    "## question number: 3"
   ]
  },
  {
   "cell_type": "markdown",
   "id": "13",
   "metadata": {},
   "source": [
    "## diagram-first\n",
    "### **Before making a figure, it is best to determine the key message before selecting the visualization style.**\n",
    "\n",
    "#### SOLUTION\n",
    "True"
   ]
  },
  {
   "cell_type": "markdown",
   "id": "14",
   "metadata": {},
   "source": [
    "## black-and-white\n",
    "### **Black-and-white figures are always more effective than color figures.**\n",
    "\n",
    "#### SOLUTION\n",
    "False"
   ]
  },
  {
   "cell_type": "markdown",
   "id": "15",
   "metadata": {},
   "source": [
    "## data-ink-ratio\n",
    "### **A higher data-ink ratio means more of the figure is dedicated to displaying actual data rather than unnecessary design elements.**\n",
    "\n",
    "#### SOLUTION\n",
    "True"
   ]
  },
  {
   "cell_type": "markdown",
   "id": "16",
   "metadata": {},
   "source": [
    "## bar-chart-usage\n",
    "### **Bar charts are always the best way to represent grouped data means.**\n",
    "\n",
    "#### SOLUTION\n",
    "False"
   ]
  },
  {
   "cell_type": "raw",
   "execution_count": null,
   "id": "17",
   "metadata": {
    "vscode": {
     "languageId": "raw"
    }
   },
   "outputs": [],
   "source": [
    "# END TF"
   ]
  }
 ],
 "metadata": {},
 "nbformat": 4,
 "nbformat_minor": 5
}
