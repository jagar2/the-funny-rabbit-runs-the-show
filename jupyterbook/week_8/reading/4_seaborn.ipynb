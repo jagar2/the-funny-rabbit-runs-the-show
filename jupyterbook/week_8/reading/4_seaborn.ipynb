{
 "cells": [
  {
   "cell_type": "markdown",
   "id": "0",
   "metadata": {},
   "source": [
    "# 📖 📊 **Data Visualization with Seaborn: The  Engineer's Guide** 🚀⚙️\n"
   ]
  },
  {
   "cell_type": "markdown",
   "id": "1",
   "metadata": {},
   "source": [
    "## **🧠 Why Should You Care About Data Visualization?**\n",
    "Imagine you’re an engineer, sitting in your lab surrounded by piles of **data**, **numbers**, and **measurements**. But wait... how do you know if that **test result** or **sensor reading** is any good? You can **analyze** all day, but nothing beats **visualizing** that data like a boss. 🎨💻\n",
    "\n",
    "That’s where **Seaborn** comes in—just like a turbo boost for your analysis. No more boring spreadsheets, we’re talking **flashy, cool visuals** that will make your engineering colleagues say, “I want to see those plots again!” 😎\n"
   ]
  },
  {
   "cell_type": "markdown",
   "id": "2",
   "metadata": {},
   "source": [
    "## **🏗️ Let's Build the Blueprint: Classes & Plots!**\n"
   ]
  },
  {
   "cell_type": "markdown",
   "id": "3",
   "metadata": {},
   "source": [
    "### **What Is Seaborn?**\n",
    "Seaborn is like the **Ferrari of Python’s data visualization libraries**—super fast, super sleek, and always ready to show off. It builds on **Matplotlib**, but with much **less code and way more style**. Let’s get rolling! 🏎️\n"
   ]
  },
  {
   "cell_type": "markdown",
   "id": "4",
   "metadata": {},
   "source": [
    "## **🎨 1️⃣ Line Plots: Keep Calm and Track Your Data 📡**\n",
    "When you’re tracking **sensor data** over time, you need a smooth, continuous plot. No one wants to stare at **raw numbers** on a sheet—let’s **line it up**, baby!\n"
   ]
  },
  {
   "cell_type": "markdown",
   "id": "5",
   "metadata": {},
   "source": [
    "### **Example: Temperature Data Over Time**"
   ]
  },
  {
   "cell_type": "code",
   "execution_count": null,
   "id": "6",
   "metadata": {},
   "outputs": [],
   "source": [
    "import numpy as np\n",
    "import pandas as pd\n",
    "import matplotlib.pyplot as plt\n",
    "import seaborn as sns\n",
    "\n",
    "# Simulating sensor data over 24 hours\n",
    "time = np.linspace(0, 24, 100)  # 24-hour time window\n",
    "temperature = 25 + 2 * np.sin(time / 3) + np.random.normal(scale=0.5, size=100)\n",
    "\n",
    "# Making our cool DataFrame\n",
    "df = pd.DataFrame({\"Time (hrs)\": time, \"Temperature (°C)\": temperature})\n",
    "\n",
    "# Plot it like it’s hot\n",
    "plt.figure(figsize=(8, 5))\n",
    "sns.lineplot(x=\"Time (hrs)\", y=\"Temperature (°C)\", data=df, marker=\"o\", linewidth=2)\n",
    "plt.title(\"Temperature Fluctuations: We Have Data... And We’re Showing It Off!\")\n",
    "plt.xlabel(\"Time (hrs)\")\n",
    "plt.ylabel(\"Temperature (°C)\")\n",
    "plt.grid()\n",
    "plt.show()"
   ]
  },
  {
   "cell_type": "markdown",
   "id": "7",
   "metadata": {},
   "source": [
    "**Chill Fact**: The **periodic fluctuations**? That’s **temperature dynamics**—and you didn’t have to stare at a spreadsheet to realize it! 🎉\n"
   ]
  },
  {
   "cell_type": "markdown",
   "id": "8",
   "metadata": {},
   "source": [
    "## **📉 2️⃣ Histograms & KDE: Making Sense of Material Strength 🏗️**\n",
    "Ever wondered how **strong** your steel really is? A histogram (with a side of **KDE**, because why not?) tells you exactly that. Let’s show that **tensile strength** who’s boss. 💪\n"
   ]
  },
  {
   "cell_type": "markdown",
   "id": "9",
   "metadata": {},
   "source": [
    "### **Example: Material Strength in Steel**"
   ]
  },
  {
   "cell_type": "code",
   "execution_count": null,
   "id": "10",
   "metadata": {},
   "outputs": [],
   "source": [
    "# Steel tensile strength, sampled with a nice bell curve\n",
    "strength_data = np.random.normal(\n",
    "    loc=400, scale=20, size=200\n",
    ")  # 400 MPa average, 20 MPa std dev\n",
    "\n",
    "# Create DataFrame\n",
    "df = pd.DataFrame({\"Tensile Strength (MPa)\": strength_data})\n",
    "\n",
    "# Plotting that beautiful distribution\n",
    "plt.figure(figsize=(8, 5))\n",
    "sns.histplot(df, x=\"Tensile Strength (MPa)\", kde=True, bins=20, color=\"steelblue\")\n",
    "plt.title(\"Steel's Strength: How Strong is That Steel Anyway?\")\n",
    "plt.xlabel(\"Tensile Strength (MPa)\")\n",
    "plt.ylabel(\"Frequency\")\n",
    "plt.grid()\n",
    "plt.show()"
   ]
  },
  {
   "cell_type": "markdown",
   "id": "11",
   "metadata": {},
   "source": [
    "**Hot Tip**: If it looks like a **normal distribution**, you're good to go. Otherwise, time to call in the engineers for some **material testing adjustments**! 🛠️\n"
   ]
  },
  {
   "cell_type": "markdown",
   "id": "12",
   "metadata": {},
   "source": [
    "## **📦 3️⃣ Boxplots: Tuning Sensor Data for a Smooth Ride 🏁**\n",
    "We engineers love **data consistency**, right? **Boxplots** help us spot those **naughty outliers** in sensor readings. Let's see if your **pressure sensors** are on their best behavior! 🚨\n"
   ]
  },
  {
   "cell_type": "markdown",
   "id": "13",
   "metadata": {},
   "source": [
    "### **Example: Comparing Sensors on Machines**"
   ]
  },
  {
   "cell_type": "code",
   "execution_count": null,
   "id": "14",
   "metadata": {},
   "outputs": [],
   "source": [
    "# Simulating pressure data for three different machines\n",
    "np.random.seed(42)\n",
    "machines = [\"Machine A\", \"Machine B\", \"Machine C\"]\n",
    "pressure_data = {\n",
    "    \"Machine\": np.repeat(machines, 50),\n",
    "    \"Pressure (Pa)\": np.concatenate(\n",
    "        [\n",
    "            np.random.normal(100, 5, 50),\n",
    "            np.random.normal(102, 4, 50),\n",
    "            np.random.normal(98, 6, 50),\n",
    "        ]\n",
    "    ),\n",
    "}\n",
    "\n",
    "df = pd.DataFrame(pressure_data)\n",
    "\n",
    "# Boxplot time, let's see which sensor needs a slap!\n",
    "plt.figure(figsize=(8, 5))\n",
    "sns.boxplot(x=\"Machine\", y=\"Pressure (Pa)\", data=df, palette=\"coolwarm\")\n",
    "plt.title(\"Pressure Readings: Spotting the Rebels in the Machine Squad\")\n",
    "plt.xlabel(\"Machine\")\n",
    "plt.ylabel(\"Pressure (Pa)\")\n",
    "plt.grid()\n",
    "plt.show()"
   ]
  },
  {
   "cell_type": "markdown",
   "id": "15",
   "metadata": {},
   "source": [
    "**Tidy Tip**: **Outliers?** A **slap on the wrist** (or maybe a recalibration). Keep an eye out for those rogue sensors! 👀\n"
   ]
  },
  {
   "cell_type": "markdown",
   "id": "16",
   "metadata": {},
   "source": [
    "# ## **🌍 4️⃣ Scatter Plots: Finding Relationships Between Forces 🔍**\n",
    "When you're testing a **beam** under load, **scatter plots** help visualize the relationship. Is it a **perfect linear relationship**, or is your material **being a diva** and behaving erratically? 🧐"
   ]
  },
  {
   "cell_type": "markdown",
   "id": "17",
   "metadata": {},
   "source": [
    "### **Example: Load vs. Deflection (Beam Testing)**"
   ]
  },
  {
   "cell_type": "code",
   "execution_count": null,
   "id": "18",
   "metadata": {},
   "outputs": [],
   "source": [
    "# Simulating a simple load vs. deflection data (engineering style!)\n",
    "load = np.linspace(0, 1000, 100)  # Load in Newtons\n",
    "deflection = 0.01 * load + np.random.normal(scale=5, size=100)  # Linear with some noise\n",
    "\n",
    "df = pd.DataFrame({\"Load (N)\": load, \"Deflection (mm)\": deflection})\n",
    "\n",
    "# Scatter plot to reveal the **force of deflection**! ⚡\n",
    "plt.figure(figsize=(8, 5))\n",
    "sns.scatterplot(\n",
    "    x=\"Load (N)\", y=\"Deflection (mm)\", data=df, color=\"darkorange\", alpha=0.7\n",
    ")\n",
    "plt.title(\"Load vs. Deflection: Testing the Limits of Your Beam\")\n",
    "plt.xlabel(\"Load (N)\")\n",
    "plt.ylabel(\"Deflection (mm)\")\n",
    "plt.grid()\n",
    "plt.show()"
   ]
  },
  {
   "cell_type": "markdown",
   "id": "19",
   "metadata": {},
   "source": [
    "**Pro Tip**: If the plot **looks straight**—your material is behaving! If not, maybe it’s **time to rethink the design**. 🔨\n"
   ]
  },
  {
   "cell_type": "markdown",
   "id": "20",
   "metadata": {},
   "source": [
    "# ## **🧠 5️⃣ Pair Plots: Analyzing Multiple Variables in One Go** 🎯\n",
    "Why settle for just one relationship when you can see them all at once? **Pair plots** let you check out multiple **material properties** in a single glance. Perfect for when you're making the **ultimate engineering material** decision. 🧳\n"
   ]
  },
  {
   "cell_type": "markdown",
   "id": "21",
   "metadata": {},
   "source": [
    "### **Example: Mechanical Properties of Alloys**"
   ]
  },
  {
   "cell_type": "code",
   "execution_count": null,
   "id": "22",
   "metadata": {},
   "outputs": [],
   "source": [
    "# Simulating mechanical properties of alloys (Hardness, Tensile Strength, Yield Strength)\n",
    "df = pd.DataFrame(\n",
    "    {\n",
    "        \"Hardness\": np.random.normal(200, 30, 100),\n",
    "        \"Tensile Strength\": np.random.normal(400, 50, 100),\n",
    "        \"Yield Strength\": np.random.normal(250, 40, 100),\n",
    "    }\n",
    ")\n",
    "\n",
    "# Pair plot – all the properties, one view\n",
    "sns.pairplot(df, diag_kind=\"kde\", markers=\"o\", plot_kws={\"alpha\": 0.7})\n",
    "plt.show()"
   ]
  },
  {
   "cell_type": "markdown",
   "id": "23",
   "metadata": {},
   "source": [
    "**Key Insight**: Want to know if **Hardness** correlates with **Tensile Strength**? This plot tells you all! 🔍\n",
    "\n",
    "You just make a publication ready plot with a single line of code. That is pretty awesome -- your boss will love you, and think you worked a lot harder than you did.\n"
   ]
  },
  {
   "cell_type": "markdown",
   "id": "24",
   "metadata": {},
   "source": [
    "## **🔍 6️⃣ Violin Plots: Visualizing Circuit Performance Variability** 🎛️\n",
    "👀 **Use Case**: You’re testing the output voltage of multiple circuits, and you want to see the **distribution and spread** of values.\n"
   ]
  },
  {
   "cell_type": "markdown",
   "id": "25",
   "metadata": {},
   "source": [
    "### **Example: Voltage Output Across Multiple Circuit Boards**"
   ]
  },
  {
   "cell_type": "code",
   "execution_count": null,
   "id": "26",
   "metadata": {},
   "outputs": [],
   "source": [
    "# Simulated voltage output data for different circuits\n",
    "np.random.seed(42)\n",
    "circuits = [\"Circuit A\", \"Circuit B\", \"Circuit C\"]\n",
    "data = {\n",
    "    \"Circuit\": np.repeat(circuits, 50),\n",
    "    \"Voltage Output (V)\": np.concatenate(\n",
    "        [\n",
    "            np.random.normal(5.0, 0.1, 50),\n",
    "            np.random.normal(5.1, 0.15, 50),\n",
    "            np.random.normal(4.9, 0.12, 50),\n",
    "        ]\n",
    "    ),\n",
    "}\n",
    "\n",
    "df = pd.DataFrame(data)\n",
    "\n",
    "# Violin Plot - shows distribution density & spread\n",
    "plt.figure(figsize=(8, 5))\n",
    "sns.violinplot(x=\"Circuit\", y=\"Voltage Output (V)\", data=df, palette=\"viridis\")\n",
    "plt.title(\"Voltage Output Variation Across Circuit Boards 🎛️\")\n",
    "plt.xlabel(\"Circuit Board\")\n",
    "plt.ylabel(\"Voltage Output (V)\")\n",
    "plt.grid()\n",
    "plt.show()"
   ]
  },
  {
   "cell_type": "markdown",
   "id": "27",
   "metadata": {},
   "source": [
    "### **🔍 What This Reveals:**\n",
    "✅ **Circuit B has the highest spread**, meaning it’s **less stable**.\n",
    "✅ **Circuit A is tightly packed**, so **it’s the most reliable choice.**\n",
    "✅ **Circuit C dips below 4.9V too often**—this **could lead to underperformance.**\n"
   ]
  },
  {
   "cell_type": "markdown",
   "id": "28",
   "metadata": {},
   "source": [
    "## **🌊 7️⃣ Regression Plots: Modeling Fluid Dynamics & Flow Rate** 💦\n",
    "👀 **Use Case**: You want to **analyze** the relationship between **pipe diameter** and **fluid flow rate**.\n"
   ]
  },
  {
   "cell_type": "markdown",
   "id": "29",
   "metadata": {},
   "source": [
    "### **Example: Pipe Diameter vs. Flow Rate in a Hydraulics System**"
   ]
  },
  {
   "cell_type": "code",
   "execution_count": null,
   "id": "30",
   "metadata": {},
   "outputs": [],
   "source": [
    "# Simulated pipe diameter vs flow rate data\n",
    "diameter = np.linspace(1, 10, 50)\n",
    "flow_rate = 10 * diameter**1.8 + np.random.normal(\n",
    "    scale=5, size=50\n",
    ")  # Power-law relation\n",
    "\n",
    "df = pd.DataFrame({\"Pipe Diameter (cm)\": diameter, \"Flow Rate (L/s)\": flow_rate})\n",
    "\n",
    "# Regression Plot (Best-fit line)\n",
    "plt.figure(figsize=(8, 5))\n",
    "sns.regplot(\n",
    "    x=\"Pipe Diameter (cm)\",\n",
    "    y=\"Flow Rate (L/s)\",\n",
    "    data=df,\n",
    "    scatter_kws={\"color\": \"blue\"},\n",
    "    line_kws={\"color\": \"red\"},\n",
    ")\n",
    "plt.title(\"Pipe Diameter vs. Flow Rate: Can We Predict Flow? 💦\")\n",
    "plt.xlabel(\"Pipe Diameter (cm)\")\n",
    "plt.ylabel(\"Flow Rate (L/s)\")\n",
    "plt.grid()\n",
    "plt.show()"
   ]
  },
  {
   "cell_type": "markdown",
   "id": "31",
   "metadata": {},
   "source": [
    "### **💡 What This Reveals:**\n",
    "✅ **Clear positive correlation**—bigger pipes allow for more flow.\n",
    "✅ **Curve follows a power law** (which makes sense for fluid dynamics).\n",
    "✅ **Outliers?** If a pipe **isn’t flowing as expected**, check for **blockages or turbulence**!\n"
   ]
  },
  {
   "cell_type": "markdown",
   "id": "32",
   "metadata": {},
   "source": [
    "## **📡 8️⃣ Joint Plots: Analyzing Noise vs. Signal Strength in Electronics** 📶\n",
    "👀 **Use Case**: You’re designing a communication system and need to **compare signal strength to noise levels**.\n"
   ]
  },
  {
   "cell_type": "markdown",
   "id": "33",
   "metadata": {},
   "source": [
    "### **Example: Noise Power vs. Signal Strength in RF Systems**"
   ]
  },
  {
   "cell_type": "code",
   "execution_count": null,
   "id": "34",
   "metadata": {},
   "outputs": [],
   "source": [
    "# Simulated noise vs. signal strength data\n",
    "np.random.seed(42)\n",
    "signal_strength = np.linspace(0, 100, 100)\n",
    "noise_power = 10 + 0.1 * signal_strength + np.random.normal(scale=2, size=100)\n",
    "\n",
    "df = pd.DataFrame(\n",
    "    {\"Signal Strength (dB)\": signal_strength, \"Noise Power (dB)\": noise_power}\n",
    ")\n",
    "\n",
    "# Jointplot (Scatter + Histogram)\n",
    "sns.jointplot(\n",
    "    x=\"Signal Strength (dB)\", y=\"Noise Power (dB)\", data=df, kind=\"reg\", height=6\n",
    ")\n",
    "plt.suptitle(\"Noise vs. Signal Strength: Is Our RF System Reliable? 📡\", y=1.02)\n",
    "plt.show()"
   ]
  },
  {
   "cell_type": "markdown",
   "id": "35",
   "metadata": {},
   "source": [
    "### **📡 What This Reveals:**\n",
    "✅ **Low signal strength = erratic noise behavior** (expected in low-power signals).\n",
    "✅ **Higher signal strength = noise stabilizes**—this is **desired behavior**.\n",
    "✅ **If noise spikes at high signals?** Something’s **wrong with the amplification stage!**\n"
   ]
  },
  {
   "cell_type": "markdown",
   "id": "36",
   "metadata": {},
   "source": [
    "## **🛠 9️⃣ Swarm Plots: Component Tolerances in Manufacturing** 🏭\n",
    "👀 **Use Case**: In **mass production**, no two components are exactly the same. **But are they within spec?**\n"
   ]
  },
  {
   "cell_type": "markdown",
   "id": "37",
   "metadata": {},
   "source": [
    "### **Example: Measuring Resistor Tolerances in PCB Assembly**"
   ]
  },
  {
   "cell_type": "code",
   "execution_count": null,
   "id": "38",
   "metadata": {},
   "outputs": [],
   "source": [
    "# Simulated resistor values from manufacturing batch\n",
    "np.random.seed(42)\n",
    "resistor_types = [\"1kΩ\", \"10kΩ\", \"100kΩ\"]\n",
    "data = {\n",
    "    \"Resistor Type\": np.repeat(resistor_types, 50),\n",
    "    \"Measured Resistance (Ω)\": np.concatenate(\n",
    "        [\n",
    "            np.random.normal(1000, 20, 50),\n",
    "            np.random.normal(10000, 150, 50),\n",
    "            np.random.normal(100000, 500, 50),\n",
    "        ]\n",
    "    ),\n",
    "}\n",
    "\n",
    "df = pd.DataFrame(data)\n",
    "\n",
    "# Swarm Plot - Shows individual data points\n",
    "plt.figure(figsize=(8, 5))\n",
    "sns.swarmplot(x=\"Resistor Type\", y=\"Measured Resistance (Ω)\", data=df, palette=\"rocket\")\n",
    "plt.title(\"Component Tolerances: Are These Resistors Within Spec? 🔬\")\n",
    "plt.xlabel(\"Resistor Type\")\n",
    "plt.ylabel(\"Measured Resistance (Ω)\")\n",
    "plt.grid()\n",
    "plt.show()"
   ]
  },
  {
   "cell_type": "markdown",
   "id": "39",
   "metadata": {},
   "source": [
    "### **🎯 What This Reveals:**\n",
    "✅ **Most resistors are within expected tolerance** (tight clusters).\n",
    "✅ **Some 100kΩ resistors are too far off**—bad batch? **Time to reject those.**\n",
    "✅ **Can identify trends per component type** (e.g., **higher resistances show more variation**).\n"
   ]
  },
  {
   "cell_type": "markdown",
   "id": "40",
   "metadata": {},
   "source": [
    "## **📊 🔟 Pair Grids: Multivariate Analysis of Battery Performance 🔋**\n",
    "👀 **Use Case**: You’re analyzing multiple characteristics of **batteries**—energy capacity, voltage, and charge cycles.\n"
   ]
  },
  {
   "cell_type": "markdown",
   "id": "41",
   "metadata": {},
   "source": [
    "### **Example: Battery Data for a New EV Prototype**"
   ]
  },
  {
   "cell_type": "code",
   "execution_count": null,
   "id": "42",
   "metadata": {},
   "outputs": [],
   "source": [
    "# Simulated battery performance dataset\n",
    "df = pd.DataFrame(\n",
    "    {\n",
    "        \"Capacity (mAh)\": np.random.normal(3000, 200, 100),\n",
    "        \"Voltage (V)\": np.random.normal(3.7, 0.1, 100),\n",
    "        \"Charge Cycles\": np.random.randint(100, 1000, 100),\n",
    "    }\n",
    ")\n",
    "\n",
    "# Pair Grid Plot - Shows relationships between multiple variables\n",
    "g = sns.pairplot(df, diag_kind=\"kde\", markers=\"o\", plot_kws={\"alpha\": 0.7})\n",
    "g.fig.suptitle(\"Battery Performance Analysis 🔋\", y=1.02)\n",
    "plt.show()"
   ]
  },
  {
   "cell_type": "markdown",
   "id": "43",
   "metadata": {},
   "source": [
    "### **🔋 What This Reveals:**\n",
    "✅ **Higher capacity batteries may degrade faster (fewer charge cycles).**\n",
    "✅ **Some outliers—are they defective batteries?**\n",
    "✅ **Voltage stability—ensures batteries are consistent across production.**\n"
   ]
  },
  {
   "cell_type": "markdown",
   "id": "44",
   "metadata": {},
   "source": [
    "## **🎯 Final Takeaways**\n",
    "🎨 Seaborn isn’t just about making graphs look cool—it’s about **extracting insights from raw data** in an efficient way.\n",
    "\n",
    "✔️ **Violin & Swarm plots** uncover **manufacturing variations**.\n",
    "✔️ **Regression plots** model **fluid flow, signal strength, or material behavior**.\n",
    "✔️ **Joint plots** help engineers **evaluate noise, interference, and performance**.\n",
    "✔️ **Heatmaps** detect **thermal stress in materials**.\n",
    "✔️ **Pair Grids** enable **multivariable analysis** for complex systems.\n",
    "\n",
    "🚀 **Engineering is data-driven.** If you’re not visualizing it, **you’re missing the bigger picture!**\n",
    "\n",
    "So go forth, engineer **beautiful visualizations** and **prevent catastrophic failures** before they happen. 🎨⚡"
   ]
  }
 ],
 "metadata": {
  "kernelspec": {
   "display_name": "Python 3",
   "language": "python",
   "name": "python3"
  },
  "language_info": {
   "codemirror_mode": {
    "name": "ipython",
    "version": 3
   },
   "file_extension": ".py",
   "mimetype": "text/x-python",
   "name": "python",
   "nbconvert_exporter": "python",
   "pygments_lexer": "ipython3",
   "version": "3.12.7"
  }
 },
 "nbformat": 4,
 "nbformat_minor": 5
}
