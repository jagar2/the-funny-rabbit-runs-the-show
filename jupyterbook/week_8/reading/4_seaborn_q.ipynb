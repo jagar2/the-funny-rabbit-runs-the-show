{
 "cells": [
  {
   "cell_type": "raw",
   "execution_count": null,
   "id": "0",
   "metadata": {
    "vscode": {
     "languageId": "raw"
    }
   },
   "outputs": [],
   "source": [
    "# BEGIN QUESTION\n",
    "name: Alternative Distribution Plot with Diamonds Dataset"
   ]
  },
  {
   "cell_type": "markdown",
   "id": "1",
   "metadata": {},
   "source": [
    "## Create an Alternative to a Violin Plot\n",
    "\n",
    "The **diamonds dataset** contains information about different **cuts** of diamonds and their **prices**.\n",
    "\n",
    "The following code generates a violin plot using **Seaborn**:\n",
    "```python\n",
    "import seaborn as sns\n",
    "df = sns.load_dataset('diamonds')\n",
    "sns.violinplot(x=df[\"cut\"], y=df[\"price\"])\n",
    "```\n",
    "\n",
    "Modify the code to:\n",
    "- Use a **different Seaborn function** to visualize the **distribution of `price` across `cut`**.\n",
    "- Ensure the alternative plot provides a similar insight into the spread of prices while maintaining readability.\n",
    "- Apply appropriate **customization** to improve the figure.\n",
    "\n",
    "### Expected Output:\n",
    "- A visualization that presents the distribution of **diamond prices** grouped by **cut**, but **without using `violinplot()`**."
   ]
  },
  {
   "cell_type": "code",
   "execution_count": null,
   "id": "2",
   "metadata": {},
   "outputs": [],
   "source": [
    "# BEGIN SOLUTION\n",
    "\n",
    "import seaborn as sns\n",
    "import matplotlib.pyplot as plt\n",
    "\n",
    "# Load dataset\n",
    "df = sns.load_dataset('diamonds')\n",
    "\n",
    "# Alternative visualization: Boxplot with swarmplot overlay\n",
    "plt.figure(figsize=(10, 6))\n",
    "sns.boxplot(x=df[\"cut\"], y=df[\"price\"], whis=[5, 95], width=0.5)\n",
    "sns.stripplot(x=df[\"cut\"], y=df[\"price\"], color=\".3\", alpha=0.4, jitter=True)\n",
    "\n",
    "plt.title(\"Distribution of Diamond Prices by Cut Quality (Alternative to Violin Plot)\")\n",
    "plt.xlabel(\"Cut Quality\")\n",
    "plt.ylabel(\"Price (USD)\")\n",
    "\n",
    "plt.show()"
   ]
  },
  {
   "cell_type": "raw",
   "execution_count": null,
   "id": "3",
   "metadata": {
    "vscode": {
     "languageId": "raw"
    }
   },
   "outputs": [],
   "source": [
    "# END SOLUTION"
   ]
  },
  {
   "cell_type": "raw",
   "execution_count": null,
   "id": "4",
   "metadata": {
    "vscode": {
     "languageId": "raw"
    }
   },
   "outputs": [],
   "source": [
    "# BEGIN QUESTION\n",
    "name: Creating and Analyzing a Dendrogram with Wine Dataset"
   ]
  },
  {
   "cell_type": "markdown",
   "id": "5",
   "metadata": {},
   "source": [
    "## **Create and Analyze a Dendrogram for Wine Quality Data**\n",
    "\n",
    "The **Wine dataset** contains **chemical properties of different wines** from three cultivars (wine types). Your goal is to:\n",
    "\n",
    "1. Load the **UCI Wine dataset** from `sklearn.datasets`.\n",
    "2. Use **only the numerical features** (excluding the wine class label).\n",
    "3. Perform **hierarchical clustering** and generate a **dendrogram**.\n",
    "4. Customize the dendrogram for better readability.\n",
    "5. **Analyze the results**:\n",
    "   - How many clusters are formed at a **cutoff height of 200**?\n",
    "   - Based on clustering, which **two wine classes appear most similar**?\n",
    "\n",
    "**Expected Output:**\n",
    "- A **dendrogram** visualizing hierarchical clustering of the wine dataset.\n",
    "- Answers to the analysis questions."
   ]
  },
  {
   "cell_type": "code",
   "execution_count": null,
   "id": "6",
   "metadata": {},
   "outputs": [],
   "source": [
    "# BEGIN SOLUTION\n",
    "\n",
    "import numpy as np\n",
    "import pandas as pd\n",
    "import matplotlib.pyplot as plt\n",
    "import seaborn as sns\n",
    "from scipy.cluster.hierarchy import dendrogram, linkage, fcluster\n",
    "from sklearn.datasets import load_wine\n",
    "from scipy.spatial.distance import pdist\n",
    "\n",
    "# Load Wine dataset\n",
    "wine = load_wine()\n",
    "df = pd.DataFrame(wine.data, columns=wine.feature_names)\n",
    "\n",
    "# Perform hierarchical clustering\n",
    "linkage_matrix = linkage(pdist(df), method=\"ward\")\n",
    "\n",
    "# Plot the dendrogram\n",
    "plt.figure(figsize=(12, 6))\n",
    "dendrogram(linkage_matrix, labels=wine.target, leaf_rotation=90)\n",
    "plt.axhline(y=200, color='r', linestyle='--')  # Cutoff for clustering\n",
    "plt.title(\"Dendrogram of Wine Dataset\")\n",
    "plt.xlabel(\"Sample Index (Labeled by Wine Type)\")\n",
    "plt.ylabel(\"Distance\")\n",
    "plt.show()\n",
    "\n",
    "# Analysis\n",
    "num_clusters = len(set(fcluster(linkage_matrix, t=200, criterion=\"distance\")))\n",
    "most_similar_wine_classes = \"Class 1 and Class 2 (based on shortest linkage)\"\n",
    "\n",
    "print(f\"Number of clusters at cutoff height 200: {num_clusters}\")\n",
    "print(f\"Most similar wine classes based on clustering: {most_similar_wine_classes}\")"
   ]
  },
  {
   "cell_type": "raw",
   "execution_count": null,
   "id": "7",
   "metadata": {
    "vscode": {
     "languageId": "raw"
    }
   },
   "outputs": [],
   "source": [
    "# END SOLUTION"
   ]
  }
 ],
 "metadata": {},
 "nbformat": 4,
 "nbformat_minor": 5
}
