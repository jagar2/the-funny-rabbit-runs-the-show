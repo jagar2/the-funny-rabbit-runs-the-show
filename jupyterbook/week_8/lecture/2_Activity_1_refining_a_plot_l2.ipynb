{
 "cells": [
  {
   "cell_type": "markdown",
   "metadata": {
    "editable": false
   },
   "source": [
    "# 💻 Activity: Refining a Simple Plot\n",
    "\n",
    "In many labs and classes, you'll need to meaningfully visualize data for your audience.\n",
    "\n",
    "Successful communication of data is one of the most important aspects of engineering. If you can't get important ideas out of your head in a way that makes them digestible to others then you are unlikely to succeed as an engineer. \n",
    "\n",
    "Please follow along on your computers as we refine a visualization of sine and cosine."
   ]
  },
  {
   "cell_type": "markdown",
   "metadata": {
    "editable": false
   },
   "source": [
    "## Create data\n",
    "\n",
    "The first step is to get data for the sine and cosine functions.\n",
    "\n",
    "Note that we import `pyplot` from `matplotlib` to use `pyplot` to visualize 2-D data."
   ]
  },
  {
   "cell_type": "code",
   "execution_count": null,
   "metadata": {
    "tags": [
     "skip-execution"
    ]
   },
   "outputs": [],
   "source": [
    "import numpy as np\n",
    "import matplotlib.pyplot as plt\n",
    "%matplotlib inline\n",
    "\n",
    "# creates a linear spaced array\n",
    "X = np.linspace(-np.pi, np.pi, 256, endpoint=True)\n",
    "\n",
    "# computes the sine and cosine\n",
    "C, S = np.cos(X), np.sin(X)"
   ]
  },
  {
   "cell_type": "markdown",
   "metadata": {
    "editable": false
   },
   "source": [
    "`X` is now a NumPy array with 256 values ranging from -π to +π (included). `C` is the cosine (256 values), and `S` is the sine (256 values)."
   ]
  },
  {
   "cell_type": "code",
   "execution_count": null,
   "metadata": {
    "tags": [
     "skip-execution"
    ]
   },
   "outputs": [],
   "source": [
    "# plot the cosine against X\n",
    "plt.plot(X, C)\n",
    "\n",
    "# plot the sine against X\n",
    "plt.plot(X, S)\n",
    "\n",
    "plt.show()"
   ]
  },
  {
   "cell_type": "markdown",
   "metadata": {
    "editable": false
   },
   "source": [
    "### Customizing Plots\n",
    "\n",
    "Matplotlib was designed to make 2-dimensional plotting easy! We will generate simple graphics today, but you can use these links to learn about more powerful applications of matplotlib:\n",
    "\n",
    "[Customizing matplotlib ](http://matplotlib.sourceforge.net/users/customizing.html)\n",
    "\n",
    "[Controlling line properties](https://matplotlib.org/stable/tutorials/introductory/pyplot.html#controlling-line-properties)\n"
   ]
  },
  {
   "cell_type": "markdown",
   "metadata": {
    "editable": false
   },
   "source": [
    "Let's adjust color so cosine is blue and the sine is red. Let's also increase line width to 2.5.\n",
    "\n",
    "We want the graphic to display well on a laptop screen, so let's also adjust the aspect ratio (width:height) using `figsize`."
   ]
  },
  {
   "cell_type": "code",
   "execution_count": null,
   "metadata": {
    "tags": [
     "skip-execution"
    ]
   },
   "outputs": [],
   "source": [
    "plt.figure(figsize=(10, 6), dpi=80)\n",
    "plt.plot(X, C, color=\"blue\", linewidth=2.5, linestyle=\"-\")\n",
    "plt.plot(X, S, color=\"red\", linewidth=2.5, linestyle=\"-\")"
   ]
  },
  {
   "cell_type": "markdown",
   "metadata": {
    "editable": false
   },
   "source": [
    "#### Setting Limits\n",
    "\n",
    "[xlim() command ](https://matplotlib.org/stable/api/_as_gen/matplotlib.pyplot.xlim.html)\n",
    "\n",
    "[ylim() command](https://matplotlib.org/stable/api/_as_gen/matplotlib.pyplot.ylim.html)\n",
    "\n",
    "The current limits of the figure are a bit too tight. To better visualize the functions we want to extend the range of the x- and y-axes.\n",
    "\n",
    "Extend the ranges to be 10% more negative at the minimum and 10% greater at the maximum."
   ]
  },
  {
   "cell_type": "code",
   "execution_count": null,
   "metadata": {
    "tags": [
     "skip-execution"
    ]
   },
   "outputs": [],
   "source": [
    "plt.figure(figsize=(8, 5), dpi=80)\n",
    "plt.subplot(111)\n",
    "\n",
    "X = np.linspace(-np.pi, np.pi, 256, endpoint=True)\n",
    "C, S = np.cos(X), np.sin(X)\n",
    "\n",
    "# copy these lines from above\n",
    "plt.plot(X, C, color=\"blue\", linewidth=2.5, linestyle=\"-\")\n",
    "plt.plot(X, S, color=\"red\", linewidth=2.5, linestyle=\"-\")\n",
    "\n",
    "plt.xlim(X.min() * 1.1, X.max() * 1.10)\n",
    "plt.ylim(C.min() * 1.1, C.max() * 1.10)\n",
    "\n",
    "plt.show()"
   ]
  },
  {
   "cell_type": "markdown",
   "metadata": {
    "editable": false
   },
   "source": [
    "#### Setting Ticks\n",
    "\n",
    "[xticks() command](https://matplotlib.org/stable/api/_as_gen/matplotlib.pyplot.xticks)\n",
    "\n",
    "[yticks() command](https://matplotlib.org/stable/api/_as_gen/matplotlib.pyplot.yticks)\n",
    "\n",
    "The current ticks are not ideal because they do not show the interesting values for sine and cosine, like ± π and ± (π/2). \n",
    "\n",
    "Use the `xticks` function to make ticks at -π, -π/2, 0, π/2, and π.\n",
    "\n",
    "Use the `yticks` function to make ticks at -1, 0, and 1."
   ]
  },
  {
   "cell_type": "code",
   "execution_count": null,
   "metadata": {
    "tags": [
     "skip-execution"
    ]
   },
   "outputs": [],
   "source": [
    "plt.figure(figsize=(8, 5), dpi=80)\n",
    "plt.subplot(111)\n",
    "\n",
    "X = np.linspace(-np.pi, np.pi, 256, endpoint=True)\n",
    "C, S = np.cos(X), np.sin(X)\n",
    "\n",
    "# copy these lines from above\n",
    "plt.plot(X, C, color=\"blue\", linewidth=2.5, linestyle=\"-\")\n",
    "plt.plot(X, S, color=\"red\", linewidth=2.5, linestyle=\"-\")\n",
    "\n",
    "plt.xlim(X.min() * 1.1, X.max() * 1.10)\n",
    "plt.ylim(C.min() * 1.1, C.max() * 1.10)\n",
    "\n",
    "plt.xticks([-np.pi, -np.pi / 2, 0, np.pi / 2, np.pi])\n",
    "plt.yticks([-1,0,1])\n",
    "\n",
    "plt.show()"
   ]
  },
  {
   "cell_type": "markdown",
   "metadata": {
    "editable": false
   },
   "source": [
    "#### Setting the Tick Labels\n",
    "\n",
    "[Working with text](https://matplotlib.org/stable/tutorials/text/text_intro.html)\n",
    "\n",
    "[set_xticklabels()](https://matplotlib.org/stable/api/_as_gen/matplotlib.axes.Axes.set_xticklabels)\n",
    "\n",
    "[set_yticklabels()](https://matplotlib.org/stable/api/_as_gen/matplotlib.axes.Axes.set_yticklabels)\n"
   ]
  },
  {
   "cell_type": "markdown",
   "metadata": {
    "editable": false
   },
   "source": [
    "The ticks are now properly placed, but their label is not very explicit. \n",
    "\n",
    "We could guess that 3.142 is π, but it would be better to make it explicit. \n",
    "\n",
    "When we set tick values, we can also provide a corresponding label in the second argument list.\n",
    "\n",
    "Note that we'll use [latex](https://www.overleaf.com/learn/latex/Learn_LaTeX_in_30_minutes) to allow for a nice rendering of the label.\n"
   ]
  },
  {
   "cell_type": "code",
   "execution_count": null,
   "metadata": {
    "tags": [
     "skip-execution"
    ]
   },
   "outputs": [],
   "source": [
    "import numpy as np\n",
    "import matplotlib.pyplot as plt\n",
    "\n",
    "plt.figure(figsize=(8, 5), dpi=80)\n",
    "plt.subplot(111)\n",
    "\n",
    "X = np.linspace(-np.pi, np.pi, 256, endpoint=True)\n",
    "C, S = np.cos(X), np.sin(X)\n",
    "\n",
    "# copy these lines from above\n",
    "plt.plot(X, C, color=\"blue\", linewidth=2.5, linestyle=\"-\")\n",
    "plt.plot(X, S, color=\"red\", linewidth=2.5, linestyle=\"-\")\n",
    "\n",
    "plt.xlim(X.min() * 1.1, X.max() * 1.10)\n",
    "plt.ylim(C.min() * 1.1, C.max() * 1.10)\n",
    "\n",
    "plt.xticks([-np.pi, -np.pi / 2, 0, np.pi / 2, np.pi])\n",
    "\n",
    "plt.yticks([-1,0,1])\n",
    "\n",
    "plt.xticks(\n",
    "    [-np.pi, -np.pi / 2, 0, np.pi / 2, np.pi],\n",
    "    [r\"$-\\pi$\", r\"$-\\pi/2$\", r\"$0$\", r\"$\\pi/2$\", r\"$\\pi$\"],\n",
    ")\n",
    "\n",
    "plt.yticks([-1, 0, +1], [r\"$-1$\", r\"$0$\", r\"$+1$\"])\n",
    "\n",
    "plt.show()"
   ]
  },
  {
   "cell_type": "markdown",
   "metadata": {
    "editable": false
   },
   "source": [
    "#### Moving Spines\n",
    "\n",
    "[Spines](https://matplotlib.org/stable/gallery/spines/spines.html)\n",
    "\n",
    "Spines are the lines connecting the axis tick marks and noting the boundaries of the data area.\n",
    "\n",
    "They can be placed at arbitrary positions. Until now, they were on the border of the axis.\n",
    "\n",
    "We'll change that since we want to have them in the middle.\n",
    "\n",
    "1. Since there are four of them (top/bottom/left/right), we'll discard the top and right by setting their color to none.\n",
    "2. We'll move the bottom and left ones to the origin of the graph.\n"
   ]
  },
  {
   "cell_type": "code",
   "execution_count": null,
   "metadata": {
    "tags": [
     "skip-execution"
    ]
   },
   "outputs": [],
   "source": [
    "import numpy as np\n",
    "import matplotlib.pyplot as plt\n",
    "\n",
    "plt.figure(figsize=(8, 5), dpi=80)\n",
    "ax = plt.subplot(111)\n",
    "\n",
    "ax.spines[\"right\"].set_color(\"none\")\n",
    "ax.spines[\"top\"].set_color(\"none\")\n",
    "ax.xaxis.set_ticks_position(\"bottom\")\n",
    "# move the bottom spline to the origin\n",
    "ax.spines[\"bottom\"].set_position((\"data\", 0))\n",
    "ax.yaxis.set_ticks_position(\"left\")\n",
    "# move the left spline to the origin\n",
    "ax.spines[\"left\"].set_position((\"data\", 0))\n",
    "\n",
    "X = np.linspace(-np.pi, np.pi, 256, endpoint=True)\n",
    "C, S = np.cos(X), np.sin(X)\n",
    "\n",
    "# copy these lines from above\n",
    "plt.plot(X, C, color=\"blue\", linewidth=2.5, linestyle=\"-\")\n",
    "plt.plot(X, S, color=\"red\", linewidth=2.5, linestyle=\"-\")\n",
    "\n",
    "plt.xlim(X.min() * 1.1, X.max() * 1.10)\n",
    "plt.ylim(C.min() * 1.1, C.max() * 1.10)\n",
    "\n",
    "plt.xticks(\n",
    "    [-np.pi, -np.pi / 2, 0, np.pi / 2, np.pi],\n",
    "    [r\"$-\\pi$\", r\"$-\\pi/2$\", r\"$0$\", r\"$+\\pi/2$\", r\"$+\\pi$\"],\n",
    ")\n",
    "\n",
    "plt.yticks([-1, 0, +1], [r\"$-1$\", r\"$0$\", r\"$+1$\"])\n",
    "\n",
    "plt.show()"
   ]
  },
  {
   "cell_type": "code",
   "execution_count": null,
   "metadata": {},
   "outputs": [],
   "source": []
  },
  {
   "cell_type": "markdown",
   "metadata": {
    "editable": false
   },
   "source": [
    "#### Adding a Legend\n",
    "\n",
    "[Legend guide](https://matplotlib.org/stable/tutorials/intermediate/legend_guide.html)\n",
    "\n",
    "[legend() command](https://matplotlib.org/stable/api/_as_gen/matplotlib.pyplot.legend)\n"
   ]
  },
  {
   "cell_type": "markdown",
   "metadata": {
    "editable": false
   },
   "source": [
    "Legends help someone viewing a plot to understand what it shows. \n",
    "\n",
    "Let's add a legend in the upper left corner.\n",
    "\n",
    "Insert the keyword argument `label` to the plot commands, like `label=\"cosine\"`"
   ]
  },
  {
   "cell_type": "code",
   "execution_count": null,
   "metadata": {
    "tags": [
     "skip-execution"
    ]
   },
   "outputs": [],
   "source": [
    "import numpy as np\n",
    "import matplotlib.pyplot as plt\n",
    "\n",
    "plt.figure(figsize=(8, 5), dpi=80)\n",
    "ax = plt.subplot(111)\n",
    "ax.spines[\"right\"].set_color(\"none\")\n",
    "ax.spines[\"top\"].set_color(\"none\")\n",
    "ax.xaxis.set_ticks_position(\"bottom\")\n",
    "ax.spines[\"bottom\"].set_position((\"data\", 0))\n",
    "ax.yaxis.set_ticks_position(\"left\")\n",
    "ax.spines[\"left\"].set_position((\"data\", 0))\n",
    "\n",
    "X = np.linspace(-np.pi, np.pi, 256, endpoint=True)\n",
    "C, S = np.cos(X), np.sin(X)\n",
    "\n",
    "plt.plot(X, C, color=\"blue\", linewidth=2.5, linestyle=\"-\", label=\"cosine\")\n",
    "plt.plot(X, S, color=\"red\", linewidth=2.5, linestyle=\"-\", label=\"sine\")\n",
    "\n",
    "plt.xlim(X.min() * 1.1, X.max() * 1.10)\n",
    "plt.ylim(C.min() * 1.1, C.max() * 1.10)\n",
    "\n",
    "plt.xticks([-np.pi, -np.pi / 2, 0, np.pi / 2, np.pi])\n",
    "plt.yticks([-1,0,1])\n",
    "plt.xticks(\n",
    "    [-np.pi, -np.pi / 2, 0, np.pi / 2, np.pi],\n",
    "    [r\"$-\\pi$\", r\"$-\\pi/2$\", r\"$0$\", r\"$+\\pi/2$\", r\"$+\\pi$\"],\n",
    ")\n",
    "\n",
    "plt.yticks([-1, +1], [r\"$-1$\", r\"$+1$\"])\n",
    "\n",
    "plt.legend(loc=\"upper left\", frameon=False)\n",
    "plt.show()"
   ]
  },
  {
   "cell_type": "code",
   "execution_count": null,
   "metadata": {
    "tags": [
     "skip-execution"
    ]
   },
   "outputs": [],
   "source": []
  }
 ],
 "metadata": {
  "kernelspec": {
   "display_name": "Python 3 (ipykernel)",
   "language": "python",
   "name": "python3"
  },
  "language_info": {
   "codemirror_mode": {
    "name": "ipython",
    "version": 3
   },
   "file_extension": ".py",
   "mimetype": "text/x-python",
   "name": "python",
   "nbconvert_exporter": "python",
   "pygments_lexer": "ipython3",
   "version": "3.11.8"
  },
  "varInspector": {
   "cols": {
    "lenName": 16,
    "lenType": 16,
    "lenVar": 40
   },
   "kernels_config": {
    "python": {
     "delete_cmd_postfix": "",
     "delete_cmd_prefix": "del ",
     "library": "var_list.py",
     "varRefreshCmd": "print(var_dic_list())"
    },
    "r": {
     "delete_cmd_postfix": ") ",
     "delete_cmd_prefix": "rm(",
     "library": "var_list.r",
     "varRefreshCmd": "cat(var_dic_list()) "
    }
   },
   "types_to_exclude": [
    "module",
    "function",
    "builtin_function_or_method",
    "instance",
    "_Feature"
   ],
   "window_display": false
  }
 },
 "nbformat": 4,
 "nbformat_minor": 2
}
