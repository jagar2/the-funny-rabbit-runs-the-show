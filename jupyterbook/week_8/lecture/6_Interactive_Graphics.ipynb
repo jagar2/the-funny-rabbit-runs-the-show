{
 "cells": [
  {
   "cell_type": "markdown",
   "id": "0",
   "metadata": {
    "slideshow": {
     "slide_type": "slide"
    }
   },
   "source": [
    "# 📝 Interactive Plotting with Bokeh"
   ]
  },
  {
   "cell_type": "markdown",
   "id": "1",
   "metadata": {
    "slideshow": {
     "slide_type": "fragment"
    }
   },
   "source": [
    "Python Bokeh is a Data Visualization library that provides interactive charts and plots. Bokeh renders its plots using HTML and JavaScript that uses modern web browsers for presenting elegant, concise construction of novel graphics with high-level interactivity\n",
    "\n",
    "* Flexibility: Bokeh can be used for common plotting requirements and for custom and complex use-cases."
   ]
  },
  {
   "cell_type": "markdown",
   "id": "2",
   "metadata": {
    "slideshow": {
     "slide_type": "fragment"
    }
   },
   "source": [
    "* Productivity: Its interaction with other popular Pydata tools (such as Pandas and Jupyter notebook) is very easy."
   ]
  },
  {
   "cell_type": "markdown",
   "id": "3",
   "metadata": {
    "slideshow": {
     "slide_type": "fragment"
    }
   },
   "source": [
    "* Interactivity: It creates interactive plots that change with the user interaction."
   ]
  },
  {
   "cell_type": "markdown",
   "id": "4",
   "metadata": {
    "slideshow": {
     "slide_type": "fragment"
    }
   },
   "source": [
    "* Powerful: Generation of visualizations for specialized use-cases can be done by adding JavaScript."
   ]
  },
  {
   "cell_type": "markdown",
   "id": "5",
   "metadata": {
    "slideshow": {
     "slide_type": "fragment"
    }
   },
   "source": [
    "* Shareable: Visual data are shareable. They can also be rendered in Jupyter notebooks."
   ]
  },
  {
   "cell_type": "markdown",
   "id": "6",
   "metadata": {
    "slideshow": {
     "slide_type": "fragment"
    }
   },
   "source": [
    "* Open source: Bokeh is an open-source project."
   ]
  },
  {
   "cell_type": "code",
   "execution_count": null,
   "id": "7",
   "metadata": {
    "slideshow": {
     "slide_type": "fragment"
    }
   },
   "outputs": [],
   "source": [
    "%%capture\n",
    "!pip install bokeh"
   ]
  },
  {
   "cell_type": "markdown",
   "id": "8",
   "metadata": {
    "slideshow": {
     "slide_type": "slide"
    }
   },
   "source": [
    "## A Simple Multiline Plot"
   ]
  },
  {
   "cell_type": "code",
   "execution_count": null,
   "id": "9",
   "metadata": {
    "slideshow": {
     "slide_type": "fragment"
    }
   },
   "outputs": [],
   "source": [
    "import numpy as np\n",
    "from bokeh.layouts import gridplot\n",
    "from bokeh.plotting import figure\n",
    "from bokeh.io import output_notebook, show\n",
    "\n",
    "\n",
    "x = np.linspace(0, 4*np.pi, 100)\n",
    "y = np.sin(x)\n",
    "\n",
    "TOOLS = \"pan,wheel_zoom,box_zoom,reset,save,box_select\"\n",
    "\n",
    "p1 = figure(title=\"Legend Example\", tools=TOOLS)\n",
    "\n",
    "p1.circle(x,   y, legend_label=\"sin(x)\")\n",
    "p1.circle(x, 2*y, legend_label=\"2*sin(x)\", color=\"orange\")\n",
    "p1.circle(x, 3*y, legend_label=\"3*sin(x)\", color=\"green\")\n",
    "\n",
    "p1.legend.title = 'Markers'\n",
    "\n",
    "p2 = figure(title=\"Another Legend Example\", tools=TOOLS)\n",
    "\n",
    "p2.circle(x, y, legend_label=\"sin(x)\")\n",
    "p2.line(x, y, legend_label=\"sin(x)\")\n",
    "\n",
    "p2.line(x, 2*y, legend_label=\"2*sin(x)\",\n",
    "        line_dash=(4, 4), line_color=\"orange\", line_width=2)\n",
    "\n",
    "p2.scatter(x, 3*y, legend_label=\"3*sin(x)\", fill_color=None, line_color=\"green\", marker='square')\n",
    "p2.line(x, 3*y, legend_label=\"3*sin(x)\", line_color=\"green\")\n",
    "\n",
    "p2.legend.title = 'Lines'\n",
    "output_notebook()\n",
    "show(gridplot([p1, p2], ncols=2, width=400, height=400))\n"
   ]
  },
  {
   "cell_type": "markdown",
   "id": "10",
   "metadata": {
    "slideshow": {
     "slide_type": "slide"
    }
   },
   "source": [
    "## Elements with labels"
   ]
  },
  {
   "cell_type": "code",
   "execution_count": null,
   "id": "11",
   "metadata": {
    "slideshow": {
     "slide_type": "fragment"
    }
   },
   "outputs": [],
   "source": [
    "import pandas as pd\n",
    "\n",
    "from bokeh.models import ColumnDataSource, LabelSet\n",
    "from bokeh.plotting import figure, show\n",
    "from bokeh.sampledata.periodic_table import elements\n",
    "\n",
    "elements = elements.copy()\n",
    "elements = elements[elements[\"atomic number\"] <= 82]\n",
    "elements = elements[~pd.isnull(elements[\"melting point\"])]\n",
    "mass = [float(x.strip(\"[]\")) for x in elements[\"atomic mass\"]]\n",
    "elements[\"atomic mass\"] = mass\n",
    "\n",
    "palette = [\"#053061\", \"#2166ac\", \"#4393c3\", \"#92c5de\", \"#d1e5f0\",\n",
    "           \"#f7f7f7\", \"#fddbc7\", \"#f4a582\", \"#d6604d\", \"#b2182b\", \"#67001f\"]\n",
    "\n",
    "melting_points = elements[\"melting point\"]\n",
    "low = min(melting_points)\n",
    "high = max(melting_points)\n",
    "melting_point_inds = [int(10*(x-low)/(high-low)) for x in melting_points] #gives items in colors a value from 0-10\n",
    "elements['melting_colors'] = [palette[i] for i in melting_point_inds]\n",
    "\n",
    "TITLE = \"Density vs Atomic Weight of Elements (colored by melting point)\"\n",
    "TOOLS = \"hover,pan,wheel_zoom,box_zoom,reset,save\"\n",
    "\n",
    "p = figure(tools=TOOLS, toolbar_location=\"above\", width=1200, title=TITLE)\n",
    "p.toolbar.logo = \"grey\"\n",
    "p.background_fill_color = \"#efefef\"\n",
    "p.xaxis.axis_label = \"atomic weight (amu)\"\n",
    "p.yaxis.axis_label = \"density (g/cm^3)\"\n",
    "p.grid.grid_line_color = \"white\"\n",
    "p.hover.tooltips = [\n",
    "    (\"name\", \"@name\"),\n",
    "    (\"symbol:\", \"@symbol\"),\n",
    "    (\"density\", \"@density\"),\n",
    "    (\"atomic weight\", \"@{atomic mass}\"),\n",
    "    (\"melting point\", \"@{melting point}\")\n",
    "]\n",
    "\n",
    "source = ColumnDataSource(elements)\n",
    "\n",
    "p.scatter(\"atomic mass\", \"density\", size=12, source=source,\n",
    "          color='melting_colors', line_color=\"black\", alpha=0.9)\n",
    "\n",
    "labels = LabelSet(x=\"atomic mass\", y=\"density\", text=\"symbol\", y_offset=8,\n",
    "                  text_font_size=\"11px\", text_color=\"#555555\",\n",
    "                  source=source, text_align='center')\n",
    "p.add_layout(labels)\n",
    "output_notebook()\n",
    "\n",
    "show(p)"
   ]
  },
  {
   "cell_type": "markdown",
   "id": "12",
   "metadata": {
    "slideshow": {
     "slide_type": "slide"
    }
   },
   "source": [
    "## Images as Scatter Objects"
   ]
  },
  {
   "cell_type": "code",
   "execution_count": null,
   "id": "13",
   "metadata": {
    "slideshow": {
     "slide_type": "fragment"
    }
   },
   "outputs": [],
   "source": [
    "import numpy as np\n",
    "\n",
    "from bokeh.core.properties import value\n",
    "from bokeh.plotting import figure, show\n",
    "\n",
    "url = \"https://courses.coe.drexel.edu/ENGR/ENGR131W23/_static/Drexel_Vertical%20stacked_Lockup_HEX.png\"\n",
    "x = np.random.random(150) * 100\n",
    "y = np.random.random(150) * 100\n",
    "\n",
    "p = figure(match_aspect=True, toolbar_location=None,\n",
    "           background_fill_color=\"#efefef\")\n",
    "\n",
    "# value is used here to prevent the string URL from being\n",
    "# interpreted as a column name from the data source.\n",
    "p.image_url(url=value(url), x=x, y=y, alpha=0.7, anchor=\"center\",\n",
    "            w=18, w_units=\"screen\", h=18, h_units=\"screen\")\n",
    "\n",
    "output_notebook()\n",
    "show(p)"
   ]
  }
 ],
 "metadata": {
  "celltoolbar": "Slideshow",
  "kernelspec": {
   "display_name": "Python 3 (ipykernel)",
   "language": "python",
   "name": "python3"
  },
  "language_info": {
   "codemirror_mode": {
    "name": "ipython",
    "version": 3
   },
   "file_extension": ".py",
   "mimetype": "text/x-python",
   "name": "python",
   "nbconvert_exporter": "python",
   "pygments_lexer": "ipython3",
   "version": "3.11.8"
  },
  "varInspector": {
   "cols": {
    "lenName": 16,
    "lenType": 16,
    "lenVar": 40
   },
   "kernels_config": {
    "python": {
     "delete_cmd_postfix": "",
     "delete_cmd_prefix": "del ",
     "library": "var_list.py",
     "varRefreshCmd": "print(var_dic_list())"
    },
    "r": {
     "delete_cmd_postfix": ") ",
     "delete_cmd_prefix": "rm(",
     "library": "var_list.r",
     "varRefreshCmd": "cat(var_dic_list()) "
    }
   },
   "types_to_exclude": [
    "module",
    "function",
    "builtin_function_or_method",
    "instance",
    "_Feature"
   ],
   "window_display": false
  }
 },
 "nbformat": 4,
 "nbformat_minor": 5
}
