{
 "cells": [
  {
   "cell_type": "code",
   "execution_count": null,
   "metadata": {
    "deletable": false,
    "editable": false,
    "tags": [
     "skip-execution"
    ]
   },
   "outputs": [],
   "source": [
    "# You must make sure to run all cells in sequence using shift + enter or you might encounter errors\n",
    "from pykubegrader.initialize import initialize_assignment\n",
    "\n",
    "responses = initialize_assignment(\"2_refining_plot_q\", \"week_8\", \"lecturenotgraded\", assignment_points = 44.0, assignment_tag = 'week8-lecturenotgraded')\n",
    "\n",
    "# Initialize Otter\n",
    "import otter\n",
    "grader = otter.Notebook(\"2_refining_plot_q.ipynb\")"
   ]
  },
  {
   "cell_type": "markdown",
   "metadata": {
    "deletable": false,
    "editable": false
   },
   "source": [
    "# 💻 Activity: Refining a Simple Plot\n",
    "\n",
    "In many labs and classes, you'll need to meaningfully visualize data for your audience.\n",
    "\n",
    "Successful communication of data is one of the most important aspects of engineering. If you can't get important ideas out of your head in a way that makes them digestible to others then you are unlikely to succeed as an engineer. \n",
    "\n",
    "Please follow along on your computers as we refine a visualization of sine and cosine."
   ]
  },
  {
   "cell_type": "markdown",
   "metadata": {
    "deletable": false,
    "editable": false
   },
   "source": [
    "## Create data\n",
    "\n",
    "The first step is to get data for the sine and cosine functions.\n",
    "\n",
    "Note that we import `pyplot` from `matplotlib` to use `pyplot` to visualize 2-D data."
   ]
  },
  {
   "cell_type": "code",
   "execution_count": null,
   "metadata": {
    "tags": [
     "skip-execution"
    ]
   },
   "outputs": [],
   "source": [
    "import numpy as np\n",
    "import matplotlib.pyplot as plt\n",
    "\n",
    "# creates a linear spaced array\n",
    "# create a linear spaced array of 256 values ranging from -π to +π (included), using the np.linspace() function, set the endpoint to True\n",
    "# assign the result to the variable X\n",
    "...\n",
    "\n",
    "# computes the sine and cosine\n",
    "# compute the cosine and sine of the array X, and assign the results to the variables C and S\n",
    "...\n"
   ]
  },
  {
   "cell_type": "code",
   "execution_count": null,
   "metadata": {
    "deletable": false,
    "editable": false,
    "tags": [
     "skip-execution"
    ]
   },
   "outputs": [],
   "source": [
    "grader.check(\"q1-create-data\")"
   ]
  },
  {
   "cell_type": "markdown",
   "metadata": {
    "deletable": false,
    "editable": false
   },
   "source": [
    "`X` is now a NumPy array with 256 values ranging from -π to +π (included). `C` is the cosine (256 values), and `S` is the sine (256 values)."
   ]
  },
  {
   "cell_type": "code",
   "execution_count": null,
   "metadata": {
    "tags": [
     "skip-execution"
    ]
   },
   "outputs": [],
   "source": [
    "# plot the cosine against X\n",
    "# use the plt.plot() function to plot the cosine against X\n",
    "# save as the variable plt_cosine\n",
    "...\n",
    "\n",
    "# plot the sine against X\n",
    "# use the plt.plot() function to plot the sine against X\n",
    "# save as the variable plt_sine\n",
    "...\n",
    "\n",
    "# display the plot using the plt.show() function\n",
    "...\n"
   ]
  },
  {
   "cell_type": "code",
   "execution_count": null,
   "metadata": {
    "deletable": false,
    "editable": false,
    "tags": [
     "skip-execution"
    ]
   },
   "outputs": [],
   "source": [
    "grader.check(\"q2-plot-data\")"
   ]
  },
  {
   "cell_type": "markdown",
   "metadata": {
    "deletable": false,
    "editable": false
   },
   "source": [
    "## Question 2 (Points: 2.0): Customizing Plots\n",
    "\n",
    "Matplotlib was designed to make 2-dimensional plotting easy! We will generate simple graphics today, but you can use these links to learn about more powerful applications of matplotlib:\n",
    "\n",
    "[Customizing matplotlib ](http://matplotlib.sourceforge.net/users/customizing.html)\n",
    "\n",
    "[Controlling line properties](https://matplotlib.org/stable/tutorials/introductory/pyplot.html#controlling-line-properties)\n"
   ]
  },
  {
   "cell_type": "markdown",
   "metadata": {
    "deletable": false,
    "editable": false
   },
   "source": [
    "Let's adjust color so cosine is blue and the sine is red. Let's also increase line width to 2.5.\n",
    "\n",
    "We want the graphic to display well on a laptop screen, so let's also adjust the aspect ratio (width:height) using `figsize`."
   ]
  },
  {
   "cell_type": "code",
   "execution_count": null,
   "metadata": {
    "deletable": false,
    "editable": false,
    "tags": [
     "skip-execution"
    ]
   },
   "outputs": [],
   "source": [
    "# create a figure with a size of 10x6 and a dpi of 300\n",
    "# save as the variable plt_figure\n",
    "# BEGIN SOLUTION\n",
    "plt_figure = plt.figure(figsize=(10, 6), dpi=300)\n",
    "# END SOLUTION\n",
    "\n",
    "# plot the cosine against X\n",
    "# use the plt.plot() function to plot the cosine against X\n",
    "# set the color to blue, the linewidth to 2.5, and the linestyle to \"-\", this will make a solid blue line\n",
    "# save as the variable plt_cosine\n",
    "# BEGIN SOLUTION\n",
    "plt_cosine = plt.plot(X, C, color=\"blue\", linewidth=2.5, linestyle=\"-\")\n",
    "# END SOLUTION\n",
    "\n",
    "# plot the sine against X\n",
    "# use the plt.plot() function to plot the sine against X\n",
    "# set the color to red, the linewidth to 2.5, and the linestyle to \"-\", this will make a solid red line\n",
    "# save as the variable plt_sine\n",
    "# BEGIN SOLUTION\n",
    "plt_sine = plt.plot(X, S, color=\"red\", linewidth=2.5, linestyle=\"-\")\n",
    "# END SOLUTION"
   ]
  },
  {
   "cell_type": "code",
   "execution_count": null,
   "metadata": {
    "deletable": false,
    "editable": false,
    "tags": [
     "skip-execution"
    ]
   },
   "outputs": [],
   "source": [
    "grader.check(\"q3-create-figure\")"
   ]
  },
  {
   "cell_type": "markdown",
   "metadata": {
    "deletable": false,
    "editable": false
   },
   "source": [
    "## Question 3 (Points: 2.0): Setting Limits\n",
    "\n",
    "[xlim() command ](https://matplotlib.org/stable/api/_as_gen/matplotlib.pyplot.xlim.html)\n",
    "\n",
    "[ylim() command](https://matplotlib.org/stable/api/_as_gen/matplotlib.pyplot.ylim.html)\n",
    "\n",
    "The current limits of the figure are a bit too tight. To better visualize the functions we want to extend the range of the x- and y-axes.\n",
    "\n",
    "Extend the ranges to be 10% more negative at the minimum and 10% greater at the maximum."
   ]
  },
  {
   "cell_type": "code",
   "execution_count": null,
   "metadata": {
    "tags": [
     "skip-execution"
    ]
   },
   "outputs": [],
   "source": [
    "# create a new figure with a size of 8x5 and a dpi of 300\n",
    "# save as the variable plt_figure\n",
    "...\n",
    "\n",
    "# create a subplot with 1 row and 1 column, and the first plot, this is done by plt.subplot(111)\n",
    "...\n",
    "\n",
    "# create a linear spaced array of 256 values ranging from -π to +π (included), using the np.linspace() function, set the endpoint to True\n",
    "# assign the result to the variable X\n",
    "...\n",
    "\n",
    "# compute the cosine and sine of the array X, and assign the results to the variables C and S\n",
    "...\n",
    "\n",
    "# copy these lines from above\n",
    "# use the plt.plot() function to plot the cosine against X\n",
    "# set the color to blue, the linewidth to 2.5, and the linestyle to \"-\", this will make a solid blue line\n",
    "...\n",
    "\n",
    "# use the plt.plot() function to plot the sine against X\n",
    "# set the color to red, the linewidth to 2.5, and the linestyle to \"-\", this will make a solid red line\n",
    "...\n",
    "\n",
    "# set the limits of the x-axis and y-axis\n",
    "# set the range of the x-axis to be 10% more negative at the minimum and 10% greater at the maximum, hint use X.min() and X.max()\n",
    "# set the range of the y-axis to be 10% more negative at the minimum and 10% greater at the maximum, hint use C.min() and C.max()\n",
    "# save as the variable plt_xlim and plt_ylim\n",
    "...\n",
    "\n",
    "# display the plot using the plt.show() function\n",
    "..."
   ]
  },
  {
   "cell_type": "code",
   "execution_count": null,
   "metadata": {
    "deletable": false,
    "editable": false,
    "tags": [
     "skip-execution"
    ]
   },
   "outputs": [],
   "source": [
    "grader.check(\"q4-set-limits\")"
   ]
  },
  {
   "cell_type": "markdown",
   "metadata": {
    "deletable": false,
    "editable": false
   },
   "source": [
    "## Question 4 (Points: 15.0): Setting Ticks\n",
    "\n",
    "[xticks() command](https://matplotlib.org/stable/api/_as_gen/matplotlib.pyplot.xticks)\n",
    "\n",
    "[yticks() command](https://matplotlib.org/stable/api/_as_gen/matplotlib.pyplot.yticks)\n",
    "\n",
    "The current ticks are not ideal because they do not show the interesting values for sine and cosine, like ± π and ± (π/2). \n",
    "\n",
    "Use the `xticks` function to make ticks at -π, -π/2, 0, π/2, and π.\n",
    "\n",
    "Use the `yticks` function to make ticks at -1, 0, and 1."
   ]
  },
  {
   "cell_type": "markdown",
   "metadata": {
    "deletable": false,
    "editable": false
   },
   "source": [
    "### Setting the Tick Labels\n",
    "\n",
    "[Working with text](https://matplotlib.org/stable/tutorials/text/text_intro.html)\n",
    "\n",
    "[set_xticklabels()](https://matplotlib.org/stable/api/_as_gen/matplotlib.axes.Axes.set_xticklabels)\n",
    "\n",
    "[set_yticklabels()](https://matplotlib.org/stable/api/_as_gen/matplotlib.axes.Axes.set_yticklabels)\n"
   ]
  },
  {
   "cell_type": "markdown",
   "metadata": {
    "deletable": false,
    "editable": false
   },
   "source": [
    "The ticks are now properly placed, but their label is not very explicit. \n",
    "\n",
    "We could guess that 3.142 is π, but it would be better to make it explicit. \n",
    "\n",
    "When we set tick values, we can also provide a corresponding label in the second argument list.\n",
    "\n",
    "Note that we'll use [latex](https://www.overleaf.com/learn/latex/Learn_LaTeX_in_30_minutes) to allow for a nice rendering of the label.\n"
   ]
  },
  {
   "cell_type": "code",
   "execution_count": null,
   "metadata": {
    "tags": [
     "skip-execution"
    ]
   },
   "outputs": [],
   "source": [
    "# Copy the cell above into the area with the ..., this will create another version of the same plot\n",
    "\n",
    "...\n",
    "\n",
    "# use the plt.xticks() function to make ticks at -π, -π/2, 0, π/2, and π, this is done by providing a list of values to the function\n",
    "# use the plt.yticks() function to make ticks at -1, 0, and 1, this is done by providing a list of values to the function\n",
    "...\n",
    "\n",
    "# display the plot using the plt.show() function\n",
    "...\n"
   ]
  },
  {
   "cell_type": "code",
   "execution_count": null,
   "metadata": {
    "deletable": false,
    "editable": false,
    "tags": [
     "skip-execution"
    ]
   },
   "outputs": [],
   "source": [
    "grader.check(\"q5-set-ticks\")"
   ]
  },
  {
   "cell_type": "markdown",
   "metadata": {
    "deletable": false,
    "editable": false
   },
   "source": [
    "#### Moving Spines\n",
    "\n",
    "[Spines](https://matplotlib.org/stable/gallery/spines/spines.html)\n",
    "\n",
    "Spines are the lines connecting the axis tick marks and noting the boundaries of the data area.\n",
    "\n",
    "They can be placed at arbitrary positions. Until now, they were on the border of the axis.\n",
    "\n",
    "We'll change that since we want to have them in the middle.\n",
    "\n",
    "1. Since there are four of them (top/bottom/left/right), we'll discard the top and right by setting their color to none.\n",
    "2. We'll move the bottom and left ones to the origin of the graph.\n"
   ]
  },
  {
   "cell_type": "code",
   "execution_count": null,
   "metadata": {
    "tags": [
     "skip-execution"
    ]
   },
   "outputs": [],
   "source": [
    "# Copy the cell above into the area with the ..., this will create another version of the same plot\n",
    "\n",
    "...\n",
    "\n",
    "# set the right and top spines to none\n",
    "...\n",
    "\n",
    "# set the bottom spine to the origin where the data is 0\n",
    "# move the bottom spline to the origin\n",
    "..."
   ]
  },
  {
   "cell_type": "code",
   "execution_count": null,
   "metadata": {
    "deletable": false,
    "editable": false,
    "tags": [
     "skip-execution"
    ]
   },
   "outputs": [],
   "source": [
    "grader.check(\"q6-move-spines\")"
   ]
  },
  {
   "cell_type": "markdown",
   "metadata": {
    "deletable": false,
    "editable": false
   },
   "source": [
    "## Question 6 (Points: 6.0): Adding a Legend\n",
    "\n",
    "[Legend guide](https://matplotlib.org/stable/tutorials/intermediate/legend_guide.html)\n",
    "\n",
    "[legend() command](https://matplotlib.org/stable/api/_as_gen/matplotlib.pyplot.legend)\n"
   ]
  },
  {
   "cell_type": "markdown",
   "metadata": {
    "deletable": false,
    "editable": false
   },
   "source": [
    "Legends help someone viewing a plot to understand what it shows. \n",
    "\n",
    "Let's add a legend in the upper left corner.\n",
    "\n",
    "Insert the keyword argument `label` to the plot commands, like `label=\"cosine\"`"
   ]
  },
  {
   "cell_type": "code",
   "execution_count": null,
   "metadata": {
    "tags": [
     "skip-execution"
    ]
   },
   "outputs": [],
   "source": [
    "# Copy the cell above into the area with the ..., this will create another version of the same plot\n",
    "...\n",
    "\n",
    "# call the plt.legend() function to add a legend in the upper left corner, turn the frame off, by setting frameon to False\n",
    "...\n",
    "\n",
    "# display the plot using the plt.show() function\n",
    "plt.show()\n"
   ]
  },
  {
   "cell_type": "code",
   "execution_count": null,
   "metadata": {
    "deletable": false,
    "editable": false,
    "tags": [
     "skip-execution"
    ]
   },
   "outputs": [],
   "source": [
    "grader.check(\"q7-add-legend\")"
   ]
  },
  {
   "cell_type": "markdown",
   "id": "27",
   "metadata": {},
   "source": [
    "## Submitting Assignment\n",
    "\n",
    "Please run the following block of code using `shift + enter` to submit your assignment, you should see your score."
   ]
  },
  {
   "cell_type": "code",
   "execution_count": null,
   "id": "28",
   "metadata": {
    "deletable": false,
    "editable": true,
    "tags": [
     "skip-execution"
    ]
   },
   "outputs": [],
   "source": [
    "from pykubegrader.submit.submit_assignment import submit_assignment\n",
    "\n",
    "submit_assignment(\"week8-lecturenotgraded\", \"2_refining_plot_q\")"
   ]
  }
 ],
 "metadata": {
  "kernelspec": {
   "display_name": "Python 3",
   "language": "python",
   "name": "python3"
  },
  "language_info": {
   "codemirror_mode": {
    "name": "ipython",
    "version": 3
   },
   "file_extension": ".py",
   "mimetype": "text/x-python",
   "name": "python",
   "nbconvert_exporter": "python",
   "pygments_lexer": "ipython3",
   "version": "3.12.7"
  },
  "otter": {
   "OK_FORMAT": true,
   "tests": {
    "q1-create-data": {
     "name": "q1-create-data",
     "points": null,
     "suites": [
      {
       "cases": [
        {
         "code": ">>> from pykubegrader.telemetry import ensure_responses, log_variable, score_question, submit_question, telemetry, update_responses\n>>> import os\n>>> import base64\n>>> max_question_points = str(11.0)\n>>> earned_points = 0\n>>> os.environ['EARNED_POINTS'] = str(earned_points)\n>>> os.environ['TOTAL_POINTS_FREE_RESPONSE'] = str(44.0)\n>>> log_variable('total-points', f'week8-lecturenotgraded, 2_refining_plot_q', 44.0)\n>>> question_id = 'q1-create-data-1'\n>>> max_score = 2.0\n>>> score = 0\n>>> array_length = len(X)\n>>> array_start = X[0]\n>>> array_end = X[-1]\n>>> assert array_length == 256, f'Expected array length 256, but got {array_length}.'\n>>> assert np.isclose(array_start, -np.pi), f'Expected start value -π, but got {array_start}.'\n>>> assert np.isclose(array_end, np.pi), f'Expected end value +π, but got {array_end}.'\n>>> if (array_length == 256, f'Expected array length 256, but got {array_length}.') and (np.isclose(array_start, -np.pi), f'Expected start value -π, but got {array_start}.') and (np.isclose(array_end, np.pi), f'Expected end value +π, but got {array_end}.'):\n...     score = 2.0\n>>> earned_points = float(os.environ.get('EARNED_POINTS', 0))\n>>> earned_points += score\n>>> log_variable('2_refining_plot_q', f'{score}, {max_score}', question_id)\n>>> os.environ['EARNED_POINTS'] = str(earned_points)\n>>> responses = update_responses(question_id, str(array_length))\n>>> responses = update_responses(question_id, str(array_start))\n>>> responses = update_responses(question_id, str(array_end))\n",
         "failure_message": "Failed: Linear spaced array is not created as expected.",
         "hidden": false,
         "locked": false,
         "points": 2,
         "success_message": "Success: Linear spaced array is created correctly!"
        },
        {
         "code": ">>> from pykubegrader.telemetry import ensure_responses, log_variable, score_question, submit_question, telemetry, update_responses\n>>> import os\n>>> import base64\n>>> question_id = 'q1-create-data-2'\n>>> max_score = 2.0\n>>> score = 0\n>>> cos_start = C[0]\n>>> cos_end = C[-1]\n>>> cos_mid = C[len(C) // 2]\n>>> assert np.isclose(cos_start, -1.0), f'Expected cos(-π) = -1.0, but got {cos_start}.'\n>>> assert np.isclose(cos_end, -1.0, atol=0.0001), f'Expected cos(+π) = -1.0, but got {cos_end}.'\n>>> assert np.isclose(cos_mid, 1.0, atol=0.0001), f'Expected cos(0) = 1.0, but got {cos_mid}.'\n>>> if (np.isclose(cos_start, -1.0), f'Expected cos(-π) = -1.0, but got {cos_start}.') and (np.isclose(cos_end, -1.0, atol=0.0001), f'Expected cos(+π) = -1.0, but got {cos_end}.') and (np.isclose(cos_mid, 1.0, atol=0.0001), f'Expected cos(0) = 1.0, but got {cos_mid}.'):\n...     score = 2.0\n>>> earned_points = float(os.environ.get('EARNED_POINTS', 0))\n>>> earned_points += score\n>>> log_variable('2_refining_plot_q', f'{score}, {max_score}', question_id)\n>>> os.environ['EARNED_POINTS'] = str(earned_points)\n>>> responses = update_responses(question_id, str(cos_start))\n>>> responses = update_responses(question_id, str(cos_end))\n>>> responses = update_responses(question_id, str(cos_mid))\n",
         "failure_message": "Failed: Cosine values are not computed as expected.",
         "hidden": false,
         "locked": false,
         "points": 2,
         "success_message": "Success: Cosine values are computed correctly!"
        },
        {
         "code": ">>> from pykubegrader.telemetry import ensure_responses, log_variable, score_question, submit_question, telemetry, update_responses\n>>> import os\n>>> import base64\n>>> question_id = 'q1-create-data-3'\n>>> max_score = 2.0\n>>> score = 0\n>>> sin_start = S[0]\n>>> sin_end = S[-1]\n>>> sin_mid = S[len(S) // 2]\n>>> assert np.isclose(sin_start, 0.01, atol=0.01), f'Expected sin(-π) = 0.0, but got {sin_start}.'\n>>> assert np.isclose(sin_end, 0.01, atol=0.01), f'Expected sin(+π) = 0.0, but got {sin_end}.'\n>>> assert np.isclose(sin_mid, 0.01, atol=0.01), f'Expected sin(0) = 0.0, but got {sin_mid}.'\n>>> if (np.isclose(sin_start, 0.01, atol=0.01), f'Expected sin(-π) = 0.0, but got {sin_start}.') and (np.isclose(sin_end, 0.01, atol=0.01), f'Expected sin(+π) = 0.0, but got {sin_end}.') and (np.isclose(sin_mid, 0.01, atol=0.01), f'Expected sin(0) = 0.0, but got {sin_mid}.'):\n...     score = 2.0\n>>> earned_points = float(os.environ.get('EARNED_POINTS', 0))\n>>> earned_points += score\n>>> log_variable('2_refining_plot_q', f'{score}, {max_score}', question_id)\n>>> os.environ['EARNED_POINTS'] = str(earned_points)\n>>> responses = update_responses(question_id, str(sin_start))\n>>> responses = update_responses(question_id, str(sin_end))\n>>> responses = update_responses(question_id, str(sin_mid))\n",
         "failure_message": "Failed: Sine values are not computed as expected.",
         "hidden": false,
         "locked": false,
         "points": 2,
         "success_message": "Success: Sine values are computed correctly!"
        },
        {
         "code": ">>> from pykubegrader.telemetry import ensure_responses, log_variable, score_question, submit_question, telemetry, update_responses\n>>> import os\n>>> import base64\n>>> question_id = 'q1-create-data-4'\n>>> max_score = 1.0\n>>> score = 0\n>>> X_shape, C_shape, S_shape = (X.shape, C.shape, S.shape)\n>>> X_dtype, C_dtype, S_dtype = (X.dtype, C.dtype, S.dtype)\n>>> assert X_shape == (256,), f'Expected shape (256,) for X, but got {X_shape}.'\n>>> assert C_shape == (256,), f'Expected shape (256,) for C, but got {C_shape}.'\n>>> assert S_shape == (256,), f'Expected shape (256,) for S, but got {S_shape}.'\n>>> assert X_dtype == np.float64, f'Expected dtype float64 for X, but got {X_dtype}.'\n>>> assert C_dtype == np.float64, f'Expected dtype float64 for C, but got {C_dtype}.'\n>>> assert S_dtype == np.float64, f'Expected dtype float64 for S, but got {S_dtype}.'\n>>> if X_shape == (256,) and C_shape == (256,) and (S_shape == (256,)) and (X_dtype == np.float64) and (C_dtype == np.float64) and (S_dtype == np.float64):\n...     score = 1.0\n>>> earned_points = float(os.environ.get('EARNED_POINTS', 0))\n>>> earned_points += score\n>>> log_variable('2_refining_plot_q', f'{score}, {max_score}', question_id)\n>>> os.environ['EARNED_POINTS'] = str(earned_points)\n>>> responses = update_responses(question_id, str(X_shape))\n>>> responses = update_responses(question_id, str(C_shape))\n>>> responses = update_responses(question_id, str(S_shape))\n>>> responses = update_responses(question_id, str(X_dtype))\n>>> responses = update_responses(question_id, str(C_dtype))\n>>> responses = update_responses(question_id, str(S_dtype))\n",
         "failure_message": "Failed: Arrays do not have correct shape or type.",
         "hidden": false,
         "locked": false,
         "points": 1,
         "success_message": "Success: Arrays have correct shape and type!"
        },
        {
         "code": ">>> from pykubegrader.telemetry import ensure_responses, log_variable, score_question, submit_question, telemetry, update_responses\n>>> import os\n>>> import base64\n>>> question_id = 'q1-create-data-5'\n>>> max_score = 2.0\n>>> score = 0\n>>> cos_periodicity = np.allclose(C[0], C[-1], rtol=0.001)\n>>> sin_periodicity = np.allclose(S[0], S[-1], rtol=0.001)\n>>> assert cos_periodicity, f'Expected periodicity in Cosine: C[0] ≈ C[-1], but got C[0] = {C[0]} and C[-1] = {C[-1]}.'\n>>> assert sin_periodicity, f'Expected periodicity in Sine: S[0] ≈ S[-1], but got S[0] = {S[0]} and S[-1] = {S[-1]}.'\n>>> if (cos_periodicity, f'Expected periodicity in Cosine: C[0] ≈ C[-1], but got C[0] = {C[0]} and C[-1] = {C[-1]}.') and (sin_periodicity, f'Expected periodicity in Sine: S[0] ≈ S[-1], but got S[0] = {S[0]} and S[-1] = {S[-1]}.'):\n...     score = 2.0\n>>> earned_points = float(os.environ.get('EARNED_POINTS', 0))\n>>> earned_points += score\n>>> log_variable('2_refining_plot_q', f'{score}, {max_score}', question_id)\n>>> os.environ['EARNED_POINTS'] = str(earned_points)\n>>> responses = update_responses(question_id, str(cos_periodicity))\n>>> responses = update_responses(question_id, str(sin_periodicity))\n",
         "failure_message": "Failed: Cosine and Sine periodicity is incorrect.",
         "hidden": false,
         "locked": false,
         "points": 2,
         "success_message": "Success: Cosine and Sine periodicity is correct!"
        },
        {
         "code": ">>> from pykubegrader.telemetry import ensure_responses, log_variable, score_question, submit_question, telemetry, update_responses\n>>> import os\n>>> import base64\n>>> question_id = 'q1-create-data-6'\n>>> max_score = 2.0\n>>> score = 0\n>>> cos_even_symmetry = np.allclose(C, np.flip(C), rtol=0.001)\n>>> sin_odd_symmetry = np.allclose(S, -np.flip(S), rtol=0.001)\n>>> assert cos_even_symmetry, f'Expected Cosine to be even (C(x) = C(-x)), but symmetry check failed.'\n>>> assert sin_odd_symmetry, f'Expected Sine to be odd (S(x) = -S(-x)), but symmetry check failed.'\n>>> if (cos_even_symmetry, f'Expected Cosine to be even (C(x) = C(-x)), but symmetry check failed.') and (sin_odd_symmetry, f'Expected Sine to be odd (S(x) = -S(-x)), but symmetry check failed.'):\n...     score = 2.0\n>>> earned_points = float(os.environ.get('EARNED_POINTS', 0))\n>>> earned_points += score\n>>> log_variable('2_refining_plot_q', f'{score}, {max_score}', question_id)\n>>> os.environ['EARNED_POINTS'] = str(earned_points)\n>>> responses = update_responses(question_id, str(cos_even_symmetry))\n>>> responses = update_responses(question_id, str(sin_odd_symmetry))\n",
         "failure_message": "Failed: Symmetry in Cosine and Sine is incorrect.",
         "hidden": false,
         "locked": false,
         "points": 2,
         "success_message": "Success: Symmetry in Cosine and Sine is correct!"
        }
       ],
       "scored": true,
       "setup": "",
       "teardown": "",
       "type": "doctest"
      }
     ]
    },
    "q2-plot-data": {
     "name": "q2-plot-data",
     "points": null,
     "suites": [
      {
       "cases": [
        {
         "code": ">>> from pykubegrader.telemetry import ensure_responses, log_variable, score_question, submit_question, telemetry, update_responses\n>>> import os\n>>> import base64\n>>> max_question_points = str(2.0)\n>>> earned_points = 0\n>>> os.environ['EARNED_POINTS'] = str(earned_points)\n>>> os.environ['TOTAL_POINTS_FREE_RESPONSE'] = str(44.0)\n>>> log_variable('total-points', f'week8-lecturenotgraded, 2_refining_plot_q', 44.0)\n>>> question_id = 'q2-plot-data-1'\n>>> max_score = 2.0\n>>> score = 0\n>>> assert isinstance(plt_cosine, list) and isinstance(plt_sine, list), 'Plots are not created.'\n>>> condition = plt_cosine[0].get_xdata().tolist() == X.tolist() and plt_cosine[0].get_ydata().tolist() == C.tolist()\n>>> assert condition\n>>> if (isinstance(plt_cosine, list) and isinstance(plt_sine, list)) and condition:\n...     score = 2.0\n>>> earned_points = float(os.environ.get('EARNED_POINTS', 0))\n>>> earned_points += score\n>>> log_variable('2_refining_plot_q', f'{score}, {max_score}', question_id)\n>>> os.environ['EARNED_POINTS'] = str(earned_points)\n>>> responses = update_responses(question_id, str(plt_cosine))\n>>> responses = update_responses(question_id, str(plt_sine))\n",
         "failure_message": "Failed: Plots are not created or displayed correctly.",
         "hidden": false,
         "locked": false,
         "points": 2,
         "success_message": "Success: Plots are created and displayed correctly!"
        }
       ],
       "scored": true,
       "setup": "",
       "teardown": "",
       "type": "doctest"
      }
     ]
    },
    "q3-create-figure": {
     "name": "q3-create-figure",
     "points": null,
     "suites": [
      {
       "cases": [
        {
         "code": ">>> from pykubegrader.telemetry import ensure_responses, log_variable, score_question, submit_question, telemetry, update_responses\n>>> import os\n>>> import base64\n>>> import matplotlib.pyplot as plt\n>>> max_question_points = str(2.0)\n>>> earned_points = 0\n>>> os.environ['EARNED_POINTS'] = str(earned_points)\n>>> os.environ['TOTAL_POINTS_FREE_RESPONSE'] = str(44.0)\n>>> log_variable('total-points', f'week8-lecturenotgraded, 2_refining_plot_q', 44.0)\n>>> question_id = 'q3-create-figure-1'\n>>> max_score = 2.0\n>>> score = 0\n>>> condition = plt_figure is not None and isinstance(plt_figure, plt.Figure) and (plt_figure.get_size_inches().tolist() == [10, 6]) and (plt_figure.get_dpi() == 300)\n>>> assert condition, 'Figure is not created with the correct size (10x6) or dpi (300).'\n>>> if condition:\n...     score = 2.0\n>>> earned_points = float(os.environ.get('EARNED_POINTS', 0))\n>>> earned_points += score\n>>> log_variable('2_refining_plot_q', f'{score}, {max_score}', question_id)\n>>> os.environ['EARNED_POINTS'] = str(earned_points)\n>>> responses = update_responses(question_id, str(plt_figure))\n",
         "failure_message": "Failed: The figure is not created with the correct size and dpi.",
         "hidden": false,
         "locked": false,
         "points": 2,
         "success_message": "Success: The figure is created with the correct size and dpi!"
        }
       ],
       "scored": true,
       "setup": "",
       "teardown": "",
       "type": "doctest"
      }
     ]
    },
    "q4-set-limits": {
     "name": "q4-set-limits",
     "points": null,
     "suites": [
      {
       "cases": [
        {
         "code": ">>> from pykubegrader.telemetry import ensure_responses, log_variable, score_question, submit_question, telemetry, update_responses\n>>> import os\n>>> import base64\n>>> import matplotlib.pyplot as plt\n>>> max_question_points = str(15.0)\n>>> earned_points = 0\n>>> os.environ['EARNED_POINTS'] = str(earned_points)\n>>> os.environ['TOTAL_POINTS_FREE_RESPONSE'] = str(44.0)\n>>> log_variable('total-points', f'week8-lecturenotgraded, 2_refining_plot_q', 44.0)\n>>> question_id = 'q4-set-limits-1'\n>>> max_score = 2.0\n>>> score = 0\n>>> condition = plt_figure is not None and isinstance(plt_figure, plt.Figure) and (plt_figure.get_size_inches().tolist() == [8, 5]) and (plt_figure.dpi == 300)\n>>> assert condition, 'Figure is not created with the correct size or dpi. Ensure plt.figure(figsize=(8, 5), dpi=300) is used.'\n>>> if condition:\n...     score = 2.0\n>>> earned_points = float(os.environ.get('EARNED_POINTS', 0))\n>>> earned_points += score\n>>> log_variable('2_refining_plot_q', f'{score}, {max_score}', question_id)\n>>> os.environ['EARNED_POINTS'] = str(earned_points)\n>>> responses = update_responses(question_id, str(plt_figure))\n",
         "failure_message": "Failed: The figure is not created correctly with size 8x5 and dpi 300.",
         "hidden": false,
         "locked": false,
         "points": 2,
         "success_message": "Success: The figure is created correctly with size 8x5 and dpi 300!"
        },
        {
         "code": ">>> from pykubegrader.telemetry import ensure_responses, log_variable, score_question, submit_question, telemetry, update_responses\n>>> import os\n>>> import base64\n>>> question_id = 'q4-set-limits-2'\n>>> max_score = 1.0\n>>> score = 0\n>>> condition = ax is not None and isinstance(ax, plt.Axes)\n>>> assert condition, 'Subplot is not created correctly. Ensure plt.subplot(111) is used and assigned to ax.'\n>>> if condition:\n...     score = 1.0\n>>> earned_points = float(os.environ.get('EARNED_POINTS', 0))\n>>> earned_points += score\n>>> log_variable('2_refining_plot_q', f'{score}, {max_score}', question_id)\n>>> os.environ['EARNED_POINTS'] = str(earned_points)\n>>> responses = update_responses(question_id, str(ax))\n",
         "failure_message": "Failed: Subplot is not created correctly using plt.subplot(111).",
         "hidden": false,
         "locked": false,
         "points": 1,
         "success_message": "Success: Subplot is created correctly using plt.subplot(111)!"
        },
        {
         "code": ">>> from pykubegrader.telemetry import ensure_responses, log_variable, score_question, submit_question, telemetry, update_responses\n>>> import os\n>>> import base64\n>>> import numpy as np\n>>> question_id = 'q4-set-limits-3'\n>>> max_score = 2.0\n>>> score = 0\n>>> expected_X = np.linspace(-np.pi, np.pi, 256, endpoint=True)\n>>> condition = X is not None and isinstance(X, np.ndarray) and (X.shape == (256,)) and np.allclose(X, expected_X)\n>>> assert condition, 'X is not correctly calculated as a linear spaced array. Ensure np.linspace(-np.pi, np.pi, 256, endpoint=True) is used.'\n>>> if condition:\n...     score = 2.0\n>>> earned_points = float(os.environ.get('EARNED_POINTS', 0))\n>>> earned_points += score\n>>> log_variable('2_refining_plot_q', f'{score}, {max_score}', question_id)\n>>> os.environ['EARNED_POINTS'] = str(earned_points)\n>>> responses = update_responses(question_id, str(X))\n",
         "failure_message": "Failed: X is not correctly computed as a linear spaced array.",
         "hidden": false,
         "locked": false,
         "points": 2,
         "success_message": "Success: X is correctly computed as a linear spaced array!"
        },
        {
         "code": ">>> from pykubegrader.telemetry import ensure_responses, log_variable, score_question, submit_question, telemetry, update_responses\n>>> import os\n>>> import base64\n>>> question_id = 'q4-set-limits-4'\n>>> max_score = 2.0\n>>> score = 0\n>>> expected_C = np.cos(X)\n>>> expected_S = np.sin(X)\n>>> condition = C is not None and S is not None and isinstance(C, np.ndarray) and isinstance(S, np.ndarray) and (C.shape == X.shape) and (S.shape == X.shape) and np.allclose(C, expected_C) and np.allclose(S, expected_S)\n>>> assert condition, 'C and S are not calculated as cosine and sine of X. Ensure C, S = np.cos(X), np.sin(X) are used.'\n>>> if condition:\n...     score = 2.0\n>>> earned_points = float(os.environ.get('EARNED_POINTS', 0))\n>>> earned_points += score\n>>> log_variable('2_refining_plot_q', f'{score}, {max_score}', question_id)\n>>> os.environ['EARNED_POINTS'] = str(earned_points)\n>>> responses = update_responses(question_id, str(C))\n>>> responses = update_responses(question_id, str(S))\n",
         "failure_message": "Failed: C and S are not computed correctly as cosine and sine of X.",
         "hidden": false,
         "locked": false,
         "points": 2,
         "success_message": "Success: C and S are computed correctly as cosine and sine of X!"
        },
        {
         "code": ">>> from pykubegrader.telemetry import ensure_responses, log_variable, score_question, submit_question, telemetry, update_responses\n>>> import os\n>>> import base64\n>>> question_id = 'q4-set-limits-5'\n>>> max_score = 2.0\n>>> score = 0\n>>> line = plt_cosine[0]\n>>> condition = line.get_color() == 'blue' and line.get_linewidth() == 2.5 and (line.get_linestyle() == '-')\n>>> assert condition, \"Cosine is not plotted with the correct style. Ensure color='blue', linewidth=2.5, linestyle='-' are used.\"\n>>> if condition:\n...     score = 2.0\n>>> earned_points = float(os.environ.get('EARNED_POINTS', 0))\n>>> earned_points += score\n>>> log_variable('2_refining_plot_q', f'{score}, {max_score}', question_id)\n>>> os.environ['EARNED_POINTS'] = str(earned_points)\n>>> responses = update_responses(question_id, str(plt_cosine))\n",
         "failure_message": "Failed: Cosine is not plotted with the correct style.",
         "hidden": false,
         "locked": false,
         "points": 2,
         "success_message": "Success: Cosine is plotted with the correct color, linewidth, and linestyle!"
        },
        {
         "code": ">>> from pykubegrader.telemetry import ensure_responses, log_variable, score_question, submit_question, telemetry, update_responses\n>>> import os\n>>> import base64\n>>> question_id = 'q4-set-limits-6'\n>>> max_score = 2.0\n>>> score = 0\n>>> line = plt_sine[0]\n>>> condition = line.get_color() == 'red' and line.get_linewidth() == 2.5 and (line.get_linestyle() == '-')\n>>> assert condition, \"Sine is not plotted with the correct style. Ensure color='red', linewidth=2.5, linestyle='-' are used.\"\n>>> if condition:\n...     score = 2.0\n>>> earned_points = float(os.environ.get('EARNED_POINTS', 0))\n>>> earned_points += score\n>>> log_variable('2_refining_plot_q', f'{score}, {max_score}', question_id)\n>>> os.environ['EARNED_POINTS'] = str(earned_points)\n>>> responses = update_responses(question_id, str(plt_sine))\n",
         "failure_message": "Failed: Sine is not plotted with the correct style.",
         "hidden": false,
         "locked": false,
         "points": 2,
         "success_message": "Success: Sine is plotted with the correct color, linewidth, and linestyle!"
        },
        {
         "code": ">>> from pykubegrader.telemetry import ensure_responses, log_variable, score_question, submit_question, telemetry, update_responses\n>>> import os\n>>> import base64\n>>> question_id = 'q4-set-limits-7'\n>>> max_score = 2.0\n>>> score = 0\n>>> line = plt_sine[0]\n>>> condition = plt_sine is not None and isinstance(plt_sine, list) and (len(plt_sine) > 0) and (line.get_xdata().tolist() == X.tolist()) and (line.get_ydata().tolist() == S.tolist()) and (line.get_color() == 'red') and (line.get_linewidth() == 2.5) and (line.get_linestyle() == '-')\n>>> assert condition, \"Sine plot is not correct. Ensure plt.plot(X, S, color='red', linewidth=2.5, linestyle='-') is used.\"\n>>> if condition:\n...     score = 2.0\n>>> earned_points = float(os.environ.get('EARNED_POINTS', 0))\n>>> earned_points += score\n>>> log_variable('2_refining_plot_q', f'{score}, {max_score}', question_id)\n>>> os.environ['EARNED_POINTS'] = str(earned_points)\n>>> responses = update_responses(question_id, str(plt_sine))\n>>> responses = update_responses(question_id, str(X))\n>>> responses = update_responses(question_id, str(S))\n",
         "failure_message": "Failed: Sine is not plotted correctly with the specified style.",
         "hidden": false,
         "locked": false,
         "points": 2,
         "success_message": "Success: Sine is plotted correctly with the specified style!"
        },
        {
         "code": ">>> from pykubegrader.telemetry import ensure_responses, log_variable, score_question, submit_question, telemetry, update_responses\n>>> import os\n>>> import base64\n>>> question_id = 'q4-set-limits-8'\n>>> max_score = 2.0\n>>> score = 0\n>>> expected_xlim = (X.min() * 1.1, X.max() * 1.1)\n>>> expected_ylim = (C.min() * 1.1, C.max() * 1.1)\n>>> condition = plt_xlim == expected_xlim and plt_ylim == expected_ylim\n>>> assert condition, f'Axis limits are not set correctly. Expected xlim: {expected_xlim} and ylim: {expected_ylim}.'\n>>> if condition:\n...     score = 2.0\n>>> earned_points = float(os.environ.get('EARNED_POINTS', 0))\n>>> earned_points += score\n>>> log_variable('2_refining_plot_q', f'{score}, {max_score}', question_id)\n>>> os.environ['EARNED_POINTS'] = str(earned_points)\n>>> responses = update_responses(question_id, str(plt_xlim))\n>>> responses = update_responses(question_id, str(plt_ylim))\n",
         "failure_message": "Failed: Axis limits are not set correctly.",
         "hidden": false,
         "locked": false,
         "points": 2,
         "success_message": "Success: Axis limits are set correctly!"
        }
       ],
       "scored": true,
       "setup": "",
       "teardown": "",
       "type": "doctest"
      }
     ]
    },
    "q5-set-ticks": {
     "name": "q5-set-ticks",
     "points": null,
     "suites": [
      {
       "cases": [
        {
         "code": ">>> from pykubegrader.telemetry import ensure_responses, log_variable, score_question, submit_question, telemetry, update_responses\n>>> import os\n>>> import base64\n>>> max_question_points = str(6.0)\n>>> earned_points = 0\n>>> os.environ['EARNED_POINTS'] = str(earned_points)\n>>> os.environ['TOTAL_POINTS_FREE_RESPONSE'] = str(44.0)\n>>> log_variable('total-points', f'week8-lecturenotgraded, 2_refining_plot_q', 44.0)\n>>> question_id = 'q5-set-ticks-1'\n>>> max_score = 2.0\n>>> score = 0\n>>> expected_C = np.cos(X)\n>>> expected_S = np.sin(X)\n>>> condition = C is not None and S is not None and isinstance(C, np.ndarray) and isinstance(S, np.ndarray) and (C.shape == X.shape) and (S.shape == X.shape) and np.allclose(C, expected_C) and np.allclose(S, expected_S)\n>>> assert condition, 'C and S are not calculated as cosine and sine of X. Ensure C, S = np.cos(X), np.sin(X) are used.'\n>>> if condition:\n...     score = 2.0\n>>> earned_points = float(os.environ.get('EARNED_POINTS', 0))\n>>> earned_points += score\n>>> log_variable('2_refining_plot_q', f'{score}, {max_score}', question_id)\n>>> os.environ['EARNED_POINTS'] = str(earned_points)\n>>> responses = update_responses(question_id, str(C))\n>>> responses = update_responses(question_id, str(S))\n",
         "failure_message": "Failed: C and S are not computed correctly as cosine and sine of X.",
         "hidden": false,
         "locked": false,
         "points": 2,
         "success_message": "Success: C and S are computed correctly as cosine and sine of X!"
        },
        {
         "code": ">>> from pykubegrader.telemetry import ensure_responses, log_variable, score_question, submit_question, telemetry, update_responses\n>>> import os\n>>> import base64\n>>> question_id = 'q5-set-ticks-2'\n>>> max_score = 2.0\n>>> score = 0\n>>> expected_xlim = (X.min() * 1.1, X.max() * 1.1)\n>>> expected_ylim = (C.min() * 1.1, C.max() * 1.1)\n>>> condition = plt_xlim == expected_xlim and plt_ylim == expected_ylim\n>>> assert condition, f'Axis limits are not set correctly. Expected xlim: {expected_xlim} and ylim: {expected_ylim}.'\n>>> if condition:\n...     score = 2.0\n>>> earned_points = float(os.environ.get('EARNED_POINTS', 0))\n>>> earned_points += score\n>>> log_variable('2_refining_plot_q', f'{score}, {max_score}', question_id)\n>>> os.environ['EARNED_POINTS'] = str(earned_points)\n>>> responses = update_responses(question_id, str(plt_xlim))\n>>> responses = update_responses(question_id, str(plt_ylim))\n",
         "failure_message": "Failed: Axis limits are not set correctly.",
         "hidden": false,
         "locked": false,
         "points": 2,
         "success_message": "Success: Axis limits are set correctly!"
        },
        {
         "code": ">>> from pykubegrader.telemetry import ensure_responses, log_variable, score_question, submit_question, telemetry, update_responses\n>>> import os\n>>> import base64\n>>> question_id = 'q5-set-ticks-3'\n>>> max_score = 2.0\n>>> score = 0\n>>> expected_xlim = (X.min() * 1.1, X.max() * 1.1)\n>>> expected_ylim = (C.min() * 1.1, C.max() * 1.1)\n>>> condition = plt_xlim == expected_xlim and plt_ylim == expected_ylim\n>>> assert condition, f'Axis limits are not set correctly. Expected xlim: {expected_xlim} and ylim: {expected_ylim}.'\n>>> if condition:\n...     score = 2.0\n>>> earned_points = float(os.environ.get('EARNED_POINTS', 0))\n>>> earned_points += score\n>>> log_variable('2_refining_plot_q', f'{score}, {max_score}', question_id)\n>>> os.environ['EARNED_POINTS'] = str(earned_points)\n>>> responses = update_responses(question_id, str(plt_xlim))\n>>> responses = update_responses(question_id, str(plt_ylim))\n",
         "failure_message": "Failed: Axis limits are not set correctly.",
         "hidden": false,
         "locked": false,
         "points": 2,
         "success_message": "Success: Axis limits are set correctly!"
        }
       ],
       "scored": true,
       "setup": "",
       "teardown": "",
       "type": "doctest"
      }
     ]
    },
    "q6-move-spines": {
     "name": "q6-move-spines",
     "points": null,
     "suites": [
      {
       "cases": [
        {
         "code": ">>> from pykubegrader.telemetry import ensure_responses, log_variable, score_question, submit_question, telemetry, update_responses\n>>> import os\n>>> import base64\n>>> max_question_points = str(6.0)\n>>> earned_points = 0\n>>> os.environ['EARNED_POINTS'] = str(earned_points)\n>>> os.environ['TOTAL_POINTS_FREE_RESPONSE'] = str(44.0)\n>>> log_variable('total-points', f'week8-lecturenotgraded, 2_refining_plot_q', 44.0)\n>>> question_id = 'q6-move-spines-1'\n>>> max_score = 2.0\n>>> score = 0\n>>> bottom_spine_position = ax.spines['bottom'].get_position()[1]\n>>> assert bottom_spine_position == 0, 'Bottom spine is not positioned at the data origin.'\n>>> if bottom_spine_position == 0:\n...     score = 2.0\n>>> earned_points = float(os.environ.get('EARNED_POINTS', 0))\n>>> earned_points += score\n>>> log_variable('2_refining_plot_q', f'{score}, {max_score}', question_id)\n>>> os.environ['EARNED_POINTS'] = str(earned_points)\n>>> responses = update_responses(question_id, str(bottom_spine_position))\n",
         "failure_message": "Failed: Bottom spine is not positioned at the data origin.",
         "hidden": false,
         "locked": false,
         "points": 2,
         "success_message": "Success: Bottom spine is positioned at the data origin!"
        },
        {
         "code": ">>> from pykubegrader.telemetry import ensure_responses, log_variable, score_question, submit_question, telemetry, update_responses\n>>> import os\n>>> import base64\n>>> question_id = 'q6-move-spines-2'\n>>> max_score = 2.0\n>>> score = 0\n>>> left_spine_position = ax.spines['left'].get_position()[1]\n>>> condition = left_spine_position == 0\n>>> assert condition, 'Left spine is not positioned at the data origin.'\n>>> if condition:\n...     score = 2.0\n>>> earned_points = float(os.environ.get('EARNED_POINTS', 0))\n>>> earned_points += score\n>>> log_variable('2_refining_plot_q', f'{score}, {max_score}', question_id)\n>>> os.environ['EARNED_POINTS'] = str(earned_points)\n>>> responses = update_responses(question_id, str(left_spine_position))\n",
         "failure_message": "Failed: Left spine is not positioned at the data origin.",
         "hidden": false,
         "locked": false,
         "points": 2,
         "success_message": "Success: Left spine is positioned at the data origin!"
        },
        {
         "code": ">>> from pykubegrader.telemetry import ensure_responses, log_variable, score_question, submit_question, telemetry, update_responses\n>>> import os\n>>> import base64\n>>> question_id = 'q6-move-spines-3'\n>>> max_score = 2.0\n>>> score = 0\n>>> y_ticks_position = ax.yaxis.get_ticks_position()\n>>> condition = y_ticks_position == 'left'\n>>> assert condition, 'Y-axis ticks are not positioned on the left.'\n>>> if condition:\n...     score = 2.0\n>>> earned_points = float(os.environ.get('EARNED_POINTS', 0))\n>>> earned_points += score\n>>> log_variable('2_refining_plot_q', f'{score}, {max_score}', question_id)\n>>> os.environ['EARNED_POINTS'] = str(earned_points)\n>>> responses = update_responses(question_id, str(y_ticks_position))\n",
         "failure_message": "Failed: Y-axis ticks are not positioned on the left.",
         "hidden": false,
         "locked": false,
         "points": 2,
         "success_message": "Success: Y-axis ticks are positioned on the left!"
        }
       ],
       "scored": true,
       "setup": "",
       "teardown": "",
       "type": "doctest"
      }
     ]
    },
    "q7-add-legend": {
     "name": "q7-add-legend",
     "points": null,
     "suites": [
      {
       "cases": [
        {
         "code": ">>> from pykubegrader.telemetry import ensure_responses, log_variable, score_question, submit_question, telemetry, update_responses\n>>> import os\n>>> import base64\n>>> max_question_points = str(2.0)\n>>> earned_points = 0\n>>> os.environ['EARNED_POINTS'] = str(earned_points)\n>>> os.environ['TOTAL_POINTS_FREE_RESPONSE'] = str(44.0)\n>>> log_variable('total-points', f'week8-lecturenotgraded, 2_refining_plot_q', 44.0)\n>>> question_id = 'q7-add-legend-1'\n>>> max_score = 2.0\n>>> score = 0\n>>> condition = True\n>>> assert condition\n>>> if condition:\n...     score = 2.0\n>>> earned_points = float(os.environ.get('EARNED_POINTS', 0))\n>>> earned_points += score\n>>> log_variable('2_refining_plot_q', f'{score}, {max_score}', question_id)\n>>> os.environ['EARNED_POINTS'] = str(earned_points)\n",
         "failure_message": "Failed: Legend is not defined correctly.",
         "hidden": false,
         "locked": false,
         "points": 2,
         "success_message": "Success: Legend is defined correctly!"
        }
       ],
       "scored": true,
       "setup": "",
       "teardown": "",
       "type": "doctest"
      }
     ]
    }
   }
  },
  "varInspector": {
   "cols": {
    "lenName": 16,
    "lenType": 16,
    "lenVar": 40
   },
   "kernels_config": {
    "python": {
     "delete_cmd_postfix": "",
     "delete_cmd_prefix": "del ",
     "library": "var_list.py",
     "varRefreshCmd": "print(var_dic_list())"
    },
    "r": {
     "delete_cmd_postfix": ") ",
     "delete_cmd_prefix": "rm(",
     "library": "var_list.r",
     "varRefreshCmd": "cat(var_dic_list()) "
    }
   },
   "types_to_exclude": [
    "module",
    "function",
    "builtin_function_or_method",
    "instance",
    "_Feature"
   ],
   "window_display": false
  }
 },
 "nbformat": 4,
 "nbformat_minor": 2
}
