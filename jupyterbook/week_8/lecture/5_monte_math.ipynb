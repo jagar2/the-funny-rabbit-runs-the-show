{
 "cells": [
  {
   "cell_type": "markdown",
   "id": "0",
   "metadata": {},
   "source": [
    "# Monte Carlo Math\n",
    "\n",
    "## Just math with no plotting (much faster!)\n",
    "\n",
    "Rendering graphics is a very slow process. If we just want to estimate π, we can do so much faster with Monte Carlo integration. Here is an example using a single core: "
   ]
  },
  {
   "cell_type": "code",
   "execution_count": null,
   "id": "1",
   "metadata": {},
   "outputs": [],
   "source": [
    "import random\n",
    "import math\n",
    "import time\n",
    "import numpy as np\n",
    "\n",
    "def estimate_pi(num_points):\n",
    "    points_inside_circle = 0\n",
    "    for _ in range(num_points):\n",
    "        x = random.uniform(-1, 1)\n",
    "        y = random.uniform(-1, 1)\n",
    "        if x**2 + y**2 <= 1:\n",
    "            points_inside_circle += 1\n",
    "    return 4 * points_inside_circle / num_points\n",
    "\n",
    "sample_sizes_sequential = np.logspace(1, 8, num=8, base=10.0, dtype=int)\n",
    "time_results = {}\n",
    "accuracy_results = {}\n",
    "for num_samples in sample_sizes_sequential:\n",
    "    start_time = time.time()\n",
    "    estimated_val = estimate_pi(num_samples)\n",
    "    end_time = time.time()\n",
    "    elapsed_time = end_time - start_time\n",
    "    time_results[num_samples] = elapsed_time\n",
    "    accuracy_results[num_samples] = abs(math.pi - estimated_val)\n",
    "    print(f\"Estimated value with {num_samples} samples: {estimated_val} (Time taken: {elapsed_time:.4f} seconds)\")"
   ]
  },
  {
   "cell_type": "markdown",
   "id": "2",
   "metadata": {},
   "source": [
    "## Explanation"
   ]
  },
  {
   "cell_type": "markdown",
   "id": "3",
   "metadata": {},
   "source": [
    "- Area of square = 2 * 2 = 4\n",
    "\n",
    "- Area of circle = π * 1 * 1 = π\n",
    "\n",
    "- Every point generated in (`random.uniform(-1, 1)` by `random.uniform(-1, 1)`) has equal probability of being anywhere inside of 4 unit area square\n",
    "\n",
    "- Probability of falling inside the circle, then, must be:\n",
    "   - $( P = \\frac{\\text{area of circle}}{\\text{area of square}})$\n",
    "   - $( P = \\frac{\\pi}{4})$"
   ]
  },
  {
   "cell_type": "markdown",
   "id": "4",
   "metadata": {},
   "source": [
    "- Since the likelihood of points falling inside or outside the circle is effectively a direct function of their respective areas, the following is also true:\n",
    "\n",
    "    - P = (number points inside circle / number of total points) = (π) / (4) \n",
    "\n",
    "    - Therefore, if we want to estimate π, we multiply P by 4"
   ]
  },
  {
   "cell_type": "markdown",
   "id": "5",
   "metadata": {},
   "source": [
    "# Parallelizing the Monte Carlo π estimation\n",
    "\n",
    "We can parallelize the Monte Carlo π estimation by splitting the total number of points into multiple chunks and estimating π for each chunk in parallel. This significantly reduces the time it takes to estimate π.\n",
    "\n",
    "Here is an example using 128 processes:"
   ]
  },
  {
   "cell_type": "code",
   "execution_count": null,
   "id": "6",
   "metadata": {},
   "outputs": [],
   "source": [
    "import random\n",
    "import math\n",
    "import time\n",
    "from multiprocessing import Pool\n",
    "import numpy as np\n",
    "\n",
    "def estimate_pi(num_points):\n",
    "    points_inside_circle = 0\n",
    "    for _ in range(num_points):\n",
    "        x = random.uniform(-1, 1)\n",
    "        y = random.uniform(-1, 1)\n",
    "        if x**2 + y**2 <= 1:\n",
    "            points_inside_circle += 1\n",
    "    return points_inside_circle\n",
    "\n",
    "def parallel_estimate_pi(num_points, num_processes):\n",
    "    pool = Pool(processes=num_processes)\n",
    "    points_per_process = [num_points // num_processes] * num_processes\n",
    "    results = pool.map(estimate_pi, points_per_process)\n",
    "    pool.close()\n",
    "    pool.join()\n",
    "    total_points_inside_circle = sum(results)\n",
    "    return 4 * total_points_inside_circle / num_points\n",
    "\n",
    "sample_sizes_parallel = np.logspace(1, 9, num=9, base=10.0, dtype=int)\n",
    "num_processes = 128\n",
    "parallel_time_results = {}\n",
    "parallel_accuracy_results = {}\n",
    "\n",
    "for num_samples in sample_sizes_parallel:\n",
    "    start_time = time.time()\n",
    "    estimated_val = parallel_estimate_pi(num_samples, num_processes)\n",
    "    end_time = time.time()\n",
    "    elapsed_time = end_time - start_time\n",
    "    parallel_time_results[num_samples] = elapsed_time\n",
    "    parallel_accuracy_results[num_samples] = abs(math.pi - estimated_val)\n",
    "    print(f\"Estimated value with {num_samples} samples: {estimated_val} (Time taken: {elapsed_time:.4f} seconds)\")\n"
   ]
  },
  {
   "cell_type": "markdown",
   "id": "7",
   "metadata": {},
   "source": [
    "# Numba\n",
    "\n",
    "Numba is a just-in-time compiler for Python that can significantly speed up numerical computations. Here is an example using Numba:"
   ]
  },
  {
   "cell_type": "code",
   "execution_count": null,
   "id": "8",
   "metadata": {},
   "outputs": [],
   "source": [
    "from numba import njit\n",
    "import numpy as np\n",
    "import time\n",
    "\n",
    "@njit(fastmath=True)\n",
    "def numba_estimate_pi(num_points):\n",
    "    points_inside_circle = 0\n",
    "    for _ in range(num_points):\n",
    "        x = np.random.uniform(-1, 1)\n",
    "        y = np.random.uniform(-1, 1)\n",
    "        if x**2 + y**2 <= 1:\n",
    "            points_inside_circle += 1\n",
    "    return 4 * points_inside_circle / num_points\n",
    "\n",
    "# Sample sizes for testing\n",
    "sample_sizes_numba = np.logspace(1, 9, num=9, base=10.0, dtype=int)\n",
    "numba_time_results = {}\n",
    "numba_accuracy_results = {}\n",
    "\n",
    "for num_samples in sample_sizes_numba:\n",
    "    start_time = time.time()\n",
    "    estimated_val = numba_estimate_pi(num_samples)\n",
    "    end_time = time.time()\n",
    "    elapsed_time = end_time - start_time\n",
    "    \n",
    "    # Store results using Python int as keys\n",
    "    numba_time_results[int(num_samples)] = elapsed_time\n",
    "    numba_accuracy_results[int(num_samples)] = abs(math.pi - estimated_val)\n",
    "    print(f\"Estimated value with {num_samples} samples: {estimated_val} (Time taken: {elapsed_time:.4f} seconds)\")\n"
   ]
  },
  {
   "cell_type": "markdown",
   "id": "9",
   "metadata": {},
   "source": [
    "## Analysis of Results\n",
    "\n",
    "We can see that Numba is significantly faster than the sequential and parallel approaches."
   ]
  },
  {
   "cell_type": "code",
   "execution_count": null,
   "id": "10",
   "metadata": {},
   "outputs": [],
   "source": [
    "import matplotlib.pyplot as plt\n",
    "\n",
    "# Convert all sample sizes to Python int\n",
    "sample_sizes_parallel = [int(s) for s in sample_sizes_parallel]\n",
    "sample_sizes_sequential = [int(s) for s in sample_sizes_sequential]  # Assuming same sizes for sequential\n",
    "sample_sizes_numba = [int(s) for s in sample_sizes_numba]\n",
    "\n",
    "# Plotting the time results\n",
    "plt.figure(figsize=(14, 6))\n",
    "\n",
    "# Time taken plot (linear scale)\n",
    "plt.subplot(1, 2, 1)\n",
    "plt.plot(sample_sizes_parallel, [parallel_time_results[int(s)] for s in sample_sizes_parallel], marker='o', label='Parallel Time')\n",
    "plt.plot(sample_sizes_sequential, [time_results[int(s)] for s in sample_sizes_sequential], marker='o', label='Sequential Time')\n",
    "plt.plot(sample_sizes_numba, [numba_time_results[int(s)] for s in sample_sizes_numba], marker='o', label='Numba Time')\n",
    "plt.xlabel('Number of Samples')\n",
    "plt.ylabel('Time (seconds)')\n",
    "plt.title('Time taken to estimate π')\n",
    "plt.legend()\n",
    "plt.grid(True, linestyle='--')\n",
    "\n",
    "# Accuracy plot (linear scale)\n",
    "plt.subplot(1, 2, 2)\n",
    "plt.yscale('log')\n",
    "plt.plot(sample_sizes_parallel, [parallel_accuracy_results[int(s)] for s in sample_sizes_parallel], marker='o', label='Parallel Accuracy')\n",
    "plt.plot(sample_sizes_sequential, [accuracy_results[int(s)] for s in sample_sizes_sequential], marker='o', label='Sequential Accuracy')\n",
    "plt.plot(sample_sizes_numba, [numba_accuracy_results[int(s)] for s in sample_sizes_numba], marker='o', label='Numba Accuracy')\n",
    "plt.xlabel('Number of Samples')\n",
    "plt.ylabel('Error')\n",
    "plt.title('Accuracy of π estimation')\n",
    "plt.legend()\n",
    "plt.grid(True, linestyle='--')\n",
    "\n",
    "plt.tight_layout()\n",
    "plt.show()\n"
   ]
  },
  {
   "cell_type": "code",
   "execution_count": null,
   "id": "11",
   "metadata": {},
   "outputs": [],
   "source": []
  }
 ],
 "metadata": {
  "kernelspec": {
   "display_name": "Python 3",
   "language": "python",
   "name": "python3"
  },
  "language_info": {
   "codemirror_mode": {
    "name": "ipython",
    "version": 3
   },
   "file_extension": ".py",
   "mimetype": "text/x-python",
   "name": "python",
   "nbconvert_exporter": "python",
   "pygments_lexer": "ipython3",
   "version": "3.12.7"
  }
 },
 "nbformat": 4,
 "nbformat_minor": 5
}
