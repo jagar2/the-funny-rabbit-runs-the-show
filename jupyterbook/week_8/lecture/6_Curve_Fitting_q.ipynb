{
 "cells": [
  {
   "cell_type": "code",
   "execution_count": null,
   "id": "0",
   "metadata": {
    "deletable": false,
    "editable": false,
    "tags": [
     "skip-execution"
    ]
   },
   "outputs": [],
   "source": [
    "# You must make sure to run all cells in sequence using shift + enter or you might encounter errors\n",
    "from pykubegrader.initialize import initialize_assignment\n",
    "\n",
    "responses = initialize_assignment(\"6_Curve_Fitting_q\", \"week_8\", \"lecturenotgraded\", assignment_points = 45.0, assignment_tag = 'week8-lecturenotgraded')\n",
    "\n",
    "# Initialize Otter\n",
    "import otter\n",
    "grader = otter.Notebook(\"6_Curve_Fitting_q.ipynb\")"
   ]
  },
  {
   "cell_type": "markdown",
   "id": "1",
   "metadata": {
    "deletable": false,
    "editable": false,
    "slideshow": {
     "slide_type": "slide"
    }
   },
   "source": [
    "# 💻Activity: Curve Fitting\n",
    "\n",
    "Engineers often have to deal with large amounts of raw data. \n",
    "\n",
    "To assist in data analysis it is common to fit a model to data to make useful insights easier.\n",
    "\n",
    "The fitting process happens by performing computations to minimize an objective relationship. \n",
    "\n",
    "There are many optimization methods -- this is a rich field of science and engineering.\n",
    "\n",
    "SciPy is a package for scientific computing in python that has many built in tools for optimization and fitting."
   ]
  },
  {
   "cell_type": "markdown",
   "id": "2",
   "metadata": {
    "deletable": false,
    "editable": false,
    "slideshow": {
     "slide_type": "subslide"
    }
   },
   "source": [
    "## Curve Fitting Example\n",
    "\n",
    "Suppose we have some data on a sine function with some noise included, build a function to generate this data.\n"
   ]
  },
  {
   "cell_type": "code",
   "execution_count": null,
   "id": "3",
   "metadata": {
    "slideshow": {
     "slide_type": "fragment"
    },
    "tags": [
     "skip-execution"
    ]
   },
   "outputs": [],
   "source": [
    "# import numpy as np\n",
    "...\n",
    "\n",
    "# Do not change the random seed\n",
    "np.random.seed(123)\n",
    "\n",
    "# generate a x linear spaced vector from -5 to 5 with 50 points, use the np.linspace function\n",
    "...\n",
    "\n",
    "# generate y data which is 2.9 * np.sin(1.5 * x_data) , add to this some random noise using the np.random.normal function\n",
    "...\n"
   ]
  },
  {
   "cell_type": "code",
   "execution_count": null,
   "id": "4",
   "metadata": {
    "deletable": false,
    "editable": false,
    "tags": [
     "skip-execution"
    ]
   },
   "outputs": [],
   "source": [
    "grader.check(\"generate-sine-data\")"
   ]
  },
  {
   "cell_type": "markdown",
   "id": "5",
   "metadata": {
    "deletable": false,
    "editable": false,
    "slideshow": {
     "slide_type": "fragment"
    }
   },
   "source": [
    "When dealing with data it is usually helpful to visualize the data as a graph"
   ]
  },
  {
   "cell_type": "code",
   "execution_count": null,
   "id": "6",
   "metadata": {
    "slideshow": {
     "slide_type": "fragment"
    },
    "tags": [
     "skip-execution"
    ]
   },
   "outputs": [],
   "source": [
    "# plot the raw data using matplotlib\n",
    "...\n",
    "\n",
    "# plot the x_data and y_data using matplotlib, use the plt.plot function, make the points blue squares using the \"-s\" marker, save to the variable plot_\n",
    "...\n"
   ]
  },
  {
   "cell_type": "code",
   "execution_count": null,
   "id": "7",
   "metadata": {
    "deletable": false,
    "editable": false,
    "tags": [
     "skip-execution"
    ]
   },
   "outputs": [],
   "source": [
    "grader.check(\"generate-initial-plot\")"
   ]
  },
  {
   "cell_type": "markdown",
   "id": "8",
   "metadata": {
    "deletable": false,
    "editable": false,
    "slideshow": {
     "slide_type": "fragment"
    }
   },
   "source": [
    "We know the data lies approximately on a sine wave. We do not know the amplitudes or the period.\n",
    "\n",
    "We can estimate those by least squares curve fitting. First we have to define the test function to fit. In this case, a sine with unknown amplitude and period:"
   ]
  },
  {
   "cell_type": "code",
   "execution_count": null,
   "id": "9",
   "metadata": {
    "slideshow": {
     "slide_type": "fragment"
    },
    "tags": [
     "skip-execution"
    ]
   },
   "outputs": [],
   "source": [
    "# write a function that takes x and a and b and returns a * np.sin(b * x), the sine function with unknown amplitude and period\n",
    "...\n"
   ]
  },
  {
   "cell_type": "code",
   "execution_count": null,
   "id": "10",
   "metadata": {
    "deletable": false,
    "editable": false,
    "tags": [
     "skip-execution"
    ]
   },
   "outputs": [],
   "source": [
    "grader.check(\"make-sine-function\")"
   ]
  },
  {
   "cell_type": "markdown",
   "id": "11",
   "metadata": {
    "deletable": false,
    "editable": false,
    "slideshow": {
     "slide_type": "fragment"
    }
   },
   "source": [
    "We then use scipy.optimize.curve_fit() to find a and b:"
   ]
  },
  {
   "cell_type": "code",
   "execution_count": null,
   "id": "12",
   "metadata": {
    "slideshow": {
     "slide_type": "fragment"
    },
    "tags": [
     "skip-execution"
    ]
   },
   "outputs": [],
   "source": [
    "# import the optimize module from scipy\n",
    "...\n",
    "\n",
    "# Do not change the random seed\n",
    "np.random.seed(123)\n",
    "\n",
    "# use the curve_fit function in optimize to fit the sine_func to the data, use the p0 parameter to set the initial guess for the parameters for the initial guess we can use the values of [2,2 ]\n",
    "...\n",
    "\n",
    "# print the parameters\n",
    "...\n"
   ]
  },
  {
   "cell_type": "code",
   "execution_count": null,
   "id": "13",
   "metadata": {
    "deletable": false,
    "editable": false,
    "tags": [
     "skip-execution"
    ]
   },
   "outputs": [],
   "source": [
    "grader.check(\"scipy-optimize-curve-fit\")"
   ]
  },
  {
   "cell_type": "markdown",
   "id": "14",
   "metadata": {
    "deletable": false,
    "editable": false,
    "slideshow": {
     "slide_type": "subslide"
    }
   },
   "source": [
    "## Question 4 (Points: 10.0): Visualizing our Results"
   ]
  },
  {
   "cell_type": "code",
   "execution_count": null,
   "id": "15",
   "metadata": {
    "slideshow": {
     "slide_type": "fragment"
    },
    "tags": [
     "skip-execution"
    ]
   },
   "outputs": [],
   "source": [
    "# Create a new figure and axis, make it using plt.subplots, and set the figsize to (10, 6)\n",
    "# save the figure to the variable fig, and the axis to the variable ax\n",
    "...\n",
    "\n",
    "# Plot the raw data\n",
    "# save the plot to the variable raw_data_plot, make the points blue circles using the \"bo\" marker, add a label \"Raw data\" using the optional label parameter\n",
    "...\n",
    "\n",
    "# Plot the fitted function \n",
    "# save the plot to the variable fitted_function_plot, make the line red using the \"red\" tag, add a label \"Fitted function\" using the optional label parameter\n",
    "...\n",
    "\n",
    "# Label the axes \"X\" and \"Y\", using the plt.xlabel and plt.ylabel functions\n",
    "...\n",
    "\n",
    "# Set y-axis limits, set the y-axis limits to be 1.2 times the minimum and maximum of the y_data using the plt.ylim function\n",
    "...\n",
    "\n",
    "# Add a legend, set the loc to \"upper right\" using the plt.legend function\n",
    "...\n"
   ]
  },
  {
   "cell_type": "code",
   "execution_count": null,
   "id": "16",
   "metadata": {
    "deletable": false,
    "editable": false,
    "tags": [
     "skip-execution"
    ]
   },
   "outputs": [],
   "source": [
    "grader.check(\"sine-viz-plot\")"
   ]
  },
  {
   "cell_type": "markdown",
   "id": "17",
   "metadata": {
    "deletable": false,
    "editable": false,
    "slideshow": {
     "slide_type": "slide"
    }
   },
   "source": [
    "## Question 5 (Points: 9.0): Example on a Exponential Function"
   ]
  },
  {
   "cell_type": "code",
   "execution_count": null,
   "id": "18",
   "metadata": {
    "slideshow": {
     "slide_type": "fragment"
    },
    "tags": [
     "skip-execution"
    ]
   },
   "outputs": [],
   "source": [
    "# import numpy as np\n",
    "# import the curve_fit function from scipy.optimize\n",
    "# import matplotlib.pyplot as plt\n",
    "...\n",
    "\n",
    "# Reset the random seed and recompute to check reproducibility\n",
    "np.random.seed(123)\n",
    "\n",
    "# Define the exponential function to fit, the expression is a * np.exp(-b * x) + c\n",
    "...\n",
    "\n",
    "# Generate noisy data, from 0 to 4 with 50 points, use the np.linspace function\n",
    "...\n",
    "\n",
    "# generate ydata which is exp_func(xdata, 2.5, 1.3, 0.5) + 0.2 * np.random.normal(size=len(xdata))\n",
    "...\n",
    "\n",
    "# Fit the data, save the fit parameters in popt, and the covariance matrix in pcov\n",
    "...\n",
    "\n",
    "# Plot the data and fitted function, make the points blue circles using the \"bo\" marker, make the line red using the \"red\" tag, add a label \"Raw data\" using the optional label parameter.\n",
    "# save the plot to the variable raw_data_plot\n",
    "...\n",
    "\n",
    "# plot the fitted function using matplotlib, make the line red using the \"red\" tag, add a label \"Fitted function\" using the optional label parameter.\n",
    "# you can pass the parameters to the exp_func function using the * operator to unpack the parameters\n",
    "# save the plot to the variable fitted_function_plot\n",
    "...\n",
    "\n",
    "# add a label for the x-axis \"X\" using the plt.xlabel function\n",
    "...\n",
    "\n",
    "# add a label for the y-axis \"Y\" using the plt.ylabel function\n",
    "...\n",
    "\n",
    "# add a legend to the plot using the plt.legend function, the legend should be in the upper right corner using the \"upper right\" location\n",
    "...\n",
    "\n",
    "plt.show()\n",
    "\n",
    "\n",
    "# calculate the residuals, the difference between the ydata and the fitted function, the residuals are the difference between the ydata and the fitted function\n",
    "...\n",
    "\n",
    "# calculate the sum of the squared residuals, this is a common metric for the quality of the fit, save to the variable ss_res\n",
    "...\n",
    "\n",
    "# calculate the total sum of squares, this is a common metric for the quality of the fit, save to the variable ss_tot\n",
    "...\n",
    "\n",
    "# calculate the r-squared value, this is a common metric for the quality of the fit, the r-squared value is 1 - (ss_res / ss_tot)\n",
    "...\n",
    "\n",
    "# print the r-squared value\n",
    "..."
   ]
  },
  {
   "cell_type": "code",
   "execution_count": null,
   "id": "19",
   "metadata": {
    "deletable": false,
    "editable": false,
    "tags": [
     "skip-execution"
    ]
   },
   "outputs": [],
   "source": [
    "grader.check(\"exponential-function-fit\")"
   ]
  },
  {
   "cell_type": "markdown",
   "id": "20",
   "metadata": {},
   "source": [
    "## Submitting Assignment\n",
    "\n",
    "Please run the following block of code using `shift + enter` to submit your assignment, you should see your score."
   ]
  },
  {
   "cell_type": "code",
   "execution_count": null,
   "id": "21",
   "metadata": {
    "deletable": false,
    "editable": true,
    "tags": [
     "skip-execution"
    ]
   },
   "outputs": [],
   "source": [
    "from pykubegrader.submit.submit_assignment import submit_assignment\n",
    "\n",
    "submit_assignment(\"week8-lecturenotgraded\", \"6_Curve_Fitting_q\")"
   ]
  }
 ],
 "metadata": {
  "celltoolbar": "Slideshow",
  "kernelspec": {
   "display_name": "Python 3",
   "language": "python",
   "name": "python3"
  },
  "language_info": {
   "codemirror_mode": {
    "name": "ipython",
    "version": 3
   },
   "file_extension": ".py",
   "mimetype": "text/x-python",
   "name": "python",
   "nbconvert_exporter": "python",
   "pygments_lexer": "ipython3",
   "version": "3.12.7"
  },
  "otter": {
   "OK_FORMAT": true,
   "tests": {
    "exponential-function-fit": {
     "name": "exponential-function-fit",
     "points": null,
     "suites": [
      {
       "cases": [
        {
         "code": ">>> from pykubegrader.telemetry import ensure_responses, log_variable, score_question, submit_question, telemetry, update_responses\n>>> import os\n>>> import base64\n>>> max_question_points = str(6.0)\n>>> earned_points = 0\n>>> os.environ['EARNED_POINTS'] = str(earned_points)\n>>> os.environ['TOTAL_POINTS_FREE_RESPONSE'] = str(45.0)\n>>> log_variable('total-points', f'week8-lecturenotgraded, 6_Curve_Fitting_q', 45.0)\n>>> question_id = 'exponential-function-fit-1'\n>>> max_score = 1.0\n>>> score = 0\n>>> condition = 'np' in globals() and 'curve_fit' in globals() and ('plt' in globals())\n>>> assert condition, 'Required modules are not imported correctly. Ensure numpy, curve_fit, and matplotlib.pyplot are imported.'\n>>> if condition:\n...     score = 1.0\n>>> earned_points = float(os.environ.get('EARNED_POINTS', 0))\n>>> earned_points += score\n>>> log_variable('6_Curve_Fitting_q', f'{score}, {max_score}', question_id)\n>>> os.environ['EARNED_POINTS'] = str(earned_points)\n>>> responses = update_responses(question_id, str(condition))\n",
         "failure_message": "Failed: Required modules are not imported correctly.",
         "hidden": false,
         "locked": false,
         "points": 1,
         "success_message": "Success: All required modules are imported correctly!"
        },
        {
         "code": ">>> from pykubegrader.telemetry import ensure_responses, log_variable, score_question, submit_question, telemetry, update_responses\n>>> import os\n>>> import base64\n>>> question_id = 'exponential-function-fit-2'\n>>> max_score = 1.0\n>>> score = 0\n>>> condition = 'xdata' in globals() and isinstance(xdata, np.ndarray) and (len(xdata) == 50) and np.isclose(xdata[0], 0) and np.isclose(xdata[-1], 4)\n>>> assert condition, 'xdata is not generated correctly. Ensure np.linspace(0, 4, 50) is used.'\n>>> if condition:\n...     score = 1.0\n>>> earned_points = float(os.environ.get('EARNED_POINTS', 0))\n>>> earned_points += score\n>>> log_variable('6_Curve_Fitting_q', f'{score}, {max_score}', question_id)\n>>> os.environ['EARNED_POINTS'] = str(earned_points)\n>>> responses = update_responses(question_id, str(xdata))\n",
         "failure_message": "Failed: xdata is not generated correctly using np.linspace.",
         "hidden": false,
         "locked": false,
         "points": 1,
         "success_message": "Success: xdata is generated correctly using np.linspace!"
        },
        {
         "code": ">>> from pykubegrader.telemetry import ensure_responses, log_variable, score_question, submit_question, telemetry, update_responses\n>>> import os\n>>> import base64\n>>> question_id = 'exponential-function-fit-3'\n>>> max_score = 2.0\n>>> score = 0\n>>> condition = 'popt' in globals() and 'pcov' in globals() and isinstance(popt, np.ndarray) and isinstance(pcov, np.ndarray) and (len(popt) == 3) and (popt[0] > 2) and (popt[0] < 3) and (popt[1] > 1) and (popt[1] < 2) and (popt[2] > 0) and (popt[2] < 1)\n>>> assert condition, 'curve_fit is not used correctly. Ensure curve_fit(exp_func, xdata, ydata) is used.'\n>>> if condition:\n...     score = 2.0\n>>> earned_points = float(os.environ.get('EARNED_POINTS', 0))\n>>> earned_points += score\n>>> log_variable('6_Curve_Fitting_q', f'{score}, {max_score}', question_id)\n>>> os.environ['EARNED_POINTS'] = str(earned_points)\n>>> responses = update_responses(question_id, str(popt))\n>>> responses = update_responses(question_id, str(pcov))\n",
         "failure_message": "Failed: Data is not fitted correctly using curve_fit.",
         "hidden": false,
         "locked": false,
         "points": 2,
         "success_message": "Success: Data is fitted correctly using curve_fit!"
        },
        {
         "code": ">>> from pykubegrader.telemetry import ensure_responses, log_variable, score_question, submit_question, telemetry, update_responses\n>>> import os\n>>> import base64\n>>> question_id = 'exponential-function-fit-4'\n>>> max_score = 2.0\n>>> score = 0\n>>> residuals_test = ydata - exp_func(xdata, *popt)\n>>> ss_res_test = np.sum(residuals_test ** 2)\n>>> ss_tot_test = np.sum((ydata - np.mean(ydata)) ** 2)\n>>> expected_r_squared = 1 - ss_res_test / ss_tot_test\n>>> condition = 'r_squared' in globals() and np.isclose(r_squared, expected_r_squared)\n>>> assert condition, f'R-squared value is not calculated correctly. Expected {expected_r_squared} but got {r_squared}.'\n>>> if condition:\n...     score = 2.0\n>>> earned_points = float(os.environ.get('EARNED_POINTS', 0))\n>>> earned_points += score\n>>> log_variable('6_Curve_Fitting_q', f'{score}, {max_score}', question_id)\n>>> os.environ['EARNED_POINTS'] = str(earned_points)\n>>> responses = update_responses(question_id, str(r_squared))\n",
         "failure_message": "Failed: R-squared value is not calculated correctly.",
         "hidden": false,
         "locked": false,
         "points": 2,
         "success_message": "Success: R-squared value is calculated correctly!"
        }
       ],
       "scored": true,
       "setup": "",
       "teardown": "",
       "type": "doctest"
      }
     ]
    },
    "generate-initial-plot": {
     "name": "generate-initial-plot",
     "points": null,
     "suites": [
      {
       "cases": [
        {
         "code": ">>> from pykubegrader.telemetry import ensure_responses, log_variable, score_question, submit_question, telemetry, update_responses\n>>> import os\n>>> import base64\n>>> max_question_points = str(6.0)\n>>> earned_points = 0\n>>> os.environ['EARNED_POINTS'] = str(earned_points)\n>>> os.environ['TOTAL_POINTS_FREE_RESPONSE'] = str(45.0)\n>>> log_variable('total-points', f'week8-lecturenotgraded, 6_Curve_Fitting_q', 45.0)\n>>> question_id = 'generate-initial-plot-1'\n>>> max_score = 1.0\n>>> score = 0\n>>> condition = 'plt' in globals()\n>>> assert condition, \"You must import matplotlib.pyplot using the alias 'plt'.\"\n>>> if condition:\n...     score = 1.0\n>>> earned_points = float(os.environ.get('EARNED_POINTS', 0))\n>>> earned_points += score\n>>> log_variable('6_Curve_Fitting_q', f'{score}, {max_score}', question_id)\n>>> os.environ['EARNED_POINTS'] = str(earned_points)\n>>> responses = update_responses(question_id, str(condition))\n",
         "failure_message": "Failed: You must import 'matplotlib.pyplot' using the alias 'plt'.",
         "hidden": false,
         "locked": false,
         "points": 1,
         "success_message": "Success: 'matplotlib.pyplot' is imported as 'plt'!"
        },
        {
         "code": ">>> from pykubegrader.telemetry import ensure_responses, log_variable, score_question, submit_question, telemetry, update_responses\n>>> import os\n>>> import base64\n>>> question_id = 'generate-initial-plot-2'\n>>> max_score = 2.0\n>>> score = 0\n>>> condition = 'plot_' in globals() and isinstance(plot_, list) and (len(plot_) > 0) and (plot_[0].get_xdata().tolist() == x_data.tolist()) and (plot_[0].get_ydata().tolist() == y_data.tolist())\n>>> assert condition, 'x_data and y_data are not correctly plotted. Ensure plt.plot(x_data, y_data) is used and assigned to plot_.'\n>>> if condition:\n...     score = 2.0\n>>> earned_points = float(os.environ.get('EARNED_POINTS', 0))\n>>> earned_points += score\n>>> log_variable('6_Curve_Fitting_q', f'{score}, {max_score}', question_id)\n>>> os.environ['EARNED_POINTS'] = str(earned_points)\n>>> responses = update_responses(question_id, str(x_data))\n>>> responses = update_responses(question_id, str(y_data))\n>>> responses = update_responses(question_id, str(plot_))\n",
         "failure_message": "Failed: x_data and y_data are not correctly plotted using plt.plot().",
         "hidden": false,
         "locked": false,
         "points": 2,
         "success_message": "Success: x_data and y_data are correctly plotted using plt.plot()!"
        },
        {
         "code": ">>> from pykubegrader.telemetry import ensure_responses, log_variable, score_question, submit_question, telemetry, update_responses\n>>> import os\n>>> import base64\n>>> question_id = 'generate-initial-plot-3'\n>>> max_score = 3.0\n>>> score = 0\n>>> line = plot_[0]\n>>> marker = line.get_marker()\n>>> linestyle = line.get_linestyle()\n>>> color = line.get_color()\n>>> expected_marker = 's'\n>>> expected_linestyle = '-'\n>>> expected_color = '#1f77b4'\n>>> condition = marker == expected_marker and linestyle == expected_linestyle and (color == expected_color)\n>>> assert condition, \"Plot style is incorrect. Ensure plt.plot(x_data, y_data, '-s') is used for blue squares.\"\n>>> if condition:\n...     score = 3.0\n>>> earned_points = float(os.environ.get('EARNED_POINTS', 0))\n>>> earned_points += score\n>>> log_variable('6_Curve_Fitting_q', f'{score}, {max_score}', question_id)\n>>> os.environ['EARNED_POINTS'] = str(earned_points)\n>>> responses = update_responses(question_id, str(marker))\n>>> responses = update_responses(question_id, str(linestyle))\n>>> responses = update_responses(question_id, str(color))\n",
         "failure_message": "Failed: The plot does not correctly use blue squares as markers with '-s' style.",
         "hidden": false,
         "locked": false,
         "points": 3,
         "success_message": "Success: The plot correctly uses blue squares as markers with '-s' style!"
        }
       ],
       "scored": true,
       "setup": "",
       "teardown": "",
       "type": "doctest"
      }
     ]
    },
    "generate-sine-data": {
     "name": "generate-sine-data",
     "points": null,
     "suites": [
      {
       "cases": [
        {
         "code": ">>> from pykubegrader.telemetry import ensure_responses, log_variable, score_question, submit_question, telemetry, update_responses\n>>> import os\n>>> import base64\n>>> max_question_points = str(6.0)\n>>> earned_points = 0\n>>> os.environ['EARNED_POINTS'] = str(earned_points)\n>>> os.environ['TOTAL_POINTS_FREE_RESPONSE'] = str(45.0)\n>>> log_variable('total-points', f'week8-lecturenotgraded, 6_Curve_Fitting_q', 45.0)\n>>> question_id = 'generate-sine-data-1'\n>>> max_score = 1.0\n>>> score = 0\n>>> condition = 'np' in globals()\n>>> assert condition, \"You must import numpy using the alias 'np'.\"\n>>> if condition:\n...     score = 1.0\n>>> earned_points = float(os.environ.get('EARNED_POINTS', 0))\n>>> earned_points += score\n>>> log_variable('6_Curve_Fitting_q', f'{score}, {max_score}', question_id)\n>>> os.environ['EARNED_POINTS'] = str(earned_points)\n>>> responses = update_responses(question_id, str(condition))\n",
         "failure_message": "Failed: You must import numpy using the alias 'np'.",
         "hidden": false,
         "locked": false,
         "points": 1,
         "success_message": "Success: 'numpy' is imported as 'np'!"
        },
        {
         "code": ">>> from pykubegrader.telemetry import ensure_responses, log_variable, score_question, submit_question, telemetry, update_responses\n>>> import os\n>>> import base64\n>>> import numpy as np\n>>> question_id = 'generate-sine-data-2'\n>>> max_score = 2.0\n>>> score = 0\n>>> expected_x_data = np.linspace(-5, 5, num=50)\n>>> condition = 'x_data' in globals() and isinstance(x_data, np.ndarray) and (x_data.shape == (50,)) and np.allclose(x_data, expected_x_data)\n>>> assert condition, 'x_data is not correctly generated. Ensure np.linspace(-5, 5, num=50) is used.'\n>>> if condition:\n...     score = 2.0\n>>> earned_points = float(os.environ.get('EARNED_POINTS', 0))\n>>> earned_points += score\n>>> log_variable('6_Curve_Fitting_q', f'{score}, {max_score}', question_id)\n>>> os.environ['EARNED_POINTS'] = str(earned_points)\n>>> responses = update_responses(question_id, str(x_data))\n",
         "failure_message": "Failed: x_data is not correctly generated using np.linspace.",
         "hidden": false,
         "locked": false,
         "points": 2,
         "success_message": "Success: x_data is correctly generated using np.linspace!"
        },
        {
         "code": ">>> from pykubegrader.telemetry import ensure_responses, log_variable, score_question, submit_question, telemetry, update_responses\n>>> import os\n>>> import base64\n>>> question_id = 'generate-sine-data-3'\n>>> max_score = 3.0\n>>> score = 0\n>>> np.random.seed(123)\n>>> expected_y_data = 2.9 * np.sin(1.5 * x_data) + np.random.normal(size=50)\n>>> condition = 'y_data' in globals() and isinstance(y_data, np.ndarray) and (y_data.shape == (50,)) and np.allclose(y_data, expected_y_data)\n>>> assert condition, 'y_data is not correctly generated. Ensure the formula 2.9 * np.sin(1.5 * x_data) + np.random.normal(size=50) is used with the fixed random seed.'\n>>> if condition:\n...     score = 3.0\n>>> earned_points = float(os.environ.get('EARNED_POINTS', 0))\n>>> earned_points += score\n>>> log_variable('6_Curve_Fitting_q', f'{score}, {max_score}', question_id)\n>>> os.environ['EARNED_POINTS'] = str(earned_points)\n>>> responses = update_responses(question_id, str(y_data))\n",
         "failure_message": "Failed: y_data is not correctly generated with the expected noise pattern.",
         "hidden": false,
         "locked": false,
         "points": 3,
         "success_message": "Success: y_data is correctly generated with the expected noise pattern!"
        }
       ],
       "scored": true,
       "setup": "",
       "teardown": "",
       "type": "doctest"
      }
     ]
    },
    "make-sine-function": {
     "name": "make-sine-function",
     "points": null,
     "suites": [
      {
       "cases": [
        {
         "code": ">>> from pykubegrader.telemetry import ensure_responses, log_variable, score_question, submit_question, telemetry, update_responses\n>>> import os\n>>> import base64\n>>> max_question_points = str(8.0)\n>>> earned_points = 0\n>>> os.environ['EARNED_POINTS'] = str(earned_points)\n>>> os.environ['TOTAL_POINTS_FREE_RESPONSE'] = str(45.0)\n>>> log_variable('total-points', f'week8-lecturenotgraded, 6_Curve_Fitting_q', 45.0)\n>>> question_id = 'make-sine-function-1'\n>>> max_score = 1.0\n>>> score = 0\n>>> condition = 'sine_func' in globals() and callable(sine_func)\n>>> assert condition, \"The function 'sine_func' is not defined or named incorrectly. Ensure the function name is 'sine_func'.\"\n>>> if condition:\n...     score = 1.0\n>>> earned_points = float(os.environ.get('EARNED_POINTS', 0))\n>>> earned_points += score\n>>> log_variable('6_Curve_Fitting_q', f'{score}, {max_score}', question_id)\n>>> os.environ['EARNED_POINTS'] = str(earned_points)\n>>> responses = update_responses(question_id, str(condition))\n",
         "failure_message": "Failed: The function 'sine_func' is not defined or named incorrectly.",
         "hidden": false,
         "locked": false,
         "points": 1,
         "success_message": "Success: The function 'sine_func' is defined correctly!"
        },
        {
         "code": ">>> from pykubegrader.telemetry import ensure_responses, log_variable, score_question, submit_question, telemetry, update_responses\n>>> import os\n>>> import base64\n>>> question_id = 'make-sine-function-2'\n>>> max_score = 1.0\n>>> score = 0\n>>> x = np.array([0, np.pi / 2, np.pi])\n>>> a = 2\n>>> b = 1\n>>> result = sine_func(x, a, b)\n>>> condition = isinstance(result, np.ndarray)\n>>> assert condition, 'The function does not return a NumPy array. Ensure you are using NumPy functions correctly.'\n>>> if condition:\n...     score = 1.0\n>>> earned_points = float(os.environ.get('EARNED_POINTS', 0))\n>>> earned_points += score\n>>> log_variable('6_Curve_Fitting_q', f'{score}, {max_score}', question_id)\n>>> os.environ['EARNED_POINTS'] = str(earned_points)\n>>> responses = update_responses(question_id, str(result))\n",
         "failure_message": "Failed: The function does not return a NumPy array.",
         "hidden": false,
         "locked": false,
         "points": 1,
         "success_message": "Success: The function returns a NumPy array!"
        },
        {
         "code": ">>> from pykubegrader.telemetry import ensure_responses, log_variable, score_question, submit_question, telemetry, update_responses\n>>> import os\n>>> import base64\n>>> question_id = 'make-sine-function-3'\n>>> max_score = 2.0\n>>> score = 0\n>>> x = np.array([0, np.pi / 2, np.pi])\n>>> a = 1\n>>> b = 1\n>>> expected_output = np.array([0, 1, 0])\n>>> actual_output = sine_func(x, a, b)\n>>> condition = np.allclose(actual_output, expected_output)\n>>> assert condition, f'Expected {expected_output} but got {actual_output}. Ensure the function is calculating the sine correctly.'\n>>> if condition:\n...     score = 2.0\n>>> earned_points = float(os.environ.get('EARNED_POINTS', 0))\n>>> earned_points += score\n>>> log_variable('6_Curve_Fitting_q', f'{score}, {max_score}', question_id)\n>>> os.environ['EARNED_POINTS'] = str(earned_points)\n>>> responses = update_responses(question_id, str(x))\n>>> responses = update_responses(question_id, str(a))\n>>> responses = update_responses(question_id, str(b))\n>>> responses = update_responses(question_id, str(expected_output))\n>>> responses = update_responses(question_id, str(actual_output))\n",
         "failure_message": "Failed: The function does not calculate the sine correctly for basic inputs.",
         "hidden": false,
         "locked": false,
         "points": 2,
         "success_message": "Success: The function calculates the sine correctly for basic inputs!"
        },
        {
         "code": ">>> from pykubegrader.telemetry import ensure_responses, log_variable, score_question, submit_question, telemetry, update_responses\n>>> import os\n>>> import base64\n>>> question_id = 'make-sine-function-4'\n>>> max_score = 2.0\n>>> score = 0\n>>> x = np.array([0, np.pi / 2, np.pi])\n>>> a = 2\n>>> b = 1\n>>> expected_output = np.array([0, 2, 0])\n>>> actual_output = sine_func(x, a, b)\n>>> condition = np.allclose(actual_output, expected_output)\n>>> assert condition, f\"Expected {expected_output} but got {actual_output}. Ensure the function adjusts the amplitude using 'a'.\"\n>>> if condition:\n...     score = 2.0\n>>> earned_points = float(os.environ.get('EARNED_POINTS', 0))\n>>> earned_points += score\n>>> log_variable('6_Curve_Fitting_q', f'{score}, {max_score}', question_id)\n>>> os.environ['EARNED_POINTS'] = str(earned_points)\n>>> responses = update_responses(question_id, str(x))\n>>> responses = update_responses(question_id, str(a))\n>>> responses = update_responses(question_id, str(b))\n>>> responses = update_responses(question_id, str(expected_output))\n>>> responses = update_responses(question_id, str(actual_output))\n",
         "failure_message": "Failed: The function does not adjust the amplitude correctly.",
         "hidden": false,
         "locked": false,
         "points": 2,
         "success_message": "Success: The function correctly adjusts the amplitude!"
        },
        {
         "code": ">>> from pykubegrader.telemetry import ensure_responses, log_variable, score_question, submit_question, telemetry, update_responses\n>>> import os\n>>> import base64\n>>> question_id = 'make-sine-function-5'\n>>> max_score = 2.0\n>>> score = 0\n>>> x = np.linspace(0, 2 * np.pi, 5)\n>>> a = 3\n>>> b = 1\n>>> expected_output = 3 * np.sin(x)\n>>> actual_output = sine_func(x, a, b)\n>>> condition = np.allclose(actual_output, expected_output)\n>>> assert condition, f'Expected {expected_output} but got {actual_output}. Ensure the function handles multiple input values.'\n>>> if condition:\n...     score = 2.0\n>>> earned_points = float(os.environ.get('EARNED_POINTS', 0))\n>>> earned_points += score\n>>> log_variable('6_Curve_Fitting_q', f'{score}, {max_score}', question_id)\n>>> os.environ['EARNED_POINTS'] = str(earned_points)\n>>> responses = update_responses(question_id, str(x))\n>>> responses = update_responses(question_id, str(a))\n>>> responses = update_responses(question_id, str(b))\n>>> responses = update_responses(question_id, str(expected_output))\n>>> responses = update_responses(question_id, str(actual_output))\n",
         "failure_message": "Failed: The function does not handle multiple input values correctly.",
         "hidden": false,
         "locked": false,
         "points": 2,
         "success_message": "Success: The function handles multiple input values correctly!"
        }
       ],
       "scored": true,
       "setup": "",
       "teardown": "",
       "type": "doctest"
      }
     ]
    },
    "scipy-optimize-curve-fit": {
     "name": "scipy-optimize-curve-fit",
     "points": null,
     "suites": [
      {
       "cases": [
        {
         "code": ">>> from pykubegrader.telemetry import ensure_responses, log_variable, score_question, submit_question, telemetry, update_responses\n>>> import os\n>>> import base64\n>>> max_question_points = str(10.0)\n>>> earned_points = 0\n>>> os.environ['EARNED_POINTS'] = str(earned_points)\n>>> os.environ['TOTAL_POINTS_FREE_RESPONSE'] = str(45.0)\n>>> log_variable('total-points', f'week8-lecturenotgraded, 6_Curve_Fitting_q', 45.0)\n>>> question_id = 'scipy-optimize-curve-fit-1'\n>>> max_score = 1.0\n>>> score = 0\n>>> condition = 'optimize' in globals()\n>>> assert condition, \"You must import 'optimize' from 'scipy'. Ensure the import statement is: 'from scipy import optimize'.\"\n>>> if condition:\n...     score = 1.0\n>>> earned_points = float(os.environ.get('EARNED_POINTS', 0))\n>>> earned_points += score\n>>> log_variable('6_Curve_Fitting_q', f'{score}, {max_score}', question_id)\n>>> os.environ['EARNED_POINTS'] = str(earned_points)\n>>> responses = update_responses(question_id, str(condition))\n",
         "failure_message": "Failed: You must import 'optimize' from 'scipy'.",
         "hidden": false,
         "locked": false,
         "points": 1,
         "success_message": "Success: 'optimize' is imported from 'scipy'!"
        },
        {
         "code": ">>> from pykubegrader.telemetry import ensure_responses, log_variable, score_question, submit_question, telemetry, update_responses\n>>> import os\n>>> import base64\n>>> question_id = 'scipy-optimize-curve-fit-2'\n>>> max_score = 2.0\n>>> score = 0\n>>> condition = 'params' in globals() and 'params_covariance' in globals() and isinstance(params, np.ndarray) and isinstance(params_covariance, np.ndarray) and (params.shape == (2,))\n>>> assert condition, 'curve_fit is not used correctly. Ensure optimize.curve_fit() is used and returns params and params_covariance.'\n>>> if condition:\n...     score = 2.0\n>>> earned_points = float(os.environ.get('EARNED_POINTS', 0))\n>>> earned_points += score\n>>> log_variable('6_Curve_Fitting_q', f'{score}, {max_score}', question_id)\n>>> os.environ['EARNED_POINTS'] = str(earned_points)\n>>> responses = update_responses(question_id, str(params))\n>>> responses = update_responses(question_id, str(params_covariance))\n",
         "failure_message": "Failed: curve_fit is not used correctly to fit the data.",
         "hidden": false,
         "locked": false,
         "points": 2,
         "success_message": "Success: curve_fit is used correctly to fit the data!"
        },
        {
         "code": ">>> from pykubegrader.telemetry import ensure_responses, log_variable, score_question, submit_question, telemetry, update_responses\n>>> import os\n>>> import base64\n>>> question_id = 'scipy-optimize-curve-fit-3'\n>>> max_score = 2.0\n>>> score = 0\n>>> condition = 'params' in globals() and len(params) == 2 and np.allclose(optimize.curve_fit(sine_func, x_data, y_data, p0=[2, 2])[0], params)\n>>> assert condition, 'The initial guess is not set correctly. Ensure p0=[2, 2] is used in curve_fit.'\n>>> if condition:\n...     score = 2.0\n>>> earned_points = float(os.environ.get('EARNED_POINTS', 0))\n>>> earned_points += score\n>>> log_variable('6_Curve_Fitting_q', f'{score}, {max_score}', question_id)\n>>> os.environ['EARNED_POINTS'] = str(earned_points)\n>>> responses = update_responses(question_id, str(params))\n",
         "failure_message": "Failed: The initial guess for curve fitting is not set correctly.",
         "hidden": false,
         "locked": false,
         "points": 2,
         "success_message": "Success: The initial guess for curve fitting is set correctly!"
        },
        {
         "code": ">>> from pykubegrader.telemetry import ensure_responses, log_variable, score_question, submit_question, telemetry, update_responses\n>>> import os\n>>> import base64\n>>> question_id = 'scipy-optimize-curve-fit-4'\n>>> max_score = 2.0\n>>> score = 0\n>>> condition = isinstance(params, np.ndarray) and len(params) == 2 and all((isinstance(p, (float, np.float64)) for p in params)) and (-10 < params[0] < 10) and (-10 < params[1] < 10)\n>>> assert condition, 'Fitted parameters are not in the expected range or are not of type float.'\n>>> if condition:\n...     score = 2.0\n>>> earned_points = float(os.environ.get('EARNED_POINTS', 0))\n>>> earned_points += score\n>>> log_variable('6_Curve_Fitting_q', f'{score}, {max_score}', question_id)\n>>> os.environ['EARNED_POINTS'] = str(earned_points)\n>>> responses = update_responses(question_id, str(params))\n",
         "failure_message": "Failed: The fitted parameters are not in the expected range or not of correct type.",
         "hidden": false,
         "locked": false,
         "points": 2,
         "success_message": "Success: The fitted parameters are in the expected range and of correct type!"
        },
        {
         "code": ">>> from pykubegrader.telemetry import ensure_responses, log_variable, score_question, submit_question, telemetry, update_responses\n>>> import os\n>>> import base64\n>>> question_id = 'scipy-optimize-curve-fit-5'\n>>> max_score = 2.0\n>>> score = 0\n>>> np.random.seed(123)\n>>> recomputed_y_data = 2.9 * np.sin(1.5 * x_data) + np.random.normal(size=50)\n>>> recomputed_params, _ = optimize.curve_fit(sine_func, x_data, recomputed_y_data, p0=[2, 2])\n>>> condition = np.allclose(params, recomputed_params)\n>>> assert condition, 'The curve fitting is not reproducible. Ensure the random seed is fixed with np.random.seed(123).'\n>>> if condition:\n...     score = 2.0\n>>> earned_points = float(os.environ.get('EARNED_POINTS', 0))\n>>> earned_points += score\n>>> log_variable('6_Curve_Fitting_q', f'{score}, {max_score}', question_id)\n>>> os.environ['EARNED_POINTS'] = str(earned_points)\n>>> responses = update_responses(question_id, str(params))\n",
         "failure_message": "Failed: The curve fitting is not reproducible with the fixed random seed.",
         "hidden": false,
         "locked": false,
         "points": 2,
         "success_message": "Success: The curve fitting is reproducible with the fixed random seed!"
        },
        {
         "code": ">>> from pykubegrader.telemetry import ensure_responses, log_variable, score_question, submit_question, telemetry, update_responses\n>>> import os\n>>> import base64\n>>> import re\n>>> from io import StringIO\n>>> import sys\n>>> question_id = 'scipy-optimize-curve-fit-6'\n>>> max_score = 1.0\n>>> score = 0\n>>> output = StringIO()\n>>> sys.stdout = output\n>>> print(params)\n>>> output_value = output.getvalue().strip()\n>>> expected_output = re.escape(np.array2string(params))\n>>> condition = re.search(expected_output, output_value, re.IGNORECASE)\n>>> sys.stdout = sys.__stdout__\n>>> assert condition, f'Expected the printed parameters to be: {params}, but got: {output_value}. Ensure the parameters are printed using print(params).'\n>>> if condition:\n...     score = 1.0\n>>> earned_points = float(os.environ.get('EARNED_POINTS', 0))\n>>> earned_points += score\n>>> log_variable('6_Curve_Fitting_q', f'{score}, {max_score}', question_id)\n>>> os.environ['EARNED_POINTS'] = str(earned_points)\n>>> responses = update_responses(question_id, str(output_value))\n>>> responses = update_responses(question_id, str(params))\n",
         "failure_message": "Failed: The parameters are not printed correctly.",
         "hidden": false,
         "locked": false,
         "points": 1,
         "success_message": "Success: The parameters are printed correctly!"
        }
       ],
       "scored": true,
       "setup": "",
       "teardown": "",
       "type": "doctest"
      }
     ]
    },
    "sine-viz-plot": {
     "name": "sine-viz-plot",
     "points": null,
     "suites": [
      {
       "cases": [
        {
         "code": ">>> from pykubegrader.telemetry import ensure_responses, log_variable, score_question, submit_question, telemetry, update_responses\n>>> import os\n>>> import base64\n>>> max_question_points = str(9.0)\n>>> earned_points = 0\n>>> os.environ['EARNED_POINTS'] = str(earned_points)\n>>> os.environ['TOTAL_POINTS_FREE_RESPONSE'] = str(45.0)\n>>> log_variable('total-points', f'week8-lecturenotgraded, 6_Curve_Fitting_q', 45.0)\n>>> question_id = 'sine-viz-plot-1'\n>>> max_score = 1.0\n>>> score = 0\n>>> condition = 'fig' in globals() and 'ax' in globals() and isinstance(fig, plt.Figure) and isinstance(ax, plt.Axes) and (fig.get_size_inches().tolist() == [10, 6])\n>>> assert condition, 'Figure and axis are not created correctly. Ensure plt.subplots(figsize=(10, 6)) is used.'\n>>> if condition:\n...     score = 1.0\n>>> earned_points = float(os.environ.get('EARNED_POINTS', 0))\n>>> earned_points += score\n>>> log_variable('6_Curve_Fitting_q', f'{score}, {max_score}', question_id)\n>>> os.environ['EARNED_POINTS'] = str(earned_points)\n>>> responses = update_responses(question_id, str(fig))\n>>> responses = update_responses(question_id, str(ax))\n",
         "failure_message": "Failed: Figure and axis are not created correctly with plt.subplots().",
         "hidden": false,
         "locked": false,
         "points": 1,
         "success_message": "Success: Figure and axis are created correctly with plt.subplots()!"
        },
        {
         "code": ">>> from pykubegrader.telemetry import ensure_responses, log_variable, score_question, submit_question, telemetry, update_responses\n>>> import os\n>>> import base64\n>>> question_id = 'sine-viz-plot-2'\n>>> max_score = 2.0\n>>> score = 0\n>>> line = fitted_function_plot[0]\n>>> condition = np.allclose(line.get_xdata(), x_data) and np.allclose(line.get_ydata(), sine_func(x_data, *params)) and (line.get_color() == 'red') and (line.get_label() == 'Fitted function')\n>>> assert condition, \"Fitted function is not plotted correctly. Ensure ax.plot(x_data, sine_func(x_data, *params), color='red', label='Fitted function') is used.\"\n>>> if condition:\n...     score = 2.0\n>>> earned_points = float(os.environ.get('EARNED_POINTS', 0))\n>>> earned_points += score\n>>> log_variable('6_Curve_Fitting_q', f'{score}, {max_score}', question_id)\n>>> os.environ['EARNED_POINTS'] = str(earned_points)\n>>> responses = update_responses(question_id, str(fitted_function_plot))\n",
         "failure_message": "Failed: Fitted function is not plotted correctly with a red line or labeled incorrectly.",
         "hidden": false,
         "locked": false,
         "points": 2,
         "success_message": "Success: Fitted function is plotted correctly with a red line and labeled as 'Fitted function'!"
        },
        {
         "code": ">>> from pykubegrader.telemetry import ensure_responses, log_variable, score_question, submit_question, telemetry, update_responses\n>>> import os\n>>> import base64\n>>> question_id = 'sine-viz-plot-3'\n>>> max_score = 1.0\n>>> score = 0\n>>> x_label = ax.get_xlabel()\n>>> condition = x_label == 'X'\n>>> assert condition, \"X-axis label is not set correctly. Ensure ax.set_xlabel('X') is used.\"\n>>> if condition:\n...     score = 1.0\n>>> earned_points = float(os.environ.get('EARNED_POINTS', 0))\n>>> earned_points += score\n>>> log_variable('6_Curve_Fitting_q', f'{score}, {max_score}', question_id)\n>>> os.environ['EARNED_POINTS'] = str(earned_points)\n>>> responses = update_responses(question_id, str(x_label))\n",
         "failure_message": "Failed: X-axis label is not set correctly as 'X'.",
         "hidden": false,
         "locked": false,
         "points": 1,
         "success_message": "Success: X-axis label is set correctly as 'X'!"
        },
        {
         "code": ">>> from pykubegrader.telemetry import ensure_responses, log_variable, score_question, submit_question, telemetry, update_responses\n>>> import os\n>>> import base64\n>>> question_id = 'sine-viz-plot-4'\n>>> max_score = 1.0\n>>> score = 0\n>>> y_label = ax.get_ylabel()\n>>> condition = y_label == 'Y'\n>>> assert condition, \"Y-axis label is not set correctly. Ensure ax.set_ylabel('Y') is used.\"\n>>> if condition:\n...     score = 1.0\n>>> earned_points = float(os.environ.get('EARNED_POINTS', 0))\n>>> earned_points += score\n>>> log_variable('6_Curve_Fitting_q', f'{score}, {max_score}', question_id)\n>>> os.environ['EARNED_POINTS'] = str(earned_points)\n>>> responses = update_responses(question_id, str(y_label))\n",
         "failure_message": "Failed: Y-axis label is not set correctly as 'Y'.",
         "hidden": false,
         "locked": false,
         "points": 1,
         "success_message": "Success: Y-axis label is set correctly as 'Y'!"
        },
        {
         "code": ">>> from pykubegrader.telemetry import ensure_responses, log_variable, score_question, submit_question, telemetry, update_responses\n>>> import os\n>>> import base64\n>>> question_id = 'sine-viz-plot-5'\n>>> max_score = 2.0\n>>> score = 0\n>>> expected_ymin = min(y_data) * 1.2\n>>> expected_ymax = max(y_data) * 1.2\n>>> y_limits = ax.get_ylim()\n>>> condition = np.isclose(y_limits[0], expected_ymin) and np.isclose(y_limits[1], expected_ymax)\n>>> assert condition, f'Y-axis limits are not set correctly. Expected ({expected_ymin}, {expected_ymax}). Ensure ax.set_ylim(min(y_data)*1.2, max(y_data)*1.2) is used.'\n>>> if condition:\n...     score = 2.0\n>>> earned_points = float(os.environ.get('EARNED_POINTS', 0))\n>>> earned_points += score\n>>> log_variable('6_Curve_Fitting_q', f'{score}, {max_score}', question_id)\n>>> os.environ['EARNED_POINTS'] = str(earned_points)\n>>> responses = update_responses(question_id, str(y_limits))\n",
         "failure_message": "Failed: Y-axis limits are not set correctly.",
         "hidden": false,
         "locked": false,
         "points": 2,
         "success_message": "Success: Y-axis limits are set correctly as 1.2 times the minimum and maximum of y_data!"
        },
        {
         "code": ">>> from pykubegrader.telemetry import ensure_responses, log_variable, score_question, submit_question, telemetry, update_responses\n>>> import os\n>>> import base64\n>>> question_id = 'sine-viz-plot-6'\n>>> max_score = 2.0\n>>> score = 0\n>>> legend = ax.get_legend()\n>>> legend_location = legend._loc\n>>> expected_location = 1\n>>> condition = legend is not None and legend_location == expected_location\n>>> assert condition, \"Legend is not displayed correctly. Ensure ax.legend(loc='upper right') is used.\"\n>>> if condition:\n...     score = 2.0\n>>> earned_points = float(os.environ.get('EARNED_POINTS', 0))\n>>> earned_points += score\n>>> log_variable('6_Curve_Fitting_q', f'{score}, {max_score}', question_id)\n>>> os.environ['EARNED_POINTS'] = str(earned_points)\n>>> responses = update_responses(question_id, str(legend_location))\n",
         "failure_message": "Failed: Legend is not displayed correctly in the upper right corner.",
         "hidden": false,
         "locked": false,
         "points": 2,
         "success_message": "Success: Legend is displayed correctly in the upper right corner!"
        }
       ],
       "scored": true,
       "setup": "",
       "teardown": "",
       "type": "doctest"
      }
     ]
    }
   }
  },
  "varInspector": {
   "cols": {
    "lenName": 16,
    "lenType": 16,
    "lenVar": 40
   },
   "kernels_config": {
    "python": {
     "delete_cmd_postfix": "",
     "delete_cmd_prefix": "del ",
     "library": "var_list.py",
     "varRefreshCmd": "print(var_dic_list())"
    },
    "r": {
     "delete_cmd_postfix": ") ",
     "delete_cmd_prefix": "rm(",
     "library": "var_list.r",
     "varRefreshCmd": "cat(var_dic_list()) "
    }
   },
   "types_to_exclude": [
    "module",
    "function",
    "builtin_function_or_method",
    "instance",
    "_Feature"
   ],
   "window_display": false
  }
 },
 "nbformat": 4,
 "nbformat_minor": 5
}
