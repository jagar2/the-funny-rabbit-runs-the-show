{
 "cells": [
  {
   "cell_type": "code",
   "execution_count": null,
   "id": "0",
   "metadata": {},
   "outputs": [],
   "source": [
    "import seaborn as sns\n",
    "import pandas as pd\n",
    "import matplotlib.pyplot as plt"
   ]
  },
  {
   "cell_type": "code",
   "execution_count": null,
   "id": "1",
   "metadata": {},
   "outputs": [],
   "source": [
    "flights = sns.load_dataset('flights')\n",
    "flights.head()"
   ]
  },
  {
   "cell_type": "code",
   "execution_count": null,
   "id": "2",
   "metadata": {},
   "outputs": [],
   "source": [
    "yearly_data = flights.groupby('year', as_index=False)['passengers'].sum()\n",
    "\n",
    "plt.figure(figsize=(10, 5))\n",
    "plt.plot(yearly_data['year'], yearly_data['passengers'], marker='o')\n",
    "plt.title(\"Annual Total Passengers\")\n",
    "plt.xlabel(\"Year\")\n",
    "plt.ylabel(\"Total Passengers (per year)\")\n",
    "plt.show()"
   ]
  },
  {
   "cell_type": "code",
   "execution_count": null,
   "id": "3",
   "metadata": {},
   "outputs": [],
   "source": [
    "import matplotlib.pyplot as plt\n",
    "\n",
    "data = [\n",
    "    112, 118, 132, 129, 121, 135, 148, 148, 136, 119, 104, 118,\n",
    "    115, 126, 141, 135, 125, 149, 170, 170, 158, 133, 114, 140,\n",
    "    145, 150, 178, 163, 172, 178, 199, 199, 184, 162, 146, 166,\n",
    "    171, 180, 193, 181, 183, 218, 230, 242, 209, 191, 172, 194,\n",
    "    196, 196, 236, 235, 229, 243, 264, 272, 237, 211, 180, 201,\n",
    "    204, 188, 235, 227, 234, 264, 302, 293, 259, 229, 203, 229,\n",
    "    242, 233, 267, 269, 270, 315, 364, 347, 312, 274, 237, 278,\n",
    "    284, 277, 317, 313, 318, 374, 413, 405, 355, 306, 271, 306,\n",
    "    315, 301, 356, 348, 355, 422, 465, 467, 404, 347, 305, 336,\n",
    "    340, 318, 362, 348, 363, 435, 491, 505, 404, 359, 310, 337,\n",
    "    360, 342, 406, 396, 420, 472, 548, 559, 463, 407, 362, 405,\n",
    "    417, 391, 419, 461, 472, 535, 622, 606, 508, 461, 390, 432\n",
    "]\n",
    "\n",
    "x = list(range(len(data)))\n",
    "fig, ax = plt.subplots(figsize=(10,5))\n",
    "ax.scatter(x, data, color='blue')\n",
    "\n",
    "# Major ticks (January) at multiples of 12; minor ticks (June) at January+5\n",
    "jan_ticks = [(year - 1949)*12 for year in range(1949, 1961)]\n",
    "june_ticks = [j+5 for j in jan_ticks]\n",
    "ax.set_xticks(jan_ticks)\n",
    "ax.set_xticklabels([str(year) for year in range(1949, 1961)], rotation=45, ha='right')\n",
    "ax.set_xticks(june_ticks, minor=True)\n",
    "ax.set_xticklabels([\"June\"]*len(june_ticks), minor=True, rotation=45, ha='right', fontsize=9)\n",
    "\n",
    "plt.title(\"Monthly Passengers, 1949–1960\")\n",
    "plt.ylabel(\"Passengers\")\n",
    "plt.tight_layout()\n",
    "plt.show()"
   ]
  },
  {
   "cell_type": "code",
   "execution_count": null,
   "id": "4",
   "metadata": {},
   "outputs": [],
   "source": [
    "import matplotlib.pyplot as plt\n",
    "\n",
    "fig, ax = plt.subplots(figsize=(10,5))\n",
    "scatter = ax.scatter(x, data, c=data, cmap='viridis', alpha=0.9)\n",
    "\n",
    "plt.colorbar(scatter, ax=ax, label=\"Passengers\")\n",
    "plt.title(\"Monthly Passengers, 1949–1960\")\n",
    "plt.ylabel(\"Passengers\")\n",
    "plt.tight_layout()\n",
    "plt.show()"
   ]
  },
  {
   "cell_type": "code",
   "execution_count": null,
   "id": "5",
   "metadata": {},
   "outputs": [],
   "source": [
    "import matplotlib.pyplot as plt\n",
    "\n",
    "# Scale each year’s data to [0..1]\n",
    "year_minmax = {}\n",
    "for y in range(1949, 1961):\n",
    "    start = (y - 1949)*12\n",
    "    subset = data[start:start+12]\n",
    "    year_minmax[y] = (min(subset), max(subset))\n",
    "\n",
    "colors = []\n",
    "for i, val in enumerate(data):\n",
    "    year = 1949 + i//12\n",
    "    yr_min, yr_max = year_minmax[year]\n",
    "    cval = (val - yr_min)/(yr_max - yr_min) if yr_max != yr_min else 0.5\n",
    "    colors.append(cval)\n",
    "\n",
    "x = list(range(len(data)))\n",
    "fig, ax = plt.subplots(figsize=(10, 5))\n",
    "scatter = ax.scatter(x, data, c=colors, cmap='viridis')\n",
    "plt.colorbar(scatter, ax=ax, label=\"Relative scale by year\")\n",
    "\n",
    "# Mark January/June\n",
    "jan_ticks = [(yr - 1949)*12 for yr in range(1949, 1961)]\n",
    "june_ticks = [j+5 for j in jan_ticks]\n",
    "ax.set_xticks(jan_ticks)\n",
    "ax.set_xticklabels([str(yr) for yr in range(1949, 1961)], rotation=45, ha='right')\n",
    "ax.set_xticks(june_ticks, minor=True)\n",
    "ax.set_xticklabels([\"June\"]*len(june_ticks), minor=True, rotation=45, ha='right', fontsize=9)\n",
    "\n",
    "plt.title(\"Monthly Passengers\")\n",
    "plt.ylabel(\"Passengers\")\n",
    "plt.tight_layout()\n",
    "plt.show()"
   ]
  },
  {
   "cell_type": "code",
   "execution_count": null,
   "id": "6",
   "metadata": {},
   "outputs": [],
   "source": [
    "flights_pivot = flights.pivot(index=\"year\", columns=\"month\", values=\"passengers\")\n",
    "flights_pivot = flights_pivot[::-1]  # Reverses the index order\n",
    "plt.figure(figsize=(10, 7))\n",
    "sns.heatmap(flights_pivot, cmap=\"YlGnBu\", annot=True, fmt=\"d\")\n",
    "plt.title(\"Airline Passengers by Month and Year\")\n",
    "plt.ylabel(\"Year\")\n",
    "plt.xlabel(\"Month\")\n",
    "plt.show()"
   ]
  }
 ],
 "metadata": {
  "kernelspec": {
   "display_name": "Python 3",
   "language": "python",
   "name": "python3"
  },
  "language_info": {
   "codemirror_mode": {
    "name": "ipython",
    "version": 3
   },
   "file_extension": ".py",
   "mimetype": "text/x-python",
   "name": "python",
   "nbconvert_exporter": "python",
   "pygments_lexer": "ipython3",
   "version": "3.12.7"
  }
 },
 "nbformat": 4,
 "nbformat_minor": 5
}
