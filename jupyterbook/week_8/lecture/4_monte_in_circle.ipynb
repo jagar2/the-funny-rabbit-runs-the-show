{
 "cells": [
  {
   "cell_type": "markdown",
   "id": "0",
   "metadata": {},
   "source": [
    "# Monte Carlo in a Circle\n",
    "\n",
    "Is anything particularly interesting visualized if we randomly distribute points in a 2 dimensional, -1 by 1 grid on which is plotted a circle of radius 1 centered at (0,0)?\n",
    "\n",
    "Monte Carlo simulations are a class of computational algorithms that rely on repeated random sampling to obtain numerical results. They are often used to model phenomena with significant uncertainty in inputs, such as the calculation of risk in business or the simulation of physical and mathematical systems. The basic idea is to use random numbers to simulate the behavior of a complex system, and then use the results to make predictions about the system's behavior.\n"
   ]
  },
  {
   "cell_type": "markdown",
   "id": "1",
   "metadata": {},
   "source": [
    "## Import required packages\n",
    "\n",
    "We will need packages to handle stats and visualization."
   ]
  },
  {
   "cell_type": "code",
   "execution_count": null,
   "id": "2",
   "metadata": {},
   "outputs": [],
   "source": [
    "from IPython.display import display, clear_output\n",
    "import matplotlib.pyplot as plt\n",
    "import numpy as np\n",
    "import random\n",
    "import math\n",
    "import time"
   ]
  },
  {
   "cell_type": "markdown",
   "id": "3",
   "metadata": {},
   "source": [
    "## Plot a circle of radius 1, centered at (0,0)"
   ]
  },
  {
   "cell_type": "code",
   "execution_count": null,
   "id": "4",
   "metadata": {},
   "outputs": [],
   "source": [
    "#Initialize plot \n",
    "fig, ax = plt.subplots()\n",
    "\n",
    "#Set limits of visualization\n",
    "ax.set_xlim(-1.1, 1.1)\n",
    "ax.set_ylim(-1.1, 1.1)\n",
    "\n",
    "#Place circle on plot \n",
    "circle = plt.Circle((0, 0), 1, fill=False, color='green', linewidth=2)\n",
    "ax.add_artist(circle)"
   ]
  },
  {
   "cell_type": "markdown",
   "id": "5",
   "metadata": {},
   "source": [
    "## Generate Data"
   ]
  },
  {
   "cell_type": "code",
   "execution_count": null,
   "id": "6",
   "metadata": {},
   "outputs": [],
   "source": [
    "#Initialize variables \n",
    "num_samples = 1000\n",
    "points_inside_circle = 0\n",
    "x_data, y_data = [], []\n",
    "\n",
    "#Loop through desired sample to generate values for x and y based on uniform distribution \n",
    "for i in range(num_samples):\n",
    "        x = random.uniform(-1, 1)\n",
    "        y = random.uniform(-1, 1)\n",
    "        x_data.append(x)\n",
    "        y_data.append(y)\n",
    "        distance = math.sqrt(x**2 + y**2)\n",
    "        if distance <= 1:\n",
    "                points_inside_circle += 1 "
   ]
  },
  {
   "cell_type": "markdown",
   "id": "7",
   "metadata": {},
   "source": [
    "## Plot data\n",
    "\n",
    "What is the ratio of points inside the circle vs. total points?"
   ]
  },
  {
   "cell_type": "code",
   "execution_count": null,
   "id": "8",
   "metadata": {},
   "outputs": [],
   "source": [
    "#Initialize plots for data inside circle and outside circle with different colors  \n",
    "inside_scat = ax.scatter([], [], color='blue', s=5)\n",
    "outside_scat = ax.scatter([], [], color='red', s=5) \n",
    "\n",
    "#Initialize variables to be populated with data for points inside vs outside circle\n",
    "inside_x, inside_y = [], []\n",
    "outside_x, outside_y = [], []\n",
    "points_inside = 0\n",
    "\n",
    "#Initialize text location\n",
    "info_text = ax.text(-1.25, 1.15, \"\", fontsize=12, color=\"black\")\n",
    "\n",
    "#Loop through samples to populate inside/outside x and y points \n",
    "for i in range(num_samples):\n",
    "        #if a point is inside the circle, add it the appropriate list \n",
    "        if (x_data[i])**2 + (y_data[i])**2 <= 1:\n",
    "            inside_x.append(x_data[i])\n",
    "            inside_y.append(y_data[i])\n",
    "            points_inside += 1\n",
    "        #otherwise, add it to the other list\n",
    "        else:\n",
    "            outside_x.append(x_data[i])\n",
    "            outside_y.append(y_data[i])\n",
    "\n",
    "        #combine and formatt both sets of data \n",
    "        offsets_in = np.array(list(zip(inside_x, inside_y)))\n",
    "        offsets_out = np.array(list(zip(outside_x, outside_y)))\n",
    "\n",
    "        #make sure that both sets of data are the correct shape, even if they are empty\n",
    "        if offsets_in.ndim != 2:\n",
    "            offsets_in = np.empty((0, 2))\n",
    "        if offsets_out.ndim != 2:\n",
    "            offsets_out = np.empty((0, 2))\n",
    "       \n",
    "        #add data to figure \n",
    "        inside_scat.set_offsets(offsets_in)\n",
    "        outside_scat.set_offsets(offsets_out)\n",
    "\n",
    "\n",
    "        total_points = len(inside_x) + len(outside_x)\n",
    "        if total_points > 0:\n",
    "            ratio_current = 4 * (len(inside_x) / total_points)\n",
    "        else:\n",
    "            ratio_current = 0.0\n",
    "        info_text.set_text(\n",
    "        f\"On iteration: {i+1}\\n\"\n",
    "        f\"Ratio of (points inside circle):(total points): {ratio_current:.2f}\"    \n",
    "        )\n",
    "        \n",
    "        #animate addition of new points \n",
    "        clear_output(wait=True)\n",
    "        display(fig)\n",
    "        time.sleep(0.001)        "
   ]
  },
  {
   "cell_type": "markdown",
   "id": "9",
   "metadata": {},
   "source": [
    "This helps explain how random numbers can be used to determine physics problems. \n",
    "\n",
    "# ## Examples of Monte Carlo Simulations\n",
    " \n",
    "Monte Carlo simulations are used in a variety of fields to solve problems that might be deterministic in principle but are too complex to solve directly. Here are a few examples:\n",
    "\n",
    "1. **Finance**: Monte Carlo simulations are used to model the probability of different outcomes in financial markets, including the pricing of options and other derivatives, risk management, and portfolio optimization.\n",
    "\n",
    "2. **Physics**: In physics, Monte Carlo methods are used to simulate the behavior of particles, such as in the study of statistical mechanics, quantum mechanics, and particle physics.\n",
    "\n",
    "3. **Engineering**: Engineers use Monte Carlo simulations to assess the reliability and performance of systems and components, such as in the analysis of structural reliability, network performance, and manufacturing processes.\n",
    "\n",
    "4. **Medicine**: In medical research, Monte Carlo simulations are used to model the spread of diseases, the effectiveness of treatments, and the planning of radiation therapy for cancer patients.\n",
    "\n",
    "5. **Environmental Science**: Monte Carlo methods are used to model complex environmental systems, such as climate change predictions, the dispersion of pollutants, and the assessment of ecological risks.\n",
    "\n",
    "6. **Computer Graphics**: Monte Carlo algorithms are used in computer graphics to simulate the interaction of light with surfaces, which helps in rendering realistic images and animations.\n",
    "\n",
    "7. **Game Development**: Game developers use Monte Carlo simulations to create realistic scenarios and behaviors in games, such as simulating the roll of dice, the shuffle of cards, or the movement of characters.\n",
    "\n",
    "These examples illustrate the versatility and power of Monte Carlo simulations in solving complex problems across various domains."
   ]
  }
 ],
 "metadata": {
  "kernelspec": {
   "display_name": "Python 3",
   "language": "python",
   "name": "python3"
  },
  "language_info": {
   "codemirror_mode": {
    "name": "ipython",
    "version": 3
   },
   "file_extension": ".py",
   "mimetype": "text/x-python",
   "name": "python",
   "nbconvert_exporter": "python",
   "pygments_lexer": "ipython3",
   "version": "3.12.7"
  }
 },
 "nbformat": 4,
 "nbformat_minor": 5
}
