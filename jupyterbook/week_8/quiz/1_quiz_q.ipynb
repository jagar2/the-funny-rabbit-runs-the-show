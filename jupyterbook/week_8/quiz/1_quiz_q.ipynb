{
 "cells": [
  {
   "cell_type": "code",
   "execution_count": null,
   "id": "0",
   "metadata": {
    "tags": [
     "skip-execution"
    ]
   },
   "outputs": [],
   "source": [
    "from pykubegrader.tokens.validate_token import validate_token\n",
    "validate_token('type the key provided by your instructor here', assignment = 'week8-quiz')\n"
   ]
  },
  {
   "cell_type": "code",
   "execution_count": null,
   "metadata": {
    "deletable": false,
    "editable": false,
    "tags": [
     "skip-execution"
    ]
   },
   "outputs": [],
   "source": [
    "validate_token(assignment = 'week8-quiz')\n",
    "\n",
    "# You must make sure to run all cells in sequence using shift + enter or you might encounter errors\n",
    "from pykubegrader.initialize import initialize_assignment\n",
    "\n",
    "responses = initialize_assignment(\"1_quiz_q\", \"week_8\", \"quiz\", assignment_points = 12.0, assignment_tag = 'week8-quiz')\n",
    "\n",
    "# Initialize Otter\n",
    "import otter\n",
    "grader = otter.Notebook(\"1_quiz_q.ipynb\")"
   ]
  },
  {
   "cell_type": "markdown",
   "metadata": {
    "deletable": false,
    "editable": false
   },
   "source": [
    "# ❓Quiz: Implicit Equation Plotting"
   ]
  },
  {
   "cell_type": "markdown",
   "metadata": {
    "deletable": false,
    "editable": false
   },
   "source": [
    "## 📌 Mathematical Equations"
   ]
  },
  {
   "cell_type": "markdown",
   "metadata": {
    "deletable": false,
    "editable": false
   },
   "source": [
    "$$\n",
    "\\text{eq1:} \\quad \\left(\\frac{x}{7}\\right)^2 \\sqrt{\\frac{\\left| |x| - 3 \\right|}{|x| - 3}} + \\left(\\frac{y}{3}\\right)^2 \\sqrt{\\frac{\\left| y + \\frac{3}{7}\\sqrt{33} \\right|}{y + \\frac{3}{7}\\sqrt{33}}} - 1\n",
    "$$\n",
    "\n",
    "$$\n",
    "\\text{eq2:} \\quad \\left| \\frac{x}{2} \\right| - \\frac{3\\sqrt{33} - 7}{112}x^2 - 3 + \\sqrt{1 - \\left(| |x| - 2 | - 1\\right)^2} - y\n",
    "$$\n",
    "\n",
    "$$\n",
    "\\text{eq3:} \\quad 9\\sqrt{\\frac{\\left| (|x| - 1)(|x| - 0.75) \\right|}{(1 - |x|)(|x| - 0.75)}} - 8|x| - y\n",
    "$$\n"
   ]
  },
  {
   "cell_type": "code",
   "execution_count": null,
   "metadata": {
    "tags": [
     "skip-execution"
    ]
   },
   "outputs": [],
   "source": [
    "# Importing the necessary libraries\n",
    "# The following libraries are used in the code below\n",
    "# import sqrt, meshgrid, arange from numpy\n",
    "# pyplot from matplotlib as plt\n",
    "# division from __future__ to make sure that the division is float division\n",
    "# The code below is written in Python 3\n",
    "...\n",
    "\n",
    "# Define the grid range\n",
    "xs = arange(-7.25, 7.25, 0.01)\n",
    "ys = arange(-5, 5, 0.01)\n",
    "x, y = meshgrid(xs, ys)\n",
    "\n",
    "# Predefine the equations\n",
    "eq4 = (3 * abs(x) + 0.75 * sqrt(abs((abs(x) - 0.75) * (abs(x) - 0.5)) / ((0.75 - abs(x)) * (abs(x) - 0.5))) - y)\n",
    "eq5 = (2.25 * sqrt(abs((x - 0.5) * (x + 0.5)) / ((0.5 - x) * (0.5 + x))) - y)\n",
    "eq6 = (6 * sqrt(10) / 7 + (1.5 - 0.5 * abs(x)) * sqrt(abs(abs(x) - 1) / (abs(x) - 1)) - (6 * sqrt(10) / 14) * sqrt(4 - (abs(x) - 1)**2) - y)"
   ]
  },
  {
   "cell_type": "code",
   "execution_count": null,
   "metadata": {
    "deletable": false,
    "editable": false,
    "tags": [
     "skip-execution"
    ]
   },
   "outputs": [],
   "source": [
    "grader.check(\"q1-import-libraries\")"
   ]
  },
  {
   "cell_type": "markdown",
   "metadata": {
    "deletable": false,
    "editable": false
   },
   "source": [
    "\n",
    "## Question 1 (Points: 2.0): 📌 Mathematical Equations\n",
    "### Computing the first equation\n",
    "$$\n",
    "\\text{eq1:} \\quad \\left(\\frac{x}{7}\\right)^2 \\sqrt{\\frac{\\left| |x| - 3 \\right|}{|x| - 3}} + \\left(\\frac{y}{3}\\right)^2 \\sqrt{\\frac{\\left| y + \\frac{3}{7}\\sqrt{33} \\right|}{y + \\frac{3}{7}\\sqrt{33}}} - 1\n",
    "$$\n"
   ]
  },
  {
   "cell_type": "code",
   "execution_count": null,
   "metadata": {
    "tags": [
     "skip-execution"
    ]
   },
   "outputs": [],
   "source": [
    "# Define the function to compute the equation 1 as compute_equation_1 with x and y as parameters\n",
    "# The function should return the equation 1 as eq1\n",
    "...\n",
    "    \"\"\"Compute the equation for contour plotting.\"\"\"\n",
    "    ...\n",
    "    # Return the equation 1 as eq1\n",
    "    ...\n",
    "# List of equations to plot\n",
    "# Compute the equation 1 as plot_equation_1\n",
    "...\n",
    "# List of equations to plot as plot_equations\n",
    "...\n",
    "# Generate contour plots for the equations as eq in plot_equations using plt.contour\n",
    "# The contour should be generated for x, y and eq with the level set to 0\n",
    "..."
   ]
  },
  {
   "cell_type": "code",
   "execution_count": null,
   "metadata": {
    "deletable": false,
    "editable": false,
    "tags": [
     "skip-execution"
    ]
   },
   "outputs": [],
   "source": [
    "grader.check(\"q2-compute-the-first-equation\")"
   ]
  },
  {
   "cell_type": "markdown",
   "metadata": {
    "deletable": false,
    "editable": false
   },
   "source": [
    "## Question 2 (Points: 2.0): Compute for equation 2\n",
    "$$\n",
    "\\text{eq2:} \\quad \\left| \\frac{x}{2} \\right| - \\frac{3\\sqrt{33} - 7}{112}x^2 - 3 + \\sqrt{1 - \\left(| |x| - 2 | - 1\\right)^2} - y\n",
    "$$\n",
    "\n"
   ]
  },
  {
   "cell_type": "code",
   "execution_count": null,
   "metadata": {
    "tags": [
     "skip-execution"
    ]
   },
   "outputs": [],
   "source": [
    "# Define the function to compute the equation 2 as compute_equation_2 with x and y as parameters\n",
    "# The function should return the equation 2 as eq2\n",
    "...\n",
    "    \"\"\"Compute the equation for contour plotting.\"\"\"\n",
    "    ...\n",
    "    # Return the equation 2 as eq2\n",
    "    ...\n",
    "\n",
    "# Compute the equation 2 as plot_equation_2\n",
    "...\n",
    "# List of equations to plot as plot_equations with plot_equation_1 and plot_equation_2 \n",
    "...\n",
    "# Generate contour plots for the equations as eq in plot_equations using plt.contour\n",
    "# The contour should be generated for x, y and eq with the level set to 0\n",
    "...\n"
   ]
  },
  {
   "cell_type": "code",
   "execution_count": null,
   "metadata": {
    "deletable": false,
    "editable": false,
    "tags": [
     "skip-execution"
    ]
   },
   "outputs": [],
   "source": [
    "grader.check(\"q3-compute-the-second-equation\")"
   ]
  },
  {
   "cell_type": "markdown",
   "metadata": {
    "deletable": false,
    "editable": false
   },
   "source": [
    "## Question 4 (Points: 6.0): Question 3 (Points: 2.0): Compute Equation 3\n",
    "$$\n",
    "\\text{eq3:} \\quad 9\\sqrt{\\frac{\\left| (|x| - 1)(|x| - 0.75) \\right|}{(1 - |x|)(|x| - 0.75)}} - 8|x| - y\n",
    "$$"
   ]
  },
  {
   "cell_type": "code",
   "execution_count": null,
   "metadata": {
    "tags": [
     "skip-execution"
    ]
   },
   "outputs": [],
   "source": [
    "# Define the function to compute the equation 3 as compute_equation_3 with x and y as parameters\n",
    "# The function should return the equation 3 as eq3\n",
    "...\n",
    "    \"\"\"Compute the equation for contour plotting.\"\"\"\n",
    "    ...\n",
    "    # Return the equation 3 as eq3\n",
    "    ...\n",
    "\n",
    "# Compute the equation 3 as plot_equation_3\n",
    "...\n",
    "# List of equations to plot as plot_equations with plot_equation_1, plot_equation_2 and plot_equation_3\n",
    "...\n",
    "# Generate contour plots for the equations as eq in plot_equations using plt.contour\n",
    "# The contour should be generated for x, y and eq with the level set to 0\n",
    "...\n"
   ]
  },
  {
   "cell_type": "code",
   "execution_count": null,
   "metadata": {
    "deletable": false,
    "editable": false,
    "tags": [
     "skip-execution"
    ]
   },
   "outputs": [],
   "source": [
    "grader.check(\"q4-compute-the-third-equation\")"
   ]
  },
  {
   "cell_type": "markdown",
   "id": "16",
   "metadata": {},
   "source": [
    "## Submitting Assignment\n",
    "\n",
    "Please run the following block of code using `shift + enter` to submit your assignment, you should see your score."
   ]
  },
  {
   "cell_type": "code",
   "execution_count": null,
   "id": "17",
   "metadata": {
    "deletable": false,
    "editable": true,
    "tags": [
     "skip-execution"
    ]
   },
   "outputs": [],
   "source": [
    "from pykubegrader.tokens.validate_token import validate_token\n",
    "validate_token(assignment = 'week8-quiz')\n",
    "\n",
    "\n",
    "from pykubegrader.submit.submit_assignment import submit_assignment\n",
    "\n",
    "submit_assignment(\"week8-quiz\", \"1_quiz_q\")"
   ]
  }
 ],
 "metadata": {
  "kernelspec": {
   "display_name": "engr131_dev",
   "language": "python",
   "name": "python3"
  },
  "language_info": {
   "codemirror_mode": {
    "name": "ipython",
    "version": 3
   },
   "file_extension": ".py",
   "mimetype": "text/x-python",
   "name": "python",
   "nbconvert_exporter": "python",
   "pygments_lexer": "ipython3",
   "version": "3.12.7"
  },
  "otter": {
   "OK_FORMAT": true,
   "tests": {
    "q1-import-libraries": {
     "name": "q1-import-libraries",
     "points": null,
     "suites": [
      {
       "cases": [
        {
         "code": ">>> from pykubegrader.telemetry import ensure_responses, log_variable, score_question, submit_question, telemetry, update_responses\n>>> import os\n>>> import base64\n>>> from pykubegrader.tokens.validate_token import validate_token\n>>> validate_token(assignment='week8-quiz')\n>>> import sys\n>>> imported_modules = set(sys.modules.keys())\n>>> max_question_points = str(2.0)\n>>> earned_points = 0\n>>> os.environ['EARNED_POINTS'] = str(earned_points)\n>>> os.environ['TOTAL_POINTS_FREE_RESPONSE'] = str(12.0)\n>>> from pykubegrader.tokens.validate_token import validate_token\n>>> validate_token(assignment='week8-quiz')\n>>> log_variable('total-points', f'week8-quiz, 1_quiz_q', 12.0)\n>>> question_id = 'q1-import-libraries-1'\n>>> max_score = 2.0\n>>> score = 0\n>>> required_libraries = {'matplotlib.pyplot', 'numpy', 'math'}\n>>> missing_libraries = required_libraries - imported_modules\n>>> assert not missing_libraries, f'Missing imports: {missing_libraries}. Ensure all required libraries are imported.'\n>>> if not missing_libraries:\n...     score = 2.0\n>>> earned_points = float(os.environ.get('EARNED_POINTS', 0))\n>>> earned_points += score\n>>> log_variable('1_quiz_q', f'{score}, {max_score}', question_id)\n>>> os.environ['EARNED_POINTS'] = str(earned_points)\n>>> responses = update_responses(question_id, str(imported_modules))\n",
         "failure_message": "Failed: One or more required libraries or typing imports are missing.",
         "hidden": false,
         "locked": false,
         "points": 2,
         "success_message": "Success: All required libraries and typing imports are correctly imported!"
        }
       ],
       "scored": true,
       "setup": "",
       "teardown": "",
       "type": "doctest"
      }
     ]
    },
    "q2-compute-the-first-equation": {
     "name": "q2-compute-the-first-equation",
     "points": null,
     "suites": [
      {
       "cases": [
        {
         "code": ">>> from pykubegrader.telemetry import ensure_responses, log_variable, score_question, submit_question, telemetry, update_responses\n>>> import os\n>>> import base64\n>>> from pykubegrader.tokens.validate_token import validate_token\n>>> validate_token(assignment='week8-quiz')\n>>> max_question_points = str(2.0)\n>>> earned_points = 0\n>>> os.environ['EARNED_POINTS'] = str(earned_points)\n>>> os.environ['TOTAL_POINTS_FREE_RESPONSE'] = str(12.0)\n>>> from pykubegrader.tokens.validate_token import validate_token\n>>> validate_token(assignment='week8-quiz')\n>>> log_variable('total-points', f'week8-quiz, 1_quiz_q', 12.0)\n>>> question_id = 'q2-compute-the-first-equation-1'\n>>> max_score = 2.0\n>>> score = 0\n>>> eq1_edge_cases = [compute_equation_1(x, 3) for x in [-7, 0, 7]]\n>>> condition = all((isinstance(val, float) for val in eq1_edge_cases))\n>>> assert condition\n>>> if condition:\n...     score = 2.0\n>>> earned_points = float(os.environ.get('EARNED_POINTS', 0))\n>>> earned_points += score\n>>> log_variable('1_quiz_q', f'{score}, {max_score}', question_id)\n>>> os.environ['EARNED_POINTS'] = str(earned_points)\n>>> responses = update_responses(question_id, str(eq1_edge_cases))\n",
         "failure_message": "Failed: `compute_equation_1()` does not handle edge cases correctly.",
         "hidden": false,
         "locked": false,
         "points": 2,
         "success_message": "Success: `compute_equation_1()` handles edge cases correctly!"
        }
       ],
       "scored": true,
       "setup": "",
       "teardown": "",
       "type": "doctest"
      }
     ]
    },
    "q3-compute-the-second-equation": {
     "name": "q3-compute-the-second-equation",
     "points": null,
     "suites": [
      {
       "cases": [
        {
         "code": ">>> from pykubegrader.telemetry import ensure_responses, log_variable, score_question, submit_question, telemetry, update_responses\n>>> import os\n>>> import base64\n>>> from pykubegrader.tokens.validate_token import validate_token\n>>> validate_token(assignment='week8-quiz')\n>>> max_question_points = str(2.0)\n>>> earned_points = 0\n>>> os.environ['EARNED_POINTS'] = str(earned_points)\n>>> os.environ['TOTAL_POINTS_FREE_RESPONSE'] = str(12.0)\n>>> from pykubegrader.tokens.validate_token import validate_token\n>>> validate_token(assignment='week8-quiz')\n>>> log_variable('total-points', f'week8-quiz, 1_quiz_q', 12.0)\n>>> question_id = 'q3-compute-the-second-equation-1'\n>>> max_score = 2.0\n>>> score = 0\n>>> eq2_edge_cases = [compute_equation_2(x, -3) for x in [-4, 0, 4]]\n>>> condition = all((isinstance(val, float) for val in eq2_edge_cases))\n>>> assert condition\n>>> if condition:\n...     score = 2.0\n>>> earned_points = float(os.environ.get('EARNED_POINTS', 0))\n>>> earned_points += score\n>>> log_variable('1_quiz_q', f'{score}, {max_score}', question_id)\n>>> os.environ['EARNED_POINTS'] = str(earned_points)\n>>> responses = update_responses(question_id, str(eq2_edge_cases))\n",
         "failure_message": "Failed: `compute_equation_2()` does not handle edge cases correctly.",
         "hidden": false,
         "locked": false,
         "points": 2,
         "success_message": "Success: `compute_equation_2()` handles edge cases correctly!"
        }
       ],
       "scored": true,
       "setup": "",
       "teardown": "",
       "type": "doctest"
      }
     ]
    },
    "q4-compute-the-third-equation": {
     "name": "q4-compute-the-third-equation",
     "points": null,
     "suites": [
      {
       "cases": [
        {
         "code": ">>> from pykubegrader.telemetry import ensure_responses, log_variable, score_question, submit_question, telemetry, update_responses\n>>> import os\n>>> import base64\n>>> from pykubegrader.tokens.validate_token import validate_token\n>>> validate_token(assignment='week8-quiz')\n>>> max_question_points = str(6.0)\n>>> earned_points = 0\n>>> os.environ['EARNED_POINTS'] = str(earned_points)\n>>> os.environ['TOTAL_POINTS_FREE_RESPONSE'] = str(12.0)\n>>> from pykubegrader.tokens.validate_token import validate_token\n>>> validate_token(assignment='week8-quiz')\n>>> log_variable('total-points', f'week8-quiz, 1_quiz_q', 12.0)\n>>> question_id = 'q4-compute-the-third-equation-1'\n>>> max_score = 2.0\n>>> score = 0\n>>> num_contours = len(plot_equations)\n>>> condition = num_contours >= 0\n>>> assert condition\n>>> if condition:\n...     score = 2.0\n>>> earned_points = float(os.environ.get('EARNED_POINTS', 0))\n>>> earned_points += score\n>>> log_variable('1_quiz_q', f'{score}, {max_score}', question_id)\n>>> os.environ['EARNED_POINTS'] = str(earned_points)\n>>> responses = update_responses(question_id, str(plot_equations))\n>>> responses = update_responses(question_id, str(num_contours))\n",
         "failure_message": "Failed: Contour plots are not being generated properly.",
         "hidden": false,
         "locked": false,
         "points": 2,
         "success_message": "Success: Contour plots are correctly generated!"
        },
        {
         "code": ">>> from pykubegrader.telemetry import ensure_responses, log_variable, score_question, submit_question, telemetry, update_responses\n>>> import os\n>>> import base64\n>>> from pykubegrader.tokens.validate_token import validate_token\n>>> validate_token(assignment='week8-quiz')\n>>> question_id = 'q4-compute-the-third-equation-2'\n>>> max_score = 2.0\n>>> score = 0\n>>> output_types = [isinstance(eq, type(x)) for eq in plot_equations]\n>>> condition = all(output_types)\n>>> assert condition\n>>> if condition:\n...     score = 2.0\n>>> earned_points = float(os.environ.get('EARNED_POINTS', 0))\n>>> earned_points += score\n>>> log_variable('1_quiz_q', f'{score}, {max_score}', question_id)\n>>> os.environ['EARNED_POINTS'] = str(earned_points)\n>>> responses = update_responses(question_id, str(output_types))\n",
         "failure_message": "Failed: Contour equations do not return arrays!",
         "hidden": false,
         "locked": false,
         "points": 2,
         "success_message": "Success: Contour equations return arrays!"
        },
        {
         "code": ">>> from pykubegrader.telemetry import ensure_responses, log_variable, score_question, submit_question, telemetry, update_responses\n>>> import os\n>>> import base64\n>>> from pykubegrader.tokens.validate_token import validate_token\n>>> validate_token(assignment='week8-quiz')\n>>> question_id = 'q4-compute-the-third-equation-3'\n>>> max_score = 2.0\n>>> score = 0\n>>> num_equations = len([plot_equation_1, plot_equation_2, plot_equation_3, eq4, eq5, eq6])\n>>> condition = num_equations == 6\n>>> assert condition\n>>> if condition:\n...     score = 2.0\n>>> earned_points = float(os.environ.get('EARNED_POINTS', 0))\n>>> earned_points += score\n>>> log_variable('1_quiz_q', f'{score}, {max_score}', question_id)\n>>> os.environ['EARNED_POINTS'] = str(earned_points)\n>>> responses = update_responses(question_id, str(num_equations))\n",
         "failure_message": "Failed: Incorrect number of equations defined!",
         "hidden": false,
         "locked": false,
         "points": 2,
         "success_message": "Success: Correct number of equations are defined!"
        }
       ],
       "scored": true,
       "setup": "",
       "teardown": "",
       "type": "doctest"
      }
     ]
    }
   }
  }
 },
 "nbformat": 4,
 "nbformat_minor": 2
}
