{
 "cells": [
  {
   "cell_type": "code",
   "execution_count": null,
   "metadata": {
    "deletable": false,
    "editable": false,
    "tags": [
     "skip-execution"
    ]
   },
   "outputs": [],
   "source": [
    "# You must make sure to run all cells in sequence using shift + enter or you might encounter errors\n",
    "from pykubegrader.initialize import initialize_assignment\n",
    "\n",
    "responses = initialize_assignment(\"1_homework_q\", \"week_8\", \"homework\", assignment_points = 75.0, assignment_tag = 'week8-homework')\n",
    "\n",
    "# Initialize Otter\n",
    "import otter\n",
    "grader = otter.Notebook(\"1_homework_q.ipynb\")"
   ]
  },
  {
   "attachments": {},
   "cell_type": "markdown",
   "metadata": {
    "deletable": false,
    "editable": false
   },
   "source": [
    "# 💻🧪 Lab 10: Combining Concepts to Build Interoperable Code for Plotting\n",
    "\n",
    "This lab uses all of the concepts we have learned in python programming to make reusable building blocks for generating, plotting, and fitting data. \n",
    "\n",
    "As an engineer you will regularly be presented with noisy data and want to fit that data to a function. In this assignment, we will build some machinery and a coding schema to generate noisy data (since we do not have real data), plot data, and fit the results. We will build tools to simplify the visualization of the results. The code will be designed to be interoperable. If we were to have a new type of data or mathematical expression, we could reuse all the code we have written. "
   ]
  },
  {
   "attachments": {},
   "cell_type": "markdown",
   "metadata": {
    "deletable": false,
    "editable": false
   },
   "source": [
    "## Question 1 (Points: 3.0): Importing Functions\n",
    "\n",
    "Here we will import some packages that we need for this assignment\n",
    "\n",
    "1. import `numpy` as `np`\n",
    "\n",
    "2. import the submodule `matplotlib.pyplot` and assign it to `plt`\n",
    "\n",
    "3. import from `scipy.optimize` the `curve_fit` function"
   ]
  },
  {
   "cell_type": "code",
   "execution_count": null,
   "metadata": {
    "tags": [
     "skip-execution"
    ]
   },
   "outputs": [],
   "source": [
    "# 1. you need to import numpy as np\n",
    "...\n",
    "# 2. You need to import the submodule matplotlib.pyplot and assign it to plt\n",
    "...\n",
    "# 3. You need to import from scipy.optimize the curve_fit function\n",
    "..."
   ]
  },
  {
   "cell_type": "code",
   "execution_count": null,
   "metadata": {
    "deletable": false,
    "editable": false,
    "tags": [
     "skip-execution"
    ]
   },
   "outputs": [],
   "source": [
    "grader.check(\"q1-Importing Functions\")"
   ]
  },
  {
   "attachments": {},
   "cell_type": "markdown",
   "metadata": {
    "deletable": false,
    "editable": false
   },
   "source": [
    "## Question 2 (Points: 13.0): 2. Implementing a Class for MathExpressions\n",
    "\n",
    "In Python and programming in general, it is common to have a base class that adds functionality to an object. For example, if you have a car that you are building, you might want to add blind spot detection. You can create the blind spot detection software and hardware and install it on multiple cars types. We will do the same with a math function. We will build a class that adds a methods to fit and evaluate a math expression. \n",
    "\n",
    "When we build this class we need it to be flexible to accept math functions with a flexible number of input parameters. We implement a fit function where we can input any parameters into the function (this is important for optimization required to fit data), and an evaluate method which uses the parameters set during initialization. \n",
    "\n",
    "Follow these steps:\n",
    "\n",
    "1. Define a `class` `MathExpression`.\n",
    "\n",
    "2. Build an initialization function. \n",
    "- The function should take a variable `func` which is a mathematical function\n",
    "- The function should accept `**kwargs` \n",
    "    - The `kwargs` will be the parameters of the fitting function \n",
    "    - We want to save the `kwargs`, each key-value pair of `kwargs` where the key is the variable name, and `func` as an attribute of the object\n",
    "\n",
    "3. Define a method `fit`.\n",
    "- That accepts a required input `x`, and `**kwargs`\n",
    "- Return the result when you call the objects method `func` that accepts a required input `x`, and `**kwargs`\n",
    "\n",
    "4. Define an method for the `class` `evaluate`.\n",
    "- Takes a required input `x`\n",
    "- Returns the result when you call the objects method `func` that accepts a required input `x`, and the `**kwargs` values set at initialization."
   ]
  },
  {
   "cell_type": "code",
   "execution_count": null,
   "metadata": {
    "tags": [
     "skip-execution"
    ]
   },
   "outputs": [],
   "source": [
    "# 1. define a class MathExpression\n",
    "...\n",
    "    # 2. Use the built in initialization function\n",
    "    # The function should take a variable func which is a mathematical function for generation and fitting (we will define this later)\n",
    "    # The function should accept **kwargs\n",
    "    # The kwargs will be the parameters of the fitting function \n",
    "    ...\n",
    "        \n",
    "        # use the .items() method to extract from kwargs a list of tuples with the key value pairs\n",
    "        # Create a for loop that extracts the key value pairs from the kwargs\n",
    "        #   make sure to unpack the tuple into the variables key and value\n",
    "        # Inside the for loop, use the built in python method setattr to add an attribute to the MathExpression Object \n",
    "        #   for the key, use the variable key, \n",
    "        #   for the value, use the variable value\n",
    "        ...\n",
    "        \n",
    "        # save the kwargs as an attribute of the object named kwargs\n",
    "        ...\n",
    "        \n",
    "        # save the function as an attribute of the object named func\n",
    "        ...\n",
    "        \n",
    "    # 3. for the class, define a method fit that accepts a required input x, and **kwargs\n",
    "    #   x is the points to sample along the x axis\n",
    "    #   **kwargs are new parameters to test\n",
    "    #   Note: this is a requirement of the fitting function\n",
    "    ...\n",
    "        \n",
    "        # return the result when you call the object's method func that accepts a required input x and **kwargs\n",
    "        ...\n",
    "        \n",
    "    # 4. for the class, define a method evaluate that takes a required input x\n",
    "    ...\n",
    "       \n",
    "        # return the result when you call the object's method func that accepts a required input x and the kwargs values set at initialization.\n",
    "        ..."
   ]
  },
  {
   "cell_type": "code",
   "execution_count": null,
   "metadata": {
    "deletable": false,
    "editable": false,
    "tags": [
     "skip-execution"
    ]
   },
   "outputs": [],
   "source": [
    "grader.check(\"q2-Implement MathExpression\")"
   ]
  },
  {
   "attachments": {},
   "cell_type": "markdown",
   "metadata": {
    "deletable": false,
    "editable": false
   },
   "source": [
    "## Question 3 (Points: 3.0): 3. Define a Linear Function\n",
    "\n",
    "$$ Y = slope * x + intercept $$\n",
    "\n",
    "We want to define a simple linear function. A linear model is one of the simplest fitting functions used in science and engineering. It says that an independent variable directly influences a dependent variable. \n",
    "\n",
    "1. Build a function `LinearFunction`\n",
    "- `LinearFunction` should take three inputs: `x` for the independent variable, `m` for the slope, `b` for the intercept.\n",
    "- Return the calculation of `y`, where y = slope * x + intercept. \n",
    "- Make sure to replace slope and intercept with the correct variables."
   ]
  },
  {
   "cell_type": "code",
   "execution_count": null,
   "metadata": {
    "tags": [
     "skip-execution"
    ]
   },
   "outputs": [],
   "source": [
    "# 1. build a function LinearFunction\n",
    "# linear function should take two inputs m - for the slope, and b for the intercept\n",
    "# return the calculation of y, where y = slope * x + intercept. \n",
    "# Make sure to replace slope and intercept with the correct variables.\n",
    "...\n"
   ]
  },
  {
   "cell_type": "code",
   "execution_count": null,
   "metadata": {
    "deletable": false,
    "editable": false,
    "tags": [
     "skip-execution"
    ]
   },
   "outputs": [],
   "source": [
    "grader.check(\"q3 - Linear Function\")"
   ]
  },
  {
   "attachments": {},
   "cell_type": "markdown",
   "metadata": {
    "deletable": false,
    "editable": false
   },
   "source": [
    "## Question 4 (Points: 6.0): 4. Plotting\n",
    "\n",
    "One of the best ways to understand your code is doing what you expect is to visualize the results. We can do this by plotting the data. \n",
    "\n",
    "1. Instantiate an object `Linear_` using the `MathExpression` `Class`.\n",
    "- The input `func` should be the `LinearFunction` you wrote\n",
    "- The variables needed for kwargs must be provided as key value pairs. \n",
    "- In this case, those key value pairs are `m = 1`, and `b = -3`. \n",
    "\n",
    "2. Derive a linearly-spaced vector for the independent variable.\n",
    "- Use the `np.linspace` function to make a linearly-spaced array from `0` to `10` with `100` steps\n",
    "\n",
    "3. call the built-in `evaluate` method of the `LinearFunction` object over the range defined by `x`.\n",
    "- assign the output to a variable `y`\n",
    "\n",
    "4. Use the function `plt.plot` to plot `x` vs `y`.\n",
    "- assign the plot to a variable called `linear_plot`"
   ]
  },
  {
   "cell_type": "code",
   "execution_count": null,
   "metadata": {
    "tags": [
     "skip-execution"
    ]
   },
   "outputs": [],
   "source": [
    "# 1. Instantiate an object Linear_ using the MathExpression Class\n",
    "# The variables needed for the Kwargs m = 1, and b = -3 need to be provided as key value pairs. \n",
    "# example my_function(x=1), this would provide a **kwargs key (x) value (1)\n",
    "\n",
    "...\n",
    "\n",
    "# 2. use the np.linspace function to make a linearly-spaced array from 0 to 10, with 100 steps\n",
    "# save this to the variable x\n",
    "\n",
    "...\n",
    "\n",
    "# 3. call the built-in `evaluate` method of the LinearFunction object over the range defined by x\n",
    "# assign the output to a variable y\n",
    "\n",
    "...\n",
    "\n",
    "# 4. use the function plt.plot to plot x vs y\n",
    "\n",
    "...\n",
    "\n",
    "# we do not need to add more labels to this plot. It was just for testing."
   ]
  },
  {
   "cell_type": "code",
   "execution_count": null,
   "metadata": {
    "deletable": false,
    "editable": false,
    "tags": [
     "skip-execution"
    ]
   },
   "outputs": [],
   "source": [
    "grader.check(\"q4 - Plotting\")"
   ]
  },
  {
   "attachments": {},
   "cell_type": "markdown",
   "metadata": {
    "deletable": false,
    "editable": false
   },
   "source": [
    "# 5. A NoisyFunction\n",
    "\n",
    "You are responsible for making a 3-4 minute VoiceThread submission that briefly explains each function of this class. *You are not responsible for writing any code or comments in this Task.*\n",
    "\n",
    "We have written a function with several useful methods that you might want to use as an engineer. \n",
    "\n",
    "1 It inherits information from an object of type `MathExpression`\n",
    "\n",
    "2 It can generate noisy data, which is to simulate real experimental data.\n",
    "\n",
    "3 It can fit the data to an known function. \n",
    "\n",
    "4 It can fit, plot and format the results for quick visualization."
   ]
  },
  {
   "cell_type": "code",
   "execution_count": null,
   "metadata": {
    "tags": [
     "skip-execution"
    ]
   },
   "outputs": [],
   "source": [
    "# build a class Noisy Function that Inherits MathExpression\n",
    "# This is simply done writing class NoisyFunction(MathExpression)\n",
    "...\n",
    "    # This class does not require any specific initialization variables, but it will require that we pass the inherited variable through.\n",
    "    # we have done this for you \n",
    "    # you should not touch this code. If you do, here it is\n",
    "    # def __init__(self, *args, **kwargs):\n",
    "    #    super().__init__(*args, **kwargs)\n",
    "    ...\n",
    "    # build a function generate noisy data with two required inputs\n",
    "    #   x_range - a list of the minimum and max ranges for to generate the data\n",
    "    #   noise_amplitude - a float from which sets the magnitude of the noise\n",
    "    ...\n",
    "        # use np.linspace to generate x data along the range\n",
    "        # generate 100 points\n",
    "        ...\n",
    "        # call the evaluate method of the base function object to return the true values\n",
    "        ...\n",
    "        # generate the noise vector by multiplying the noise amplitude by an random noise vector of length x  \n",
    "        # the random noise vector should be generated with np.random.randn\n",
    "        ...\n",
    "        # add the noise to the y_true value\n",
    "        # save it in a new variable y\n",
    "        ...\n",
    "        # return x, y, and y_true\n",
    "        ...\n",
    "    # build a function fit_data that takes 2 inputs x and y\n",
    "    ...\n",
    "        # call the curvefit function\n",
    "        # provide the inherited pointed to the function\n",
    "        # For the initial guess provide the true values they are contained within the saved variable kwargs\n",
    "        # You can get the values of a dictionary using the built-in method .values()\n",
    "        # P0 takes a list. You need to convert the values to a list.\n",
    "        # Curvefit should return two values assign them to popt and pcov. \n",
    "        # \n",
    "        # is the fit results\n",
    "        ...\n",
    "        # Return popt and pcov\n",
    "        ...\n",
    "    # build a function plot_fit_results that plots the raw and fit results\n",
    "    # This function should take two input parameters:\n",
    "    #   x_range - a tuple defining the x range to plot\n",
    "    #   noise_amplitude - a float used to control the magnitude of the noise\n",
    "    ...\n",
    "\n",
    "            # use the subplots function in pyplot to create a multiplot figure with 2 columns and 1 row.\n",
    "            # set the figure size = 10, 5 - figsize takes a tuple\n",
    "            # assign the output to two variables fig and axs\n",
    "            ...\n",
    "\n",
    "            # make a list of strings called labels \n",
    "            # The 0th index should be \"True Fit\"\n",
    "            # The 1st index should be \"Noisy Fit\"\n",
    "            ...\n",
    "\n",
    "            # call the generate_noisy_data function from this class\n",
    "            # save the returned variables to x, y, and y_true\n",
    "            ...\n",
    "\n",
    "            # make a look that loops over the axs with enumerate.\n",
    "            # set the iterator equal to the variable i\n",
    "            # set the value equal to the variable ax\n",
    "            ...\n",
    "    \n",
    "                # create a scatterplot on the axis object \n",
    "                # plot x vs y\n",
    "                # make the marker size = 5 (with the `s` tag)\n",
    "                # add a label 'Raw Data' (with the `label` tag)\n",
    "                ...\n",
    "    \n",
    "                # write an if statement that is true if the label of the graph is \"True Fit\". This is ordered by the list labels you created.\n",
    "                ...\n",
    "        \n",
    "                    # if the statement was true on the axis object plot\n",
    "                    # x vs y true\n",
    "                    # make the line red using the 'r' flag\n",
    "                    # add a label as indexed from the list\n",
    "                    ...\n",
    "    \n",
    "                # add an elif statement that is true if the label of the graph is \"Noisy Fit\" this is ordered by the list labels you created.\n",
    "                ...\n",
    "        \n",
    "                    # call the method in the class fit_data\n",
    "                    # This should fit the x and y data\n",
    "                    # have it return the variables popt and pcov\n",
    "                    ...\n",
    "        \n",
    "                    # use the predicted popt and the inherited function to generate the y values for the fit results\n",
    "                    # make sure to unpack the popt list with the * operator\n",
    "                    ...\n",
    "        \n",
    "                    # on the axis object plot\n",
    "                    # x vs y_noisy_fit\n",
    "                    # make the line blue using the 'b' flag\n",
    "                    # add a label as indexed from the list\n",
    "                    ...\n",
    "    \n",
    "                # else passes to the next loop\n",
    "                ...\n",
    "    \n",
    "                # use the set_xlabel method to set the x-label of the graph to 'x'\n",
    "                # use the set_ylabel method to set the y-label of the graph to 'y'\n",
    "                ...\n",
    "    \n",
    "                # call the legend method of the axis object to show the legend\n",
    "                ...\n",
    "            # return the fig object\n",
    "            ..."
   ]
  },
  {
   "cell_type": "code",
   "execution_count": null,
   "metadata": {
    "deletable": false,
    "editable": false,
    "tags": [
     "skip-execution"
    ]
   },
   "outputs": [],
   "source": [
    "grader.check(\"q5 - Noisy Function\")"
   ]
  },
  {
   "attachments": {},
   "cell_type": "markdown",
   "metadata": {
    "deletable": false,
    "editable": false
   },
   "source": [
    "## Question 6 (Points: 11.0): 6. Testing our Class\n",
    "\n",
    "In coding it is always a good idea to run all parts of your code to check it is performing as expected. \n",
    "\n",
    "1. Create a `NoisyFunction` instance for a linear function\n",
    "- Assign this object to the variable `linear_func`\n",
    "- The input `func` should be the `LinearFunction` you wrote\n",
    "- The slope should be `3` and the intercept should be `4`\n",
    "\n",
    "2. Call the proper method of `linear_func` to generate noisy data over the range from 0- $2\\pi$\n",
    "- the noise amplitude is `1`\n",
    "- save the results to `x`, `y`, and `y_true`\n",
    "\n",
    "3. Fit the `x` and `y` data using the proper method of `linear_func`\n",
    "- save the fit results to `popt`, `pcov`\n",
    "- (these names represent the optimal parameters (`popt`) and the parameters' covariance (`pcov`))\n",
    "\n",
    "4. Use the built-in method to plot the fit result\n",
    "- set the range equal to `0` to `16`\n",
    "- set the noise amplitude equal to `0.3`\n",
    "- Save this to the variable plot\n"
   ]
  },
  {
   "cell_type": "code",
   "execution_count": null,
   "metadata": {
    "tags": [
     "skip-execution"
    ]
   },
   "outputs": [],
   "source": [
    "seed = np.random.seed(42)\n",
    "# 1. Create a NoisyFunction instance for a linear function\n",
    "# Assign this object to the variable linear_func\n",
    "# The slope should be 3 and the intercept should be 4\n",
    "...\n",
    "# 2. call the generate_noisy_data function of the object the linear_func to produce noisy data over the range from 0-2pi\n",
    "#   use a tuple to indicate the range from 0-2pi\n",
    "#   the noise amplitude is 1\n",
    "#   save the results to x, y, and y_true\n",
    "...\n",
    "# 3. Fit the data\n",
    "# save the fit results to popt, pcov\n",
    "...\n",
    "\n",
    "# 4. Use the built-in method to plot the fit result\n",
    "# set the range equal to 0 to 16\n",
    "# set the noise amplitude equal to 0.3\n",
    "# Save this to the variable plot\n",
    "..."
   ]
  },
  {
   "cell_type": "code",
   "execution_count": null,
   "metadata": {
    "deletable": false,
    "editable": false,
    "tags": [
     "skip-execution"
    ]
   },
   "outputs": [],
   "source": [
    "grader.check(\"q6 - plotting and fitting\")"
   ]
  },
  {
   "attachments": {},
   "cell_type": "markdown",
   "metadata": {
    "deletable": false,
    "editable": false
   },
   "source": [
    "## Question 7 (Points: 6.0): 7. Defining new math functions\n",
    "\n",
    "Now we can view the flexibility (interoperability) of our code. \n",
    "\n",
    "Define two new functions. Follow the logic of the way you created `LinearFunction`.\n",
    "\n",
    "1. `SineFunction`\n",
    "   \n",
    "$$g(x) = A (sin(2\\pi f x+\\phi))$$\n",
    "\n",
    "where $A$ represents amplitude, $f$ represents the frequency, and $\\phi$ represents the phase.\n",
    "\n",
    "2. `ExponentialFunction`\n",
    "\n",
    "$$h(x) = ae^{bx}$$\n",
    "   "
   ]
  },
  {
   "cell_type": "code",
   "execution_count": null,
   "metadata": {
    "tags": [
     "skip-execution"
    ]
   },
   "outputs": [],
   "source": [
    "# 1. Write the SineFunction here\n",
    "# the inputs should be x, amplitude, frequency, phase\n",
    "...\n",
    "\n",
    "# 2. Write the ExponentialFunction here\n",
    "# the inputs should be x, a, b\n",
    "..."
   ]
  },
  {
   "cell_type": "code",
   "execution_count": null,
   "metadata": {
    "deletable": false,
    "editable": false,
    "tags": [
     "skip-execution"
    ]
   },
   "outputs": [],
   "source": [
    "grader.check(\"q7-new functions\")"
   ]
  },
  {
   "attachments": {},
   "cell_type": "markdown",
   "metadata": {
    "deletable": false,
    "editable": false
   },
   "source": [
    "# 8 Using our class with the sine function\n",
    "\n",
    "Now we can use nearly the same code from Task 7 to test our `SineFunction`.\n",
    "\n",
    "1. Create a `NoisyFunction` instance for the sine function\n",
    "- Assign this object to the variable `sine_func`\n",
    "- The input `func` should be the `SineFunction` you wrote\n",
    "- The amplitude should be 2, the frequency should be .2, and the phase should be .5\n",
    "\n",
    "2. Apply the `generate_noisy_data` method of `sine_func` to produce noisy data over the range from 0-6 $\\pi$\n",
    "- use a tuple to indicate the range from 0-6 $\\pi$\n",
    "- the noise amplitude is 1.5\n",
    "- save the results to `x`, `y`, and `y_true`\n",
    "\n",
    "3. Fit the `x` and `y` data using the proper method of `sine_func`\n",
    "- save the fit results to `popt`, `pcov`\n",
    "\n",
    "4. Use the built-in method to plot the fit results\n",
    "- set the range equal to 0 to 6 $\\pi$\n",
    "- set the noise amplitude equal to 1.5\n",
    "- Save this to the variable `plot`"
   ]
  },
  {
   "cell_type": "code",
   "execution_count": null,
   "metadata": {
    "tags": [
     "skip-execution"
    ]
   },
   "outputs": [],
   "source": [
    "seed = np.random.seed(42)\n",
    "# 1. Create a NoisyFunction instance for a sine function\n",
    "# Assign this object to the variable sine_func\n",
    "# The amplitude should be 2, the frequency should be .2, and the phase should be .5\n",
    "...\n",
    "# 2. evaluate the sine_func to produce noisy data over the range from 0-6pi\n",
    "# the noise amplitude is 1.5\n",
    "# save the results to x, y, and y_true\n",
    "...\n",
    "# 3. Fit the data\n",
    "# save the fit results to popt, pcov\n",
    "...\n",
    "# 4. Use the built-in method to plot the fit results\n",
    "# set the range equal to 0 to 6 pi\n",
    "# set the noise amplitude equal to 1.5\n",
    "# Save this to the variable plot\n",
    "..."
   ]
  },
  {
   "cell_type": "code",
   "execution_count": null,
   "metadata": {
    "deletable": false,
    "editable": false,
    "tags": [
     "skip-execution"
    ]
   },
   "outputs": [],
   "source": [
    "grader.check(\"q8-using the class with new Sine functions\")"
   ]
  },
  {
   "attachments": {},
   "cell_type": "markdown",
   "metadata": {
    "deletable": false,
    "editable": false
   },
   "source": [
    "# 9 Using our class with the Exponential function\n",
    "\n",
    "Now we can use nearly the exact same code to test our Exponential function. We wrote one code that we can use over and over again in different ways!\n",
    "\n",
    "1. Create a `NoisyFunction` instance for a exponential function\n",
    "- Assign this object to the variable `exp_func`\n",
    "- The input `func` should be the `ExponentialFunction` you wrote\n",
    "- `a` should be 2, and `b` should be .2\n",
    "\n",
    "2. Call the proper method of `exp_func` to generate noisy data over the range from 0-6 $\\pi$\n",
    "- use a tuple to indicate the range from 0-6 $\\pi$\n",
    "- the noise amplitude is 1.5\n",
    "- save the results to `x`, `y`, and `y_true`\n",
    "\n",
    "3. Fit the `x` and `y` data using the proper method of `exp_func`\n",
    "- save the fit results to `popt`, `pcov`\n",
    "\n",
    "4. Use the built-in method to plot the fit results\n",
    "- set the range equal to 0 to 6 $\\pi$\n",
    "- set the noise amplitude equal to 1.5\n",
    "- save this to the variable `plot`"
   ]
  },
  {
   "cell_type": "code",
   "execution_count": null,
   "metadata": {
    "tags": [
     "skip-execution"
    ]
   },
   "outputs": [],
   "source": [
    "seed = np.random.seed(42)\n",
    "# 1. Create a NoisyFunction instance for a exponential function\n",
    "# Assign this object to the variable exp_func\n",
    "# The a should be 2, and b should be .2\n",
    "...\n",
    "# 2. evaluate the exp_func to produce noisy data over the range from 0-6pi\n",
    "# the noise amplitude is 1.5\n",
    "# save the results to x, y, and y_true\n",
    "...\n",
    "# 3. Fit the data\n",
    "# save the fit results to popt, pcov\n",
    "...\n",
    "# 4. Use the built-in method to plot the fit results\n",
    "# set the range equal to 0 to 6 pi\n",
    "# set the noise amplitude equal to 1.5\n",
    "# Save this to the variable plot\n",
    "...\n"
   ]
  },
  {
   "cell_type": "code",
   "execution_count": null,
   "metadata": {
    "deletable": false,
    "editable": false,
    "tags": [
     "skip-execution"
    ]
   },
   "outputs": [],
   "source": [
    "grader.check(\"q9-using the class with new exponential functions\")"
   ]
  },
  {
   "cell_type": "markdown",
   "id": "29",
   "metadata": {},
   "source": [
    "## Submitting Assignment\n",
    "\n",
    "Please run the following block of code using `shift + enter` to submit your assignment, you should see your score."
   ]
  },
  {
   "cell_type": "code",
   "execution_count": null,
   "id": "30",
   "metadata": {
    "deletable": false,
    "editable": true,
    "tags": [
     "skip-execution"
    ]
   },
   "outputs": [],
   "source": [
    "from pykubegrader.submit.submit_assignment import submit_assignment\n",
    "\n",
    "submit_assignment(\"week8-homework\", \"1_homework_q\")"
   ]
  }
 ],
 "metadata": {
  "kernelspec": {
   "display_name": "Python 3",
   "language": "python",
   "name": "python3"
  },
  "language_info": {
   "codemirror_mode": {
    "name": "ipython",
    "version": 3
   },
   "file_extension": ".py",
   "mimetype": "text/x-python",
   "name": "python",
   "nbconvert_exporter": "python",
   "pygments_lexer": "ipython3",
   "version": "3.12.7"
  },
  "otter": {
   "OK_FORMAT": true,
   "tests": {
    "q1-Importing Functions": {
     "name": "q1-Importing Functions",
     "points": null,
     "suites": [
      {
       "cases": [
        {
         "code": ">>> from pykubegrader.telemetry import ensure_responses, log_variable, score_question, submit_question, telemetry, update_responses\n>>> import os\n>>> import base64\n>>> max_question_points = str(3.0)\n>>> earned_points = 0\n>>> os.environ['EARNED_POINTS'] = str(earned_points)\n>>> os.environ['TOTAL_POINTS_FREE_RESPONSE'] = str(75.0)\n>>> log_variable('total-points', f'week8-homework, 1_homework_q', 75.0)\n>>> question_id = 'q1-Importing Functions-1'\n>>> max_score = 1.0\n>>> score = 0\n>>> assert np.__version__ is not None\n>>> if np.__version__ is not None:\n...     score = 1.0\n>>> earned_points = float(os.environ.get('EARNED_POINTS', 0))\n>>> earned_points += score\n>>> log_variable('1_homework_q', f'{score}, {max_score}', question_id)\n>>> os.environ['EARNED_POINTS'] = str(earned_points)\n",
         "failure_message": "numpy random incorrectly implemented.",
         "hidden": false,
         "locked": false,
         "points": 1,
         "success_message": "numpy correctly implemented."
        },
        {
         "code": ">>> from pykubegrader.telemetry import ensure_responses, log_variable, score_question, submit_question, telemetry, update_responses\n>>> import os\n>>> import base64\n>>> question_id = 'q1-Importing Functions-2'\n>>> max_score = 1.0\n>>> score = 0\n>>> assert plt.__package__ is not None\n>>> if plt.__package__ is not None:\n...     score = 1.0\n>>> earned_points = float(os.environ.get('EARNED_POINTS', 0))\n>>> earned_points += score\n>>> log_variable('1_homework_q', f'{score}, {max_score}', question_id)\n>>> os.environ['EARNED_POINTS'] = str(earned_points)\n",
         "failure_message": "plt random incorrectly implemented.",
         "hidden": false,
         "locked": false,
         "points": 1,
         "success_message": "plt correctly implemented."
        },
        {
         "code": ">>> from pykubegrader.telemetry import ensure_responses, log_variable, score_question, submit_question, telemetry, update_responses\n>>> import os\n>>> import base64\n>>> question_id = 'q1-Importing Functions-3'\n>>> max_score = 1.0\n>>> score = 0\n>>> assert curve_fit.__name__ is not None\n>>> if curve_fit.__name__ is not None:\n...     score = 1.0\n>>> earned_points = float(os.environ.get('EARNED_POINTS', 0))\n>>> earned_points += score\n>>> log_variable('1_homework_q', f'{score}, {max_score}', question_id)\n>>> os.environ['EARNED_POINTS'] = str(earned_points)\n",
         "failure_message": "plt random incorrectly implemented.",
         "hidden": false,
         "locked": false,
         "points": 1,
         "success_message": "plt correctly implemented."
        }
       ],
       "scored": true,
       "setup": "",
       "teardown": "",
       "type": "doctest"
      }
     ]
    },
    "q2-Implement MathExpression": {
     "name": "q2-Implement MathExpression",
     "points": null,
     "suites": [
      {
       "cases": [
        {
         "code": ">>> from pykubegrader.telemetry import ensure_responses, log_variable, score_question, submit_question, telemetry, update_responses\n>>> import os\n>>> import base64\n>>> max_question_points = str(13.0)\n>>> earned_points = 0\n>>> os.environ['EARNED_POINTS'] = str(earned_points)\n>>> os.environ['TOTAL_POINTS_FREE_RESPONSE'] = str(75.0)\n>>> log_variable('total-points', f'week8-homework, 1_homework_q', 75.0)\n>>> question_id = 'q2-Implement MathExpression-1'\n>>> max_score = 1.0\n>>> score = 0\n>>> assert isinstance(MathExpression, type)\n>>> if isinstance(MathExpression, type):\n...     score = 1.0\n>>> earned_points = float(os.environ.get('EARNED_POINTS', 0))\n>>> earned_points += score\n>>> log_variable('1_homework_q', f'{score}, {max_score}', question_id)\n>>> os.environ['EARNED_POINTS'] = str(earned_points)\n",
         "failure_message": "MathExpression is not a Class",
         "hidden": false,
         "locked": false,
         "points": 1,
         "success_message": "MathExpression is a Class"
        },
        {
         "code": ">>> from pykubegrader.telemetry import ensure_responses, log_variable, score_question, submit_question, telemetry, update_responses\n>>> import os\n>>> import base64\n>>> question_id = 'q2-Implement MathExpression-2'\n>>> max_score = 1.0\n>>> score = 0\n>>> assert '__init__' in dir(MathExpression)\n>>> if '__init__' in dir(MathExpression):\n...     score = 1.0\n>>> earned_points = float(os.environ.get('EARNED_POINTS', 0))\n>>> earned_points += score\n>>> log_variable('1_homework_q', f'{score}, {max_score}', question_id)\n>>> os.environ['EARNED_POINTS'] = str(earned_points)\n",
         "failure_message": "__init__ not implemented.",
         "hidden": false,
         "locked": false,
         "points": 1,
         "success_message": "__init__ implemented."
        },
        {
         "code": ">>> from pykubegrader.telemetry import ensure_responses, log_variable, score_question, submit_question, telemetry, update_responses\n>>> import os\n>>> import base64\n>>> question_id = 'q2-Implement MathExpression-3'\n>>> max_score = 2.0\n>>> score = 0\n>>> out = MathExpression('a', b=1, test='test')\n>>> assert out.kwargs['b'] == 1\n>>> assert out.kwargs['test'] == 'test'\n>>> if out.kwargs['b'] == 1 and out.kwargs['test'] == 'test':\n...     score = 2.0\n>>> earned_points = float(os.environ.get('EARNED_POINTS', 0))\n>>> earned_points += score\n>>> log_variable('1_homework_q', f'{score}, {max_score}', question_id)\n>>> os.environ['EARNED_POINTS'] = str(earned_points)\n",
         "failure_message": "MathExpression inputs kwargs not correctly implemented.",
         "hidden": false,
         "locked": false,
         "points": 2,
         "success_message": "MathExpression inputs kwargs correctly implemented."
        },
        {
         "code": ">>> from pykubegrader.telemetry import ensure_responses, log_variable, score_question, submit_question, telemetry, update_responses\n>>> import os\n>>> import base64\n>>> question_id = 'q2-Implement MathExpression-4'\n>>> max_score = 1.0\n>>> score = 0\n>>> out = MathExpression(np.sum)\n>>> assert out.func is np.sum\n>>> if out.func is np.sum:\n...     score = 1.0\n>>> earned_points = float(os.environ.get('EARNED_POINTS', 0))\n>>> earned_points += score\n>>> log_variable('1_homework_q', f'{score}, {max_score}', question_id)\n>>> os.environ['EARNED_POINTS'] = str(earned_points)\n",
         "failure_message": "MathExpression function input not correctly implemented.",
         "hidden": false,
         "locked": false,
         "points": 1,
         "success_message": "MathExpression function input correctly implemented."
        },
        {
         "code": ">>> from pykubegrader.telemetry import ensure_responses, log_variable, score_question, submit_question, telemetry, update_responses\n>>> import os\n>>> import base64\n>>> question_id = 'q2-Implement MathExpression-5'\n>>> max_score = 1.0\n>>> score = 0\n>>> assert 'fit' in dir(MathExpression)\n>>> if 'fit' in dir(MathExpression):\n...     score = 1.0\n>>> earned_points = float(os.environ.get('EARNED_POINTS', 0))\n>>> earned_points += score\n>>> log_variable('1_homework_q', f'{score}, {max_score}', question_id)\n>>> os.environ['EARNED_POINTS'] = str(earned_points)\n",
         "failure_message": "fit is not implemented.",
         "hidden": false,
         "locked": false,
         "points": 1,
         "success_message": "fit is implemented."
        },
        {
         "code": ">>> from pykubegrader.telemetry import ensure_responses, log_variable, score_question, submit_question, telemetry, update_responses\n>>> import os\n>>> import base64\n>>> question_id = 'q2-Implement MathExpression-6'\n>>> max_score = 3.0\n>>> score = 0\n>>> def test(x, **kwargs):\n...     return (x, kwargs)\n>>> out = MathExpression(test)\n>>> a, b = out.fit(2, a=2, b=3)\n>>> assert a == 2\n>>> assert b == {'a': 2, 'b': 3}\n>>> if a == 2 and b == {'a': 2, 'b': 3}:\n...     score = 3.0\n>>> earned_points = float(os.environ.get('EARNED_POINTS', 0))\n>>> earned_points += score\n>>> log_variable('1_homework_q', f'{score}, {max_score}', question_id)\n>>> os.environ['EARNED_POINTS'] = str(earned_points)\n",
         "failure_message": "fit is not implemented correctly.",
         "hidden": false,
         "locked": false,
         "points": 3,
         "success_message": "fit is implemented correctly."
        },
        {
         "code": ">>> from pykubegrader.telemetry import ensure_responses, log_variable, score_question, submit_question, telemetry, update_responses\n>>> import os\n>>> import base64\n>>> question_id = 'q2-Implement MathExpression-7'\n>>> max_score = 1.0\n>>> score = 0\n>>> assert 'evaluate' in dir(MathExpression)\n>>> if 'evaluate' in dir(MathExpression):\n...     score = 1.0\n>>> earned_points = float(os.environ.get('EARNED_POINTS', 0))\n>>> earned_points += score\n>>> log_variable('1_homework_q', f'{score}, {max_score}', question_id)\n>>> os.environ['EARNED_POINTS'] = str(earned_points)\n",
         "failure_message": "evaluate is not implemented.",
         "hidden": false,
         "locked": false,
         "points": 1,
         "success_message": "evaluate is implemented."
        },
        {
         "code": ">>> from pykubegrader.telemetry import ensure_responses, log_variable, score_question, submit_question, telemetry, update_responses\n>>> import os\n>>> import base64\n>>> question_id = 'q2-Implement MathExpression-8'\n>>> max_score = 3.0\n>>> score = 0\n>>> def test(x, **kwargs):\n...     return (x, kwargs)\n>>> out = MathExpression(test, a=5, b=3)\n>>> a, b = out.evaluate(2)\n>>> assert a == 2\n>>> assert b == {'a': 5, 'b': 3}\n>>> if a == 2 and b == {'a': 5, 'b': 3}:\n...     score = 3.0\n>>> earned_points = float(os.environ.get('EARNED_POINTS', 0))\n>>> earned_points += score\n>>> log_variable('1_homework_q', f'{score}, {max_score}', question_id)\n>>> os.environ['EARNED_POINTS'] = str(earned_points)\n",
         "failure_message": "evaluate is not implemented correctly.",
         "hidden": false,
         "locked": false,
         "points": 3,
         "success_message": "evaluate is implemented correctly."
        }
       ],
       "scored": true,
       "setup": "",
       "teardown": "",
       "type": "doctest"
      }
     ]
    },
    "q3 - Linear Function": {
     "name": "q3 - Linear Function",
     "points": null,
     "suites": [
      {
       "cases": [
        {
         "code": ">>> from pykubegrader.telemetry import ensure_responses, log_variable, score_question, submit_question, telemetry, update_responses\n>>> import os\n>>> import base64\n>>> from inspect import isfunction\n>>> max_question_points = str(3.0)\n>>> earned_points = 0\n>>> os.environ['EARNED_POINTS'] = str(earned_points)\n>>> os.environ['TOTAL_POINTS_FREE_RESPONSE'] = str(75.0)\n>>> log_variable('total-points', f'week8-homework, 1_homework_q', 75.0)\n>>> question_id = 'q3 - Linear Function-1'\n>>> max_score = 1.0\n>>> score = 0\n>>> assert isfunction(LinearFunction)\n>>> if isfunction(LinearFunction):\n...     score = 1.0\n>>> earned_points = float(os.environ.get('EARNED_POINTS', 0))\n>>> earned_points += score\n>>> log_variable('1_homework_q', f'{score}, {max_score}', question_id)\n>>> os.environ['EARNED_POINTS'] = str(earned_points)\n",
         "failure_message": "LinearFunction is not a function",
         "hidden": false,
         "locked": false,
         "points": 1,
         "success_message": "LinearFunction is a function"
        },
        {
         "code": ">>> from pykubegrader.telemetry import ensure_responses, log_variable, score_question, submit_question, telemetry, update_responses\n>>> import os\n>>> import base64\n>>> import inspect\n>>> question_id = 'q3 - Linear Function-2'\n>>> max_score = 1.0\n>>> score = 0\n>>> signature = inspect.signature(LinearFunction)\n>>> num_parameters = len(signature.parameters)\n>>> assert num_parameters == 3\n>>> if num_parameters == 3:\n...     score = 1.0\n>>> earned_points = float(os.environ.get('EARNED_POINTS', 0))\n>>> earned_points += score\n>>> log_variable('1_homework_q', f'{score}, {max_score}', question_id)\n>>> os.environ['EARNED_POINTS'] = str(earned_points)\n",
         "failure_message": "LinearFunction function has the incorrect inputs.",
         "hidden": false,
         "locked": false,
         "points": 1,
         "success_message": "LinearFunction function has the correct inputs."
        },
        {
         "code": ">>> from pykubegrader.telemetry import ensure_responses, log_variable, score_question, submit_question, telemetry, update_responses\n>>> import os\n>>> import base64\n>>> question_id = 'q3 - Linear Function-3'\n>>> max_score = 1.0\n>>> score = 0\n>>> x = np.array([2, 3, 4, 5, 8, 10])\n>>> out = LinearFunction(x, 7, 4)\n>>> assert all(out == [18, 25, 32, 39, 60, 74])\n>>> if all(out == [18, 25, 32, 39, 60, 74]):\n...     score = 1.0\n>>> earned_points = float(os.environ.get('EARNED_POINTS', 0))\n>>> earned_points += score\n>>> log_variable('1_homework_q', f'{score}, {max_score}', question_id)\n>>> os.environ['EARNED_POINTS'] = str(earned_points)\n",
         "failure_message": "LinearFunction function implemented incorrect inputs.",
         "hidden": false,
         "locked": false,
         "points": 1,
         "success_message": "LinearFunction function implemented correctly"
        }
       ],
       "scored": true,
       "setup": "",
       "teardown": "",
       "type": "doctest"
      }
     ]
    },
    "q4 - Plotting": {
     "name": "q4 - Plotting",
     "points": null,
     "suites": [
      {
       "cases": [
        {
         "code": ">>> from pykubegrader.telemetry import ensure_responses, log_variable, score_question, submit_question, telemetry, update_responses\n>>> import os\n>>> import base64\n>>> max_question_points = str(6.0)\n>>> earned_points = 0\n>>> os.environ['EARNED_POINTS'] = str(earned_points)\n>>> os.environ['TOTAL_POINTS_FREE_RESPONSE'] = str(75.0)\n>>> log_variable('total-points', f'week8-homework, 1_homework_q', 75.0)\n>>> question_id = 'q4 - Plotting-1'\n>>> max_score = 1.0\n>>> score = 0\n>>> assert isinstance(Linear_, MathExpression)\n>>> assert Linear_.m == 1\n>>> assert Linear_.b == -3\n>>> if isinstance(Linear_, MathExpression) and Linear_.m == 1 and (Linear_.b == -3):\n...     score = 1.0\n>>> earned_points = float(os.environ.get('EARNED_POINTS', 0))\n>>> earned_points += score\n>>> log_variable('1_homework_q', f'{score}, {max_score}', question_id)\n>>> os.environ['EARNED_POINTS'] = str(earned_points)\n",
         "failure_message": "MathExpression is not instantiated correctly",
         "hidden": false,
         "locked": false,
         "points": 1,
         "success_message": "MathExpression is instantiated correctly"
        },
        {
         "code": ">>> from pykubegrader.telemetry import ensure_responses, log_variable, score_question, submit_question, telemetry, update_responses\n>>> import os\n>>> import base64\n>>> question_id = 'q4 - Plotting-2'\n>>> max_score = 1.0\n>>> score = 0\n>>> seed = np.random.seed(42)\n>>> assert np.isclose(sum(x[::4]), 121.212121, rtol=0.01)\n>>> assert x.__len__() == 100\n>>> if np.isclose(sum(x[::4]), 121.212121, rtol=0.01) and x.__len__() == 100:\n...     score = 1.0\n>>> earned_points = float(os.environ.get('EARNED_POINTS', 0))\n>>> earned_points += score\n>>> log_variable('1_homework_q', f'{score}, {max_score}', question_id)\n>>> os.environ['EARNED_POINTS'] = str(earned_points)\n",
         "failure_message": "X vector is incorrect",
         "hidden": false,
         "locked": false,
         "points": 1,
         "success_message": "X vector is correct"
        },
        {
         "code": ">>> from pykubegrader.telemetry import ensure_responses, log_variable, score_question, submit_question, telemetry, update_responses\n>>> import os\n>>> import base64\n>>> question_id = 'q4 - Plotting-3'\n>>> max_score = 1.0\n>>> score = 0\n>>> seed = np.random.seed(42)\n>>> assert sum(y) == 200\n>>> if sum(y) == 200:\n...     score = 1.0\n>>> earned_points = float(os.environ.get('EARNED_POINTS', 0))\n>>> earned_points += score\n>>> log_variable('1_homework_q', f'{score}, {max_score}', question_id)\n>>> os.environ['EARNED_POINTS'] = str(earned_points)\n",
         "failure_message": "evaluate computed incorrectly",
         "hidden": false,
         "locked": false,
         "points": 1,
         "success_message": "evaluate computed correctly"
        },
        {
         "code": ">>> from pykubegrader.telemetry import ensure_responses, log_variable, score_question, submit_question, telemetry, update_responses\n>>> import os\n>>> import base64\n>>> question_id = 'q4 - Plotting-4'\n>>> max_score = 3.0\n>>> score = 0\n>>> seed = np.random.seed(42)\n>>> assert 700 == np.sum(linear_plot[0].get_data())\n>>> if 700 == np.sum(linear_plot[0].get_data()):\n...     score = 3.0\n>>> earned_points = float(os.environ.get('EARNED_POINTS', 0))\n>>> earned_points += score\n>>> log_variable('1_homework_q', f'{score}, {max_score}', question_id)\n>>> os.environ['EARNED_POINTS'] = str(earned_points)\n",
         "failure_message": "The plot is incorrect",
         "hidden": false,
         "locked": false,
         "points": 3,
         "success_message": "The plot is correct"
        }
       ],
       "scored": true,
       "setup": "",
       "teardown": "",
       "type": "doctest"
      }
     ]
    },
    "q5 - Noisy Function": {
     "name": "q5 - Noisy Function",
     "points": null,
     "suites": [
      {
       "cases": [
        {
         "code": ">>> from pykubegrader.telemetry import ensure_responses, log_variable, score_question, submit_question, telemetry, update_responses\n>>> import os\n>>> import base64\n>>> max_question_points = str(11.0)\n>>> earned_points = 0\n>>> os.environ['EARNED_POINTS'] = str(earned_points)\n>>> os.environ['TOTAL_POINTS_FREE_RESPONSE'] = str(75.0)\n>>> log_variable('total-points', f'week8-homework, 1_homework_q', 75.0)\n>>> question_id = 'q5 - Noisy Function-1'\n>>> max_score = 1.0\n>>> score = 0\n>>> condition = issubclass(NoisyFunction, MathExpression)\n>>> assert condition\n>>> if condition:\n...     score = 1.0\n>>> earned_points = float(os.environ.get('EARNED_POINTS', 0))\n>>> earned_points += score\n>>> log_variable('1_homework_q', f'{score}, {max_score}', question_id)\n>>> os.environ['EARNED_POINTS'] = str(earned_points)\n",
         "failure_message": "NoisyFunction does not correctly inherit from MathExpression.",
         "hidden": false,
         "locked": false,
         "points": 1,
         "success_message": "NoisyFunction correctly inherits from MathExpression."
        },
        {
         "code": ">>> from pykubegrader.telemetry import ensure_responses, log_variable, score_question, submit_question, telemetry, update_responses\n>>> import os\n>>> import base64\n>>> question_id = 'q5 - Noisy Function-2'\n>>> max_score = 2.0\n>>> score = 0\n>>> def test_func(x, a, b):\n...     return a * x + b\n>>> nf = NoisyFunction(test_func, a=2, b=5)\n>>> condition = nf.func is test_func\n>>> condition1 = nf.kwargs == {'a': 2, 'b': 5}\n>>> assert condition\n>>> assert condition1\n>>> if condition and condition1:\n...     score = 2.0\n>>> earned_points = float(os.environ.get('EARNED_POINTS', 0))\n>>> earned_points += score\n>>> log_variable('1_homework_q', f'{score}, {max_score}', question_id)\n>>> os.environ['EARNED_POINTS'] = str(earned_points)\n",
         "failure_message": "NoisyFunction class does not initialize correctly.",
         "hidden": false,
         "locked": false,
         "points": 2,
         "success_message": "NoisyFunction class initializes correctly."
        },
        {
         "code": ">>> from pykubegrader.telemetry import ensure_responses, log_variable, score_question, submit_question, telemetry, update_responses\n>>> import os\n>>> import base64\n>>> question_id = 'q5 - Noisy Function-3'\n>>> max_score = 2.0\n>>> score = 0\n>>> def test_func(x, a, b):\n...     return a * x + b\n>>> nf = NoisyFunction(test_func, a=2, b=5)\n>>> x_range = (0, 10)\n>>> noise_amplitude = 1.0\n>>> x, y, y_true = nf.generate_noisy_data(x_range, noise_amplitude)\n>>> condition = len(x) == 100\n>>> assert condition\n>>> condition = len(y) == 100\n>>> assert condition\n>>> condition = len(y_true) == 100\n>>> assert condition\n>>> condition = not np.array_equal(y, y_true)\n>>> assert condition\n>>> if condition and condition and condition and condition:\n...     score = 2.0\n>>> earned_points = float(os.environ.get('EARNED_POINTS', 0))\n>>> earned_points += score\n>>> log_variable('1_homework_q', f'{score}, {max_score}', question_id)\n>>> os.environ['EARNED_POINTS'] = str(earned_points)\n",
         "failure_message": "generate_noisy_data does not produce correct outputs.",
         "hidden": false,
         "locked": false,
         "points": 2,
         "success_message": "generate_noisy_data produces correct outputs."
        },
        {
         "code": ">>> from pykubegrader.telemetry import ensure_responses, log_variable, score_question, submit_question, telemetry, update_responses\n>>> import os\n>>> import base64\n>>> question_id = 'q5 - Noisy Function-4'\n>>> max_score = 3.0\n>>> score = 0\n>>> def test_func(x, a, b):\n...     return a * x + b\n>>> nf = NoisyFunction(test_func, a=2, b=5)\n>>> popt, pcov = nf.fit_data(x, y)\n>>> condition = len(popt) == 2\n>>> assert condition\n>>> condition = pcov.shape == (2, 2)\n>>> assert condition\n>>> if condition and condition:\n...     score = 3.0\n>>> earned_points = float(os.environ.get('EARNED_POINTS', 0))\n>>> earned_points += score\n>>> log_variable('1_homework_q', f'{score}, {max_score}', question_id)\n>>> os.environ['EARNED_POINTS'] = str(earned_points)\n",
         "failure_message": "fit_data function does not return expected parameters.",
         "hidden": false,
         "locked": false,
         "points": 3,
         "success_message": "fit_data function returns expected parameters."
        },
        {
         "code": ">>> from pykubegrader.telemetry import ensure_responses, log_variable, score_question, submit_question, telemetry, update_responses\n>>> import os\n>>> import base64\n>>> question_id = 'q5 - Noisy Function-5'\n>>> max_score = 3.0\n>>> score = 0\n>>> def test_func(x, a, b):\n...     return a * x + b\n>>> nf = NoisyFunction(test_func, a=2, b=5)\n>>> x_range = (0, 10)\n>>> noise_amplitude = 1.0\n>>> fig = nf.plot_fit_results(x_range, noise_amplitude)\n>>> condition = fig is not None\n>>> assert condition\n>>> condition = len(fig.axes) == 2\n>>> assert condition\n>>> if condition and condition:\n...     score = 3.0\n>>> earned_points = float(os.environ.get('EARNED_POINTS', 0))\n>>> earned_points += score\n>>> log_variable('1_homework_q', f'{score}, {max_score}', question_id)\n>>> os.environ['EARNED_POINTS'] = str(earned_points)\n",
         "failure_message": "plot_fit_results does not generate a valid figure.",
         "hidden": false,
         "locked": false,
         "points": 3,
         "success_message": "plot_fit_results generates a valid figure."
        }
       ],
       "scored": true,
       "setup": "",
       "teardown": "",
       "type": "doctest"
      }
     ]
    },
    "q6 - plotting and fitting": {
     "name": "q6 - plotting and fitting",
     "points": null,
     "suites": [
      {
       "cases": [
        {
         "code": ">>> from pykubegrader.telemetry import ensure_responses, log_variable, score_question, submit_question, telemetry, update_responses\n>>> import os\n>>> import base64\n>>> import numpy as np\n>>> max_question_points = str(11.0)\n>>> earned_points = 0\n>>> os.environ['EARNED_POINTS'] = str(earned_points)\n>>> os.environ['TOTAL_POINTS_FREE_RESPONSE'] = str(75.0)\n>>> log_variable('total-points', f'week8-homework, 1_homework_q', 75.0)\n>>> question_id = 'q6 - plotting and fitting-1'\n>>> max_score = 1.0\n>>> score = 0\n>>> seed = np.random.seed(42)\n>>> assert isinstance(linear_func, NoisyFunction)\n>>> assert linear_func.m == 3\n>>> assert linear_func.b == 4\n>>> assert linear_func.func == LinearFunction\n>>> if isinstance(linear_func, NoisyFunction) and linear_func.m == 3 and (linear_func.b == 4) and (linear_func.func == LinearFunction):\n...     score = 1.0\n>>> earned_points = float(os.environ.get('EARNED_POINTS', 0))\n>>> earned_points += score\n>>> log_variable('1_homework_q', f'{score}, {max_score}', question_id)\n>>> os.environ['EARNED_POINTS'] = str(earned_points)\n",
         "failure_message": "linear_func implemented incorrectly",
         "hidden": false,
         "locked": false,
         "points": 1,
         "success_message": "linear_func implemented correctly"
        },
        {
         "code": ">>> from pykubegrader.telemetry import ensure_responses, log_variable, score_question, submit_question, telemetry, update_responses\n>>> import os\n>>> import base64\n>>> import numpy as np\n>>> question_id = 'q6 - plotting and fitting-2'\n>>> max_score = 0.0\n>>> score = 0\n>>> assert seed == np.random.seed(42)\n>>> if seed == np.random.seed(42):\n...     score = 0.0\n>>> earned_points = float(os.environ.get('EARNED_POINTS', 0))\n>>> earned_points += score\n>>> log_variable('1_homework_q', f'{score}, {max_score}', question_id)\n>>> os.environ['EARNED_POINTS'] = str(earned_points)\n",
         "failure_message": "You might have deleted the line that sets the random seed. Please add it at the top of the cell. You will fail the autograder if you do not place the seed in the top of the cell.",
         "hidden": false,
         "locked": false,
         "points": 0,
         "success_message": "Your seed is still correct"
        },
        {
         "code": ">>> from pykubegrader.telemetry import ensure_responses, log_variable, score_question, submit_question, telemetry, update_responses\n>>> import os\n>>> import base64\n>>> import numpy as np\n>>> question_id = 'q6 - plotting and fitting-3'\n>>> max_score = 1.0\n>>> score = 0\n>>> seed = np.random.seed(42)\n>>> assert np.isclose(sum([x, y, y_true])[4], 9.542909136398162, rtol=0.01)\n>>> assert np.isclose(np.mean(sum([x, y, y_true])[4::3]), 30.365526866857397, rtol=0.01)\n>>> if np.isclose(sum([x, y, y_true])[4], 9.542909136398162, rtol=0.01) and np.isclose(np.mean(sum([x, y, y_true])[4::3]), 30.365526866857397, rtol=0.01):\n...     score = 1.0\n>>> earned_points = float(os.environ.get('EARNED_POINTS', 0))\n>>> earned_points += score\n>>> log_variable('1_homework_q', f'{score}, {max_score}', question_id)\n>>> os.environ['EARNED_POINTS'] = str(earned_points)\n",
         "failure_message": "x, y, y_true return incorrectly",
         "hidden": false,
         "locked": false,
         "points": 1,
         "success_message": "x, y, y_true return correctly"
        },
        {
         "code": ">>> from pykubegrader.telemetry import ensure_responses, log_variable, score_question, submit_question, telemetry, update_responses\n>>> import os\n>>> import base64\n>>> import numpy as np\n>>> question_id = 'q6 - plotting and fitting-4'\n>>> max_score = 4.0\n>>> score = 0\n>>> seed = np.random.seed(42)\n>>> assert np.isclose(popt[0], 3.0219526649250503, rtol=0.01)\n>>> assert np.isclose(popt[1], 3.8271871517503655, rtol=0.01)\n>>> if np.isclose(popt[0], 3.0219526649250503, rtol=0.01) and np.isclose(popt[1], 3.8271871517503655, rtol=0.01):\n...     score = 4.0\n>>> earned_points = float(os.environ.get('EARNED_POINTS', 0))\n>>> earned_points += score\n>>> log_variable('1_homework_q', f'{score}, {max_score}', question_id)\n>>> os.environ['EARNED_POINTS'] = str(earned_points)\n",
         "failure_message": "Fitting function incorrectly implemented",
         "hidden": false,
         "locked": false,
         "points": 4,
         "success_message": "Fitting function correctly implemented"
        },
        {
         "code": ">>> from pykubegrader.telemetry import ensure_responses, log_variable, score_question, submit_question, telemetry, update_responses\n>>> import os\n>>> import base64\n>>> import numpy as np\n>>> question_id = 'q6 - plotting and fitting-5'\n>>> max_score = 5.0\n>>> score = 0\n>>> seed = np.random.seed(42)\n>>> assert np.sum(plot.axes[0].get_lines()[0].get_xydata()) == 3600\n>>> assert np.isclose(np.sum(plot.axes[1].get_lines()[0].get_xydata()), 3600.6691376113495, rtol=0.01)\n>>> if np.sum(plot.axes[0].get_lines()[0].get_xydata()) == 3600 and np.isclose(np.sum(plot.axes[1].get_lines()[0].get_xydata()), 3600.6691376113495, rtol=0.01):\n...     score = 5.0\n>>> earned_points = float(os.environ.get('EARNED_POINTS', 0))\n>>> earned_points += score\n>>> log_variable('1_homework_q', f'{score}, {max_score}', question_id)\n>>> os.environ['EARNED_POINTS'] = str(earned_points)\n",
         "failure_message": "plot incorrectly implemented",
         "hidden": false,
         "locked": false,
         "points": 5,
         "success_message": "plot implemented correctly"
        }
       ],
       "scored": true,
       "setup": "",
       "teardown": "",
       "type": "doctest"
      }
     ]
    },
    "q7-new functions": {
     "name": "q7-new functions",
     "points": null,
     "suites": [
      {
       "cases": [
        {
         "code": ">>> from pykubegrader.telemetry import ensure_responses, log_variable, score_question, submit_question, telemetry, update_responses\n>>> import os\n>>> import base64\n>>> import inspect\n>>> max_question_points = str(6.0)\n>>> earned_points = 0\n>>> os.environ['EARNED_POINTS'] = str(earned_points)\n>>> os.environ['TOTAL_POINTS_FREE_RESPONSE'] = str(75.0)\n>>> log_variable('total-points', f'week8-homework, 1_homework_q', 75.0)\n>>> question_id = 'q7-new functions-1'\n>>> max_score = 3.0\n>>> score = 0\n>>> signature = inspect.signature(SineFunction)\n>>> num_parameters = len(signature.parameters)\n>>> seed = np.random.seed(42)\n>>> assert num_parameters == 4\n>>> assert np.allclose([-1.51360499, -0.77557439, -0.456128], SineFunction(np.array([0.0, 0.1, 0.3]), 2, 3, 4), rtol=0.01)\n>>> if num_parameters == 4 and np.allclose([-1.51360499, -0.77557439, -0.456128], SineFunction(np.array([0.0, 0.1, 0.3]), 2, 3, 4), rtol=0.01):\n...     score = 3.0\n>>> earned_points = float(os.environ.get('EARNED_POINTS', 0))\n>>> earned_points += score\n>>> log_variable('1_homework_q', f'{score}, {max_score}', question_id)\n>>> os.environ['EARNED_POINTS'] = str(earned_points)\n",
         "failure_message": "SineFunction incorrectly implemented",
         "hidden": false,
         "locked": false,
         "points": 3,
         "success_message": "SineFunction implemented correctly"
        },
        {
         "code": ">>> from pykubegrader.telemetry import ensure_responses, log_variable, score_question, submit_question, telemetry, update_responses\n>>> import os\n>>> import base64\n>>> import inspect\n>>> question_id = 'q7-new functions-2'\n>>> max_score = 3.0\n>>> score = 0\n>>> signature = inspect.signature(ExponentialFunction)\n>>> num_parameters = len(signature.parameters)\n>>> seed = np.random.seed(42)\n>>> assert num_parameters == 3\n>>> assert np.allclose([2, 2.69971762, 4.91920622], ExponentialFunction(np.array([0.0, 0.1, 0.3]), 2, 3), rtol=0.01)\n>>> if num_parameters == 3 and np.allclose([2, 2.69971762, 4.91920622], ExponentialFunction(np.array([0.0, 0.1, 0.3]), 2, 3), rtol=0.01):\n...     score = 3.0\n>>> earned_points = float(os.environ.get('EARNED_POINTS', 0))\n>>> earned_points += score\n>>> log_variable('1_homework_q', f'{score}, {max_score}', question_id)\n>>> os.environ['EARNED_POINTS'] = str(earned_points)\n",
         "failure_message": "SineFunction incorrectly implemented",
         "hidden": false,
         "locked": false,
         "points": 3,
         "success_message": "SineFunction implemented correctly"
        }
       ],
       "scored": true,
       "setup": "",
       "teardown": "",
       "type": "doctest"
      }
     ]
    },
    "q8-using the class with new Sine functions": {
     "name": "q8-using the class with new Sine functions",
     "points": null,
     "suites": [
      {
       "cases": [
        {
         "code": ">>> from pykubegrader.telemetry import ensure_responses, log_variable, score_question, submit_question, telemetry, update_responses\n>>> import os\n>>> import base64\n>>> max_question_points = str(11.0)\n>>> earned_points = 0\n>>> os.environ['EARNED_POINTS'] = str(earned_points)\n>>> os.environ['TOTAL_POINTS_FREE_RESPONSE'] = str(75.0)\n>>> log_variable('total-points', f'week8-homework, 1_homework_q', 75.0)\n>>> question_id = 'q8-using the class with new Sine functions-1'\n>>> max_score = 1.0\n>>> score = 0\n>>> seed = np.random.seed(42)\n>>> assert isinstance(sine_func, NoisyFunction)\n>>> assert sine_func.amplitude == 2\n>>> assert sine_func.frequency == 0.2\n>>> assert sine_func.phase == 0.5\n>>> assert sine_func.func == SineFunction\n>>> if isinstance(sine_func, NoisyFunction) and sine_func.amplitude == 2 and (sine_func.frequency == 0.2) and (sine_func.phase == 0.5) and (sine_func.func == SineFunction):\n...     score = 1.0\n>>> earned_points = float(os.environ.get('EARNED_POINTS', 0))\n>>> earned_points += score\n>>> log_variable('1_homework_q', f'{score}, {max_score}', question_id)\n>>> os.environ['EARNED_POINTS'] = str(earned_points)\n",
         "failure_message": "sine_func implemented incorrectly",
         "hidden": false,
         "locked": false,
         "points": 1,
         "success_message": "sine_func implemented correctly"
        },
        {
         "code": ">>> from pykubegrader.telemetry import ensure_responses, log_variable, score_question, submit_question, telemetry, update_responses\n>>> import os\n>>> import base64\n>>> question_id = 'q8-using the class with new Sine functions-2'\n>>> max_score = 0.0\n>>> score = 0\n>>> seed = np.random.seed(42)\n>>> assert seed == np.random.seed(42)\n>>> if seed == np.random.seed(42):\n...     score = 0.0\n>>> earned_points = float(os.environ.get('EARNED_POINTS', 0))\n>>> earned_points += score\n>>> log_variable('1_homework_q', f'{score}, {max_score}', question_id)\n>>> os.environ['EARNED_POINTS'] = str(earned_points)\n",
         "failure_message": "You might have deleted the line that sets the random seed. Please add it at the top of the cell. You will fail the autograder if you do not place the seed in the top of the cell.",
         "hidden": false,
         "locked": false,
         "points": 0,
         "success_message": "Your seed is still correct"
        },
        {
         "code": ">>> from pykubegrader.telemetry import ensure_responses, log_variable, score_question, submit_question, telemetry, update_responses\n>>> import os\n>>> import base64\n>>> question_id = 'q8-using the class with new Sine functions-3'\n>>> max_score = 1.0\n>>> score = 0\n>>> seed = np.random.seed(42)\n>>> assert np.isclose(sum([x, y, y_true])[4], 4.384520747622161, rtol=0.01)\n>>> assert np.isclose(np.mean(sum([x, y, y_true])[4::3]), 9.50518884876772, rtol=0.01)\n>>> if np.isclose(sum([x, y, y_true])[4], 4.384520747622161, rtol=0.01) and np.isclose(np.mean(sum([x, y, y_true])[4::3]), 9.50518884876772, rtol=0.01):\n...     score = 1.0\n>>> earned_points = float(os.environ.get('EARNED_POINTS', 0))\n>>> earned_points += score\n>>> log_variable('1_homework_q', f'{score}, {max_score}', question_id)\n>>> os.environ['EARNED_POINTS'] = str(earned_points)\n",
         "failure_message": "x, y, y_true return incorrectly",
         "hidden": false,
         "locked": false,
         "points": 1,
         "success_message": "x, y, y_true return correctly"
        },
        {
         "code": ">>> from pykubegrader.telemetry import ensure_responses, log_variable, score_question, submit_question, telemetry, update_responses\n>>> import os\n>>> import base64\n>>> question_id = 'q8-using the class with new Sine functions-4'\n>>> max_score = 4.0\n>>> score = 0\n>>> seed = np.random.seed(42)\n>>> assert np.isclose(popt[0], 2.2550781375831015, rtol=0.01)\n>>> assert np.isclose(popt[1], 0.19762745754501546, rtol=0.01)\n>>> if np.isclose(popt[0], 2.2550781375831015, rtol=0.01) and np.isclose(popt[1], 0.19762745754501546, rtol=0.01):\n...     score = 4.0\n>>> earned_points = float(os.environ.get('EARNED_POINTS', 0))\n>>> earned_points += score\n>>> log_variable('1_homework_q', f'{score}, {max_score}', question_id)\n>>> os.environ['EARNED_POINTS'] = str(earned_points)\n",
         "failure_message": "Fitting function incorrectly implemented",
         "hidden": false,
         "locked": false,
         "points": 4,
         "success_message": "Fitting function correctly implemented"
        },
        {
         "code": ">>> from pykubegrader.telemetry import ensure_responses, log_variable, score_question, submit_question, telemetry, update_responses\n>>> import os\n>>> import base64\n>>> question_id = 'q8-using the class with new Sine functions-5'\n>>> max_score = 5.0\n>>> score = 0\n>>> seed = np.random.seed(42)\n>>> assert np.isclose(np.sum(plot.axes[0].get_lines()[0].get_xydata()), 944.5788167212941, rtol=0.01)\n>>> assert np.isclose(np.sum(plot.axes[1].get_lines()[0].get_xydata()), 943.8768017567118, rtol=0.01)\n>>> if np.isclose(np.sum(plot.axes[0].get_lines()[0].get_xydata()), 944.5788167212941, rtol=0.01) and np.isclose(np.sum(plot.axes[1].get_lines()[0].get_xydata()), 943.8768017567118, rtol=0.01):\n...     score = 5.0\n>>> earned_points = float(os.environ.get('EARNED_POINTS', 0))\n>>> earned_points += score\n>>> log_variable('1_homework_q', f'{score}, {max_score}', question_id)\n>>> os.environ['EARNED_POINTS'] = str(earned_points)\n",
         "failure_message": "plot incorrectly implemented",
         "hidden": false,
         "locked": false,
         "points": 5,
         "success_message": "plot implemented correctly"
        }
       ],
       "scored": true,
       "setup": "",
       "teardown": "",
       "type": "doctest"
      }
     ]
    },
    "q9-using the class with new exponential functions": {
     "name": "q9-using the class with new exponential functions",
     "points": null,
     "suites": [
      {
       "cases": [
        {
         "code": ">>> from pykubegrader.telemetry import ensure_responses, log_variable, score_question, submit_question, telemetry, update_responses\n>>> import os\n>>> import base64\n>>> max_question_points = str(11.0)\n>>> earned_points = 0\n>>> os.environ['EARNED_POINTS'] = str(earned_points)\n>>> os.environ['TOTAL_POINTS_FREE_RESPONSE'] = str(75.0)\n>>> log_variable('total-points', f'week8-homework, 1_homework_q', 75.0)\n>>> question_id = 'q9-using the class with new exponential functions-1'\n>>> max_score = 1.0\n>>> score = 0\n>>> seed = np.random.seed(42)\n>>> assert isinstance(exp_func, NoisyFunction)\n>>> assert exp_func.a == 2\n>>> assert exp_func.b == 0.2\n>>> assert exp_func.func == ExponentialFunction\n>>> if isinstance(exp_func, NoisyFunction) and exp_func.a == 2 and (exp_func.b == 0.2) and (exp_func.func == ExponentialFunction):\n...     score = 1.0\n>>> earned_points = float(os.environ.get('EARNED_POINTS', 0))\n>>> earned_points += score\n>>> log_variable('1_homework_q', f'{score}, {max_score}', question_id)\n>>> os.environ['EARNED_POINTS'] = str(earned_points)\n",
         "failure_message": "exp_func implemented incorrectly",
         "hidden": false,
         "locked": false,
         "points": 1,
         "success_message": "exp_func implemented correctly"
        },
        {
         "code": ">>> from pykubegrader.telemetry import ensure_responses, log_variable, score_question, submit_question, telemetry, update_responses\n>>> import os\n>>> import base64\n>>> question_id = 'q9-using the class with new exponential functions-2'\n>>> max_score = 0.0\n>>> score = 0\n>>> assert seed == np.random.seed(42)\n>>> if seed == np.random.seed(42):\n...     score = 0.0\n>>> earned_points = float(os.environ.get('EARNED_POINTS', 0))\n>>> earned_points += score\n>>> log_variable('1_homework_q', f'{score}, {max_score}', question_id)\n>>> os.environ['EARNED_POINTS'] = str(earned_points)\n",
         "failure_message": "You might have deleted the line that sets the random seed. Please add it at the top of the cell. You will fail the autograder if you do not place the seed in the top of the cell.",
         "hidden": false,
         "locked": false,
         "points": 0,
         "success_message": "Your seed is still correct"
        },
        {
         "code": ">>> from pykubegrader.telemetry import ensure_responses, log_variable, score_question, submit_question, telemetry, update_responses\n>>> import os\n>>> import base64\n>>> question_id = 'q9-using the class with new exponential functions-3'\n>>> max_score = 1.0\n>>> score = 0\n>>> seed = np.random.seed(42)\n>>> assert np.isclose(sum([x, y, y_true])[4], 5.068497807066033, rtol=0.01)\n>>> assert np.isclose(np.mean(sum([x, y, y_true])[4::3]), 54.848917146243046, rtol=0.01)\n>>> if np.isclose(sum([x, y, y_true])[4], 5.068497807066033, rtol=0.01) and np.isclose(np.mean(sum([x, y, y_true])[4::3]), 54.848917146243046, rtol=0.01):\n...     score = 1.0\n>>> earned_points = float(os.environ.get('EARNED_POINTS', 0))\n>>> earned_points += score\n>>> log_variable('1_homework_q', f'{score}, {max_score}', question_id)\n>>> os.environ['EARNED_POINTS'] = str(earned_points)\n",
         "failure_message": "x, y, y_true return incorrectly",
         "hidden": false,
         "locked": false,
         "points": 1,
         "success_message": "x, y, y_true return correctly"
        },
        {
         "code": ">>> from pykubegrader.telemetry import ensure_responses, log_variable, score_question, submit_question, telemetry, update_responses\n>>> import os\n>>> import base64\n>>> question_id = 'q9-using the class with new exponential functions-4'\n>>> max_score = 4.0\n>>> score = 0\n>>> seed = np.random.seed(42)\n>>> assert np.isclose(popt[0], 1.9635667563774726, rtol=0.01)\n>>> assert np.isclose(popt[1], 0.20098217114795966, rtol=0.01)\n>>> if np.isclose(popt[0], 1.9635667563774726, rtol=0.01) and np.isclose(popt[1], 0.20098217114795966, rtol=0.01):\n...     score = 4.0\n>>> earned_points = float(os.environ.get('EARNED_POINTS', 0))\n>>> earned_points += score\n>>> log_variable('1_homework_q', f'{score}, {max_score}', question_id)\n>>> os.environ['EARNED_POINTS'] = str(earned_points)\n",
         "failure_message": "Fitting function incorrectly implemented",
         "hidden": false,
         "locked": false,
         "points": 4,
         "success_message": "Fitting function correctly implemented"
        },
        {
         "code": ">>> from pykubegrader.telemetry import ensure_responses, log_variable, score_question, submit_question, telemetry, update_responses\n>>> import os\n>>> import base64\n>>> question_id = 'q9-using the class with new exponential functions-5'\n>>> max_score = 5.0\n>>> score = 0\n>>> seed = np.random.seed(42)\n>>> assert np.isclose(np.sum(plot.axes[0].get_lines()[0].get_xydata()), 3212.76954915798, rtol=0.01)\n>>> assert np.isclose(np.sum(plot.axes[1].get_lines()[0].get_xydata()), 3220.812931722522, rtol=0.01)\n>>> if np.isclose(np.sum(plot.axes[0].get_lines()[0].get_xydata()), 3212.76954915798, rtol=0.01) and np.isclose(np.sum(plot.axes[1].get_lines()[0].get_xydata()), 3220.812931722522, rtol=0.01):\n...     score = 5.0\n>>> earned_points = float(os.environ.get('EARNED_POINTS', 0))\n>>> earned_points += score\n>>> log_variable('1_homework_q', f'{score}, {max_score}', question_id)\n>>> os.environ['EARNED_POINTS'] = str(earned_points)\n",
         "failure_message": "plot incorrectly implemented",
         "hidden": false,
         "locked": false,
         "points": 5,
         "success_message": "plot implemented correctly"
        }
       ],
       "scored": true,
       "setup": "",
       "teardown": "",
       "type": "doctest"
      }
     ]
    }
   }
  }
 },
 "nbformat": 4,
 "nbformat_minor": 2
}
