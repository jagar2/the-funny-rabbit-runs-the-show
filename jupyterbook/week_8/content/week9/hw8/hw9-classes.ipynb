{
 "cells": [
  {
   "cell_type": "raw",
   "metadata": {},
   "source": [
    "# ASSIGNMENT CONFIG\n",
    "solutions_pdf: false\n",
    "export_cell: false\n",
    "generate: \n",
    "    pdf: false\n",
    "    filtering: false\n",
    "    pagebreaks: false\n",
    "    zips: false"
   ]
  },
  {
   "attachments": {},
   "cell_type": "markdown",
   "metadata": {},
   "source": [
    "# Homework 9\n",
    "\n",
    "This assignment includes three problems on the topic of classes.\n",
    "\n"
   ]
  },
  {
   "cell_type": "markdown",
   "metadata": {},
   "source": [
    "## Entering Your Information for Credit\n",
    "\n",
    "To receive credit for assignments it is important we can identify your work from others. To do this we will ask you to enter your information in the following code block.\n",
    "\n",
    "### Before you begin\n",
    "\n",
    "Run the block of code at the top of the notebook that imports and sets up the autograder. This will allow you to check your work. "
   ]
  },
  {
   "cell_type": "raw",
   "metadata": {},
   "source": [
    "# BEGIN QUESTION\n",
    "name: q0-Checking-Your-Name"
   ]
  },
  {
   "cell_type": "raw",
   "metadata": {},
   "source": [
    "# BEGIN SOLUTION"
   ]
  },
  {
   "cell_type": "code",
   "execution_count": null,
   "metadata": {},
   "outputs": [],
   "source": [
    "# Please provide your first name, last name, Drexel ID, and Drexel email. Make sure these are provided as strings. \"STRINGS ARE TEXT ENCLOSED IN QUOTATION MARKS.\"\n",
    "\n",
    "# In the assignments you will see sections of code that you need to fill in that are marked with ... (three dots). Replace the ... with your code.\n",
    "first_name = \"Person\"  # SOLUTION\n",
    "last_name = \"Doe\"   # SOLUTION\n",
    "drexel_id = \"pad123\"   # SOLUTION\n",
    "drexel_email = \"pad123@drexel.edu\"  # SOLUTION\n"
   ]
  },
  {
   "cell_type": "raw",
   "metadata": {},
   "source": [
    "# END SOLUTION"
   ]
  },
  {
   "cell_type": "raw",
   "metadata": {},
   "source": [
    "# BEGIN TESTS"
   ]
  },
  {
   "cell_type": "code",
   "execution_count": null,
   "metadata": {},
   "outputs": [],
   "source": [
    "\"\"\" # BEGIN TEST CONFIG\n",
    "points: 0\n",
    "hidden: false\n",
    "success_message: You have entered your information correctly.\n",
    "failure_message: It does not appear that you entered your information correctly. Please try again.\n",
    "\"\"\" # END TEST CONFIG\n",
    "\n",
    "# Function to extract local part of the email\n",
    "def get_local_part(email):\n",
    "    return email.split('@')[0]\n",
    "\n",
    "# Extracting local part of the Drexel email\n",
    "local_part_email = get_local_part(drexel_email)\n",
    "\n",
    "# Asserting that the local part of the email is the same as the Drexel ID\n",
    "assert local_part_email == drexel_id, f\"The DrexelID extracted from the email '{local_part_email}' does not match the Drexel ID '{drexel_id}'.\"\n"
   ]
  },
  {
   "cell_type": "code",
   "execution_count": null,
   "metadata": {},
   "outputs": [],
   "source": [
    "\"\"\" # BEGIN TEST CONFIG\n",
    "points: 0\n",
    "hidden: true \n",
    "success_message: Information properly extracted.\n",
    "failure_message: Student information not properly extracted. \n",
    "\"\"\" # END TEST CONFIG\n",
    "\n",
    "# Function to extract local part of the email\n",
    "def get_local_part(email):\n",
    "    return email.split('@')[0]\n",
    "\n",
    "# Extracting local part of the Drexel email\n",
    "local_part_email = get_local_part(drexel_email)\n",
    "\n",
    "# Asserting that the local part of the email is the same as the Drexel ID\n",
    "assert local_part_email == drexel_id, f\"The DrexelID extracted from the email '{local_part_email}' does not match the Drexel ID '{drexel_id}'.\"\n",
    "assert type(local_part_email) == str, f\"The local part of the email is not a string.\"\n",
    "assert type(drexel_id) == str, f\"The Drexel ID is not a string.\"\n",
    "\n",
    "if local_part_email == drexel_id:\n",
    "    import json\n",
    "\n",
    "    # Organize the data into a dictionary\n",
    "    student_data = {\n",
    "        \"first_name\": first_name,\n",
    "        \"last_name\": last_name,\n",
    "        \"drexel_id\": drexel_id,\n",
    "        \"drexel_email\": drexel_email\n",
    "    }\n",
    "\n",
    "    # Write the dictionary to a JSON file\n",
    "    with open('student_data.json', 'w') as json_file:\n",
    "        json.dump(student_data, json_file)\n"
   ]
  },
  {
   "cell_type": "raw",
   "metadata": {},
   "source": [
    "# END TESTS"
   ]
  },
  {
   "cell_type": "raw",
   "metadata": {},
   "source": [
    "# END QUESTION"
   ]
  },
  {
   "cell_type": "markdown",
   "metadata": {},
   "source": [
    "## Entering Your Information for Credit\n",
    "\n",
    "To receive credit for assignments, it is important we can identify your work from others. To do this, we will ask you to enter your information in the following code block.\n",
    "\n",
    "### Before you begin\n",
    "\n",
    "Run the block of code at the top of the notebook that imports and sets up the autograder. This will allow you to check your work. "
   ]
  },
  {
   "cell_type": "raw",
   "metadata": {},
   "source": [
    "# BEGIN QUESTION\n",
    "name: q1-nutrition"
   ]
  },
  {
   "attachments": {},
   "cell_type": "markdown",
   "metadata": {},
   "source": [
    "**Question 1: Nutritional Information** \n",
    "\n",
    "Your task is to write a class called `FoodItem`. The class constructor should initialize a new food item given a name and amounts of fat, carbs, and protein (in grams). The class should also have a method called `get_calories` which returns the estimated amount of calories in a serving of the food item.\n",
    "\n",
    "To estimate calories $x$ given the grams of fat $f$, carbs $c$, and protein $p$, you should use the following approximation:\n",
    "\n",
    "$$x = 9f + 4c + 4p$$\n",
    "\n",
    "\n",
    "Write python code to do the following:\n",
    "\n",
    "* Define a class called `FoodItem`.\n",
    "* Define the class constructor to accept as arguments a string `name` and floats `fat`, `carbs`, and `protein`. The values from these argument should be stored as data members, so that they can be used in other methods. \n",
    "* Define a method within `FoodItem` called `get_calories`, which accepts no arguments (other than `self`) and returns the estimated calories, as a float.\n",
    "\n",
    "Your code replaces the prompt:  `...`"
   ]
  },
  {
   "cell_type": "raw",
   "metadata": {},
   "source": [
    "# BEGIN SOLUTION"
   ]
  },
  {
   "cell_type": "code",
   "execution_count": null,
   "metadata": {},
   "outputs": [],
   "source": [
    "# BEGIN SOLUTION\n",
    "\n",
    "class FoodItem:\n",
    "\n",
    "    def __init__(self, name, fat, carbs, protein):\n",
    "        self.name = name\n",
    "        self.fat = fat\n",
    "        self.carbs = carbs\n",
    "        self.protein = protein\n",
    "\n",
    "    def get_calories(self):\n",
    "        cals = float((self.fat * 9) + (self.carbs * 4) + (self.protein * 4))\n",
    "        return cals\n",
    "\n",
    "# END SOLUTION\n",
    "\n",
    "\n",
    "# This creates a FoodItem object so you can test your class\n",
    "snack = FoodItem(\"M&Ms\", 10.0, 34.0, 2.0)\n",
    "# This calls the get_calories method on the newly created FoodItem object\n",
    "print(snack.get_calories())"
   ]
  },
  {
   "cell_type": "raw",
   "metadata": {},
   "source": [
    "# END SOLUTION"
   ]
  },
  {
   "cell_type": "raw",
   "metadata": {},
   "source": [
    "# BEGIN TESTS"
   ]
  },
  {
   "cell_type": "code",
   "execution_count": null,
   "metadata": {},
   "outputs": [],
   "source": [
    "\"\"\" # BEGIN TEST CONFIG\n",
    "points: 1\n",
    "success_message: constructor is defined.\n",
    "failure_message: constructor not correctly defined.\n",
    "\"\"\" # END TEST CONFIG\n",
    "\n",
    "assert \"__init__\" in dir(FoodItem)"
   ]
  },
  {
   "cell_type": "code",
   "execution_count": null,
   "metadata": {},
   "outputs": [],
   "source": [
    "\"\"\" # BEGIN TEST CONFIG\n",
    "points: 1\n",
    "success_message: you have a method called get_calories.\n",
    "failure_message: you have no method called get_calories.\n",
    "\"\"\" # END TEST CONFIG\n",
    "\n",
    "assert \"get_calories\" in dir(FoodItem)"
   ]
  },
  {
   "cell_type": "code",
   "execution_count": null,
   "metadata": {},
   "outputs": [],
   "source": [
    "\"\"\" # BEGIN TEST CONFIG\n",
    "points: 1\n",
    "success_message: your method get_calories returns a float.\n",
    "failure_message: your method get_calories does not return a float.\n",
    "\"\"\" # END TEST CONFIG\n",
    "\n",
    "test_cals = FoodItem(\"apple\", 1, 20, 1).get_calories()\n",
    "\n",
    "assert type(test_cals) == type(1.0)"
   ]
  },
  {
   "cell_type": "code",
   "execution_count": null,
   "metadata": {},
   "outputs": [],
   "source": [
    "\"\"\" # BEGIN TEST CONFIG\n",
    "points: 1\n",
    "success_message: the correct amount of calories are given for FoodItem(\"apple\", 1, 20, 1).\n",
    "failure_message: an incorrect amount of calories are given for FoodItem(\"apple\", 1, 20, 1).\n",
    "\"\"\" # END TEST CONFIG\n",
    "\n",
    "test_cals = FoodItem(\"apple\", 1, 20, 1).get_calories()\n",
    "\n",
    "assert test_cals == 93.0"
   ]
  },
  {
   "cell_type": "code",
   "execution_count": null,
   "metadata": {},
   "outputs": [],
   "source": [
    "\"\"\" # BEGIN TEST CONFIG\n",
    "points: 1\n",
    "success_message: the correct amount of calories are given for FoodItem(\"cookie\", 19.0, 52.0, 4.5).\n",
    "failure_message: an incorrect amount of calories are given for FoodItem(\"cookie\", 19.0, 52.0, 4.5).\n",
    "\"\"\" # END TEST CONFIG\n",
    "\n",
    "test_cals = FoodItem(\"cookie\", 19.0, 52.0, 4.5).get_calories()\n",
    "\n",
    "assert test_cals == 397.0\n",
    "\n"
   ]
  },
  {
   "cell_type": "raw",
   "metadata": {},
   "source": [
    "# END TESTS"
   ]
  },
  {
   "cell_type": "raw",
   "metadata": {},
   "source": [
    "# END QUESTION"
   ]
  },
  {
   "cell_type": "raw",
   "metadata": {},
   "source": [
    "# BEGIN QUESTION\n",
    "name: q2-area-perimeter-circle"
   ]
  },
  {
   "attachments": {},
   "cell_type": "markdown",
   "metadata": {},
   "source": [
    "**Question 2: Area and Perimeter of a Circle** \n",
    "\n",
    "Your task is to write a class called `Circle`. The class constructor should take as input a radius that defaults to a value of `1.0`. The class should have methods called `area` and `perimeter` which return as floats the area and perimeter of the circle, respectively.\n",
    "\n",
    "Be sure to reference `math.pi` in your calculations.\n",
    "\n",
    "\n",
    "Write python code to do the following:\n",
    "\n",
    "* Define a class called `Circle`.\n",
    "* Define the class constructor to accept as argument a float `radius` with a default value of `1.0`. This value should be stored as a data member, so that it can be used in other methods. \n",
    "* Define a method within `Circle` called `area`, which accepts no arguments (other than `self`) and returns the area, as a float.\n",
    "* Define a method within `Circle` called `perimeter`, which accepts no arguments (other than `self`) and returns the perimeter, as a float.\n",
    "\n",
    "Your code replaces the prompt:  `...`\n"
   ]
  },
  {
   "cell_type": "raw",
   "metadata": {},
   "source": [
    "# BEGIN SOLUTION"
   ]
  },
  {
   "cell_type": "code",
   "execution_count": null,
   "metadata": {},
   "outputs": [],
   "source": [
    "# BEGIN SOLUTION\n",
    "\n",
    "import math\n",
    "\n",
    "class Circle:\n",
    "\n",
    "    def __init__(self, radius=1.0):\n",
    "        self.radius = radius\n",
    "\n",
    "    def area(self):\n",
    "        return math.pi * (self.radius**2)\n",
    "    \n",
    "    def perimeter(self):\n",
    "        return 2 * math.pi * self.radius\n",
    "\n",
    "# END SOLUTION\n",
    "\n",
    "\n",
    "# This creates a Circle object so you can test your class\n",
    "c = Circle(8.0)\n",
    "# These call the area and perimeter methods on the newly created Circle object\n",
    "print(c.area())\n",
    "print(c.perimeter())"
   ]
  },
  {
   "cell_type": "raw",
   "metadata": {},
   "source": [
    "# END SOLUTION"
   ]
  },
  {
   "cell_type": "raw",
   "metadata": {},
   "source": [
    "# BEGIN TESTS"
   ]
  },
  {
   "cell_type": "code",
   "execution_count": null,
   "metadata": {},
   "outputs": [],
   "source": [
    "\"\"\" # BEGIN TEST CONFIG\n",
    "points: 1\n",
    "success_message: constructor is defined.\n",
    "failure_message: constructor not correctly defined.\n",
    "\"\"\" # END TEST CONFIG\n",
    "\n",
    "assert \"__init__\" in dir(Circle)"
   ]
  },
  {
   "cell_type": "code",
   "execution_count": null,
   "metadata": {},
   "outputs": [],
   "source": [
    "\"\"\" # BEGIN TEST CONFIG\n",
    "points: 1\n",
    "success_message: you have methods called area and perimeter.\n",
    "failure_message: you are missing at least one of these methods - area, perimeter.\n",
    "\"\"\" # END TEST CONFIG\n",
    "\n",
    "assert (\"area\" in dir(Circle)) and (\"perimeter\" in dir(Circle))"
   ]
  },
  {
   "cell_type": "code",
   "execution_count": null,
   "metadata": {},
   "outputs": [],
   "source": [
    "\"\"\" # BEGIN TEST CONFIG\n",
    "points: 1\n",
    "success_message: your methods area and perimeter both return a float.\n",
    "failure_message: at least one of the following methods does not return a float - area, perimeter\n",
    "\"\"\" # END TEST CONFIG\n",
    "\n",
    "test_circle = Circle(8.0)\n",
    "test_a = test_circle.area()\n",
    "test_p = test_circle.perimeter()\n",
    "\n",
    "assert (type(test_a) == type(1.0)) and (type(test_p) == type(1.0))"
   ]
  },
  {
   "cell_type": "code",
   "execution_count": null,
   "metadata": {},
   "outputs": [],
   "source": [
    "\"\"\" # BEGIN TEST CONFIG\n",
    "points: 1\n",
    "success_message: correct area and perimeter for Circle(8.0).\n",
    "failure_message: incorrect area and/or perimeter for Circle(8.0).\n",
    "\"\"\" # END TEST CONFIG\n",
    "\n",
    "import numpy as np\n",
    "\n",
    "test_circle = Circle(8.0)\n",
    "test_a = test_circle.area()\n",
    "test_p = test_circle.perimeter()\n",
    "\n",
    "assert np.isclose([test_a, test_p], [201.06192982974676, 50.26548245743669]).all()"
   ]
  },
  {
   "cell_type": "code",
   "execution_count": null,
   "metadata": {},
   "outputs": [],
   "source": [
    "\"\"\" # BEGIN TEST CONFIG\n",
    "points: 1\n",
    "success_message: correct area and perimeter for Circle with default radius.\n",
    "failure_message: incorrect area and/or perimeter for Circle with default radius.\n",
    "\"\"\" # END TEST CONFIG\n",
    "\n",
    "import numpy as np\n",
    "\n",
    "test_circle = Circle()\n",
    "test_a = test_circle.area()\n",
    "test_p = test_circle.perimeter()\n",
    "\n",
    "assert np.isclose([test_a, test_p], [3.141592653589793, 6.283185307179586]).all()"
   ]
  },
  {
   "cell_type": "raw",
   "metadata": {},
   "source": [
    "# END TESTS"
   ]
  },
  {
   "cell_type": "raw",
   "metadata": {},
   "source": [
    "# END QUESTION"
   ]
  },
  {
   "cell_type": "raw",
   "metadata": {},
   "source": [
    "# BEGIN QUESTION\n",
    "name: q3-point3d"
   ]
  },
  {
   "attachments": {},
   "cell_type": "markdown",
   "metadata": {},
   "source": [
    "**Question 3: 3D Point Class** \n",
    "\n",
    "Your task is to create a class called Point3D that implements a point in 3-D space. Objects of this class are constructed with three arguments `x`,`y`,and `z`, which all default to zero.\n",
    "\n",
    "Inside the class you will implement a number of \"magic\" methods in python, the methods with names surrounded by double underscores. Specifically, you will implement the proper methods to allow addition, subtraction and equality checking between two Point3D instances. You will also implement the proper method to control how a Point3D object is printed.\n",
    "\n",
    "Specifics regarding how these should be implemented follow.\n",
    "\n",
    "Write python code to do the following:\n",
    "\n",
    "* Define a class called `Point3D`.\n",
    "* Define the class constructor to accept as arguments 3 numbers `x`, `y`, and `z` which all default to `0`. These values should be stored as data members (called `x`, `y`, and `z`), so that they can be used in the other methods. \n",
    "* Addition: define a method such that, given Point3D objects `a` and `b`, `a + b` returns a new Point3D object whose `x`, `y`, and `z` values are the sums of the `x`, `y` and `z` values of points `a` and `b`. (Hint: the built in function for addition is `__add__()`)\n",
    "* Subtraction: define a method such that, given Point3D objects `a` and `b`, `a - b` returns a float representing the Euclidean distance between points `a` and `b`.\n",
    "* Equality: define a method such that, given Point3D objects `a` and `b`, `a == b` returns True if and only if the `x`, `y` and `z` values of point `a` and `b` are equal.\n",
    "* Printing: define a method such that, given a Point3D object `a`, `print(a)` prints in the format `<a.x, b.y, c.z>`. (Hint: the built in `print` function will call the `__str__()` method on the input to convert the input into a string before printing.)"
   ]
  },
  {
   "attachments": {},
   "cell_type": "markdown",
   "metadata": {},
   "source": [
    "After your class has been implemented, it should be able to be used as follows:"
   ]
  },
  {
   "cell_type": "raw",
   "metadata": {},
   "source": [
    "p1=Point3D(1,1,1)\n",
    "p2=Point3D(2,2,2)\n",
    "print(p1 + p2)\n",
    "[output]: <3, 3, 3>\n",
    "\n",
    "print(p1-p2)\n",
    "[output]: 1.7320508075688772\n",
    "\n",
    "p1==p2\n",
    "[output]: False\n",
    "\n",
    "p1+p1==p2\n",
    "[output]: True\n",
    "\n",
    "p1==p2+Point3D(-1,-1,-1)\n",
    "[output]: True"
   ]
  },
  {
   "attachments": {},
   "cell_type": "markdown",
   "metadata": {},
   "source": [
    "Your code replaces the prompt:  `...`"
   ]
  },
  {
   "cell_type": "raw",
   "metadata": {},
   "source": [
    "# BEGIN SOLUTION"
   ]
  },
  {
   "cell_type": "code",
   "execution_count": null,
   "metadata": {},
   "outputs": [],
   "source": [
    "# BEGIN SOLUTION\n",
    "\n",
    "class Point3D:\n",
    "\n",
    "    def __init__(self, x=0, y=0, z=0):\n",
    "        self.x=x\n",
    "        self.y=y\n",
    "        self.z=z\n",
    "    \n",
    "    def __add__(self,other):\n",
    "        return Point3D(self.x+other.x,self.y+other.y,self.z+other.z)\n",
    "    \n",
    "    def __sub__(self,other):\n",
    "        return ((self.x-other.x)**2+(self.y-other.y)**2+(self.z-other.z)**2)**(1/2)\n",
    "    \n",
    "    def __eq__(self,other):\n",
    "        return self.x==other.x and self.y==other.y and self.z==other.z\n",
    "    \n",
    "    def __str__(self):\n",
    "        return f\"<{self.x}, {self.y}, {self.z}>\"\n",
    "\n",
    "# END SOLUTION\n",
    "\n",
    "\n",
    "# You can manipulate these points (and make others!) to test your class \n",
    "p1 = Point3D(1,1,1)\n",
    "p2 = Point3D(2,2,2)"
   ]
  },
  {
   "cell_type": "raw",
   "metadata": {},
   "source": [
    "# END SOLUTION"
   ]
  },
  {
   "cell_type": "raw",
   "metadata": {},
   "source": [
    "# BEGIN TESTS"
   ]
  },
  {
   "cell_type": "code",
   "execution_count": null,
   "metadata": {},
   "outputs": [],
   "source": [
    "\"\"\" # BEGIN TEST CONFIG\n",
    "points: 1\n",
    "success_message: constructor is defined.\n",
    "failure_message: constructor not correctly defined.\n",
    "\"\"\" # END TEST CONFIG\n",
    "\n",
    "assert \"__init__\" in dir(Point3D)"
   ]
  },
  {
   "cell_type": "code",
   "execution_count": null,
   "metadata": {},
   "outputs": [],
   "source": [
    "\"\"\" # BEGIN TEST CONFIG\n",
    "points: 1\n",
    "success_message: addition is defined.\n",
    "failure_message: addition is not defined.\n",
    "\"\"\" # END TEST CONFIG\n",
    "\n",
    "assert \"__add__\" in dir(Point3D)"
   ]
  },
  {
   "cell_type": "code",
   "execution_count": null,
   "metadata": {},
   "outputs": [],
   "source": [
    "\"\"\" # BEGIN TEST CONFIG\n",
    "points: 1\n",
    "success_message: subtraction is defined.\n",
    "failure_message: subtraction is not defined.\n",
    "\"\"\" # END TEST CONFIG\n",
    "\n",
    "assert \"__sub__\" in dir(Point3D)"
   ]
  },
  {
   "cell_type": "code",
   "execution_count": null,
   "metadata": {},
   "outputs": [],
   "source": [
    "\"\"\" # BEGIN TEST CONFIG\n",
    "points: 1\n",
    "success_message: equality checking is defined.\n",
    "failure_message: equality checking is not defined.\n",
    "\"\"\" # END TEST CONFIG\n",
    "\n",
    "assert \"__eq__\" in dir(Point3D)"
   ]
  },
  {
   "cell_type": "code",
   "execution_count": null,
   "metadata": {},
   "outputs": [],
   "source": [
    "\"\"\" # BEGIN TEST CONFIG\n",
    "points: 1\n",
    "success_message: print controlling is defined.\n",
    "failure_message: print controlling is not defined.\n",
    "\"\"\" # END TEST CONFIG\n",
    "\n",
    "assert \"__str__\" in dir(Point3D) or \"__repr__\" in dir(Point3D)"
   ]
  },
  {
   "cell_type": "code",
   "execution_count": null,
   "metadata": {},
   "outputs": [],
   "source": [
    "\"\"\" # BEGIN TEST CONFIG\n",
    "points: 1\n",
    "success_message: default values correctly assigned.\n",
    "failure_message: default values incorrectly assigned.\n",
    "\"\"\" # END TEST CONFIG\n",
    "\n",
    "default_point = Point3D()\n",
    "\n",
    "assert default_point.x == 0 and default_point.y == 0 and default_point.z == 0"
   ]
  },
  {
   "cell_type": "code",
   "execution_count": null,
   "metadata": {},
   "outputs": [],
   "source": [
    "\"\"\" # BEGIN TEST CONFIG\n",
    "points: 1\n",
    "success_message: addition test passed.\n",
    "failure_message: addition test failed.\n",
    "\"\"\" # END TEST CONFIG\n",
    "\n",
    "p1 = Point3D(3.58,2,-7)\n",
    "p2 = Point3D(0.1,-2,4)\n",
    "p3 = p1 + p2\n",
    "\n",
    "assert p3.x == 3.68 and p3.y == 0 and p3.z == -3 and type(p3) == type(Point3D())"
   ]
  },
  {
   "cell_type": "code",
   "execution_count": null,
   "metadata": {},
   "outputs": [],
   "source": [
    "\"\"\" # BEGIN TEST CONFIG\n",
    "points: 1\n",
    "success_message: subtraction test passed.\n",
    "failure_message: subtraction test failed.\n",
    "\"\"\" # END TEST CONFIG\n",
    "import numpy as np\n",
    "\n",
    "p1 = Point3D(3.58,2,-7)\n",
    "p2 = Point3D(0.1,-2,4)\n",
    "dist = p1 - p2\n",
    "\n",
    "assert np.isclose([dist], 12.211076938583263).all()"
   ]
  },
  {
   "cell_type": "code",
   "execution_count": null,
   "metadata": {},
   "outputs": [],
   "source": [
    "\"\"\" # BEGIN TEST CONFIG\n",
    "points: 1\n",
    "success_message: equality test passed.\n",
    "failure_message: equality test failed.\n",
    "\"\"\" # END TEST CONFIG\n",
    "import numpy as np\n",
    "\n",
    "p0 = Point3D(0,0,0)\n",
    "p1 = Point3D(1,1,1)\n",
    "pd = Point3D()\n",
    "\n",
    "assert p0 != p1 and p0 == pd"
   ]
  },
  {
   "cell_type": "code",
   "execution_count": null,
   "metadata": {},
   "outputs": [],
   "source": [
    "\"\"\" # BEGIN TEST CONFIG\n",
    "points: 1\n",
    "success_message: printing test passed.\n",
    "failure_message: printing test failed.\n",
    "\"\"\" # END TEST CONFIG\n",
    "import numpy as np\n",
    "\n",
    "p0 = Point3D(1,2,3)\n",
    "\n",
    "assert str(p0) == \"<1, 2, 3>\" or repr(p0) == \"<1, 2, 3>\""
   ]
  },
  {
   "cell_type": "raw",
   "metadata": {},
   "source": [
    "# END TESTS"
   ]
  },
  {
   "cell_type": "raw",
   "metadata": {},
   "source": [
    "# END QUESTION"
   ]
  },
  {
   "cell_type": "markdown",
   "metadata": {},
   "source": [
    "## Submitting Your Assignment\n",
    "\n",
    "To submit your assignment please use the following link the assignment on GitHub classroom.\n",
    "   \n",
    "Use this [link](https://classroom.github.com/a/cxTEzdqI) to navigate to the assignment on GitHub classroom.\n",
    "\n",
    "If you need further instructions on submitting your assignment please look at Lab 1. \n",
    "\n",
    "## Viewing your score\n",
    "\n",
    "**It is your responsibility to ensure that your grade report shows correctly. We can only provide corrections to grades if a grading error is determined. If you do not receive a grade report your grade has not been recorded. It is your responsibility either resubmit the assignment correctly or contact the instructors before the assignment due date.**\n",
    "\n",
    "Each `.ipynb` file you have uploaded will have a file with the name of your file + `Grade_Report.md`. You can view this file by clicking on the file name. This will show you the results of the autograder. \n",
    "\n",
    "We have both public and hidden tests. You will be able to see the score of both tests, but not the specific details of why the test passed or failed. \n",
    "\n",
    "```{note}\n",
    "In python and particularly jupyter notebooks it is common that during testing you run cells in a different order, or run cells and modify them. This can cause there to be local variables needed for your solution that would not be recreated on running your code again from scratch. Your assignment will be graded based on running your code from scratch. This means before you submit your assignment you should restart the kernel and run all cells. You can do this by clicking `Kernel` and selecting `Restart and Run All`. If you code does not run as expected after restarting the kernel and running all cells it means you have an error in your code. \n",
    "```\n",
    "\n",
    "## Fin"
   ]
  }
 ],
 "metadata": {
  "kernelspec": {
   "display_name": "base",
   "language": "python",
   "name": "python3"
  },
  "language_info": {
   "codemirror_mode": {
    "name": "ipython",
    "version": 3
   },
   "file_extension": ".py",
   "mimetype": "text/x-python",
   "name": "python",
   "nbconvert_exporter": "python",
   "pygments_lexer": "ipython3",
   "version": "3.9.13"
  },
  "varInspector": {
   "cols": {
    "lenName": 16,
    "lenType": 16,
    "lenVar": 40
   },
   "kernels_config": {
    "python": {
     "delete_cmd_postfix": "",
     "delete_cmd_prefix": "del ",
     "library": "var_list.py",
     "varRefreshCmd": "print(var_dic_list())"
    },
    "r": {
     "delete_cmd_postfix": ") ",
     "delete_cmd_prefix": "rm(",
     "library": "var_list.r",
     "varRefreshCmd": "cat(var_dic_list()) "
    }
   },
   "types_to_exclude": [
    "module",
    "function",
    "builtin_function_or_method",
    "instance",
    "_Feature"
   ],
   "window_display": false
  },
  "vscode": {
   "interpreter": {
    "hash": "d5b418e505f4528d10acf0213fd49b7bcb757f0a07f8b53d30dfcb3b049c93cc"
   }
  }
 },
 "nbformat": 4,
 "nbformat_minor": 4
}
