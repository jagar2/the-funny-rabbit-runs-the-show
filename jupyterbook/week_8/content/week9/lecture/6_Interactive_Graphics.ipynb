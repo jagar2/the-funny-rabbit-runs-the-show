{
 "cells": [
  {
   "cell_type": "markdown",
   "id": "0",
   "metadata": {
    "slideshow": {
     "slide_type": "slide"
    }
   },
   "source": [
    "# 📝 Interactive Plotting with Bokeh"
   ]
  },
  {
   "cell_type": "markdown",
   "id": "1",
   "metadata": {
    "slideshow": {
     "slide_type": "fragment"
    }
   },
   "source": [
    "Python Bokeh is a Data Visualization library that provides interactive charts and plots. Bokeh renders its plots using HTML and JavaScript that uses modern web browsers for presenting elegant, concise construction of novel graphics with high-level interactivity\n",
    "\n",
    "* Flexibility: Bokeh can be used for common plotting requirements and for custom and complex use-cases."
   ]
  },
  {
   "cell_type": "markdown",
   "id": "2",
   "metadata": {
    "slideshow": {
     "slide_type": "fragment"
    }
   },
   "source": [
    "* Productivity: Its interaction with other popular Pydata tools (such as Pandas and Jupyter notebook) is very easy."
   ]
  },
  {
   "cell_type": "markdown",
   "id": "3",
   "metadata": {
    "slideshow": {
     "slide_type": "fragment"
    }
   },
   "source": [
    "* Interactivity: It creates interactive plots that change with the user interaction."
   ]
  },
  {
   "cell_type": "markdown",
   "id": "4",
   "metadata": {
    "slideshow": {
     "slide_type": "fragment"
    }
   },
   "source": [
    "* Powerful: Generation of visualizations for specialized use-cases can be done by adding JavaScript."
   ]
  },
  {
   "cell_type": "markdown",
   "id": "5",
   "metadata": {
    "slideshow": {
     "slide_type": "fragment"
    }
   },
   "source": [
    "* Shareable: Visual data are shareable. They can also be rendered in Jupyter notebooks."
   ]
  },
  {
   "cell_type": "markdown",
   "id": "6",
   "metadata": {
    "slideshow": {
     "slide_type": "fragment"
    }
   },
   "source": [
    "* Open source: Bokeh is an open-source project."
   ]
  },
  {
   "cell_type": "code",
   "execution_count": null,
   "id": "7",
   "metadata": {
    "slideshow": {
     "slide_type": "fragment"
    }
   },
   "outputs": [],
   "source": [
    "%%capture\n",
    "!pip install bokeh"
   ]
  },
  {
   "cell_type": "markdown",
   "id": "8",
   "metadata": {
    "slideshow": {
     "slide_type": "slide"
    }
   },
   "source": [
    "## A Simple Multiline Plot"
   ]
  },
  {
   "cell_type": "code",
   "execution_count": null,
   "id": "9",
   "metadata": {
    "slideshow": {
     "slide_type": "fragment"
    }
   },
   "outputs": [],
   "source": [
    "import numpy as np\n",
    "from bokeh.layouts import gridplot\n",
    "from bokeh.plotting import figure\n",
    "from bokeh.io import output_notebook, show\n",
    "\n",
    "\n",
    "x = np.linspace(0, 4*np.pi, 100)\n",
    "y = np.sin(x)\n",
    "\n",
    "TOOLS = \"pan,wheel_zoom,box_zoom,reset,save,box_select\"\n",
    "\n",
    "p1 = figure(title=\"Legend Example\", tools=TOOLS)\n",
    "\n",
    "p1.circle(x,   y, legend_label=\"sin(x)\")\n",
    "p1.circle(x, 2*y, legend_label=\"2*sin(x)\", color=\"orange\")\n",
    "p1.circle(x, 3*y, legend_label=\"3*sin(x)\", color=\"green\")\n",
    "\n",
    "p1.legend.title = 'Markers'\n",
    "\n",
    "p2 = figure(title=\"Another Legend Example\", tools=TOOLS)\n",
    "\n",
    "p2.circle(x, y, legend_label=\"sin(x)\")\n",
    "p2.line(x, y, legend_label=\"sin(x)\")\n",
    "\n",
    "p2.line(x, 2*y, legend_label=\"2*sin(x)\",\n",
    "        line_dash=(4, 4), line_color=\"orange\", line_width=2)\n",
    "\n",
    "p2.square(x, 3*y, legend_label=\"3*sin(x)\", fill_color=None, line_color=\"green\")\n",
    "p2.line(x, 3*y, legend_label=\"3*sin(x)\", line_color=\"green\")\n",
    "\n",
    "p2.legend.title = 'Lines'\n",
    "output_notebook()\n",
    "show(gridplot([p1, p2], ncols=2, width=400, height=400))\n"
   ]
  },
  {
   "cell_type": "markdown",
   "id": "10",
   "metadata": {
    "slideshow": {
     "slide_type": "slide"
    }
   },
   "source": [
    "## Elements with labels"
   ]
  },
  {
   "cell_type": "code",
   "execution_count": null,
   "id": "11",
   "metadata": {
    "slideshow": {
     "slide_type": "fragment"
    }
   },
   "outputs": [],
   "source": [
    "import pandas as pd\n",
    "\n",
    "from bokeh.models import ColumnDataSource, LabelSet\n",
    "from bokeh.plotting import figure, show\n",
    "from bokeh.sampledata.periodic_table import elements\n",
    "\n",
    "elements = elements.copy()\n",
    "elements = elements[elements[\"atomic number\"] <= 82]\n",
    "elements = elements[~pd.isnull(elements[\"melting point\"])]\n",
    "mass = [float(x.strip(\"[]\")) for x in elements[\"atomic mass\"]]\n",
    "elements[\"atomic mass\"] = mass\n",
    "\n",
    "palette = [\"#053061\", \"#2166ac\", \"#4393c3\", \"#92c5de\", \"#d1e5f0\",\n",
    "           \"#f7f7f7\", \"#fddbc7\", \"#f4a582\", \"#d6604d\", \"#b2182b\", \"#67001f\"]\n",
    "\n",
    "melting_points = elements[\"melting point\"]\n",
    "low = min(melting_points)\n",
    "high = max(melting_points)\n",
    "melting_point_inds = [int(10*(x-low)/(high-low)) for x in melting_points] #gives items in colors a value from 0-10\n",
    "elements['melting_colors'] = [palette[i] for i in melting_point_inds]\n",
    "\n",
    "TITLE = \"Density vs Atomic Weight of Elements (colored by melting point)\"\n",
    "TOOLS = \"hover,pan,wheel_zoom,box_zoom,reset,save\"\n",
    "\n",
    "p = figure(tools=TOOLS, toolbar_location=\"above\", width=1200, title=TITLE)\n",
    "p.toolbar.logo = \"grey\"\n",
    "p.background_fill_color = \"#efefef\"\n",
    "p.xaxis.axis_label = \"atomic weight (amu)\"\n",
    "p.yaxis.axis_label = \"density (g/cm^3)\"\n",
    "p.grid.grid_line_color = \"white\"\n",
    "p.hover.tooltips = [\n",
    "    (\"name\", \"@name\"),\n",
    "    (\"symbol:\", \"@symbol\"),\n",
    "    (\"density\", \"@density\"),\n",
    "    (\"atomic weight\", \"@{atomic mass}\"),\n",
    "    (\"melting point\", \"@{melting point}\")\n",
    "]\n",
    "\n",
    "source = ColumnDataSource(elements)\n",
    "\n",
    "p.scatter(\"atomic mass\", \"density\", size=12, source=source,\n",
    "          color='melting_colors', line_color=\"black\", alpha=0.9)\n",
    "\n",
    "labels = LabelSet(x=\"atomic mass\", y=\"density\", text=\"symbol\", y_offset=8,\n",
    "                  text_font_size=\"11px\", text_color=\"#555555\",\n",
    "                  source=source, text_align='center')\n",
    "p.add_layout(labels)\n",
    "output_notebook()\n",
    "\n",
    "show(p)"
   ]
  },
  {
   "cell_type": "markdown",
   "id": "12",
   "metadata": {
    "slideshow": {
     "slide_type": "slide"
    }
   },
   "source": [
    "## Images as Scatter Objects"
   ]
  },
  {
   "cell_type": "code",
   "execution_count": null,
   "id": "13",
   "metadata": {
    "slideshow": {
     "slide_type": "fragment"
    }
   },
   "outputs": [],
   "source": [
    "import numpy as np\n",
    "\n",
    "from bokeh.core.properties import value\n",
    "from bokeh.plotting import figure, show\n",
    "\n",
    "url = \"https://courses.coe.drexel.edu/ENGR/ENGR131W23/_static/Drexel_Vertical%20stacked_Lockup_HEX.png\"\n",
    "x = np.random.random(150) * 100\n",
    "y = np.random.random(150) * 100\n",
    "\n",
    "p = figure(match_aspect=True, toolbar_location=None,\n",
    "           background_fill_color=\"#efefef\")\n",
    "\n",
    "# value is used here to prevent the string URL from being\n",
    "# interpreted as a column name from the data source.\n",
    "p.image_url(url=value(url), x=x, y=y, alpha=0.7, anchor=\"center\",\n",
    "            w=18, w_units=\"screen\", h=18, h_units=\"screen\")\n",
    "\n",
    "output_notebook()\n",
    "show(p)"
   ]
  },
  {
   "cell_type": "markdown",
   "id": "14",
   "metadata": {
    "slideshow": {
     "slide_type": "slide"
    }
   },
   "source": [
    "## Recreating Activity 2"
   ]
  },
  {
   "cell_type": "code",
   "execution_count": null,
   "id": "15",
   "metadata": {
    "slideshow": {
     "slide_type": "fragment"
    }
   },
   "outputs": [],
   "source": [
    "import bokeh.plotting as bp\n",
    "from bokeh.models import ColumnDataSource, LinearColorMapper, ColorBar, HoverTool, LabelSet\n",
    "from bokeh.palettes import Viridis256\n",
    "import pandas as pd\n",
    "\n",
    "# read the employment projection data\n",
    "path = \"./data/employment-projections.csv\"\n",
    "\n",
    "# open the file at the specified path for reading and give it the name f\n",
    "with open(path, \"r\") as f:\n",
    "    # create a pandas dataframe from the comma-separated file\n",
    "    df = pd.read_csv(f, delimiter=\",\")\n",
    "\n",
    "# add a new column to the dataframe, which is the size of the employment2021 scaled down by a factor of 5\n",
    "df['employment2021size_scaled'] = [x/5 for x in df['Employment 2021']]\n",
    "    \n",
    "# create a new bokeh plot\n",
    "p = bp.figure(\n",
    "    x_axis_label='Employment Change, 2021-2031 (%)',\n",
    "    y_axis_label='Median Annual Wage 2021 ($)',\n",
    "    title='Bubble Plot of Employment Projections for Engineers'\n",
    ")\n",
    "\n",
    "# create a column data source for the plot using the pandas dataframe\n",
    "source = ColumnDataSource(df)\n",
    "\n",
    "# create a color mapper for the scatter plot\n",
    "color_mapper = LinearColorMapper(palette=Viridis256, low=0, high=len(df))\n",
    "\n",
    "# create a scatter plot of the data, with the size of the bubbles determined by the scaled employment2021 size\n",
    "# and the color of the bubbles determined by the index of the data points and the color mapper\n",
    "scatter = p.scatter(\n",
    "    x='Employment Percent Change, 2021-2031',\n",
    "    y='Median Annual Wage 2021',\n",
    "    source=source,\n",
    "    size='employment2021size_scaled',\n",
    "    color={'field': 'index', 'transform': color_mapper},\n",
    "    alpha=0.3\n",
    ")\n",
    "\n",
    "# create a label set for the plot, which will display the occupation title for each bubble\n",
    "labels = LabelSet(\n",
    "    x='Employment Percent Change, 2021-2031',\n",
    "    y='Median Annual Wage 2021',\n",
    "    text='Occupation Title',\n",
    "    level='glyph',\n",
    "    x_offset=5,\n",
    "    y_offset=5,\n",
    "    source=source,\n",
    "    text_font_size='10pt'\n",
    ")\n",
    "\n",
    "# create a hover tool for the scatter plot, which will display information about each data point on mouseover\n",
    "hover = HoverTool(\n",
    "    tooltips=[\n",
    "        (\"Occupational Openings, 2021-2031\", \"@{Occupational Openings, 2021-2031 Annual Average}%\"), \n",
    "        (\"Median Annual Wage\", \"@{Median Annual Wage 2021}{$0,0}\")\n",
    "    ],\n",
    "    renderers=[scatter]\n",
    ")\n",
    "\n",
    "# create a color bar for the scatter plot, which will show the color mapping used for the bubbles\n",
    "color_bar = ColorBar(color_mapper=color_mapper, label_standoff=12, location=(0, 0))\n",
    "\n",
    "# add the color bar, hover tool, and label set to the plot\n",
    "p.add_layout(color_bar, 'right')\n",
    "p.add_tools(hover)\n",
    "p.add_layout(labels)\n",
    "\n",
    "output_notebook()\n",
    "# display the plot\n",
    "bp.show(p)\n"
   ]
  },
  {
   "cell_type": "code",
   "execution_count": null,
   "id": "16",
   "metadata": {},
   "outputs": [],
   "source": []
  }
 ],
 "metadata": {
  "celltoolbar": "Slideshow",
  "kernelspec": {
   "display_name": "Python 3 (ipykernel)",
   "language": "python",
   "name": "python3"
  },
  "language_info": {
   "codemirror_mode": {
    "name": "ipython",
    "version": 3
   },
   "file_extension": ".py",
   "mimetype": "text/x-python",
   "name": "python",
   "nbconvert_exporter": "python",
   "pygments_lexer": "ipython3",
   "version": "3.11.8"
  },
  "varInspector": {
   "cols": {
    "lenName": 16,
    "lenType": 16,
    "lenVar": 40
   },
   "kernels_config": {
    "python": {
     "delete_cmd_postfix": "",
     "delete_cmd_prefix": "del ",
     "library": "var_list.py",
     "varRefreshCmd": "print(var_dic_list())"
    },
    "r": {
     "delete_cmd_postfix": ") ",
     "delete_cmd_prefix": "rm(",
     "library": "var_list.r",
     "varRefreshCmd": "cat(var_dic_list()) "
    }
   },
   "types_to_exclude": [
    "module",
    "function",
    "builtin_function_or_method",
    "instance",
    "_Feature"
   ],
   "window_display": false
  }
 },
 "nbformat": 4,
 "nbformat_minor": 5
}
