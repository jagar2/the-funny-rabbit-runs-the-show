{
 "cells": [
  {
   "cell_type": "markdown",
   "metadata": {},
   "source": [
    "# 💻 Activity: Making a Updated Bubble Plot of Engineering Jobs\n",
    "\n",
    "In this activity, we will make a bubble plot of more recent Bureau of Labor Statistics data for projected engineering jobs. \n",
    "\n",
    "Again, add code where there are `...`"
   ]
  },
  {
   "cell_type": "code",
   "execution_count": null,
   "metadata": {},
   "outputs": [],
   "source": [
    "# import the scientific computing library numpy and give it the nickname np\n",
    "import numpy as np\n",
    "import matplotlib.pyplot as plt\n",
    "import pandas as pd"
   ]
  },
  {
   "cell_type": "code",
   "execution_count": null,
   "metadata": {},
   "outputs": [],
   "source": [
    "# read the employment projection data \n",
    "path = \"./data/employment-projections.csv\"\n",
    "\n",
    "# open the file at the specified path for reading and give it the name f\n",
    "with open(path, \"r\") as f:\n",
    "    # create a pandas dataframe from the comma-separated file\n",
    "    df = pd.read_csv(f, delimiter=\",\")\n",
    "\n",
    "# grabs all of the unique names from the file\n",
    "df.head()"
   ]
  },
  {
   "cell_type": "code",
   "execution_count": null,
   "metadata": {},
   "outputs": [],
   "source": [
    "# Create bubble plot of the median annual wage against the percent change in employment with the markers sized by employment in 2021\n",
    "fig, ax = plt.subplots(figsize=(10, 6))\n",
    "\n",
    "employment2021size = (df['Employment 2021']*2).tolist()\n",
    "\n",
    "bubble = ax.scatter(df['Employment Percent Change, 2021-2031'], df['Median Annual Wage 2021'], s=employment2021size, c=range(len(df)), cmap='viridis', alpha=0.9)\n",
    "\n",
    "plt.show()"
   ]
  },
  {
   "cell_type": "code",
   "execution_count": null,
   "metadata": {},
   "outputs": [],
   "source": [
    "# Set axis labels and title\n",
    "fig, ax = plt.subplots(figsize=(10, 6))\n",
    "\n",
    "employment2021size = (df['Employment 2021']*2).tolist()\n",
    "\n",
    "bubble = ax.scatter(df['Employment Percent Change, 2021-2031'], df['Median Annual Wage 2021'], s=employment2021size, c=range(len(df)), cmap='viridis', alpha=0.9)\n",
    "\n",
    "ax.set_xlabel('Employment Change, 2021-2031 (%)')\n",
    "ax.set_ylabel('Median Annual Wage 2021 ($)')\n",
    "ax.set_title('Bubble Plot of Employment Projections for Engineers')\n",
    "\n",
    "plt.show()"
   ]
  },
  {
   "cell_type": "code",
   "execution_count": null,
   "metadata": {},
   "outputs": [],
   "source": [
    "# Set axis labels and title\n",
    "fig, ax = plt.subplots(figsize=(10, 6))\n",
    "\n",
    "employment2021size = (df['Employment 2021']*2).tolist()\n",
    "\n",
    "bubble = ax.scatter(df['Employment Percent Change, 2021-2031'], df['Median Annual Wage 2021'], s=employment2021size, c=range(len(df)), cmap='viridis', alpha=0.9)\n",
    "\n",
    "# Add labels to bubbles\n",
    "for i, row in df.iterrows():\n",
    "    ax.text(row['Employment Percent Change, 2021-2031'], row['Median Annual Wage 2021'], row['Occupation Title'], ha='right', va='bottom')\n",
    "\n",
    "ax.set_xlabel('Employment Change, 2021-2031 (%)')\n",
    "ax.set_ylabel('Median Annual Wage 2021 ($)')\n",
    "ax.set_title('Bubble Plot of Employment Projections for Engineers')\n",
    "\n",
    "plt.show()"
   ]
  },
  {
   "cell_type": "code",
   "execution_count": null,
   "metadata": {},
   "outputs": [],
   "source": []
  }
 ],
 "metadata": {
  "kernelspec": {
   "display_name": "Python 3 (ipykernel)",
   "language": "python",
   "name": "python3"
  },
  "language_info": {
   "codemirror_mode": {
    "name": "ipython",
    "version": 3
   },
   "file_extension": ".py",
   "mimetype": "text/x-python",
   "name": "python",
   "nbconvert_exporter": "python",
   "pygments_lexer": "ipython3",
   "version": "3.10.8"
  },
  "varInspector": {
   "cols": {
    "lenName": 16,
    "lenType": 16,
    "lenVar": 40
   },
   "kernels_config": {
    "python": {
     "delete_cmd_postfix": "",
     "delete_cmd_prefix": "del ",
     "library": "var_list.py",
     "varRefreshCmd": "print(var_dic_list())"
    },
    "r": {
     "delete_cmd_postfix": ") ",
     "delete_cmd_prefix": "rm(",
     "library": "var_list.r",
     "varRefreshCmd": "cat(var_dic_list()) "
    }
   },
   "types_to_exclude": [
    "module",
    "function",
    "builtin_function_or_method",
    "instance",
    "_Feature"
   ],
   "window_display": false
  }
 },
 "nbformat": 4,
 "nbformat_minor": 2
}
