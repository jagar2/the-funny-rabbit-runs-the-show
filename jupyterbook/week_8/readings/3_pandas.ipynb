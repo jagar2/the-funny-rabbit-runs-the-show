{
 "cells": [
  {
   "cell_type": "markdown",
   "id": "0",
   "metadata": {},
   "source": [
    "# 📖 🐼 **Pandas DataFrames: The Swiss Army Knife of Data!**\n",
    "\n",
    "![](./assets/figures/panda-slide.gif)"
   ]
  },
  {
   "cell_type": "markdown",
   "id": "1",
   "metadata": {},
   "source": [
    "## 📦 What is a DataFrame?\n",
    "Think of a **pandas DataFrame** as a **spreadsheet on steroids**. It’s a two-dimensional data structure where:\n",
    "- **Rows** 🏠 represent individual data entries.\n",
    "- **Columns** 📊 hold different types of information about those entries.\n",
    "\n",
    "It’s like an **Excel sheet**, but **faster, smarter, and Pythonic**!\n"
   ]
  },
  {
   "cell_type": "markdown",
   "id": "2",
   "metadata": {},
   "source": [
    "## 🏗️ **Creating a DataFrame**\n",
    "Imagine you're running a **coffee shop ☕** and tracking orders. You can create a DataFrame like this:\n"
   ]
  },
  {
   "cell_type": "code",
   "execution_count": null,
   "id": "3",
   "metadata": {},
   "outputs": [],
   "source": [
    "import pandas as pd\n",
    "\n",
    "data = {\n",
    "    \"Customer\": [\"Alice\", \"Bob\", \"Charlie\"],\n",
    "    \"Order\": [\"Latte\", \"Espresso\", \"Mocha\"],\n",
    "    \"Price ($)\": [4.5, 3.0, 5.0],\n",
    "}\n",
    "\n",
    "df = pd.DataFrame(data)\n",
    "print(df)"
   ]
  },
  {
   "cell_type": "markdown",
   "id": "4",
   "metadata": {},
   "source": [
    "Boom! 🎉 We’ve got a DataFrame!\n"
   ]
  },
  {
   "cell_type": "markdown",
   "id": "5",
   "metadata": {},
   "source": [
    "## 🔎 **Accessing Data**\n",
    "Want to **peek** at the first few rows? Use `.head()`:\n",
    "\n",
    "Hey, this is a class method."
   ]
  },
  {
   "cell_type": "code",
   "execution_count": null,
   "id": "6",
   "metadata": {},
   "outputs": [],
   "source": [
    "df.head()"
   ]
  },
  {
   "cell_type": "markdown",
   "id": "7",
   "metadata": {},
   "source": [
    "\n",
    "Need just one column? Use **square brackets**:\n"
   ]
  },
  {
   "cell_type": "code",
   "execution_count": null,
   "id": "8",
   "metadata": {},
   "outputs": [],
   "source": [
    "df[\"Order\"]"
   ]
  },
  {
   "cell_type": "markdown",
   "id": "9",
   "metadata": {},
   "source": [
    "\n",
    "Wanna grab a single order? Use `.loc` or `.iloc`:\n"
   ]
  },
  {
   "cell_type": "code",
   "execution_count": null,
   "id": "10",
   "metadata": {},
   "outputs": [],
   "source": [
    "df.loc[1]  # Fetches row with index 1 (Bob's order)\n",
    "df.iloc[2]  # Fetches row at position 2 (Charlie’s order)"
   ]
  },
  {
   "cell_type": "markdown",
   "id": "11",
   "metadata": {},
   "source": [
    "\n",
    "📌 **Remember:** `.loc[]` is for labels, `.iloc[]` is for positions!\n"
   ]
  },
  {
   "cell_type": "markdown",
   "id": "12",
   "metadata": {},
   "source": [
    "## 🎛️ **Filtering Data**\n",
    "Let’s say we only want orders **above $4**:\n"
   ]
  },
  {
   "cell_type": "code",
   "execution_count": null,
   "id": "13",
   "metadata": {},
   "outputs": [],
   "source": [
    "expensive_orders = df[df[\"Price ($)\"] > 4]\n",
    "print(expensive_orders)"
   ]
  },
  {
   "cell_type": "markdown",
   "id": "14",
   "metadata": {},
   "source": [
    "\n",
    "Pandas filters like a **supercharged search engine**! 🔥\n"
   ]
  },
  {
   "cell_type": "markdown",
   "id": "15",
   "metadata": {},
   "source": [
    "## 🛠️ **Modifying Data**\n",
    "Oops! We had a **Happy Hour discount**—let’s apply a 10% discount:\n"
   ]
  },
  {
   "cell_type": "code",
   "execution_count": null,
   "id": "16",
   "metadata": {},
   "outputs": [],
   "source": [
    "df[\"Price ($)\"] = df[\"Price ($)\"] * 0.9"
   ]
  },
  {
   "cell_type": "markdown",
   "id": "17",
   "metadata": {},
   "source": [
    "\n",
    "Pandas lets you **modify** data like a boss 😎.\n"
   ]
  },
  {
   "cell_type": "markdown",
   "id": "18",
   "metadata": {},
   "source": [
    "## 📊 **Summarizing Data**\n",
    "Need a **quick summary**? Try `.describe()`:\n"
   ]
  },
  {
   "cell_type": "code",
   "execution_count": null,
   "id": "19",
   "metadata": {},
   "outputs": [],
   "source": [
    "df.describe()"
   ]
  },
  {
   "cell_type": "markdown",
   "id": "20",
   "metadata": {},
   "source": [
    "\n",
    "Want to know **how many of each drink** was ordered?\n"
   ]
  },
  {
   "cell_type": "code",
   "execution_count": null,
   "id": "21",
   "metadata": {},
   "outputs": [],
   "source": [
    "df[\"Order\"].value_counts()"
   ]
  },
  {
   "cell_type": "markdown",
   "id": "22",
   "metadata": {},
   "source": [
    "\n",
    "Pandas gives **instant insights** 📈.\n"
   ]
  },
  {
   "cell_type": "markdown",
   "id": "23",
   "metadata": {},
   "source": [
    "## 🏎️ **Speed Boost: Vectorized Operations**\n",
    "Instead of looping through rows (which is slow 🐌), use pandas’ **fast** operations:\n",
    "\n",
    "❌ **Slow way**:\n"
   ]
  },
  {
   "cell_type": "code",
   "execution_count": null,
   "id": "24",
   "metadata": {},
   "outputs": [],
   "source": [
    "df[\"Price with Tax\"] = [price * 1.07 for price in df[\"Price ($)\"]]"
   ]
  },
  {
   "cell_type": "markdown",
   "id": "25",
   "metadata": {},
   "source": [
    "\n",
    "✅ **Fast way** (vectorized 🚀):\n"
   ]
  },
  {
   "cell_type": "code",
   "execution_count": null,
   "id": "26",
   "metadata": {},
   "outputs": [],
   "source": [
    "df[\"Price with Tax\"] = df[\"Price ($)\"] * 1.07"
   ]
  },
  {
   "cell_type": "markdown",
   "id": "27",
   "metadata": {},
   "source": [
    "\n",
    "Pandas handles operations at **warp speed**! 🚀\n"
   ]
  },
  {
   "cell_type": "markdown",
   "id": "28",
   "metadata": {},
   "source": [
    "## 🎭 **Final Act: Exporting Data**\n",
    "Want to save your hard work? Pandas supports:\n",
    "\n",
    "📂 **CSV:** `df.to_csv(\"orders.csv\", index=False)`\n",
    "\n",
    "📊 **Excel:** `df.to_excel(\"orders.xlsx\", index=False)`\n",
    "\n",
    "📡 **JSON:** `df.to_json(\"orders.json\")`\n",
    "\n",
    "Boom! Your data is **ready to travel**! ✈️\n"
   ]
  },
  {
   "cell_type": "markdown",
   "id": "29",
   "metadata": {},
   "source": [
    "## 🎉 **Final Thoughts**\n",
    "Pandas is like a **data superhero** 🦸‍♂️—it can:\n",
    "\n",
    "✅ Read and write data 📂 \n",
    "\n",
    "✅ Slice and dice information 🔪\n",
    "\n",
    "✅ Analyze and visualize 📈\n",
    "\n",
    "✅ Handle massive datasets at lightning speed ⚡\n",
    "\n",
    "So, whether you're a **data scientist, analyst, or just curious**—pandas is your best friend! 🐼🔥\n",
    "\n",
    "Want to go deeper? Explore:\n",
    "\n",
    "📖 **Official Docs:** [https://pandas.pydata.org/](https://pandas.pydata.org/)\n"
   ]
  },
  {
   "cell_type": "markdown",
   "id": "30",
   "metadata": {},
   "source": []
  }
 ],
 "metadata": {
  "kernelspec": {
   "display_name": "Python 3",
   "language": "python",
   "name": "python3"
  },
  "language_info": {
   "codemirror_mode": {
    "name": "ipython",
    "version": 3
   },
   "file_extension": ".py",
   "mimetype": "text/x-python",
   "name": "python",
   "nbconvert_exporter": "python",
   "pygments_lexer": "ipython3",
   "version": "3.12.7"
  }
 },
 "nbformat": 4,
 "nbformat_minor": 5
}
