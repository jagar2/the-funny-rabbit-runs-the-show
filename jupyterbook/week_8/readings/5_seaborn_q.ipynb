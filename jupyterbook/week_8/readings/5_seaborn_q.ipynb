{
 "cells": [
  {
   "cell_type": "code",
   "execution_count": null,
   "id": "0",
   "metadata": {
    "deletable": false,
    "editable": false,
    "tags": [
     "skip-execution"
    ]
   },
   "outputs": [],
   "source": [
    "# You must make sure to run all cells in sequence using shift + enter or you might encounter errors\n",
    "from pykubegrader.initialize import initialize_assignment\n",
    "\n",
    "responses = initialize_assignment(\"5_seaborn_q\", \"week_8\", \"readings\", assignment_points = 20.0, assignment_tag = 'week8-readings')\n",
    "\n",
    "# Initialize Otter\n",
    "import otter\n",
    "grader = otter.Notebook(\"5_seaborn_q.ipynb\")"
   ]
  },
  {
   "cell_type": "markdown",
   "id": "1",
   "metadata": {
    "deletable": false,
    "editable": false
   },
   "source": [
    "# ❓ Seaborn Graphing Made Simple"
   ]
  },
  {
   "cell_type": "markdown",
   "id": "2",
   "metadata": {
    "deletable": false,
    "editable": false
   },
   "source": [
    "## Question 1 (Points: 8.0): Understanding Diamond Prices: A Data-Driven Exploration  \n",
    "\n",
    "![](./assets/figures/agar+ring.jpg)\n",
    "\n",
    "Diamonds are often considered a symbol of luxury, and their prices are influenced by multiple factors such as cut, clarity, carat, and color. But how do these factors correlate with each other, and what insights can we gain from visualizing their relationships?  \n",
    "\n",
    "In this analysis, we will explore the relationship between diamond cut quality and price using a **violin plot**, which helps us understand the distribution of diamond prices across different cut grades. Additionally, we will generate a **correlation heatmap** to identify which numerical features of diamonds (such as carat weight, depth, and table size) are most strongly related to price.  \n",
    "\n",
    "By analyzing these visualizations, we can answer key questions such as:  \n",
    "- Does a higher-quality cut always result in a higher price?  \n",
    "- Which diamond characteristics have the strongest correlation with price?  \n",
    "- Are there any surprising patterns or trends in the data?  \n",
    "\n",
    "Let's dive into the data and uncover the hidden patterns behind diamond pricing! 💎📊. \n",
    "\n",
    "We will provide you with inline instructions to help you complete the analysis."
   ]
  },
  {
   "cell_type": "code",
   "execution_count": null,
   "id": "3",
   "metadata": {
    "tags": [
     "skip-execution"
    ]
   },
   "outputs": [],
   "source": [
    "# Import necessary libraries\n",
    "# seaborn as sns\n",
    "# matplotlib.pyplot as plt\n",
    "# pandas as pd\n",
    "...\n",
    "\n",
    "# Load dataset\n",
    "# Load the diamonds dataset from seaborn, to do this you can use the `sns.load_dataset` function.\n",
    "# The diamonds dataset can be accessed by the name `diamonds`. See documentation [here](https://seaborn.pydata.org/generated/seaborn.load_dataset.html) for more information.\n",
    "...\n",
    "\n",
    "# Create figure with subplots\n",
    "# Create a figure with two subplots, one for the violin plot and one for the correlation heatmap. The subplots should be in a 1x2 grid.\n",
    "# Save the figure to the variable `fig`, and the axes to the variable `axes`.\n",
    "# The figure should be of size 16x6.\n",
    "...\n",
    "\n",
    "# Violin plot with color palette\n",
    "# Use the `sns.violinplot` function to create the violin plot.\n",
    "# You will need to access the `cut` and `price` columns of the dataframe. This is done by calling the pandas dataframe like a dictionary, e.g. `df[\"cut\"]` and `df[\"price\"]`.\n",
    "# The x-axis should be the `cut` column of the dataframe, and the y-axis should be the `price` column.\n",
    "# The color palette should be `pastel`.\n",
    "# The plot should be saved to the first subplot (`axes[0]`).\n",
    "...\n",
    "\n",
    "# Set the title, x-axis label, and y-axis label of the first subplot.\n",
    "# Note the axes object is a list of two axes objects, the first one is `axes[0]` and the second one is `axes[1]`.\n",
    "# The title should be \"Distribution of Diamond Prices by Cut Quality\".\n",
    "# The x-axis label should be \"Cut Quality\".\n",
    "# The y-axis label should be \"Price (USD)\".\n",
    "...\n",
    "\n",
    "# Correlation heatmap\n",
    "# Create a correlation matrix of the dataframe.\n",
    "# The correlation matrix should only include the numerical columns of the dataframe. You need to use the `corr` method of the dataframe. Make sure to set `numeric_only=True`.\n",
    "# You can access the numerical columns of the dataframe by calling `df.select_dtypes(include=[\"number\"])`.\n",
    "# Save the correlation matrix to the variable `corr_matrix`.\n",
    "...\n",
    "# Use the `sns.heatmap` function to create the heatmap.\n",
    "# The heatmap should be saved to the second subplot (`axes[1]`).\n",
    "# The color palette should be `coolwarm`.\n",
    "# The annotation should be the correlation matrix.\n",
    "# The annotation should be formatted to 2 decimal places.\n",
    "# look at the documentation for the `sns.heatmap` function for specific guidance.\n",
    "...\n",
    "# Set the title, x-axis label, and y-axis label of the second subplot.\n",
    "# The title should be \"Correlation Matrix of Diamond Features\".\n",
    "# The x-axis label should be \"Features\".\n",
    "# The y-axis label should be \"Features\".\n",
    "...\n",
    "\n",
    "# Show plots\n",
    "# Use the `plt.tight_layout` function to adjust the layout of the plots.\n",
    "# Use the `plt.show` function to display the plots.\n",
    "..."
   ]
  },
  {
   "cell_type": "code",
   "execution_count": null,
   "id": "4",
   "metadata": {
    "deletable": false,
    "editable": false,
    "tags": [
     "skip-execution"
    ]
   },
   "outputs": [],
   "source": [
    "grader.check(\"Alternative Distribution Plot with Diamonds Dataset\")"
   ]
  },
  {
   "cell_type": "markdown",
   "id": "5",
   "metadata": {
    "deletable": false,
    "editable": false
   },
   "source": [
    "## Question 2 (Points: 12.0): **Create and Analyze a Dendrogram for Wine Quality Data**\n",
    "\n",
    "The **Wine dataset** contains **chemical properties of different wines** from three cultivars (wine types). Your goal is to:\n",
    "\n",
    "1. Load the **UCI Wine dataset** from `sklearn.datasets`.\n",
    "2. Use **only the numerical features** (excluding the wine class label).\n",
    "3. Perform **hierarchical clustering** and generate a **dendrogram**.\n",
    "4. Customize the dendrogram for better readability.\n",
    "5. **Analyze the results**:\n",
    "   - How many clusters are formed at a **cutoff height of 200**?\n",
    "   - Based on clustering, which **two wine classes appear most similar**?\n",
    "\n",
    "**Expected Output:**\n",
    "- A **dendrogram** visualizing hierarchical clustering of the wine dataset.\n",
    "- Answers to the analysis questions."
   ]
  },
  {
   "cell_type": "code",
   "execution_count": null,
   "id": "6",
   "metadata": {
    "tags": [
     "skip-execution"
    ]
   },
   "outputs": [],
   "source": [
    "# Import necessary libraries\n",
    "# sklearn.datasets as load_wine\n",
    "# sklearn.preprocessing as MinMaxScaler\n",
    "# pandas.plotting as parallel_coordinates\n",
    "...\n",
    "# Load the wine dataset from sklearn, to do this you can use the `load_wine` function.\n",
    "...\n",
    "# Create a DataFrame from the wine dataset \n",
    "# The DataFrame should contain the feature names as columns and the target as the class column.\n",
    "...\n",
    "# Convert the target class to string for visualization\n",
    "...\n",
    "# Normalize numerical data using MinMaxScaler\n",
    "...\n",
    "# Normalize the numerical columns of the dataframe using the MinMaxScaler.\n",
    "# The numerical columns are all columns except the `class` column.\n",
    "...\n",
    "\n",
    "# Add the target class for coloring the parallel coordinates plot \n",
    "...\n",
    "# Plot parallel coordinates plot of the normalized data \n",
    "...\n",
    "# Use the `parallel_coordinates` function from pandas to create the parallel coordinates plot.\n",
    "# The dataframe should be the normalized dataframe.\n",
    "# The class column should be the target class.\n",
    "# The colormap should be `coolwarm`.\n",
    "# The transparency should be 0.7.\n",
    "\n",
    "...\n",
    "# Set the title, x-axis label, and y-axis label of the plot.\n",
    "# The title should be \"Parallel Coordinates Plot of Wine Dataset\".\n",
    "# The x-axis label should be \"Features\".\n",
    "# The y-axis label should be \"Normalized Values\".\n",
    "..."
   ]
  },
  {
   "cell_type": "code",
   "execution_count": null,
   "id": "7",
   "metadata": {
    "deletable": false,
    "editable": false,
    "tags": [
     "skip-execution"
    ]
   },
   "outputs": [],
   "source": [
    "grader.check(\"Creating and Analyzing a Dendrogram with Wine Dataset\")"
   ]
  },
  {
   "cell_type": "markdown",
   "id": "8",
   "metadata": {},
   "source": [
    "## Submitting Assignment\n",
    "\n",
    "Please run the following block of code using `shift + enter` to submit your assignment, you should see your score."
   ]
  },
  {
   "cell_type": "code",
   "execution_count": null,
   "id": "9",
   "metadata": {
    "deletable": false,
    "editable": true,
    "tags": [
     "skip-execution"
    ]
   },
   "outputs": [],
   "source": [
    "from pykubegrader.submit.submit_assignment import submit_assignment\n",
    "\n",
    "submit_assignment(\"week8-readings\", \"5_seaborn_q\")"
   ]
  }
 ],
 "metadata": {
  "kernelspec": {
   "display_name": "base",
   "language": "python",
   "name": "python3"
  },
  "language_info": {
   "codemirror_mode": {
    "name": "ipython",
    "version": 3
   },
   "file_extension": ".py",
   "mimetype": "text/x-python",
   "name": "python",
   "nbconvert_exporter": "python",
   "pygments_lexer": "ipython3",
   "version": "3.12.2"
  },
  "otter": {
   "OK_FORMAT": true,
   "tests": {
    "Alternative Distribution Plot with Diamonds Dataset": {
     "name": "Alternative Distribution Plot with Diamonds Dataset",
     "points": null,
     "suites": [
      {
       "cases": [
        {
         "code": ">>> from pykubegrader.telemetry import ensure_responses, log_variable, score_question, submit_question, telemetry, update_responses\n>>> import os\n>>> import base64\n>>> import sys\n>>> max_question_points = str(8.0)\n>>> earned_points = 0\n>>> os.environ['EARNED_POINTS'] = str(earned_points)\n>>> os.environ['TOTAL_POINTS_FREE_RESPONSE'] = str(20.0)\n>>> log_variable('total-points', f'week8-readings, 5_seaborn_q', 20.0)\n>>> question_id = 'Alternative Distribution Plot with Diamonds Dataset-1'\n>>> max_score = 1.0\n>>> score = 0\n>>> assert 'seaborn' in sys.modules, 'Seaborn is not imported.'\n>>> assert 'matplotlib.pyplot' in sys.modules, 'Matplotlib is not imported.'\n>>> assert 'pandas' in sys.modules, 'Pandas is not imported.'\n>>> if 'seaborn' in sys.modules and 'matplotlib.pyplot' in sys.modules and ('pandas' in sys.modules):\n...     score = 1.0\n>>> earned_points = float(os.environ.get('EARNED_POINTS', 0))\n>>> earned_points += score\n>>> log_variable('5_seaborn_q', f'{score}, {max_score}', question_id)\n>>> os.environ['EARNED_POINTS'] = str(earned_points)\n",
         "failure_message": "Failed: Libraries are not imported correctly.",
         "hidden": false,
         "locked": false,
         "points": 1,
         "success_message": "Success: Required libraries are imported correctly!"
        },
        {
         "code": ">>> from pykubegrader.telemetry import ensure_responses, log_variable, score_question, submit_question, telemetry, update_responses\n>>> import os\n>>> import base64\n>>> question_id = 'Alternative Distribution Plot with Diamonds Dataset-2'\n>>> max_score = 1.0\n>>> score = 0\n>>> assert 'df' in locals(), \"DataFrame 'df' is not defined.\"\n>>> assert isinstance(df, pd.DataFrame), 'df is not a pandas DataFrame.'\n>>> assert not df.empty, 'df is empty.'\n>>> if 'df' in locals() and isinstance(df, pd.DataFrame) and (not df.empty):\n...     score = 1.0\n>>> earned_points = float(os.environ.get('EARNED_POINTS', 0))\n>>> earned_points += score\n>>> log_variable('5_seaborn_q', f'{score}, {max_score}', question_id)\n>>> os.environ['EARNED_POINTS'] = str(earned_points)\n>>> responses = update_responses(question_id, str(df))\n",
         "failure_message": "Failed: Diamonds dataset is not loaded correctly.",
         "hidden": false,
         "locked": false,
         "points": 1,
         "success_message": "Success: Diamonds dataset loaded correctly!"
        },
        {
         "code": ">>> from pykubegrader.telemetry import ensure_responses, log_variable, score_question, submit_question, telemetry, update_responses\n>>> import os\n>>> import base64\n>>> import numpy as np\n>>> question_id = 'Alternative Distribution Plot with Diamonds Dataset-3'\n>>> max_score = 1.0\n>>> score = 0\n>>> assert 'fig' in locals() and 'axes' in locals(), 'Figure or axes are not defined.'\n>>> assert isinstance(fig, plt.Figure), 'fig is not a Matplotlib Figure.'\n>>> assert isinstance(axes, (list, tuple, np.ndarray)) and len(axes) == 2, 'axes is not a list of two elements.'\n>>> if ('fig' in locals() and 'axes' in locals()) and isinstance(fig, plt.Figure) and (isinstance(axes, (list, tuple, np.ndarray)) and len(axes) == 2):\n...     score = 1.0\n>>> earned_points = float(os.environ.get('EARNED_POINTS', 0))\n>>> earned_points += score\n>>> log_variable('5_seaborn_q', f'{score}, {max_score}', question_id)\n>>> os.environ['EARNED_POINTS'] = str(earned_points)\n>>> responses = update_responses(question_id, str(fig))\n>>> responses = update_responses(question_id, str(axes))\n",
         "failure_message": "Failed: Figure and subplots are not created correctly.",
         "hidden": false,
         "locked": false,
         "points": 1,
         "success_message": "Success: Figure and subplots created correctly!"
        },
        {
         "code": ">>> from pykubegrader.telemetry import ensure_responses, log_variable, score_question, submit_question, telemetry, update_responses\n>>> import os\n>>> import base64\n>>> question_id = 'Alternative Distribution Plot with Diamonds Dataset-4'\n>>> max_score = 1.0\n>>> score = 0\n>>> assert any((isinstance(child, plt.Axes) for child in fig.axes)), 'Violin plot is not created on the first subplot.'\n>>> if any((isinstance(child, plt.Axes) for child in fig.axes)):\n...     score = 1.0\n>>> earned_points = float(os.environ.get('EARNED_POINTS', 0))\n>>> earned_points += score\n>>> log_variable('5_seaborn_q', f'{score}, {max_score}', question_id)\n>>> os.environ['EARNED_POINTS'] = str(earned_points)\n",
         "failure_message": "Failed: Violin plot is not created correctly.",
         "hidden": false,
         "locked": false,
         "points": 1,
         "success_message": "Success: Violin plot created correctly!"
        },
        {
         "code": ">>> from pykubegrader.telemetry import ensure_responses, log_variable, score_question, submit_question, telemetry, update_responses\n>>> import os\n>>> import base64\n>>> question_id = 'Alternative Distribution Plot with Diamonds Dataset-5'\n>>> max_score = 1.0\n>>> score = 0\n>>> assert axes[0].get_title() == 'Distribution of Diamond Prices by Cut Quality', 'Violin plot title is incorrect.'\n>>> assert axes[0].get_xlabel() == 'Cut Quality', 'Violin plot x-axis label is incorrect.'\n>>> assert axes[0].get_ylabel() == 'Price (USD)', 'Violin plot y-axis label is incorrect.'\n>>> if axes[0].get_title() == 'Distribution of Diamond Prices by Cut Quality' and axes[0].get_xlabel() == 'Cut Quality' and (axes[0].get_ylabel() == 'Price (USD)'):\n...     score = 1.0\n>>> earned_points = float(os.environ.get('EARNED_POINTS', 0))\n>>> earned_points += score\n>>> log_variable('5_seaborn_q', f'{score}, {max_score}', question_id)\n>>> os.environ['EARNED_POINTS'] = str(earned_points)\n",
         "failure_message": "Failed: Titles or labels for violin plot are incorrect.",
         "hidden": false,
         "locked": false,
         "points": 1,
         "success_message": "Success: Titles and labels for violin plot set correctly!"
        },
        {
         "code": ">>> from pykubegrader.telemetry import ensure_responses, log_variable, score_question, submit_question, telemetry, update_responses\n>>> import os\n>>> import base64\n>>> question_id = 'Alternative Distribution Plot with Diamonds Dataset-6'\n>>> max_score = 1.0\n>>> score = 0\n>>> assert 'corr_matrix' in locals(), 'Correlation matrix is not defined.'\n>>> assert isinstance(corr_matrix, pd.DataFrame), 'corr_matrix is not a DataFrame.'\n>>> assert not corr_matrix.empty, 'Correlation matrix is empty.'\n>>> if 'corr_matrix' in locals() and isinstance(corr_matrix, pd.DataFrame) and (not corr_matrix.empty):\n...     score = 1.0\n>>> earned_points = float(os.environ.get('EARNED_POINTS', 0))\n>>> earned_points += score\n>>> log_variable('5_seaborn_q', f'{score}, {max_score}', question_id)\n>>> os.environ['EARNED_POINTS'] = str(earned_points)\n>>> responses = update_responses(question_id, str(corr_matrix))\n",
         "failure_message": "Failed: Correlation matrix is incorrect.",
         "hidden": false,
         "locked": false,
         "points": 1,
         "success_message": "Success: Correlation matrix created correctly!"
        },
        {
         "code": ">>> from pykubegrader.telemetry import ensure_responses, log_variable, score_question, submit_question, telemetry, update_responses\n>>> import os\n>>> import base64\n>>> question_id = 'Alternative Distribution Plot with Diamonds Dataset-7'\n>>> max_score = 1.0\n>>> score = 0\n>>> assert any((isinstance(child, plt.Axes) for child in fig.axes)), 'Heatmap is not created on the second subplot.'\n>>> if any((isinstance(child, plt.Axes) for child in fig.axes)):\n...     score = 1.0\n>>> earned_points = float(os.environ.get('EARNED_POINTS', 0))\n>>> earned_points += score\n>>> log_variable('5_seaborn_q', f'{score}, {max_score}', question_id)\n>>> os.environ['EARNED_POINTS'] = str(earned_points)\n",
         "failure_message": "Failed: Correlation heatmap is not created correctly.",
         "hidden": false,
         "locked": false,
         "points": 1,
         "success_message": "Success: Correlation heatmap created correctly!"
        },
        {
         "code": ">>> from pykubegrader.telemetry import ensure_responses, log_variable, score_question, submit_question, telemetry, update_responses\n>>> import os\n>>> import base64\n>>> question_id = 'Alternative Distribution Plot with Diamonds Dataset-8'\n>>> max_score = 1.0\n>>> score = 0\n>>> assert axes[1].get_title() == 'Correlation Matrix of Diamond Features', 'Heatmap title is incorrect.'\n>>> assert axes[1].get_xlabel() == 'Features', 'Heatmap x-axis label is incorrect.'\n>>> assert axes[1].get_ylabel() == 'Features', 'Heatmap y-axis label is incorrect.'\n>>> if axes[1].get_title() == 'Correlation Matrix of Diamond Features' and axes[1].get_xlabel() == 'Features' and (axes[1].get_ylabel() == 'Features'):\n...     score = 1.0\n>>> earned_points = float(os.environ.get('EARNED_POINTS', 0))\n>>> earned_points += score\n>>> log_variable('5_seaborn_q', f'{score}, {max_score}', question_id)\n>>> os.environ['EARNED_POINTS'] = str(earned_points)\n",
         "failure_message": "Failed: Titles or labels for heatmap are incorrect.",
         "hidden": false,
         "locked": false,
         "points": 1,
         "success_message": "Success: Titles and labels for heatmap set correctly!"
        }
       ],
       "scored": true,
       "setup": "",
       "teardown": "",
       "type": "doctest"
      }
     ]
    },
    "Creating and Analyzing a Dendrogram with Wine Dataset": {
     "name": "Creating and Analyzing a Dendrogram with Wine Dataset",
     "points": null,
     "suites": [
      {
       "cases": [
        {
         "code": ">>> from pykubegrader.telemetry import ensure_responses, log_variable, score_question, submit_question, telemetry, update_responses\n>>> import os\n>>> import base64\n>>> import sys\n>>> max_question_points = str(12.0)\n>>> earned_points = 0\n>>> os.environ['EARNED_POINTS'] = str(earned_points)\n>>> os.environ['TOTAL_POINTS_FREE_RESPONSE'] = str(20.0)\n>>> log_variable('total-points', f'week8-readings, 5_seaborn_q', 20.0)\n>>> question_id = 'Creating and Analyzing a Dendrogram with Wine Dataset-1'\n>>> max_score = 1.0\n>>> score = 0\n>>> assert 'sklearn.datasets' in sys.modules\n>>> assert 'sklearn.preprocessing' in sys.modules\n>>> assert 'pandas.plotting' in sys.modules\n>>> if 'sklearn.datasets' in sys.modules and 'sklearn.preprocessing' in sys.modules and ('pandas.plotting' in sys.modules):\n...     score = 1.0\n>>> earned_points = float(os.environ.get('EARNED_POINTS', 0))\n>>> earned_points += score\n>>> log_variable('5_seaborn_q', f'{score}, {max_score}', question_id)\n>>> os.environ['EARNED_POINTS'] = str(earned_points)\n",
         "failure_message": "Some required libraries are missing.",
         "hidden": false,
         "locked": false,
         "points": 1,
         "success_message": "Libraries imported correctly."
        },
        {
         "code": ">>> from pykubegrader.telemetry import ensure_responses, log_variable, score_question, submit_question, telemetry, update_responses\n>>> import os\n>>> import base64\n>>> import numpy as np\n>>> question_id = 'Creating and Analyzing a Dendrogram with Wine Dataset-2'\n>>> max_score = 2.0\n>>> score = 0\n>>> assert 'data' in wine and 'target' in wine\n>>> assert isinstance(wine.data, (list, tuple, np.ndarray))\n>>> if ('data' in wine and 'target' in wine) and isinstance(wine.data, (list, tuple, np.ndarray)):\n...     score = 2.0\n>>> earned_points = float(os.environ.get('EARNED_POINTS', 0))\n>>> earned_points += score\n>>> log_variable('5_seaborn_q', f'{score}, {max_score}', question_id)\n>>> os.environ['EARNED_POINTS'] = str(earned_points)\n",
         "failure_message": "Wine dataset is not loaded correctly.",
         "hidden": false,
         "locked": false,
         "points": 2,
         "success_message": "Wine dataset loaded correctly."
        },
        {
         "code": ">>> from pykubegrader.telemetry import ensure_responses, log_variable, score_question, submit_question, telemetry, update_responses\n>>> import os\n>>> import base64\n>>> question_id = 'Creating and Analyzing a Dendrogram with Wine Dataset-3'\n>>> max_score = 2.0\n>>> score = 0\n>>> assert isinstance(df, pd.DataFrame)\n>>> assert set(wine.feature_names).issubset(df.columns)\n>>> assert 'class' in df.columns\n>>> if isinstance(df, pd.DataFrame) and set(wine.feature_names).issubset(df.columns) and ('class' in df.columns):\n...     score = 2.0\n>>> earned_points = float(os.environ.get('EARNED_POINTS', 0))\n>>> earned_points += score\n>>> log_variable('5_seaborn_q', f'{score}, {max_score}', question_id)\n>>> os.environ['EARNED_POINTS'] = str(earned_points)\n",
         "failure_message": "Wine dataset DataFrame conversion is incorrect.",
         "hidden": false,
         "locked": false,
         "points": 2,
         "success_message": "Wine dataset converted into a DataFrame correctly."
        },
        {
         "code": ">>> from pykubegrader.telemetry import ensure_responses, log_variable, score_question, submit_question, telemetry, update_responses\n>>> import os\n>>> import base64\n>>> question_id = 'Creating and Analyzing a Dendrogram with Wine Dataset-4'\n>>> max_score = 2.0\n>>> score = 0\n>>> assert df['class'].dtype == object\n>>> if df['class'].dtype == object:\n...     score = 2.0\n>>> earned_points = float(os.environ.get('EARNED_POINTS', 0))\n>>> earned_points += score\n>>> log_variable('5_seaborn_q', f'{score}, {max_score}', question_id)\n>>> os.environ['EARNED_POINTS'] = str(earned_points)\n",
         "failure_message": "Target column is not in string format.",
         "hidden": false,
         "locked": false,
         "points": 2,
         "success_message": "Target column converted to string format."
        },
        {
         "code": ">>> from pykubegrader.telemetry import ensure_responses, log_variable, score_question, submit_question, telemetry, update_responses\n>>> import os\n>>> import base64\n>>> question_id = 'Creating and Analyzing a Dendrogram with Wine Dataset-5'\n>>> max_score = 2.0\n>>> score = 0\n>>> assert isinstance(scaler, MinMaxScaler)\n>>> if isinstance(scaler, MinMaxScaler):\n...     score = 2.0\n>>> earned_points = float(os.environ.get('EARNED_POINTS', 0))\n>>> earned_points += score\n>>> log_variable('5_seaborn_q', f'{score}, {max_score}', question_id)\n>>> os.environ['EARNED_POINTS'] = str(earned_points)\n",
         "failure_message": "MinMaxScaler is not initialized correctly.",
         "hidden": false,
         "locked": false,
         "points": 2,
         "success_message": "MinMaxScaler initialized correctly."
        },
        {
         "code": ">>> from pykubegrader.telemetry import ensure_responses, log_variable, score_question, submit_question, telemetry, update_responses\n>>> import os\n>>> import base64\n>>> import numpy as np\n>>> question_id = 'Creating and Analyzing a Dendrogram with Wine Dataset-6'\n>>> max_score = 3.0\n>>> score = 0\n>>> assert df_normalized.shape == df.shape\n>>> assert 'class' in df_normalized.columns\n>>> a_0 = df_normalized.drop(columns=['class']) >= 0\n>>> a_1 = df_normalized.drop(columns=['class']) <= 1\n>>> assert np.all(a_0) and np.all(a_1)\n>>> if df_normalized.shape == df.shape and 'class' in df_normalized.columns and (np.all(a_0) and np.all(a_1)):\n...     score = 3.0\n>>> earned_points = float(os.environ.get('EARNED_POINTS', 0))\n>>> earned_points += score\n>>> log_variable('5_seaborn_q', f'{score}, {max_score}', question_id)\n>>> os.environ['EARNED_POINTS'] = str(earned_points)\n",
         "failure_message": "Numerical data normalization is incorrect.",
         "hidden": false,
         "locked": false,
         "points": 3,
         "success_message": "Numerical data correctly normalized."
        }
       ],
       "scored": true,
       "setup": "",
       "teardown": "",
       "type": "doctest"
      }
     ]
    }
   }
  }
 },
 "nbformat": 4,
 "nbformat_minor": 5
}
