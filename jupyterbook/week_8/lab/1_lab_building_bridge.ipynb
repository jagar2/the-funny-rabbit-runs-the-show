{
 "cells": [
  {
   "cell_type": "code",
   "execution_count": null,
   "id": "0",
   "metadata": {
    "deletable": false,
    "editable": false,
    "tags": [
     "skip-execution"
    ]
   },
   "outputs": [],
   "source": [
    "# You must make sure to run all cells in sequence using shift + enter or you might encounter errors\n",
    "from pykubegrader.initialize import initialize_assignment\n",
    "\n",
    "responses = initialize_assignment(\"1_lab_building_bridge\", \"week_8\", \"lab\", assignment_points = 126.0, assignment_tag = 'week8-lab')\n",
    "\n",
    "# Initialize Otter\n",
    "import otter\n",
    "grader = otter.Notebook(\"1_lab_building_bridge.ipynb\")"
   ]
  },
  {
   "cell_type": "markdown",
   "id": "1",
   "metadata": {
    "deletable": false,
    "editable": false
   },
   "source": [
    "# 🏗️ **Mission: Bridge Safety Analysis – The Engineer’s Challenge!** 🌉\n"
   ]
  },
  {
   "cell_type": "markdown",
   "id": "2",
   "metadata": {
    "deletable": false,
    "editable": false
   },
   "source": [
    "## **🚀 Introduction: Welcome to the Team!**\n",
    "Congratulations, Engineer! 🎉 You’ve just been hired as the lead **structural engineer** at **SteelWorks Inc.** Your first mission? **Analyze the safety of the Golden Gate Bridge under different loading conditions**—or risk total catastrophe! 😱\n",
    "\n",
    "Our bridge must **withstand traffic loads, fierce winds, and the occasional flock of overly enthusiastic pigeons**. 🐦💨 As a skilled Python programmer, you’ll use **Object-Oriented Programming (OOP), scientific computing, and graphing techniques** to ensure that **our bridge doesn’t collapse into the ocean!** 🌊\n"
   ]
  },
  {
   "cell_type": "markdown",
   "id": "3",
   "metadata": {
    "deletable": false,
    "editable": false
   },
   "source": [
    "## **🛠️ Engineering Context: Why This Matters?**\n",
    "Every year, bridges are **designed, tested, and maintained** to ensure safety for **millions of people**. A **poorly designed bridge** can lead to **catastrophic failures**—remember the **Tacoma Narrows Bridge disaster**? 🌪️🌉 *Oops.*\n",
    "\n",
    "By analyzing real-world **deflection curves, stress distributions, and wind loads**, you will:\n",
    "💡 Learn **fundamental mechanics principles** using computational tools.\n",
    "💡 Develop **engineering intuition** on load-bearing structures.\n",
    "💡 Prepare for your future as an **engineering superhero!** 🦸‍♂️⚡\n"
   ]
  },
  {
   "cell_type": "markdown",
   "id": "4",
   "metadata": {
    "deletable": false,
    "editable": false
   },
   "source": [
    "## **🎯 Your Challenge: Save the Bridge!**\n",
    "You will **design a Python simulation** that includes:\n",
    "🛑 **Beam Deflection Analysis**: How much will our bridge bend under load?\n",
    "🛑 **Stress & Safety Factor Checks**: Will our materials **withstand** the forces?\n",
    "🛑 **Wind Load Effects**: What happens when strong winds hit the bridge? 🌬️\n",
    "🛑 **Graphical Reports**: Visualize stress, deflection, and safety margins.\n",
    "\n"
   ]
  },
  {
   "cell_type": "markdown",
   "id": "5",
   "metadata": {
    "deletable": false,
    "editable": false
   },
   "source": [
    "## **🔧 Engineering Formulas Used**\n",
    "We’ll use some **key engineering equations** in our Python models:\n"
   ]
  },
  {
   "cell_type": "markdown",
   "id": "6",
   "metadata": {
    "deletable": false,
    "editable": false
   },
   "source": [
    "### **🌀 Beam Deflection Equation** (Traffic Load)\n",
    "$$\n",
    "y(x) = \\frac{q x (L-x)}{24 E I} (L^2 - x^2)\n",
    "$$\n"
   ]
  },
  {
   "cell_type": "markdown",
   "id": "7",
   "metadata": {
    "deletable": false,
    "editable": false
   },
   "source": [
    "### **💪 Bending Stress in the Beam**\n",
    "$$\n",
    "\\sigma(x) = \\frac{M(x) c}{I}, \\quad M(x) = \\frac{q x (L - x)}{2}\n",
    "$$\n"
   ]
  },
  {
   "cell_type": "markdown",
   "id": "8",
   "metadata": {
    "deletable": false,
    "editable": false
   },
   "source": [
    "### **🌬️ Wind Load Contribution**\n",
    "$$\n",
    "M_{wind}(x) = W x (L - x)\n",
    "$$\n",
    "\n",
    "$$\n",
    "M_{total}(x) = M(x) + M_{wind}(x)\n",
    "$$\n"
   ]
  },
  {
   "cell_type": "markdown",
   "id": "9",
   "metadata": {
    "deletable": false,
    "editable": false
   },
   "source": [
    "## **📈 Graphing & Visualization**\n",
    "You’ll use **Matplotlib** to create stunning plots for:\\\n",
    "📊 **Bridge deflection curves** to see how much it bends.\\\n",
    "📊 **Stress distribution plots** to analyze failure points.\\\n",
    "📊 **Wind load impact graphs** to visualize dangerous weather effects.\\\n"
   ]
  },
  {
   "cell_type": "markdown",
   "id": "10",
   "metadata": {
    "deletable": false,
    "editable": false
   },
   "source": [
    "## **💾 Coding Concepts You’ll Apply**\n",
    "🔹 **Object-Oriented Programming (OOP)** – Classes, Inheritance, Encapsulation.\\\n",
    "🔹 **Encapsulation with `@property` methods** – Dynamic safety factor updates.\n"
   ]
  },
  {
   "cell_type": "markdown",
   "id": "11",
   "metadata": {
    "deletable": false,
    "editable": false
   },
   "source": [
    "## **Step 1: Abstract Base Class for Bridge Components**\n",
    "We enforce structure using an **abstract class** for **bridge components**. Remember, this is a great way to protect you from yourself! Moreover, as an engineer, you need to make sure that you do not miss the safety factor! Therefore we are going to use getter and setter methods to ensure that we don't accidentally mess with, or include a safety factor that is less than 1.0!\n",
    "\n",
    "Recall a safety factor is a factor of safety that is used to ensure that the bridge is safe. It is defined as the ratio of the yield strength to the stress in the bridge.\n"
   ]
  },
  {
   "cell_type": "code",
   "execution_count": null,
   "id": "12",
   "metadata": {
    "tags": [
     "skip-execution"
    ]
   },
   "outputs": [],
   "source": [
    "# import the necessary libraries \n",
    "# from abc import ABC, abstractmethod\n",
    "# import numpy as np\n",
    "# import matplotlib.pyplot as plt\n",
    "...\n",
    "\n",
    "# Define the BridgeComponent class make sure that it inherits from ABC\n",
    "...\n",
    "    \"\"\"Abstract base class for all bridge components.\n",
    "    \n",
    "    This class defines the common interface and properties that all bridge components must implement.\n",
    "    It enforces safety requirements through validation of safety factors.\n",
    "    \n",
    "    Attributes:\n",
    "        material (str): The material the component is made of\n",
    "        length (float): Length of the component in meters\n",
    "        yield_strength (float): The yield strength of the material in Pa\n",
    "        _safety_factor (float): Safety factor that must be > 1.0\n",
    "    \"\"\"\n",
    "    # Define the __init__ method\n",
    "    # This is the constructor for the class look at the docstring to understand the arguments\n",
    "    ...\n",
    "        \"\"\"Initialize a bridge component.\n",
    "        \n",
    "        Args:\n",
    "            material (str): Material name/type\n",
    "            length (float): Component length in meters\n",
    "            yield_strength (float): Material yield strength in Pa\n",
    "            safety_factor (float): Safety factor > 1.0\n",
    "        \"\"\"\n",
    "        # Assign the atributes to the instance of the class, for the safety factor we should use a private variable commonly denoted by a single underscore in front of the variable name\n",
    "        ...\n",
    "\n",
    "    # Define the safety_factor using the @property decorator\n",
    "    # This should return the value for the safety factor\n",
    "    ...\n",
    "    \n",
    "    # Define the setter for the safety factor\n",
    "    # This should set the value for the safety factor\n",
    "    # the syntax is @property_name.setter\n",
    "    # make sure that the setter checks if the value is greater than 1.0\n",
    "    # if it is less than 1.0, it should raise a ValueError(\"Safety factor must be greater than 1.0\")\n",
    "    ...\n",
    "    \n",
    "    # Define the compute_stress method\n",
    "    # This should be an abstract method that must be implemented by the subclasses\n",
    "    # for now, we will just pass the method\n",
    "    ...\n",
    "    \n",
    "    # Define the is_safe method\n",
    "    # This should check if the stress is less than the yield strength divided by the safety factor, save the result in a variable called safe_limit\n",
    "    # then return the result of the comparison between the stress and the safe_limit\n",
    "    # the safe_limit can be a local variable or a property of the class\n",
    "    ..."
   ]
  },
  {
   "cell_type": "code",
   "execution_count": null,
   "id": "13",
   "metadata": {
    "deletable": false,
    "editable": false,
    "tags": [
     "skip-execution"
    ]
   },
   "outputs": [],
   "source": [
    "grader.check(\"q1-bridge-component\")"
   ]
  },
  {
   "cell_type": "markdown",
   "id": "14",
   "metadata": {
    "deletable": false,
    "editable": false
   },
   "source": [
    "## Question 1 (Points: 12.0): **Step 2: Beam and Cable Components**\n",
    "\n",
    "Bridges are built up of beams and cables, so we need to define the components that make up the bridge. A beam and a cable are both bridge components, so it makes sense to inherit from the BridgeComponent class.\n",
    "\n",
    "We define **`Beam`** and **`Cable`**, each with a **compute_stress** function.\n"
   ]
  },
  {
   "cell_type": "code",
   "execution_count": null,
   "id": "15",
   "metadata": {
    "tags": [
     "skip-execution"
    ]
   },
   "outputs": [],
   "source": [
    "# define the Beam class, make sure that it inherits from BridgeComponent\n",
    "...\n",
    "    \"\"\"Represents a bridge beam that undergoes bending stress.\n",
    "    \n",
    "    A beam is a structural element that primarily resists loads applied laterally to its axis.\n",
    "    It experiences bending stress due to these loads.\n",
    "    \n",
    "    Args:\n",
    "        material (str): Material name of the beam\n",
    "        length (float): Length of the beam in meters\n",
    "        yield_strength (float): Yield strength of the material in Pa\n",
    "        safety_factor (float): Safety factor to apply to yield strength\n",
    "        moment_of_inertia (float): Second moment of area in m^4\n",
    "        neutral_axis_distance (float): Distance from neutral axis to outer fiber in m\n",
    "        uniform_load (float): Uniformly distributed load in N/m\n",
    "    \"\"\"\n",
    "\n",
    "    # define the __init__ method, make sure that it calls the __init__ method of the BridgeComponent class, use super() to do this, it should take the arguments from the docstring\n",
    "    ...\n",
    "\n",
    "        # This is where you should call the __init__ method of the BridgeComponent class, use super() to do this, it should take the arguments from the docstring\n",
    "        ...\n",
    "\n",
    "        # This is where you should define the instance variables for the moment of inertia, neutral axis distance, and uniform load\n",
    "        ...\n",
    "\n",
    "    # define the compute_stress method\n",
    "    # This should compute the maximum bending stress in the beam\n",
    "    ...\n",
    "        \"\"\"Computes maximum bending stress in the beam.\n",
    "        \n",
    "        Calculates the maximum bending stress at the mid-span of the beam using\n",
    "        the flexure formula σ = My/I, where M is the bending moment, y is the distance\n",
    "        from neutral axis, and I is the moment of inertia.\n",
    "        \n",
    "        Returns:\n",
    "            float: Maximum bending stress in Pa\n",
    "        \"\"\"\n",
    "        # Compute the mid-span of the beam the length divided by 2\n",
    "        ...\n",
    "\n",
    "        # Compute the bending moment at the mid-span of the beam using the uniform load and the length of the beam\n",
    "        # the formula is M = qx(L-x)/2, where q is the uniform load, x is the mid-span of the beam, and L is the length of the beam\n",
    "        ...\n",
    "\n",
    "        # Compute the maximum bending stress at the mid-span of the beam using the bending moment, the neutral axis distance, and the moment of inertia\n",
    "        # the formula is σ = My/I, where M is the bending moment, y is the neutral axis distance, and I is the moment of inertia\n",
    "        ...\n",
    "\n",
    "    # define the plot_deflection method\n",
    "    # This should plot the deflection curve of the beam using LaTeX equations\n",
    "    ...\n",
    "        \"\"\"Plots the deflection curve of the beam using LaTeX equations.\n",
    "        \n",
    "        Creates a matplotlib figure showing the beam's deflection along its length.\n",
    "        The deflection is calculated using the elastic curve equation for a uniformly\n",
    "        loaded beam. The plot includes axis labels, title with the equation, and grid.\n",
    "        \n",
    "        Returns:\n",
    "            None\n",
    "        \"\"\"\n",
    "        # Compute the deflection of the beam using the elastic curve equation for a uniformly loaded beam\n",
    "        # set x to be a linspaced array from 0 to the length of the beam with 100 points, use np.linspace\n",
    "        # set y to be the deflection of the beam using the elastic curve equation for a uniformly loaded beam\n",
    "        # the formula is y = (qx(L-x)/24EI) * (L^2 - x^2), where q is the uniform load, x is the position along the beam, L is the length of the beam, E is the elastic modulus, and I is the moment of inertia\n",
    "        ...\n",
    "\n",
    "        # plot the deflection of the beam using the elastic curve equation for a uniformly loaded beam\n",
    "        # make a figure using the plt.figure() function, and assign it to the variable fig\n",
    "        # make an axis using the fig.add_subplot() function, and assign it to the variable ax\n",
    "        # plot the deflection of the beam using the ax.plot() function\n",
    "        # set the xlabel of the axis to be \"Position along bridge (m)\"\n",
    "        # set the ylabel of the axis to be \"Deflection (m)\"\n",
    "        # set the title of the axis to be the LaTeX equation for the deflection of the beam the string should be r\"Bridge Deflection: $y(x) = \\frac{q x (L-x)}{24EI} (L^2 - x^2)$\"\n",
    "        # call the legend of the axis using the ax.legend() function\n",
    "        # call the grid of the axis using the ax.grid() function\n",
    "        # call the show of the figure using the plt.show() function\n",
    "        ...\n",
    "\n",
    "# define the Cable class, make sure that it inherits from BridgeComponent\n",
    "...\n",
    "    \"\"\"Represents a bridge cable under tension.\n",
    "    \n",
    "    A cable is a structural element that carries only tensile forces.\n",
    "    It is commonly used in suspension and cable-stayed bridges.\n",
    "    \n",
    "    Args:\n",
    "        material (str): Material name of the cable\n",
    "        length (float): Length of the cable in meters\n",
    "        yield_strength (float): Yield strength of the material in Pa\n",
    "        safety_factor (float): Safety factor to apply to yield strength\n",
    "        tension_force (float): Axial tension force in the cable in N\n",
    "        cross_section_area (float): Cross-sectional area of the cable in m^2\n",
    "    \"\"\"\n",
    "\n",
    "    # define the __init__ method, make sure that it calls the __init__ method of the BridgeComponent class, use super() to do this, it should take the arguments from the docstring\n",
    "    ...\n",
    "\n",
    "        # This is where you should call the __init__ method of the BridgeComponent class, use super() to do this, it should take the arguments from the docstring\n",
    "        ...\n",
    "\n",
    "        # This is where you should define the instance variables for the tension force and the cross-sectional area\n",
    "        ...\n",
    "\n",
    "    # define the compute_stress method\n",
    "    # This should compute the tensile stress in the cable using the formula σ = F/A, where F is the tension force and A is the cross-sectional area\n",
    "    ..."
   ]
  },
  {
   "cell_type": "code",
   "execution_count": null,
   "id": "16",
   "metadata": {
    "deletable": false,
    "editable": false,
    "tags": [
     "skip-execution"
    ]
   },
   "outputs": [],
   "source": [
    "grader.check(\"q2-beam-cable\")"
   ]
  },
  {
   "cell_type": "markdown",
   "id": "17",
   "metadata": {
    "deletable": false,
    "editable": false
   },
   "source": [
    "## Question 2 (Points: 30.0): **Step 4: Bridge Class Using Composition**\n",
    "Now, we define a **bridge object** that **contains beams and cables**.\n"
   ]
  },
  {
   "cell_type": "code",
   "execution_count": null,
   "id": "18",
   "metadata": {
    "tags": [
     "skip-execution"
    ]
   },
   "outputs": [],
   "source": [
    "# define the Bridge class, make sure that it inherits from BridgeComponent\n",
    "...\n",
    "    \"\"\"A class representing a bridge structure composed of multiple components.\n",
    "\n",
    "    This class manages a collection of bridge components like beams and cables,\n",
    "    and provides methods to add components and check their structural safety.\n",
    "\n",
    "    Attributes:\n",
    "        name (str): The name identifier for the bridge\n",
    "        length (float): The total length of the bridge in meters\n",
    "        elastic_modulus (float): Young's modulus of the bridge material in Pascals\n",
    "        components (list): List of BridgeComponent objects that make up the bridge\n",
    "    \"\"\"\n",
    "\n",
    "    # define the __init__ method, make sure that it takes the arguments from the docstring\n",
    "    ...\n",
    "        \"\"\"Initialize a new Bridge instance.\n",
    "\n",
    "        Args:\n",
    "            name (str): The name identifier for the bridge\n",
    "            length (float): The total length of the bridge in meters\n",
    "            elastic_modulus (float): Young's modulus of the bridge material in Pascals\n",
    "        \"\"\"\n",
    "        # This is where you should define the instance variables for the name, length, elastic modulus, and components\n",
    "        # add an empty list to the instance variables for the components\n",
    "        ...\n",
    "\n",
    "    # define the add_component method\n",
    "    # This should add a bridge component to the bridge structure\n",
    "    ...\n",
    "        \"\"\"Adds a bridge component to the bridge structure.\n",
    "\n",
    "        Args:\n",
    "            component (BridgeComponent): A bridge component object (beam, cable, etc.)\n",
    "        \"\"\"\n",
    "        # add the component to the components list\n",
    "        ...\n",
    "\n",
    "    # define the check_safety method\n",
    "    # This should perform a safety analysis on all bridge components\n",
    "    ...\n",
    "    \n",
    "        \"\"\"Performs a safety analysis on all bridge components.\n",
    "\n",
    "        Calculates stress for each component and checks if it's within safe limits.\n",
    "        Prints a detailed safety report including stress values and safety status\n",
    "        for each component, followed by an overall bridge safety verdict.\n",
    "\n",
    "        Returns:\n",
    "            None\n",
    "        \"\"\"\n",
    "        # initialize a boolean variable called bridge_safe to be True\n",
    "        ...\n",
    "        # print the name of the bridge using the print() function\n",
    "        # the string should be f\"\\n🔍 Safety Analysis for <name> Bridge:\"\n",
    "        # recall \\n is a newline character and f is used for formatted strings, <name> should be the name of the bridge\n",
    "        ...\n",
    "\n",
    "        # loop through the components list, and assign the current component to the variable component\n",
    "        ...\n",
    "            # compute the stress of the current component using the compute_stress method\n",
    "            ...\n",
    "            # check if the stress is safe using the is_safe method\n",
    "            # here we are using polymorphism to call the is_safe method of the current component\n",
    "            ...\n",
    "            # get the type of the current component using the __class__.__name__ attribute\n",
    "            # this is a way to get the type of the current component using Python's magic methods\n",
    "            # __class__ returns the class object of the instance\n",
    "            # __name__ returns the string name of the class\n",
    "            ...\n",
    "            \n",
    "            # print the type of the current component, the stress, and the safety status\n",
    "            print(f\"  - {component_type}: Stress = {stress:.2f} Pa | Safe: {'✅' if safe else '⚠️'}\")\n",
    "            \n",
    "            # if the stress is not safe, set the bridge_safe variable to False\n",
    "            ...\n",
    "\n",
    "        # print the final verdict\n",
    "        print(\"\\nFinal Verdict:\", \"✅ Bridge is SAFE\" if bridge_safe else \"⚠️ WARNING: Bridge is UNSAFE\")\n"
   ]
  },
  {
   "cell_type": "code",
   "execution_count": null,
   "id": "19",
   "metadata": {
    "deletable": false,
    "editable": false,
    "tags": [
     "skip-execution"
    ]
   },
   "outputs": [],
   "source": [
    "grader.check(\"Bridge-Class-Composition\")"
   ]
  },
  {
   "cell_type": "markdown",
   "id": "20",
   "metadata": {
    "deletable": false,
    "editable": false
   },
   "source": [
    "## Question 3 (Points: 16.0): **Step 3: Wind and Load Analysis**\n",
    "We extend the bridge to handle **wind effects**.\n"
   ]
  },
  {
   "cell_type": "code",
   "execution_count": null,
   "id": "21",
   "metadata": {
    "tags": [
     "skip-execution"
    ]
   },
   "outputs": [],
   "source": [
    "# define the WindLoadedBridge class, make sure that it inherits from Bridge\n",
    "...\n",
    "    \"\"\"A bridge class that accounts for wind loading effects.\n",
    "    \n",
    "    This class extends the base Bridge class to include wind force calculations\n",
    "    and analysis. It provides methods to analyze and visualize the combined effects\n",
    "    of traffic and wind loads on the bridge structure.\n",
    "    \n",
    "    Args:\n",
    "        name (str): Name of the bridge\n",
    "        length (float): Length of the bridge in meters\n",
    "        elastic_modulus (float): Elastic modulus of the bridge material in Pascals\n",
    "        wind_load (float): Wind load force per unit length (N/m)\n",
    "        \n",
    "    Attributes:\n",
    "        bridge (Bridge): Reference to the base bridge object\n",
    "        wind_load (float): Wind load magnitude\n",
    "    \"\"\"\n",
    "\n",
    "    # define the __init__ method, make sure that it calls the __init__ method of the Bridge class, use super() to do this, it should take the arguments from the docstring\n",
    "    ...\n",
    "\n",
    "        # This is where you should call the __init__ method of the Bridge class, use super() to do this, it should take the arguments from the docstring\n",
    "        ...\n",
    "\n",
    "    def plot_bending_moment(self):\n",
    "        \"\"\"Plots the bending moment distribution with LaTeX equations.\n",
    "        \n",
    "        Creates a matplotlib figure showing three curves:\n",
    "        1. Bending moment due to traffic load\n",
    "        2. Bending moment due to wind load  \n",
    "        3. Total combined bending moment\n",
    "        \n",
    "        The plot includes LaTeX formatted equations in the legend explaining\n",
    "        the moment calculations. Grid lines and proper axis labels are included\n",
    "        for clarity.\n",
    "        \"\"\"\n",
    "        # Compute the bending moment due to traffic load\n",
    "        # set x to be a linspaced array from 0 to the length of the bridge with 100 points, use np.linspace\n",
    "        # set M_traffic to be the bending moment due to traffic load using the formula M = qx(L-x)/2, where q is the traffic load, x is the position along the bridge, and L is the length of the bridge, we will assume the traffic load is 5000 N/m\n",
    "        ...\n",
    "\n",
    "        # Compute the bending moment due to wind load the expression is M_wind = wind load * x * (bridge length - x)\n",
    "        ...\n",
    "\n",
    "        # Compute the total bending moment the expression is M_total = M_traffic + M_wind\n",
    "        ...\n",
    "\n",
    "        # Plot the bending moment distribution\n",
    "        # make a figure using the plt.figure() function, and assign it to the variable fig\n",
    "        # make an axis using the fig.add_subplot(111) function, and assign it to the variable ax\n",
    "        ...\n",
    "        \n",
    "        # on the same axis, plot the bending moment due to traffic load, the bending moment due to wind load, and the total bending moment\n",
    "        # use the ax.plot() function to plot the bending moment due to traffic load, the bending moment due to wind load, and the total bending moment\n",
    "        # set the label of the bending moment due to traffic load to be r\"Traffic Load: $M(x) = \\frac{q x (L-x)}{2}$\"\n",
    "        # set the label of the bending moment due to wind load to be r\"Wind Load: $M_{wind}(x) = W x (L - x)$\", set the linestyle to be dashed\n",
    "        # set the label of the total bending moment to be r\"Total Moment: $M_{total} = M + M_{wind}$\"\n",
    "        ...\n",
    "\n",
    "        # set the xlabel of the axis to be \"Position along bridge (m)\"\n",
    "        # set the ylabel of the axis to be \"Bending Moment (N·m)\"\n",
    "        # set the title of the axis to be \"Effect of Wind Load on Bending Moment\"\n",
    "        # call the legend of the axis using the ax.legend() function\n",
    "        # call the grid of the axis using the ax.grid() function\n",
    "        # call the show of the figure using the plt.show() function\n",
    "        ..."
   ]
  },
  {
   "cell_type": "code",
   "execution_count": null,
   "id": "22",
   "metadata": {
    "deletable": false,
    "editable": false,
    "tags": [
     "skip-execution"
    ]
   },
   "outputs": [],
   "source": [
    "grader.check(\"WindLoadedBridge-Class\")"
   ]
  },
  {
   "cell_type": "markdown",
   "id": "23",
   "metadata": {
    "deletable": false,
    "editable": false
   },
   "source": [
    "## Question 4 (Points: 21.0): **Step 5: Running the Full Analysis**"
   ]
  },
  {
   "cell_type": "markdown",
   "id": "24",
   "metadata": {
    "deletable": false,
    "editable": false
   },
   "source": [
    "### **Create and Evaluate a Bridge**"
   ]
  },
  {
   "cell_type": "code",
   "execution_count": null,
   "id": "25",
   "metadata": {
    "tags": [
     "skip-execution"
    ]
   },
   "outputs": [],
   "source": [
    "# Create a bridge\n",
    "# create a bridge object with the name \"Golden Gate\", length 100 meters, and elastic modulus 2.1e11 Pa\n",
    "# length is 100 meters, elastic modulus is 2.1e11 Pa\n",
    "...\n",
    "\n",
    "# Add a beam component\n",
    "# create a beam, `beam` object with the material \"Steel\", length 100 meters, yield strength 250e6 Pa, safety factor 1.5, moment of inertia 5e-3 m^4, neutral axis distance 0.5, and uniform load 5000 N/m\n",
    "# material is \"Steel\", length is 100 meters, yield strength is 250e6 Pa, safety factor is 1.5, moment of inertia is 5e-3 m^4, neutral axis distance is 0.5, and uniform load is 5000 N/m\n",
    "...\n",
    "\n",
    "# Add a cable component\n",
    "# create a cable, `cable` object with the material \"High-strength Steel\", length 150 meters, yield strength 400e6 Pa, safety factor 2.0, tension force 1e6 N, and cross-sectional area 0.01 m^2\n",
    "# material is \"High-strength Steel\", length is 150 meters, yield strength is 400e6 Pa, safety factor is 2.0, tension force is 1e6 N, and cross-sectional area is 0.01 m^2\n",
    "...\n",
    "\n",
    "# Add components to the bridge\n",
    "# add the beam and the cable to the bridge\n",
    "...\n",
    "\n",
    "# Perform safety check\n",
    "...\n",
    "\n",
    "# Plot deflection\n",
    "...\n",
    "\n",
    "# Analyze wind load\n",
    "# create a wind loaded bridge, `wind_bridge` object with the bridge `golden_gate` and wind load 3000 N/m\n",
    "# name is \"Golden Gate\", length is 100 meters, elastic modulus is 2.1e11 Pa, and wind load is 3000 N/m\n",
    "...\n",
    "\n",
    "# plot the bending moment of the wind loaded bridge using the plot_bending_moment method\n",
    "..."
   ]
  },
  {
   "cell_type": "code",
   "execution_count": null,
   "id": "26",
   "metadata": {
    "deletable": false,
    "editable": false,
    "tags": [
     "skip-execution"
    ]
   },
   "outputs": [],
   "source": [
    "grader.check(\"GoldenGateBridge-Class\")"
   ]
  },
  {
   "cell_type": "markdown",
   "id": "27",
   "metadata": {
    "deletable": false,
    "editable": false
   },
   "source": [
    "## Question 5 (Points: 21.0): Interactive Visualization\n",
    "\n",
    "As an engineer you might want to see how adjusting one parameter influences all the other design parameters. Python provides powerful tools for interactive calculations and visualization. \n",
    "\n"
   ]
  },
  {
   "cell_type": "code",
   "execution_count": null,
   "id": "28",
   "metadata": {
    "tags": [
     "skip-execution"
    ]
   },
   "outputs": [],
   "source": [
    "# Import necessary modules for interactive widgets and display\n",
    "# import ipywidgets as widgets\n",
    "# import from IPython.display import display\n",
    "...\n",
    "\n",
    "# Adjusted style for better spacing\n",
    "style = {'description_width': '200px'}\n",
    "layout = widgets.Layout(width='70%')\n",
    "\n",
    "# Widgets for Beam parameters\n",
    "beam_length_slider = widgets.FloatSlider(\n",
    "    value=100,\n",
    "    min=10,\n",
    "    max=300,\n",
    "    step=10,\n",
    "    description='Beam Length (m):',\n",
    "    continuous_update=False,\n",
    "    style=style,\n",
    "    layout=layout\n",
    ")\n",
    "\n",
    "# Widgets for Beam parameters\n",
    "beam_yield_strength_slider = widgets.FloatSlider(\n",
    "    value=250e6,\n",
    "    min=100e6,\n",
    "    max=500e6,\n",
    "    step=10e6,\n",
    "    description='Yield Strength (Pa):',\n",
    "    continuous_update=False,\n",
    "    style=style,\n",
    "    layout=layout\n",
    ")\n",
    "\n",
    "# Add a widget for the beam safety factor, follow the same pattern as the beam yield strength slider\n",
    "# set the default value to be 1.5, the minimum to be 1.0, the maximum to be 3.0, the step to be 0.1, the description to be \"Safety Factor:\", and the continuous_update to be False, style and layout should be the same as the beam yield strength slider\n",
    "...\n",
    "\n",
    "# Add a widget for the beam moment of inertia, follow the same pattern as the beam yield strength slider\n",
    "# set the default value to be 5e-3, the minimum to be 1e-4, the maximum to be 1e-2, the step to be 1e-4, the description to be \"Moment of Inertia (m^4):\", and the continuous_update to be False, style and layout should be the same as the beam yield strength slider\n",
    "...\n",
    "\n",
    "# we have provided the rest of the widgets for the beam parameters\n",
    "beam_uniform_load_slider = widgets.FloatSlider(\n",
    "    value=5000,\n",
    "    min=1000,\n",
    "    max=20000,\n",
    "    step=500,\n",
    "    description='Uniform Load (N/m):',\n",
    "    continuous_update=False,\n",
    "    style=style,\n",
    "    layout=layout\n",
    ")\n",
    "\n",
    "# Widgets for Cable parameters\n",
    "cable_length_slider = widgets.FloatSlider(\n",
    "    value=150,\n",
    "    min=50,\n",
    "    max=300,\n",
    "    step=10,\n",
    "    description='Cable Length (m):',\n",
    "    continuous_update=False,\n",
    "    style=style,\n",
    "    layout=layout\n",
    ")\n",
    "\n",
    "cable_yield_strength_slider = widgets.FloatSlider(\n",
    "    value=400e6,\n",
    "    min=200e6,\n",
    "    max=800e6,\n",
    "    step=20e6,\n",
    "    description='Cable Yield Strength (Pa):',\n",
    "    continuous_update=False,\n",
    "    style=style,\n",
    "    layout=layout\n",
    ")\n",
    "\n",
    "cable_safety_factor_slider = widgets.FloatSlider(\n",
    "    value=2.0,\n",
    "    min=1.0,\n",
    "    max=3.0,\n",
    "    step=0.1,\n",
    "    description='Cable Safety Factor:',\n",
    "    continuous_update=False,\n",
    "    style=style,\n",
    "    layout=layout\n",
    ")\n",
    "\n",
    "cable_tension_force_slider = widgets.FloatSlider(\n",
    "    value=1e6,\n",
    "    min=5e5,\n",
    "    max=2e6,\n",
    "    step=1e5,\n",
    "    description='Tension Force (N):',\n",
    "    continuous_update=False,\n",
    "    style=style,\n",
    "    layout=layout\n",
    ")\n",
    "\n",
    "cable_cross_section_area_slider = widgets.FloatSlider(\n",
    "    value=0.01,\n",
    "    min=0.005,\n",
    "    max=0.05,\n",
    "    step=0.005,\n",
    "    description='Cross Section Area (m^2):',\n",
    "    continuous_update=False,\n",
    "    style=style,\n",
    "    layout=layout\n",
    ")\n",
    "\n",
    "# Widget for Wind Load\n",
    "wind_load_slider = widgets.FloatSlider(\n",
    "    value=3000,\n",
    "    min=1000,\n",
    "    max=10000,\n",
    "    step=500,\n",
    "    description='Wind Load (N/m):',\n",
    "    continuous_update=False,\n",
    "    style=style,\n",
    "    layout=layout\n",
    ")\n",
    "\n",
    "\n",
    "# Function to update the bridge model and plots, this should be called update_bridge, it should take the arguments from the widgets\n",
    "# beam_length, beam_yield_strength, beam_safety_factor, beam_moment_of_inertia, beam_uniform_load,\n",
    "# cable_length, cable_yield_strength, cable_safety_factor, cable_tension_force, cable_cross_section_area,\n",
    "# wind_load\n",
    "...\n",
    "    \n",
    "    # create a bridge object with the name \"Golden Gate\", length 100 meters, and elastic modulus 2.1e11 Pa\n",
    "    # length is 100 meters, elastic modulus is 2.1e11 Pa\n",
    "    ...\n",
    "    \n",
    "    # Create beam with updated parameters\n",
    "    # material is \"Steel\", length is beam_length, yield strength is beam_yield_strength, safety factor is beam_safety_factor, moment of inertia is beam_moment_of_inertia, neutral axis distance is 0.5, and uniform load is beam_uniform_load\n",
    "    ...\n",
    "    \n",
    "    # Create cable with updated parameters\n",
    "    # material is \"High-strength Steel\", length is cable_length, yield strength is cable_yield_strength, safety factor is cable_safety_factor, tension force is cable_tension_force, and cross-sectional area is cable_cross_section_area\n",
    "    ...\n",
    "    \n",
    "    # Add components to the bridge\n",
    "    # add the beam and the cable to the bridge\n",
    "    ...\n",
    "    \n",
    "    # Perform safety check\n",
    "    # print the safety check results\n",
    "    print(\"Safety Check Results:\")\n",
    "    \n",
    "    # call the check_safety method\n",
    "    ...\n",
    "    \n",
    "    # Plot deflection\n",
    "    print(\"Beam Deflection:\")\n",
    "    ...\n",
    "    \n",
    "    # Analyze wind load\n",
    "    print(\"Wind Load Analysis:\")\n",
    "    \n",
    "    # wind_bridge is a WindLoadedBridge object with the bridge golden_gate and wind_load\n",
    "    # name is \"Golden Gate\", length is 100 meters, elastic modulus is 2.1e11 Pa, and wind load is wind_load\n",
    "    ...\n",
    "    \n",
    "    # plot the bending moment of the wind loaded bridge using the plot_bending_moment method\n",
    "    ...\n"
   ]
  },
  {
   "cell_type": "code",
   "execution_count": null,
   "id": "29",
   "metadata": {
    "tags": [
     "skip-execution"
    ]
   },
   "outputs": [],
   "source": [
    "# Interactive display, widgets should be the same as the ones defined above\n",
    "interactive_plot = widgets.interactive(\n",
    "    update_bridge,\n",
    "    beam_length=beam_length_slider,\n",
    "    beam_yield_strength=beam_yield_strength_slider,\n",
    "    beam_safety_factor=beam_safety_factor_slider,\n",
    "    beam_moment_of_inertia=beam_moment_of_inertia_slider,\n",
    "    beam_uniform_load=beam_uniform_load_slider,\n",
    "    cable_length=cable_length_slider,\n",
    "    cable_yield_strength=cable_yield_strength_slider,\n",
    "    cable_safety_factor=cable_safety_factor_slider,\n",
    "    cable_tension_force=cable_tension_force_slider,\n",
    "    cable_cross_section_area=cable_cross_section_area_slider,\n",
    "    wind_load=wind_load_slider\n",
    ")\n",
    "\n",
    "\n",
    "# display the interactive plot\n",
    "display(interactive_plot)"
   ]
  },
  {
   "cell_type": "code",
   "execution_count": null,
   "id": "30",
   "metadata": {
    "deletable": false,
    "editable": false,
    "tags": [
     "skip-execution"
    ]
   },
   "outputs": [],
   "source": [
    "grader.check(\"InteractiveVisualization-Class\")"
   ]
  },
  {
   "cell_type": "markdown",
   "id": "31",
   "metadata": {},
   "source": [
    "## Submitting Assignment\n",
    "\n",
    "Please run the following block of code using `shift + enter` to submit your assignment, you should see your score."
   ]
  },
  {
   "cell_type": "code",
   "execution_count": null,
   "id": "32",
   "metadata": {
    "deletable": false,
    "editable": true,
    "tags": [
     "skip-execution"
    ]
   },
   "outputs": [],
   "source": [
    "from pykubegrader.submit.submit_assignment import submit_assignment\n",
    "\n",
    "submit_assignment(\"week8-lab\", \"1_lab_building_bridge\")"
   ]
  }
 ],
 "metadata": {
  "kernelspec": {
   "display_name": "Python 3",
   "language": "python",
   "name": "python3"
  },
  "language_info": {
   "codemirror_mode": {
    "name": "ipython",
    "version": 3
   },
   "file_extension": ".py",
   "mimetype": "text/x-python",
   "name": "python",
   "nbconvert_exporter": "python",
   "pygments_lexer": "ipython3",
   "version": "3.12.7"
  },
  "otter": {
   "OK_FORMAT": true,
   "tests": {
    "Bridge-Class-Composition": {
     "name": "Bridge-Class-Composition",
     "points": null,
     "suites": [
      {
       "cases": [
        {
         "code": ">>> from pykubegrader.telemetry import ensure_responses, log_variable, score_question, submit_question, telemetry, update_responses\n>>> import os\n>>> import base64\n>>> max_question_points = str(16.0)\n>>> earned_points = 0\n>>> os.environ['EARNED_POINTS'] = str(earned_points)\n>>> os.environ['TOTAL_POINTS_FREE_RESPONSE'] = str(126.0)\n>>> log_variable('total-points', f'week8-lab, 1_lab_building_bridge', 126.0)\n>>> question_id = 'Bridge-Class-Composition-1'\n>>> max_score = 3.0\n>>> score = 0\n>>> bridge = Bridge('Golden Gate', 2737.4, 200000000000.0)\n>>> init_check = bridge.name == 'Golden Gate' and bridge.length == 2737.4 and (bridge.elastic_modulus == 200000000000.0) and isinstance(bridge.components, list) and (len(bridge.components) == 0)\n>>> assert init_check, \"Bridge's attributes are not initialized correctly.\"\n>>> if init_check:\n...     score = 3.0\n>>> earned_points = float(os.environ.get('EARNED_POINTS', 0))\n>>> earned_points += score\n>>> log_variable('1_lab_building_bridge', f'{score}, {max_score}', question_id)\n>>> os.environ['EARNED_POINTS'] = str(earned_points)\n>>> responses = update_responses(question_id, str(init_check))\n",
         "failure_message": "Failed: Bridge initialization is incorrect.",
         "hidden": false,
         "locked": false,
         "points": 3,
         "success_message": "Success: Bridge initialized correctly!"
        },
        {
         "code": ">>> from pykubegrader.telemetry import ensure_responses, log_variable, score_question, submit_question, telemetry, update_responses\n>>> import os\n>>> import base64\n>>> question_id = 'Bridge-Class-Composition-2'\n>>> max_score = 3.0\n>>> score = 0\n>>> class DummyComponent(BridgeComponent):\n...     def compute_stress(self):\n...         return 100\n...     def is_safe(self, stress):\n...         return stress < 200\n>>> bridge = Bridge('Brooklyn', 1825.0, 210000000000.0)\n>>> component1 = DummyComponent('Steel', 100.0, 300000000.0, 2.0)\n>>> component2 = DummyComponent('Concrete', 50.0, 40000000.0, 3.0)\n>>> bridge.add_component(component1)\n>>> bridge.add_component(component2)\n>>> add_component_check = len(bridge.components) == 2 and bridge.components[0] == component1 and (bridge.components[1] == component2)\n>>> assert add_component_check, 'add_component() did not correctly add components to the bridge.'\n>>> if add_component_check:\n...     score = 3.0\n>>> earned_points = float(os.environ.get('EARNED_POINTS', 0))\n>>> earned_points += score\n>>> log_variable('1_lab_building_bridge', f'{score}, {max_score}', question_id)\n>>> os.environ['EARNED_POINTS'] = str(earned_points)\n>>> responses = update_responses(question_id, str(add_component_check))\n",
         "failure_message": "Failed: add_component() does not add components correctly.",
         "hidden": false,
         "locked": false,
         "points": 3,
         "success_message": "Success: add_component() adds components correctly!"
        },
        {
         "code": ">>> from pykubegrader.telemetry import ensure_responses, log_variable, score_question, submit_question, telemetry, update_responses\n>>> import os\n>>> import base64\n>>> import io\n>>> import sys\n>>> class SafeComponent(BridgeComponent):\n...     def compute_stress(self):\n...         return 100\n...     def is_safe(self, stress):\n...         return stress < 200\n>>> bridge = Bridge('SafeBridge', 1000.0, 210000000000.0)\n>>> component1 = SafeComponent('Steel', 100.0, 300000000.0, 2.0)\n>>> component2 = SafeComponent('Concrete', 50.0, 40000000.0, 3.0)\n>>> bridge.add_component(component1)\n>>> bridge.add_component(component2)\n>>> import io\n>>> import sys\n>>> question_id = 'Bridge-Class-Composition-3'\n>>> max_score = 4.0\n>>> score = 0\n>>> output = io.StringIO()\n>>> sys.stdout = output\n>>> bridge.check_safety()\n>>> sys.stdout = sys.__stdout__\n>>> output_text = output.getvalue()\n>>> safety_check = '✅ Bridge is SAFE' in output_text\n>>> assert safety_check, 'check_safety() did not identify the bridge as SAFE when all components are safe.'\n>>> if safety_check:\n...     score = 4.0\n>>> earned_points = float(os.environ.get('EARNED_POINTS', 0))\n>>> earned_points += score\n>>> log_variable('1_lab_building_bridge', f'{score}, {max_score}', question_id)\n>>> os.environ['EARNED_POINTS'] = str(earned_points)\n>>> responses = update_responses(question_id, str(safety_check))\n",
         "failure_message": "Failed: check_safety() did not correctly identify safe bridge.",
         "hidden": false,
         "locked": false,
         "points": 4,
         "success_message": "Success: check_safety() correctly identifies safe bridge!"
        },
        {
         "code": ">>> from pykubegrader.telemetry import ensure_responses, log_variable, score_question, submit_question, telemetry, update_responses\n>>> import os\n>>> import base64\n>>> import io\n>>> import sys\n>>> question_id = 'Bridge-Class-Composition-4'\n>>> max_score = 4.0\n>>> score = 0\n>>> class SafeComponent(BridgeComponent):\n...     def compute_stress(self):\n...         return 100\n...     def is_safe(self, stress):\n...         return stress < 200\n>>> class UnsafeComponent(BridgeComponent):\n...     def compute_stress(self):\n...         return 250\n...     def is_safe(self, stress):\n...         return stress < 200\n>>> bridge = Bridge('UnsafeBridge', 1500.0, 210000000000.0)\n>>> component1 = SafeComponent('Steel', 100.0, 300000000.0, 2.0)\n>>> component2 = UnsafeComponent('Concrete', 50.0, 40000000.0, 3.0)\n>>> bridge.add_component(component1)\n>>> bridge.add_component(component2)\n>>> output = io.StringIO()\n>>> sys.stdout = output\n>>> bridge.check_safety()\n>>> sys.stdout = sys.__stdout__\n>>> output_text = output.getvalue()\n>>> safety_check = '⚠️ WARNING: Bridge is UNSAFE' in output_text\n>>> assert safety_check, 'check_safety() did not identify the bridge as UNSAFE when one or more components are unsafe.'\n>>> if safety_check:\n...     score = 4.0\n>>> earned_points = float(os.environ.get('EARNED_POINTS', 0))\n>>> earned_points += score\n>>> log_variable('1_lab_building_bridge', f'{score}, {max_score}', question_id)\n>>> os.environ['EARNED_POINTS'] = str(earned_points)\n>>> responses = update_responses(question_id, str(safety_check))\n",
         "failure_message": "Failed: check_safety() did not correctly identify unsafe bridge.",
         "hidden": false,
         "locked": false,
         "points": 4,
         "success_message": "Success: check_safety() correctly identifies unsafe bridge!"
        },
        {
         "code": ">>> from pykubegrader.telemetry import ensure_responses, log_variable, score_question, submit_question, telemetry, update_responses\n>>> import os\n>>> import base64\n>>> import io\n>>> import sys\n>>> question_id = 'Bridge-Class-Composition-5'\n>>> max_score = 2.0\n>>> score = 0\n>>> bridge = Bridge('EmptyBridge', 2000.0, 210000000000.0)\n>>> output = io.StringIO()\n>>> sys.stdout = output\n>>> bridge.check_safety()\n>>> sys.stdout = sys.__stdout__\n>>> output_text = output.getvalue()\n>>> empty_check = '✅ Bridge is SAFE' in output_text\n>>> assert empty_check, 'check_safety() did not identify the bridge as SAFE when there are no components.'\n>>> if empty_check:\n...     score = 2.0\n>>> earned_points = float(os.environ.get('EARNED_POINTS', 0))\n>>> earned_points += score\n>>> log_variable('1_lab_building_bridge', f'{score}, {max_score}', question_id)\n>>> os.environ['EARNED_POINTS'] = str(earned_points)\n",
         "failure_message": "Failed: check_safety() did not handle empty bridge correctly.",
         "hidden": false,
         "locked": false,
         "points": 2,
         "success_message": "Success: check_safety() handles empty bridge correctly!"
        }
       ],
       "scored": true,
       "setup": "",
       "teardown": "",
       "type": "doctest"
      }
     ]
    },
    "GoldenGateBridge-Class": {
     "name": "GoldenGateBridge-Class",
     "points": null,
     "suites": [
      {
       "cases": [
        {
         "code": ">>> from pykubegrader.telemetry import ensure_responses, log_variable, score_question, submit_question, telemetry, update_responses\n>>> import os\n>>> import base64\n>>> max_question_points = str(21.0)\n>>> earned_points = 0\n>>> os.environ['EARNED_POINTS'] = str(earned_points)\n>>> os.environ['TOTAL_POINTS_FREE_RESPONSE'] = str(126.0)\n>>> log_variable('total-points', f'week8-lab, 1_lab_building_bridge', 126.0)\n>>> question_id = 'GoldenGateBridge-Class-1'\n>>> max_score = 2.0\n>>> score = 0\n>>> bridge_creation_check = golden_gate.name == 'Golden Gate' and golden_gate.length == 100 and (golden_gate.elastic_modulus == 210000000000.0) and isinstance(golden_gate.components, list)\n>>> assert bridge_creation_check, 'Bridge object was not created with the correct attributes.'\n>>> if bridge_creation_check:\n...     score = 2.0\n>>> earned_points = float(os.environ.get('EARNED_POINTS', 0))\n>>> earned_points += score\n>>> log_variable('1_lab_building_bridge', f'{score}, {max_score}', question_id)\n>>> os.environ['EARNED_POINTS'] = str(earned_points)\n>>> responses = update_responses(question_id, str(bridge_creation_check))\n",
         "failure_message": "Failed: Bridge object creation is incorrect.",
         "hidden": false,
         "locked": false,
         "points": 2,
         "success_message": "Success: Bridge object created correctly!"
        },
        {
         "code": ">>> from pykubegrader.telemetry import ensure_responses, log_variable, score_question, submit_question, telemetry, update_responses\n>>> import os\n>>> import base64\n>>> question_id = 'GoldenGateBridge-Class-2'\n>>> max_score = 2.0\n>>> score = 0\n>>> beam_creation_check = beam.material == 'Steel' and beam.length == 100 and (beam.yield_strength == 250000000.0) and (beam.safety_factor == 1.5) and (beam.moment_of_inertia == 0.005) and (beam.neutral_axis_distance == 0.5) and (beam.uniform_load == 5000)\n>>> assert beam_creation_check, 'Beam component was not created with the correct attributes.'\n>>> if beam_creation_check:\n...     score = 2.0\n>>> earned_points = float(os.environ.get('EARNED_POINTS', 0))\n>>> earned_points += score\n>>> log_variable('1_lab_building_bridge', f'{score}, {max_score}', question_id)\n>>> os.environ['EARNED_POINTS'] = str(earned_points)\n>>> responses = update_responses(question_id, str(beam_creation_check))\n",
         "failure_message": "Failed: Beam component creation is incorrect.",
         "hidden": false,
         "locked": false,
         "points": 2,
         "success_message": "Success: Beam component created correctly!"
        },
        {
         "code": ">>> from pykubegrader.telemetry import ensure_responses, log_variable, score_question, submit_question, telemetry, update_responses\n>>> import os\n>>> import base64\n>>> question_id = 'GoldenGateBridge-Class-3'\n>>> max_score = 2.0\n>>> score = 0\n>>> cable_creation_check = cable.material == 'High-strength Steel' and cable.length == 150 and (cable.yield_strength == 400000000.0) and (cable.safety_factor == 2.0) and (cable.tension_force == 1000000.0) and (cable.cross_section_area == 0.01)\n>>> assert cable_creation_check, 'Cable component was not created with the correct attributes.'\n>>> if cable_creation_check:\n...     score = 2.0\n>>> earned_points = float(os.environ.get('EARNED_POINTS', 0))\n>>> earned_points += score\n>>> log_variable('1_lab_building_bridge', f'{score}, {max_score}', question_id)\n>>> os.environ['EARNED_POINTS'] = str(earned_points)\n>>> responses = update_responses(question_id, str(cable_creation_check))\n",
         "failure_message": "Failed: Cable component creation is incorrect.",
         "hidden": false,
         "locked": false,
         "points": 2,
         "success_message": "Success: Cable component created correctly!"
        },
        {
         "code": ">>> from pykubegrader.telemetry import ensure_responses, log_variable, score_question, submit_question, telemetry, update_responses\n>>> import os\n>>> import base64\n>>> question_id = 'GoldenGateBridge-Class-4'\n>>> max_score = 2.0\n>>> score = 0\n>>> cable_creation_check = cable.material == 'High-strength Steel' and cable.length == 150 and (cable.yield_strength == 400000000.0) and (cable.safety_factor == 2.0) and (cable.tension_force == 1000000.0) and (cable.cross_section_area == 0.01)\n>>> assert cable_creation_check, 'Cable component was not created with the correct attributes.'\n>>> if cable_creation_check:\n...     score = 2.0\n>>> earned_points = float(os.environ.get('EARNED_POINTS', 0))\n>>> earned_points += score\n>>> log_variable('1_lab_building_bridge', f'{score}, {max_score}', question_id)\n>>> os.environ['EARNED_POINTS'] = str(earned_points)\n>>> responses = update_responses(question_id, str(cable_creation_check))\n",
         "failure_message": "Failed: Cable component creation is incorrect.",
         "hidden": false,
         "locked": false,
         "points": 2,
         "success_message": "Success: Cable component created correctly!"
        },
        {
         "code": ">>> from pykubegrader.telemetry import ensure_responses, log_variable, score_question, submit_question, telemetry, update_responses\n>>> import os\n>>> import base64\n>>> question_id = 'GoldenGateBridge-Class-5'\n>>> max_score = 3.0\n>>> score = 0\n>>> add_components_check = len(golden_gate.components) == 2 and golden_gate.components[0] == beam and (golden_gate.components[1] == cable)\n>>> assert add_components_check, 'Components were not correctly added to the bridge.'\n>>> if add_components_check:\n...     score = 3.0\n>>> earned_points = float(os.environ.get('EARNED_POINTS', 0))\n>>> earned_points += score\n>>> log_variable('1_lab_building_bridge', f'{score}, {max_score}', question_id)\n>>> os.environ['EARNED_POINTS'] = str(earned_points)\n>>> responses = update_responses(question_id, str(add_components_check))\n",
         "failure_message": "Failed: Components were not added to bridge correctly.",
         "hidden": false,
         "locked": false,
         "points": 3,
         "success_message": "Success: Components added to bridge correctly!"
        },
        {
         "code": ">>> from pykubegrader.telemetry import ensure_responses, log_variable, score_question, submit_question, telemetry, update_responses\n>>> import os\n>>> import base64\n>>> import io\n>>> import sys\n>>> question_id = 'GoldenGateBridge-Class-6'\n>>> max_score = 3.0\n>>> score = 0\n>>> output = io.StringIO()\n>>> sys.stdout = output\n>>> golden_gate.check_safety()\n>>> sys.stdout = sys.__stdout__\n>>> output_text = output.getvalue()\n>>> safety_check_output = 'Golden Gate Bridge' in output_text and 'Beam' in output_text and ('Cable' in output_text)\n>>> assert safety_check_output, 'Safety check output is incorrect or incomplete.'\n>>> if safety_check_output:\n...     score = 3.0\n>>> earned_points = float(os.environ.get('EARNED_POINTS', 0))\n>>> earned_points += score\n>>> log_variable('1_lab_building_bridge', f'{score}, {max_score}', question_id)\n>>> os.environ['EARNED_POINTS'] = str(earned_points)\n>>> responses = update_responses(question_id, str(safety_check_output))\n",
         "failure_message": "Failed: Safety check did not execute correctly.",
         "hidden": false,
         "locked": false,
         "points": 3,
         "success_message": "Success: Safety check executed correctly!"
        },
        {
         "code": ">>> from pykubegrader.telemetry import ensure_responses, log_variable, score_question, submit_question, telemetry, update_responses\n>>> import os\n>>> import base64\n>>> import io\n>>> import sys\n>>> import matplotlib.pyplot as plt\n>>> question_id = 'GoldenGateBridge-Class-7'\n>>> max_score = 2.0\n>>> score = 0\n>>> output = io.StringIO()\n>>> sys.stdout = output\n>>> plt.ioff()\n>>> try:\n...     beam.plot_deflection()\n...     deflection_plot_success = True\n... except Exception as e:\n...     deflection_plot_success = False\n>>> sys.stdout = sys.__stdout__\n>>> assert deflection_plot_success, 'Deflection plot should run without errors.'\n>>> if deflection_plot_success:\n...     score = 2.0\n>>> earned_points = float(os.environ.get('EARNED_POINTS', 0))\n>>> earned_points += score\n>>> log_variable('1_lab_building_bridge', f'{score}, {max_score}', question_id)\n>>> os.environ['EARNED_POINTS'] = str(earned_points)\n>>> responses = update_responses(question_id, str(deflection_plot_success))\n",
         "failure_message": "Failed: Deflection plot raised an error.",
         "hidden": false,
         "locked": false,
         "points": 2,
         "success_message": "Success: Deflection plot executed without errors!"
        },
        {
         "code": ">>> from pykubegrader.telemetry import ensure_responses, log_variable, score_question, submit_question, telemetry, update_responses\n>>> import os\n>>> import base64\n>>> question_id = 'GoldenGateBridge-Class-8'\n>>> max_score = 3.0\n>>> score = 0\n>>> wind_bridge_creation_check = wind_bridge.name == 'Golden Gate' and wind_bridge.length == 100 and (wind_bridge.elastic_modulus == 210000000000.0) and (wind_bridge.wind_load == 3000) and (len(wind_bridge.components) == 0)\n>>> assert wind_bridge_creation_check, 'WindLoadedBridge was not created with the correct attributes.'\n>>> if wind_bridge_creation_check:\n...     score = 3.0\n>>> earned_points = float(os.environ.get('EARNED_POINTS', 0))\n>>> earned_points += score\n>>> log_variable('1_lab_building_bridge', f'{score}, {max_score}', question_id)\n>>> os.environ['EARNED_POINTS'] = str(earned_points)\n>>> responses = update_responses(question_id, str(wind_bridge_creation_check))\n",
         "failure_message": "Failed: WindLoadedBridge creation is incorrect.",
         "hidden": false,
         "locked": false,
         "points": 3,
         "success_message": "Success: WindLoadedBridge created correctly!"
        },
        {
         "code": ">>> from pykubegrader.telemetry import ensure_responses, log_variable, score_question, submit_question, telemetry, update_responses\n>>> import os\n>>> import base64\n>>> import io\n>>> import sys\n>>> question_id = 'GoldenGateBridge-Class-9'\n>>> max_score = 2.0\n>>> score = 0\n>>> output = io.StringIO()\n>>> sys.stdout = output\n>>> try:\n...     out = plt.ioff()\n...     wind_bridge.plot_bending_moment()\n...     plt.close()\n...     bending_moment_plot_success = True\n... except Exception as e:\n...     bending_moment_plot_success = False\n>>> sys.stdout = sys.__stdout__\n>>> assert bending_moment_plot_success, 'Wind bending moment plot should run without errors.'\n>>> if bending_moment_plot_success:\n...     score = 2.0\n>>> earned_points = float(os.environ.get('EARNED_POINTS', 0))\n>>> earned_points += score\n>>> log_variable('1_lab_building_bridge', f'{score}, {max_score}', question_id)\n>>> os.environ['EARNED_POINTS'] = str(earned_points)\n>>> responses = update_responses(question_id, str(bending_moment_plot_success))\n",
         "failure_message": "Failed: Wind bending moment plot raised an error.",
         "hidden": false,
         "locked": false,
         "points": 2,
         "success_message": "Success: Wind bending moment plot executed without errors!"
        }
       ],
       "scored": true,
       "setup": "",
       "teardown": "",
       "type": "doctest"
      }
     ]
    },
    "InteractiveVisualization-Class": {
     "name": "InteractiveVisualization-Class",
     "points": null,
     "suites": [
      {
       "cases": [
        {
         "code": ">>> from pykubegrader.telemetry import ensure_responses, log_variable, score_question, submit_question, telemetry, update_responses\n>>> import os\n>>> import base64\n>>> import sys\n>>> max_question_points = str(26.0)\n>>> earned_points = 0\n>>> os.environ['EARNED_POINTS'] = str(earned_points)\n>>> os.environ['TOTAL_POINTS_FREE_RESPONSE'] = str(126.0)\n>>> log_variable('total-points', f'week8-lab, 1_lab_building_bridge', 126.0)\n>>> question_id = 'InteractiveVisualization-Class-1'\n>>> max_score = 1.0\n>>> score = 0\n>>> assert 'ipywidgets' in sys.modules, 'ipywidgets is not imported.'\n>>> assert 'IPython.display' in sys.modules, 'IPython.display is not imported.'\n>>> if 'ipywidgets' in sys.modules and 'IPython.display' in sys.modules:\n...     score = 1.0\n>>> earned_points = float(os.environ.get('EARNED_POINTS', 0))\n>>> earned_points += score\n>>> log_variable('1_lab_building_bridge', f'{score}, {max_score}', question_id)\n>>> os.environ['EARNED_POINTS'] = str(earned_points)\n",
         "failure_message": "Failed: Required libraries are not imported correctly.",
         "hidden": false,
         "locked": false,
         "points": 1,
         "success_message": "Success: Required libraries are imported correctly!"
        },
        {
         "code": ">>> from pykubegrader.telemetry import ensure_responses, log_variable, score_question, submit_question, telemetry, update_responses\n>>> import os\n>>> import base64\n>>> question_id = 'InteractiveVisualization-Class-2'\n>>> max_score = 3.0\n>>> score = 0\n>>> assert 'beam_safety_factor_slider' in globals(), 'beam_safety_factor_slider is not defined.'\n>>> assert isinstance(beam_safety_factor_slider, widgets.FloatSlider), 'beam_safety_factor_slider is not a FloatSlider.'\n>>> assert beam_safety_factor_slider.value == 1.5, 'Safety Factor slider default value is incorrect.'\n>>> assert beam_safety_factor_slider.min == 1.0, 'Safety Factor slider minimum value is incorrect.'\n>>> assert beam_safety_factor_slider.max == 3.0, 'Safety Factor slider maximum value is incorrect.'\n>>> assert beam_safety_factor_slider.step == 0.1, 'Safety Factor slider step is incorrect.'\n>>> assert beam_safety_factor_slider.description == 'Safety Factor:', 'Safety Factor slider description is incorrect.'\n>>> assert beam_safety_factor_slider.continuous_update is False, 'Safety Factor slider continuous_update is incorrect.'\n>>> if 'beam_safety_factor_slider' in globals() and isinstance(beam_safety_factor_slider, widgets.FloatSlider) and (beam_safety_factor_slider.value == 1.5) and (beam_safety_factor_slider.min == 1.0) and (beam_safety_factor_slider.max == 3.0) and (beam_safety_factor_slider.step == 0.1) and (beam_safety_factor_slider.description == 'Safety Factor:') and (beam_safety_factor_slider.continuous_update is False):\n...     score = 3.0\n>>> earned_points = float(os.environ.get('EARNED_POINTS', 0))\n>>> earned_points += score\n>>> log_variable('1_lab_building_bridge', f'{score}, {max_score}', question_id)\n>>> os.environ['EARNED_POINTS'] = str(earned_points)\n",
         "failure_message": "Failed: Safety Factor slider is not defined correctly.",
         "hidden": false,
         "locked": false,
         "points": 3,
         "success_message": "Success: Safety Factor slider is defined correctly!"
        },
        {
         "code": ">>> from pykubegrader.telemetry import ensure_responses, log_variable, score_question, submit_question, telemetry, update_responses\n>>> import os\n>>> import base64\n>>> question_id = 'InteractiveVisualization-Class-3'\n>>> max_score = 2.0\n>>> score = 0\n>>> beam_yield_strength_slider_check = isinstance(beam_yield_strength_slider, widgets.FloatSlider) and beam_yield_strength_slider.value == 250000000.0 and (beam_yield_strength_slider.min == 100000000.0) and (beam_yield_strength_slider.max == 500000000.0) and (beam_yield_strength_slider.step == 10000000.0) and (beam_yield_strength_slider.continuous_update is False) and (beam_yield_strength_slider.description == 'Yield Strength (Pa):')\n>>> assert beam_yield_strength_slider_check, 'Beam Yield Strength Slider was not initialized correctly.'\n>>> if beam_yield_strength_slider_check:\n...     score = 2.0\n>>> earned_points = float(os.environ.get('EARNED_POINTS', 0))\n>>> earned_points += score\n>>> log_variable('1_lab_building_bridge', f'{score}, {max_score}', question_id)\n>>> os.environ['EARNED_POINTS'] = str(earned_points)\n>>> responses = update_responses(question_id, str(beam_yield_strength_slider_check))\n",
         "failure_message": "Failed: Beam Yield Strength Slider initialization is incorrect.",
         "hidden": false,
         "locked": false,
         "points": 2,
         "success_message": "Success: Beam Yield Strength Slider initialized correctly!"
        },
        {
         "code": ">>> from pykubegrader.telemetry import ensure_responses, log_variable, score_question, submit_question, telemetry, update_responses\n>>> import os\n>>> import base64\n>>> question_id = 'InteractiveVisualization-Class-4'\n>>> max_score = 3.0\n>>> score = 0\n>>> assert 'beam_safety_factor_slider' in globals(), 'beam_safety_factor_slider is not defined.'\n>>> assert isinstance(beam_safety_factor_slider, widgets.FloatSlider), 'beam_safety_factor_slider is not a FloatSlider.'\n>>> assert beam_safety_factor_slider.value == 1.5, 'Safety Factor slider default value is incorrect.'\n>>> assert beam_safety_factor_slider.min == 1.0, 'Safety Factor slider minimum value is incorrect.'\n>>> assert beam_safety_factor_slider.max == 3.0, 'Safety Factor slider maximum value is incorrect.'\n>>> assert beam_safety_factor_slider.step == 0.1, 'Safety Factor slider step is incorrect.'\n>>> assert beam_safety_factor_slider.description == 'Safety Factor:', 'Safety Factor slider description is incorrect.'\n>>> assert beam_safety_factor_slider.continuous_update is False, 'Safety Factor slider continuous_update is incorrect.'\n>>> if 'beam_safety_factor_slider' in globals() and isinstance(beam_safety_factor_slider, widgets.FloatSlider) and (beam_safety_factor_slider.value == 1.5) and (beam_safety_factor_slider.min == 1.0) and (beam_safety_factor_slider.max == 3.0) and (beam_safety_factor_slider.step == 0.1) and (beam_safety_factor_slider.description == 'Safety Factor:') and (beam_safety_factor_slider.continuous_update is False):\n...     score = 3.0\n>>> earned_points = float(os.environ.get('EARNED_POINTS', 0))\n>>> earned_points += score\n>>> log_variable('1_lab_building_bridge', f'{score}, {max_score}', question_id)\n>>> os.environ['EARNED_POINTS'] = str(earned_points)\n",
         "failure_message": "Failed: Safety Factor slider is not defined correctly.",
         "hidden": false,
         "locked": false,
         "points": 3,
         "success_message": "Success: Safety Factor slider is defined correctly!"
        },
        {
         "code": ">>> from pykubegrader.telemetry import ensure_responses, log_variable, score_question, submit_question, telemetry, update_responses\n>>> import os\n>>> import base64\n>>> question_id = 'InteractiveVisualization-Class-5'\n>>> max_score = 1.0\n>>> score = 0\n>>> assert 'update_bridge' in globals(), 'update_bridge function is not defined.'\n>>> assert callable(update_bridge), 'update_bridge is not callable.'\n>>> if 'update_bridge' in globals() and callable(update_bridge):\n...     score = 1.0\n>>> earned_points = float(os.environ.get('EARNED_POINTS', 0))\n>>> earned_points += score\n>>> log_variable('1_lab_building_bridge', f'{score}, {max_score}', question_id)\n>>> os.environ['EARNED_POINTS'] = str(earned_points)\n",
         "failure_message": "Failed: update_bridge function is not defined correctly.",
         "hidden": false,
         "locked": false,
         "points": 1,
         "success_message": "Success: update_bridge function is defined correctly!"
        },
        {
         "code": ">>> from pykubegrader.telemetry import ensure_responses, log_variable, score_question, submit_question, telemetry, update_responses\n>>> import os\n>>> import base64\n>>> beam_length_ = 10\n>>> beam_yield_strength_ = 250000000.0\n>>> beam_safety_factor_ = 1.5\n>>> beam_moment_of_inertia_ = 0.0001\n>>> beam_uniform_load_ = 5000\n>>> cable_length_ = 100\n>>> cable_yield_strength_ = 500000000.0\n>>> cable_safety_factor_ = 2.0\n>>> cable_tension_force_ = 10000.0\n>>> cable_cross_section_area_ = 0.01\n>>> wind_load_ = 200\n>>> import sys\n>>> import io\n>>> question_id = 'InteractiveVisualization-Class-6'\n>>> max_score = 5.0\n>>> score = 0\n>>> original_stdout = sys.stdout\n>>> sys.stdout = io.StringIO()\n>>> update_bridge(beam_length_, beam_yield_strength_, beam_safety_factor_, beam_moment_of_inertia_, beam_uniform_load_, cable_length_, cable_yield_strength_, cable_safety_factor_, cable_tension_force_, cable_cross_section_area_, wind_load_)\n>>> sys.stdout = original_stdout\n>>> assert 'golden_gate' in globals(), 'Golden Gate bridge object is not defined.'\n>>> assert golden_gate.name == 'Golden Gate', 'Golden Gate bridge name is incorrect.'\n>>> assert golden_gate.length == 100, 'Golden Gate bridge length is incorrect.'\n>>> assert golden_gate.elastic_modulus == 210000000000.0, 'Golden Gate bridge elastic modulus is incorrect.'\n>>> if 'golden_gate' in globals() and golden_gate.name == 'Golden Gate' and (golden_gate.length == 100) and (golden_gate.elastic_modulus == 210000000000.0):\n...     score = 5.0\n>>> earned_points = float(os.environ.get('EARNED_POINTS', 0))\n>>> earned_points += score\n>>> log_variable('1_lab_building_bridge', f'{score}, {max_score}', question_id)\n>>> os.environ['EARNED_POINTS'] = str(earned_points)\n",
         "failure_message": "Failed: Bridge object is not created with correct parameters.",
         "hidden": false,
         "locked": false,
         "points": 5,
         "success_message": "Success: Bridge object is created with correct parameters!"
        },
        {
         "code": ">>> from pykubegrader.telemetry import ensure_responses, log_variable, score_question, submit_question, telemetry, update_responses\n>>> import os\n>>> import base64\n>>> import sys\n>>> import io\n>>> import matplotlib.pyplot as plt\n>>> question_id = 'InteractiveVisualization-Class-7'\n>>> max_score = 3.0\n>>> score = 0\n>>> out = plt.ioff()\n>>> original_stdout = sys.stdout\n>>> sys.stdout = io.StringIO()\n>>> try:\n...     golden_gate.check_safety()\n...     success = True\n... except Exception:\n...     success = False\n>>> sys.stdout = original_stdout\n>>> assert success, 'Safety check threw an exception.'\n>>> if success:\n...     score = 3.0\n>>> earned_points = float(os.environ.get('EARNED_POINTS', 0))\n>>> earned_points += score\n>>> log_variable('1_lab_building_bridge', f'{score}, {max_score}', question_id)\n>>> os.environ['EARNED_POINTS'] = str(earned_points)\n",
         "failure_message": "Failed: Safety check threw an error.",
         "hidden": false,
         "locked": false,
         "points": 3,
         "success_message": "Success: Safety check is performed without errors!"
        },
        {
         "code": ">>> from pykubegrader.telemetry import ensure_responses, log_variable, score_question, submit_question, telemetry, update_responses\n>>> import os\n>>> import base64\n>>> import sys\n>>> import io\n>>> import matplotlib.pyplot as plt\n>>> question_id = 'InteractiveVisualization-Class-8'\n>>> max_score = 4.0\n>>> score = 0\n>>> out = plt.ioff()\n>>> original_stdout = sys.stdout\n>>> sys.stdout = io.StringIO()\n>>> try:\n...     wind_bridge = WindLoadedBridge(name='Golden Gate', length=100, elastic_modulus=210000000000.0, wind_load=200)\n...     wind_bridge.plot_bending_moment()\n...     success = True\n... except Exception:\n...     success = False\n>>> sys.stdout = original_stdout\n>>> assert success, 'Wind Load Analysis threw an exception.'\n>>> if success:\n...     score = 4.0\n>>> earned_points = float(os.environ.get('EARNED_POINTS', 0))\n>>> earned_points += score\n>>> log_variable('1_lab_building_bridge', f'{score}, {max_score}', question_id)\n>>> os.environ['EARNED_POINTS'] = str(earned_points)\n",
         "failure_message": "Failed: Wind Load Analysis threw an error.",
         "hidden": false,
         "locked": false,
         "points": 4,
         "success_message": "Success: Wind Load Analysis is performed without errors!"
        },
        {
         "code": ">>> from pykubegrader.telemetry import ensure_responses, log_variable, score_question, submit_question, telemetry, update_responses\n>>> import os\n>>> import base64\n>>> import io\n>>> import sys\n>>> import matplotlib.pyplot as plt\n>>> question_id = 'InteractiveVisualization-Class-9'\n>>> max_score = 4.0\n>>> score = 0\n>>> out = plt.ioff()\n>>> output = io.StringIO()\n>>> sys.stdout = output\n>>> try:\n...     update_bridge(beam_length=100, beam_yield_strength=250000000.0, beam_safety_factor=1.5, beam_moment_of_inertia=0.005, beam_uniform_load=5000, cable_length=150, cable_yield_strength=400000000.0, cable_safety_factor=2.0, cable_tension_force=1000000.0, cable_cross_section_area=0.01, wind_load=3000)\n...     update_bridge_success = True\n... except Exception as e:\n...     update_bridge_success = False\n>>> sys.stdout = sys.__stdout__\n>>> assert update_bridge_success, 'update_bridge function should run without errors.'\n>>> if update_bridge_success:\n...     score = 4.0\n>>> earned_points = float(os.environ.get('EARNED_POINTS', 0))\n>>> earned_points += score\n>>> log_variable('1_lab_building_bridge', f'{score}, {max_score}', question_id)\n>>> os.environ['EARNED_POINTS'] = str(earned_points)\n>>> responses = update_responses(question_id, str(update_bridge_success))\n",
         "failure_message": "Failed: update_bridge function did not execute correctly.",
         "hidden": false,
         "locked": false,
         "points": 4,
         "success_message": "Success: update_bridge function executed correctly!"
        }
       ],
       "scored": true,
       "setup": "",
       "teardown": "",
       "type": "doctest"
      }
     ]
    },
    "WindLoadedBridge-Class": {
     "name": "WindLoadedBridge-Class",
     "points": null,
     "suites": [
      {
       "cases": [
        {
         "code": ">>> from pykubegrader.telemetry import ensure_responses, log_variable, score_question, submit_question, telemetry, update_responses\n>>> import os\n>>> import base64\n>>> max_question_points = str(21.0)\n>>> earned_points = 0\n>>> os.environ['EARNED_POINTS'] = str(earned_points)\n>>> os.environ['TOTAL_POINTS_FREE_RESPONSE'] = str(126.0)\n>>> log_variable('total-points', f'week8-lab, 1_lab_building_bridge', 126.0)\n>>> question_id = 'WindLoadedBridge-Class-1'\n>>> max_score = 2.0\n>>> score = 0\n>>> wind_bridge = WindLoadedBridge('Windy Bridge', 1000.0, 210000000000.0, 200)\n>>> is_instance = isinstance(wind_bridge, Bridge)\n>>> assert is_instance, 'WindLoadedBridge should inherit from Bridge'\n>>> if is_instance:\n...     score = 2.0\n>>> earned_points = float(os.environ.get('EARNED_POINTS', 0))\n>>> earned_points += score\n>>> log_variable('1_lab_building_bridge', f'{score}, {max_score}', question_id)\n>>> os.environ['EARNED_POINTS'] = str(earned_points)\n>>> responses = update_responses(question_id, str(is_instance))\n",
         "failure_message": "Failed: WindLoadedBridge does not inherit from Bridge.",
         "hidden": false,
         "locked": false,
         "points": 2,
         "success_message": "Success: WindLoadedBridge correctly inherits from Bridge!"
        },
        {
         "code": ">>> from pykubegrader.telemetry import ensure_responses, log_variable, score_question, submit_question, telemetry, update_responses\n>>> import os\n>>> import base64\n>>> question_id = 'WindLoadedBridge-Class-2'\n>>> max_score = 3.0\n>>> score = 0\n>>> wind_bridge = WindLoadedBridge('Windy Bridge', 1000.0, 210000000000.0, 200)\n>>> init_check = wind_bridge.name == 'Windy Bridge' and wind_bridge.length == 1000.0 and (wind_bridge.elastic_modulus == 210000000000.0) and (wind_bridge.wind_load == 200) and isinstance(wind_bridge.components, list) and (len(wind_bridge.components) == 0)\n>>> assert init_check, \"WindLoadedBridge's attributes are not initialized correctly.\"\n>>> if init_check:\n...     score = 3.0\n>>> earned_points = float(os.environ.get('EARNED_POINTS', 0))\n>>> earned_points += score\n>>> log_variable('1_lab_building_bridge', f'{score}, {max_score}', question_id)\n>>> os.environ['EARNED_POINTS'] = str(earned_points)\n>>> responses = update_responses(question_id, str(init_check))\n",
         "failure_message": "Failed: WindLoadedBridge initialization is incorrect.",
         "hidden": false,
         "locked": false,
         "points": 3,
         "success_message": "Success: WindLoadedBridge initialized correctly!"
        },
        {
         "code": ">>> from pykubegrader.telemetry import ensure_responses, log_variable, score_question, submit_question, telemetry, update_responses\n>>> import os\n>>> import base64\n>>> import matplotlib.pyplot as plt\n>>> question_id = 'WindLoadedBridge-Class-3'\n>>> max_score = 4.0\n>>> score = 0\n>>> wind_bridge = WindLoadedBridge('Windy Bridge', 1000.0, 210000000000.0, 200)\n>>> out = plt.ioff()\n>>> try:\n...     wind_bridge.plot_bending_moment()\n...     plot_success = True\n... except Exception as e:\n...     plot_success = False\n...     print(f'plot_bending_moment() raised an error: {e}')\n... finally:\n...     out = plt.ion()\n>>> assert plot_success, 'plot_bending_moment() should run without errors'\n>>> if plot_success:\n...     score = 4.0\n>>> earned_points = float(os.environ.get('EARNED_POINTS', 0))\n>>> earned_points += score\n>>> log_variable('1_lab_building_bridge', f'{score}, {max_score}', question_id)\n>>> os.environ['EARNED_POINTS'] = str(earned_points)\n>>> responses = update_responses(question_id, str(plot_success))\n",
         "failure_message": "Failed: plot_bending_moment() raised an error.",
         "hidden": false,
         "locked": false,
         "points": 4,
         "success_message": "Success: plot_bending_moment() runs without errors!"
        },
        {
         "code": ">>> from pykubegrader.telemetry import ensure_responses, log_variable, score_question, submit_question, telemetry, update_responses\n>>> import os\n>>> import base64\n>>> question_id = 'WindLoadedBridge-Class-4'\n>>> max_score = 4.0\n>>> score = 0\n>>> wind_bridge = WindLoadedBridge('Traffic Only Bridge', 500.0, 210000000000.0, 0)\n>>> x = np.linspace(0, wind_bridge.length, 100)\n>>> M_traffic = 5000 * x * (wind_bridge.length - x) / 2\n>>> expected_max_moment = max(M_traffic)\n>>> calculated_max_moment = 5000 * (wind_bridge.length / 2) * (wind_bridge.length / 2) / 2\n>>> traffic_moment_check = np.isclose(expected_max_moment, calculated_max_moment, atol=100000.0)\n>>> assert traffic_moment_check, f'Expected max traffic moment {calculated_max_moment}, but got {expected_max_moment}.'\n>>> if (traffic_moment_check, f'Expected max traffic moment {calculated_max_moment}, but got {expected_max_moment}.'):\n...     score = 4.0\n>>> earned_points = float(os.environ.get('EARNED_POINTS', 0))\n>>> earned_points += score\n>>> log_variable('1_lab_building_bridge', f'{score}, {max_score}', question_id)\n>>> os.environ['EARNED_POINTS'] = str(earned_points)\n>>> responses = update_responses(question_id, str(traffic_moment_check))\n",
         "failure_message": "Failed: Bending moment due to traffic load calculation is incorrect.",
         "hidden": false,
         "locked": false,
         "points": 4,
         "success_message": "Success: Bending moment due to traffic load is calculated correctly!"
        },
        {
         "code": ">>> from pykubegrader.telemetry import ensure_responses, log_variable, score_question, submit_question, telemetry, update_responses\n>>> import os\n>>> import base64\n>>> question_id = 'WindLoadedBridge-Class-5'\n>>> max_score = 4.0\n>>> score = 0\n>>> wind_bridge = WindLoadedBridge('Wind Only Bridge', 600.0, 210000000000.0, 1000)\n>>> x = np.linspace(0, wind_bridge.length, 100)\n>>> M_wind = wind_bridge.wind_load * x * (wind_bridge.length - x)\n>>> expected_max_moment = 90000000\n>>> calculated_max_moment = wind_bridge.wind_load * (wind_bridge.length / 2) * (wind_bridge.length / 2)\n>>> wind_moment_check = np.isclose(expected_max_moment, calculated_max_moment, atol=1)\n>>> assert wind_moment_check, f'Expected max wind moment {calculated_max_moment}, but got {expected_max_moment}.'\n>>> if (wind_moment_check, f'Expected max wind moment {calculated_max_moment}, but got {expected_max_moment}.'):\n...     score = 4.0\n>>> earned_points = float(os.environ.get('EARNED_POINTS', 0))\n>>> earned_points += score\n>>> log_variable('1_lab_building_bridge', f'{score}, {max_score}', question_id)\n>>> os.environ['EARNED_POINTS'] = str(earned_points)\n>>> responses = update_responses(question_id, str(wind_moment_check))\n",
         "failure_message": "Failed: Bending moment due to wind load calculation is incorrect.",
         "hidden": false,
         "locked": false,
         "points": 4,
         "success_message": "Success: Bending moment due to wind load is calculated correctly!"
        },
        {
         "code": ">>> from pykubegrader.telemetry import ensure_responses, log_variable, score_question, submit_question, telemetry, update_responses\n>>> import os\n>>> import base64\n>>> question_id = 'WindLoadedBridge-Class-6'\n>>> max_score = 4.0\n>>> score = 0\n>>> wind_bridge = WindLoadedBridge('Combined Load Bridge', 800.0, 210000000000.0, 500)\n>>> x = np.linspace(0, wind_bridge.length, 100)\n>>> M_traffic = 5000 * x * (wind_bridge.length - x) / 2\n>>> M_wind = wind_bridge.wind_load * x * (wind_bridge.length - x)\n>>> M_total = M_traffic + M_wind\n>>> expected_max_total_moment = max(M_total)\n>>> calculated_max_total_moment = max(M_traffic) + max(M_wind)\n>>> total_moment_check = np.isclose(expected_max_total_moment, calculated_max_total_moment)\n>>> assert total_moment_check, f'Expected max total moment {calculated_max_total_moment}, but got {expected_max_total_moment}.'\n>>> if (total_moment_check, f'Expected max total moment {calculated_max_total_moment}, but got {expected_max_total_moment}.'):\n...     score = 4.0\n>>> earned_points = float(os.environ.get('EARNED_POINTS', 0))\n>>> earned_points += score\n>>> log_variable('1_lab_building_bridge', f'{score}, {max_score}', question_id)\n>>> os.environ['EARNED_POINTS'] = str(earned_points)\n>>> responses = update_responses(question_id, str(total_moment_check))\n",
         "failure_message": "Failed: Combined bending moment calculation is incorrect.",
         "hidden": false,
         "locked": false,
         "points": 4,
         "success_message": "Success: Combined bending moment is calculated correctly!"
        }
       ],
       "scored": true,
       "setup": "",
       "teardown": "",
       "type": "doctest"
      }
     ]
    },
    "q1-bridge-component": {
     "name": "q1-bridge-component",
     "points": null,
     "suites": [
      {
       "cases": [
        {
         "code": ">>> from pykubegrader.telemetry import ensure_responses, log_variable, score_question, submit_question, telemetry, update_responses\n>>> import os\n>>> import base64\n>>> max_question_points = str(12.0)\n>>> earned_points = 0\n>>> os.environ['EARNED_POINTS'] = str(earned_points)\n>>> os.environ['TOTAL_POINTS_FREE_RESPONSE'] = str(126.0)\n>>> log_variable('total-points', f'week8-lab, 1_lab_building_bridge', 126.0)\n>>> question_id = 'q1-bridge-component-1'\n>>> max_score = 2.0\n>>> score = 0\n>>> class TestComponent(BridgeComponent):\n...     def compute_stress(self):\n...         return 0\n>>> component = TestComponent('Steel', 10.0, 250000000.0, 1.5)\n>>> component_initialization = component.material == 'Steel' and component.length == 10.0 and (component.yield_strength == 250000000.0) and (component.safety_factor == 1.5)\n>>> assert component_initialization\n>>> if component_initialization:\n...     score = 2.0\n>>> earned_points = float(os.environ.get('EARNED_POINTS', 0))\n>>> earned_points += score\n>>> log_variable('1_lab_building_bridge', f'{score}, {max_score}', question_id)\n>>> os.environ['EARNED_POINTS'] = str(earned_points)\n>>> responses = update_responses(question_id, str(component_initialization))\n",
         "failure_message": "Failed: BridgeComponent object did not initialize as expected.",
         "hidden": false,
         "locked": false,
         "points": 2,
         "success_message": "Success: BridgeComponent object initializes correctly!"
        },
        {
         "code": ">>> from pykubegrader.telemetry import ensure_responses, log_variable, score_question, submit_question, telemetry, update_responses\n>>> import os\n>>> import base64\n>>> from abc import ABCMeta\n>>> question_id = 'q1-bridge-component-2'\n>>> max_score = 2.0\n>>> score = 0\n>>> abstract_class_instantiation = False\n>>> try:\n...     BridgeComponent('Concrete', 20.0, 300000000.0, 2.0)\n... except TypeError as e:\n...     if \"Can't instantiate abstract class\" in str(e):\n...         abstract_class_instantiation = True\n>>> assert abstract_class_instantiation, 'Expected TypeError when instantiating abstract class BridgeComponent, but no error was raised.'\n>>> if (abstract_class_instantiation, 'Expected TypeError when instantiating abstract class BridgeComponent, but no error was raised.'):\n...     score = 2.0\n>>> earned_points = float(os.environ.get('EARNED_POINTS', 0))\n>>> earned_points += score\n>>> log_variable('1_lab_building_bridge', f'{score}, {max_score}', question_id)\n>>> os.environ['EARNED_POINTS'] = str(earned_points)\n>>> responses = update_responses(question_id, str(abstract_class_instantiation))\n",
         "failure_message": "Failed: Abstract class BridgeComponent should not be instantiated directly.",
         "hidden": false,
         "locked": false,
         "points": 2,
         "success_message": "Success: Cannot instantiate abstract class BridgeComponent directly!"
        },
        {
         "code": ">>> from pykubegrader.telemetry import ensure_responses, log_variable, score_question, submit_question, telemetry, update_responses\n>>> import os\n>>> import base64\n>>> question_id = 'q1-bridge-component-3'\n>>> max_score = 2.0\n>>> score = 0\n>>> class TestComponent(BridgeComponent):\n...     def compute_stress(self):\n...         return 0\n>>> component = TestComponent('Concrete', 20.0, 300000000.0, 2.0)\n>>> component.safety_factor = 2.5\n>>> valid_safety_factor_set = component.safety_factor == 2.5\n>>> assert valid_safety_factor_set\n>>> if valid_safety_factor_set:\n...     score = 2.0\n>>> earned_points = float(os.environ.get('EARNED_POINTS', 0))\n>>> earned_points += score\n>>> log_variable('1_lab_building_bridge', f'{score}, {max_score}', question_id)\n>>> os.environ['EARNED_POINTS'] = str(earned_points)\n>>> responses = update_responses(question_id, str(valid_safety_factor_set))\n",
         "failure_message": "Failed: Safety factor did not set as expected.",
         "hidden": false,
         "locked": false,
         "points": 2,
         "success_message": "Success: Valid safety factor is set correctly!"
        },
        {
         "code": ">>> from pykubegrader.telemetry import ensure_responses, log_variable, score_question, submit_question, telemetry, update_responses\n>>> import os\n>>> import base64\n>>> question_id = 'q1-bridge-component-4'\n>>> max_score = 2.0\n>>> score = 0\n>>> class TestComponent(BridgeComponent):\n...     def compute_stress(self):\n...         return 0\n>>> component = TestComponent('Concrete', 20.0, 300000000.0, 2.0)\n>>> invalid_safety_factor_error = False\n>>> try:\n...     component.safety_factor = 0.5\n... except ValueError as e:\n...     if 'Safety factor must be greater than 1.0' in str(e):\n...         invalid_safety_factor_error = True\n>>> assert invalid_safety_factor_error\n>>> if invalid_safety_factor_error:\n...     score = 2.0\n>>> earned_points = float(os.environ.get('EARNED_POINTS', 0))\n>>> earned_points += score\n>>> log_variable('1_lab_building_bridge', f'{score}, {max_score}', question_id)\n>>> os.environ['EARNED_POINTS'] = str(earned_points)\n>>> responses = update_responses(question_id, str(invalid_safety_factor_error))\n",
         "failure_message": "Failed: Invalid safety factor did not raise ValueError.",
         "hidden": false,
         "locked": false,
         "points": 2,
         "success_message": "Success: Invalid safety factor raises ValueError!"
        },
        {
         "code": ">>> from pykubegrader.telemetry import ensure_responses, log_variable, score_question, submit_question, telemetry, update_responses\n>>> import os\n>>> import base64\n>>> question_id = 'q1-bridge-component-5'\n>>> max_score = 2.0\n>>> score = 0\n>>> class TestComponent(BridgeComponent):\n...     def compute_stress(self):\n...         return 0\n>>> component = TestComponent('Steel', 10.0, 250000000.0, 2.0)\n>>> unsafe_stress = 200000000.0\n>>> is_safe_for_unsafe_stress = component.is_safe(unsafe_stress)\n>>> assert not is_safe_for_unsafe_stress, f'Expected is_safe() to return False for stress {unsafe_stress}, but got True.'\n>>> if (not is_safe_for_unsafe_stress, f'Expected is_safe() to return False for stress {unsafe_stress}, but got True.'):\n...     score = 2.0\n>>> earned_points = float(os.environ.get('EARNED_POINTS', 0))\n>>> earned_points += score\n>>> log_variable('1_lab_building_bridge', f'{score}, {max_score}', question_id)\n>>> os.environ['EARNED_POINTS'] = str(earned_points)\n>>> responses = update_responses(question_id, str(is_safe_for_unsafe_stress))\n",
         "failure_message": "Failed: Safety check did not return False for unsafe stress levels.",
         "hidden": false,
         "locked": false,
         "points": 2,
         "success_message": "Success: Safety check returns False for unsafe stress levels!"
        },
        {
         "code": ">>> from pykubegrader.telemetry import ensure_responses, log_variable, score_question, submit_question, telemetry, update_responses\n>>> import os\n>>> import base64\n>>> question_id = 'q1-bridge-component-6'\n>>> max_score = 2.0\n>>> score = 0\n>>> class TestComponent(BridgeComponent):\n...     def compute_stress(self):\n...         return 0\n>>> component = TestComponent('Concrete', 20.0, 300000000.0, 2.0)\n>>> expected_safe_limit = 300000000.0 / 2.0\n>>> calculated_safe_limit = component.yield_strength / component.safety_factor\n>>> safe_limit_calculation = expected_safe_limit == calculated_safe_limit\n>>> assert safe_limit_calculation\n>>> if safe_limit_calculation:\n...     score = 2.0\n>>> earned_points = float(os.environ.get('EARNED_POINTS', 0))\n>>> earned_points += score\n>>> log_variable('1_lab_building_bridge', f'{score}, {max_score}', question_id)\n>>> os.environ['EARNED_POINTS'] = str(earned_points)\n",
         "failure_message": "Failed: Safe limit calculation is incorrect.",
         "hidden": false,
         "locked": false,
         "points": 2,
         "success_message": "Success: Safe limit calculation is correct!"
        }
       ],
       "scored": true,
       "setup": "",
       "teardown": "",
       "type": "doctest"
      }
     ]
    },
    "q2-beam-cable": {
     "name": "q2-beam-cable",
     "points": null,
     "suites": [
      {
       "cases": [
        {
         "code": ">>> from pykubegrader.telemetry import ensure_responses, log_variable, score_question, submit_question, telemetry, update_responses\n>>> import os\n>>> import base64\n>>> max_question_points = str(30.0)\n>>> earned_points = 0\n>>> os.environ['EARNED_POINTS'] = str(earned_points)\n>>> os.environ['TOTAL_POINTS_FREE_RESPONSE'] = str(126.0)\n>>> log_variable('total-points', f'week8-lab, 1_lab_building_bridge', 126.0)\n>>> question_id = 'q2-beam-cable-1'\n>>> max_score = 2.0\n>>> score = 0\n>>> beam = Beam('Steel', 10.0, 250000000.0, 1.5, 0.0001, 0.05, 5000)\n>>> is_instance = isinstance(beam, BridgeComponent)\n>>> assert is_instance, 'Beam should inherit from BridgeComponent'\n>>> if is_instance:\n...     score = 2.0\n>>> earned_points = float(os.environ.get('EARNED_POINTS', 0))\n>>> earned_points += score\n>>> log_variable('1_lab_building_bridge', f'{score}, {max_score}', question_id)\n>>> os.environ['EARNED_POINTS'] = str(earned_points)\n>>> responses = update_responses(question_id, str(is_instance))\n",
         "failure_message": "Failed: Beam does not inherit from BridgeComponent.",
         "hidden": false,
         "locked": false,
         "points": 2,
         "success_message": "Success: Beam correctly inherits from BridgeComponent!"
        },
        {
         "code": ">>> from pykubegrader.telemetry import ensure_responses, log_variable, score_question, submit_question, telemetry, update_responses\n>>> import os\n>>> import base64\n>>> question_id = 'q2-beam-cable-2'\n>>> max_score = 3.0\n>>> score = 0\n>>> beam = Beam('Concrete', 20.0, 40000000.0, 2.0, 0.0005, 0.1, 3000)\n>>> init_check = beam.material == 'Concrete' and beam.length == 20.0 and (beam.yield_strength == 40000000.0) and (beam.safety_factor == 2.0) and (beam.moment_of_inertia == 0.0005) and (beam.neutral_axis_distance == 0.1) and (beam.uniform_load == 3000)\n>>> assert init_check, \"Beam's attributes are not initialized correctly.\"\n>>> if init_check:\n...     score = 3.0\n>>> earned_points = float(os.environ.get('EARNED_POINTS', 0))\n>>> earned_points += score\n>>> log_variable('1_lab_building_bridge', f'{score}, {max_score}', question_id)\n>>> os.environ['EARNED_POINTS'] = str(earned_points)\n>>> responses = update_responses(question_id, str(init_check))\n",
         "failure_message": "Failed: Beam initialization incorrect.",
         "hidden": false,
         "locked": false,
         "points": 3,
         "success_message": "Success: Beam initialized correctly!"
        },
        {
         "code": ">>> from pykubegrader.telemetry import ensure_responses, log_variable, score_question, submit_question, telemetry, update_responses\n>>> import os\n>>> import base64\n>>> question_id = 'q2-beam-cable-3'\n>>> max_score = 3.0\n>>> score = 0\n>>> beam = Beam('Steel', 10.0, 250000000.0, 1.5, 0.0001, 0.05, 5000)\n>>> calculated_stress = beam.compute_stress()\n>>> x = beam.length / 2\n>>> M = beam.uniform_load * x * (beam.length - x) / 2\n>>> expected_stress = M * beam.neutral_axis_distance / beam.moment_of_inertia\n>>> stress_check = np.isclose(calculated_stress, expected_stress)\n>>> assert stress_check\n>>> if stress_check:\n...     score = 3.0\n>>> earned_points = float(os.environ.get('EARNED_POINTS', 0))\n>>> earned_points += score\n>>> log_variable('1_lab_building_bridge', f'{score}, {max_score}', question_id)\n>>> os.environ['EARNED_POINTS'] = str(earned_points)\n>>> responses = update_responses(question_id, str(stress_check))\n",
         "failure_message": "Failed: compute_stress() calculation is incorrect.",
         "hidden": false,
         "locked": false,
         "points": 3,
         "success_message": "Success: compute_stress() calculation is correct!"
        },
        {
         "code": ">>> from pykubegrader.telemetry import ensure_responses, log_variable, score_question, submit_question, telemetry, update_responses\n>>> import os\n>>> import base64\n>>> question_id = 'q2-beam-cable-4'\n>>> max_score = 2.0\n>>> score = 0\n>>> beam = Beam('Aluminum', 5.0, 100000000.0, 1.5, 0.0002, 0.03, 0)\n>>> calculated_stress = beam.compute_stress()\n>>> zero_load_check = calculated_stress == 0\n>>> assert zero_load_check\n>>> if zero_load_check:\n...     score = 2.0\n>>> earned_points = float(os.environ.get('EARNED_POINTS', 0))\n>>> earned_points += score\n>>> log_variable('1_lab_building_bridge', f'{score}, {max_score}', question_id)\n>>> os.environ['EARNED_POINTS'] = str(earned_points)\n>>> responses = update_responses(question_id, str(zero_load_check))\n",
         "failure_message": "Failed: compute_stress() did not return 0 for zero load.",
         "hidden": false,
         "locked": false,
         "points": 2,
         "success_message": "Success: compute_stress() returns 0 for zero load!"
        },
        {
         "code": ">>> from pykubegrader.telemetry import ensure_responses, log_variable, score_question, submit_question, telemetry, update_responses\n>>> import os\n>>> import base64\n>>> import io\n>>> import sys\n>>> import matplotlib.pyplot as plt\n>>> question_id = 'q2-beam-cable-5'\n>>> max_score = 2.0\n>>> score = 0\n>>> output = io.StringIO()\n>>> sys.stdout = output\n>>> beam = Beam('Steel', 10.0, 250000000.0, 1.5, 0.0001, 0.05, 5000)\n>>> try:\n...     out = plt.ioff()\n...     beam.plot_deflection()\n...     plt.close()\n...     plot_success = True\n... except Exception as e:\n...     plot_success = True\n>>> sys.stdout = sys.__stdout__\n>>> assert plot_success\n>>> if plot_success:\n...     score = 2.0\n>>> earned_points = float(os.environ.get('EARNED_POINTS', 0))\n>>> earned_points += score\n>>> log_variable('1_lab_building_bridge', f'{score}, {max_score}', question_id)\n>>> os.environ['EARNED_POINTS'] = str(earned_points)\n",
         "failure_message": "Failed: plot_deflection() raised an error.",
         "hidden": false,
         "locked": false,
         "points": 2,
         "success_message": "Success: plot_deflection() runs without errors!"
        },
        {
         "code": ">>> from pykubegrader.telemetry import ensure_responses, log_variable, score_question, submit_question, telemetry, update_responses\n>>> import os\n>>> import base64\n>>> question_id = 'q2-beam-cable-6'\n>>> max_score = 2.0\n>>> score = 0\n>>> beam = Beam('Steel', 0.0, 250000000.0, 1.5, 0.0001, 0.05, 5000)\n>>> calculated_stress = beam.compute_stress()\n>>> zero_length_check = calculated_stress == 0\n>>> assert zero_length_check, f'Expected stress 0, but got {calculated_stress}.'\n>>> if (zero_length_check, f'Expected stress 0, but got {calculated_stress}.'):\n...     score = 2.0\n>>> earned_points = float(os.environ.get('EARNED_POINTS', 0))\n>>> earned_points += score\n>>> log_variable('1_lab_building_bridge', f'{score}, {max_score}', question_id)\n>>> os.environ['EARNED_POINTS'] = str(earned_points)\n>>> responses = update_responses(question_id, str(zero_length_check))\n",
         "failure_message": "Failed: compute_stress() did not return 0 for zero length.",
         "hidden": false,
         "locked": false,
         "points": 2,
         "success_message": "Success: compute_stress() returns 0 for zero length!"
        },
        {
         "code": ">>> from pykubegrader.telemetry import ensure_responses, log_variable, score_question, submit_question, telemetry, update_responses\n>>> import os\n>>> import base64\n>>> question_id = 'q2-beam-cable-7'\n>>> max_score = 2.0\n>>> score = 0\n>>> beam = Beam('Steel', 10.0, 250000000.0, 1.5, 0.0001, 0.05, 1000000000.0)\n>>> calculated_stress = beam.compute_stress()\n>>> large_load_check = calculated_stress > 0\n>>> assert large_load_check, f'Expected positive stress, but got {calculated_stress}.'\n>>> if (large_load_check, f'Expected positive stress, but got {calculated_stress}.'):\n...     score = 2.0\n>>> earned_points = float(os.environ.get('EARNED_POINTS', 0))\n>>> earned_points += score\n>>> log_variable('1_lab_building_bridge', f'{score}, {max_score}', question_id)\n>>> os.environ['EARNED_POINTS'] = str(earned_points)\n>>> responses = update_responses(question_id, str(large_load_check))\n",
         "failure_message": "Failed: compute_stress() did not handle large uniform load correctly.",
         "hidden": false,
         "locked": false,
         "points": 2,
         "success_message": "Success: compute_stress() handles large uniform load!"
        },
        {
         "code": ">>> from pykubegrader.telemetry import ensure_responses, log_variable, score_question, submit_question, telemetry, update_responses\n>>> import os\n>>> import base64\n>>> question_id = 'q2-beam-cable-8'\n>>> max_score = 2.0\n>>> score = 0\n>>> cable = Cable('Steel', 100.0, 500000000.0, 2.0, 1000000.0, 0.01)\n>>> is_instance = isinstance(cable, BridgeComponent)\n>>> assert is_instance, 'Cable should inherit from BridgeComponent'\n>>> if is_instance:\n...     score = 2.0\n>>> earned_points = float(os.environ.get('EARNED_POINTS', 0))\n>>> earned_points += score\n>>> log_variable('1_lab_building_bridge', f'{score}, {max_score}', question_id)\n>>> os.environ['EARNED_POINTS'] = str(earned_points)\n>>> responses = update_responses(question_id, str(is_instance))\n",
         "failure_message": "Failed: Cable does not inherit from BridgeComponent.",
         "hidden": false,
         "locked": false,
         "points": 2,
         "success_message": "Success: Cable correctly inherits from BridgeComponent!"
        },
        {
         "code": ">>> from pykubegrader.telemetry import ensure_responses, log_variable, score_question, submit_question, telemetry, update_responses\n>>> import os\n>>> import base64\n>>> question_id = 'q2-beam-cable-9'\n>>> max_score = 3.0\n>>> score = 0\n>>> cable = Cable('Aluminum', 50.0, 300000000.0, 1.5, 500000.0, 0.02)\n>>> init_check = cable.material == 'Aluminum' and cable.length == 50.0 and (cable.yield_strength == 300000000.0) and (cable.safety_factor == 1.5) and (cable.tension_force == 500000.0) and (cable.cross_section_area == 0.02)\n>>> assert init_check, \"Cable's attributes are not initialized correctly.\"\n>>> if init_check:\n...     score = 3.0\n>>> earned_points = float(os.environ.get('EARNED_POINTS', 0))\n>>> earned_points += score\n>>> log_variable('1_lab_building_bridge', f'{score}, {max_score}', question_id)\n>>> os.environ['EARNED_POINTS'] = str(earned_points)\n>>> responses = update_responses(question_id, str(init_check))\n",
         "failure_message": "Failed: Cable initialization incorrect.",
         "hidden": false,
         "locked": false,
         "points": 3,
         "success_message": "Success: Cable initialized correctly!"
        },
        {
         "code": ">>> from pykubegrader.telemetry import ensure_responses, log_variable, score_question, submit_question, telemetry, update_responses\n>>> import os\n>>> import base64\n>>> question_id = 'q2-beam-cable-10'\n>>> max_score = 3.0\n>>> score = 0\n>>> cable = Cable('Steel', 100.0, 500000000.0, 2.0, 1000000.0, 0.01)\n>>> calculated_stress = cable.compute_stress()\n>>> expected_stress = cable.tension_force / cable.cross_section_area\n>>> stress_check = np.isclose(calculated_stress, expected_stress)\n>>> assert stress_check, f'Expected stress {expected_stress}, but got {calculated_stress}.'\n>>> if (stress_check, f'Expected stress {expected_stress}, but got {calculated_stress}.'):\n...     score = 3.0\n>>> earned_points = float(os.environ.get('EARNED_POINTS', 0))\n>>> earned_points += score\n>>> log_variable('1_lab_building_bridge', f'{score}, {max_score}', question_id)\n>>> os.environ['EARNED_POINTS'] = str(earned_points)\n>>> responses = update_responses(question_id, str(stress_check))\n",
         "failure_message": "Failed: compute_stress() calculation is incorrect.",
         "hidden": false,
         "locked": false,
         "points": 3,
         "success_message": "Success: compute_stress() calculation is correct!"
        },
        {
         "code": ">>> from pykubegrader.telemetry import ensure_responses, log_variable, score_question, submit_question, telemetry, update_responses\n>>> import os\n>>> import base64\n>>> question_id = 'q2-beam-cable-11'\n>>> max_score = 2.0\n>>> score = 0\n>>> cable = Cable('Polymer', 30.0, 200000000.0, 2.0, 0, 0.01)\n>>> calculated_stress = cable.compute_stress()\n>>> zero_force_check = calculated_stress == 0\n>>> assert zero_force_check, f'Expected stress 0, but got {calculated_stress}.'\n>>> if (zero_force_check, f'Expected stress 0, but got {calculated_stress}.'):\n...     score = 2.0\n>>> earned_points = float(os.environ.get('EARNED_POINTS', 0))\n>>> earned_points += score\n>>> log_variable('1_lab_building_bridge', f'{score}, {max_score}', question_id)\n>>> os.environ['EARNED_POINTS'] = str(earned_points)\n>>> responses = update_responses(question_id, str(zero_force_check))\n",
         "failure_message": "Failed: compute_stress() did not return 0 for zero tension force.",
         "hidden": false,
         "locked": false,
         "points": 2,
         "success_message": "Success: compute_stress() returns 0 for zero tension force!"
        },
        {
         "code": ">>> from pykubegrader.telemetry import ensure_responses, log_variable, score_question, submit_question, telemetry, update_responses\n>>> import os\n>>> import base64\n>>> question_id = 'q2-beam-cable-12'\n>>> max_score = 2.0\n>>> score = 0\n>>> try:\n...     cable = Cable('Steel', 100.0, 500000000.0, 2.0, 1000000.0, 0)\n...     calculated_stress = cable.compute_stress()\n...     zero_area_check = False\n... except ZeroDivisionError:\n...     zero_area_check = True\n>>> assert zero_area_check, 'compute_stress() should raise ZeroDivisionError for zero cross-sectional area.'\n>>> if zero_area_check:\n...     score = 2.0\n>>> earned_points = float(os.environ.get('EARNED_POINTS', 0))\n>>> earned_points += score\n>>> log_variable('1_lab_building_bridge', f'{score}, {max_score}', question_id)\n>>> os.environ['EARNED_POINTS'] = str(earned_points)\n>>> responses = update_responses(question_id, str(zero_area_check))\n",
         "failure_message": "Failed: compute_stress() did not handle zero cross-sectional area.",
         "hidden": false,
         "locked": false,
         "points": 2,
         "success_message": "Success: compute_stress() correctly handles zero cross-sectional area!"
        },
        {
         "code": ">>> from pykubegrader.telemetry import ensure_responses, log_variable, score_question, submit_question, telemetry, update_responses\n>>> import os\n>>> import base64\n>>> question_id = 'q2-beam-cable-13'\n>>> max_score = 2.0\n>>> score = 0\n>>> cable = Cable('Composite', 75.0, 400000000.0, 1.8, -1000000.0, 0.02)\n>>> calculated_stress = cable.compute_stress()\n>>> negative_force_check = calculated_stress < 0\n>>> assert negative_force_check, f'Expected negative stress, but got {calculated_stress}.'\n>>> if (negative_force_check, f'Expected negative stress, but got {calculated_stress}.'):\n...     score = 2.0\n>>> earned_points = float(os.environ.get('EARNED_POINTS', 0))\n>>> earned_points += score\n>>> log_variable('1_lab_building_bridge', f'{score}, {max_score}', question_id)\n>>> os.environ['EARNED_POINTS'] = str(earned_points)\n>>> responses = update_responses(question_id, str(negative_force_check))\n",
         "failure_message": "Failed: compute_stress() did not handle negative tension force.",
         "hidden": false,
         "locked": false,
         "points": 2,
         "success_message": "Success: compute_stress() correctly handles negative tension force!"
        }
       ],
       "scored": true,
       "setup": "",
       "teardown": "",
       "type": "doctest"
      }
     ]
    }
   }
  }
 },
 "nbformat": 4,
 "nbformat_minor": 5
}
