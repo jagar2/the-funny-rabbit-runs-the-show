{
 "cells": [
  {
   "cell_type": "markdown",
   "id": "0",
   "metadata": {},
   "source": [
    "# 🏗️ **Mission: Bridge Safety Analysis – The Engineer’s Challenge!** 🌉\n"
   ]
  },
  {
   "cell_type": "markdown",
   "id": "1",
   "metadata": {},
   "source": [
    "## **🚀 Introduction: Welcome to the Team!**\n",
    "Congratulations, Engineer! 🎉 You’ve just been hired as the lead **structural engineer** at **SteelWorks Inc.** Your first mission? **Analyze the safety of the Golden Gate Bridge under different loading conditions**—or risk total catastrophe! 😱\n",
    "\n",
    "Our bridge must **withstand traffic loads, fierce winds, and the occasional flock of overly enthusiastic pigeons**. 🐦💨 As a skilled Python programmer, you’ll use **Object-Oriented Programming (OOP), scientific computing, and graphing techniques** to ensure that **our bridge doesn’t collapse into the ocean!** 🌊\n"
   ]
  },
  {
   "cell_type": "markdown",
   "id": "2",
   "metadata": {},
   "source": [
    "## **🛠️ Engineering Context: Why This Matters?**\n",
    "Every year, bridges are **designed, tested, and maintained** to ensure safety for **millions of people**. A **poorly designed bridge** can lead to **catastrophic failures**—remember the **Tacoma Narrows Bridge disaster**? 🌪️🌉 *Oops.*\n",
    "\n",
    "By analyzing real-world **deflection curves, stress distributions, and wind loads**, you will:\n",
    "💡 Learn **fundamental mechanics principles** using computational tools.\n",
    "💡 Develop **engineering intuition** on load-bearing structures.\n",
    "💡 Prepare for your future as an **engineering superhero!** 🦸‍♂️⚡\n"
   ]
  },
  {
   "cell_type": "markdown",
   "id": "3",
   "metadata": {},
   "source": [
    "## **🎯 Your Challenge: Save the Bridge!**\n",
    "You will **design a Python simulation** that includes:\n",
    "🛑 **Beam Deflection Analysis**: How much will our bridge bend under load?\n",
    "🛑 **Stress & Safety Factor Checks**: Will our materials **withstand** the forces?\n",
    "🛑 **Wind Load Effects**: What happens when strong winds hit the bridge? 🌬️\n",
    "🛑 **Graphical Reports**: Visualize stress, deflection, and safety margins.\n",
    "\n"
   ]
  },
  {
   "cell_type": "markdown",
   "id": "4",
   "metadata": {},
   "source": [
    "## **🔧 Engineering Formulas Used**\n",
    "We’ll use some **key engineering equations** in our Python models:\n"
   ]
  },
  {
   "cell_type": "markdown",
   "id": "5",
   "metadata": {},
   "source": [
    "### **🌀 Beam Deflection Equation** (Traffic Load)\n",
    "\\[\n",
    "y(x) = \\frac{q x (L-x)}{24 E I} (L^2 - x^2)\n",
    "\\]\n"
   ]
  },
  {
   "cell_type": "markdown",
   "id": "6",
   "metadata": {},
   "source": [
    "### **💪 Bending Stress in the Beam**\n",
    "\\[\n",
    "\\sigma(x) = \\frac{M(x) c}{I}, \\quad M(x) = \\frac{q x (L - x)}{2}\n",
    "\\]\n"
   ]
  },
  {
   "cell_type": "markdown",
   "id": "7",
   "metadata": {},
   "source": [
    "### **🌬️ Wind Load Contribution**\n",
    "\\[\n",
    "M_{wind}(x) = W x (L - x)\n",
    "\\]\n",
    "\n",
    "\\[\n",
    "M_{total}(x) = M(x) + M_{wind}(x)\n",
    "\\]\n"
   ]
  },
  {
   "cell_type": "markdown",
   "id": "8",
   "metadata": {},
   "source": [
    "## **📈 Graphing & Visualization**\n",
    "You’ll use **Matplotlib** to create stunning plots for:\n",
    "📊 **Bridge deflection curves** to see how much it bends.\n",
    "📊 **Stress distribution plots** to analyze failure points.\n",
    "📊 **Wind load impact graphs** to visualize dangerous weather effects.\n"
   ]
  },
  {
   "cell_type": "markdown",
   "id": "9",
   "metadata": {},
   "source": [
    "## **💾 Coding Concepts You’ll Apply**\n",
    "🔹 **Object-Oriented Programming (OOP)** – Classes, Inheritance, Encapsulation.\n",
    "🔹 **Encapsulation with `@property` methods** – Dynamic safety factor updates.\n"
   ]
  },
  {
   "cell_type": "markdown",
   "id": "10",
   "metadata": {},
   "source": [
    "## **Step 1: Abstract Base Class for Bridge Components**\n",
    "We enforce structure using an **abstract class** for **bridge components**.\n"
   ]
  },
  {
   "cell_type": "code",
   "execution_count": null,
   "id": "11",
   "metadata": {},
   "outputs": [],
   "source": [
    "from abc import ABC, abstractmethod\n",
    "import numpy as np\n",
    "import matplotlib.pyplot as plt\n",
    "\n",
    "class BridgeComponent(ABC):\n",
    "    \"\"\"Abstract class for all bridge components.\"\"\"\n",
    "\n",
    "    def __init__(self, material, length, yield_strength, safety_factor):\n",
    "        self.material = material\n",
    "        self.length = length\n",
    "        self.yield_strength = yield_strength\n",
    "        self._safety_factor = safety_factor  # Private attribute for safety factor\n",
    "\n",
    "    @property\n",
    "    def safety_factor(self):\n",
    "        \"\"\"Getter for safety factor.\"\"\"\n",
    "        return self._safety_factor\n",
    "\n",
    "    @safety_factor.setter\n",
    "    def safety_factor(self, value):\n",
    "        \"\"\"Setter with validation.\"\"\"\n",
    "        if value < 1.0:\n",
    "            raise ValueError(\"Safety factor must be greater than 1.0\")\n",
    "        self._safety_factor = value\n",
    "\n",
    "    @abstractmethod\n",
    "    def compute_stress(self):\n",
    "        \"\"\"Abstract method to be implemented by subclasses.\"\"\"\n",
    "        pass\n",
    "\n",
    "    def is_safe(self, stress):\n",
    "        \"\"\"Checks if the component's stress is within the safety limit.\"\"\"\n",
    "        safe_limit = self.yield_strength / self.safety_factor\n",
    "        return stress < safe_limit"
   ]
  },
  {
   "cell_type": "markdown",
   "id": "12",
   "metadata": {},
   "source": []
  },
  {
   "cell_type": "markdown",
   "id": "13",
   "metadata": {},
   "source": [
    "## **Step 2: Beam and Cable Components**\n",
    "We define **`Beam`** and **`Cable`**, each with a **compute_stress** function.\n"
   ]
  },
  {
   "cell_type": "code",
   "execution_count": null,
   "id": "14",
   "metadata": {},
   "outputs": [],
   "source": [
    "class Beam(BridgeComponent):\n",
    "    \"\"\"Represents a bridge beam that undergoes bending stress.\"\"\"\n",
    "\n",
    "    def __init__(self, material, length, yield_strength, safety_factor, moment_of_inertia, neutral_axis_distance, uniform_load):\n",
    "        super().__init__(material, length, yield_strength, safety_factor)\n",
    "        self.moment_of_inertia = moment_of_inertia\n",
    "        self.neutral_axis_distance = neutral_axis_distance\n",
    "        self.uniform_load = uniform_load\n",
    "\n",
    "    def compute_stress(self):\n",
    "        \"\"\"Computes maximum stress in the beam.\"\"\"\n",
    "        x = self.length / 2  # Max stress at mid-span\n",
    "        M = (self.uniform_load * x * (self.length - x)) / 2  # Bending moment\n",
    "        return (M * self.neutral_axis_distance) / self.moment_of_inertia\n",
    "\n",
    "    def plot_deflection(self):\n",
    "        \"\"\"Plots deflection curve using LaTeX equations.\"\"\"\n",
    "        x = np.linspace(0, self.length, 100)\n",
    "        y = (self.uniform_load * x * (self.length - x) / (24 * 2.1e11 * self.moment_of_inertia)) * (self.length ** 2 - x ** 2)\n",
    "\n",
    "        plt.figure()\n",
    "        plt.plot(x, y, label=\"Deflection\")\n",
    "        plt.xlabel(\"Position along bridge (m)\")\n",
    "        plt.ylabel(\"Deflection (m)\")\n",
    "        plt.title(r\"Bridge Deflection: $y(x) = \\frac{q x (L-x)}{24EI} (L^2 - x^2)$\")\n",
    "        plt.legend()\n",
    "        plt.grid()\n",
    "        plt.show()\n",
    "\n",
    "\n",
    "class Cable(BridgeComponent):\n",
    "    \"\"\"Represents a bridge cable under tension.\"\"\"\n",
    "\n",
    "    def __init__(self, material, length, yield_strength, safety_factor, tension_force, cross_section_area):\n",
    "        super().__init__(material, length, yield_strength, safety_factor)\n",
    "        self.tension_force = tension_force\n",
    "        self.cross_section_area = cross_section_area\n",
    "\n",
    "    def compute_stress(self):\n",
    "        \"\"\"Computes tensile stress in the cable.\"\"\"\n",
    "        return self.tension_force / self.cross_section_area"
   ]
  },
  {
   "cell_type": "markdown",
   "id": "15",
   "metadata": {},
   "source": []
  },
  {
   "cell_type": "markdown",
   "id": "16",
   "metadata": {},
   "source": [
    "## **Step 3: Wind and Load Analysis**\n",
    "We extend the bridge to handle **wind effects**.\n"
   ]
  },
  {
   "cell_type": "code",
   "execution_count": null,
   "id": "17",
   "metadata": {},
   "outputs": [],
   "source": [
    "class WindLoadedBridge:\n",
    "    \"\"\"Handles additional wind force effects.\"\"\"\n",
    "\n",
    "    def __init__(self, bridge, wind_load):\n",
    "        self.bridge = bridge\n",
    "        self.wind_load = wind_load\n",
    "\n",
    "    def plot_bending_moment(self):\n",
    "        \"\"\"Plots the bending moment distribution with LaTeX equations.\"\"\"\n",
    "        x = np.linspace(0, self.bridge.length, 100)\n",
    "        M_traffic = (5000 * x * (self.bridge.length - x)) / 2  # Traffic load moment\n",
    "        M_wind = self.wind_load * x * (self.bridge.length - x)  # Wind load moment\n",
    "        M_total = M_traffic + M_wind\n",
    "\n",
    "        plt.figure()\n",
    "        plt.plot(x, M_traffic, label=r\"Traffic Load: $M(x) = \\frac{q x (L-x)}{2}$\")\n",
    "        plt.plot(x, M_wind, linestyle=\"dashed\", label=r\"Wind Load: $M_{wind}(x) = W x (L - x)$\")\n",
    "        plt.plot(x, M_total, linestyle=\"dotted\", label=r\"Total Moment: $M_{total} = M + M_{wind}$\")\n",
    "\n",
    "        plt.xlabel(\"Position along bridge (m)\")\n",
    "        plt.ylabel(\"Bending Moment (N·m)\")\n",
    "        plt.title(\"Effect of Wind Load on Bending Moment\")\n",
    "        plt.legend()\n",
    "        plt.grid()\n",
    "        plt.show()"
   ]
  },
  {
   "cell_type": "markdown",
   "id": "18",
   "metadata": {},
   "source": []
  },
  {
   "cell_type": "markdown",
   "id": "19",
   "metadata": {},
   "source": [
    "## **Step 4: Bridge Class Using Composition**\n",
    "Now, we define a **bridge object** that **contains beams and cables**.\n"
   ]
  },
  {
   "cell_type": "code",
   "execution_count": null,
   "id": "20",
   "metadata": {},
   "outputs": [],
   "source": [
    "class Bridge:\n",
    "    \"\"\"Represents the entire bridge composed of multiple components.\"\"\"\n",
    "\n",
    "    def __init__(self, name, length, elastic_modulus):\n",
    "        self.name = name\n",
    "        self.length = length\n",
    "        self.elastic_modulus = elastic_modulus\n",
    "        self.components = []  # List to store bridge components\n",
    "\n",
    "    def add_component(self, component):\n",
    "        \"\"\"Adds a bridge component (beam, cable, etc.).\"\"\"\n",
    "        self.components.append(component)\n",
    "\n",
    "    def check_safety(self):\n",
    "        \"\"\"Checks safety for each component and the bridge as a whole.\"\"\"\n",
    "        bridge_safe = True\n",
    "        print(f\"\\n🔍 Safety Analysis for {self.name} Bridge:\")\n",
    "\n",
    "        for component in self.components:\n",
    "            stress = component.compute_stress()\n",
    "            safe = component.is_safe(stress)\n",
    "            component_type = component.__class__.__name__\n",
    "\n",
    "            print(f\"  - {component_type}: Stress = {stress:.2f} Pa | Safe: {'✅' if safe else '⚠️'}\")\n",
    "            if not safe:\n",
    "                bridge_safe = False\n",
    "\n",
    "        print(\"\\nFinal Verdict:\", \"✅ Bridge is SAFE\" if bridge_safe else \"⚠️ WARNING: Bridge is UNSAFE\")"
   ]
  },
  {
   "cell_type": "markdown",
   "id": "21",
   "metadata": {},
   "source": []
  },
  {
   "cell_type": "markdown",
   "id": "22",
   "metadata": {},
   "source": [
    "## **Step 5: Running the Full Analysis**"
   ]
  },
  {
   "cell_type": "markdown",
   "id": "23",
   "metadata": {},
   "source": [
    "### **Create and Evaluate a Bridge**"
   ]
  },
  {
   "cell_type": "code",
   "execution_count": null,
   "id": "24",
   "metadata": {},
   "outputs": [],
   "source": [
    "# Create a bridge\n",
    "golden_gate = Bridge(\"Golden Gate\", length=100, elastic_modulus=2.1e11)\n",
    "\n",
    "# Add a beam component\n",
    "beam = Beam(\n",
    "    material=\"Steel\",\n",
    "    length=100,\n",
    "    yield_strength=250e6,\n",
    "    safety_factor=1.5,\n",
    "    moment_of_inertia=5e-3,\n",
    "    neutral_axis_distance=0.5,\n",
    "    uniform_load=5000\n",
    ")\n",
    "\n",
    "# Add a cable component\n",
    "cable = Cable(\n",
    "    material=\"High-strength Steel\",\n",
    "    length=150,\n",
    "    yield_strength=400e6,\n",
    "    safety_factor=2.0,\n",
    "    tension_force=1e6,\n",
    "    cross_section_area=0.01\n",
    ")\n",
    "\n",
    "# Add components to the bridge\n",
    "golden_gate.add_component(beam)\n",
    "golden_gate.add_component(cable)\n",
    "\n",
    "# Perform safety check\n",
    "golden_gate.check_safety()\n",
    "\n",
    "# Plot deflection\n",
    "beam.plot_deflection()\n",
    "\n",
    "# Analyze wind load\n",
    "wind_bridge = WindLoadedBridge(golden_gate, wind_load=3000)\n",
    "wind_bridge.plot_bending_moment()"
   ]
  },
  {
   "cell_type": "markdown",
   "id": "25",
   "metadata": {},
   "source": []
  }
 ],
 "metadata": {},
 "nbformat": 4,
 "nbformat_minor": 5
}
