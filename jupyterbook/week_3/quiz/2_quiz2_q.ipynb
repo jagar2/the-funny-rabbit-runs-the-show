{
 "cells": [
  {
   "cell_type": "code",
   "execution_count": null,
   "metadata": {},
   "outputs": [],
   "source": [
    "# BEGIN MULTIPLE CHOICE\n",
    "## points: 1\n",
    "## title: Select the Best Answer\n",
    "## question number: 1\n"
   ]
  },
  {
   "cell_type": "markdown",
   "metadata": {},
   "source": [
    " ## Sport-Car-Engine-Tracking-System\n",
    "\n",
    " ### **Which method would you use to find the horsepower of a NumPy array representing engine performance data?**\n",
    "\n",
    "\n",
    "\n",
    " #### OPTIONS\n",
    "\n",
    " np.shape()\n",
    "\n",
    " .shape\n",
    "\n",
    " np.size()\n",
    "\n",
    " .size\n",
    "\n",
    "\n",
    "\n",
    " #### SOLUTION\n",
    "\n",
    " .shape"
   ]
  },
  {
   "cell_type": "markdown",
   "metadata": {},
   "source": [
    " ## Default-Fuel-Type-in-Car-Array\n",
    "\n",
    " ### **What is the default data type of a NumPy array created using `np.array([\"Petrol\", \"Diesel\", \"Electric\"])` in the car sensor system?**\n",
    "\n",
    "\n",
    "\n",
    " #### OPTIONS\n",
    "\n",
    " object\n",
    "\n",
    " float\n",
    "\n",
    " str\n",
    "\n",
    " int\n",
    "\n",
    "\n",
    "\n",
    " #### SOLUTION\n",
    "\n",
    " object"
   ]
  },
  {
   "cell_type": "markdown",
   "metadata": {},
   "source": [
    " ## NumPy Basics in Engine Performance Analysis\n",
    "\n",
    " ### **What does `np.zeros((5, 5))` do in a car's engine monitoring system?**\n",
    "\n",
    "\n",
    "\n",
    " #### OPTIONS\n",
    "\n",
    " Creates a 5x5 array filled with zeros.\n",
    "\n",
    " Creates a 5x5 array filled with ones.\n",
    "\n",
    " Creates an array of zeros with shape (5, 5, 5).\n",
    "\n",
    " Returns an error.\n",
    "\n",
    "\n",
    "\n",
    " #### SOLUTION\n",
    "\n",
    " Creates a 5x5 array filled with zeros."
   ]
  },
  {
   "cell_type": "code",
   "execution_count": null,
   "metadata": {},
   "outputs": [],
   "source": [
    "# END MULTIPLE CHOICE\n"
   ]
  },
  {
   "cell_type": "code",
   "execution_count": null,
   "metadata": {},
   "outputs": [],
   "source": [
    "# BEGIN SELECT MANY\n",
    "## points: 2\n",
    "## title: Select All That Apply\n",
    "## question number: 2\n",
    "## grade: parts\n"
   ]
  },
  {
   "cell_type": "markdown",
   "metadata": {},
   "source": [
    " ## SymPy-Capabilities-in-Performance-Tuning\n",
    "\n",
    " ### **Which of the following are SymPy capabilities used to model sport car suspension dynamics?**\n",
    "\n",
    "\n",
    "\n",
    " #### OPTIONS\n",
    "\n",
    " Solving equations symbolically.\n",
    "\n",
    " Calculating definite integrals.\n",
    "\n",
    " Creating arrays for numerical computation.\n",
    "\n",
    " Performing symbolic differentiation.\n",
    "\n",
    " Generating random numbers.\n",
    "\n",
    "\n",
    "\n",
    " #### SOLUTION\n",
    "\n",
    " Solving equations symbolically\n",
    "\n",
    " Calculating definite integrals\n",
    "\n",
    " Performing symbolic differentiation."
   ]
  },
  {
   "cell_type": "markdown",
   "metadata": {},
   "source": [
    " ## Valid-NumPy-Array-Creation-Methods\n",
    "\n",
    " ### **Which of the following are valid ways to create a NumPy array for tracking tire pressure?**\n",
    "\n",
    "\n",
    "\n",
    " #### OPTIONS\n",
    "\n",
    " np.zeros()\n",
    "\n",
    " np.array([])\n",
    "\n",
    " np.arange()\n",
    "\n",
    " np.random.random()\n",
    "\n",
    " np.string()\n",
    "\n",
    "\n",
    "\n",
    " #### SOLUTION\n",
    "\n",
    " np.zeros()\n",
    "\n",
    " np.array([])\n",
    "\n",
    " np.arange()\n",
    "\n",
    " np.random.random()"
   ]
  },
  {
   "cell_type": "code",
   "execution_count": null,
   "metadata": {},
   "outputs": [],
   "source": [
    "# END SELECT MANY\n"
   ]
  },
  {
   "cell_type": "code",
   "execution_count": null,
   "metadata": {},
   "outputs": [],
   "source": [
    "# ASSIGNMENT CONFIG\n",
    "solutions_pdf: true\n",
    "generate:\n",
    "    pdf: true\n",
    "    filtering: true\n",
    "    pagebreaks: true\n",
    "    zips: false\n",
    "files: [.client_private_key.bin, .server_public_key.bin]\n"
   ]
  },
  {
   "cell_type": "code",
   "execution_count": null,
   "metadata": {},
   "outputs": [],
   "source": [
    "# BEGIN QUESTION\n",
    "name: sport-car-dynamics\n"
   ]
  },
  {
   "cell_type": "markdown",
   "metadata": {},
   "source": [
    " ## NumPy: Array Creation in the World of Sport Cars\n",
    "\n",
    "\n",
    "\n",
    " ### Instructions:\n",
    "\n",
    " You are designing the internal array processing system for a sport car's telemetry system! Create a NumPy array of integers from 0 to 120, representing speed data in km/h, using NumPy's built-in `np.arange()` method. Write a function `generate_speed_array()` that:\n",
    "\n",
    " 1. imports numpy using the common alias `np`.\n",
    "\n",
    " 2. Uses `np.arange()` to generate the array, starting from 0 and ending at 120 (inclusive)."
   ]
  },
  {
   "cell_type": "code",
   "execution_count": null,
   "metadata": {},
   "outputs": [],
   "source": [
    "# BEGIN SOLUTION\n"
   ]
  },
  {
   "cell_type": "code",
   "execution_count": null,
   "metadata": {},
   "outputs": [],
   "source": [
    "# BEGIN SOLUTION\n",
    "import numpy as np\n",
    "# END SOLUTION\n",
    "\n",
    "def generate_speed_array():\n",
    "    # Create an array from 0 to 120\n",
    "    # BEGIN SOLUTION\n",
    "    array = np.arange(0, 121)\n",
    "    # END SOLUTION\n",
    "    return array\n",
    "\n",
    "# Example usage\n",
    "result = generate_speed_array()\n",
    "print(\"Generated speed array:\", result)\n"
   ]
  },
  {
   "cell_type": "code",
   "execution_count": null,
   "metadata": {},
   "outputs": [],
   "source": [
    "# END SOLUTION\n"
   ]
  },
  {
   "cell_type": "code",
   "execution_count": null,
   "metadata": {},
   "outputs": [],
   "source": [
    "# BEGIN TESTS\n"
   ]
  },
  {
   "cell_type": "code",
   "execution_count": null,
   "metadata": {},
   "outputs": [],
   "source": [
    "\"\"\"#BEGIN TEST CONFIG\n",
    "points: 2\n",
    "hidden: false\n",
    "success_message: \"Success: numpy was imported as np.\"\n",
    "failure_message: \"Failed: numpy was not imported as np.\"\n",
    "\"\"\"  # END TEST CONFIG\n",
    "\n",
    "# Validate that the alias `np` in globals points to the `numpy` module.\n",
    "assert \"np\" in globals(), \"Failed: `np` is not defined globally.\"\n",
    "\n"
   ]
  },
  {
   "cell_type": "code",
   "execution_count": null,
   "metadata": {},
   "outputs": [],
   "source": [
    "\"\"\" # BEGIN TEST CONFIG\n",
    "points: 5\n",
    "hidden: false\n",
    "success_message: \"Success: The function generates a correct NumPy array using np.arange().\"\n",
    "failure_message: \"Failed: The function must generate an array using np.arange().\"\n",
    "log_variables: [\"is_array_correct\", \"output_type\"]\n",
    "\"\"\"  # END TEST CONFIG\n",
    "import numpy as np\n",
    "\n",
    "# Test: Verify the output array\n",
    "expected_array = np.arange(0, 121)\n",
    "output_array = generate_speed_array()\n",
    "is_array_correct = np.array_equal(output_array, expected_array)\n",
    "output_type = isinstance(output_array, np.ndarray)\n",
    "assert is_array_correct, \"Test failed: The generated array is incorrect.\"\n",
    "assert output_type, \"Test failed: Output should be a NumPy array.\"\n"
   ]
  },
  {
   "cell_type": "code",
   "execution_count": null,
   "metadata": {},
   "outputs": [],
   "source": [
    "\"\"\" # BEGIN TEST CONFIG\n",
    "points: 3\n",
    "hidden: false\n",
    "success_message: \"Success: The function generates a correct NumPy array using np.arange().\"\n",
    "failure_message: \"Failed: The function must generate an array using np.arange().\"\n",
    "\"\"\"  # END TEST CONFIG\n",
    "\n",
    "import inspect\n",
    "import re\n",
    "\n",
    "# Test: Ensure np.arange is used in the function\n",
    "code = inspect.getsource(generate_speed_array)\n",
    "arange_used = bool(re.search(r\"np\\.arange\\(\", code))\n",
    "\n",
    "assert arange_used, \"Test failed: np.arange() must be used in the function.\"\n"
   ]
  },
  {
   "cell_type": "code",
   "execution_count": null,
   "metadata": {},
   "outputs": [],
   "source": [
    "# END TESTS\n"
   ]
  },
  {
   "cell_type": "code",
   "execution_count": null,
   "metadata": {},
   "outputs": [],
   "source": [
    "# END QUESTION\n"
   ]
  }
 ],
 "metadata": {
  "language_info": {
   "codemirror_mode": {
    "name": "ipython",
    "version": 3
   },
   "file_extension": ".py",
   "mimetype": "text/x-python",
   "name": "python",
   "nbconvert_exporter": "python",
   "pygments_lexer": "ipython3",
   "version": 3
  }
 },
 "nbformat": 4,
 "nbformat_minor": 2
}
