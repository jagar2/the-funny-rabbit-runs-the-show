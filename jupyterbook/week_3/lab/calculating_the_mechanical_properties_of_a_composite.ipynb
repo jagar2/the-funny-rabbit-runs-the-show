{
 "cells": [
  {
   "cell_type": "markdown",
   "metadata": {},
   "source": [
    "# Designing Composites with Optimal Mechanical Properties\n",
    "\n",
    "## Introduction\n",
    "\n",
    "Composite materials are advanced materials engineered by combining two or more distinct constituent materials, each with significantly different physical or chemical properties. The resulting composite exhibits unique characteristics that differ from those of its individual components, while the constituents remain separate and distinct within the final structure. \n",
    "\n",
    "The objective of this lab is to leverage **NumPy** to develop a robust system for calculating the properties of a composite material based on the properties of its individual components, their volume fractions, and the orientation of fibers. This capability is crucial for designing high-performance materials and structures. For example, carbon fiber composites are widely used in aerospace applications due to their exceptional strength-to-weight ratio. Accurate prediction of the properties of these materials is vital to ensure they meet application-specific requirements and to design materials with tailored properties along different axes.\n",
    "\n",
    "## Goals: \n",
    "\n",
    "You want to compute the **effective stiffness** of a 2D composite (plane stress) reinforced by short fibers (or platelets) whose orientations are **not uniform**—instead, they follow some **anisotropic orientation distribution**. Each filler phase has **local** stiffness $\\mathbf{Q}_\\text{local}$ in its principal axes, and you also know the **matrix** stiffness. Your goal is to:\n",
    "\n",
    "1. **Define** the 2D plane-stress stiffness matrix $\\mathbf{Q}_\\text{local}$ for the **filler** in its local coordinate system (aligned with principal directions).\n",
    "2. **Rotate** that local stiffness into the **global** coordinates for each orientation $\\theta$ the filler may have, using a transformation matrix $\\mathbf{T}(\\theta)$.\n",
    "3. **Combine** these rotated filler stiffness matrices, weighted by their **orientation distribution** (i.e., the fraction of fibers oriented at each $\\theta$), and then add the **matrix** contribution to get the overall **effective** stiffness of the composite.\n",
    "\n",
    "\n",
    "### Your tasks are to **Write a Python/NumPy script** that:\n",
    "   - Builds a **local filler** stiffness matrix $\\mathbf{Q}_\\text{local}$.\n",
    "   - Implements **rotation** of $\\mathbf{Q}_\\text{local}$ to $\\mathbf{\\bar{Q}}(\\theta)$ for a given $\\theta$.\n",
    "   - Summation or integration of $\\mathbf{\\bar{Q}}(\\theta)$ across the **anisotropic distribution** to get $\\mathbf{Q}_\\text{filler,eff}$.\n",
    "   - Combines the filler result with **matrix** stiffness to obtain the final $\\mathbf{Q}_\\text{eff}$.\n",
    "\n",
    "\n",
    "**Don't Worry** you are not expected to know the math required to solve this problem, we will guide you through the process, and explain the math behind the solution as we go along."
   ]
  },
  {
   "cell_type": "markdown",
   "metadata": {},
   "source": [
    "## Part 1: Matrix Stiffness\n",
    "\n",
    "First, we want to define the 2D plane stiffness matrix. The stiffness matrix $\\mathbf{Q}$ provides the stiffness of the material along all axis in the material coordinate system. The stiffness matrix is a 3x3 matrix for 2D plane stress problems.\n",
    "\n",
    "$$\n",
    "\\mathbf{Q}_\\text{local} = \n",
    "\\begin{bmatrix}\n",
    "Q_{11} & Q_{12} & 0 \\\\\n",
    "Q_{12} & Q_{22} & 0 \\\\\n",
    "0      & 0      & G_{12}\n",
    "\\end{bmatrix}.\n",
    "$$\n",
    "\n",
    "- **$Q_{11}$**:  \n",
    "  This is the stiffness in the **1-direction** (typically aligned with the fiber's principal axis). It quantifies the material's resistance to normal strain along the 1-direction when subjected to normal stress in the same direction.\n",
    "\n",
    "- **$Q_{22}$**:  \n",
    "  This is the stiffness in the **2-direction** (perpendicular to the 1-direction in the plane). It quantifies the material's resistance to normal strain along the 2-direction when subjected to normal stress in the same direction.\n",
    "\n",
    "- **$Q_{12}$**:  \n",
    "  This represents the coupling stiffness between the 1- and 2-directions. It arises from the material’s anisotropy, where normal stress in one direction may cause strain in the perpendicular direction.\n",
    "\n",
    "- **$G_{12}$**:  \n",
    "  This is the **in-plane shear modulus**, which quantifies the material's resistance to in-plane shear deformation. It is a measure of the stiffness associated with shearing action in the plane of the composite.\n",
    "\n",
    "- **0 entries**:  \n",
    "  The zero entries indicate that there is no coupling between shear deformation and normal stresses (in-plane shear stresses do not cause normal strains and vice versa) in the principal axes. This is a characteristic of the orthotropic behavior assumed in this matrix.  \n",
    "\n",
    "In this case we will assume that the matrix stiffness is isotropic, meaning that the stiffness is the same in all directions.\n",
    "\n",
    "### Python Implementation:\n",
    "\n",
    "We will begin by implementing the local filler stiffness matrix $\\mathbf{Q}_\\text{local}$ in Python using NumPy. To achieve this, we define a function `local_stiffness_matrix` that takes the following parameters as input:\n",
    "\n",
    "- Elastic moduli: $E_1$ and $E_2$,\n",
    "- Poisson’s ratio: $\\nu_{12}$,  \n",
    "- Shear modulus: $G_{12}$.\n",
    "\n",
    "The function will return the local stiffness matrix $\\mathbf{Q}_\\text{local}$. We have provided the scaffolding for the function, and you need to fill in the missing code.\n",
    "\n",
    "1. compute the Poisson's ratio in the transverse direction, denoted as $\\nu_{21}$ to the variable `v21`, based on the given Poisson's ratio in the longitudinal direction ($\\nu_{12}$) and the elastic moduli ($E_1$ and $E_2$), using the formula:\n",
    "$$ \\nu_{21} = \\frac{E_2}{E_1} \\cdot \\nu_{12} $$\n",
    "\n",
    "2. Compute the denominator factor `denom` which is used to compute the stiffness matrix components, using the formula:\n",
    "$$ denom = 1 - \\nu_{12} \\cdot \\nu_{21} $$\n",
    "\n",
    "3. Compute the stiffness matrix components $Q_{11}$, $Q_{22}$, and $Q_{12}$ and assign them to the variables Q11, Q22, and Q12 respectively using the formulas:\n",
    "$$ Q_{11} = \\frac{E_1}{1 - \\nu_{12} \\cdot \\nu_{21}} $$\n",
    "$$ Q_{22} = \\frac{E_2}{1 - \\nu_{12} \\cdot \\nu_{21}} $$\n",
    "$$ Q_{12} = \\frac{\\nu_{12} \\cdot E_2}{1 - \\nu_{12} \\cdot \\nu_{21}} $$\n",
    "\n",
    "4. Construct the local stiffness matrix as a 2D NumPy array `Q` using the computed stiffness matrix components $Q_{11}$, $Q_{22}$, and $Q_{12}$, per the matrix definition provided:\n",
    "\n",
    "$$\n",
    "\\mathbf{Q}_\\text{local} = \n",
    "\\begin{bmatrix}\n",
    "Q_{11} & Q_{12} & 0 \\\\\n",
    "Q_{12} & Q_{22} & 0 \\\\\n",
    "0      & 0      & G_{12}\n",
    "\\end{bmatrix}.\n",
    "$$\n",
    "\n",
    "5. Compute the matrix stiffness tensor:\n",
    "\n",
    "Use the `local_stiffness_orthotropic` function to compute the local stiffness matrix for the filler phase with the following properties:\n",
    "\n",
    "- Elastic modulus in the 1-direction: $E_1 = E_2 = 2$ GPa\n",
    "- Poisson's ratio in the 1-direction: $\\nu_{12} = 0.33$\n",
    "- Shear modulus: $G_{12} = 0.8$ GPa\n",
    "\n",
    "Assign this to the variable `Q_matrix`.\n"
   ]
  },
  {
   "cell_type": "raw",
   "metadata": {
    "vscode": {
     "languageId": "raw"
    }
   },
   "source": [
    "# BEGIN QUESTION\n",
    "name: local_stiffness_orthorhombic"
   ]
  },
  {
   "cell_type": "raw",
   "metadata": {
    "vscode": {
     "languageId": "raw"
    }
   },
   "source": [
    "# BEGIN SOLUTION"
   ]
  },
  {
   "cell_type": "code",
   "execution_count": null,
   "metadata": {},
   "outputs": [],
   "source": [
    "import numpy as np\n",
    "\n",
    "def local_stiffness_orthotropic(E1, E2, v12, G12, otter=False):\n",
    "    \n",
    "    # 1. Compute the transverse Poisson's ratio\n",
    "    # BEGIN SOLUTION\n",
    "    v21 = (E2 / E1) * v12\n",
    "    # END SOLUTION\n",
    "    \n",
    "    # 2. Compute the denominator of the stiffness matrix Q\n",
    "    # BEGIN SOLUTION\n",
    "    denom = 1.0 - v12 * v21\n",
    "    # END SOLUTION\n",
    "    \n",
    "    # 3. Compute the stiffness matrix Q\n",
    "    # BEGIN SOLUTION\n",
    "    Q11 = E1 / denom\n",
    "    Q22 = E2 / denom\n",
    "    Q12 = v12 * E2 / denom\n",
    "    # END SOLUTION\n",
    "\n",
    "    # 4. Assemble the stiffness matrix Q\n",
    "    # BEGIN SOLUTION\n",
    "    Q = np.array([\n",
    "        [Q11, Q12,  0.0],\n",
    "        [Q12, Q22,  0.0],\n",
    "        [0.0,  0.0, G12]\n",
    "    ])\n",
    "    # END SOLUTION\n",
    "    if otter:\n",
    "        return Q, E1, E2, v12, G12, v21, denom, Q11, Q22, Q12\n",
    "    return Q\n",
    "\n",
    "# BEGIN SOLUTION\n",
    "Q_matrix = local_stiffness_orthotropic(2, 2, 0.33, .8)\n",
    "# END SOLUTION"
   ]
  },
  {
   "cell_type": "raw",
   "metadata": {},
   "source": [
    "# END SOLUTION"
   ]
  },
  {
   "cell_type": "raw",
   "metadata": {},
   "source": [
    "# BEGIN TESTS"
   ]
  },
  {
   "cell_type": "code",
   "execution_count": null,
   "metadata": {},
   "outputs": [],
   "source": [
    "\"\"\" # BEGIN TEST CONFIG\n",
    "points: 1\n",
    "hidden: false\n",
    "success_message: \"Success: Output Q is a 3x3 matrix!\"\n",
    "failure_message: \"Failed: Output Q is not 3x3!\"\n",
    "log_variables: [\"Q_shape\"]\n",
    "\"\"\"  # END TEST CONFIG\n",
    "\n",
    "import numpy as np\n",
    "\n",
    "result = local_stiffness_orthotropic(2, 2, 0.33, 0.8, otter=True)\n",
    "\n",
    "# 3) Test shape of Q\n",
    "Q, E1_ret, E2_ret, v12_ret, G12_ret, v21_ret, denom_ret, Q11_ret, Q22_ret, Q12_ret = (\n",
    "    result\n",
    ")\n",
    "Q_shape = Q.shape\n",
    "assert Q_shape == (3, 3), f\"Expected Q to be 3x3, but got {Q_shape}.\""
   ]
  },
  {
   "cell_type": "code",
   "execution_count": null,
   "metadata": {},
   "outputs": [],
   "source": [
    "\"\"\" # BEGIN TEST CONFIG\n",
    "points: 1\n",
    "hidden: false\n",
    "success_message: \"Success: v21 is computed correctly!\"\n",
    "failure_message: \"Failed: v21 is incorrect!\"\n",
    "log_variables: [\"v21_ret\",\"v21_exp\"]\n",
    "\"\"\"  # END TEST CONFIG\n",
    "\n",
    "import numpy as np\n",
    "\n",
    "result = local_stiffness_orthotropic(2, 2, 0.33, 0.8, otter=True)\n",
    "\n",
    "# 3) Test shape of Q\n",
    "Q, E1_ret, E2_ret, v12_ret, G12_ret, v21_ret, denom_ret, Q11_ret, Q22_ret, Q12_ret = (\n",
    "    result\n",
    ")\n",
    "\n",
    "# 8) Test v21\n",
    "v21_exp = 0.33\n",
    "assert np.isclose(\n",
    "    v21_ret, v21_exp, atol=1e-6\n",
    "), f\"Expected v21={v21_exp}, but got {v21_ret}.\""
   ]
  },
  {
   "cell_type": "code",
   "execution_count": null,
   "metadata": {},
   "outputs": [],
   "source": [
    "\"\"\" # BEGIN TEST CONFIG\n",
    "points: 1\n",
    "hidden: false\n",
    "success_message: \"Success: denom is computed correctly!\"\n",
    "failure_message: \"Failed: denom is incorrect!\"\n",
    "log_variables: [\"denom_ret\",\"denom_exp\"]\n",
    "\"\"\"  # END TEST CONFIG\n",
    "\n",
    "import numpy as np\n",
    "\n",
    "result = local_stiffness_orthotropic(2, 2, 0.33, 0.8, otter=True)\n",
    "\n",
    "# 3) Test shape of Q\n",
    "Q, E1_ret, E2_ret, v12_ret, G12_ret, v21_ret, denom_ret, Q11_ret, Q22_ret, Q12_ret = (\n",
    "    result\n",
    ")\n",
    "\n",
    "# 9) Test denom\n",
    "denom_exp =  0.8911\n",
    "assert np.isclose(\n",
    "    denom_ret, denom_exp, atol=1e-6\n",
    "), f\"Expected denom={denom_exp}, but got {denom_ret}.\""
   ]
  },
  {
   "cell_type": "code",
   "execution_count": null,
   "metadata": {},
   "outputs": [],
   "source": [
    "\"\"\" # BEGIN TEST CONFIG\n",
    "points: 1\n",
    "hidden: false\n",
    "success_message: \"Success: Q11 is computed correctly!\"\n",
    "failure_message: \"Failed: Q11 is incorrect!\"\n",
    "log_variables: [\"Q11_ret\",\"Q11_exp\"]\n",
    "\"\"\"  # END TEST CONFIG\n",
    "\n",
    "import numpy as np\n",
    "\n",
    "result = local_stiffness_orthotropic(2, 2, 0.33, 0.8, otter=True)\n",
    "\n",
    "# 3) Test shape of Q\n",
    "Q, E1_ret, E2_ret, v12_ret, G12_ret, v21_ret, denom_ret, Q11_ret, Q22_ret, Q12_ret = (\n",
    "    result\n",
    ")\n",
    "\n",
    "# 10) Test Q11\n",
    "Q11_exp = 2 / 0.8911\n",
    "assert np.isclose(\n",
    "    Q11_ret, Q11_exp, atol=1e-6\n",
    "), f\"Expected Q11={Q11_exp}, but got {Q11_ret}.\""
   ]
  },
  {
   "cell_type": "code",
   "execution_count": null,
   "metadata": {},
   "outputs": [],
   "source": [
    "\"\"\" # BEGIN TEST CONFIG\n",
    "points: 1\n",
    "hidden: false\n",
    "success_message: \"Success: Q22 is computed correctly!\"\n",
    "failure_message: \"Failed: Q22 is incorrect!\"\n",
    "log_variables: [\"Q22_ret\",\"Q22_exp\"]\n",
    "\"\"\"  # END TEST CONFIG\n",
    "\n",
    "import numpy as np\n",
    "\n",
    "result = local_stiffness_orthotropic(2, 2, 0.33, 0.8, otter=True)\n",
    "\n",
    "# 3) Test shape of Q\n",
    "Q, E1_ret, E2_ret, v12_ret, G12_ret, v21_ret, denom_ret, Q11_ret, Q22_ret, Q12_ret = (\n",
    "    result\n",
    ")\n",
    "\n",
    "# 11) Test Q22\n",
    "Q22_exp = 2 / 0.8911\n",
    "assert np.isclose(\n",
    "    Q22_ret, Q22_exp, atol=1e-6\n",
    "), f\"Expected Q22={Q22_exp}, but got {Q22_ret}.\""
   ]
  },
  {
   "cell_type": "code",
   "execution_count": null,
   "metadata": {},
   "outputs": [],
   "source": [
    "\"\"\" # BEGIN TEST CONFIG\n",
    "points: 1\n",
    "hidden: false\n",
    "success_message: \"Success: Q12 is computed correctly!\"\n",
    "failure_message: \"Failed: Q12 is incorrect!\"\n",
    "log_variables: [\"Q12_ret\",\"Q12_exp\"]\n",
    "\"\"\"  # END TEST CONFIG\n",
    "\n",
    "import numpy as np\n",
    "\n",
    "result = local_stiffness_orthotropic(2, 2, 0.33, 0.8, otter=True)\n",
    "\n",
    "# 3) Test shape of Q\n",
    "Q, E1_ret, E2_ret, v12_ret, G12_ret, v21_ret, denom_ret, Q11_ret, Q22_ret, Q12_ret = (\n",
    "    result\n",
    ")\n",
    "\n",
    "# 12) Test Q12\n",
    "Q12_exp = (0.33 * 2) / 0.8911\n",
    "assert np.isclose(\n",
    "    Q12_ret, Q12_exp, atol=1e-6\n",
    "), f\"Expected Q12={Q12_exp}, but got {Q12_ret}.\""
   ]
  },
  {
   "cell_type": "code",
   "execution_count": null,
   "metadata": {},
   "outputs": [],
   "source": [
    "\"\"\" # BEGIN TEST CONFIG\n",
    "points: 4\n",
    "hidden: false\n",
    "success_message: \"Success: Full Q matrix test passed!\"\n",
    "failure_message: \"Failed: The Q matrix does not match the expected orthotropic stiffness.\"\n",
    "log_variables: [\"Q\",\"Q_expected\"]\n",
    "\"\"\"  # END TEST CONFIG\n",
    "\n",
    "import numpy as np\n",
    "\n",
    "result = local_stiffness_orthotropic(2, 2, 0.33, 0.8, otter=True)\n",
    "\n",
    "# 3) Test shape of Q\n",
    "Q, E1_ret, E2_ret, v12_ret, G12_ret, v21_ret, denom_ret, Q11_ret, Q22_ret, Q12_ret = (\n",
    "    result\n",
    ")\n",
    "\n",
    "# Expected Q from the formula:\n",
    "Q_expected = np.array(\n",
    "    [[2.24441701, 0.74065761, 0.0], [0.74065761, 2.24441701, 0.0], [0.0, 0.0, 0.8]]\n",
    ")\n",
    "\n",
    "assert Q.shape == (3, 3), f\"Expected Q to be 3x3, but got {Q.shape}\"\n",
    "assert np.allclose(Q, Q_expected, atol=1e-6), f\"Expected:\\n{Q_expected}\\nBut got:\\n{Q}\""
   ]
  },
  {
   "cell_type": "raw",
   "metadata": {},
   "source": [
    "# END TESTS"
   ]
  },
  {
   "cell_type": "raw",
   "metadata": {},
   "source": [
    "# END QUESTION"
   ]
  },
  {
   "cell_type": "markdown",
   "metadata": {},
   "source": [
    "## Part 2: Rotation Matrix to Transform from Local to Global Coordinates\n",
    "\n",
    "### Context\n",
    "\n",
    "In 2D plane stress problems, we typically work with stress components ($\\sigma_x, \\sigma_y, \\tau_{xy}$) or strain components ($\\epsilon_x, \\epsilon_y, \\gamma_{xy}$) defined in the local or global coordinate system. These components can be transformed between coordinate systems using a transformation matrix ($\\mathbf{T}(\\theta)$), where $\\theta$ represents the angle of rotation between the local and global axes.\n",
    "\n",
    "The transformation matrix ($\\mathbf{T}(\\theta)$) is derived based on trigonometric relationships in the rotated coordinate system. The components of the transformation matrix account for how normal and shear stresses/strains change under rotation.\n",
    "\n",
    "For engineering applications like composite materials or anisotropic elasticity, it is often necessary to compute the stiffness matrix ($\\mathbf{\\bar{Q}}$) in the **global coordinate system** from the stiffness matrix ($\\mathbf{Q}_\\text{local}$) in the **local coordinate system**. This transformation involves both the transformation matrix and its transpose/inverse, as shown below.\n",
    "\n",
    "\n",
    "#### Stress/Strain Representation in Plane Stress\n",
    "\n",
    "$$\n",
    "\\text{Stress components: } \\sigma_x, \\sigma_y, \\tau_{xy}\n",
    "$$\n",
    "\n",
    "$$\n",
    "\\text{Strain components: } \\epsilon_x, \\epsilon_y, \\gamma_{xy}\n",
    "$$\n",
    "\n",
    "\n",
    "#### Transformation Matrix (3×3)\n",
    "\n",
    "$$\n",
    "\\mathbf{T}(\\theta) = \n",
    "\\begin{bmatrix}\n",
    "\\cos^2\\theta & \\sin^2\\theta & 2\\sin\\theta \\cos\\theta \\\\\n",
    "\\sin^2\\theta & \\cos^2\\theta & -2\\sin\\theta \\cos\\theta \\\\\n",
    "-\\sin\\theta \\cos\\theta & \\sin\\theta \\cos\\theta & \\cos^2\\theta - \\sin^2\\theta\n",
    "\\end{bmatrix}.\n",
    "$$\n",
    "\n",
    "\n",
    "#### Stiffness Transformation\n",
    "\n",
    "$$\n",
    "\\mathbf{\\bar{Q}}(\\theta) = \\mathbf{T}^{-1}(\\theta) \\; \\mathbf{Q}_\\text{local} \\; \\mathbf{T}^{-T}(\\theta)\n",
    "$$\n",
    "\n",
    "where:\n",
    "\n",
    "$\n",
    "\\mathbf{\\bar{Q}}(\\theta) \\text{ is the global stiffness matrix.}\n",
    "$\n",
    "\n",
    "$\n",
    "\\mathbf{Q}_\\text{local} \\text{ is the stiffness matrix in the local coordinate system.}\n",
    "$\n",
    "\n",
    "$\n",
    "\\mathbf{T}(\\theta) \\text{ is the transformation matrix.}\n",
    "$\n",
    "\n",
    "$\n",
    "\\mathbf{T}^{-1} \\text{ and } \\mathbf{T}^{-T} \\text{ are the inverse and transpose-inverse of } \\mathbf{T}(\\theta), \\text{ respectively.}\n",
    "$\n"
   ]
  },
  {
   "cell_type": "markdown",
   "metadata": {},
   "source": [
    "### Python Implementation:\n",
    "\n",
    "#### Part 2.1: Rotation Matrix\n",
    "\n",
    "We will implement a function `rotation_matrix` that computes the transformation matrix $\\mathbf{T}(\\theta)$ for a given angle $\\theta$. The function will take the angle $\\theta$ as input and return the transformation matrix $\\mathbf{T}(\\theta)$.\n",
    "\n",
    "1. Compute the trigonometric functions $\\sin\\theta$ and $\\cos\\theta$ using NumPy's `sin` and `cos` functions, respectively. Assign the results to the variables `sin_theta` and `cos_theta`.\n",
    "2. Construct the transformation matrix $\\mathbf{T}(\\theta)$ as a 2D NumPy array `T` using the computed trigonometric functions $\\sin\\theta$ and $\\cos\\theta$, per the matrix definition provided:\n",
    "\n",
    "$$\n",
    "\\mathbf{T}(\\theta) = \n",
    "\\begin{bmatrix}\n",
    "\\cos^2\\theta & \\sin^2\\theta & 2\\sin\\theta \\cos\\theta \\\\\n",
    "\\sin^2\\theta & \\cos^2\\theta & -2\\sin\\theta \\cos\\theta \\\\\n",
    "-\\sin\\theta \\cos\\theta & \\sin\\theta \\cos\\theta & \\cos^2\\theta - \\sin^2\\theta\n",
    "\\end{bmatrix}.\n",
    "$$"
   ]
  },
  {
   "cell_type": "raw",
   "metadata": {
    "vscode": {
     "languageId": "raw"
    }
   },
   "source": [
    "# BEGIN QUESTION\n",
    "name: transformation-matrix-2d"
   ]
  },
  {
   "cell_type": "raw",
   "metadata": {},
   "source": [
    "# BEGIN SOLUTION"
   ]
  },
  {
   "cell_type": "code",
   "execution_count": null,
   "metadata": {},
   "outputs": [],
   "source": [
    "def transformation_matrix_2D(theta, otter=False):\n",
    "    \"\"\"\n",
    "    Build the 3x3 transformation matrix for plane-stress (sigma_x, sigma_y, tau_xy).\n",
    "    \"\"\"\n",
    "    # 1. Compute the cosine and sine of the angle theta\n",
    "    # BEGIN SOLUTION\n",
    "    cos_theta = np.cos(theta)\n",
    "    sin_theta = np.sin(theta)\n",
    "    # END SOLUTION\n",
    "    \n",
    "    # 2. Build the transformation matrix\n",
    "    # BEGIN SOLUTION\n",
    "    T = np.array(\n",
    "        [\n",
    "            [cos_theta * cos_theta, sin_theta * sin_theta, 2 * sin_theta * cos_theta],\n",
    "            [sin_theta * sin_theta, cos_theta * cos_theta, -2 * sin_theta * cos_theta],\n",
    "            [\n",
    "                -sin_theta * cos_theta,\n",
    "                sin_theta * cos_theta,\n",
    "                cos_theta * cos_theta - sin_theta * sin_theta,\n",
    "            ],\n",
    "        ]\n",
    "    )\n",
    "    # END SOLUTION\n",
    "    \n",
    "    if otter:\n",
    "        return T, cos_theta, sin_theta\n",
    "    return T"
   ]
  },
  {
   "cell_type": "raw",
   "metadata": {},
   "source": [
    "# END SOLUTION"
   ]
  },
  {
   "cell_type": "code",
   "execution_count": null,
   "metadata": {},
   "outputs": [],
   "source": [
    "\"\"\" # BEGIN TEST CONFIG\n",
    "points: 1\n",
    "hidden: false\n",
    "success_message: \"Success: T is a 3x3 matrix!\"\n",
    "failure_message: \"Failed: T is not 3x3!\"\n",
    "log_variables: [\"T_shape\"]\n",
    "\"\"\"  # END TEST CONFIG\n",
    "\n",
    "import numpy as np\n",
    "\n",
    "# Test (3): Check the shape of T\n",
    "theta = 0.0\n",
    "T = transformation_matrix_2D(theta)  # default otter=False\n",
    "T_shape = T.shape\n",
    "assert T_shape == (3, 3), f\"Expected T to be 3x3, but got {T_shape}.\""
   ]
  },
  {
   "cell_type": "code",
   "execution_count": null,
   "metadata": {},
   "outputs": [],
   "source": [
    "\"\"\" # BEGIN TEST CONFIG\n",
    "points: 1\n",
    "hidden: false\n",
    "success_message: \"Success: transformation_matrix_2D(0.0) is correct!\"\n",
    "failure_message: \"Failed: transformation_matrix_2D(0.0) is incorrect!\"\n",
    "log_variables: [\"T\",\"T_expected\"]\n",
    "\"\"\"  # END TEST CONFIG\n",
    "\n",
    "import numpy as np\n",
    "\n",
    "# Test (4): At theta=0, cos(0) = 1, sin(0) = 0\n",
    "# T should be:\n",
    "# [ [1, 0, 0],\n",
    "#   [0, 1, 0],\n",
    "#   [0, 0, 1] ]\n",
    "T_expected = np.array([[1.0, 0.0, 0.0], [0.0, 1.0, 0.0], [0.0, 0.0, 1.0]], dtype=float)\n",
    "\n",
    "theta = 0.0\n",
    "T = transformation_matrix_2D(theta)\n",
    "assert np.allclose(T, T_expected, atol=1e-9), f\"Expected:\\n{T_expected}\\nGot:\\n{T}\""
   ]
  },
  {
   "cell_type": "code",
   "execution_count": null,
   "metadata": {},
   "outputs": [],
   "source": [
    "\"\"\" # BEGIN TEST CONFIG\n",
    "points: 1\n",
    "hidden: false\n",
    "success_message: \"Success: transformation_matrix_2D(pi/2) is correct!\"\n",
    "failure_message: \"Failed: transformation_matrix_2D(pi/2) is incorrect!\"\n",
    "log_variables: [\"T\",\"T_expected\"]\n",
    "\"\"\"  # END TEST CONFIG\n",
    "\n",
    "import numpy as np\n",
    "import math\n",
    "\n",
    "# Test (5): For theta = pi/2\n",
    "# cos(pi/2) = 0, sin(pi/2) = 1\n",
    "# T should be:\n",
    "# [\n",
    "#   [0*0,   1*1,   2*1*0]    = [0, 1, 0],\n",
    "#   [1*1,   0*0,   -2*1*0]   = [1, 0, 0],\n",
    "#   [-1*0,  1*0,   0*0 - 1*1]= [0,  0, -1]\n",
    "# ]\n",
    "T_expected = np.array([[0.0, 1.0, 0.0], [1.0, 0.0, 0.0], [0.0, 0.0, -1.0]], dtype=float)\n",
    "\n",
    "theta = math.pi / 2\n",
    "T = transformation_matrix_2D(theta)\n",
    "assert np.allclose(T, T_expected, atol=1e-9), f\"Expected:\\n{T_expected}\\nGot:\\n{T}\""
   ]
  },
  {
   "cell_type": "code",
   "execution_count": null,
   "metadata": {},
   "outputs": [],
   "source": [
    "\"\"\" # BEGIN TEST CONFIG\n",
    "points: 1\n",
    "hidden: false\n",
    "success_message: \"Success: transformation_matrix_2D(pi) is correct!\"\n",
    "failure_message: \"Failed: transformation_matrix_2D(pi) is incorrect!\"\n",
    "log_variables: [\"T\",\"T_expected\"]\n",
    "\"\"\"  # END TEST CONFIG\n",
    "\n",
    "import numpy as np\n",
    "import math\n",
    "\n",
    "# Test (6): For theta = pi\n",
    "# cos(pi) = -1, sin(pi) = 0\n",
    "# T = [\n",
    "#   [(-1)^2, (0)^2, 2*0*(-1)]   = [1, 0, 0],\n",
    "#   [(0)^2,  (-1)^2, -2*0*(-1)] = [0, 1, 0],\n",
    "#   [-0*(-1),  0*(-1), (-1)^2 - 0^2 ] = [0, 0, 1]\n",
    "# ]\n",
    "T_expected = np.array([[1.0, 0.0, 0.0], [0.0, 1.0, 0.0], [0.0, 0.0, 1.0]], dtype=float)\n",
    "\n",
    "theta = math.pi\n",
    "T = transformation_matrix_2D(theta)\n",
    "assert np.allclose(T, T_expected, atol=1e-9), f\"Expected:\\n{T_expected}\\nGot:\\n{T}\""
   ]
  },
  {
   "cell_type": "code",
   "execution_count": null,
   "metadata": {},
   "outputs": [],
   "source": [
    "\"\"\" # BEGIN TEST CONFIG\n",
    "points: 3\n",
    "hidden: false\n",
    "success_message: \"Success: transformation_matrix_2D with otter=True returns (T, cos_theta, sin_theta) correctly!\"\n",
    "failure_message: \"Failed: The returned cos_theta or sin_theta is incorrect!\"\n",
    "log_variables: [\"cos_theta\",\"sin_theta\",\"cos_expected\",\"sin_expected\"]\n",
    "\"\"\"  # END TEST CONFIG\n",
    "\n",
    "import numpy as np\n",
    "import math\n",
    "\n",
    "# Test (7): Check cos_theta and sin_theta returned with otter=True\n",
    "theta = math.radians(30)  # 30 degrees\n",
    "# cos(30 deg) ~ 0.8660254038, sin(30 deg) ~ 0.5\n",
    "T, cos_theta, sin_theta = transformation_matrix_2D(theta, otter=True)\n",
    "\n",
    "cos_expected = math.cos(theta)\n",
    "sin_expected = math.sin(theta)\n",
    "\n",
    "assert np.isclose(\n",
    "    cos_theta, cos_expected, atol=1e-9\n",
    "), f\"Expected cos={cos_expected}, got {cos_theta}\"\n",
    "assert np.isclose(\n",
    "    sin_theta, sin_expected, atol=1e-9\n",
    "), f\"Expected sin={sin_expected}, got {sin_theta}\""
   ]
  },
  {
   "cell_type": "code",
   "execution_count": null,
   "metadata": {},
   "outputs": [],
   "source": [
    "\"\"\" # BEGIN TEST CONFIG\n",
    "points: 2\n",
    "hidden: false\n",
    "success_message: \"Success: transformation_matrix_2D(30 degrees) is correct!\"\n",
    "failure_message: \"Failed: transformation_matrix_2D(30 degrees) is incorrect!\"\n",
    "log_variables: [\"T\",\"T_expected\"]\n",
    "\"\"\"  # END TEST CONFIG\n",
    "\n",
    "import numpy as np\n",
    "import math\n",
    "\n",
    "# Test (8): For 30 degrees (pi/6)\n",
    "theta = math.pi / 6\n",
    "cos_th = math.cos(theta)  # ~ 0.8660254038\n",
    "sin_th = math.sin(theta)  # ~ 0.5\n",
    "\n",
    "# Build expected T manually:\n",
    "# T[0,0] = cos^2(30) = 0.8660254^2\n",
    "# T[0,1] = sin^2(30) = 0.5^2\n",
    "# T[0,2] = 2 * sin(30)*cos(30) = 2*0.5*0.8660254\n",
    "# T[1,0] = sin^2(30)\n",
    "# T[1,1] = cos^2(30)\n",
    "# T[1,2] = -2 * sin(30)*cos(30)\n",
    "# T[2,0] = -sin(30)*cos(30)\n",
    "# T[2,1] = sin(30)*cos(30)\n",
    "# T[2,2] = cos^2(30) - sin^2(30)\n",
    "\n",
    "T_expected = np.array(\n",
    "    [\n",
    "        [cos_th**2, sin_th**2, 2 * cos_th * sin_th],\n",
    "        [sin_th**2, cos_th**2, -2 * cos_th * sin_th],\n",
    "        [-cos_th * sin_th, cos_th * sin_th, cos_th**2 - sin_th**2],\n",
    "    ],\n",
    "    dtype=float,\n",
    ")\n",
    "\n",
    "T = transformation_matrix_2D(theta)\n",
    "assert np.allclose(T, T_expected, atol=1e-9), f\"Expected:\\n{T_expected}\\nGot:\\n{T}\""
   ]
  },
  {
   "cell_type": "raw",
   "metadata": {},
   "source": [
    "# BEGIN TESTS"
   ]
  },
  {
   "cell_type": "raw",
   "metadata": {},
   "source": [
    "# END TESTS"
   ]
  },
  {
   "cell_type": "raw",
   "metadata": {},
   "source": [
    "# END QUESTION"
   ]
  },
  {
   "cell_type": "markdown",
   "metadata": {},
   "source": [
    "#### Part 2.2: Transformation of Stiffness Matrix\n",
    "\n",
    "Next, we will implement a function `transform_stiffness` that computes the transformed stiffness matrix $\\mathbf{\\bar{Q}}(\\theta)$ in the global coordinate system for a given local stiffness matrix $\\mathbf{Q}_\\text{local}$ and angle $\\theta$. The function will take the local stiffness matrix $\\mathbf{Q}_\\text{local}$ and angle $\\theta$ as inputs and return the transformed stiffness matrix $\\mathbf{\\bar{Q}}(\\theta)$.\n",
    "\n",
    "1. Compute the transformation matrix $\\mathbf{T}(\\theta)$ using the `rotation_matrix` function with the input angle $\\theta$. To do this, call the `rotation_matrix` function with the input angle $\\theta$ and assign the result to the variable `T`. You can call the function you wrote just like any function you import from a library.\n",
    "\n",
    "2. Compute the inverse of the transformation matrix $\\mathbf{T}^{-1}(\\theta)$ using NumPy's `linalg.inv` function. Assign the result to the variable `T_inv`.\n",
    "\n",
    "3. Compute the transpose-inverse of the transformation matrix $\\mathbf{T}^{-T}(\\theta)$ using NumPy's `transpose` built-in method. This can be easily done using the <2D Numpy Array>.T method. Assign the result to the variable `T_inv_transpose`.\n",
    "\n",
    "4. Compute the transformed stiffness matrix $\\mathbf{\\bar{Q}}(\\theta)$ using the formula provided:\n",
    "\n",
    "$$\\mathbf{\\bar{Q}}(\\theta) = \\mathbf{T}^{-1}(\\theta) \\; \\mathbf{Q}_\\text{local} \\; \\mathbf{T}^{-T}(\\theta)$$\n",
    "\n",
    "Note: This is a matrix multiplication operation, and you can use the `@` operator for matrix multiplication in NumPy. If you were to us the * operator, it would perform element-wise multiplication.\n",
    "\n",
    "```{note}\n",
    "**Elementwise Multiplication**: Each corresponding element of two matrices (or arrays) is multiplied independently. This operation requires matrices of the same shape and results in a matrix of the same dimensions, where each element is the product of the corresponding elements. For example:\n",
    "\n",
    "$$\n",
    "\\begin{bmatrix}\n",
    "a & b \\\\\n",
    "c & d\n",
    "\\end{bmatrix}\n",
    "\\odot\n",
    "\\begin{bmatrix}\n",
    "e & f \\\\\n",
    "g & h\n",
    "\\end{bmatrix}\n",
    "=\n",
    "\\begin{bmatrix}\n",
    "a \\cdot e & b \\cdot f \\\\\n",
    "c \\cdot g & d \\cdot h\n",
    "\\end{bmatrix}\n",
    "$$\n",
    "\n",
    "---\n",
    "\n",
    "**Matrix Multiplication**: This follows the linear algebra rules for multiplying matrices. The elements of the resulting matrix are computed as the dot product of rows from the first matrix with columns from the second. For example:\n",
    "\n",
    "$$\n",
    "\\begin{bmatrix}\n",
    "a & b \\\\\n",
    "c & d\n",
    "\\end{bmatrix}\n",
    "\\cdot\n",
    "\\begin{bmatrix}\n",
    "e & f \\\\\n",
    "g & h\n",
    "\\end{bmatrix}\n",
    "=\n",
    "\\begin{bmatrix}\n",
    "a \\cdot e + b \\cdot g & a \\cdot f + b \\cdot h \\\\\n",
    "c \\cdot e + d \\cdot g & c \\cdot f + d \\cdot h\n",
    "\\end{bmatrix}\n",
    "$$\n",
    "\n",
    "**Key Difference**: Elementwise multiplication is straightforward and independent for each element, while matrix multiplication involves summing products across rows and columns, capturing relationships between elements.\n",
    "```"
   ]
  },
  {
   "cell_type": "raw",
   "metadata": {
    "vscode": {
     "languageId": "raw"
    }
   },
   "source": [
    "# BEGIN QUESTION\n",
    "name: transform-stiffness"
   ]
  },
  {
   "cell_type": "raw",
   "metadata": {},
   "source": [
    "# BEGIN SOLUTION"
   ]
  },
  {
   "cell_type": "code",
   "execution_count": null,
   "metadata": {},
   "outputs": [],
   "source": [
    "def transform_stiffness(Q_local, theta, otter=False):\n",
    "    \"\"\"\n",
    "    Transform Q_local into global coords by angle theta.\n",
    "    Q_bar = T_inv * Q_local * T_inv^T\n",
    "    \"\"\"\n",
    "    # 1. Compute the transformation matrix T\n",
    "    # BEGIN SOLUTION\n",
    "    T = transformation_matrix_2D(theta)\n",
    "    # END SOLUTION\n",
    "    \n",
    "    # 2. Compute the inverse of the transformation matrix T\n",
    "    # BEGIN SOLUTION\n",
    "    T_inv = np.linalg.inv(T)\n",
    "    # END SOLUTION\n",
    "    \n",
    "    # 3. Compute the transpose of the inverse of the transformation matrix T\n",
    "    # BEGIN SOLUTION\n",
    "    T_inv_transpose = T_inv.T\n",
    "    # END SOLUTION\n",
    "    \n",
    "    # 4. Compute the transformed stiffness matrix Q_bar\n",
    "    # BEGIN SOLUTION\n",
    "    Q_bar = T_inv @ Q_local @ T_inv_transpose\n",
    "    # END SOLUTION\n",
    "    \n",
    "    # Do not change the code below this line\n",
    "    if otter:\n",
    "        return T, T_inv, T_inv_transpose, Q_bar\n",
    "    else:\n",
    "        return Q_bar"
   ]
  },
  {
   "cell_type": "raw",
   "metadata": {},
   "source": [
    "# END SOLUTION"
   ]
  },
  {
   "cell_type": "raw",
   "metadata": {},
   "source": [
    "# BEGIN TESTS"
   ]
  },
  {
   "cell_type": "code",
   "execution_count": null,
   "metadata": {},
   "outputs": [],
   "source": [
    "\"\"\" # BEGIN TEST CONFIG\n",
    "points: 1\n",
    "hidden: false\n",
    "success_message: \"Success: transform_stiffness Q_bar is 3x3!\"\n",
    "failure_message: \"Failed: Q_bar is not 3x3!\"\n",
    "log_variables: [\"Q_bar_shape\"]\n",
    "\"\"\"  # END TEST CONFIG\n",
    "\n",
    "import numpy as np\n",
    "from solution import transform_stiffness\n",
    "\n",
    "# Test (3): Check the shape of Q_bar\n",
    "Q_local = np.eye(3)\n",
    "theta = 0.0\n",
    "Q_bar = transform_stiffness(Q_local, theta)  # otter=False\n",
    "Q_bar_shape = Q_bar.shape\n",
    "assert Q_bar_shape == (3, 3), f\"Expected Q_bar to be 3x3, but got {Q_bar_shape}.\""
   ]
  },
  {
   "cell_type": "code",
   "execution_count": null,
   "metadata": {},
   "outputs": [],
   "source": [
    "\"\"\" # BEGIN TEST CONFIG\n",
    "points: 1\n",
    "hidden: false\n",
    "success_message: \"Success: transform_stiffness with theta=0 keeps Q_local unchanged!\"\n",
    "failure_message: \"Failed: Q_bar != Q_local for theta=0!\"\n",
    "log_variables: [\"Q_local\",\"Q_bar\"]\n",
    "\"\"\"  # END TEST CONFIG\n",
    "\n",
    "import numpy as np\n",
    "from solution import transform_stiffness\n",
    "\n",
    "# Test (4): For theta=0, we expect Q_bar == Q_local\n",
    "Q_local = np.array([[10.0, 2.0, 0.0], [2.0, 5.0, 1.0], [0.0, 1.0, 3.0]])\n",
    "theta = 0.0\n",
    "Q_bar = transform_stiffness(Q_local, theta)\n",
    "assert np.allclose(\n",
    "    Q_bar, Q_local, atol=1e-9\n",
    "), f\"Expected Q_bar == Q_local, but got:\\n{Q_bar}\""
   ]
  },
  {
   "cell_type": "code",
   "execution_count": null,
   "metadata": {},
   "outputs": [],
   "source": [
    "\"\"\" # BEGIN TEST CONFIG\n",
    "points: 2\n",
    "hidden: false\n",
    "success_message: \"Success: transform_stiffness returns T, T_inv, and T_inv_transpose consistent with each other!\"\n",
    "failure_message: \"Failed: T * T_inv != Identity or T_inv.T != T_inv_transpose!\"\n",
    "log_variables: [\"T_times_T_inv\",\"I\",\"T_inv_transpose\",\"T_inv_T\"]\n",
    "\"\"\"  # END TEST CONFIG\n",
    "\n",
    "import numpy as np\n",
    "\n",
    "# Test (5): Check T * T_inv = I, and T_inv_transpose = T_inv.T\n",
    "Q_local = np.eye(3)\n",
    "theta = np.pi / 6\n",
    "T, T_inv, T_inv_transpose, Q_bar = transform_stiffness(Q_local, theta, otter=True)\n",
    "\n",
    "I = np.eye(3)\n",
    "T_times_T_inv = T @ T_inv\n",
    "\n",
    "# 5(a) T @ T_inv should be close to Identity\n",
    "assert np.allclose(\n",
    "    T_times_T_inv, I, atol=1e-9\n",
    "), f\"T * T_inv is not the identity.\\nGot:\\n{T_times_T_inv}\"\n",
    "\n",
    "# 5(b) T_inv_transpose should be T_inv.T\n",
    "T_inv_T = T_inv.T\n",
    "assert np.allclose(\n",
    "    T_inv_transpose, T_inv_T, atol=1e-9\n",
    "), f\"T_inv_transpose != T_inv.T.\\nGot:\\n{T_inv_transpose}\\nExpected:\\n{T_inv_T}\""
   ]
  },
  {
   "cell_type": "code",
   "execution_count": null,
   "metadata": {},
   "outputs": [],
   "source": [
    "\"\"\" # BEGIN TEST CONFIG\n",
    "points: 2\n",
    "hidden: false\n",
    "success_message: \"Success: transform_stiffness with random Q_local is dimensionally consistent!\"\n",
    "failure_message: \"Failed: Q_bar has the wrong shape or incorrect values for a random Q_local!\"\n",
    "log_variables: [\"Q_bar\",\"Q_test\"]\n",
    "\"\"\"  # END TEST CONFIG\n",
    "\n",
    "import numpy as np\n",
    "import math\n",
    "\n",
    "# Test (6): For a random Q_local, just check dimension & numeric stability\n",
    "rng = np.random.default_rng(42)\n",
    "Q_test = rng.random((3, 3))\n",
    "theta = math.pi / 4\n",
    "\n",
    "# We want Q_local to be symmetric (like a typical stiffness matrix),\n",
    "# so let's force it to be symmetric for realism:\n",
    "Q_test = 0.5 * (Q_test + Q_test.T)\n",
    "\n",
    "Q_bar = transform_stiffness(Q_test, theta)\n",
    "assert Q_bar.shape == (3, 3), f\"Expected Q_bar to be 3x3, got shape {Q_bar.shape}\"\n",
    "\n",
    "# Optional advanced check: transformation is reversible if we rotate back by -theta\n",
    "Q_bar_back = transform_stiffness(Q_bar, -theta)\n",
    "assert Q_bar_back.shape == (\n",
    "    3,\n",
    "    3,\n",
    "), f\"Expected Q_bar_back to be 3x3, got shape {Q_bar_back.shape}\"\n",
    "# They won't be exactly the same due to numerical round-off, but let's do a close comparison\n",
    "assert np.allclose(\n",
    "    Q_bar_back, Q_test, atol=1e-9\n",
    "), \"After rotating Q_bar back by -theta, we did not get the original Q_test.\""
   ]
  },
  {
   "cell_type": "code",
   "execution_count": null,
   "metadata": {},
   "outputs": [],
   "source": [
    "\"\"\" # BEGIN TEST CONFIG\n",
    "points: 3\n",
    "hidden: false\n",
    "success_message: \"Success: transform_stiffness with random Q_local is dimensionally consistent!\"\n",
    "failure_message: \"Failed: Q_bar has the wrong shape or incorrect values for a random Q_local!\"\n",
    "log_variables: [\"Q_bar\",\"Q_test\"]\n",
    "\"\"\"  # END TEST CONFIG\n",
    "\n",
    "import numpy as np\n",
    "import math\n",
    "\n",
    "# Test (6): For a random Q_local, just check dimension & numeric stability\n",
    "rng = np.random.default_rng(42)\n",
    "Q_test = rng.random((3, 3))\n",
    "theta = math.pi / 4\n",
    "\n",
    "# We want Q_local to be symmetric (like a typical stiffness matrix),\n",
    "# so let's force it to be symmetric for realism:\n",
    "Q_test = 0.5 * (Q_test + Q_test.T)\n",
    "\n",
    "Q_bar = transform_stiffness(Q_test, theta)\n",
    "assert Q_bar.shape == (3, 3), f\"Expected Q_bar to be 3x3, got shape {Q_bar.shape}\"\n",
    "\n",
    "# Optional advanced check: transformation is reversible if we rotate back by -theta\n",
    "Q_bar_back = transform_stiffness(Q_bar, -theta)\n",
    "assert Q_bar_back.shape == (\n",
    "    3,\n",
    "    3,\n",
    "), f\"Expected Q_bar_back to be 3x3, got shape {Q_bar_back.shape}\"\n",
    "# They won't be exactly the same due to numerical round-off, but let's do a close comparison\n",
    "assert np.allclose(\n",
    "    Q_bar_back, Q_test, atol=1e-9\n",
    "), \"After rotating Q_bar back by -theta, we did not get the original Q_test.\""
   ]
  },
  {
   "cell_type": "code",
   "execution_count": null,
   "metadata": {},
   "outputs": [],
   "source": [
    "\"\"\" # BEGIN TEST CONFIG\n",
    "points: 2\n",
    "hidden: false\n",
    "success_message: \"Success: transform_stiffness with Q_local=I and theta=π/2 is correct!\"\n",
    "failure_message: \"Failed: transform_stiffness with Q_local=I, θ=π/2 is incorrect!\"\n",
    "log_variables: [\"Q_local\",\"Q_bar\",\"Q_expected\"]\n",
    "\"\"\"  # END TEST CONFIG\n",
    "\n",
    "import numpy as np\n",
    "import math\n",
    "\n",
    "# Test (7): If Q_local=I (3x3 identity) and we rotate by θ=π/2,\n",
    "# then Q_bar = T_inv * I * T_inv^T = T_inv * T_inv^T.\n",
    "# But T_inv = T^(-1). For a standard 2D transformation matrix from the previous function,\n",
    "# rotating the identity in principal axes might still yield an identity, because\n",
    "# in many classical transformation contexts, rotating an identity matrix is still an identity.\n",
    "#\n",
    "# We can simply check if Q_bar is still the identity. Let's verify numerically.\n",
    "\n",
    "Q_local = np.eye(3)\n",
    "theta = math.pi / 2\n",
    "Q_bar = transform_stiffness(Q_local, theta)\n",
    "\n",
    "Q_expected = np.eye(3)  # We expect the identity remains the identity\n",
    "assert np.allclose(Q_bar, Q_expected, atol=1e-9), f\"Expected Q_bar = I, got:\\n{Q_bar}\""
   ]
  },
  {
   "cell_type": "raw",
   "metadata": {},
   "source": [
    "# END TESTS"
   ]
  },
  {
   "cell_type": "raw",
   "metadata": {},
   "source": [
    "# END QUESTION"
   ]
  },
  {
   "cell_type": "markdown",
   "metadata": {},
   "source": [
    "### Part 3: Effective Stiffness of Anisotropic Filler Distribution\n",
    "\n",
    "Generally, composite materials are designed with a specific orientation distribution of the filler phase to achieve desired mechanical properties. In this context, we will consider an **anisotropic distribution** of filler orientations in the composite material. The filler phase is assumed to have a local stiffness matrix $\\mathbf{Q}_\\text{local}$ in its principal axes, and the orientation distribution is characterized by the volume fraction of fibers $\\phi_i$ oriented at each angle $\\theta$. You can compute the effective stiffness of the composite material by computing the sum over all orientations:\n",
    "\n",
    "$$\n",
    "\\mathbf{Q}_\\text{filler}^\\text{(eff)} \n",
    "= \\sum_{i=1}^{n} \\phi_i \\, \\mathbf{\\bar{Q}}(\\theta_i),\n",
    "\\quad\n",
    "\\text{where}\n",
    "\\quad\n",
    "\\mathbf{\\bar{Q}}(\\theta_i)\n",
    "= \\text{transform\\_stiffness}(\\mathbf{Q}_\\text{local}, \\theta_i).\n",
    "$$\n",
    "\n",
    "### Python Implementation:\n",
    "\n",
    "1. initialize a 3 by 3 zero array `Q_bar` using the `np.zeros` function. This array will store the sum of the transformed stiffness matrices for each orientation.\n",
    "\n",
    "2. Inside the loop convert the angle in degrees to radians using the `np.radians` function and assign it to the variable `theta_rad`.\n",
    "\n",
    "3. Compute the transformed stiffness matrix `transformed_stiffness` using the `transform_stiffness` function with the local stiffness matrix `Q_local` and the angle `theta_rad`.\n",
    "\n",
    "4. Use the add assignment operator `+=` to add the transformed stiffness matrix `transformed_stiffness` to the `Q_bar` array, weighted by the volume fraction `phi_i`.\n",
    "\n",
    "5. Test this code by computing the effective stiffness matrix `Q_filler_eff` for following information.\n",
    "\n",
    "    5.1 Local Stiffness Matrix:\n",
    "\n",
    "    Compute the local stiffness matrix `Q_local` using the `local_stiffness_matrix` function with the given elastic moduli and shear modulus.\n",
    "\n",
    "    $E_1$ = 100 GPa\n",
    "    $E_2$ = 10 GPa\n",
    "    $\\nu_{12}$ = 0.3  \n",
    "    $G_{12}$ = 5 GPa\n",
    "\n",
    "    5.2 Filler Orientations and Volume Fractions: Make the following lists for the angles and volume fractions.\n",
    "\n",
    "    Angles - [0, 30, 60, 90]\n",
    "    Volume Fractions - [0.12, 0.03, 0.02, 0.03]\n",
    "\n",
    "    To do this, make lists `angles_deg` and volume fractions `phis` for the angles and volume fractions, respectively. \n",
    "\n",
    "    5.3 Compute the  effective filler stiffness \n",
    "    Compute the  effective filler stiffness by calling the `compute_filler_stiffness` function with the local stiffness matrix `Q_local`, angles in degrees `angles_deg`, and volume fractions `phis` as inputs. Assign the result to the variable `Q_filler_eff`."
   ]
  },
  {
   "cell_type": "raw",
   "metadata": {
    "vscode": {
     "languageId": "raw"
    }
   },
   "source": [
    "# BEGIN QUESTION\n",
    "name: composite-filler-stiffness"
   ]
  },
  {
   "cell_type": "raw",
   "metadata": {},
   "source": [
    "# BEGIN SOLUTION"
   ]
  },
  {
   "cell_type": "code",
   "execution_count": null,
   "metadata": {},
   "outputs": [],
   "source": [
    "def compute_filler_stiffness(Q_local, angles_deg, phis):\n",
    "    \"\"\"\n",
    "    Compute the stiffness matrix for a laminate with given fiber angles and volume fractions.\n",
    "    \"\"\"\n",
    "    # 1. Initialize the stiffness matrix\n",
    "    # BEGIN SOLUTION\n",
    "    Q_bar = np.zeros((3, 3))\n",
    "    # END SOLUTION\n",
    "\n",
    "    # Do not modify this line of code, this code will iterate over the list of angles and phis one at a time\n",
    "    # make sure that your code is tab indented inside the for loop\n",
    "    for angle_deg, phi_i in zip(angles_deg, phis):\n",
    "\n",
    "        # 2. Compute the angle in radians\n",
    "        theta_rad = np.radians(angle_deg)  # SOLUTION\n",
    "\n",
    "        # 3. Compute the transformed stiffness matrix Q_bar\n",
    "        transformed_stiffness = transform_stiffness(Q_local, theta_rad)  # SOLUTION\n",
    "\n",
    "        # 4. Update the global stiffness matrix Q_bar using the transformed stiffness matrix and the volume fraction\n",
    "        Q_bar += phi_i * transformed_stiffness  # SOLUTION\n",
    "\n",
    "    # Do not change the code below this line\n",
    "    return Q_bar\n",
    "\n",
    "# 5.1 Compute the local stiffness matrix\n",
    "# BEGIN SOLUTION\n",
    "Q_local = local_stiffness_orthotropic(100, 10, 0.3, 5)\n",
    "# END SOLUTION\n",
    "\n",
    "# 5.2 Assign the list of fiber angles and volume fractions\n",
    "# BEGIN SOLUTION\n",
    "angles_deg = [0, 30, 60, 90]\n",
    "phis = [0.12, 0.03, 0.02, 0.03]\n",
    "# END SOLUTION\n",
    "\n",
    "# 5.3 Compute the global stiffness matrix\n",
    "# BEGIN SOLUTION\n",
    "Q_bar = compute_filler_stiffness(Q_local, angles_deg, phis)\n",
    "# END SOLUTION"
   ]
  },
  {
   "cell_type": "code",
   "execution_count": null,
   "metadata": {},
   "outputs": [],
   "source": [
    "Q_bar"
   ]
  },
  {
   "cell_type": "raw",
   "metadata": {},
   "source": [
    "# END SOLUTION"
   ]
  },
  {
   "cell_type": "raw",
   "metadata": {},
   "source": [
    "# BEGIN TESTS"
   ]
  },
  {
   "cell_type": "code",
   "execution_count": null,
   "metadata": {},
   "outputs": [],
   "source": [
    "\"\"\" # BEGIN TEST CONFIG\n",
    "points: 1\n",
    "hidden: false\n",
    "success_message: \"Success: compute_filler_stiffness returns correct Q_bar shape!\"\n",
    "failure_message: \"Failed: Q_bar does not have shape (3, 3)!\"\n",
    "log_variables: [\"Q_bar_shape\"]\n",
    "\"\"\"  # END TEST CONFIG\n",
    "\n",
    "\n",
    "Q_bar_shape = Q_local.shape\n",
    "assert Q_bar_shape == (3, 3), f\"Expected Q_bar to be (3, 3), but got {Q_bar_shape}.\"\n"
   ]
  },
  {
   "cell_type": "code",
   "execution_count": null,
   "metadata": {},
   "outputs": [],
   "source": [
    "\"\"\" # BEGIN TEST CONFIG\n",
    "points: 1\n",
    "hidden: false\n",
    "success_message: \"Success: compute_filler_stiffness initializes Q_bar correctly!\"\n",
    "failure_message: \"Failed: Q_bar is not initialized to a zero matrix!\"\n",
    "log_variables: [\"Q_bar_initial\"]\n",
    "\"\"\"  # END TEST CONFIG\n",
    "\n",
    "import numpy as np\n",
    "\n",
    "angles_deg = []\n",
    "phis = []\n",
    "Q_bar = compute_filler_stiffness(Q_local, angles_deg, phis)\n",
    "Q_bar_initial = np.zeros((3, 3))\n",
    "assert np.allclose(\n",
    "    Q_bar, Q_bar_initial, atol=1e-9\n",
    "), \"Q_bar should be initialized to a zero matrix.\"\n"
   ]
  },
  {
   "cell_type": "code",
   "execution_count": null,
   "metadata": {},
   "outputs": [],
   "source": [
    "\"\"\" # BEGIN TEST CONFIG\n",
    "points: 2\n",
    "hidden: false\n",
    "success_message: \"Success: compute_filler_stiffness handles single angle and phi correctly!\"\n",
    "failure_message: \"Failed: The function does not correctly compute Q_bar for a single angle and phi.\"\n",
    "log_variables: [\"Q_bar_expected\", \"Q_bar_computed\"]\n",
    "\"\"\"  # END TEST CONFIG\n",
    "\n",
    "import numpy as np\n",
    "\n",
    "# # Test (4): Single angle and phi\n",
    "# Q_local_test = np.array([[100.0, 0.0, 0.0], [0.0, 10.0, 0.0], [0.0, 0.0, 5.0]])\n",
    "# angles_deg_test = [45]\n",
    "# phis_test = [1.0]\n",
    "\n",
    "# # Compute expected Q_bar using transform_stiffness manually\n",
    "# theta_rad_test = np.radians(45)\n",
    "\n",
    "\n",
    "transformed_stiffness = transform_stiffness(Q_local_test, theta_rad_test)\n",
    "Q_bar_expected = np.array([[32.5, 22.5, 22.5], [22.5, 32.5, 22.5], [22.5, 22.5, 27.5]])\n",
    "\n",
    "Q_bar_computed = compute_filler_stiffness(Q_local_test, angles_deg_test, phis_test)\n",
    "assert np.allclose(\n",
    "    Q_bar_computed, Q_bar_expected, atol=1e-9\n",
    "), f\"Expected Q_bar:\\n{Q_bar_expected}\\nBut got:\\n{Q_bar_computed}\""
   ]
  },
  {
   "cell_type": "code",
   "execution_count": null,
   "metadata": {},
   "outputs": [],
   "source": [
    "\"\"\" # BEGIN TEST CONFIG\n",
    "points: 1\n",
    "hidden: false\n",
    "success_message: \"Success: compute_filler_stiffness handles multiple angles and phis correctly!\"\n",
    "failure_message: \"Failed: The function does not correctly compute Q_bar for multiple angles and phis.\"\n",
    "log_variables: [\"Q_bar_expected\", \"Q_bar_computed\"]\n",
    "\"\"\"  # END TEST CONFIG\n",
    "\n",
    "import numpy as np\n",
    "\n",
    "# Test (5): Multiple angles and phis\n",
    "Q_local_test = np.array([[50.0, 50.0, 0.0], [27.0, 10.0, 0.0], [0.0, 0.0, 5.0]])\n",
    "angles_deg_test = [0, 30, 60, 90]\n",
    "phis_test = [0.12, 0.03, 0.02, 0.03]\n",
    "\n",
    "Q_bar_expected = np.array(\n",
    "    [\n",
    "        [8.246875, 8.445625, 0.14397672],\n",
    "        [6.260625, 4.446875, 0.22408407],\n",
    "        [0.64194133, 0.72204868, 0.653125],\n",
    "    ]\n",
    ")\n",
    "\n",
    "# Compute Q_bar using the function\n",
    "Q_bar_computed = compute_filler_stiffness(Q_local_test, angles_deg_test, phis_test)\n",
    "assert np.allclose(\n",
    "    Q_bar_computed, Q_bar_expected, atol=1e-9\n",
    "), f\"Expected Q_bar:\\n{Q_bar_expected}\\nBut got:\\n{Q_bar_computed}\""
   ]
  },
  {
   "cell_type": "code",
   "execution_count": null,
   "metadata": {},
   "outputs": [],
   "source": [
    "\"\"\" # BEGIN TEST CONFIG\n",
    "points: 5\n",
    "hidden: false\n",
    "success_message: \"Success: compute_filler_stiffness handles multiple angles and phis correctly!\"\n",
    "failure_message: \"Failed: The function does not correctly compute Q_bar for multiple angles and phis.\"\n",
    "log_variables: [\"Q_bar_expected\", \"Q_bar_computed\"]\n",
    "\"\"\"  # END TEST CONFIG\n",
    "\n",
    "import numpy as np\n",
    "\n",
    "\n",
    "Q_bar_expected = np.array(\n",
    "    [\n",
    "        [14.61736882, 1.40180373, 1.07508184],\n",
    "        [1.40180373, 5.98971998, 0.8911716],\n",
    "        [1.07508184, 0.8911716, 1.79635469],\n",
    "    ]\n",
    ")\n",
    "\n",
    "# Compute Q_bar using the function\n",
    "Q_bar_computed = compute_filler_stiffness(Q_local_test, angles_deg_test, phis_test)\n",
    "assert np.allclose(\n",
    "    Q_bar, Q_bar_expected, atol=1e-9\n",
    "), f\"Expected Q_bar:\\n{Q_bar_expected}\\nBut got:\\n{Q_bar}\""
   ]
  },
  {
   "cell_type": "raw",
   "metadata": {},
   "source": [
    "# END TESTS"
   ]
  },
  {
   "cell_type": "raw",
   "metadata": {},
   "source": [
    "# END QUESTION"
   ]
  },
  {
   "cell_type": "markdown",
   "metadata": {},
   "source": [
    "## Part 4: Effective Stiffness of Composite Material\n",
    "\n",
    "Now we need to add the mechanical properties of the matrix to determine the ensemble properties of the composite material. The effective stiffness matrix $\\mathbf{Q}_\\text{eff}$ of the composite material can be computed by adding the stiffness matrix of the matrix phase $\\mathbf{Q}_\\text{matrix}$ to the effective stiffness matrix of the filler phase $\\mathbf{Q}_\\text{filler}^\\text{(eff)}$ weighted by their effective volume fractions.\n",
    "\n",
    "Python Implementation:\n",
    "\n",
    "1. Compute the fraction of the total composite composed of filler by taking the sum of the volume fractions `phis` and assign it to the variable `f_filler`. You should use the `np.sum` function to compute the sum of the volume fractions.\n",
    "\n",
    "2. compute the effective stiffness matrix `Q_eff` by adding the matrix stiffness `Q_matrix` to the effective filler stiffness `Q_bar` weighted by the fraction of filler `f_filler`. The formula for computing the effective stiffness matrix is given by:\n",
    "\n",
    "$$\\mathbf{Q}_\\text{eff} = (1 - f_\\text{filler}) \\cdot \\mathbf{Q}_\\text{matrix} +  \\mathbf{Q}_\\text{bar}$$"
   ]
  },
  {
   "cell_type": "raw",
   "metadata": {
    "vscode": {
     "languageId": "raw"
    }
   },
   "source": [
    "# BEGIN QUESTION\n",
    "name: effective_stiffness_composite"
   ]
  },
  {
   "cell_type": "raw",
   "metadata": {},
   "source": [
    "# BEGIN SOLUTION"
   ]
  },
  {
   "cell_type": "code",
   "execution_count": null,
   "metadata": {},
   "outputs": [],
   "source": [
    "# Combine with matrix\n",
    "\n",
    "# Compute the sum of the volume fractions\n",
    "# BEGIN SOLUTION\n",
    "f_filler = np.sum(phis)  \n",
    "# END SOLUTION\n",
    "\n",
    "# Compute the effective stiffness matrix\n",
    "# BEGIN SOLUTION\n",
    "Q_eff = (1 - f_filler) * Q_matrix + f_filler * Q_bar\n",
    "# END SOLUTION\n",
    "\n",
    "# We have provided the code to print the results for you\n",
    "print(\"Local Filler Q:\\n\", Q_local, \"\\n\")\n",
    "print(\"Matrix Q:\\n\", Q_matrix, \"\\n\")\n",
    "print(\"Effective Filler Q:\\n\", Q_bar, \"\\n\")\n",
    "print(\"Overall Effective Q:\\n\", Q_eff)"
   ]
  },
  {
   "cell_type": "code",
   "execution_count": null,
   "metadata": {},
   "outputs": [],
   "source": [
    "Q_eff"
   ]
  },
  {
   "cell_type": "raw",
   "metadata": {},
   "source": [
    "# END SOLUTION"
   ]
  },
  {
   "cell_type": "raw",
   "metadata": {
    "vscode": {
     "languageId": "raw"
    }
   },
   "source": [
    "# BEGIN TESTS"
   ]
  },
  {
   "cell_type": "code",
   "execution_count": null,
   "metadata": {},
   "outputs": [],
   "source": [
    "\"\"\" # BEGIN TEST CONFIG\n",
    "points: 3\n",
    "hidden: false\n",
    "success_message: \"Sucess: The filler volume fraction is computed correctly!\"\n",
    "failure_message: \"Failed: The filler volume fraction is incorrect!\"\n",
    "log_variables: [\"f_filler\"]\n",
    "\"\"\"  # END TEST CONFIG\n",
    "\n",
    "import numpy as np\n",
    "\n",
    "f_filler_exp = 0.19999999999999998"
   ]
  },
  {
   "cell_type": "code",
   "execution_count": null,
   "metadata": {},
   "outputs": [],
   "source": [
    "\"\"\" # BEGIN TEST CONFIG\n",
    "points: 3\n",
    "hidden: false\n",
    "success_message: \"Success: compute_filler_stiffness handles multiple angles and phis correctly!\"\n",
    "failure_message: \"Failed: The function does not correctly compute Q_bar for multiple angles and phis.\"\n",
    "log_variables: [\"Q_bar_expected\"]\n",
    "\"\"\"  # END TEST CONFIG\n",
    "\n",
    "import numpy as np\n",
    "\n",
    "\n",
    "Q_bar_expected = np.array(\n",
    "    [\n",
    "        [4.71900737, 0.87288684, 0.21501637],\n",
    "        [0.87288684, 2.99347761, 0.17823432],\n",
    "        [0.21501637, 0.17823432, 0.99927094],\n",
    "    ]\n",
    ")\n",
    "\n",
    "assert np.allclose(\n",
    "    Q_eff, Q_bar_expected, atol=1e-5\n",
    "), f\"Expected Q_bar:\\n{Q_bar_expected}\\nBut got:\\n{Q_bar}\""
   ]
  },
  {
   "cell_type": "raw",
   "metadata": {},
   "source": [
    "# END TESTS"
   ]
  },
  {
   "cell_type": "raw",
   "metadata": {},
   "source": [
    "# END QUESTION"
   ]
  },
  {
   "cell_type": "markdown",
   "metadata": {},
   "source": [
    "## Visualization\n",
    "\n",
    "We have provided some visualizations to help you understand your results. You can run the code cell below to visualize the local stiffness matrix, the transformed stiffness matrix for different orientations, and the effective stiffness matrix of the composite material."
   ]
  },
  {
   "cell_type": "code",
   "execution_count": null,
   "metadata": {},
   "outputs": [],
   "source": [
    "from composite_viz import *\n",
    "\n",
    "# polar plot of stiffness vs orientation\n",
    "plot_stiffness_polar(transform_stiffness, Q_local)"
   ]
  },
  {
   "cell_type": "code",
   "execution_count": null,
   "metadata": {},
   "outputs": [],
   "source": [
    "# Volume fraction for different fiber orientations\n",
    "plot_volume_fractions(transform_stiffness, angles_deg, phis)"
   ]
  },
  {
   "cell_type": "code",
   "execution_count": null,
   "metadata": {},
   "outputs": [],
   "source": [
    "# Stiffness matrix\n",
    "plot_stiffness_matrix(Q_eff, title=\"Effective Stiffness Matrix\")"
   ]
  },
  {
   "cell_type": "code",
   "execution_count": null,
   "metadata": {},
   "outputs": [],
   "source": [
    "# Stiffness vs orientation linear\n",
    "plot_stiffness_line(Q_local)"
   ]
  }
 ],
 "metadata": {
  "kernelspec": {
   "display_name": "engr131_dev",
   "language": "python",
   "name": "python3"
  },
  "language_info": {
   "codemirror_mode": {
    "name": "ipython",
    "version": 3
   },
   "file_extension": ".py",
   "mimetype": "text/x-python",
   "name": "python",
   "nbconvert_exporter": "python",
   "pygments_lexer": "ipython3",
   "version": "3.12.7"
  }
 },
 "nbformat": 4,
 "nbformat_minor": 2
}
