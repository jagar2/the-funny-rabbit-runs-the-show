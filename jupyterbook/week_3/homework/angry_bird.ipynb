{
 "cells": [
  {
   "cell_type": "code",
   "execution_count": null,
   "metadata": {
    "deletable": false,
    "editable": false,
    "tags": [
     "skip-execution"
    ]
   },
   "outputs": [],
   "source": [
    "# You must make sure to run all cells in sequence using shift + enter or you might encounter errors\n",
    "from pykubegrader.initialize import initialize_assignment\n",
    "\n",
    "responses = initialize_assignment(\"angry_bird\", \"week_3\", \"homework\", assignment_points = 29.0, assignment_tag = 'week3-homework')\n",
    "\n",
    "# Initialize Otter\n",
    "import otter\n",
    "grader = otter.Notebook(\"angry_bird.ipynb\")"
   ]
  },
  {
   "cell_type": "markdown",
   "metadata": {
    "deletable": false,
    "editable": false
   },
   "source": [
    "# 🏠 Homework The Flight of the Angry Bird 🚀🐦\n",
    "\n",
    "You’re helping an angry bird hit its target with a slingshot! The slingshot uses a **spring with spring constant $k$** (in $\\mathrm{N/m}$) and launches a bird of mass $x$ (in $\\mathrm{kg}$). The target is **1 km away** horizontally and **10 m high** vertically.\n",
    "\n",
    "To find the distance to pull the spring ($d$):\n",
    "\n",
    "1. Assume the spring is linear and obeys Hooke's Law: $F = k d$, where $F$ is the force applied.\n",
    "2. The slingshot launches the bird with **no air resistance** and at an optimal launch angle $\\theta$ for the given conditions.\n",
    "3. The acceleration due to gravity is $g = 9.8 \\, \\mathrm{m/s^2}$.\n",
    "\n",
    "Use the following physics principles:\n",
    "- Horizontal motion: $x_{\\text{target}} = v_x t$\n",
    "- Vertical motion: $y_{\\text{target}} = v_y t - \\frac{1}{2} g t^2$\n",
    "- Initial velocities: \n",
    "  - $v_x = v_0 \\cos(\\theta)$\n",
    "  - $v_y = v_0 \\sin(\\theta)$\n",
    "- The total velocity $v_0$ is related to the spring compression distance $d$ by energy conservation:\n",
    "  $$\n",
    "  \\frac{1}{2} k d^2 = \\frac{1}{2} x v_0^2\n",
    "  $$\n",
    "\n",
    "Find $d$, the distance the spring must be pulled back, symbolically.\n",
    "\n",
    "- Bird mass $x = 1 \\, \\mathrm{kg}$,\n",
    "- Spring constant $k = 1000 \\, \\mathrm{N/m}$,\n",
    "- Target distance: $1 \\, \\mathrm{km}$,\n",
    "- Target height: $10 \\, \\mathrm{m}$,\n",
    "- Assume $\\theta = \\frac{\\pi}{4}$, 45 degrees in radians.\n",
    "\n",
    "### Python Implementation\n",
    "\n",
    "1. Import SymPy using the alias `sp`.\n",
    "\n",
    "2. Define the variables as SymPy symbols: `m`, `k`, `d`, `theta`, `g`, `v_0`, `t`, `xtarget`, and `ytarget`. Use the `sp.symbols()` function to define multiple symbols at once.\n",
    "\n",
    "3. Define the values for gravity `g_value`, xtarget `xtarget_value`, ytarget `ytarget_value`, bird mass `m_value`, spring constant `k_value`, and angle `theta_value`. Ensure that all values are in SI units, and the angle `theta_value` is in radians.\n",
    "\n",
    "4. Define the equation for conservation of energy: $\\frac{1}{2} k d^2 = \\frac{1}{2} m v_0^2$. Use the `sp.Eq()` function to define the equation and save it in a variable called `energy_eq`.\n",
    "\n",
    "5. Solve the equation for $v_0$ using the `sp.solve()` function. Save the result in a variable called `v0_expr`.\n",
    "\n",
    "6. Define the equations for horizontal and vertical motion using the expressions for velocity. Use `sp.cos()` and `sp.sin()` functions for the trigonometric functions, and the variable for velocity `v0_expr`. Save the horizontal and vertical motion equations in variables called `vx_eq` and `vy_eq`.\n",
    "\n",
    "7. Define the equations for the instantaneous position of the bird in the x and y directions as functions of time `t`. Use the provided equations for motion. Save the equations in variables called `xpos_eq` and `ypos_eq`.\n",
    "\n",
    "8. Set up the equation for the time when the bird reaches the target x-position. Use the `sp.Eq()` function to equate `xpos_eq` to `xtarget`. Save the equation in a variable called `targetx_eq`.\n",
    "\n",
    "9. Solve the equation `targetx_eq` for time `t` using the `sp.solve()` function. Save the result in a variable called `t_eq`. Select the valid solution for `t` (e.g., the positive value).\n",
    "\n",
    "10. Define the equation for the vertical position of the bird at time `t`. Substitute the expression `t_eq` into the vertical motion equation `ypos_eq`. Save the resulting expression in a variable called `y_eq`.\n",
    "\n",
    "11. Set up the equation for the target y-position by equating `y_eq` to `ytarget` using the `sp.Eq()` function. Save the equation in a variable called `ytarget_eq`.\n",
    "\n",
    "12. Solve the equation `ytarget_eq` for the pull distance `d` using the `sp.solve()` function. Save the result in a variable called `d_expr`.\n",
    "\n",
    "13. The solution `d_expr` will return a list of potential solutions. Extract the positive solution, which is the valid pull distance, by indexing the second element of the list. Save it in a variable called `d_solution`.\n",
    "\n",
    "14. Construct a dictionary called `subs_dict` containing the variable names as keys and their corresponding values as values. Use the values defined earlier for the dictionary.\n",
    "\n",
    "15. Substitute the values into the `d_solution` expression using the `subs()` function, passing the dictionary `subs_dict` as an argument. Evaluate the result numerically using the `evalf()` function. Save the result in a variable called `final_result`. You should also print the final result for the pull distance `d`.\n",
    "\n",
    "For example:\n",
    "```python\n",
    "final_result = d_solution.subs(subs_dict).evalf()\n",
    "```\n",
    "\n",
    "** Now you are an Angry Bird physics expert! 🚀🐦 **"
   ]
  },
  {
   "cell_type": "code",
   "execution_count": null,
   "metadata": {
    "tags": [
     "skip-execution"
    ]
   },
   "outputs": [],
   "source": [
    "# 1. import sympy using the alias sp\n",
    "...\n",
    "\n",
    "# 2. Define variables as described in the problem statement\n",
    "...\n",
    "\n",
    "# 3. Define the values of the variables as described in the problem statement\n",
    "...\n",
    "\n",
    "# 4. Energy conservation: Spring energy = Kinetic energy\n",
    "...\n",
    "\n",
    "# 5. Solve for v0\n",
    "...\n",
    "\n",
    "# 6. Horizontal and vertical motion equations\n",
    "...\n",
    "\n",
    "# 7. Define the equations for the position of the bird at time t\n",
    "...\n",
    "\n",
    "# 8. set up the equation for the x-position in terms of the target distance\n",
    "...\n",
    "\n",
    "# 9. Solve for t to reach a given x - position\n",
    "...\n",
    "\n",
    "# 10. Solve for the y-position at time t\n",
    "...\n",
    "\n",
    "# 11. Define the equation for target y-position in terms of the target height.\n",
    "...\n",
    "\n",
    "# 12. solve ytarget_eq for d\n",
    "...\n",
    "\n",
    "# 13. Get the positive solution for d\n",
    "...\n",
    "\n",
    "# 14. Construct the dictionary of the values to substitute into the solution for d\n",
    "...\n",
    "\n",
    "# 15. Substitute the values of the variables into the solution for d\n",
    "..."
   ]
  },
  {
   "cell_type": "code",
   "execution_count": null,
   "metadata": {
    "tags": [
     "skip-execution"
    ]
   },
   "outputs": [],
   "source": [
    "import numpy as np\n",
    "import matplotlib.pyplot as plt\n",
    "\n",
    "# Fixing the evaluation of t_eq by substituting d_solution and all values\n",
    "t_eq_final = t_eq.subs(d, d_solution).subs(subs_dict).evalf()\n",
    "\n",
    "# Ensuring t_eq_final is fully numeric and usable\n",
    "t_vals = np.linspace(0, float(t_eq_final), 500)  # Generate time array\n",
    "\n",
    "# Compute x and y values for the trajectory using evaluated vx and vy\n",
    "x_vals = [float(vx_num_expr_final * t) for t in t_vals]\n",
    "y_vals = [float(vy_num_expr_final * t - 0.5 * g_value * t**2) for t in t_vals]\n",
    "\n",
    "# Plot the trajectory\n",
    "plt.figure(figsize=(10, 6))\n",
    "plt.plot(x_vals, y_vals, label=\"Trajectory of the bird\")\n",
    "plt.scatter([xtarget_value], [ytarget_value], color=\"red\", label=\"Target Position\")\n",
    "plt.title(\"Bird's Trajectory\")\n",
    "plt.xlabel(\"Horizontal Distance (m)\")\n",
    "plt.ylabel(\"Vertical Distance (m)\")\n",
    "plt.axhline(0, color=\"black\", linewidth=0.5, linestyle=\"--\")\n",
    "plt.legend()\n",
    "plt.grid()\n",
    "plt.show()"
   ]
  },
  {
   "cell_type": "code",
   "execution_count": null,
   "metadata": {
    "deletable": false,
    "editable": false,
    "tags": [
     "skip-execution"
    ]
   },
   "outputs": [],
   "source": [
    "grader.check(\"Angry-birds-sympy-trajectory\")"
   ]
  },
  {
   "cell_type": "markdown",
   "id": "5",
   "metadata": {},
   "source": [
    "## Submitting Assignment\n",
    "\n",
    "Please run the following block of code using `shift + enter` to submit your assignment, you should see your score."
   ]
  },
  {
   "cell_type": "code",
   "execution_count": null,
   "id": "6",
   "metadata": {
    "deletable": false,
    "editable": false,
    "tags": [
     "skip-execution"
    ]
   },
   "outputs": [],
   "source": [
    "from pykubegrader.submit.submit_assignment import submit_assignment\n",
    "\n",
    "submit_assignment(\"week3-homework\", \"angry_bird\")"
   ]
  }
 ],
 "metadata": {
  "kernelspec": {
   "display_name": "engr131_dev",
   "language": "python",
   "name": "python3"
  },
  "language_info": {
   "codemirror_mode": {
    "name": "ipython",
    "version": 3
   },
   "file_extension": ".py",
   "mimetype": "text/x-python",
   "name": "python",
   "nbconvert_exporter": "python",
   "pygments_lexer": "ipython3",
   "version": "3.12.7"
  },
  "otter": {
   "OK_FORMAT": true,
   "tests": {
    "Angry-birds-sympy-trajectory": {
     "name": "Angry-birds-sympy-trajectory",
     "points": null,
     "suites": [
      {
       "cases": [
        {
         "code": ">>> from pykubegrader.telemetry import ensure_responses, log_variable, score_question, submit_question, telemetry, update_responses\n>>> import os\n>>> max_question_points = str(29.0)\n>>> earned_points = 0\n>>> os.environ['EARNED_POINTS'] = str(earned_points)\n>>> os.environ['TOTAL_POINTS_FREE_RESPONSE'] = str(29.0)\n>>> log_variable('total-points', f'Reading-Week-X, angry_bird', 29.0)\n>>> question_id = 'Angry-birds-sympy-trajectory-1'\n>>> max_score = 1.0\n>>> score = 0\n>>> assert 'sp' in locals(), \"SymPy alias 'sp' is not defined.\"\n>>> if 'sp' in locals():\n...     score = 1.0\n>>> earned_points = float(os.environ.get('EARNED_POINTS', 0))\n>>> earned_points += score\n>>> log_variable('angry_bird', f'{score}, {max_score}', question_id)\n>>> os.environ['EARNED_POINTS'] = str(earned_points)\n",
         "failure_message": "Failed: SymPy was not imported correctly.",
         "hidden": false,
         "locked": false,
         "points": 1,
         "success_message": "Success: SymPy is correctly imported."
        },
        {
         "code": ">>> from pykubegrader.telemetry import ensure_responses, log_variable, score_question, submit_question, telemetry, update_responses\n>>> import os\n>>> import sympy as sp\n>>> question_id = 'Angry-birds-sympy-trajectory-2'\n>>> max_score = 2.0\n>>> score = 0\n>>> defined_symbols = {'m', 'k', 'd', 'theta', 'g', 'v_0', 't', 'xtarget', 'ytarget'}\n>>> assert defined_symbols.issubset(locals()), 'Some required variables are missing.'\n>>> if defined_symbols.issubset(locals()):\n...     score = 2.0\n>>> earned_points = float(os.environ.get('EARNED_POINTS', 0))\n>>> earned_points += score\n>>> log_variable('angry_bird', f'{score}, {max_score}', question_id)\n>>> os.environ['EARNED_POINTS'] = str(earned_points)\n>>> responses = update_responses(question_id, str(defined_symbols))\n",
         "failure_message": "Failed: Some required variables are not defined.",
         "hidden": false,
         "locked": false,
         "points": 2,
         "success_message": "Success: All variables are correctly defined."
        },
        {
         "code": ">>> from pykubegrader.telemetry import ensure_responses, log_variable, score_question, submit_question, telemetry, update_responses\n>>> import os\n>>> import sympy as sp\n>>> question_id = 'Angry-birds-sympy-trajectory-3'\n>>> max_score = 2.0\n>>> score = 0\n>>> assert g_value == 9.8, 'Incorrect value for gravity.'\n>>> assert xtarget_value == 1000, 'Incorrect value for xtarget.'\n>>> assert ytarget_value == 5, 'Incorrect value for ytarget.'\n>>> assert k_value == 500000, 'Incorrect value for spring constant.'\n>>> assert theta_value == sp.pi / 4, 'Incorrect value for theta.'\n>>> assert m_value == 1, 'Incorrect value for mass.'\n>>> if g_value == 9.8 and xtarget_value == 1000 and (ytarget_value == 5) and (k_value == 500000) and (theta_value == sp.pi / 4) and (m_value == 1):\n...     score = 2.0\n>>> earned_points = float(os.environ.get('EARNED_POINTS', 0))\n>>> earned_points += score\n>>> log_variable('angry_bird', f'{score}, {max_score}', question_id)\n>>> os.environ['EARNED_POINTS'] = str(earned_points)\n>>> responses = update_responses(question_id, str(g_value))\n>>> responses = update_responses(question_id, str(xtarget_value))\n>>> responses = update_responses(question_id, str(ytarget_value))\n>>> responses = update_responses(question_id, str(k_value))\n>>> responses = update_responses(question_id, str(theta_value))\n>>> responses = update_responses(question_id, str(m_value))\n",
         "failure_message": "Failed: Some values are missing or incorrect.",
         "hidden": false,
         "locked": false,
         "points": 2,
         "success_message": "Success: Values are correctly assigned."
        },
        {
         "code": ">>> from pykubegrader.telemetry import ensure_responses, log_variable, score_question, submit_question, telemetry, update_responses\n>>> import os\n>>> import sympy as sp\n>>> question_id = 'Angry-birds-sympy-trajectory-4'\n>>> max_score = 2.0\n>>> score = 0\n>>> expected_energy_eq = sp.Eq(1 / 2 * k * d ** 2, 1 / 2 * m * v_0 ** 2)\n>>> assert energy_eq == expected_energy_eq, 'Incorrect conservation of energy equation.'\n>>> if energy_eq == expected_energy_eq:\n...     score = 2.0\n>>> earned_points = float(os.environ.get('EARNED_POINTS', 0))\n>>> earned_points += score\n>>> log_variable('angry_bird', f'{score}, {max_score}', question_id)\n>>> os.environ['EARNED_POINTS'] = str(earned_points)\n>>> responses = update_responses(question_id, str(energy_eq))\n",
         "failure_message": "Failed: Conservation of energy equation is not defined correctly.",
         "hidden": false,
         "locked": false,
         "points": 2,
         "success_message": "Success: Conservation of energy equation is correctly defined."
        },
        {
         "code": ">>> from pykubegrader.telemetry import ensure_responses, log_variable, score_question, submit_question, telemetry, update_responses\n>>> import os\n>>> import sympy as sp\n>>> question_id = 'Angry-birds-sympy-trajectory-5'\n>>> max_score = 2.0\n>>> score = 0\n>>> test_vars = {m: 2, k: 5.0, d: 20}\n>>> expected_v0_expr = -1 * sp.sqrt(k * d ** 2 / m)\n>>> expected_substituted_v0 = expected_v0_expr.subs(test_vars).evalf()\n>>> v0_expr_sub = v0_expr.subs(test_vars).evalf()\n>>> assert v0_expr_sub == expected_substituted_v0, 'Incorrect solution for initial velocity.'\n>>> if v0_expr_sub == expected_substituted_v0:\n...     score = 2.0\n>>> earned_points = float(os.environ.get('EARNED_POINTS', 0))\n>>> earned_points += score\n>>> log_variable('angry_bird', f'{score}, {max_score}', question_id)\n>>> os.environ['EARNED_POINTS'] = str(earned_points)\n>>> responses = update_responses(question_id, str(v0_expr))\n",
         "failure_message": "Failed: Initial velocity is not solved correctly.",
         "hidden": false,
         "locked": false,
         "points": 2,
         "success_message": "Success: Initial velocity is solved correctly."
        },
        {
         "code": ">>> from pykubegrader.telemetry import ensure_responses, log_variable, score_question, submit_question, telemetry, update_responses\n>>> import os\n>>> import sympy as sp\n>>> question_id = 'Angry-birds-sympy-trajectory-6'\n>>> max_score = 2.0\n>>> score = 0\n>>> expected_vx_eq = v0_expr * sp.cos(theta)\n>>> expected_vy_eq = v0_expr * sp.sin(theta)\n>>> assert vx_eq == expected_vx_eq, 'Incorrect horizontal velocity equation.'\n>>> assert vy_eq == expected_vy_eq, 'Incorrect vertical velocity equation.'\n>>> if vx_eq == expected_vx_eq and vy_eq == expected_vy_eq:\n...     score = 2.0\n>>> earned_points = float(os.environ.get('EARNED_POINTS', 0))\n>>> earned_points += score\n>>> log_variable('angry_bird', f'{score}, {max_score}', question_id)\n>>> os.environ['EARNED_POINTS'] = str(earned_points)\n>>> responses = update_responses(question_id, str(vx_eq))\n>>> responses = update_responses(question_id, str(vy_eq))\n",
         "failure_message": "Failed: Motion equations are not defined correctly.",
         "hidden": false,
         "locked": false,
         "points": 2,
         "success_message": "Success: Motion equations are defined correctly."
        },
        {
         "code": ">>> from pykubegrader.telemetry import ensure_responses, log_variable, score_question, submit_question, telemetry, update_responses\n>>> import os\n>>> import sympy as sp\n>>> question_id = 'Angry-birds-sympy-trajectory-7'\n>>> max_score = 2.0\n>>> score = 0\n>>> expected_xpos_eq = vx_eq * t\n>>> expected_ypos_eq = vy_eq * t - 1 / 2 * g * t ** 2\n>>> assert xpos_eq == expected_xpos_eq, 'Incorrect x-position equation.'\n>>> assert ypos_eq == expected_ypos_eq, 'Incorrect y-position equation.'\n>>> if xpos_eq == expected_xpos_eq and ypos_eq == expected_ypos_eq:\n...     score = 2.0\n>>> earned_points = float(os.environ.get('EARNED_POINTS', 0))\n>>> earned_points += score\n>>> log_variable('angry_bird', f'{score}, {max_score}', question_id)\n>>> os.environ['EARNED_POINTS'] = str(earned_points)\n>>> responses = update_responses(question_id, str(xpos_eq))\n>>> responses = update_responses(question_id, str(ypos_eq))\n",
         "failure_message": "Failed: Position equations are not defined correctly.",
         "hidden": false,
         "locked": false,
         "points": 2,
         "success_message": "Success: Position equations are defined correctly."
        },
        {
         "code": ">>> from pykubegrader.telemetry import ensure_responses, log_variable, score_question, submit_question, telemetry, update_responses\n>>> import os\n>>> import sympy as sp\n>>> question_id = 'Angry-birds-sympy-trajectory-8'\n>>> max_score = 2.0\n>>> score = 0\n>>> expected_xpos_eq = vx_eq * t\n>>> expected_targetx_eq = sp.Eq(expected_xpos_eq, xtarget)\n>>> assert targetx_eq == expected_targetx_eq, 'Incorrect target x-position equation.'\n>>> if targetx_eq == expected_targetx_eq:\n...     score = 2.0\n>>> earned_points = float(os.environ.get('EARNED_POINTS', 0))\n>>> earned_points += score\n>>> log_variable('angry_bird', f'{score}, {max_score}', question_id)\n>>> os.environ['EARNED_POINTS'] = str(earned_points)\n>>> responses = update_responses(question_id, str(targetx_eq))\n",
         "failure_message": "Failed: Target x-position equation is not defined correctly.",
         "hidden": false,
         "locked": false,
         "points": 2,
         "success_message": "Success: Target x-position equation is correct."
        },
        {
         "code": ">>> from pykubegrader.telemetry import ensure_responses, log_variable, score_question, submit_question, telemetry, update_responses\n>>> import os\n>>> import sympy as sp\n>>> question_id = 'Angry-birds-sympy-trajectory-9'\n>>> max_score = 2.0\n>>> score = 0\n>>> expected_xtarget_eq = sp.Eq(-d * t * sp.sqrt(k / m) * sp.cos(theta), xtarget)\n>>> expected_t_eq = sp.solve(expected_xtarget_eq, t)[0]\n>>> assert t_eq == expected_t_eq, 'Incorrect solution for time.'\n>>> if t_eq == expected_t_eq:\n...     score = 2.0\n>>> earned_points = float(os.environ.get('EARNED_POINTS', 0))\n>>> earned_points += score\n>>> log_variable('angry_bird', f'{score}, {max_score}', question_id)\n>>> os.environ['EARNED_POINTS'] = str(earned_points)\n>>> responses = update_responses(question_id, str(t_eq))\n",
         "failure_message": "Failed: Time is not solved correctly.",
         "hidden": false,
         "locked": false,
         "points": 2,
         "success_message": "Success: Time is solved correctly."
        },
        {
         "code": ">>> from pykubegrader.telemetry import ensure_responses, log_variable, score_question, submit_question, telemetry, update_responses\n>>> import os\n>>> import sympy as sp\n>>> question_id = 'Angry-birds-sympy-trajectory-10'\n>>> max_score = 2.0\n>>> score = 0\n>>> expected_y_eq = vy_eq * t_eq - 1 / 2 * g * t_eq ** 2\n>>> assert y_eq == expected_y_eq, 'Incorrect vertical position equation.'\n>>> if y_eq == expected_y_eq:\n...     score = 2.0\n>>> earned_points = float(os.environ.get('EARNED_POINTS', 0))\n>>> earned_points += score\n>>> log_variable('angry_bird', f'{score}, {max_score}', question_id)\n>>> os.environ['EARNED_POINTS'] = str(earned_points)\n>>> responses = update_responses(question_id, str(y_eq))\n",
         "failure_message": "Failed: Vertical position equation is not defined correctly.",
         "hidden": false,
         "locked": false,
         "points": 2,
         "success_message": "Success: Vertical position equation is correct."
        },
        {
         "code": ">>> from pykubegrader.telemetry import ensure_responses, log_variable, score_question, submit_question, telemetry, update_responses\n>>> import os\n>>> import sympy as sp\n>>> question_id = 'Angry-birds-sympy-trajectory-11'\n>>> max_score = 2.0\n>>> score = 0\n>>> expected_y_eq = vy_eq * t_eq - 1 / 2 * g * t_eq ** 2\n>>> expected_ytarget_eq = sp.Eq(expected_y_eq, ytarget)\n>>> assert ytarget_eq == expected_ytarget_eq, 'Incorrect target y-position equation.'\n>>> if ytarget_eq == expected_ytarget_eq:\n...     score = 2.0\n>>> earned_points = float(os.environ.get('EARNED_POINTS', 0))\n>>> earned_points += score\n>>> log_variable('angry_bird', f'{score}, {max_score}', question_id)\n>>> os.environ['EARNED_POINTS'] = str(earned_points)\n>>> responses = update_responses(question_id, str(ytarget_eq))\n",
         "failure_message": "Failed: Target y-position equation is not defined correctly.",
         "hidden": false,
         "locked": false,
         "points": 2,
         "success_message": "Success: Target y-position equation is correct."
        },
        {
         "code": ">>> from pykubegrader.telemetry import ensure_responses, log_variable, score_question, submit_question, telemetry, update_responses\n>>> import os\n>>> import sympy as sp\n>>> question_id = 'Angry-birds-sympy-trajectory-12'\n>>> max_score = 2.0\n>>> score = 0\n>>> expected_y_eq = vy_eq * t_eq - 1 / 2 * g * t_eq ** 2\n>>> expected_ytarget_eq = sp.Eq(expected_y_eq, ytarget)\n>>> expected_d_expr = sp.solve(expected_ytarget_eq, d)\n>>> assert d_expr == expected_d_expr, 'Incorrect solution for pull distance.'\n>>> if d_expr == expected_d_expr:\n...     score = 2.0\n>>> earned_points = float(os.environ.get('EARNED_POINTS', 0))\n>>> earned_points += score\n>>> log_variable('angry_bird', f'{score}, {max_score}', question_id)\n>>> os.environ['EARNED_POINTS'] = str(earned_points)\n>>> responses = update_responses(question_id, str(d_expr))\n",
         "failure_message": "Failed: Solution for pull distance is not correct.",
         "hidden": false,
         "locked": false,
         "points": 2,
         "success_message": "Success: Solution for pull distance is correct."
        },
        {
         "code": ">>> from pykubegrader.telemetry import ensure_responses, log_variable, score_question, submit_question, telemetry, update_responses\n>>> import os\n>>> import sympy as sp\n>>> question_id = 'Angry-birds-sympy-trajectory-13'\n>>> max_score = 2.0\n>>> score = 0\n>>> expected_y_eq = vy_eq * t_eq - 1 / 2 * g * t_eq ** 2\n>>> expected_ytarget_eq = sp.Eq(expected_y_eq, ytarget)\n>>> expected_d_expr = sp.solve(expected_ytarget_eq, d)\n>>> assert d_solution == expected_d_expr[1], 'Incorrect positive solution for pull distance.'\n>>> if d_solution == expected_d_expr[1]:\n...     score = 2.0\n>>> earned_points = float(os.environ.get('EARNED_POINTS', 0))\n>>> earned_points += score\n>>> log_variable('angry_bird', f'{score}, {max_score}', question_id)\n>>> os.environ['EARNED_POINTS'] = str(earned_points)\n>>> responses = update_responses(question_id, str(d_solution))\n",
         "failure_message": "Failed: Positive pull distance is not selected correctly.",
         "hidden": false,
         "locked": false,
         "points": 2,
         "success_message": "Success: Positive pull distance is selected correctly."
        },
        {
         "code": ">>> from pykubegrader.telemetry import ensure_responses, log_variable, score_question, submit_question, telemetry, update_responses\n>>> import os\n>>> import sympy as sp\n>>> question_id = 'Angry-birds-sympy-trajectory-14'\n>>> max_score = 2.0\n>>> score = 0\n>>> expected_subs_dict = {m: 1, k: 500000, g: 9.8, theta: sp.pi / 4, xtarget: 1000, ytarget: 5}\n>>> assert subs_dict == expected_subs_dict, 'Incorrect substitution dictionary.'\n>>> if subs_dict == expected_subs_dict:\n...     score = 2.0\n>>> earned_points = float(os.environ.get('EARNED_POINTS', 0))\n>>> earned_points += score\n>>> log_variable('angry_bird', f'{score}, {max_score}', question_id)\n>>> os.environ['EARNED_POINTS'] = str(earned_points)\n>>> responses = update_responses(question_id, str(subs_dict))\n",
         "failure_message": "Failed: Substitution dictionary is not correct.",
         "hidden": false,
         "locked": false,
         "points": 2,
         "success_message": "Success: Substitution dictionary is correct."
        },
        {
         "code": ">>> from pykubegrader.telemetry import ensure_responses, log_variable, score_question, submit_question, telemetry, update_responses\n>>> import os\n>>> import sympy as sp\n>>> question_id = 'Angry-birds-sympy-trajectory-15'\n>>> max_score = 2.0\n>>> score = 0\n>>> expected_y_eq = vy_eq * t_eq - 1 / 2 * g * t_eq ** 2\n>>> expected_ytarget_eq = sp.Eq(expected_y_eq, ytarget)\n>>> expected_d_expr = sp.solve(expected_ytarget_eq, d)\n>>> expected_subs_dict = {m: 1, k: 500000, g: 9.8, theta: sp.pi / 4, xtarget: 1000, ytarget: 5}\n>>> computed_result = expected_d_expr[1].subs(subs_dict).evalf()\n>>> assert final_result == computed_result, 'Incorrect final result.'\n>>> if final_result == computed_result:\n...     score = 2.0\n>>> earned_points = float(os.environ.get('EARNED_POINTS', 0))\n>>> earned_points += score\n>>> log_variable('angry_bird', f'{score}, {max_score}', question_id)\n>>> os.environ['EARNED_POINTS'] = str(earned_points)\n>>> responses = update_responses(question_id, str(final_result))\n",
         "failure_message": "Failed: Final result is not computed correctly.",
         "hidden": false,
         "locked": false,
         "points": 2,
         "success_message": "Success: Final result is computed correctly."
        }
       ],
       "scored": true,
       "setup": "",
       "teardown": "",
       "type": "doctest"
      }
     ]
    }
   }
  }
 },
 "nbformat": 4,
 "nbformat_minor": 2
}
