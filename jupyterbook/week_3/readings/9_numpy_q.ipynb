{
 "cells": [
  {
   "cell_type": "code",
   "execution_count": null,
   "metadata": {
    "deletable": false,
    "editable": false,
    "tags": [
     "skip-execution"
    ]
   },
   "outputs": [],
   "source": [
    "# You must make sure to run all cells in sequence using shift + enter or you might encounter errors\n",
    "from pykubegrader.initialize import initialize_assignment\n",
    "\n",
    "responses = initialize_assignment(\"9_numpy_q\", \"week_3\", \"readings\", assignment_points = 21.0, assignment_tag = 'week3-readings')\n",
    "\n",
    "# Initialize Otter\n",
    "import otter\n",
    "grader = otter.Notebook(\"9_numpy_q.ipynb\")"
   ]
  },
  {
   "cell_type": "markdown",
   "metadata": {
    "deletable": false,
    "editable": false
   },
   "source": [
    "# ❓ 🌊 Lotl of NumPy 🧪🐾\n",
    "\n",
    "![axol](./assets/figures/axolotl_1.jpg)"
   ]
  },
  {
   "cell_type": "code",
   "execution_count": null,
   "metadata": {
    "tags": [
     "skip-execution"
    ]
   },
   "outputs": [],
   "source": [
    "# Run this block of code by pressing Shift + Enter to display the question\n",
    "from questions._9_numpy_q import Question1\n",
    "Question1().show()\n"
   ]
  },
  {
   "cell_type": "code",
   "execution_count": null,
   "metadata": {
    "tags": [
     "skip-execution"
    ]
   },
   "outputs": [],
   "source": [
    "# Run this block of code by pressing Shift + Enter to display the question\n",
    "from questions._9_numpy_q import Question2\n",
    "Question2().show()\n"
   ]
  },
  {
   "cell_type": "code",
   "execution_count": null,
   "metadata": {
    "tags": [
     "skip-execution"
    ]
   },
   "outputs": [],
   "source": [
    "# Run this block of code by pressing Shift + Enter to display the question\n",
    "from questions._9_numpy_q import Question3\n",
    "Question3().show()\n"
   ]
  },
  {
   "cell_type": "markdown",
   "metadata": {
    "deletable": false,
    "editable": false
   },
   "source": [
    "## Axolotl Counting\n",
    "\n",
    "![axol](./assets/figures/axol-counting.jpeg)\n",
    "\n",
    "### Instructions:\n",
    "Imagine you are studying a group of adorable axolotls. Write a Python function using NumPy to count how many axolotls there are in each habitat. You are given a 1D NumPy array where each number represents the number of axolotls observed in different habitats.\n",
    "\n",
    "Your solution must include:\n",
    "1.  Import numpy as np\n",
    "2. A function `count_axolotls(habitats)` that:\n",
    "   - Accepts a 1D NumPy array of integers.\n",
    "   - uses the numpy `sum` function to count the total number of axolotls in each habitat. Save this to the variable `count`. \n",
    "   - Returns the total number of axolotls across all habitats.\n",
    "3. Test cases to validate the correctness of your implementation."
   ]
  },
  {
   "cell_type": "code",
   "execution_count": null,
   "metadata": {
    "tags": [
     "skip-execution"
    ]
   },
   "outputs": [],
   "source": [
    "# import numpy, make sure to use the common abbreviation np\n",
    "...\n",
    "\n",
    "# we have provided the function for you\n",
    "def count_axolotls(habitats):\n",
    "    # Count the number of axolotls in the habitats array\n",
    "    # save the output to the variable count\n",
    "    ...\n",
    "    return count\n",
    "\n",
    "\n",
    "test_input = np.array([1, 2, 3])\n",
    "print(count_axolotls(test_input)) # expect 6"
   ]
  },
  {
   "cell_type": "code",
   "execution_count": null,
   "metadata": {
    "deletable": false,
    "editable": false,
    "tags": [
     "skip-execution"
    ]
   },
   "outputs": [],
   "source": [
    "grader.check(\"Axolotl-Counting\")"
   ]
  },
  {
   "cell_type": "markdown",
   "metadata": {
    "deletable": false,
    "editable": false
   },
   "source": [
    "## Axolotl Habitat Reshaping\n",
    "\n",
    "![axol](./assets/figures/axol-regrowth.jpg)\n",
    "\n",
    "### Instructions:\n",
    "You have data on axolotls in a 1D array, but you need to organize it into a 2D array to match rows and columns of habitats. Write a Python function using NumPy to reshape the 1D array into a 2D array. Just like axolotls can regrow their limbs, you can reshape the data to fit your needs.\n",
    "\n",
    "Your solution must include:\n",
    "1. import numpy as np\n",
    "2. A function `reshape_habitats(axolotl_data, rows, cols)` that:\n",
    "   - Accepts a 1D NumPy array of integers and reshapes it into a 2D array with the specified number of rows and columns. You should use the built-in method `reshape`. Save this to the variable `reshaped`.\n",
    "   - Returns the reshaped 2D array.\n",
    "3. Test cases to validate the correctness of your implementation."
   ]
  },
  {
   "cell_type": "code",
   "execution_count": null,
   "metadata": {
    "tags": [
     "skip-execution"
    ]
   },
   "outputs": [],
   "source": [
    "# import numpy, make sure to use the common abbreviation np\n",
    "...\n",
    "\n",
    "# We have provided the function for you\n",
    "# The function takes 3 inputs, and automatically assigns them to the variables rows, cols, and axolotl_data\n",
    "def reshape_habitats(axolotl_data, rows, cols):\n",
    "    # Reshape the axolotl data into a 2D array with the given number of rows and columns\n",
    "    # save the output to the variable reshaped\n",
    "    ...\n",
    "    return reshaped\n",
    "\n",
    "# Example test case\n",
    "axolotl_data = np.array([5, 12, 8, 7, 10, 15])\n",
    "reshaped = reshape_habitats(axolotl_data, 2, 3)\n",
    "print(reshaped)"
   ]
  },
  {
   "cell_type": "code",
   "execution_count": null,
   "metadata": {
    "deletable": false,
    "editable": false,
    "tags": [
     "skip-execution"
    ]
   },
   "outputs": [],
   "source": [
    "grader.check(\"axolotl-reshaping\")"
   ]
  },
  {
   "cell_type": "markdown",
   "id": "11",
   "metadata": {},
   "source": [
    "## Submitting Assignment\n",
    "\n",
    "Please run the following block of code using `shift + enter` to submit your assignment, you should see your score."
   ]
  },
  {
   "cell_type": "code",
   "execution_count": null,
   "id": "12",
   "metadata": {
    "deletable": false,
    "editable": false,
    "tags": [
     "skip-execution"
    ]
   },
   "outputs": [],
   "source": [
    "from pykubegrader.submit.submit_assignment import submit_assignment\n",
    "\n",
    "submit_assignment(\"week3-readings\", \"9_numpy_q\")"
   ]
  }
 ],
 "metadata": {
  "kernelspec": {
   "display_name": "engr131_dev",
   "language": "python",
   "name": "python3"
  },
  "language_info": {
   "codemirror_mode": {
    "name": "ipython",
    "version": 3
   },
   "file_extension": ".py",
   "mimetype": "text/x-python",
   "name": "python",
   "nbconvert_exporter": "python",
   "pygments_lexer": "ipython3",
   "version": "3.12.7"
  },
  "otter": {
   "OK_FORMAT": true,
   "tests": {
    "Axolotl-Counting": {
     "name": "Axolotl-Counting",
     "points": null,
     "suites": [
      {
       "cases": [
        {
         "code": ">>> from pykubegrader.telemetry import ensure_responses, log_variable, score_question, submit_question, telemetry, update_responses\n>>> import os\n>>> max_question_points = str(5.0)\n>>> earned_points = 0\n>>> os.environ['EARNED_POINTS'] = str(earned_points)\n>>> os.environ['TOTAL_POINTS_FREE_RESPONSE'] = str(11.0)\n>>> log_variable('total-points', f'Reading-Week-X, 9_numpy_q', 11.0)\n>>> question_id = 'Axolotl-Counting-1'\n>>> max_score = 1.0\n>>> score = 0\n>>> condition = 'np' in locals()\n>>> assert condition, \"You must import numpy using the alias 'np'.\"\n>>> if condition:\n...     score = 1.0\n>>> earned_points = float(os.environ.get('EARNED_POINTS', 0))\n>>> earned_points += score\n>>> log_variable('9_numpy_q', f'{score}, {max_score}', question_id)\n>>> os.environ['EARNED_POINTS'] = str(earned_points)\n>>> responses = update_responses(question_id, str(condition))\n",
         "failure_message": "Failed: You must import numpy using the alias 'np'",
         "hidden": false,
         "locked": false,
         "points": 1,
         "success_message": "Success: 'numpy' is imported as 'np'"
        },
        {
         "code": ">>> from pykubegrader.telemetry import ensure_responses, log_variable, score_question, submit_question, telemetry, update_responses\n>>> import os\n>>> import sys\n>>> question_id = 'Axolotl-Counting-2'\n>>> max_score = 1.0\n>>> score = 0\n>>> def capture_locals(func, *args, **kwargs):\n...     \"\"\"\n...     A helper that uses sys.settrace to capture local variables when\n...     the function returns.\n...     \"\"\"\n...     local_vars = {}\n...     def tracer(frame, event, arg):\n...         if event == 'return':\n...             local_vars.update(frame.f_locals)\n...         return tracer\n...     old_trace = sys.gettrace()\n...     sys.settrace(tracer)\n...     func(*args, **kwargs)\n...     sys.settrace(old_trace)\n...     return local_vars\n>>> local_vars = capture_locals(count_axolotls, [1, 2, 3])\n>>> has_count = 'count' in local_vars\n>>> assert has_count, \"You must define 'count' as a local variable in count_axolotls.\"\n>>> if has_count:\n...     score = 1.0\n>>> earned_points = float(os.environ.get('EARNED_POINTS', 0))\n>>> earned_points += score\n>>> log_variable('9_numpy_q', f'{score}, {max_score}', question_id)\n>>> os.environ['EARNED_POINTS'] = str(earned_points)\n>>> responses = update_responses(question_id, str(has_count))\n",
         "failure_message": "Failed: You must define 'count' as a local variable in count_axolotls.",
         "hidden": false,
         "locked": false,
         "points": 1,
         "success_message": "Success: 'count' is defined as a local variable in the function."
        },
        {
         "code": ">>> from pykubegrader.telemetry import ensure_responses, log_variable, score_question, submit_question, telemetry, update_responses\n>>> import os\n>>> import re\n>>> import inspect\n>>> question_id = 'Axolotl-Counting-3'\n>>> max_score = 1.0\n>>> score = 0\n>>> code = inspect.getsource(count_axolotls)\n>>> pattern = 'count\\\\s*=\\\\s*np\\\\.sum\\\\s*\\\\(\\\\s*habitats\\\\s*\\\\)'\n>>> uses_np_sum = bool(re.search(pattern, code))\n>>> assert uses_np_sum, \"You must define 'count' as np.sum(habitats) inside count_axolotls.\"\n>>> if uses_np_sum:\n...     score = 1.0\n>>> earned_points = float(os.environ.get('EARNED_POINTS', 0))\n>>> earned_points += score\n>>> log_variable('9_numpy_q', f'{score}, {max_score}', question_id)\n>>> os.environ['EARNED_POINTS'] = str(earned_points)\n>>> responses = update_responses(question_id, str(uses_np_sum))\n",
         "failure_message": "Failed: 'count' must be computed using np.sum(habitats).",
         "hidden": false,
         "locked": false,
         "points": 1,
         "success_message": "Success: 'count' is computed using np.sum(habitats)."
        },
        {
         "code": ">>> from pykubegrader.telemetry import ensure_responses, log_variable, score_question, submit_question, telemetry, update_responses\n>>> import os\n>>> question_id = 'Axolotl-Counting-4'\n>>> max_score = 2.0\n>>> score = 0\n>>> test_input = [1, 0, 3, 5, 2]\n>>> expected_sum = 11\n>>> computed_sum = count_axolotls(test_input)\n>>> assert computed_sum == expected_sum, f'Expected {expected_sum}, but got {computed_sum}.'\n>>> if computed_sum == expected_sum:\n...     score = 2.0\n>>> earned_points = float(os.environ.get('EARNED_POINTS', 0))\n>>> earned_points += score\n>>> log_variable('9_numpy_q', f'{score}, {max_score}', question_id)\n>>> os.environ['EARNED_POINTS'] = str(earned_points)\n>>> responses = update_responses(question_id, str(computed_sum))\n>>> responses = update_responses(question_id, str(expected_sum))\n",
         "failure_message": "Failed: The returned sum is incorrect.",
         "hidden": false,
         "locked": false,
         "points": 2,
         "success_message": "Success: 'count_axolotls' returns the correct sum."
        }
       ],
       "scored": true,
       "setup": "",
       "teardown": "",
       "type": "doctest"
      }
     ]
    },
    "axolotl-reshaping": {
     "name": "axolotl-reshaping",
     "points": null,
     "suites": [
      {
       "cases": [
        {
         "code": ">>> from pykubegrader.telemetry import ensure_responses, log_variable, score_question, submit_question, telemetry, update_responses\n>>> import os\n>>> max_question_points = str(6.0)\n>>> earned_points = 0\n>>> os.environ['EARNED_POINTS'] = str(earned_points)\n>>> os.environ['TOTAL_POINTS_FREE_RESPONSE'] = str(11.0)\n>>> log_variable('total-points', f'Reading-Week-X, 9_numpy_q', 11.0)\n>>> question_id = 'axolotl-reshaping-1'\n>>> max_score = 1.0\n>>> score = 0\n>>> condition = 'np' in locals()\n>>> assert condition, \"You must import numpy using the alias 'np'.\"\n>>> if condition:\n...     score = 1.0\n>>> earned_points = float(os.environ.get('EARNED_POINTS', 0))\n>>> earned_points += score\n>>> log_variable('9_numpy_q', f'{score}, {max_score}', question_id)\n>>> os.environ['EARNED_POINTS'] = str(earned_points)\n>>> responses = update_responses(question_id, str(condition))\n",
         "failure_message": "Failed: You must import numpy using the alias 'np'",
         "hidden": false,
         "locked": false,
         "points": 1,
         "success_message": "Success: 'numpy' is imported as 'np'"
        },
        {
         "code": ">>> from pykubegrader.telemetry import ensure_responses, log_variable, score_question, submit_question, telemetry, update_responses\n>>> import os\n>>> import sys\n>>> import numpy as np\n>>> question_id = 'axolotl-reshaping-2'\n>>> max_score = 1.0\n>>> score = 0\n>>> def capture_locals(func, *args, **kwargs):\n...     \"\"\"\n...     Helper that uses sys.settrace to capture local variables at function return.\n...     \"\"\"\n...     local_vars = {}\n...     def tracer(frame, event, arg):\n...         if event == 'return':\n...             local_vars.update(frame.f_locals)\n...         return tracer\n...     old_trace = sys.gettrace()\n...     sys.settrace(tracer)\n...     func(*args, **kwargs)\n...     sys.settrace(old_trace)\n...     return local_vars\n>>> axolotl_data = np.array([1, 2, 3, 4])\n>>> local_vars = capture_locals(reshape_habitats, axolotl_data, 2, 2)\n>>> has_reshaped = 'reshaped' in local_vars\n>>> assert has_reshaped, \"You must define 'reshaped' as a local variable within 'reshape_habitats'.\"\n>>> if has_reshaped:\n...     score = 1.0\n>>> earned_points = float(os.environ.get('EARNED_POINTS', 0))\n>>> earned_points += score\n>>> log_variable('9_numpy_q', f'{score}, {max_score}', question_id)\n>>> os.environ['EARNED_POINTS'] = str(earned_points)\n>>> responses = update_responses(question_id, str(has_reshaped))\n",
         "failure_message": "Failed: You must define 'reshaped' as a local variable within 'reshape_habitats'.",
         "hidden": false,
         "locked": false,
         "points": 1,
         "success_message": "Success: 'reshaped' is defined as a local variable."
        },
        {
         "code": ">>> from pykubegrader.telemetry import ensure_responses, log_variable, score_question, submit_question, telemetry, update_responses\n>>> import os\n>>> import re\n>>> import inspect\n>>> question_id = 'axolotl-reshaping-3'\n>>> max_score = 1.0\n>>> score = 0\n>>> code = inspect.getsource(reshape_habitats)\n>>> pattern = 'reshaped\\\\s*=\\\\s*axolotl_data\\\\.reshape\\\\s*\\\\(\\\\s*rows\\\\s*,\\\\s*cols\\\\s*\\\\)'\n>>> pattern_found = bool(re.search(pattern, code))\n>>> assert pattern_found, \"You must define 'reshaped' with 'reshaped = axolotl_data.reshape(rows, cols)'.\"\n>>> if pattern_found:\n...     score = 1.0\n>>> earned_points = float(os.environ.get('EARNED_POINTS', 0))\n>>> earned_points += score\n>>> log_variable('9_numpy_q', f'{score}, {max_score}', question_id)\n>>> os.environ['EARNED_POINTS'] = str(earned_points)\n>>> responses = update_responses(question_id, str(pattern_found))\n",
         "failure_message": "Failed: 'reshaped' must be assigned with axolotl_data.reshape(rows, cols).",
         "hidden": false,
         "locked": false,
         "points": 1,
         "success_message": "Success: 'reshaped' is computed using axolotl_data.reshape(rows, cols)."
        },
        {
         "code": ">>> from pykubegrader.telemetry import ensure_responses, log_variable, score_question, submit_question, telemetry, update_responses\n>>> import os\n>>> import re\n>>> import inspect\n>>> question_id = 'axolotl-reshaping-4'\n>>> max_score = 1.0\n>>> score = 0\n>>> code = inspect.getsource(reshape_habitats)\n>>> pattern = 'reshaped\\\\s*=\\\\s*axolotl_data\\\\.reshape\\\\s*\\\\(\\\\s*rows\\\\s*,\\\\s*cols\\\\s*\\\\)'\n>>> pattern_found = bool(re.search(pattern, code))\n>>> assert pattern_found, \"You must define 'reshaped' with 'reshaped = axolotl_data.reshape(rows, cols)'.\"\n>>> if pattern_found:\n...     score = 1.0\n>>> earned_points = float(os.environ.get('EARNED_POINTS', 0))\n>>> earned_points += score\n>>> log_variable('9_numpy_q', f'{score}, {max_score}', question_id)\n>>> os.environ['EARNED_POINTS'] = str(earned_points)\n>>> responses = update_responses(question_id, str(pattern_found))\n",
         "failure_message": "Failed: 'reshaped' must be assigned with axolotl_data.reshape(rows, cols).",
         "hidden": false,
         "locked": false,
         "points": 1,
         "success_message": "Success: 'reshaped' is computed using axolotl_data.reshape(rows, cols)."
        },
        {
         "code": ">>> from pykubegrader.telemetry import ensure_responses, log_variable, score_question, submit_question, telemetry, update_responses\n>>> import os\n>>> import numpy as np\n>>> question_id = 'axolotl-reshaping-5'\n>>> max_score = 2.0\n>>> score = 0\n>>> axolotl_data = np.array([5, 12, 8, 7, 10, 15])\n>>> rows, cols = (2, 3)\n>>> expected = np.array([[5, 12, 8], [7, 10, 15]], dtype=axolotl_data.dtype)\n>>> computed = reshape_habitats(axolotl_data, rows, cols)\n>>> expected_shape = expected.shape\n>>> computed_shape = computed.shape\n>>> assert computed_shape == expected_shape, f'Expected shape {expected_shape}, but got {computed_shape}.'\n>>> assert np.array_equal(computed, expected), f'Expected the array:\\n{expected}\\nbut got:\\n{computed}'\n>>> if computed_shape == expected_shape and np.array_equal(computed, expected):\n...     score = 2.0\n>>> earned_points = float(os.environ.get('EARNED_POINTS', 0))\n>>> earned_points += score\n>>> log_variable('9_numpy_q', f'{score}, {max_score}', question_id)\n>>> os.environ['EARNED_POINTS'] = str(earned_points)\n>>> responses = update_responses(question_id, str(expected_shape))\n>>> responses = update_responses(question_id, str(computed_shape))\n",
         "failure_message": "Failed: The reshaped array is incorrect.",
         "hidden": false,
         "locked": false,
         "points": 2,
         "success_message": "Success: 'reshape_habitats' returns the correctly reshaped array."
        }
       ],
       "scored": true,
       "setup": "",
       "teardown": "",
       "type": "doctest"
      }
     ]
    }
   }
  }
 },
 "nbformat": 4,
 "nbformat_minor": 2
}
