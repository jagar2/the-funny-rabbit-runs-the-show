{
 "cells": [
  {
   "cell_type": "markdown",
   "id": "0",
   "metadata": {},
   "source": [
    "# 📖 🛠️ Basic Operations with SymPy\n",
    "\n",
    "![](./assets/figures/sympy-bridges.webp)\n",
    "\n",
    "Manipulating mathematical expressions is at the core of both ancient problem-solving and modern computational tools. SymPy bridges millennia of mathematical tradition with cutting-edge digital computation. Let’s dive into how these basic operations connect to the past and empower the present! 🧮✨\n"
   ]
  },
  {
   "cell_type": "markdown",
   "id": "1",
   "metadata": {},
   "source": [
    "## 🔄 Substitution: From Babylon to Code\n",
    "\n",
    "Substitution, the process of replacing variables or expressions, has been foundational since the Babylonian era (~1800 BCE), when scribes solved quadratic equations by substituting and rearranging terms on clay tablets! 🏺 Today, we code it as:\n"
   ]
  },
  {
   "cell_type": "markdown",
   "id": "2",
   "metadata": {},
   "source": [
    "1. Basic Swapping:"
   ]
  },
  {
   "cell_type": "code",
   "execution_count": null,
   "id": "3",
   "metadata": {},
   "outputs": [],
   "source": [
    "from sympy import *\n",
    "\n",
    "x, y = symbols(\"x y\")\n",
    "\n",
    "expr = cos(x) + 1\n",
    "expr.subs(x, y)"
   ]
  },
  {
   "cell_type": "markdown",
   "id": "4",
   "metadata": {},
   "source": [
    "\n",
    "*Historical Twist*: Babylonian mathematicians might substitute specific lengths into a geometric formula for areas or volumes. Now, you can do it in one line of code. 🔢\n"
   ]
  },
  {
   "cell_type": "markdown",
   "id": "5",
   "metadata": {},
   "source": [
    "2. Evaluating Expressions at Points:"
   ]
  },
  {
   "cell_type": "code",
   "execution_count": null,
   "id": "6",
   "metadata": {},
   "outputs": [],
   "source": [
    "expr.subs(x, 0)"
   ]
  },
  {
   "cell_type": "markdown",
   "id": "7",
   "metadata": {},
   "source": [
    "![](./assets/figures/muhammad-.webp)\n",
    "\n",
    "\n",
    "This mirrors techniques used in the Islamic Golden Age (~10th century), when scholars like Al-Khwarizmi - the founder of algebra -  substituted numeric approximations into formulas for astronomical calculations 🌌.\n"
   ]
  },
  {
   "cell_type": "markdown",
   "id": "8",
   "metadata": {},
   "source": [
    "3. Building Complex Expressions:"
   ]
  },
  {
   "cell_type": "code",
   "execution_count": null,
   "id": "9",
   "metadata": {},
   "outputs": [],
   "source": [
    "expr = x**y\n",
    "expr = expr.subs(y, x**y)\n",
    "\n",
    "expr"
   ]
  },
  {
   "cell_type": "markdown",
   "id": "10",
   "metadata": {},
   "source": [
    "\n",
    "*Historical Connection*: Mathematicians like Euler (18th century) used iterative substitution to study exponential growth, laying the groundwork for modern calculus. 📈\n"
   ]
  },
  {
   "cell_type": "markdown",
   "id": "11",
   "metadata": {},
   "source": [
    "4. Targeted Simplifications:"
   ]
  },
  {
   "cell_type": "code",
   "execution_count": null,
   "id": "12",
   "metadata": {},
   "outputs": [],
   "source": [
    "expr = sin(2 * x) + cos(2 * x)\n",
    "expr.subs(sin(2 * x), 2 * sin(x) * cos(x))"
   ]
  },
  {
   "cell_type": "markdown",
   "id": "13",
   "metadata": {},
   "source": [
    "\n",
    "Symbolic manipulation like this helped 17th-century astronomers, including Newton, refine orbital mechanics by rewriting trigonometric equations. 🌍\n",
    "\n",
    "```{tip} \n",
    "SymPy objects are immutable! Substitutions create a *new* expression, ensuring you don’t overwrite the original. This mirrors how historical mathematicians kept records intact for future verification. 📜\n",
    "```"
   ]
  },
  {
   "cell_type": "markdown",
   "id": "14",
   "metadata": {},
   "source": [
    "## 🧙‍♂️ String to Math Magic with `sympify`\n",
    "\n",
    "Converting strings into symbolic expressions today echoes the shift from natural language to formal mathematical notation during the Renaissance (15th-17th centuries). Back then, scholars like Vieta introduced symbols (`+`, `-`, `x`) to streamline problem-solving.\n",
    "\n",
    "Example:"
   ]
  },
  {
   "cell_type": "code",
   "execution_count": null,
   "id": "15",
   "metadata": {},
   "outputs": [],
   "source": [
    "str_expr = \"x**2 + 3*x - 1/2\"\n",
    "expr = sympify(str_expr)\n",
    "expr.subs(x, 2)"
   ]
  },
  {
   "cell_type": "markdown",
   "id": "16",
   "metadata": {},
   "source": [
    "\n",
    "```{Warning} \n",
    "⚠️ Like an alchemist's recipe, `sympify` relies on `eval` - this means it runs code from strings. Ensure your input is pure—don’t use untrusted sources! 🛡️\n",
    "```"
   ]
  },
  {
   "cell_type": "markdown",
   "id": "17",
   "metadata": {},
   "source": [
    "## 📊 Numerical Evaluation with `evalf`: Precision Through Time\n",
    "\n",
    "From Archimedes (~250 BCE) calculating π to 15 digits to today's computers calculating millions, numerical evaluation has always been about pushing precision. SymPy’s `evalf` brings the precision game to your fingertips:\n"
   ]
  },
  {
   "cell_type": "markdown",
   "id": "18",
   "metadata": {},
   "source": [
    "1. Approximate Roots:"
   ]
  },
  {
   "cell_type": "code",
   "execution_count": null,
   "id": "19",
   "metadata": {},
   "outputs": [],
   "source": [
    "expr = sqrt(8)\n",
    "expr.evalf()"
   ]
  },
  {
   "cell_type": "markdown",
   "id": "20",
   "metadata": {},
   "source": [
    "![](./assets/figures/euclid.webp)\n",
    "\n",
    "*Historical Note*: The ancient Greeks, like Euclid, approximated square roots geometrically. Today, `evalf` does it in milliseconds. ⏱️\n"
   ]
  },
  {
   "cell_type": "markdown",
   "id": "21",
   "metadata": {},
   "source": [
    "2. High-Precision π:"
   ]
  },
  {
   "cell_type": "code",
   "execution_count": null,
   "id": "22",
   "metadata": {},
   "outputs": [],
   "source": [
    "pi.evalf(100)"
   ]
  },
  {
   "cell_type": "markdown",
   "id": "23",
   "metadata": {},
   "source": [
    "![](./assets/figures/Madhava_of_Sangamagrama.avif)\n",
    "\n",
    "*Fun Fact*: The Indian mathematician Madhava (14th century) calculated π to 11 digits using series expansions. With SymPy, you can match his precision and go far beyond. 🌌\n"
   ]
  },
  {
   "cell_type": "markdown",
   "id": "24",
   "metadata": {},
   "source": [
    "3. Substitution + Precision:"
   ]
  },
  {
   "cell_type": "code",
   "execution_count": null,
   "id": "25",
   "metadata": {},
   "outputs": [],
   "source": [
    "expr = cos(2 * x)\n",
    "expr.evalf(subs={x: 2.4})"
   ]
  },
  {
   "cell_type": "markdown",
   "id": "26",
   "metadata": {},
   "source": [
    "\n",
    "Numerical evaluation played a critical role in designing 20th-century engineering marvels like suspension bridges 🌉, where exact trigonometric values helped calculate load-bearing capacities.\n"
   ]
  },
  {
   "cell_type": "markdown",
   "id": "27",
   "metadata": {},
   "source": [
    "## ⚡ Fast Evaluation with `lambdify`: Scaling Efficiency\n",
    "\n",
    "In the Industrial Revolution (18th-19th centuries), engineers faced a growing need for repetitive calculations. Tables of logarithms and trigonometric values were precomputed for quick reference. Now, `lambdify` brings that efficiency to modern computation:\n",
    "\n",
    "Example:"
   ]
  },
  {
   "cell_type": "code",
   "execution_count": null,
   "id": "28",
   "metadata": {},
   "outputs": [],
   "source": [
    "import numpy as np\n",
    "\n",
    "a = np.arange(10)\n",
    "f = lambdify(x, sin(x), \"numpy\")\n",
    "f(a)"
   ]
  },
  {
   "cell_type": "markdown",
   "id": "29",
   "metadata": {},
   "source": [
    "\n",
    "```{note}\n",
    "lambdafy is a function that takes a SymPy expression and converts it into a function that can be used with NumPy arrays. It is based on the concept of lambda functions in Python. This is a powerful but advance syntax, so don't worry if you don't understand it fully yet. You are not expected to know this for the course. But if you are curious, you can learn more about it [here](https://docs.sympy.org/latest/modules/utilities/lambdify.html).\n",
    "```\n",
    "\n",
    "```{warning} \n",
    "⚠️ Like substitution, `lambdify` uses `eval`. Avoid unsanitized inputs, just as early engineers double-checked precomputed tables to avoid costly errors! 🛡️\n",
    "```"
   ]
  }
 ],
 "metadata": {
  "kernelspec": {
   "display_name": "engr131_dev",
   "language": "python",
   "name": "python3"
  },
  "language_info": {
   "codemirror_mode": {
    "name": "ipython",
    "version": 3
   },
   "file_extension": ".py",
   "mimetype": "text/x-python",
   "name": "python",
   "nbconvert_exporter": "python",
   "pygments_lexer": "ipython3",
   "version": "3.12.7"
  }
 },
 "nbformat": 4,
 "nbformat_minor": 5
}
