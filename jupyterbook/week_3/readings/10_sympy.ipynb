{
 "cells": [
  {
   "cell_type": "markdown",
   "id": "0",
   "metadata": {},
   "source": [
    "# 📖 🤖 What is Symbolic Computation?\n",
    "\n",
    "![](./assets/figures/symbolic-title.webp)\n",
    "\n",
    "Symbolic computation lets you compute and manipulate math _exactly_! 🧮 Unlike approximations (like `math.sqrt(8)` = 2.828…), symbolic systems like SymPy keep things clean and exact, e.g., `sqrt(8)` becomes `2*sqrt(2)`. ✨ Why? Because sometimes you want the raw truth, not just decimals, or floating points!\n",
    "\n",
    "🚀 Fun Fact: The roots of symbolic computation trace back to ancient Babylonian algebra (~1800 BCE)! Symbolic math has powered everything from planetary orbits 🌍 (Kepler!) to encryption algorithms 🛡️.\n"
   ]
  },
  {
   "cell_type": "markdown",
   "id": "1",
   "metadata": {},
   "source": [
    "## 🤔 Why SymPy is Awesome?\n"
   ]
  },
  {
   "cell_type": "markdown",
   "id": "2",
   "metadata": {},
   "source": [
    "1. Exact Math: With `SymPy`, `(x + 2y) - x` simplifies directly to `2y` 🧙‍♂️! Need it factored? Expanded? You decide:\n",
    "\n",
    "- Factor: `x*(x + 2y)`\n",
    "- Expand: `x² + 2xy`\n"
   ]
  },
  {
   "cell_type": "markdown",
   "id": "3",
   "metadata": {},
   "source": [
    "2. Superpowers! 🎩 Derivatives, integrals, limits, and more:\n"
   ]
  },
  {
   "cell_type": "code",
   "execution_count": null,
   "id": "4",
   "metadata": {},
   "outputs": [],
   "source": [
    "# You need to import everything from sympy.\n",
    "# This is possible with the wildcard import *.\n",
    "from sympy import *\n",
    "\n",
    "# Define the variable x as a symbol.\n",
    "x = symbols(\"x\")\n",
    "\n",
    "# Calculate the derivative of sin(x)*exp(x) with respect to x.\n",
    "diff(sin(x) * exp(x), x)"
   ]
  },
  {
   "cell_type": "code",
   "execution_count": null,
   "id": "5",
   "metadata": {},
   "outputs": [],
   "source": [
    "# Calculate the integral of sin(x**2) with respect to x from -oo to oo.\n",
    "integrate(sin(x**2), (x, -oo, oo))"
   ]
  },
  {
   "cell_type": "markdown",
   "id": "6",
   "metadata": {},
   "source": [
    "3. Lightweight & Pythonic: No giant downloads 🐍! Just Python—easy to integrate into apps. Perfect for modern needs!\n"
   ]
  },
  {
   "cell_type": "markdown",
   "id": "7",
   "metadata": {},
   "source": [
    "4. Cost? $0: Forget pricy tools like Mathematica. SymPy = free, open-source, and endlessly hackable. 💻\n"
   ]
  },
  {
   "cell_type": "markdown",
   "id": "8",
   "metadata": {},
   "source": [
    "## 🔬 Engineering Use Cases\n"
   ]
  },
  {
   "cell_type": "markdown",
   "id": "9",
   "metadata": {},
   "source": [
    "### 🚂 Historical Twist: Engineers’ Delight!\n",
    "\n",
    "![](./assets/figures/kennedy.jpg)\n",
    "\n",
    "- Railroads: Calculating curves with integrals & tangents.\n",
    "- Rocketry: Exact trajectory formulas powered by limits.\n",
    "- Structures: Solving eigenvalues to stabilize bridges 🌉.\n",
    "\n",
    "SymPy blends beautifully with real-world engineering tools.\n"
   ]
  },
  {
   "cell_type": "markdown",
   "id": "10",
   "metadata": {},
   "source": [
    "## 🌟 Key Examples\n"
   ]
  },
  {
   "cell_type": "markdown",
   "id": "11",
   "metadata": {},
   "source": [
    "1. Simplifying Expressions:\n"
   ]
  },
  {
   "cell_type": "code",
   "execution_count": null,
   "id": "12",
   "metadata": {},
   "outputs": [],
   "source": [
    "sqrt(8)  # Output: 2*sqrt(2)"
   ]
  },
  {
   "cell_type": "markdown",
   "id": "13",
   "metadata": {},
   "source": [
    "2. Solving Equations:\n"
   ]
  },
  {
   "cell_type": "code",
   "execution_count": null,
   "id": "14",
   "metadata": {},
   "outputs": [],
   "source": [
    "solve(x**2 - 2, x)"
   ]
  },
  {
   "cell_type": "markdown",
   "id": "15",
   "metadata": {},
   "source": [
    "3. Derivatives & Integrals:\n"
   ]
  },
  {
   "cell_type": "code",
   "execution_count": null,
   "id": "16",
   "metadata": {},
   "outputs": [],
   "source": [
    "# Calculate the derivative of sin(x)*exp(x) with respect to x.\n",
    "diff(sin(x) * exp(x), x)"
   ]
  },
  {
   "cell_type": "markdown",
   "id": "17",
   "metadata": {},
   "source": [
    "4. Matrix Math:"
   ]
  },
  {
   "cell_type": "code",
   "execution_count": null,
   "id": "18",
   "metadata": {},
   "outputs": [],
   "source": [
    "Matrix([[1, 2], [2, 2]]).eigenvals()  # Handy for systems!"
   ]
  },
  {
   "cell_type": "markdown",
   "id": "19",
   "metadata": {},
   "source": [
    "## 🎯 Why Pick SymPy?\n",
    "\n",
    "- Free 🤑\n",
    "- Python-native 🐍\n",
    "- Lightweight 💡\n",
    "- Interactive _and_ script-friendly. Automation, anyone? 🤖\n",
    "\n",
    "If you want to pay more for the same power, go ahead, here is the link to purchase [Matlab](https://www.mathworks.com/store/link/products/home/ML)"
   ]
  }
 ],
 "metadata": {
  "kernelspec": {
   "display_name": "engr131_dev",
   "language": "python",
   "name": "python3"
  },
  "language_info": {
   "codemirror_mode": {
    "name": "ipython",
    "version": 3
   },
   "file_extension": ".py",
   "mimetype": "text/x-python",
   "name": "python",
   "nbconvert_exporter": "python",
   "pygments_lexer": "ipython3",
   "version": "3.12.7"
  }
 },
 "nbformat": 4,
 "nbformat_minor": 5
}
