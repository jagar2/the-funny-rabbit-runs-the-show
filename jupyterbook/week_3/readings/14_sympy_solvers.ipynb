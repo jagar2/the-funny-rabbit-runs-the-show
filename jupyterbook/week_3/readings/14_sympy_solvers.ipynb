{
 "cells": [
  {
   "cell_type": "markdown",
   "id": "0",
   "metadata": {},
   "source": [
    "# 📖 🧩 Solvers in SymPy: Cracking the Code of Engineering Problems\n",
    "\n",
    "![](./assets/figures/dragon-symbol.webp)\n",
    "\n",
    "From ancient bridge stress tests to quantum computing algorithms, solving equations has always been at the heart of engineering. SymPy’s solvers take this legacy into the digital age! Let’s explore. 🚀\n"
   ]
  },
  {
   "cell_type": "markdown",
   "id": "1",
   "metadata": {},
   "source": [
    "## ✨ Equations: The Basics\n",
    "\n",
    "Equations in SymPy are handled with `Eq` or, even better, you can just assume `= 0` for simplicity:\n"
   ]
  },
  {
   "cell_type": "code",
   "execution_count": null,
   "id": "2",
   "metadata": {},
   "outputs": [],
   "source": [
    "from sympy import *\n",
    "\n",
    "x, y, z = symbols(\"x y z\")\n",
    "\n",
    "Eq(x**2 - 1, x)"
   ]
  },
  {
   "cell_type": "markdown",
   "id": "3",
   "metadata": {},
   "source": [
    "💡 Historical Insight: Solving quadratic equations dates back to Babylon (~2000 BCE), where engineers used it for irrigation canal designs! 🌾"
   ]
  },
  {
   "cell_type": "markdown",
   "id": "4",
   "metadata": {},
   "source": [
    "## ⚡ Algebraic Solvers\n"
   ]
  },
  {
   "cell_type": "markdown",
   "id": "5",
   "metadata": {},
   "source": [
    "### `solveset`: The Workhorse\n",
    "\n",
    "SymPy's `solveset` tackles algebraic equations with ease:\n",
    "\n",
    "- Crack Riddler’s Codes (Modular Arithmetic): Solve periodic equations in wave encryption:\n",
    "\n",
    "```{tip}\n",
    "Many solutions to expressions can contain real and imaginary solutions. Use `domain` to filter them.\n",
    "```"
   ]
  },
  {
   "cell_type": "code",
   "execution_count": null,
   "id": "6",
   "metadata": {},
   "outputs": [],
   "source": [
    "solveset(sin(x) - 1, x, domain=S.Reals)"
   ]
  },
  {
   "cell_type": "markdown",
   "id": "7",
   "metadata": {},
   "source": [
    "\n",
    "- Oil Refinery Pipeline Optimization: Solve systems of equations to optimize flow in pipelines:"
   ]
  },
  {
   "cell_type": "code",
   "execution_count": null,
   "id": "8",
   "metadata": {},
   "outputs": [],
   "source": [
    "linsolve([x + y + z - 1, x + y + 2 * z - 3], (x, y, z))"
   ]
  },
  {
   "cell_type": "markdown",
   "id": "9",
   "metadata": {},
   "source": [
    "\n",
    "💡 Obscure Use: 18th-century mining engineers used algebraic systems to calculate water drainage paths in complex mines. 🪨\n"
   ]
  },
  {
   "cell_type": "markdown",
   "id": "10",
   "metadata": {},
   "source": [
    "## 🔄 Nonlinear Systems with `nonlinsolve`\n",
    "\n",
    "SymPy excels at solving nonlinear equations, even those with real and complex solutions:\n",
    "\n",
    "```{note}\n",
    "Non-linear systems of equations are like trying to solve a puzzle where the rules don’t follow straight lines. Instead of easy, predictable relationships (like $\\(x + y = 10\\$)), you get curvy, messy ones (like $\\(x^2 + y^2 = 25\\)$, a circle). These systems involve equations with squares, cubes, or other funky stuff that make them bend, twist, or loop. Solving them is like figuring out where all the curves and loops meet—it’s trickier than straight-line math, but it’s how we handle real-world chaos, like predicting weather or designing rocket trajectories! 🌪️🚀📐\n",
    "```\n",
    "\n",
    "- Vortex Behavior in Jet Engines: Solve flow equations with nonlinear dependencies:\n",
    "\n",
    "![](./assets/figures/vortex-wing.jpeg)\n"
   ]
  },
  {
   "cell_type": "code",
   "execution_count": null,
   "id": "11",
   "metadata": {},
   "outputs": [],
   "source": [
    "nonlinsolve([x * y - 1, x - 2], [x, y])  # Output: {(2, 1/2)}"
   ]
  },
  {
   "cell_type": "markdown",
   "id": "12",
   "metadata": {},
   "source": [
    "\n",
    "- Acoustic Resonance in Concert Halls: Modeling sound wave interference:"
   ]
  },
  {
   "cell_type": "code",
   "execution_count": null,
   "id": "13",
   "metadata": {},
   "outputs": [],
   "source": [
    "nonlinsolve([x**2 + 1, y**2 + 1], [x, y])"
   ]
  },
  {
   "cell_type": "markdown",
   "id": "14",
   "metadata": {},
   "source": [
    "\n",
    "💡 Historical Example: Early radio engineers solved nonlinear equations to tune vacuum tubes for clearer signals. 📻\n"
   ]
  },
  {
   "cell_type": "markdown",
   "id": "15",
   "metadata": {},
   "source": [
    "## 🌊 Differential Equations with `dsolve`\n",
    "\n",
    "SymPy simplifies differential equations, critical for dynamic systems like vibrations, fluid flows, and control systems.\n",
    "\n",
    "```{note}\n",
    "Differential equations are like math's way of describing how things change over time. Instead of just finding the answer, you’re solving for a **rule** about how something evolves—like how fast a car speeds up, how a virus spreads, or how coffee cools down. They involve derivatives (rates of change), so instead of saying $\\(y = 3x + 2\\)$, it’s more like, “How does $\\(y\\)$ change if it depends on $\\(x\\)$?” For example, if you’re pouring water into a tank, a differential equation tells you how the water level rises as time passes. It’s the ultimate tool for modeling anything dynamic! 🚗📈🌊\n",
    "```\n",
    "\n",
    "- Designing Ship Stabilizers: Model damping effects to counter ocean waves:\n",
    "\n",
    "![](./assets/figures/cruise-ship-stabilizer.png)"
   ]
  },
  {
   "cell_type": "code",
   "execution_count": null,
   "id": "16",
   "metadata": {},
   "outputs": [],
   "source": [
    "f = Function(\"f\")\n",
    "\n",
    "diffeq = Eq(f(x).diff(x, x) - 2 * f(x).diff(x) + f(x), sin(x))\n",
    "dsolve(diffeq, f(x))"
   ]
  },
  {
   "cell_type": "markdown",
   "id": "17",
   "metadata": {},
   "source": [
    "- 18th-Century Clock Escapements: Engineers modeled pendulum damping to design accurate clocks. 🕰️\n"
   ]
  },
  {
   "cell_type": "markdown",
   "id": "18",
   "metadata": {},
   "source": [
    "## 🔍 Specialized Tools\n"
   ]
  },
  {
   "cell_type": "markdown",
   "id": "19",
   "metadata": {},
   "source": [
    "### Roots with Multiplicity\n",
    "\n",
    "```{note}\n",
    "Roots with multiplicity are like special \"sticky\" roots that affect how systems behave, which is super important in engineering. For example, in $\\( (x - 2)^2 = 0 \\)$, the root $\\(x = 2\\)$ has **multiplicity 2**, meaning the graph just touches the x-axis at that point but doesn’t cross it. Why does this matter? In engineering, systems modeled by equations often depend on these roots. If a root has higher multiplicity, it changes the system’s stability or response. For instance, in vibrations or control systems, repeated roots can mean slower damping or lingering oscillations. Essentially, roots with multiplicity are like hidden clues that tell engineers how their designs will behave under stress or dynamic conditions! 🏗️📊⚙️\n",
    "```\n",
    "![](./assets/figures/tacoma-bridge.jpg)\n",
    "\n",
    "Find roots and their multiplicities with `roots`:\n"
   ]
  },
  {
   "cell_type": "code",
   "execution_count": null,
   "id": "20",
   "metadata": {},
   "outputs": [],
   "source": [
    "roots(x**3 - 6 * x**2 + 9 * x, x)  # Output: {0: 1, 3: 2}"
   ]
  },
  {
   "cell_type": "markdown",
   "id": "21",
   "metadata": {},
   "source": [
    "\n",
    "💡 Example: Calculating shaft resonance frequencies in early wind turbines relied on understanding root multiplicities.\n"
   ]
  },
  {
   "cell_type": "markdown",
   "id": "22",
   "metadata": {},
   "source": [
    "### Lambert W for Transcendental\n",
    "\n",
    "```{note}\n",
    "The Lambert W function is like a magical math tool for solving tricky equations where the variable is **stuck in both the base and the exponent**—a classic problem with transcendental equations. For example, if you have something like $\\( x e^x = 5 \\)$, there’s no way to solve it using regular algebra. This is where the Lambert W function comes in! It \"unsticks\" the variable by essentially reversing $\\( y = x e^x \\)$, giving $\\( x = W(y) \\)$. \n",
    "\n",
    "Why does this matter for engineering? Many real-world problems involve transcendental equations—like modeling diode currents in electronics, finding growth rates in population models, or solving time constants in heat transfer. The Lambert W function simplifies these problems into something solvable, making it an indispensable tool in areas like circuit design, control systems, and thermodynamics. It’s like a Swiss army knife for dealing with equations that don’t play by algebra's rules! 🔧📈✨\n",
    "```\n",
    "\n",
    "Solve tricky equations like `x * exp(x) = 1`:\n"
   ]
  },
  {
   "cell_type": "code",
   "execution_count": null,
   "id": "23",
   "metadata": {},
   "outputs": [],
   "source": [
    "solve(x * exp(x) - 1, x)  # Output: [W(1)]"
   ]
  },
  {
   "cell_type": "markdown",
   "id": "24",
   "metadata": {},
   "source": [
    "\n",
    "💡 Obscure Use: Hey Chemical Engineers, Lambert W functions helped chemists model reaction rates in high-pressure vessels during WWII. 🧪\n",
    "\n",
    "![](./assets/figures/pressure-vessel-chemistry.jpg)\n"
   ]
  },
  {
   "cell_type": "markdown",
   "id": "25",
   "metadata": {},
   "source": [
    "## 🎯 Why SymPy Solvers Matter\n",
    "\n",
    "From ancient mine drainage to modern cryptography, SymPy’s solvers bridge the gap between math and engineering innovation. Whether it’s cracking nonlinear systems or modeling acoustic resonance, SymPy gives you the tools to conquer complex problems. Ready to solve? 🧮✨"
   ]
  }
 ],
 "metadata": {
  "kernelspec": {
   "display_name": "engr131_dev",
   "language": "python",
   "name": "python3"
  },
  "language_info": {
   "codemirror_mode": {
    "name": "ipython",
    "version": 3
   },
   "file_extension": ".py",
   "mimetype": "text/x-python",
   "name": "python",
   "nbconvert_exporter": "python",
   "pygments_lexer": "ipython3",
   "version": "3.12.7"
  }
 },
 "nbformat": 4,
 "nbformat_minor": 5
}
