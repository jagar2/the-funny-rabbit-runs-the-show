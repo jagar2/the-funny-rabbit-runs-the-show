{
 "cells": [
  {
   "cell_type": "markdown",
   "id": "0",
   "metadata": {},
   "source": [
    "# 📖 Debugger in Jupyterlab\n",
    "\n",
    "JupyterLab ships with a Debugger front-end by default.\n"
   ]
  },
  {
   "cell_type": "markdown",
   "id": "1",
   "metadata": {},
   "source": [
    "## Usage\n",
    "\n",
    "Here is a screencast showing how to enable the debugger and set up breakpoints. The steps are described in detail below.\n",
    "\n",
    "![A GIF showing how to enable the debugger within the kernel.](assets/figures/step.gif)\n"
   ]
  },
  {
   "cell_type": "markdown",
   "id": "2",
   "metadata": {},
   "source": [
    "### Use a Kernel Supporting Debugger\n",
    "\n",
    "First, check that the kernel supports debugging. If it does, the *bug* icon in the upper-right corner of the notebook will be enabled.\n",
    "\n",
    "![Kernel supporting debugger](./assets/figures/debugger-kernel.webp)\n"
   ]
  },
  {
   "cell_type": "markdown",
   "id": "3",
   "metadata": {},
   "source": [
    "### Debug Code in Notebook\n",
    "\n",
    "To enable the debugger for a notebook, toggle the *bug* button in the upper-right corner of the notebook:\n",
    "\n",
    "![Enable debugger](./assets/figures/debugger-activate.webp)\n",
    "\n",
    "Once debugging is enabled, you can set breakpoints and step into the code.\n",
    "\n",
    "Define a function that adds two elements:\n"
   ]
  },
  {
   "cell_type": "code",
   "execution_count": null,
   "id": "4",
   "metadata": {},
   "outputs": [],
   "source": [
    "def add(a, b):\n",
    "   res = a + b\n",
    "   return res"
   ]
  },
  {
   "cell_type": "markdown",
   "id": "5",
   "metadata": {},
   "source": [
    "\n",
    "Call the function and print the result:\n"
   ]
  },
  {
   "cell_type": "code",
   "execution_count": null,
   "id": "6",
   "metadata": {},
   "outputs": [],
   "source": [
    "result = add(1, 2)\n",
    "print(result)"
   ]
  },
  {
   "cell_type": "markdown",
   "id": "7",
   "metadata": {},
   "source": [
    "\n",
    "To add a breakpoint, click on the gutter on line number 2 in the first code cell:\n",
    "\n",
    "![Add breakpoint](./assets/figures/debugger-breakpoint.webp)\n",
    "\n",
    "Execute the second code cell by clicking on the **Run** button:\n",
    "\n",
    "![Run code](./assets/figures/debugger-run.webp)\n",
    "\n",
    "Execution will stop where the breakpoint is set:\n",
    "\n",
    "![Stop at breakpoint](./assets/figures/debugger-stop-on-breakpoint.webp)\n"
   ]
  },
  {
   "cell_type": "markdown",
   "id": "8",
   "metadata": {},
   "source": [
    "### Explore the Code State\n",
    "\n",
    "The debugger sidebar allows you to explore the code state. It includes a variable explorer, a list of breakpoints, a source preview, and the ability to navigate the call stack.\n",
    "\n",
    "![Debugger sidebar](./assets/figures/debugger-sidebar.webp)\n"
   ]
  },
  {
   "cell_type": "markdown",
   "id": "9",
   "metadata": {},
   "source": [
    "#### Variables\n",
    "\n",
    "Variables can be explored using a tree view and a table view:\n",
    "\n",
    "![Variable explorer](./assets/figures/debugger-variables.webp)\n"
   ]
  },
  {
   "cell_type": "markdown",
   "id": "10",
   "metadata": {},
   "source": [
    "#### Call Stack\n",
    "\n",
    "You can step into the code and continue execution using debug actions:\n",
    "\n",
    "![Call stack](./assets/figures/debugger-callstack.webp)\n"
   ]
  },
  {
   "cell_type": "markdown",
   "id": "11",
   "metadata": {},
   "source": [
    "#### Breakpoints\n",
    "\n",
    "New breakpoints can be added or removed while execution is stopped. They will appear in the list of breakpoints:\n",
    "\n",
    "![Breakpoints](./assets/figures/debugger-breakpoints.webp)\n"
   ]
  },
  {
   "cell_type": "markdown",
   "id": "12",
   "metadata": {},
   "source": [
    "#### Source\n",
    "\n",
    "The source panel shows the source of the current file being debugged:\n",
    "\n",
    "![Source panel](./assets/figures/debugger-source.webp)\n"
   ]
  },
  {
   "cell_type": "markdown",
   "id": "13",
   "metadata": {},
   "source": [
    "#### Adapted from: [jupyterlab documentation](https://github.com/jupyterlab/jupyterlab?tab=License-1-ov-file)"
   ]
  }
 ],
 "metadata": {
  "kernelspec": {
   "display_name": "engr131_dev",
   "language": "python",
   "name": "python3"
  },
  "language_info": {
   "codemirror_mode": {
    "name": "ipython",
    "version": 3
   },
   "file_extension": ".py",
   "mimetype": "text/x-python",
   "name": "python",
   "nbconvert_exporter": "python",
   "pygments_lexer": "ipython3",
   "version": "3.12.7"
  }
 },
 "nbformat": 4,
 "nbformat_minor": 5
}
