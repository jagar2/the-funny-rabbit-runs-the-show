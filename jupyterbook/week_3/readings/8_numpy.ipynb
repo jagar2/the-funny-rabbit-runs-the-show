{
 "cells": [
  {
   "cell_type": "markdown",
   "id": "0",
   "metadata": {},
   "source": [
    "# 📖 🌟 NumPy Guide 🌟\n",
    "\n",
    "![](./assets/figures/numpy-box.webp)\n",
    "\n",
    "NumPy is a Python library that provides support for large, multi-dimensional arrays and matrices, along with a collection of mathematical functions to operate on these arrays. It is the fundamental package for scientific computing with Python. Even if you don't explicitly use NumPy, it is likely that you are using it indirectly through other libraries like Pandas, Matplotlib, and SciPy. Nearly everything in the python data science ecosystem relies on NumPy.\n",
    "\n"
   ]
  },
  {
   "cell_type": "markdown",
   "id": "1",
   "metadata": {},
   "source": [
    "## 🛠️ How to Import NumPy\n",
    "\n",
    "To start using NumPy, first, install it by following [these instructions](https://numpy.org/install/). After installation, import it into your Python script:\n"
   ]
  },
  {
   "cell_type": "code",
   "execution_count": null,
   "id": "2",
   "metadata": {},
   "outputs": [],
   "source": [
    "import numpy as np"
   ]
  },
  {
   "cell_type": "markdown",
   "id": "3",
   "metadata": {},
   "source": [
    "\n",
    "Why `np`? This is the widely accepted alias for NumPy. Using `np` ensures that the library is easily accessible in your code and avoids conflicts with other modules.\n",
    "\n"
   ]
  },
  {
   "cell_type": "markdown",
   "id": "4",
   "metadata": {},
   "source": [
    "## 🤔 Why Use NumPy?\n"
   ]
  },
  {
   "cell_type": "markdown",
   "id": "5",
   "metadata": {},
   "source": [
    "### Why not just use Python lists?\n",
    "While Python lists are versatile and great for general-purpose programming, NumPy arrays offer significant performance benefits for numerical computations:\n",
    "\n",
    "- Memory Efficiency: NumPy arrays use less memory compared to lists.\n",
    "- Speed: Operations on NumPy arrays are faster than on lists because they are implemented in C.\n",
    "- Functionality: Provides a wide range of mathematical operations, such as linear algebra, Fourier transforms, and random number generation.\n",
    "\n"
   ]
  },
  {
   "cell_type": "markdown",
   "id": "6",
   "metadata": {},
   "source": [
    "## 🔢 What is an \"Array\"?\n",
    "\n",
    "An array is a grid-like structure used to store data. It can have one or more dimensions:\n",
    "\n",
    "- 1D Array (Vector):\n",
    "$$\n",
    "\\begin{array}{|c||c|c|c|}\n",
    "    \\hline\n",
    "    1 & 5 & 2 & 0 \\\\\n",
    "    \\hline\n",
    "\\end{array}\n",
    "$$\n",
    "\n",
    "- 2D Array (Matrix):\n",
    "$$\n",
    "\\begin{array}{|c||c|c|c|}\n",
    "    \\hline\n",
    "    1 & 5 & 2 & 0 \\\\\n",
    "    \\hline\n",
    "    8 & 3 & 6 & 1 \\\\\n",
    "    \\hline\n",
    "    1 & 7 & 2 & 9 \\\\\n",
    "    \\hline\n",
    "    \\end{array}\n",
    "$$\n",
    "\n",
    "- 3D Array (Tensor):\n",
    "Think of this as a stack of 2D arrays.\n",
    "\n"
   ]
  },
  {
   "cell_type": "markdown",
   "id": "7",
   "metadata": {},
   "source": [
    "### 🧩 Characteristics of NumPy Arrays:\n",
    "\n",
    "A NumPy array is a custom data structure, it is similar to a Python list but has some restrictions that allow it to be much more efficient for numerical computations, and have several built in methods that make it easier to work with.\n",
    "\n",
    "\n",
    "1. Homogeneous Data: All elements must have the same data type.\n",
    "2. Fixed Size: Once created, the array size cannot change.\n",
    "3. Rectangular Shape: All rows must have the same number of columns in 2D arrays.\n",
    "\n",
    "These restrictions make arrays more memory-efficient and faster for mathematical operations."
   ]
  },
  {
   "cell_type": "markdown",
   "id": "8",
   "metadata": {},
   "source": [
    "## 🏗️ Array Fundamentals\n"
   ]
  },
  {
   "cell_type": "markdown",
   "id": "9",
   "metadata": {},
   "source": [
    "### 🚀 Creating an Array\n",
    "\n",
    "You can create a NumPy array using Python lists:\n"
   ]
  },
  {
   "cell_type": "code",
   "execution_count": null,
   "id": "10",
   "metadata": {},
   "outputs": [],
   "source": [
    "a = np.array([1, 2, 3, 4, 5, 6])\n",
    "a"
   ]
  },
  {
   "cell_type": "markdown",
   "id": "11",
   "metadata": {},
   "source": [
    "\n",
    "- Accessing elements:\n",
    "\n",
    "Elements in an array can be accessed using their index (starting from 0):\n"
   ]
  },
  {
   "cell_type": "code",
   "execution_count": null,
   "id": "12",
   "metadata": {},
   "outputs": [],
   "source": [
    "a[0]"
   ]
  },
  {
   "cell_type": "markdown",
   "id": "13",
   "metadata": {},
   "source": [
    "```{note}\n",
    "You can see that NumPy used dynamic typing to infer the data type of the array. In this case, it inferred that the array should be of type `int64`. What do you think would happen if we made one of the values 1.0? Try it out!\n",
    "```"
   ]
  },
  {
   "cell_type": "markdown",
   "id": "14",
   "metadata": {},
   "source": [
    "\n",
    "here is an example of some of the most common ways to index NumPy arrays:\n",
    "\n",
    "![](./assets/figures/np_indexing.png)\n",
    "\n",
    "- Mutability: NumPy arrays are mutable, meaning you can modify their elements:"
   ]
  },
  {
   "cell_type": "code",
   "execution_count": null,
   "id": "15",
   "metadata": {},
   "outputs": [],
   "source": [
    "a[0] = 10\n",
    "a"
   ]
  },
  {
   "cell_type": "markdown",
   "id": "16",
   "metadata": {},
   "source": [
    "Here we change the value of the first element, the 0th index, in the array to 10."
   ]
  },
  {
   "cell_type": "markdown",
   "id": "17",
   "metadata": {},
   "source": [
    "## 🔄 Reshaping Arrays\n",
    "\n",
    "Arrays can be reshaped without changing their data:\n"
   ]
  },
  {
   "cell_type": "code",
   "execution_count": null,
   "id": "18",
   "metadata": {},
   "outputs": [],
   "source": [
    "a = np.arange(6)\n",
    "b = a.reshape(3, 2)\n",
    "b"
   ]
  },
  {
   "cell_type": "markdown",
   "id": "19",
   "metadata": {},
   "source": [
    "\n",
    "![](./assets/figures/np_reshape.png)\n",
    "\n",
    "```{note}\n",
    "The total number of elements must remain constant during reshaping. For example, a 2x3 array has 6 elements, so it can be reshaped into a 3x2 array or a 6x1 array, but not a 2x2 array.\n",
    "```\n",
    "\n"
   ]
  },
  {
   "cell_type": "markdown",
   "id": "20",
   "metadata": {},
   "source": [
    "### 🔍 Array Attributes\n",
    "\n",
    "- Number of Dimensions: `.ndim`\n",
    "- Shape: `.shape`\n",
    "- Total Elements: `.size`\n",
    "- Data Type: `.dtype`\n",
    "\n",
    "Example:\n"
   ]
  },
  {
   "cell_type": "code",
   "execution_count": null,
   "id": "21",
   "metadata": {},
   "outputs": [],
   "source": [
    "a = np.array([[1, 2, 3], [4, 5, 6]])\n",
    "a.ndim  # Number of dimensions"
   ]
  },
  {
   "cell_type": "code",
   "execution_count": null,
   "id": "22",
   "metadata": {},
   "outputs": [],
   "source": [
    "a.shape  # Shape of the array"
   ]
  },
  {
   "cell_type": "code",
   "execution_count": null,
   "id": "23",
   "metadata": {},
   "outputs": [],
   "source": [
    "a.size  # Total number of elements"
   ]
  },
  {
   "cell_type": "code",
   "execution_count": null,
   "id": "24",
   "metadata": {},
   "outputs": [],
   "source": [
    "a.dtype  # Data type of elements"
   ]
  },
  {
   "cell_type": "markdown",
   "id": "25",
   "metadata": {},
   "source": [
    "## 🧮 Mathematical Operations\n",
    "\n",
    "NumPy allows you to perform operations like addition, subtraction, and multiplication on arrays directly:\n"
   ]
  },
  {
   "cell_type": "code",
   "execution_count": null,
   "id": "26",
   "metadata": {},
   "outputs": [],
   "source": [
    "a = np.array([1, 2, 3, 4])\n",
    "b = np.array([5, 6, 7, 8])\n",
    "\n",
    "# Element-wise addition\n",
    "a + b"
   ]
  },
  {
   "cell_type": "code",
   "execution_count": null,
   "id": "27",
   "metadata": {},
   "outputs": [],
   "source": [
    "# Element-wise multiplication\n",
    "a * b"
   ]
  },
  {
   "cell_type": "code",
   "execution_count": null,
   "id": "28",
   "metadata": {},
   "outputs": [],
   "source": [
    "# Sum of all elements\n",
    "a.sum()"
   ]
  },
  {
   "cell_type": "markdown",
   "id": "29",
   "metadata": {},
   "source": [
    "## 📊 Broadcasting\n",
    "\n",
    "Broadcasting allows you to perform operations between arrays of different shapes:\n"
   ]
  },
  {
   "cell_type": "code",
   "execution_count": null,
   "id": "30",
   "metadata": {},
   "outputs": [],
   "source": [
    "a = np.array([1, 2, 3])\n",
    "a + 5  # Add 5 to every element"
   ]
  },
  {
   "cell_type": "markdown",
   "id": "31",
   "metadata": {},
   "source": [
    "\n",
    "When you apply an operation between an array and a scalar, numpy uses broadcasting to apply the operation to each element of the array.\n",
    "\n",
    "![](./assets/figures/np_multiply_broadcasting.png)\n",
    "\n",
    "```{note}\n",
    "The shapes of the arrays must be compatible for broadcasting.\n",
    "```"
   ]
  },
  {
   "cell_type": "markdown",
   "id": "32",
   "metadata": {},
   "source": [
    "## 🏆 Finding Maximum and Minimum Values\n",
    "NumPy provides efficient built-in methods for finding the maximum and minimum values in an array.\n",
    "\n",
    "- `np.max()`: Returns the maximum value of an array or along a specific axis.\n",
    "- `np.min()`: Returns the minimum value of an array or along a specific axis.\n",
    "- `np.argmax()` and `np.argmin()`: Return the indices of the maximum and minimum values.\n"
   ]
  },
  {
   "cell_type": "code",
   "execution_count": null,
   "id": "33",
   "metadata": {},
   "outputs": [],
   "source": [
    "data = np.array([[3, 7, 1], [4, 5, 9]])"
   ]
  },
  {
   "cell_type": "code",
   "execution_count": null,
   "id": "34",
   "metadata": {},
   "outputs": [],
   "source": [
    "# Find global max and min\n",
    "np.max(data)"
   ]
  },
  {
   "cell_type": "code",
   "execution_count": null,
   "id": "35",
   "metadata": {},
   "outputs": [],
   "source": [
    "np.min(data)"
   ]
  },
  {
   "cell_type": "code",
   "execution_count": null,
   "id": "36",
   "metadata": {},
   "outputs": [],
   "source": [
    "# Find max and min along rows (axis=1)\n",
    "np.max(data, axis=1)"
   ]
  },
  {
   "cell_type": "code",
   "execution_count": null,
   "id": "37",
   "metadata": {},
   "outputs": [],
   "source": [
    "np.min(data, axis=1)"
   ]
  },
  {
   "cell_type": "code",
   "execution_count": null,
   "id": "38",
   "metadata": {},
   "outputs": [],
   "source": [
    "# Find the indices of max and min\n",
    "np.argmax(data)  # Global index of max value"
   ]
  },
  {
   "cell_type": "code",
   "execution_count": null,
   "id": "39",
   "metadata": {},
   "outputs": [],
   "source": [
    "np.argmin(data)  # Global index of min value"
   ]
  },
  {
   "cell_type": "markdown",
   "id": "40",
   "metadata": {},
   "source": [
    "```{tip}\n",
    "Combine these methods for advanced analysis. For example, use `np.unravel_index()` with `argmax`/`argmin` to find the row and column of the max/min in a multi-dimensional array.\n",
    "```\n"
   ]
  },
  {
   "cell_type": "markdown",
   "id": "41",
   "metadata": {},
   "source": [
    "## 🧰 Preallocation of Memory\n",
    "Preallocating memory for large arrays is a good practice when working with performance-critical applications. Instead of dynamically appending to lists (which is slow), create an empty array or an array filled with default values like zeros or ones.\n"
   ]
  },
  {
   "cell_type": "markdown",
   "id": "42",
   "metadata": {},
   "source": [
    "### Preallocation Methods:\n",
    "- `np.zeros(shape)`: Creates an array filled with zeros.\n",
    "- `np.ones(shape)`: Creates an array filled with ones.\n",
    "- `np.empty(shape)`: Creates an uninitialized array (faster, but contains arbitrary values).\n",
    "- `np.full(shape, fill_value)`: Creates an array filled with a specific value.\n"
   ]
  },
  {
   "cell_type": "code",
   "execution_count": null,
   "id": "43",
   "metadata": {},
   "outputs": [],
   "source": [
    "# Preallocate an array of zeros\n",
    "zeros = np.zeros((3, 3))\n",
    "zeros"
   ]
  },
  {
   "cell_type": "code",
   "execution_count": null,
   "id": "44",
   "metadata": {},
   "outputs": [],
   "source": [
    "# Preallocate an array of ones\n",
    "ones = np.ones((2, 4))\n",
    "ones"
   ]
  },
  {
   "cell_type": "code",
   "execution_count": null,
   "id": "45",
   "metadata": {},
   "outputs": [],
   "source": [
    "# Preallocate an uninitialized array\n",
    "uninit = np.empty((2, 2))\n",
    "uninit"
   ]
  },
  {
   "cell_type": "code",
   "execution_count": null,
   "id": "46",
   "metadata": {},
   "outputs": [],
   "source": [
    "# Preallocate an array filled with 42\n",
    "filled = np.full((3, 3), 42)\n",
    "filled"
   ]
  },
  {
   "cell_type": "markdown",
   "id": "47",
   "metadata": {},
   "source": [
    "```{tip} When to Use Preallocation:\n",
    "- `np.zeros()` and `np.ones()` are great for initializing arrays for numerical computations.\n",
    "- `np.empty()` is ideal when you’ll overwrite all values in the array soon after creation.\n",
    "- Preallocation prevents the overhead of dynamically resizing arrays during iterative operations.\n",
    "```"
   ]
  },
  {
   "cell_type": "markdown",
   "id": "48",
   "metadata": {},
   "source": [
    "## 🔢 Sorting Arrays\n",
    "NumPy makes sorting arrays simple and efficient with the `np.sort()` method and related functions.\n"
   ]
  },
  {
   "cell_type": "markdown",
   "id": "49",
   "metadata": {},
   "source": [
    "### Key Sorting Functions:\n",
    "- `np.sort()`: Returns a sorted copy of the array.\n",
    "- `np.argsort()`: Returns the indices that would sort the array.\n",
    "- `np.lexsort()`: Sorts based on multiple keys.\n",
    "- `np.partition()`: Partially sorts the array by selecting elements up to a specific index.\n"
   ]
  },
  {
   "cell_type": "code",
   "execution_count": null,
   "id": "50",
   "metadata": {},
   "outputs": [],
   "source": [
    "data = np.array([3, 1, 4, 1, 5, 9])"
   ]
  },
  {
   "cell_type": "code",
   "execution_count": null,
   "id": "51",
   "metadata": {},
   "outputs": [],
   "source": [
    "# Sort the array in ascending order\n",
    "np.sort(data)"
   ]
  },
  {
   "cell_type": "code",
   "execution_count": null,
   "id": "52",
   "metadata": {},
   "outputs": [],
   "source": [
    "# Get the indices that would sort the array\n",
    "np.argsort(data)"
   ]
  },
  {
   "cell_type": "code",
   "execution_count": null,
   "id": "53",
   "metadata": {},
   "outputs": [],
   "source": [
    "# Sort a 2D array along rows (default axis=1)\n",
    "matrix = np.array([[5, 2, 9], [3, 7, 1]])\n",
    "np.sort(matrix)"
   ]
  },
  {
   "cell_type": "code",
   "execution_count": null,
   "id": "54",
   "metadata": {},
   "outputs": [],
   "source": [
    "# Sort along columns (axis=0)\n",
    "np.sort(matrix, axis=0)"
   ]
  },
  {
   "cell_type": "markdown",
   "id": "55",
   "metadata": {},
   "source": [
    "```{tip} Advanced Sorting:\n",
    "Use `np.lexsort()` to sort by multiple keys.\n",
    "```"
   ]
  },
  {
   "cell_type": "code",
   "execution_count": null,
   "id": "56",
   "metadata": {},
   "outputs": [],
   "source": [
    "names = np.array([\"Alice\", \"Bob\", \"Charlie\"])\n",
    "scores = np.array([85, 95, 85])"
   ]
  },
  {
   "cell_type": "code",
   "execution_count": null,
   "id": "57",
   "metadata": {},
   "outputs": [],
   "source": [
    "# Sort by scores, then names\n",
    "idx = np.lexsort((names, scores))\n",
    "idx"
   ]
  },
  {
   "cell_type": "code",
   "execution_count": null,
   "id": "58",
   "metadata": {},
   "outputs": [],
   "source": [
    "names[idx]"
   ]
  },
  {
   "cell_type": "markdown",
   "id": "59",
   "metadata": {},
   "source": [
    "## 🔗 Finding Unique Elements\n",
    "NumPy provides `np.unique()` for identifying unique elements in an array. You can also retrieve additional information, such as indices or counts.\n"
   ]
  },
  {
   "cell_type": "markdown",
   "id": "60",
   "metadata": {},
   "source": [
    "### Key Features of `np.unique()`:\n",
    "- Find unique elements: Returns the sorted unique elements in the array.\n",
    "- Return indices: Identify the positions of unique elements in the original array.\n",
    "- Return counts: Count occurrences of unique elements.\n"
   ]
  },
  {
   "cell_type": "code",
   "execution_count": null,
   "id": "61",
   "metadata": {},
   "outputs": [],
   "source": [
    "data = np.array([1, 2, 2, 3, 3, 3, 4, 4, 4, 4])"
   ]
  },
  {
   "cell_type": "code",
   "execution_count": null,
   "id": "62",
   "metadata": {},
   "outputs": [],
   "source": [
    "# Find unique elements\n",
    "np.unique(data)"
   ]
  },
  {
   "cell_type": "code",
   "execution_count": null,
   "id": "63",
   "metadata": {},
   "outputs": [],
   "source": [
    "# Return unique elements with their counts\n",
    "unique_elements, counts = np.unique(data, return_counts=True)\n",
    "unique_elements"
   ]
  },
  {
   "cell_type": "code",
   "execution_count": null,
   "id": "64",
   "metadata": {},
   "outputs": [],
   "source": [
    "counts"
   ]
  },
  {
   "cell_type": "code",
   "execution_count": null,
   "id": "65",
   "metadata": {},
   "outputs": [],
   "source": [
    "# Return indices of the first occurrences\n",
    "unique_elements, indices = np.unique(data, return_index=True)\n",
    "indices"
   ]
  },
  {
   "cell_type": "markdown",
   "id": "66",
   "metadata": {},
   "source": [
    "### Unique in 2D Arrays\n",
    "By default, `np.unique()` flattens the input array. Use the `axis` parameter to find unique rows or columns.\n"
   ]
  },
  {
   "cell_type": "code",
   "execution_count": null,
   "id": "67",
   "metadata": {},
   "outputs": [],
   "source": [
    "matrix = np.array([[1, 2], [3, 4], [1, 2]])"
   ]
  },
  {
   "cell_type": "code",
   "execution_count": null,
   "id": "68",
   "metadata": {},
   "outputs": [],
   "source": [
    "# Unique rows\n",
    "np.unique(matrix, axis=0)"
   ]
  },
  {
   "cell_type": "markdown",
   "id": "69",
   "metadata": {},
   "source": [
    "```{tip} \n",
    "Use `return_counts=True` to analyze frequency distributions in datasets, useful for exploratory data analysis.\n",
    "```\n"
   ]
  },
  {
   "cell_type": "markdown",
   "id": "70",
   "metadata": {},
   "source": [
    "## Summary of Methods\n",
    "\n",
    "| Function             | Purpose                                     |\n",
    "|----------------------|---------------------------------------------|\n",
    "| `np.max()` / `np.min()` | Maximum/minimum value of an array          |\n",
    "| `np.argmax()` / `np.argmin()` | Indices of maximum/minimum values          |\n",
    "| `np.zeros()` / `np.ones()` | Preallocate arrays with zeros or ones         |\n",
    "| `np.empty()`         | Preallocate an uninitialized array         |\n",
    "| `np.sort()`          | Return a sorted array                      |\n",
    "| `np.argsort()`       | Return indices to sort the array           |\n",
    "| `np.lexsort()`       | Sort based on multiple keys                |\n",
    "| `np.unique()`        | Find unique elements, indices, and counts  |\n",
    "\n",
    "\n"
   ]
  },
  {
   "cell_type": "markdown",
   "id": "71",
   "metadata": {},
   "source": [
    "## 🎲 Random Number Generation\n",
    "\n",
    "Generate random numbers for simulations or initializing models:\n"
   ]
  },
  {
   "cell_type": "code",
   "execution_count": null,
   "id": "72",
   "metadata": {},
   "outputs": [],
   "source": [
    "rng = np.random.default_rng()\n",
    "rng.random(5)  # 5 random numbers between 0 and 1"
   ]
  },
  {
   "cell_type": "markdown",
   "id": "73",
   "metadata": {},
   "source": [
    "\n",
    "For random integers:"
   ]
  },
  {
   "cell_type": "code",
   "execution_count": null,
   "id": "74",
   "metadata": {},
   "outputs": [],
   "source": [
    "rng.integers(10, size=(2, 3))  # Random integers from 0 to 9"
   ]
  },
  {
   "cell_type": "markdown",
   "id": "75",
   "metadata": {},
   "source": [
    "## 📂 Saving and Loading Data\n"
   ]
  },
  {
   "cell_type": "markdown",
   "id": "76",
   "metadata": {},
   "source": [
    "### Binary Format:\n",
    "\n",
    "Binary files are faster to read and write compared to text files.\n",
    "\n",
    "- Save:"
   ]
  },
  {
   "cell_type": "code",
   "execution_count": null,
   "id": "77",
   "metadata": {},
   "outputs": [],
   "source": [
    "np.save(\"array.npy\", a)"
   ]
  },
  {
   "cell_type": "markdown",
   "id": "78",
   "metadata": {},
   "source": [
    "- Load:"
   ]
  },
  {
   "cell_type": "code",
   "execution_count": null,
   "id": "79",
   "metadata": {},
   "outputs": [],
   "source": [
    "b = np.load(\"array.npy\")\n",
    "b"
   ]
  },
  {
   "cell_type": "markdown",
   "id": "80",
   "metadata": {},
   "source": [
    "### Text Format:\n",
    "\n",
    "Text files are human-readable and can be opened in any text editor.\n",
    "\n",
    "- Save as CSV:"
   ]
  },
  {
   "cell_type": "code",
   "execution_count": null,
   "id": "81",
   "metadata": {},
   "outputs": [],
   "source": [
    "np.savetxt(\"array.csv\", a, delimiter=\",\")"
   ]
  },
  {
   "cell_type": "markdown",
   "id": "82",
   "metadata": {},
   "source": [
    "- Load from CSV:"
   ]
  },
  {
   "cell_type": "code",
   "execution_count": null,
   "id": "83",
   "metadata": {},
   "outputs": [],
   "source": [
    "c = np.loadtxt(\"array.csv\", delimiter=\",\")\n",
    "c"
   ]
  },
  {
   "cell_type": "markdown",
   "id": "84",
   "metadata": {},
   "source": [
    "## 📖 Getting Help\n",
    "\n",
    "Need help with NumPy functions? Use Python’s built-in `help()` function or IPython's `?`:\n"
   ]
  },
  {
   "cell_type": "code",
   "execution_count": null,
   "id": "85",
   "metadata": {},
   "outputs": [],
   "source": [
    "help(np.array)  # Built-in documentation"
   ]
  },
  {
   "cell_type": "code",
   "execution_count": null,
   "id": "86",
   "metadata": {},
   "outputs": [],
   "source": [
    "np.array?"
   ]
  },
  {
   "cell_type": "markdown",
   "id": "87",
   "metadata": {},
   "source": [
    "\n",
    "For even more details, use `??`:"
   ]
  },
  {
   "cell_type": "code",
   "execution_count": null,
   "id": "88",
   "metadata": {},
   "outputs": [],
   "source": [
    "np.array??"
   ]
  },
  {
   "cell_type": "markdown",
   "id": "89",
   "metadata": {},
   "source": [
    "## 🧑‍🏫 Working with Mathematical Formulas\n",
    "\n",
    "NumPy simplifies mathematical operations on arrays. For example, the Mean Squared Error (MSE) formula:\n",
    "\n",
    "$$\n",
    "\\text{MSE} = \\frac{1}{n} \\sum_{i=1}^{n} (y_i - \\hat{y}_i)^2\n",
    "$$\n",
    "\n",
    "Implementation in NumPy:\n"
   ]
  },
  {
   "cell_type": "code",
   "execution_count": null,
   "id": "90",
   "metadata": {},
   "outputs": [],
   "source": [
    "labels = np.array([1, 2, 3])\n",
    "predictions = np.array([1.1, 1.9, 3.2])\n",
    "mse = np.mean((labels - predictions) ** 2)\n",
    "mse"
   ]
  },
  {
   "cell_type": "markdown",
   "id": "91",
   "metadata": {},
   "source": [
    "## 🧮 Advanced Mathematical Operations in NumPy\n",
    "\n",
    "NumPy is packed with mathematical tools for handling arrays, from basic arithmetic to more advanced mathematical operations. Here's an overview of the most useful ones:\n",
    "\n"
   ]
  },
  {
   "cell_type": "markdown",
   "id": "92",
   "metadata": {},
   "source": [
    "### 1️⃣ Basic Element-Wise Operations\n",
    "NumPy performs operations element-wise by default. You can add, subtract, multiply, or divide arrays easily:\n"
   ]
  },
  {
   "cell_type": "code",
   "execution_count": null,
   "id": "93",
   "metadata": {},
   "outputs": [],
   "source": [
    "a = np.array([1, 2, 3, 4])\n",
    "b = np.array([5, 6, 7, 8])"
   ]
  },
  {
   "cell_type": "code",
   "execution_count": null,
   "id": "94",
   "metadata": {},
   "outputs": [],
   "source": [
    "# Addition\n",
    "a + b"
   ]
  },
  {
   "cell_type": "code",
   "execution_count": null,
   "id": "95",
   "metadata": {},
   "outputs": [],
   "source": [
    "# Subtraction\n",
    "a - b"
   ]
  },
  {
   "cell_type": "code",
   "execution_count": null,
   "id": "96",
   "metadata": {},
   "outputs": [],
   "source": [
    "# Multiplication\n",
    "a * b"
   ]
  },
  {
   "cell_type": "code",
   "execution_count": null,
   "id": "97",
   "metadata": {},
   "outputs": [],
   "source": [
    "# Division\n",
    "a / b"
   ]
  },
  {
   "cell_type": "markdown",
   "id": "98",
   "metadata": {},
   "source": [
    "```{note}\n",
    "If you combine arrays of different shapes, NumPy will attempt broadcasting.\n",
    "```\n"
   ]
  },
  {
   "cell_type": "markdown",
   "id": "99",
   "metadata": {},
   "source": [
    "### 2️⃣ Power and Exponentials\n",
    "- Exponentiation: Use `np.exp()` to compute the exponential of all elements in the array.\n",
    "- Powers: Raise elements to a power using `np.power()` or the `**` operator.\n",
    "- Logarithms: Use `np.log()` for natural log, `np.log10()` for base-10 log.\n"
   ]
  },
  {
   "cell_type": "code",
   "execution_count": null,
   "id": "100",
   "metadata": {},
   "outputs": [],
   "source": [
    "x = np.array([1, 2, 3, 4])"
   ]
  },
  {
   "cell_type": "code",
   "execution_count": null,
   "id": "101",
   "metadata": {},
   "outputs": [],
   "source": [
    "# Exponential\n",
    "np.exp(x)"
   ]
  },
  {
   "cell_type": "code",
   "execution_count": null,
   "id": "102",
   "metadata": {},
   "outputs": [],
   "source": [
    "# Powers\n",
    "np.power(x, 3)  # Cube every element"
   ]
  },
  {
   "cell_type": "code",
   "execution_count": null,
   "id": "103",
   "metadata": {},
   "outputs": [],
   "source": [
    "# Natural log\n",
    "np.log(x)"
   ]
  },
  {
   "cell_type": "code",
   "execution_count": null,
   "id": "104",
   "metadata": {},
   "outputs": [],
   "source": [
    "# Base-10 log\n",
    "np.log10(x)"
   ]
  },
  {
   "cell_type": "markdown",
   "id": "105",
   "metadata": {},
   "source": [
    "### 3️⃣ Trigonometric Functions\n",
    "NumPy supports trigonometric functions like sine, cosine, and tangent. All angles are in radians by default.\n"
   ]
  },
  {
   "cell_type": "code",
   "execution_count": null,
   "id": "106",
   "metadata": {},
   "outputs": [],
   "source": [
    "angles = np.array([0, np.pi / 2, np.pi])"
   ]
  },
  {
   "cell_type": "code",
   "execution_count": null,
   "id": "107",
   "metadata": {},
   "outputs": [],
   "source": [
    "# Sine\n",
    "np.sin(angles)"
   ]
  },
  {
   "cell_type": "code",
   "execution_count": null,
   "id": "108",
   "metadata": {},
   "outputs": [],
   "source": [
    "# Cosine\n",
    "np.cos(angles)"
   ]
  },
  {
   "cell_type": "code",
   "execution_count": null,
   "id": "109",
   "metadata": {},
   "outputs": [],
   "source": [
    "# Tangent\n",
    "np.tan(angles)"
   ]
  },
  {
   "cell_type": "markdown",
   "id": "110",
   "metadata": {},
   "source": [
    "\n",
    "Other trigonometric methods include:\n",
    "- `np.arcsin()`, `np.arccos()`, `np.arctan()` for inverse trigonometric functions.\n",
    "- `np.deg2rad()` and `np.rad2deg()` for converting between degrees and radians.\n",
    "\n"
   ]
  },
  {
   "cell_type": "markdown",
   "id": "111",
   "metadata": {},
   "source": [
    "### 4️⃣ Statistics\n",
    "NumPy provides many statistical methods for arrays:\n",
    "- `np.mean()`: Mean (average).\n",
    "- `np.median()`: Median.\n",
    "- `np.std()`: Standard deviation.\n",
    "- `np.var()`: Variance.\n",
    "- `np.min()` and `np.max()`: Minimum and maximum values.\n",
    "- `np.percentile()`: Compute the nth percentile.\n"
   ]
  },
  {
   "cell_type": "code",
   "execution_count": null,
   "id": "112",
   "metadata": {},
   "outputs": [],
   "source": [
    "data = np.array([1, 2, 3, 4, 5])"
   ]
  },
  {
   "cell_type": "code",
   "execution_count": null,
   "id": "113",
   "metadata": {},
   "outputs": [],
   "source": [
    "# Mean\n",
    "np.mean(data)"
   ]
  },
  {
   "cell_type": "code",
   "execution_count": null,
   "id": "114",
   "metadata": {},
   "outputs": [],
   "source": [
    "# Median\n",
    "np.median(data)"
   ]
  },
  {
   "cell_type": "code",
   "execution_count": null,
   "id": "115",
   "metadata": {},
   "outputs": [],
   "source": [
    "# Standard deviation\n",
    "np.std(data)"
   ]
  },
  {
   "cell_type": "code",
   "execution_count": null,
   "id": "116",
   "metadata": {},
   "outputs": [],
   "source": [
    "# Variance\n",
    "np.var(data)"
   ]
  },
  {
   "cell_type": "code",
   "execution_count": null,
   "id": "117",
   "metadata": {},
   "outputs": [],
   "source": [
    "# Percentile\n",
    "np.percentile(data, 50)  # Median"
   ]
  },
  {
   "cell_type": "markdown",
   "id": "118",
   "metadata": {},
   "source": [
    "### 5️⃣ Linear Algebra\n",
    "Linear algebra operations are critical for many engineering and scientific applications. NumPy provides `np.linalg` for this purpose:\n",
    "\n",
    "```{tip}\n",
    "If you are currently enrolled in a linear algebra course, you can use NumPy to check your answers.\n",
    "```\n"
   ]
  },
  {
   "cell_type": "code",
   "execution_count": null,
   "id": "119",
   "metadata": {},
   "outputs": [],
   "source": [
    "# Define a 2D matrix\n",
    "matrix = np.array([[1, 2], [3, 4]])"
   ]
  },
  {
   "cell_type": "code",
   "execution_count": null,
   "id": "120",
   "metadata": {},
   "outputs": [],
   "source": [
    "# Transpose\n",
    "matrix.T"
   ]
  },
  {
   "cell_type": "code",
   "execution_count": null,
   "id": "121",
   "metadata": {},
   "outputs": [],
   "source": [
    "# Matrix Multiplication\n",
    "np.dot(matrix, matrix)"
   ]
  },
  {
   "cell_type": "code",
   "execution_count": null,
   "id": "122",
   "metadata": {},
   "outputs": [],
   "source": [
    "# Determinant\n",
    "np.linalg.det(matrix)"
   ]
  },
  {
   "cell_type": "code",
   "execution_count": null,
   "id": "123",
   "metadata": {},
   "outputs": [],
   "source": [
    "# Eigenvalues and Eigenvectors\n",
    "eigvals, eigvecs = np.linalg.eig(matrix)\n",
    "\n",
    "print(\"eignvalues: \", eigvals)\n",
    "print(\"eigenvectors: \", eigvecs)"
   ]
  },
  {
   "cell_type": "markdown",
   "id": "124",
   "metadata": {},
   "source": [
    "\n",
    "Additional methods:\n",
    "- `np.linalg.inv()`: Matrix inverse.\n",
    "- `np.linalg.norm()`: Vector or matrix norm.\n",
    "- `np.linalg.qr()`: QR decomposition.\n",
    "- `np.linalg.svd()`: Singular Value Decomposition (SVD).\n",
    "\n"
   ]
  },
  {
   "cell_type": "markdown",
   "id": "125",
   "metadata": {},
   "source": [
    "### 6️⃣ Sorting and Searching\n",
    "- Sorting: Use `np.sort()` to sort elements in ascending order.\n",
    "- Search for Elements: Use `np.where()` to find indices of elements that match a condition.\n"
   ]
  },
  {
   "cell_type": "code",
   "execution_count": null,
   "id": "126",
   "metadata": {},
   "outputs": [],
   "source": [
    "data = np.array([3, 1, 4, 1, 5])\n",
    "\n",
    "# Sort the array\n",
    "np.sort(data)"
   ]
  },
  {
   "cell_type": "code",
   "execution_count": null,
   "id": "127",
   "metadata": {},
   "outputs": [],
   "source": [
    "# Find indices of elements greater than 3\n",
    "np.where(data > 3)"
   ]
  },
  {
   "cell_type": "markdown",
   "id": "128",
   "metadata": {},
   "source": [
    "### 7️⃣ Aggregations\n",
    "Aggregate methods operate along entire arrays or specified axes:\n",
    "- `np.sum()`: Sum of elements.\n",
    "- `np.prod()`: Product of elements.\n",
    "- `np.cumsum()`: Cumulative sum.\n",
    "- `np.cumprod()`: Cumulative product.\n"
   ]
  },
  {
   "cell_type": "code",
   "execution_count": null,
   "id": "129",
   "metadata": {},
   "outputs": [],
   "source": [
    "data = np.array([1, 2, 3, 4])"
   ]
  },
  {
   "cell_type": "code",
   "execution_count": null,
   "id": "130",
   "metadata": {},
   "outputs": [],
   "source": [
    "# Sum of all elements\n",
    "np.sum(data)"
   ]
  },
  {
   "cell_type": "code",
   "execution_count": null,
   "id": "131",
   "metadata": {},
   "outputs": [],
   "source": [
    "# Product of all elements\n",
    "np.prod(data)"
   ]
  },
  {
   "cell_type": "code",
   "execution_count": null,
   "id": "132",
   "metadata": {},
   "outputs": [],
   "source": [
    "# Cumulative sum\n",
    "np.cumsum(data)"
   ]
  },
  {
   "cell_type": "code",
   "execution_count": null,
   "id": "133",
   "metadata": {},
   "outputs": [],
   "source": [
    "# Cumulative product\n",
    "np.cumprod(data)"
   ]
  },
  {
   "cell_type": "markdown",
   "id": "134",
   "metadata": {},
   "source": [
    "### 8️⃣ Clipping and Rounding\n",
    "- Clipping: Restrict array values within a range using `np.clip()`.\n",
    "- Rounding: Round values using `np.round()`, `np.floor()`, `np.ceil()`, etc.\n"
   ]
  },
  {
   "cell_type": "code",
   "execution_count": null,
   "id": "135",
   "metadata": {},
   "outputs": [],
   "source": [
    "data = np.array([1.2, 2.5, 3.7, 4.4])"
   ]
  },
  {
   "cell_type": "code",
   "execution_count": null,
   "id": "136",
   "metadata": {},
   "outputs": [],
   "source": [
    "# Clip values between 2 and 4\n",
    "np.clip(data, 2, 4)"
   ]
  },
  {
   "cell_type": "code",
   "execution_count": null,
   "id": "137",
   "metadata": {},
   "outputs": [],
   "source": [
    "# Round values\n",
    "np.round(data)"
   ]
  },
  {
   "cell_type": "code",
   "execution_count": null,
   "id": "138",
   "metadata": {},
   "outputs": [],
   "source": [
    "# Floor and Ceil\n",
    "np.floor(data)  # Round down"
   ]
  },
  {
   "cell_type": "code",
   "execution_count": null,
   "id": "139",
   "metadata": {},
   "outputs": [],
   "source": [
    "np.ceil(data)  # Round up"
   ]
  },
  {
   "cell_type": "markdown",
   "id": "140",
   "metadata": {},
   "source": [
    "### 9️⃣ Random Sampling\n",
    "Use `np.random` to generate random values for simulations:\n",
    "- `np.random.random()`: Uniform random values.\n",
    "- `np.random.normal()`: Random values from a normal distribution.\n",
    "- `np.random.randint()`: Random integers within a range.\n"
   ]
  },
  {
   "cell_type": "code",
   "execution_count": null,
   "id": "141",
   "metadata": {},
   "outputs": [],
   "source": [
    "# Random values between 0 and 1\n",
    "np.random.random(5)"
   ]
  },
  {
   "cell_type": "code",
   "execution_count": null,
   "id": "142",
   "metadata": {},
   "outputs": [],
   "source": [
    "# Random integers between 10 and 20\n",
    "np.random.randint(10, 20, size=5)"
   ]
  },
  {
   "cell_type": "markdown",
   "id": "143",
   "metadata": {},
   "source": [
    "\n",
    "\n",
    "These mathematical tools make NumPy the backbone of scientific computing in Python. With these methods, you can efficiently handle numerical data for any engineering, research, or data science task! 🚀"
   ]
  }
 ],
 "metadata": {
  "kernelspec": {
   "display_name": "engr131_dev",
   "language": "python",
   "name": "python3"
  },
  "language_info": {
   "codemirror_mode": {
    "name": "ipython",
    "version": 3
   },
   "file_extension": ".py",
   "mimetype": "text/x-python",
   "name": "python",
   "nbconvert_exporter": "python",
   "pygments_lexer": "ipython3",
   "version": "3.12.7"
  }
 },
 "nbformat": 4,
 "nbformat_minor": 5
}
