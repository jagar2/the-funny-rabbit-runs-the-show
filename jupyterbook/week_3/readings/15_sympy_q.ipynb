{
 "cells": [
  {
   "cell_type": "code",
   "execution_count": null,
   "metadata": {
    "deletable": false,
    "editable": false,
    "tags": [
     "skip-execution"
    ]
   },
   "outputs": [],
   "source": [
    "# You must make sure to run all cells in sequence using shift + enter or you might encounter errors\n",
    "from pykubegrader.initialize import initialize_assignment\n",
    "\n",
    "responses = initialize_assignment(\"15_sympy_q\", \"week_3\", \"readings\", assignment_points = 23.0, assignment_tag = 'week3-readings')\n",
    "\n",
    "# Initialize Otter\n",
    "import otter\n",
    "grader = otter.Notebook(\"15_sympy_q.ipynb\")"
   ]
  },
  {
   "cell_type": "markdown",
   "metadata": {
    "deletable": false,
    "editable": false
   },
   "source": [
    "# ❓ ❌ Eliminate or ✅ Evaluate: Surviving the Sympy 🦑 Challenge!\n",
    "\n",
    "![](./assets/figures/squid-business-card.webp)"
   ]
  },
  {
   "cell_type": "code",
   "execution_count": null,
   "metadata": {
    "tags": [
     "skip-execution"
    ]
   },
   "outputs": [],
   "source": [
    "# Run this block of code by pressing Shift + Enter to display the question\n",
    "from questions._15_sympy_q import Question1\n",
    "Question1().show()\n"
   ]
  },
  {
   "cell_type": "code",
   "execution_count": null,
   "metadata": {
    "tags": [
     "skip-execution"
    ]
   },
   "outputs": [],
   "source": [
    "# Run this block of code by pressing Shift + Enter to display the question\n",
    "from questions._15_sympy_q import Question2\n",
    "Question2().show()\n"
   ]
  },
  {
   "cell_type": "code",
   "execution_count": null,
   "metadata": {
    "tags": [
     "skip-execution"
    ]
   },
   "outputs": [],
   "source": [
    "# Run this block of code by pressing Shift + Enter to display the question\n",
    "from questions._15_sympy_q import Question3\n",
    "Question3().show()\n"
   ]
  },
  {
   "cell_type": "markdown",
   "metadata": {
    "deletable": false,
    "editable": false
   },
   "source": [
    "## Dalgona Cookie Break Equation\n",
    "\n",
    "![](./assets/figures/umbrella-cookie.webp)\n",
    "\n",
    "### Instructions:\n",
    "In the \"Dalgona Cookie Challenge,\" the break strength of the cookie is modeled by the equation $x^2 + y^2 - 1 = 0$. Use SymPy to:\n",
    "1. Solve the equation for $x$ and $y$ over the real numbers.\n",
    "2. Return the symbolic solution. You can do this by using the Eq() function. Please assign the equation to the variable `equation`\n",
    "3. Plot the circle function $x^2 + y^2 = 1$ over the range $[-1.5, 1.5]$.\n",
    "\n",
    "Your solution must include:\n",
    "1. The import statements for Sympy -- you can use the * wildcard to import all functions.\n",
    "2. In the function `solve_cookie_circle()` provided for you:\n",
    "   - Defines the equation for a circle. Using the 'Eq()' function.\n"
   ]
  },
  {
   "cell_type": "code",
   "execution_count": null,
   "metadata": {
    "tags": [
     "skip-execution"
    ]
   },
   "outputs": [],
   "source": [
    "# Add the correct imports for SymPy\n",
    "...\n",
    "\n",
    "# define the symbols x and y\n",
    "...\n",
    "\n",
    "def solve_cookie_circle():\n",
    "    # Define the equation for the circle\n",
    "    ...\n",
    "    \n",
    "    return equation\n",
    "\n",
    "# DO NOT CHANGE THE CODE BELOW\n",
    "# This code is used to plot the circle\n",
    "\n",
    "def plot_circle():\n",
    "    equation = solve_cookie_circle()\n",
    "    p = plot_implicit(\n",
    "        equation,\n",
    "        (x, -1.5, 1.5),\n",
    "        (y, -1.5, 1.5),\n",
    "        title=\"Circle Shape: Cookie Break\",\n",
    "        xlabel=\"x\",\n",
    "        ylabel=\"y\",\n",
    "    )\n",
    "    return p\n",
    "\n",
    "\n",
    "# Example test case\n",
    "equation = solve_cookie_circle()\n",
    "print(f\"Equation for Cookie Circle: {equation}\")\n",
    "plot_circle()"
   ]
  },
  {
   "cell_type": "code",
   "execution_count": null,
   "metadata": {
    "deletable": false,
    "editable": false,
    "tags": [
     "skip-execution"
    ]
   },
   "outputs": [],
   "source": [
    "grader.check(\"cookie-break-equation\")"
   ]
  },
  {
   "cell_type": "markdown",
   "metadata": {
    "deletable": false,
    "editable": false
   },
   "source": [
    "## Ddakji Flip Card System Analysis\n",
    "\n",
    "![](./assets/figures/filp-game-1.jpg)\n",
    "\n",
    "### Instructions:\n",
    "In Ddakji the \"Flip Card\" game, a nonlinear system of equations models the flipping dynamics:\n",
    "\n",
    "$$[\n",
    "xy = 1, \\\n",
    "x - 2 = 0\n",
    "]$$\n",
    "\n",
    "Use SymPy to:\n",
    "1. Solve the nonlinear system of equations.\n",
    "2. Return the symbolic solution.\n",
    "\n",
    "Your solution must include:\n",
    "1. A function `analyze_flip_card()` that:\n",
    "   - Defines the system of equations to the variable `equations`. To do this, you should solve each expression such that it equals zero. `equations` should be a list of the two equations.\n",
    "   - Solves it using `nonlinsolve`. If you need help use the help() function. Assign the solution to the variable `solution`.\n",
    "   - Returns the solution. We have provided the return statement for you.\n"
   ]
  },
  {
   "cell_type": "code",
   "execution_count": null,
   "metadata": {
    "tags": [
     "skip-execution"
    ]
   },
   "outputs": [],
   "source": [
    "# Import SymPy\n",
    "...\n",
    "\n",
    "def analyze_flip_card():\n",
    "    # Define the SymPy symbols\n",
    "    ...\n",
    "    \n",
    "    # Define the equations for the Flip Card System\n",
    "    ...\n",
    "    \n",
    "    # Solve the equations using non-linear solver nonlinsolve\n",
    "    ...\n",
    "    return solution\n",
    "\n",
    "\n",
    "# Example test case\n",
    "solution = analyze_flip_card()\n",
    "print(f\"Flip Card System Solution: {solution}\")"
   ]
  },
  {
   "cell_type": "code",
   "execution_count": null,
   "metadata": {
    "deletable": false,
    "editable": false,
    "tags": [
     "skip-execution"
    ]
   },
   "outputs": [],
   "source": [
    "grader.check(\"cookie-break-equation\")"
   ]
  },
  {
   "cell_type": "markdown",
   "id": "11",
   "metadata": {},
   "source": [
    "## Submitting Assignment\n",
    "\n",
    "Please run the following block of code using `shift + enter` to submit your assignment, you should see your score."
   ]
  },
  {
   "cell_type": "code",
   "execution_count": null,
   "id": "12",
   "metadata": {
    "deletable": false,
    "editable": false,
    "tags": [
     "skip-execution"
    ]
   },
   "outputs": [],
   "source": [
    "from pykubegrader.submit.submit_assignment import submit_assignment\n",
    "\n",
    "submit_assignment(\"week3-readings\", \"15_sympy_q\")"
   ]
  }
 ],
 "metadata": {
  "kernelspec": {
   "display_name": "engr131_dev",
   "language": "python",
   "name": "python3"
  },
  "language_info": {
   "codemirror_mode": {
    "name": "ipython",
    "version": 3
   },
   "file_extension": ".py",
   "mimetype": "text/x-python",
   "name": "python",
   "nbconvert_exporter": "python",
   "pygments_lexer": "ipython3",
   "version": "3.12.7"
  },
  "otter": {
   "OK_FORMAT": true,
   "tests": {
    "cookie-break-equation": {
     "name": "cookie-break-equation",
     "points": null,
     "suites": [
      {
       "cases": [
        {
         "code": ">>> from pykubegrader.telemetry import ensure_responses, log_variable, score_question, submit_question, telemetry, update_responses\n>>> import os\n>>> import sys\n>>> max_question_points = str(12.0)\n>>> earned_points = 0\n>>> os.environ['EARNED_POINTS'] = str(earned_points)\n>>> os.environ['TOTAL_POINTS_FREE_RESPONSE'] = str(12.0)\n>>> log_variable('total-points', f'Reading-Week-X, 15_sympy_q', 12.0)\n>>> question_id = 'cookie-break-equation-1'\n>>> max_score = 1.0\n>>> score = 0\n>>> sympy_in_modules = 'sympy' in sys.modules\n>>> assert sympy_in_modules, \"You must import sympy in this notebook (e.g., 'from sympy import *' or 'import sympy').\"\n>>> if sympy_in_modules:\n...     score = 1.0\n>>> earned_points = float(os.environ.get('EARNED_POINTS', 0))\n>>> earned_points += score\n>>> log_variable('15_sympy_q', f'{score}, {max_score}', question_id)\n>>> os.environ['EARNED_POINTS'] = str(earned_points)\n>>> responses = update_responses(question_id, str(sympy_in_modules))\n",
         "failure_message": "Failed: Sympy is not imported in this notebook.",
         "hidden": false,
         "locked": false,
         "points": 1,
         "success_message": "Success: Sympy is imported in the global environment."
        },
        {
         "code": ">>> from pykubegrader.telemetry import ensure_responses, log_variable, score_question, submit_question, telemetry, update_responses\n>>> import os\n>>> import sympy\n>>> question_id = 'cookie-break-equation-2'\n>>> max_score = 1.0\n>>> score = 0\n>>> x_in_globals = 'x' in globals()\n>>> y_in_globals = 'y' in globals()\n>>> assert x_in_globals and y_in_globals, 'You must define x, y as global variables in this Jupyter notebook.'\n>>> x_is_symbol = isinstance(globals()['x'], sympy.Symbol)\n>>> y_is_symbol = isinstance(globals()['y'], sympy.Symbol)\n>>> assert x_is_symbol and y_is_symbol, 'x and y must both be instances of sympy.Symbol.'\n>>> if (x_in_globals and y_in_globals) and (x_is_symbol and y_is_symbol):\n...     score = 1.0\n>>> earned_points = float(os.environ.get('EARNED_POINTS', 0))\n>>> earned_points += score\n>>> log_variable('15_sympy_q', f'{score}, {max_score}', question_id)\n>>> os.environ['EARNED_POINTS'] = str(earned_points)\n>>> responses = update_responses(question_id, str(x_in_globals))\n>>> responses = update_responses(question_id, str(y_in_globals))\n>>> responses = update_responses(question_id, str(x_is_symbol))\n>>> responses = update_responses(question_id, str(y_is_symbol))\n",
         "failure_message": "Failed: x and y must be global Sympy symbols in the notebook.",
         "hidden": false,
         "locked": false,
         "points": 1,
         "success_message": "Success: x and y exist in notebook globals and are Sympy symbols."
        },
        {
         "code": ">>> from pykubegrader.telemetry import ensure_responses, log_variable, score_question, submit_question, telemetry, update_responses\n>>> import os\n>>> import re\n>>> import inspect\n>>> question_id = 'cookie-break-equation-3'\n>>> max_score = 1.0\n>>> score = 0\n>>> code = inspect.getsource(solve_cookie_circle)\n>>> equation_pattern = 'equation\\\\s*=\\\\s*Eq\\\\s*\\\\(\\\\s*x\\\\**2\\\\s*\\\\+\\\\s*y\\\\**2\\\\s*,\\\\s*1\\\\s*\\\\)'\n>>> equation_pattern_found = bool(re.search(equation_pattern, code))\n>>> assert equation_pattern_found, \"You must define 'equation = Eq(x**2 + y**2, 1)' in solve_cookie_circle.\"\n>>> if equation_pattern_found:\n...     score = 1.0\n>>> earned_points = float(os.environ.get('EARNED_POINTS', 0))\n>>> earned_points += score\n>>> log_variable('15_sympy_q', f'{score}, {max_score}', question_id)\n>>> os.environ['EARNED_POINTS'] = str(earned_points)\n>>> responses = update_responses(question_id, str(equation_pattern_found))\n",
         "failure_message": "Failed: You must define equation = Eq(x**2 + y**2, 1) in solve_cookie_circle.",
         "hidden": false,
         "locked": false,
         "points": 1,
         "success_message": "Success: equation is defined with Eq(x**2 + y**2, 1) inside solve_cookie_circle."
        },
        {
         "code": ">>> from pykubegrader.telemetry import ensure_responses, log_variable, score_question, submit_question, telemetry, update_responses\n>>> import os\n>>> from sympy import Eq, Symbol\n>>> question_id = 'cookie-break-equation-4'\n>>> max_score = 2.0\n>>> score = 0\n>>> expected_equation = Eq(x ** 2 + y ** 2, 1)\n>>> actual_equation = solve_cookie_circle()\n>>> assert actual_equation == expected_equation, f'Expected {expected_equation}, but got {actual_equation}.'\n>>> if actual_equation == expected_equation:\n...     score = 2.0\n>>> earned_points = float(os.environ.get('EARNED_POINTS', 0))\n>>> earned_points += score\n>>> log_variable('15_sympy_q', f'{score}, {max_score}', question_id)\n>>> os.environ['EARNED_POINTS'] = str(earned_points)\n>>> responses = update_responses(question_id, str(actual_equation))\n>>> responses = update_responses(question_id, str(expected_equation))\n",
         "failure_message": "Failed: The returned equation from solve_cookie_circle() is incorrect.",
         "hidden": false,
         "locked": false,
         "points": 2,
         "success_message": "Success: solve_cookie_circle() returns the expected equation Eq(x**2 + y**2, 1)."
        },
        {
         "code": ">>> from pykubegrader.telemetry import ensure_responses, log_variable, score_question, submit_question, telemetry, update_responses\n>>> import os\n>>> import sys\n>>> question_id = 'cookie-break-equation-5'\n>>> max_score = 1.0\n>>> score = 0\n>>> sympy_in_modules = 'sympy' in sys.modules\n>>> assert sympy_in_modules, \"You must import Sympy (e.g. 'from sympy import *') in this notebook.\"\n>>> if sympy_in_modules:\n...     score = 1.0\n>>> earned_points = float(os.environ.get('EARNED_POINTS', 0))\n>>> earned_points += score\n>>> log_variable('15_sympy_q', f'{score}, {max_score}', question_id)\n>>> os.environ['EARNED_POINTS'] = str(earned_points)\n>>> responses = update_responses(question_id, str(sympy_in_modules))\n",
         "failure_message": "Failed: Sympy is not imported in this notebook.",
         "hidden": false,
         "locked": false,
         "points": 1,
         "success_message": "Success: Sympy has been imported in this notebook."
        },
        {
         "code": ">>> from pykubegrader.telemetry import ensure_responses, log_variable, score_question, submit_question, telemetry, update_responses\n>>> import os\n>>> import re\n>>> import inspect\n>>> question_id = 'cookie-break-equation-6'\n>>> max_score = 3.0\n>>> score = 0\n>>> code = inspect.getsource(analyze_flip_card)\n>>> symbols_pattern = 'x\\\\s*,\\\\s*y\\\\s*=\\\\s*symbols\\\\s*\\\\(\\\\s*[\\\\\"\\']x\\\\s+y[\\\\\"\\']\\\\s*\\\\)'\n>>> symbols_pattern_found = bool(re.search(symbols_pattern, code))\n>>> equations_pattern = 'equations\\\\s*=\\\\s*\\\\[\\\\s*x\\\\s*\\\\*\\\\s*y\\\\s*-\\\\s*1\\\\s*,\\\\s*x\\\\s*-\\\\s*2\\\\s*\\\\]'\n>>> equations_pattern_found = bool(re.search(equations_pattern, code))\n>>> assert symbols_pattern_found and equations_pattern_found, \"The function must contain:\\n  x, y = symbols('x y')  and  equations = [x*y - 1, x - 2]\"\n>>> if (symbols_pattern_found and equations_pattern_found, \"The function must contain:\\n  x, y = symbols('x y')  and  equations = [x*y - 1, x - 2]\"):\n...     score = 3.0\n>>> earned_points = float(os.environ.get('EARNED_POINTS', 0))\n>>> earned_points += score\n>>> log_variable('15_sympy_q', f'{score}, {max_score}', question_id)\n>>> os.environ['EARNED_POINTS'] = str(earned_points)\n>>> responses = update_responses(question_id, str(symbols_pattern_found))\n>>> responses = update_responses(question_id, str(equations_pattern_found))\n",
         "failure_message": "Failed: Missing the expected code lines in analyze_flip_card.",
         "hidden": false,
         "locked": false,
         "points": 3,
         "success_message": "Success: 'x, y = symbols(\"x y\")' and 'equations = [x * y - 1, x - 2]' appear in the function."
        },
        {
         "code": ">>> from pykubegrader.telemetry import ensure_responses, log_variable, score_question, submit_question, telemetry, update_responses\n>>> import os\n>>> import re\n>>> import inspect\n>>> question_id = 'cookie-break-equation-7'\n>>> max_score = 1.0\n>>> score = 0\n>>> code = inspect.getsource(analyze_flip_card)\n>>> nonlinsolve_pattern = 'solution\\\\s*=\\\\s*nonlinsolve\\\\s*\\\\(\\\\s*equations\\\\s*,\\\\s*\\\\[\\\\s*x\\\\s*,\\\\s*y\\\\s*\\\\]\\\\s*\\\\)'\n>>> nonlinsolve_pattern_found = bool(re.search(nonlinsolve_pattern, code))\n>>> assert nonlinsolve_pattern_found, 'Your function must call: solution = nonlinsolve(equations, [x, y]).'\n>>> if nonlinsolve_pattern_found:\n...     score = 1.0\n>>> earned_points = float(os.environ.get('EARNED_POINTS', 0))\n>>> earned_points += score\n>>> log_variable('15_sympy_q', f'{score}, {max_score}', question_id)\n>>> os.environ['EARNED_POINTS'] = str(earned_points)\n>>> responses = update_responses(question_id, str(nonlinsolve_pattern_found))\n",
         "failure_message": "Failed: You must call nonlinsolve(equations, [x, y]) inside analyze_flip_card.",
         "hidden": false,
         "locked": false,
         "points": 1,
         "success_message": "Success: 'solution = nonlinsolve(equations, [x, y])' is present."
        },
        {
         "code": ">>> from pykubegrader.telemetry import ensure_responses, log_variable, score_question, submit_question, telemetry, update_responses\n>>> import os\n>>> from sympy import FiniteSet\n>>> question_id = 'cookie-break-equation-8'\n>>> max_score = 2.0\n>>> score = 0\n>>> computed_solution = analyze_flip_card()\n>>> expected_solution = FiniteSet((2, 1 / Integer(2)))\n>>> assert computed_solution == expected_solution, f'Expected {expected_solution}, but got {computed_solution}.'\n>>> if computed_solution == expected_solution:\n...     score = 2.0\n>>> earned_points = float(os.environ.get('EARNED_POINTS', 0))\n>>> earned_points += score\n>>> log_variable('15_sympy_q', f'{score}, {max_score}', question_id)\n>>> os.environ['EARNED_POINTS'] = str(earned_points)\n>>> responses = update_responses(question_id, str(computed_solution))\n>>> responses = update_responses(question_id, str(expected_solution))\n",
         "failure_message": "Failed: The solution from analyze_flip_card() is incorrect.",
         "hidden": false,
         "locked": false,
         "points": 2,
         "success_message": "Success: analyze_flip_card() returns the correct solution {(2, 1/2)}."
        }
       ],
       "scored": true,
       "setup": "",
       "teardown": "",
       "type": "doctest"
      }
     ]
    }
   }
  }
 },
 "nbformat": 4,
 "nbformat_minor": 2
}
