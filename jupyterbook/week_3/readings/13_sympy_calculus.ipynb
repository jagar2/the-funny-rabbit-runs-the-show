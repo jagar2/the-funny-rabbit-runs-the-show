{
 "cells": [
  {
   "cell_type": "markdown",
   "id": "0",
   "metadata": {},
   "source": [
    "# 📖 🧮 **SymPy Calculus: Driving Engineering Solutions**\n",
    "\n",
    "SymPy isn't just for solving abstract math—it powers solutions for real-world engineering challenges, from ancient bridge designs to cutting-edge quantum tech. Let's see how! 🌟\n"
   ]
  },
  {
   "cell_type": "markdown",
   "id": "1",
   "metadata": {},
   "source": [
    "## ⚡ **Derivatives: The Mathematics of Change**\n",
    "\n",
    "Derivatives describe how things evolve, making them crucial for engineering design and analysis. SymPy handles everything from simple to multivariable derivatives.\n",
    "\n",
    "```{note}\n",
    "A derivative is a fancy way of saying \"how fast something is changing at a specific moment.\" Imagine you're driving, and your speedometer says 60 mph—that's your derivative, showing how quickly your position is changing over time. In math, it's like measuring the steepness (slope) of a hill on a graph: flat ground means zero change, while a steep hill means big change. For example, if your function is $(y = x^2)$, the derivative is $(2x)$, which tells you how fast $(y)$ (your height) is growing as $(x)$ (your position) increases. It’s the ultimate \"rate of change\" detective! 🚗📈\n",
    "```"
   ]
  },
  {
   "cell_type": "markdown",
   "id": "2",
   "metadata": {},
   "source": [
    "### Examples:\n",
    "\n",
    "- **Fuel Atomizer Design**: Optimizing the spray pattern in jet engines requires understanding the rate of change of liquid velocity:\n",
    "\n",
    "![](./assets/figures/atomizer.png)"
   ]
  },
  {
   "cell_type": "code",
   "execution_count": null,
   "id": "3",
   "metadata": {},
   "outputs": [],
   "source": [
    "from sympy import *\n",
    "\n",
    "x, y, z, r = symbols(\"x y z r\")\n",
    "\n",
    "velocity = exp(-(x**2))\n",
    "diff(velocity, x)"
   ]
  },
  {
   "cell_type": "markdown",
   "id": "4",
   "metadata": {},
   "source": [
    "\n",
    "- **Seismology**: Studying how stress waves propagate in Earth's crust:\n"
   ]
  },
  {
   "cell_type": "code",
   "execution_count": null,
   "id": "5",
   "metadata": {},
   "outputs": [],
   "source": [
    "stress_wave = exp(-x * y * z)\n",
    "diff(stress_wave, x, y, z)"
   ]
  },
  {
   "cell_type": "markdown",
   "id": "6",
   "metadata": {},
   "source": [
    "\n",
    "- **18th-Century Cannonball Trajectories**: The derivative of drag force was critical for modeling projectile motion:"
   ]
  },
  {
   "cell_type": "code",
   "execution_count": null,
   "id": "7",
   "metadata": {},
   "outputs": [],
   "source": [
    "drag_force = x**3 + 2 * x**2\n",
    "diff(drag_force, x)"
   ]
  },
  {
   "cell_type": "markdown",
   "id": "8",
   "metadata": {},
   "source": [
    "## 🔄 **Integrals: Summing the Infinite**\n",
    "\n",
    "Integrals are essential for finding areas, volumes, and even probabilistic outcomes. With SymPy, you can compute both definite and indefinite integrals easily.\n",
    "\n",
    "```{note}\n",
    "An integral is like finding the **total stuff** you’ve accumulated over time—whether it's distance traveled, pizza eaten, or money earned. Imagine you're driving, and your speedometer shows 60 mph; the integral tells you how far you've gone after driving for a while. On a graph, it’s like shading the area under a curve to figure out the total amount. For example, if your function is $(y = x^2)$, the integral gives you $(\\frac{x^3}{3})$, which tells you how much \"stuff\" you've piled up as $(x)$ grows. It's basically math’s way of keeping track of everything you’ve gathered! 🚗🛑📦\n",
    "```"
   ]
  },
  {
   "cell_type": "markdown",
   "id": "9",
   "metadata": {},
   "source": [
    "### Examples:\n",
    "\n",
    "- **Thermal Management in Microchips**: Calculate heat flux across a silicon wafer (area under a parabolic curve):\n",
    "\n",
    "![](./assets/figures/thermal_management.png)\n"
   ]
  },
  {
   "cell_type": "code",
   "execution_count": null,
   "id": "10",
   "metadata": {},
   "outputs": [],
   "source": [
    "heat_flux = integrate(2 * x**2, (x, 0, 1))\n",
    "heat_flux"
   ]
  },
  {
   "cell_type": "markdown",
   "id": "11",
   "metadata": {},
   "source": [
    "\n",
    "- **Oil Reservoir Engineering**: Modeling the volume of extracted oil using a radial integral:\n"
   ]
  },
  {
   "cell_type": "code",
   "execution_count": null,
   "id": "12",
   "metadata": {},
   "outputs": [],
   "source": [
    "integrate(2 * pi * r**2, (r, 0, 5))"
   ]
  },
  {
   "cell_type": "markdown",
   "id": "13",
   "metadata": {},
   "source": [
    "\n",
    "- **18th-Century Tidal Energy**: Early hydroelectric pioneers used integrals to calculate water flow potential:"
   ]
  },
  {
   "cell_type": "code",
   "execution_count": null,
   "id": "14",
   "metadata": {},
   "outputs": [],
   "source": [
    "integrate(exp(-x), (x, 0, oo))"
   ]
  },
  {
   "cell_type": "markdown",
   "id": "15",
   "metadata": {},
   "source": [
    "## 🚦 **Limits: Behavior at the Edges**\n",
    "\n",
    "Limits help us understand system behaviors at extremes, such as in instability analysis or infinite load testing.\n",
    "\n",
    "```{note}\n",
    "A limit is like peeking at what happens when you get **really close** to a specific point. Imagine you're driving, and you're about to hit a wall; the limit tells you how close you can get without crashing. In math, it’s like seeing what happens to a function as you approach a certain value. For example, if your function is $(y = \\frac{1}{x})$, the limit as $(x)$ approaches zero is infinity, showing that the function grows without bound as you get closer to zero. It’s like math’s way of predicting the future! 🚗🔍🔮\n",
    "```"
   ]
  },
  {
   "cell_type": "markdown",
   "id": "16",
   "metadata": {},
   "source": [
    "### Examples:\n",
    "\n",
    "- **Supersonic Aircraft Design**: Limiting behavior of air density at high altitudes:\n",
    "\n",
    "```{note}\n",
    "oo is a representation of the mathematical symbol for infinity.\n",
    "```\n"
   ]
  },
  {
   "cell_type": "code",
   "execution_count": null,
   "id": "17",
   "metadata": {},
   "outputs": [],
   "source": [
    "air_density = limit(1 / x, x, oo)"
   ]
  },
  {
   "cell_type": "markdown",
   "id": "18",
   "metadata": {},
   "source": [
    "- **Crystal Growth in Microgravity**: Studying the behavior of concentration gradients as the crystal grows infinitely large:\n",
    "\n",
    "![](./assets/figures/crystal-microgravity.webp)"
   ]
  },
  {
   "cell_type": "code",
   "execution_count": null,
   "id": "19",
   "metadata": {},
   "outputs": [],
   "source": [
    "concentration_gradient = x**2 / exp(x)\n",
    "limit(concentration_gradient, x, oo)"
   ]
  },
  {
   "cell_type": "markdown",
   "id": "20",
   "metadata": {},
   "source": [
    "\n",
    "- **Early Telecommunication Lines**: Maxwell’s equations in 19th-century telegraph wires relied on limits to analyze signal decay:"
   ]
  },
  {
   "cell_type": "code",
   "execution_count": null,
   "id": "21",
   "metadata": {},
   "outputs": [],
   "source": [
    "signal = (cos(x) - 1) / x\n",
    "limit(signal, x, 0)"
   ]
  },
  {
   "cell_type": "markdown",
   "id": "22",
   "metadata": {},
   "source": [
    "## 🔍 **Series Expansions: Simplifying the Complex**\n",
    "\n",
    "Series expansions approximate complex behaviors, such as when studying chaotic or oscillatory systems.\n",
    "\n",
    "```{note}\n",
    "A series expansion is like taking a complicated function and breaking it into a **simple recipe of smaller, easier-to-handle pieces**. Imagine you’re making a pizza 🍕, and instead of looking at the whole thing, you think of it as layers: dough + sauce + cheese + toppings. Similarly, a series expansion rewrites a function as a sum of terms, like $(1 + x + x^2/2! + x^3/3! + \\dots)$. Each term adds more detail, so the more terms you include, the closer you get to the real thing. It’s math’s way of saying, \"Let’s build something big, one step at a time!\" 🚀📜\n",
    "```\n"
   ]
  },
  {
   "cell_type": "markdown",
   "id": "23",
   "metadata": {},
   "source": [
    "### Examples:\n",
    "\n",
    "- **Vibrations in Old Clock Towers**: Modeling pendulum swings in tall clock mechanisms with Taylor series:\n",
    "\n",
    "![](./assets/figures/clock.avif)"
   ]
  },
  {
   "cell_type": "code",
   "execution_count": null,
   "id": "24",
   "metadata": {},
   "outputs": [],
   "source": [
    "pendulum = exp(sin(x))\n",
    "pendulum.series(x, 0, 4)"
   ]
  },
  {
   "cell_type": "markdown",
   "id": "25",
   "metadata": {},
   "source": [
    "\n",
    "- **Aerodynamics of Helicopter Blades**: Approximating airflow disturbances with polynomial expansions:\n"
   ]
  },
  {
   "cell_type": "code",
   "execution_count": null,
   "id": "26",
   "metadata": {},
   "outputs": [],
   "source": [
    "turbulence = exp(-x)\n",
    "turbulence.series(x, 0, 6)"
   ]
  },
  {
   "cell_type": "markdown",
   "id": "27",
   "metadata": {},
   "source": [
    "\n",
    "- **1700s Steam Engine Piston Analysis**: Early engineers used series to predict small-scale pressure changes in pistons:"
   ]
  },
  {
   "cell_type": "code",
   "execution_count": null,
   "id": "28",
   "metadata": {},
   "outputs": [],
   "source": [
    "pressure = exp(x**2)\n",
    "pressure.series(x, 0, 4)"
   ]
  },
  {
   "cell_type": "markdown",
   "id": "29",
   "metadata": {},
   "source": [
    "## 🛠️ **Finite Differences: For Real-World Data**\n",
    "\n",
    "Finite differences estimate derivatives or integrals when functions are unknown—perfect for experimental data or simulations.\n",
    "\n",
    "```{note}\n",
    "Finite difference is like approximating a derivative by using **simple math on a table of numbers**. Imagine you’re tracking your car’s position at different times: 0m, 10m, 30m. Instead of using fancy calculus, you find the **change in position** divided by the **change in time** to estimate your speed. For example, if you go from 10m to 30m in 5 seconds, your speed is $((30 - 10) / (5 - 0) = 4 \\, \\text{m/s})$. Finite differences work like this: they approximate rates of change by subtracting nearby values, perfect for computers or when exact formulas are too messy! 📊➖📈\n",
    "```\n"
   ]
  },
  {
   "cell_type": "markdown",
   "id": "30",
   "metadata": {},
   "source": [
    "### Examples:\n",
    "\n",
    "- **Structural Health Monitoring**: Use finite differences to detect cracks in aging bridges (measuring strain rates over discrete points):\n"
   ]
  },
  {
   "cell_type": "code",
   "execution_count": null,
   "id": "31",
   "metadata": {},
   "outputs": [],
   "source": [
    "# Define the symbolic variable\n",
    "x = symbols(\"x\")\n",
    "\n",
    "# Define symbolic functions\n",
    "f = Function(\"f\")\n",
    "g = Function(\"g\")\n",
    "\n",
    "# Perform symbolic differentiation\n",
    "expression = f(x) * g(x)\n",
    "result = diff(expression, x)\n",
    "\n",
    "print(\"The derivative is:\")\n",
    "result"
   ]
  },
  {
   "cell_type": "markdown",
   "id": "32",
   "metadata": {},
   "source": [
    "\n",
    "- **Dust Accumulation in Space Telescopes**: Use finite differences to study the rate of contamination over time:\n",
    "\n",
    "![](./assets/figures/dust-image.jpg)\n"
   ]
  },
  {
   "cell_type": "code",
   "execution_count": null,
   "id": "33",
   "metadata": {},
   "outputs": [],
   "source": [
    "dfdx = f(x).diff(x)\n",
    "dfdx.as_finite_difference()"
   ]
  },
  {
   "cell_type": "markdown",
   "id": "34",
   "metadata": {},
   "source": [
    "\n",
    "- **Medieval Siege Catapults**: Engineers used early finite differences (pre-Newton!) to estimate projectile motion.\n"
   ]
  },
  {
   "cell_type": "markdown",
   "id": "35",
   "metadata": {},
   "source": [
    "## 🌟 **SymPy: An Engineer’s Swiss Army Knife**\n",
    "\n",
    "SymPy transforms calculus from an abstract tool into a practical powerhouse. From optimizing 18th-century cannonballs to designing 21st-century silicon chips, it bridges historical ingenuity and modern innovation. Ready to explore the possibilities? 🚀✨"
   ]
  }
 ],
 "metadata": {
  "kernelspec": {
   "display_name": "engr131_dev",
   "language": "python",
   "name": "python3"
  },
  "language_info": {
   "codemirror_mode": {
    "name": "ipython",
    "version": 3
   },
   "file_extension": ".py",
   "mimetype": "text/x-python",
   "name": "python",
   "nbconvert_exporter": "python",
   "pygments_lexer": "ipython3",
   "version": "3.12.7"
  }
 },
 "nbformat": 4,
 "nbformat_minor": 5
}
