{
 "cells": [
  {
   "cell_type": "markdown",
   "id": "0",
   "metadata": {},
   "source": [
    "# 📖 Debugging: The Fine Art of Problem-Squashing 🐛🔍\n",
    "\n",
    "![](./assets/figures/debugging-homes.webp)\n",
    "\n",
    "Welcome to the engineer’s rite of passage: debugging. Debugging is the process of finding and fixing errors in your program. Think of it as detective work, where you chase down those pesky mistakes and make your code behave. It’s frustrating, rewarding, and, dare we say, kind of fun once you get the hang of it. But where did the term come from? Let’s start with a little history.\n"
   ]
  },
  {
   "cell_type": "markdown",
   "id": "1",
   "metadata": {},
   "source": [
    "## A Brief History of Bugs (and Debugging) 🦋\n",
    "\n",
    "![](./assets/figures/bug.webp)\n",
    "\n",
    "The term \"bug\" in computing has an interesting origin story. Back in 1947, engineers working on the Harvard Mark II, an early computer, encountered a hardware problem. When they opened the machine, they found...a literal bug: a moth trapped in a relay! After removing the moth, they documented it in their logbook, humorously referring to the process as “debugging.”\n",
    "\n",
    "While bugs today are more metaphorical (thankfully), the term stuck, and now we spend much of our coding lives squashing these virtual pests.\n"
   ]
  },
  {
   "cell_type": "markdown",
   "id": "2",
   "metadata": {},
   "source": [
    "## Debugging: Your Toolkit for Problem-Solving 🛠️\n",
    "\n",
    "Debugging isn’t just a chore; it’s a skill, a mindset, and, occasionally, a battle of wits between you and your program. Here’s how to approach it:\n"
   ]
  },
  {
   "cell_type": "markdown",
   "id": "3",
   "metadata": {},
   "source": [
    "### 1. Start with the Symptoms 🩺\n",
    "When your program breaks, don’t panic (yet). Begin by identifying the symptoms:\n",
    "- What’s happening? Is there an error message, or is the output just wrong?\n",
    "- What did you expect? Compare the actual result to what should have happened.\n",
    "\n",
    "Debugging is all about tracing the problem from these symptoms back to the source.\n"
   ]
  },
  {
   "cell_type": "markdown",
   "id": "4",
   "metadata": {},
   "source": [
    "### 2. Read the Error Messages 📜\n",
    "Error messages are your friends (even if they feel like snarky critiques). They tell you:\n",
    "- What went wrong: Syntax error? Runtime exception? Undefined variable?\n",
    "- Where it happened: Most error messages include line numbers and hints.\n",
    "\n",
    "Example:"
   ]
  },
  {
   "cell_type": "code",
   "execution_count": null,
   "id": "5",
   "metadata": {
    "tags": [
     "skip-execution"
    ]
   },
   "outputs": [],
   "source": [
    "x = 5 / 0"
   ]
  },
  {
   "cell_type": "markdown",
   "id": "6",
   "metadata": {},
   "source": [
    "🚨 Output:\n",
    "```\n",
    "ZeroDivisionError: division by zero\n",
    "```\n",
    "Translation: \"Hey, dividing by zero isn’t cool. Fix it on line 1.\"\n"
   ]
  },
  {
   "cell_type": "markdown",
   "id": "7",
   "metadata": {},
   "source": [
    "### 3. Test Your Assumptions 🧪\n",
    "Sometimes, the bug is in your understanding, not your code. Break the problem into smaller pieces and test each part. For example:\n",
    "- Is the input what you expect?\n",
    "- Are the intermediate calculations correct?\n"
   ]
  },
  {
   "cell_type": "markdown",
   "id": "8",
   "metadata": {},
   "source": [
    "### 4. Debugging Ducks: Explain It Out Loud 🦆\n",
    "\n",
    "![](./assets/figures/RubberDuck.jpg)\n",
    "\n",
    "Have you ever heard of rubber duck debugging? It’s a classic debugging technique where you explain your code, line by line, to a rubber duck—or any inanimate object. The act of verbalizing often helps you see the mistake.\n",
    "\n",
    "Why it works: Explaining forces you to slow down and rethink your logic. Plus, ducks are great listeners. 🦆\n"
   ]
  },
  {
   "cell_type": "markdown",
   "id": "9",
   "metadata": {},
   "source": [
    "### 5. Use Debugging Tools 🛠️\n",
    "Don’t go it alone—modern programming environments come with tools to help you:\n",
    "- Print Statements: Insert print statements to check variable values at different stages."
   ]
  },
  {
   "cell_type": "code",
   "execution_count": null,
   "id": "10",
   "metadata": {},
   "outputs": [],
   "source": [
    "print(f\"x = {x}, y = {y}\")"
   ]
  },
  {
   "cell_type": "markdown",
   "id": "11",
   "metadata": {},
   "source": [
    "- Debuggers: IDEs like [PyCharm](https://www.jetbrains.com/pycharm/), [VSCode](https://code.visualstudio.com/), or [Jupyter](https://jupyter.org/) have built-in debuggers that let you step through code and inspect variables.\n"
   ]
  },
  {
   "cell_type": "markdown",
   "id": "12",
   "metadata": {},
   "source": [
    "### Prof. Agar's Trusty Debugging Duck: Tony\n",
    "\n",
    "![](./assets/figures/scarface_duck.jpg)"
   ]
  },
  {
   "cell_type": "markdown",
   "id": "13",
   "metadata": {},
   "source": [
    "## Common Debugging Scenarios 🐞\n"
   ]
  },
  {
   "cell_type": "markdown",
   "id": "14",
   "metadata": {},
   "source": [
    "### Scenario 1: The Code Crashes 💥\n",
    "- What happened? A runtime error occurred (e.g., accessing a nonexistent list element).\n",
    "- Debug it: Check the error message, trace the problem, and fix the logic.\n"
   ]
  },
  {
   "cell_type": "markdown",
   "id": "15",
   "metadata": {},
   "source": [
    "### Scenario 2: The Code Runs, But It's Wrong ❌\n",
    "- What happened? A semantic error caused unexpected results.\n",
    "- Debug it: Test small chunks of your program, verify assumptions, and use print statements to track down the issue.\n"
   ]
  },
  {
   "cell_type": "markdown",
   "id": "16",
   "metadata": {},
   "source": [
    "### Scenario 3: The Code Refuses to Run 🚫\n",
    "- What happened? A syntax error is blocking execution.\n",
    "- Debug it: Carefully read the error message, fix the structure, and run it again.\n"
   ]
  },
  {
   "cell_type": "markdown",
   "id": "17",
   "metadata": {},
   "source": [
    "## Engineer’s Guide to Debugging: A Mindset 🧠\n"
   ]
  },
  {
   "cell_type": "markdown",
   "id": "18",
   "metadata": {},
   "source": [
    "1. Be Methodical: Don’t randomly tweak code. Make one change at a time and test it."
   ]
  },
  {
   "cell_type": "markdown",
   "id": "19",
   "metadata": {},
   "source": [
    "2. Don’t Assume: Always verify. Just because you think something should work doesn’t mean it will."
   ]
  },
  {
   "cell_type": "markdown",
   "id": "20",
   "metadata": {},
   "source": [
    "3. Stay Calm: Debugging is an opportunity to learn, not a personal vendetta from your program (even if it feels like one).\n"
   ]
  },
  {
   "cell_type": "markdown",
   "id": "21",
   "metadata": {},
   "source": [
    "## Why Debugging is a Skill Engineers Love ❤️\n",
    "Debugging teaches you:\n",
    "- Resilience: You’ll get stuck. Then you’ll get unstuck. It’s all part of the process.\n",
    "- Problem-Solving: Debugging is engineering in action—breaking down problems and fixing them.\n",
    "- Attention to Detail: A missing comma in code is the equivalent of forgetting a bolt in a bridge.\n"
   ]
  },
  {
   "cell_type": "markdown",
   "id": "22",
   "metadata": {},
   "source": [
    "## Final Thought: Embrace the Bugs 🐞\n",
    "Remember, even the best engineers encounter bugs. Debugging is part of the creative process. Whether you’re removing literal moths from relays or figuring out why your loop won’t stop, you’re not just fixing code—you’re learning, improving, and mastering the art of problem-solving.\n",
    "\n",
    "![](./assets/figures/debugging-w-duck.webp)\n",
    "\n",
    "So, grab a rubber duck, channel your inner detective, and let’s squash some bugs! 🦆💻"
   ]
  },
  {
   "cell_type": "markdown",
   "id": "23",
   "metadata": {},
   "source": []
  }
 ],
 "metadata": {
  "language_info": {
   "name": "python"
  }
 },
 "nbformat": 4,
 "nbformat_minor": 5
}
