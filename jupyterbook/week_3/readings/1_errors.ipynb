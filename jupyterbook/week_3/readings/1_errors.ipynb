{
 "cells": [
  {
   "cell_type": "markdown",
   "id": "0",
   "metadata": {
    "slideshow": {
     "slide_type": "slide"
    }
   },
   "source": [
    "# 📖 🎮 Errors in the Negative World 🌌\n",
    "\n",
    "Welcome to the Negative World of programming errors—a place where logic warps, rules twist, and unexpected glitches challenge your skills! Just like the famous secret level in _Super Mario Bros._, errors can feel disorienting at first. But fear not! With persistence and some debugging power-ups, you'll navigate this dimension like a pro.\n",
    "\n",
    "![](./assets/figures/mario-negative-world.jpg)\n",
    "\n",
    "Let’s explore the three main types of errors—syntax errors 📝, runtime errors ⚙️, and semantic errors 🧩—through the lens of the Mario Negative World.\n"
   ]
  },
  {
   "cell_type": "markdown",
   "id": "1",
   "metadata": {
    "slideshow": {
     "slide_type": "slide"
    }
   },
   "source": [
    "##  Syntax Errors: The Glitch in the Warp Zone\n",
    "\n",
    "Imagine trying to enter the Negative World but clipping through the wrong pipe—your journey ends abruptly. That’s what a syntax error feels like to Python. Syntax is the map and rules of the game, and Python is like an unforgiving Koopa Troopa patrol.\n",
    "\n",
    "![](./assets/figures/pipe-mario.webp)\n"
   ]
  },
  {
   "cell_type": "markdown",
   "id": "2",
   "metadata": {
    "slideshow": {
     "slide_type": "subslide"
    }
   },
   "source": [
    "### What Are Syntax Errors?\n",
    "\n",
    "- Syntax errors occur when your code doesn’t follow Python’s grammar rules, much like failing to crouch at just the right pixel on a warp zone pipe.\n",
    "- These errors stop the game (or program) from even starting.\n"
   ]
  },
  {
   "cell_type": "markdown",
   "id": "3",
   "metadata": {
    "slideshow": {
     "slide_type": "subslide"
    }
   },
   "source": [
    "### Example:\n"
   ]
  },
  {
   "cell_type": "code",
   "execution_count": null,
   "id": "4",
   "metadata": {
    "slideshow": {
     "slide_type": "fragment"
    },
    "tags": [
     "skip-execution"
    ]
   },
   "outputs": [],
   "source": [
    "print \"Welcome to the Negative World!\""
   ]
  },
  {
   "cell_type": "markdown",
   "id": "5",
   "metadata": {
    "slideshow": {
     "slide_type": "fragment"
    }
   },
   "source": [
    "\n",
    "🚨 Syntax Error: Python shouts, “Hey, buddy! Where are my parentheses?”\n"
   ]
  },
  {
   "cell_type": "markdown",
   "id": "6",
   "metadata": {
    "slideshow": {
     "slide_type": "subslide"
    }
   },
   "source": [
    "### Why Are Syntax Errors Frustrating?\n",
    "\n",
    "- Python is strict, like the timer in a Mario level. One mistake, and it’s game over before you can play.\n",
    "- Fixing them can feel like pixel-perfect platforming as you search for the missing semicolon or bracket.\n"
   ]
  },
  {
   "cell_type": "markdown",
   "id": "7",
   "metadata": {
    "slideshow": {
     "slide_type": "subslide"
    }
   },
   "source": [
    "### Mario’s Debugging Tip:\n",
    "\n",
    "- Practice makes perfect. As you code more, spotting syntax errors will become as easy as jumping on Goombas.\n"
   ]
  },
  {
   "cell_type": "markdown",
   "id": "8",
   "metadata": {
    "slideshow": {
     "slide_type": "slide"
    }
   },
   "source": [
    "## Runtime Errors: The Unexpected Piranha Plant\n",
    "\n",
    "![](./assets/figures/pirana.gif)\n",
    "\n",
    "You’re cruising through the level, confident in your skills, when suddenly—BOOM! A Piranha Plant pops out of a pipe. That’s a runtime error: a surprise obstacle that appears only when the game is running.\n"
   ]
  },
  {
   "cell_type": "markdown",
   "id": "9",
   "metadata": {
    "slideshow": {
     "slide_type": "subslide"
    }
   },
   "source": [
    "### What Are Runtime Errors?\n",
    "\n",
    "- These occur when your program encounters something it can’t handle during execution.\n",
    "- Common examples include dividing by zero or trying to grab an item that isn’t there (hello, missing Mushroom).\n"
   ]
  },
  {
   "cell_type": "markdown",
   "id": "10",
   "metadata": {
    "slideshow": {
     "slide_type": "subslide"
    }
   },
   "source": [
    "### Example:\n"
   ]
  },
  {
   "cell_type": "code",
   "execution_count": null,
   "id": "11",
   "metadata": {
    "slideshow": {
     "slide_type": "fragment"
    },
    "tags": [
     "skip-execution"
    ]
   },
   "outputs": [],
   "source": [
    "x = 5 / 0"
   ]
  },
  {
   "cell_type": "markdown",
   "id": "12",
   "metadata": {
    "slideshow": {
     "slide_type": "fragment"
    }
   },
   "source": [
    "\n",
    "🚨 Runtime Error: Python refuses to perform impossible math, just like Mario can’t leap over an endless chasm.\n"
   ]
  },
  {
   "cell_type": "markdown",
   "id": "13",
   "metadata": {
    "slideshow": {
     "slide_type": "subslide"
    }
   },
   "source": [
    "### Why Are Runtime Errors Sneaky?\n",
    "\n",
    "- Early levels (simple programs) rarely have runtime errors, but as you progress (build complexity), they become harder to avoid.\n"
   ]
  },
  {
   "cell_type": "markdown",
   "id": "14",
   "metadata": {
    "slideshow": {
     "slide_type": "subslide"
    }
   },
   "source": [
    "### Mario’s Debugging Tip:\n",
    "\n",
    "- Use try/except blocks to plan for surprises. It’s like keeping an extra Fire Flower in reserve—you’re ready for anything.\n",
    "\n",
    "```{syntax}\n",
    "try:\n",
    "    # Code that might cause a runtime error\n",
    "except:\n",
    "    # What to do if an error occurs\n",
    "```\n",
    "\n",
    "Try and except are Python keywords that help you handle runtime errors gracefully. If an error occurs in the try block, Python jumps to the except block to prevent a crash. The code keeps running, just like Mario after taking a hit, after eating a Super Mushroom."
   ]
  },
  {
   "cell_type": "markdown",
   "id": "15",
   "metadata": {
    "slideshow": {
     "slide_type": "slide"
    }
   },
   "source": [
    "## Semantic Errors: The Misplaced Flagpole\n",
    "\n",
    "![](./assets/figures/flagpole-error.webp)\n",
    "\n",
    "You’ve reached the end of the level, hit the flagpole...and the castle blows up instead of saving the Princess. That’s a semantic error: your code technically works, but the logic is wrong.\n"
   ]
  },
  {
   "cell_type": "markdown",
   "id": "16",
   "metadata": {
    "slideshow": {
     "slide_type": "subslide"
    }
   },
   "source": [
    "### What Are Semantic Errors?\n",
    "\n",
    "- The program has no syntax or runtime errors, but it doesn’t do what you intended.\n",
    "- It’s like building a warp zone that leads back to World 1 instead of the Negative World.\n"
   ]
  },
  {
   "cell_type": "markdown",
   "id": "17",
   "metadata": {
    "slideshow": {
     "slide_type": "subslide"
    }
   },
   "source": [
    "### Example:\n"
   ]
  },
  {
   "cell_type": "code",
   "execution_count": null,
   "id": "18",
   "metadata": {
    "slideshow": {
     "slide_type": "fragment"
    }
   },
   "outputs": [],
   "source": [
    "# Intended to calculate the area of a rectangle\n",
    "length = 5\n",
    "width = 10\n",
    "area = length + width  # Oops, that’s not how area works!"
   ]
  },
  {
   "cell_type": "markdown",
   "id": "19",
   "metadata": {
    "slideshow": {
     "slide_type": "fragment"
    }
   },
   "source": [
    "\n",
    "🚨 Semantic Error: Your program runs, but the result is as nonsensical as a Goomba flying through the air.\n"
   ]
  },
  {
   "cell_type": "markdown",
   "id": "20",
   "metadata": {
    "slideshow": {
     "slide_type": "subslide"
    }
   },
   "source": [
    "### Why Are Semantic Errors Tricky?\n",
    "\n",
    "- Python doesn’t know your intentions. It follows your instructions—even if they’re flawed.\n",
    "- Debugging these errors is like retracing Mario’s steps to find the one pixel where the glitch occurred.\n"
   ]
  },
  {
   "cell_type": "markdown",
   "id": "21",
   "metadata": {
    "slideshow": {
     "slide_type": "subslide"
    }
   },
   "source": [
    "### Mario’s Debugging Tip:\n",
    "\n",
    "- Test with known inputs and outputs. It’s like learning the pattern of a tricky boss fight—figure out where you went wrong and try again.\n"
   ]
  },
  {
   "cell_type": "markdown",
   "id": "22",
   "metadata": {
    "slideshow": {
     "slide_type": "slide"
    }
   },
   "source": [
    "## Error Handling Cheat Sheet: Mario’s Power-Ups\n",
    "\n",
    "| Error Type     | When It Happens          | What It Means                                      | How to Fix It                                                 |\n",
    "| ------------------ | ---------------------------- | ------------------------------------------------------ | ----------------------------------------------------------------- |\n",
    "| Syntax Error   | Before the program runs      | Python doesn’t understand your code.                   | Check the rules (like map layouts) for typos or missing symbols.  |\n",
    "| Runtime Error  | While the program is running | Something unexpected happens (e.g., division by zero). | Use error-handling techniques (`try/except`) and validate inputs. |\n",
    "| Semantic Error | After the program runs       | Your code does the wrong thing.                        | Test your logic and debug step by step.                           |\n"
   ]
  },
  {
   "cell_type": "markdown",
   "id": "23",
   "metadata": {
    "slideshow": {
     "slide_type": "slide"
    }
   },
   "source": [
    "## Why Errors Are Your Lakitu Cloud\n",
    "\n",
    "Just like Lakitu tossing Spiny shells, errors are frustrating but essential. They challenge you to refine your skills and think critically about your code. Overcoming them makes you a stronger programmer.\n"
   ]
  },
  {
   "cell_type": "markdown",
   "id": "24",
   "metadata": {
    "slideshow": {
     "slide_type": "subslide"
    }
   },
   "source": [
    "### Think of Errors Like This:\n",
    "\n",
    "- **Syntax Errors:** The level designer saying, “You can’t warp to the Negative World until you get the setup just right.”\n",
    "- **Runtime Errors:** The game reminding you, \"You can't move up-and-down in the pipe at the same time.\"\n",
    "- **Semantic Errors:** Your brain nudging you, “Wait, why is the flagpole not ending the level?”\n"
   ]
  },
  {
   "cell_type": "markdown",
   "id": "25",
   "metadata": {
    "slideshow": {
     "slide_type": "slide"
    }
   },
   "source": [
    "## Final Thoughts: Leveling Up\n",
    "\n",
    "Errors are like tricky Mario levels—annoying at first but immensely rewarding once you master them. Whether you’re building bridges or Python scripts, mistakes are opportunities to improve. Keep debugging, and soon enough, you’ll conquer programming like Mario conquers Bowser’s castle. 🍄👑\n",
    "\n",
    "![](./assets/figures/bowser-defeated.avif)\n",
    "\n",
    "So grab your Fire Flower, power up, and let’s squash some bugs! 🛠️🐍🎮"
   ]
  }
 ],
 "metadata": {
  "kernelspec": {
   "display_name": "engr131_dev",
   "language": "python",
   "name": "python3"
  },
  "language_info": {
   "codemirror_mode": {
    "name": "ipython",
    "version": 3
   },
   "file_extension": ".py",
   "mimetype": "text/x-python",
   "name": "python",
   "nbconvert_exporter": "python",
   "pygments_lexer": "ipython3",
   "version": "3.12.7"
  }
 },
 "nbformat": 4,
 "nbformat_minor": 5
}
