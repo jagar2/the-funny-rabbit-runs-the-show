{
 "cells": [
  {
   "cell_type": "markdown",
   "id": "0",
   "metadata": {},
   "source": [
    "## 📖 ✨ Printing with SymPy\n",
    "\n",
    "![](./assets/figures/math_python.webp)\n",
    "\n",
    "SymPy lets you display math beautifully using several printing options. Whether it’s plain text, code, or professional formats like LaTeX, it’s got you covered! 🖋️\n"
   ]
  },
  {
   "cell_type": "markdown",
   "id": "1",
   "metadata": {},
   "source": [
    "### 📄 Key Printing Options\n",
    "- String (`str`): Standard, easy-to-read format.\n",
    "- LaTeX: A professional typesetting system widely used for academic papers and presentations. Perfect for polished math output! 📝\n",
    "Example:"
   ]
  },
  {
   "cell_type": "code",
   "execution_count": null,
   "id": "2",
   "metadata": {},
   "outputs": [],
   "source": [
    "from sympy import *\n",
    "\n",
    "x = Symbol(\"x\")\n",
    "\n",
    "print(latex(Integral(sqrt(1 / x), x)))"
   ]
  },
  {
   "cell_type": "markdown",
   "id": "3",
   "metadata": {},
   "source": [
    "$$ \\int \\sqrt{\\frac{1}{x}}\\, dx $$"
   ]
  },
  {
   "cell_type": "markdown",
   "id": "4",
   "metadata": {},
   "source": [
    "\n",
    "- MathML: XML-based format for web-friendly math 🌐.\n"
   ]
  },
  {
   "cell_type": "markdown",
   "id": "5",
   "metadata": {},
   "source": [
    "## 🌟 Quick Setup\n",
    "For automatic pretty printing:"
   ]
  },
  {
   "cell_type": "code",
   "execution_count": null,
   "id": "6",
   "metadata": {},
   "outputs": [],
   "source": [
    "from sympy import init_printing\n",
    "\n",
    "init_printing()  # Enables the best option for your environment\n",
    "Integral(sqrt(1 / x), x)"
   ]
  },
  {
   "cell_type": "markdown",
   "id": "7",
   "metadata": {},
   "source": [
    "### 🎯 Why It Matters\n",
    "SymPy’s printing makes your math look sharp and professional, whether for coding, papers, or presentations. Ready to impress? 🚀✨"
   ]
  }
 ],
 "metadata": {
  "kernelspec": {
   "display_name": "engr131_dev",
   "language": "python",
   "name": "python3"
  },
  "language_info": {
   "codemirror_mode": {
    "name": "ipython",
    "version": 3
   },
   "file_extension": ".py",
   "mimetype": "text/x-python",
   "name": "python",
   "nbconvert_exporter": "python",
   "pygments_lexer": "ipython3",
   "version": "3.12.7"
  }
 },
 "nbformat": 4,
 "nbformat_minor": 5
}
