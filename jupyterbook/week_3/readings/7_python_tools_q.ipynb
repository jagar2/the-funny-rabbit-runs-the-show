{
 "cells": [
  {
   "cell_type": "code",
   "execution_count": null,
   "metadata": {
    "deletable": false,
    "editable": false,
    "tags": [
     "skip-execution"
    ]
   },
   "outputs": [],
   "source": [
    "# You must make sure to run all cells in sequence using shift + enter or you might encounter errors\n",
    "from pykubegrader.initialize import initialize_assignment\n",
    "\n",
    "responses = initialize_assignment(\"7_python_tools_q\", \"week_3\", \"readings\", assignment_points = 15.0, assignment_tag = 'week3-readings')\n",
    "\n",
    "# Initialize Otter\n",
    "import otter\n",
    "grader = otter.Notebook(\"7_python_tools_q.ipynb\")"
   ]
  },
  {
   "cell_type": "markdown",
   "metadata": {
    "deletable": false,
    "editable": false
   },
   "source": [
    "# ❓🐍 Python Tools for Engineering 🛠️\n",
    "\n",
    "![](./assets/figures/python-tools-for-engineering.webp)"
   ]
  },
  {
   "cell_type": "code",
   "execution_count": null,
   "metadata": {
    "tags": [
     "skip-execution"
    ]
   },
   "outputs": [],
   "source": [
    "# Run this block of code by pressing Shift + Enter to display the question\n",
    "from questions._7_python_tools_q import Question1\n",
    "Question1().show()\n"
   ]
  },
  {
   "cell_type": "code",
   "execution_count": null,
   "metadata": {
    "tags": [
     "skip-execution"
    ]
   },
   "outputs": [],
   "source": [
    "# Run this block of code by pressing Shift + Enter to display the question\n",
    "from questions._7_python_tools_q import Question2\n",
    "Question2().show()\n"
   ]
  },
  {
   "cell_type": "code",
   "execution_count": null,
   "metadata": {
    "tags": [
     "skip-execution"
    ]
   },
   "outputs": [],
   "source": [
    "# Run this block of code by pressing Shift + Enter to display the question\n",
    "from questions._7_python_tools_q import Question3\n",
    "Question3().show()\n"
   ]
  },
  {
   "cell_type": "markdown",
   "metadata": {
    "deletable": false,
    "editable": false
   },
   "source": [
    "## NumPy Matrix Determinant\n",
    "\n",
    "### Instructions:\n",
    "Write a Python function using NumPy that computes the determinant of a 2x2 matrix. The function should take a 2D list as input, convert it to a NumPy array, and return the determinant.\n",
    "\n",
    "We have provided you with the structure for the function `matrix_determinant(matrix)` since you do not know that yet. You need to complete the function by adding the necessary code to calculate the determinant.\n",
    "\n",
    "Your solution must include:\n",
    "1. A function `matrix_determinant(matrix)` that:\n",
    "   - Accepts a 2D list (e.g., `[[1, 2], [3, 4]]`).\n",
    "   - Converts it into a NumPy array. Using the `np.array()` function. You can save this as the variable `np_matrix`.\n",
    "   - Calculates and returns the determinant. Using the `np.linalg.det()` function. You must save this as the variable `determinant`.\n",
    "\n",
    "```{tip}\n",
    "If you do not know how any of the functions mentioned above work, you can look them up in the documentation help(function_name). This is a good test taking strategy as you will have access to the documentation during the quizzes and tests.\n",
    "```\n",
    "2. Test cases to validate the correctness of your implementation."
   ]
  },
  {
   "cell_type": "code",
   "execution_count": null,
   "metadata": {
    "tags": [
     "skip-execution"
    ]
   },
   "outputs": [],
   "source": [
    "# Import numpy here, make sure to use the common alias np.\n",
    "...\n",
    "\n",
    "def matrix_determinant(matrix):\n",
    "    # Convert the matrix to a numpy array and return the determinant\n",
    "    # make sure to save it to the variable `np_matrix`\n",
    "    ...\n",
    "    \n",
    "    # Compute the determinant of the matrix\n",
    "    # make sure to save it to the variable `determinant`\n",
    "    ...\n",
    "    return determinant\n",
    "\n",
    "\n",
    "# Example test case\n",
    "result = matrix_determinant([[1, 2], [3, 4]])\n",
    "print(f\"Determinant: {result}\")"
   ]
  },
  {
   "cell_type": "code",
   "execution_count": null,
   "metadata": {
    "deletable": false,
    "editable": false,
    "tags": [
     "skip-execution"
    ]
   },
   "outputs": [],
   "source": [
    "grader.check(\"numpy-matrix-determinant\")"
   ]
  },
  {
   "cell_type": "markdown",
   "id": "8",
   "metadata": {},
   "source": [
    "## Submitting Assignment\n",
    "\n",
    "Please run the following block of code using `shift + enter` to submit your assignment, you should see your score."
   ]
  },
  {
   "cell_type": "code",
   "execution_count": null,
   "id": "9",
   "metadata": {
    "deletable": false,
    "editable": false,
    "tags": [
     "skip-execution"
    ]
   },
   "outputs": [],
   "source": [
    "from pykubegrader.submit.submit_assignment import submit_assignment\n",
    "\n",
    "submit_assignment(\"week3-readings\", \"7_python_tools_q\")"
   ]
  }
 ],
 "metadata": {
  "kernelspec": {
   "display_name": "engr131_dev",
   "language": "python",
   "name": "python3"
  },
  "language_info": {
   "codemirror_mode": {
    "name": "ipython",
    "version": 3
   },
   "file_extension": ".py",
   "mimetype": "text/x-python",
   "name": "python",
   "nbconvert_exporter": "python",
   "pygments_lexer": "ipython3",
   "version": "3.12.7"
  },
  "otter": {
   "OK_FORMAT": true,
   "tests": {
    "numpy-matrix-determinant": {
     "name": "numpy-matrix-determinant",
     "points": null,
     "suites": [
      {
       "cases": [
        {
         "code": ">>> from pykubegrader.telemetry import ensure_responses, log_variable, score_question, submit_question, telemetry, update_responses\n>>> import os\n>>> max_question_points = str(5.0)\n>>> earned_points = 0\n>>> os.environ['EARNED_POINTS'] = str(earned_points)\n>>> os.environ['TOTAL_POINTS_FREE_RESPONSE'] = str(5.0)\n>>> log_variable('total-points', f'Reading-Week-X, 7_python_tools_q', 5.0)\n>>> question_id = 'numpy-matrix-determinant-1'\n>>> max_score = 1.0\n>>> score = 0\n>>> condition = 'np' in locals()\n>>> assert condition, \"You must import numpy using the alias 'np'.\"\n>>> if condition:\n...     score = 1.0\n>>> earned_points = float(os.environ.get('EARNED_POINTS', 0))\n>>> earned_points += score\n>>> log_variable('7_python_tools_q', f'{score}, {max_score}', question_id)\n>>> os.environ['EARNED_POINTS'] = str(earned_points)\n>>> responses = update_responses(question_id, str(condition))\n",
         "failure_message": "Failed: You must import numpy using the alias 'np'",
         "hidden": false,
         "locked": false,
         "points": 1,
         "success_message": "Success: 'numpy' is imported as 'np'"
        },
        {
         "code": ">>> from pykubegrader.telemetry import ensure_responses, log_variable, score_question, submit_question, telemetry, update_responses\n>>> import os\n>>> import re\n>>> import inspect\n>>> question_id = 'numpy-matrix-determinant-2'\n>>> max_score = 1.0\n>>> score = 0\n>>> code = inspect.getsource(matrix_determinant)\n>>> np_matrix_pattern = 'np_matrix\\\\s*=\\\\s*np\\\\.array\\\\s*\\\\(\\\\s*matrix\\\\s*\\\\)'\n>>> np_matrix_creation_found = bool(re.search(np_matrix_pattern, code))\n>>> assert np_matrix_creation_found, 'You must define `np_matrix` with `np_matrix = np.array(matrix)`.'\n>>> if np_matrix_creation_found:\n...     score = 1.0\n>>> earned_points = float(os.environ.get('EARNED_POINTS', 0))\n>>> earned_points += score\n>>> log_variable('7_python_tools_q', f'{score}, {max_score}', question_id)\n>>> os.environ['EARNED_POINTS'] = str(earned_points)\n>>> responses = update_responses(question_id, str(np_matrix_creation_found))\n",
         "failure_message": "Failed: You must create 'np_matrix' using np.array(matrix)",
         "hidden": false,
         "locked": false,
         "points": 1,
         "success_message": "Success: 'np_matrix' is created from np.array(matrix)"
        },
        {
         "code": ">>> from pykubegrader.telemetry import ensure_responses, log_variable, score_question, submit_question, telemetry, update_responses\n>>> import os\n>>> import re\n>>> import inspect\n>>> question_id = 'numpy-matrix-determinant-3'\n>>> max_score = 1.0\n>>> score = 0\n>>> code = inspect.getsource(matrix_determinant)\n>>> det_pattern = 'determinant\\\\s*=\\\\s*np\\\\.linalg\\\\.det\\\\s*\\\\(\\\\s*np_matrix\\\\s*\\\\)'\n>>> det_pattern_found = bool(re.search(det_pattern, code))\n>>> assert det_pattern_found, 'You must define `determinant` with `determinant = np.linalg.det(np_matrix)`.'\n>>> if det_pattern_found:\n...     score = 1.0\n>>> earned_points = float(os.environ.get('EARNED_POINTS', 0))\n>>> earned_points += score\n>>> log_variable('7_python_tools_q', f'{score}, {max_score}', question_id)\n>>> os.environ['EARNED_POINTS'] = str(earned_points)\n>>> responses = update_responses(question_id, str(det_pattern_found))\n",
         "failure_message": "Failed: You must compute 'determinant' using np.linalg.det(np_matrix)",
         "hidden": false,
         "locked": false,
         "points": 1,
         "success_message": "Success: 'determinant' is computed from np.linalg.det(np_matrix)"
        },
        {
         "code": ">>> from pykubegrader.telemetry import ensure_responses, log_variable, score_question, submit_question, telemetry, update_responses\n>>> import os\n>>> question_id = 'numpy-matrix-determinant-4'\n>>> max_score = 2.0\n>>> score = 0\n>>> matrix_1 = [[1, 8], [3, 7]]\n>>> expected_det_1 = -17\n>>> computed_det = matrix_determinant(matrix_1)\n>>> assert abs(computed_det - expected_det_1) < 1e-12, f'Expected determinant {expected_det_1}, but got {computed_det}'\n>>> if abs(computed_det - expected_det_1) < 1e-12:\n...     score = 2.0\n>>> earned_points = float(os.environ.get('EARNED_POINTS', 0))\n>>> earned_points += score\n>>> log_variable('7_python_tools_q', f'{score}, {max_score}', question_id)\n>>> os.environ['EARNED_POINTS'] = str(earned_points)\n>>> responses = update_responses(question_id, str(computed_det))\n",
         "failure_message": "Failed: The determinant is incorrect",
         "hidden": false,
         "locked": false,
         "points": 2,
         "success_message": "Success: Function returns the correct determinant"
        }
       ],
       "scored": true,
       "setup": "",
       "teardown": "",
       "type": "doctest"
      }
     ]
    }
   }
  }
 },
 "nbformat": 4,
 "nbformat_minor": 2
}
