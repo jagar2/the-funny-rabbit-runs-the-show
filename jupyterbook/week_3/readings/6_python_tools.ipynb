{
 "cells": [
  {
   "cell_type": "markdown",
   "id": "0",
   "metadata": {},
   "source": [
    "# 📖 🛠️ Python Engineer's Toolbox: Essential Tools for Mathematical and Computational Engineering\n",
    "\n",
    "![](./assets/figures/drexel-dragon-toolbox.jpeg)\n",
    "\n",
    "As an engineer or data scientist, having the right tools at your disposal is critical. Python, with its rich ecosystem of libraries, provides a \"toolbox\" to solve a wide range of mathematical and computational problems. Let’s dive into the most essential tools and explore their purpose in the context of engineering and applied mathematics.\n"
   ]
  },
  {
   "cell_type": "markdown",
   "id": "1",
   "metadata": {},
   "source": [
    "## 🔧 1. NumPy: The Foundation for Numerical Computation\n",
    "\n",
    "![NumPy](https://numpy.org/doc/stable/_static/numpylogo.svg)\n",
    "\n",
    "[Numpy](https://numpy.org)\n",
    "\n",
    "- **Who:** For engineers, scientists, and developers who need efficient numerical computation.\n",
    "- **What:** A library for numerical operations on large, multi-dimensional arrays and matrices, with a comprehensive collection of mathematical functions.\n",
    "- **Where:** Used in applications requiring fast linear algebra, matrix operations, and array manipulation.\n",
    "- **When:** Essential when solving problems involving numerical simulations, signal processing, or statistical computations.\n",
    "- **Why:** Optimized for speed through its use of low-level C and Fortran implementations, making it much faster than standard Python loops for numerical tasks.\n",
    "\n",
    "Example:\n"
   ]
  },
  {
   "cell_type": "code",
   "execution_count": null,
   "id": "2",
   "metadata": {},
   "outputs": [],
   "source": [
    "import numpy as np\n",
    "\n",
    "matrix = np.array([[1, 2], [3, 4]])\n",
    "determinant = np.linalg.det(matrix)\n",
    "print(f\"Determinant: {determinant}\")"
   ]
  },
  {
   "cell_type": "markdown",
   "id": "3",
   "metadata": {},
   "source": [
    "## 🛠️ 2. Pandas: The Data Analysis and Manipulation Tool\n",
    "\n",
    "![Pandas](https://pandas.pydata.org/static/img/pandas.svg)\n",
    "\n",
    "[Pandas](https://pandas.pydata.org)\n",
    "\n",
    "- **Who:** For engineers and researchers working with structured data (e.g., time series, experimental results).\n",
    "- **What:** A library offering high-performance, easy-to-use data structures (like DataFrames) for handling and analyzing data.\n",
    "- **Where:** Widely used in data cleaning, preparation, and exploratory data analysis (EDA).\n",
    "- **When:** Crucial when you need to process large datasets for statistical analysis or machine learning pipelines.\n",
    "- **Why:** Pandas provides high-level abstraction for data operations, enabling complex manipulations with minimal code.\n",
    "\n",
    "Example:\n"
   ]
  },
  {
   "cell_type": "code",
   "execution_count": null,
   "id": "4",
   "metadata": {},
   "outputs": [],
   "source": [
    "import pandas as pd\n",
    "\n",
    "data = {\"Experiment\": [\"A\", \"B\", \"C\"], \"Result\": [0.98, 0.75, 0.89]}\n",
    "df = pd.DataFrame(data)\n",
    "print(df.describe())  # Provides summary statistics"
   ]
  },
  {
   "cell_type": "markdown",
   "id": "5",
   "metadata": {},
   "source": [
    "## ⚙️ 3. Matplotlib & Seaborn: Visualization Libraries\n",
    "\n",
    "![Matplotlib](https://matplotlib.org/stable/_static/logo_light.svg) \n",
    "\n",
    "![Seaborn](https://seaborn.pydata.org/_images/logo-wide-lightbg.svg)\n",
    "\n",
    "[Matplotlib](https://matplotlib.org) | [Seaborn](https://seaborn.pydata.org)\n",
    "\n",
    "- **Who:** For professionals who need to visualize and interpret data.\n",
    "- **What:** Libraries for creating static, animated, and interactive plots.\n",
    "- **Where:** Used in research papers, presentations, and exploratory analysis to communicate results.\n",
    "- **When:** Vital when analyzing trends, distributions, or relationships in data.\n",
    "- **Why:** Visualizations help in understanding complex mathematical relationships and presenting them effectively.\n",
    "\n",
    "Example:\n"
   ]
  },
  {
   "cell_type": "code",
   "execution_count": null,
   "id": "6",
   "metadata": {},
   "outputs": [],
   "source": [
    "import matplotlib.pyplot as plt\n",
    "import numpy as np\n",
    "\n",
    "x = np.linspace(0, 10, 100)\n",
    "y = np.sin(x)\n",
    "plt.plot(x, y)\n",
    "plt.title(\"Sine Wave\")\n",
    "plt.show()"
   ]
  },
  {
   "cell_type": "markdown",
   "id": "7",
   "metadata": {},
   "source": [
    "## 🧰 4. SciPy: The Scientific Computing Companion\n",
    "\n",
    "![SciPy](https://encrypted-tbn0.gstatic.com/images?q=tbn:ANd9GcQSdD50rCr4-ARwlD8TT-3xImT7BQILp81gLQ&s)\n",
    "\n",
    "[SciPy](https://www.scipy.org)\n",
    "\n",
    "- **Who:** For engineers and scientists solving problems in optimization, signal processing, and statistical analysis.\n",
    "- **What:** A library built on NumPy, providing advanced algorithms for optimization, integration, and differential equation solvers.\n",
    "- **Where:** In mathematical modeling, simulation, and real-world problem-solving across physics, engineering, and economics.\n",
    "- **When:** When basic NumPy functionalities are insufficient for your problem.\n",
    "- **Why:** SciPy’s specialized modules simplify complex numerical computations, making it an essential extension of NumPy.\n",
    "\n",
    "Example:\n"
   ]
  },
  {
   "cell_type": "code",
   "execution_count": null,
   "id": "8",
   "metadata": {},
   "outputs": [],
   "source": [
    "from scipy.optimize import minimize\n",
    "\n",
    "f = lambda x: (x - 3) ** 2\n",
    "result = minimize(f, x0=0)\n",
    "print(f\"Minimum occurs at: {result.x}\")"
   ]
  },
  {
   "cell_type": "markdown",
   "id": "9",
   "metadata": {},
   "source": [
    "## 📏 5. Scikit-learn: Machine Learning Made Accessible\n",
    "\n",
    "![Scikit-learn](https://scikit-learn.org/stable/_static/scikit-learn-logo-small.png)\n",
    "\n",
    "[Scikit-learn](https://scikit-learn.org)\n",
    "\n",
    "- **Who:** For data scientists and engineers working on predictive modeling and classification tasks.\n",
    "- **What:** A comprehensive library for machine learning, including tools for classification, regression, clustering, and dimensionality reduction.\n",
    "- **Where:** Applied in projects requiring statistical learning models or predictive analytics.\n",
    "- **When:** Essential during feature engineering, model training, and evaluation stages.\n",
    "- **Why:** Scikit-learn abstracts complex algorithms into a simple and user-friendly interface, accelerating the development process.\n",
    "\n",
    "Example:\n"
   ]
  },
  {
   "cell_type": "code",
   "execution_count": null,
   "id": "10",
   "metadata": {},
   "outputs": [],
   "source": [
    "from sklearn.linear_model import LinearRegression\n",
    "import numpy as np\n",
    "\n",
    "X = np.array([[1], [2], [3]])\n",
    "y = np.array([2, 4, 6])\n",
    "model = LinearRegression().fit(X, y)\n",
    "print(f\"Model Coefficient: {model.coef_}\")"
   ]
  },
  {
   "cell_type": "markdown",
   "id": "11",
   "metadata": {},
   "source": [
    "## 🌐 6. SymPy: Symbolic Mathematics\n",
    "\n",
    "![SymPy](https://www.sympy.org/static/images/logo.png)\n",
    "\n",
    "[SymPy](https://www.sympy.org)\n",
    "\n",
    "- **Who:** For mathematicians, engineers, and scientists dealing with algebraic expressions and symbolic computations.\n",
    "- **What:** A Python library for performing symbolic mathematics, such as solving equations, simplifying expressions, or performing calculus.\n",
    "- **Where:** Used in engineering analyses, algorithm development, and education.\n",
    "- **When:** Essential when exact symbolic manipulation is required, such as deriving equations or solving systems symbolically.\n",
    "- **Why:** Automates tedious symbolic calculations, saving time and reducing errors.\n",
    "\n",
    "Example:\n"
   ]
  },
  {
   "cell_type": "code",
   "execution_count": null,
   "id": "12",
   "metadata": {},
   "outputs": [],
   "source": [
    "from sympy import symbols, solve\n",
    "\n",
    "x = symbols(\"x\")\n",
    "solution = solve(x**2 - 4, x)\n",
    "print(f\"Solutions: {solution}\")"
   ]
  },
  {
   "cell_type": "markdown",
   "id": "13",
   "metadata": {},
   "source": [
    "## 🔬 7. Statsmodels: The Statistical Analysis Toolkit\n",
    "\n",
    "![Statsmodels](https://www.statsmodels.org/stable/_images/statsmodels-logo-v2-horizontal.svg)\n",
    "\n",
    "[Statsmodels](https://www.statsmodels.org)\n",
    "\n",
    "- **Who:** For researchers, data analysts, and engineers performing statistical modeling and hypothesis testing.\n",
    "- **What:** A library for building statistical models, including regression analysis, time-series forecasting, and ANOVA.\n",
    "- **Where:** In fields like econometrics, biomedical research, and engineering quality control.\n",
    "- **When:** Vital for understanding relationships between variables and making statistical inferences.\n",
    "- **Why:** Statsmodels provides a rich suite of tools for applying rigorous statistical methods to real-world data.\n",
    "\n",
    "Example:\n"
   ]
  },
  {
   "cell_type": "code",
   "execution_count": null,
   "id": "14",
   "metadata": {},
   "outputs": [],
   "source": [
    "import statsmodels.api as sm\n",
    "\n",
    "X = [1, 2, 3, 4, 5]\n",
    "y = [2, 4, 5, 4, 5]\n",
    "X = sm.add_constant(X)  # Adds intercept term\n",
    "model = sm.OLS(y, X).fit()\n",
    "print(model.summary())"
   ]
  },
  {
   "cell_type": "markdown",
   "id": "15",
   "metadata": {},
   "source": [
    "## 🧹 8. Jupyter Notebooks: Interactive Programming Environment\n",
    "\n",
    "![Jupyter](./assets/figures/jupyter-logo.webp)\n",
    "\n",
    "[Jupyter Notebooks](https://jupyter.org)\n",
    "\n",
    "- **Who:** For educators, researchers, and professionals presenting or documenting their workflows.\n",
    "- **What:** An open-source web application for creating and sharing live code, equations, visualizations, and narrative text.\n",
    "- **Where:** Used in teaching, collaborative projects, and exploratory research.\n",
    "- **When:** Ideal for demonstrating algorithms, visualizing data, and documenting results in one place.\n",
    "- **Why:** Combines code execution, markdown, and rich output in a single environment, streamlining workflows.\n"
   ]
  },
  {
   "cell_type": "markdown",
   "id": "16",
   "metadata": {},
   "source": [
    "## 🔐 9. OpenCV/Scikit-Image: Computer Vision Library\n",
    "\n",
    "![OpenCV](https://opencv.org/wp-content/uploads/2020/07/OpenCV_logo_black-2.png)\n",
    "\n",
    "![Scikit-Image](https://upload.wikimedia.org/wikipedia/en/b/b8/Scikit-image_logo_and_wordmark.png?20150305082925)\n",
    "\n",
    "[OpenCV](https://opencv.org) | [Scikit-Image](https://scikit-image.org)\n",
    "\n",
    "- **Who:** For engineers working on image and video processing tasks.\n",
    "- **What:** A library offering real-time computer vision capabilities, including image filtering, object detection, and motion analysis.\n",
    "- **Where:** Applied in robotics, autonomous vehicles, and industrial quality control.\n",
    "- **When:** Necessary when analyzing or manipulating visual data for mathematical or engineering purposes.\n",
    "- **Why:** Provides fast and efficient algorithms for computer vision, leveraging modern hardware.\n",
    "\n",
    "Example:\n"
   ]
  },
  {
   "cell_type": "code",
   "execution_count": null,
   "id": "17",
   "metadata": {},
   "outputs": [],
   "source": [
    "import cv2\n",
    "import matplotlib.pyplot as plt\n",
    "\n",
    "image = cv2.imread(\"./assets/figures/Mario_the_Magnificent.jpg\", cv2.IMREAD_GRAYSCALE)\n",
    "plt.imshow(image, cmap=\"gray\")  # Use 'gray' colormap for grayscale images\n",
    "plt.show()\n",
    "plt.axis(\"off\")  # Turn off axis"
   ]
  },
  {
   "cell_type": "markdown",
   "id": "18",
   "metadata": {},
   "source": [
    "\n",
    "Additionally, there are many other specialized libraries that cater to nearly every domain of engineering and applied mathematics. All you need to do is a quick google search to find the right tool for your specific problem. If you can think of it as a mathematical or computational problem, chances are there is a Python library that can help you solve it!\n",
    "\n",
    "By incorporating these tools into your Python workflow, you can solve a wide range of mathematical, computational, and engineering challenges effectively. They’re the ultimate essentials in the modern Python engineer’s toolbox!\n",
    "\n",
    "While we do not have time to cover all these tools in detail, we encourage you to explore them further and integrate them into your projects. Each library offers unique capabilities that can enhance your problem-solving skills and computational efficiency. Happy coding! 🚀"
   ]
  }
 ],
 "metadata": {
  "kernelspec": {
   "display_name": "engr131_dev",
   "language": "python",
   "name": "python3"
  },
  "language_info": {
   "codemirror_mode": {
    "name": "ipython",
    "version": 3
   },
   "file_extension": ".py",
   "mimetype": "text/x-python",
   "name": "python",
   "nbconvert_exporter": "python",
   "pygments_lexer": "ipython3",
   "version": "3.12.7"
  }
 },
 "nbformat": 4,
 "nbformat_minor": 5
}
