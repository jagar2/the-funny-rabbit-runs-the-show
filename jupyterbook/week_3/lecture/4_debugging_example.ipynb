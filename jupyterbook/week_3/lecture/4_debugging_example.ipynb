{
 "cells": [
  {
   "cell_type": "markdown",
   "id": "0",
   "metadata": {},
   "source": [
    "### Super Debugging Troopers 🚔🐱‍👤\n",
    "\n",
    "![](./assets/figures/meow.gif)\n",
    "\n",
    "Imagine the state troopers are creating a program to manage their *pullover statistics* (because Farva insisted he needs accurate counts for his \"Meow Game\"). Their Python program has bugs—just like their antics in the movie. Let's debug it step-by-step, encountering **syntax errors**, **runtime errors**, and **semantic errors**.\n"
   ]
  },
  {
   "cell_type": "markdown",
   "id": "1",
   "metadata": {},
   "source": [
    "### Original Code (Full of Bugs) 💻\n"
   ]
  },
  {
   "cell_type": "code",
   "execution_count": null,
   "id": "2",
   "metadata": {},
   "outputs": [],
   "source": [
    "# Pullover statistics program for Super Troopers 🚓\n",
    "\n",
    "def calculate_pullover_average(total_pullovers, num_officers):\n",
    "    return total_pullovers / num_officer  # Semantic bug: typo in variable name\n",
    "\n",
    "def record_pullover(pullovers, officer_name, pullover_type):\n",
    "    # Syntax bug: Missing parentheses in the dictionary access\n",
    "    pullovers[officer_name].append pullover_type\n",
    "\n",
    "# Initialize data\n",
    "pullovers = {\n",
    "    \"Mac\": [\"speeding\"],\n",
    "    \"Farva\": [],\n",
    "    \"Thorny\": [],\n",
    "    \"Rabbit\": []\n",
    "}\n",
    "\n",
    "# Adding new pullover records\n",
    "record_pullover(pullovers, \"Farva\", \"meow_game\")\n",
    "record_pullover(pullovers, \"Mac\", \"speeding\")\n",
    "record_pullover(pullovers, \"Thorny\", \"littering\")\n",
    "\n",
    "# Calculating the average pullovers\n",
    "avg_pullovers = calculate_pullover_average(15, 0)  # Runtime bug: Division by zero\n",
    "\n",
    "# Print results\n",
    "print(\"Average pullovers per officer:\", avg_pullovers)"
   ]
  },
  {
   "cell_type": "markdown",
   "id": "3",
   "metadata": {},
   "source": [
    "### The Bugs We Encountered 🐛\n"
   ]
  },
  {
   "cell_type": "markdown",
   "id": "4",
   "metadata": {},
   "source": [
    "1. **Syntax Error** 📝:\n",
    "\n",
    "- `append` is missing parentheses in `record_pullover()`.\n",
    "- Python won't execute this part of the code.\n"
   ]
  },
  {
   "cell_type": "markdown",
   "id": "5",
   "metadata": {},
   "source": [
    "1. **Runtime Error** ⚙️:\n",
    "\n",
    "- Division by zero occurs in `calculate_pullover_average()`.\n"
   ]
  },
  {
   "cell_type": "markdown",
   "id": "6",
   "metadata": {},
   "source": [
    "1. **Semantic Error** 🧩:\n",
    "\n",
    "- Typo in the variable name `num_officer` (should be `num_officers`) causes a logic error.\n"
   ]
  },
  {
   "cell_type": "markdown",
   "id": "7",
   "metadata": {},
   "source": [
    "### Debugging Step-by-Step 🚔\n"
   ]
  },
  {
   "cell_type": "markdown",
   "id": "8",
   "metadata": {},
   "source": [
    "#### Step 1: Fix Syntax Errors\n"
   ]
  },
  {
   "cell_type": "code",
   "execution_count": null,
   "id": "9",
   "metadata": {},
   "outputs": [],
   "source": [
    "# Fix the missing parentheses in `record_pullover()`\n",
    "pullovers[officer_name].append(pullover_type)"
   ]
  },
  {
   "cell_type": "markdown",
   "id": "10",
   "metadata": {},
   "source": [
    "#### Step 2: Fix Runtime Errors\n"
   ]
  },
  {
   "cell_type": "code",
   "execution_count": null,
   "id": "11",
   "metadata": {},
   "outputs": [],
   "source": [
    "# Prevent division by zero\n",
    "if num_officers == 0:\n",
    "    return \"Error: No officers on duty\""
   ]
  },
  {
   "cell_type": "markdown",
   "id": "12",
   "metadata": {},
   "source": [
    "#### Step 3: Fix Semantic Errors\n"
   ]
  },
  {
   "cell_type": "code",
   "execution_count": null,
   "id": "13",
   "metadata": {},
   "outputs": [],
   "source": [
    "# Correct the variable name typo\n",
    "return total_pullovers / num_officers"
   ]
  },
  {
   "cell_type": "markdown",
   "id": "14",
   "metadata": {},
   "source": [
    "### Corrected Code (Fully Debugged) 🛠️\n"
   ]
  },
  {
   "cell_type": "code",
   "execution_count": null,
   "id": "15",
   "metadata": {},
   "outputs": [],
   "source": [
    "# Pullover statistics program for Super Troopers 🚓\n",
    "\n",
    "def calculate_pullover_average(total_pullovers, num_officers):\n",
    "    if num_officers == 0:\n",
    "        return \"Error: No officers on duty\"  # Prevent division by zero\n",
    "    return total_pullovers / num_officers  # Fixed typo in variable name\n",
    "\n",
    "def record_pullover(pullovers, officer_name, pullover_type):\n",
    "    if officer_name not in pullovers:\n",
    "        pullovers[officer_name] = []  # Add officer if not in the records\n",
    "    pullovers[officer_name].append(pullover_type)  # Fixed missing parentheses\n",
    "\n",
    "# Initialize data\n",
    "pullovers = {\n",
    "    \"Mac\": [\"speeding\"],\n",
    "    \"Farva\": [],\n",
    "    \"Thorny\": [],\n",
    "    \"Rabbit\": []\n",
    "}\n",
    "\n",
    "# Adding new pullover records\n",
    "record_pullover(pullovers, \"Farva\", \"meow_game\")\n",
    "record_pullover(pullovers, \"Mac\", \"speeding\")\n",
    "record_pullover(pullovers, \"Thorny\", \"littering\")\n",
    "\n",
    "# Calculating the average pullovers\n",
    "avg_pullovers = calculate_pullover_average(15, len(pullovers))  # Pass valid data\n",
    "\n",
    "# Print results\n",
    "print(\"Average pullovers per officer:\", avg_pullovers)"
   ]
  },
  {
   "cell_type": "markdown",
   "id": "16",
   "metadata": {},
   "source": []
  },
  {
   "cell_type": "markdown",
   "id": "17",
   "metadata": {},
   "source": [
    "### Output After Debugging ✅\n",
    "\n",
    "```\n",
    "Average pullovers per officer: 3.75\n",
    "```\n"
   ]
  },
  {
   "cell_type": "markdown",
   "id": "18",
   "metadata": {},
   "source": [
    "### Lessons Learned from Debugging the Super Troopers' Code 🐱‍👤:\n"
   ]
  },
  {
   "cell_type": "markdown",
   "id": "19",
   "metadata": {},
   "source": [
    "1. **Syntax Errors** stop your code from running. Always double-check your parentheses and function calls."
   ]
  },
  {
   "cell_type": "markdown",
   "id": "20",
   "metadata": {},
   "source": [
    "1. **Runtime Errors** occur during execution. Anticipate them with safeguards (e.g., `if num_officers == 0`)."
   ]
  },
  {
   "cell_type": "markdown",
   "id": "21",
   "metadata": {},
   "source": [
    "1. **Semantic Errors** give incorrect results. Test your program with realistic scenarios to catch logic flaws.\n",
    "\n",
    "Now, the troopers can focus on their antics while Farva enjoys his accurate *pullover statistics*! 🚔😂"
   ]
  }
 ],
 "metadata": {
  "kernelspec": {
   "display_name": "engr131_dev",
   "language": "python",
   "name": "python3"
  },
  "language_info": {
   "codemirror_mode": {
    "name": "ipython",
    "version": 3
   },
   "file_extension": ".py",
   "mimetype": "text/x-python",
   "name": "python",
   "nbconvert_exporter": "python",
   "pygments_lexer": "ipython3",
   "version": "3.12.7"
  }
 },
 "nbformat": 4,
 "nbformat_minor": 5
}
