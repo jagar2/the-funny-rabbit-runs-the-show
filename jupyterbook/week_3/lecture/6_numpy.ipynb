{
 "cells": [
  {
   "cell_type": "markdown",
   "id": "0",
   "metadata": {
    "slideshow": {
     "slide_type": "slide"
    }
   },
   "source": [
    "# 📝 NumPy Quickstart Guide with a Rainman Spin 🌟\n",
    "\n",
    "\"Definitely. Definitely Python. Definitely NumPy.\"\n",
    "\n",
    "![Rainman](./assets/figures/Rainman.jpeg)"
   ]
  },
  {
   "cell_type": "markdown",
   "id": "1",
   "metadata": {
    "slideshow": {
     "slide_type": "slide"
    }
   },
   "source": [
    "## What is NumPy?\n",
    "\n",
    "NumPy is Raymond Babbitt’s cheat sheet for scientific computing: fast, accurate, and reliable.\n",
    "\n",
    "```{admonition} Definition\n",
    "NumPy is a Python library that provides support for large, multi-dimensional arrays and matrices, along with a collection of mathematical functions to operate on them.\n",
    "```\n",
    "\n",
    "- Provides multi-dimensional arrays and math functions.\n",
    "- Used indirectly in Pandas, Matplotlib, SciPy, and many other libraries.\n"
   ]
  },
  {
   "cell_type": "markdown",
   "id": "2",
   "metadata": {
    "slideshow": {
     "slide_type": "slide"
    }
   },
   "source": [
    "## Why Use NumPy?\n",
    "\n",
    "```{admonition} Definition\n",
    "A NumPy array is a grid-like data structure for storing numerical data efficiently. Unlike Python lists, all elements must have the same data type.\n",
    "```\n",
    "\n",
    "- Memory Efficient: Uses less memory than Python lists.\n",
    "- Fast Operations: Optimized with C for lightning-speed calculations.\n",
    "- Advanced Math: Functions like linear algebra, Fourier transforms, and random sampling.\n"
   ]
  },
  {
   "cell_type": "markdown",
   "id": "3",
   "metadata": {
    "slideshow": {
     "slide_type": "slide"
    }
   },
   "source": [
    "## How to Import NumPy\n"
   ]
  },
  {
   "cell_type": "code",
   "execution_count": null,
   "id": "4",
   "metadata": {
    "slideshow": {
     "slide_type": "fragment"
    }
   },
   "outputs": [],
   "source": [
    "import numpy as np"
   ]
  },
  {
   "cell_type": "markdown",
   "id": "5",
   "metadata": {
    "slideshow": {
     "slide_type": "fragment"
    }
   },
   "source": [
    "\n",
    "```{admonition} Definition\n",
    "Standard alias: Using `np` is the standard alias for NumPy. It ensures consistency across projects and avoids naming conflicts.\n",
    "```\n"
   ]
  },
  {
   "cell_type": "markdown",
   "id": "6",
   "metadata": {
    "slideshow": {
     "slide_type": "slide"
    }
   },
   "source": [
    "## Creating and Accessing Arrays\n",
    "\n",
    "```{admonition} Definition\n",
    "An array is a data structure in NumPy that stores elements in a grid-like format. Arrays can be one-dimensional, two-dimensional (matrices), or higher-dimensional (tensors).\n",
    "```\n",
    "\n",
    "```{note}\n",
    "python always starts with 0 as the first index\n",
    "```"
   ]
  },
  {
   "cell_type": "code",
   "execution_count": null,
   "id": "7",
   "metadata": {
    "slideshow": {
     "slide_type": "fragment"
    }
   },
   "outputs": [],
   "source": [
    "a = np.array([1, 2, 3, 4, 5, 6])  # 1D array\n",
    "print(a[0])  # Access the first element"
   ]
  },
  {
   "cell_type": "markdown",
   "id": "8",
   "metadata": {
    "slideshow": {
     "slide_type": "fragment"
    }
   },
   "source": [
    "\n",
    "```{admonition} Definition\n",
    "Mutability: Arrays are mutable, allowing modification of their elements.\n",
    "```\n"
   ]
  },
  {
   "cell_type": "code",
   "execution_count": null,
   "id": "9",
   "metadata": {
    "slideshow": {
     "slide_type": "fragment"
    }
   },
   "outputs": [],
   "source": [
    "a[0] = 10\n",
    "print(a)  # [10, 2, 3, 4, 5, 6]"
   ]
  },
  {
   "cell_type": "markdown",
   "id": "10",
   "metadata": {
    "slideshow": {
     "slide_type": "slide"
    }
   },
   "source": [
    "## Reshaping Arrays\n"
   ]
  },
  {
   "cell_type": "code",
   "execution_count": null,
   "id": "11",
   "metadata": {
    "slideshow": {
     "slide_type": "fragment"
    }
   },
   "outputs": [],
   "source": [
    "a = np.arange(6)  # Create an array [0, 1, 2, 3, 4, 5]\n",
    "b = a.reshape(3, 2)  # Reshape into 3x2 matrix\n",
    "print(b)"
   ]
  },
  {
   "cell_type": "markdown",
   "id": "12",
   "metadata": {
    "slideshow": {
     "slide_type": "fragment"
    }
   },
   "source": [
    "\n",
    "```{admonition} Definition\n",
    "Reshaping transforms the shape of an array while keeping the total number of elements constant.\n",
    "```\n",
    "\n",
    "- Dynamic Reshaping: Rearrange data without altering values.\n"
   ]
  },
  {
   "cell_type": "markdown",
   "id": "13",
   "metadata": {
    "slideshow": {
     "slide_type": "slide"
    }
   },
   "source": [
    "## Array Attributes\n",
    "\n",
    "```{tip}\n",
    "NumPy provides attributes like `.ndim`, `.shape`, `.size`, and `.dtype` to describe arrays.\n",
    "```\n"
   ]
  },
  {
   "cell_type": "code",
   "execution_count": null,
   "id": "14",
   "metadata": {
    "slideshow": {
     "slide_type": "fragment"
    }
   },
   "outputs": [],
   "source": [
    "a = np.array([[1, 2, 3], [4, 5, 6]])\n",
    "print(a.ndim)  # Number of dimensions\n",
    "print(a.shape)  # Shape (rows, columns)\n",
    "print(a.size)  # Total elements\n",
    "print(a.dtype)  # Data type"
   ]
  },
  {
   "cell_type": "markdown",
   "id": "15",
   "metadata": {
    "slideshow": {
     "slide_type": "slide"
    }
   },
   "source": [
    "## Mathematical Operations\n",
    "\n",
    "NumPy performs operations element-wise by default.\n",
    "\n",
    "```{admonition} Definition\n",
    "Element-wise operations apply mathematical operations to each element of an array independently.\n",
    "```\n"
   ]
  },
  {
   "cell_type": "code",
   "execution_count": null,
   "id": "16",
   "metadata": {
    "slideshow": {
     "slide_type": "fragment"
    }
   },
   "outputs": [],
   "source": [
    "a = np.array([1, 2, 3, 4])\n",
    "b = np.array([5, 6, 7, 8])"
   ]
  },
  {
   "cell_type": "code",
   "execution_count": null,
   "id": "17",
   "metadata": {
    "slideshow": {
     "slide_type": "fragment"
    }
   },
   "outputs": [],
   "source": [
    "# Addition\n",
    "print(a + b)  # [6, 8, 10, 12]"
   ]
  },
  {
   "cell_type": "code",
   "execution_count": null,
   "id": "18",
   "metadata": {
    "slideshow": {
     "slide_type": "fragment"
    }
   },
   "outputs": [],
   "source": [
    "# Multiplication\n",
    "print(a * b)  # [5, 12, 21, 32]"
   ]
  },
  {
   "cell_type": "code",
   "execution_count": null,
   "id": "19",
   "metadata": {
    "slideshow": {
     "slide_type": "fragment"
    }
   },
   "outputs": [],
   "source": [
    "# Sum of all elements\n",
    "print(a.sum())  # 10"
   ]
  },
  {
   "cell_type": "markdown",
   "id": "20",
   "metadata": {
    "slideshow": {
     "slide_type": "slide"
    }
   },
   "source": [
    "## Broadcasting\n"
   ]
  },
  {
   "cell_type": "code",
   "execution_count": null,
   "id": "21",
   "metadata": {
    "slideshow": {
     "slide_type": "fragment"
    }
   },
   "outputs": [],
   "source": [
    "a = np.array([1, 2, 3])\n",
    "print(a + 5)  # Adds 5 to every element [6, 7, 8]"
   ]
  },
  {
   "cell_type": "markdown",
   "id": "22",
   "metadata": {
    "slideshow": {
     "slide_type": "fragment"
    }
   },
   "source": [
    "\n",
    "```{admonition} Definition\n",
    "Broadcasting allows NumPy to perform operations on arrays with different shapes by stretching the smaller array to match the shape of the larger one.\n",
    "```\n"
   ]
  },
  {
   "cell_type": "markdown",
   "id": "23",
   "metadata": {
    "slideshow": {
     "slide_type": "slide"
    }
   },
   "source": [
    "## Finding Min and Max\n"
   ]
  },
  {
   "cell_type": "code",
   "execution_count": null,
   "id": "24",
   "metadata": {
    "slideshow": {
     "slide_type": "fragment"
    }
   },
   "outputs": [],
   "source": [
    "data = np.array([[3, 7, 1], [4, 5, 9]])\n",
    "print(np.max(data))  # Global maximum"
   ]
  },
  {
   "cell_type": "code",
   "execution_count": null,
   "id": "25",
   "metadata": {
    "slideshow": {
     "slide_type": "fragment"
    }
   },
   "outputs": [],
   "source": [
    "print(np.min(data, axis=0))  # Min along columns"
   ]
  },
  {
   "cell_type": "code",
   "execution_count": null,
   "id": "26",
   "metadata": {
    "slideshow": {
     "slide_type": "fragment"
    }
   },
   "outputs": [],
   "source": [
    "print(np.argmax(data))  # Index of max value"
   ]
  },
  {
   "cell_type": "markdown",
   "id": "27",
   "metadata": {
    "slideshow": {
     "slide_type": "fragment"
    }
   },
   "source": [
    "\n",
    "```{admonition} Definition\n",
    "Min/Max functions (`np.max`, `np.min`) return the largest/smallest values in an array. Axis-based operations apply along rows or columns.\n",
    "```\n"
   ]
  },
  {
   "cell_type": "markdown",
   "id": "28",
   "metadata": {
    "slideshow": {
     "slide_type": "slide"
    }
   },
   "source": [
    "## Sorting and Unique Elements\n"
   ]
  },
  {
   "cell_type": "code",
   "execution_count": null,
   "id": "29",
   "metadata": {
    "slideshow": {
     "slide_type": "fragment"
    }
   },
   "outputs": [],
   "source": [
    "data = np.array([3, 1, 4, 1, 5])\n",
    "\n",
    "# Sort\n",
    "print(np.sort(data))  # [1, 1, 3, 4, 5]\n",
    "\n",
    "# Unique elements\n",
    "unique, counts = np.unique(data, return_counts=True)\n",
    "print(unique)  # [1, 3, 4, 5]\n",
    "print(counts)  # [2, 1, 1, 1]"
   ]
  },
  {
   "cell_type": "markdown",
   "id": "30",
   "metadata": {
    "slideshow": {
     "slide_type": "fragment"
    }
   },
   "source": [
    "\n",
    "```{note}\n",
    "Sorting organizes elements in ascending order. `np.unique` finds unique elements and their counts in an array.\n",
    "```\n"
   ]
  },
  {
   "cell_type": "markdown",
   "id": "31",
   "metadata": {
    "slideshow": {
     "slide_type": "slide"
    }
   },
   "source": [
    "## Preallocating Memory\n"
   ]
  },
  {
   "cell_type": "code",
   "execution_count": null,
   "id": "32",
   "metadata": {
    "slideshow": {
     "slide_type": "fragment"
    }
   },
   "outputs": [],
   "source": [
    "zeros = np.zeros((3, 3))  # 3x3 matrix of zeros\n",
    "ones = np.ones((2, 4))  # 2x4 matrix of ones\n",
    "filled = np.full((3, 3), 42)  # 3x3 matrix filled with 42"
   ]
  },
  {
   "cell_type": "markdown",
   "id": "33",
   "metadata": {
    "slideshow": {
     "slide_type": "fragment"
    }
   },
   "source": [
    "\n",
    "```{note}\n",
    "Preallocating memory improves performance by creating arrays with fixed sizes and default values before computation.\n",
    "```\n"
   ]
  },
  {
   "cell_type": "markdown",
   "id": "34",
   "metadata": {
    "slideshow": {
     "slide_type": "slide"
    }
   },
   "source": [
    "## Linear Algebra\n",
    "\n",
    "```{admonition} Definition\n",
    "Linear algebra operations, such as matrix multiplication and eigenvalue decomposition, are essential for scientific and engineering applications.\n",
    "```\n"
   ]
  },
  {
   "cell_type": "code",
   "execution_count": null,
   "id": "35",
   "metadata": {
    "slideshow": {
     "slide_type": "fragment"
    }
   },
   "outputs": [],
   "source": [
    "matrix = np.array([[1, 2], [3, 4]])\n",
    "\n",
    "# Matrix Multiplication\n",
    "result = np.dot(matrix, matrix)\n",
    "\n",
    "# Eigenvalues and Eigenvectors\n",
    "eigvals, eigvecs = np.linalg.eig(matrix)"
   ]
  },
  {
   "cell_type": "markdown",
   "id": "36",
   "metadata": {
    "slideshow": {
     "slide_type": "slide"
    }
   },
   "source": [
    "## Random Sampling\n",
    "\n",
    "```{admonition} Definition\n",
    "Random sampling generates random values for simulations, model initialization, or probabilistic computations.\n",
    "```\n"
   ]
  },
  {
   "cell_type": "code",
   "execution_count": null,
   "id": "37",
   "metadata": {
    "slideshow": {
     "slide_type": "fragment"
    }
   },
   "outputs": [],
   "source": [
    "rng = np.random.default_rng()\n",
    "\n",
    "# Random floats\n",
    "print(rng.random(5))  # 5 random numbers between 0 and 1\n",
    "\n",
    "# Random integers\n",
    "print(rng.integers(10, size=(2, 3)))  # 2x3 matrix of random integers"
   ]
  },
  {
   "cell_type": "markdown",
   "id": "38",
   "metadata": {
    "slideshow": {
     "slide_type": "slide"
    }
   },
   "source": [
    "## Saving and Loading Data\n",
    "\n",
    "```{admonition} Definition\n",
    "Save and load methods enable storage of NumPy arrays in binary or text formats for reuse in other projects.\n",
    "```\n"
   ]
  },
  {
   "cell_type": "code",
   "execution_count": null,
   "id": "39",
   "metadata": {
    "slideshow": {
     "slide_type": "fragment"
    }
   },
   "outputs": [],
   "source": [
    "# Save and load arrays in binary format\n",
    "np.save(\"array.npy\", a)\n",
    "loaded = np.load(\"array.npy\")"
   ]
  },
  {
   "cell_type": "code",
   "execution_count": null,
   "id": "40",
   "metadata": {
    "slideshow": {
     "slide_type": "fragment"
    }
   },
   "outputs": [],
   "source": [
    "# Save and load arrays in text format\n",
    "np.savetxt(\"array.csv\", a, delimiter=\",\")\n",
    "loaded_text = np.loadtxt(\"array.csv\", delimiter=\",\")"
   ]
  },
  {
   "cell_type": "markdown",
   "id": "41",
   "metadata": {
    "slideshow": {
     "slide_type": "slide"
    }
   },
   "source": [
    "## Advanced Mathematical Operations\n",
    "\n",
    "```{admonition} Definition\n",
    "NumPy provides a wide range of mathematical tools for advanced computations, including exponentials, logarithms, and trigonometric functions.\n",
    "```\n"
   ]
  },
  {
   "cell_type": "code",
   "execution_count": null,
   "id": "42",
   "metadata": {
    "slideshow": {
     "slide_type": "fragment"
    }
   },
   "outputs": [],
   "source": [
    "x = np.array([1, 2, 3])\n",
    "\n",
    "# Exponential and logarithms\n",
    "print(np.exp(x))  # [e^1, e^2, e^3]\n",
    "print(np.log(x))  # [log(1), log(2), log(3)]"
   ]
  },
  {
   "cell_type": "code",
   "execution_count": null,
   "id": "43",
   "metadata": {
    "slideshow": {
     "slide_type": "fragment"
    }
   },
   "outputs": [],
   "source": [
    "# Trigonometric functions\n",
    "angles = np.array([0, np.pi / 2, np.pi])\n",
    "print(np.sin(angles))  # Sine values"
   ]
  },
  {
   "cell_type": "markdown",
   "id": "44",
   "metadata": {
    "slideshow": {
     "slide_type": "slide"
    }
   },
   "source": [
    "## Summary of Methods\n",
    "\n",
    "NumPy provides tools for:\n",
    "\n",
    "- Array creation (`np.array`, `np.zeros`, `np.ones`).\n",
    "- Array reshaping (`reshape`, `ravel`).\n",
    "- Element-wise operations (`+`, `*`, `sum`, etc.).\n",
    "- Statistical analysis (`mean`, `std`, `min`, `max`).\n",
    "- Linear algebra (`np.linalg` methods like `det` and `eig`).\n",
    "- Random sampling (`np.random`).\n",
    "- Sorting and uniqueness (`np.sort`, `np.unique`).\n",
    "\n",
    "\"Yeah, definitely NumPy. Definitely the best.\" 🚀"
   ]
  }
 ],
 "metadata": {
  "kernelspec": {
   "display_name": "engr131_dev",
   "language": "python",
   "name": "python3"
  },
  "language_info": {
   "codemirror_mode": {
    "name": "ipython",
    "version": 3
   },
   "file_extension": ".py",
   "mimetype": "text/x-python",
   "name": "python",
   "nbconvert_exporter": "python",
   "pygments_lexer": "ipython3",
   "version": "3.12.7"
  }
 },
 "nbformat": 4,
 "nbformat_minor": 5
}
