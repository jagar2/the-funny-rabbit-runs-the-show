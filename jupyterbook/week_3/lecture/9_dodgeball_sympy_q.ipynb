{
 "cells": [
  {
   "cell_type": "code",
   "execution_count": null,
   "metadata": {
    "deletable": false,
    "editable": false,
    "slideshow": {
     "slide_type": "fragment"
    },
    "tags": [
     "skip-execution"
    ]
   },
   "outputs": [],
   "source": [
    "# You must make sure to run all cells in sequence using shift + enter or you might encounter errors\n",
    "from pykubegrader.initialize import initialize_assignment\n",
    "\n",
    "responses = initialize_assignment(\"9_dodgeball_sympy_q\", \"week_3\", \"lecture\", assignment_points = 5.0, assignment_tag = 'week3-lecture')\n",
    "\n",
    "# Initialize Otter\n",
    "import otter\n",
    "grader = otter.Notebook(\"9_dodgeball_sympy_q.ipynb\")"
   ]
  },
  {
   "cell_type": "markdown",
   "metadata": {
    "slideshow": {
     "slide_type": "slide"
    }
   },
   "source": [
    "# Dodgeball: Simple Symbolic Projectile Motion\n",
    "\n",
    "## Instructions:\n",
    "In the dodgeball arena, a player throws the ball with an initial velocity. Your task is to:\n",
    "\n",
    "1. Use SymPy to solve the height equation $h(t) = v_0t - \\frac{1}{2}gt^2$ for the time when the ball hits the ground.\n",
    "2. Assume $v_0 = 15$ m/s and $g = 9.8$ m/s².\n",
    "\n",
    "Your solution must include:\n",
    "A function `solve_projectile_time()` that (we have provided this function for you):\n",
    "\n",
    "1. Define the symbols `t`, `v0`, and `g`.\n",
    "2. Define the height equation `h` symbolically.\n",
    "3. Solve the height equation for time when height is zero. To do this, use the `solve()` function, which takes two arguments: the equation to solve and the variable to solve for, in this case `t`.\n",
    "4. Build the dictionaries with the values to substitute. We have provided the code for you to filter positive times - it would not make sense to have a negative time.\n",
    "5. Compute the time by substituting the values of `v0` and `g` into the equation. We did this using the `subs()` function, which takes a dictionary of symbols and values to substitute. We didn't want you to do this step because it requires a loop which you have not learned yet. \n"
   ]
  },
  {
   "cell_type": "code",
   "execution_count": null,
   "metadata": {
    "slideshow": {
     "slide_type": "fragment"
    },
    "tags": [
     "skip-execution"
    ]
   },
   "outputs": [],
   "source": [
    "from sympy import symbols, solve, N  # Import N for numeric evaluation\n",
    "\n",
    "def solve_projectile_time():\n",
    "    # 1. Define symbols\n",
    "    ...\n",
    "    \n",
    "    # 2. Height equation\n",
    "    ...\n",
    "    \n",
    "    # 3. Solve for time when h = 0\n",
    "    ...\n",
    "    \n",
    "    # 4. Define the values dictionaries\n",
    "    ...\n",
    "\n",
    "    # Substitute numerical values for v0 and g to filter positive times\n",
    "    substituted_solutions = [sol.subs(values_dictionary) for sol in time_solutions]\n",
    "\n",
    "    # Filter positive numerical solutions\n",
    "    positive_time = [sol for sol in substituted_solutions if N(sol) > 0][0]\n",
    "\n",
    "    # Return the positive time as a numeric value\n",
    "    return N(positive_time)\n",
    "\n",
    "\n",
    "# Example usage\n",
    "result = solve_projectile_time()\n",
    "print(f\"Time when the ball hits the ground: {result:.2f} seconds\")"
   ]
  },
  {
   "cell_type": "code",
   "execution_count": null,
   "metadata": {
    "deletable": false,
    "editable": false,
    "slideshow": {
     "slide_type": "fragment"
    },
    "tags": [
     "skip-execution"
    ]
   },
   "outputs": [],
   "source": [
    "grader.check(\"Dodgeball-w-sympy\")"
   ]
  },
  {
   "cell_type": "markdown",
   "metadata": {
    "slideshow": {
     "slide_type": "slide"
    }
   },
   "source": [
    "## Submitting Assignment\n",
    "\n",
    "Please run the following block of code using `shift + enter` to submit your assignment, you should see your score."
   ]
  },
  {
   "cell_type": "code",
   "execution_count": null,
   "id": "5",
   "metadata": {
    "deletable": false,
    "editable": false,
    "slideshow": {
     "slide_type": "fragment"
    },
    "tags": [
     "skip-execution"
    ]
   },
   "outputs": [],
   "source": [
    "from pykubegrader.submit.submit_assignment import submit_assignment\n",
    "\n",
    "submit_assignment(\"week3-lecture\", \"9_dodgeball_sympy_q\")"
   ]
  }
 ],
 "metadata": {
  "kernelspec": {
   "display_name": "engr131_dev",
   "language": "python",
   "name": "python3"
  },
  "language_info": {
   "codemirror_mode": {
    "name": "ipython",
    "version": 3
   },
   "file_extension": ".py",
   "mimetype": "text/x-python",
   "name": "python",
   "nbconvert_exporter": "python",
   "pygments_lexer": "ipython3",
   "version": "3.12.7"
  },
  "otter": {
   "OK_FORMAT": true,
   "tests": {
    "Dodgeball-w-sympy": {
     "name": "Dodgeball-w-sympy",
     "points": null,
     "suites": [
      {
       "cases": [
        {
         "code": ">>> from pykubegrader.telemetry import ensure_responses, log_variable, score_question, submit_question, telemetry, update_responses\n>>> import os\n>>> import inspect\n>>> import re\n>>> from sympy import symbols, solve, N\n>>> max_question_points = str(5.0)\n>>> earned_points = 0\n>>> os.environ['EARNED_POINTS'] = str(earned_points)\n>>> os.environ['TOTAL_POINTS_FREE_RESPONSE'] = str(5.0)\n>>> log_variable('total-points', f'Reading-Week-X, 9_dodgeball_sympy_q', 5.0)\n>>> question_id = 'Dodgeball-w-sympy-1'\n>>> max_score = 1.0\n>>> score = 0\n>>> def get_solve_projectile_time_code(func):\n...     \"\"\"\n...     Returns the source code of solve_projectile_time() as a string.\n...     \"\"\"\n...     return inspect.getsource(func)\n>>> code = get_solve_projectile_time_code(solve_projectile_time)\n>>> symbols_pattern = 'v0\\\\s*,\\\\s*g\\\\s*,\\\\s*t\\\\s*=\\\\s*symbols\\\\s*\\\\(\\\\s*[\\\\\"\\']v0\\\\s+g\\\\s+t[\\\\\"\\']\\\\s*\\\\)'\n>>> symbols_pattern_found = bool(re.search(symbols_pattern, code))\n>>> assert symbols_pattern_found, \"You must define v0, g, t = symbols('v0 g t').\"\n>>> if symbols_pattern_found:\n...     score = 1.0\n>>> earned_points = float(os.environ.get('EARNED_POINTS', 0))\n>>> earned_points += score\n>>> log_variable('9_dodgeball_sympy_q', f'{score}, {max_score}', question_id)\n>>> os.environ['EARNED_POINTS'] = str(earned_points)\n>>> responses = update_responses(question_id, str(symbols_pattern_found))\n",
         "failure_message": "Failed: You must define v0, g, t = symbols('v0 g t').",
         "hidden": false,
         "locked": false,
         "points": 1,
         "success_message": "Success: v0, g, t are defined as symbols in the function."
        },
        {
         "code": ">>> from pykubegrader.telemetry import ensure_responses, log_variable, score_question, submit_question, telemetry, update_responses\n>>> import os\n>>> import inspect\n>>> import re\n>>> from sympy import symbols, solve, N\n>>> question_id = 'Dodgeball-w-sympy-2'\n>>> max_score = 1.0\n>>> score = 0\n>>> def get_solve_projectile_time_code(func):\n...     \"\"\"\n...     Returns the source code of solve_projectile_time() as a string.\n...     \"\"\"\n...     return inspect.getsource(func)\n>>> code = get_solve_projectile_time_code(solve_projectile_time)\n>>> height_pattern = 'h\\\\s*=\\\\s*v0\\\\s*\\\\*\\\\s*t\\\\s*-\\\\s*\\\\(\\\\s*1\\\\s*\\\\/\\\\s*2\\\\s*\\\\)\\\\s*\\\\*\\\\s*g\\\\s*\\\\*\\\\s*t\\\\*\\\\*2'\n>>> height_pattern_found = bool(re.search(height_pattern, code))\n>>> assert height_pattern_found, 'You must define h = v0*t - (1/2)*g*t**2 exactly.'\n>>> if height_pattern_found:\n...     score = 1.0\n>>> earned_points = float(os.environ.get('EARNED_POINTS', 0))\n>>> earned_points += score\n>>> log_variable('9_dodgeball_sympy_q', f'{score}, {max_score}', question_id)\n>>> os.environ['EARNED_POINTS'] = str(earned_points)\n",
         "failure_message": "Failed: You must define h = v0*t - (1/2)*g*t**2 in the code.",
         "hidden": false,
         "locked": false,
         "points": 1,
         "success_message": "Success: The height equation is defined as h = v0*t - (1/2)*g*t^2."
        },
        {
         "code": ">>> from pykubegrader.telemetry import ensure_responses, log_variable, score_question, submit_question, telemetry, update_responses\n>>> import os\n>>> import inspect\n>>> import re\n>>> from sympy import symbols, solve, N\n>>> question_id = 'Dodgeball-w-sympy-3'\n>>> max_score = 1.0\n>>> score = 0\n>>> def get_solve_projectile_time_code(func):\n...     \"\"\"\n...     Returns the source code of solve_projectile_time() as a string.\n...     \"\"\"\n...     return inspect.getsource(func)\n>>> code = get_solve_projectile_time_code(solve_projectile_time)\n>>> solve_pattern = 'solve\\\\s*\\\\(\\\\s*h\\\\s*,\\\\s*t\\\\s*\\\\)'\n>>> solve_pattern_found = bool(re.search(solve_pattern, code))\n>>> assert solve_pattern_found, 'You must call solve(h, t) to find the times when h=0.'\n>>> if solve_pattern_found:\n...     score = 1.0\n>>> earned_points = float(os.environ.get('EARNED_POINTS', 0))\n>>> earned_points += score\n>>> log_variable('9_dodgeball_sympy_q', f'{score}, {max_score}', question_id)\n>>> os.environ['EARNED_POINTS'] = str(earned_points)\n",
         "failure_message": "Failed: Must call solve(h, t).",
         "hidden": false,
         "locked": false,
         "points": 1,
         "success_message": "Success: The code uses solve(h, t) from Sympy to find time solutions."
        },
        {
         "code": ">>> from pykubegrader.telemetry import ensure_responses, log_variable, score_question, submit_question, telemetry, update_responses\n>>> import os\n>>> question_id = 'Dodgeball-w-sympy-4'\n>>> max_score = 2.0\n>>> score = 0\n>>> expected_time = 2 * 15 / 9.8\n>>> lower_bound = expected_time * 0.98\n>>> upper_bound = expected_time * 1.02\n>>> positive_time = solve_projectile_time()\n>>> condition = lower_bound <= positive_time <= upper_bound\n>>> assert condition, f'Time was {positive_time:.3f}, but expected ~{expected_time:.3f} within ±2%.'\n>>> if condition:\n...     score = 2.0\n>>> earned_points = float(os.environ.get('EARNED_POINTS', 0))\n>>> earned_points += score\n>>> log_variable('9_dodgeball_sympy_q', f'{score}, {max_score}', question_id)\n>>> os.environ['EARNED_POINTS'] = str(earned_points)\n",
         "failure_message": "Failed: The time is incorrect or negative for v0=15, g=9.8.",
         "hidden": false,
         "locked": false,
         "points": 2,
         "success_message": "Success: The function returns a physically correct positive time for v0=15, g=9.8."
        }
       ],
       "scored": true,
       "setup": "",
       "teardown": "",
       "type": "doctest"
      }
     ]
    }
   }
  }
 },
 "nbformat": 4,
 "nbformat_minor": 2
}
