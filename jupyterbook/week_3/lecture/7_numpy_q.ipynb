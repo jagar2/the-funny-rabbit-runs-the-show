{
 "cells": [
  {
   "cell_type": "code",
   "execution_count": null,
   "metadata": {
    "deletable": false,
    "editable": false,
    "slideshow": {
     "slide_type": "fragment"
    },
    "tags": [
     "skip-execution"
    ]
   },
   "outputs": [],
   "source": [
    "# You must make sure to run all cells in sequence using shift + enter or you might encounter errors\n",
    "from pykubegrader.initialize import initialize_assignment\n",
    "\n",
    "responses = initialize_assignment(\"7_numpy_q\", \"week_2\", \"lecture\", assignment_points = 5.0, assignment_tag = 'week2-lecture')\n",
    "\n",
    "# Initialize Otter\n",
    "import otter\n",
    "grader = otter.Notebook(\"7_numpy_q.ipynb\")"
   ]
  },
  {
   "cell_type": "markdown",
   "metadata": {
    "slideshow": {
     "slide_type": "slide"
    }
   },
   "source": [
    "# Sorting M&Ms with NumPy\n",
    "\n",
    "![](./assets/figures/m-m-fun-questions.avif)\n",
    "\n"
   ]
  },
  {
   "cell_type": "markdown",
   "metadata": {
    "slideshow": {
     "slide_type": "slide"
    }
   },
   "source": [
    "## Instructions:\n",
    "Imagine you work at an M&M sorting facility. You receive a batch of M&Ms in random order, and your task is to sort them by size using NumPy's built-in sorting functionality.\n",
    "\n",
    "Write a function `sort_mm_sizes()` that:\n",
    "    1. Imports NumPy as `np`.\n",
    "    2. Takes a NumPy array of integers representing the sizes of M&Ms.\n",
    "    3. Sorts the array in ascending order using NumPy's `np.sort()` method.\n",
    "    4. Returns the sorted array."
   ]
  },
  {
   "cell_type": "code",
   "execution_count": null,
   "metadata": {
    "slideshow": {
     "slide_type": "fragment"
    },
    "tags": [
     "skip-execution"
    ]
   },
   "outputs": [],
   "source": [
    "...\n",
    "\n",
    "\n",
    "def sort_mm_sizes(mm_sizes):\n",
    "\n",
    "    # Sort the array using NumPy's built-in method\n",
    "    ...\n",
    "    return sorted_sizes\n",
    "\n",
    "\n",
    "# Example usage\n",
    "mm_sizes = np.array([3, 1, 4, 1, 5, 9])\n",
    "sorted_sizes = sort_mm_sizes(mm_sizes)\n",
    "print(\"Sorted M&M sizes:\", sorted_sizes)"
   ]
  },
  {
   "cell_type": "code",
   "execution_count": null,
   "metadata": {
    "deletable": false,
    "editable": false,
    "slideshow": {
     "slide_type": "fragment"
    },
    "tags": [
     "skip-execution"
    ]
   },
   "outputs": [],
   "source": [
    "grader.check(\"numpy-mm-sorting\")"
   ]
  },
  {
   "cell_type": "markdown",
   "metadata": {
    "slideshow": {
     "slide_type": "slide"
    }
   },
   "source": [
    "## Submitting Assignment\n",
    "\n",
    "Please run the following block of code using `shift + enter` to submit your assignment, you should see your score."
   ]
  },
  {
   "cell_type": "code",
   "execution_count": null,
   "id": "6",
   "metadata": {
    "deletable": false,
    "editable": false,
    "slideshow": {
     "slide_type": "fragment"
    },
    "tags": [
     "skip-execution"
    ]
   },
   "outputs": [],
   "source": [
    "from pykubegrader.submit.submit_assignment import submit_assignment\n",
    "\n",
    "submit_assignment(\"week2-lecture\", \"7_numpy_q\")"
   ]
  }
 ],
 "metadata": {
  "kernelspec": {
   "display_name": "engr131_dev",
   "language": "python",
   "name": "python3"
  },
  "language_info": {
   "codemirror_mode": {
    "name": "ipython",
    "version": 3
   },
   "file_extension": ".py",
   "mimetype": "text/x-python",
   "name": "python",
   "nbconvert_exporter": "python",
   "pygments_lexer": "ipython3",
   "version": "3.12.7"
  },
  "otter": {
   "OK_FORMAT": true,
   "tests": {
    "numpy-mm-sorting": {
     "name": "numpy-mm-sorting",
     "points": null,
     "suites": [
      {
       "cases": [
        {
         "code": ">>> from pykubegrader.telemetry import ensure_responses, log_variable, score_question, submit_question, telemetry, update_responses\n>>> import os\n>>> max_question_points = str(5.0)\n>>> earned_points = 0\n>>> os.environ['EARNED_POINTS'] = str(earned_points)\n>>> os.environ['TOTAL_POINTS_FREE_RESPONSE'] = str(5.0)\n>>> log_variable('total-points', f'Reading-Week-X, 7_numpy_q', 5.0)\n>>> question_id = 'numpy-mm-sorting-1'\n>>> max_score = 1.0\n>>> score = 0\n>>> condition = 'np' in globals()\n>>> assert condition, \"You must import numpy using the alias 'np'.\"\n>>> if condition:\n...     score = 1.0\n>>> earned_points = float(os.environ.get('EARNED_POINTS', 0))\n>>> earned_points += score\n>>> log_variable('7_numpy_q', f'{score}, {max_score}', question_id)\n>>> os.environ['EARNED_POINTS'] = str(earned_points)\n>>> responses = update_responses(question_id, str(condition))\n",
         "failure_message": "Failed: You must import numpy using the alias 'np'.",
         "hidden": false,
         "locked": false,
         "points": 1,
         "success_message": "Success: 'numpy' is imported as 'np'!"
        },
        {
         "code": ">>> from pykubegrader.telemetry import ensure_responses, log_variable, score_question, submit_question, telemetry, update_responses\n>>> import os\n>>> import numpy as np\n>>> question_id = 'numpy-mm-sorting-2'\n>>> max_score = 2.0\n>>> score = 0\n>>> input_array = np.array([3, 1, 4, 1, 5, 9])\n>>> expected_output = np.array([1, 1, 3, 4, 5, 9])\n>>> actual_output = sort_mm_sizes(input_array)\n>>> assert np.array_equal(actual_output, expected_output), f'Expected sorted array {expected_output}, but got {actual_output}.'\n>>> if np.array_equal(actual_output, expected_output):\n...     score = 2.0\n>>> earned_points = float(os.environ.get('EARNED_POINTS', 0))\n>>> earned_points += score\n>>> log_variable('7_numpy_q', f'{score}, {max_score}', question_id)\n>>> os.environ['EARNED_POINTS'] = str(earned_points)\n>>> responses = update_responses(question_id, str(input_array))\n>>> responses = update_responses(question_id, str(expected_output))\n>>> responses = update_responses(question_id, str(actual_output))\n",
         "failure_message": "Failed: sort_mm_sizes does not correctly sort a typical M&M sizes array.",
         "hidden": false,
         "locked": false,
         "points": 2,
         "success_message": "Success: sort_mm_sizes correctly sorts a typical M&M sizes array!"
        },
        {
         "code": ">>> from pykubegrader.telemetry import ensure_responses, log_variable, score_question, submit_question, telemetry, update_responses\n>>> import os\n>>> import numpy as np\n>>> question_id = 'numpy-mm-sorting-3'\n>>> max_score = 2.0\n>>> score = 0\n>>> input_array = np.array([2, 2, 1, 3, 3, 1])\n>>> expected_output = np.array([1, 1, 2, 2, 3, 3])\n>>> actual_output = sort_mm_sizes(input_array)\n>>> assert np.array_equal(actual_output, expected_output), f'Expected sorted array {expected_output}, but got {actual_output}.'\n>>> if np.array_equal(actual_output, expected_output):\n...     score = 2.0\n>>> earned_points = float(os.environ.get('EARNED_POINTS', 0))\n>>> earned_points += score\n>>> log_variable('7_numpy_q', f'{score}, {max_score}', question_id)\n>>> os.environ['EARNED_POINTS'] = str(earned_points)\n>>> responses = update_responses(question_id, str(input_array))\n>>> responses = update_responses(question_id, str(expected_output))\n>>> responses = update_responses(question_id, str(actual_output))\n",
         "failure_message": "Failed: sort_mm_sizes does not correctly handle arrays with duplicates or already sorted elements.",
         "hidden": false,
         "locked": false,
         "points": 2,
         "success_message": "Success: sort_mm_sizes correctly handles arrays with duplicate and already sorted elements!"
        }
       ],
       "scored": true,
       "setup": "",
       "teardown": "",
       "type": "doctest"
      }
     ]
    }
   }
  }
 },
 "nbformat": 4,
 "nbformat_minor": 2
}
