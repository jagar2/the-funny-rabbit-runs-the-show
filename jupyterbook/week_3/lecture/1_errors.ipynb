{
 "cells": [
  {
   "cell_type": "markdown",
   "id": "0",
   "metadata": {},
   "source": [
    "# ✈️ Errors in the Skies: Debugging Like an Engineer 🛠️\n"
   ]
  },
  {
   "cell_type": "markdown",
   "id": "1",
   "metadata": {},
   "source": [
    "## Programming = Real-World Systems\n",
    "\n",
    "Errors can ground your plans like:\n"
   ]
  },
  {
   "cell_type": "markdown",
   "id": "2",
   "metadata": {},
   "source": [
    "### Boeing 737 MAX Crashes (2018–2019)\n",
    "\n",
    "![](./assets/figures/boeing_737.jpg)\n",
    "\n",
    "**What Happened:** Two Boeing 737 MAX airplanes crashed, killing 346 people, due to a software issue in the Maneuvering Characteristics Augmentation System (MCAS).\n",
    "\n",
    "**Cause:** MCAS relied on a single faulty sensor, and the software did not handle sensor failures properly.\n",
    "\n",
    "**Impact:** The 737 MAX was grounded globally for 20 months, costing Boeing billions in losses and damaging its reputation.\n"
   ]
  },
  {
   "cell_type": "markdown",
   "id": "3",
   "metadata": {},
   "source": [
    "## Syntax Errors 📝\n",
    "\n",
    "Like pre-flight check failures:\n",
    "\n",
    "- Stop Before Takeoff!"
   ]
  },
  {
   "cell_type": "code",
   "execution_count": null,
   "id": "4",
   "metadata": {
    "tags": [
     "skip-execution"
    ]
   },
   "outputs": [],
   "source": [
    "print \"Ready for takeoff!\"  # Missing parentheses"
   ]
  },
  {
   "cell_type": "markdown",
   "id": "5",
   "metadata": {},
   "source": [
    "### Real-World Example: Boeing 737 MAX initial software bugs.\n",
    "**Fix:** Follow strict syntax rules like operational checklists.\n"
   ]
  },
  {
   "cell_type": "markdown",
   "id": "6",
   "metadata": {},
   "source": [
    "## 2. Runtime Errors ⚙️\n",
    "\n",
    "Like mid-flight emergencies:\n",
    "\n",
    "- Unexpected Crashes!"
   ]
  },
  {
   "cell_type": "code",
   "execution_count": null,
   "id": "7",
   "metadata": {
    "tags": [
     "skip-execution"
    ]
   },
   "outputs": [],
   "source": [
    "pressure = 35000 / 0  # Division by zero"
   ]
  },
  {
   "cell_type": "markdown",
   "id": "8",
   "metadata": {},
   "source": [
    "### Real-World Example: Titanic submersible systems failure.\n",
    "**Fix:** Add safeguards with `try/except` blocks.\n"
   ]
  },
  {
   "cell_type": "markdown",
   "id": "9",
   "metadata": {},
   "source": [
    "## Semantic Errors 🧩\n",
    "\n",
    "Like design flaws in critical systems:\n",
    "\n",
    "- Works, But Wrong Results!"
   ]
  },
  {
   "cell_type": "code",
   "execution_count": null,
   "id": "10",
   "metadata": {},
   "outputs": [],
   "source": [
    "payload_weight = fuel_volume + passengers  # Miscalculation"
   ]
  },
  {
   "cell_type": "markdown",
   "id": "11",
   "metadata": {},
   "source": [
    "### Real-World Example: AI misinterpreting road signs (self-driving cars).\n",
    "**Fix:** Test rigorously with known inputs.\n"
   ]
  },
  {
   "cell_type": "markdown",
   "id": "12",
   "metadata": {},
   "source": [
    "## Error Cheat Sheet 📰\n",
    "\n",
    "| Error | When | Example | Fix |\n",
    "|--------------------|-------------|----------------------------------|--------------------------|\n",
    "| Syntax | Before Run | 737 MAX software bugs | Verify syntax |\n",
    "| Runtime | During Run | Titanic submersible failures | Add redundancy safeguards|\n",
    "| Semantic | After Run | AI road sign misinterpretation | Validate logic rigorously|\n"
   ]
  },
  {
   "cell_type": "markdown",
   "id": "13",
   "metadata": {},
   "source": [
    "## Debugging is Problem Solving 🚀\n",
    "\n",
    "Errors = Lessons for Improvement:\n",
    "\n",
    "- Syntax: Fix upfront like pre-flight checks.\n",
    "- Runtime: Manage failures in operation.\n",
    "- Semantic: Refine assumptions and design.\n",
    "\n",
    "Take errors as opportunities to innovate and ensure a safer, smarter future! 🛫🐍💻"
   ]
  },
  {
   "cell_type": "markdown",
   "id": "14",
   "metadata": {},
   "source": [
    "```{tip}\n",
    "In software development developers use continuous integration and continuous deployment (CI/CD) pipelines to automate testing and deployment of code. This helps in catching errors early and ensures that the code is always in a deployable state.\n",
    "```"
   ]
  },
  {
   "cell_type": "markdown",
   "id": "15",
   "metadata": {},
   "source": []
  }
 ],
 "metadata": {
  "language_info": {
   "name": "python"
  }
 },
 "nbformat": 4,
 "nbformat_minor": 5
}
