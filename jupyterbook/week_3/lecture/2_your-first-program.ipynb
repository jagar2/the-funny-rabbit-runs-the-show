{
 "cells": [
  {
   "cell_type": "markdown",
   "id": "0",
   "metadata": {},
   "source": [
    "# 📝 Your First Program: Hello, Engineering! 🚀\n",
    "\n",
    "![](./assets/figures/stress-strain-week-3.webp)\n",
    "\n",
    "Let’s dive right into programming with Python by writing a simple but iconic first program: \"Hello, World!\"—but with an engineering twist. This program will introduce you to the basics of Python, how to run it in Jupyter, and most importantly, how to inject a little personality into your code. 🎉\n"
   ]
  },
  {
   "cell_type": "markdown",
   "id": "1",
   "metadata": {},
   "source": [
    "## The Program 🖥️\n",
    "\n",
    "Here’s the Python code for your first program:\n"
   ]
  },
  {
   "cell_type": "code",
   "execution_count": null,
   "id": "2",
   "metadata": {},
   "outputs": [],
   "source": [
    "# Your first engineering program\n",
    "print(\"Hello, Engineering World! Let's solve some problems 🚀\")\n",
    "print(\"Stress = Force / Area\")\n",
    "force = 1000  # Newtons\n",
    "area = 50  # Square meters\n",
    "stress = force / area\n",
    "print(f\"The stress is {stress} Pascals. 💪\")"
   ]
  },
  {
   "cell_type": "markdown",
   "id": "3",
   "metadata": {},
   "source": [
    "This is not just a \"Hello, World!\" program. It’s Hello, Engineering World!—complete with a basic stress calculation to flex your engineering muscles. 💪"
   ]
  },
  {
   "cell_type": "markdown",
   "id": "4",
   "metadata": {},
   "source": [
    "## Step-by-Step Breakdown 📝\n"
   ]
  },
  {
   "cell_type": "markdown",
   "id": "5",
   "metadata": {},
   "source": [
    "## Visualizing the Program Execution 🎥\n",
    "\n",
    "To better understand how your program works, you can visualize its execution step-by-step using Python Tutor. This tool helps you see how Python executes your code, making it easier to grasp the flow and debug if necessary.\n",
    "\n",
    "<iframe width=\"100%\" height=\"500\" frameborder=\"0\" src=\"https://pythontutor.com/iframe-embed.html#code=%23%20Your%20first%20engineering%20program%0Aprint%28%22Hello,%20Engineering%20World!%20Let's%20solve%20some%20problems%20%F0%9F%9A%80%22%29%0Aprint%28%22Stress%20%3D%20Force%20/%20Area%22%29%0Aforce%20%3D%201000%20%20%23%20Newtons%0Aarea%20%3D%2050%20%20%20%20%20%23%20Square%20meters%0Astress%20%3D%20force%20/%20area%0Aprint%28f%22The%20stress%20is%20%7Bstress%7D%20Pascals.%20%F0%9F%92%AA%22%29&codeDivHeight=400&codeDivWidth=350&cumulative=false&curInstr=0&heapPrimitives=nevernest&origin=opt-frontend.js&py=3&rawInputLstJSON=%5B%5D&textReferences=false\"></iframe>\n"
   ]
  },
  {
   "cell_type": "markdown",
   "id": "6",
   "metadata": {},
   "source": [
    "### 1. Printing a Greeting 👋\n"
   ]
  },
  {
   "cell_type": "code",
   "execution_count": null,
   "id": "7",
   "metadata": {},
   "outputs": [],
   "source": [
    "print(\"Hello, Engineering World! Let's solve some problems 🚀\")"
   ]
  },
  {
   "cell_type": "markdown",
   "id": "8",
   "metadata": {},
   "source": [
    "\n",
    "- What it does: Prints a friendly welcome message.\n",
    "- Why it’s cool: Adds personality to your program while setting the stage for engineering awesomeness.\n",
    "- Output: `Hello, Engineering World! Let's solve some problems 🚀`\n"
   ]
  },
  {
   "cell_type": "markdown",
   "id": "9",
   "metadata": {},
   "source": [
    "### 2. A Formula for Engineers 📐\n"
   ]
  },
  {
   "cell_type": "code",
   "execution_count": null,
   "id": "10",
   "metadata": {},
   "outputs": [],
   "source": [
    "print(\"Stress = Force / Area\")"
   ]
  },
  {
   "cell_type": "markdown",
   "id": "11",
   "metadata": {},
   "source": [
    "\n",
    "- What it does: Outputs the formula for stress. This is a classic equation that most engineers know by heart.\n",
    "- Why it’s cool: It shows that programming can directly relate to engineering concepts.\n"
   ]
  },
  {
   "cell_type": "markdown",
   "id": "12",
   "metadata": {},
   "source": [
    "### 3. Defining Variables 📊\n"
   ]
  },
  {
   "cell_type": "code",
   "execution_count": null,
   "id": "13",
   "metadata": {},
   "outputs": [],
   "source": [
    "force = 1000  # Newtons\n",
    "area = 50  # Square meters"
   ]
  },
  {
   "cell_type": "markdown",
   "id": "14",
   "metadata": {},
   "source": [
    "\n",
    "- What it does: Assigns values to `force` (in Newtons) and `area` (in square meters).\n",
    "- Why it’s cool: Introduces variables, which are like containers for storing data in your program.\n"
   ]
  },
  {
   "cell_type": "markdown",
   "id": "15",
   "metadata": {},
   "source": [
    "### 4. Calculating Stress 🧮\n"
   ]
  },
  {
   "cell_type": "code",
   "execution_count": null,
   "id": "16",
   "metadata": {},
   "outputs": [],
   "source": [
    "stress = force / area"
   ]
  },
  {
   "cell_type": "markdown",
   "id": "17",
   "metadata": {},
   "source": [
    "\n",
    "- What it does: Divides `force` by `area` to calculate stress.\n",
    "- Why it’s cool: Performs an actual engineering calculation with just one line of code.\n"
   ]
  },
  {
   "cell_type": "markdown",
   "id": "18",
   "metadata": {},
   "source": [
    "### 5. Displaying the Result 📢\n"
   ]
  },
  {
   "cell_type": "code",
   "execution_count": null,
   "id": "19",
   "metadata": {},
   "outputs": [],
   "source": [
    "print(f\"The stress is {stress} Pascals. 💪\")"
   ]
  },
  {
   "cell_type": "markdown",
   "id": "20",
   "metadata": {},
   "source": [
    "\n",
    "- What it does: Prints the calculated stress using an f-string, a powerful way to include variable values in text.\n",
    "- Why it’s cool: It’s concise, readable, and outputs meaningful information with flair (`💪` included).\n"
   ]
  },
  {
   "cell_type": "markdown",
   "id": "21",
   "metadata": {},
   "source": [
    "## How to Run This Program in Jupyter 🧑‍💻\n",
    "\n",
    "Jupyter is an amazing tool for engineers because it lets you write, run, and document Python code interactively.\n"
   ]
  },
  {
   "cell_type": "markdown",
   "id": "22",
   "metadata": {},
   "source": [
    "### Step 1: Open Jupyter 🚀\n"
   ]
  },
  {
   "cell_type": "markdown",
   "id": "23",
   "metadata": {},
   "source": [
    "1. Click the rocketship icon in JupyterBook to launch JupyterLab.\n"
   ]
  },
  {
   "cell_type": "markdown",
   "id": "24",
   "metadata": {},
   "source": [
    "### Step 2: Create a New Notebook 📓\n"
   ]
  },
  {
   "cell_type": "markdown",
   "id": "25",
   "metadata": {},
   "source": [
    "1. Click \"New\" and select Python 3 to create a new notebook."
   ]
  },
  {
   "cell_type": "markdown",
   "id": "26",
   "metadata": {},
   "source": [
    "1. You’ll see a fresh code cell, ready for action.\n"
   ]
  },
  {
   "cell_type": "markdown",
   "id": "27",
   "metadata": {},
   "source": [
    "### Step 3: Write Your Code ✍️\n"
   ]
  },
  {
   "cell_type": "markdown",
   "id": "28",
   "metadata": {},
   "source": [
    "1. Copy the Python code into the first cell:"
   ]
  },
  {
   "cell_type": "code",
   "execution_count": null,
   "id": "29",
   "metadata": {},
   "outputs": [],
   "source": [
    "# Your first engineering program\n",
    "print(\"Hello, Engineering World! Let's solve some problems 🚀\")\n",
    "print(\"Stress = Force / Area\")\n",
    "force = 1000  # Newtons\n",
    "area = 50  # Square meters\n",
    "stress = force / area\n",
    "print(f\"The stress is {stress} Pascals. 💪\")"
   ]
  },
  {
   "cell_type": "markdown",
   "id": "30",
   "metadata": {},
   "source": [
    "### Step 4: Run the Code ▶️\n"
   ]
  },
  {
   "cell_type": "markdown",
   "id": "31",
   "metadata": {},
   "source": [
    "1. Press Shift + Enter (or click the \"Run\" button) to execute the code."
   ]
  },
  {
   "cell_type": "markdown",
   "id": "32",
   "metadata": {},
   "source": [
    "1. Watch the magic happen as your output appears below the cell! ✨\n"
   ]
  },
  {
   "cell_type": "markdown",
   "id": "33",
   "metadata": {},
   "source": [
    "## Expected Output 📈\n",
    "\n",
    "When you run the program, here’s what you should see:\n",
    "\n",
    "```\n",
    "Hello, Engineering World! Let's solve some problems 🚀\n",
    "Stress = Force / Area\n",
    "The stress is 20.0 Pascals. 💪\n",
    "```\n"
   ]
  },
  {
   "cell_type": "markdown",
   "id": "34",
   "metadata": {},
   "source": [
    "## Why This Program is Awesome 🌟\n",
    "\n",
    "- It’s Interactive: You can change the values of `force` and `area` and see how the result updates instantly.\n",
    "- It’s Relatable: It uses a formula you’ve likely seen before, connecting programming to real engineering problems.\n",
    "- It’s Fun: Emojis? Yes. Your first program should be fun, not just functional.\n"
   ]
  },
  {
   "cell_type": "markdown",
   "id": "35",
   "metadata": {},
   "source": [
    "## Next Steps 🔜\n",
    "\n",
    "Want to spice it up further? Try these:\n"
   ]
  },
  {
   "cell_type": "markdown",
   "id": "36",
   "metadata": {},
   "source": [
    "1. Add more calculations: Extend the program to calculate strain or Young’s modulus."
   ]
  },
  {
   "cell_type": "markdown",
   "id": "37",
   "metadata": {},
   "source": [
    "2. Use user input: Let the user provide `force` and `area` values with `input()`."
   ]
  },
  {
   "cell_type": "markdown",
   "id": "38",
   "metadata": {},
   "source": [
    "3. Visualize it: Use a library like Matplotlib to plot stress versus area.\n",
    "\n",
    "Congratulations! You’ve just written and run your first Python program. Welcome to the world of programming—where engineering meets creativity! 🎉👷‍♂️👩‍💻"
   ]
  }
 ],
 "metadata": {
  "kernelspec": {
   "display_name": "engr131_dev",
   "language": "python",
   "name": "python3"
  },
  "language_info": {
   "codemirror_mode": {
    "name": "ipython",
    "version": 3
   },
   "file_extension": ".py",
   "mimetype": "text/x-python",
   "name": "python",
   "nbconvert_exporter": "python",
   "pygments_lexer": "ipython3",
   "version": "3.12.7"
  }
 },
 "nbformat": 4,
 "nbformat_minor": 5
}
