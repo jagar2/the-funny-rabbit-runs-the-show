{
 "cells": [
  {
   "cell_type": "raw",
   "metadata": {
    "vscode": {
     "languageId": "raw"
    }
   },
   "source": [
    "# ASSIGNMENT CONFIG\n",
    "solutions_pdf: true\n",
    "generate: \n",
    "    pdf: true\n",
    "    filtering: true\n",
    "    pagebreaks: true\n",
    "    zips: false\n",
    "files: [.client_private_key.bin, .server_public_key.bin]"
   ]
  },
  {
   "cell_type": "raw",
   "metadata": {
    "vscode": {
     "languageId": "raw"
    }
   },
   "source": [
    "# BEGIN QUESTION\n",
    "name: Dodgeball-w-sympy"
   ]
  },
  {
   "cell_type": "markdown",
   "metadata": {},
   "source": [
    "# Dodgeball: Simple Symbolic Projectile Motion\n",
    "\n",
    "## Instructions:\n",
    "In the dodgeball arena, a player throws the ball with an initial velocity. Your task is to:\n",
    "\n",
    "1. Use SymPy to solve the height equation $h(t) = v_0t - \\frac{1}{2}gt^2$ for the time when the ball hits the ground.\n",
    "2. Assume $v_0 = 15$ m/s and $g = 9.8$ m/s².\n",
    "\n",
    "Your solution must include:\n",
    "A function `solve_projectile_time()` that (we have provided this function for you):\n",
    "\n",
    "1. Define the symbols `t`, `v0`, and `g`.\n",
    "2. Define the height equation `h` symbolically.\n",
    "3. Solve the height equation for time when height is zero. To do this, use the `solve()` function, which takes two arguments: the equation to solve and the variable to solve for, in this case `t`.\n",
    "4. Build the dictionaries with the values to substitute. We have provided the code for you to filter positive times - it would not make sense to have a negative time.\n",
    "5. Compute the time by substituting the values of `v0` and `g` into the equation. To do this, use the `subs()` function, which takes a dictionary of symbols and values to substitute.\n"
   ]
  },
  {
   "cell_type": "raw",
   "metadata": {},
   "source": [
    "# BEGIN SOLUTION"
   ]
  },
  {
   "cell_type": "code",
   "execution_count": null,
   "metadata": {},
   "outputs": [],
   "source": [
    "from sympy import symbols, solve, N  # Import N for numeric evaluation\n",
    "\n",
    "def solve_projectile_time():\n",
    "    # 1. Define symbols\n",
    "    v0, g, t = symbols(\"v0 g t\")\n",
    "    \n",
    "    # 2. Height equation\n",
    "    h = v0 * t - (1/2) * g * t**2\n",
    "    \n",
    "    # 3. Solve for time when h = 0\n",
    "    time_solutions = solve(h, t)\n",
    "    \n",
    "    \n",
    "    values_dictionary = {\n",
    "        v0: 15,  # Initial velocity in m/s\n",
    "        g: 9.8  # Acceleration due to gravity in m/s^2\n",
    "    }\n",
    "    \n",
    "    # Substitute numerical values for v0 and g to filter positive times\n",
    "    substituted_solutions = [sol.subs(values_dictionary) for sol in time_solutions]\n",
    "    \n",
    "    # Filter positive numerical solutions\n",
    "    positive_time = [sol for sol in substituted_solutions if N(sol) > 0][0]\n",
    "    \n",
    "    # Return the positive time as a numeric value\n",
    "    return N(positive_time)\n",
    "\n",
    "# Example usage\n",
    "result = solve_projectile_time()\n",
    "print(f\"Time when the ball hits the ground: {result:.2f} seconds\")\n"
   ]
  },
  {
   "cell_type": "raw",
   "metadata": {},
   "source": [
    "# END SOLUTION"
   ]
  },
  {
   "cell_type": "raw",
   "metadata": {},
   "source": [
    "# BEGIN TESTS"
   ]
  },
  {
   "cell_type": "code",
   "execution_count": null,
   "metadata": {},
   "outputs": [],
   "source": [
    "\"\"\" # BEGIN TEST CONFIG\n",
    "points: 1\n",
    "hidden: false\n",
    "success_message: \"Success: v0, g, t are defined as symbols in the function.\"\n",
    "failure_message: \"Failed: You must define v0, g, t = symbols('v0 g t').\"\n",
    "log_variables: [\"symbols_pattern_found\"]\n",
    "\"\"\"  # END TEST CONFIG\n",
    "\n",
    "import inspect\n",
    "import re\n",
    "from sympy import symbols, solve, N\n",
    "\n",
    "def get_solve_projectile_time_code(func):\n",
    "    \"\"\"\n",
    "    Returns the source code of solve_projectile_time() as a string.\n",
    "    \"\"\"\n",
    "    return inspect.getsource(func)\n",
    "\n",
    "code = get_solve_projectile_time_code(solve_projectile_time)\n",
    "\n",
    "# Regex to find: v0, g, t = symbols(\"v0 g t\")\n",
    "symbols_pattern = r\"v0\\s*,\\s*g\\s*,\\s*t\\s*=\\s*symbols\\s*\\(\\s*[\\\"']v0\\s+g\\s+t[\\\"']\\s*\\)\"\n",
    "symbols_pattern_found = bool(re.search(symbols_pattern, code))\n",
    "\n",
    "assert symbols_pattern_found, (\n",
    "    \"You must define v0, g, t = symbols('v0 g t').\"\n",
    ")\n"
   ]
  },
  {
   "cell_type": "code",
   "execution_count": null,
   "metadata": {},
   "outputs": [],
   "source": [
    "\"\"\" # BEGIN TEST CONFIG\n",
    "points: 1\n",
    "hidden: false\n",
    "success_message: \"Success: The height equation is defined as h = v0*t - (1/2)*g*t^2.\"\n",
    "failure_message: \"Failed: You must define h = v0*t - (1/2)*g*t**2 in the code.\"\n",
    "log_variables: [\"height_pattern_found\"]\n",
    "\"\"\"  # END TEST CONFIG\n",
    "\n",
    "import inspect\n",
    "import re\n",
    "from sympy import symbols, solve, N\n",
    "\n",
    "def get_solve_projectile_time_code(func):\n",
    "    \"\"\"\n",
    "    Returns the source code of solve_projectile_time() as a string.\n",
    "    \"\"\"\n",
    "    return inspect.getsource(func)\n",
    "\n",
    "code = get_solve_projectile_time_code(solve_projectile_time)\n",
    "\n",
    "\n",
    "# Regex to find: h = v0 * t - (1/2) * g * t**2\n",
    "height_pattern = r\"h\\s*=\\s*v0\\s*\\*\\s*t\\s*-\\s*\\(\\s*1\\s*\\/\\s*2\\s*\\)\\s*\\*\\s*g\\s*\\*\\s*t\\*\\*2\"\n",
    "height_pattern_found = bool(re.search(height_pattern, code))\n",
    "\n",
    "assert height_pattern_found, (\n",
    "    \"You must define h = v0*t - (1/2)*g*t**2 exactly.\"\n",
    ")\n"
   ]
  },
  {
   "cell_type": "code",
   "execution_count": null,
   "metadata": {},
   "outputs": [],
   "source": [
    "\"\"\" # BEGIN TEST CONFIG\n",
    "points: 1\n",
    "hidden: false\n",
    "success_message: \"Success: The code uses solve(h, t) from Sympy to find time solutions.\"\n",
    "failure_message: \"Failed: Must call solve(h, t).\"\n",
    "log_variables: [\"solve_pattern_found\"]\n",
    "\"\"\"  # END TEST CONFIG\n",
    "\n",
    "import inspect\n",
    "import re\n",
    "from sympy import symbols, solve, N\n",
    "\n",
    "def get_solve_projectile_time_code(func):\n",
    "    \"\"\"\n",
    "    Returns the source code of solve_projectile_time() as a string.\n",
    "    \"\"\"\n",
    "    return inspect.getsource(func)\n",
    "\n",
    "code = get_solve_projectile_time_code(solve_projectile_time)\n",
    "\n",
    "# Regex to find solve(h, t)\n",
    "solve_pattern = r\"solve\\s*\\(\\s*h\\s*,\\s*t\\s*\\)\"\n",
    "solve_pattern_found = bool(re.search(solve_pattern, code))\n",
    "\n",
    "assert solve_pattern_found, (\n",
    "    \"You must call solve(h, t) to find the times when h=0.\"\n",
    ")\n"
   ]
  },
  {
   "cell_type": "code",
   "execution_count": null,
   "metadata": {},
   "outputs": [],
   "source": [
    "\"\"\" # BEGIN TEST CONFIG\n",
    "points: 1\n",
    "hidden: false\n",
    "success_message: \"Success: The function filters for the positive time solution.\"\n",
    "failure_message: \"Failed: The code must return the positive time solution, not the negative one.\"\n",
    "log_variables: [\"filtered_pattern_found\"]\n",
    "\"\"\"  # END TEST CONFIG\n",
    "\n",
    "def get_solve_projectile_time_code(func):\n",
    "    \"\"\"\n",
    "    Returns the source code of solve_projectile_time() as a string.\n",
    "    \"\"\"\n",
    "    return inspect.getsource(func)\n",
    "\n",
    "code = get_solve_projectile_time_code(solve_projectile_time)\n",
    "\n",
    "# We'll look for code that filters out negative solutions and picks the positive one.\n",
    "# One approach: `[sol for sol in substituted_solutions if N(sol) > 0]`\n",
    "filtered_pattern = r\"\\[sol\\s+for\\s+sol\\s+in\\s+substituted_solutions\\s+if\\s+N\\(sol\\)\\s*>\\s*0\\]\"\n",
    "filtered_pattern_found = bool(re.search(filtered_pattern, code))\n",
    "\n",
    "assert filtered_pattern_found, (\n",
    "    \"Must filter out negative solutions with something like `[sol for sol in substituted_solutions if N(sol) > 0]`.\"\n",
    ")\n"
   ]
  },
  {
   "cell_type": "code",
   "execution_count": null,
   "metadata": {},
   "outputs": [],
   "source": [
    "\"\"\" # BEGIN TEST CONFIG\n",
    "points: 2\n",
    "hidden: false\n",
    "success_message: \"Success: The function returns a physically correct positive time for v0=15, g=9.8.\"\n",
    "failure_message: \"Failed: The time is incorrect or negative for v0=15, g=9.8.\"\n",
    "log_variables: [\"computed_time\", \"expected_time_range\"]\n",
    "\"\"\"  # END TEST CONFIG\n",
    "\n",
    "def get_solve_projectile_time_code(func):\n",
    "    \"\"\"\n",
    "    Returns the source code of solve_projectile_time() as a string.\n",
    "    \"\"\"\n",
    "    return inspect.getsource(func)\n",
    "\n",
    "code = get_solve_projectile_time_code(solve_projectile_time)\n",
    "\n",
    "# For v0=15 m/s, g=9.8 m/s^2, the formula for flight time (simple projectile) is ~ (2*v0 / g) if launched upwards from ground.\n",
    "# That is (2*15)/9.8 ≈ 3.06 s. \n",
    "# The function might give you the exact solution t=3.06... We allow a small tolerance.\n",
    "expected_time = 2 * 15 / 9.8  # ~ 3.061224...\n",
    "lower_bound  = expected_time * 0.98  # ~ 3% tolerance\n",
    "upper_bound  = expected_time * 1.02\n",
    "\n",
    "condition = lower_bound <= computed_time <= upper_bound\n",
    "\n",
    "assert condition, (\n",
    "    f\"Time was {computed_time:.3f}, but expected ~{expected_time:.3f} within ±2%.\"\n",
    ")\n"
   ]
  },
  {
   "cell_type": "raw",
   "metadata": {},
   "source": [
    "# END TESTS"
   ]
  },
  {
   "cell_type": "raw",
   "metadata": {},
   "source": [
    "# END QUESTION"
   ]
  }
 ],
 "metadata": {
  "kernelspec": {
   "display_name": "engr131_dev",
   "language": "python",
   "name": "python3"
  },
  "language_info": {
   "codemirror_mode": {
    "name": "ipython",
    "version": 3
   },
   "file_extension": ".py",
   "mimetype": "text/x-python",
   "name": "python",
   "nbconvert_exporter": "python",
   "pygments_lexer": "ipython3",
   "version": "3.12.7"
  }
 },
 "nbformat": 4,
 "nbformat_minor": 2
}
