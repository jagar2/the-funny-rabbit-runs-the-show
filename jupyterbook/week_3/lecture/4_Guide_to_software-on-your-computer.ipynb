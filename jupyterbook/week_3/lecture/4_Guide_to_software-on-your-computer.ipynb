{
 "cells": [
  {
   "cell_type": "markdown",
   "id": "0",
   "metadata": {
    "slideshow": {
     "slide_type": "slide"
    }
   },
   "source": [
    "# ⭐ 🖥️ Introduction to Operating Systems, BIOS, Command Line, and File Systems\n",
    "Let’s skate through the digital world’s most essential components! 🛹💻\n"
   ]
  },
  {
   "cell_type": "markdown",
   "id": "1",
   "metadata": {
    "slideshow": {
     "slide_type": "slide"
    }
   },
   "source": [
    "## BIOS: The Boot-Up Wizard\n",
    "\n",
    "![](./assets/figures/bios-en-screen.jpg)\n",
    "\n",
    "**What It Does:** \n",
    "\n",
    "The Basic Input/Output System (BIOS) is your computer’s alarm clock—it wakes up the hardware and passes control to the OS.\n"
   ]
  },
  {
   "cell_type": "markdown",
   "id": "2",
   "metadata": {
    "slideshow": {
     "slide_type": "fragment"
    }
   },
   "source": [
    "\n",
    "**How It Works:**\n",
    "\n",
    "![](./assets/figures/bios%20chip.jpg)"
   ]
  },
  {
   "cell_type": "markdown",
   "id": "3",
   "metadata": {
    "slideshow": {
     "slide_type": "fragment"
    }
   },
   "source": [
    "1. Runs POST: “Is everything working? CPU, RAM, you good?”"
   ]
  },
  {
   "cell_type": "markdown",
   "id": "4",
   "metadata": {
    "slideshow": {
     "slide_type": "fragment"
    }
   },
   "source": [
    "2. Hands off control to the bootloader to launch the OS.\n"
   ]
  },
  {
   "cell_type": "markdown",
   "id": "5",
   "metadata": {
    "slideshow": {
     "slide_type": "fragment"
    }
   },
   "source": [
    "**Fun Facts:**\n",
    "\n",
    "Beep Codes: Your computer speaks in *beeps* if hardware fails.\n",
    "\n",
    "Modern UEFI BIOS can boot faster—so fast you might miss hitting the F2 key 🤷‍♂️. You usually get into the bios by pressing the F2 key on boot up.\n",
    "\n",
    "Think of the BIOS as a hotel concierge: it checks you in but doesn’t run your stay.\n"
   ]
  },
  {
   "cell_type": "markdown",
   "id": "6",
   "metadata": {
    "slideshow": {
     "slide_type": "slide"
    }
   },
   "source": [
    "## Operating Systems (OS): The Machine Manager\n",
    "\n",
    "![](./assets/figures/Windows1-10Logos.jpg)\n",
    "\n",
    "- Role: The OS turns raw hardware into a usable machine—it’s the DJ mixing CPU beats, memory flows, and user vibes. 🎧"
   ]
  },
  {
   "cell_type": "markdown",
   "id": "7",
   "metadata": {
    "slideshow": {
     "slide_type": "subslide"
    }
   },
   "source": [
    "### Key Components:\n",
    "\n",
    "1. Kernel: The traffic cop that manages resources."
   ]
  },
  {
   "cell_type": "markdown",
   "id": "8",
   "metadata": {
    "slideshow": {
     "slide_type": "fragment"
    }
   },
   "source": [
    "2. File System: Your librarian keeping files organized.\n",
    "\n",
    "![](./assets/figures/system-folder-system32-syswow64.avif)"
   ]
  },
  {
   "cell_type": "markdown",
   "id": "9",
   "metadata": {
    "slideshow": {
     "slide_type": "fragment"
    }
   },
   "source": [
    "3. Process Manager: Ensures apps don’t fight for CPU time (because who needs drama?).\n",
    "\n",
    "![](./assets/figures/windows-process-manager.png)"
   ]
  },
  {
   "cell_type": "markdown",
   "id": "10",
   "metadata": {
    "slideshow": {
     "slide_type": "fragment"
    }
   },
   "source": [
    "4. User Interface: GUI (click icons) or CLI (speak the computer’s native tongue).\n",
    "\n",
    "![](./assets/figures/windows-ui.avif)\n",
    "\n"
   ]
  },
  {
   "cell_type": "markdown",
   "id": "11",
   "metadata": {
    "slideshow": {
     "slide_type": "subslide"
    }
   },
   "source": [
    "### OS Examples:\n",
    "- Windows: Known for gaming and the infamous \"blue screen of death.\"\n",
    "- macOS: Polished, sleek, UNIX-based, and perfect for creatives.\n",
    "- Linux: The open-source hero; powers servers, supercomputers, and your geeky neighbor’s PC.\n"
   ]
  },
  {
   "cell_type": "markdown",
   "id": "12",
   "metadata": {
    "slideshow": {
     "slide_type": "fragment"
    }
   },
   "source": [
    "**Fun Fact:** The Windows “Ctrl + Alt + Del” combo? Originally a dev tool, now a meme-worthy emergency escape.\n",
    "\n",
    "![](./assets/figures/control-alt-delete-meme.webp)"
   ]
  },
  {
   "cell_type": "markdown",
   "id": "13",
   "metadata": {
    "slideshow": {
     "slide_type": "slide"
    }
   },
   "source": [
    "## Command Line Interface (CLI): Text-Based Power\n",
    "- What It Does: The CLI is like texting your computer instead of swiping—faster, precise, and no autocorrect disasters.\n",
    "\n",
    "![](./assets/figures/command-line-interface.jpg)\n",
    "\n",
    "**Examples:**\n",
    "- `ls` or `dir`: List files.\n",
    "- `cd`: Change directory (like opening a folder without the clicks).\n",
    "- `rm`: Delete files (aka, “Oops, I shouldn’t have done that”).\n",
    "\n",
    "**Fun Facts:**\n",
    "- Early computers had no GUIs—just the CLI. MS-DOS and UNIX shells were where the cool kids hung out.\n",
    "- Easter Egg: Type `apt moo` in Linux and you’ll meet a digital cow. 🐄\n",
    "\n",
    "Analogy: CLI is like whispering instructions directly to the OS—quicker than shouting at icons.\n"
   ]
  },
  {
   "cell_type": "markdown",
   "id": "14",
   "metadata": {
    "slideshow": {
     "slide_type": "slide"
    }
   },
   "source": [
    "## File Systems: The Digital Librarian\n",
    "- What It Does: The file system organizes your data like a giant warehouse, ensuring every file has a specific shelf.\n",
    "\n",
    "**Key Concepts:**"
   ]
  },
  {
   "cell_type": "markdown",
   "id": "15",
   "metadata": {
    "slideshow": {
     "slide_type": "fragment"
    }
   },
   "source": [
    "1. Blocks: Data is stored in chunks (blocks).\n",
    "- Small Blocks: Great for small files but slow for big ones.\n",
    "- Big Blocks: Fast for large files but wastes space for tiny ones."
   ]
  },
  {
   "cell_type": "markdown",
   "id": "16",
   "metadata": {
    "slideshow": {
     "slide_type": "fragment"
    }
   },
   "source": [
    "2. Defragmentation: Rearranges scattered blocks on HDDs for faster access.\n",
    "\n",
    "![](./assets/figures/diffragment.webp)\n",
    "\n",
    "- Think of it as cleaning your messy room (unless you’re an SSD—no mess for you!)."
   ]
  },
  {
   "cell_type": "markdown",
   "id": "17",
   "metadata": {
    "slideshow": {
     "slide_type": "fragment"
    }
   },
   "source": [
    "3. Journaling: Logs changes before they happen, saving your data from corruption if something crashes."
   ]
  },
  {
   "cell_type": "markdown",
   "id": "18",
   "metadata": {
    "slideshow": {
     "slide_type": "fragment"
    }
   },
   "source": [
    "4. Metadata: Keeps track of file names, sizes, and locations.\n",
    "**Examples:**\n",
    "- NTFS (Windows): Journaling and encryption-friendly.\n",
    "- ext4 (Linux): Reliable and loves large files.\n",
    "- FAT32: Universal but stuck in the '90s (4GB file size limit).\n",
    "\n",
    "**Fun Facts:**\n",
    "- Defragging an HDD was like Tetris for your computer; SSDs just say, “Why bother?”\n",
    "- UNIX invented hierarchical file systems—the OG method of organizing your digital stuff.\n"
   ]
  },
  {
   "cell_type": "markdown",
   "id": "19",
   "metadata": {
    "slideshow": {
     "slide_type": "slide"
    }
   },
   "source": [
    "## Why It Matters\n",
    "- Understand Your Machine: Learn how files, apps, and systems work together.\n",
    "- Be the Problem Solver: When things go wrong, you’ll know how to fix them.\n",
    "- Appreciate Decades of Innovation: Engineers built this magic from punch cards to GUIs to supercomputers.\n"
   ]
  }
 ],
 "metadata": {
  "language_info": {
   "name": "python"
  }
 },
 "nbformat": 4,
 "nbformat_minor": 5
}
