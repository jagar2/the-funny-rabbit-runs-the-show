{
 "cells": [
  {
   "cell_type": "markdown",
   "id": "0",
   "metadata": {
    "slideshow": {
     "slide_type": "slide"
    }
   },
   "source": [
    "# 📝 Symbolic Computation with SymPy\n",
    "\n",
    "\"Solving Your Physics Homework the Easy Way!\"\n",
    "\n",
    "![](./assets/figures/physics_experiments.webp)"
   ]
  },
  {
   "cell_type": "markdown",
   "id": "1",
   "metadata": {
    "slideshow": {
     "slide_type": "slide"
    }
   },
   "source": [
    "## 🤖 What is Symbolic Computation?\n",
    "\n",
    "```{admonition} Definition\n",
    "Symbolic computation allows you to compute, manipulate, and simplify mathematical expressions exactly—without numerical approximations.\n",
    "```\n",
    "\n",
    "- Think of it as Newton’s Calculus Notebook in code form.\n",
    "- Instead of approximating ( $\\sqrt{8} = 2.828$ ), SymPy simplifies it to ( $2\\sqrt{2}$ )—perfect for solving exact classical mechanics problems like trajectories or forces.\n",
    "\n",
    "**Historical Roots:** Symbolic computation has its origins in Newtonian mechanics (17th century), where exact solutions were critical for describing planetary motion. 🌍\n"
   ]
  },
  {
   "cell_type": "markdown",
   "id": "2",
   "metadata": {
    "slideshow": {
     "slide_type": "slide"
    }
   },
   "source": [
    "## Example 1: Projectile Motion – Solving for Time\n"
   ]
  },
  {
   "cell_type": "markdown",
   "id": "3",
   "metadata": {
    "slideshow": {
     "slide_type": "subslide"
    }
   },
   "source": [
    "### Problem:\n",
    "\n",
    "![](./assets/figures/angry%20bird.jpg)\n",
    "\n",
    "Find the time ( $t$ ) when a projectile hits the ground. The height equation is:\n",
    "$$ h(t) = v_0t - \\frac{1}{2}gt^2 $$\n",
    "\n",
    "\n"
   ]
  },
  {
   "cell_type": "markdown",
   "id": "4",
   "metadata": {
    "slideshow": {
     "slide_type": "subslide"
    }
   },
   "source": [
    "### Variables:\n",
    "\n",
    "- ($h(t)$): Height at time ($t$)($m$).\n",
    "- ($v_0$): Initial velocity ($m/s$).\n",
    "- ($g$): Acceleration due to gravity ((9.8 $\\text{m/s}^2$)).\n",
    "- ($t$): Time ($s$).\n"
   ]
  },
  {
   "cell_type": "markdown",
   "id": "5",
   "metadata": {
    "slideshow": {
     "slide_type": "subslide"
    }
   },
   "source": [
    "### Code:\n"
   ]
  },
  {
   "cell_type": "code",
   "execution_count": null,
   "id": "6",
   "metadata": {
    "slideshow": {
     "slide_type": "fragment"
    }
   },
   "outputs": [],
   "source": [
    "from sympy import symbols, solve\n",
    "from sympy import init_printing\n",
    "\n",
    "init_printing()  # Enables the best option for your environment\n",
    "\n",
    "v0, g, t = symbols(\"v0 g t\")\n",
    "h = v0 * t - (1 / 2) * g * t**2\n",
    "time = solve(h, t)\n",
    "time"
   ]
  },
  {
   "cell_type": "markdown",
   "id": "7",
   "metadata": {
    "slideshow": {
     "slide_type": "subslide"
    }
   },
   "source": [
    "### Explanation:\n",
    "\n",
    "- ($t = 0$): When the projectile is launched.\n",
    "- ($t = \\frac{2v_0}{g}$): When the projectile hits the ground.\n"
   ]
  },
  {
   "cell_type": "markdown",
   "id": "8",
   "metadata": {
    "slideshow": {
     "slide_type": "subslide"
    }
   },
   "source": [
    "### Visualization:\n"
   ]
  },
  {
   "cell_type": "code",
   "execution_count": null,
   "id": "9",
   "metadata": {
    "slideshow": {
     "slide_type": "fragment"
    }
   },
   "outputs": [],
   "source": [
    "import numpy as np\n",
    "import matplotlib.pyplot as plt\n",
    "\n",
    "v0 = 20  # Initial velocity in m/s\n",
    "g = 9.8  # Gravity in m/s^2\n",
    "t = np.linspace(0, 2 * v0 / g, 100)\n",
    "h = v0 * t - 0.5 * g * t**2\n",
    "\n",
    "plt.plot(t, h)\n",
    "plt.title(\"Projectile Motion\")\n",
    "plt.xlabel(\"Time (s)\")\n",
    "plt.ylabel(\"Height (m)\")\n",
    "plt.show()"
   ]
  },
  {
   "cell_type": "markdown",
   "id": "10",
   "metadata": {
    "slideshow": {
     "slide_type": "slide"
    }
   },
   "source": [
    "## Example 2: Derivatives – Velocity from Position\n"
   ]
  },
  {
   "cell_type": "markdown",
   "id": "11",
   "metadata": {
    "slideshow": {
     "slide_type": "subslide"
    }
   },
   "source": [
    "### Problem:\n",
    "\n",
    "Derive the velocity equation from the position function of a falling object:\\\n",
    "$$ s(t) = \\frac{1}{2}gt^2$$\n"
   ]
  },
  {
   "cell_type": "markdown",
   "id": "12",
   "metadata": {
    "slideshow": {
     "slide_type": "subslide"
    }
   },
   "source": [
    "### Variables:\n",
    "\n",
    "- ($s(t)$): Position ($m$).\n",
    "- ($g$): Gravity ((9.8 $\\text{m/s}^2)$).\n",
    "- ($t$): Time ($s$).\n"
   ]
  },
  {
   "cell_type": "markdown",
   "id": "13",
   "metadata": {
    "slideshow": {
     "slide_type": "subslide"
    }
   },
   "source": [
    "### Code:\n"
   ]
  },
  {
   "cell_type": "code",
   "execution_count": null,
   "id": "14",
   "metadata": {
    "slideshow": {
     "slide_type": "fragment"
    }
   },
   "outputs": [],
   "source": [
    "from sympy import diff\n",
    "\n",
    "s, g, t = symbols(\"s g t\")\n",
    "s = (1 / 2) * g * t**2\n",
    "v = diff(s, t)\n",
    "v"
   ]
  },
  {
   "cell_type": "markdown",
   "id": "15",
   "metadata": {
    "slideshow": {
     "slide_type": "subslide"
    }
   },
   "source": [
    "### Output:\n",
    "\n",
    "$v(t) = g \\cdot t$\n"
   ]
  },
  {
   "cell_type": "markdown",
   "id": "16",
   "metadata": {
    "slideshow": {
     "slide_type": "subslide"
    }
   },
   "source": [
    "### Visualization:\n"
   ]
  },
  {
   "cell_type": "code",
   "execution_count": null,
   "id": "17",
   "metadata": {
    "slideshow": {
     "slide_type": "fragment"
    }
   },
   "outputs": [],
   "source": [
    "g = 9.81  # Gravity in m/s^2\n",
    "t = np.linspace(0, 5, 100)\n",
    "v = g * t\n",
    "\n",
    "plt.plot(t, v)\n",
    "plt.title(\"Velocity of a Falling Object\")\n",
    "plt.xlabel(\"Time (s)\")\n",
    "plt.ylabel(\"Velocity (m/s)\")\n",
    "plt.grid()\n",
    "plt.show()"
   ]
  },
  {
   "cell_type": "markdown",
   "id": "18",
   "metadata": {
    "slideshow": {
     "slide_type": "slide"
    }
   },
   "source": [
    "## Example 3: Work Done by a Spring\n",
    "\n",
    "![](./assets/figures/work-done.webp)\n"
   ]
  },
  {
   "cell_type": "markdown",
   "id": "19",
   "metadata": {
    "slideshow": {
     "slide_type": "subslide"
    }
   },
   "source": [
    "### Problem:\n",
    "\n",
    "Calculate the work ( W ) done by a spring stretched from ( $x = 0$ ) to ( $x = 1$ ):\\\n",
    "$$F(x) = -kx \\quad \\text{and} \\quad W = \\int F(x) dx$$\n"
   ]
  },
  {
   "cell_type": "markdown",
   "id": "20",
   "metadata": {
    "slideshow": {
     "slide_type": "subslide"
    }
   },
   "source": [
    "### Variables:\n",
    "\n",
    "- ($F(x)$): Force ($N$).\n",
    "- ($k$): Spring constant ($\\text{N/m}$).\n",
    "- ($x$): Displacement ($m$).\n"
   ]
  },
  {
   "cell_type": "markdown",
   "id": "21",
   "metadata": {
    "slideshow": {
     "slide_type": "subslide"
    }
   },
   "source": [
    "### Code:\n"
   ]
  },
  {
   "cell_type": "code",
   "execution_count": null,
   "id": "22",
   "metadata": {
    "slideshow": {
     "slide_type": "fragment"
    }
   },
   "outputs": [],
   "source": [
    "k, x = symbols(\"k x\")\n",
    "F = -k * x\n",
    "W = F.integrate((x, 0, 1))\n",
    "W"
   ]
  },
  {
   "cell_type": "markdown",
   "id": "23",
   "metadata": {
    "slideshow": {
     "slide_type": "subslide"
    }
   },
   "source": [
    "### Output:\n",
    "\n",
    "$$W = -\\frac{k}{2}$$\n"
   ]
  },
  {
   "cell_type": "markdown",
   "id": "24",
   "metadata": {
    "slideshow": {
     "slide_type": "subslide"
    }
   },
   "source": [
    "### Visualization:\n"
   ]
  },
  {
   "cell_type": "code",
   "execution_count": null,
   "id": "25",
   "metadata": {
    "slideshow": {
     "slide_type": "fragment"
    }
   },
   "outputs": [],
   "source": [
    "x = np.linspace(0, 1, 100)\n",
    "k = 50  # Spring constant\n",
    "F = -k * x\n",
    "W = -0.5 * k * x**2\n",
    "\n",
    "plt.plot(x, F, label=\"Force (F)\")\n",
    "plt.plot(x, W, label=\"Work (W)\")\n",
    "plt.title(\"Spring Force and Work Done\")\n",
    "plt.xlabel(\"Displacement (m)\")\n",
    "plt.ylabel(\"Force (N) / Work (J)\")\n",
    "plt.legend()\n",
    "plt.grid()\n",
    "plt.show()"
   ]
  },
  {
   "cell_type": "markdown",
   "id": "26",
   "metadata": {
    "slideshow": {
     "slide_type": "slide"
    }
   },
   "source": [
    "## Example 4: Center of Mass\n",
    "\n",
    "![](./assets/figures/center-of-mass.webp)"
   ]
  },
  {
   "cell_type": "markdown",
   "id": "27",
   "metadata": {
    "slideshow": {
     "slide_type": "subslide"
    }
   },
   "source": [
    "### Problem:\n",
    "\n",
    "Find the center of mass ( $x_{cm}$ ) of a rod with length ( $L$ ) and a linear density ( $\\lambda(x) = \\lambda_0x$ ):\n",
    "$$x_{cm} = \\frac{\\int_0^L x\\lambda(x)dx}{\\int_0^L \\lambda(x)dx}$$\n"
   ]
  },
  {
   "cell_type": "markdown",
   "id": "28",
   "metadata": {
    "slideshow": {
     "slide_type": "subslide"
    }
   },
   "source": [
    "### Variables:\n",
    "\n",
    "- ( $\\lambda(x)$ ): Linear density (( $\\text{kg/m}$ )).\n",
    "- ( $L$ ): Length of the rod ($m$).\n",
    "- ( $x$ ): Position along the rod ($m$).\n"
   ]
  },
  {
   "cell_type": "markdown",
   "id": "29",
   "metadata": {
    "slideshow": {
     "slide_type": "subslide"
    }
   },
   "source": [
    "### Code:\n"
   ]
  },
  {
   "cell_type": "code",
   "execution_count": null,
   "id": "30",
   "metadata": {
    "slideshow": {
     "slide_type": "fragment"
    }
   },
   "outputs": [],
   "source": [
    "from sympy import integrate\n",
    "\n",
    "lambda0, L, x = symbols(\"lambda0 L x\")\n",
    "numerator = integrate(x * lambda0 * x, (x, 0, L))\n",
    "denominator = integrate(lambda0 * x, (x, 0, L))\n",
    "x_cm = numerator / denominator\n",
    "x_cm"
   ]
  },
  {
   "cell_type": "markdown",
   "id": "31",
   "metadata": {
    "slideshow": {
     "slide_type": "subslide"
    }
   },
   "source": [
    "### Output:\n",
    "\n",
    "$x_{cm} = \\frac{2L}{3}$\n"
   ]
  },
  {
   "cell_type": "markdown",
   "id": "32",
   "metadata": {
    "slideshow": {
     "slide_type": "subslide"
    }
   },
   "source": [
    "### Visualization:\n"
   ]
  },
  {
   "cell_type": "code",
   "execution_count": null,
   "id": "33",
   "metadata": {
    "slideshow": {
     "slide_type": "fragment"
    }
   },
   "outputs": [],
   "source": [
    "x = np.linspace(0, 10, 100)\n",
    "lambda0 = 2  # Linear density constant\n",
    "L = 10  # Length of rod\n",
    "density = lambda0 * x\n",
    "\n",
    "plt.plot(x, density, label=\"Linear Density (λ(x))\")\n",
    "plt.axvline(x=L * 2 / 3, color=\"red\", linestyle=\"--\", label=\"Center of Mass ($x_cm$)\")\n",
    "plt.title(\"Linear Density and Center of Mass\")\n",
    "plt.xlabel(\"Position (m)\")\n",
    "plt.ylabel(\"Density (kg/m)\")\n",
    "plt.legend()\n",
    "plt.grid()\n",
    "plt.show()"
   ]
  },
  {
   "cell_type": "markdown",
   "id": "34",
   "metadata": {
    "slideshow": {
     "slide_type": "slide"
    }
   },
   "source": [
    "## Example 5: Energy in a Spring System\n",
    "\n",
    "![](./assets/figures/dragon-spring.webp)"
   ]
  },
  {
   "cell_type": "markdown",
   "id": "35",
   "metadata": {
    "slideshow": {
     "slide_type": "subslide"
    }
   },
   "source": [
    "### Problem:\n",
    "\n",
    "Calculate the total energy ( $E$ ) stored in a spring stretched to ( $x = a$ ):\\\n",
    "$E = \\frac{1}{2}kx^2$\n"
   ]
  },
  {
   "cell_type": "markdown",
   "id": "36",
   "metadata": {
    "slideshow": {
     "slide_type": "subslide"
    }
   },
   "source": [
    "### Variables:\n",
    "\n",
    "- ( $E$ ): Energy ($J$).\n",
    "- ( $k$ ): Spring constant (( $\\text{N/m}$ )).\n",
    "- ( $x$ ): Displacement ($m$).\n"
   ]
  },
  {
   "cell_type": "markdown",
   "id": "37",
   "metadata": {
    "slideshow": {
     "slide_type": "subslide"
    }
   },
   "source": [
    "### Code:\n"
   ]
  },
  {
   "cell_type": "code",
   "execution_count": null,
   "id": "38",
   "metadata": {
    "slideshow": {
     "slide_type": "fragment"
    }
   },
   "outputs": [],
   "source": [
    "k, x = symbols(\"k x\")\n",
    "E = (1 / 2) * k * x**2\n",
    "E"
   ]
  },
  {
   "cell_type": "markdown",
   "id": "39",
   "metadata": {
    "slideshow": {
     "slide_type": "subslide"
    }
   },
   "source": [
    "### Output:\n",
    "\n",
    "$$E = \\frac{kx^2}{2}$$\n"
   ]
  },
  {
   "cell_type": "markdown",
   "id": "40",
   "metadata": {
    "slideshow": {
     "slide_type": "subslide"
    }
   },
   "source": [
    "### Visualization:\n"
   ]
  },
  {
   "cell_type": "code",
   "execution_count": null,
   "id": "41",
   "metadata": {
    "slideshow": {
     "slide_type": "fragment"
    }
   },
   "outputs": [],
   "source": [
    "x = np.linspace(0, 2, 100)\n",
    "k = 100  # Spring constant\n",
    "E = 0.5 * k * x**2\n",
    "\n",
    "plt.plot(x, E)\n",
    "plt.title(\"Energy Stored in a Spring\")\n",
    "plt.xlabel(\"Displacement (m)\")\n",
    "plt.ylabel(\"Energy (J)\")\n",
    "plt.grid()\n",
    "plt.show()"
   ]
  },
  {
   "cell_type": "markdown",
   "id": "42",
   "metadata": {
    "slideshow": {
     "slide_type": "subslide"
    }
   },
   "source": [
    "### Why SymPy for Classical Mechanics?\n",
    "\n",
    "- Exact Solutions: No approximations—ideal for forces, energies, and motion.\n",
    "- Visualization: Combine symbolic calculations with numerical plotting for deeper insights.\n",
    "- Free and Open Source: A perfect alternative to costly tools like Mathematica.\n",
    "\n",
    "\"With SymPy, solving Newtonian mechanics problems becomes exact and intuitive—just like Newton intended!\" 🚀"
   ]
  }
 ],
 "metadata": {
  "kernelspec": {
   "display_name": "engr131_dev",
   "language": "python",
   "name": "python3"
  },
  "language_info": {
   "codemirror_mode": {
    "name": "ipython",
    "version": 3
   },
   "file_extension": ".py",
   "mimetype": "text/x-python",
   "name": "python",
   "nbconvert_exporter": "python",
   "pygments_lexer": "ipython3",
   "version": "3.12.7"
  }
 },
 "nbformat": 4,
 "nbformat_minor": 5
}
