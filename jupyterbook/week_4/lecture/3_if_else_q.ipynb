{
 "cells": [
  {
   "cell_type": "code",
   "execution_count": null,
   "id": "0",
   "metadata": {
    "deletable": false,
    "editable": false,
    "tags": [
     "skip-execution"
    ]
   },
   "outputs": [],
   "source": [
    "# You must make sure to run all cells in sequence using shift + enter or you might encounter errors\n",
    "from pykubegrader.initialize import initialize_assignment\n",
    "\n",
    "responses = initialize_assignment(\"3_if_else_q\", \"week_4\", \"lecture\", assignment_points = 8.0, assignment_tag = 'week4-lecture')\n",
    "\n",
    "# Initialize Otter\n",
    "import otter\n",
    "grader = otter.Notebook(\"3_if_else_q.ipynb\")"
   ]
  },
  {
   "cell_type": "markdown",
   "id": "1",
   "metadata": {
    "deletable": false,
    "editable": false
   },
   "source": [
    "# 💻 Activity 5.1: Nuclear Plant Temperature Alert\n",
    "\n",
    "![Nuclear Reactor](./assets/figures/nuclear-reactor-inside.jpg)\n",
    "\n",
    "We have just covered the relationship of a process value to a desired set point and discussed the importance of redundancy, especially in systems that have the potential to harm people.\n",
    "\n",
    "## Problem Statement\n",
    "\n",
    "Consider a nuclear reactor. A meltdown would be sufficiently catastrophic that the temperature of the cooling water around the nuclear fuel rods is monitored by four sensors.\n",
    "\n",
    "An alarm should go off if:\n",
    "\n",
    "1. **Condition 1**: Any two sensor readings differ by strictly more than 8 degrees.\n",
    "2. **Condition 2**: Any of the two sensors report a temperature greater than 100 degrees Celsius.\n",
    "\n",
    "Write a function `coolingWaterAlarm(t1, t2, t3, t4)` where `t1`, `t2`, `t3`, and `t4` are the temperature readings for sensor 1, sensor 2, sensor 3, and sensor 4, respectively.\n",
    "\n",
    "The function should:\n",
    "    - Print `Alarm! Temperatures differ.` if the first condition is met.\n",
    "    - Print `Alarm! Temperatures exceed 100 deg Celsius.` if the second condition is met.\n",
    "    - Print `Normal operation.` if neither condition is met.\n",
    "\n",
    "## Implementation\n",
    "\n",
    "1. We have provided the function for you to use. \n",
    "2. Convert the temperature readings to a list, `tlist`.\n",
    "3. Check if the difference between the maximum and minimum values of `tlist` is strictly greater than 8. If so, print the first alarm message. You should use the `max()` and `min()` functions.\n",
    "4. Check if the maximum value of `tlist` is greater than 100. If so, print the second alarm message.\n",
    "5. If neither condition is met, print the normal operation message.\n"
   ]
  },
  {
   "cell_type": "code",
   "execution_count": null,
   "id": "2",
   "metadata": {
    "tags": [
     "skip-execution"
    ]
   },
   "outputs": [],
   "source": [
    "def coolingWaterAlarm(t1, t2, t3, t4):\n",
    "    ...\n",
    "\n",
    "\n",
    "# Test the function\n",
    "coolingWaterAlarm(93, 95, 96, 101)\n",
    "coolingWaterAlarm(95, 103, 96, 101)\n",
    "coolingWaterAlarm(90, 95, 96, 101)\n",
    "coolingWaterAlarm(90, 95, 96, 92)"
   ]
  },
  {
   "cell_type": "code",
   "execution_count": null,
   "id": "3",
   "metadata": {
    "deletable": false,
    "editable": false,
    "tags": [
     "skip-execution"
    ]
   },
   "outputs": [],
   "source": [
    "grader.check(\"cooling-water-problems\")"
   ]
  },
  {
   "cell_type": "markdown",
   "id": "4",
   "metadata": {},
   "source": [
    "## Submitting Assignment\n",
    "\n",
    "Please run the following block of code using `shift + enter` to submit your assignment, you should see your score."
   ]
  },
  {
   "cell_type": "code",
   "execution_count": null,
   "id": "5",
   "metadata": {
    "deletable": false,
    "editable": false,
    "tags": [
     "skip-execution"
    ]
   },
   "outputs": [],
   "source": [
    "from pykubegrader.submit.submit_assignment import submit_assignment\n",
    "\n",
    "submit_assignment(\"week4-lecture\", \"3_if_else_q\")"
   ]
  }
 ],
 "metadata": {
  "kernelspec": {
   "display_name": "engr131_dev",
   "language": "python",
   "name": "python3"
  },
  "language_info": {
   "codemirror_mode": {
    "name": "ipython",
    "version": 3
   },
   "file_extension": ".py",
   "mimetype": "text/x-python",
   "name": "python",
   "nbconvert_exporter": "python",
   "pygments_lexer": "ipython3",
   "version": "3.12.7"
  },
  "otter": {
   "OK_FORMAT": true,
   "tests": {
    "cooling-water-problems": {
     "name": "cooling-water-problems",
     "points": null,
     "suites": [
      {
       "cases": [
        {
         "code": ">>> from pykubegrader.telemetry import ensure_responses, log_variable, score_question, submit_question, telemetry, update_responses\n>>> import os\n>>> import re\n>>> from io import StringIO\n>>> import sys\n>>> max_question_points = str(8.0)\n>>> earned_points = 0\n>>> os.environ['EARNED_POINTS'] = str(earned_points)\n>>> os.environ['TOTAL_POINTS_FREE_RESPONSE'] = str(8.0)\n>>> log_variable('total-points', f'Reading-Week-X, 3_if_else_q', 8.0)\n>>> question_id = 'cooling-water-problems-1'\n>>> max_score = 2.0\n>>> score = 0\n>>> output = StringIO()\n>>> sys.stdout = output\n>>> coolingWaterAlarm(93, 103, 96, 101)\n>>> sys.stdout = sys.stdout\n>>> output_value = output.getvalue().strip()\n>>> condition = re.search('Alarm! Temperatures differ\\\\.', output_value, re.IGNORECASE)\n>>> assert condition, 'The program did not correctly identify large temperature differences.'\n>>> if condition:\n...     score = 2.0\n>>> earned_points = float(os.environ.get('EARNED_POINTS', 0))\n>>> earned_points += score\n>>> log_variable('3_if_else_q', f'{score}, {max_score}', question_id)\n>>> os.environ['EARNED_POINTS'] = str(earned_points)\n>>> responses = update_responses(question_id, str(output))\n",
         "failure_message": "Failed: The program did not correctly identify large temperature differences.",
         "hidden": false,
         "locked": false,
         "points": 2,
         "success_message": "Success: The program correctly identifies large temperature differences."
        },
        {
         "code": ">>> from pykubegrader.telemetry import ensure_responses, log_variable, score_question, submit_question, telemetry, update_responses\n>>> import os\n>>> import re\n>>> from io import StringIO\n>>> import sys\n>>> question_id = 'cooling-water-problems-2'\n>>> max_score = 2.0\n>>> score = 0\n>>> output = StringIO()\n>>> sys.stdout = output\n>>> coolingWaterAlarm(95, 103, 96, 101)\n>>> sys.stdout = sys.stdout\n>>> output_value = output.getvalue().strip()\n>>> condition = re.search('Alarm! Temperatures exceed 100 deg Celsius\\\\.', output_value, re.IGNORECASE)\n>>> assert condition, 'The program did not correctly identify temperatures exceeding 100 degrees.'\n>>> if condition:\n...     score = 2.0\n>>> earned_points = float(os.environ.get('EARNED_POINTS', 0))\n>>> earned_points += score\n>>> log_variable('3_if_else_q', f'{score}, {max_score}', question_id)\n>>> os.environ['EARNED_POINTS'] = str(earned_points)\n>>> responses = update_responses(question_id, str(output))\n",
         "failure_message": "Failed: The program did not correctly identify temperatures exceeding 100 degrees.",
         "hidden": false,
         "locked": false,
         "points": 2,
         "success_message": "Success: The program correctly identifies temperatures exceeding 100 degrees."
        },
        {
         "code": ">>> from pykubegrader.telemetry import ensure_responses, log_variable, score_question, submit_question, telemetry, update_responses\n>>> import os\n>>> import re\n>>> from io import StringIO\n>>> import sys\n>>> question_id = 'cooling-water-problems-3'\n>>> max_score = 2.0\n>>> score = 0\n>>> output = StringIO()\n>>> sys.stdout = output\n>>> coolingWaterAlarm(90, 95, 96, 92)\n>>> sys.stdout = sys.stdout\n>>> output_value = output.getvalue().strip()\n>>> print(output_value)\n>>> condition = re.search('Normal operation\\\\.', output_value, re.IGNORECASE)\n>>> assert condition, 'The program did not correctly identify normal operation.'\n>>> if condition:\n...     score = 2.0\n>>> earned_points = float(os.environ.get('EARNED_POINTS', 0))\n>>> earned_points += score\n>>> log_variable('3_if_else_q', f'{score}, {max_score}', question_id)\n>>> os.environ['EARNED_POINTS'] = str(earned_points)\n>>> responses = update_responses(question_id, str(output))\n",
         "failure_message": "Failed: The program did not correctly identify normal operation.",
         "hidden": false,
         "locked": false,
         "points": 2,
         "success_message": "Success: The program correctly handles normal operation."
        },
        {
         "code": ">>> from pykubegrader.telemetry import ensure_responses, log_variable, score_question, submit_question, telemetry, update_responses\n>>> import os\n>>> import re\n>>> from io import StringIO\n>>> import sys\n>>> question_id = 'cooling-water-problems-4'\n>>> max_score = 2.0\n>>> score = 0\n>>> output = StringIO()\n>>> sys.stdout = output\n>>> coolingWaterAlarm(95, 105, 96, 91)\n>>> sys.stdout = sys.stdout\n>>> output_value = output.getvalue().strip()\n>>> condition_diff = re.search('Alarm! Temperatures differ\\\\.', output_value, re.IGNORECASE)\n>>> assert condition_diff, 'The program did not correctly prioritize temperature difference alarms.'\n>>> if condition_diff:\n...     score = 2.0\n>>> earned_points = float(os.environ.get('EARNED_POINTS', 0))\n>>> earned_points += score\n>>> log_variable('3_if_else_q', f'{score}, {max_score}', question_id)\n>>> os.environ['EARNED_POINTS'] = str(earned_points)\n>>> responses = update_responses(question_id, str(output))\n",
         "failure_message": "Failed: The program did not correctly handle mixed conditions.",
         "hidden": false,
         "locked": false,
         "points": 2,
         "success_message": "Success: The program correctly handles mixed conditions."
        }
       ],
       "scored": true,
       "setup": "",
       "teardown": "",
       "type": "doctest"
      }
     ]
    }
   }
  }
 },
 "nbformat": 4,
 "nbformat_minor": 5
}
