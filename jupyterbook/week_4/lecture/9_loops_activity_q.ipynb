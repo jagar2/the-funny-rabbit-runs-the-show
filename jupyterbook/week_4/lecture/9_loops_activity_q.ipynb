{
 "cells": [
  {
   "cell_type": "code",
   "execution_count": null,
   "id": "0",
   "metadata": {
    "tags": [
     "skip-execution"
    ]
   },
   "outputs": [],
   "source": [
    "from pykubegrader.tokens.validate_token import validate_token\n",
    "validate_token('type the key provided by your instructor here')\n"
   ]
  },
  {
   "cell_type": "code",
   "execution_count": null,
   "id": "1",
   "metadata": {
    "deletable": false,
    "editable": false,
    "tags": [
     "skip-execution"
    ]
   },
   "outputs": [],
   "source": [
    "# You must make sure to run all cells in sequence using shift + enter or you might encounter errors\n",
    "from pykubegrader.initialize import initialize_assignment\n",
    "\n",
    "responses = initialize_assignment(\"9_loops_activity_q\", \"week_4\", \"lecture\", assignment_points = 8.0, assignment_tag = 'week4-lecture')\n",
    "\n",
    "# Initialize Otter\n",
    "import otter\n",
    "grader = otter.Notebook(\"9_loops_activity_q.ipynb\")"
   ]
  },
  {
   "cell_type": "markdown",
   "id": "2",
   "metadata": {
    "deletable": false,
    "editable": false
   },
   "source": [
    "# 💻 Activity: Taking Integrals with Loops\n",
    "\n",
    "![Riemann Sums](https://math.libretexts.org/@api/deki/files/6076/5.3.2.png?revision=1&size=bestfit&width=441&height=378)\n",
    "\n",
    "## Problem Statement\n",
    "\n",
    "Let's explore how two important choices impact the accuracy of this method for approximating integrals:\n",
    "\n",
    "1. The width of the rectangle $h$, which is determined by the number of rectangles between $a$ and $b$.\n",
    "2. The value of $x$ at which the function is evaluated (left, midpoint, or right).\n",
    "\n",
    "## Implementation\n",
    "\n",
    "Write a function `riemann(numRectangles, evalPoint)` that calculates the approximate integral of a given function using Riemann sums with the following requirements:\n",
    "\n",
    "1. Define the boundaries of the integral: $a = 0$ and $b = 5$.\n",
    "2. Use the curve $f(x) = \\sin(x/2) + 1$.\n",
    "   - Create an array of $x$ values between $a$ and $b$, using `np.linspace()`. The number of steps is determined by `numRectangles`.\n",
    "3. Calculate the width of each rectangle, $h$, as:\n",
    "   $$h = \\frac{b - a}{\\text{numRectangles} - 1}$$\n",
    "4. Initialize the variable `integral_R` to zero.\n",
    "5. Use a loop to calculate the integral using the value of $f$ at the right side of each rectangle. This is if i < (numRectangles - 1).\n",
    "6. Add and assign the area of each rectangle to `integral_R` as:\n",
    "   $$\\text{integral_R} += h \\times f[i + 1]$$\n",
    "\n",
    "We have provided the necessary print statement and test statements to tests your code. \n",
    "\n",
    "## Example Usage\n",
    "\n",
    "Call the function using different values for `numRectangles` (e.g., 2, 5, and 11) and `\"right\"` as the evaluation point to compare the approximations."
   ]
  },
  {
   "cell_type": "code",
   "execution_count": null,
   "id": "3",
   "metadata": {
    "tags": [
     "skip-execution"
    ]
   },
   "outputs": [],
   "source": [
    "import numpy as np\n",
    "\n",
    "\n",
    "def riemann(numRectangles, evalPoint):\n",
    "    # The function riemann takes two inputs: numRectangles and evalPoint\n",
    "    # numRectangles is the number of rectangles to use in the Riemann sum\n",
    "\n",
    "    # Define the boundaries of the integral\n",
    "    ...\n",
    "\n",
    "    # Define the curve\n",
    "    x = ...\n",
    "    f = ...\n",
    "\n",
    "    # Determine the width of each rectangle\n",
    "    h = ...\n",
    "\n",
    "    # Initialize the integral\n",
    "    integral_R = ...\n",
    "\n",
    "    # Integrate using the value of f at the right\n",
    "    ...\n",
    "\n",
    "    # Print the integral, number of rectangles, and the chosen point for evaluation\n",
    "    print(\n",
    "        f\"The integral is {integral_R:.6f} for {numRectangles} using the {evalPoint} point for evaluating the function.\"\n",
    "    )\n",
    "\n",
    "\n",
    "# Call the function with different inputs\n",
    "riemann(2, \"right\")\n",
    "riemann(5, \"right\")\n",
    "riemann(11, \"right\")\n",
    "riemann(51, \"right\")"
   ]
  },
  {
   "cell_type": "code",
   "execution_count": null,
   "id": "4",
   "metadata": {
    "deletable": false,
    "editable": false,
    "tags": [
     "skip-execution"
    ]
   },
   "outputs": [],
   "source": [
    "grader.check(\"integrals-riemann-sums\")"
   ]
  },
  {
   "cell_type": "markdown",
   "id": "5",
   "metadata": {},
   "source": [
    "## Submitting Assignment\n",
    "\n",
    "Please run the following block of code using `shift + enter` to submit your assignment, you should see your score."
   ]
  },
  {
   "cell_type": "code",
   "execution_count": null,
   "id": "6",
   "metadata": {
    "deletable": false,
    "editable": false,
    "tags": [
     "skip-execution"
    ]
   },
   "outputs": [],
   "source": [
    "from pykubegrader.tokens.validate_token import validate_token\n",
    "validate_token()\n",
    "\n",
    "\n",
    "from pykubegrader.submit.submit_assignment import submit_assignment\n",
    "\n",
    "submit_assignment(\"week4-lecture\", \"9_loops_activity_q\")"
   ]
  }
 ],
 "metadata": {
  "kernelspec": {
   "display_name": "engr131_dev",
   "language": "python",
   "name": "python3"
  },
  "language_info": {
   "codemirror_mode": {
    "name": "ipython",
    "version": 3
   },
   "file_extension": ".py",
   "mimetype": "text/x-python",
   "name": "python",
   "nbconvert_exporter": "python",
   "pygments_lexer": "ipython3",
   "version": "3.12.7"
  },
  "otter": {
   "OK_FORMAT": true,
   "tests": {
    "integrals-riemann-sums": {
     "name": "integrals-riemann-sums",
     "points": null,
     "suites": [
      {
       "cases": [
        {
         "code": ">>> from pykubegrader.telemetry import ensure_responses, log_variable, score_question, submit_question, telemetry, update_responses\n>>> import os\n>>> import re\n>>> from io import StringIO\n>>> import sys\n>>> max_question_points = str(8.0)\n>>> earned_points = 0\n>>> os.environ['EARNED_POINTS'] = str(earned_points)\n>>> os.environ['TOTAL_POINTS_FREE_RESPONSE'] = str(8.0)\n>>> from pykubegrader.tokens.validate_token import validate_token\n>>> validate_token()\n>>> log_variable('total-points', f'Reading-Week-X, 9_loops_activity_q', 8.0)\n>>> question_id = 'integrals-riemann-sums-1'\n>>> max_score = 2.0\n>>> score = 0\n>>> output = StringIO()\n>>> sys.stdout = output\n>>> riemann(2, 'right')\n>>> sys.stdout = sys.__stdout__\n>>> output_value = output.getvalue().strip()\n>>> condition = re.search('The integral is\\\\s+7\\\\.\\\\d{6,9}\\\\s+for\\\\s+2\\\\s+using\\\\s+the\\\\s+right', output_value)\n>>> assert condition, 'The program did not calculate the integral correctly for 2 rectangles.'\n>>> if condition:\n...     score = 2.0\n>>> earned_points = float(os.environ.get('EARNED_POINTS', 0))\n>>> earned_points += score\n>>> log_variable('9_loops_activity_q', f'{score}, {max_score}', question_id)\n>>> os.environ['EARNED_POINTS'] = str(earned_points)\n>>> responses = update_responses(question_id, str(output))\n",
         "failure_message": "Failed: The program did not calculate the integral correctly for 2 rectangles.",
         "hidden": false,
         "locked": false,
         "points": 2,
         "success_message": "Success: The program correctly calculates the integral for 2 rectangles."
        },
        {
         "code": ">>> from pykubegrader.telemetry import ensure_responses, log_variable, score_question, submit_question, telemetry, update_responses\n>>> import os\n>>> import re\n>>> from io import StringIO\n>>> import sys\n>>> question_id = 'integrals-riemann-sums-2'\n>>> max_score = 2.0\n>>> score = 0\n>>> output = StringIO()\n>>> sys.stdout = output\n>>> riemann(5, 'right')\n>>> sys.stdout = sys.__stdout__\n>>> output_value = output.getvalue().strip()\n>>> condition = re.search('The integral is\\\\s+8\\\\.85\\\\d{4,6}\\\\s+for\\\\s+5\\\\s+using\\\\s+the\\\\s+right', output_value)\n>>> assert condition, 'The program did not calculate the integral correctly for 5 rectangles.'\n>>> if condition:\n...     score = 2.0\n>>> earned_points = float(os.environ.get('EARNED_POINTS', 0))\n>>> earned_points += score\n>>> log_variable('9_loops_activity_q', f'{score}, {max_score}', question_id)\n>>> os.environ['EARNED_POINTS'] = str(earned_points)\n>>> responses = update_responses(question_id, str(output))\n",
         "failure_message": "Failed: The program did not calculate the integral correctly for 5 rectangles.",
         "hidden": false,
         "locked": false,
         "points": 2,
         "success_message": "Success: The program correctly calculates the integral for 5 rectangles."
        },
        {
         "code": ">>> from pykubegrader.telemetry import ensure_responses, log_variable, score_question, submit_question, telemetry, update_responses\n>>> import os\n>>> import re\n>>> from io import StringIO\n>>> import sys\n>>> question_id = 'integrals-riemann-sums-3'\n>>> max_score = 2.0\n>>> score = 0\n>>> output = StringIO()\n>>> sys.stdout = output\n>>> riemann(11, 'right')\n>>> sys.stdout = sys.__stdout__\n>>> output_value = output.getvalue().strip()\n>>> condition = re.search('The integral is\\\\s+8\\\\.73\\\\d{2,6}\\\\s+for\\\\s+11\\\\s+using\\\\s+the\\\\s+right', output_value)\n>>> assert condition, 'The program did not calculate the integral correctly for 11 rectangles.'\n>>> if condition:\n...     score = 2.0\n>>> earned_points = float(os.environ.get('EARNED_POINTS', 0))\n>>> earned_points += score\n>>> log_variable('9_loops_activity_q', f'{score}, {max_score}', question_id)\n>>> os.environ['EARNED_POINTS'] = str(earned_points)\n>>> responses = update_responses(question_id, str(output))\n",
         "failure_message": "Failed: The program did not calculate the integral correctly for 11 rectangles.",
         "hidden": false,
         "locked": false,
         "points": 2,
         "success_message": "Success: The program correctly calculates the integral for 11 rectangles."
        },
        {
         "code": ">>> from pykubegrader.telemetry import ensure_responses, log_variable, score_question, submit_question, telemetry, update_responses\n>>> import os\n>>> import re\n>>> from io import StringIO\n>>> import sys\n>>> question_id = 'integrals-riemann-sums-4'\n>>> max_score = 2.0\n>>> score = 0\n>>> output = StringIO()\n>>> sys.stdout = output\n>>> riemann(51, 'right')\n>>> sys.stdout = sys.__stdout__\n>>> output_value = output.getvalue().strip()\n>>> condition = re.search('The integral is\\\\s+8\\\\.631\\\\d{2,6}\\\\s+for\\\\s+51\\\\s+using\\\\s+the\\\\s+right', output_value)\n>>> assert condition, 'The program did not improve precision with more rectangles.'\n>>> if condition:\n...     score = 2.0\n>>> earned_points = float(os.environ.get('EARNED_POINTS', 0))\n>>> earned_points += score\n>>> log_variable('9_loops_activity_q', f'{score}, {max_score}', question_id)\n>>> os.environ['EARNED_POINTS'] = str(earned_points)\n>>> responses = update_responses(question_id, str(output))\n",
         "failure_message": "Failed: The program did not improve precision with more rectangles.",
         "hidden": false,
         "locked": false,
         "points": 2,
         "success_message": "Success: The program correctly calculates the integral with increased precision."
        }
       ],
       "scored": true,
       "setup": "",
       "teardown": "",
       "type": "doctest"
      }
     ]
    }
   }
  }
 },
 "nbformat": 4,
 "nbformat_minor": 5
}
