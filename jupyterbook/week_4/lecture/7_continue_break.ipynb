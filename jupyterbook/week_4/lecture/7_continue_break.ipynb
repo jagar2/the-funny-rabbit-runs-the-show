{
 "cells": [
  {
   "cell_type": "markdown",
   "id": "0",
   "metadata": {
    "slideshow": {
     "slide_type": "slide"
    }
   },
   "source": [
    "# 📝 🧪 Quantum Control with `continue`, `break`, and `else`\n",
    "\n",
    "![Quantum Control](./assets/figures/quantum-computers.jpeg)\n",
    "\n"
   ]
  },
  {
   "cell_type": "markdown",
   "id": "1",
   "metadata": {
    "slideshow": {
     "slide_type": "slide"
    }
   },
   "source": [
    "## 🎯 Context: Quantum Circuit Simulation\n",
    "\n",
    "In quantum engineering, designing and simulating quantum circuits involves processing:\n",
    "\n",
    "- **Qubits:** The fundamental units of quantum information.\n",
    "- **Quantum Gates:** Operations that manipulate qubits.\n",
    "- **Error Handling:** Ensuring fidelity by addressing noise and errors.\n",
    "\n",
    "Python’s `continue`, `break`, and `else` can help efficiently control these processes in simulations."
   ]
  },
  {
   "cell_type": "markdown",
   "id": "2",
   "metadata": {
    "slideshow": {
     "slide_type": "slide"
    }
   },
   "source": [
    "## 🧐 What Are `continue`, `break`, and `else`?\n",
    "\n",
    "#\n",
    "\n"
   ]
  },
  {
   "cell_type": "markdown",
   "id": "3",
   "metadata": {
    "slideshow": {
     "slide_type": "subslide"
    }
   },
   "source": [
    "### `continue`\n",
    "\n",
    "Skips the rest of the current loop iteration and proceeds to the next.\n",
    "\n",
    "#\n",
    "\n",
    "**Syntax:**\n",
    "\n"
   ]
  },
  {
   "cell_type": "code",
   "execution_count": null,
   "id": "4",
   "metadata": {},
   "outputs": [],
   "source": [
    "iterable = [1, 2, 3, 4, 5]\n",
    "\n",
    "for item in iterable:\n",
    "    if item % 2 == 0:\n",
    "        continue  # Skip the current iteration\n",
    "    print(f\"Processing item: {item}\")"
   ]
  },
  {
   "cell_type": "markdown",
   "id": "5",
   "metadata": {
    "slideshow": {
     "slide_type": "subslide"
    }
   },
   "source": [
    "### `break`\n",
    "\n",
    "Exits the loop immediately, regardless of remaining iterations.\n",
    "\n",
    "#\n",
    "\n",
    "**Syntax:**\n",
    "\n"
   ]
  },
  {
   "cell_type": "code",
   "execution_count": null,
   "id": "6",
   "metadata": {},
   "outputs": [],
   "source": [
    "iterable = [1, 2, 3, 4, 5]\n",
    "\n",
    "for item in iterable:\n",
    "    if item % 2 == 0:\n",
    "        break  # Exit the loop\n",
    "\n",
    "    print(f\"Processing item: {item}\")\n",
    "    # Code to execute if condition is False"
   ]
  },
  {
   "cell_type": "markdown",
   "id": "7",
   "metadata": {
    "slideshow": {
     "slide_type": "subslide"
    }
   },
   "source": [
    "### `else`\n",
    "\n",
    "Executes after a `for` or `while` loop completes, **only if the loop is not terminated by `break`**.\n",
    "\n",
    "#\n",
    "\n",
    "**Syntax:**\n",
    "\n"
   ]
  },
  {
   "cell_type": "code",
   "execution_count": null,
   "id": "8",
   "metadata": {},
   "outputs": [],
   "source": [
    "iterable = [1, 2, 3, 4, 5]\n",
    "\n",
    "for item in iterable:\n",
    "    if item == 2:\n",
    "        print(\"item 2 found, breaking loop.\")\n",
    "        break  # Skip the else block\n",
    "else:\n",
    "    # Code to execute if no break occurs\n",
    "    print(\"Loop completed without break.\")"
   ]
  },
  {
   "cell_type": "markdown",
   "id": "9",
   "metadata": {
    "slideshow": {
     "slide_type": "slide"
    }
   },
   "source": [
    "## 🔄 Example: Qubit Initialization\n",
    "\n",
    "#\n",
    "\n",
    "Initializing qubits for a simulation, skipping invalid states using `continue`."
   ]
  },
  {
   "cell_type": "code",
   "execution_count": null,
   "id": "10",
   "metadata": {
    "slideshow": {
     "slide_type": "fragment"
    }
   },
   "outputs": [],
   "source": [
    "qubits = [\"|0\\u27E9\", \"|1\\u27E9\", \"error\", \"|+\\u27E9\", \"|-\\u27E9\"]\n",
    "\n",
    "for qubit in qubits:\n",
    "    if qubit == \"error\":\n",
    "        print(\"Skipping invalid qubit state.\")\n",
    "        continue\n",
    "    print(f\"Initializing qubit in state: {qubit}\")"
   ]
  },
  {
   "cell_type": "markdown",
   "id": "11",
   "metadata": {
    "slideshow": {
     "slide_type": "subslide"
    }
   },
   "source": [
    "### Explanation\n",
    "\n",
    "- The `if` condition checks for invalid states (`error`).\n",
    "\n",
    "- The `continue` statement skips processing for invalid states.\n",
    "\n",
    "- Valid states are initialized."
   ]
  },
  {
   "cell_type": "markdown",
   "id": "12",
   "metadata": {
    "slideshow": {
     "slide_type": "slide"
    }
   },
   "source": [
    "## 🔍 Example: Quantum Gate Application with `break`\n",
    "\n",
    "#\n",
    "\n",
    "Applying gates to qubits until an error is encountered."
   ]
  },
  {
   "cell_type": "code",
   "execution_count": null,
   "id": "13",
   "metadata": {
    "slideshow": {
     "slide_type": "fragment"
    }
   },
   "outputs": [],
   "source": [
    "qubits = [\"|0\\u27E9\", \"|1\\u27E9\", \"error\", \"|+\\u27E9\"]\n",
    "gate = \"Hadamard\"\n",
    "\n",
    "for qubit in qubits:\n",
    "    if qubit == \"error\":\n",
    "        print(\"Error encountered. Halting operation.\")\n",
    "        break\n",
    "    print(f\"Applying {gate} gate to {qubit}\")"
   ]
  },
  {
   "cell_type": "markdown",
   "id": "14",
   "metadata": {
    "slideshow": {
     "slide_type": "subslide"
    }
   },
   "source": [
    "### Explanation\n",
    "\n",
    "- The `if` condition detects an error state.\n",
    "\n",
    "- The `break` statement halts further processing when an error is found."
   ]
  },
  {
   "cell_type": "markdown",
   "id": "15",
   "metadata": {
    "slideshow": {
     "slide_type": "slide"
    }
   },
   "source": [
    "## 🛠 Advanced: Using `else` for Post-Loop Analysis\n",
    "\n",
    "#\n",
    "\n",
    "Ensure all qubits are processed without errors. If no errors occur, run a post-loop operation."
   ]
  },
  {
   "cell_type": "code",
   "execution_count": null,
   "id": "16",
   "metadata": {
    "slideshow": {
     "slide_type": "fragment"
    }
   },
   "outputs": [],
   "source": [
    "qubits = [\"|0\\u27E9\", \"|1\\u27E9\", \"|+\\u27E9\"]\n",
    "gate = \"X\"\n",
    "\n",
    "for qubit in qubits:\n",
    "    if qubit == \"error\":\n",
    "        print(\"Error detected. Stopping simulation.\")\n",
    "        break\n",
    "    print(f\"Applying {gate} gate to {qubit}\")\n",
    "else:\n",
    "    print(\"All qubits processed successfully. Quantum circuit ready.\")"
   ]
  },
  {
   "cell_type": "markdown",
   "id": "17",
   "metadata": {
    "slideshow": {
     "slide_type": "subslide"
    }
   },
   "source": [
    "### Explanation\n",
    "\n",
    "- The `else` block runs only if no `break` is encountered.\n",
    "\n",
    "- Useful for confirming successful completion of loop operations."
   ]
  },
  {
   "cell_type": "markdown",
   "id": "18",
   "metadata": {
    "slideshow": {
     "slide_type": "slide"
    }
   },
   "source": [
    "## 🚦 Practical Application: Noise Detection in Quantum Systems\n",
    "\n",
    "#\n",
    "\n",
    "Use `continue`, `break`, and `else` to simulate noise detection and handle faulty operations."
   ]
  },
  {
   "cell_type": "code",
   "execution_count": null,
   "id": "19",
   "metadata": {
    "slideshow": {
     "slide_type": "fragment"
    }
   },
   "outputs": [],
   "source": [
    "qubits = [\"|0\\u27E9\", \"error\", \"|1\\u27E9\", \"|+\\u27E9\"]\n",
    "noise_threshold = 0.1  # Example noise threshold\n",
    "\n",
    "import random\n",
    "\n",
    "for qubit in qubits:\n",
    "    if qubit == \"error\":\n",
    "        print(\"Faulty qubit detected. Exiting loop.\")\n",
    "        break\n",
    "\n",
    "    # Simulate a noise check\n",
    "    noise_level = random.uniform(0, 0.2)\n",
    "\n",
    "    if noise_level > noise_threshold:\n",
    "        print(f\"High noise ({noise_level:.2f}). Skipping qubit {qubit}.\")\n",
    "        continue\n",
    "\n",
    "    print(f\"Qubit {qubit} passed noise check ({noise_level:.2f}).\")\n",
    "\n",
    "else:\n",
    "    print(\"Quantum system is noise-free. Ready for execution.\")"
   ]
  },
  {
   "cell_type": "markdown",
   "id": "20",
   "metadata": {
    "slideshow": {
     "slide_type": "slide"
    }
   },
   "source": [
    "## 🎉 Key Takeaways\n",
    "\n",
    "#\n",
    "\n",
    "- **`continue`**: Skip invalid or noisy data and proceed with the loop.\n",
    "\n",
    "- **`break`**: Halt operations upon encountering critical errors.\n",
    "\n",
    "- **`else`**: Confirm successful execution when no interruptions occur.\n",
    "\n",
    "#\n",
    "\n"
   ]
  },
  {
   "cell_type": "markdown",
   "id": "21",
   "metadata": {
    "slideshow": {
     "slide_type": "subslide"
    }
   },
   "source": [
    "### Syntax Recap\n",
    "\n",
    "```{admonition} Syntax\n",
    "\n",
    "```python\n",
    "for item in iterable:\n",
    "\tif condition:\n",
    "\t\tcontinue # Skip this iteration and proceed to the next iteration in the loop.\n",
    "\n",
    "\tif condition:\n",
    "\t\tbreak # Exit the loop immediately.\n",
    "\n",
    "else: \n",
    "\tprint(\"Loop completed without break.\")\n",
    "```\n",
    "\n",
    "- **`continue`**: Skip the current iteration and proceed to the next.\n",
    "- **`break`**: Exit the loop immediately.\n",
    "- **`else`**: Execute after a loop completes, only if the loop is not terminated by `break`.\n",
    "\n",
    "```\n",
    "\n"
   ]
  },
  {
   "cell_type": "markdown",
   "id": "22",
   "metadata": {
    "slideshow": {
     "slide_type": "fragment"
    }
   },
   "source": [
    "\n",
    "#\n",
    "\n",
    "🚀 Leverage these tools to streamline quantum simulations and ensure robust engineering designs!"
   ]
  }
 ],
 "metadata": {
  "kernelspec": {
   "display_name": "engr131_dev",
   "language": "python",
   "name": "python3"
  },
  "language_info": {
   "codemirror_mode": {
    "name": "ipython",
    "version": 3
   },
   "file_extension": ".py",
   "mimetype": "text/x-python",
   "name": "python",
   "nbconvert_exporter": "python",
   "pygments_lexer": "ipython3",
   "version": "3.12.7"
  }
 },
 "nbformat": 4,
 "nbformat_minor": 5
}
