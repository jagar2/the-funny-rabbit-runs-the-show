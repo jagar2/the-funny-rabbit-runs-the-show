{
 "cells": [
  {
   "cell_type": "markdown",
   "id": "0",
   "metadata": {
    "slideshow": {
     "slide_type": "slide"
    }
   },
   "source": [
    "# 🔬 Automating Electron Microscopy Data Analysis with `for` Loops\n",
    "\n",
    "![For Loops](./assets/figures/0719_ElectronPtychography.jpg)"
   ]
  },
  {
   "cell_type": "markdown",
   "id": "1",
   "metadata": {
    "slideshow": {
     "slide_type": "slide"
    }
   },
   "source": [
    "## 📜 Historical Perspective: Electron Microscopy\n",
    "\n",
    "Electron microscopy (EM) revolutionized material science and biology by providing high-resolution images of nanoscale structures. To analyze these images, scientists often need to:\n",
    "- Process thousands of images efficiently.\n",
    "- Extract data (e.g., particle size, shape, or distribution).\n",
    "- Automate repetitive tasks for consistency.\n",
    "\n",
    "Python's `for` loops are indispensable tools for automating such tasks."
   ]
  },
  {
   "cell_type": "markdown",
   "id": "2",
   "metadata": {
    "slideshow": {
     "slide_type": "slide"
    }
   },
   "source": [
    "## 🧐 What Are `for` Loops?\n",
    "\n",
    "`for` loops iterate over sequences (like lists, tuples, or strings) and execute a block of code for each element.\n",
    "\n",
    "![](./assets/figures/megalibaries.jpeg)\n",
    "\n"
   ]
  },
  {
   "cell_type": "markdown",
   "id": "3",
   "metadata": {
    "slideshow": {
     "slide_type": "subslide"
    }
   },
   "source": [
    "### Syntax Breakdown\n"
   ]
  },
  {
   "cell_type": "code",
   "execution_count": null,
   "id": "4",
   "metadata": {},
   "outputs": [],
   "source": [
    "for element in sequence:\n",
    "    # Code block to execute"
   ]
  },
  {
   "cell_type": "markdown",
   "id": "5",
   "metadata": {
    "slideshow": {
     "slide_type": "fragment"
    }
   },
   "source": [
    "- **`element`**: Variable representing the current item in the sequence.\n",
    "- **`sequence`**: A collection (like a list, range, or string) to iterate over.\n",
    "- **Indentation**: Defines the block of code to execute during each iteration."
   ]
  },
  {
   "cell_type": "markdown",
   "id": "6",
   "metadata": {
    "slideshow": {
     "slide_type": "slide"
    }
   },
   "source": [
    "## 🔍 Why Use `for` Loops in Electron Microscopy?\n",
    "\n",
    "- Process hundreds or thousands of images.\n",
    "- Automate repetitive tasks like file renaming or pixel intensity analysis.\n",
    "- Extract statistical data for large datasets."
   ]
  },
  {
   "cell_type": "markdown",
   "id": "7",
   "metadata": {
    "slideshow": {
     "slide_type": "slide"
    }
   },
   "source": [
    "## 🛠 Basic Example: Iterating Over a List of Images\n",
    "\n",
    "Suppose we have a list of image filenames from an electron microscopy experiment."
   ]
  },
  {
   "cell_type": "code",
   "execution_count": null,
   "id": "8",
   "metadata": {
    "slideshow": {
     "slide_type": "fragment"
    }
   },
   "outputs": [],
   "source": [
    "image_files = [\"image_001.tif\", \"image_002.tif\", \"image_003.tif\"]\n",
    "\n",
    "for file in image_files:\n",
    "    print(f\"Processing {file}\")"
   ]
  },
  {
   "cell_type": "markdown",
   "id": "9",
   "metadata": {
    "slideshow": {
     "slide_type": "subslide"
    }
   },
   "source": [
    "### Explanation of the Code\n",
    "- The `for` loop iterates over each element in `image_files`.\n",
    "- During each iteration, `file` represents the current filename.\n",
    "- The `print` function displays a processing message for each file."
   ]
  },
  {
   "cell_type": "markdown",
   "id": "10",
   "metadata": {
    "slideshow": {
     "slide_type": "slide"
    }
   },
   "source": [
    "## 🔄 Iterating Over Ranges\n",
    "\n",
    "Ranges are useful for numerical loops, such as analyzing slices of data or images."
   ]
  },
  {
   "cell_type": "code",
   "execution_count": null,
   "id": "11",
   "metadata": {
    "slideshow": {
     "slide_type": "fragment"
    }
   },
   "outputs": [],
   "source": [
    "# Analyze slices from 1 to 5\n",
    "for slice_num in range(1, 6):\n",
    "    print(f\"Analyzing slice {slice_num}\")"
   ]
  },
  {
   "cell_type": "markdown",
   "id": "12",
   "metadata": {
    "slideshow": {
     "slide_type": "subslide"
    }
   },
   "source": [
    "### Key Points\n",
    "- `range(start, stop)` generates numbers from `start` to `stop - 1`.\n",
    "- Useful for tasks where the sequence is a predictable range of numbers."
   ]
  },
  {
   "cell_type": "markdown",
   "id": "13",
   "metadata": {
    "slideshow": {
     "slide_type": "slide"
    }
   },
   "source": [
    "## 🧵 Nested Loops: Pixels in an Image\n",
    "\n",
    "Nested loops allow you to analyze data at multiple levels. For example, iterate over each pixel in an image."
   ]
  },
  {
   "cell_type": "code",
   "execution_count": null,
   "id": "14",
   "metadata": {
    "slideshow": {
     "slide_type": "fragment"
    }
   },
   "outputs": [],
   "source": [
    "# Simulated 3x3 image pixel intensities\n",
    "image_data = [[120, 130, 125], [110, 140, 135], [115, 125, 130]]\n",
    "\n",
    "for i, row in enumerate(image_data):\n",
    "    for j, pixel in enumerate(row):\n",
    "        print(f\"Pixel {i+1}, {j+1}, intensity: {pixel}\")"
   ]
  },
  {
   "cell_type": "markdown",
   "id": "15",
   "metadata": {
    "slideshow": {
     "slide_type": "subslide"
    }
   },
   "source": [
    "### Explanation\n",
    "- The outer loop iterates over rows.\n",
    "- The inner loop iterates over each pixel in the current row.\n",
    "- Useful for processing image data at the pixel level."
   ]
  },
  {
   "cell_type": "markdown",
   "id": "16",
   "metadata": {
    "slideshow": {
     "slide_type": "slide"
    }
   },
   "source": [
    "## 🔍 Iterating Over Dictionaries: Metadata in Images\n",
    "\n",
    "EM images often have associated metadata (e.g., magnification, voltage, etc.). Use `for` loops to process dictionary data."
   ]
  },
  {
   "cell_type": "code",
   "execution_count": null,
   "id": "17",
   "metadata": {
    "slideshow": {
     "slide_type": "fragment"
    }
   },
   "outputs": [],
   "source": [
    "# Simulated metadata for an image\n",
    "metadata = {\"magnification\": \"50kX\", \"voltage\": \"200kV\", \"date\": \"2025-01-15\"}\n",
    "\n",
    "for key, value in metadata.items():\n",
    "    print(f\"{key}: {value}\")"
   ]
  },
  {
   "cell_type": "markdown",
   "id": "18",
   "metadata": {
    "slideshow": {
     "slide_type": "subslide"
    }
   },
   "source": [
    "### Explanation\n",
    "- `.items()` returns key-value pairs from the dictionary.\n",
    "- `key` represents the metadata field, and `value` represents its corresponding data."
   ]
  },
  {
   "cell_type": "markdown",
   "id": "19",
   "metadata": {
    "slideshow": {
     "slide_type": "slide"
    }
   },
   "source": [
    "## 🌍 Understanding Variable Scope in `for` Loops\n",
    "\n",
    "Scope defines where a variable can be accessed in your code.\n",
    "\n"
   ]
  },
  {
   "cell_type": "markdown",
   "id": "20",
   "metadata": {
    "slideshow": {
     "slide_type": "subslide"
    }
   },
   "source": [
    "### Scope of `for` Loop Variables\n",
    "- The variable used in the `for` loop (e.g., `element` or `pixel`) exists within the loop's block.\n",
    "- After the loop finishes, the variable retains the last value it held unless reassigned.\n",
    "\n",
    "#### Example:"
   ]
  },
  {
   "cell_type": "code",
   "execution_count": null,
   "id": "21",
   "metadata": {
    "slideshow": {
     "slide_type": "fragment"
    }
   },
   "outputs": [],
   "source": [
    "# Loop variable scope\n",
    "for slice_num in range(1, 4):\n",
    "    print(f\"Analyzing slice {slice_num}\")\n",
    "\n",
    "# Accessing `slice_num` after the loop\n",
    "print(f\"Final value of slice_num: {slice_num}\")  # Exists outside the loop"
   ]
  },
  {
   "cell_type": "markdown",
   "id": "22",
   "metadata": {
    "slideshow": {
     "slide_type": "subslide"
    }
   },
   "source": [
    "### Nested Loop Scope\n",
    "- Variables in inner loops do not affect those in outer loops, even if they share the same name.\n",
    "\n",
    "#### Example:"
   ]
  },
  {
   "cell_type": "code",
   "execution_count": null,
   "id": "23",
   "metadata": {
    "slideshow": {
     "slide_type": "fragment"
    }
   },
   "outputs": [],
   "source": [
    "# Nested loop variable scope\n",
    "for i in range(2):\n",
    "    for i in range(3):  # Inner loop `i` does not affect outer loop `i`\n",
    "        print(f\"Inner loop i: {i}\")\n",
    "    print(f\"Outer loop i: {i}\")"
   ]
  },
  {
   "cell_type": "markdown",
   "id": "24",
   "metadata": {
    "slideshow": {
     "slide_type": "subslide"
    }
   },
   "source": [
    "### Practical Consideration\n",
    "- Be cautious about reusing variable names across loops to avoid confusion.\n",
    "- Use meaningful names for loop variables to ensure clarity in complex analyses."
   ]
  },
  {
   "cell_type": "markdown",
   "id": "25",
   "metadata": {
    "slideshow": {
     "slide_type": "slide"
    }
   },
   "source": [
    "## 🚦 Practical Application: Batch Processing Images\n",
    "\n",
    "Process multiple images and extract key statistics like average pixel intensity."
   ]
  },
  {
   "cell_type": "code",
   "execution_count": null,
   "id": "26",
   "metadata": {
    "slideshow": {
     "slide_type": "fragment"
    }
   },
   "outputs": [],
   "source": [
    "def calculate_average(image):\n",
    "    total = sum(sum(row) for row in image)\n",
    "    count = sum(len(row) for row in image)\n",
    "    return total / count\n",
    "\n",
    "\n",
    "# Simulated batch of images\n",
    "batch = [\n",
    "    [[120, 130, 125], [110, 140, 135], [115, 125, 130]],\n",
    "    [[100, 105, 110], [115, 120, 125], [130, 135, 140]],\n",
    "    [[140, 145, 150], [135, 130, 125], [120, 115, 110]],\n",
    "]\n",
    "\n",
    "for i, image in enumerate(batch):\n",
    "    avg_intensity = calculate_average(image)\n",
    "    print(f\"Image {i + 1} - Average Intensity: {avg_intensity:.2f}\")"
   ]
  },
  {
   "cell_type": "markdown",
   "id": "27",
   "metadata": {
    "slideshow": {
     "slide_type": "slide"
    }
   },
   "source": [
    "## 🌟 Advanced Topic: List Comprehensions\n",
    "\n",
    "Simplify loops for concise code. For example:"
   ]
  },
  {
   "cell_type": "code",
   "execution_count": null,
   "id": "28",
   "metadata": {
    "slideshow": {
     "slide_type": "fragment"
    }
   },
   "outputs": [],
   "source": [
    "averages = [calculate_average(image) for image in batch]\n",
    "print(f\"Average intensities: {averages}\")"
   ]
  },
  {
   "cell_type": "markdown",
   "id": "29",
   "metadata": {
    "slideshow": {
     "slide_type": "slide"
    }
   },
   "source": [
    "## 🎉 Key Takeaways\n",
    "\n",
    "- `for` loops are essential for automating electron microscopy data analysis.\n",
    "- Python's iterators (`list`, `range`, `dictionary`) support diverse data structures.\n",
    "- Nested loops enable multi-level analysis (e.g., pixels within images).\n",
    "- Variables in `for` loops have specific scopes; reuse with care.\n",
    "- Combine loops with functions for scalable, reusable code.\n",
    "\n",
    "🚀 Use `for` loops to unlock the full potential of Python in electron microscopy research!"
   ]
  }
 ],
 "metadata": {
  "kernelspec": {
   "display_name": "engr131_dev",
   "language": "python",
   "name": "python3"
  },
  "language_info": {
   "codemirror_mode": {
    "name": "ipython",
    "version": 3
   },
   "file_extension": ".py",
   "mimetype": "text/x-python",
   "name": "python",
   "nbconvert_exporter": "python",
   "pygments_lexer": "ipython3",
   "version": "3.12.7"
  }
 },
 "nbformat": 4,
 "nbformat_minor": 5
}
