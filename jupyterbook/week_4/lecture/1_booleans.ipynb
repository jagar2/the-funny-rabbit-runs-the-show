{
 "cells": [
  {
   "cell_type": "markdown",
   "id": "0",
   "metadata": {
    "slideshow": {
     "slide_type": "slide"
    }
   },
   "source": [
    "# 📝 🤖🔌 Welcome to Boolean Logic in Engineering! \n",
    "\n",
    "![Booleans](https://www.google.com/logos/doodles/2015/george-booles-200th-birthday-5636122663190528.2-hp2x.gif)\n",
    "\n",
    "[Boolean Logic](https://doodles.google/doodle/george-booles-200th-birthday/)"
   ]
  },
  {
   "cell_type": "markdown",
   "id": "1",
   "metadata": {
    "slideshow": {
     "slide_type": "slide"
    }
   },
   "source": [
    "## 🔧 Booleans in Engineering Applications\n",
    "\n",
    "Booleans are foundational to engineering systems:\n",
    "\n",
    "- Designing control systems (e.g., thermostats, elevators)\n",
    "- Writing algorithms for robotics\n",
    "- Ensuring error-checking in software systems\n",
    "- Building decision-making logic in hardware circuits"
   ]
  },
  {
   "cell_type": "markdown",
   "id": "2",
   "metadata": {
    "slideshow": {
     "slide_type": "slide"
    }
   },
   "source": [
    "## 🧐 What Are Booleans?\n",
    "\n",
    "Booleans represent **true** or **false** states, like the binary language of computers:\n",
    "\n",
    "- `True` and `False` are Python's Boolean values.\n",
    "- Ideal for representing logical states in engineering designs."
   ]
  },
  {
   "cell_type": "markdown",
   "id": "3",
   "metadata": {
    "slideshow": {
     "slide_type": "slide"
    }
   },
   "source": [
    "## 🤔 Why Booleans Matter in Engineering?\n",
    "\n",
    "Boolean logic helps engineers:\n",
    "\n",
    "- Simulate conditions (e.g., if a motor overheats)\n",
    "- Make decisions (e.g., activate emergency protocols)\n",
    "- Optimize resource allocation (e.g., power systems switching)\n",
    "- Validate inputs and outputs in simulations"
   ]
  },
  {
   "cell_type": "markdown",
   "id": "4",
   "metadata": {
    "slideshow": {
     "slide_type": "slide"
    }
   },
   "source": [
    "## 🛠 Boolean Basics\n",
    "\n",
    "In Python, Booleans are straightforward:\n",
    "\n"
   ]
  },
  {
   "cell_type": "code",
   "execution_count": null,
   "id": "5",
   "metadata": {},
   "outputs": [],
   "source": [
    "is_operational = True\n",
    "is_overheated = False\n"
   ]
  },
  {
   "cell_type": "markdown",
   "id": "6",
   "metadata": {
    "slideshow": {
     "slide_type": "fragment"
    }
   },
   "source": [
    "\n",
    "Booleans also arise from logical comparisons:\n",
    "\n"
   ]
  },
  {
   "cell_type": "code",
   "execution_count": null,
   "id": "7",
   "metadata": {},
   "outputs": [],
   "source": [
    "temperature = 85\n",
    "is_overheated = temperature > 80\n"
   ]
  },
  {
   "cell_type": "code",
   "execution_count": null,
   "id": "8",
   "metadata": {
    "slideshow": {
     "slide_type": "fragment"
    }
   },
   "outputs": [],
   "source": [
    "temperature = 85\n",
    "is_operational = True\n",
    "is_overheated = temperature > 80\n",
    "print(\"Is operational:\", is_operational)\n",
    "print(\"Is overheated:\", is_overheated)"
   ]
  },
  {
   "cell_type": "markdown",
   "id": "9",
   "metadata": {
    "slideshow": {
     "slide_type": "slide"
    }
   },
   "source": [
    "## 🔍 Logical Operators\n",
    "\n",
    "Combine and manipulate Boolean values with logical operators:\n",
    "\n",
    "- `and`: True if **both** conditions are True.\n",
    "- `or`: True if **at least one** condition is True.\n",
    "- `not`: Reverses a Boolean value."
   ]
  },
  {
   "cell_type": "code",
   "execution_count": null,
   "id": "10",
   "metadata": {
    "slideshow": {
     "slide_type": "fragment"
    }
   },
   "outputs": [],
   "source": [
    "motor_running = True\n",
    "temperature_safe = False\n",
    "\n",
    "# Check if the motor should shut down\n",
    "should_shut_down = motor_running and not temperature_safe\n",
    "print(\"Should shut down:\", should_shut_down)"
   ]
  },
  {
   "cell_type": "markdown",
   "id": "11",
   "metadata": {
    "slideshow": {
     "slide_type": "slide"
    }
   },
   "source": [
    "## 🎯 Real-World Example: Control Systems\n",
    "\n",
    "Engineering systems often rely on Boolean logic:\n",
    "\n",
    "**Elevator Control**\n",
    "\n"
   ]
  },
  {
   "cell_type": "code",
   "execution_count": null,
   "id": "12",
   "metadata": {},
   "outputs": [],
   "source": [
    "is_door_closed = True\n",
    "is_weight_limit_exceeded = False\n",
    "can_move = is_door_closed and not is_weight_limit_exceeded\n"
   ]
  },
  {
   "cell_type": "markdown",
   "id": "13",
   "metadata": {
    "slideshow": {
     "slide_type": "fragment"
    }
   },
   "source": [
    "\n",
    "Try it out:"
   ]
  },
  {
   "cell_type": "code",
   "execution_count": null,
   "id": "14",
   "metadata": {
    "slideshow": {
     "slide_type": "fragment"
    }
   },
   "outputs": [],
   "source": [
    "is_door_closed = True\n",
    "is_weight_limit_exceeded = False\n",
    "can_move = is_door_closed and not is_weight_limit_exceeded\n",
    "print(\"Can the elevator move:\", can_move)"
   ]
  },
  {
   "cell_type": "markdown",
   "id": "15",
   "metadata": {
    "slideshow": {
     "slide_type": "slide"
    }
   },
   "source": [
    "## 🧠 Boolean Comparisons\n",
    "\n",
    "Compare values to generate Boolean results:\n",
    "\n",
    "- Equality: `==`\n",
    "- Inequality: `!=`\n",
    "- Greater/Less than: `>`, `<`, `>=`, `<=`"
   ]
  },
  {
   "cell_type": "code",
   "execution_count": null,
   "id": "16",
   "metadata": {
    "slideshow": {
     "slide_type": "fragment"
    }
   },
   "outputs": [],
   "source": [
    "sensor_value = 75\n",
    "threshold = 80\n",
    "\n",
    "# Check if the sensor value is within limits\n",
    "is_within_limits = sensor_value <= threshold\n",
    "print(\"Sensor within limits:\", is_within_limits)"
   ]
  },
  {
   "cell_type": "markdown",
   "id": "17",
   "metadata": {
    "slideshow": {
     "slide_type": "slide"
    }
   },
   "source": [
    "## 🔀 Boolean Combinations in Simulations\n",
    "\n",
    "Simulations often use multiple conditions:\n",
    "\n"
   ]
  },
  {
   "cell_type": "code",
   "execution_count": null,
   "id": "18",
   "metadata": {},
   "outputs": [],
   "source": [
    "has_power = True\n",
    "is_safety_check_passed = True\n",
    "can_operate = has_power and is_safety_check_passed\n"
   ]
  },
  {
   "cell_type": "markdown",
   "id": "19",
   "metadata": {
    "slideshow": {
     "slide_type": "fragment"
    }
   },
   "source": [
    "\n",
    "Experiment with different states:"
   ]
  },
  {
   "cell_type": "code",
   "execution_count": null,
   "id": "20",
   "metadata": {
    "slideshow": {
     "slide_type": "fragment"
    }
   },
   "outputs": [],
   "source": [
    "has_power = True\n",
    "is_safety_check_passed = False\n",
    "can_operate = has_power and is_safety_check_passed\n",
    "print(\"Can the system operate:\", can_operate)"
   ]
  },
  {
   "cell_type": "markdown",
   "id": "21",
   "metadata": {
    "slideshow": {
     "slide_type": "slide"
    }
   },
   "source": [
    "## 📊 Equality (`==`) vs Identity (`is`)\n",
    "\n",
    "Python provides two ways to compare objects:\n",
    "\n",
    "- **Equality (`==`)**: Checks if the values are equal.\n",
    "- **Identity (`is`)**: Checks if two variables point to the same object in memory.\n",
    "\n"
   ]
  },
  {
   "cell_type": "markdown",
   "id": "22",
   "metadata": {
    "slideshow": {
     "slide_type": "subslide"
    }
   },
   "source": [
    "### Example:"
   ]
  },
  {
   "cell_type": "code",
   "execution_count": null,
   "id": "23",
   "metadata": {
    "slideshow": {
     "slide_type": "fragment"
    }
   },
   "outputs": [],
   "source": [
    "a = [1, 2, 3]\n",
    "b = [1, 2, 3]\n",
    "c = a\n",
    "\n",
    "print(\"a == b:\", a == b)  # True, values are the same\n",
    "print(\"a is b:\", a is b)  # False, different objects in memory\n",
    "print(\"a is c:\", a is c)  # True, same object in memory"
   ]
  },
  {
   "cell_type": "markdown",
   "id": "24",
   "metadata": {
    "slideshow": {
     "slide_type": "fragment"
    }
   },
   "source": [
    "**Discussion:**\n",
    "- Use `==` to compare contents or values (e.g., sensor readings).\n",
    "- Use `is` to ensure two variables reference the exact same object (e.g., shared configuration data).\n",
    "\n",
    "Engineering contexts may use `is` when ensuring a single control system state is shared among components."
   ]
  },
  {
   "cell_type": "markdown",
   "id": "25",
   "metadata": {
    "slideshow": {
     "slide_type": "slide"
    }
   },
   "source": [
    "## 📊 Boolean Applications in Data Processing\n",
    "\n",
    "Booleans help filter and validate engineering data:\n",
    "\n",
    "**Example:** Validating sensor readings in a CSV dataset."
   ]
  },
  {
   "cell_type": "code",
   "execution_count": null,
   "id": "26",
   "metadata": {},
   "outputs": [],
   "source": [
    "readings = [100, 85, 90, 120, 70]\n",
    "valid_readings = [r for r in readings if r <= 100]\n",
    "print(\"Valid readings:\", valid_readings)\n"
   ]
  },
  {
   "cell_type": "code",
   "execution_count": null,
   "id": "27",
   "metadata": {
    "slideshow": {
     "slide_type": "fragment"
    }
   },
   "outputs": [],
   "source": [
    "readings = [100, 85, 90, 120, 70]\n",
    "valid_readings = [r for r in readings if r <= 100]\n",
    "print(\"Valid readings:\", valid_readings)"
   ]
  },
  {
   "cell_type": "markdown",
   "id": "28",
   "metadata": {
    "slideshow": {
     "slide_type": "slide"
    }
   },
   "source": [
    "## 🧮 Truth Tables for Decision-Making\n",
    "\n",
    "Boolean logic enables decision trees and truth tables:\n",
    "\n",
    "| Input A | Input B | A AND B | A OR B |\n",
    "|---------|---------|---------|--------|\n",
    "| False   | False   | False   | False  |\n",
    "| False   | True    | False   | True   |\n",
    "| True    | False   | False   | True   |\n",
    "| True    | True    | True    | True   |"
   ]
  },
  {
   "cell_type": "code",
   "execution_count": null,
   "id": "29",
   "metadata": {
    "slideshow": {
     "slide_type": "fragment"
    }
   },
   "outputs": [],
   "source": [
    "inputs = [(False, False), (False, True), (True, False), (True, True)]\n",
    "for a, b in inputs:\n",
    "    print(f\"A: {a}, B: {b}, A AND B: {a and b}, A OR B: {a or b}\")"
   ]
  },
  {
   "cell_type": "markdown",
   "id": "30",
   "metadata": {
    "slideshow": {
     "slide_type": "slide"
    }
   },
   "source": [
    "## 🚀 Advanced Applications\n",
    "\n",
    "- **Fault Detection**: Identify faults in industrial systems using Boolean expressions.\n",
    "- **Circuit Design**: Simulate logic gates (AND, OR, NOT).\n",
    "- **Algorithm Optimization**: Streamline decision-making in software and hardware.\n",
    "\n",
    "![](./assets/figures/circuit-logic.png)"
   ]
  },
  {
   "cell_type": "code",
   "execution_count": null,
   "id": "31",
   "metadata": {
    "slideshow": {
     "slide_type": "fragment"
    }
   },
   "outputs": [],
   "source": [
    "def fault_detection(sensor_a, sensor_b):\n",
    "    return sensor_a or sensor_b  # True if either sensor reports a fault\n",
    "\n",
    "print(\"Fault detected:\", fault_detection(False, True))"
   ]
  },
  {
   "cell_type": "markdown",
   "id": "32",
   "metadata": {
    "slideshow": {
     "slide_type": "slide"
    }
   },
   "source": [
    "## 🎉 Key Takeaways\n",
    "\n",
    "- Booleans are essential for logical decision-making in engineering.\n",
    "- Logical operators (`and`, `or`, `not`) enable complex conditions.\n",
    "- Boolean logic powers control systems, data processing, and simulations.\n",
    "\n",
    "Practice Boolean logic to build smarter systems and optimize designs!"
   ]
  }
 ],
 "metadata": {
  "kernelspec": {
   "display_name": "Python 3 (ipykernel)",
   "language": "python",
   "name": "python3"
  },
  "language_info": {
   "codemirror_mode": {
    "name": "ipython",
    "version": 3
   },
   "file_extension": ".py",
   "mimetype": "text/x-python",
   "name": "python",
   "nbconvert_exporter": "python",
   "pygments_lexer": "ipython3",
   "version": "3.12.7"
  }
 },
 "nbformat": 4,
 "nbformat_minor": 5
}
