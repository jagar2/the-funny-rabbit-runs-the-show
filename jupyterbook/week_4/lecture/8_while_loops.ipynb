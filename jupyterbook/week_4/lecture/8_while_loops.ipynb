{
 "cells": [
  {
   "cell_type": "markdown",
   "id": "0",
   "metadata": {
    "slideshow": {
     "slide_type": "slide"
    }
   },
   "source": [
    "# 📝 🏗️ Civil Engineering and `while` Loops: Understanding Bridge Resonance\n",
    "\n",
    "![Bridge Resonance](./assets/figures/tacoma-bridge-colapase.gif)\n",
    "\n"
   ]
  },
  {
   "cell_type": "markdown",
   "id": "1",
   "metadata": {
    "slideshow": {
     "slide_type": "slide"
    }
   },
   "source": [
    "## 🎯 Context: Monitoring Bridge Resonance\n",
    "\n",
    "#\n",
    "\n",
    "In civil engineering, resonance in bridges can occur when external forces (like wind or traffic) match the natural frequency of the structure. This can lead to:\n",
    "\n",
    "- **Structural Damage**: Excessive vibrations may weaken materials.\n",
    "\n",
    "- **Safety Hazards**: Severe oscillations could lead to collapse.\n",
    "\n",
    "#\n",
    "\n",
    "Python’s `while` loops can simulate resonance monitoring systems to detect and manage these oscillations in real-time."
   ]
  },
  {
   "cell_type": "markdown",
   "id": "2",
   "metadata": {
    "slideshow": {
     "slide_type": "slide"
    }
   },
   "source": [
    "## 🧐 What Are `while` Loops?\n",
    "\n",
    "A `while` loop repeats a block of code as long as a condition is true.\n",
    "\n"
   ]
  },
  {
   "cell_type": "markdown",
   "id": "3",
   "metadata": {
    "slideshow": {
     "slide_type": "subslide"
    }
   },
   "source": [
    "```{admonition}syntax\n",
    "\n",
    "```python\n",
    "\n",
    "while condition:\n",
    "    # Code block to execute repeatedly\n",
    "\n",
    "```\n",
    "\n",
    "- The `condition` is a Boolean expression that evaluates to `True` or `False`.\n",
    "- The code block is executed repeatedly as long as the condition is `True`.\n",
    "\n",
    "```\n"
   ]
  },
  {
   "cell_type": "markdown",
   "id": "4",
   "metadata": {
    "slideshow": {
     "slide_type": "fragment"
    }
   },
   "source": [
    "#### Key Components:\n",
    "1. **`while` keyword**: Initiates the loop.\n",
    "2. **`condition`**: A logical expression (e.g., `x > 0`) that is checked before each iteration.\n",
    "    - If `True`, the loop executes.\n",
    "    - If `False`, the loop terminates.\n",
    "3. **Code block**: The indented block of statements to execute when the condition is true.\n",
    "4. **Condition update**: Ensure the condition eventually becomes `False` by updating variables inside the loop."
   ]
  },
  {
   "cell_type": "markdown",
   "id": "5",
   "metadata": {
    "slideshow": {
     "slide_type": "subslide"
    }
   },
   "source": [
    "### Example:\n",
    "\n"
   ]
  },
  {
   "cell_type": "code",
   "execution_count": null,
   "id": "6",
   "metadata": {},
   "outputs": [],
   "source": [
    "counter = 5\n",
    "\n",
    "while counter > 0:\n",
    "    print(counter)\n",
    "    counter -= 1  # Decrease counter"
   ]
  },
  {
   "cell_type": "markdown",
   "id": "7",
   "metadata": {
    "slideshow": {
     "slide_type": "fragment"
    }
   },
   "source": [
    "\n",
    "- The loop runs while `counter > 0`.\n",
    "\n",
    "- The `counter` is decreased by 1 in each iteration to eventually make the condition `False`."
   ]
  },
  {
   "cell_type": "markdown",
   "id": "8",
   "metadata": {
    "slideshow": {
     "slide_type": "slide"
    }
   },
   "source": [
    "## 🔄 Example: Simulating Bridge Oscillations\n",
    "\n",
    "#\n",
    "\n",
    "Let’s simulate a system monitoring bridge oscillations. The loop will run until the oscillation amplitude falls below a safe threshold."
   ]
  },
  {
   "cell_type": "code",
   "execution_count": null,
   "id": "9",
   "metadata": {
    "slideshow": {
     "slide_type": "fragment"
    }
   },
   "outputs": [],
   "source": [
    "# Initial parameters\n",
    "\n",
    "amplitude = 10.0  # Initial oscillation amplitude (in cm)\n",
    "damping = 0.85  # Damping factor reducing amplitude per iteration\n",
    "threshold = 1.0  # Safe amplitude threshold\n",
    "\n",
    "# Monitoring oscillations\n",
    "\n",
    "while amplitude > threshold:\n",
    "    print(f\"Current amplitude: {amplitude:.2f} cm\")\n",
    "    amplitude *= damping  # Reduce amplitude\n",
    "\n",
    "print(\"Oscillations are now within safe limits.\")"
   ]
  },
  {
   "cell_type": "markdown",
   "id": "10",
   "metadata": {
    "slideshow": {
     "slide_type": "subslide"
    }
   },
   "source": [
    "### Explanation\n",
    "- **`while amplitude > threshold`**:\n",
    "- The loop runs as long as the amplitude is greater than the threshold.\n",
    "- **`amplitude *= damping`**:\n",
    "- The damping factor reduces the amplitude in each iteration.\n",
    "- The loop exits once the amplitude falls below the threshold."
   ]
  },
  {
   "cell_type": "markdown",
   "id": "11",
   "metadata": {
    "slideshow": {
     "slide_type": "slide"
    }
   },
   "source": [
    "## 🚨 Infinite Loops: A Common Pitfall\n",
    "\n",
    "An infinite loop occurs if the condition in a `while` loop never becomes false. For example:"
   ]
  },
  {
   "cell_type": "markdown",
   "id": "12",
   "metadata": {
    "slideshow": {
     "slide_type": "fragment"
    }
   },
   "source": [
    "**Infinite Loop Example:**\n",
    "\n"
   ]
  },
  {
   "cell_type": "code",
   "execution_count": null,
   "id": "13",
   "metadata": {
    "tags": [
     "skip-execution"
    ]
   },
   "outputs": [],
   "source": [
    "amplitude = 10.0\n",
    "\n",
    "while amplitude > 0:\n",
    "    print(amplitude)  # Missing update to `amplitude`\n",
    "    amplitude *= damping  # Reduce amplitude"
   ]
  },
  {
   "cell_type": "markdown",
   "id": "14",
   "metadata": {
    "slideshow": {
     "slide_type": "fragment"
    }
   },
   "source": [
    "\n",
    "- **Problem:** The condition `amplitude > 0` is always true because there is no update to `amplitude`.\n",
    "\n",
    "- **Result:** The loop runs indefinitely, freezing or crashing the program.\n",
    "\n",
    "#\n",
    "\n",
    "**Solution:** Ensure the loop condition eventually becomes false by updating variables within the loop."
   ]
  },
  {
   "cell_type": "markdown",
   "id": "15",
   "metadata": {
    "slideshow": {
     "slide_type": "slide"
    }
   },
   "source": [
    "## 🛠 Example: Adding External Forces\n",
    "\n",
    "#\n",
    "\n",
    "Simulate a system where external forces (like wind gusts) periodically increase the amplitude. The loop must handle these external disturbances."
   ]
  },
  {
   "cell_type": "code",
   "execution_count": null,
   "id": "16",
   "metadata": {
    "slideshow": {
     "slide_type": "fragment"
    }
   },
   "outputs": [],
   "source": [
    "import random\n",
    "\n",
    "# Initial parameters\n",
    "amplitude = 10.0\n",
    "damping = 0.85\n",
    "threshold = 1.0\n",
    "iterations = 0  # Count iterations\n",
    "\n",
    "while amplitude > threshold:\n",
    "    print(f\"Iteration {iterations + 1}: Current amplitude: {amplitude:.2f} cm\")\n",
    "\n",
    "    # Simulate external force\n",
    "    if random.random() < 0.2:  # 20% chance of wind gust\n",
    "        external_force = random.uniform(1.0, 3.0)  # Random force\n",
    "        amplitude += external_force\n",
    "        print(f\"  Wind gust increased amplitude by {external_force:.2f} cm!\")\n",
    "\n",
    "    # Reduce amplitude due to damping\n",
    "    amplitude *= damping\n",
    "    iterations += 1\n",
    "\n",
    "print(f\"Oscillations stabilized after {iterations} iterations.\")"
   ]
  },
  {
   "cell_type": "markdown",
   "id": "17",
   "metadata": {
    "slideshow": {
     "slide_type": "subslide"
    }
   },
   "source": [
    "### Explanation\n",
    "\n",
    "- **External forces:**\n",
    "- A random chance of wind gusts increases the amplitude.\n",
    "- The loop adapts to these real-world disturbances.\n",
    "\n",
    "- **Damping factor:**\n",
    "- Reduces amplitude iteratively to simulate natural decay."
   ]
  },
  {
   "cell_type": "markdown",
   "id": "18",
   "metadata": {
    "slideshow": {
     "slide_type": "slide"
    }
   },
   "source": [
    "## 🔍 Using `break` to Avoid Infinite Loops\n",
    "\n",
    "To prevent infinite loops, a `break` statement can be used to exit the loop if it exceeds a maximum number of iterations."
   ]
  },
  {
   "cell_type": "code",
   "execution_count": null,
   "id": "19",
   "metadata": {
    "slideshow": {
     "slide_type": "fragment"
    }
   },
   "outputs": [],
   "source": [
    "# Modified loop with safety mechanism\n",
    "\n",
    "amplitude = 10.0\n",
    "max_iterations = 50  # Maximum allowed iterations\n",
    "iterations = 0\n",
    "\n",
    "while amplitude > threshold:\n",
    "    if iterations >= max_iterations:\n",
    "        print(\"Safety limit reached. Exiting loop.\")\n",
    "        break\n",
    "\n",
    "    print(f\"Iteration {iterations + 1}: Current amplitude: {amplitude:.2f} cm\")\n",
    "    amplitude *= damping\n",
    "    iterations += 1\n",
    "\n",
    "else:\n",
    "    print(\"Oscillations stabilized within safety limits.\")"
   ]
  },
  {
   "cell_type": "markdown",
   "id": "20",
   "metadata": {
    "slideshow": {
     "slide_type": "subslide"
    }
   },
   "source": [
    "### Explanation\n",
    "\n",
    "- **`if iterations >= max_iterations`**:\n",
    "\n",
    "- Monitors the loop to prevent infinite execution.\n",
    "\n",
    "- **`break` statement:** Exits the loop if the safety limit is reached.\n",
    "\n",
    "- **`else block`**:\n",
    "\n",
    "- Confirms successful stabilization if the loop completes without exceeding the safety limit."
   ]
  },
  {
   "cell_type": "markdown",
   "id": "21",
   "metadata": {
    "slideshow": {
     "slide_type": "slide"
    }
   },
   "source": [
    "## 🎉 Key Takeaways\n",
    "\n",
    "- `while` loops are powerful for real-time simulations, like monitoring bridge resonance.\n",
    "\n",
    "```{admonition}syntax\n",
    "\n",
    "```python\n",
    "\n",
    "while condition:\n",
    "    # Code block to execute repeatedly\n",
    "\n",
    "```\n",
    "\n",
    "- The `condition` is a Boolean expression that evaluates to `True` or `False`.\n",
    "- The code block is executed repeatedly as long as the condition is `True`.\n",
    "\n",
    "```\n"
   ]
  },
  {
   "cell_type": "markdown",
   "id": "22",
   "metadata": {},
   "source": [
    "```{tip}\n",
    "\n",
    "If you have a way to determine the number of iterations ahead of time, it makes sense to use a `for` loop instead of a `while` loop. \n",
    "\n",
    "If your number of iterations depends on something computed inside the loop (like the amplitude in the bridge example), then a `while` loop is the way to go.\n",
    "\n",
    "```"
   ]
  },
  {
   "cell_type": "markdown",
   "id": "23",
   "metadata": {
    "slideshow": {
     "slide_type": "fragment"
    }
   },
   "source": [
    "- The `condition` is evaluated before each iteration.\n",
    "- Ensure variables inside the loop update to prevent infinite loops.\n",
    "- Use **external forces** and **damping factors** to simulate real-world disturbances.\n",
    "- Implement safety mechanisms (like `break`) to avoid infinite loops in complex systems.\n",
    "\n",
    "🚀 Apply `while` loops to build robust systems for engineering simulations!"
   ]
  }
 ],
 "metadata": {
  "kernelspec": {
   "display_name": "engr131_dev",
   "language": "python",
   "name": "python3"
  },
  "language_info": {
   "codemirror_mode": {
    "name": "ipython",
    "version": 3
   },
   "file_extension": ".py",
   "mimetype": "text/x-python",
   "name": "python",
   "nbconvert_exporter": "python",
   "pygments_lexer": "ipython3",
   "version": "3.12.7"
  }
 },
 "nbformat": 4,
 "nbformat_minor": 5
}
