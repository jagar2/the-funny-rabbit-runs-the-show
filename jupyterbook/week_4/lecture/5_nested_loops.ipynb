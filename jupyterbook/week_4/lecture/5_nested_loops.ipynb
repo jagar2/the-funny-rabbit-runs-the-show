{
 "cells": [
  {
   "cell_type": "markdown",
   "id": "0",
   "metadata": {
    "slideshow": {
     "slide_type": "slide"
    }
   },
   "source": [
    "# 🤖🔧 Programming an Assembly Line: Nested Loops in Action\n",
    "\n",
    "![Nested Loops](./assets/figures/my-brain-just-exploded-v0-03OLun-0f3xM9JHcU1-iMm1ndxTOb_v2RsnXf5a3AIM.webp)"
   ]
  },
  {
   "cell_type": "markdown",
   "id": "1",
   "metadata": {
    "slideshow": {
     "slide_type": "slide"
    }
   },
   "source": [
    "## 🔧 Context: Automating an Assembly Line\n",
    "\n",
    "Imagine you're programming the **AutoAssembly 5000**, a robot responsible for assembling parts into finished products. This robot needs to:\n",
    "- Process multiple product types.\n",
    "- Add specific components to each product.\n",
    "- Perform quality checks on each assembly step.\n",
    "\n",
    "Nested loops help automate these tasks by iterating over multiple levels of data."
   ]
  },
  {
   "cell_type": "markdown",
   "id": "2",
   "metadata": {
    "slideshow": {
     "slide_type": "slide"
    }
   },
   "source": [
    "## 🧐 What Are Nested Loops?\n",
    "\n",
    "Nested loops are loops inside other loops. They allow you to process multi-dimensional data or perform repetitive tasks at multiple levels.\n",
    "\n"
   ]
  },
  {
   "cell_type": "markdown",
   "id": "3",
   "metadata": {
    "slideshow": {
     "slide_type": "subslide"
    }
   },
   "source": [
    "### Syntax Breakdown\n"
   ]
  },
  {
   "cell_type": "code",
   "execution_count": null,
   "id": "4",
   "metadata": {},
   "outputs": [],
   "source": [
    "for outer_element in outer_sequence:\n",
    "    for inner_element in inner_sequence:\n",
    "        # Code block for each combination of outer and inner elements"
   ]
  },
  {
   "cell_type": "markdown",
   "id": "5",
   "metadata": {
    "slideshow": {
     "slide_type": "fragment"
    }
   },
   "source": [
    "- **Outer loop**: Iterates over the main sequence (e.g., product types).\n",
    "- **Inner loop**: Iterates within each outer element (e.g., components for a product)."
   ]
  },
  {
   "cell_type": "markdown",
   "id": "6",
   "metadata": {
    "slideshow": {
     "slide_type": "slide"
    }
   },
   "source": [
    "## 🛠 Basic Example: Adding Components to Products\n",
    "\n",
    "Let’s start by adding components to multiple product types."
   ]
  },
  {
   "cell_type": "code",
   "execution_count": null,
   "id": "7",
   "metadata": {
    "slideshow": {
     "slide_type": "fragment"
    }
   },
   "outputs": [],
   "source": [
    "products = [\"Smartphone\", \"Laptop\", \"Tablet\"]\n",
    "components = [\"Screen\", \"Battery\", \"Processor\"]\n",
    "\n",
    "for product in products:\n",
    "    print(f\"Assembling {product}:\")\n",
    "    for component in components:\n",
    "        print(f\" - Adding {component}\")"
   ]
  },
  {
   "cell_type": "markdown",
   "id": "8",
   "metadata": {
    "slideshow": {
     "slide_type": "subslide"
    }
   },
   "source": [
    "### Explanation of the Code\n",
    "- The **outer loop** iterates over the list of `products`.\n",
    "- The **inner loop** iterates over the list of `components`.\n",
    "- Each combination of product and component is processed."
   ]
  },
  {
   "cell_type": "markdown",
   "id": "9",
   "metadata": {
    "slideshow": {
     "slide_type": "slide"
    }
   },
   "source": [
    "## 🔄 Adding Components to Multiple Units\n",
    "\n",
    "Now, let’s make it more granular by adding components to each unit of a product."
   ]
  },
  {
   "cell_type": "code",
   "execution_count": null,
   "id": "10",
   "metadata": {
    "slideshow": {
     "slide_type": "fragment"
    }
   },
   "outputs": [],
   "source": [
    "products = [\"Smartphone\", \"Laptop\"]\n",
    "components = [\"Screen\", \"Battery\", \"Processor\"]\n",
    "units = range(1, 4)  # Each product has 3 units to assemble\n",
    "\n",
    "for product in products:\n",
    "    print(f\"Assembling {product}:\")\n",
    "    for unit in units:\n",
    "        for component in components:\n",
    "            print(f\" - Adding {component} to Unit {unit}\")"
   ]
  },
  {
   "cell_type": "markdown",
   "id": "11",
   "metadata": {
    "slideshow": {
     "slide_type": "subslide"
    }
   },
   "source": [
    "### Key Points\n",
    "- The **innermost loop** applies each component to each unit of a product.\n",
    "- Three nested loops are used:\n",
    "  1. Outer loop: Iterates over products.\n",
    "  2. Middle loop: Iterates over units.\n",
    "  3. Inner loop: Iterates over components."
   ]
  },
  {
   "cell_type": "markdown",
   "id": "12",
   "metadata": {
    "slideshow": {
     "slide_type": "slide"
    }
   },
   "source": [
    "## 🌍 Tracking the Assembly Process with Dictionaries\n",
    "\n",
    "To ensure no unit is missed, track the process in a dictionary."
   ]
  },
  {
   "cell_type": "code",
   "execution_count": null,
   "id": "13",
   "metadata": {
    "slideshow": {
     "slide_type": "fragment"
    }
   },
   "outputs": [],
   "source": [
    "products = [\"Smartphone\", \"Laptop\"]\n",
    "components = [\"Screen\", \"Battery\"]\n",
    "units = range(1, 4)  # Each product has 3 units\n",
    "\n",
    "progress = {}\n",
    "\n",
    "for product in products:\n",
    "    progress[product] = {}\n",
    "    for unit in units:\n",
    "        progress[product][unit] = []\n",
    "        for component in components:\n",
    "            progress[product][unit].append(component)\n",
    "\n",
    "# Display progress\n",
    "for product, units_data in progress.items():\n",
    "    print(f\"{product} progress:\")\n",
    "    for unit, applied_components in units_data.items():\n",
    "        print(f\"  Unit {unit}: {', '.join(applied_components)}\")"
   ]
  },
  {
   "cell_type": "markdown",
   "id": "14",
   "metadata": {
    "slideshow": {
     "slide_type": "slide"
    }
   },
   "source": [
    "## 🤔 Nested Loops vs. List Comprehensions\n",
    "\n",
    "Nested loops can sometimes be replaced by list comprehensions for compactness.\n",
    "\n"
   ]
  },
  {
   "cell_type": "markdown",
   "id": "15",
   "metadata": {
    "slideshow": {
     "slide_type": "subslide"
    }
   },
   "source": [
    "### Example:\n"
   ]
  },
  {
   "cell_type": "code",
   "execution_count": null,
   "id": "16",
   "metadata": {},
   "outputs": [],
   "source": [
    "components_per_unit = [[component for component in components] for unit in units]"
   ]
  },
  {
   "cell_type": "markdown",
   "id": "17",
   "metadata": {
    "slideshow": {
     "slide_type": "slide"
    }
   },
   "source": [
    "## 🛠 Practical Application: Custom Assembly Requests\n",
    "\n",
    "Some products might require specific components for certain units. Use conditional statements inside nested loops to handle these requests."
   ]
  },
  {
   "cell_type": "code",
   "execution_count": null,
   "id": "18",
   "metadata": {
    "slideshow": {
     "slide_type": "fragment"
    }
   },
   "outputs": [],
   "source": [
    "products = [\"Smartphone\", \"Laptop\"]\n",
    "custom_requests = {\n",
    "    \"Smartphone\": {1: [\"Screen\", \"Camera\"], 2: [\"Screen\", \"Battery\"]},\n",
    "    \"Laptop\": {1: [\"Keyboard\"], 3: [\"Processor\", \"RAM\"]},\n",
    "}\n",
    "\n",
    "default_components = [\"Battery\"]\n",
    "units = range(1, 4)\n",
    "\n",
    "for product in products:\n",
    "    print(f\"Assembling {product}:\")\n",
    "    for unit in units:\n",
    "        components = custom_requests.get(product, {}).get(unit, default_components)\n",
    "        print(f\" - Unit {unit}: {', '.join(components)}\")"
   ]
  },
  {
   "cell_type": "markdown",
   "id": "19",
   "metadata": {
    "slideshow": {
     "slide_type": "slide"
    }
   },
   "source": [
    "## 🎉 Key Takeaways\n",
    "\n",
    "- Nested loops are essential for handling multi-level tasks, like products, units, and components.\n",
    "- Use dictionaries to track and organize progress.\n",
    "- Combine nested loops with conditional logic for custom processing.\n",
    "- List comprehensions can simplify nested loop logic when compactness is preferred.\n",
    "\n",
    "🚀 With nested loops, you can automate complex assembly tasks for the AutoAssembly 5000!"
   ]
  }
 ],
 "metadata": {
  "kernelspec": {
   "display_name": "engr131_dev",
   "language": "python",
   "name": "python3"
  },
  "language_info": {
   "codemirror_mode": {
    "name": "ipython",
    "version": 3
   },
   "file_extension": ".py",
   "mimetype": "text/x-python",
   "name": "python",
   "nbconvert_exporter": "python",
   "pygments_lexer": "ipython3",
   "version": "3.12.7"
  }
 },
 "nbformat": 4,
 "nbformat_minor": 5
}
