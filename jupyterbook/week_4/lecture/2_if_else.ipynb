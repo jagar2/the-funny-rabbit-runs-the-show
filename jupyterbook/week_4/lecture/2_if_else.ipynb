{
 "cells": [
  {
   "cell_type": "markdown",
   "id": "0",
   "metadata": {
    "slideshow": {
     "slide_type": "slide"
    }
   },
   "source": [
    "# 🔧🌐 Decision-Making with `if-else` Statements in Python\n",
    "\n",
    "![If-Else](./assets/figures/AC-cool.webp)"
   ]
  },
  {
   "cell_type": "markdown",
   "id": "1",
   "metadata": {
    "slideshow": {
     "slide_type": "slide"
    }
   },
   "source": [
    "## ⚙️ Theme: Monitoring an Industrial HVAC System\n",
    "\n",
    "In this lecture, we'll explore how `if-else` statements in Python can be used to manage decision-making for a **Heating, Ventilation, and Air Conditioning (HVAC)** system in an industrial setting.\n",
    "\n",
    "HVAC systems need to:\n",
    "- Maintain safe temperature ranges.\n",
    "- Control humidity levels.\n",
    "- Alert operators about malfunctions.\n",
    "- Optimize energy consumption."
   ]
  },
  {
   "cell_type": "markdown",
   "id": "2",
   "metadata": {
    "slideshow": {
     "slide_type": "slide"
    }
   },
   "source": [
    "## 🧐 What Are `if-else` Statements?\n",
    "\n",
    "`if-else` statements allow Python programs to make decisions based on conditions.\n",
    "\n"
   ]
  },
  {
   "cell_type": "markdown",
   "id": "3",
   "metadata": {
    "slideshow": {
     "slide_type": "subslide"
    }
   },
   "source": [
    "### Syntax Breakdown\n"
   ]
  },
  {
   "cell_type": "code",
   "execution_count": null,
   "id": "4",
   "metadata": {},
   "outputs": [],
   "source": [
    "if condition:\n",
    "    # Code block executed if condition is True\n",
    "elif another_condition:  # Optional\n",
    "    # Code block executed if the `elif` condition is True\n",
    "else:  # Optional\n",
    "    # Code block executed if no conditions are True\n"
   ]
  },
  {
   "cell_type": "markdown",
   "id": "5",
   "metadata": {
    "slideshow": {
     "slide_type": "fragment"
    }
   },
   "source": [
    "- **`if`**: Evaluates the first condition.\n",
    "- **`elif`**: Evaluates additional conditions if the previous ones are False.\n",
    "- **`else`**: Executes when none of the above conditions are True.\n",
    "- **Indentation**: Python uses indentation to define blocks of code. Consistent spacing is crucial."
   ]
  },
  {
   "cell_type": "markdown",
   "id": "6",
   "metadata": {
    "slideshow": {
     "slide_type": "slide"
    }
   },
   "source": [
    "## 🤔 Why `if-else` in HVAC Systems?\n",
    "\n",
    "HVAC systems rely on decision-making to:\n",
    "- Adjust temperature settings based on sensor data.\n",
    "- Trigger alarms for dangerous conditions.\n",
    "- Automatically switch between heating and cooling modes.\n",
    "\n",
    "Python's `if-else` provides a simple yet powerful way to implement this logic."
   ]
  },
  {
   "cell_type": "markdown",
   "id": "7",
   "metadata": {
    "slideshow": {
     "slide_type": "slide"
    }
   },
   "source": [
    "## 🛠 Basic Example\n",
    "\n",
    "Let's start with a simple example:\n",
    "**Monitor if the room temperature is within a safe range.**"
   ]
  },
  {
   "cell_type": "code",
   "execution_count": null,
   "id": "8",
   "metadata": {
    "slideshow": {
     "slide_type": "fragment"
    }
   },
   "outputs": [],
   "source": [
    "# Temperature limits\n",
    "min_temp = 18  # Minimum safe temperature in Celsius\n",
    "max_temp = 24  # Maximum safe temperature in Celsius\n",
    "\n",
    "# Current room temperature\n",
    "current_temp = 22\n",
    "\n",
    "# Check temperature range\n",
    "if current_temp < min_temp:\n",
    "    print(\"Warning: Temperature is too low!\")\n",
    "elif current_temp > max_temp:\n",
    "    print(\"Warning: Temperature is too high!\")\n",
    "else:\n",
    "    print(\"Temperature is within the safe range.\")"
   ]
  },
  {
   "cell_type": "markdown",
   "id": "9",
   "metadata": {
    "slideshow": {
     "slide_type": "subslide"
    }
   },
   "source": [
    "### Explanation of the Code\n",
    "- The condition `current_temp < min_temp` checks if the temperature is below the safe range.\n",
    "- The `elif` condition `current_temp > max_temp` checks if the temperature exceeds the safe range.\n",
    "- The `else` block handles the case where the temperature is within the safe range.\n",
    "\n",
    "**Note:** Only one block is executed per `if-else` structure."
   ]
  },
  {
   "cell_type": "markdown",
   "id": "10",
   "metadata": {
    "slideshow": {
     "slide_type": "slide"
    }
   },
   "source": [
    "## 🔄 `if-elif-else` for Multiple Conditions\n",
    "\n",
    "In HVAC systems, different conditions might require distinct actions. Let's expand the logic:\n",
    "\n",
    "- If the temperature is too low, turn on the heater.\n",
    "- If the temperature is too high, turn on the cooler.\n",
    "- Otherwise, maintain the current settings."
   ]
  },
  {
   "cell_type": "code",
   "execution_count": null,
   "id": "11",
   "metadata": {
    "slideshow": {
     "slide_type": "fragment"
    }
   },
   "outputs": [],
   "source": [
    "# Adjust HVAC settings based on temperature\n",
    "if current_temp < min_temp:\n",
    "    action = \"Turn on the heater.\"\n",
    "elif current_temp > max_temp:\n",
    "    action = \"Turn on the cooler.\"\n",
    "else:\n",
    "    action = \"Maintain current settings.\"\n",
    "\n",
    "print(\"HVAC Action:\", action)"
   ]
  },
  {
   "cell_type": "markdown",
   "id": "12",
   "metadata": {
    "slideshow": {
     "slide_type": "subslide"
    }
   },
   "source": [
    "### Key Points\n",
    "- Multiple conditions are handled using `elif`.\n",
    "- Only the first `True` condition's block is executed.\n",
    "- An `else` block is optional but recommended for default behavior."
   ]
  },
  {
   "cell_type": "markdown",
   "id": "13",
   "metadata": {
    "slideshow": {
     "slide_type": "slide"
    }
   },
   "source": [
    "## 📉 Using Nested `if` Statements\n",
    "\n",
    "Nested `if` statements allow for more complex logic. For example:\n",
    "**Check both temperature and humidity.**"
   ]
  },
  {
   "cell_type": "code",
   "execution_count": null,
   "id": "14",
   "metadata": {
    "slideshow": {
     "slide_type": "fragment"
    }
   },
   "outputs": [],
   "source": [
    "# Humidity limits\n",
    "min_humidity = 30  # Minimum safe humidity in %\n",
    "max_humidity = 60  # Maximum safe humidity in %\n",
    "\n",
    "# Current humidity\n",
    "current_humidity = 65\n",
    "\n",
    "# Check temperature and humidity\n",
    "if current_temp < min_temp or current_temp > max_temp:\n",
    "    if current_humidity < min_humidity or current_humidity > max_humidity:\n",
    "        print(\"Alert: Both temperature and humidity are out of range!\")\n",
    "    else:\n",
    "        print(\"Alert: Temperature is out of range!\")\n",
    "else:\n",
    "    if current_humidity < min_humidity or current_humidity > max_humidity:\n",
    "        print(\"Alert: Humidity is out of range!\")\n",
    "    else:\n",
    "        print(\"Both temperature and humidity are within safe ranges.\")"
   ]
  },
  {
   "cell_type": "markdown",
   "id": "15",
   "metadata": {
    "slideshow": {
     "slide_type": "subslide"
    }
   },
   "source": [
    "### Nested `if` Structure\n",
    "- The second `if` inside the first handles humidity only when temperature is out of range.\n",
    "- Use nested logic sparingly to avoid overly complex code."
   ]
  },
  {
   "cell_type": "markdown",
   "id": "16",
   "metadata": {
    "slideshow": {
     "slide_type": "slide"
    }
   },
   "source": [
    "## 🚦 Practical Applications\n",
    "\n",
    "**Example:** Automatically generate alerts for HVAC operators based on sensor data."
   ]
  },
  {
   "cell_type": "code",
   "execution_count": null,
   "id": "17",
   "metadata": {
    "slideshow": {
     "slide_type": "fragment"
    }
   },
   "outputs": [],
   "source": [
    "# Define function for HVAC monitoring\n",
    "def hvac_monitor(temp, humidity):\n",
    "    if temp < min_temp or temp > max_temp:\n",
    "        if humidity < min_humidity or humidity > max_humidity:\n",
    "            return \"Critical Alert: Adjust temperature and humidity!\"\n",
    "        return \"Alert: Adjust temperature!\"\n",
    "    elif humidity < min_humidity or humidity > max_humidity:\n",
    "        return \"Alert: Adjust humidity!\"\n",
    "    return \"All systems nominal.\"\n",
    "\n",
    "# Test function\n",
    "print(hvac_monitor(25, 70))  # Example of high temperature and humidity\n",
    "print(hvac_monitor(20, 40))  # Example of nominal conditions"
   ]
  },
  {
   "cell_type": "markdown",
   "id": "18",
   "metadata": {
    "slideshow": {
     "slide_type": "slide"
    }
   },
   "source": [
    "## 🔍 Advanced Techniques: Ternary Operator\n",
    "\n",
    "Simplify simple `if-else` statements with a one-liner:\n",
    "\n"
   ]
  },
  {
   "cell_type": "code",
   "execution_count": null,
   "id": "19",
   "metadata": {},
   "outputs": [],
   "source": [
    "action = \"Heater ON\" if current_temp < min_temp else \"Heater OFF\"\n"
   ]
  },
  {
   "cell_type": "markdown",
   "id": "20",
   "metadata": {
    "slideshow": {
     "slide_type": "fragment"
    }
   },
   "source": [
    "**Example:** Check if energy-saving mode is required."
   ]
  },
  {
   "cell_type": "code",
   "execution_count": null,
   "id": "21",
   "metadata": {
    "slideshow": {
     "slide_type": "fragment"
    }
   },
   "outputs": [],
   "source": [
    "# Energy-saving mode\n",
    "energy_saving = True if current_temp >= 20 and current_temp <= 22 else False\n",
    "print(\"Energy-saving mode enabled:\", energy_saving)"
   ]
  },
  {
   "cell_type": "markdown",
   "id": "22",
   "metadata": {
    "slideshow": {
     "slide_type": "slide"
    }
   },
   "source": [
    "## 🌐 Scaling Up: Integrating with IoT\n",
    "\n",
    "Combine Python's decision-making with IoT for real-time monitoring:\n",
    "\n",
    "- Receive live sensor data via APIs.\n",
    "- Process data using `if-else` logic.\n",
    "- Send alerts or control signals to actuators."
   ]
  },
  {
   "cell_type": "markdown",
   "id": "23",
   "metadata": {
    "slideshow": {
     "slide_type": "slide"
    }
   },
   "source": [
    "## 🎉 Key Takeaways\n",
    "\n",
    "- `if-else` enables decision-making in Python, critical for engineering systems.\n",
    "- Use `if-elif-else` for handling multiple conditions.\n",
    "- Nested `if` allows for detailed checks, such as temperature and humidity monitoring.\n",
    "- Simplify logic when possible with ternary operators.\n",
    "- Integrate with IoT systems for dynamic, real-world applications.\n",
    "\n",
    "🚀 Build smarter HVAC systems with Python decision-making!"
   ]
  }
 ],
 "metadata": {
  "kernelspec": {
   "display_name": "engr131_dev",
   "language": "python",
   "name": "python3"
  },
  "language_info": {
   "codemirror_mode": {
    "name": "ipython",
    "version": 3
   },
   "file_extension": ".py",
   "mimetype": "text/x-python",
   "name": "python",
   "nbconvert_exporter": "python",
   "pygments_lexer": "ipython3",
   "version": "3.12.7"
  }
 },
 "nbformat": 4,
 "nbformat_minor": 5
}
