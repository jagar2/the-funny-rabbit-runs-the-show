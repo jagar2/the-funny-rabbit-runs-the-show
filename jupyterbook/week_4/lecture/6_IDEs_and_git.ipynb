{
 "cells": [
  {
   "cell_type": "markdown",
   "id": "0",
   "metadata": {
    "slideshow": {
     "slide_type": "slide"
    }
   },
   "source": [
    "# Quick Guide to Interactive Development Environments (IDEs) and Git\n"
   ]
  },
  {
   "cell_type": "markdown",
   "id": "1",
   "metadata": {
    "slideshow": {
     "slide_type": "slide"
    }
   },
   "source": [
    "## IDEs: Your Coding Command Center 🚀🖥️"
   ]
  },
  {
   "cell_type": "markdown",
   "id": "2",
   "metadata": {
    "slideshow": {
     "slide_type": "subslide"
    }
   },
   "source": [
    "### What is an IDE?\n",
    "\n",
    "Think of an IDE (Integrated Development Environment) as your ultimate engineering workshop. It’s where you design, build, and test your code—all in one place!\n"
   ]
  },
  {
   "cell_type": "markdown",
   "id": "3",
   "metadata": {
    "slideshow": {
     "slide_type": "subslide"
    }
   },
   "source": [
    "### Why IDEs Rock:\n",
    "\n",
    "- All-in-One Toolkit: Combines a code editor, compiler, debugger, and more.\n",
    "- Boosts Productivity: Features like auto-complete and syntax highlighting speed up coding.\n",
    "- Error Finder: Spot mistakes in real-time, saving you from late-night debugging sessions. 🕵️‍♂️🔧\n"
   ]
  },
  {
   "cell_type": "markdown",
   "id": "4",
   "metadata": {
    "slideshow": {
     "slide_type": "subslide"
    }
   },
   "source": [
    "### Popular IDEs:\n",
    "\n",
    "- Visual Studio Code (VSCode): Lightweight and super customizable. 🛠️✨\n",
    "- IntelliJ IDEA: Perfect for Java projects with powerful features. ☕🖥️\n",
    "- PyCharm: Tailored for Python enthusiasts. 🐍💡\n",
    "\n",
    "![IDEs Overview](./assets/figures/Python-IDE.png)\\\n"
   ]
  },
  {
   "cell_type": "markdown",
   "id": "5",
   "metadata": {
    "slideshow": {
     "slide_type": "subslide"
    }
   },
   "source": [
    "### Engineering Example:\n",
    "\n",
    "Imagine you're designing a bridge. An IDE is like your entire engineering suite—CAD software, structural analysis tools, and project management—all integrated seamlessly to ensure your bridge stands strong. 🌉🔩\n",
    "\n",
    "![](./assets/figures/cad-odl.jpg)"
   ]
  },
  {
   "cell_type": "markdown",
   "id": "6",
   "metadata": {
    "slideshow": {
     "slide_type": "subslide"
    }
   },
   "source": [
    "### Fun Fact:\n",
    "\n",
    "The first IDE was introduced in the late 1980s, transforming how engineers and developers create and manage projects. It’s like upgrading from hand-drawing blueprints to using high-tech CAD software! 🖊️➡️🖥️\n"
   ]
  },
  {
   "cell_type": "markdown",
   "id": "7",
   "metadata": {
    "slideshow": {
     "slide_type": "slide"
    }
   },
   "source": [
    "## 2. Enhancing IDEs: Extensions & Copilot 🧩🤖 <a name=\"2-enhancing-ides-extensions--copilot\"></a>\n"
   ]
  },
  {
   "cell_type": "markdown",
   "id": "8",
   "metadata": {
    "slideshow": {
     "slide_type": "subslide"
    }
   },
   "source": [
    "### Extensions: Power-Up Your IDE\n",
    "\n",
    "Extensions are like adding new tools to your engineering toolkit. They enhance functionality, streamline tasks, and tailor your IDE to your specific needs.\n"
   ]
  },
  {
   "cell_type": "markdown",
   "id": "9",
   "metadata": {
    "slideshow": {
     "slide_type": "subslide"
    }
   },
   "source": [
    "### Must-Have Extensions for VSCode:\n",
    "\n",
    "- Prettier: Automatically formats your code for consistency. 🖌️✨\n",
    "\n",
    "![](./assets/figures/Prettier---9.png)\n",
    "\n",
    "- GitLens: Supercharges Git capabilities within VSCode. 🔍🐙\n",
    "\n",
    "![](./assets/figures/revision-navigation.gif)\n",
    "\n",
    "- Python: Essential for Python development with rich features. 🐍💻\n"
   ]
  },
  {
   "cell_type": "markdown",
   "id": "10",
   "metadata": {
    "slideshow": {
     "slide_type": "subslide"
    }
   },
   "source": [
    "### GitHub Copilot: Your AI Coding Assistant 🤖✍️\n",
    "\n",
    "![](./assets/figures/python-copilot.gif)\n",
    "\n",
    "GitHub Copilot is like having a smart engineering assistant that helps you write code faster and smarter. Powered by AI, it suggests code snippets, completes functions, and even writes entire modules based on your prompts.\n"
   ]
  },
  {
   "cell_type": "markdown",
   "id": "11",
   "metadata": {},
   "source": [
    "## GitHub for Students"
   ]
  },
  {
   "cell_type": "markdown",
   "id": "12",
   "metadata": {},
   "source": [
    "To use GitHub Copilot, you must have an active subscription for GitHub Copilot in your personal account. You can get a free subscription to GitHub Copilot as a student. For more information, see [GitHub Copilot for students](https://github.com/education/students)."
   ]
  },
  {
   "cell_type": "markdown",
   "id": "13",
   "metadata": {
    "slideshow": {
     "slide_type": "subslide"
    }
   },
   "source": [
    "### Why Copilot is Awesome:\n",
    "\n",
    "- Boosts Productivity: Speeds up coding by providing instant suggestions. ⚡📝\n",
    "- Learns from You: Adapts to your coding style and preferences. 🎯🧠\n",
    "- Reduces Boilerplate: Automatically generates repetitive code, letting you focus on the creative aspects. 🔄✨"
   ]
  },
  {
   "cell_type": "markdown",
   "id": "14",
   "metadata": {
    "slideshow": {
     "slide_type": "slide"
    }
   },
   "source": [
    "## Git: Your Code’s Time Machine ⏳🔄"
   ]
  },
  {
   "cell_type": "markdown",
   "id": "15",
   "metadata": {
    "slideshow": {
     "slide_type": "subslide"
    }
   },
   "source": [
    "### What is Git?\n",
    "\n",
    "Git is a version control system that lets you track changes, collaborate with others, and revert to previous states of your code effortlessly. It’s like having a rewind button for your projects!\n"
   ]
  },
  {
   "cell_type": "markdown",
   "id": "16",
   "metadata": {
    "slideshow": {
     "slide_type": "subslide"
    }
   },
   "source": [
    "### Why Git is Essential:\n",
    "\n",
    "- Track Changes: See who changed what and when. 🕒🔍\n",
    "- Collaborate Smoothly: Multiple engineers can work on the same project without stepping on each other’s toes. 🤝🌐\n",
    "- Experiment Safely: Create branches to try new ideas without affecting the main project. 🌿🧪\n"
   ]
  },
  {
   "cell_type": "markdown",
   "id": "17",
   "metadata": {
    "slideshow": {
     "slide_type": "subslide"
    }
   },
   "source": [
    "### Basic Git Commands:\n",
    "\n",
    "- `git init`: Start a new repository. 🏁\n",
    "- `git clone`: Make a copy of an existing repo. 📋\n",
    "- `git add`: Stage your changes. ➕\n",
    "- `git commit`: Save your changes with a message. 💾📝\n",
    "- `git push`: Upload changes to a remote repo. 🚀\n",
    "- `git pull`: Get updates from the remote repo. 🔄\n",
    "\n",
    "![git](./assets/figures/git-branching.png)"
   ]
  },
  {
   "cell_type": "markdown",
   "id": "18",
   "metadata": {
    "slideshow": {
     "slide_type": "subslide"
    }
   },
   "source": [
    "### Engineering Example:\n",
    "\n",
    "In a team designing an autonomous vehicle, Git allows different engineers to work on navigation, sensor integration, and user interface simultaneously. If a new feature causes a problem, you can easily revert to a stable version. 🚗🔧\n"
   ]
  },
  {
   "cell_type": "markdown",
   "id": "19",
   "metadata": {
    "slideshow": {
     "slide_type": "subslide"
    }
   },
   "source": [
    "### Fun Fact:\n",
    "\n",
    "Git was created by Linus Torvalds in 2005 to manage the Linux kernel development. It’s now the backbone of countless engineering projects worldwide! 🌍🐧\n"
   ]
  },
  {
   "cell_type": "markdown",
   "id": "20",
   "metadata": {
    "slideshow": {
     "slide_type": "slide"
    }
   },
   "source": [
    "## Version Control, Branching & Collaboration 🌿🤝\n"
   ]
  },
  {
   "cell_type": "markdown",
   "id": "21",
   "metadata": {
    "slideshow": {
     "slide_type": "subslide"
    }
   },
   "source": [
    "### Version Control: Keeping Track of Every Detail\n",
    "\n",
    "Version control ensures that every change in your project is recorded. This is crucial for maintaining the integrity and history of your engineering projects.\n"
   ]
  },
  {
   "cell_type": "markdown",
   "id": "22",
   "metadata": {
    "slideshow": {
     "slide_type": "subslide"
    }
   },
   "source": [
    "### Branching: Experiment Without Fear\n",
    "\n",
    "Branches allow you to diverge from the main project to develop features, fix bugs, or experiment with new ideas without disrupting the stable codebase.\n"
   ]
  },
  {
   "cell_type": "markdown",
   "id": "23",
   "metadata": {
    "slideshow": {
     "slide_type": "subslide"
    }
   },
   "source": [
    "### Key Git Concepts:\n",
    "\n",
    "- Branching: Create separate lines of development. \n",
    "\n",
    "Example commands:\n",
    "\n",
    "    - `git branch feature-newUI`: Create a new branch for the UI feature. 🎨\n",
    "    - `git checkout feature-newUI`: Switch to the new branch. 🔄\n",
    "\n",
    "- Merging: Combine changes from different branches. Example command:\n",
    "    \n",
    "    - `git merge feature-newUI`: Merge the UI feature into the main branch. 🤝\n",
    "\n",
    "- Collaboration: Work together seamlessly by pushing and pulling changes. Example commands:\n",
    "    \n",
    "    - `git push origin main`: Upload your commits to the remote repository. 🚀\n",
    "    - `git pull origin main`: Fetch and integrate changes from the remote repository. 🔄\n",
    "\n",
    "Git makes it easy for multiple engineers to collaborate on complex projects, ensuring that everyone’s work is integrated smoothly. 🤝🌐 Nearly every coding project in the world uses git for version control -- even this class. \n",
    "\n",
    "Git allows for tracking line-by-line changes in code, reverting to previous versions, and merging changes from multiple contributors. It's like having a time machine for your code! 🕰️🔧\n"
   ]
  },
  {
   "cell_type": "markdown",
   "id": "24",
   "metadata": {
    "slideshow": {
     "slide_type": "subslide"
    }
   },
   "source": [
    "### Collaboration Tips:\n",
    "\n",
    "- Communicate Clearly: Use descriptive commit messages and document your changes. 📝✨\n",
    "- Regularly Sync: Pull updates frequently to stay in sync with your team. 🔄👥\n",
    "- Review Code: Conduct code reviews to maintain quality and share knowledge. 🔍🤓\n"
   ]
  },
  {
   "cell_type": "markdown",
   "id": "25",
   "metadata": {
    "slideshow": {
     "slide_type": "subslide"
    }
   },
   "source": [
    "### Engineering Example:\n",
    "\n",
    "In developing a smart grid system, one team can work on the energy distribution algorithms on a separate branch, while another team handles the user interface. Once both parts are ready and tested, they merge their branches into the main project seamlessly. ⚡🔀\n"
   ]
  },
  {
   "cell_type": "markdown",
   "id": "26",
   "metadata": {
    "slideshow": {
     "slide_type": "subslide"
    }
   },
   "source": [
    "### Fun Fact:\n",
    "\n",
    "The name \"Git\" is British slang for a foolish or unpleasant person, chosen by Linus Torvalds with a sense of humor! 😂🤓\n"
   ]
  },
  {
   "cell_type": "markdown",
   "id": "27",
   "metadata": {
    "slideshow": {
     "slide_type": "slide"
    }
   },
   "source": [
    "## Fun Tips & Figures 🎨📊 <a name=\"6-fun-tips--figures\"></a>\n"
   ]
  },
  {
   "cell_type": "markdown",
   "id": "28",
   "metadata": {
    "slideshow": {
     "slide_type": "subslide"
    }
   },
   "source": [
    "### IDEs Tips:\n",
    "\n",
    "- Customize Your Workspace: Tailor the layout and themes to reduce eye strain and boost creativity. 🎨👀\n",
    "- Use Extensions: Enhance functionality with plugins specific to your engineering needs. 🔌✨\n",
    "- Leverage Copilot: Let GitHub Copilot assist you in writing code faster and smarter. 🤖✍️\n"
   ]
  },
  {
   "cell_type": "markdown",
   "id": "29",
   "metadata": {
    "slideshow": {
     "slide_type": "subslide"
    }
   },
   "source": [
    "### Git Tips:\n",
    "\n",
    "- Commit Often: Save small, meaningful changes to make tracking easier. 📝✅\n",
    "- Write Clear Messages: Describe what you did and why. It’s like labeling parts in your engineering drawings! 🏷️🗂️\n",
    "- Use Branches Wisely: Create branches for specific features or fixes to keep your main codebase stable. 🌿🔀\n"
   ]
  },
  {
   "cell_type": "markdown",
   "id": "30",
   "metadata": {
    "slideshow": {
     "slide_type": "slide"
    }
   },
   "source": [
    "## That’s a Wrap! 🎬🎉 \n",
    "\n",
    "You’re now equipped with the basics of IDEs, Extensions & Copilot, and Git—your coding command center and time machine! 🚀🕰️ Whether you're engineering the next big thing or tinkering with personal projects, these tools will supercharge your workflow and collaboration.\n",
    "\n",
    "Happy Coding and Engineering! 🚀💡🔧"
   ]
  }
 ],
 "metadata": {
  "language_info": {
   "name": "python"
  }
 },
 "nbformat": 4,
 "nbformat_minor": 5
}
