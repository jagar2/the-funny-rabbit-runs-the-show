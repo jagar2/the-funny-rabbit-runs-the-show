{
 "cells": [
  {
   "cell_type": "code",
   "execution_count": null,
   "id": "0",
   "metadata": {
    "deletable": false,
    "editable": false,
    "tags": [
     "skip-execution"
    ]
   },
   "outputs": [],
   "source": [
    "# You must make sure to run all cells in sequence using shift + enter or you might encounter errors\n",
    "from pykubegrader.initialize import initialize_assignment\n",
    "\n",
    "responses = initialize_assignment(\"8_mortified_loops_q\", \"week_4\", \"readings\", assignment_points = 21.0, assignment_tag = 'week4-readings')\n",
    "\n",
    "# Initialize Otter\n",
    "import otter\n",
    "grader = otter.Notebook(\"8_mortified_loops_q.ipynb\")"
   ]
  },
  {
   "cell_type": "markdown",
   "id": "1",
   "metadata": {
    "deletable": false,
    "editable": false
   },
   "source": [
    "# ❓ 📓 Mortified: High School Diaries 📔💔\n",
    "\n",
    "![diary](./assets/figures/mortified.jpeg)\n",
    "\n",
    "<iframe width=\"560\" height=\"315\" src=\"https://www.youtube.com/embed/x3DmdV9XByY?si=BR0VdqK2N__KVlRa\" title=\"YouTube video player\" frameborder=\"0\" allow=\"accelerometer; autoplay; clipboard-write; encrypted-media; gyroscope; picture-in-picture; web-share\" referrerpolicy=\"strict-origin-when-cross-origin\" allowfullscreen></iframe>\n",
    "\n",
    "Relive the cringe-worthy moments from your high school diary while mastering Python loops and statements!"
   ]
  },
  {
   "cell_type": "code",
   "execution_count": null,
   "id": "2",
   "metadata": {
    "tags": [
     "skip-execution"
    ]
   },
   "outputs": [],
   "source": [
    "# Run this block of code by pressing Shift + Enter to display the question\n",
    "from questions._8_mortified_loops_q import Question1\n",
    "Question1().show()\n"
   ]
  },
  {
   "cell_type": "code",
   "execution_count": null,
   "id": "3",
   "metadata": {
    "tags": [
     "skip-execution"
    ]
   },
   "outputs": [],
   "source": [
    "# Run this block of code by pressing Shift + Enter to display the question\n",
    "from questions._8_mortified_loops_q import Question2\n",
    "Question2().show()\n"
   ]
  },
  {
   "cell_type": "code",
   "execution_count": null,
   "id": "4",
   "metadata": {
    "tags": [
     "skip-execution"
    ]
   },
   "outputs": [],
   "source": [
    "# Run this block of code by pressing Shift + Enter to display the question\n",
    "from questions._8_mortified_loops_q import Question3\n",
    "Question3().show()\n"
   ]
  },
  {
   "cell_type": "markdown",
   "id": "5",
   "metadata": {
    "deletable": false,
    "editable": false
   },
   "source": [
    "## Diary Keyword Check\n",
    "\n",
    "![diary](./assets/figures/mortified_2.webp)\n",
    "\n",
    "### Instructions:\n",
    "\n",
    "You’re reading through your old diary to find entries containing the word \"awkward.\" Write a Python program to:\n",
    "1. Loop through a list of diary entries.\n",
    "2. If \"awkward\" is found, print the entry.\n",
    "3. Stop reading if you encounter \"STOP\" in any entry.\n",
    "\n",
    "### Specific Instructions:\n",
    "\n",
    "- Use the `diary_entries` list provided.\n",
    "- Use the function diary_search provided.\n",
    "- create a `for` loop to iterate through the `diary_entries` list, save the current entry in a temporary variable `entry`.\n",
    "- Check if the word \"STOP\" is in the `entry`. If it is, print \"Processing stopped.\" and break the loop.\n",
    "- Check if the word \"awkward\" is in the `entry`. If it is, print \"Awkward entry: \" followed by the `entry`. Use an f-string to format the output.\n",
    "\n",
    "Use a `for` loop, `break`, and `continue` statements to implement this.\n",
    "\n",
    "#### Example Entries:\n",
    "```\n",
    "diary_entries = [\n",
    "    \"Math class was so awkward today.\",\n",
    "    \"Went to the mall and saw my crush.\",\n",
    "    \"STOP this madness.\",\n",
    "    \"Had pizza for dinner.\"\n",
    "]\n",
    "```\n",
    "Output should be:\n",
    "```\n",
    "Awkward entry: Math class was so awkward today.\n",
    "Processing stopped.\n",
    "```"
   ]
  },
  {
   "cell_type": "code",
   "execution_count": null,
   "id": "6",
   "metadata": {
    "tags": [
     "skip-execution"
    ]
   },
   "outputs": [],
   "source": [
    "diary_entries = [\n",
    "    \"Math class was so awkward today.\",\n",
    "    \"Went to the mall and saw my crush.\",\n",
    "    \"STOP this madness.\",\n",
    "    \"Had pizza for dinner.\",\n",
    "]\n",
    "\n",
    "def diary_search(diary_entries):\n",
    "    ..."
   ]
  },
  {
   "cell_type": "code",
   "execution_count": null,
   "id": "7",
   "metadata": {
    "deletable": false,
    "editable": false,
    "tags": [
     "skip-execution"
    ]
   },
   "outputs": [],
   "source": [
    "grader.check(\"Mortified-DiaryKeywordCheck\")"
   ]
  },
  {
   "cell_type": "markdown",
   "id": "8",
   "metadata": {
    "deletable": false,
    "editable": false
   },
   "source": [
    "## Counting the Words in Your Diary Entries\n",
    "\n",
    "### Instructions:\n",
    "Write a Python program to count the total number of words across all diary entries. Use a `for` loop to process each entry and the `.split()` method to count words in the entry.\n",
    "\n",
    "1. Initialize a variable `total_words` to 0.\n",
    "\n",
    "#### Example Entries:\n",
    "```\n",
    "diary_entries = [\n",
    "\"I had a good day today.\",\n",
    "\"So awkward—my crush noticed my new haircut!\",\n",
    "\"Nothing special happened.\"\n",
    "]\n",
    "```\n",
    "The program should output:\n",
    "```\n",
    "Total words: 18\n",
    "```\n",
    "\n",
    "Mortified Podcast Story: The Kissing Catastrophe\n",
    "\n",
    "It all started with the Great Kissing Pact of ninth grade. My best friend Tara and I, armed with an unlimited supply of naivety and Dr. Pepper, decided that this year would be the year. We had been marinating in teen rom-coms for months, and the message was clear: ninth grade was supposed to be magical. First dances. First kisses. First time realizing boys don’t look like Zac Efron. \n",
    "\n",
    "But the problem? Neither of us had ever kissed anyone. And we weren’t exactly *thriving* in the social scene. I was in marching band, and Tara was in something called the Book Bowl Club (which, for the record, is not as cool as it sounds). So, we made a deal. By the end of the school year, we would each experience The Kiss™.\n",
    "\n",
    "For Tara, things unfolded pretty smoothly. She “fell in love” with a kid named Brad who wore Axe body spray like a force field. By Valentine’s Day, they were sharing awkward hand-holds and secret smiles during study hall. I heard from a reliable source (Tara herself) that Brad kissed her behind the bleachers after a basketball game. She was officially on the scoreboard.\n",
    "\n",
    "And then there was me. By May, I had kissed exactly zero people. My options were… limited. There was Kevin, who thought deodorant was optional, and Derek, who only communicated through anime references. But then—like some cursed miracle—there was Jason. \n",
    "\n",
    "Jason wasn’t *cool*, exactly, but he was what we called a “floater.” He could talk to anyone. He wasn’t in band, but he sat at our lunch table because he thought Tara’s stories about her cat were funny. One Friday, as we were walking home from school, Jason casually asked if I wanted to hang out at the park.\n",
    "\n",
    "My heart exploded. I had never been “asked out,” not even indirectly. Tara was thrilled for me. She braided my hair, lent me her sparkly lip gloss, and whispered, “Tonight’s the night.” And somehow, I believed her.\n",
    "\n",
    "At the park, we swung on the swings and talked about important ninth-grade things: movies, homework, and whether we thought aliens existed. Then, as the sun started to set, Jason turned to me and said, “You’re really cool, you know that?”\n",
    "\n",
    "I froze. Was this it? Was this the moment?\n",
    "\n",
    "Jason leaned closer. My brain went into full panic mode. What if I did it wrong? What if my lips were *weird*? And most horrifying of all: what if I missed? But before I could think it through, I leaned in too—only way too fast. My face collided with Jason’s in what can only be described as a headbutt. \n",
    "\n",
    "“Oh my god, are you okay?” he asked, rubbing his nose.\n",
    "\n",
    "I wanted the Earth to swallow me whole. “I’m fine!” I squeaked, clutching my forehead like it was bleeding. \n",
    "\n",
    "Jason laughed—thankfully—and said, “Maybe we should try again.”\n",
    "\n",
    "Reader, we did not. I mumbled something about needing to get home and practically sprinted back to my house. Tara was waiting on my porch, hopeful and smiling.\n",
    "\n",
    "“Well?” she asked.\n",
    "\n",
    "“I think I gave Jason a concussion.”\n",
    "\n",
    "Mortified Takeaway: First kisses are messy. Sometimes they’re magical, sometimes they’re a headbutt. But either way, they make for a story you’ll laugh about one day—if you’re lucky."
   ]
  },
  {
   "cell_type": "code",
   "execution_count": null,
   "id": "9",
   "metadata": {
    "tags": [
     "skip-execution"
    ]
   },
   "outputs": [],
   "source": [
    "diary_entries = [\n",
    "    \"\"\"**Mortified Podcast Story: The Kissing Catastrophe**\n",
    "\n",
    "---\n",
    "\n",
    "It all started with the Great Kissing Pact of ninth grade. My best friend Tara and I, armed with an unlimited supply of naivety and Dr. Pepper, decided that **this year would be the year**. We had been marinating in teen rom-coms for months, and the message was clear: ninth grade was supposed to be magical. First dances. First kisses. First time realizing boys don’t look like Zac Efron. \n",
    "\n",
    "But the problem? Neither of us had ever kissed anyone. And we weren’t exactly *thriving* in the social scene. I was in marching band, and Tara was in something called the **Book Bowl Club** (which, for the record, is not as cool as it sounds). So, we made a deal. By the end of the school year, we would each experience The Kiss™.\n",
    "\n",
    "For Tara, things unfolded pretty smoothly. She “fell in love” with a kid named Brad who wore Axe body spray like a force field. By Valentine’s Day, they were sharing awkward hand-holds and secret smiles during study hall. I heard from a reliable source (Tara herself) that Brad kissed her behind the bleachers after a basketball game. She was officially on the scoreboard.\n",
    "\n",
    "And then there was me. By May, I had kissed exactly zero people. My options were… limited. There was Kevin, who thought deodorant was optional, and Derek, who only communicated through anime references. But then—like some cursed miracle—there was Jason. \n",
    "\n",
    "Jason wasn’t *cool*, exactly, but he was what we called a “floater.” He could talk to anyone. He wasn’t in band, but he sat at our lunch table because he thought Tara’s stories about her cat were funny. One Friday, as we were walking home from school, Jason casually asked if I wanted to hang out at the park.\n",
    "\n",
    "My heart exploded. I had never been “asked out,” not even indirectly. Tara was thrilled for me. She braided my hair, lent me her sparkly lip gloss, and whispered, “Tonight’s the night.” And somehow, I believed her.\n",
    "\n",
    "At the park, we swung on the swings and talked about **important ninth-grade things**: movies, homework, and whether we thought aliens existed. Then, as the sun started to set, Jason turned to me and said, “You’re really cool, you know that?”\n",
    "\n",
    "I froze. Was this it? Was this the moment?\n",
    "\n",
    "Jason leaned closer. My brain went into full panic mode. What if I did it wrong? What if my lips were *weird*? And most horrifying of all: what if I missed? But before I could think it through, I leaned in too—only way too fast. My face collided with Jason’s in what can only be described as a headbutt. \n",
    "\n",
    "“Oh my god, are you okay?” he asked, rubbing his nose.\n",
    "\n",
    "I wanted the Earth to swallow me whole. “I’m fine!” I squeaked, clutching my forehead like it was bleeding. \n",
    "\n",
    "Jason laughed—thankfully—and said, “Maybe we should try again.”\n",
    "\n",
    "Reader, we did not. I mumbled something about needing to get home and practically sprinted back to my house. Tara was waiting on my porch, hopeful and smiling.\n",
    "\n",
    "“Well?” she asked.\n",
    "\n",
    "“I think I gave Jason a concussion.”\n",
    "\n",
    "---\n",
    "\n",
    "**Mortified Takeaway**: First kisses are messy. Sometimes they’re magical, sometimes they’re a headbutt. But either way, they make for a story you’ll laugh about one day—if you’re lucky.\"\"\"\n",
    "]\n",
    "\n",
    "def diary_word_count(diary_entries):\n",
    "    # Initialize a variable to store the total word count \n",
    "    ...\n",
    "    \n",
    "    # Iterate over each entry in the diary_entries list\n",
    "    # count the number of words in each entry and add it to the total word count\n",
    "    ...\n",
    "    \n",
    "    # Print the total word count using the f-string\n",
    "    # Your output should look like this: \"Total words: 123\"\n",
    "    \n",
    "    ...\n",
    "\n",
    "\n",
    "diary_word_count(diary_entries)"
   ]
  },
  {
   "cell_type": "code",
   "execution_count": null,
   "id": "10",
   "metadata": {
    "deletable": false,
    "editable": false,
    "tags": [
     "skip-execution"
    ]
   },
   "outputs": [],
   "source": [
    "grader.check(\"Mortified-DiaryWordCount\")"
   ]
  },
  {
   "cell_type": "markdown",
   "id": "11",
   "metadata": {
    "deletable": false,
    "editable": false
   },
   "source": [
    "![](./assets/figures/yearbook.jpg)"
   ]
  },
  {
   "cell_type": "markdown",
   "id": "12",
   "metadata": {},
   "source": [
    "## Submitting Assignment\n",
    "\n",
    "Please run the following block of code using `shift + enter` to submit your assignment, you should see your score."
   ]
  },
  {
   "cell_type": "code",
   "execution_count": null,
   "id": "13",
   "metadata": {
    "deletable": false,
    "editable": false,
    "tags": [
     "skip-execution"
    ]
   },
   "outputs": [],
   "source": [
    "from pykubegrader.submit.submit_assignment import submit_assignment\n",
    "\n",
    "submit_assignment(\"week4-readings\", \"8_mortified_loops_q\")"
   ]
  }
 ],
 "metadata": {
  "kernelspec": {
   "display_name": "engr131_dev",
   "language": "python",
   "name": "python3"
  },
  "language_info": {
   "codemirror_mode": {
    "name": "ipython",
    "version": 3
   },
   "file_extension": ".py",
   "mimetype": "text/x-python",
   "name": "python",
   "nbconvert_exporter": "python",
   "pygments_lexer": "ipython3",
   "version": "3.12.7"
  },
  "otter": {
   "OK_FORMAT": true,
   "tests": {
    "Mortified-DiaryKeywordCheck": {
     "name": "Mortified-DiaryKeywordCheck",
     "points": null,
     "suites": [
      {
       "cases": [
        {
         "code": ">>> from pykubegrader.telemetry import ensure_responses, log_variable, score_question, submit_question, telemetry, update_responses\n>>> import os\n>>> from io import StringIO\n>>> import sys\n>>> max_question_points = str(6.0)\n>>> earned_points = 0\n>>> os.environ['EARNED_POINTS'] = str(earned_points)\n>>> os.environ['TOTAL_POINTS_FREE_RESPONSE'] = str(12.0)\n>>> log_variable('total-points', f'Reading-Week-X, 8_mortified_loops_q', 12.0)\n>>> question_id = 'Mortified-DiaryKeywordCheck-1'\n>>> max_score = 2.0\n>>> score = 0\n>>> output = StringIO()\n>>> sys.stdout = output\n>>> diary_entries = ['This is awkward.', 'STOP here.', 'Should not process this.']\n>>> diary_search(diary_entries)\n>>> sys.stdout = sys.__stdout__\n>>> output_value = output.getvalue().strip()\n>>> condition = 'Processing stopped.' in output_value\n>>> assert condition, \"The program did not stop correctly when 'STOP' was encountered.\"\n>>> if condition:\n...     score = 2.0\n>>> earned_points = float(os.environ.get('EARNED_POINTS', 0))\n>>> earned_points += score\n>>> log_variable('8_mortified_loops_q', f'{score}, {max_score}', question_id)\n>>> os.environ['EARNED_POINTS'] = str(earned_points)\n>>> responses = update_responses(question_id, str(output))\n",
         "failure_message": "Failed: The program did not stop correctly on 'STOP'.",
         "hidden": false,
         "locked": false,
         "points": 2,
         "success_message": "Success: The program stops correctly on encountering 'STOP'."
        },
        {
         "code": ">>> from pykubegrader.telemetry import ensure_responses, log_variable, score_question, submit_question, telemetry, update_responses\n>>> import os\n>>> from io import StringIO\n>>> import sys\n>>> question_id = 'Mortified-DiaryKeywordCheck-2'\n>>> max_score = 2.0\n>>> score = 0\n>>> output = StringIO()\n>>> sys.stdout = output\n>>> diary_entries = ['Something awkward happened today.', 'STOP here.']\n>>> diary_search(diary_entries)\n>>> sys.stdout = sys.__stdout__\n>>> output_value = output.getvalue().strip()\n>>> condition = 'Awkward entry: Something awkward happened today.' in output_value\n>>> assert condition, \"The program did not correctly identify and print entries containing 'awkward'.\"\n>>> if condition:\n...     score = 2.0\n>>> earned_points = float(os.environ.get('EARNED_POINTS', 0))\n>>> earned_points += score\n>>> log_variable('8_mortified_loops_q', f'{score}, {max_score}', question_id)\n>>> os.environ['EARNED_POINTS'] = str(earned_points)\n>>> responses = update_responses(question_id, str(output))\n",
         "failure_message": "Failed: The program did not correctly identify or print entries containing 'awkward'.",
         "hidden": false,
         "locked": false,
         "points": 2,
         "success_message": "Success: The program correctly identifies and prints entries containing 'awkward'."
        },
        {
         "code": ">>> from pykubegrader.telemetry import ensure_responses, log_variable, score_question, submit_question, telemetry, update_responses\n>>> import os\n>>> from io import StringIO\n>>> import sys\n>>> question_id = 'Mortified-DiaryKeywordCheck-3'\n>>> max_score = 2.0\n>>> score = 0\n>>> output = StringIO()\n>>> sys.stdout = output\n>>> diary_entries = ['Nothing exciting here.', 'This is awkward.']\n>>> diary_search(diary_entries)\n>>> sys.stdout = sys.__stdout__\n>>> output_value = output.getvalue().strip()\n>>> condition = 'Awkward entry: This is awkward.' in output_value\n>>> assert condition, 'The program did not correctly skip non-matching entries.'\n>>> if condition:\n...     score = 2.0\n>>> earned_points = float(os.environ.get('EARNED_POINTS', 0))\n>>> earned_points += score\n>>> log_variable('8_mortified_loops_q', f'{score}, {max_score}', question_id)\n>>> os.environ['EARNED_POINTS'] = str(earned_points)\n>>> responses = update_responses(question_id, str(output))\n",
         "failure_message": "Failed: The program did not correctly skip non-matching entries.",
         "hidden": false,
         "locked": false,
         "points": 2,
         "success_message": "Success: The program skips non-matching entries correctly."
        }
       ],
       "scored": true,
       "setup": "",
       "teardown": "",
       "type": "doctest"
      }
     ]
    },
    "Mortified-DiaryWordCount": {
     "name": "Mortified-DiaryWordCount",
     "points": null,
     "suites": [
      {
       "cases": [
        {
         "code": ">>> from pykubegrader.telemetry import ensure_responses, log_variable, score_question, submit_question, telemetry, update_responses\n>>> import os\n>>> import re\n>>> import inspect\n>>> from io import StringIO\n>>> import sys\n>>> max_question_points = str(6.0)\n>>> earned_points = 0\n>>> os.environ['EARNED_POINTS'] = str(earned_points)\n>>> os.environ['TOTAL_POINTS_FREE_RESPONSE'] = str(12.0)\n>>> log_variable('total-points', f'Reading-Week-X, 8_mortified_loops_q', 12.0)\n>>> question_id = 'Mortified-DiaryWordCount-1'\n>>> max_score = 3.0\n>>> score = 0\n>>> output = StringIO()\n>>> sys.stdout = output\n>>> diary_entries = ['This is a test entry.', 'It has some words for counting.', 'The total should match.']\n>>> diary_word_count(diary_entries)\n>>> sys.stdout = sys.__stdout__\n>>> output_value = output.getvalue().strip()\n>>> condition = re.search('(?i)total\\\\s+words:\\\\s+15', output_value)\n>>> assert condition, 'The program did not print the correct total word count.'\n>>> if condition:\n...     score = 3.0\n>>> earned_points = float(os.environ.get('EARNED_POINTS', 0))\n>>> earned_points += score\n>>> log_variable('8_mortified_loops_q', f'{score}, {max_score}', question_id)\n>>> os.environ['EARNED_POINTS'] = str(earned_points)\n>>> responses = update_responses(question_id, str(output))\n",
         "failure_message": "Failed: The program did not print the correct total word count.",
         "hidden": false,
         "locked": false,
         "points": 3,
         "success_message": "Success: The program prints the correct total word count."
        },
        {
         "code": ">>> from pykubegrader.telemetry import ensure_responses, log_variable, score_question, submit_question, telemetry, update_responses\n>>> import os\n>>> import re\n>>> import inspect\n>>> from io import StringIO\n>>> import sys\n>>> question_id = 'Mortified-DiaryWordCount-2'\n>>> max_score = 3.0\n>>> score = 0\n>>> output = StringIO()\n>>> sys.stdout = output\n>>> diary_entries = []\n>>> diary_word_count(diary_entries)\n>>> sys.stdout = sys.__stdout__\n>>> output_value = output.getvalue().strip()\n>>> condition = re.search('(?i)total\\\\s+words:\\\\s+0', output_value)\n>>> assert condition, 'The program did not correctly handle empty diary entries.'\n>>> if condition:\n...     score = 3.0\n>>> earned_points = float(os.environ.get('EARNED_POINTS', 0))\n>>> earned_points += score\n>>> log_variable('8_mortified_loops_q', f'{score}, {max_score}', question_id)\n>>> os.environ['EARNED_POINTS'] = str(earned_points)\n>>> responses = update_responses(question_id, str(output))\n",
         "failure_message": "Failed: The program did not handle empty diary entries correctly.",
         "hidden": false,
         "locked": false,
         "points": 3,
         "success_message": "Success: The program handles empty diary entries correctly."
        }
       ],
       "scored": true,
       "setup": "",
       "teardown": "",
       "type": "doctest"
      }
     ]
    }
   }
  }
 },
 "nbformat": 4,
 "nbformat_minor": 5
}
