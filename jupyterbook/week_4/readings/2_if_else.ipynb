{
 "cells": [
  {
   "cell_type": "markdown",
   "id": "0",
   "metadata": {},
   "source": [
    "# 📖 🤥 If-Else Statements: The Tale of Pinocchio's Nose\n",
    "\n",
    "![](./assets/figures/pinocchio3.webp)\n",
    "\n",
    "In Python, if-else statements are like the magical logic behind Pinocchio’s nose:\n",
    "\n",
    "- If he tells the truth, his nose stays the same.\n",
    "- If he tells a lie, his nose grows longer.\n",
    "\n",
    "This simple logic perfectly demonstrates how if-else statements work. They allow your program to make decisions and execute specific blocks of code based on conditions.\n",
    "\n",
    "Let’s dive into this story of truth, lies, and growing noses to learn all about if-else statements in Python! 🎭✨\n",
    "\n",
    "## 🎭 What Are If-Else Statements?\n",
    "\n",
    "An if-else statement checks a condition (e.g., _\"Did Pinocchio lie?\"_) and decides what to do based on whether the condition is True or False. It’s like asking:\n",
    "\n",
    "1. If Pinocchio lies → His nose grows.\n",
    "2. Else (otherwise) → His nose stays the same.\n"
   ]
  },
  {
   "cell_type": "markdown",
   "id": "1",
   "metadata": {
    "lines_to_next_cell": 0
   },
   "source": [
    "```{admonition} Syntax\n",
    "\n",
    "```python\n",
    "if condition:\n",
    "    # Code to run if the condition is True\n",
    "else:\n",
    "    # Code to run if the condition is False\n",
    "```\n",
    "\n",
    "```"
   ]
  },
  {
   "cell_type": "markdown",
   "id": "2",
   "metadata": {},
   "source": [
    "## 🤥 Example 1: Pinocchio’s Nose Logic\n",
    "\n",
    "Let’s write a simple program to decide what happens to Pinocchio’s nose based on whether he’s telling the truth."
   ]
  },
  {
   "cell_type": "code",
   "execution_count": null,
   "id": "3",
   "metadata": {},
   "outputs": [],
   "source": [
    "pinocchio_lied = True  # Did Pinocchio lie?\n",
    "\n",
    "if pinocchio_lied:\n",
    "    print(\"Pinocchio lied! His nose grows longer. 🌱👃\")\n",
    "else:\n",
    "    print(\"Pinocchio told the truth. His nose stays the same. 🤥✅\")"
   ]
  },
  {
   "cell_type": "markdown",
   "id": "4",
   "metadata": {},
   "source": [
    "🎯 Key Idea: The `if` block executes when `pinocchio_lied` is `True`. Otherwise, the `else` block executes.\n",
    "\n",
    "## 🌱 Adding More Complexity with Elif\n",
    "\n",
    "![](./assets/figures/Pinocchio-old.jpg)\n",
    "What if Pinocchio's nose grows at different rates based on the size of his lie? We can use `elif` (else-if) to check for multiple conditions.\n",
    "\n",
    "### Example 2: Growing Noses for Different Lies"
   ]
  },
  {
   "cell_type": "code",
   "execution_count": null,
   "id": "5",
   "metadata": {},
   "outputs": [],
   "source": [
    "lie_type = \"big\"  # Options: \"small\", \"big\", or \"none\"\n",
    "\n",
    "if lie_type == \"small\":\n",
    "    print(\"Pinocchio told a small lie. His nose grows a little. 🌱👃\")\n",
    "elif lie_type == \"big\":\n",
    "    print(\"Pinocchio told a big lie! His nose grows a lot! 🌳👃\")\n",
    "else:\n",
    "    print(\"Pinocchio told the truth. His nose stays the same. 🤥✅\")"
   ]
  },
  {
   "cell_type": "markdown",
   "id": "6",
   "metadata": {},
   "source": [
    "🎯 Key Idea: The `elif` block allows you to handle multiple possibilities, like small lies, big lies, or no lies at all.\n",
    "\n",
    "## 🎭 Using Boolean Logic for Complex Lies\n",
    "\n",
    "Sometimes Pinocchio tells partial truths or mixes truth and lies. We can use logical operators like `and`, `or`, and `not` to handle more complex conditions.\n",
    "\n",
    "### Example 3: Mixing Truth and Lies"
   ]
  },
  {
   "cell_type": "code",
   "execution_count": null,
   "id": "7",
   "metadata": {},
   "outputs": [],
   "source": [
    "truths = 2\n",
    "lies = 1\n",
    "\n",
    "if truths > lies:\n",
    "    print(\"Pinocchio told more truths than lies. His nose barely grows. 🌱👃\")\n",
    "elif lies > truths:\n",
    "    print(\"Pinocchio told more lies than truths! His nose grows a lot! 🌳👃\")\n",
    "else:\n",
    "    print(\"Pinocchio balanced truth and lies. His nose stays the same. 🤔👃\")"
   ]
  },
  {
   "cell_type": "markdown",
   "id": "8",
   "metadata": {},
   "source": [
    "🎯 Key Idea: Logical operators like `>` and `==` let you compare values and decide which block of code to execute.\n",
    "\n",
    "## ⏳ Loops with If-Else: A Growing Nose Over Time\n",
    "\n",
    "Let’s say Pinocchio lies multiple times. We can use a `for` loop to simulate how his nose grows with each lie.\n",
    "\n",
    "This is just a simple example to show how you can combine loops with if-else statements to create more complex behavior 🤥🔁. We will cover loops in more detail in the next section. \n",
    "\n",
    "### Example 4: Nose Growth Over Multiple Lies"
   ]
  },
  {
   "cell_type": "code",
   "execution_count": null,
   "id": "9",
   "metadata": {},
   "outputs": [],
   "source": [
    "lies = [\"small\", \"big\", \"small\"]  # Lies Pinocchio tells\n",
    "nose_length = 0  # Starting length of the nose\n",
    "\n",
    "for lie in lies:\n",
    "    if lie == \"small\":\n",
    "        nose_length += 1  # Small lies grow the nose by 1 unit\n",
    "        print(\"Small lie! Nose grows a little. 🌱👃\")\n",
    "    elif lie == \"big\":\n",
    "        nose_length += 3  # Big lies grow the nose by 3 units\n",
    "        print(\"Big lie! Nose grows a lot! 🌳👃\")\n",
    "\n",
    "print(f\"Final nose length: {nose_length} units.\")"
   ]
  },
  {
   "cell_type": "markdown",
   "id": "10",
   "metadata": {},
   "source": [
    "🎯 Key Idea: The loop iterates through each lie, and the `if-elif` block decides how much the nose should grow.\n",
    "\n",
    "## 🤔 Using Nested If-Else Statements\n",
    "\n",
    "![](./assets/figures/pinocchio3.webp)\n",
    "\n",
    "What if Pinocchio's nose growth depends on both the type of lie and the number of lies told? We can use nested if-else statements to check multiple layers of conditions.\n",
    "\n",
    "### Example 5: Nested Nose Logic"
   ]
  },
  {
   "cell_type": "code",
   "execution_count": null,
   "id": "11",
   "metadata": {},
   "outputs": [],
   "source": [
    "lie_type = \"big\"\n",
    "number_of_lies = 2\n",
    "\n",
    "if lie_type == \"big\":\n",
    "    if number_of_lies > 1:\n",
    "        print(\"Pinocchio told multiple big lies! His nose grows exponentially! 🌳🌳👃\")\n",
    "    else:\n",
    "        print(\"Pinocchio told one big lie. His nose grows a lot. 🌳👃\")\n",
    "elif lie_type == \"small\":\n",
    "    if number_of_lies > 1:\n",
    "        print(\"Pinocchio told multiple small lies. His nose grows moderately. 🌱🌱👃\")\n",
    "    else:\n",
    "        print(\"Pinocchio told one small lie. His nose grows a little. 🌱👃\")\n",
    "else:\n",
    "    print(\"Pinocchio told the truth. His nose stays the same. 🤥✅\")"
   ]
  },
  {
   "cell_type": "markdown",
   "id": "12",
   "metadata": {},
   "source": [
    "🎯 Key Idea: Nested if-else statements allow you to evaluate more detailed conditions within broader categories.\n",
    "\n",
    "## 🎬 Conclusion: If-Else Logic and Pinocchio’s Nose\n",
    "\n",
    "The story of Pinocchio’s nose is a perfect way to understand if-else statements in Python. Here’s a quick recap:\n",
    "\n",
    "1. `if`: Checks a condition (e.g., \"Did Pinocchio lie?\"). Executes the block if `True`.\n",
    "2. `else`: Executes when the condition is `False` (e.g., \"He told the truth.\").\n",
    "3. `elif`: Adds more conditions (e.g., \"Was it a small or big lie?\").\n",
    "4. Nesting: Handles complex scenarios by layering conditions.\n",
    "5. Loops: Combine with loops to process multiple lies over time.\n",
    "\n",
    "With these tools, you can handle any logic, from Pinocchio’s nose growth to building real-world decision-making programs! 🤥✨"
   ]
  }
 ],
 "metadata": {
  "jupytext": {
   "cell_metadata_filter": "-all",
   "main_language": "python",
   "notebook_metadata_filter": "-all"
  },
  "kernelspec": {
   "display_name": "engr131_dev",
   "language": "python",
   "name": "python3"
  },
  "language_info": {
   "codemirror_mode": {
    "name": "ipython",
    "version": 3
   },
   "file_extension": ".py",
   "mimetype": "text/x-python",
   "name": "python",
   "nbconvert_exporter": "python",
   "pygments_lexer": "ipython3",
   "version": "3.12.7"
  }
 },
 "nbformat": 4,
 "nbformat_minor": 5
}
