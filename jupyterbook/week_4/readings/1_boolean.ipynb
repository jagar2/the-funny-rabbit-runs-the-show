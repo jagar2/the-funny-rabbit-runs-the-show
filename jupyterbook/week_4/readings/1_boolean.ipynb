{
 "cells": [
  {
   "cell_type": "markdown",
   "id": "0",
   "metadata": {},
   "source": [
    "# Boolean: *Squid Game* Red Light, Green Light Edition 🦑🚥\n"
   ]
  },
  {
   "cell_type": "markdown",
   "id": "1",
   "metadata": {},
   "source": [
    "1. **Green Light: Move!**\n",
    "- **Condition**: `light == \"green\"`\n",
    "- **Boolean Expression**: `True`\n",
    "- **Action**: Players can move forward. 🏃‍♂️💨"
   ]
  },
  {
   "cell_type": "code",
   "execution_count": null,
   "id": "2",
   "metadata": {},
   "outputs": [],
   "source": [
    "     if light == \"green\":\n",
    "         print(\"Move forward!\")"
   ]
  },
  {
   "cell_type": "markdown",
   "id": "3",
   "metadata": {},
   "source": []
  },
  {
   "cell_type": "markdown",
   "id": "4",
   "metadata": {},
   "source": [
    "2. **Red Light: Stop!**\n",
    "- **Condition**: `light == \"red\"`\n",
    "- **Boolean Expression**: `True`\n",
    "- **Action**: Players must freeze or face elimination. ❌"
   ]
  },
  {
   "cell_type": "code",
   "execution_count": null,
   "id": "5",
   "metadata": {},
   "outputs": [],
   "source": [
    "     if light == \"red\":\n",
    "         print(\"Freeze! Don't move.\")"
   ]
  },
  {
   "cell_type": "markdown",
   "id": "6",
   "metadata": {},
   "source": []
  },
  {
   "cell_type": "markdown",
   "id": "7",
   "metadata": {},
   "source": [
    "3. **Caught Moving**\n",
    "- **Condition**: `light == \"red\" and player_moving == True`\n",
    "- **Boolean Expression**: `True`\n",
    "- **Action**: Player is eliminated. 😱"
   ]
  },
  {
   "cell_type": "code",
   "execution_count": null,
   "id": "8",
   "metadata": {},
   "outputs": [],
   "source": [
    "     if light == \"red\" and player_moving:\n",
    "         print(\"You’re eliminated!\")"
   ]
  },
  {
   "cell_type": "markdown",
   "id": "9",
   "metadata": {},
   "source": []
  },
  {
   "cell_type": "markdown",
   "id": "10",
   "metadata": {},
   "source": [
    "4. **Safe Zone Reached**\n",
    "- **Condition**: `player_position >= finish_line`\n",
    "- **Boolean Expression**: `True`\n",
    "- **Action**: Player wins the round! 🏆"
   ]
  },
  {
   "cell_type": "code",
   "execution_count": null,
   "id": "11",
   "metadata": {},
   "outputs": [],
   "source": [
    "     if player_position >= finish_line:\n",
    "         print(\"You made it to the finish line!\")"
   ]
  },
  {
   "cell_type": "markdown",
   "id": "12",
   "metadata": {},
   "source": []
  },
  {
   "cell_type": "markdown",
   "id": "13",
   "metadata": {},
   "source": [
    "5. **Time’s Up**\n",
    "- **Condition**: `time_remaining <= 0 and player_position < finish_line`\n",
    "- **Boolean Expression**: `True`\n",
    "- **Action**: Player is eliminated for not finishing in time. ⏳❌"
   ]
  },
  {
   "cell_type": "code",
   "execution_count": null,
   "id": "14",
   "metadata": {},
   "outputs": [],
   "source": [
    "     if time_remaining <= 0 and player_position < finish_line:\n",
    "         print(\"Out of time! You’re eliminated.\")"
   ]
  },
  {
   "cell_type": "markdown",
   "id": "15",
   "metadata": {},
   "source": []
  },
  {
   "cell_type": "markdown",
   "id": "16",
   "metadata": {},
   "source": [
    "6. **Strategic Slow Play**\n",
    "- **Condition**: `light == \"green\" and player_speed < max_speed`\n",
    "- **Boolean Expression**: `True`\n",
    "- **Action**: Move cautiously to avoid detection. 🐢"
   ]
  },
  {
   "cell_type": "code",
   "execution_count": null,
   "id": "17",
   "metadata": {},
   "outputs": [],
   "source": [
    "     if light == \"green\" and player_speed < max_speed:\n",
    "         print(\"Move carefully.\")"
   ]
  },
  {
   "cell_type": "markdown",
   "id": "18",
   "metadata": {},
   "source": []
  },
  {
   "cell_type": "markdown",
   "id": "19",
   "metadata": {},
   "source": [
    "7. **Player Distraction**\n",
    "- **Condition**: `player_focus == False`\n",
    "- **Boolean Expression**: `True`\n",
    "- **Action**: Risk of moving at the wrong moment increases. 😵"
   ]
  },
  {
   "cell_type": "code",
   "execution_count": null,
   "id": "20",
   "metadata": {},
   "outputs": [],
   "source": [
    "     if not player_focus:\n",
    "         print(\"Stay focused or you might move on red!\")"
   ]
  },
  {
   "cell_type": "markdown",
   "id": "21",
   "metadata": {},
   "source": []
  },
  {
   "cell_type": "markdown",
   "id": "22",
   "metadata": {},
   "source": [
    "8. **Game Over**\n",
    "- **Condition**: `all_players_eliminated == True`\n",
    "- **Boolean Expression**: `True`\n",
    "- **Action**: The game ends, and the prize remains unclaimed. 💀"
   ]
  },
  {
   "cell_type": "code",
   "execution_count": null,
   "id": "23",
   "metadata": {},
   "outputs": [],
   "source": [
    "     if all_players_eliminated:\n",
    "         print(\"Game over. No winners.\")"
   ]
  },
  {
   "cell_type": "markdown",
   "id": "24",
   "metadata": {},
   "source": [
    "\n",
    "---\n"
   ]
  },
  {
   "cell_type": "markdown",
   "id": "25",
   "metadata": {},
   "source": [
    "### Bonus: Game Master’s Control\n"
   ]
  },
  {
   "cell_type": "markdown",
   "id": "26",
   "metadata": {},
   "source": [
    "1. **Switch Light**\n",
    "- **Condition**: `game_master_switch == True`\n",
    "- **Boolean Expression**: `True`\n",
    "- **Action**: The light toggles between red and green. 🎛️"
   ]
  },
  {
   "cell_type": "code",
   "execution_count": null,
   "id": "27",
   "metadata": {},
   "outputs": [],
   "source": [
    "     if game_master_switch:\n",
    "         light = \"red\" if light == \"green\" else \"green\""
   ]
  },
  {
   "cell_type": "markdown",
   "id": "28",
   "metadata": {},
   "source": [
    "\n",
    "---\n",
    "\n",
    "This version adds a *Squid Game*-themed twist while keeping it logical and suspenseful. Let me know if you’d like more game elements! 😊"
   ]
  }
 ],
 "metadata": {
  "language_info": {
   "name": "python"
  }
 },
 "nbformat": 4,
 "nbformat_minor": 5
}
