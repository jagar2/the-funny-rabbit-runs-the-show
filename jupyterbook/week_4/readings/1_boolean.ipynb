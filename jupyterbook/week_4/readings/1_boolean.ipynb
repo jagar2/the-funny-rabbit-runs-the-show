{
 "cells": [
  {
   "cell_type": "markdown",
   "id": "0",
   "metadata": {},
   "source": [
    "# 📖 Boolean: *Squid Game* Red Light, Green Light Edition 🦑🚥\n",
    "\n",
    "![](./assets/figures/red-light-green-light.jpeg)"
   ]
  },
  {
   "cell_type": "markdown",
   "id": "1",
   "metadata": {},
   "source": [
    ".. admonition:: Syntax\n",
    "    If statements in Python have the following syntax:\n",
    "\n",
    "    .. code-block:: python\n",
    "        if condition:\n",
    "            # code block\n",
    "        elif condition:\n",
    "            # code block\n",
    "        else:\n",
    "            # code block\n",
    "\n",
    "    The `elif` and `else` blocks are optional. You can have as many `elif` blocks as you want.\n",
    "\n",
    "    The `condition` is an expression that evaluates to `True` or `False`.\n",
    "\n",
    "    The code block is indented by tab or four spaces.\n",
    "\n",
    "```\n",
    "\n",
    "\n",
    "![](./assets/figures/tabvspaces.gif)"
   ]
  },
  {
   "cell_type": "markdown",
   "id": "2",
   "metadata": {},
   "source": [
    "1. Green Light: Move!\n",
    "- Condition: `light == \"green\"`\n",
    "- Boolean Expression: `True`\n",
    "- Action: Players can move forward. 🏃‍♂️💨"
   ]
  },
  {
   "cell_type": "code",
   "execution_count": null,
   "id": "3",
   "metadata": {},
   "outputs": [],
   "source": [
    "light = \"green\"\n",
    "\n",
    "if light == \"green\":\n",
    "    print(\"Move forward!\")"
   ]
  },
  {
   "cell_type": "markdown",
   "id": "4",
   "metadata": {},
   "source": [
    "2. Red Light: Stop!\n",
    "- Condition: `light == \"red\"`\n",
    "- Boolean Expression: `True`\n",
    "- Action: Players must freeze or face elimination. ❌"
   ]
  },
  {
   "cell_type": "code",
   "execution_count": null,
   "id": "5",
   "metadata": {},
   "outputs": [],
   "source": [
    "light = \"red\"\n",
    "\n",
    "if light == \"red\":\n",
    "    print(\"Freeze! Don't move.\")"
   ]
  },
  {
   "cell_type": "markdown",
   "id": "6",
   "metadata": {},
   "source": [
    "3. Caught Moving\n",
    "- Condition: `light == \"red\" and player_moving == True`\n",
    "- Boolean Expression: `True`\n",
    "- Action: Player is eliminated. 😱"
   ]
  },
  {
   "cell_type": "code",
   "execution_count": null,
   "id": "7",
   "metadata": {},
   "outputs": [],
   "source": [
    "player_moving = True\n",
    "\n",
    "if light == \"red\" and player_moving:\n",
    "    print(\"You’re eliminated!\")"
   ]
  },
  {
   "cell_type": "markdown",
   "id": "8",
   "metadata": {},
   "source": [
    "4. Safe Zone Reached\n",
    "- Condition: `player_position >= finish_line`\n",
    "- Boolean Expression: `True`\n",
    "- Action: Player wins the round! 🏆"
   ]
  },
  {
   "cell_type": "code",
   "execution_count": null,
   "id": "9",
   "metadata": {},
   "outputs": [],
   "source": [
    "player_position = 6\n",
    "finish_line = 5\n",
    "\n",
    "if player_position >= finish_line:\n",
    "    print(\"You made it to the finish line!\")"
   ]
  },
  {
   "cell_type": "markdown",
   "id": "10",
   "metadata": {},
   "source": [
    "5. Time’s Up\n",
    "- Condition: `time_remaining <= 0 and player_position < finish_line`\n",
    "- Boolean Expression: `True`\n",
    "- Action: Player is eliminated for not finishing in time. ⏳❌"
   ]
  },
  {
   "cell_type": "code",
   "execution_count": null,
   "id": "11",
   "metadata": {},
   "outputs": [],
   "source": [
    "time_remaining = -1\n",
    "player_position = 4\n",
    "\n",
    "if time_remaining <= 0 and player_position < finish_line:\n",
    "    print(\"Out of time! You’re eliminated.\")"
   ]
  },
  {
   "cell_type": "markdown",
   "id": "12",
   "metadata": {},
   "source": [
    "6. Strategic Slow Play\n",
    "- Condition: `light == \"green\" and player_speed < max_speed`\n",
    "- Boolean Expression: `True`\n",
    "- Action: Move cautiously to avoid detection. 🐢"
   ]
  },
  {
   "cell_type": "code",
   "execution_count": null,
   "id": "13",
   "metadata": {},
   "outputs": [],
   "source": [
    "player_speed = 10\n",
    "max_speed = 20\n",
    "light = \"green\"\n",
    "\n",
    "if light == \"green\" and player_speed < max_speed:\n",
    "    print(\"Move carefully.\")"
   ]
  },
  {
   "cell_type": "markdown",
   "id": "14",
   "metadata": {},
   "source": [
    "7. Player Distraction\n",
    "- Condition: `player_focus == False`\n",
    "- Boolean Expression: `True`\n",
    "- Action: Risk of moving at the wrong moment increases. 😵"
   ]
  },
  {
   "cell_type": "code",
   "execution_count": null,
   "id": "15",
   "metadata": {},
   "outputs": [],
   "source": [
    "player_focus = False\n",
    "\n",
    "if not player_focus:\n",
    "    print(\"Stay focused or you might move on red!\")"
   ]
  },
  {
   "cell_type": "markdown",
   "id": "16",
   "metadata": {},
   "source": [
    "8. Game Over\n",
    "- Condition: `all_players_eliminated == True`\n",
    "- Boolean Expression: `True`\n",
    "- Action: The game ends, and the prize remains unclaimed. 💀"
   ]
  },
  {
   "cell_type": "code",
   "execution_count": null,
   "id": "17",
   "metadata": {},
   "outputs": [],
   "source": [
    "all_players_eliminated = True\n",
    "\n",
    "if all_players_eliminated:\n",
    "    print(\"Game over. No winners.\")"
   ]
  },
  {
   "cell_type": "markdown",
   "id": "18",
   "metadata": {},
   "source": [
    "9. Light Status Check\n",
    "\n",
    "Using if-else to handle both red and green lights in one block\n",
    "\n",
    "- Condition: `light == \"red\" or light == \"green\"`\n",
    "- Boolean Expression: `True`\n",
    "- Action: Players must stop or move based on the light status. 🚦"
   ]
  },
  {
   "cell_type": "code",
   "execution_count": null,
   "id": "19",
   "metadata": {},
   "outputs": [],
   "source": [
    "light = \"green\"\n",
    "\n",
    "if light == \"green\":\n",
    "    print(\"Move forward quickly!\")\n",
    "else:\n",
    "    print(\"Freeze immediately!\")"
   ]
  },
  {
   "cell_type": "markdown",
   "id": "20",
   "metadata": {},
   "source": [
    "10. Player Progress Check\n",
    "\n",
    "Using if-else to track player progress\n",
    "\n",
    "- Condition: `player_position < finish_line`\n",
    "- Boolean Expression: `True`\n",
    "- Action: Player must keep moving to reach the finish line. 🏃‍♂️"
   ]
  },
  {
   "cell_type": "code",
   "execution_count": null,
   "id": "21",
   "metadata": {},
   "outputs": [],
   "source": [
    "player_position = 3\n",
    "finish_line = 5\n",
    "\n",
    "if player_position >= finish_line:\n",
    "    print(\"Victory! You've survived the game!\")\n",
    "else:\n",
    "    print(f\"Keep moving! Still {finish_line - player_position} steps to go.\")"
   ]
  },
  {
   "cell_type": "markdown",
   "id": "22",
   "metadata": {},
   "source": [
    "11. Survival Status\n",
    "\n",
    "Using if-elif-else to handle multiple game states\n",
    "\n",
    "- Condition: `player_alive == True`\n",
    "- Boolean Expression: `True`\n",
    "- Action: Player can keep playing the game. 🎮\n",
    "\n",
    "- Condition: `player_alive == False`\n",
    "- Boolean Expression: `True`\n",
    "- Action: Player has been eliminated from the game. 💀\n",
    "\n",
    "- Condition: `all_players_eliminated == True`\n",
    "- Boolean Expression: `True`\n",
    "- Action: The game ends, and the prize remains unclaimed. 💀\n"
   ]
  },
  {
   "cell_type": "code",
   "execution_count": null,
   "id": "23",
   "metadata": {},
   "outputs": [],
   "source": [
    "player_alive = True\n",
    "reached_finish = False\n",
    "\n",
    "if not player_alive:\n",
    "    print(\"Game Over - You've been eliminated!\")\n",
    "elif reached_finish:\n",
    "    print(\"Congratulations - You've won the prize!\")\n",
    "else:\n",
    "    print(\"Stay alive and keep moving!\")"
   ]
  },
  {
   "cell_type": "markdown",
   "id": "24",
   "metadata": {},
   "source": [
    "12. Movement Speed Check\n",
    "Using if-elif-else to determine player's movement strategy"
   ]
  },
  {
   "cell_type": "code",
   "execution_count": null,
   "id": "25",
   "metadata": {},
   "outputs": [],
   "source": [
    "player_speed = 15\n",
    "max_speed = 20\n",
    "min_speed = 5\n",
    "\n",
    "if player_speed > max_speed:\n",
    "    print(\"Too fast! You'll have trouble stopping on red light!\")\n",
    "elif player_speed < min_speed:\n",
    "    print(\"Too slow! You'll run out of time!\")\n",
    "else:\n",
    "    print(\"Good pace! Keep this speed.\")"
   ]
  },
  {
   "cell_type": "markdown",
   "id": "26",
   "metadata": {},
   "source": [
    "13. Game Status Update\n",
    "Using if-elif-else to show game progress"
   ]
  },
  {
   "cell_type": "code",
   "execution_count": null,
   "id": "27",
   "metadata": {},
   "outputs": [],
   "source": [
    "players_remaining = 100\n",
    "total_players = 456\n",
    "eliminated_players = total_players - players_remaining\n",
    "\n",
    "if eliminated_players == total_players:\n",
    "    print(\"Game Over - No survivors!\")\n",
    "elif eliminated_players == 0:\n",
    "    print(\"Game Just Started - All players still in!\")\n",
    "else:\n",
    "    print(f\"Game In Progress - {players_remaining} players remaining.\")"
   ]
  },
  {
   "cell_type": "markdown",
   "id": "28",
   "metadata": {},
   "source": [
    "14. Risk Assessment\n",
    "Using nested if-else for complex game situations"
   ]
  },
  {
   "cell_type": "code",
   "execution_count": null,
   "id": "29",
   "metadata": {},
   "outputs": [],
   "source": [
    "distance_to_finish = 10\n",
    "time_remaining = 30\n",
    "light = \"green\"\n",
    "\n",
    "if light == \"green\":\n",
    "    if distance_to_finish > time_remaining:\n",
    "        print(\"Warning: You might not make it in time!\")\n",
    "    else:\n",
    "        print(\"You're on track to finish!\")\n",
    "else:\n",
    "    if player_moving:\n",
    "        print(\"Eliminated - Movement detected on red light!\")\n",
    "    else:\n",
    "        print(\"Good - Standing still on red light.\")"
   ]
  },
  {
   "cell_type": "markdown",
   "id": "30",
   "metadata": {},
   "source": [
    "## Red Light, Green Light: Understanding `==` vs `is` in Python 🚦\n"
   ]
  },
  {
   "cell_type": "markdown",
   "id": "31",
   "metadata": {},
   "source": [
    "### 🟥 `==` (Equality): Red Light\n",
    "- Checks value equality.\n",
    "- Compares if two objects have the same value, regardless of whether they are the same object in memory.\n",
    "- Use it when you care about what's inside the objects being compared.\n",
    "\n",
    "📖 Example:"
   ]
  },
  {
   "cell_type": "code",
   "execution_count": null,
   "id": "32",
   "metadata": {},
   "outputs": [],
   "source": [
    "a = [1, 2, 3]\n",
    "b = [1, 2, 3]\n",
    "\n",
    "print(a == b)  # True, because their values are equal"
   ]
  },
  {
   "cell_type": "markdown",
   "id": "33",
   "metadata": {},
   "source": [
    "### 🟩 `is` (Identity): Green Light\n",
    "- Checks object identity.\n",
    "- Compares if two objects are the same object in memory.\n",
    "- Use it when you care about whether they’re literally the same object.\n",
    "\n",
    "📖 Example:"
   ]
  },
  {
   "cell_type": "code",
   "execution_count": null,
   "id": "34",
   "metadata": {},
   "outputs": [],
   "source": [
    "a = [1, 2, 3]\n",
    "b = [1, 2, 3]\n",
    "\n",
    "print(a is b)  # False, because they are different objects in memory"
   ]
  },
  {
   "cell_type": "markdown",
   "id": "35",
   "metadata": {},
   "source": [
    "### 🚨 Common Pitfall: Strings and Small Integers\n",
    "Python sometimes optimizes memory by reusing objects for immutable types like strings and small integers. This can lead to surprising results with `is`.\n",
    "\n",
    "📖 Example:"
   ]
  },
  {
   "cell_type": "code",
   "execution_count": null,
   "id": "36",
   "metadata": {},
   "outputs": [],
   "source": [
    "x = \"hello\"\n",
    "y = \"hello\"\n",
    "\n",
    "print(x is y)  # True, because of string interning"
   ]
  },
  {
   "cell_type": "markdown",
   "id": "37",
   "metadata": {},
   "source": [
    "\n",
    "But…\n"
   ]
  },
  {
   "cell_type": "code",
   "execution_count": null,
   "id": "38",
   "metadata": {},
   "outputs": [],
   "source": [
    "x = [1, 2, 3]\n",
    "y = [1, 2, 3]\n",
    "\n",
    "print(x is y)  # False, because lists are mutable and stored separately"
   ]
  },
  {
   "cell_type": "markdown",
   "id": "39",
   "metadata": {},
   "source": [
    "### TL;DR 📝\n",
    "- Use `==` for comparing values.\n",
    "- Use `is` for comparing identity (memory location).\n",
    "- If in doubt, think: \"Am I checking the content or the container?\"\n",
    "\n",
    "⚡ Pro Tip: In Python, mutable objects like lists, dicts, and sets behave differently from immutable ones like strings, tuples, and numbers when it comes to identity! 🧠"
   ]
  },
  {
   "cell_type": "markdown",
   "id": "40",
   "metadata": {},
   "source": [
    "### Bonus: Game Master’s Control\n"
   ]
  },
  {
   "cell_type": "markdown",
   "id": "41",
   "metadata": {},
   "source": [
    "1. Switch Light\n",
    "- Condition: `game_master_switch == True`\n",
    "- Boolean Expression: `True`\n",
    "- Action: The light toggles between red and green. 🎛️"
   ]
  },
  {
   "cell_type": "code",
   "execution_count": null,
   "id": "42",
   "metadata": {},
   "outputs": [],
   "source": [
    "game_master_switch = True\n",
    "\n",
    "if game_master_switch:\n",
    "    light = \"red\" if light == \"green\" else \"green\"\n",
    "\n",
    "print(light)"
   ]
  }
 ],
 "metadata": {
  "kernelspec": {
   "display_name": "engr131_dev",
   "language": "python",
   "name": "python3"
  },
  "language_info": {
   "codemirror_mode": {
    "name": "ipython",
    "version": 3
   },
   "file_extension": ".py",
   "mimetype": "text/x-python",
   "name": "python",
   "nbconvert_exporter": "python",
   "pygments_lexer": "ipython3",
   "version": "3.12.7"
  }
 },
 "nbformat": 4,
 "nbformat_minor": 5
}
