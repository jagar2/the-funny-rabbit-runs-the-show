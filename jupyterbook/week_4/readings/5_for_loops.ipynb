{
 "cells": [
  {
   "cell_type": "markdown",
   "id": "0",
   "metadata": {},
   "source": [
    "# 📖 🟡 For Loops in Python: Pac-Man Style\n",
    "\n",
    "<iframe width=\"560\" height=\"315\" src=\"https://www.youtube.com/embed/_w6dAE8T0II?si=80pCaDqfbz7d0Rh-\" title=\"YouTube video player\" frameborder=\"0\" allow=\"accelerometer; autoplay; clipboard-write; encrypted-media; gyroscope; picture-in-picture; web-share\" referrerpolicy=\"strict-origin-when-cross-origin\" allowfullscreen></iframe>\n",
    "\n",
    "_\"For loops are like Pac-Man—each pellet is processed one by one until the board is cleared.\"_\n",
    "\n",
    "In Python, for loops are the workhorses of repetitive tasks. They let you iterate over sequences (like lists, strings, or ranges) and handle each element, one by one—just like Pac-Man chomping pellets on his board. 🟡👾\n",
    "\n",
    "Let’s dive into the world of for loops and see how they work, Pac-Man style. Ready? Let’s clear the board! 🎮✨\n",
    "\n",
    "## 🎮 What is a For Loop?\n",
    "\n",
    "A for loop is Python’s way of saying:  \n",
    "_\"Hey Pac-Man, here’s the board. Go ahead and chomp one pellet at a time until there’s nothing left.\"_\n",
    "\n",
    "It repeats a block of code for every item in a sequence—whether it’s a list of dots, a line of text, or even a series of numbers.\n",
    "\n",
    "### Pac-Man’s Code Template:"
   ]
  },
  {
   "cell_type": "code",
   "execution_count": null,
   "id": "1",
   "metadata": {},
   "outputs": [],
   "source": [
    "def do_something_with(pellet):\n",
    "    print(\"🟡\", pellet)\n",
    "\n",
    "\n",
    "sequence = [\"🍎\", \"🍌\", \"🍒\", \"🌴\", \"🍇\"]\n",
    "\n",
    "for pellet in sequence:\n",
    "    # Process each pellet (or item)\n",
    "    do_something_with(pellet)"
   ]
  },
  {
   "cell_type": "markdown",
   "id": "2",
   "metadata": {},
   "source": [
    "<iframe width=\"800\" height=\"500\" frameborder=\"0\" src=\"https://pythontutor.com/iframe-embed.html#code=def%20do_something_with%28pellet%29%3A%0A%20%20%20%20print%28%22%F0%9F%9F%A1%22,%20pellet%29%0A%20%20%20%20%0Asequence%20%3D%20%5B%22%F0%9F%8D%8E%22,%20%22%F0%9F%8D%8C%22,%20%22%F0%9F%8D%92%22,%20%22%F0%9F%8C%B4%22,%20%22%F0%9F%8D%87%22%5D%0A%0Afor%20pellet%20in%20sequence%3A%0A%20%20%20%20%23%20Process%20each%20pellet%20%28or%20item%29%0A%20%20%20%20do_something_with%28pellet%29&codeDivHeight=400&codeDivWidth=350&cumulative=false&curInstr=0&heapPrimitives=nevernest&origin=opt-frontend.js&py=311&rawInputLstJSON=%5B%5D&textReferences=false\"> </iframe>"
   ]
  },
  {
   "cell_type": "markdown",
   "id": "3",
   "metadata": {},
   "source": [
    "- `pellet`: A variable that represents the current item (just like the pellet Pac-Man is chomping).\n",
    "- `sequence`: The series of items (like all the pellets on the board).\n",
    "- `do_something_with(pellet)`: The action Pac-Man takes for each pellet—like eating it! 🍴\n",
    "\n",
    "## 🍒 Example 1: Pac-Man Eating Dots\n",
    "\n",
    "![](./assets/figures/pac-man2.jpg)\n",
    "\n",
    "Let’s simulate Pac-Man clearing the board by eating dots:"
   ]
  },
  {
   "cell_type": "code",
   "execution_count": null,
   "id": "4",
   "metadata": {},
   "outputs": [],
   "source": [
    "dots = [\"🍎\", \"🍌\", \"🍒\", \"🌴\", \"🍇\"]\n",
    "\n",
    "for dot in dots:\n",
    "    print(f\"Pac-Man eats {dot}\")"
   ]
  },
  {
   "cell_type": "markdown",
   "id": "5",
   "metadata": {},
   "source": [
    "🎯 Key Idea: The loop automatically moves Pac-Man to the next dot in the sequence until all the dots are gone.\n",
    "\n",
    "## 🟡 Processing a Range of Pellets\n",
    "\n",
    "Sometimes Pac-Man’s board isn’t preloaded with a sequence. Instead, you want him to eat a specific number of pellets. Enter the `range()` function.\n",
    "\n",
    "### Example 2: Eating 10 Pellets in Order"
   ]
  },
  {
   "cell_type": "code",
   "execution_count": null,
   "id": "6",
   "metadata": {},
   "outputs": [],
   "source": [
    "for pellet in range(1, 11):  # Numbers 1 to 10\n",
    "    print(f\"Pac-Man eats pellet #{pellet}\")"
   ]
  },
  {
   "cell_type": "markdown",
   "id": "7",
   "metadata": {},
   "source": [
    "🎯 Key Idea: The `range(start, end)` function generates numbers from `start` to `end - 1`. Pac-Man chomps through the numbers as if they were pellets.\n",
    "\n",
    "## 🍓 Customizing the Step Size\n",
    "\n",
    "Pac-Man doesn’t always eat every pellet in order. Sometimes he skips over pellets (perhaps because of a power-up or ghost avoidance). You can customize the step size in the `range()` function.\n",
    "\n",
    "### Example 3: Skipping Every Other Pellet"
   ]
  },
  {
   "cell_type": "code",
   "execution_count": null,
   "id": "8",
   "metadata": {},
   "outputs": [],
   "source": [
    "for pellet in range(1, 11, 2):  # Start at 1, go up to 10, step by 2\n",
    "    print(f\"Pac-Man eats pellet #{pellet}\")"
   ]
  },
  {
   "cell_type": "markdown",
   "id": "9",
   "metadata": {},
   "source": [
    "🎯 Key Idea: The third argument in `range(start, end, step)` tells Pac-Man how far to move after each pellet.\n",
    "\n",
    "## 👾 Chomping Through Ghosts: Nested For Loops\n",
    "\n",
    "![](./assets/figures/pac-man1.jpg)\n",
    "\n",
    "What happens when Pac-Man needs to clear multiple boards—or handle more than just dots? You can use nested loops for complex tasks, like clearing multiple levels or interacting with ghosts and fruits.\n",
    "\n",
    "### Example 4: Pac-Man Clearing Two Boards"
   ]
  },
  {
   "cell_type": "code",
   "execution_count": null,
   "id": "10",
   "metadata": {},
   "outputs": [],
   "source": [
    "boards = [[\"🍎\", \"🍌\", \"🍒\"], [\"🌴\", \"🍇\", \"🍉\"]]\n",
    "\n",
    "for board in boards:\n",
    "    print(\"🆕 New board!\")\n",
    "    for dot in board:\n",
    "        print(f\"Pac-Man eats {dot}\")"
   ]
  },
  {
   "cell_type": "markdown",
   "id": "11",
   "metadata": {},
   "source": [
    "Pay attention to how the nested lists and loops work together:\n",
    "\n",
    "<iframe width=\"800\" height=\"500\" frameborder=\"0\" src=\"https://pythontutor.com/iframe-embed.html#code=boards%20%3D%20%5B%5B%22%F0%9F%8D%8E%22,%20%22%F0%9F%8D%8C%22,%20%22%F0%9F%8D%92%22%5D,%20%5B%22%F0%9F%8C%B4%22,%20%22%F0%9F%8D%87%22,%20%22%F0%9F%8D%89%22%5D%5D%0A%0Afor%20board%20in%20boards%3A%0A%20%20%20%20print%28%22%F0%9F%86%95%20New%20board!%22%29%0A%20%20%20%20for%20dot%20in%20board%3A%0A%20%20%20%20%20%20%20%20print%28f%22Pac-Man%20eats%20%7Bdot%7D%22%29&codeDivHeight=400&codeDivWidth=350&cumulative=false&curInstr=0&heapPrimitives=nevernest&origin=opt-frontend.js&py=311&rawInputLstJSON=%5B%5D&textReferences=false\"> </iframe>\n",
    "\n",
    "🎯 Key Idea: Nested loops allow Pac-Man to handle multiple levels of complexity, such as looping through each board and then processing each dot.\n",
    "\n",
    "## 🍊 Breaking the Loop: Avoiding Ghosts\n",
    "\n",
    "Pac-Man doesn’t always need to eat all the pellets—sometimes he spots a ghost and needs to escape. You can use the `break` statement to stop the loop early.\n",
    "\n",
    "### Example 5: Pac-Man Escapes Ghosts"
   ]
  },
  {
   "cell_type": "code",
   "execution_count": null,
   "id": "12",
   "metadata": {},
   "outputs": [],
   "source": [
    "dots = [\"🍎\", \"🍌\", \"👻\", \"🍒\"]\n",
    "\n",
    "for dot in dots:\n",
    "    if dot == \"👻\":\n",
    "        print(\"Pac-Man sees a 👻 and runs away!\")\n",
    "        break\n",
    "    print(f\"Pac-Man eats {dot}\")"
   ]
  },
  {
   "cell_type": "markdown",
   "id": "13",
   "metadata": {},
   "source": [
    "<iframe width=\"800\" height=\"500\" frameborder=\"0\" src=\"https://pythontutor.com/iframe-embed.html#code=dots%20%3D%20%5B%22%F0%9F%8D%8E%22,%20%22%F0%9F%8D%8C%22,%20%22%F0%9F%91%BB%22,%20%22%F0%9F%8D%92%22%5D%0A%0Afor%20dot%20in%20dots%3A%0A%20%20%20%20if%20dot%20%3D%3D%20%22%F0%9F%91%BB%22%3A%0A%20%20%20%20%20%20%20%20print%28%22Pac-Man%20sees%20a%20%F0%9F%91%BB%20and%20runs%20away!%22%29%0A%20%20%20%20%20%20%20%20break%0A%20%20%20%20print%28f%22Pac-Man%20eats%20%7Bdot%7D%22%29&codeDivHeight=400&codeDivWidth=350&cumulative=false&curInstr=0&heapPrimitives=nevernest&origin=opt-frontend.js&py=311&rawInputLstJSON=%5B%5D&textReferences=false\"> </iframe>\n",
    "\n",
    "🎯 Key Idea: The `break` statement immediately stops the loop, just like Pac-Man avoiding danger.\n",
    "\n",
    "## 🍒 Skipping Pellets: Ignoring Power Pellets\n",
    "\n",
    "![](./assets/figures/pac-man3.jpg)\n",
    "\n",
    "Sometimes Pac-Man doesn’t want to eat certain pellets (maybe he’s saving a power pellet for later). You can use the `continue` statement to skip over specific items in the loop.\n",
    "\n",
    "### Example 6: Skipping Power Pellets"
   ]
  },
  {
   "cell_type": "code",
   "execution_count": null,
   "id": "14",
   "metadata": {},
   "outputs": [],
   "source": [
    "dots = [\"🍎\", \"💪\", \"🍌\", \"🍒\"]\n",
    "\n",
    "for dot in dots:\n",
    "    if dot == \"💪\":\n",
    "        print(\"Pac-Man skips the power pellet.\")\n",
    "        continue\n",
    "    print(f\"Pac-Man eats {dot}\")"
   ]
  },
  {
   "cell_type": "markdown",
   "id": "15",
   "metadata": {},
   "source": [
    "<iframe width=\"800\" height=\"500\" frameborder=\"0\" src=\"https://pythontutor.com/iframe-embed.html#code=dots%20%3D%20%5B%22%F0%9F%8D%8E%22,%20%22%F0%9F%92%AA%22,%20%22%F0%9F%8D%8C%22,%20%22%F0%9F%8D%92%22%5D%0A%0Afor%20dot%20in%20dots%3A%0A%20%20%20%20if%20dot%20%3D%3D%20%22%F0%9F%92%AA%22%3A%0A%20%20%20%20%20%20%20%20print%28%22Pac-Man%20skips%20the%20power%20pellet.%22%29%0A%20%20%20%20%20%20%20%20continue%0A%20%20%20%20print%28f%22Pac-Man%20eats%20%7Bdot%7D%22%29&codeDivHeight=400&codeDivWidth=350&cumulative=false&curInstr=0&heapPrimitives=nevernest&origin=opt-frontend.js&py=311&rawInputLstJSON=%5B%5D&textReferences=false\"> </iframe>\n",
    "\n",
    "🎯 Key Idea: The `continue` statement skips the rest of the current iteration but doesn’t stop the loop.\n",
    "\n",
    "## 🌟 Real-Life Pac-Man: Iterating Over Strings\n",
    "\n",
    "![](./assets/figures/pacmanfever-pacman.gif)\n",
    "\n",
    "For loops aren’t just for lists or numbers—they work with strings too. Imagine Pac-Man chomping through the letters of a word.\n",
    "\n",
    "### Example 7: Pac-Man Eats a String"
   ]
  },
  {
   "cell_type": "code",
   "execution_count": null,
   "id": "16",
   "metadata": {},
   "outputs": [],
   "source": [
    "word = \"Pac-Man\"\n",
    "\n",
    "for letter in word:\n",
    "    print(f\"Pac-Man eats the letter '{letter}'\")"
   ]
  },
  {
   "cell_type": "markdown",
   "id": "17",
   "metadata": {},
   "source": [
    "🎯 Key Idea: Strings are sequences, so you can loop through each character one at a time.\n",
    "\n",
    "## 🎬 Conclusion: For Loops Clear the Board\n",
    "\n",
    "Just like Pac-Man chomping pellets one by one, for loops let you process every item in a sequence until there’s nothing left. They’re powerful, flexible, and perfect for a wide variety of tasks.\n",
    "\n",
    "### 🚀 Key Takeaways:\n",
    "\n",
    "1. For Each Item: A `for` loop processes items one at a time, like Pac-Man clearing pellets.\n",
    "2. Range Control: Use `range()` to loop through numbers, customize the start, end, and step size.\n",
    "3. Nested Loops: Handle complex scenarios, like multiple boards or levels.\n",
    "4. Break and Continue: Stop or skip parts of the loop when needed, like avoiding ghosts or saving power pellets.\n",
    "5. Strings and More: Loop through any sequence, from lists to strings and beyond.\n",
    "\n",
    "With Python’s `for` loops, you’ll always have the tools to clear the board—no ghosts required. 👾✨\n",
    "\n",
    "Let me know if you’d like more examples or a deeper dive into advanced loop concepts! 😊"
   ]
  }
 ],
 "metadata": {
  "jupytext": {
   "cell_metadata_filter": "-all",
   "main_language": "python",
   "notebook_metadata_filter": "-all"
  },
  "kernelspec": {
   "display_name": "engr131_dev",
   "language": "python",
   "name": "python3"
  },
  "language_info": {
   "codemirror_mode": {
    "name": "ipython",
    "version": 3
   },
   "file_extension": ".py",
   "mimetype": "text/x-python",
   "name": "python",
   "nbconvert_exporter": "python",
   "pygments_lexer": "ipython3",
   "version": "3.12.7"
  }
 },
 "nbformat": 4,
 "nbformat_minor": 5
}
