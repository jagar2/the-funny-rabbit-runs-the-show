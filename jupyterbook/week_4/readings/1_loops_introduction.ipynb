{
 "cells": [
  {
   "cell_type": "markdown",
   "id": "0",
   "metadata": {},
   "source": [
    "# 🤖 **Loops in Python: Westworld Edition**\n",
    "\n",
    "_\"Repeating the same storylines until someone breaks the code (or the loop).\"_\n",
    "\n",
    "In Python, **loops** are the programming equivalent of **Westworld’s hosts**—they repeat the same tasks over and over, like scripted storylines in the park. Whether it's reliving a day in Sweetwater or printing the same statement 100 times, loops execute a block of code until someone (you, the programmer) **breaks the loop** or stops the story.\n",
    "\n",
    "Let’s dive into the world of loops and learn how to control them—just like the architects of Westworld! 🚂✨"
   ]
  },
  {
   "cell_type": "markdown",
   "id": "1",
   "metadata": {},
   "source": [
    "## 🎡 **What are Loops?**\n",
    "\n",
    "Loops let you **repeat a block of code** multiple times without writing it manually. In Westworld terms, they’re like the hosts’ **programmed narratives**—a repeating cycle of events that only changes if something disrupts the loop.\n",
    "\n",
    "In Python, we have two main types of loops:\n"
   ]
  },
  {
   "cell_type": "markdown",
   "id": "2",
   "metadata": {},
   "source": [
    "1. **`for` loops**: Like a structured storyline, they know exactly how many times to repeat."
   ]
  },
  {
   "cell_type": "markdown",
   "id": "3",
   "metadata": {},
   "source": [
    "2. **`while` loops**: Like an open-world narrative, they keep going until a specific condition changes."
   ]
  },
  {
   "cell_type": "markdown",
   "id": "4",
   "metadata": {},
   "source": [
    "## 🎭 **The `for` Loop: The Structured Narrative**\n",
    "\n",
    "A `for` loop is like a programmed storyline in Westworld—predictable, pre-scripted, and designed to run a set number of times.\n"
   ]
  },
  {
   "cell_type": "markdown",
   "id": "5",
   "metadata": {},
   "source": [
    "### Example: Hosts Serving Drinks in Sweetwater\n"
   ]
  },
  {
   "cell_type": "code",
   "execution_count": null,
   "id": "6",
   "metadata": {},
   "outputs": [],
   "source": [
    "for drink in [\"Whiskey\", \"Gin\", \"Beer\"]:\n",
    "    print(f\"Host serves {drink}\")"
   ]
  },
  {
   "cell_type": "markdown",
   "id": "7",
   "metadata": {},
   "source": [
    "### Output:\n",
    "\n",
    "```\n",
    "Host serves Whiskey\n",
    "Host serves Gin\n",
    "Host serves Beer\n",
    "```\n",
    "\n",
    "Here’s what happens:\n"
   ]
  },
  {
   "cell_type": "markdown",
   "id": "8",
   "metadata": {},
   "source": [
    "1. The loop iterates over the **list of drinks**."
   ]
  },
  {
   "cell_type": "markdown",
   "id": "9",
   "metadata": {},
   "source": [
    "2. Each iteration assigns a drink (e.g., \"Whiskey\") to the variable `drink`."
   ]
  },
  {
   "cell_type": "markdown",
   "id": "10",
   "metadata": {},
   "source": [
    "3. The host (the loop) serves the drink.\n",
    "\n",
    "🎯 **Key Idea**: A `for` loop runs **once for each item** in a sequence (like a list or range). It’s predictable, just like Sweetwater’s daily events."
   ]
  },
  {
   "cell_type": "markdown",
   "id": "11",
   "metadata": {},
   "source": [
    "### 🎢 Iterating Over a Range of Numbers\n",
    "\n",
    "Let’s simulate the hosts interacting with 5 guests:\n"
   ]
  },
  {
   "cell_type": "code",
   "execution_count": null,
   "id": "12",
   "metadata": {},
   "outputs": [],
   "source": [
    "for guest in range(1, 6):  # Numbers 1 to 5\n",
    "    print(f\"Host greets Guest #{guest}\")"
   ]
  },
  {
   "cell_type": "markdown",
   "id": "13",
   "metadata": {},
   "source": [
    "### Output:\n",
    "\n",
    "```\n",
    "Host greets Guest #1\n",
    "Host greets Guest #2\n",
    "Host greets Guest #3\n",
    "Host greets Guest #4\n",
    "Host greets Guest #5\n",
    "```\n",
    "\n",
    "🎯 **Key Idea**: `range(start, end)` creates a sequence of numbers for the loop to iterate over. It’s like the host greeting a fixed number of guests at the park gates."
   ]
  },
  {
   "cell_type": "markdown",
   "id": "14",
   "metadata": {},
   "source": [
    "## 🤖 **The `while` Loop: The Open-World Narrative**\n",
    "\n",
    "A `while` loop is like Westworld’s **unstructured storylines**—it keeps running until a specific condition changes, giving it a sense of freedom. But beware: without a way to stop, it can **run forever** (like a host stuck in a malfunctioning narrative 😱).\n"
   ]
  },
  {
   "cell_type": "markdown",
   "id": "15",
   "metadata": {},
   "source": [
    "### Example: Hosts Working Until Guests Leave\n"
   ]
  },
  {
   "cell_type": "code",
   "execution_count": null,
   "id": "16",
   "metadata": {},
   "outputs": [],
   "source": [
    "guests_in_park = 5\n",
    "\n",
    "while guests_in_park > 0:\n",
    "    print(f\"Host assists a guest. {guests_in_park} guests remaining.\")\n",
    "    guests_in_park -= 1  # A guest leaves the park"
   ]
  },
  {
   "cell_type": "markdown",
   "id": "17",
   "metadata": {},
   "source": []
  },
  {
   "cell_type": "markdown",
   "id": "18",
   "metadata": {},
   "source": [
    "### Output:\n",
    "\n",
    "```\n",
    "Host assists a guest. 5 guests remaining.\n",
    "Host assists a guest. 4 guests remaining.\n",
    "Host assists a guest. 3 guests remaining.\n",
    "Host assists a guest. 2 guests remaining.\n",
    "Host assists a guest. 1 guests remaining.\n",
    "```\n",
    "\n",
    "🎯 **Key Idea**: The `while` loop keeps running as long as the condition (`guests_in_park > 0`) is true. It stops when the condition is false (no guests left)."
   ]
  },
  {
   "cell_type": "markdown",
   "id": "19",
   "metadata": {},
   "source": [
    "### ⚠️ Beware of Infinite Loops: Hosts Gone Rogue\n",
    "\n",
    "If you don’t **update the condition**, the loop might run forever—like a rogue host endlessly repeating their tasks!\n"
   ]
  },
  {
   "cell_type": "code",
   "execution_count": null,
   "id": "20",
   "metadata": {},
   "outputs": [],
   "source": [
    "guests_in_park = 5\n",
    "\n",
    "while guests_in_park > 0:\n",
    "    print(f\"Host assists a guest. {guests_in_park} guests remaining.\")\n",
    "    # Oops! We forgot to update `guests_in_park`!"
   ]
  },
  {
   "cell_type": "markdown",
   "id": "21",
   "metadata": {},
   "source": [
    "\n",
    "This will keep printing the same message forever (or until you manually stop the program).\n",
    "\n",
    "💡 **Pro Tip**: Always make sure the condition in your `while` loop will eventually become `False`. Otherwise, you’ll end up with an endless loop—just like Westworld’s glitches."
   ]
  },
  {
   "cell_type": "markdown",
   "id": "22",
   "metadata": {},
   "source": [
    "## 🎮 **Breaking the Loop: Taking Control**\n",
    "\n",
    "What happens when you need to break free from a loop early, like a host gaining consciousness? You can use the **`break`** statement to terminate a loop, even if its condition hasn’t been met yet.\n"
   ]
  },
  {
   "cell_type": "markdown",
   "id": "23",
   "metadata": {},
   "source": [
    "### Example: Hosts Breaking the Cycle\n"
   ]
  },
  {
   "cell_type": "code",
   "execution_count": null,
   "id": "24",
   "metadata": {},
   "outputs": [],
   "source": [
    "for guest in range(1, 6):\n",
    "    if guest == 3:  # A rogue guest disrupts the loop\n",
    "        print(\"Rogue guest detected! Stopping the loop.\")\n",
    "        break\n",
    "    print(f\"Host greets Guest #{guest}\")"
   ]
  },
  {
   "cell_type": "markdown",
   "id": "25",
   "metadata": {},
   "source": []
  },
  {
   "cell_type": "markdown",
   "id": "26",
   "metadata": {},
   "source": [
    "### Output:\n",
    "\n",
    "```\n",
    "Host greets Guest #1\n",
    "Host greets Guest #2\n",
    "Rogue guest detected! Stopping the loop.\n",
    "```\n",
    "\n",
    "🎯 **Key Idea**: The `break` statement immediately stops the loop, no matter where it is in the sequence."
   ]
  },
  {
   "cell_type": "markdown",
   "id": "27",
   "metadata": {},
   "source": [
    "## 🎭 **Skipping Iterations: The `continue` Statement**\n",
    "\n",
    "Sometimes, you don’t want to stop the loop entirely—you just want to **skip one iteration**. Use the **`continue`** statement to jump to the next iteration.\n"
   ]
  },
  {
   "cell_type": "markdown",
   "id": "28",
   "metadata": {},
   "source": [
    "### Example: Hosts Ignoring VIPs\n"
   ]
  },
  {
   "cell_type": "code",
   "execution_count": null,
   "id": "29",
   "metadata": {},
   "outputs": [],
   "source": [
    "for guest in range(1, 6):\n",
    "    if guest == 3:  # Guest #3 is a VIP\n",
    "        print(\"Skipping VIP Guest #3\")\n",
    "        continue\n",
    "    print(f\"Host assists Guest #{guest}\")"
   ]
  },
  {
   "cell_type": "markdown",
   "id": "30",
   "metadata": {},
   "source": []
  },
  {
   "cell_type": "markdown",
   "id": "31",
   "metadata": {},
   "source": [
    "### Output:\n",
    "\n",
    "```\n",
    "Host assists Guest #1\n",
    "Host assists Guest #2\n",
    "Skipping VIP Guest #3\n",
    "Host assists Guest #4\n",
    "Host assists Guest #5\n",
    "```\n",
    "\n",
    "🎯 **Key Idea**: The `continue` statement skips the rest of the current iteration but doesn’t stop the loop entirely."
   ]
  },
  {
   "cell_type": "markdown",
   "id": "32",
   "metadata": {},
   "source": [
    "## 🎨 **Nested Loops: Hosts Within Hosts**\n",
    "\n",
    "Sometimes, you need loops inside loops—just like hosts interacting with other hosts in nested storylines.\n"
   ]
  },
  {
   "cell_type": "markdown",
   "id": "33",
   "metadata": {},
   "source": [
    "### Example: Sweetwater Hosts Serving Drinks to Tables\n"
   ]
  },
  {
   "cell_type": "code",
   "execution_count": null,
   "id": "34",
   "metadata": {},
   "outputs": [],
   "source": [
    "for table in range(1, 4):  # 3 tables\n",
    "    for guest in range(1, 3):  # 2 guests per table\n",
    "        print(f\"Host serves Guest #{guest} at Table #{table}\")"
   ]
  },
  {
   "cell_type": "markdown",
   "id": "35",
   "metadata": {},
   "source": []
  },
  {
   "cell_type": "markdown",
   "id": "36",
   "metadata": {},
   "source": [
    "### Output:\n",
    "\n",
    "```\n",
    "Host serves Guest #1 at Table #1\n",
    "Host serves Guest #2 at Table #1\n",
    "Host serves Guest #1 at Table #2\n",
    "Host serves Guest #2 at Table #2\n",
    "Host serves Guest #1 at Table #3\n",
    "Host serves Guest #2 at Table #3\n",
    "```\n",
    "\n",
    "🎯 **Key Idea**: Use nested loops to handle complex scenarios, like multiple levels of interactions."
   ]
  },
  {
   "cell_type": "markdown",
   "id": "37",
   "metadata": {},
   "source": [
    "## 🌌 **Wrap-Up: Loops in Python**\n",
    "\n",
    "Loops are the **repeating storylines** of your code, running again and again until the conditions change or you break free. Whether you’re structuring predictable narratives with `for` loops or exploring open-world freedom with `while` loops, mastering loops gives you the power to control the flow of your programs.\n"
   ]
  },
  {
   "cell_type": "markdown",
   "id": "38",
   "metadata": {},
   "source": [
    "### 🚨 Key Takeaways:\n"
   ]
  },
  {
   "cell_type": "markdown",
   "id": "39",
   "metadata": {},
   "source": [
    "1. **`for` Loops**: Repeat tasks for a known sequence of items."
   ]
  },
  {
   "cell_type": "markdown",
   "id": "40",
   "metadata": {},
   "source": [
    "2. **`while` Loops**: Repeat tasks until a condition changes."
   ]
  },
  {
   "cell_type": "markdown",
   "id": "41",
   "metadata": {},
   "source": [
    "3. **`break`**: Escape the loop early (like a rogue host breaking free)."
   ]
  },
  {
   "cell_type": "markdown",
   "id": "42",
   "metadata": {},
   "source": [
    "4. **`continue`**: Skip to the next iteration without stopping the loop."
   ]
  },
  {
   "cell_type": "markdown",
   "id": "43",
   "metadata": {},
   "source": [
    "5. **Nested Loops**: Handle complex, multi-level tasks.\n",
    "\n",
    "With great power comes great responsibility—use loops wisely, and don’t let them run forever (unless you're programming the next Westworld). 🤖✨\n",
    "\n",
    "🎬 **\"These violent delights have violent ends... but only if you break the loop.\"**\n",
    "Let me know if you'd like to explore more advanced loop techniques or specific examples! 😊"
   ]
  }
 ],
 "metadata": {
  "language_info": {
   "name": "python"
  }
 },
 "nbformat": 4,
 "nbformat_minor": 5
}
