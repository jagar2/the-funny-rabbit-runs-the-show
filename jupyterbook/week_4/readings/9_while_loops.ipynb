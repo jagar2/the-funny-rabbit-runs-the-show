{
 "cells": [
  {
   "cell_type": "markdown",
   "id": "0",
   "metadata": {},
   "source": [
    "# 📖 🎥 While Loops in Python: TikTok Reels Style\n",
    "\n",
    "![](./assets/figures/tic-toc-ban.jpeg)\n",
    "\n",
    "_\"While loops are like TikTok reels—looping endlessly until you swipe away (or meet the condition to stop).\"_\n",
    "\n",
    "On TikTok, reels keep playing one after another, looping endlessly unless you take action—like swiping to the next video, closing the app, or running out of content. Similarly, while loops in Python repeat a block of code until a condition is no longer true.\n",
    "\n",
    "Let’s break this down TikTok-style and explore how while loops work in Python. 🎶✨\n",
    "\n",
    "## 🎯 What is a While Loop?\n",
    "\n",
    "A while loop in Python is like the TikTok algorithm:\n",
    "\n",
    "- It keeps showing you reels as long as you’re active (the condition is true).\n",
    "- The moment you swipe away or close the app (the condition becomes false), the loop stops.\n"
   ]
  },
  {
   "cell_type": "markdown",
   "id": "1",
   "metadata": {},
   "source": [
    "\n",
    "```{admonition} Syntax\n",
    "A while loop in Python has the following syntax:\n",
    "\n",
    "```python\n",
    "while condition:\n",
    "    # code block\n",
    "```\n",
    "\n",
    "- The `condition` is a Boolean expression that evaluates to `True` or `False`.\n",
    "- The code block inside the loop is executed as long as the `condition` is `True`.\n",
    "- The code must be indented to indicate that it’s part of the loop.\n",
    "\n",
    "```"
   ]
  },
  {
   "cell_type": "markdown",
   "id": "2",
   "metadata": {},
   "source": [
    "## 🎬 Example 1: Watching Reels Until You Swipe Away\n",
    "\n",
    "![](./assets/figures/tic-toc0.png)\n",
    "\n",
    "Let’s simulate watching TikTok reels. As long as you’re enjoying the content, the loop continues:"
   ]
  },
  {
   "cell_type": "code",
   "execution_count": null,
   "id": "3",
   "metadata": {},
   "outputs": [],
   "source": [
    "enjoying_reels = True\n",
    "reel_count = 0\n",
    "\n",
    "while enjoying_reels:\n",
    "    reel_count += 1\n",
    "    print(f\"Watching reel #{reel_count}... 🎥\")\n",
    "\n",
    "    if reel_count == 5:  # After 5 reels, you get bored\n",
    "        print(\"I'm bored. Swiping away... 🙄\")\n",
    "        enjoying_reels = False"
   ]
  },
  {
   "cell_type": "markdown",
   "id": "4",
   "metadata": {},
   "source": [
    "<iframe width=\"800\" height=\"500\" frameborder=\"0\" src=\"https://pythontutor.com/iframe-embed.html#code=enjoying_reels%20%3D%20True%0Areel_count%20%3D%200%0A%0Awhile%20enjoying_reels%3A%0A%20%20%20%20reel_count%20%2B%3D%201%0A%20%20%20%20print%28f%22Watching%20reel%20%23%7Breel_count%7D...%20%F0%9F%8E%A5%22%29%0A%0A%20%20%20%20if%20reel_count%20%3D%3D%205%3A%20%20%23%20After%205%20reels,%20you%20get%20bored%0A%20%20%20%20%20%20%20%20print%28%22I'm%20bored.%20Swiping%20away...%20%F0%9F%99%84%22%29%0A%20%20%20%20%20%20%20%20enjoying_reels%20%3D%20False&codeDivHeight=400&codeDivWidth=350&cumulative=false&curInstr=0&heapPrimitives=nevernest&origin=opt-frontend.js&py=311&rawInputLstJSON=%5B%5D&textReferences=false\"> </iframe>\n",
    "\n",
    "🎯 Key Idea: The loop keeps running while the condition `enjoying_reels` is `True`. Once it becomes `False`, the loop stops.\n",
    "\n",
    "## ⏳ Infinite Loops: The Never-Ending TikTok Scrolling\n",
    "\n",
    "What happens if you never get bored? That’s an infinite loop—like getting trapped in endless TikTok reels because the condition never changes.\n",
    "\n",
    "### Example 2: Infinite Reels"
   ]
  },
  {
   "cell_type": "code",
   "execution_count": null,
   "id": "5",
   "metadata": {
    "tags": [
     "skip-execution"
    ]
   },
   "outputs": [],
   "source": [
    "import time\n",
    "\n",
    "while True:  # This condition is always True\n",
    "    print(\"Another reel... 🎶\")\n",
    "    time.sleep(1)  # Add a delay for realism (optional)"
   ]
  },
  {
   "cell_type": "markdown",
   "id": "6",
   "metadata": {},
   "source": [
    "⚠️ Warning: Infinite loops will keep running forever unless you manually stop them. Always make sure your loop has a way to exit!\n",
    "\n",
    "## 🎭 Adding a Swipe Condition with User Input\n",
    "\n",
    "![](./assets/figures/tictoc1.gif)\n",
    "\n",
    "Let’s introduce interactivity: You can swipe away whenever you want, like on TikTok.\n",
    "\n",
    "### Example 3: Interactive Reels"
   ]
  },
  {
   "cell_type": "code",
   "execution_count": null,
   "id": "7",
   "metadata": {},
   "outputs": [],
   "source": [
    "reel_count = 0\n",
    "\n",
    "while True:\n",
    "    reel_count += 1\n",
    "    print(f\"Watching reel #{reel_count}... 🎥\")\n",
    "    user_input = input(\"Swipe to the next reel? (yes/no): \")\n",
    "\n",
    "    if user_input.lower() == \"no\":\n",
    "        print(\"Swiping away. Goodbye, TikTok! 👋\")\n",
    "        break"
   ]
  },
  {
   "cell_type": "markdown",
   "id": "8",
   "metadata": {},
   "source": [
    "<iframe width=\"800\" height=\"500\" frameborder=\"0\" src=\"https://pythontutor.com/iframe-embed.html#code=reel_count%20%3D%200%0A%0Awhile%20True%3A%0A%20%20%20%20reel_count%20%2B%3D%201%0A%20%20%20%20print%28f%22Watching%20reel%20%23%7Breel_count%7D...%20%F0%9F%8E%A5%22%29%0A%20%20%20%20user_input%20%3D%20input%28%22Swipe%20to%20the%20next%20reel%3F%20%28yes/no%29%3A%20%22%29%0A%0A%20%20%20%20if%20user_input.lower%28%29%20%3D%3D%20%22no%22%3A%0A%20%20%20%20%20%20%20%20print%28%22Swiping%20away.%20Goodbye,%20TikTok!%20%F0%9F%91%8B%22%29%0A%20%20%20%20%20%20%20%20break&codeDivHeight=400&codeDivWidth=350&cumulative=false&curInstr=0&heapPrimitives=nevernest&origin=opt-frontend.js&py=311&rawInputLstJSON=%5B%5D&textReferences=false\"> </iframe>\n",
    "\n",
    "🎯 Key Idea: Use `break` to exit the loop when the user decides to stop watching reels.\n",
    "\n",
    "## 🎵 Skipping Over Content with `continue`\n",
    "\n",
    "Sometimes, you want to skip certain reels (e.g., boring or irrelevant ones) but keep watching the rest. The `continue` statement skips the current iteration and moves to the next reel.\n",
    "\n",
    "### Example 4: Skipping Boring Reels"
   ]
  },
  {
   "cell_type": "code",
   "execution_count": null,
   "id": "9",
   "metadata": {},
   "outputs": [],
   "source": [
    "reels = [\n",
    "    \"Funny Reel 😂\",\n",
    "    \"Ad Reel 🛒\",\n",
    "    \"Dance Reel 💃\",\n",
    "    \"Boring Reel 🙄\",\n",
    "    \"Pet Reel 🐶\",\n",
    "]\n",
    "\n",
    "for reel in reels:\n",
    "    if \"Boring\" in reel:\n",
    "        print(f\"Skipping {reel}... 😴\")\n",
    "        continue\n",
    "    print(f\"Watching {reel}... 🎥\")"
   ]
  },
  {
   "cell_type": "markdown",
   "id": "10",
   "metadata": {},
   "source": [
    "<iframe width=\"800\" height=\"500\" frameborder=\"0\" src=\"https://pythontutor.com/iframe-embed.html#code=reels%20%3D%20%5B%0A%20%20%20%20%22Funny%20Reel%20%F0%9F%98%82%22,%0A%20%20%20%20%22Ad%20Reel%20%F0%9F%9B%92%22,%0A%20%20%20%20%22Dance%20Reel%20%F0%9F%92%83%22,%0A%20%20%20%20%22Boring%20Reel%20%F0%9F%99%84%22,%0A%20%20%20%20%22Pet%20Reel%20%F0%9F%90%B6%22,%0A%5D%0A%0Afor%20reel%20in%20reels%3A%0A%20%20%20%20if%20%22Boring%22%20in%20reel%3A%0A%20%20%20%20%20%20%20%20print%28f%22Skipping%20%7Breel%7D...%20%F0%9F%98%B4%22%29%0A%20%20%20%20%20%20%20%20continue%0A%20%20%20%20print%28f%22Watching%20%7Breel%7D...%20%F0%9F%8E%A5%22%29&codeDivHeight=400&codeDivWidth=350&cumulative=false&curInstr=0&heapPrimitives=nevernest&origin=opt-frontend.js&py=311&rawInputLstJSON=%5B%5D&textReferences=false\"> </iframe>\n",
    "\n",
    "🎯 Key Idea: `continue` skips the current iteration without stopping the loop entirely.\n",
    "\n",
    "## 🎡 Nested While Loops: Reels Within Reels\n",
    "\n",
    "TikTok might loop through different categories of content (e.g., funny, dance, pet reels). You can use nested loops to simulate categories within categories.\n",
    "\n",
    "### Example 5: Watching Content by Category"
   ]
  },
  {
   "cell_type": "code",
   "execution_count": null,
   "id": "11",
   "metadata": {},
   "outputs": [],
   "source": [
    "categories = {\n",
    "    \"Funny\": [\"Reel 1 😂\", \"Reel 2 😂\"],\n",
    "    \"Dance\": [\"Reel 1 💃\", \"Reel 2 💃\"],\n",
    "    \"Pets\": [\"Reel 1 🐶\", \"Reel 2 🐱\"],\n",
    "}\n",
    "\n",
    "for category, reels in categories.items():\n",
    "    print(f\"Category: {category} 📂\")\n",
    "    for reel in reels:\n",
    "        print(f\"  Watching {reel} 🎥\")"
   ]
  },
  {
   "cell_type": "markdown",
   "id": "12",
   "metadata": {},
   "source": [
    "<iframe width=\"800\" height=\"500\" frameborder=\"0\" src=\"https://pythontutor.com/iframe-embed.html#code=categories%20%3D%20%7B%0A%20%20%20%20%22Funny%22%3A%20%5B%22Reel%201%20%F0%9F%98%82%22,%20%22Reel%202%20%F0%9F%98%82%22%5D,%0A%20%20%20%20%22Dance%22%3A%20%5B%22Reel%201%20%F0%9F%92%83%22,%20%22Reel%202%20%F0%9F%92%83%22%5D,%0A%20%20%20%20%22Pets%22%3A%20%5B%22Reel%201%20%F0%9F%90%B6%22,%20%22Reel%202%20%F0%9F%90%B1%22%5D,%0A%7D%0A%0Afor%20category,%20reels%20in%20categories.items%28%29%3A%0A%20%20%20%20print%28f%22Category%3A%20%7Bcategory%7D%20%F0%9F%93%82%22%29%0A%20%20%20%20for%20reel%20in%20reels%3A%0A%20%20%20%20%20%20%20%20print%28f%22%20%20Watching%20%7Breel%7D%20%F0%9F%8E%A5%22%29&codeDivHeight=400&codeDivWidth=350&cumulative=false&curInstr=0&heapPrimitives=nevernest&origin=opt-frontend.js&py=311&rawInputLstJSON=%5B%5D&textReferences=false\"> </iframe>\n",
    "\n",
    "🎯 Key Idea: Nested loops let you handle complex structures like categories or playlists.\n",
    "\n",
    "## 🛠️ Controlling Loops with Counters\n",
    "\n",
    "Let’s limit how many reels you can watch before TikTok automatically stops (like a parental control or time limit).\n",
    "\n",
    "### Example 6: TikTok Timeout"
   ]
  },
  {
   "cell_type": "code",
   "execution_count": null,
   "id": "13",
   "metadata": {},
   "outputs": [],
   "source": [
    "time_limit = 3  # Max number of reels you can watch\n",
    "reel_count = 0\n",
    "\n",
    "while reel_count < time_limit:\n",
    "    reel_count += 1\n",
    "    print(f\"Watching reel #{reel_count}... 🎥\")\n",
    "else:\n",
    "    print(\"You've reached your time limit! No more TikTok for now. 🚫\")"
   ]
  },
  {
   "cell_type": "markdown",
   "id": "14",
   "metadata": {},
   "source": [
    "<iframe width=\"800\" height=\"500\" frameborder=\"0\" src=\"https://pythontutor.com/iframe-embed.html#code=time_limit%20%3D%203%20%20%23%20Max%20number%20of%20reels%20you%20can%20watch%0Areel_count%20%3D%200%0A%0Awhile%20reel_count%20%3C%20time_limit%3A%0A%20%20%20%20reel_count%20%2B%3D%201%0A%20%20%20%20print%28f%22Watching%20reel%20%23%7Breel_count%7D...%20%F0%9F%8E%A5%22%29%0Aelse%3A%0A%20%20%20%20print%28%22You've%20reached%20your%20time%20limit!%20No%20more%20TikTok%20for%20now.%20%F0%9F%9A%AB%22%29&codeDivHeight=400&codeDivWidth=350&cumulative=false&curInstr=0&heapPrimitives=nevernest&origin=opt-frontend.js&py=311&rawInputLstJSON=%5B%5D&textReferences=false\"> </iframe>\n",
    "\n",
    "🎯 Key Idea: Use a counter to keep track of iterations and combine it with the `else` block for graceful exits.\n",
    "\n",
    "## 🎬 Conclusion: While Loops in TikTok Style\n",
    "\n",
    "Just like TikTok reels, while loops repeat endlessly until you break the flow. Whether you’re interacting with user input, skipping boring items, or timing out the session, `while` loops offer dynamic control for repetitive tasks.\n",
    "\n",
    "### 🚀 Key Takeaways:\n",
    "\n",
    "1. `while condition:`: The loop runs as long as the condition is true.\n",
    "2. Infinite Loops: Great for continuous processes (but be cautious!).\n",
    "3. `break`: Exit the loop early when a specific condition is met.\n",
    "4. `continue`: Skip over the current iteration and move to the next.\n",
    "5. Counters and Conditions: Use counters to limit or manage iterations.\n",
    "6. Nested Loops: Perfect for organizing complex structures like categories or playlists.\n",
    "\n",
    "With this knowledge, you can handle loops like a pro—whether you're programming TikTok reels or any other repetitive process! 🎥✨"
   ]
  }
 ],
 "metadata": {
  "jupytext": {
   "cell_metadata_filter": "-all",
   "main_language": "python",
   "notebook_metadata_filter": "-all"
  },
  "kernelspec": {
   "display_name": "engr131_dev",
   "language": "python",
   "name": "python3"
  },
  "language_info": {
   "codemirror_mode": {
    "name": "ipython",
    "version": 3
   },
   "file_extension": ".py",
   "mimetype": "text/x-python",
   "name": "python",
   "nbconvert_exporter": "python",
   "pygments_lexer": "ipython3",
   "version": "3.12.7"
  }
 },
 "nbformat": 4,
 "nbformat_minor": 5
}
