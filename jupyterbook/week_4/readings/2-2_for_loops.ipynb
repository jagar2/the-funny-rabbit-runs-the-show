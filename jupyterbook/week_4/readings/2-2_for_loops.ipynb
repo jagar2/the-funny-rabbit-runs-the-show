{
 "cells": [
  {
   "cell_type": "markdown",
   "id": "0",
   "metadata": {},
   "source": [
    "Here’s an in-depth exploration of **for loops** in Python, using the **Pac-Man** analogy! 🟡✨\n",
    "\n",
    "# 🟡 **For Loops in Python: Pac-Man Style**\n",
    "\n",
    "_\"For loops are like Pac-Man—each pellet is processed one by one until the board is cleared.\"_\n",
    "\n",
    "In Python, **for loops** are the workhorses of repetitive tasks. They let you iterate over sequences (like lists, strings, or ranges) and handle each element, one by one—just like Pac-Man chomping pellets on his board. 🟡👾\n",
    "\n",
    "Let’s dive into the world of **for loops** and see how they work, Pac-Man style. Ready? Let’s clear the board! 🎮✨\n",
    "\n",
    "## 🎮 **What is a For Loop?**\n",
    "\n",
    "A **for loop** is Python’s way of saying:  \n",
    "_\"Hey Pac-Man, here’s the board. Go ahead and chomp one pellet at a time until there’s nothing left.\"_\n",
    "\n",
    "It repeats a block of code for **every item in a sequence**—whether it’s a list of dots, a line of text, or even a series of numbers.\n",
    "\n",
    "### Pac-Man’s Code Template:"
   ]
  },
  {
   "cell_type": "code",
   "execution_count": null,
   "id": "1",
   "metadata": {},
   "outputs": [],
   "source": [
    "for pellet in sequence:\n",
    "    # Process each pellet (or item)\n",
    "    do_something_with(pellet)"
   ]
  },
  {
   "cell_type": "markdown",
   "id": "2",
   "metadata": {},
   "source": [
    "- **`pellet`**: A variable that represents the current item (just like the pellet Pac-Man is chomping).\n",
    "- **`sequence`**: The series of items (like all the pellets on the board).\n",
    "- **`do_something_with(pellet)`**: The action Pac-Man takes for each pellet—like eating it! 🍴\n",
    "\n",
    "## 🍒 **Example 1: Pac-Man Eating Dots**\n",
    "\n",
    "Let’s simulate Pac-Man clearing the board by eating dots:"
   ]
  },
  {
   "cell_type": "code",
   "execution_count": null,
   "id": "3",
   "metadata": {},
   "outputs": [],
   "source": [
    "dots = [\"dot1\", \"dot2\", \"dot3\", \"dot4\"]\n",
    "\n",
    "for dot in dots:\n",
    "    print(f\"Pac-Man eats {dot}\")"
   ]
  },
  {
   "cell_type": "markdown",
   "id": "4",
   "metadata": {},
   "source": [
    "### Output:\n",
    "\n",
    "```\n",
    "Pac-Man eats dot1\n",
    "Pac-Man eats dot2\n",
    "Pac-Man eats dot3\n",
    "Pac-Man eats dot4\n",
    "```\n",
    "\n",
    "🎯 **Key Idea**: The loop automatically moves Pac-Man to the next dot in the sequence until all the dots are gone.\n",
    "\n",
    "## 🟡 **Processing a Range of Pellets**\n",
    "\n",
    "Sometimes Pac-Man’s board isn’t preloaded with a sequence. Instead, you want him to eat **a specific number of pellets**. Enter the `range()` function.\n",
    "\n",
    "### Example 2: Eating 10 Pellets in Order"
   ]
  },
  {
   "cell_type": "code",
   "execution_count": null,
   "id": "5",
   "metadata": {},
   "outputs": [],
   "source": [
    "for pellet in range(1, 11):  # Numbers 1 to 10\n",
    "    print(f\"Pac-Man eats pellet #{pellet}\")"
   ]
  },
  {
   "cell_type": "markdown",
   "id": "6",
   "metadata": {},
   "source": [
    "### Output:\n",
    "\n",
    "```\n",
    "Pac-Man eats pellet #1\n",
    "Pac-Man eats pellet #2\n",
    "Pac-Man eats pellet #3\n",
    "Pac-Man eats pellet #4\n",
    "Pac-Man eats pellet #5\n",
    "Pac-Man eats pellet #6\n",
    "Pac-Man eats pellet #7\n",
    "Pac-Man eats pellet #8\n",
    "Pac-Man eats pellet #9\n",
    "Pac-Man eats pellet #10\n",
    "```\n",
    "\n",
    "🎯 **Key Idea**: The `range(start, end)` function generates numbers from `start` to `end - 1`. Pac-Man chomps through the numbers as if they were pellets.\n",
    "\n",
    "## 🍓 **Customizing the Step Size**\n",
    "\n",
    "Pac-Man doesn’t always eat every pellet in order. Sometimes he skips over pellets (perhaps because of a power-up or ghost avoidance). You can customize the **step size** in the `range()` function.\n",
    "\n",
    "### Example 3: Skipping Every Other Pellet"
   ]
  },
  {
   "cell_type": "code",
   "execution_count": null,
   "id": "7",
   "metadata": {},
   "outputs": [],
   "source": [
    "for pellet in range(1, 11, 2):  # Start at 1, go up to 10, step by 2\n",
    "    print(f\"Pac-Man eats pellet #{pellet}\")"
   ]
  },
  {
   "cell_type": "markdown",
   "id": "8",
   "metadata": {},
   "source": [
    "### Output:\n",
    "\n",
    "```\n",
    "Pac-Man eats pellet #1\n",
    "Pac-Man eats pellet #3\n",
    "Pac-Man eats pellet #5\n",
    "Pac-Man eats pellet #7\n",
    "Pac-Man eats pellet #9\n",
    "```\n",
    "\n",
    "🎯 **Key Idea**: The third argument in `range(start, end, step)` tells Pac-Man how far to move after each pellet.\n",
    "\n",
    "## 👾 **Chomping Through Ghosts: Nested For Loops**\n",
    "\n",
    "What happens when Pac-Man needs to clear multiple boards—or handle more than just dots? You can use **nested loops** for complex tasks, like clearing multiple levels or interacting with ghosts and fruits.\n",
    "\n",
    "### Example 4: Pac-Man Clearing Two Boards"
   ]
  },
  {
   "cell_type": "code",
   "execution_count": null,
   "id": "9",
   "metadata": {},
   "outputs": [],
   "source": [
    "boards = [\n",
    "    [\"dot1\", \"dot2\", \"dot3\"],\n",
    "    [\"dot4\", \"dot5\", \"dot6\"]\n",
    "]\n",
    "\n",
    "for board in boards:\n",
    "    print(\"New board!\")\n",
    "    for dot in board:\n",
    "        print(f\"Pac-Man eats {dot}\")"
   ]
  },
  {
   "cell_type": "markdown",
   "id": "10",
   "metadata": {},
   "source": [
    "### Output:\n",
    "\n",
    "```\n",
    "New board!\n",
    "Pac-Man eats dot1\n",
    "Pac-Man eats dot2\n",
    "Pac-Man eats dot3\n",
    "New board!\n",
    "Pac-Man eats dot4\n",
    "Pac-Man eats dot5\n",
    "Pac-Man eats dot6\n",
    "```\n",
    "\n",
    "🎯 **Key Idea**: Nested loops allow Pac-Man to handle multiple levels of complexity, such as looping through each board and then processing each dot.\n",
    "\n",
    "## 🍊 **Breaking the Loop: Avoiding Ghosts**\n",
    "\n",
    "Pac-Man doesn’t always need to eat all the pellets—sometimes he spots a ghost and needs to escape. You can use the **`break`** statement to stop the loop early.\n",
    "\n",
    "### Example 5: Pac-Man Escapes Ghosts"
   ]
  },
  {
   "cell_type": "code",
   "execution_count": null,
   "id": "11",
   "metadata": {},
   "outputs": [],
   "source": [
    "dots = [\"dot1\", \"dot2\", \"ghost\", \"dot3\"]\n",
    "\n",
    "for dot in dots:\n",
    "    if dot == \"ghost\":\n",
    "        print(\"Pac-Man sees a ghost and runs away!\")\n",
    "        break\n",
    "    print(f\"Pac-Man eats {dot}\")"
   ]
  },
  {
   "cell_type": "markdown",
   "id": "12",
   "metadata": {},
   "source": [
    "### Output:\n",
    "\n",
    "```\n",
    "Pac-Man eats dot1\n",
    "Pac-Man eats dot2\n",
    "Pac-Man sees a ghost and runs away!\n",
    "```\n",
    "\n",
    "🎯 **Key Idea**: The `break` statement immediately stops the loop, just like Pac-Man avoiding danger.\n",
    "\n",
    "## 🍒 **Skipping Pellets: Ignoring Power Pellets**\n",
    "\n",
    "Sometimes Pac-Man doesn’t want to eat certain pellets (maybe he’s saving a power pellet for later). You can use the **`continue`** statement to skip over specific items in the loop.\n",
    "\n",
    "### Example 6: Skipping Power Pellets"
   ]
  },
  {
   "cell_type": "code",
   "execution_count": null,
   "id": "13",
   "metadata": {},
   "outputs": [],
   "source": [
    "dots = [\"dot1\", \"power pellet\", \"dot2\", \"dot3\"]\n",
    "\n",
    "for dot in dots:\n",
    "    if dot == \"power pellet\":\n",
    "        print(\"Pac-Man skips the power pellet.\")\n",
    "        continue\n",
    "    print(f\"Pac-Man eats {dot}\")"
   ]
  },
  {
   "cell_type": "markdown",
   "id": "14",
   "metadata": {},
   "source": [
    "### Output:\n",
    "\n",
    "```\n",
    "Pac-Man eats dot1\n",
    "Pac-Man skips the power pellet.\n",
    "Pac-Man eats dot2\n",
    "Pac-Man eats dot3\n",
    "```\n",
    "\n",
    "🎯 **Key Idea**: The `continue` statement skips the rest of the current iteration but doesn’t stop the loop.\n",
    "\n",
    "## 🌟 **Real-Life Pac-Man: Iterating Over Strings**\n",
    "\n",
    "For loops aren’t just for lists or numbers—they work with strings too. Imagine Pac-Man chomping through the letters of a word.\n",
    "\n",
    "### Example 7: Pac-Man Eats a String"
   ]
  },
  {
   "cell_type": "code",
   "execution_count": null,
   "id": "15",
   "metadata": {},
   "outputs": [],
   "source": [
    "word = \"Pac-Man\"\n",
    "\n",
    "for letter in word:\n",
    "    print(f\"Pac-Man eats the letter '{letter}'\")"
   ]
  },
  {
   "cell_type": "markdown",
   "id": "16",
   "metadata": {},
   "source": [
    "### Output:\n",
    "\n",
    "```\n",
    "Pac-Man eats the letter 'P'\n",
    "Pac-Man eats the letter 'a'\n",
    "Pac-Man eats the letter 'c'\n",
    "Pac-Man eats the letter '-'\n",
    "Pac-Man eats the letter 'M'\n",
    "Pac-Man eats the letter 'a'\n",
    "Pac-Man eats the letter 'n'\n",
    "```\n",
    "\n",
    "🎯 **Key Idea**: Strings are sequences, so you can loop through each character one at a time.\n",
    "\n",
    "## 🎬 **Conclusion: For Loops Clear the Board**\n",
    "\n",
    "Just like Pac-Man chomping pellets one by one, **for loops** let you process every item in a sequence until there’s nothing left. They’re powerful, flexible, and perfect for a wide variety of tasks.\n",
    "\n",
    "### 🚀 **Key Takeaways:**\n",
    "\n",
    "1. **For Each Item**: A `for` loop processes items one at a time, like Pac-Man clearing pellets.\n",
    "2. **Range Control**: Use `range()` to loop through numbers, customize the start, end, and step size.\n",
    "3. **Nested Loops**: Handle complex scenarios, like multiple boards or levels.\n",
    "4. **Break and Continue**: Stop or skip parts of the loop when needed, like avoiding ghosts or saving power pellets.\n",
    "5. **Strings and More**: Loop through any sequence, from lists to strings and beyond.\n",
    "\n",
    "With Python’s `for` loops, you’ll always have the tools to clear the board—no ghosts required. 👾✨\n",
    "\n",
    "Let me know if you’d like more examples or a deeper dive into advanced loop concepts! 😊"
   ]
  }
 ],
 "metadata": {
  "jupytext": {
   "cell_metadata_filter": "-all",
   "main_language": "python",
   "notebook_metadata_filter": "-all"
  }
 },
 "nbformat": 4,
 "nbformat_minor": 5
}
