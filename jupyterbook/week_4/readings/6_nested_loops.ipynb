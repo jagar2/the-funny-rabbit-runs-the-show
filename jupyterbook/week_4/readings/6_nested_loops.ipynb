{
 "cells": [
  {
   "cell_type": "markdown",
   "id": "0",
   "metadata": {},
   "source": [
    "# 📖 🕶️ Nested Loops in Python: The Matrix Style\n",
    "\n",
    "![](./assets/figures/matrix-home.gif)\n",
    "\n",
    "_\"Nested loops are like The Matrix—a system within a system, looping through simulations to find the ultimate truth.\"_\n",
    "\n",
    "In Python, nested loops are exactly like the Matrix: a loop (or simulation) inside another loop, endlessly drilling deeper to analyze complex systems. Just as Neo navigates layers of virtual realities in search of the ultimate truth, nested loops work by processing data within data, systems within systems, or grids within grids.\n",
    "\n",
    "Let’s dive into this _Matrix-style_ journey and understand how nested loops can help you break down and conquer the most complex problems. 🔍✨\n",
    "\n",
    "## 🎩 What Are Nested Loops?\n",
    "\n",
    "A nested loop is simply a loop inside another loop. Just as the Matrix simulations run within each other, a nested loop allows you to process multiple levels of data:\n",
    "\n",
    "1. The outer loop controls the higher-level structure.\n",
    "2. The inner loop processes each detail within that structure.\n",
    "\n",
    "### Matrix-Like Analogy\n",
    "\n",
    "- Outer loop: The Matrix simulation, iterating through different realities.\n",
    "- Inner loop: The individual details within each reality, such as people, buildings, or actions.\n",
    "\n",
    "## 🎮 Example 1: Simulating a Grid\n",
    "\n",
    "Let’s start simple by simulating a grid system—like exploring the digital landscape of the Matrix."
   ]
  },
  {
   "cell_type": "code",
   "execution_count": null,
   "id": "1",
   "metadata": {},
   "outputs": [],
   "source": [
    "rows = 3\n",
    "columns = 3\n",
    "\n",
    "for row in range(1, rows + 1):  # Outer loop: Rows\n",
    "    for col in range(1, columns + 1):  # Inner loop: Columns\n",
    "        print(f\"Cell ({row}, {col})\")"
   ]
  },
  {
   "cell_type": "markdown",
   "id": "2",
   "metadata": {},
   "source": [
    "🎯 Key Idea:\n",
    "\n",
    "- The outer loop (`row`) runs once for each row.\n",
    "- For every iteration of the outer loop, the inner loop (`col`) iterates over all the columns.\n",
    "- Together, they create a complete grid—a system within a system.\n",
    "\n",
    "<iframe width=\"800\" height=\"500\" frameborder=\"0\" src=\"https://pythontutor.com/iframe-embed.html#code=rows%20%3D%203%0Acolumns%20%3D%203%0A%0Afor%20row%20in%20range%281,%20rows%20%2B%201%29%3A%20%20%23%20Outer%20loop%3A%20Rows%0A%20%20%20%20for%20col%20in%20range%281,%20columns%20%2B%201%29%3A%20%20%23%20Inner%20loop%3A%20Columns%0A%20%20%20%20%20%20%20%20print%28f%22Cell%20%28%7Brow%7D,%20%7Bcol%7D%29%22%29&codeDivHeight=400&codeDivWidth=350&cumulative=false&curInstr=0&heapPrimitives=nevernest&origin=opt-frontend.js&py=311&rawInputLstJSON=%5B%5D&textReferences=false\"> </iframe>\n",
    "\n",
    "## 🧮 Matrix Operations: Rows and Columns\n",
    "\n",
    "Let’s say Neo needs to analyze data from the Matrix in a tabular format. Nested loops make it easy to process rows and columns simultaneously.\n",
    "\n",
    "### Example 2: Adding Numbers in a Matrix"
   ]
  },
  {
   "cell_type": "code",
   "execution_count": null,
   "id": "3",
   "metadata": {},
   "outputs": [],
   "source": [
    "matrix = [[1, 2, 3], [4, 5, 6], [7, 8, 9]]\n",
    "\n",
    "for row in matrix:  # Outer loop: Rows in the matrix\n",
    "    for num in row:  # Inner loop: Numbers in each row\n",
    "        print(f\"Processing: {num}\")"
   ]
  },
  {
   "cell_type": "markdown",
   "id": "4",
   "metadata": {},
   "source": [
    "<iframe width=\"800\" height=\"500\" frameborder=\"0\" src=\"https://pythontutor.com/iframe-embed.html#code=matrix%20%3D%20%5B%5B1,%202,%203%5D,%20%5B4,%205,%206%5D,%20%5B7,%208,%209%5D%5D%0A%0Afor%20row%20in%20matrix%3A%20%20%23%20Outer%20loop%3A%20Rows%20in%20the%20matrix%0A%20%20%20%20for%20num%20in%20row%3A%20%20%23%20Inner%20loop%3A%20Numbers%20in%20each%20row%0A%20%20%20%20%20%20%20%20print%28f%22Processing%3A%20%7Bnum%7D%22%29&codeDivHeight=400&codeDivWidth=350&cumulative=false&curInstr=0&heapPrimitives=nevernest&origin=opt-frontend.js&py=311&rawInputLstJSON=%5B%5D&textReferences=false\"> </iframe>\n",
    "\n",
    "🎯 Key Idea:\n",
    "\n",
    "- The outer loop iterates over the rows of the matrix.\n",
    "- The inner loop digs deeper into each row, processing individual numbers.\n",
    "\n",
    "## 🤖 Analyzing Reality: Nested Loops for Patterns\n",
    "\n",
    "![](./assets/figures/neo-moves.gif)\n",
    "\n",
    "Just as the Architect analyzes simulations to find patterns in human behavior, nested loops can uncover patterns in data.\n",
    "\n",
    "### Example 3: Counting Even and Odd Numbers in a Matrix"
   ]
  },
  {
   "cell_type": "code",
   "execution_count": null,
   "id": "5",
   "metadata": {},
   "outputs": [],
   "source": [
    "matrix = [[1, 2, 3], [4, 5, 6], [7, 8, 9]]\n",
    "\n",
    "even_count = 0\n",
    "odd_count = 0\n",
    "\n",
    "for row in matrix:  # Outer loop: Rows\n",
    "    for num in row:  # Inner loop: Numbers in each row\n",
    "        if num % 2 == 0:\n",
    "            even_count += 1\n",
    "        else:\n",
    "            odd_count += 1\n",
    "\n",
    "print(f\"Even numbers: {even_count}, Odd numbers: {odd_count}\")"
   ]
  },
  {
   "cell_type": "markdown",
   "id": "6",
   "metadata": {},
   "source": [
    "<iframe width=\"800\" height=\"500\" frameborder=\"0\" src=\"https://pythontutor.com/iframe-embed.html#code=matrix%20%3D%20%5B%5B1,%202,%203%5D,%20%5B4,%205,%206%5D,%20%5B7,%208,%209%5D%5D%0A%0Aeven_count%20%3D%200%0Aodd_count%20%3D%200%0A%0Afor%20row%20in%20matrix%3A%20%20%23%20Outer%20loop%3A%20Rows%0A%20%20%20%20for%20num%20in%20row%3A%20%20%23%20Inner%20loop%3A%20Numbers%20in%20each%20row%0A%20%20%20%20%20%20%20%20if%20num%20%25%202%20%3D%3D%200%3A%0A%20%20%20%20%20%20%20%20%20%20%20%20even_count%20%2B%3D%201%0A%20%20%20%20%20%20%20%20else%3A%0A%20%20%20%20%20%20%20%20%20%20%20%20odd_count%20%2B%3D%201%0A%0Aprint%28f%22Even%20numbers%3A%20%7Beven_count%7D,%20Odd%20numbers%3A%20%7Bodd_count%7D%22%29&codeDivHeight=400&codeDivWidth=350&cumulative=false&curInstr=0&heapPrimitives=nevernest&origin=opt-frontend.js&py=311&rawInputLstJSON=%5B%5D&textReferences=false\"> </iframe>\n",
    "\n",
    "🎯 Key Idea: Nested loops let you explore deeper layers of your data and extract meaningful insights—like distinguishing between evens and odds.\n",
    "\n",
    "## 💾 Generating The Matrix: Building Simulations\n",
    "\n",
    "Sometimes, nested loops aren’t just about analyzing data; they’re about creating data. Let’s generate our own Matrix-like grid.\n",
    "\n",
    "### Example 4: Generating a Multiplication Table"
   ]
  },
  {
   "cell_type": "code",
   "execution_count": null,
   "id": "7",
   "metadata": {},
   "outputs": [],
   "source": [
    "size = 5\n",
    "\n",
    "for row in range(1, size + 1):  # Outer loop: Rows\n",
    "    for col in range(1, size + 1):  # Inner loop: Columns\n",
    "        print(f\"{row * col:3}\", end=\" \")  # Format numbers with spacing\n",
    "    print()  # Move to the next line after each row"
   ]
  },
  {
   "cell_type": "markdown",
   "id": "8",
   "metadata": {},
   "source": [
    "🎯 Key Idea: The outer loop controls the rows of the table, while the inner loop calculates and prints each value in the row. Together, they generate a simulation of relationships between numbers.\n",
    "\n",
    "## 🌌 Breaking Out of the Matrix: Controlling Nested Loops\n",
    "\n",
    "![](./assets/figures/Agent-Smith-replicated.avif)\n",
    "\n",
    "Sometimes, Neo finds himself trapped in an infinite simulation. To stop this, he uses break to exit the loop or continue to skip iterations.\n",
    "\n",
    "### Example 5: Escaping When Neo Finds “The One”"
   ]
  },
  {
   "cell_type": "code",
   "execution_count": null,
   "id": "9",
   "metadata": {},
   "outputs": [],
   "source": [
    "agents = [[\"Agent 1\", \"Agent 2\", \"Neo\"], [\"Agent 3\", \"Agent 4\", \"Agent 5\"]]\n",
    "\n",
    "for row in agents:  # Outer loop: Rows\n",
    "    for agent in row:  # Inner loop: Agents\n",
    "        if agent == \"Neo\":\n",
    "            print(\"Neo found! Exiting the Matrix.\")\n",
    "            break\n",
    "    else:\n",
    "        # This part runs if the inner loop didn't break\n",
    "        continue\n",
    "    break  # Exit the outer loop if Neo is found"
   ]
  },
  {
   "cell_type": "markdown",
   "id": "10",
   "metadata": {},
   "source": [
    "<iframe width=\"800\" height=\"500\" frameborder=\"0\" src=\"https://pythontutor.com/iframe-embed.html#code=agents%20%3D%20%5B%5B%22Agent%201%22,%20%22Agent%202%22,%20%22Neo%22%5D,%20%5B%22Agent%203%22,%20%22Agent%204%22,%20%22Agent%205%22%5D%5D%0A%0Afor%20row%20in%20agents%3A%20%20%23%20Outer%20loop%3A%20Rows%0A%20%20%20%20for%20agent%20in%20row%3A%20%20%23%20Inner%20loop%3A%20Agents%0A%20%20%20%20%20%20%20%20if%20agent%20%3D%3D%20%22Neo%22%3A%0A%20%20%20%20%20%20%20%20%20%20%20%20print%28%22Neo%20found!%20Exiting%20the%20Matrix.%22%29%0A%20%20%20%20%20%20%20%20%20%20%20%20break%0A%20%20%20%20else%3A%0A%20%20%20%20%20%20%20%20%23%20This%20part%20runs%20if%20the%20inner%20loop%20didn't%20break%0A%20%20%20%20%20%20%20%20continue%0A%20%20%20%20break%20%20%23%20Exit%20the%20outer%20loop%20if%20Neo%20is%20found&codeDivHeight=400&codeDivWidth=350&cumulative=false&curInstr=0&heapPrimitives=nevernest&origin=opt-frontend.js&py=311&rawInputLstJSON=%5B%5D&textReferences=false\"> </iframe>\n",
    "\n",
    "🎯 Key Idea: Use `break` to escape the Matrix (or the loop) once the desired element is found.\n",
    "\n",
    "## 🔄 Nested Loops with Strings: The Digital Rain\n",
    "\n",
    "Nested loops are also perfect for processing text data. Let’s create a Matrix-style digital rain of characters.\n",
    "\n",
    "### Example 6: Simulating Digital Rain"
   ]
  },
  {
   "cell_type": "code",
   "execution_count": null,
   "id": "11",
   "metadata": {},
   "outputs": [],
   "source": [
    "lines = 5\n",
    "chars = \"101010\"\n",
    "\n",
    "for line in range(lines):  # Outer loop: Lines of rain\n",
    "    for char in chars:  # Inner loop: Characters in each line\n",
    "        print(char, end=\" \")\n",
    "    print()  # Move to the next line"
   ]
  },
  {
   "cell_type": "markdown",
   "id": "12",
   "metadata": {},
   "source": [
    "🎯 Key Idea: The outer loop generates lines of rain, and the inner loop repeats the characters for each line.\n",
    "\n",
    "## 🕶️ When to Use Nested Loops\n",
    "\n",
    "- Working with Grids or Matrices: Rows and columns are a perfect fit for nested loops.\n",
    "- Generating Patterns: Create tables, grids, or simulated data.\n",
    "- Deep Analysis: Process data at multiple levels (e.g., rows and cells, or categories and items).\n",
    "- Simulating Systems: Model complex systems with layers of detail.\n",
    "\n",
    "## 🎬 Conclusion: The Power of Nested Loops\n",
    "\n",
    "Just like Neo exploring the Matrix, nested loops let you delve into multiple layers of data or simulation, uncovering patterns and insights that wouldn’t be possible with a single loop. They’re powerful tools for structured, multi-level processing.\n",
    "\n",
    "### 🚀 Key Takeaways:\n",
    "\n",
    "1. Outer Loop: Controls the higher-level structure (e.g., rows, categories).\n",
    "2. Inner Loop: Processes details within each level (e.g., columns, items).\n",
    "3. Break and Continue: Let you escape or skip parts of the loop to control flow.\n",
    "4. Use Cases: Grids, patterns, simulations, text processing, and more.\n"
   ]
  },
  {
   "cell_type": "code",
   "execution_count": null,
   "id": "13",
   "metadata": {},
   "outputs": [],
   "source": [
    "import time\n",
    "import sys\n",
    "import random\n",
    "from IPython.display import clear_output\n",
    "\n",
    "# Function to simulate Matrix-style digital rain\n",
    "def matrix_digital_rain(rows=20, columns=30, speed=0.1, duration=5):\n",
    "    \"\"\"\n",
    "    Creates a Matrix digital rain animation using loops in a Jupyter Notebook.\n",
    "\n",
    "    Parameters:\n",
    "    - rows (int): Number of rows in the digital rain.\n",
    "    - columns (int): Number of columns in the digital rain.\n",
    "    - speed (float): Delay (in seconds) between frames.\n",
    "    - duration (float): How long the animation runs (in seconds).\n",
    "    \"\"\"\n",
    "    characters = \"ABCDEFGHIJKLMNOPQRSTUVWXYZ0123456789\"  # Characters to simulate the digital rain\n",
    "    end_time = time.time() + duration  # Calculate end time\n",
    "\n",
    "    while time.time() < end_time:\n",
    "        # Clear the screen for the next frame\n",
    "        clear_output(wait=True)\n",
    "\n",
    "        # Generate and print each row\n",
    "        for _ in range(rows):\n",
    "            row = \"\".join(random.choice(characters) for _ in range(columns))\n",
    "            print(f\"\\033[32m{row}\\033[0m\")  # Green text\n",
    "\n",
    "        # Delay for the speed of the animation\n",
    "        time.sleep(speed)\n",
    "\n",
    "# Run the Matrix digital rain animation\n",
    "matrix_digital_rain(rows=20, columns=30, speed=0.1, duration=5)\n"
   ]
  },
  {
   "cell_type": "markdown",
   "id": "14",
   "metadata": {},
   "source": [
    "![](./assets/figures/red-blue.webp)"
   ]
  },
  {
   "cell_type": "code",
   "execution_count": null,
   "id": "15",
   "metadata": {},
   "outputs": [],
   "source": []
  }
 ],
 "metadata": {
  "jupytext": {
   "cell_metadata_filter": "-all",
   "main_language": "python",
   "notebook_metadata_filter": "-all"
  },
  "kernelspec": {
   "display_name": "engr131_dev",
   "language": "python",
   "name": "python3"
  },
  "language_info": {
   "codemirror_mode": {
    "name": "ipython",
    "version": 3
   },
   "file_extension": ".py",
   "mimetype": "text/x-python",
   "name": "python",
   "nbconvert_exporter": "python",
   "pygments_lexer": "ipython3",
   "version": "3.12.7"
  }
 },
 "nbformat": 4,
 "nbformat_minor": 5
}
