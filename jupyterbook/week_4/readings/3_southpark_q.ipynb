{
 "cells": [
  {
   "cell_type": "code",
   "execution_count": null,
   "id": "0",
   "metadata": {
    "deletable": false,
    "editable": false,
    "tags": [
     "skip-execution"
    ]
   },
   "outputs": [],
   "source": [
    "import os\n",
    "os.environ[\"JUPYTERHUB_USER\"] = \"JCA\"\n",
    "\n",
    "# You must make sure to run all cells in sequence using shift + enter or you might encounter errors\n",
    "from pykubegrader.initialize import initialize_assignment\n",
    "\n",
    "responses = initialize_assignment(\"3_southpark_q\", \"week_4\", \"readings\", assignment_points = 15.0, assignment_tag = 'week4-readings')\n",
    "\n",
    "# Initialize Otter\n",
    "import otter\n",
    "grader = otter.Notebook(\"3_southpark_q.ipynb\")"
   ]
  },
  {
   "cell_type": "markdown",
   "id": "1",
   "metadata": {
    "deletable": false,
    "editable": false
   },
   "source": [
    "# ❓ 🏞️ South Park Adventures 🧢🌲\n",
    "\n",
    "![southpark](./assets/figures/south-park1.jpg)"
   ]
  },
  {
   "cell_type": "code",
   "execution_count": null,
   "id": "2",
   "metadata": {
    "tags": [
     "skip-execution"
    ]
   },
   "outputs": [],
   "source": [
    "# Run this block of code by pressing Shift + Enter to display the question\n",
    "from questions._3_southpark_q import Question1\n",
    "Question1().show()\n"
   ]
  },
  {
   "cell_type": "code",
   "execution_count": null,
   "id": "3",
   "metadata": {
    "tags": [
     "skip-execution"
    ]
   },
   "outputs": [],
   "source": [
    "# Run this block of code by pressing Shift + Enter to display the question\n",
    "from questions._3_southpark_q import Question2\n",
    "Question2().show()\n"
   ]
  },
  {
   "cell_type": "code",
   "execution_count": null,
   "id": "4",
   "metadata": {
    "tags": [
     "skip-execution"
    ]
   },
   "outputs": [],
   "source": [
    "# Run this block of code by pressing Shift + Enter to display the question\n",
    "from questions._3_southpark_q import Question3\n",
    "Question3().show()\n"
   ]
  },
  {
   "cell_type": "markdown",
   "id": "5",
   "metadata": {
    "deletable": false,
    "editable": false
   },
   "source": [
    "## Cartman's Decision\n",
    "\n",
    "![cartman](./assets/figures/Eric_Cartman.webp)\n",
    "\n",
    "### Instructions:\n",
    "Write a Python program where Cartman decides whether to skip school or go to class. Use the following conditions:\n",
    "- Cartman skips school if it's snowing OR it's a weekend.\n",
    "- Otherwise, he goes to class.\n",
    "\n",
    "Your solution must include:\n",
    "1. A function `cartman_decision(is_snowing, is_weekend)` (we have provided the function for you) that:\n",
    "   - Takes two boolean arguments `is_snowing` and `is_weekend`.\n",
    "   - Returns `\"Skip School\"` if Cartman skips school.\n",
    "   - Returns `\"Go to Class\"` otherwise.\n",
    "2. Test cases to validate the correctness of your implementation. We have provided this for you as well."
   ]
  },
  {
   "cell_type": "code",
   "execution_count": null,
   "id": "6",
   "metadata": {
    "tags": [
     "skip-execution"
    ]
   },
   "outputs": [],
   "source": [
    "# Define the function\n",
    "def cartman_decision(is_snowing, is_weekend):\n",
    "    # Use if-else statements to determine Cartman's decision\n",
    "    ...\n",
    "\n",
    "# Test the function\n",
    "print(cartman_decision(True, False))  # Expect \"Skip School\"\n",
    "print(cartman_decision(False, True))  # Expect \"Skip School\"\n",
    "print(cartman_decision(False, False))  # Expect \"Go to Class\""
   ]
  },
  {
   "cell_type": "code",
   "execution_count": null,
   "id": "7",
   "metadata": {
    "deletable": false,
    "editable": false,
    "tags": [
     "skip-execution"
    ]
   },
   "outputs": [],
   "source": [
    "grader.check(\"SouthPark-CartmanDecision\")"
   ]
  },
  {
   "cell_type": "markdown",
   "id": "8",
   "metadata": {
    "deletable": false,
    "editable": false
   },
   "source": [
    "## Side Note 📝\n",
    "\n",
    "Prof. Agar got suspended from middle school for wearing a Mr. Hankey shirt to class. 🤣\n",
    "\n",
    "![](./assets/figures/howdy-ho-mr-hankey.gif)"
   ]
  },
  {
   "cell_type": "markdown",
   "id": "9",
   "metadata": {},
   "source": [
    "## Submitting Assignment\n",
    "\n",
    "Please run the following block of code using `shift + enter` to submit your assignment, you should see your score."
   ]
  },
  {
   "cell_type": "code",
   "execution_count": null,
   "id": "10",
   "metadata": {
    "deletable": false,
    "editable": false,
    "tags": [
     "skip-execution"
    ]
   },
   "outputs": [],
   "source": [
    "from pykubegrader.submit.submit_assignment import submit_assignment\n",
    "\n",
    "submit_assignment(\"week4-readings\", \"3_southpark_q\")"
   ]
  }
 ],
 "metadata": {
  "kernelspec": {
   "display_name": "Python 3",
   "language": "python",
   "name": "python3"
  },
  "language_info": {
   "codemirror_mode": {
    "name": "ipython",
    "version": 3
   },
   "file_extension": ".py",
   "mimetype": "text/x-python",
   "name": "python",
   "nbconvert_exporter": "python",
   "pygments_lexer": "ipython3",
   "version": "3.12.7"
  },
  "otter": {
   "OK_FORMAT": true,
   "tests": {
    "SouthPark-CartmanDecision": {
     "name": "SouthPark-CartmanDecision",
     "points": null,
     "suites": [
      {
       "cases": [
        {
         "code": ">>> from pykubegrader.telemetry import ensure_responses, log_variable, score_question, submit_question, telemetry, update_responses\n>>> import os\n>>> max_question_points = str(6.0)\n>>> earned_points = 0\n>>> os.environ['EARNED_POINTS'] = str(earned_points)\n>>> os.environ['TOTAL_POINTS_FREE_RESPONSE'] = str(6.0)\n>>> log_variable('total-points', f'Reading-Week-X, 3_southpark_q', 6.0)\n>>> question_id = 'SouthPark-CartmanDecision-1'\n>>> max_score = 2.0\n>>> score = 0\n>>> result = cartman_decision(True, False)\n>>> assert result == 'Skip School', f\"Expected 'Skip School', but got {result}\"\n>>> if result == 'Skip School':\n...     score = 2.0\n>>> earned_points = float(os.environ.get('EARNED_POINTS', 0))\n>>> earned_points += score\n>>> log_variable('3_southpark_q', f'{score}, {max_score}', question_id)\n>>> os.environ['EARNED_POINTS'] = str(earned_points)\n>>> responses = update_responses(question_id, str(result))\n",
         "failure_message": "Failed: 'cartman_decision' should return 'Skip School' when it's snowing.",
         "hidden": false,
         "locked": false,
         "points": 2,
         "success_message": "Success: 'cartman_decision' correctly returns 'Skip School' when it's snowing."
        },
        {
         "code": ">>> from pykubegrader.telemetry import ensure_responses, log_variable, score_question, submit_question, telemetry, update_responses\n>>> import os\n>>> question_id = 'SouthPark-CartmanDecision-2'\n>>> max_score = 2.0\n>>> score = 0\n>>> result = cartman_decision(False, True)\n>>> assert result == 'Skip School', f\"Expected 'Skip School', but got {result}\"\n>>> if result == 'Skip School':\n...     score = 2.0\n>>> earned_points = float(os.environ.get('EARNED_POINTS', 0))\n>>> earned_points += score\n>>> log_variable('3_southpark_q', f'{score}, {max_score}', question_id)\n>>> os.environ['EARNED_POINTS'] = str(earned_points)\n>>> responses = update_responses(question_id, str(result))\n",
         "failure_message": "Failed: 'cartman_decision' should return 'Skip School' on a weekend.",
         "hidden": false,
         "locked": false,
         "points": 2,
         "success_message": "Success: 'cartman_decision' correctly returns 'Skip School' on a weekend."
        },
        {
         "code": ">>> from pykubegrader.telemetry import ensure_responses, log_variable, score_question, submit_question, telemetry, update_responses\n>>> import os\n>>> question_id = 'SouthPark-CartmanDecision-3'\n>>> max_score = 2.0\n>>> score = 0\n>>> result = cartman_decision(False, False)\n>>> assert result == 'Go to Class', f\"Expected 'Go to Class', but got {result}\"\n>>> if result == 'Go to Class':\n...     score = 2.0\n>>> earned_points = float(os.environ.get('EARNED_POINTS', 0))\n>>> earned_points += score\n>>> log_variable('3_southpark_q', f'{score}, {max_score}', question_id)\n>>> os.environ['EARNED_POINTS'] = str(earned_points)\n>>> responses = update_responses(question_id, str(result))\n",
         "failure_message": "Failed: 'cartman_decision' should return 'Go to Class' when neither condition is met.",
         "hidden": false,
         "locked": false,
         "points": 2,
         "success_message": "Success: 'cartman_decision' correctly returns 'Go to Class' otherwise."
        }
       ],
       "scored": true,
       "setup": "",
       "teardown": "",
       "type": "doctest"
      }
     ]
    }
   }
  }
 },
 "nbformat": 4,
 "nbformat_minor": 5
}
