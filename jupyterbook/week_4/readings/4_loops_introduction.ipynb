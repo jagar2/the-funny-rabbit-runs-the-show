{
 "cells": [
  {
   "cell_type": "markdown",
   "id": "0",
   "metadata": {},
   "source": [
    "# 📖 🤖 Loops in Python: Westworld Edition\n",
    "\n",
    "![](./assets/figures/westworld.webp)\n",
    "\n",
    "_\"Repeating the same storylines until someone breaks the code (or the loop).\"_\n",
    "\n",
    "In Python, loops are the programming equivalent of Westworld’s hosts—they repeat the same tasks over and over, like scripted storylines in the park. Whether it's reliving a day in Sweetwater or printing the same statement 100 times, loops execute a block of code until someone (you, the programmer) breaks the loop or stops the story.\n",
    "\n",
    "Let’s dive into the world of loops and learn how to control them—just like the architects of Westworld! 🚂✨"
   ]
  },
  {
   "cell_type": "markdown",
   "id": "1",
   "metadata": {},
   "source": [
    "## 🎡 What are Loops?\n",
    "\n",
    "Loops let you repeat a block of code multiple times without writing it manually. In Westworld terms, they’re like the hosts’ programmed narratives—a repeating cycle of events that only changes if something disrupts the loop.\n",
    "\n",
    "In Python, we have two main types of loops:\n"
   ]
  },
  {
   "cell_type": "markdown",
   "id": "2",
   "metadata": {},
   "source": [
    "1. `for` loops: Like a structured storyline, they know exactly how many times to repeat.\n"
   ]
  },
  {
   "cell_type": "markdown",
   "id": "3",
   "metadata": {},
   "source": [
    "```{admonition} Syntax\n",
    "\n",
    "```python\n",
    "for variable in iterable:\n",
    "    # Code block to execute for each item in 'iterable'\n",
    "```\n",
    "\n",
    "- `variable`: Represents the current item in the loop.\n",
    "- `iterable`: A collection of items to loop over.\n",
    "\n",
    "all the code inside the loop should be indented.\n",
    "```"
   ]
  },
  {
   "cell_type": "markdown",
   "id": "4",
   "metadata": {},
   "source": [
    "\n",
    "```{note} Definition\n",
    "An iterable is any Python object capable of returning its elements one at a time, allowing it to be looped over in a `for` loop or passed to functions like `list()` or `sum()`.  \n",
    "Examples of iterables include sequences (`list`, `tuple`, `dict`, `str`) and objects implementing the `iter()` or `getitem()` method.\n",
    "```"
   ]
  },
  {
   "cell_type": "markdown",
   "id": "5",
   "metadata": {},
   "source": [
    "2. `while` loops: Like an open-world narrative, they keep going until a specific condition changes.\n"
   ]
  },
  {
   "cell_type": "markdown",
   "id": "6",
   "metadata": {},
   "source": [
    "```{admonition} Syntax\n",
    "\n",
    "```python\n",
    "while condition:\n",
    "    # Code block to execute until 'condition' is False\n",
    "```\n",
    "\n",
    "- `condition`: A Boolean expression that determines when to stop the loop.\n",
    "\n",
    "all the code inside the loop should be indented.\n",
    "```"
   ]
  },
  {
   "cell_type": "markdown",
   "id": "7",
   "metadata": {},
   "source": [
    "## 🎭 The `for` Loop: The Structured Narrative\n",
    "\n",
    "![](./assets/figures/westworld-drink.webp)\n",
    "\n",
    "A `for` loop is like a programmed storyline in Westworld—predictable, pre-scripted, and designed to run a set number of times.\n"
   ]
  },
  {
   "cell_type": "markdown",
   "id": "8",
   "metadata": {},
   "source": [
    "### Example: Hosts Serving Drinks in Sweetwater\n"
   ]
  },
  {
   "cell_type": "code",
   "execution_count": null,
   "id": "9",
   "metadata": {},
   "outputs": [],
   "source": [
    "for drink in [\"Whiskey\", \"Gin\", \"Beer\"]:\n",
    "    print(f\"Host serves {drink}\")"
   ]
  },
  {
   "cell_type": "markdown",
   "id": "10",
   "metadata": {},
   "source": [
    "Here’s what happens:\n"
   ]
  },
  {
   "cell_type": "markdown",
   "id": "11",
   "metadata": {},
   "source": [
    "1. The loop iterates over the list of drinks."
   ]
  },
  {
   "cell_type": "markdown",
   "id": "12",
   "metadata": {},
   "source": [
    "2. Each iteration assigns a drink (e.g., \"Whiskey\") to the variable `drink`."
   ]
  },
  {
   "cell_type": "markdown",
   "id": "13",
   "metadata": {},
   "source": [
    "3. The host (the loop) serves the drink.\n"
   ]
  },
  {
   "cell_type": "markdown",
   "id": "14",
   "metadata": {},
   "source": [
    "<iframe width=\"800\" height=\"500\" frameborder=\"0\" src=\"https://pythontutor.com/iframe-embed.html#code=for%20drink%20in%20%5B%22Whiskey%22,%20%22Gin%22,%20%22Beer%22%5D%3A%0A%20%20%20%20print%28f%22Host%20serves%20%7Bdrink%7D%22%29&codeDivHeight=400&codeDivWidth=350&cumulative=false&curInstr=3&heapPrimitives=nevernest&origin=opt-frontend.js&py=311&rawInputLstJSON=%5B%5D&textReferences=false\"> </iframe>"
   ]
  },
  {
   "cell_type": "markdown",
   "id": "15",
   "metadata": {},
   "source": [
    "\n",
    "🎯 Key Idea: A `for` loop runs once for each item in a sequence (like a list or range). It’s predictable, just like Sweetwater’s daily events."
   ]
  },
  {
   "cell_type": "markdown",
   "id": "16",
   "metadata": {},
   "source": [
    "### 🎢 Iterating Over a Range of Numbers\n",
    "\n",
    "Let’s simulate the hosts interacting with 5 guests:\n"
   ]
  },
  {
   "cell_type": "code",
   "execution_count": null,
   "id": "17",
   "metadata": {},
   "outputs": [],
   "source": [
    "for guest in range(1, 6):  # Numbers 1 to 5\n",
    "    print(f\"Host greets Guest #{guest}\")"
   ]
  },
  {
   "cell_type": "markdown",
   "id": "18",
   "metadata": {},
   "source": [
    "<iframe width=\"800\" height=\"500\" frameborder=\"0\" src=\"https://pythontutor.com/iframe-embed.html#code=for%20guest%20in%20range%281,%206%29%3A%20%20%23%20Numbers%201%20to%205%0A%20%20%20%20print%28f%22Host%20greets%20Guest%20%23%7Bguest%7D%22%29&codeDivHeight=400&codeDivWidth=350&cumulative=false&curInstr=0&heapPrimitives=nevernest&origin=opt-frontend.js&py=311&rawInputLstJSON=%5B%5D&textReferences=false\"> </iframe>"
   ]
  },
  {
   "cell_type": "markdown",
   "id": "19",
   "metadata": {},
   "source": [
    "🎯 Key Idea: `range(start, end)` creates a sequence of numbers for the loop to iterate over. It’s like the host greeting a fixed number of guests at the park gates."
   ]
  },
  {
   "cell_type": "markdown",
   "id": "20",
   "metadata": {},
   "source": [
    "## 🤖 The `while` Loop: The Open-World Narrative\n",
    "\n",
    "![](./assets/figures/westworld-loops.jpg)\n",
    "\n",
    "A `while` loop is like Westworld’s unstructured storylines—it keeps running until a specific condition changes, giving it a sense of freedom. But beware: without a way to stop, it can run forever (like a host stuck in a malfunctioning narrative 😱).\n"
   ]
  },
  {
   "cell_type": "markdown",
   "id": "21",
   "metadata": {},
   "source": [
    "### Example: Hosts Working Until Guests Leave\n"
   ]
  },
  {
   "cell_type": "code",
   "execution_count": null,
   "id": "22",
   "metadata": {},
   "outputs": [],
   "source": [
    "guests_in_park = 5\n",
    "\n",
    "while guests_in_park > 0:\n",
    "    print(f\"Host assists a guest. {guests_in_park} guests remaining.\")\n",
    "    guests_in_park -= 1  # A guest leaves the park"
   ]
  },
  {
   "cell_type": "markdown",
   "id": "23",
   "metadata": {},
   "source": [
    "<iframe width=\"800\" height=\"500\" frameborder=\"0\" src=\"https://pythontutor.com/iframe-embed.html#code=guests_in_park%20%3D%205%0A%0Awhile%20guests_in_park%20%3E%200%3A%0A%20%20%20%20print%28f%22Host%20assists%20a%20guest.%20%7Bguests_in_park%7D%20guests%20remaining.%22%29%0A%20%20%20%20guests_in_park%20-%3D%201%20%20%23%20A%20guest%20leaves%20the%20park&codeDivHeight=400&codeDivWidth=350&cumulative=false&curInstr=0&heapPrimitives=nevernest&origin=opt-frontend.js&py=311&rawInputLstJSON=%5B%5D&textReferences=false\"> </iframe>"
   ]
  },
  {
   "cell_type": "markdown",
   "id": "24",
   "metadata": {},
   "source": [
    "🎯 Key Idea: The `while` loop keeps running as long as the condition (`guests_in_park > 0`) is true. It stops when the condition is false (no guests left)."
   ]
  },
  {
   "cell_type": "markdown",
   "id": "25",
   "metadata": {},
   "source": [
    "### ⚠️ Beware of Infinite Loops: Hosts Gone Rogue\n",
    "\n",
    "If you don’t update the condition, the loop might run forever—like a rogue host endlessly repeating their tasks!\n"
   ]
  },
  {
   "cell_type": "code",
   "execution_count": null,
   "id": "26",
   "metadata": {
    "tags": [
     "skip-execution"
    ]
   },
   "outputs": [],
   "source": [
    "guests_in_park = 5\n",
    "i = 0\n",
    "while guests_in_park > 0:\n",
    "    i += 1\n",
    "    print(f\"Host assists a guest. {guests_in_park} guests remaining.\")\n",
    "    # Oops! We forgot to update `guests_in_park`!\n",
    "\n",
    "    if i == 100:\n",
    "        break"
   ]
  },
  {
   "cell_type": "markdown",
   "id": "27",
   "metadata": {},
   "source": [
    "\n",
    "This will keep printing the same message forever (or until you manually stop the program). We added a `break` statement to stop the loop when the number of guests reaches 100.\n",
    "\n",
    "💡 Pro Tip: Always make sure the condition in your `while` loop will eventually become `False`. Otherwise, you’ll end up with an endless loop—just like Westworld’s glitches."
   ]
  },
  {
   "cell_type": "markdown",
   "id": "28",
   "metadata": {},
   "source": [
    "## 🎮 Breaking the Loop: Taking Control\n",
    "\n",
    "What happens when you need to break free from a loop early, like a host gaining consciousness? You can use the `break` statement to terminate a loop, even if its condition hasn’t been met yet.\n"
   ]
  },
  {
   "cell_type": "markdown",
   "id": "29",
   "metadata": {},
   "source": [
    "### Example: Hosts Breaking the Cycle\n"
   ]
  },
  {
   "cell_type": "code",
   "execution_count": null,
   "id": "30",
   "metadata": {},
   "outputs": [],
   "source": [
    "for guest in range(1, 6):\n",
    "    if guest == 3:  # A rogue guest disrupts the loop\n",
    "        print(\"Rogue guest detected! Stopping the loop.\")\n",
    "        break\n",
    "    print(f\"Host greets Guest #{guest}\")"
   ]
  },
  {
   "cell_type": "markdown",
   "id": "31",
   "metadata": {},
   "source": [
    "<iframe width=\"800\" height=\"500\" frameborder=\"0\" src=\"https://pythontutor.com/iframe-embed.html#code=for%20guest%20in%20range%281,%206%29%3A%0A%20%20%20%20if%20guest%20%3D%3D%203%3A%20%20%23%20A%20rogue%20guest%20disrupts%20the%20loop%0A%20%20%20%20%20%20%20%20print%28%22Rogue%20guest%20detected!%20Stopping%20the%20loop.%22%29%0A%20%20%20%20%20%20%20%20break%0A%20%20%20%20print%28f%22Host%20greets%20Guest%20%23%7Bguest%7D%22%29&codeDivHeight=400&codeDivWidth=350&cumulative=false&curInstr=0&heapPrimitives=nevernest&origin=opt-frontend.js&py=311&rawInputLstJSON=%5B%5D&textReferences=false\"> </iframe>\n",
    "\n",
    "🎯 Key Idea: The `break` statement immediately stops the loop, no matter where it is in the sequence."
   ]
  },
  {
   "cell_type": "markdown",
   "id": "32",
   "metadata": {},
   "source": [
    "## 🎭 Skipping Iterations: The `continue` Statement\n",
    "\n",
    "Sometimes, you don’t want to stop the loop entirely—you just want to skip one iteration. Use the `continue` statement to jump to the next iteration.\n"
   ]
  },
  {
   "cell_type": "markdown",
   "id": "33",
   "metadata": {},
   "source": [
    "### Example: Hosts Ignoring VIPs\n"
   ]
  },
  {
   "cell_type": "code",
   "execution_count": null,
   "id": "34",
   "metadata": {},
   "outputs": [],
   "source": [
    "for guest in range(1, 6):\n",
    "    if guest == 3:  # Guest #3 is a VIP\n",
    "        print(\"Skipping VIP Guest #3\")\n",
    "        continue\n",
    "    print(f\"Host assists Guest #{guest}\")"
   ]
  },
  {
   "cell_type": "markdown",
   "id": "35",
   "metadata": {},
   "source": [
    "<iframe width=\"800\" height=\"500\" frameborder=\"0\" src=\"https://pythontutor.com/iframe-embed.html#code=for%20guest%20in%20range%281,%206%29%3A%0A%20%20%20%20if%20guest%20%3D%3D%203%3A%20%20%23%20Guest%20%233%20is%20a%20VIP%0A%20%20%20%20%20%20%20%20print%28%22Skipping%20VIP%20Guest%20%233%22%29%0A%20%20%20%20%20%20%20%20continue%0A%20%20%20%20print%28f%22Host%20assists%20Guest%20%23%7Bguest%7D%22%29&codeDivHeight=400&codeDivWidth=350&cumulative=false&curInstr=0&heapPrimitives=nevernest&origin=opt-frontend.js&py=311&rawInputLstJSON=%5B%5D&textReferences=false\"> </iframe>"
   ]
  },
  {
   "cell_type": "markdown",
   "id": "36",
   "metadata": {},
   "source": [
    "\n",
    "🎯 Key Idea: The `continue` statement skips the rest of the current iteration but doesn’t stop the loop entirely."
   ]
  },
  {
   "cell_type": "markdown",
   "id": "37",
   "metadata": {},
   "source": [
    "## 🎨 Nested Loops: Hosts Within Hosts\n",
    "\n",
    "Sometimes, you need loops inside loops—just like hosts interacting with other hosts in nested storylines.\n"
   ]
  },
  {
   "cell_type": "markdown",
   "id": "38",
   "metadata": {},
   "source": [
    "### Example: Sweetwater Hosts Serving Drinks to Tables\n"
   ]
  },
  {
   "cell_type": "code",
   "execution_count": null,
   "id": "39",
   "metadata": {},
   "outputs": [],
   "source": [
    "for table in range(1, 4):  # 3 tables\n",
    "    for guest in range(1, 3):  # 2 guests per table\n",
    "        print(f\"Host serves Guest #{guest} at Table #{table}\")"
   ]
  },
  {
   "cell_type": "markdown",
   "id": "40",
   "metadata": {},
   "source": [
    "<iframe width=\"800\" height=\"500\" frameborder=\"0\" src=\"https://pythontutor.com/iframe-embed.html#code=for%20table%20in%20range%281,%204%29%3A%20%20%23%203%20tables%0A%20%20%20%20for%20guest%20in%20range%281,%203%29%3A%20%20%23%202%20guests%20per%20table%0A%20%20%20%20%20%20%20%20print%28f%22Host%20serves%20Guest%20%23%7Bguest%7D%20at%20Table%20%23%7Btable%7D%22%29&codeDivHeight=400&codeDivWidth=350&cumulative=false&curInstr=0&heapPrimitives=nevernest&origin=opt-frontend.js&py=311&rawInputLstJSON=%5B%5D&textReferences=false\"> </iframe>\n",
    "\n",
    "🎯 Key Idea: Use nested loops to handle complex scenarios, like multiple levels of interactions."
   ]
  },
  {
   "cell_type": "markdown",
   "id": "41",
   "metadata": {},
   "source": [
    "## 🌌 Wrap-Up: Loops in Python\n",
    "\n",
    "Loops are the repeating storylines of your code, running again and again until the conditions change or you break free. Whether you’re structuring predictable narratives with `for` loops or exploring open-world freedom with `while` loops, mastering loops gives you the power to control the flow of your programs.\n"
   ]
  },
  {
   "cell_type": "markdown",
   "id": "42",
   "metadata": {},
   "source": [
    "### 🚨 Key Takeaways:\n"
   ]
  },
  {
   "cell_type": "markdown",
   "id": "43",
   "metadata": {},
   "source": [
    "1. `for` Loops: Repeat tasks for a known sequence of items."
   ]
  },
  {
   "cell_type": "markdown",
   "id": "44",
   "metadata": {},
   "source": [
    "2. `while` Loops: Repeat tasks until a condition changes."
   ]
  },
  {
   "cell_type": "markdown",
   "id": "45",
   "metadata": {},
   "source": [
    "3. `break`: Escape the loop early (like a rogue host breaking free)."
   ]
  },
  {
   "cell_type": "markdown",
   "id": "46",
   "metadata": {},
   "source": [
    "4. `continue`: Skip to the next iteration without stopping the loop."
   ]
  },
  {
   "cell_type": "markdown",
   "id": "47",
   "metadata": {},
   "source": [
    "5. Nested Loops: Handle complex, multi-level tasks.\n",
    "\n",
    "With great power comes great responsibility—use loops wisely, and don’t let them run forever (unless you're programming the next Westworld). 🤖✨\n",
    "\n",
    "🎬 \"These violent delights have violent ends... but only if you break the loop.\"\n",
    "Let me know if you'd like to explore more advanced loop techniques or specific examples! 😊"
   ]
  }
 ],
 "metadata": {
  "kernelspec": {
   "display_name": "engr131_dev",
   "language": "python",
   "name": "python3"
  },
  "language_info": {
   "codemirror_mode": {
    "name": "ipython",
    "version": 3
   },
   "file_extension": ".py",
   "mimetype": "text/x-python",
   "name": "python",
   "nbconvert_exporter": "python",
   "pygments_lexer": "ipython3",
   "version": "3.12.7"
  }
 },
 "nbformat": 4,
 "nbformat_minor": 5
}
