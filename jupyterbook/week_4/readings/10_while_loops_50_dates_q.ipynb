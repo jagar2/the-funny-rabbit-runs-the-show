{
 "cells": [
  {
   "cell_type": "code",
   "execution_count": null,
   "id": "0",
   "metadata": {
    "deletable": false,
    "editable": false,
    "tags": [
     "skip-execution"
    ]
   },
   "outputs": [],
   "source": [
    "# You must make sure to run all cells in sequence using shift + enter or you might encounter errors\n",
    "from pykubegrader.initialize import initialize_assignment\n",
    "\n",
    "responses = initialize_assignment(\"10_while_loops_50_dates_q\", \"week_4\", \"readings\", assignment_points = 26.0, assignment_tag = 'week4-readings')\n",
    "\n",
    "# Initialize Otter\n",
    "import otter \n",
    "grader = otter.Notebook(\"10_while_loops_50_dates_q.ipynb\")"
   ]
  },
  {
   "cell_type": "markdown",
   "id": "1",
   "metadata": {
    "deletable": false,
    "editable": false
   },
   "source": [
    "# ❓ 🌺 50 First Dates 🌴💞\n",
    "\n",
    "![50-first-dates](./assets/figures/50-first-dates-1.jpg)\n",
    "\n",
    "Relive the sweet and quirky moments of 50 First Dates while mastering Python's `while` loops!"
   ]
  },
  {
   "cell_type": "code",
   "execution_count": null,
   "id": "2",
   "metadata": {
    "tags": [
     "skip-execution"
    ]
   },
   "outputs": [],
   "source": [
    "# Run this block of code by pressing Shift + Enter to display the question\n",
    "from questions._10_while_loops_50_dates_q import Question1\n",
    "Question1().show()\n"
   ]
  },
  {
   "cell_type": "code",
   "execution_count": null,
   "id": "3",
   "metadata": {
    "tags": [
     "skip-execution"
    ]
   },
   "outputs": [],
   "source": [
    "# Run this block of code by pressing Shift + Enter to display the question\n",
    "from questions._10_while_loops_50_dates_q import Question2\n",
    "Question2().show()\n"
   ]
  },
  {
   "cell_type": "code",
   "execution_count": null,
   "id": "4",
   "metadata": {
    "tags": [
     "skip-execution"
    ]
   },
   "outputs": [],
   "source": [
    "# Run this block of code by pressing Shift + Enter to display the question\n",
    "from questions._10_while_loops_50_dates_q import Question3\n",
    "Question3().show()\n"
   ]
  },
  {
   "cell_type": "markdown",
   "id": "5",
   "metadata": {
    "deletable": false,
    "editable": false
   },
   "source": [
    "## Sunset Countdown 🌅\n",
    "\n",
    "![sunset](./assets/figures/sunset.jpeg)\n",
    "\n",
    "### Instructions:\n",
    "Henry and Lucy are watching the sunset together. Write a Python program that counts down from `10` to `1` before saying \"Goodnight!\" Use a `while` loop to:\n",
    "\n",
    "1. Start with a countdown value of `10`.\n",
    "2. Print the countdown value, then decrease it by `1` in each iteration.\n",
    "3. Print `\"Goodnight!\"` after the loop ends.\n",
    "\n",
    "#### Example Output:\n",
    "```\n",
    "10\n",
    "9\n",
    "8\n",
    "7\n",
    "6\n",
    "5\n",
    "4\n",
    "3\n",
    "2\n",
    "1\n",
    "Goodnight!\n",
    "```"
   ]
  },
  {
   "cell_type": "code",
   "execution_count": null,
   "id": "6",
   "metadata": {
    "tags": [
     "skip-execution"
    ]
   },
   "outputs": [],
   "source": [
    "def countdown():\n",
    "    ...\n",
    "    \n",
    "countdown()"
   ]
  },
  {
   "cell_type": "code",
   "execution_count": null,
   "id": "7",
   "metadata": {
    "deletable": false,
    "editable": false,
    "tags": [
     "skip-execution"
    ]
   },
   "outputs": [],
   "source": [
    "grader.check(\"FirstDate-SunsetCountdown\")"
   ]
  },
  {
   "cell_type": "markdown",
   "id": "8",
   "metadata": {
    "deletable": false,
    "editable": false
   },
   "source": [
    "## Memory Game 🧠\n",
    "\n",
    "![memory](./assets/figures/memory-vhs.avif)\n",
    "\n",
    "### Instructions:\n",
    "Lucy is trying to remember Henry’s name. She repeats the name `\"Henry\"` until she gets it right, but she can only attempt up to `5` times. Write a Python program to simulate this:\n",
    "\n",
    "1. Use a `while` loop to let Lucy try up to `5` times.\n",
    "2. Print `\"Lucy remembers: Henry!\"` if she succeeds within the limit.\n",
    "3. Print `\"Lucy couldn't remember.\"` if she exceeds `5` attempts.\n",
    "\n",
    "### Implementation Details:\n",
    "\n",
    "1. Use the provided function memory game to simulate Lucy's memory game.\n",
    "2. Define a variable `attempts` to keep track of the number of attempts. Initialize it to `0`.\n",
    "3. Inside the `while` loop, increment the `attempts` variable by `1` in each iteration.\n",
    "4. If `attempts` is equal to `3`, print `\"Lucy remembers: Henry!\"` and `break` out of the loop.\n",
    "5. If `attempts` is less than `3`, print `\"Lucy couldn't remember.\"`.\n",
    "\n",
    "\n",
    "#### Example Output:\n",
    "```\n",
    "Attempt 1: Lucy tries to remember...\n",
    "Attempt 2: Lucy tries to remember...\n",
    "Attempt 3: Lucy tries to remember...\n",
    "Lucy remembers: Henry!\n",
    "```"
   ]
  },
  {
   "cell_type": "code",
   "execution_count": null,
   "id": "9",
   "metadata": {
    "tags": [
     "skip-execution"
    ]
   },
   "outputs": [],
   "source": [
    "def memory_game():\n",
    "    \n",
    "    ..."
   ]
  },
  {
   "cell_type": "code",
   "execution_count": null,
   "id": "10",
   "metadata": {
    "deletable": false,
    "editable": false,
    "tags": [
     "skip-execution"
    ]
   },
   "outputs": [],
   "source": [
    "grader.check(\"FirstDate-MemoryGame\")"
   ]
  },
  {
   "cell_type": "markdown",
   "id": "11",
   "metadata": {},
   "source": [
    "## Submitting Assignment\n",
    "\n",
    "Please run the following block of code using `shift + enter` to submit your assignment, you should see your score."
   ]
  },
  {
   "cell_type": "code",
   "execution_count": null,
   "id": "12",
   "metadata": {
    "deletable": false,
    "editable": false,
    "tags": [
     "skip-execution"
    ]
   },
   "outputs": [],
   "source": [
    "from pykubegrader.submit.submit_assignment import submit_assignment\n",
    "\n",
    "submit_assignment(\"week4-readings\", \"10_while_loops_50_dates_q\")"
   ]
  }
 ],
 "metadata": {
  "kernelspec": {
   "display_name": "engr131_dev",
   "language": "python",
   "name": "python3"
  },
  "language_info": {
   "codemirror_mode": {
    "name": "ipython",
    "version": 3
   },
   "file_extension": ".py",
   "mimetype": "text/x-python",
   "name": "python",
   "nbconvert_exporter": "python",
   "pygments_lexer": "ipython3",
   "version": "3.12.7"
  },
  "otter": {
   "OK_FORMAT": true,
   "tests": {
    "FirstDate-MemoryGame": {
     "name": "FirstDate-MemoryGame",
     "points": null,
     "suites": [
      {
       "cases": [
        {
         "code": ">>> from pykubegrader.telemetry import ensure_responses, log_variable, score_question, submit_question, telemetry, update_responses\n>>> import os\n>>> import inspect\n>>> import re\n>>> max_question_points = str(13.0)\n>>> earned_points = 0\n>>> os.environ['EARNED_POINTS'] = str(earned_points)\n>>> os.environ['TOTAL_POINTS_FREE_RESPONSE'] = str(17.0)\n>>> log_variable('total-points', f'Reading-Week-X, 10_while_loops_50_dates_q', 17.0)\n>>> question_id = 'FirstDate-MemoryGame-1'\n>>> max_score = 1.0\n>>> score = 0\n>>> code = inspect.getsource(memory_game)\n>>> condition = re.search('attempts\\\\s*=\\\\s*0', code)\n>>> assert condition, \"The variable 'attempts' must be initialized to 0.\"\n>>> if condition:\n...     score = 1.0\n>>> earned_points = float(os.environ.get('EARNED_POINTS', 0))\n>>> earned_points += score\n>>> log_variable('10_while_loops_50_dates_q', f'{score}, {max_score}', question_id)\n>>> os.environ['EARNED_POINTS'] = str(earned_points)\n>>> responses = update_responses(question_id, str(code))\n",
         "failure_message": "Failed: 'attempts' must be initialized to 0.",
         "hidden": false,
         "locked": false,
         "points": 1,
         "success_message": "Success: 'attempts' is initialized to 0."
        },
        {
         "code": ">>> from pykubegrader.telemetry import ensure_responses, log_variable, score_question, submit_question, telemetry, update_responses\n>>> import os\n>>> import inspect\n>>> import re\n>>> question_id = 'FirstDate-MemoryGame-2'\n>>> max_score = 2.0\n>>> score = 0\n>>> code = inspect.getsource(memory_game)\n>>> condition = re.search('while\\\\s+attempts\\\\s*<\\\\s*5', code)\n>>> assert condition, \"The 'while' loop must have the condition 'attempts < 5'.\"\n>>> if condition:\n...     score = 2.0\n>>> earned_points = float(os.environ.get('EARNED_POINTS', 0))\n>>> earned_points += score\n>>> log_variable('10_while_loops_50_dates_q', f'{score}, {max_score}', question_id)\n>>> os.environ['EARNED_POINTS'] = str(earned_points)\n>>> responses = update_responses(question_id, str(code))\n",
         "failure_message": "Failed: The while loop must have the condition 'attempts < 5'.",
         "hidden": false,
         "locked": false,
         "points": 2,
         "success_message": "Success: The while loop checks for 'attempts < 5'."
        },
        {
         "code": ">>> from pykubegrader.telemetry import ensure_responses, log_variable, score_question, submit_question, telemetry, update_responses\n>>> import os\n>>> import inspect\n>>> import re\n>>> question_id = 'FirstDate-MemoryGame-3'\n>>> max_score = 2.0\n>>> score = 0\n>>> code = inspect.getsource(memory_game)\n>>> condition = re.search('attempts\\\\s*\\\\+\\\\=\\\\s*1', code)\n>>> assert condition, \"'attempts' must be incremented by 1 within the loop.\"\n>>> if condition:\n...     score = 2.0\n>>> earned_points = float(os.environ.get('EARNED_POINTS', 0))\n>>> earned_points += score\n>>> log_variable('10_while_loops_50_dates_q', f'{score}, {max_score}', question_id)\n>>> os.environ['EARNED_POINTS'] = str(earned_points)\n>>> responses = update_responses(question_id, str(code))\n",
         "failure_message": "Failed: 'attempts' must be incremented by 1 within the loop.",
         "hidden": false,
         "locked": false,
         "points": 2,
         "success_message": "Success: 'attempts' is incremented by 1 inside the loop."
        },
        {
         "code": ">>> from pykubegrader.telemetry import ensure_responses, log_variable, score_question, submit_question, telemetry, update_responses\n>>> import os\n>>> import inspect\n>>> import re\n>>> question_id = 'FirstDate-MemoryGame-4'\n>>> max_score = 2.0\n>>> score = 0\n>>> code = inspect.getsource(memory_game)\n>>> condition = re.search('if\\\\s+attempts\\\\s*==\\\\s*3', code)\n>>> assert condition, \"The program must check if 'attempts == 3'.\"\n>>> if condition:\n...     score = 2.0\n>>> earned_points = float(os.environ.get('EARNED_POINTS', 0))\n>>> earned_points += score\n>>> log_variable('10_while_loops_50_dates_q', f'{score}, {max_score}', question_id)\n>>> os.environ['EARNED_POINTS'] = str(earned_points)\n>>> responses = update_responses(question_id, str(code))\n",
         "failure_message": "Failed: The program must check for 'attempts == 3'.",
         "hidden": false,
         "locked": false,
         "points": 2,
         "success_message": "Success: The program checks if 'attempts == 3'."
        },
        {
         "code": ">>> from pykubegrader.telemetry import ensure_responses, log_variable, score_question, submit_question, telemetry, update_responses\n>>> import os\n>>> import inspect\n>>> import re\n>>> question_id = 'FirstDate-MemoryGame-5'\n>>> max_score = 2.0\n>>> score = 0\n>>> code = inspect.getsource(memory_game)\n>>> condition = re.search('break', code)\n>>> assert condition, \"The loop must include a 'break' statement.\"\n>>> if condition:\n...     score = 2.0\n>>> earned_points = float(os.environ.get('EARNED_POINTS', 0))\n>>> earned_points += score\n>>> log_variable('10_while_loops_50_dates_q', f'{score}, {max_score}', question_id)\n>>> os.environ['EARNED_POINTS'] = str(earned_points)\n>>> responses = update_responses(question_id, str(code))\n",
         "failure_message": "Failed: The loop must include a 'break' statement.",
         "hidden": false,
         "locked": false,
         "points": 2,
         "success_message": "Success: The loop contains a 'break' statement to exit early."
        },
        {
         "code": ">>> from pykubegrader.telemetry import ensure_responses, log_variable, score_question, submit_question, telemetry, update_responses\n>>> import os\n>>> import inspect\n>>> import re\n>>> question_id = 'FirstDate-MemoryGame-6'\n>>> max_score = 1.0\n>>> score = 0\n>>> code = inspect.getsource(memory_game)\n>>> condition = re.search('print\\\\(\\\\s*f?[\\\\\"\\']Attempt\\\\s+\\\\{attempts\\\\}', code)\n>>> assert condition, 'The program must print the attempt message in each iteration.'\n>>> if condition:\n...     score = 1.0\n>>> earned_points = float(os.environ.get('EARNED_POINTS', 0))\n>>> earned_points += score\n>>> log_variable('10_while_loops_50_dates_q', f'{score}, {max_score}', question_id)\n>>> os.environ['EARNED_POINTS'] = str(earned_points)\n>>> responses = update_responses(question_id, str(code))\n",
         "failure_message": "Failed: The program must print the attempt message in each iteration.",
         "hidden": false,
         "locked": false,
         "points": 1,
         "success_message": "Success: The program prints the attempt message."
        },
        {
         "code": ">>> from pykubegrader.telemetry import ensure_responses, log_variable, score_question, submit_question, telemetry, update_responses\n>>> import os\n>>> import inspect\n>>> import re\n>>> question_id = 'FirstDate-MemoryGame-7'\n>>> max_score = 2.0\n>>> score = 0\n>>> code = inspect.getsource(memory_game)\n>>> condition = re.search('print\\\\(\\\\s*f?[\\\\\"\\']Lucy remembers.*Henry.*', code)\n>>> assert condition, \"The program must print 'Lucy remembers: Henry!' when she remembers.\"\n>>> if condition:\n...     score = 2.0\n>>> earned_points = float(os.environ.get('EARNED_POINTS', 0))\n>>> earned_points += score\n>>> log_variable('10_while_loops_50_dates_q', f'{score}, {max_score}', question_id)\n>>> os.environ['EARNED_POINTS'] = str(earned_points)\n>>> responses = update_responses(question_id, str(code))\n",
         "failure_message": "Failed: The program must print 'Lucy remembers: Henry!' when she remembers.",
         "hidden": false,
         "locked": false,
         "points": 2,
         "success_message": "Success: The program prints 'Lucy remembers: Henry!' when she remembers."
        },
        {
         "code": ">>> from pykubegrader.telemetry import ensure_responses, log_variable, score_question, submit_question, telemetry, update_responses\n>>> import os\n>>> import inspect\n>>> import re\n>>> question_id = 'FirstDate-MemoryGame-8'\n>>> max_score = 1.0\n>>> score = 0\n>>> code = inspect.getsource(memory_game)\n>>> condition = re.search('print\\\\(\\\\s*f?[\\\\\"\\']Lucy couldn\\'t remember.*', code)\n>>> assert condition, \"The program must print 'Lucy couldn't remember.' for unsuccessful attempts.\"\n>>> if condition:\n...     score = 1.0\n>>> earned_points = float(os.environ.get('EARNED_POINTS', 0))\n>>> earned_points += score\n>>> log_variable('10_while_loops_50_dates_q', f'{score}, {max_score}', question_id)\n>>> os.environ['EARNED_POINTS'] = str(earned_points)\n>>> responses = update_responses(question_id, str(code))\n",
         "failure_message": "Failed: The program must print 'Lucy couldn't remember.' for unsuccessful attempts.",
         "hidden": false,
         "locked": false,
         "points": 1,
         "success_message": "Success: The program prints 'Lucy couldn't remember.' for unsuccessful attempts."
        }
       ],
       "scored": true,
       "setup": "",
       "teardown": "",
       "type": "doctest"
      }
     ]
    },
    "FirstDate-SunsetCountdown": {
     "name": "FirstDate-SunsetCountdown",
     "points": null,
     "suites": [
      {
       "cases": [
        {
         "code": ">>> from pykubegrader.telemetry import ensure_responses, log_variable, score_question, submit_question, telemetry, update_responses\n>>> import os\n>>> from io import StringIO\n>>> import sys\n>>> max_question_points = str(4.0)\n>>> earned_points = 0\n>>> os.environ['EARNED_POINTS'] = str(earned_points)\n>>> os.environ['TOTAL_POINTS_FREE_RESPONSE'] = str(17.0)\n>>> log_variable('total-points', f'Reading-Week-X, 10_while_loops_50_dates_q', 17.0)\n>>> question_id = 'FirstDate-SunsetCountdown-1'\n>>> max_score = 2.0\n>>> score = 0\n>>> output = StringIO()\n>>> sys.stdout = output\n>>> countdown()\n>>> sys.stdout = sys.stdout\n>>> output_value = output.getvalue().strip()\n>>> assert output_value.endswith('Goodnight!'), \"The program did not end with 'Goodnight!'.\"\n>>> if output_value.endswith('Goodnight!'):\n...     score = 2.0\n>>> earned_points = float(os.environ.get('EARNED_POINTS', 0))\n>>> earned_points += score\n>>> log_variable('10_while_loops_50_dates_q', f'{score}, {max_score}', question_id)\n>>> os.environ['EARNED_POINTS'] = str(earned_points)\n>>> responses = update_responses(question_id, str(output))\n",
         "failure_message": "Failed: The countdown did not end correctly.",
         "hidden": false,
         "locked": false,
         "points": 2,
         "success_message": "Success: The countdown ends with 'Goodnight!'"
        },
        {
         "code": ">>> from pykubegrader.telemetry import ensure_responses, log_variable, score_question, submit_question, telemetry, update_responses\n>>> import os\n>>> from io import StringIO\n>>> import sys\n>>> question_id = 'FirstDate-SunsetCountdown-2'\n>>> max_score = 2.0\n>>> score = 0\n>>> output = StringIO()\n>>> sys.stdout = output\n>>> countdown()\n>>> sys.stdout = sys.stdout\n>>> output_value = output.getvalue().strip().replace('\\n', '')\n>>> expected_numbers = ''.join((str(i) for i in range(10, 0, -1)))\n>>> condition = expected_numbers in output_value\n>>> assert condition, 'The program did not print all numbers from 10 to 1 in the countdown.'\n>>> if condition:\n...     score = 2.0\n>>> earned_points = float(os.environ.get('EARNED_POINTS', 0))\n>>> earned_points += score\n>>> log_variable('10_while_loops_50_dates_q', f'{score}, {max_score}', question_id)\n>>> os.environ['EARNED_POINTS'] = str(earned_points)\n>>> responses = update_responses(question_id, str(output))\n",
         "failure_message": "Failed: The countdown did not print all numbers from 10 to 1.",
         "hidden": false,
         "locked": false,
         "points": 2,
         "success_message": "Success: The countdown prints all numbers from 10 to 1."
        }
       ],
       "scored": true,
       "setup": "",
       "teardown": "",
       "type": "doctest"
      }
     ]
    }
   }
  }
 },
 "nbformat": 4,
 "nbformat_minor": 5
}
