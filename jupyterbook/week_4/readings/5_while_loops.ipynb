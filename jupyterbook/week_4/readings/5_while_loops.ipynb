{
 "cells": [
  {
   "cell_type": "markdown",
   "id": "0",
   "metadata": {},
   "source": [
    "Here’s a fun and engaging explanation of **while loops** in Python, using the theme of **TikTok reels**! 🎥✨\n",
    "\n",
    "# 🎥 **While Loops in Python: TikTok Reels Style**\n",
    "\n",
    "_\"While loops are like TikTok reels—looping endlessly until you swipe away (or meet the condition to stop).\"_\n",
    "\n",
    "On TikTok, reels keep playing one after another, looping endlessly unless you take action—like swiping to the next video, closing the app, or running out of content. Similarly, **while loops** in Python repeat a block of code **until a condition is no longer true**.\n",
    "\n",
    "Let’s break this down TikTok-style and explore how **while loops** work in Python. 🎶✨\n",
    "\n",
    "## 🎯 **What is a While Loop?**\n",
    "\n",
    "A **while loop** in Python is like the TikTok algorithm:\n",
    "\n",
    "- It keeps showing you reels as long as you’re active (the condition is true).\n",
    "- The moment you swipe away or close the app (the condition becomes false), the loop stops.\n",
    "\n",
    "### Syntax:"
   ]
  },
  {
   "cell_type": "code",
   "execution_count": null,
   "id": "1",
   "metadata": {},
   "outputs": [],
   "source": [
    "while condition:\n",
    "    # Repeat this block of code"
   ]
  },
  {
   "cell_type": "markdown",
   "id": "2",
   "metadata": {},
   "source": [
    "- **`condition`**: A logical expression that’s checked before each iteration. If `True`, the loop runs; if `False`, the loop stops.\n",
    "\n",
    "## 🎬 **Example 1: Watching Reels Until You Swipe Away**\n",
    "\n",
    "Let’s simulate watching TikTok reels. As long as you’re enjoying the content, the loop continues:"
   ]
  },
  {
   "cell_type": "code",
   "execution_count": null,
   "id": "3",
   "metadata": {},
   "outputs": [],
   "source": [
    "enjoying_reels = True\n",
    "reel_count = 0\n",
    "\n",
    "while enjoying_reels:\n",
    "    reel_count += 1\n",
    "    print(f\"Watching reel #{reel_count}... 🎥\")\n",
    "\n",
    "    if reel_count == 5:  # After 5 reels, you get bored\n",
    "        print(\"I'm bored. Swiping away... 🙄\")\n",
    "        enjoying_reels = False"
   ]
  },
  {
   "cell_type": "markdown",
   "id": "4",
   "metadata": {},
   "source": [
    "### Output:\n",
    "\n",
    "```\n",
    "Watching reel #1... 🎥\n",
    "Watching reel #2... 🎥\n",
    "Watching reel #3... 🎥\n",
    "Watching reel #4... 🎥\n",
    "Watching reel #5... 🎥\n",
    "I'm bored. Swiping away... 🙄\n",
    "```\n",
    "\n",
    "🎯 **Key Idea**: The loop keeps running while the condition `enjoying_reels` is `True`. Once it becomes `False`, the loop stops.\n",
    "\n",
    "## ⏳ **Infinite Loops: The Never-Ending TikTok Scrolling**\n",
    "\n",
    "What happens if you never get bored? That’s an **infinite loop**—like getting trapped in endless TikTok reels because the condition never changes.\n",
    "\n",
    "### Example 2: Infinite Reels"
   ]
  },
  {
   "cell_type": "code",
   "execution_count": null,
   "id": "5",
   "metadata": {},
   "outputs": [],
   "source": [
    "while True:  # This condition is always True\n",
    "    print(\"Another reel... 🎶\")\n",
    "    time.sleep(1)  # Add a delay for realism (optional)"
   ]
  },
  {
   "cell_type": "markdown",
   "id": "6",
   "metadata": {},
   "source": [
    "⚠️ **Warning**: Infinite loops will keep running forever unless you manually stop them. Always make sure your loop has a way to exit!\n",
    "\n",
    "## 🎭 **Adding a Swipe Condition with User Input**\n",
    "\n",
    "Let’s introduce interactivity: You can swipe away whenever you want, like on TikTok.\n",
    "\n",
    "### Example 3: Interactive Reels"
   ]
  },
  {
   "cell_type": "code",
   "execution_count": null,
   "id": "7",
   "metadata": {},
   "outputs": [],
   "source": [
    "reel_count = 0\n",
    "\n",
    "while True:\n",
    "    reel_count += 1\n",
    "    print(f\"Watching reel #{reel_count}... 🎥\")\n",
    "    user_input = input(\"Swipe to the next reel? (yes/no): \")\n",
    "\n",
    "    if user_input.lower() == \"no\":\n",
    "        print(\"Swiping away. Goodbye, TikTok! 👋\")\n",
    "        break"
   ]
  },
  {
   "cell_type": "markdown",
   "id": "8",
   "metadata": {},
   "source": [
    "### Output:\n",
    "\n",
    "```\n",
    "Watching reel #1... 🎥\n",
    "Swipe to the next reel? (yes/no): yes\n",
    "Watching reel #2... 🎥\n",
    "Swipe to the next reel? (yes/no): no\n",
    "Swiping away. Goodbye, TikTok! 👋\n",
    "```\n",
    "\n",
    "🎯 **Key Idea**: Use **`break`** to exit the loop when the user decides to stop watching reels.\n",
    "\n",
    "## 🎵 **Skipping Over Content with `continue`**\n",
    "\n",
    "Sometimes, you want to skip certain reels (e.g., boring or irrelevant ones) but keep watching the rest. The **`continue`** statement skips the current iteration and moves to the next reel.\n",
    "\n",
    "### Example 4: Skipping Boring Reels"
   ]
  },
  {
   "cell_type": "code",
   "execution_count": null,
   "id": "9",
   "metadata": {},
   "outputs": [],
   "source": [
    "reels = [\"Funny Reel 😂\", \"Ad Reel 🛒\", \"Dance Reel 💃\", \"Boring Reel 🙄\", \"Pet Reel 🐶\"]\n",
    "\n",
    "for reel in reels:\n",
    "    if \"Boring\" in reel:\n",
    "        print(f\"Skipping {reel}... 😴\")\n",
    "        continue\n",
    "    print(f\"Watching {reel}... 🎥\")"
   ]
  },
  {
   "cell_type": "markdown",
   "id": "10",
   "metadata": {},
   "source": [
    "### Output:\n",
    "\n",
    "```\n",
    "Watching Funny Reel 😂... 🎥\n",
    "Watching Ad Reel 🛒... 🎥\n",
    "Watching Dance Reel 💃... 🎥\n",
    "Skipping Boring Reel 🙄... 😴\n",
    "Watching Pet Reel 🐶... 🎥\n",
    "```\n",
    "\n",
    "🎯 **Key Idea**: `continue` skips the current iteration without stopping the loop entirely.\n",
    "\n",
    "## 🎡 **Nested While Loops: Reels Within Reels**\n",
    "\n",
    "TikTok might loop through different categories of content (e.g., funny, dance, pet reels). You can use **nested loops** to simulate categories within categories.\n",
    "\n",
    "### Example 5: Watching Content by Category"
   ]
  },
  {
   "cell_type": "code",
   "execution_count": null,
   "id": "11",
   "metadata": {},
   "outputs": [],
   "source": [
    "categories = {\n",
    "    \"Funny\": [\"Reel 1 😂\", \"Reel 2 😂\"],\n",
    "    \"Dance\": [\"Reel 1 💃\", \"Reel 2 💃\"],\n",
    "    \"Pets\": [\"Reel 1 🐶\", \"Reel 2 🐱\"]\n",
    "}\n",
    "\n",
    "for category, reels in categories.items():\n",
    "    print(f\"Category: {category} 📂\")\n",
    "    for reel in reels:\n",
    "        print(f\"  Watching {reel} 🎥\")"
   ]
  },
  {
   "cell_type": "markdown",
   "id": "12",
   "metadata": {},
   "source": [
    "### Output:\n",
    "\n",
    "```\n",
    "Category: Funny 📂\n",
    "  Watching Reel 1 😂 🎥\n",
    "  Watching Reel 2 😂 🎥\n",
    "Category: Dance 📂\n",
    "  Watching Reel 1 💃 🎥\n",
    "  Watching Reel 2 💃 🎥\n",
    "Category: Pets 📂\n",
    "  Watching Reel 1 🐶 🎥\n",
    "  Watching Reel 2 🐱 🎥\n",
    "```\n",
    "\n",
    "🎯 **Key Idea**: Nested loops let you handle complex structures like categories or playlists.\n",
    "\n",
    "## 🛠️ **Controlling Loops with Counters**\n",
    "\n",
    "Let’s limit how many reels you can watch before TikTok automatically stops (like a parental control or time limit).\n",
    "\n",
    "### Example 6: TikTok Timeout"
   ]
  },
  {
   "cell_type": "code",
   "execution_count": null,
   "id": "13",
   "metadata": {},
   "outputs": [],
   "source": [
    "time_limit = 3  # Max number of reels you can watch\n",
    "reel_count = 0\n",
    "\n",
    "while reel_count < time_limit:\n",
    "    reel_count += 1\n",
    "    print(f\"Watching reel #{reel_count}... 🎥\")\n",
    "else:\n",
    "    print(\"You've reached your time limit! No more TikTok for now. 🚫\")"
   ]
  },
  {
   "cell_type": "markdown",
   "id": "14",
   "metadata": {},
   "source": [
    "### Output:\n",
    "\n",
    "```\n",
    "Watching reel #1... 🎥\n",
    "Watching reel #2... 🎥\n",
    "Watching reel #3... 🎥\n",
    "You've reached your time limit! No more TikTok for now. 🚫\n",
    "```\n",
    "\n",
    "🎯 **Key Idea**: Use a **counter** to keep track of iterations and combine it with the `else` block for graceful exits.\n",
    "\n",
    "## 🎬 **Conclusion: While Loops in TikTok Style**\n",
    "\n",
    "Just like TikTok reels, **while loops** repeat endlessly until you break the flow. Whether you’re interacting with user input, skipping boring items, or timing out the session, `while` loops offer dynamic control for repetitive tasks.\n",
    "\n",
    "### 🚀 **Key Takeaways:**\n",
    "\n",
    "1. **`while condition:`**: The loop runs as long as the condition is true.\n",
    "2. **Infinite Loops**: Great for continuous processes (but be cautious!).\n",
    "3. **`break`**: Exit the loop early when a specific condition is met.\n",
    "4. **`continue`**: Skip over the current iteration and move to the next.\n",
    "5. **Counters and Conditions**: Use counters to limit or manage iterations.\n",
    "6. **Nested Loops**: Perfect for organizing complex structures like categories or playlists.\n",
    "\n",
    "With this knowledge, you can handle loops like a pro—whether you're programming TikTok reels or any other repetitive process! 🎥✨\n",
    "\n",
    "Let me know if you’d like additional examples or animations to complement the theme! 😊"
   ]
  }
 ],
 "metadata": {
  "jupytext": {
   "cell_metadata_filter": "-all",
   "main_language": "python",
   "notebook_metadata_filter": "-all"
  }
 },
 "nbformat": 4,
 "nbformat_minor": 5
}
