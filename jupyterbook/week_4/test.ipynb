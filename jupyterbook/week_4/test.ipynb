{
 "cells": [
  {
   "cell_type": "code",
   "execution_count": null,
   "metadata": {},
   "outputs": [],
   "source": [
    "import json\n",
    "import re\n",
    "\n",
    "def extract_config_from_notebook(notebook_path):\n",
    "    \"\"\"\n",
    "    Extract configuration text from a Jupyter Notebook.\n",
    "\n",
    "    Parameters:\n",
    "        notebook_path (str): Path to the Jupyter Notebook file.\n",
    "\n",
    "    Returns:\n",
    "        str: The configuration text if found, otherwise an empty string.\n",
    "    \"\"\"\n",
    "    with open(notebook_path, \"r\", encoding=\"utf-8\") as f:\n",
    "        notebook_data = json.load(f)\n",
    "\n",
    "    # Iterate through cells to find the configuration text\n",
    "    config_text = \"\"\n",
    "    for cell in notebook_data.get(\"cells\", []):\n",
    "        if cell.get(\"cell_type\") == \"raw\":  # Check for code cells\n",
    "            source = \"\".join(cell.get(\"source\", []))\n",
    "            if \"# ASSIGNMENT CONFIG\" in source:\n",
    "                config_text = source\n",
    "                break\n",
    "\n",
    "    return config_text\n",
    "\n",
    "\n",
    "def extract_files(config_text):\n",
    "    \"\"\"\n",
    "    Extract the list of files from the given configuration text, excluding .bin files.\n",
    "\n",
    "    Parameters:\n",
    "        config_text (str): The configuration text to process.\n",
    "\n",
    "    Returns:\n",
    "        list: A list of file names excluding .bin files.\n",
    "    \"\"\"\n",
    "    # Regular expression to extract files list\n",
    "    file_pattern = re.search(r\"files:\\s*\\[(.*?)\\]\", config_text, re.DOTALL)\n",
    "\n",
    "    if file_pattern:\n",
    "        files = file_pattern.group(1)\n",
    "        # Split the list into individual file names and exclude .bin files\n",
    "        file_list = [\n",
    "            file.strip()\n",
    "            for file in files.split(\",\")\n",
    "            if not file.strip().endswith(\".bin\")\n",
    "        ]\n",
    "        return file_list\n",
    "    else:\n",
    "        return []"
   ]
  },
  {
   "cell_type": "code",
   "execution_count": null,
   "metadata": {},
   "outputs": [],
   "source": [
    "config = extract_config_from_notebook(\"/home/jca92/ENGR131_W25_dev/jupyterbook/week_4/homework/homework_4.ipynb\")\n",
    "out = extract_files(config)"
   ]
  },
  {
   "cell_type": "code",
   "execution_count": null,
   "metadata": {},
   "outputs": [],
   "source": [
    "out"
   ]
  },
  {
   "cell_type": "code",
   "execution_count": null,
   "metadata": {},
   "outputs": [],
   "source": []
  }
 ],
 "metadata": {
  "kernelspec": {
   "display_name": "engr131_dev",
   "language": "python",
   "name": "python3"
  },
  "language_info": {
   "codemirror_mode": {
    "name": "ipython",
    "version": 3
   },
   "file_extension": ".py",
   "mimetype": "text/x-python",
   "name": "python",
   "nbconvert_exporter": "python",
   "pygments_lexer": "ipython3",
   "version": "3.12.7"
  }
 },
 "nbformat": 4,
 "nbformat_minor": 2
}
