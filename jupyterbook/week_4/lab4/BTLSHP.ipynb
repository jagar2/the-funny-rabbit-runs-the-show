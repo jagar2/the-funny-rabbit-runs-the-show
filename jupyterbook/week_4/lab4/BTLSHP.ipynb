{
 "cells": [
  {
   "cell_type": "raw",
   "id": "0",
   "metadata": {},
   "source": [
    "# ASSIGNMENT CONFIG\n",
    "solutions_pdf: true\n",
    "generate:\n",
    "    pdf: true\n",
    "    filtering: true\n",
    "    pagebreaks: true\n",
    "    zips: false\n",
    "files: [.client_private_key.bin, .server_public_key.bin]"
   ]
  },
  {
   "cell_type": "raw",
   "id": "1",
   "metadata": {
    "vscode": {
     "languageId": "raw"
    }
   },
   "source": [
    "# BEGIN QUESTION\n",
    "name: battle-ship-game"
   ]
  },
  {
   "cell_type": "markdown",
   "id": "2",
   "metadata": {},
   "source": [
    "# Text explaining the problem and game"
   ]
  },
  {
   "cell_type": "raw",
   "id": "3",
   "metadata": {},
   "source": [
    "# BEGIN SOLUTION"
   ]
  },
  {
   "cell_type": "code",
   "execution_count": null,
   "id": "4",
   "metadata": {},
   "outputs": [],
   "source": [
    "#Run this cell, but don't edit it!\n",
    "def initialize_game(size=10):\n",
    "    \"\"\"\n",
    "    Initialize the Battleship game board and ship data.\n",
    "\n",
    "    :param size: The size of the game board (size x size). Default is 5.\n",
    "    :return: A tuple (board, ships), where board is a grid representing the game state,\n",
    "             and ships is a dictionary for storing ship placements.\n",
    "    \"\"\"\n",
    "    board = [[\"~\"] * size for _ in range(size)]\n",
    "    ships = {}\n",
    "    return board, ships\n",
    "\n",
    "def place_ship(board, ships, name, coordinates):\n",
    "    \"\"\"\n",
    "    Place a ship on the board.\n",
    "\n",
    "    :param board: The game board.\n",
    "    :param ships: Dictionary to store ship placements.\n",
    "    :param name: Name of the ship (e.g., \"Carrier\").\n",
    "    :param coordinates: List of (row, col) tuples representing the ship's placement on the board.\n",
    "        Each tuple corresponds to a grid cell. For example, [(1, 1), (1, 2)] places a ship in the\n",
    "        top-left two cells horizontally (human-readable coordinates).\n",
    "    :raises ValueError: If any coordinate is out of bounds of the board.\n",
    "    \"\"\"\n",
    "    size = len(board)\n",
    "    for (row, col) in coordinates:\n",
    "        row -= 1  # Convert to 0-based index\n",
    "        col -= 1  # Convert to 0-based index\n",
    "        \n",
    "        # BEGIN SOLUTION\n",
    "        if 0 <= row < size and 0 <= col < size:\n",
    "            board[row][col] = \"S\"\n",
    "        # END SOLUTION\n",
    "        else:\n",
    "            raise ValueError(\"Invalid ship placement: Out of bounds.\")\n",
    "        \n",
    "        \n",
    "    ships[name] = set((r - 1, c - 1) for r, c in coordinates)  # Store 0-based coordinates\n",
    "\n",
    "def fire(board, ships, target):\n",
    "    \"\"\"\n",
    "    Fire at a target.\n",
    "\n",
    "    :param board: The game board.\n",
    "    :param ships: Dictionary containing ship placements.\n",
    "    :param target: A tuple (row, col) to fire upon (human-readable coordinates).\n",
    "    :return: Result of the shot: \"Hit\", \"Miss\", or \"Already Fired\".\n",
    "    \"\"\"\n",
    "    row, col = target\n",
    "    row -= 1  # Convert to 0-based index\n",
    "    col -= 1  # Convert to 0-based index\n",
    "    size = len(board)\n",
    "    # BEGIN SOLUTION\n",
    "    if 0 <= row < size and 0 <= col < size:\n",
    "        if board[row][col] == \"X\" or board[row][col] == \"M\":\n",
    "            return \"Already Fired\"\n",
    "        elif board[row][col] == \"S\":\n",
    "            board[row][col] = \"X\"\n",
    "    # END SOLUTION\n",
    "            for name, coords in ships.items():\n",
    "    # BEGIN SOLUTION\n",
    "                if (row, col) in coords:\n",
    "                    coords.remove((row, col))\n",
    "                    if not coords:\n",
    "                        ships.pop(name)\n",
    "                        return f\"Hit and Sunk {name}!\"\n",
    "            return \"Hit\"\n",
    "        else:\n",
    "            board[row][col] = \"M\"\n",
    "            return \"Miss\"\n",
    "    else:\n",
    "        return \"Out of Bounds\"\n",
    "    # END SOLUTION\n",
    "\n",
    "def display_board(board):\n",
    "    \"\"\"Display the current game board.\"\"\"\n",
    "    for row in board:\n",
    "        print(\" \".join(row))"
   ]
  },
  {
   "cell_type": "code",
   "execution_count": null,
   "id": "5",
   "metadata": {},
   "outputs": [],
   "source": [
    "# Initialize game\n",
    "# On the next line, only change the integer input (or keep default at 10) \n",
    "board, ships = initialize_game(10)\n",
    "\n",
    "# Place ships \n",
    "# Carrier (occupies 5 spaces), Submarine (occupies 3)\n",
    "place_ship(board, ships, \"Carrier\", [(1, 1), (1, 2), (1, 3),(1, 4),(1, 5)])\n",
    "place_ship(board, ships, \"Submarine\", [(3, 3), (4, 4), (5, 5)])\n",
    "\n",
    "# Place remaining 3 ships -- Battleship (occupies 4), Destroyer (occupies 3), Patrol_Boat (occupies 2)\n",
    "# Don't change the first two inputs to place_ship: (board, ships, ... , ...)\n",
    "# Do change the 3rd input to state ship name as a string\n",
    "# Do change the 4th input to describe ship placement as a list of tuples \n",
    "\n",
    "# Maybe delete the next three # below to unlock that code?\n",
    "\n",
    "#place_ship(board, ship,\"Perhapssomethingthatshouldbeedited\",[(3, 3), (4, 4), (5, 5)])\n",
    "#place_ship(board,,,)\n",
    "#place_ship(,,,,)\n",
    "\n",
    "# Display the board\n",
    "print(\"Initial Board:\")\n",
    "display_board(board)"
   ]
  },
  {
   "cell_type": "code",
   "execution_count": null,
   "id": "6",
   "metadata": {},
   "outputs": [],
   "source": [
    "print(fire(board, ships, (3, 3)))  \n",
    "display_board(board)"
   ]
  },
  {
   "cell_type": "code",
   "execution_count": null,
   "id": "7",
   "metadata": {},
   "outputs": [],
   "source": [
    "print(fire(board, ships, (4, 4)))  \n",
    "display_board(board)"
   ]
  },
  {
   "cell_type": "code",
   "execution_count": null,
   "id": "8",
   "metadata": {},
   "outputs": [],
   "source": [
    "print(fire(board, ships, (5, 5))) \n",
    "display_board(board)"
   ]
  },
  {
   "cell_type": "code",
   "execution_count": null,
   "id": "9",
   "metadata": {},
   "outputs": [],
   "source": []
  }
 ],
 "metadata": {
  "kernelspec": {
   "display_name": "engr131_dev",
   "language": "python",
   "name": "python3"
  },
  "language_info": {
   "codemirror_mode": {
    "name": "ipython",
    "version": 3
   },
   "file_extension": ".py",
   "mimetype": "text/x-python",
   "name": "python",
   "nbconvert_exporter": "python",
   "pygments_lexer": "ipython3",
   "version": "3.12.7"
  }
 },
 "nbformat": 4,
 "nbformat_minor": 5
}
