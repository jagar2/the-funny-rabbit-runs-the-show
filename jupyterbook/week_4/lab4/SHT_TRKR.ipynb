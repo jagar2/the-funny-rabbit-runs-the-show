{
 "cells": [
  {
   "cell_type": "code",
   "execution_count": null,
   "id": "0",
   "metadata": {},
   "outputs": [],
   "source": [
    "#Run this cell, but don't edit it!\n",
    "def initialize_tracking_board(size=10):\n",
    "    \"\"\"\n",
    "    Initialize a tracking board for recording shots on the opponent's board.\n",
    "\n",
    "    :param size: The size of the game board (size x size). Default is 5.\n",
    "    :return: A grid representing the tracking board, initialized with '~' for all cells.\n",
    "    \"\"\"\n",
    "    return [[\"~\"] * size for _ in range(size)]\n",
    "\n",
    "def record_shot(tracking_board, target, result):\n",
    "    \"\"\"\n",
    "    Record the result of a shot on the tracking board.\n",
    "\n",
    "    :param tracking_board: The tracking board for the opponent's grid.\n",
    "    :param target: A tuple (row, col) indicating where the shot was fired (human-readable coordinates).\n",
    "    :param result: The result of the shot: \"Hit\", \"Miss\", or \"Hit and Sunk {ship}\".\n",
    "    \"\"\"\n",
    "    row, col = target\n",
    "    row -= 1  # Convert to 0-based index\n",
    "    col -= 1  # Convert to 0-based index\n",
    "\n",
    "    if \"Hit\" in result:\n",
    "        tracking_board[row][col] = \"X\"  # Mark hit\n",
    "    elif result == \"Miss\":\n",
    "        tracking_board[row][col] = \"M\"  # Mark miss\n",
    "\n",
    "def display_tracking_board(tracking_board):\n",
    "    \"\"\"Display the current tracking board.\"\"\"\n",
    "    for row in tracking_board:\n",
    "        print(\" \".join(row))"
   ]
  },
  {
   "cell_type": "code",
   "execution_count": null,
   "id": "1",
   "metadata": {},
   "outputs": [],
   "source": [
    "tracking_board = initialize_tracking_board(size=10)\n",
    "display_tracking_board(tracking_board)"
   ]
  },
  {
   "cell_type": "code",
   "execution_count": null,
   "id": "2",
   "metadata": {},
   "outputs": [],
   "source": [
    "record_shot(tracking_board, (1, 1), \"Hit\")\n",
    "display_tracking_board(tracking_board)"
   ]
  },
  {
   "cell_type": "code",
   "execution_count": null,
   "id": "3",
   "metadata": {},
   "outputs": [],
   "source": [
    "record_shot(tracking_board, (4, 4), \"Miss\")\n",
    "display_tracking_board(tracking_board)"
   ]
  }
 ],
 "metadata": {
  "kernelspec": {
   "display_name": "Python 3 (ipykernel)",
   "language": "python",
   "name": "python3"
  },
  "language_info": {
   "codemirror_mode": {
    "name": "ipython",
    "version": 3
   },
   "file_extension": ".py",
   "mimetype": "text/x-python",
   "name": "python",
   "nbconvert_exporter": "python",
   "pygments_lexer": "ipython3",
   "version": "3.11.6"
  }
 },
 "nbformat": 4,
 "nbformat_minor": 5
}
