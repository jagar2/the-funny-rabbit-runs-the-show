{
 "cells": [
  {
   "cell_type": "code",
   "execution_count": null,
   "metadata": {
    "deletable": false,
    "editable": false,
    "tags": [
     "skip-execution"
    ]
   },
   "outputs": [],
   "source": [
    "# You must make sure to run all cells in sequence using shift + enter or you might encounter errors\n",
    "from pykubegrader.initialize import initialize_assignment\n",
    "\n",
    "responses = initialize_assignment(\"1_practicequiz_q\", \"week_4\", \"practicequiz\", assignment_points = 15.0, assignment_tag = 'week4-practicequiz')\n",
    "\n",
    "# Initialize Otter\n",
    "import otter\n",
    "grader = otter.Notebook(\"1_practicequiz_q.ipynb\")"
   ]
  },
  {
   "cell_type": "markdown",
   "metadata": {
    "deletable": false,
    "editable": false
   },
   "source": [
    " # ❓ Practice Quiz: Control Structures for Renewable Energy Applications\n",
    "\n",
    "![](./assets/figures/wind-turbine-gif-quiz.gif)\n",
    "\n",
    " Test your understanding of conditional statements (`if-else`) and loops in Python by solving problems relevant to renewable energy systems, environmental monitoring, and automation tasks."
   ]
  },
  {
   "cell_type": "code",
   "execution_count": null,
   "metadata": {
    "tags": [
     "skip-execution"
    ]
   },
   "outputs": [],
   "source": [
    "# Run this block of code by pressing Shift + Enter to display the question\n",
    "from questions._1_practicequiz_q import Question1\n",
    "Question1().show()\n"
   ]
  },
  {
   "cell_type": "code",
   "execution_count": null,
   "metadata": {
    "tags": [
     "skip-execution"
    ]
   },
   "outputs": [],
   "source": [
    "# Run this block of code by pressing Shift + Enter to display the question\n",
    "from questions._1_practicequiz_q import Question2\n",
    "Question2().show()\n"
   ]
  },
  {
   "cell_type": "code",
   "execution_count": null,
   "metadata": {
    "tags": [
     "skip-execution"
    ]
   },
   "outputs": [],
   "source": [
    "# Run this block of code by pressing Shift + Enter to display the question\n",
    "from questions._1_practicequiz_q import Question3\n",
    "Question3().show()\n"
   ]
  },
  {
   "cell_type": "markdown",
   "metadata": {
    "deletable": false,
    "editable": false
   },
   "source": [
    " ## Renewable Energy Monitoring System\n",
    "\n",
    "\n",
    "\n",
    " Renewable energy systems, such as solar panels and wind turbines, generate data that needs to be processed to ensure efficiency and safety. In this task, you will implement a program to monitor energy production and analyze performance.\n",
    "\n",
    "\n",
    "\n",
    " The program should:\n",
    "\n",
    "\n",
    "\n",
    " 1. Iterate through a list of energy production measurements (in kilowatt-hours, kWh).\n",
    "\n",
    " 2. Print a warning message if the energy production drops below a threshold of 50 kWh.\n",
    "\n",
    " 3. Calculate the average energy production and display it.\n",
    "\n",
    " 4. Determine if the average energy production meets the optimal threshold (≥ 100 kWh) and display a summary message.\n",
    "\n",
    "\n",
    "\n",
    " ### Implementation Details\n",
    "\n",
    "\n",
    "\n",
    " 1. Define a list of energy production measurements: `energy_readings = [120, 95, 85, 45, 150, 90]`.\n",
    "\n",
    " 2. Set the optimal energy threshold: `optimal_threshold = 100`.\n",
    "\n",
    " 3. Loop through all energy readings and:\n",
    "\n",
    "    - Print a warning message if the energy production drops below the threshold.\n",
    "\n",
    " 4. Calculate the average energy production. Save to the variable `average_energy`.\n",
    "\n",
    "    - Print the average energy production value. We have provided the code for you to calculate the average energy.\n",
    "\n",
    " 5. Check if the average energy production meets the optimal threshold:\n",
    "\n",
    "    - If the average energy production is greater than or equal to the optimal threshold, print a message indicating optimal performance.\n",
    "\n",
    "    - If the average energy production is below the optimal threshold, print a message indicating sub-optimal performance.\n",
    "\n",
    "    We have provided the print statements for you."
   ]
  },
  {
   "cell_type": "code",
   "execution_count": null,
   "metadata": {
    "tags": [
     "skip-execution"
    ]
   },
   "outputs": [],
   "source": [
    "# Define the energy production measurements\n",
    "...\n",
    "\n",
    "# Define the optimal energy threshold\n",
    "...\n",
    "\n",
    "# Iterate through energy readings\n",
    "...\n",
    "\n",
    "    # Check if the energy production is below the threshold\n",
    "    ...\n",
    "        print(f\"Warning: Energy production dropped below threshold at {energy} kWh!\")\n",
    "\n",
    "# Calculate the average energy production\n",
    "...\n",
    "\n",
    "# Print the average energy production\n",
    "print(f\"Average energy production: {average_energy:.2f} kWh\")\n",
    "\n",
    "# Check if the average energy production is optimal\n",
    "...\n",
    "    print(\"The average energy production meets the optimal performance threshold.\")\n",
    "...\n",
    "    print(\"The average energy production is below the optimal performance threshold!\")"
   ]
  },
  {
   "cell_type": "code",
   "execution_count": null,
   "metadata": {
    "deletable": false,
    "editable": false,
    "tags": [
     "skip-execution"
    ]
   },
   "outputs": [],
   "source": [
    "grader.check(\"Renewable-Energy-Monitoring\")"
   ]
  },
  {
   "cell_type": "markdown",
   "id": "8",
   "metadata": {},
   "source": [
    "## Submitting Assignment\n",
    "\n",
    "Please run the following block of code using `shift + enter` to submit your assignment, you should see your score."
   ]
  },
  {
   "cell_type": "code",
   "execution_count": null,
   "id": "9",
   "metadata": {
    "deletable": false,
    "editable": false,
    "tags": [
     "skip-execution"
    ]
   },
   "outputs": [],
   "source": [
    "from pykubegrader.submit.submit_assignment import submit_assignment\n",
    "\n",
    "submit_assignment(\"week4-practicequiz\", \"1_practicequiz_q\")"
   ]
  }
 ],
 "metadata": {
  "kernelspec": {
   "display_name": "engr131_dev",
   "language": "python",
   "name": "python3"
  },
  "language_info": {
   "codemirror_mode": {
    "name": "ipython",
    "version": 3
   },
   "file_extension": ".py",
   "mimetype": "text/x-python",
   "name": "python",
   "nbconvert_exporter": "python",
   "pygments_lexer": "ipython3",
   "version": "3.12.7"
  },
  "otter": {
   "OK_FORMAT": true,
   "tests": {
    "Renewable-Energy-Monitoring": {
     "name": "Renewable-Energy-Monitoring",
     "points": null,
     "suites": [
      {
       "cases": [
        {
         "code": ">>> from pykubegrader.telemetry import ensure_responses, log_variable, score_question, submit_question, telemetry, update_responses\n>>> import os\n>>> max_question_points = str(6.0)\n>>> earned_points = 0\n>>> os.environ['EARNED_POINTS'] = str(earned_points)\n>>> os.environ['TOTAL_POINTS_FREE_RESPONSE'] = str(6.0)\n>>> log_variable('total-points', f'Reading-Week-X, 1_practicequiz_q', 6.0)\n>>> question_id = 'Renewable-Energy-Monitoring-1'\n>>> max_score = 1.0\n>>> score = 0\n>>> condition = isinstance(energy_readings, list) and len(energy_readings) > 0 and all((isinstance(e, (int, float)) for e in energy_readings))\n>>> assert condition, 'Energy readings must be a list of numerical values.'\n>>> if condition:\n...     score = 1.0\n>>> earned_points = float(os.environ.get('EARNED_POINTS', 0))\n>>> earned_points += score\n>>> log_variable('1_practicequiz_q', f'{score}, {max_score}', question_id)\n>>> os.environ['EARNED_POINTS'] = str(earned_points)\n>>> responses = update_responses(question_id, str(energy_readings))\n",
         "failure_message": "Failed: Energy readings are not defined correctly.",
         "hidden": false,
         "locked": false,
         "points": 1,
         "success_message": "Success: Energy readings are defined correctly!"
        },
        {
         "code": ">>> from pykubegrader.telemetry import ensure_responses, log_variable, score_question, submit_question, telemetry, update_responses\n>>> import os\n>>> question_id = 'Renewable-Energy-Monitoring-2'\n>>> max_score = 1.0\n>>> score = 0\n>>> condition = isinstance(optimal_threshold, (int, float)) and optimal_threshold > 0\n>>> assert condition, 'Optimal threshold must be a positive numerical value.'\n>>> if condition:\n...     score = 1.0\n>>> earned_points = float(os.environ.get('EARNED_POINTS', 0))\n>>> earned_points += score\n>>> log_variable('1_practicequiz_q', f'{score}, {max_score}', question_id)\n>>> os.environ['EARNED_POINTS'] = str(earned_points)\n>>> responses = update_responses(question_id, str(optimal_threshold))\n",
         "failure_message": "Failed: The optimal energy threshold is not defined correctly.",
         "hidden": false,
         "locked": false,
         "points": 1,
         "success_message": "Success: The optimal energy threshold is defined correctly!"
        },
        {
         "code": ">>> from pykubegrader.telemetry import ensure_responses, log_variable, score_question, submit_question, telemetry, update_responses\n>>> import os\n>>> question_id = 'Renewable-Energy-Monitoring-3'\n>>> max_score = 1.0\n>>> score = 0\n>>> iteration_count = 0\n>>> for energy in energy_readings:\n...     iteration_count += 1\n>>> expected_count = len(energy_readings)\n>>> condition = iteration_count == expected_count\n>>> assert condition, f'Expected iteration over {expected_count} readings, but iterated {iteration_count} times.'\n>>> if condition:\n...     score = 1.0\n>>> earned_points = float(os.environ.get('EARNED_POINTS', 0))\n>>> earned_points += score\n>>> log_variable('1_practicequiz_q', f'{score}, {max_score}', question_id)\n>>> os.environ['EARNED_POINTS'] = str(earned_points)\n>>> responses = update_responses(question_id, str(iteration_count))\n>>> responses = update_responses(question_id, str(expected_count))\n",
         "failure_message": "Failed: The code does not correctly iterate through energy readings.",
         "hidden": false,
         "locked": false,
         "points": 1,
         "success_message": "Success: The code correctly iterates through energy readings!"
        },
        {
         "code": ">>> from pykubegrader.telemetry import ensure_responses, log_variable, score_question, submit_question, telemetry, update_responses\n>>> import os\n>>> question_id = 'Renewable-Energy-Monitoring-4'\n>>> max_score = 1.0\n>>> score = 0\n>>> warnings = []\n>>> for energy in energy_readings:\n...     if energy < 50:\n...         warnings.append(energy)\n>>> expected_warnings = [e for e in energy_readings if e < 50]\n>>> condition = warnings == expected_warnings\n>>> assert condition, f'Expected warnings: {expected_warnings}, but got: {warnings}.'\n>>> if condition:\n...     score = 1.0\n>>> earned_points = float(os.environ.get('EARNED_POINTS', 0))\n>>> earned_points += score\n>>> log_variable('1_practicequiz_q', f'{score}, {max_score}', question_id)\n>>> os.environ['EARNED_POINTS'] = str(earned_points)\n>>> responses = update_responses(question_id, str(warnings))\n>>> responses = update_responses(question_id, str(expected_warnings))\n",
         "failure_message": "Failed: The code does not correctly check energy production against the threshold.",
         "hidden": false,
         "locked": false,
         "points": 1,
         "success_message": "Success: The code correctly checks energy production against the threshold!"
        },
        {
         "code": ">>> from pykubegrader.telemetry import ensure_responses, log_variable, score_question, submit_question, telemetry, update_responses\n>>> import os\n>>> question_id = 'Renewable-Energy-Monitoring-5'\n>>> max_score = 1.0\n>>> score = 0\n>>> expected_average = sum(energy_readings) / len(energy_readings)\n>>> condition = abs(average_energy - expected_average) < 1e-06\n>>> assert condition, f'Expected average energy: {expected_average}, but got: {average_energy}.'\n>>> if condition:\n...     score = 1.0\n>>> earned_points = float(os.environ.get('EARNED_POINTS', 0))\n>>> earned_points += score\n>>> log_variable('1_practicequiz_q', f'{score}, {max_score}', question_id)\n>>> os.environ['EARNED_POINTS'] = str(earned_points)\n>>> responses = update_responses(question_id, str(average_energy))\n>>> responses = update_responses(question_id, str(expected_average))\n",
         "failure_message": "Failed: The code does not correctly calculate the average energy production.",
         "hidden": false,
         "locked": false,
         "points": 1,
         "success_message": "Success: The code correctly calculates the average energy production!"
        },
        {
         "code": ">>> from pykubegrader.telemetry import ensure_responses, log_variable, score_question, submit_question, telemetry, update_responses\n>>> import os\n>>> question_id = 'Renewable-Energy-Monitoring-6'\n>>> max_score = 1.0\n>>> score = 0\n>>> is_optimal = average_energy >= optimal_threshold\n>>> expected_result = 'The average energy production meets the optimal performance threshold.' if is_optimal else 'The average energy production is below the optimal performance threshold!'\n>>> condition = is_optimal and average_energy >= optimal_threshold or (not is_optimal and average_energy < optimal_threshold)\n>>> assert condition, expected_result\n>>> if (condition, expected_result):\n...     score = 1.0\n>>> earned_points = float(os.environ.get('EARNED_POINTS', 0))\n>>> earned_points += score\n>>> log_variable('1_practicequiz_q', f'{score}, {max_score}', question_id)\n>>> os.environ['EARNED_POINTS'] = str(earned_points)\n>>> responses = update_responses(question_id, str(average_energy))\n>>> responses = update_responses(question_id, str(optimal_threshold))\n>>> responses = update_responses(question_id, str(is_optimal))\n",
         "failure_message": "Failed: The code does not correctly check if the average energy production is optimal.",
         "hidden": false,
         "locked": false,
         "points": 1,
         "success_message": "Success: The code correctly checks if the average energy production is optimal!"
        }
       ],
       "scored": true,
       "setup": "",
       "teardown": "",
       "type": "doctest"
      }
     ]
    }
   }
  }
 },
 "nbformat": 4,
 "nbformat_minor": 2
}
