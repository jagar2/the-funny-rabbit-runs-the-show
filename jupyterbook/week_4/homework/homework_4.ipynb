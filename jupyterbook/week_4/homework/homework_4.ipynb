{
 "cells": [
  {
   "cell_type": "code",
   "execution_count": null,
   "id": "0",
   "metadata": {
    "deletable": false,
    "editable": false,
    "tags": [
     "skip-execution"
    ]
   },
   "outputs": [],
   "source": [
    "# You must make sure to run all cells in sequence using shift + enter or you might encounter errors\n",
    "from pykubegrader.initialize import initialize_assignment\n",
    "\n",
    "responses = initialize_assignment(\"homework_4\", \"week_4\", \"homework\", assignment_points = 33.0, assignment_tag = 'week4-homework')\n",
    "\n",
    "# Initialize Otter\n",
    "import otter\n",
    "grader = otter.Notebook(\"homework_4.ipynb\")"
   ]
  },
  {
   "cell_type": "markdown",
   "id": "1",
   "metadata": {
    "deletable": false,
    "editable": false
   },
   "source": [
    "# 🏠 🎲 Magic The Gathering: Homework through Conditionals and loops:\n",
    "\n",
    "## Question 1: Card Rarity Detector\n",
    "\n",
    "- Card Rarity Detector  \n",
    "\n",
    "![Magic: The Gathering](./assets/figures/black-lotus-image.png)  \n",
    "\n",
    "In Magic: The Gathering, card rarities play a key role in gameplay and deck-building. Rarities include common, uncommon, rare, and mythic rare. Cards like **\"Black Lotus\"** or **\"Jace, the Mind Sculptor\"** are examples of mythic rare cards that are prized possessions.  \n",
    "\n",
    "### Problem Statement  \n",
    "\n",
    "Write a Python function `card_rarity(score)` that determines the rarity of a Magic: The Gathering card based on its score, following these rules:  \n",
    "\n",
    "- **95-100**: Mythic Rare  \n",
    "- **90-94**: Rare  \n",
    "- **80-89**: Uncommon  \n",
    "- **70-79**: Common  \n",
    "- **0-69**: Basic Land  \n",
    "\n",
    "Additionally:  \n",
    "- Scores outside the valid range (0–100) should return the message `\"Invalid card score\"`.  \n",
    "\n",
    "### Implementation  \n",
    "\n",
    "1. Define a function `card_rarity(score)` with an integer input argument `score`. We provide this function for you. \n",
    "2. Implement a series of conditions to determine the rarity based on the given score.  \n",
    "3. Return the corresponding rarity as a string.\n",
    "4. If the score is outside the valid range, return the message `\"Invalid card score\"`."
   ]
  },
  {
   "cell_type": "code",
   "execution_count": null,
   "id": "2",
   "metadata": {
    "tags": [
     "skip-execution"
    ]
   },
   "outputs": [],
   "source": [
    "def card_rarity(score):\n",
    "    ...\n",
    "\n",
    "# Test the function  \n",
    "print(card_rarity(98))  # Mythic Rare  \n",
    "print(card_rarity(92))  # Rare  \n",
    "print(card_rarity(85))  # Uncommon  \n",
    "print(card_rarity(75))  # Common  \n",
    "print(card_rarity(50))  # Basic Land  \n",
    "print(card_rarity(105))  # Invalid card score"
   ]
  },
  {
   "cell_type": "code",
   "execution_count": null,
   "id": "3",
   "metadata": {
    "deletable": false,
    "editable": false,
    "tags": [
     "skip-execution"
    ]
   },
   "outputs": [],
   "source": [
    "grader.check(\"mtg-card-rarity\")"
   ]
  },
  {
   "cell_type": "markdown",
   "id": "4",
   "metadata": {
    "deletable": false,
    "editable": false
   },
   "source": [
    "## 🧙‍♂️ Question 2: Magic The Gathering Fibonacci Cards  \n",
    "\n",
    "![Magic: The Gathering](./assets/figures/kalonian-hydra.jpg)  \n",
    "\n",
    "In Magic: The Gathering, creatures and spells often have synergistic effects. For example, creating a Fibonacci sequence of tokens represents a creative challenge for deck builders who utilize mechanics like **\"Doubling Season\"** or **\"Parallel Lives\"**.  \n",
    "\n",
    "### Problem Statement  \n",
    "\n",
    "Create a function that generates a sequence of creature token powers based on a Fibonacci-like growth pattern. For example, **\"Kalonian Hydra\"** doubles its counters, and cards like **\"Aether Vial\"** enable incremental growth.  \n",
    "\n",
    "Write a function to simulate the Fibonacci sequence for such token growth mechanics. \n",
    "\n",
    "A Fibonacci sequence is a list of integers in which the $n\\text{th}$ entry $x_n$ is computed from:\n",
    "\n",
    "$$ x_n = x_{n-1} + x_{n-2} $$\n",
    "\n",
    "To initiate a Fibbonaci sequence, one must provide values for $x_0$ and $x_1$. \n",
    "\n",
    "For example, if $x_0 = 0$ and $x_1 = 1$, the first 10 terms of the sequence are:\n",
    "\n",
    "$$ 0, 1, 1, 2, 3, 5, 8, 13, 21, 34 $$\n",
    "\n",
    "\n",
    "### Instructions  \n",
    "\n",
    "1. Define a function called `fibonacci_tokens` that accepts 3 inputs:  \n",
    "    - `x0`: Initial power of the first token.  \n",
    "    - `x1`: Initial power of the second token.  \n",
    "    - `L`: The total number of tokens to generate in the sequence.  \n",
    "2. Implement the function to return a list of the first `L` Fibonacci-like token powers starting with `x0` and `x1`.\n",
    "    - Define a list `seq` to store the first two initial values `x0` and `x1`, of the sequence.\n",
    "    - Use a `for` loop to generate the remaining `L-2` values of the sequence. I would recommend using the `range` function to iterate over the remaining values.\n",
    "    - Append the new values to the list `seq` at each iteration, by indexing the last 2 elements of the list. Use the built-in `append` method of the list object. ***hint***: This is a perfect opportunity to revisit the negative indexing of lists.\n",
    "3. If the input `L` is less than 2, print \"Fibonacci-like growth not possible\".  Use if statements to enforce that the fibonacci sequence is not generated. \n"
   ]
  },
  {
   "cell_type": "code",
   "execution_count": null,
   "id": "5",
   "metadata": {
    "tags": [
     "skip-execution"
    ]
   },
   "outputs": [],
   "source": [
    "def fibonacci_tokens(x0, x1, L):  \n",
    "    ..."
   ]
  },
  {
   "cell_type": "code",
   "execution_count": null,
   "id": "6",
   "metadata": {
    "deletable": false,
    "editable": false,
    "tags": [
     "skip-execution"
    ]
   },
   "outputs": [],
   "source": [
    "grader.check(\"mtg-fibonacci-tokens\")"
   ]
  },
  {
   "cell_type": "markdown",
   "id": "7",
   "metadata": {
    "deletable": false,
    "editable": false
   },
   "source": [
    "## 🧙‍♂️ Question 3: Find the Best Card to Play  \n",
    "\n",
    "![Magic: The Gathering](./assets/figures/serra-angel.jpg)  \n",
    "\n",
    "In Magic The Gathering, choosing the right card to play at the right time can be the difference between victory and defeat. Suppose you’re building a deck that revolves around cards with varying mana costs, power, toughness, and special abilities.  \n",
    "\n",
    "Your task is to determine the **best card to play** given the available mana and the current game state.\n",
    "\n",
    "### Problem Statement  \n",
    "\n",
    "Implement a function that evaluates a list of cards and finds the **best card to play** based on the following criteria:  \n",
    "\n",
    "1. The card's **mana cost** must not exceed the available mana in any color or the total mana.  \n",
    "2. The card with the **highest combined power and toughness** is preferred if multiple cards can be played.  \n",
    "3. In case of a tie in power and toughness, a card with a special ability (e.g., \"Trample\") should be prioritized.  \n",
    "\n",
    "### Instructions  \n",
    "\n",
    "1. We have defined a function `find_best_card_to_play` that accepts the following inputs:  \n",
    "   - **`available_mana`**: A dictionary specifying the available mana in each color.  \n",
    "     Example:  \n",
    "     ```python\n",
    "     available_mana = {\"green\": 3, \"red\": 2, \"colorless\": 1}\n",
    "     ```\n",
    "   - **`cards`**: A list of dictionaries, where each dictionary represents a card with the following attributes:  \n",
    "     - `\"name\"`: Name of the card.  \n",
    "     - `\"mana_cost\"`: A dictionary specifying the card's mana cost in each color.  \n",
    "     - `\"power\"`: The card's power.  \n",
    "     - `\"toughness\"`: The card's toughness.  \n",
    "     - `\"abilities\"`: A list of special abilities (e.g., `[\"Trample\", \"Flying\"]`).  \n",
    "     Example:  \n",
    "     ```python\n",
    "     cards = [\n",
    "         {\"name\": \"Elf Warrior\", \"mana_cost\": {\"green\": 2, \"red\": 0, \"colorless\": 0}, \"power\": 2, \"toughness\": 3, \"abilities\": []},\n",
    "         {\"name\": \"Goblin Berserker\", \"mana_cost\": {\"green\": 0, \"red\": 2, \"colorless\": 1}, \"power\": 3, \"toughness\": 2, \"abilities\": [\"Trample\"]},\n",
    "         {\"name\": \"Orc Chieftain\", \"mana_cost\": {\"green\": 1, \"red\": 1, \"colorless\": 1}, \"power\": 5, \"toughness\": 3, \"abilities\": []}\n",
    "     ]\n",
    "     ```  \n",
    "\n",
    "2. Evaluate all cards and find the one that:  \n",
    "   - Can be played with the available mana.  \n",
    "   - Has the highest combined power and toughness.  \n",
    "   - If tied, has at least one special ability.  \n",
    "\n",
    "3. Return the name of the best card to play. You can do that by assigning the name of the best card to a variable `best_card`, we have provided the return statement for you. \n",
    "\n",
    "4. If no card can be played, assign `\"No card can be played\"` to a variable `best_card`.  \n",
    "\n",
    "We have provided some additional inline comments to help you solve the problem.\n",
    "\n",
    "### Example Input:\n",
    "\n",
    "```python\n",
    "available_mana = {\"green\": 3, \"red\": 2, \"colorless\": 1}\n",
    "\n",
    "cards = [\n",
    "    {\"name\": \"Elf Warrior\", \"mana_cost\": {\"green\": 2, \"red\": 0, \"colorless\": 0}, \"power\": 2, \"toughness\": 3, \"abilities\": []},\n",
    "    {\"name\": \"Goblin Berserker\", \"mana_cost\": {\"green\": 0, \"red\": 2, \"colorless\": 1}, \"power\": 3, \"toughness\": 2, \"abilities\": [\"Trample\"]},\n",
    "    {\"name\": \"Orc Chieftain\", \"mana_cost\": {\"green\": 1, \"red\": 1, \"colorless\": 1}, \"power\": 5, \"toughness\": 3, \"abilities\": []}\n",
    "]\n",
    "```\n",
    "\n",
    "### Example Output:\n",
    "\n",
    "If the best card to play is **\"Goblin Berserker\"**, the function returns:  \n",
    "\n",
    "```python\n",
    "\"Goblin Berserker\"\n",
    "```\n",
    "\n",
    "### Tips\n",
    "\n",
    "- All of the code you need to write is indicated by comments and `...` we have already tab intended the code at the correct level for you. We would advise not changing it.\n",
    "- If you encounted a semantic error you might want to use the debugger to help you solve the problem\n",
    "- We provide one valid solution, however there are multiple ways to solve this problem. Our tests are not specific to our solution, however we would recommend following our guide. e "
   ]
  },
  {
   "cell_type": "code",
   "execution_count": null,
   "id": "8",
   "metadata": {
    "tags": [
     "skip-execution"
    ]
   },
   "outputs": [],
   "source": [
    "# import card_list from cards.py\n",
    "# cards.py contains a list of dictionaries representing Magic: The Gathering cards\n",
    "# Use the syntax from module import name to import the card_list function\n",
    "# Note: You do not need the .py extension when importing a module from a Python file\n",
    "...\n",
    "\n",
    "def find_best_card_to_play(available_mana, cards):\n",
    "    \"\"\"\n",
    "    Finds the best card to play based on available mana and card attributes using a nested loop structure,\n",
    "    adding unused mana from other colors to the colorless pool.\n",
    "\n",
    "    Args:\n",
    "    - available_mana (dict): Dictionary with available mana in each color.\n",
    "    - cards (list): List of dictionaries representing cards.\n",
    "\n",
    "    Returns:\n",
    "    - str: The name of the best card to play, or \"No card can be played\" if none are valid.\n",
    "    \"\"\"\n",
    "    # initialize variables to store the best card and its combined power and toughness\n",
    "    # Initialize the variable `best_card` to store the best card to play. Set it to None initially.\n",
    "    ...\n",
    "    \n",
    "    # Initialize the variable `max_combined_power` to store the maximum combined power and toughness of the best card.\n",
    "    # Set it to -1 initially.\n",
    "    ...\n",
    "    \n",
    "    # loops through each card in the list of cards\n",
    "    # recall that dictionaries are iterable, so you can iterate through the list of cards using a for loop directly. \n",
    "    ...\n",
    "    \n",
    "        # Check if the card's mana cost can be satisfied\n",
    "        # Create a variable `can_play` and set it to True initially. This variable will be used to check if the card can be played.\n",
    "        ...\n",
    "        \n",
    "        # Calculate the total unused mana based on the sum of the available mana pool\n",
    "        # Hint: You can use the sum() function to calculate the total unused mana by extracting the values from the available_mana dictionary. Use the values() method to get the values.\n",
    "        ...\n",
    "        \n",
    "        # iterate through each cards mana cost, checking if it can be satisfied\n",
    "        # To do this you should iterate through each key-value pair in the card's \"mana_cost\" dictionary. Do this by using the items() method on the dictionary.\n",
    "        ...\n",
    "            \n",
    "            # Check if the color is not colorless using an if statement\n",
    "            ...\n",
    "            \n",
    "                # Check if the cost is greater than the available mana for that color\n",
    "                # Use an if statement to check if the cost is greater than the available mana for that color. If it is, set `can_play` to False and break out of the loop.\n",
    "                # You should get the available mana for the specific color using the get() method on the available_mana dictionary, this way if there is no available mana for that color, it can default to 0.\n",
    "                ...\n",
    "                \n",
    "                # Subtract and assign the total_unused_mana, subtracting the color mana used\n",
    "                ...\n",
    "\n",
    "        # Check if colorless mana can be satisfied with unused mana\n",
    "        # Write an if statement that checks that the card can be played (based on prior checks) and that the total unused mana is less than the colorless mana cost of the card.\n",
    "        # If this condition is met, set `can_play` to False, because there is not enough mana to play the card.\n",
    "        ...\n",
    "\n",
    "        # If the card can be played, calculate the combined power and toughness by extracting the values from the card dictionary\n",
    "        # If statement to check if the card can be played\n",
    "        ...\n",
    "            \n",
    "            # Calculate combined power and toughness\n",
    "            ...\n",
    "            \n",
    "            # Use a nested loop to prioritize cards with abilities in case of a tie\n",
    "            # Check if the combined power of the current card is greater than the maximum combined power\n",
    "            # If it is, set the best card to the current card and update the maximum combined power\n",
    "            ...\n",
    "            \n",
    "            # else if the combined power is equal to the maximum combined power, prioritize cards with abilities\n",
    "            # Use an elif statement to check if the combined power is equal to the maximum combined power.\n",
    "            ...\n",
    "            \n",
    "                # Check if the current card has any abilities\n",
    "                # to do this, use a for loop to iterate through each ability in the card's \"abilities\" list.\n",
    "                ...\n",
    "                    # If the card has an ability, set it as the best card and break out of the loop.\n",
    "                    # hint: you can use an if statement to check if the ability exists, and empty lists evaluate to False in Python. A non-empty list evaluates to True.\n",
    "                    ...\n",
    "                        # Set the best card to the current card and break out of the loop\n",
    "                        ...\n",
    "        \n",
    "    # if a best card is found, i.e. best_card is not None, return the name of the best card\n",
    "    ...\n",
    "\n",
    "        # We have provided the return statement for you\n",
    "        return best_card[\"name\"]\n",
    "    \n",
    "    # Else return \"No card can be played\"\n",
    "    ...\n",
    "        # We have provided the return statement for you\n",
    "        return \"No card can be played\"\n",
    "        \n",
    "\n",
    "# Example usage\n",
    "available_mana = {\"red\": 3, \"white\": 2, \"colorless\": 0}\n",
    "result = find_best_card_to_play(available_mana, card_list())\n",
    "print(result)  # Expected output: \"Serra Angel\"\n"
   ]
  },
  {
   "cell_type": "code",
   "execution_count": null,
   "id": "9",
   "metadata": {
    "deletable": false,
    "editable": false,
    "tags": [
     "skip-execution"
    ]
   },
   "outputs": [],
   "source": [
    "grader.check(\"mtg-combo-solver\")"
   ]
  },
  {
   "cell_type": "markdown",
   "id": "10",
   "metadata": {},
   "source": [
    "## Submitting Assignment\n",
    "\n",
    "Please run the following block of code using `shift + enter` to submit your assignment, you should see your score."
   ]
  },
  {
   "cell_type": "code",
   "execution_count": null,
   "id": "11",
   "metadata": {
    "deletable": false,
    "editable": false,
    "tags": [
     "skip-execution"
    ]
   },
   "outputs": [],
   "source": [
    "from pykubegrader.submit.submit_assignment import submit_assignment\n",
    "\n",
    "submit_assignment(\"week4-homework\", \"homework_4\")"
   ]
  }
 ],
 "metadata": {
  "kernelspec": {
   "display_name": "engr131_dev",
   "language": "python",
   "name": "python3"
  },
  "language_info": {
   "codemirror_mode": {
    "name": "ipython",
    "version": 3
   },
   "file_extension": ".py",
   "mimetype": "text/x-python",
   "name": "python",
   "nbconvert_exporter": "python",
   "pygments_lexer": "ipython3",
   "version": "3.12.7"
  },
  "otter": {
   "OK_FORMAT": true,
   "tests": {
    "mtg-card-rarity": {
     "name": "mtg-card-rarity",
     "points": null,
     "suites": [
      {
       "cases": [
        {
         "code": ">>> from pykubegrader.telemetry import ensure_responses, log_variable, score_question, submit_question, telemetry, update_responses\n>>> import os\n>>> max_question_points = str(6.0)\n>>> earned_points = 0\n>>> os.environ['EARNED_POINTS'] = str(earned_points)\n>>> os.environ['TOTAL_POINTS_FREE_RESPONSE'] = str(33.0)\n>>> log_variable('total-points', f'Reading-Week-X, homework_4', 33.0)\n>>> question_id = 'mtg-card-rarity-1'\n>>> max_score = 1.0\n>>> score = 0\n>>> input_value = 98\n>>> expected_output = 'Mythic Rare'\n>>> actual_output = card_rarity(input_value)\n>>> condition = actual_output == expected_output\n>>> assert condition, f\"Expected '{expected_output}' for input {input_value}, but got '{actual_output}'.\"\n>>> if (condition, f\"Expected '{expected_output}' for input {input_value}, but got '{actual_output}'.\"):\n...     score = 1.0\n>>> earned_points = float(os.environ.get('EARNED_POINTS', 0))\n>>> earned_points += score\n>>> log_variable('homework_4', f'{score}, {max_score}', question_id)\n>>> os.environ['EARNED_POINTS'] = str(earned_points)\n>>> responses = update_responses(question_id, str(input_value))\n>>> responses = update_responses(question_id, str(expected_output))\n>>> responses = update_responses(question_id, str(actual_output))\n",
         "failure_message": "Failed: The function does not correctly identify a score of 98 as 'Mythic Rare'.",
         "hidden": false,
         "locked": false,
         "points": 1,
         "success_message": "Success: The function correctly identifies a score of 98 as 'Mythic Rare'!"
        },
        {
         "code": ">>> from pykubegrader.telemetry import ensure_responses, log_variable, score_question, submit_question, telemetry, update_responses\n>>> import os\n>>> question_id = 'mtg-card-rarity-2'\n>>> max_score = 1.0\n>>> score = 0\n>>> input_value = 92\n>>> expected_output = 'Rare'\n>>> actual_output = card_rarity(input_value)\n>>> condition = actual_output == expected_output\n>>> assert condition, f\"Expected '{expected_output}' for input {input_value}, but got '{actual_output}'.\"\n>>> if (condition, f\"Expected '{expected_output}' for input {input_value}, but got '{actual_output}'.\"):\n...     score = 1.0\n>>> earned_points = float(os.environ.get('EARNED_POINTS', 0))\n>>> earned_points += score\n>>> log_variable('homework_4', f'{score}, {max_score}', question_id)\n>>> os.environ['EARNED_POINTS'] = str(earned_points)\n>>> responses = update_responses(question_id, str(input_value))\n>>> responses = update_responses(question_id, str(expected_output))\n>>> responses = update_responses(question_id, str(actual_output))\n",
         "failure_message": "Failed: The function does not correctly identify a score of 92 as 'Rare'.",
         "hidden": false,
         "locked": false,
         "points": 1,
         "success_message": "Success: The function correctly identifies a score of 92 as 'Rare'!"
        },
        {
         "code": ">>> from pykubegrader.telemetry import ensure_responses, log_variable, score_question, submit_question, telemetry, update_responses\n>>> import os\n>>> question_id = 'mtg-card-rarity-3'\n>>> max_score = 1.0\n>>> score = 0\n>>> input_value = 85\n>>> expected_output = 'Uncommon'\n>>> actual_output = card_rarity(input_value)\n>>> condition = actual_output == expected_output\n>>> assert condition, f\"Expected '{expected_output}' for input {input_value}, but got '{actual_output}'.\"\n>>> if (condition, f\"Expected '{expected_output}' for input {input_value}, but got '{actual_output}'.\"):\n...     score = 1.0\n>>> earned_points = float(os.environ.get('EARNED_POINTS', 0))\n>>> earned_points += score\n>>> log_variable('homework_4', f'{score}, {max_score}', question_id)\n>>> os.environ['EARNED_POINTS'] = str(earned_points)\n>>> responses = update_responses(question_id, str(input_value))\n>>> responses = update_responses(question_id, str(expected_output))\n>>> responses = update_responses(question_id, str(actual_output))\n",
         "failure_message": "Failed: The function does not correctly identify a score of 85 as 'Uncommon'.",
         "hidden": false,
         "locked": false,
         "points": 1,
         "success_message": "Success: The function correctly identifies a score of 85 as 'Uncommon'!"
        },
        {
         "code": ">>> from pykubegrader.telemetry import ensure_responses, log_variable, score_question, submit_question, telemetry, update_responses\n>>> import os\n>>> question_id = 'mtg-card-rarity-4'\n>>> max_score = 1.0\n>>> score = 0\n>>> input_value = 70\n>>> expected_output = 'Common'\n>>> actual_output = card_rarity(input_value)\n>>> condition = actual_output == expected_output\n>>> assert condition, f\"Expected '{expected_output}' for input {input_value}, but got '{actual_output}'.\"\n>>> if (condition, f\"Expected '{expected_output}' for input {input_value}, but got '{actual_output}'.\"):\n...     score = 1.0\n>>> earned_points = float(os.environ.get('EARNED_POINTS', 0))\n>>> earned_points += score\n>>> log_variable('homework_4', f'{score}, {max_score}', question_id)\n>>> os.environ['EARNED_POINTS'] = str(earned_points)\n>>> responses = update_responses(question_id, str(input_value))\n>>> responses = update_responses(question_id, str(expected_output))\n>>> responses = update_responses(question_id, str(actual_output))\n",
         "failure_message": "Failed: The function does not correctly identify a score of 75 as 'Common'.",
         "hidden": false,
         "locked": false,
         "points": 1,
         "success_message": "Success: The function correctly identifies a score of 75 as 'Common'!"
        },
        {
         "code": ">>> from pykubegrader.telemetry import ensure_responses, log_variable, score_question, submit_question, telemetry, update_responses\n>>> import os\n>>> question_id = 'mtg-card-rarity-5'\n>>> max_score = 1.0\n>>> score = 0\n>>> input_value = 50\n>>> expected_output = 'Basic Land'\n>>> actual_output = card_rarity(input_value)\n>>> condition = actual_output == expected_output\n>>> assert condition, f\"Expected '{expected_output}' for input {input_value}, but got '{actual_output}'.\"\n>>> if (condition, f\"Expected '{expected_output}' for input {input_value}, but got '{actual_output}'.\"):\n...     score = 1.0\n>>> earned_points = float(os.environ.get('EARNED_POINTS', 0))\n>>> earned_points += score\n>>> log_variable('homework_4', f'{score}, {max_score}', question_id)\n>>> os.environ['EARNED_POINTS'] = str(earned_points)\n>>> responses = update_responses(question_id, str(input_value))\n>>> responses = update_responses(question_id, str(expected_output))\n>>> responses = update_responses(question_id, str(actual_output))\n",
         "failure_message": "Failed: The function does not correctly identify a score of 50 as 'Basic Land'.",
         "hidden": false,
         "locked": false,
         "points": 1,
         "success_message": "Success: The function correctly identifies a score of 50 as 'Basic Land'!"
        },
        {
         "code": ">>> from pykubegrader.telemetry import ensure_responses, log_variable, score_question, submit_question, telemetry, update_responses\n>>> import os\n>>> question_id = 'mtg-card-rarity-6'\n>>> max_score = 1.0\n>>> score = 0\n>>> input_value = 105\n>>> expected_output = 'Invalid card score'\n>>> actual_output = card_rarity(input_value)\n>>> condition = actual_output == expected_output\n>>> assert condition, f\"Expected '{expected_output}' for input {input_value}, but got '{actual_output}'.\"\n>>> if (condition, f\"Expected '{expected_output}' for input {input_value}, but got '{actual_output}'.\"):\n...     score = 1.0\n>>> earned_points = float(os.environ.get('EARNED_POINTS', 0))\n>>> earned_points += score\n>>> log_variable('homework_4', f'{score}, {max_score}', question_id)\n>>> os.environ['EARNED_POINTS'] = str(earned_points)\n>>> responses = update_responses(question_id, str(input_value))\n>>> responses = update_responses(question_id, str(expected_output))\n>>> responses = update_responses(question_id, str(actual_output))\n",
         "failure_message": "Failed: The function does not correctly identify a score of 105 as 'Invalid card score'.",
         "hidden": false,
         "locked": false,
         "points": 1,
         "success_message": "Success: The function correctly identifies a score of 105 as 'Invalid card score'!"
        }
       ],
       "scored": true,
       "setup": "",
       "teardown": "",
       "type": "doctest"
      }
     ]
    },
    "mtg-combo-solver": {
     "name": "mtg-combo-solver",
     "points": null,
     "suites": [
      {
       "cases": [
        {
         "code": ">>> from pykubegrader.telemetry import ensure_responses, log_variable, score_question, submit_question, telemetry, update_responses\n>>> import os\n>>> max_question_points = str(18.0)\n>>> earned_points = 0\n>>> os.environ['EARNED_POINTS'] = str(earned_points)\n>>> os.environ['TOTAL_POINTS_FREE_RESPONSE'] = str(33.0)\n>>> log_variable('total-points', f'Reading-Week-X, homework_4', 33.0)\n>>> question_id = 'mtg-combo-solver-1'\n>>> max_score = 1.0\n>>> score = 0\n>>> condition = isinstance(card_list(), list) and all((isinstance(card, dict) for card in card_list()))\n>>> assert condition, \"You must import 'card_list' correctly from cards.py.\"\n>>> if condition:\n...     score = 1.0\n>>> earned_points = float(os.environ.get('EARNED_POINTS', 0))\n>>> earned_points += score\n>>> log_variable('homework_4', f'{score}, {max_score}', question_id)\n>>> os.environ['EARNED_POINTS'] = str(earned_points)\n>>> responses = update_responses(question_id, str(condition))\n",
         "failure_message": "Failed: 'card_list' is not imported correctly from cards.py.",
         "hidden": false,
         "locked": false,
         "points": 1,
         "success_message": "Success: 'card_list' is imported correctly!"
        },
        {
         "code": ">>> from pykubegrader.telemetry import ensure_responses, log_variable, score_question, submit_question, telemetry, update_responses\n>>> import os\n>>> question_id = 'mtg-combo-solver-2'\n>>> max_score = 1.0\n>>> score = 0\n>>> available_mana = {'red': 3, 'white': 2, 'colorless': 0}\n>>> cards = card_list()\n>>> result = find_best_card_to_play(available_mana, cards)\n>>> best_card = None\n>>> condition = result is not None or best_card is None\n>>> assert condition, \"Variable 'best_card' must be initialized to None.\"\n>>> if condition:\n...     score = 1.0\n>>> earned_points = float(os.environ.get('EARNED_POINTS', 0))\n>>> earned_points += score\n>>> log_variable('homework_4', f'{score}, {max_score}', question_id)\n>>> os.environ['EARNED_POINTS'] = str(earned_points)\n>>> responses = update_responses(question_id, str(best_card))\n",
         "failure_message": "Failed: Variable 'best_card' is not initialized to None.",
         "hidden": false,
         "locked": false,
         "points": 1,
         "success_message": "Success: Variable 'best_card' is initialized correctly!"
        },
        {
         "code": ">>> from pykubegrader.telemetry import ensure_responses, log_variable, score_question, submit_question, telemetry, update_responses\n>>> import os\n>>> question_id = 'mtg-combo-solver-3'\n>>> max_score = 1.0\n>>> score = 0\n>>> available_mana = {'red': 3, 'white': 2, 'colorless': 0}\n>>> cards = card_list()\n>>> result = find_best_card_to_play(available_mana, cards)\n>>> max_combined_power = -1\n>>> condition = isinstance(max_combined_power, int) and max_combined_power == -1\n>>> assert condition, \"Variable 'max_combined_power' must be initialized to -1.\"\n>>> if condition:\n...     score = 1.0\n>>> earned_points = float(os.environ.get('EARNED_POINTS', 0))\n>>> earned_points += score\n>>> log_variable('homework_4', f'{score}, {max_score}', question_id)\n>>> os.environ['EARNED_POINTS'] = str(earned_points)\n>>> responses = update_responses(question_id, str(max_combined_power))\n",
         "failure_message": "Failed: Variable 'max_combined_power' is not initialized to -1.",
         "hidden": false,
         "locked": false,
         "points": 1,
         "success_message": "Success: Variable 'max_combined_power' is initialized correctly!"
        },
        {
         "code": ">>> from pykubegrader.telemetry import ensure_responses, log_variable, score_question, submit_question, telemetry, update_responses\n>>> import os\n>>> question_id = 'mtg-combo-solver-4'\n>>> max_score = 3.0\n>>> score = 0\n>>> available_mana = {'red': 3, 'white': 2, 'colorless': 0}\n>>> result = find_best_card_to_play(available_mana, card_list())\n>>> expected_card = 'Serra Angel'\n>>> assert result == expected_card, 'The function must return the correct card or the default message.'\n>>> if result == expected_card:\n...     score = 3.0\n>>> earned_points = float(os.environ.get('EARNED_POINTS', 0))\n>>> earned_points += score\n>>> log_variable('homework_4', f'{score}, {max_score}', question_id)\n>>> os.environ['EARNED_POINTS'] = str(earned_points)\n>>> responses = update_responses(question_id, str(result))\n",
         "failure_message": "Failed: The function does not return the correct card or the default message.",
         "hidden": false,
         "locked": false,
         "points": 3,
         "success_message": "Success: The function returns the correct card or 'No card can be played'!"
        },
        {
         "code": ">>> from pykubegrader.telemetry import ensure_responses, log_variable, score_question, submit_question, telemetry, update_responses\n>>> import os\n>>> question_id = 'mtg-combo-solver-5'\n>>> max_score = 3.0\n>>> score = 0\n>>> available_mana = {'red': 0, 'white': 0, 'colorless': 4}\n>>> result = find_best_card_to_play(available_mana, card_list())\n>>> expected_card = 'Solemn Simulacrum'\n>>> assert result == expected_card, 'The function must return the correct card or the default message.'\n>>> if result == expected_card:\n...     score = 3.0\n>>> earned_points = float(os.environ.get('EARNED_POINTS', 0))\n>>> earned_points += score\n>>> log_variable('homework_4', f'{score}, {max_score}', question_id)\n>>> os.environ['EARNED_POINTS'] = str(earned_points)\n>>> responses = update_responses(question_id, str(result))\n",
         "failure_message": "Failed: The function does not return the correct card or the default message.",
         "hidden": false,
         "locked": false,
         "points": 3,
         "success_message": "Success: The function returns the correct card or 'No card can be played'!"
        },
        {
         "code": ">>> from pykubegrader.telemetry import ensure_responses, log_variable, score_question, submit_question, telemetry, update_responses\n>>> import os\n>>> question_id = 'mtg-combo-solver-6'\n>>> max_score = 3.0\n>>> score = 0\n>>> available_mana = {'red': 0, 'white': 4, 'colorless': 4}\n>>> result = find_best_card_to_play(available_mana, card_list())\n>>> expected_card = 'Sun Titan'\n>>> assert result == expected_card, 'The function must return the correct card or the default message.'\n>>> if result == expected_card:\n...     score = 3.0\n>>> earned_points = float(os.environ.get('EARNED_POINTS', 0))\n>>> earned_points += score\n>>> log_variable('homework_4', f'{score}, {max_score}', question_id)\n>>> os.environ['EARNED_POINTS'] = str(earned_points)\n>>> responses = update_responses(question_id, str(result))\n",
         "failure_message": "Failed: The function does not return the correct card or the default message.",
         "hidden": false,
         "locked": false,
         "points": 3,
         "success_message": "Success: The function returns the correct card or 'No card can be played'!"
        },
        {
         "code": ">>> from pykubegrader.telemetry import ensure_responses, log_variable, score_question, submit_question, telemetry, update_responses\n>>> import os\n>>> question_id = 'mtg-combo-solver-7'\n>>> max_score = 3.0\n>>> score = 0\n>>> available_mana = {'blue': 1, 'blue': 1, 'black': 1, 'colorless': 0}\n>>> result = find_best_card_to_play(available_mana, card_list())\n>>> expected_card = 'Snapcaster Mage'\n>>> assert result == expected_card, 'The function must return the correct card or the default message.'\n>>> if result == expected_card:\n...     score = 3.0\n>>> earned_points = float(os.environ.get('EARNED_POINTS', 0))\n>>> earned_points += score\n>>> log_variable('homework_4', f'{score}, {max_score}', question_id)\n>>> os.environ['EARNED_POINTS'] = str(earned_points)\n>>> responses = update_responses(question_id, str(result))\n",
         "failure_message": "Failed: The function does not return the correct card or the default message.",
         "hidden": false,
         "locked": false,
         "points": 3,
         "success_message": "Success: The function returns the correct card or 'No card can be played'!"
        },
        {
         "code": ">>> from pykubegrader.telemetry import ensure_responses, log_variable, score_question, submit_question, telemetry, update_responses\n>>> import os\n>>> question_id = 'mtg-combo-solver-8'\n>>> max_score = 3.0\n>>> score = 0\n>>> available_mana = {'white': 1, 'green': 2, 'colorless': 5}\n>>> result = find_best_card_to_play(available_mana, card_list())\n>>> expected_card = 'Dragonlord Dromoka'\n>>> assert result == expected_card, 'The function must return the correct card or the default message.'\n>>> if result == expected_card:\n...     score = 3.0\n>>> earned_points = float(os.environ.get('EARNED_POINTS', 0))\n>>> earned_points += score\n>>> log_variable('homework_4', f'{score}, {max_score}', question_id)\n>>> os.environ['EARNED_POINTS'] = str(earned_points)\n>>> responses = update_responses(question_id, str(result))\n",
         "failure_message": "Failed: The function does not return the correct card or the default message.",
         "hidden": false,
         "locked": false,
         "points": 3,
         "success_message": "Success: The function returns the correct card or 'No card can be played'!"
        }
       ],
       "scored": true,
       "setup": "",
       "teardown": "",
       "type": "doctest"
      }
     ]
    },
    "mtg-fibonacci-tokens": {
     "name": "mtg-fibonacci-tokens",
     "points": null,
     "suites": [
      {
       "cases": [
        {
         "code": ">>> from pykubegrader.telemetry import ensure_responses, log_variable, score_question, submit_question, telemetry, update_responses\n>>> import os\n>>> max_question_points = str(9.0)\n>>> earned_points = 0\n>>> os.environ['EARNED_POINTS'] = str(earned_points)\n>>> os.environ['TOTAL_POINTS_FREE_RESPONSE'] = str(33.0)\n>>> log_variable('total-points', f'Reading-Week-X, homework_4', 33.0)\n>>> question_id = 'mtg-fibonacci-tokens-1'\n>>> max_score = 2.0\n>>> score = 0\n>>> input_values = (0, 1, 2)\n>>> expected_output = [0, 1]\n>>> actual_output = fibonacci_tokens(*input_values)\n>>> condition = actual_output == expected_output\n>>> assert condition, f'Expected {expected_output} for input {input_values}, but got {actual_output}.'\n>>> if (condition, f'Expected {expected_output} for input {input_values}, but got {actual_output}.'):\n...     score = 2.0\n>>> earned_points = float(os.environ.get('EARNED_POINTS', 0))\n>>> earned_points += score\n>>> log_variable('homework_4', f'{score}, {max_score}', question_id)\n>>> os.environ['EARNED_POINTS'] = str(earned_points)\n>>> responses = update_responses(question_id, str(input_values))\n>>> responses = update_responses(question_id, str(expected_output))\n>>> responses = update_responses(question_id, str(actual_output))\n",
         "failure_message": "Failed: The function does not return the correct sequence for L=2.",
         "hidden": false,
         "locked": false,
         "points": 2,
         "success_message": "Success: The function returns the correct sequence for L=2!"
        },
        {
         "code": ">>> from pykubegrader.telemetry import ensure_responses, log_variable, score_question, submit_question, telemetry, update_responses\n>>> import os\n>>> question_id = 'mtg-fibonacci-tokens-2'\n>>> max_score = 2.0\n>>> score = 0\n>>> input_values = (1, 1, 5)\n>>> expected_output = [1, 1, 2, 3, 5]\n>>> actual_output = fibonacci_tokens(*input_values)\n>>> condition = actual_output == expected_output\n>>> assert condition, f'Expected {expected_output} for input {input_values}, but got {actual_output}.'\n>>> if (condition, f'Expected {expected_output} for input {input_values}, but got {actual_output}.'):\n...     score = 2.0\n>>> earned_points = float(os.environ.get('EARNED_POINTS', 0))\n>>> earned_points += score\n>>> log_variable('homework_4', f'{score}, {max_score}', question_id)\n>>> os.environ['EARNED_POINTS'] = str(earned_points)\n>>> responses = update_responses(question_id, str(input_values))\n>>> responses = update_responses(question_id, str(expected_output))\n>>> responses = update_responses(question_id, str(actual_output))\n",
         "failure_message": "Failed: The function does not correctly generate a Fibonacci sequence for L=5.",
         "hidden": false,
         "locked": false,
         "points": 2,
         "success_message": "Success: The function correctly generates a Fibonacci sequence for L=5!"
        },
        {
         "code": ">>> \"\"\" \n>>> # BEGIN TEST CONFIG\n>>> points: 2\n>>> hidden: false\n>>> success_message: \"Success: The function handles L=1 correctly!\"\n>>> failure_message: \"Failed: The function does not handle L=1 correctly.\"\n>>> log_variables: [\"input_values\", \"expected_output\", \"actual_output\"]\n>>> \"\"\"\n>>> import re\n>>> from io import StringIO\n>>> import sys\n>>> def fibonacci_tokens(a, b, length):\n...     if length <= 1:\n...         print('Fibonacci-like growth not possible')\n...         return None\n>>> output = StringIO()\n>>> sys.stdout = output\n>>> input_values = (3, 5, 1)\n>>> expected_output = 'Fibonacci-like growth not possible'\n>>> actual_output = fibonacci_tokens(*input_values)\n>>> sys.stdout = sys.__stdout__\n>>> output_value = output.getvalue().strip()\n>>> condition = actual_output is None and re.search(re.escape(expected_output), output_value, re.IGNORECASE)\n>>> assert condition, f\"Expected no return value for input {input_values} and output '{expected_output}', but got return value {actual_output} and output '{output_value}'.\"\n",
         "hidden": false,
         "locked": false
        },
        {
         "code": ">>> from pykubegrader.telemetry import ensure_responses, log_variable, score_question, submit_question, telemetry, update_responses\n>>> import os\n>>> question_id = 'mtg-fibonacci-tokens-3'\n>>> max_score = 2.0\n>>> score = 0\n>>> input_values = (2, 3, 5)\n>>> expected_output = [2, 3, 5, 8, 13]\n>>> actual_output = fibonacci_tokens(*input_values)\n>>> condition = actual_output == expected_output\n>>> assert condition, f'Expected {expected_output} for input {input_values}, but got {actual_output}.'\n>>> if (condition, f'Expected {expected_output} for input {input_values}, but got {actual_output}.'):\n...     score = 2.0\n>>> earned_points = float(os.environ.get('EARNED_POINTS', 0))\n>>> earned_points += score\n>>> log_variable('homework_4', f'{score}, {max_score}', question_id)\n>>> os.environ['EARNED_POINTS'] = str(earned_points)\n>>> responses = update_responses(question_id, str(input_values))\n>>> responses = update_responses(question_id, str(expected_output))\n>>> responses = update_responses(question_id, str(actual_output))\n",
         "failure_message": "Failed: The function does not handle custom start values correctly.",
         "hidden": false,
         "locked": false,
         "points": 2,
         "success_message": "Success: The function handles custom start values correctly!"
        },
        {
         "code": ">>> from pykubegrader.telemetry import ensure_responses, log_variable, score_question, submit_question, telemetry, update_responses\n>>> import os\n>>> question_id = 'mtg-fibonacci-tokens-4'\n>>> max_score = 3.0\n>>> score = 0\n>>> input_values = (1, 1, 10)\n>>> expected_output = [1, 1, 2, 3, 5, 8, 13, 21, 34, 55]\n>>> actual_output = fibonacci_tokens(*input_values)\n>>> assert actual_output == expected_output, f'Expected {expected_output} for input {input_values}, but got {actual_output}.'\n>>> if (actual_output == expected_output, f'Expected {expected_output} for input {input_values}, but got {actual_output}.'):\n...     score = 3.0\n>>> earned_points = float(os.environ.get('EARNED_POINTS', 0))\n>>> earned_points += score\n>>> log_variable('homework_4', f'{score}, {max_score}', question_id)\n>>> os.environ['EARNED_POINTS'] = str(earned_points)\n>>> responses = update_responses(question_id, str(input_values))\n>>> responses = update_responses(question_id, str(expected_output))\n>>> responses = update_responses(question_id, str(actual_output))\n",
         "failure_message": "Failed: The function does not correctly generate a large Fibonacci sequence.",
         "hidden": false,
         "locked": false,
         "points": 3,
         "success_message": "Success: The function correctly generates a large Fibonacci sequence!"
        }
       ],
       "scored": true,
       "setup": "",
       "teardown": "",
       "type": "doctest"
      }
     ]
    }
   }
  }
 },
 "nbformat": 4,
 "nbformat_minor": 5
}
