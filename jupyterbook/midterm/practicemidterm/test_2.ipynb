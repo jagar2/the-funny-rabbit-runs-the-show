{
 "cells": [
  {
   "cell_type": "code",
   "execution_count": null,
   "metadata": {},
   "outputs": [],
   "source": [
    "from tqdm import tqdm\n",
    "\n",
    "message = \"\"\"Professor Agar says, 'Come get it, debug your code like a rockstar! 💻🎤\n",
    "When your loops are infinite, just sing Aaron Carter's 'Come Get It' and the bugs will flee! 🐛🏃‍♂️\n",
    "Remember, coding is like dancing—you gotta keep the rhythm with proper indentation. 🕺🐍\n",
    "And if you ever feel stuck, just shout, 'Come get it!' and the solution will come running. 🏃‍♀️💡\n",
    "Now go out there and slay that code, Python warriors! 🐍⚔️'\n",
    "Watch the music video here: https://www.youtube.com/watch?v=y0p3jn7ODuc\"\"\"\n",
    "\n",
    "key = \"antiferroelectric543^\"\n",
    "\n",
    "def xor_encrypt(message, key):\n",
    "    \"\"\"Encrypts a message using XOR encryption with the given key.\"\"\"\n",
    "    encrypted_message = bytearray()\n",
    "    key_length = len(key)\n",
    "    for i in range(len(message)):\n",
    "        encrypted_message.append(message[i] ^ key[i % key_length])\n",
    "        \n",
    "    with open(\"encrypted_message.txt\", \"wb\") as f:\n",
    "        f.write(encrypted_message)\n",
    "        \n",
    "    return encrypted_message\n",
    "\n",
    "encrypted_message = xor_encrypt(message.encode('utf-8'), key.encode('utf-8'))\n",
    "\n",
    "\n",
    "def xor_decrypt(encrypted_message, key):\n",
    "    \"\"\"Decrypts an XOR-encrypted message using the given key.\"\"\"\n",
    "    decrypted_message = bytearray()\n",
    "    key = key.encode(\"utf-8\")  # Convert key to bytes\n",
    "    key_length = len(key)\n",
    "    for i in range(len(encrypted_message)):\n",
    "        decrypted_message.append(encrypted_message[i] ^ key[i % key_length])\n",
    "    return decrypted_message.decode(\"utf-8\", errors=\"ignore\")\n",
    "\n",
    "\n",
    "def generate_passwords(wordlist, symbols):\n",
    "    \"\"\"Generates all possible passwords based on Professor Agar's rules.\"\"\"\n",
    "    passwords = []\n",
    "    for word in tqdm(wordlist, desc=\"Generating passwords\"):\n",
    "        # Add the word as-is and with the first letter capitalized\n",
    "        variations = [word, word.capitalize()]\n",
    "        for w in variations:\n",
    "            # Append up to 2 numbers\n",
    "            for num in range(100):\n",
    "                num_str = f\"{num}\"  \n",
    "                # Append a symbol\n",
    "                for symbol in symbols:\n",
    "                    password = f\"{w}{num_str}{symbol}\"\n",
    "                    passwords.append(password)\n",
    "    return passwords\n",
    "\n",
    "def crack_password(encrypted_message, wordlist, symbols):\n",
    "    \"\"\"Cracks the password by brute-forcing all possible combinations.\"\"\"\n",
    "    passwords = generate_passwords(wordlist, symbols)\n",
    "    for password in tqdm(passwords, desc=\"Cracking password\"):\n",
    "        key = password.encode('utf-8')\n",
    "        decrypted_message = xor_decrypt(encrypted_message, key)\n",
    "        # Check if the decrypted message contains readable text\n",
    "        if all(\n",
    "            word in decrypted_message.lower()\n",
    "            for word in [\"if\", \"the\", \"and\", \"https://\"]\n",
    "        ):  # Example check\n",
    "            print(f\"Password found: {password}\")\n",
    "            print(f\"Decrypted message: {decrypted_message}\")\n",
    "            return password\n",
    "    return None\n",
    "\n",
    "# Load the encrypted message and wordlist\n",
    "with open(\"encrypted_message.txt\", \"rb\") as f:\n",
    "    encrypted_message = f.read()\n",
    "\n",
    "with open(\"words.txt\", \"r\") as f:\n",
    "    wordlist = [line.strip() for line in f.readlines()]\n",
    "\n",
    "symbols = ['!', '@', '#', '$', '%', '^', '&', '*']\n",
    "\n",
    "# # Crack the password\n",
    "# password = crack_password(encrypted_message, wordlist, symbols)\n",
    "\n",
    "# if password:\n",
    "#     print(f\"Success! The password is: {password}\")\n",
    "#     # Use the password to reveal the song\n",
    "#     # (This part would involve further decryption or accessing a system)\n",
    "# else:\n",
    "#     print(\"Failed to crack the password.\")"
   ]
  },
  {
   "cell_type": "code",
   "execution_count": null,
   "metadata": {},
   "outputs": [],
   "source": [
    "decrypted_message = xor_decrypt(encrypted_message, key)"
   ]
  },
  {
   "cell_type": "code",
   "execution_count": null,
   "metadata": {},
   "outputs": [],
   "source": [
    "key.encode(\"utf-8\")"
   ]
  },
  {
   "cell_type": "code",
   "execution_count": null,
   "metadata": {},
   "outputs": [],
   "source": [
    "decrypted_message"
   ]
  },
  {
   "cell_type": "code",
   "execution_count": null,
   "metadata": {},
   "outputs": [],
   "source": [
    "if all(\n",
    "    word in decrypted_message.lower() for word in [\"if\", \"the\", \"and\", \"https://\"]\n",
    "):  # Example check\n",
    "    print(f\"Password found: {key}\")\n",
    "    print(f\"Decrypted message: {decrypted_message}\")\n"
   ]
  },
  {
   "cell_type": "code",
   "execution_count": null,
   "metadata": {},
   "outputs": [],
   "source": []
  }
 ],
 "metadata": {
  "kernelspec": {
   "display_name": "engr131_dev",
   "language": "python",
   "name": "python3"
  },
  "language_info": {
   "codemirror_mode": {
    "name": "ipython",
    "version": 3
   },
   "file_extension": ".py",
   "mimetype": "text/x-python",
   "name": "python",
   "nbconvert_exporter": "python",
   "pygments_lexer": "ipython3",
   "version": "3.12.7"
  }
 },
 "nbformat": 4,
 "nbformat_minor": 2
}
