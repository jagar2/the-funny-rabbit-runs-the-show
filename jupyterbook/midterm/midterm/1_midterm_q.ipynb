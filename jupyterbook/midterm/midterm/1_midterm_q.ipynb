{
 "cells": [
  {
   "cell_type": "markdown",
   "id": "0",
   "metadata": {},
   "source": [
    "# ❓ ENGR131: Introduction to Programming for Engineers\n",
    "\n",
    "You will have one hour to complete the midterm exam. Please read the instructions carefully. You will receive feedback similar to your practice midterm exam.\n",
    "\n",
    "## Recommended Tests Taking Strategies\n",
    "\n",
    "1. Look over the point totals for each question\n",
    "\n",
    "2. Quickly complete the multiple choice questions\n",
    "\n",
    "3. Move on to the short answer questions and complete the ones you know first.\n",
    "\n",
    "4. Go back and refine your answers to the short answer questions -- this is a good opportunity to use the python interpreter to test your code.\n",
    "\n",
    "\n",
    "For the multiple choice questions it is expected that you have access to a python interpreter. Do not go at it alone, use the resources available to you to help you answer the questions. Without the interpreter some of the questions may be difficult to answer."
   ]
  },
  {
   "cell_type": "raw",
   "id": "1",
   "metadata": {
    "vscode": {
     "languageId": "raw"
    }
   },
   "source": [
    "# BEGIN MULTIPLE CHOICE\n",
    "## points: 1\n",
    "## title: Select the Best Answer\n",
    "## question number: 1"
   ]
  },
  {
   "cell_type": "markdown",
   "id": "2",
   "metadata": {},
   "source": [
    "## what-is-programming\n",
    "### **What is programming?**\n",
    "\n",
    "#### OPTIONS\n",
    "Writing instructions that a computer can execute.\n",
    "Drawing pictures on a computer.\n",
    "Typing random text into a computer.\n",
    "Watching videos on a computer.\n",
    "\n",
    "#### SOLUTION\n",
    "Writing instructions that a computer can execute."
   ]
  },
  {
   "cell_type": "markdown",
   "id": "3",
   "metadata": {},
   "source": [
    "## python-return\n",
    "### **What is stored in the variable out after running this code?**\n",
    "```python\n",
    "def add(a, b):\n",
    "    print(a + b)\n",
    "\n",
    "out = add(3, 4)\n",
    "```\n",
    "\n",
    "#### OPTIONS\n",
    "`7`\n",
    "`print(7)`\n",
    "`Error`\n",
    "`None`\n",
    "\n",
    "#### SOLUTION\n",
    "`None`"
   ]
  },
  {
   "cell_type": "markdown",
   "id": "4",
   "metadata": {},
   "source": [
    "## formal-language\n",
    "### **What is a characteristic of a formal language?**\n",
    "\n",
    "#### OPTIONS\n",
    "It has strict rules for structure and syntax.\n",
    "It is spoken by people in daily conversations.\n",
    "It is always written in English.\n",
    "It changes frequently without rules.\n",
    "\n",
    "#### SOLUTION\n",
    "It has strict rules for structure and syntax."
   ]
  },
  {
   "cell_type": "markdown",
   "id": "5",
   "metadata": {},
   "source": [
    "## python-mutability\n",
    "### **Which of the following is a mutable data type in Python?**\n",
    "\n",
    "#### OPTIONS\n",
    "`list`\n",
    "`tuple`\n",
    "`str`\n",
    "`int`\n",
    "\n",
    "#### SOLUTION\n",
    "`list`"
   ]
  },
  {
   "cell_type": "markdown",
   "id": "6",
   "metadata": {},
   "source": [
    "## python-variables-basic\n",
    "### **Which of the following is a valid variable name in Python?**\n",
    "\n",
    "#### OPTIONS\n",
    "`my_variable`\n",
    "`2nd-variable`\n",
    "`for`\n",
    "`hello world`\n",
    "\n",
    "#### SOLUTION\n",
    "`my_variable`"
   ]
  },
  {
   "cell_type": "markdown",
   "id": "7",
   "metadata": {},
   "source": [
    "## python-operators-basic\n",
    "### **Which operator is used for multiplication in Python?**\n",
    "\n",
    "#### OPTIONS\n",
    "`*`\n",
    "`+`\n",
    "`-`\n",
    "`/`\n",
    "\n",
    "#### SOLUTION\n",
    "`*`"
   ]
  },
  {
   "cell_type": "markdown",
   "id": "8",
   "metadata": {},
   "source": [
    "## computer-memory\n",
    "### **Which component is responsible for storing temporary data in a computer?**\n",
    "\n",
    "#### OPTIONS\n",
    "RAM\n",
    "CPU\n",
    "Hard Drive\n",
    "Monitor\n",
    "\n",
    "#### SOLUTION\n",
    "RAM"
   ]
  },
  {
   "cell_type": "markdown",
   "id": "9",
   "metadata": {},
   "source": [
    "## python-datatypes-basic\n",
    "### **Which of the following is a numeric data type in Python?**\n",
    "\n",
    "#### OPTIONS\n",
    "`int`\n",
    "`str`\n",
    "`list`\n",
    "`tuple`\n",
    "\n",
    "#### SOLUTION\n",
    "`int`"
   ]
  },
  {
   "cell_type": "markdown",
   "id": "10",
   "metadata": {},
   "source": [
    "## python-comments-basic\n",
    "### **Which symbol is used to write comments in Python?**\n",
    "\n",
    "#### OPTIONS\n",
    "`#`\n",
    "`//`\n",
    "`/* */`\n",
    "`--`\n",
    "\n",
    "#### SOLUTION\n",
    "`#`"
   ]
  },
  {
   "cell_type": "markdown",
   "id": "11",
   "metadata": {},
   "source": [
    "## python-list-appending\n",
    "### **Which method is used to add an item to the end of a list?**\n",
    "\n",
    "#### OPTIONS\n",
    "`append()`\n",
    "`insert()`\n",
    "`remove()`\n",
    "`pop()`\n",
    "\n",
    "#### SOLUTION\n",
    "`append()`"
   ]
  },
  {
   "cell_type": "markdown",
   "id": "12",
   "metadata": {},
   "source": [
    "## python-conditions\n",
    "### **What is the output of the following code?**\n",
    "```python\n",
    "if 5 > 3:\n",
    "    print(\"Yes\")\n",
    "else:\n",
    "    print(\"No\")\n",
    "```\n",
    "\n",
    "#### OPTIONS\n",
    "`Yes`\n",
    "`No`\n",
    "`Error`\n",
    "`5 > 3`\n",
    "\n",
    "#### SOLUTION\n",
    "`Yes`"
   ]
  },
  {
   "cell_type": "raw",
   "id": "13",
   "metadata": {
    "vscode": {
     "languageId": "raw"
    }
   },
   "source": [
    "# END MULTIPLE CHOICE"
   ]
  },
  {
   "cell_type": "raw",
   "id": "14",
   "metadata": {
    "vscode": {
     "languageId": "raw"
    }
   },
   "source": [
    "# BEGIN SELECT MANY\n",
    "## points: 2\n",
    "## title: Select All That Apply\n",
    "## question number: 2\n",
    "## grade: parts"
   ]
  },
  {
   "cell_type": "markdown",
   "id": "15",
   "metadata": {},
   "source": [
    "## problem-solving\n",
    "### **Which of the following are key aspects of problem-solving in programming?**\n",
    "\n",
    "#### OPTIONS\n",
    "Breaking problems into smaller steps.\n",
    "Writing code without a plan.\n",
    "Using structured logic to find solutions.\n",
    "Ignoring errors in the program.\n",
    "\n",
    "#### SOLUTION\n",
    "Breaking problems into smaller steps.\n",
    "Using structured logic to find solutions."
   ]
  },
  {
   "cell_type": "markdown",
   "id": "16",
   "metadata": {},
   "source": [
    "## python-packages\n",
    "### **Which statements about Python packages are correct?**\n",
    "\n",
    "#### OPTIONS\n",
    "A package is a collection of modules.\n",
    "Packages can be installed using `pip`.\n",
    "All Python packages come pre-installed.\n",
    "Users cannot create their own packages.\n",
    "\n",
    "#### SOLUTION\n",
    "A package is a collection of modules.\n",
    "Packages can be installed using `pip`."
   ]
  },
  {
   "cell_type": "markdown",
   "id": "17",
   "metadata": {},
   "source": [
    "## python-data-types\n",
    "### **Which of the following are built-in data types in Python?**\n",
    "\n",
    "#### OPTIONS\n",
    "Integer\n",
    "String\n",
    "List\n",
    "Dictionary\n",
    "\n",
    "#### SOLUTION\n",
    "Integer\n",
    "String\n",
    "List\n",
    "Dictionary"
   ]
  },
  {
   "cell_type": "markdown",
   "id": "18",
   "metadata": {},
   "source": [
    "## python-expressions\n",
    "### **Which of the following are valid Python expressions?**\n",
    "\n",
    "#### OPTIONS\n",
    "`x + y`\n",
    "`x = 10`\n",
    "`if x > 5`\n",
    "`print(\"Hello\")`\n",
    "\n",
    "#### SOLUTION\n",
    "`x + y`\n",
    "`x = 10`\n",
    "`print(\"Hello\")`"
   ]
  },
  {
   "cell_type": "markdown",
   "id": "19",
   "metadata": {},
   "source": [
    "## python-mutability\n",
    "### **Which of the following data types are mutable in Python?**\n",
    "\n",
    "#### OPTIONS\n",
    "List\n",
    "Dictionary\n",
    "String\n",
    "Tuple\n",
    "\n",
    "#### SOLUTION\n",
    "List\n",
    "Dictionary"
   ]
  },
  {
   "cell_type": "markdown",
   "id": "20",
   "metadata": {},
   "source": [
    "## python-lists\n",
    "### **Which statements about Python lists are true?**\n",
    "\n",
    "#### OPTIONS\n",
    "Lists can store different data types.\n",
    "Lists can be changed after creation.\n",
    "Lists are immutable.\n",
    "Lists must only contain numbers.\n",
    "\n",
    "#### SOLUTION\n",
    "Lists can store different data types.\n",
    "Lists can be changed after creation."
   ]
  },
  {
   "cell_type": "markdown",
   "id": "21",
   "metadata": {},
   "source": [
    "## floating-point-numbers\n",
    "### **Which of the following are true about floating-point numbers in Python?**\n",
    "\n",
    "#### OPTIONS\n",
    "They can store decimal values.\n",
    "They always provide exact precision.\n",
    "Their precision is limited.\n",
    "They are immutable.\n",
    "\n",
    "#### SOLUTION\n",
    "They can store decimal values.\n",
    "Their precision is limited.\n",
    "They are immutable."
   ]
  },
  {
   "cell_type": "markdown",
   "id": "22",
   "metadata": {},
   "source": [
    "## boolean-operators\n",
    "### **Which of the following are Boolean operators in Python?**\n",
    "\n",
    "#### OPTIONS\n",
    "`and`\n",
    "`or`\n",
    "`not`\n",
    "`xor`\n",
    "\n",
    "#### SOLUTION\n",
    "`and`\n",
    "`or`\n",
    "`not`"
   ]
  },
  {
   "cell_type": "markdown",
   "id": "23",
   "metadata": {},
   "source": [
    "## python-objects\n",
    "### **Which of the following are objects in Python?**\n",
    "\n",
    "#### OPTIONS\n",
    "Integer\n",
    "Function\n",
    "String\n",
    "Tuple\n",
    "Dictionary\n",
    "List\n",
    "Module\n",
    "\n",
    "#### SOLUTION\n",
    "Integer\n",
    "Function\n",
    "String\n",
    "Tuple\n",
    "Dictionary\n",
    "List\n",
    "Module"
   ]
  },
  {
   "cell_type": "markdown",
   "id": "24",
   "metadata": {},
   "source": [
    "## loop-control-statements\n",
    "### **Which of the following control how loops behave in Python?**\n",
    "\n",
    "#### OPTIONS\n",
    "`break`\n",
    "`continue`\n",
    "`else`\n",
    "`stop`\n",
    "\n",
    "#### SOLUTION\n",
    "`break`\n",
    "`continue`\n",
    "`else`"
   ]
  },
  {
   "cell_type": "raw",
   "id": "25",
   "metadata": {
    "vscode": {
     "languageId": "raw"
    }
   },
   "source": [
    "# END SELECT MANY"
   ]
  },
  {
   "cell_type": "raw",
   "id": "26",
   "metadata": {
    "vscode": {
     "languageId": "raw"
    }
   },
   "source": [
    "# BEGIN TF\n",
    "## points: 1\n",
    "## title: True or False\n",
    "## question number: 3"
   ]
  },
  {
   "cell_type": "markdown",
   "id": "27",
   "metadata": {},
   "source": [
    "## python-modules\n",
    "### **A Python module can include functions, and variables.**\n",
    "\n",
    "#### SOLUTION\n",
    "True\n"
   ]
  },
  {
   "cell_type": "markdown",
   "id": "28",
   "metadata": {},
   "source": [
    "## python-variables\n",
    "### **In Python, you must explicitly specify the type of a variable when declaring it.**\n",
    "\n",
    "#### SOLUTION\n",
    "False"
   ]
  },
  {
   "cell_type": "markdown",
   "id": "29",
   "metadata": {},
   "source": [
    "## python-operators\n",
    "### **The `//` operator in Python performs regular division and always returns a float.**\n",
    "\n",
    "#### SOLUTION\n",
    "False"
   ]
  },
  {
   "cell_type": "markdown",
   "id": "30",
   "metadata": {},
   "source": [
    "## computing-gpu\n",
    "### **GPUs are well-suited for parallel processing tasks because they have many cores that can perform calculations simultaneously.**\n",
    "\n",
    "#### SOLUTION\n",
    "True"
   ]
  },
  {
   "cell_type": "markdown",
   "id": "31",
   "metadata": {},
   "source": [
    "## python-datatypes\n",
    "### **Lists in Python are mutable, meaning they can be changed after creation.**\n",
    "\n",
    "#### SOLUTION\n",
    "True"
   ]
  },
  {
   "cell_type": "markdown",
   "id": "32",
   "metadata": {},
   "source": [
    "## python-comments\n",
    "### **Comments in Python are ignored by the interpreter and do not affect program execution.**\n",
    "\n",
    "#### SOLUTION\n",
    "True"
   ]
  },
  {
   "cell_type": "markdown",
   "id": "33",
   "metadata": {},
   "source": [
    "## python-mutability\n",
    "### **Dictionaries in Python are immutable, meaning their contents cannot be modified.**\n",
    "\n",
    "#### SOLUTION\n",
    "False\n"
   ]
  },
  {
   "cell_type": "markdown",
   "id": "34",
   "metadata": {},
   "source": [
    "## boolean-operators\n",
    "### **The `or` operator in Python returns `True` if at least one operand is `True`.**\n",
    "\n",
    "#### SOLUTION\n",
    "True\n"
   ]
  },
  {
   "cell_type": "markdown",
   "id": "35",
   "metadata": {},
   "source": [
    "## number-of-datatypes\n",
    "### **There are only 8 datatypes in Python**\n",
    "\n",
    "#### SOLUTION\n",
    "False\n"
   ]
  },
  {
   "cell_type": "markdown",
   "id": "36",
   "metadata": {},
   "source": [
    "## python-open-source\n",
    "### **Python is open source and thus free to install**\n",
    "\n",
    "#### SOLUTION\n",
    "True"
   ]
  },
  {
   "cell_type": "raw",
   "id": "37",
   "metadata": {
    "vscode": {
     "languageId": "raw"
    }
   },
   "source": [
    "# END TF"
   ]
  },
  {
   "cell_type": "raw",
   "id": "38",
   "metadata": {
    "vscode": {
     "languageId": "raw"
    }
   },
   "source": [
    "# ASSIGNMENT CONFIG\n",
    "solutions_pdf: true\n",
    "generate: \n",
    "    pdf: true\n",
    "    filtering: true\n",
    "    pagebreaks: true\n",
    "    zips: false\n",
    "files: [.client_private_key.bin, .server_public_key.bin]"
   ]
  },
  {
   "cell_type": "raw",
   "id": "39",
   "metadata": {
    "vscode": {
     "languageId": "raw"
    }
   },
   "source": [
    "# BEGIN QUESTION\n",
    "name: loops-and-dictionaries-inventory"
   ]
  },
  {
   "cell_type": "markdown",
   "id": "40",
   "metadata": {},
   "source": [
    "## Warehouse Inventory Processor: Loops, Continue, Break, Dictionaries, and Lists\n",
    "\n",
    "### Instructions:\n",
    "\n",
    "You are managing an inventory system for an electronics warehouse. Each product is represented as a dictionary, where the keys are product IDs (e.g., \"P1\") and the values are dictionaries containing product details. Your task is to write a function `process_inventory()` that processes a list of products using loops, `continue`, and `break`.\n",
    "\n",
    "### Requirements:\n",
    "\n",
    "1. **Input:** The function receives a list of dictionaries, each representing a product:\n",
    "\n",
    "| id | status | weight |\n",
    "|-----|----------|--------|\n",
    "| P1 | in_stock | 2.5 |\n",
    "| P2 | in_stock | 3.2 |\n",
    "| P3 | damaged | 4.5 |\n",
    "| P4 | in_stock | 1.8 |\n",
    "\n",
    "2. **Part 1:** Count the products with status `\"in_stock\"` using a loop and return the count.\n",
    "3. **Part 2:** Skip products with status `\"damaged\"`, and create a list of IDs for available products.\n",
    "4. **Part 3:** If a product's weight exceeds `4.0`, break the loop and return `\"Overweight product detected!\"`.\n",
    "5. **Part 4:** Return a dictionary summarizing the count of `\"in_stock\"` products, the valid IDs list, and the break message (if triggered).\n",
    "\n",
    "### Helpful Information:\n",
    "\n",
    "- Use a loop to iterate through the `products` list.\n",
    "- Use `continue` to skip certain iterations based on a condition.\n",
    "- Use `break` to exit the loop early when another condition is met.\n",
    "- Remember that you can access dictionary values using the syntax `dictionary[key]`.\n",
    "- Example methods:\n",
    "    - `append`: Add an element to a list.\n",
    "\n",
    "We provide detailed inline instructions for each part of the task. Please read the instructions carefully and complete each part accordingly."
   ]
  },
  {
   "cell_type": "raw",
   "id": "41",
   "metadata": {
    "vscode": {
     "languageId": "raw"
    }
   },
   "source": [
    "# BEGIN SOLUTION"
   ]
  },
  {
   "cell_type": "code",
   "execution_count": null,
   "id": "42",
   "metadata": {},
   "outputs": [],
   "source": [
    "# Write the products list of dictionaries based on the table provided, assign it to a variable `products`\n",
    "# BEGIN SOLUTION\n",
    "products = [\n",
    "{\"id\": \"P1\", \"status\": \"in_stock\", \"weight\": 2.5},\n",
    "{\"id\": \"P2\", \"status\": \"in_stock\", \"weight\": 3.2},\n",
    "{\"id\": \"P3\", \"status\": \"damaged\", \"weight\": 4.5},\n",
    "{\"id\": \"P4\", \"status\": \"in_stock\", \"weight\": 1.8},\n",
    "]\n",
    "# END SOLUTION\n",
    "\n",
    "# Define a function `process_inventory` that takes a list of products as input\n",
    "# BEGIN SOLUTION\n",
    "def process_inventory(products):\n",
    "# END SOLUTION\n",
    "\n",
    "    # Initialize variables\n",
    "    # Create a variable `stock_count` and set it to 0\n",
    "    # Create a variable `valid_ids` and set it to an empty list\n",
    "    # Create a variable `break_message` and set it to None\n",
    "    # BEGIN SOLUTION\n",
    "    stock_count = 0\n",
    "    valid_ids = []\n",
    "    break_message = None\n",
    "    # END SOLUTION\n",
    "    \n",
    "    # Loop through products\n",
    "    # BEGIN SOLUTION\n",
    "    for product in products:\n",
    "    # END SOLUTION\n",
    "    \n",
    "        # Part 3: Check for overweight products\n",
    "        # If the product's weight is greater than 4.0, set `break_message` to \"Overweight product detected!\" and break the loop\n",
    "        # BEGIN SOLUTION\n",
    "        if product[\"weight\"] > 4.0:\n",
    "            break_message = \"Overweight product detected!\"\n",
    "            break\n",
    "        # END SOLUTION\n",
    "        \n",
    "        # Part 2: Skip products with status \"damaged\"\n",
    "        # If the product's status is \"damaged\", continue to the next iteration\n",
    "        # BEGIN SOLUTION\n",
    "        if product[\"status\"] == \"damaged\":\n",
    "            continue\n",
    "        # END SOLUTION\n",
    "        \n",
    "        # Part 1: Count products with status \"in_stock\"\n",
    "        # If the product's status is \"in_stock\", increment `stock_count` by 1 and append the product's id to `valid_ids`\n",
    "        # BEGIN SOLUTION\n",
    "        if product[\"status\"] == \"in_stock\":\n",
    "            stock_count += 1\n",
    "            valid_ids.append(product[\"id\"])\n",
    "        # END SOLUTION\n",
    "        \n",
    "    # Part 4: Return the results as a dictionary\n",
    "    # Return a dictionary with keys \"stock_count\", \"valid_ids\", and \"break_message\" and their corresponding values\n",
    "    # BEGIN SOLUTION\n",
    "    return {\n",
    "        \"stock_count\": stock_count,\n",
    "        \"valid_ids\": valid_ids,\n",
    "        \"break_message\": break_message,\n",
    "    }\n",
    "    # END SOLUTION\n",
    "    \n",
    "# Call the function with the products dictionary and store the result in a variable `result`\n",
    "# You can print the results function to check if it's working correctly\n",
    "# BEGIN SOLUTION\n",
    "result = process_inventory(products)\n",
    "print(result)\n",
    "# END SOLUTION"
   ]
  },
  {
   "cell_type": "raw",
   "id": "43",
   "metadata": {
    "vscode": {
     "languageId": "raw"
    }
   },
   "source": [
    "# END SOLUTION"
   ]
  },
  {
   "cell_type": "raw",
   "id": "44",
   "metadata": {},
   "source": [
    "# BEGIN TESTS"
   ]
  },
  {
   "cell_type": "code",
   "execution_count": null,
   "id": "45",
   "metadata": {},
   "outputs": [],
   "source": [
    "\"\"\" # BEGIN TEST CONFIG\n",
    "points: 1\n",
    "hidden: false\n",
    "success_message: \"Success: The function `process_inventory` exists and is callable!\"\n",
    "failure_message: \"Failed: The function `process_inventory` is not defined correctly.\"\n",
    "log_variables: [\"function_exists\"]\n",
    "\"\"\"  # END TEST CONFIG\n",
    "\n",
    "function_exists = callable(process_inventory)\n",
    "\n",
    "assert function_exists, (\n",
    "    \"The function `process_inventory` must be defined and callable.\"\n",
    ")\n"
   ]
  },
  {
   "cell_type": "code",
   "execution_count": null,
   "id": "46",
   "metadata": {},
   "outputs": [],
   "source": [
    "\"\"\" # BEGIN TEST CONFIG\n",
    "points: 2\n",
    "hidden: false\n",
    "success_message: \"Success: `stock_count`, `valid_ids`, and `break_message` are initialized correctly!\"\n",
    "failure_message: \"Failed: One or more of `stock_count`, `valid_ids`, or `break_message` are not initialized properly.\"\n",
    "log_variables: [\"initial_values\"]\n",
    "\"\"\"  # END TEST CONFIG\n",
    "\n",
    "import inspect\n",
    "import re\n",
    "\n",
    "code = inspect.getsource(process_inventory)\n",
    "\n",
    "# Check for variable initialization\n",
    "stock_count_init = re.search(r\"stock_count\\s*=\\s*0\", code)\n",
    "valid_ids_init = re.search(r\"valid_ids\\s*=\\s*\\[\\]\", code)\n",
    "break_message_init = re.search(r\"break_message\\s*=\\s*None\", code)\n",
    "\n",
    "initial_values = all([stock_count_init, valid_ids_init, break_message_init])\n",
    "\n",
    "assert initial_values, (\n",
    "    \"Expected variables `stock_count = 0`, `valid_ids = []`, and `break_message = None` in the function.\"\n",
    ")\n"
   ]
  },
  {
   "cell_type": "code",
   "execution_count": null,
   "id": "47",
   "metadata": {},
   "outputs": [],
   "source": [
    "\"\"\" # BEGIN TEST CONFIG\n",
    "points: 2\n",
    "hidden: false\n",
    "success_message: \"Success: The function iterates over `products` correctly!\"\n",
    "failure_message: \"Failed: The function does not correctly iterate over `products`.\"\n",
    "\"\"\"  # END TEST CONFIG\n",
    "\n",
    "import re\n",
    "\n",
    "import inspect\n",
    "\n",
    "code = inspect.getsource(process_inventory)\n",
    "\n",
    "loop_check = re.search(r\"\"\"\n",
    "    for\\s+          # 'for' keyword followed by one or more spaces\n",
    "    product\\s+    # 'product' variable followed by one or more spaces\n",
    "    in\\s+           # 'in' keyword followed by one or more spaces\n",
    "    products\\s*   # 'products' variable followed by zero or more spaces\n",
    "    :               # colon\n",
    "    \"\"\", code, re.IGNORECASE | re.VERBOSE)\n",
    "\n",
    "assert loop_check, (\n",
    "    \"Expected a loop with `for product in products:` to iterate over the dictionary.\"\n",
    ")\n"
   ]
  },
  {
   "cell_type": "code",
   "execution_count": null,
   "id": "48",
   "metadata": {},
   "outputs": [],
   "source": [
    "\"\"\" # BEGIN TEST CONFIG\n",
    "points: 3\n",
    "hidden: false\n",
    "success_message: \"Success: The function correctly detects overweight products and stops processing!\"\n",
    "failure_message: \"Failed: Overweight products are not handled correctly.\"\n",
    "log_variables: [\"break_message\"]\n",
    "\"\"\"  # END TEST CONFIG\n",
    "\n",
    "test_products = [\n",
    "    {\"id\": \"X1\", \"status\": \"in_stock\", \"weight\": 3.0},\n",
    "    {\"id\": \"X2\", \"status\": \"in_stock\", \"weight\": 5.1},  # Overweight\n",
    "    {\"id\": \"X3\", \"status\": \"in_stock\", \"weight\": 2.5},\n",
    "]\n",
    "\n",
    "result = process_inventory(test_products)\n",
    "\n",
    "# BEGIN HIDE\n",
    "expected_break_message = \"Overweight product detected!\"\n",
    "# END HIDE\n",
    "# BEGIN HIDE\n",
    "break_message = result[\"break_message\"]\n",
    "# END HIDE\n",
    "\n",
    "assert break_message == expected_break_message"
   ]
  },
  {
   "cell_type": "code",
   "execution_count": null,
   "id": "49",
   "metadata": {},
   "outputs": [],
   "source": [
    "\"\"\" # BEGIN TEST CONFIG\n",
    "points: 3\n",
    "hidden: false\n",
    "success_message: \"Success: The function correctly skips products with `status='damaged'`!\"\n",
    "failure_message: \"Failed: The function does not skip `damaged` products correctly.\"\n",
    "log_variables: [\"stock_count\", \"valid_ids\"]\n",
    "\"\"\"  # END TEST CONFIG\n",
    "\n",
    "test_products = [\n",
    "    {\"id\": \"Y1\", \"status\": \"in_stock\", \"weight\": 2.0},\n",
    "    {\"id\": \"Y2\", \"status\": \"damaged\", \"weight\": 3.0},  # Should be skipped\n",
    "    {\"id\": \"Y3\", \"status\": \"in_stock\", \"weight\": 1.5},\n",
    "]\n",
    "\n",
    "result = process_inventory(test_products)\n",
    "\n",
    "# BEGIN HIDE\n",
    "expected_stock_count = 2\n",
    "# END HIDE\n",
    "# BEGIN HIDE\n",
    "expected_valid_ids = [\"Y1\", \"Y3\"]\n",
    "# END HIDE\n",
    "\n",
    "stock_count = result[\"stock_count\"]\n",
    "valid_ids = result[\"valid_ids\"]\n",
    "\n",
    "assert result[\"stock_count\"] == expected_stock_count\n",
    "assert result[\"valid_ids\"] == expected_valid_ids"
   ]
  },
  {
   "cell_type": "code",
   "execution_count": null,
   "id": "50",
   "metadata": {},
   "outputs": [],
   "source": [
    "\"\"\" # BEGIN TEST CONFIG\n",
    "points: 3\n",
    "hidden: false\n",
    "success_message: \"Success: The function correctly counts `in_stock` products and stores their IDs!\"\n",
    "failure_message: \"Failed: The function does not correctly count `in_stock` products or append their IDs.\"\n",
    "log_variables: [\"stock_count\", \"valid_ids\"]\n",
    "\"\"\"  # END TEST CONFIG\n",
    "\n",
    "test_products = [\n",
    "    {\"id\": \"Z1\", \"status\": \"in_stock\", \"weight\": 2.5},\n",
    "    {\"id\": \"Z2\", \"status\": \"in_stock\", \"weight\": 3.8},\n",
    "    {\"id\": \"Z3\", \"status\": \"in_stock\", \"weight\": 2.1},\n",
    "]\n",
    "\n",
    "result = process_inventory(test_products)\n",
    "\n",
    "# BEGIN HIDE\n",
    "expected_stock_count = 3\n",
    "# END HIDE\n",
    "# BEGIN HIDE\n",
    "expected_valid_ids = [\"Z1\", \"Z2\", \"Z3\"]\n",
    "# END HIDE\n",
    "\n",
    "stock_count = result[\"stock_count\"]\n",
    "valid_ids = result[\"valid_ids\"]\n",
    "\n",
    "assert result[\"stock_count\"] == expected_stock_count\n",
    "assert result[\"valid_ids\"] == expected_valid_ids"
   ]
  },
  {
   "cell_type": "code",
   "execution_count": null,
   "id": "51",
   "metadata": {},
   "outputs": [],
   "source": [
    "\"\"\" # BEGIN TEST CONFIG\n",
    "points: 2\n",
    "hidden: false\n",
    "success_message: \"Success: The function returns a correctly structured dictionary!\"\n",
    "failure_message: \"Failed: The function does not return a dictionary with the expected keys.\"\n",
    "log_variables: [\"result_keys\"]\n",
    "\"\"\"  # END TEST CONFIG\n",
    "\n",
    "test_components = [\n",
    "    {\"id\": \"A1\", \"status\": \"in_stock\", \"weight\": 2.0},\n",
    "]\n",
    "\n",
    "result = process_inventory(test_components)\n",
    "\n",
    "# BEGIN HIDE\n",
    "expected_keys = {\"stock_count\", \"valid_ids\", \"break_message\"}\n",
    "# END HIDE\n",
    "result_keys = set(result.keys())\n",
    "\n",
    "assert result_keys == expected_keys"
   ]
  },
  {
   "cell_type": "code",
   "execution_count": null,
   "id": "52",
   "metadata": {},
   "outputs": [],
   "source": [
    "\"\"\" # BEGIN TEST CONFIG\n",
    "points: 2\n",
    "hidden: false\n",
    "success_message: \"Success: The function correctly handles an empty components list!\"\n",
    "failure_message: \"Failed: The function does not handle an empty list correctly.\"\n",
    "log_variables: [\"result\"]\n",
    "\"\"\"  # END TEST CONFIG\n",
    "\n",
    "test_components = []  # No components\n",
    "\n",
    "result = process_inventory(test_components)\n",
    "\n",
    "ok_count = result[\"ok_count\"]\n",
    "valid_ids = result[\"valid_ids\"]\n",
    "\n",
    "# BEGIN HIDE\n",
    "expected_result = {\n",
    "    \"ok_count\": 0,\n",
    "    \"valid_ids\": [],\n",
    "    \"break_message\": None,\n",
    "}\n",
    "# END HIDE\n",
    "\n",
    "assert result == expected_result"
   ]
  },
  {
   "cell_type": "code",
   "execution_count": null,
   "id": "53",
   "metadata": {},
   "outputs": [],
   "source": [
    "\"\"\" # BEGIN TEST CONFIG\n",
    "points: 2\n",
    "hidden: false\n",
    "success_message: \"Success: The function correctly processes duplicate component IDs!\"\n",
    "failure_message: \"Failed: The function does not handle duplicate component IDs correctly.\"\n",
    "log_variables: [\"valid_ids\"]\n",
    "\"\"\"  # END TEST CONFIG\n",
    "\n",
    "test_components = [\n",
    "    {\"id\": \"DUP1\", \"status\": \"ok\", \"weight\": 2.0},\n",
    "    {\"id\": \"DUP1\", \"status\": \"ok\", \"weight\": 3.0},  # Duplicate ID\n",
    "    {\"id\": \"DUP2\", \"status\": \"ok\", \"weight\": 1.5},\n",
    "]\n",
    "\n",
    "result = process_inventory(test_components)\n",
    "\n",
    "valid_ids = result[\"valid_ids\"]\n",
    "\n",
    "# BEGIN HIDE\n",
    "expected_valid_ids = [\"DUP1\", \"DUP1\", \"DUP2\"]  # IDs should be appended as they appear\n",
    "# END HIDE\n",
    "\n",
    "assert result[\"valid_ids\"] == expected_valid_ids"
   ]
  },
  {
   "cell_type": "code",
   "execution_count": null,
   "id": "54",
   "metadata": {},
   "outputs": [],
   "source": [
    "\"\"\" # BEGIN TEST CONFIG\n",
    "points: 2\n",
    "hidden: false\n",
    "success_message: \"Success: The function correctly allows components at the weight limit!\"\n",
    "failure_message: \"Failed: The function incorrectly excludes components at exactly 4.0 weight.\"\n",
    "log_variables: [\"ok_count\", \"valid_ids\"]\n",
    "\"\"\"  # END TEST CONFIG\n",
    "\n",
    "test_components = [\n",
    "    {\"id\": \"W1\", \"status\": \"ok\", \"weight\": 4.0},  # Edge case weight\n",
    "    {\"id\": \"W2\", \"status\": \"ok\", \"weight\": 3.9},\n",
    "]\n",
    "\n",
    "result = process_inventory(test_components)\n",
    "\n",
    "ok_count = result[\"ok_count\"]\n",
    "valid_ids = result[\"valid_ids\"]\n",
    "\n",
    "# BEGIN HIDE\n",
    "expected_ok_count = 2\n",
    "# END HIDE\n",
    "# BEGIN HIDE\n",
    "expected_valid_ids = [\"W1\", \"W2\"]\n",
    "# END HIDE\n",
    "\n",
    "assert result[\"ok_count\"] == expected_ok_count\n",
    "assert result[\"valid_ids\"] == expected_valid_ids\n"
   ]
  },
  {
   "cell_type": "raw",
   "id": "55",
   "metadata": {},
   "source": [
    "# END TESTS"
   ]
  },
  {
   "cell_type": "raw",
   "id": "56",
   "metadata": {},
   "source": [
    "# END QUESTION"
   ]
  },
  {
   "cell_type": "raw",
   "id": "57",
   "metadata": {
    "vscode": {
     "languageId": "raw"
    }
   },
   "source": [
    "# BEGIN QUESTION\n",
    "\n",
    "name: loops-and-errors-debugging-temperature"
   ]
  },
  {
   "cell_type": "markdown",
   "id": "58",
   "metadata": {},
   "source": [
    "## Debugging Python Functions: Fixing Syntax, Runtime, and Logical Errors\n",
    "### Instructions:\n",
    "\n",
    "You are provided with the following buggy code. Your task is to debug the function `convert_positive_temperatures`, which is meant to take a list of temperatures in Celsius and return a new list where only the positive temperatures are converted to Fahrenheit using the formula:\n",
    "\n",
    "$$\n",
    "F = C \\times \\frac{9}{5} + 32\n",
    "$$\n",
    "\n",
    "```python\n",
    "def convert_positive_temperatures(temps)\n",
    "\n",
    "new_list = []\n",
    "for t in temps:\n",
    "    if t =< 0\n",
    "    continUe\n",
    "\n",
    "    newLis.append((t * 9/(5 + 32))\n",
    "    print(new_list)\n",
    "\n",
    "# Example usage:\n",
    "temperatures = [10, -5, 20, -8, 30]\n",
    "print(convert_positive_temperatures(temperatures)) # Expected output: [50.0, 68.0, 86.0]\n",
    "```\n",
    "### Requirements:\n",
    "\n",
    "1. **Input:** The function receives a list of temperatures in Celsius.\n",
    "2. **Expected Behavior:** The function should return a new list where each temperature is converted to Fahrenheit, but only if it is positive.[]\n",
    "3. **Possible Errors to Fix:**\n",
    "- Syntax Errors (missing colons, incorrect operators, capitalization issues).\n",
    "- Runtime Errors (undefined variables, incorrect function calls).\n",
    "- Logical Errors (misuse of operations or incorrect output format).\n",
    "4. **Return Value:** The function should return the converted list, not just print it."
   ]
  },
  {
   "cell_type": "raw",
   "id": "59",
   "metadata": {
    "vscode": {
     "languageId": "raw"
    }
   },
   "source": [
    "# BEGIN SOLUTION"
   ]
  },
  {
   "cell_type": "code",
   "execution_count": null,
   "id": "60",
   "metadata": {},
   "outputs": [],
   "source": [
    "# Define a function `convert_positive_temperatures` that takes a list of temperatures as input\n",
    "# BEGIN SOLUTION\n",
    "def convert_positive_temperatures(temps):\n",
    "\n",
    "    # Initialize an empty list to store converted temperatures\n",
    "    new_list = []\n",
    "\n",
    "    # Loop through each temperature in the input list\n",
    "    for t in temps:\n",
    "        # Check if the temperature is positive\n",
    "        # If not, continue to the next iteration\n",
    "        if t <= 0:\n",
    "            continue\n",
    "\n",
    "        # Convert positive temperatures to Fahrenheit and add them to new_list\n",
    "        new_list.append((t * 9/5) + 32)\n",
    "\n",
    "    return new_list\n",
    "# END SOLUTION\n",
    "\n",
    "temperatures = [10, -5, 20, -8, 30]\n",
    "result = convert_positive_temperatures(temperatures)\n",
    "print(result)"
   ]
  },
  {
   "cell_type": "raw",
   "id": "61",
   "metadata": {
    "vscode": {
     "languageId": "raw"
    }
   },
   "source": [
    "# END SOLUTION"
   ]
  },
  {
   "cell_type": "raw",
   "id": "62",
   "metadata": {
    "vscode": {
     "languageId": "raw"
    }
   },
   "source": [
    "# BEGIN TESTS"
   ]
  },
  {
   "cell_type": "code",
   "execution_count": null,
   "id": "63",
   "metadata": {},
   "outputs": [],
   "source": [
    "\"\"\" # BEGIN TEST CONFIG\n",
    "points: 2\n",
    "hidden: false\n",
    "success_message: \"Success: The function `convert_positive_temperatures` exists and is callable!\"\n",
    "failure_message: \"Failed: The function `convert_positive_temperatures` is not defined correctly.\"\n",
    "log_variables: [\"function_exists\"]\n",
    "\"\"\" # END TEST CONFIG\n",
    "\n",
    "function_exists = callable(convert_positive_temperatures)\n",
    "\n",
    "assert function_exists, (\n",
    "\"The function `convert_positive_temperatures` must be defined and callable.\"\n",
    ")"
   ]
  },
  {
   "cell_type": "code",
   "execution_count": null,
   "id": "64",
   "metadata": {},
   "outputs": [],
   "source": [
    "\"\"\" # BEGIN TEST CONFIG\n",
    "points: 4\n",
    "hidden: false\n",
    "success_message: \"Success: The function correctly filters and converts positive temperatures!\"\n",
    "failure_message: \"Failed: The function does not correctly filter and convert positive temperatures.\"\n",
    "log_variables: [\"result\"]\n",
    "\"\"\" # END TEST CONFIG\n",
    "\n",
    "# BEGIN HIDE\n",
    "condition1 = convert_positive_temperatures([5, -3, 15, -2]) == [41.0, 59.0]\n",
    "# END HIDE\n",
    "# BEGIN HIDE\n",
    "condition2 = convert_positive_temperatures([-10, -5, -3]) == []\n",
    "# END HIDE\n",
    "# BEGIN HIDE\n",
    "condition3 = convert_positive_temperatures([0, 25, 30]) == [77.0, 86.0]\n",
    "# END HIDE\n",
    "\n",
    "assert condition1\n",
    "assert condition2\n",
    "assert condition3"
   ]
  },
  {
   "cell_type": "code",
   "execution_count": null,
   "id": "65",
   "metadata": {},
   "outputs": [],
   "source": [
    "\"\"\" # BEGIN TEST CONFIG\n",
    "points: 4\n",
    "hidden: false\n",
    "success_message: \"Success: The function correctly handles an empty input list!\"\n",
    "failure_message: \"Failed: The function does not handle an empty list correctly.\"\n",
    "log_variables: [\"result\"]\n",
    "\"\"\" # END TEST CONFIG\n",
    "\n",
    "# BEGIN HIDE\n",
    "condition = convert_positive_temperatures([]) == []\n",
    "# END HIDE\n",
    "\n",
    "assert condition"
   ]
  },
  {
   "cell_type": "code",
   "execution_count": null,
   "id": "66",
   "metadata": {},
   "outputs": [],
   "source": [
    "\"\"\" # BEGIN TEST CONFIG\n",
    "points: 4\n",
    "hidden: false\n",
    "success_message: \"Success: The function preserves order of elements!\"\n",
    "failure_message: \"Failed: The function does not preserve order of elements.\"\n",
    "log_variables: [\"result\"]\n",
    "\"\"\" # END TEST CONFIG\n",
    "\n",
    "# BEGIN HIDE\n",
    "condition1 = convert_positive_temperatures([12, 5, 20]) == [53.6, 41.0, 68.0]\n",
    "# END HIDE\n",
    "# BEGIN HIDE\n",
    "condition2 = convert_positive_temperatures([30, -5, 10, 0, 5]) == [86.0, 50.0, 41.0]\n",
    "# END HIDE\n",
    "\n",
    "assert condition1\n",
    "assert condition2"
   ]
  },
  {
   "cell_type": "raw",
   "id": "67",
   "metadata": {
    "vscode": {
     "languageId": "raw"
    }
   },
   "source": [
    "# END TESTS"
   ]
  },
  {
   "cell_type": "raw",
   "id": "68",
   "metadata": {
    "vscode": {
     "languageId": "raw"
    }
   },
   "source": [
    "# END QUESTION"
   ]
  },
  {
   "cell_type": "raw",
   "id": "69",
   "metadata": {
    "vscode": {
     "languageId": "raw"
    }
   },
   "source": [
    "# BEGIN QUESTION\n",
    "name: numpy-even-check"
   ]
  },
  {
   "cell_type": "markdown",
   "id": "70",
   "metadata": {},
   "source": [
    "## Numerical Computing with NumPy: Even Number Checker 🔢\n",
    "### Instructions:\n",
    "\n",
    "You are working with numerical data and need to determine which numbers in a given NumPy array are even. Your task is to write a function `find_evens()` that takes a NumPy array of integers and returns a boolean array indicating which elements are even.\n",
    "\n",
    "### Requirements:\n",
    "\n",
    "1. The function receives a NumPy array of integers, or a list of integers.\n",
    "2. Implement an efficient even-checking function using NumPy.\n",
    "3. The function should return a boolean NumPy array of the same shape as the input, where `True` represents an even number and `False` represents an odd number.\n",
    "\n",
    "### Helpful Information:\n",
    "\n",
    "- An even number is a number that is divisible by **2**.\n",
    "- The first few even numbers are: **0, 2, 4, 6, 8, 10, ...**\n",
    "- The function should handle edge cases like `0` and negative numbers correctly. Note: negative numbers can also be even.\n",
    "\n",
    "We have provided inline instructions for each part of the task. Please read the instructions carefully and complete each part accordingly.\n",
    "**Make sure to include docstrings and comments in your code to explain the logic and purpose of the function.**\n"
   ]
  },
  {
   "cell_type": "raw",
   "id": "71",
   "metadata": {
    "vscode": {
     "languageId": "raw"
    }
   },
   "source": [
    "# BEGIN SOLUTION"
   ]
  },
  {
   "cell_type": "code",
   "execution_count": null,
   "id": "72",
   "metadata": {},
   "outputs": [],
   "source": [
    "# Import NumPy using the common alias np\n",
    "# BEGIN SOLUTION\n",
    "import numpy as np\n",
    "# END SOLUTION\n",
    "\n",
    "# Define the function `find_evens` which accepts an input array\n",
    "# BEGIN SOLUTION\n",
    "def find_evens(arr):\n",
    "# END SOLUTION\n",
    "    \"\"\"\n",
    "    # BEGIN SOLUTION\n",
    "    Given a NumPy array of integers, return a boolean array indicating which numbers are even.\n",
    "    # END SOLUTION\n",
    "    \"\"\"\n",
    "    # Ensure input is a NumPy array, to do this convert the input to a NumPy array using `np.asarray`\n",
    "    # Override the input variable `arr` with the NumPy array\n",
    "    # BEGIN SOLUTION\n",
    "    arr = np.asarray(arr)  # Ensure input is a NumPy array\n",
    "    # END SOLUTION\n",
    "\n",
    "    # Create a boolean array where `True` represents even numbers and `False` represents odd numbers\n",
    "    # Use the modulo operator to check divisibility by 2\n",
    "    # BEGIN SOLUTION\n",
    "    is_even = (arr % 2 == 0)\n",
    "    # END SOLUTION\n",
    "\n",
    "    # Return the boolean array `is_even`\n",
    "    # BEGIN SOLUTION\n",
    "    return is_even\n",
    "    # END SOLUTION\n",
    "\n",
    "# Example usage:\n",
    "test_array = np.array([0, 1, 2, 3, 4, 5, 10, 11, 12, 15, 18])\n",
    "even_results = find_evens(test_array)\n",
    "print(even_results)"
   ]
  },
  {
   "cell_type": "raw",
   "id": "73",
   "metadata": {
    "vscode": {
     "languageId": "raw"
    }
   },
   "source": [
    "# END SOLUTION"
   ]
  },
  {
   "cell_type": "raw",
   "id": "74",
   "metadata": {
    "vscode": {
     "languageId": "raw"
    }
   },
   "source": [
    "# BEGIN TESTS"
   ]
  },
  {
   "cell_type": "code",
   "execution_count": null,
   "id": "75",
   "metadata": {},
   "outputs": [],
   "source": [
    "\"\"\" # BEGIN TEST CONFIG\n",
    "points: 1\n",
    "hidden: false\n",
    "success_message: \"Success: The function `find_evens` exists and is callable!\"\n",
    "failure_message: \"Failed: The function `find_evens` is not defined correctly.\"\n",
    "log_variables: [\"function_exists\"]\n",
    "\"\"\" # END TEST CONFIG\n",
    "\n",
    "function_exists = callable(find_evens)\n",
    "\n",
    "assert function_exists, (\n",
    "\"The function `find_evens` must be defined and callable.\"\n",
    ")"
   ]
  },
  {
   "cell_type": "code",
   "execution_count": null,
   "id": "76",
   "metadata": {},
   "outputs": [],
   "source": [
    "\"\"\" # BEGIN TEST CONFIG\n",
    "points: 1\n",
    "hidden: false\n",
    "success_message: \"Success: The function `find_evens` has a docstring with at least 8 words.\"\n",
    "failure_message: \"Failed: The function `find_evens` does not have a docstring with at least 8 words.\"\n",
    "log_variables: [\"docstring_exists\", \"docstring_word_count\"]\n",
    "\"\"\" # END TEST CONFIG\n",
    "\n",
    "# Check if the function has a docstring\n",
    "docstring_exists = find_evens.__doc__ is not None\n",
    "# Count the number of words in the docstring\n",
    "\n",
    "docstring_word_count = len(find_evens.__doc__.split()) if docstring_exists else 0\n",
    "\n",
    "# Assert that the docstring exists and has at least 8 words\n",
    "assert docstring_exists and docstring_word_count >= 8, (\n",
    "f\"The function `find_evens` must have a docstring with at least 8 words. \"\n",
    "f\"Current docstring word count: {docstring_word_count}\"\n",
    ")"
   ]
  },
  {
   "cell_type": "code",
   "execution_count": null,
   "id": "77",
   "metadata": {},
   "outputs": [],
   "source": [
    "\"\"\" # BEGIN TEST CONFIG\n",
    "points: 2\n",
    "hidden: false\n",
    "success_message: \"Success: The function `find_evens` works correctly with non-array input.\"\n",
    "failure_message: \"Failed: The function `find_evens` does not work correctly with non-array input.\"\n",
    "log_variables: [\"input_data\", \"output_results\"]\n",
    "\"\"\" # END TEST CONFIG\n",
    "\n",
    "# Test with a list input\n",
    "input_data = [0, 1, 2, 3, 4, 5, 10, 11, 12, 15, 18]\n",
    "output_results = find_evens(input_data)\n",
    "\n",
    "# Expected results for the input\n",
    "# BEGIN HIDE\n",
    "expected_results = np.array(\n",
    "[True, False, True, False, True, False, True, False, True, False, True]\n",
    ")\n",
    "# END HIDE\n",
    "\n",
    "# Assert that the output matches the expected results\n",
    "assert np.array_equal(\n",
    "output_results, expected_results\n",
    "), f\"Expected {expected_results}, but got {output_results}\""
   ]
  },
  {
   "cell_type": "code",
   "execution_count": null,
   "id": "78",
   "metadata": {},
   "outputs": [],
   "source": [
    "\"\"\" # BEGIN TEST CONFIG\n",
    "points: 2\n",
    "hidden: false\n",
    "success_message: \"Success: The function correctly identifies even numbers!\"\n",
    "failure_message: \"Failed: The function does not correctly identify even numbers.\"\n",
    "log_variables: [\"even_test_results\"]\n",
    "\"\"\" # END TEST CONFIG\n",
    "\n",
    "test_input = np.array([2, 4, 6, 8, 10])\n",
    "\n",
    "# BEGIN HIDE\n",
    "expected_output = np.array([True, True, True, True, True])\n",
    "# END HIDE\n",
    "\n",
    "even_test_results = find_evens(test_input)\n",
    "\n",
    "assert np.array_equal(even_test_results, expected_output), (\n",
    "f\"Expected {expected_output}, but got {even_test_results}.\"\n",
    ")"
   ]
  },
  {
   "cell_type": "code",
   "execution_count": null,
   "id": "79",
   "metadata": {},
   "outputs": [],
   "source": [
    "\"\"\" # BEGIN TEST CONFIG\n",
    "points: 1\n",
    "hidden: false\n",
    "success_message: \"Success: The function correctly handles a mix of odd and even numbers!\"\n",
    "failure_message: \"Failed: The function does not correctly classify numbers as even or odd.\"\n",
    "log_variables: [\"test_array\", \"even_results\"]\n",
    "\"\"\" # END TEST CONFIG\n",
    "\n",
    "test_array = np.array([21, 22, 23, 24, 25, 26])\n",
    "even_results = find_evens(test_array)\n",
    "\n",
    "# BEGIN HIDE\n",
    "expected_results = np.array([False, True, False, True, False, True])\n",
    "# END HIDE\n",
    "\n",
    "assert np.array_equal(\n",
    "even_results, expected_results\n",
    "), f\"Expected {expected_results}, but got {even_results}\""
   ]
  },
  {
   "cell_type": "code",
   "execution_count": null,
   "id": "80",
   "metadata": {},
   "outputs": [],
   "source": [
    "\"\"\" # BEGIN TEST CONFIG\n",
    "points: 1\n",
    "hidden: false\n",
    "success_message: \"Success: The function correctly handles negative numbers!\"\n",
    "failure_message: \"Failed: The function does not correctly handle negative numbers.\"\n",
    "log_variables: [\"negative_test_results\"]\n",
    "\"\"\" # END TEST CONFIG\n",
    "\n",
    "test_input = np.array([-10, -9, -8, -7, -6, -5])\n",
    "\n",
    "# BEGIN HIDE\n",
    "expected_output = np.array([True, False, True, False, True, False])\n",
    "# END HIDE\n",
    "\n",
    "negative_test_results = find_evens(test_input)\n",
    "\n",
    "assert np.array_equal(negative_test_results, expected_output), (\n",
    "f\"Expected {expected_output}, but got {negative_test_results}.\"\n",
    ")"
   ]
  },
  {
   "cell_type": "code",
   "execution_count": null,
   "id": "81",
   "metadata": {},
   "outputs": [],
   "source": [
    "\"\"\" # BEGIN TEST CONFIG\n",
    "points: 2\n",
    "hidden: false\n",
    "success_message: \"Success: The function preserves NumPy array shape!\"\n",
    "failure_message: \"Failed: The function does not preserve the shape of the input array.\"\n",
    "log_variables: [\"shape_test_results\"]\n",
    "\"\"\" # END TEST CONFIG\n",
    "\n",
    "test_input = np.array([[2, 3, 4], [5, 6, 7]])\n",
    "\n",
    "# BEGIN HIDE\n",
    "expected_shape = test_input.shape\n",
    "# END HIDE\n",
    "\n",
    "shape_test_results = find_evens(test_input).shape\n",
    "\n",
    "assert shape_test_results == expected_shape, (\n",
    "f\"Expected shape {expected_shape}, but got {shape_test_results}.\"\n",
    ")"
   ]
  },
  {
   "cell_type": "raw",
   "id": "82",
   "metadata": {
    "vscode": {
     "languageId": "raw"
    }
   },
   "source": [
    "# END TESTS"
   ]
  },
  {
   "cell_type": "raw",
   "id": "83",
   "metadata": {
    "vscode": {
     "languageId": "raw"
    }
   },
   "source": [
    "# END QUESTION"
   ]
  },
  {
   "cell_type": "raw",
   "id": "84",
   "metadata": {},
   "source": []
  }
 ],
 "metadata": {
  "kernelspec": {
   "display_name": "engr131_dev",
   "language": "python",
   "name": "python3"
  },
  "language_info": {
   "codemirror_mode": {
    "name": "ipython",
    "version": 3
   },
   "file_extension": ".py",
   "mimetype": "text/x-python",
   "name": "python",
   "nbconvert_exporter": "python",
   "pygments_lexer": "ipython3",
   "version": "3.12.7"
  }
 },
 "nbformat": 4,
 "nbformat_minor": 5
}
