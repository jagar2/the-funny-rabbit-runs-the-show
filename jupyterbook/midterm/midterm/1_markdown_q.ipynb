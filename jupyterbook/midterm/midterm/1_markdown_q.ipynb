{
 "cells": [
  {
   "cell_type": "markdown",
   "id": "0",
   "metadata": {},
   "source": [
    "# ❓ ENGR131: Introduction to Programming for Engineers\n",
    "\n",
    "You will have one hour to complete the midterm exam. Please read the instructions carefully. You will receive feedback similar to your practice midterm exam.\n",
    "\n",
    "## Recommended Tests Taking Strategies\n",
    "\n",
    "1. Look over the point totals for each question\n",
    "\n",
    "2. Quickly complete the multiple choice questions\n",
    "\n",
    "3. Move on to the short answer questions and complete the ones you know first.\n",
    "\n",
    "4. Go back and refine your answers to the short answer questions -- this is a good opportunity to use the python interpreter to test your code.\n",
    "\n",
    "\n",
    "For the multiple choice questions it is expected that you have access to a python interpreter. Do not go at it alone, use the resources available to you to help you answer the questions. Without the interpreter some of the questions may be difficult to answer."
   ]
  },
  {
   "cell_type": "raw",
   "id": "1",
   "metadata": {
    "vscode": {
     "languageId": "raw"
    }
   },
   "source": [
    "# BEGIN MULTIPLE CHOICE\n",
    "## points: 1\n",
    "## title: Select the Best Answer\n",
    "## question number: 1"
   ]
  },
  {
   "cell_type": "markdown",
   "id": "2",
   "metadata": {},
   "source": [
    "## what-is-programming\n",
    "### **What is programming?**\n",
    "\n",
    "#### OPTIONS\n",
    "Writing instructions that a computer can execute.\n",
    "Drawing pictures on a computer.\n",
    "Typing random text into a computer.\n",
    "Watching videos on a computer.\n",
    "\n",
    "#### SOLUTION\n",
    "Writing instructions that a computer can execute."
   ]
  },
  {
   "cell_type": "markdown",
   "id": "3",
   "metadata": {},
   "source": [
    "## formal-language\n",
    "### **What is a characteristic of a formal language?**\n",
    "\n",
    "#### OPTIONS\n",
    "It has strict rules for structure and syntax.\n",
    "It is spoken by people in daily conversations.\n",
    "It is always written in English.\n",
    "It changes frequently without rules.\n",
    "\n",
    "#### SOLUTION\n",
    "It has strict rules for structure and syntax."
   ]
  },
  {
   "cell_type": "markdown",
   "id": "4",
   "metadata": {},
   "source": [
    "## python-mutability\n",
    "### **Which of the following is a mutable data type in Python?**\n",
    "\n",
    "#### OPTIONS\n",
    "`list`\n",
    "`tuple`\n",
    "`str`\n",
    "`int`\n",
    "\n",
    "#### SOLUTION\n",
    "`list`"
   ]
  },
  {
   "cell_type": "markdown",
   "id": "5",
   "metadata": {},
   "source": [
    "## python-variables-basic\n",
    "### **Which of the following is a valid variable name in Python?**\n",
    "\n",
    "#### OPTIONS\n",
    "`my_variable`\n",
    "`2nd-variable`\n",
    "`for`\n",
    "`hello world`\n",
    "\n",
    "#### SOLUTION\n",
    "`my_variable`"
   ]
  },
  {
   "cell_type": "markdown",
   "id": "6",
   "metadata": {},
   "source": [
    "## python-operators-basic\n",
    "### **Which operator is used for multiplication in Python?**\n",
    "\n",
    "#### OPTIONS\n",
    "`*`\n",
    "`+`\n",
    "`-`\n",
    "`/`\n",
    "\n",
    "#### SOLUTION\n",
    "`*`"
   ]
  },
  {
   "cell_type": "markdown",
   "id": "7",
   "metadata": {},
   "source": [
    "## computer-memory\n",
    "### **Which component is responsible for storing temporary data in a computer?**\n",
    "\n",
    "#### OPTIONS\n",
    "RAM\n",
    "CPU\n",
    "Hard Drive\n",
    "Monitor\n",
    "\n",
    "#### SOLUTION\n",
    "RAM"
   ]
  },
  {
   "cell_type": "markdown",
   "id": "8",
   "metadata": {},
   "source": [
    "## python-datatypes-basic\n",
    "### **Which of the following is a numeric data type in Python?**\n",
    "\n",
    "#### OPTIONS\n",
    "`int`\n",
    "`str`\n",
    "`list`\n",
    "`tuple`\n",
    "\n",
    "#### SOLUTION\n",
    "`int`"
   ]
  },
  {
   "cell_type": "markdown",
   "id": "9",
   "metadata": {},
   "source": [
    "## python-comments-basic\n",
    "### **Which symbol is used to write comments in Python?**\n",
    "\n",
    "#### OPTIONS\n",
    "`#`\n",
    "`//`\n",
    "`/* */`\n",
    "`--`\n",
    "\n",
    "#### SOLUTION\n",
    "`#`"
   ]
  },
  {
   "cell_type": "markdown",
   "id": "10",
   "metadata": {},
   "source": [
    "## python-list-appending\n",
    "### **Which method is used to add an item to the end of a list?**\n",
    "\n",
    "#### OPTIONS\n",
    "`append()`\n",
    "`insert()`\n",
    "`remove()`\n",
    "`pop()`\n",
    "\n",
    "#### SOLUTION\n",
    "`append()`"
   ]
  },
  {
   "cell_type": "markdown",
   "id": "11",
   "metadata": {},
   "source": [
    "## python-conditions\n",
    "### **What is the output of the following code?**\n",
    "```python\n",
    "if 5 > 3:\n",
    "print(\"Yes\")\n",
    "else:\n",
    "print(\"No\")\n",
    "```\n",
    "\n",
    "#### OPTIONS\n",
    "`Yes`\n",
    "`No`\n",
    "`Error`\n",
    "`5 > 3`\n",
    "\n",
    "#### SOLUTION\n",
    "`Yes`"
   ]
  },
  {
   "cell_type": "raw",
   "id": "12",
   "metadata": {
    "vscode": {
     "languageId": "raw"
    }
   },
   "source": [
    "# END MULTIPLE CHOICE"
   ]
  },
  {
   "cell_type": "raw",
   "id": "13",
   "metadata": {
    "vscode": {
     "languageId": "raw"
    }
   },
   "source": [
    "# BEGIN SELECT MANY\n",
    "## points: 2\n",
    "## title: Select All That Apply\n",
    "## question number: 2\n",
    "## grade: parts"
   ]
  },
  {
   "cell_type": "markdown",
   "id": "14",
   "metadata": {},
   "source": [
    "## problem-solving\n",
    "### **Which of the following are key aspects of problem-solving in programming?**\n",
    "\n",
    "#### OPTIONS\n",
    "Breaking problems into smaller steps.\n",
    "Writing code without a plan.\n",
    "Using structured logic to find solutions.\n",
    "Ignoring errors in the program.\n",
    "\n",
    "#### SOLUTION\n",
    "Breaking problems into smaller steps.\n",
    "Using structured logic to find solutions."
   ]
  },
  {
   "cell_type": "markdown",
   "id": "15",
   "metadata": {},
   "source": [
    "## python-packages\n",
    "### **Which statements about Python packages are correct?**\n",
    "\n",
    "#### OPTIONS\n",
    "A package is a collection of modules.\n",
    "Packages can be installed using `pip`.\n",
    "All Python packages come pre-installed.\n",
    "Users cannot create their own packages.\n",
    "\n",
    "#### SOLUTION\n",
    "A package is a collection of modules.\n",
    "Packages can be installed using `pip`."
   ]
  },
  {
   "cell_type": "markdown",
   "id": "16",
   "metadata": {},
   "source": [
    "## python-data-types\n",
    "### **Which of the following are built-in data types in Python?**\n",
    "\n",
    "#### OPTIONS\n",
    "Integer\n",
    "String\n",
    "List\n",
    "Dictionary\n",
    "\n",
    "#### SOLUTION\n",
    "Integer\n",
    "String\n",
    "List\n",
    "Dictionary"
   ]
  },
  {
   "cell_type": "markdown",
   "id": "17",
   "metadata": {},
   "source": [
    "## python-expressions\n",
    "### **Which of the following are valid Python expressions?**\n",
    "\n",
    "#### OPTIONS\n",
    "`x + y`\n",
    "`x = 10`\n",
    "`if x > 5`\n",
    "`print(\"Hello\")`\n",
    "\n",
    "#### SOLUTION\n",
    "`x + y`\n",
    "`x = 10`\n",
    "`print(\"Hello\")`"
   ]
  },
  {
   "cell_type": "markdown",
   "id": "18",
   "metadata": {},
   "source": [
    "## python-mutability\n",
    "### **Which of the following data types are mutable in Python?**\n",
    "\n",
    "#### OPTIONS\n",
    "List\n",
    "Dictionary\n",
    "String\n",
    "Tuple\n",
    "\n",
    "#### SOLUTION\n",
    "List\n",
    "Dictionary"
   ]
  },
  {
   "cell_type": "markdown",
   "id": "19",
   "metadata": {},
   "source": [
    "## python-lists\n",
    "### **Which statements about Python lists are true?**\n",
    "\n",
    "#### OPTIONS\n",
    "Lists can store different data types.\n",
    "Lists can be changed after creation.\n",
    "Lists are immutable.\n",
    "Lists must only contain numbers.\n",
    "\n",
    "#### SOLUTION\n",
    "Lists can store different data types.\n",
    "Lists can be changed after creation."
   ]
  },
  {
   "cell_type": "markdown",
   "id": "20",
   "metadata": {},
   "source": [
    "## floating-point-numbers\n",
    "### **Which of the following are true about floating-point numbers in Python?**\n",
    "\n",
    "#### OPTIONS\n",
    "They can store decimal values.\n",
    "They always provide exact precision.\n",
    "Their precision is limited.\n",
    "They are immutable.\n",
    "\n",
    "#### SOLUTION\n",
    "They can store decimal values.\n",
    "Their precision is limited.\n",
    "They are immutable."
   ]
  },
  {
   "cell_type": "markdown",
   "id": "21",
   "metadata": {},
   "source": [
    "## boolean-operators\n",
    "### **Which of the following are Boolean operators in Python?**\n",
    "\n",
    "#### OPTIONS\n",
    "`and`\n",
    "`or`\n",
    "`not`\n",
    "`xor`\n",
    "\n",
    "#### SOLUTION\n",
    "`and`\n",
    "`or`\n",
    "`not`"
   ]
  },
  {
   "cell_type": "markdown",
   "id": "22",
   "metadata": {},
   "source": [
    "## python-objects\n",
    "### **Which of the following are objects in Python?**\n",
    "\n",
    "#### OPTIONS\n",
    "Integer\n",
    "Function\n",
    "String\n",
    "Variable name itself\n",
    "\n",
    "#### SOLUTION\n",
    "Integer\n",
    "Function\n",
    "String"
   ]
  },
  {
   "cell_type": "markdown",
   "id": "23",
   "metadata": {},
   "source": [
    "## loop-control-statements\n",
    "### **Which of the following control how loops behave in Python?**\n",
    "\n",
    "#### OPTIONS\n",
    "`break`\n",
    "`continue`\n",
    "`else`\n",
    "`stop`\n",
    "\n",
    "#### SOLUTION\n",
    "`break`\n",
    "`continue`\n",
    "`else`"
   ]
  },
  {
   "cell_type": "raw",
   "id": "24",
   "metadata": {
    "vscode": {
     "languageId": "raw"
    }
   },
   "source": [
    "# END SELECT MANY"
   ]
  },
  {
   "cell_type": "raw",
   "id": "25",
   "metadata": {
    "vscode": {
     "languageId": "raw"
    }
   },
   "source": [
    "# BEGIN TF\n",
    "## points: 1\n",
    "## title: True or False\n",
    "## question number: 3"
   ]
  },
  {
   "cell_type": "markdown",
   "id": "26",
   "metadata": {},
   "source": [
    "## program-definition\n",
    "\n",
    "### **A program consists of a sequence of instructions that tell a computer what to do.**\n",
    "\n",
    "#\n",
    "\n",
    "#### SOLUTION\n",
    "\n",
    "True\n",
    "\n",
    "#"
   ]
  },
  {
   "cell_type": "markdown",
   "id": "27",
   "metadata": {},
   "source": [
    "## formal-languages\n",
    "\n",
    "### **Formal languages are designed with strict rules and structure, unlike natural languages.**\n",
    "\n",
    "#\n",
    "\n",
    "#### SOLUTION\n",
    "\n",
    "True\n",
    "\n",
    "#"
   ]
  },
  {
   "cell_type": "markdown",
   "id": "28",
   "metadata": {},
   "source": [
    "## python-modules\n",
    "\n",
    "### **A Python module can include functions, and variables.**\n",
    "\n",
    "#\n",
    "\n",
    "#### SOLUTION\n",
    "\n",
    "True\n",
    "\n",
    "#"
   ]
  },
  {
   "cell_type": "markdown",
   "id": "29",
   "metadata": {},
   "source": [
    "## python-variables\n",
    "\n",
    "### **In Python, you must explicitly specify the type of a variable when declaring it.**\n",
    "\n",
    "#\n",
    "\n",
    "#### SOLUTION\n",
    "\n",
    "False\n",
    "\n",
    "#"
   ]
  },
  {
   "cell_type": "markdown",
   "id": "30",
   "metadata": {},
   "source": [
    "## python-operators\n",
    "\n",
    "### **The `//` operator in Python performs regular division and always returns a float.**\n",
    "\n",
    "#\n",
    "\n",
    "#### SOLUTION\n",
    "\n",
    "False\n",
    "\n",
    "#"
   ]
  },
  {
   "cell_type": "markdown",
   "id": "31",
   "metadata": {},
   "source": [
    "## computing-gpu\n",
    "\n",
    "### **GPUs are well-suited for parallel processing tasks because they have many cores that can perform calculations simultaneously.**\n",
    "\n",
    "#\n",
    "\n",
    "#### SOLUTION\n",
    "\n",
    "True\n",
    "\n",
    "#"
   ]
  },
  {
   "cell_type": "markdown",
   "id": "32",
   "metadata": {},
   "source": [
    "## python-datatypes\n",
    "\n",
    "### **Lists in Python are mutable, meaning they can be changed after creation.**\n",
    "\n",
    "#\n",
    "\n",
    "#### SOLUTION\n",
    "\n",
    "True\n",
    "\n",
    "#"
   ]
  },
  {
   "cell_type": "markdown",
   "id": "33",
   "metadata": {},
   "source": [
    "## python-comments\n",
    "\n",
    "### **Comments in Python are ignored by the interpreter and do not affect program execution.**\n",
    "\n",
    "#\n",
    "\n",
    "#### SOLUTION\n",
    "\n",
    "True\n",
    "\n",
    "#"
   ]
  },
  {
   "cell_type": "markdown",
   "id": "34",
   "metadata": {},
   "source": [
    "## python-mutability\n",
    "\n",
    "### **Dictionaries in Python are immutable, meaning their contents cannot be modified.**\n",
    "\n",
    "#\n",
    "\n",
    "#### SOLUTION\n",
    "\n",
    "False\n",
    "\n",
    "#"
   ]
  },
  {
   "cell_type": "markdown",
   "id": "35",
   "metadata": {},
   "source": [
    "## boolean-operators\n",
    "\n",
    "### **The `or` operator in Python returns `True` if at least one operand is `True`.**\n",
    "\n",
    "#\n",
    "\n",
    "#### SOLUTION\n",
    "\n",
    "True\n",
    "\n",
    "#"
   ]
  },
  {
   "cell_type": "raw",
   "id": "36",
   "metadata": {
    "vscode": {
     "languageId": "raw"
    }
   },
   "source": [
    "# END TF"
   ]
  },
  {
   "cell_type": "raw",
   "id": "37",
   "metadata": {
    "vscode": {
     "languageId": "raw"
    }
   },
   "source": [
    "# ASSIGNMENT CONFIG\n",
    "\n",
    "solutions_pdf: true\n",
    "generate:\n",
    "pdf: true\n",
    "filtering: true\n",
    "pagebreaks: true\n",
    "zips: false\n",
    "files: [.client_private_key.bin, .server_public_key.bin, words.txt, encrypted_message.txt]"
   ]
  },
  {
   "cell_type": "raw",
   "id": "38",
   "metadata": {
    "vscode": {
     "languageId": "raw"
    }
   },
   "source": [
    "# BEGIN QUESTION\n",
    "\n",
    "name: loops-and-dictionaries-inventory"
   ]
  },
  {
   "cell_type": "markdown",
   "id": "39",
   "metadata": {},
   "source": [
    "## Warehouse Inventory Processor: Loops, Continue, Break, Dictionaries, and Lists\n",
    "\n",
    "#\n",
    "\n",
    "### Instructions:\n",
    "\n",
    "You are managing an inventory system for an electronics warehouse. Each product is represented as a dictionary, where the keys are product IDs (e.g., \"P1\") and the values are dictionaries containing product details. Your task is to write a function `process_inventory()` that processes a list of products using loops, `continue`, and `break`.\n",
    "\n",
    "#\n",
    "\n",
    "### Requirements:\n",
    "\n",
    "1. **Input:** The function receives a list of dictionaries, each representing a product:\n",
    "\n",
    "#\n",
    "\n",
    "| id | status | weight |\n",
    "\n",
    "|-----|----------|--------|\n",
    "\n",
    "| P1 | in_stock | 2.5 |\n",
    "\n",
    "| P2 | in_stock | 3.2 |\n",
    "\n",
    "| P3 | damaged | 4.5 |\n",
    "\n",
    "| P4 | in_stock | 1.8 |\n",
    "\n",
    "2. **Part 1:** Count the products with status `\"in_stock\"` using a loop and return the count.\n",
    "\n",
    "3. **Part 2:** Skip products with status `\"damaged\"`, and create a list of IDs for available products.\n",
    "\n",
    "4. **Part 3:** If a product's weight exceeds `4.0`, break the loop and return `\"Overweight product detected!\"`.\n",
    "\n",
    "5. **Part 4:** Return a dictionary summarizing the count of `\"in_stock\"` products, the valid IDs list, and the break message (if triggered).\n",
    "\n",
    "#\n",
    "\n",
    "### Helpful Information:\n",
    "\n",
    "- Use a loop to iterate through the `products` list.\n",
    "\n",
    "- Use `continue` to skip certain iterations based on a condition.\n",
    "\n",
    "- Use `break` to exit the loop early when another condition is met.\n",
    "\n",
    "- Remember that you can access dictionary values using the syntax `dictionary[key]`.\n",
    "\n",
    "- Example methods:\n",
    "\n",
    "- `append`: Add an element to a list.\n",
    "\n",
    "#\n",
    "\n",
    "We provide detailed inline instructions for each part of the task. Please read the instructions carefully and complete each part accordingly."
   ]
  },
  {
   "cell_type": "code",
   "execution_count": null,
   "id": "40",
   "metadata": {},
   "outputs": [],
   "source": [
    "# BEGIN SOLUTION"
   ]
  },
  {
   "cell_type": "code",
   "execution_count": null,
   "id": "41",
   "metadata": {},
   "outputs": [],
   "source": [
    "# Write the products list of dictionaries based on the table provided, assign it to a variable `products`\n",
    "\n",
    "# BEGIN SOLUTION\n",
    "\n",
    "products = [\n",
    "{\"id\": \"P1\", \"status\": \"in_stock\", \"weight\": 2.5},\n",
    "{\"id\": \"P2\", \"status\": \"in_stock\", \"weight\": 3.2},\n",
    "{\"id\": \"P3\", \"status\": \"damaged\", \"weight\": 4.5},\n",
    "{\"id\": \"P4\", \"status\": \"in_stock\", \"weight\": 1.8},\n",
    "]\n",
    "\n",
    "# END SOLUTION\n",
    "\n",
    "# Define a function `process_inventory` that takes a list of products as input\n",
    "\n",
    "# BEGIN SOLUTION\n",
    "\n",
    "def process_inventory(products):\n",
    "\n",
    "# END SOLUTION\n",
    "\n",
    "    # Initialize variables\n",
    "    # Create a variable `stock_count` and set it to 0\n",
    "    # Create a variable `valid_ids` and set it to an empty list\n",
    "    # Create a variable `break_message` and set it to None\n",
    "    # BEGIN SOLUTION\n",
    "    stock_count = 0\n",
    "    valid_ids = []\n",
    "    break_message = None\n",
    "    # END SOLUTION\n",
    "\n",
    "    # Loop through products\n",
    "    # BEGIN SOLUTION\n",
    "    for product in products:\n",
    "    # END SOLUTION\n",
    "\n",
    "        # Part 3: Check for overweight products\n",
    "        # If the product's weight is greater than 4.0, set `break_message` to \"Overweight product detected!\" and break the loop\n",
    "        # BEGIN SOLUTION\n",
    "        if product[\"weight\"] > 4.0:\n",
    "            break_message = \"Overweight product detected!\"\n",
    "            break\n",
    "        # END SOLUTION\n",
    "\n",
    "        # Part 2: Skip products with status \"damaged\"\n",
    "        # If the product's status is \"damaged\", continue to the next iteration\n",
    "        # BEGIN SOLUTION\n",
    "        if product[\"status\"] == \"damaged\":\n",
    "            continue\n",
    "        # END SOLUTION\n",
    "\n",
    "        # Part 1: Count products with status \"in_stock\"\n",
    "        # If the product's status is \"in_stock\", increment `stock_count` by 1 and append the product's id to `valid_ids`\n",
    "        # BEGIN SOLUTION\n",
    "        if product[\"status\"] == \"in_stock\":\n",
    "            stock_count += 1\n",
    "            valid_ids.append(product[\"id\"])\n",
    "        # END SOLUTION\n",
    "\n",
    "    # Part 4: Return the results as a dictionary\n",
    "    # Return a dictionary with keys \"stock_count\", \"valid_ids\", and \"break_message\" and their corresponding values\n",
    "    # BEGIN SOLUTION\n",
    "    return {\n",
    "        \"stock_count\": stock_count,\n",
    "        \"valid_ids\": valid_ids,\n",
    "        \"break_message\": break_message,\n",
    "    }\n",
    "    # END SOLUTION\n",
    "\n",
    "# Call the function with the products dictionary and store the result in a variable `result`\n",
    "\n",
    "# You can print the results function to check if it's working correctly\n",
    "\n",
    "# BEGIN SOLUTION\n",
    "\n",
    "result = process_inventory(products)\n",
    "print(result)\n",
    "\n",
    "# END SOLUTION"
   ]
  },
  {
   "cell_type": "raw",
   "id": "42",
   "metadata": {
    "vscode": {
     "languageId": "raw"
    }
   },
   "source": [
    "# END SOLUTION"
   ]
  },
  {
   "cell_type": "raw",
   "id": "43",
   "metadata": {
    "vscode": {
     "languageId": "raw"
    }
   },
   "source": [
    "# BEGIN QUESTION\n",
    "\n",
    "name: loops-and-errors-debugging-temperature"
   ]
  },
  {
   "cell_type": "markdown",
   "id": "44",
   "metadata": {},
   "source": [
    "## Debugging Python Functions: Fixing Syntax, Runtime, and Logical Errors\n",
    "\n",
    "#\n",
    "\n",
    "### Instructions:\n",
    "\n",
    "You are provided with the following buggy code. Your task is to debug the function `convert_positive_temperatures`, which is meant to take a list of temperatures in Celsius and return a new list where only the positive temperatures are converted to Fahrenheit using the formula:\n",
    "\n",
    "#\n",
    "\n",
    "\\[\n",
    "\n",
    "F = C \\times \\frac{9}{5} + 32\n",
    "\n",
    "\\]\n",
    "\n",
    "#\n",
    "\n",
    "```python\n",
    "\n",
    "def convert_positive_temperatures(temps)\n",
    "\n",
    "new_list = []\n",
    "\n",
    "for t in temps:\n",
    "\n",
    "if t =< 0\n",
    "\n",
    "continUe\n",
    "\n",
    "#\n",
    "\n",
    "newLis.append((t \\* 9/5) + 32)\n",
    "\n",
    "#\n",
    "\n",
    "print(new_list)\n",
    "\n",
    "#\n",
    "\n",
    "# Example usage:\n",
    "\n",
    "temperatures = [10, -5, 20, -8, 30]\n",
    "\n",
    "print(convert_positive_temperatures(temperatures)) # Expected output: [50.0, 68.0, 86.0]\n",
    "\n",
    "```\n",
    "\n",
    "#\n",
    "\n",
    "### Requirements:\n",
    "\n",
    "1. **Input:** The function receives a list of temperatures in Celsius.\n",
    "\n",
    "2. **Expected Behavior:** The function should return a new list where each temperature is converted to Fahrenheit, but only if it is positive.\n",
    "\n",
    "3. **Possible Errors to Fix:**\n",
    "\n",
    "- Syntax Errors (missing colons, incorrect operators, capitalization issues).\n",
    "\n",
    "- Runtime Errors (undefined variables, incorrect function calls).\n",
    "\n",
    "- Logical Errors (misuse of operations or incorrect output format).\n",
    "\n",
    "4. **Return Value:** The function should return the converted list, not just print it."
   ]
  },
  {
   "cell_type": "code",
   "execution_count": null,
   "id": "45",
   "metadata": {},
   "outputs": [],
   "source": [
    "# BEGIN SOLUTION"
   ]
  },
  {
   "cell_type": "code",
   "execution_count": null,
   "id": "46",
   "metadata": {},
   "outputs": [],
   "source": [
    "# Define a function `convert_positive_temperatures` that takes a list of temperatures as input\n",
    "\n",
    "# BEGIN SOLUTION\n",
    "\n",
    "def convert_positive_temperatures(temps):\n",
    "\n",
    "# END SOLUTION\n",
    "\n",
    "    # Initialize an empty list to store converted temperatures\n",
    "    new_list = []\n",
    "\n",
    "    # Loop through each temperature in the input list\n",
    "    for t in temps:\n",
    "\n",
    "        # Check if the temperature is positive\n",
    "        # If not, continue to the next iteration\n",
    "        if t <= 0:\n",
    "            continue\n",
    "\n",
    "        # Convert positive temperatures to Fahrenheit and add them to new_list\n",
    "        new_list.append((t * 9/5) + 32)\n",
    "\n",
    "    return new_list\n",
    "\n",
    "# END SOLUTION\n",
    "\n",
    "temperatures = [10, -5, 20, -8, 30]\n",
    "result = convert_positive_temperatures(temperatures)\n",
    "print(result)"
   ]
  },
  {
   "cell_type": "raw",
   "id": "47",
   "metadata": {
    "vscode": {
     "languageId": "raw"
    }
   },
   "source": [
    "# END SOLUTION"
   ]
  },
  {
   "cell_type": "raw",
   "id": "48",
   "metadata": {
    "vscode": {
     "languageId": "raw"
    }
   },
   "source": [
    "# BEGIN TESTS"
   ]
  },
  {
   "cell_type": "code",
   "execution_count": null,
   "id": "49",
   "metadata": {},
   "outputs": [],
   "source": [
    "\"\"\" # BEGIN TEST CONFIG\n",
    "points: 2\n",
    "hidden: false\n",
    "success_message: \"Success: The function `convert_positive_temperatures` exists and is callable!\"\n",
    "failure_message: \"Failed: The function `convert_positive_temperatures` is not defined correctly.\"\n",
    "log_variables: [\"function_exists\"]\n",
    "\"\"\" # END TEST CONFIG\n",
    "\n",
    "function_exists = callable(convert_positive_temperatures)\n",
    "\n",
    "assert function_exists, (\n",
    "\"The function `convert_positive_temperatures` must be defined and callable.\"\n",
    ")"
   ]
  },
  {
   "cell_type": "code",
   "execution_count": null,
   "id": "50",
   "metadata": {},
   "outputs": [],
   "source": [
    "\"\"\" # BEGIN TEST CONFIG\n",
    "points: 4\n",
    "hidden: false\n",
    "success_message: \"Success: The function correctly filters and converts positive temperatures!\"\n",
    "failure_message: \"Failed: The function does not correctly filter and convert positive temperatures.\"\n",
    "log_variables: [\"result\"]\n",
    "\"\"\" # END TEST CONFIG\n",
    "\n",
    "condition1 = convert_positive_temperatures([5, -3, 15, -2]) == [41.0, 59.0]\n",
    "condition2 = convert_positive_temperatures([-10, -5, -3]) == []\n",
    "condition3 = convert_positive_temperatures([0, 25, 30]) == [77.0, 86.0]\n",
    "\n",
    "assert condition1\n",
    "assert condition2\n",
    "assert condition3"
   ]
  },
  {
   "cell_type": "code",
   "execution_count": null,
   "id": "51",
   "metadata": {},
   "outputs": [],
   "source": [
    "\"\"\" # BEGIN TEST CONFIG\n",
    "points: 4\n",
    "hidden: false\n",
    "success_message: \"Success: The function correctly handles an empty input list!\"\n",
    "failure_message: \"Failed: The function does not handle an empty list correctly.\"\n",
    "log_variables: [\"result\"]\n",
    "\"\"\" # END TEST CONFIG\n",
    "\n",
    "condition = convert_positive_temperatures([]) == []\n",
    "\n",
    "assert condition"
   ]
  },
  {
   "cell_type": "code",
   "execution_count": null,
   "id": "52",
   "metadata": {},
   "outputs": [],
   "source": [
    "\"\"\" # BEGIN TEST CONFIG\n",
    "points: 4\n",
    "hidden: false\n",
    "success_message: \"Success: The function preserves order of elements!\"\n",
    "failure_message: \"Failed: The function does not preserve order of elements.\"\n",
    "log_variables: [\"result\"]\n",
    "\"\"\" # END TEST CONFIG\n",
    "\n",
    "condition1 = convert_positive_temperatures([12, 5, 20]) == [53.6, 41.0, 68.0]\n",
    "condition2 = convert_positive_temperatures([30, -5, 10, 0, 5]) == [86.0, 50.0, 41.0]\n",
    "\n",
    "assert condition1\n",
    "assert condition2"
   ]
  },
  {
   "cell_type": "raw",
   "id": "53",
   "metadata": {
    "vscode": {
     "languageId": "raw"
    }
   },
   "source": [
    "# END TESTS"
   ]
  },
  {
   "cell_type": "code",
   "execution_count": null,
   "id": "54",
   "metadata": {},
   "outputs": [],
   "source": [
    "# END QUESTION"
   ]
  },
  {
   "cell_type": "raw",
   "id": "55",
   "metadata": {
    "vscode": {
     "languageId": "raw"
    }
   },
   "source": [
    "# BEGIN QUESTION\n",
    "\n",
    "name: numpy-even-check"
   ]
  },
  {
   "cell_type": "markdown",
   "id": "56",
   "metadata": {},
   "source": [
    "## Numerical Computing with NumPy: Even Number Checker 🔢\n",
    "\n",
    "#\n",
    "\n",
    "### Instructions:\n",
    "\n",
    "You are working with numerical data and need to determine which numbers in a given NumPy array are even. Your task is to write a function `find_evens()` that takes a NumPy array of integers and returns a boolean array indicating which elements are even.\n",
    "\n",
    "#\n",
    "\n",
    "### Requirements:\n",
    "\n",
    "1. The function receives a NumPy array of integers, or a list of integers.\n",
    "\n",
    "2. Implement an efficient even-checking function using NumPy.\n",
    "\n",
    "3. The function should return a boolean NumPy array of the same shape as the input, where `True` represents an even number and `False` represents an odd number.\n",
    "\n",
    "#\n",
    "\n",
    "### Helpful Information:\n",
    "\n",
    "- An even number is a number that is divisible by **2**.\n",
    "\n",
    "- The first few even numbers are: **0, 2, 4, 6, 8, 10, ...**\n",
    "\n",
    "- The function should handle edge cases like `0` and negative numbers correctly.\n",
    "\n",
    "#\n",
    "\n",
    "We have provided inline instructions for each part of the task. Please read the instructions carefully and complete each part accordingly.\n",
    "\n",
    "#\n",
    "\n",
    "Make sure to include docstrings and comments in your code to explain the logic and purpose of the function."
   ]
  },
  {
   "cell_type": "code",
   "execution_count": null,
   "id": "57",
   "metadata": {},
   "outputs": [],
   "source": [
    "# BEGIN SOLUTION"
   ]
  },
  {
   "cell_type": "code",
   "execution_count": null,
   "id": "58",
   "metadata": {},
   "outputs": [],
   "source": [
    "# Import NumPy using the common alias np\n",
    "\n",
    "# BEGIN SOLUTION\n",
    "\n",
    "import numpy as np\n",
    "\n",
    "# END SOLUTION\n",
    "\n",
    "# Define the function `find_evens` which accepts an input array\n",
    "\n",
    "# BEGIN SOLUTION\n",
    "\n",
    "def find_evens(arr):\n",
    "\n",
    "# END SOLUTION\n",
    "\n",
    "    \"\"\"\n",
    "    # BEGIN SOLUTION\n",
    "    Given a NumPy array of integers, return a boolean array indicating which numbers are even.\n",
    "    # END SOLUTION\n",
    "    \"\"\"\n",
    "    # Ensure input is a NumPy array, to do this convert the input to a NumPy array using `np.asarray`\n",
    "    # Override the input variable `arr` with the NumPy array\n",
    "    # BEGIN SOLUTION\n",
    "    arr = np.asarray(arr)  # Ensure input is a NumPy array\n",
    "    # END SOLUTION\n",
    "\n",
    "    # Create a boolean array where `True` represents even numbers and `False` represents odd numbers\n",
    "    # Use the modulo operator `%` to check divisibility by 2\n",
    "    # BEGIN SOLUTION\n",
    "    is_even = (arr % 2 == 0)\n",
    "    # END SOLUTION\n",
    "\n",
    "    # Return the boolean array `is_even`\n",
    "    # BEGIN SOLUTION\n",
    "    return is_even\n",
    "    # END SOLUTION\n",
    "\n",
    "# Example usage:\n",
    "\n",
    "test_array = np.array([0, 1, 2, 3, 4, 5, 10, 11, 12, 15, 18])\n",
    "even_results = find_evens(test_array)\n",
    "print(even_results)"
   ]
  },
  {
   "cell_type": "raw",
   "id": "59",
   "metadata": {
    "vscode": {
     "languageId": "raw"
    }
   },
   "source": [
    "# END SOLUTION"
   ]
  },
  {
   "cell_type": "raw",
   "id": "60",
   "metadata": {
    "vscode": {
     "languageId": "raw"
    }
   },
   "source": [
    "# BEGIN TESTS"
   ]
  },
  {
   "cell_type": "code",
   "execution_count": null,
   "id": "61",
   "metadata": {},
   "outputs": [],
   "source": [
    "\"\"\" # BEGIN TEST CONFIG\n",
    "points: 1\n",
    "hidden: false\n",
    "success_message: \"Success: The function `find_evens` exists and is callable!\"\n",
    "failure_message: \"Failed: The function `find_evens` is not defined correctly.\"\n",
    "log_variables: [\"function_exists\"]\n",
    "\"\"\" # END TEST CONFIG\n",
    "\n",
    "function_exists = callable(find_evens)\n",
    "\n",
    "assert function_exists, (\n",
    "\"The function `find_evens` must be defined and callable.\"\n",
    ")"
   ]
  },
  {
   "cell_type": "code",
   "execution_count": null,
   "id": "62",
   "metadata": {},
   "outputs": [],
   "source": [
    "\"\"\" # BEGIN TEST CONFIG\n",
    "points: 1\n",
    "hidden: false\n",
    "success_message: \"Success: The function `find_evens` has a docstring with at least 8 words.\"\n",
    "failure_message: \"Failed: The function `find_evens` does not have a docstring with at least 8 words.\"\n",
    "log_variables: [\"docstring_exists\", \"docstring_word_count\"]\n",
    "\"\"\" # END TEST CONFIG\n",
    "\n",
    "# Check if the function has a docstring\n",
    "\n",
    "docstring_exists = find_evens.**doc** is not None\n",
    "\n",
    "# Count the number of words in the docstring\n",
    "\n",
    "docstring_word_count = len(find_evens.**doc**.split()) if docstring_exists else 0\n",
    "\n",
    "# Assert that the docstring exists and has at least 8 words\n",
    "\n",
    "assert docstring_exists and docstring_word_count >= 8, (\n",
    "f\"The function `find_evens` must have a docstring with at least 8 words. \"\n",
    "f\"Current docstring word count: {docstring_word_count}\"\n",
    ")"
   ]
  },
  {
   "cell_type": "code",
   "execution_count": null,
   "id": "63",
   "metadata": {},
   "outputs": [],
   "source": [
    "\"\"\" # BEGIN TEST CONFIG\n",
    "points: 2\n",
    "hidden: false\n",
    "success_message: \"Success: The function `find_evens` works correctly with non-array input.\"\n",
    "failure_message: \"Failed: The function `find_evens` does not work correctly with non-array input.\"\n",
    "log_variables: [\"input_data\", \"output_results\"]\n",
    "\"\"\" # END TEST CONFIG\n",
    "\n",
    "# Test with a list input\n",
    "\n",
    "input_data = [0, 1, 2, 3, 4, 5, 10, 11, 12, 15, 18]\n",
    "output_results = find_evens(input_data)\n",
    "\n",
    "# Expected results for the input\n",
    "\n",
    "# BEGIN HIDE\n",
    "\n",
    "expected_results = np.array(\n",
    "[True, False, True, False, True, False, True, False, True, False, True]\n",
    ")\n",
    "\n",
    "# END HIDE\n",
    "\n",
    "# Assert that the output matches the expected results\n",
    "\n",
    "assert np.array_equal(\n",
    "output_results, expected_results\n",
    "), f\"Expected {expected_results}, but got {output_results}\""
   ]
  },
  {
   "cell_type": "code",
   "execution_count": null,
   "id": "64",
   "metadata": {},
   "outputs": [],
   "source": [
    "\"\"\" # BEGIN TEST CONFIG\n",
    "points: 2\n",
    "hidden: false\n",
    "success_message: \"Success: The function correctly identifies even numbers!\"\n",
    "failure_message: \"Failed: The function does not correctly identify even numbers.\"\n",
    "log_variables: [\"even_test_results\"]\n",
    "\"\"\" # END TEST CONFIG\n",
    "\n",
    "test_input = np.array([2, 4, 6, 8, 10])\n",
    "\n",
    "# BEGIN HIDE\n",
    "\n",
    "expected_output = np.array([True, True, True, True, True])\n",
    "\n",
    "# END HIDE\n",
    "\n",
    "even_test_results = find_evens(test_input)\n",
    "\n",
    "assert np.array_equal(even_test_results, expected_output), (\n",
    "f\"Expected {expected_output}, but got {even_test_results}.\"\n",
    ")"
   ]
  },
  {
   "cell_type": "code",
   "execution_count": null,
   "id": "65",
   "metadata": {},
   "outputs": [],
   "source": [
    "\"\"\" # BEGIN TEST CONFIG\n",
    "points: 1\n",
    "hidden: false\n",
    "success_message: \"Success: The function correctly handles a mix of odd and even numbers!\"\n",
    "failure_message: \"Failed: The function does not correctly classify numbers as even or odd.\"\n",
    "log_variables: [\"test_array\", \"even_results\"]\n",
    "\"\"\" # END TEST CONFIG\n",
    "\n",
    "test_array = np.array([21, 22, 23, 24, 25, 26])\n",
    "even_results = find_evens(test_array)\n",
    "\n",
    "# BEGIN HIDE\n",
    "\n",
    "expected_results = np.array([False, True, False, True, False, True])\n",
    "\n",
    "# END HIDE\n",
    "\n",
    "assert np.array_equal(\n",
    "even_results, expected_results\n",
    "), f\"Expected {expected_results}, but got {even_results}\""
   ]
  },
  {
   "cell_type": "code",
   "execution_count": null,
   "id": "66",
   "metadata": {},
   "outputs": [],
   "source": [
    "\"\"\" # BEGIN TEST CONFIG\n",
    "points: 1\n",
    "hidden: false\n",
    "success_message: \"Success: The function correctly handles negative numbers!\"\n",
    "failure_message: \"Failed: The function does not correctly handle negative numbers.\"\n",
    "log_variables: [\"negative_test_results\"]\n",
    "\"\"\" # END TEST CONFIG\n",
    "\n",
    "test_input = np.array([-10, -9, -8, -7, -6, -5])\n",
    "\n",
    "# BEGIN HIDE\n",
    "\n",
    "expected_output = np.array([True, False, True, False, True, False])\n",
    "\n",
    "# END HIDE\n",
    "\n",
    "negative_test_results = find_evens(test_input)\n",
    "\n",
    "assert np.array_equal(negative_test_results, expected_output), (\n",
    "f\"Expected {expected_output}, but got {negative_test_results}.\"\n",
    ")"
   ]
  },
  {
   "cell_type": "code",
   "execution_count": null,
   "id": "67",
   "metadata": {},
   "outputs": [],
   "source": [
    "\"\"\" # BEGIN TEST CONFIG\n",
    "points: 2\n",
    "hidden: false\n",
    "success_message: \"Success: The function preserves NumPy array shape!\"\n",
    "failure_message: \"Failed: The function does not preserve the shape of the input array.\"\n",
    "log_variables: [\"shape_test_results\"]\n",
    "\"\"\" # END TEST CONFIG\n",
    "\n",
    "test_input = np.array([[2, 3, 4], [5, 6, 7]])\n",
    "\n",
    "# BEGIN HIDE\n",
    "\n",
    "expected_shape = test_input.shape\n",
    "\n",
    "# END HIDE\n",
    "\n",
    "shape_test_results = find_evens(test_input).shape\n",
    "\n",
    "assert shape_test_results == expected_shape, (\n",
    "f\"Expected shape {expected_shape}, but got {shape_test_results}.\"\n",
    ")"
   ]
  },
  {
   "cell_type": "raw",
   "id": "68",
   "metadata": {
    "vscode": {
     "languageId": "raw"
    }
   },
   "source": [
    "# END TESTS"
   ]
  },
  {
   "cell_type": "code",
   "execution_count": null,
   "id": "69",
   "metadata": {},
   "outputs": [],
   "source": [
    "# END QUESTION"
   ]
  }
 ],
 "metadata": {
  "language_info": {
   "name": "python"
  }
 },
 "nbformat": 4,
 "nbformat_minor": 5
}
