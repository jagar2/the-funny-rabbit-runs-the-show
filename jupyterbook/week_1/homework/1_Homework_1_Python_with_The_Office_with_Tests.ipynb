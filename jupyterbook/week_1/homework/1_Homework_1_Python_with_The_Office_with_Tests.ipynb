{
 "cells": [
  {
   "cell_type": "code",
   "execution_count": null,
   "id": "0",
   "metadata": {
    "deletable": false,
    "editable": false,
    "tags": [
     "skip-execution"
    ]
   },
   "outputs": [],
   "source": [
    "# Initialize Otter\n",
    "import otter\n",
    "grader = otter.Notebook(\"1_Homework_1_Python_with_The_Office_with_Tests.ipynb\")"
   ]
  },
  {
   "cell_type": "markdown",
   "id": "1",
   "metadata": {
    "deletable": false,
    "editable": false
   },
   "source": [
    "# Homework 1 - Python with \"The Office\"\n",
    "\n",
    "![the_office](./assets/figures/the-office.jpeg)\n",
    "\n",
    "Welcome to Scranton Branch's official Python training! In this homework, you will step into the shoes of your favorite characters from _The Office_. Get ready to solve some \"Dunder Mifflin\" problems using Python, and maybe, just maybe, impress Michael Scott with your coding prowess.\n",
    "\n",
    "```{note}\n",
    "Remember, just like at Dunder Mifflin, effort counts! While tools like ChatGPT can assist you, it’s crucial to understand these concepts. After all, you never know when Dwight might quiz you during lunch.\n",
    "```\n"
   ]
  },
  {
   "cell_type": "markdown",
   "id": "2",
   "metadata": {
    "deletable": false,
    "editable": false
   },
   "source": [
    "## Question 1: Dwight's Beet Farm Calculations\n",
    "\n",
    "Dwight needs to calculate the square footage of his beet farm to plan the next season's harvest. Help him by writing Python code to calculate the square root of 789 using the `math` module. Print the result so Dwight can note it down in his \"Farm Log.\"\n",
    "\n",
    "### Example:\n",
    "\n",
    "Here’s an example to guide you. Let’s calculate the natural logarithm of 20 for Michael's \"World’s Best Boss\" mug production:\n",
    "\n",
    "```python\n",
    "import math\n",
    "\n",
    "def example():\n",
    "    # Calculate and print the natural logarithm of 20\n",
    "    log_20 = math.log(20)\n",
    "    print(log_20)\n",
    "\n",
    "example()\n",
    "```\n",
    "\n",
    "Now, write code to calculate and print the square root of 789. Wrap it in a function named `question_1()` as shown in the example.\n"
   ]
  },
  {
   "cell_type": "code",
   "execution_count": null,
   "id": "3",
   "metadata": {
    "tags": [
     "skip-execution"
    ]
   },
   "outputs": [],
   "source": [
    "# Import required packages here\n",
    "\n",
    "...\n",
    "\n",
    "# This line of code defines a function\n",
    "# DO NOT CHANGE THIS LINE OF CODE\n",
    "def question_1(printing=True):\n",
    "    # Calculate the square root of 789\n",
    "    sqrt_789 = ...\n",
    "    \n",
    "    if printing:\n",
    "        # Print the output of the result\n",
    "        output = ...\n",
    "\n",
    "    return sqrt_789\n",
    "\n",
    "# Call the function\n",
    "sqrt_789 = question_1()"
   ]
  },
  {
   "cell_type": "code",
   "execution_count": null,
   "id": "4",
   "metadata": {
    "deletable": false,
    "editable": false,
    "tags": [
     "skip-execution"
    ]
   },
   "outputs": [],
   "source": [
    "grader.check(\"HW1-Q1-Dwitghts-Beet-Farm\")"
   ]
  },
  {
   "cell_type": "markdown",
   "id": "5",
   "metadata": {
    "deletable": false,
    "editable": false
   },
   "source": [
    "## Question 2: Pam's Art Supplies Budget\n",
    "\n",
    "Pam is budgeting for her art supplies. She needs to calculate the total cost of 5 canvases priced at $12.99 each. Write a Python program to calculate the total cost and round it to 2 decimal places. Use the `math` module if needed.\n",
    "\n",
    "1. Define the cost of a single canvas using a variable (`price_per_canvas`).\n",
    "2. Define the number of canvases (`num_canvases`).\n",
    "3. Use a formula to calculate the total cost (`price_per_canvas * num_canvases`). Use the `round()` function to round the result to 2 decimal places.\n",
    "4. Use `print()` to display the total cost.\n"
   ]
  },
  {
   "cell_type": "code",
   "execution_count": null,
   "id": "6",
   "metadata": {
    "tags": [
     "skip-execution"
    ]
   },
   "outputs": [],
   "source": [
    "def question_2():\n",
    "    # 1. Define the cost of a single canvas using a variable (`price_per_canvas`).\n",
    "    ...\n",
    "\n",
    "    # 2. Define the number of canvases (`num_canvases`).\n",
    "    ...\n",
    "\n",
    "    # 3. Use a formula to calculate the total cost (`price_per_canvas * num_canvases`). Use the `round()` function to round the result to 2 decimal places.\n",
    "    ...\n",
    "\n",
    "    # 4. Use `print()` to display the total cost.\n",
    "    ...\n",
    "\n",
    "    # DO NOT CHANGE ANYTHING BELOW THIS LINE\n",
    "    return locals()\n",
    "\n",
    "out = question_2()"
   ]
  },
  {
   "cell_type": "code",
   "execution_count": null,
   "id": "7",
   "metadata": {
    "deletable": false,
    "editable": false,
    "tags": [
     "skip-execution"
    ]
   },
   "outputs": [],
   "source": [
    "grader.check(\"HW1-Q2-Pams-Art-Supplies-Budget\")"
   ]
  },
  {
   "cell_type": "markdown",
   "id": "8",
   "metadata": {
    "deletable": false,
    "editable": false
   },
   "source": [
    "## Question 3: Michael's Paper Inventory\n",
    "\n",
    "Michael Scott needs help keeping track of paper inventory at Dunder Mifflin Scranton. Write a Python program that calculates and prints the following:\n",
    "\n",
    "1. The total number of paper boxes (`total_boxes`) when combining Premium (`premium_boxes` = 15) and Standard (`standard_boxes` = 23) stock\n",
    "2. The number of reams (`total_reams`) when each box of Deluxe paper (`deluxe_boxes` = 12) contains 4 reams per box (`reams_per_box` = 4)\n",
    "3. How many complete client orders (`possible_orders`) can be fulfilled when there are 48 boxes in stock (`total_inventory` = 48) and each order requires 6 boxes (`boxes_per_order` = 6)\n",
    "   4 The number of leftover boxes (`leftover_boxes`) when trying to evenly distribute 17 boxes (`specialty_boxes` = 17) among 5 salespeople (`num_salespeople` = 5)\n",
    "\n",
    "The variables must use the names provided in the parentheses, with the values provided in block quotes.\n"
   ]
  },
  {
   "cell_type": "code",
   "execution_count": null,
   "id": "9",
   "metadata": {
    "tags": [
     "skip-execution"
    ]
   },
   "outputs": [],
   "source": [
    "def question_3():\n",
    "    # Define the number of Premium paper boxes\n",
    "    ...\n",
    "\n",
    "    # Define the number of Standard paper boxes\n",
    "    ...\n",
    "\n",
    "    # Calculate the total boxes by adding Premium and Standard boxes\n",
    "    ...\n",
    "\n",
    "    # Calculate total reams of Deluxe paper (12 boxes with 4 reams per box)\n",
    "    ...\n",
    "\n",
    "    # Calculate complete orders possible with 48 boxes when each order needs 6 boxes\n",
    "    ...\n",
    "\n",
    "    # Calculate leftover boxes when distributing 17 boxes among 5 salespeople\n",
    "    ...\n",
    "\n",
    "    # DO NOT CHANGE ANYTHING BELOW THIS LINE\n",
    "    \n",
    "    print(f\"Total boxes: {total_boxes}\")\n",
    "    print(f\"Total reams: {total_reams}\")\n",
    "    print(f\"Possible orders: {possible_orders}\")\n",
    "    print(f\"Leftover boxes: {leftover_boxes}\")\n",
    "    \n",
    "    return locals()\n",
    "\n",
    "out = question_3()"
   ]
  },
  {
   "cell_type": "code",
   "execution_count": null,
   "id": "10",
   "metadata": {
    "deletable": false,
    "editable": false,
    "tags": [
     "skip-execution"
    ]
   },
   "outputs": [],
   "source": [
    "grader.check(\"HW1-Q3-Michaels-Paper-Inventory\")"
   ]
  },
  {
   "cell_type": "markdown",
   "id": "11",
   "metadata": {
    "deletable": false,
    "editable": false
   },
   "source": [
    "## Question 3: Office Party Games\n",
    "\n",
    "Michael Scott is planning a casino-themed office party at Dunder Mifflin and needs help creating some Python programs to make it more exciting.\n",
    "\n",
    "## 1. `roll_dice()` function that:\n",
    "\n",
    "- Uses Python's `random` module to simulate rolling two six-sided dice. [Python random module](https://docs.python.org/3/library/random.html)\n",
    "- Prints each roll in this exact format: \"Die 1: X, Die 2: Y, Sum: Z\" (where X, Y are the individual rolls and Z is their sum). You should use f-string formatting for this. We have not covered f-strings formally yet, but this is a bonus question. [f-string guide](https://www.geeksforgeeks.org/formatted-string-literals-f-strings-python/)\n",
    "- Returns a tuple of the two dice values in order die1, die2.\n",
    "\n",
    "## 2. `print_date()` function that:\n",
    "\n",
    "- Uses Python's `datetime` module to get today's date. [Python datetime module](https://docs.python.org/3/library/datetime.html)\n",
    "- Prints the date in this exact format: \"Today's date is: MM-DD-YYYY\" (e.g., \"Today's date is: 12-08-2024\")\n",
    "- Returns the datetime.date object\n",
    "\n",
    "This will help Michael show off his Python skills while planning the office party!\n"
   ]
  },
  {
   "cell_type": "code",
   "execution_count": null,
   "id": "12",
   "metadata": {
    "tags": [
     "skip-execution"
    ]
   },
   "outputs": [],
   "source": [
    "...\n",
    "\n",
    "def roll_dice():\n",
    "    die1 = ...\n",
    "    die2 = ...\n",
    "    ...\n",
    "    return die1, die2\n",
    "\n",
    "def print_date():\n",
    "    today = ...\n",
    "    ...\n",
    "    return today"
   ]
  },
  {
   "cell_type": "code",
   "execution_count": null,
   "id": "13",
   "metadata": {
    "tags": [
     "skip-execution"
    ]
   },
   "outputs": [],
   "source": [
    "roll_dice()"
   ]
  },
  {
   "cell_type": "code",
   "execution_count": null,
   "id": "14",
   "metadata": {
    "tags": [
     "skip-execution"
    ]
   },
   "outputs": [],
   "source": [
    "print_date()"
   ]
  },
  {
   "cell_type": "code",
   "execution_count": null,
   "id": "15",
   "metadata": {
    "deletable": false,
    "editable": false,
    "tags": [
     "skip-execution"
    ]
   },
   "outputs": [],
   "source": [
    "grader.check(\"HW1-Bonus-Modules-Madness-with-Michael\")"
   ]
  },
  {
   "cell_type": "raw",
   "id": "16",
   "metadata": {},
   "source": []
  },
  {
   "cell_type": "markdown",
   "id": "17",
   "metadata": {
    "deletable": false,
    "editable": false
   },
   "source": [
    " "
   ]
  }
 ],
 "metadata": {
  "kernelspec": {
   "display_name": "engr131_dev",
   "language": "python",
   "name": "python3"
  },
  "language_info": {
   "codemirror_mode": {
    "name": "ipython",
    "version": 3
   },
   "file_extension": ".py",
   "mimetype": "text/x-python",
   "name": "python",
   "nbconvert_exporter": "python",
   "pygments_lexer": "ipython3",
   "version": "3.12.7"
  },
  "otter": {
   "OK_FORMAT": true,
   "tests": {
    "HW1-Bonus-Modules-Madness-with-Michael": {
     "name": "HW1-Bonus-Modules-Madness-with-Michael",
     "points": null,
     "suites": [
      {
       "cases": [
        {
         "code": ">>> import random\n>>> random.seed(162)\n>>> out = roll_dice()\n>>> assert out == (1, 6)\n",
         "failure_message": "Dice rolls are incorrect.",
         "hidden": false,
         "locked": false,
         "points": 1,
         "success_message": "Dice rolls are correct with seed 162."
        },
        {
         "code": ">>> import io\n>>> import sys\n>>> import random\n>>> random.seed(162)\n>>> captured_output = io.StringIO()\n>>> sys_stdout_original = sys.stdout\n>>> sys.stdout = captured_output\n>>> roll_dice()\n>>> printed_value = captured_output.getvalue().strip()\n>>> sys.stdout = sys_stdout_original\n>>> expected_print_value = 'Die 1: 1, Die 2: 6, Sum: 7'\n>>> assert printed_value == expected_print_value\n",
         "failure_message": "Dice roll output is incorrect.",
         "hidden": false,
         "locked": false,
         "points": 1,
         "success_message": "Dice roll output is formatted correctly."
        },
        {
         "code": ">>> import io\n>>> import sys\n>>> captured_output = io.StringIO()\n>>> sys_stdout_original = sys.stdout\n>>> sys.stdout = captured_output\n>>> today = print_date()\n>>> sys.stdout = sys_stdout_original\n>>> printed_value = captured_output.getvalue().strip()\n>>> assert isinstance(today, datetime.date)\n>>> assert printed_value == f'Today the date is: {today.strftime('%m-%d-%Y')}'\n",
         "failure_message": "Date format is incorrect.",
         "hidden": false,
         "locked": false,
         "points": 1,
         "success_message": "Date is printed in correct format."
        }
       ],
       "scored": true,
       "setup": "",
       "teardown": "",
       "type": "doctest"
      }
     ]
    },
    "HW1-Q1-Dwitghts-Beet-Farm": {
     "name": "HW1-Q1-Dwitghts-Beet-Farm",
     "points": null,
     "suites": [
      {
       "cases": [
        {
         "code": ">>> import numpy as np\n>>> a = question_1(printing=False)\n>>> assert np.isclose(a, 28.08914, atol=0.001)\n",
         "failure_message": "Variables incorrectly defined.",
         "hidden": false,
         "locked": false,
         "points": 1,
         "success_message": "Variables correctly defined."
        },
        {
         "code": ">>> from unittest.mock import patch\n>>> with patch('builtins.print') as mock_print:\n...     a = question_1()\n...     mock_print.assert_called_once_with(a)\n",
         "failure_message": "Your code does not prints the result of sqrt_256.",
         "hidden": false,
         "locked": false,
         "points": 2,
         "success_message": "Your code prints the result of sqrt_256."
        }
       ],
       "scored": true,
       "setup": "",
       "teardown": "",
       "type": "doctest"
      }
     ]
    },
    "HW1-Q2-Pams-Art-Supplies-Budget": {
     "name": "HW1-Q2-Pams-Art-Supplies-Budget",
     "points": null,
     "suites": [
      {
       "cases": [
        {
         "code": ">>> import os\n>>> original_stdout = sys.stdout\n>>> sys.stdout = open(os.devnull, 'w')\n>>> out = question_2()\n>>> sys.stdout.close()\n>>> sys.stdout = original_stdout\n>>> price_per_canvas_test = 12.99\n>>> assert out['price_per_canvas'] == price_per_canvas_test, f\"'price_per_canvas' should be {price_per_canvas_test}, but got {out['price_per_canvas']}\"\n",
         "failure_message": "The variable `price_per_canvas` is not correctly defined.",
         "hidden": false,
         "locked": false,
         "points": 1,
         "success_message": "The variable `price_per_canvas` is correctly defined."
        },
        {
         "code": ">>> import os\n>>> original_stdout = sys.stdout\n>>> sys.stdout = open(os.devnull, 'w')\n>>> out = question_2()\n>>> sys.stdout.close()\n>>> sys.stdout = original_stdout\n>>> num_canvases_test = 5\n>>> assert 'num_canvases' in out or 'num_canvases' in globals(), \"Variable 'num_canvases' is not defined.\"\n>>> assert out['num_canvases'] == num_canvases_test, f\"'num_canvases' should be {num_canvases_test}, but got {out['num_canvases']}\"\n64.95\n",
         "failure_message": "The variable `num_canvases` is not correctly defined.",
         "hidden": false,
         "locked": false,
         "points": 1,
         "success_message": "The variable `num_canvases` is correctly defined."
        },
        {
         "code": ">>> import os\n>>> original_stdout = sys.stdout\n>>> sys.stdout = open(os.devnull, 'w')\n>>> out = question_2()\n>>> sys.stdout.close()\n>>> sys.stdout = original_stdout\n>>> total_cost_test = round(out['price_per_canvas'] * out['num_canvases'], 2)\n>>> assert 'total_cost' in out, \"Variable 'total_cost' is not defined.\"\n>>> assert out['total_cost'] == total_cost_test, f\"'total_cost' should be {total_cost_test}, but got {total_cost}\"\n64.95\n",
         "failure_message": "The total cost is not calculated correctly.",
         "hidden": false,
         "locked": false,
         "points": 2,
         "success_message": "The total cost is calculated correctly."
        },
        {
         "code": ">>> original_stdout = sys.stdout\n>>> sys.stdout = open(os.devnull, 'w')\n>>> out = question_2()\n>>> sys.stdout.close()\n>>> sys.stdout = original_stdout\n>>> assert out['total_cost'] == float(f'{out['total_cost']:.2f}'), 'The total cost is not rounded to two decimal places.'\n64.95\n",
         "failure_message": "The total cost is not rounded correctly to two decimal places.",
         "hidden": false,
         "locked": false,
         "points": 1,
         "success_message": "The total cost is rounded correctly to two decimal places."
        },
        {
         "code": ">>> import io\n>>> import sys\n>>> captured_output = io.StringIO()\n>>> original_stdout = sys.stdout\n>>> sys.stdout = captured_output\n>>> question_2()\n>>> sys.stdout = sys.stdout\n>>> printed_value = captured_output.getvalue().strip()\n>>> expected_print_value = round(12.99 * 5, 2)\n>>> assert printed_value == str(expected_print_value), f\"The print function should output '{expected_print_value}', but got '{printed_value}'.\"\n",
         "failure_message": "The print function was not called with the correct total cost.",
         "hidden": false,
         "locked": false,
         "points": 2,
         "success_message": "The print function was called with the correct total cost."
        }
       ],
       "scored": true,
       "setup": "",
       "teardown": "",
       "type": "doctest"
      }
     ]
    },
    "HW1-Q3-Michaels-Paper-Inventory": {
     "name": "HW1-Q3-Michaels-Paper-Inventory",
     "points": null,
     "suites": [
      {
       "cases": [
        {
         "code": ">>> out = question_3()\n>>> assert out['total_boxes'] == 38, 'Premium (15) + Standard (23) boxes should equal 38'\n",
         "failure_message": "The total boxes calculation is incorrect.",
         "hidden": false,
         "locked": false,
         "points": 1,
         "success_message": "Premium and Standard boxes are correctly added together."
        },
        {
         "code": ">>> out = question_3()\n>>> assert out['total_reams'] == 48, '12 boxes * 4 reams should equal 48 total reams'\n",
         "failure_message": "Total reams calculation is incorrect.",
         "hidden": false,
         "locked": false,
         "points": 1,
         "success_message": "Total reams calculation is correct."
        },
        {
         "code": ">>> out = question_3()\n>>> assert out['possible_orders'] == 8, '48 boxes divided by 6 boxes per order should equal 8 possible orders'\n",
         "failure_message": "Number of possible orders calculation is incorrect.",
         "hidden": false,
         "locked": false,
         "points": 1,
         "success_message": "Number of possible orders is calculated correctly."
        },
        {
         "code": ">>> out = question_3()\n>>> assert out['leftover_boxes'] == 2, '17 boxes modulo 5 salespeople should equal 2 leftover boxes'\n",
         "failure_message": "Leftover boxes calculation is incorrect.",
         "hidden": false,
         "locked": false,
         "points": 1,
         "success_message": "Leftover boxes calculation is correct."
        },
        {
         "code": ">>> import io\n>>> import sys\n>>> captured_output = io.StringIO()\n>>> original_stdout = sys.stdout\n>>> sys.stdout = captured_output\n>>> question_3()\n>>> sys.stdout = original_stdout\n>>> printed_value = captured_output.getvalue().strip()\n>>> expected_print_value = 'Total boxes: 38\\nTotal reams: 48\\nPossible orders: 8\\nLeftover boxes: 2'\n>>> assert printed_value == expected_print_value, f\"The print function should output '{expected_print_value}', but got '{printed_value}'.\"\n",
         "failure_message": "The printed output does not match the expected inventory values.",
         "hidden": false,
         "locked": false,
         "points": 2,
         "success_message": "All inventory values were printed correctly."
        }
       ],
       "scored": true,
       "setup": "",
       "teardown": "",
       "type": "doctest"
      }
     ]
    }
   }
  }
 },
 "nbformat": 4,
 "nbformat_minor": 5
}
