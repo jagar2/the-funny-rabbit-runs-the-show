{
 "cells": [
  {
   "cell_type": "markdown",
   "id": "0",
   "metadata": {},
   "source": [
    "# 📖 Python Programming Language 🐍\n",
    "\n",
    "![](./assets/figures/what_is_python.webp)"
   ]
  },
  {
   "cell_type": "markdown",
   "id": "1",
   "metadata": {},
   "source": [
    "## What is Python?\n",
    "\n",
    "Python is a programming language—a set of instructions that you write to communicate with a computer and make it perform tasks. Think of Python as a tool that translates your ideas into something a computer can understand and execute. It’s widely used because it’s beginner-friendly, versatile, and incredibly powerful.\n",
    "\n",
    "Python is considered a **high-level programming language**. Other examples of high-level languages you might have heard of include **C++, Java, C#, PHP**, and **Pascal**. But what does \"high-level\" mean?\n"
   ]
  },
  {
   "cell_type": "markdown",
   "id": "2",
   "metadata": {},
   "source": [
    "## High-Level vs. Low-Level Languages\n"
   ]
  },
  {
   "cell_type": "markdown",
   "id": "3",
   "metadata": {},
   "source": [
    "### Low-Level Languages\n",
    "\n",
    "- These are closer to the raw hardware of the computer. They are also called **machine languages** or **assembly languages**.\n",
    "- Low-level languages are made up of basic instructions the computer’s processor understands directly (like turning switches on and off).\n",
    "- Writing programs in low-level languages can be very tedious, error-prone, and hard to understand.\n"
   ]
  },
  {
   "cell_type": "markdown",
   "id": "4",
   "metadata": {},
   "source": [
    "### High-Level Languages\n",
    "\n",
    "- High-level languages like Python allow you to write instructions in a way that is closer to human language, such as English.\n",
    "- They simplify programming by handling complex details like memory management and hardware communication behind the scenes.\n",
    "\n",
    "For example:\n",
    "\n",
    "- **Low-Level Code** (Machine language): `10110000 01100001`\n",
    "- **High-Level Code** (Python): `print(\"Hello, World!\")`\n",
    "\n",
    "Programs written in high-level languages like Python need to be **translated** into a low-level language before the computer can execute them. This translation is handled by a tool called an **interpreter** or a **compiler**.\n"
   ]
  },
  {
   "cell_type": "markdown",
   "id": "5",
   "metadata": {},
   "source": [
    "## Why Use Python?\n",
    "\n",
    "High-level languages like Python are popular because of their many advantages:\n"
   ]
  },
  {
   "cell_type": "markdown",
   "id": "6",
   "metadata": {},
   "source": [
    "1. **Easy to Learn**: Python’s syntax is simple, readable, and close to plain English, making it a great first programming language."
   ]
  },
  {
   "cell_type": "markdown",
   "id": "7",
   "metadata": {},
   "source": [
    "2. **Faster Development**: Programs written in Python take less time to create because you can focus on solving problems rather than managing complex details."
   ]
  },
  {
   "cell_type": "markdown",
   "id": "8",
   "metadata": {},
   "source": [
    "3. **More Reliable**: Python code is easier to debug and maintain, which helps ensure the program is correct and reliable."
   ]
  },
  {
   "cell_type": "markdown",
   "id": "9",
   "metadata": {},
   "source": [
    "4. **Portable**: A Python program can run on different types of computers with little to no modification, from laptops to servers, and even smartphones.\n",
    "\n"
   ]
  },
  {
   "cell_type": "markdown",
   "id": "10",
   "metadata": {},
   "source": [
    "## How Does Python Work?\n",
    "\n",
    "Python uses a tool called the **Python Interpreter**, which is like the engine of the language. It translates and runs your Python code step by step.\n"
   ]
  },
  {
   "cell_type": "markdown",
   "id": "11",
   "metadata": {},
   "source": [
    "### Two Ways to Use Python:\n"
   ]
  },
  {
   "cell_type": "markdown",
   "id": "12",
   "metadata": {},
   "source": [
    "1. **Immediate Mode (Interactive Mode)**:\n",
    "\n",
    "- In this mode, you type Python commands directly, and the interpreter immediately executes them.\n",
    "- Think of it like a calculator: You type `2 + 2`, and it instantly gives you `4`.\n",
    "\n",
    "Example:\n"
   ]
  },
  {
   "cell_type": "code",
   "execution_count": null,
   "id": "13",
   "metadata": {},
   "outputs": [],
   "source": [
    "print(\"Hello, World!\")"
   ]
  },
  {
   "cell_type": "markdown",
   "id": "14",
   "metadata": {},
   "source": []
  },
  {
   "cell_type": "markdown",
   "id": "15",
   "metadata": {},
   "source": [
    "2. **Script Mode**:\n",
    "\n",
    "- In this mode, you write a program (a series of instructions) in a file, save it, and then run the whole program at once.\n",
    "- This is useful for creating longer, reusable programs.\n",
    "\n",
    "Example:\n"
   ]
  },
  {
   "cell_type": "code",
   "execution_count": null,
   "id": "16",
   "metadata": {},
   "outputs": [],
   "source": [
    "# Save this in a file called hello.py\n",
    "print(\"Hello, Drexel University!\")"
   ]
  },
  {
   "cell_type": "markdown",
   "id": "17",
   "metadata": {},
   "source": [
    "\n",
    "Then run the file, and Python will execute it:\n",
    "\n",
    "```\n",
    "$ python hello.py\n",
    "Hello, Drexel University!\n",
    "```\n",
    "\n"
   ]
  },
  {
   "cell_type": "markdown",
   "id": "18",
   "metadata": {},
   "source": [
    "## Why Python is Everywhere\n",
    "\n",
    "Python is more than just a programming language—it’s a tool used by scientists, engineers, artists, and business professionals across all disciplines. At Drexel University, you might see Python being used to:\n",
    "\n",
    "- **Analyze data** in biology or public health.\n",
    "- **Model structures** in engineering.\n",
    "- **Simulate financial models** in business.\n",
    "- **Create art** in digital media programs.\n",
    "\n",
    "Python is like a Swiss Army knife for programming, with tools and libraries that make it adaptable to almost any problem.\n",
    "\n"
   ]
  },
  {
   "cell_type": "markdown",
   "id": "19",
   "metadata": {},
   "source": [
    "## Your First Steps\n",
    "\n",
    "By learning Python, you’re not just learning to code—you’re learning how to solve problems, think critically, and create solutions. Whether you’re in engineering, science, or the arts, Python equips you with the skills to shape the future. Let’s dive in!"
   ]
  }
 ],
 "metadata": {
  "language_info": {
   "name": "python"
  }
 },
 "nbformat": 4,
 "nbformat_minor": 5
}
