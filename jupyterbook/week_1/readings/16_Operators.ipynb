{
 "cells": [
  {
   "cell_type": "markdown",
   "id": "0",
   "metadata": {},
   "source": [
    "# 📖 🏈 Python Operators \n",
    "\n",
    "![](./assets/figures/tush.jpg)"
   ]
  },
  {
   "cell_type": "markdown",
   "id": "1",
   "metadata": {},
   "source": [
    "## 🦅 Introduction to Operators: \"The Eagles Playbook\"\n",
    "\n",
    "In football, the right play can make or break the game. In Python, **operators** are the plays—they define how data interacts to achieve the goal (a touchdown, or successful code execution).\n",
    "\n",
    "### **Definition**:\n",
    "An operator is a symbol or keyword that performs operations on one or more operands (values).\n",
    "\n",
    "### **Categories of Operators**:\n",
    "- Arithmetic\n",
    "- Comparison\n",
    "- Logical\n",
    "- Assignment\n",
    "- Membership\n",
    "- Identity\n",
    "\n",
    "Let's break down each play in the Python Operators Playbook!"
   ]
  },
  {
   "cell_type": "markdown",
   "id": "2",
   "metadata": {},
   "source": [
    "## 🏹 Arithmetic Operators: \"Scoring Touchdowns\"\n",
    "\n",
    "Arithmetic operators help us perform mathematical operations, like scoring points in football.\n",
    "\n",
    "| Operator | Name         | Example      |\n",
    "|----------|--------------|--------------|\n",
    "| `+`      | Addition     | `score + 3`  |\n",
    "| `-`      | Subtraction  | `score - 7`  |\n",
    "| `*`      | Multiplication| `score * 2` |\n",
    "| `/`      | Division     | `yards / 2`  |\n",
    "| `%`      | Modulus      | `yards % 10` |\n",
    "| `**`     | Exponentiation| `power ** 2`|\n",
    "| `//`     | Floor Division| `yards // 3`|\n"
   ]
  },
  {
   "cell_type": "code",
   "execution_count": null,
   "id": "3",
   "metadata": {},
   "outputs": [],
   "source": [
    "# Example: Eagles Game Stats\n",
    "score = 7  # Touchdown\n",
    "field_goal = 3\n",
    "total_points = score + field_goal\n",
    "print(\"Total Points:\", total_points)"
   ]
  },
  {
   "cell_type": "markdown",
   "id": "4",
   "metadata": {},
   "source": [
    "## 🛡️ Comparison Operators: \"Defense on the Field\"\n",
    "\n",
    "Comparison operators help you make decisions—just like an Eagles defensive play, determining if the opponent can advance.\n",
    "\n",
    "| Operator | Name                  | Example           |\n",
    "|----------|-----------------------|-------------------|\n",
    "| `==`     | Equal to              | `score == 7`      |\n",
    "| `!=`     | Not equal to          | `score != 7`      |\n",
    "| `>`      | Greater than          | `yards > 10`      |\n",
    "| `<`      | Less than             | `yards < 10`      |\n",
    "| `>=`     | Greater than or equal to | `yards >= 20` |\n",
    "| `<=`     | Less than or equal to | `yards <= 5`      |\n"
   ]
  },
  {
   "cell_type": "code",
   "execution_count": null,
   "id": "5",
   "metadata": {},
   "outputs": [],
   "source": [
    "# Example: Is the score enough to win?\n",
    "eagles_score = 24\n",
    "opponent_score = 20\n",
    "is_eagles_winning = eagles_score > opponent_score\n",
    "print(\"Eagles Winning?\", is_eagles_winning)"
   ]
  },
  {
   "cell_type": "markdown",
   "id": "6",
   "metadata": {},
   "source": [
    "## 🧠 Logical Operators: \"Playbook Strategies\"\n",
    "\n",
    "Logical operators combine multiple conditions, like planning a perfect pass-and-run play.\n",
    "\n",
    "| Operator | Name    | Example                  |\n",
    "|----------|---------|--------------------------|\n",
    "| `and`    | AND     | `yards > 10 and score > 0` |\n",
    "| `or`     | OR      | `yards > 10 or score > 0` |\n",
    "| `not`    | NOT     | `not (yards > 10)`       |"
   ]
  },
  {
   "cell_type": "code",
   "execution_count": null,
   "id": "7",
   "metadata": {},
   "outputs": [],
   "source": [
    "# Example: Check if both offense and defense are performing\n",
    "offense_points = 24\n",
    "defense_points = 14\n",
    "great_team_performance = offense_points > 20 and defense_points > 10\n",
    "print(\"Great Performance?\", great_team_performance)"
   ]
  },
  {
   "cell_type": "markdown",
   "id": "8",
   "metadata": {},
   "source": [
    "## 📝 Assignment Operators: \"Building a Winning Team\"\n",
    "\n",
    "Assignment operators allow you to update values, like adjusting your lineup for the perfect game.\n",
    "\n",
    "| Operator | Example  | Meaning                  |\n",
    "|----------|----------|--------------------------|\n",
    "| `=`      | `yards = 10` | Assign value         |\n",
    "| `+=`     | `yards += 5` | Add and assign       |\n",
    "| `-=`     | `yards -= 5` | Subtract and assign  |\n",
    "| `*=`     | `yards *= 2` | Multiply and assign  |\n",
    "| `/=`     | `yards /= 2` | Divide and assign    |"
   ]
  },
  {
   "cell_type": "code",
   "execution_count": null,
   "id": "9",
   "metadata": {},
   "outputs": [],
   "source": [
    "# Example: Update total yards\n",
    "yards = 50\n",
    "yards += 20  # Gain 20 yards\n",
    "print(\"Total Yards:\", yards)"
   ]
  },
  {
   "cell_type": "markdown",
   "id": "10",
   "metadata": {},
   "source": [
    "## 🏟️ Membership Operators: \"Who's on the Roster?\"\n",
    "\n",
    "Membership operators check if a player is part of the Eagles' roster.\n",
    "\n",
    "| Operator | Example           | Meaning              |\n",
    "|----------|-------------------|----------------------|\n",
    "| `in`     | `'Hurts' in roster` | Checks membership |\n",
    "| `not in` | `'Brady' not in roster` | Checks absence |\n"
   ]
  },
  {
   "cell_type": "code",
   "execution_count": null,
   "id": "11",
   "metadata": {},
   "outputs": [],
   "source": [
    "# Example: Check if players are on the roster\n",
    "roster = [\"Hurts\", \"Smith\", \"Brown\", \"Kelce\"]\n",
    "print(\"Is Hurts playing?\", \"Hurts\" in roster)\n",
    "print(\"Is Brady playing?\", \"Brady\" not in roster)"
   ]
  },
  {
   "cell_type": "markdown",
   "id": "12",
   "metadata": {},
   "source": [
    "## 🆔 Identity Operators: \"Eagle or Impostor?\"\n",
    "\n",
    "Identity operators check if two values or objects are the same in memory—like confirming if someone is a true Eagles fan.\n",
    "\n",
    "| Operator | Example         | Meaning                  |\n",
    "|----------|-----------------|--------------------------|\n",
    "| `is`     | `player is coach` | Same object identity |\n",
    "| `is not` | `player is not coach` | Different object |\n"
   ]
  },
  {
   "cell_type": "code",
   "execution_count": null,
   "id": "13",
   "metadata": {},
   "outputs": [],
   "source": [
    "# Example: Identity check for Eagles fans\n",
    "fan_1 = \"Eagles\"\n",
    "fan_2 = \"Eagles\"\n",
    "print(\"Are both fans supporting Eagles?\", fan_1 is fan_2)"
   ]
  },
  {
   "cell_type": "markdown",
   "id": "14",
   "metadata": {},
   "source": [
    "## 🦅 Wrap-Up: \"Fly Eagles Fly!\"\n",
    "\n",
    "Python operators, like the Eagles' strategies, are essential for achieving success. Whether you're scoring points with arithmetic or defending your code with comparisons, mastering these operators is your key to programming greatness. Now go build some Python plays!"
   ]
  }
 ],
 "metadata": {
  "kernelspec": {
   "display_name": "engr131_dev",
   "language": "python",
   "name": "python3"
  },
  "language_info": {
   "codemirror_mode": {
    "name": "ipython",
    "version": 3
   },
   "file_extension": ".py",
   "mimetype": "text/x-python",
   "name": "python",
   "nbconvert_exporter": "python",
   "pygments_lexer": "ipython3",
   "version": "3.12.7"
  }
 },
 "nbformat": 4,
 "nbformat_minor": 5
}
