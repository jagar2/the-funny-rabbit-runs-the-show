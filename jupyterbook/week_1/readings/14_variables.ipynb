{
 "cells": [
  {
   "cell_type": "markdown",
   "id": "0",
   "metadata": {},
   "source": [
    "# 📖 📓 Python Variables\n",
    "\n",
    "![](./assets/figures/cheesesteak.webp)"
   ]
  },
  {
   "cell_type": "markdown",
   "id": "1",
   "metadata": {},
   "source": [
    "## 🥨 Introduction to Variables: \"Yo, What's a Variable?\"\n",
    "\n",
    "In Philly terms, a **variable** is like a cheesesteak order: it holds something specific and meaningful (like \"Whiz wit\" means \"Cheesesteak with Cheese Whiz and onions\").\n",
    "\n",
    "### **Definition**:\n",
    "A variable is a named container that stores data, like a string, number, or list.\n",
    "\n",
    "### **Why use variables?**\n",
    "- To organize your code.\n",
    "- To make your code reusable.\n",
    "- To make your data easy to reference and modify.\n"
   ]
  },
  {
   "cell_type": "code",
   "execution_count": null,
   "id": "2",
   "metadata": {},
   "outputs": [],
   "source": [
    "# Example: Philly Cheesesteak Orders\n",
    "order_1 = \"Whiz wit\"\n",
    "order_2 = \"American witout\"\n",
    "print(order_1, \"and\", order_2)"
   ]
  },
  {
   "cell_type": "markdown",
   "id": "3",
   "metadata": {},
   "source": [
    "## 🏙️ Variable Naming Rules: \"Keep it Respectable Like the Liberty Bell\"\n",
    "\n",
    "### **Rules for Naming Variables**:\n",
    "1. Must start with a letter or underscore (`_`).\n",
    "2. Can include letters, numbers, and underscores, but no spaces or special characters.\n",
    "3. Are case-sensitive (`hoagie` and `Hoagie` are different).\n",
    "4. Use descriptive names (don’t be like a lost tourist at the Italian Market)."
   ]
  },
  {
   "cell_type": "code",
   "execution_count": null,
   "id": "4",
   "metadata": {},
   "outputs": [],
   "source": [
    "# Good Variable Name\n",
    "hoagie_order = \"Italian with extra peppers\"\n",
    "\n",
    "# Bad Variable Name\n",
    "x = \"What kind of order is this?\""
   ]
  },
  {
   "cell_type": "markdown",
   "id": "5",
   "metadata": {},
   "source": [
    "## ⚾ Variable Types: \"From Soft Pretzels to Phillies Home Runs\"\n",
    "\n",
    "In Python, variables can hold different **data types**. Here’s a quick rundown:\n",
    "\n",
    "### **Common Variable Types**:\n",
    "1. **Integer (`int`)**: Whole numbers, like the number of pretzels in your bag.\n",
    "2. **Float (`float`)**: Numbers with decimals, like the price of a cheesesteak.\n",
    "3. **String (`str`)**: Text, like the names of Philly landmarks.\n",
    "4. **Boolean (`bool`)**: True/False, like \"Is Wawa the best? True.\"\n",
    "5. **List (`list`)**: A collection, like all your favorite toppings."
   ]
  },
  {
   "cell_type": "code",
   "execution_count": null,
   "id": "6",
   "metadata": {},
   "outputs": [],
   "source": [
    "# Examples\n",
    "pretzel_count = 5  # Integer\n",
    "cheesesteak_price = 12.99  # Float\n",
    "landmark = \"Liberty Bell\"  # String\n",
    "is_wawa_best = True  # Boolean\n",
    "favorite_toppings = [\"onions\", \"peppers\", \"mushrooms\"]  # List"
   ]
  },
  {
   "cell_type": "markdown",
   "id": "7",
   "metadata": {},
   "source": [
    "## 🚊 Assigning Variables: \"Catch the SEPTA of Python Logic\"\n",
    "\n",
    "You can assign values to variables using the `=` operator. It’s like deciding your subway route: Broad Street Line or Market-Frankford Line?\n"
   ]
  },
  {
   "cell_type": "code",
   "execution_count": null,
   "id": "8",
   "metadata": {},
   "outputs": [],
   "source": [
    "# Broad Street Line Cheesesteak\n",
    "broad_st_line = \"Pat's\"\n",
    "\n",
    "# Market-Frankford Line Cheesesteak\n",
    "market_frankford_line = \"Geno's\""
   ]
  },
  {
   "cell_type": "markdown",
   "id": "9",
   "metadata": {},
   "source": [
    "## 🛶 Variable Reassignment: \"Change It Up Like the Schuylkill River Tide\"\n",
    "\n",
    "Variables can change their value during the program.\n"
   ]
  },
  {
   "cell_type": "code",
   "execution_count": null,
   "id": "10",
   "metadata": {},
   "outputs": [],
   "source": [
    "favorite_sport = \"Baseball\"  # Phillies!\n",
    "print(\"Favorite sport:\", favorite_sport)\n",
    "\n",
    "# Changing the value\n",
    "favorite_sport = \"Football\"  # Eagles!\n",
    "print(\"Updated favorite sport:\", favorite_sport)"
   ]
  },
  {
   "cell_type": "markdown",
   "id": "11",
   "metadata": {},
   "source": [
    "## 🍕 Multi-Variable Assignment: \"Jawn Everything at Once\"\n",
    "\n",
    "In Philly, \"jawn\" means anything and everything. Python lets you assign multiple variables at once, like grabbing everything you need for a South Philly tailgate.\n"
   ]
  },
  {
   "cell_type": "code",
   "execution_count": null,
   "id": "12",
   "metadata": {},
   "outputs": [],
   "source": [
    "# Assigning multiple variables at once\n",
    "hoagie, pretzel, soda = \"Italian\", \"Soft Pretzel\", \"Birch Beer\"\n",
    "print(hoagie, pretzel, soda)"
   ]
  },
  {
   "cell_type": "markdown",
   "id": "13",
   "metadata": {},
   "source": [
    "## 🏆 Constants: \"Always True Like Rocky Balboa\"\n",
    "\n",
    "Constants are variables that don’t change (by convention, written in all caps).\n"
   ]
  },
  {
   "cell_type": "code",
   "execution_count": null,
   "id": "14",
   "metadata": {},
   "outputs": [],
   "source": [
    "# Example: Philly's Famous Landmark\n",
    "CITY = \"Philadelphia\"\n",
    "BEST_FOOD = \"Cheesesteak\""
   ]
  },
  {
   "cell_type": "markdown",
   "id": "15",
   "metadata": {},
   "source": [
    "## 🛠️ Variable Type Conversion: \"Switch It Up Like a Philly Foodie\"\n",
    "\n",
    "Sometimes, you need to convert variables to a different type.\n"
   ]
  },
  {
   "cell_type": "code",
   "execution_count": null,
   "id": "16",
   "metadata": {},
   "outputs": [],
   "source": [
    "# Example: Pretzel Math\n",
    "pretzel_price = \"2.50\"  # String\n",
    "total_price = float(pretzel_price) * 3  # Convert to float and calculate\n",
    "print(\"Total price for 3 pretzels: $\", total_price)"
   ]
  },
  {
   "cell_type": "markdown",
   "id": "17",
   "metadata": {},
   "source": [
    "## 🎨 Fun Philly Example: Build Your Cheesesteak\n",
    "\n",
    "Here’s a fun example where you build a cheesesteak order using variables:\n"
   ]
  },
  {
   "cell_type": "code",
   "execution_count": null,
   "id": "18",
   "metadata": {},
   "outputs": [],
   "source": [
    "# Build your Philly Cheesesteak\n",
    "bread = \"Amoroso roll\"\n",
    "meat = \"ribeye steak\"\n",
    "cheese = \"Cheez Whiz\"\n",
    "toppings = [\"fried onions\", \"mushrooms\"]\n",
    "\n",
    "# Display the order\n",
    "print(\"Your cheesesteak order:\")\n",
    "print(f\"Base: {bread}, {meat}, with {cheese} and toppings: {', '.join(toppings)}\")"
   ]
  }
 ],
 "metadata": {
  "kernelspec": {
   "display_name": "engr131_dev",
   "language": "python",
   "name": "python3"
  },
  "language_info": {
   "codemirror_mode": {
    "name": "ipython",
    "version": 3
   },
   "file_extension": ".py",
   "mimetype": "text/x-python",
   "name": "python",
   "nbconvert_exporter": "python",
   "pygments_lexer": "ipython3",
   "version": "3.12.7"
  }
 },
 "nbformat": 4,
 "nbformat_minor": 5
}
