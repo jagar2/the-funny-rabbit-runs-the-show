{
 "cells": [
  {
   "cell_type": "code",
   "execution_count": null,
   "metadata": {
    "deletable": false,
    "editable": false,
    "tags": [
     "skip-execution"
    ]
   },
   "outputs": [],
   "source": [
    "# You must make sure to run all cells in sequence using shift + enter or you might encounter errors\n",
    "from pykubegrader.initialize import initialize_assignment\n",
    "\n",
    "responses = initialize_assignment(\"17_operators_q\", \"week_1\", \"readings\", assignment_points = 18.0, assignment_tag = 'week1-readings')\n",
    "\n",
    "# Initialize Otter\n",
    "import otter\n",
    "grader = otter.Notebook(\"17_operators_q.ipynb\")"
   ]
  },
  {
   "cell_type": "markdown",
   "metadata": {
    "deletable": false,
    "editable": false
   },
   "source": [
    "# ❓Python Operators\n",
    "\n",
    "![](./assets/figures/dragon-dining.webp)"
   ]
  },
  {
   "cell_type": "code",
   "execution_count": null,
   "metadata": {
    "tags": [
     "skip-execution"
    ]
   },
   "outputs": [],
   "source": [
    "# Run this block of code by pressing Shift + Enter to display the question\n",
    "from questions._17_operators_q import Question1\n",
    "Question1().show()\n"
   ]
  },
  {
   "cell_type": "code",
   "execution_count": null,
   "metadata": {
    "tags": [
     "skip-execution"
    ]
   },
   "outputs": [],
   "source": [
    "# Run this block of code by pressing Shift + Enter to display the question\n",
    "from questions._17_operators_q import Question2\n",
    "Question2().show()\n"
   ]
  },
  {
   "cell_type": "code",
   "execution_count": null,
   "metadata": {
    "tags": [
     "skip-execution"
    ]
   },
   "outputs": [],
   "source": [
    "# Run this block of code by pressing Shift + Enter to display the question\n",
    "from questions._17_operators_q import Question3\n",
    "Question3().show()\n"
   ]
  },
  {
   "cell_type": "markdown",
   "metadata": {
    "deletable": false,
    "editable": false
   },
   "source": [
    "## Instructions\n",
    "\n",
    "**\"Mario the Dragon and the Handschumacher Dining Center Feast\"**\n",
    "\n",
    "Mario, the dragon mascot of Drexel, loves the Handschumacher Dining Center. Every week, he calculates his meal consumption to plan his legendary feasts. Mario knows he eats **21 meals per week** (3 meals per day for 7 days). However, Mario is curious about how his meal plan aligns with his love of sharing.\n",
    "\n",
    "Write a function named `mario_meal_plan()` that:\n",
    "1. **Calculates the total number of meals Mario eats in a week.**\n",
    "2. **Determines if the total meals can be split evenly among his 6 dragon friends** (including himself).  \n",
    "3. **Returns a string with the results**. If the meals are evenly distributed, the string should say:  \n",
    "   `\"Mario's meals divide evenly among 6 dragons, with each dragon eating X meals.\"`  \n",
    "   Otherwise, the string should say:  \n",
    "   `\"Mario's meals do not divide evenly among 6 dragons, leaving Y extra meals.\"`  \n",
    "\n",
    "### Example Outputs:\n",
    "- `\"Mario's meals divide evenly among 6 dragons, with each dragon eating 3 meals.\"`\n",
    "- `\"Mario's meals do not divide evenly among 6 dragons, leaving 1 extra meal.\"`\n"
   ]
  },
  {
   "cell_type": "code",
   "execution_count": null,
   "metadata": {
    "tags": [
     "skip-execution"
    ]
   },
   "outputs": [],
   "source": [
    "# Calculate total meals Mario eats in a week, save as a variable `total_meals`\n",
    "total_meals = ...\n",
    "\n",
    "# Number of dragons including Mario, save as a variable `num_dragons`\n",
    "num_dragons = ...\n",
    "\n",
    "# Calculate meals per dragon and any remainder \n",
    "# names `meals_per_dragon` and `leftover_meals` respectively\n",
    "...\n",
    "\n",
    "# Do Not Change the print statement\n",
    "# Determine result message\n",
    "if leftover_meals == 0:\n",
    "    print(f\"Mario's meals divide evenly among 6 dragons, with each dragon eating {meals_per_dragon} meals.\")\n",
    "else:\n",
    "    print(f\"Mario's meals do not divide evenly among 6 dragons, leaving {leftover_meals} extra meals.\")"
   ]
  },
  {
   "cell_type": "code",
   "execution_count": null,
   "metadata": {
    "deletable": false,
    "editable": false,
    "tags": [
     "skip-execution"
    ]
   },
   "outputs": [],
   "source": [
    "grader.check(\"question-operators-mario-dining\")"
   ]
  },
  {
   "cell_type": "markdown",
   "id": "8",
   "metadata": {},
   "source": [
    "## Submitting Assignment\n",
    "\n",
    "Please run the following block of code using `shift + enter` to submit your assignment, you should see your score."
   ]
  },
  {
   "cell_type": "code",
   "execution_count": null,
   "id": "9",
   "metadata": {
    "deletable": false,
    "editable": false,
    "tags": [
     "skip-execution"
    ]
   },
   "outputs": [],
   "source": [
    "from pykubegrader.submit.submit_assignment import submit_assignment\n",
    "\n",
    "submit_assignment(\"week1-readings\", \"17_operators_q\")"
   ]
  }
 ],
 "metadata": {
  "kernelspec": {
   "display_name": "engr131_dev",
   "language": "python",
   "name": "python3"
  },
  "language_info": {
   "codemirror_mode": {
    "name": "ipython",
    "version": 3
   },
   "file_extension": ".py",
   "mimetype": "text/x-python",
   "name": "python",
   "nbconvert_exporter": "python",
   "pygments_lexer": "ipython3",
   "version": "3.12.7"
  },
  "otter": {
   "OK_FORMAT": true,
   "tests": {
    "question-operators-mario-dining": {
     "name": "question-operators-mario-dining",
     "points": null,
     "suites": [
      {
       "cases": [
        {
         "code": ">>> from pykubegrader.telemetry import ensure_responses, log_variable, score_question, submit_question, telemetry, update_responses\n>>> import os\n>>> max_question_points = str(4.0)\n>>> earned_points = 0\n>>> os.environ['EARNED_POINTS'] = str(earned_points)\n>>> os.environ['TOTAL_POINTS_FREE_RESPONSE'] = str(4.0)\n>>> log_variable('total-points', f'Reading-Week-X, 17_operators_q', 4.0)\n>>> question_id = 'question-operators-mario-dining-1'\n>>> max_score = 0.5\n>>> score = 0\n>>> assert total_meals == 21, 'The variable `total_meals` should be 21.'\n>>> if total_meals == 21:\n...     score = 0.5\n>>> earned_points = float(os.environ.get('EARNED_POINTS', 0))\n>>> earned_points += score\n>>> log_variable('17_operators_q', f'{score}, {max_score}', question_id)\n>>> os.environ['EARNED_POINTS'] = str(earned_points)\n",
         "failure_message": "The variable `total_meals` is incorrect.",
         "hidden": false,
         "locked": false,
         "points": 0.5,
         "success_message": "Correctly assigned the variable `total_meals`."
        },
        {
         "code": ">>> from pykubegrader.telemetry import ensure_responses, log_variable, score_question, submit_question, telemetry, update_responses\n>>> import os\n>>> question_id = 'question-operators-mario-dining-2'\n>>> max_score = 0.5\n>>> score = 0\n>>> assert num_dragons == 6, 'The variable `num_dragons` should be 6.'\n>>> if num_dragons == 6:\n...     score = 0.5\n>>> earned_points = float(os.environ.get('EARNED_POINTS', 0))\n>>> earned_points += score\n>>> log_variable('17_operators_q', f'{score}, {max_score}', question_id)\n>>> os.environ['EARNED_POINTS'] = str(earned_points)\n",
         "failure_message": "The variable `num_dragons` is incorrect.",
         "hidden": false,
         "locked": false,
         "points": 0.5,
         "success_message": "Correctly assigned the variable `num_dragons`."
        },
        {
         "code": ">>> from pykubegrader.telemetry import ensure_responses, log_variable, score_question, submit_question, telemetry, update_responses\n>>> import os\n>>> question_id = 'question-operators-mario-dining-3'\n>>> max_score = 1.0\n>>> score = 0\n>>> assert meals_per_dragon == 3, 'The variable `meals_per_dragon` should be 3.'\n>>> if meals_per_dragon == 3:\n...     score = 1.0\n>>> earned_points = float(os.environ.get('EARNED_POINTS', 0))\n>>> earned_points += score\n>>> log_variable('17_operators_q', f'{score}, {max_score}', question_id)\n>>> os.environ['EARNED_POINTS'] = str(earned_points)\n",
         "failure_message": "The variable `meals_per_dragon` is incorrect.",
         "hidden": false,
         "locked": false,
         "points": 1,
         "success_message": "Correctly calculated `meals_per_dragon`."
        },
        {
         "code": ">>> from pykubegrader.telemetry import ensure_responses, log_variable, score_question, submit_question, telemetry, update_responses\n>>> import os\n>>> question_id = 'question-operators-mario-dining-4'\n>>> max_score = 1.0\n>>> score = 0\n>>> assert leftover_meals == 3, 'The variable `leftover_meals` should be 3.'\n>>> if leftover_meals == 3:\n...     score = 1.0\n>>> earned_points = float(os.environ.get('EARNED_POINTS', 0))\n>>> earned_points += score\n>>> log_variable('17_operators_q', f'{score}, {max_score}', question_id)\n>>> os.environ['EARNED_POINTS'] = str(earned_points)\n",
         "failure_message": "The variable `leftover_meals` is incorrect.",
         "hidden": false,
         "locked": false,
         "points": 1,
         "success_message": "Correctly calculated `leftover_meals`."
        },
        {
         "code": ">>> from pykubegrader.telemetry import ensure_responses, log_variable, score_question, submit_question, telemetry, update_responses\n>>> import os\n>>> question_id = 'question-operators-mario-dining-5'\n>>> max_score = 1.0\n>>> score = 0\n>>> assert f\"Mario's meals do not divide evenly among 6 dragons, leaving {leftover_meals} extra meals.\" == \"Mario's meals do not divide evenly among 6 dragons, leaving 3 extra meals.\", 'The print statement is incorrect.'\n>>> if f\"Mario's meals do not divide evenly among 6 dragons, leaving {leftover_meals} extra meals.\" == \"Mario's meals do not divide evenly among 6 dragons, leaving 3 extra meals.\":\n...     score = 1.0\n>>> earned_points = float(os.environ.get('EARNED_POINTS', 0))\n>>> earned_points += score\n>>> log_variable('17_operators_q', f'{score}, {max_score}', question_id)\n>>> os.environ['EARNED_POINTS'] = str(earned_points)\n",
         "failure_message": "print statement is incorrect",
         "hidden": false,
         "locked": false,
         "points": 1,
         "success_message": "print statement is correct"
        }
       ],
       "scored": true,
       "setup": "",
       "teardown": "",
       "type": "doctest"
      }
     ]
    }
   }
  }
 },
 "nbformat": 4,
 "nbformat_minor": 2
}
