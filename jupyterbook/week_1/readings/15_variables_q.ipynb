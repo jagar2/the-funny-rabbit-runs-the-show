{
 "cells": [
  {
   "cell_type": "code",
   "execution_count": null,
   "metadata": {
    "deletable": false,
    "editable": false,
    "tags": [
     "skip-execution"
    ]
   },
   "outputs": [],
   "source": [
    "# You must make sure to run all cells in sequence using shift + enter or you might encounter errors\n",
    "from pykubegrader.initialize import initialize_assignment\n",
    "\n",
    "responses = initialize_assignment(\"15_variables_q\", \"week_1\", \"readings\", assignment_points = 10.0, assignment_tag = 'week1-readings')\n",
    "\n",
    "# Initialize Otter\n",
    "import otter\n",
    "grader = otter.Notebook(\"15_variables_q.ipynb\")"
   ]
  },
  {
   "cell_type": "markdown",
   "metadata": {},
   "source": [
    "# ❓ Variables\n",
    "\n",
    "![](./assets/figures/dining.webp)"
   ]
  },
  {
   "cell_type": "raw",
   "metadata": {
    "vscode": {
     "languageId": "raw"
    }
   },
   "source": [
    "# Run this block of code by pressing Shift + Enter to display the question\n",
    "from questions._15_variables_q import Question1\n",
    "Question1().show()\n"
   ]
  },
  {
   "cell_type": "code",
   "execution_count": null,
   "metadata": {
    "tags": [
     "skip-execution"
    ]
   },
   "outputs": [],
   "source": [
    "# Run this block of code by pressing Shift + Enter to display the question\n",
    "from questions._15_variables_q import Question3\n",
    "Question3().show()\n"
   ]
  },
  {
   "cell_type": "code",
   "execution_count": null,
   "metadata": {
    "tags": [
     "skip-execution"
    ]
   },
   "outputs": [],
   "source": [
    "# Run this block of code by pressing Shift + Enter to display the question\n",
    "from questions._15_variables_q import Question4\n",
    "Question4().show()\n"
   ]
  },
  {
   "cell_type": "markdown",
   "metadata": {},
   "source": [
    "## Descriptive-Variable-Names\n",
    "### **Why are descriptive variable names recommended?**\n",
    "\n",
    "#### OPTIONS\n",
    "To make the program run faster  \n",
    "To make the code easier to understand and maintain  \n",
    "To avoid syntax errors in Python  \n",
    "To ensure compatibility with older Python versions  \n",
    "\n",
    "#### SOLUTION\n",
    "To make the code easier to understand and maintain\n",
    "\n"
   ]
  },
  {
   "cell_type": "markdown",
   "metadata": {},
   "source": [
    "## Converting-Variable-Types\n",
    "### **What is an example of converting variable types in Python, as shown in the notebook?**\n",
    "\n",
    "#### OPTIONS\n",
    "Assigning a float to a variable that previously held a string  \n",
    "Using the `float()` function to convert a string to a numeric type  \n",
    "Using a new variable name for a different type of value  \n",
    "Concatenating a number with a string  \n",
    "\n",
    "#### SOLUTION\n",
    "Using the `float()` function to convert a string to a numeric type\n"
   ]
  },
  {
   "cell_type": "raw",
   "metadata": {
    "vscode": {
     "languageId": "raw"
    }
   },
   "source": [
    "# END MULTIPLE CHOICE"
   ]
  },
  {
   "cell_type": "raw",
   "metadata": {
    "vscode": {
     "languageId": "raw"
    }
   },
   "source": [
    "# BEGIN SELECT MANY\n",
    "## points: 4\n",
    "## title: Select All That Apply\n",
    "## question number: 3\n",
    "## grade: parts"
   ]
  },
  {
   "cell_type": "markdown",
   "metadata": {},
   "source": [
    "## Rules-for-Naming-Variables  \n",
    "### **Which of these rules are correct for naming variables in Python?** (Select all that apply)  \n",
    "\n",
    "#### OPTIONS  \n",
    "Variables must start with a letter or an underscore (`_`).  \n",
    "Variables can contain spaces.  \n",
    "Variable names are case-sensitive.  \n",
    "Variables can include numbers but cannot start with them.  \n",
    "\n",
    "#### SOLUTION  \n",
    "Variables must start with a letter or an underscore (`_`).  \n",
    "Variable names are case-sensitive.  \n",
    "Variables can include numbers but cannot start with them.  \n"
   ]
  },
  {
   "cell_type": "markdown",
   "metadata": {},
   "source": [
    "## Multi-Variable-Assignment  \n",
    "### **Which of the following illustrate multi-variable assignment in Python?** (Select all that apply)  \n",
    "\n",
    "#### OPTIONS  \n",
    "`a, b, c = 1, 2, 3`  \n",
    "`a = b = c = 0`  \n",
    "`a = 1; b = 2; c = 3`  \n",
    "`a, b = 1 2`  \n",
    "\n",
    "#### SOLUTION  \n",
    "`a, b, c = 1, 2, 3`  \n",
    "`a = b = c = 0`  \n"
   ]
  },
  {
   "cell_type": "raw",
   "metadata": {
    "vscode": {
     "languageId": "raw"
    }
   },
   "source": [
    "# END SELECT MANY"
   ]
  },
  {
   "cell_type": "raw",
   "metadata": {},
   "source": [
    "# BEGIN TF\n",
    "## points: 1\n",
    "## title: Fill in the Blank with the Best Answer\n",
    "## question number: 3"
   ]
  },
  {
   "cell_type": "raw",
   "metadata": {
    "vscode": {
     "languageId": "raw"
    }
   },
   "source": [
    "## True/False Questions\n",
    "\n",
    "### **Constants in Python are enforced by the interpreter to never change their values.**\n",
    "\n",
    "#### SOLUTION\n",
    "False\n",
    "\n"
   ]
  },
  {
   "cell_type": "raw",
   "metadata": {
    "vscode": {
     "languageId": "raw"
    }
   },
   "source": [
    "# END TF"
   ]
  },
  {
   "cell_type": "raw",
   "metadata": {},
   "source": [
    "# ASSIGNMENT CONFIG\n",
    "solutions_pdf: true\n",
    "generate: \n",
    "    pdf: true\n",
    "    filtering: true\n",
    "    pagebreaks: true\n",
    "    zips: false"
   ]
  },
  {
   "cell_type": "raw",
   "metadata": {},
   "source": [
    "# BEGIN QUESTION\n",
    "name: question-Waterboy-statue-variables"
   ]
  },
  {
   "cell_type": "markdown",
   "metadata": {},
   "source": [
    "# Mario’s Dining Center Routine 🍽️🐉\n",
    "\n",
    "## Instructions:\n",
    "\n",
    "1. Create the following variables:\n",
    "\n",
    "   - `dining_center`: A string storing the name of the dining center (\"Handschumacher Dining Center\").\n",
    "   - `mascot`: A string storing the name of the mascot (\"Mario the Dragon\").\n",
    "   - `meals_per_day`: An integer representing the number of meals Mario eats per day (3).\n",
    "   - `total_days`: An integer representing the number of days Mario eats at the dining center in a week (7).\n",
    "   - `total_meals`: Use an arithmetic operator to calculate the total number of meals Mario eats in a week.\n",
    "   - `dragons`: An integer representing the number of dragons Mario wants to share his meals with (6)."
   ]
  },
  {
   "cell_type": "raw",
   "metadata": {},
   "source": [
    "# BEGIN SOLUTION"
   ]
  },
  {
   "cell_type": "code",
   "execution_count": null,
   "metadata": {},
   "outputs": [],
   "source": [
    "def mario_dining_center():\n",
    "\n",
    "    # Define the variables\n",
    "    # BEGIN SOLUTION\n",
    "    dining_center = \"Handschumacher Dining Center\"\n",
    "    mascot = \"Mario the Dragon\"\n",
    "    meals_per_day = 3\n",
    "    total_days = 7\n",
    "    total_meals = meals_per_day * total_days\n",
    "    dragons = 6\n",
    "    meals_per_dragon = total_meals // dragons\n",
    "    leftover_meals = total_meals % dragons\n",
    "    # END SOLUTION\n",
    "\n",
    "    return (\n",
    "        dining_center,\n",
    "        mascot,\n",
    "        meals_per_day,\n",
    "        total_days,\n",
    "        total_meals,\n",
    "        dragons,\n",
    "    )\n",
    "\n",
    "\n",
    "(\n",
    "    dining_center,\n",
    "    mascot,\n",
    "    meals_per_day,\n",
    "    total_days,\n",
    "    total_meals,\n",
    "    dragons,\n",
    ") = mario_dining_center()"
   ]
  },
  {
   "cell_type": "raw",
   "metadata": {},
   "source": [
    "# END SOLUTION"
   ]
  },
  {
   "cell_type": "markdown",
   "id": "21",
   "metadata": {},
   "source": [
    "## Submitting Assignment\n",
    "\n",
    "Please run the following block of code using `shift + enter` to submit your assignment, you should see your score."
   ]
  },
  {
   "cell_type": "code",
   "execution_count": null,
   "id": "22",
   "metadata": {
    "deletable": false,
    "editable": false,
    "tags": [
     "skip-execution"
    ]
   },
   "outputs": [],
   "source": [
    "from pykubegrader.submit.submit_assignment import submit_assignment\n",
    "\n",
    "submit_assignment(\"week1-readings\", \"15_variables_q\")"
   ]
  }
 ],
 "metadata": {
  "kernelspec": {
   "display_name": "engr131_dev",
   "language": "python",
   "name": "python3"
  },
  "language_info": {
   "codemirror_mode": {
    "name": "ipython",
    "version": 3
   },
   "file_extension": ".py",
   "mimetype": "text/x-python",
   "name": "python",
   "nbconvert_exporter": "python",
   "pygments_lexer": "ipython3",
   "version": "3.12.7"
  },
  "otter": {
   "OK_FORMAT": true,
   "tests": {
    "question-Mario-Dining-room": {
     "name": "question-Mario-Dining-room",
     "points": null,
     "suites": [
      {
       "cases": [
        {
         "code": ">>> from pykubegrader.telemetry import ensure_responses, log_variable, score_question, submit_question, telemetry, update_responses\n>>> import os\n>>> max_question_points = str(3.0)\n>>> earned_points = 0\n>>> os.environ['EARNED_POINTS'] = str(earned_points)\n>>> os.environ['TOTAL_POINTS_FREE_RESPONSE'] = str(3.0)\n>>> log_variable('total-points', f'Reading-Week-X, 15_variables_q', 3.0)\n>>> question_id = 'question-Mario-Dining-room-1'\n>>> max_score = 1.0\n>>> score = 0\n>>> dining_center, _, _, _, _, _ = mario_dining_center()\n>>> assert dining_center == 'Handschumacher Dining Center', 'Variable `dining_center` is incorrect.'\n>>> if dining_center == 'Handschumacher Dining Center':\n...     score = 1.0\n>>> earned_points = float(os.environ.get('EARNED_POINTS', 0))\n>>> earned_points += score\n>>> log_variable('15_variables_q', f'{score}, {max_score}', question_id)\n>>> os.environ['EARNED_POINTS'] = str(earned_points)\n",
         "failure_message": "The `dining_center` variable is incorrect.",
         "hidden": false,
         "locked": false,
         "points": 1,
         "success_message": "Correctly assigned the `dining_center` variable."
        },
        {
         "code": ">>> from pykubegrader.telemetry import ensure_responses, log_variable, score_question, submit_question, telemetry, update_responses\n>>> import os\n>>> question_id = 'question-Mario-Dining-room-2'\n>>> max_score = 1.0\n>>> score = 0\n>>> _, mascot, _, _, _, _ = mario_dining_center()\n>>> assert mascot == 'Mario the Dragon', 'Variable `mascot` is incorrect.'\n>>> if mascot == 'Mario the Dragon':\n...     score = 1.0\n>>> earned_points = float(os.environ.get('EARNED_POINTS', 0))\n>>> earned_points += score\n>>> log_variable('15_variables_q', f'{score}, {max_score}', question_id)\n>>> os.environ['EARNED_POINTS'] = str(earned_points)\n",
         "failure_message": "The `mascot` variable is incorrect.",
         "hidden": false,
         "locked": false,
         "points": 1,
         "success_message": "Correctly assigned the `mascot` variable."
        },
        {
         "code": ">>> from pykubegrader.telemetry import ensure_responses, log_variable, score_question, submit_question, telemetry, update_responses\n>>> import os\n>>> question_id = 'question-Mario-Dining-room-3'\n>>> max_score = 1.0\n>>> score = 0\n>>> _, _, meals_per_day, total_days, total_meals, _ = mario_dining_center()\n>>> assert total_meals == meals_per_day * total_days, 'Variable `total_meals` is incorrect.'\n>>> if total_meals == meals_per_day * total_days:\n...     score = 1.0\n>>> earned_points = float(os.environ.get('EARNED_POINTS', 0))\n>>> earned_points += score\n>>> log_variable('15_variables_q', f'{score}, {max_score}', question_id)\n>>> os.environ['EARNED_POINTS'] = str(earned_points)\n",
         "failure_message": "The `total_meals` variable is incorrect.",
         "hidden": false,
         "locked": false,
         "points": 1,
         "success_message": "Correctly calculated the `total_meals` variable."
        }
       ],
       "scored": true,
       "setup": "",
       "teardown": "",
       "type": "doctest"
      }
     ]
    }
   }
  }
 },
 "nbformat": 4,
 "nbformat_minor": 2
}
