{
 "cells": [
  {
   "cell_type": "markdown",
   "metadata": {},
   "source": [
    "# 📖 📝 Python Modules and Packages\n",
    "\n",
    "![](./assets/figures/modules.webp)"
   ]
  },
  {
   "cell_type": "markdown",
   "metadata": {},
   "source": [
    "## Introduction\n",
    "\n",
    "Hey, Dragons 🐉! Are you ready to harness the power of Python modules to tackle engineering problems like a Drexel pro?\n",
    "Whether you're in the lab, the classroom, or the Innovation Studio, Python's got your back.\n",
    "\n",
    "In this notebook, we'll explore:\n",
    "\n",
    "- Built-in modules: Python's ready-to-go tools.\n",
    "- Non-built-in modules: The ones you'll install but will love forever.\n"
   ]
  },
  {
   "cell_type": "markdown",
   "metadata": {},
   "source": [
    "## What is a Module?\n"
   ]
  },
  {
   "cell_type": "code",
   "execution_count": null,
   "metadata": {},
   "outputs": [],
   "source": [
    "# A module is a Python file with tools you can reuse.\n",
    "# Think of it as the digital equivalent of the lab kits at Drexel—you don’t have to build it all from scratch!\n",
    "\n",
    "print(\"A Python module: because Dragons code smarter, not harder.\")"
   ]
  },
  {
   "cell_type": "markdown",
   "metadata": {},
   "source": [
    "- In Python tools are built around modules that perform operations. \n",
    "- Modularity allows the isolation of code to simplify programming"
   ]
  },
  {
   "cell_type": "markdown",
   "metadata": {},
   "source": [
    "## Built-In Modules (Always There, Like Drexel Spirit!)\n",
    "\n",
    "Python contains many built in functions that are ready to use. \n",
    "\n",
    "You import modules using \n",
    "```python\n",
    "import <Module Name>\n",
    "```"
   ]
  },
  {
   "cell_type": "code",
   "execution_count": null,
   "metadata": {},
   "outputs": [],
   "source": [
    "# Math: Great for calculating pizza slices per engineer.\n",
    "# Example 1: math - The Nerdy Workhorse\n",
    "import math\n",
    "\n",
    "radius = 10  # Maybe you're designing something cool in the Drexel Machine Shop?\n",
    "area = math.pi * math.pow(radius, 2)\n",
    "print(f\"Area of a 10-unit radius circle (ideal for Drexel plaques): {area:.2f}\")"
   ]
  },
  {
   "cell_type": "code",
   "execution_count": null,
   "metadata": {},
   "outputs": [],
   "source": [
    "# OS: Where am I in the digital jungle?\n",
    "# Example 2: os - File Navigation Like the Drexel Campus\n",
    "import os\n",
    "\n",
    "current_dir = os.getcwd()\n",
    "print(f\"Your code is running in: {current_dir}\")"
   ]
  },
  {
   "cell_type": "code",
   "execution_count": null,
   "metadata": {},
   "outputs": [],
   "source": [
    "# Example 3: datetime - Keep Track of Deadlines (Quarters Fly By!)\n",
    "from datetime import datetime\n",
    "\n",
    "now = datetime.now()\n",
    "print(f\"As of now ({now}), you're already thinking about finals. 😅\")"
   ]
  },
  {
   "cell_type": "markdown",
   "metadata": {},
   "source": [
    "You can find more [built-in functions](https://docs.python.org/3/library/functions.html)\n",
    "\n"
   ]
  },
  {
   "cell_type": "markdown",
   "metadata": {},
   "source": [
    "## Non-Built-In Modules (Install and Thrive)\n",
    "\n",
    "Drexel students never settle for the basics. Let's bring in the advanced tools.\n",
    "\n",
    "There are many additional packages. Anyone in the world can make a package. Most packages are distributed using the [Python Package Index (PyPI)](https://pypi.org/).\n",
    "\n",
    "You can install packages using package managers:\n",
    "\n",
    "`pip install <package name>`\n",
    "\n",
    "or \n",
    "\n",
    "`conda install <package name>`\n",
    "\n",
    "\n",
    "```{note}\n",
    "Usually when you download python distributions they will contain many of the common packages. We have installed all the packages you need for the course on the JupyterHub.\n",
    "```"
   ]
  },
  {
   "cell_type": "markdown",
   "metadata": {},
   "source": [
    "### Syntax \n",
    "\n",
    "```python\n",
    "from {package name} import {module}\n",
    "\n",
    "from {package name} import {module} as {name}</code></pre>\n",
    "```"
   ]
  },
  {
   "cell_type": "code",
   "execution_count": null,
   "metadata": {},
   "outputs": [],
   "source": [
    "# NumPy: The Dragon's secret weapon for data wrangling.\n",
    "# Example 1: NumPy - Math for Engineers\n",
    "!pip install numpy\n",
    "import numpy as np\n",
    "data = np.array([[1, 2], [3, 4]])  # A classic matrix for your ECE 201 homework\n",
    "print(\"Matrix multiplication result:\")\n",
    "print(np.dot(data, data))  # Multiply the matrix by itself, because why not?\n"
   ]
  },
  {
   "cell_type": "code",
   "execution_count": null,
   "metadata": {},
   "outputs": [],
   "source": [
    "\n",
    "# Example 2: matplotlib - Visualize Like You're in URBN\n",
    "!pip install matplotlib\n",
    "import matplotlib.pyplot as plt\n",
    "x = np.linspace(0, 10, 100)\n",
    "y = np.sin(x)\n",
    "plt.plot(x, y, label=\"sin(x)\")\n",
    "plt.title(\"Dragons ❤️ Charts\")\n",
    "plt.xlabel(\"x-axis (Time)\")\n",
    "plt.ylabel(\"y-axis (Amplitude)\")\n",
    "plt.legend()\n",
    "plt.show()\n"
   ]
  },
  {
   "cell_type": "code",
   "execution_count": null,
   "metadata": {},
   "outputs": [],
   "source": [
    "\n",
    "# Example 3: scipy - Engineer Like a Drexel Grad\n",
    "!pip install scipy\n",
    "from scipy.integrate import quad\n",
    "result, _ = quad(lambda x: x**2, 0, 1)  # Integrate x^2 from 0 to 1\n",
    "print(f\"Integration result (for x^2, 0 to 1): {result:.2f}\")\n"
   ]
  },
  {
   "cell_type": "markdown",
   "metadata": {},
   "source": [
    "## Submodules"
   ]
  },
  {
   "cell_type": "markdown",
   "metadata": {},
   "source": [
    "Many modules contain submodules. These can be accessed by calling `<module>.<submodule>`"
   ]
  },
  {
   "cell_type": "markdown",
   "metadata": {},
   "source": [
    "```{tip}\n",
    "If you type a module name. you can use `tab` to discover the available submodules\n",
    "```"
   ]
  },
  {
   "cell_type": "code",
   "execution_count": null,
   "metadata": {
    "tags": [
     "skip-execution"
    ]
   },
   "outputs": [],
   "source": [
    "plt."
   ]
  },
  {
   "cell_type": "markdown",
   "metadata": {},
   "source": [
    "## Build Your Own Module (Drexel DIY Spirit)\n",
    "\n",
    "Want to showcase your Drexel engineering skills? Build your own module!\n",
    "\n",
    "**Save this in a file named `drexel_tools.py`**\n",
    "\n",
    "```python\n",
    "# drexel_tools.py\n",
    "\n",
    "def hello_dragon(name):\n",
    "return f\"Welcome to Drexel, {name}! Let’s solve some engineering problems.\"\n",
    "\n",
    "def calculate_gpa(grades):\n",
    "return sum(grades) / len(grades)\n",
    "```\n",
    "\n",
    "**Now, let's import your module and use it!**\n"
   ]
  },
  {
   "cell_type": "code",
   "execution_count": null,
   "metadata": {},
   "outputs": [],
   "source": [
    "import drexel_tools\n",
    "\n",
    "welcome = drexel_tools.hello_dragon(\"Alex\")\n",
    "gpa = drexel_tools.calculate_gpa([3.7, 3.8, 3.9, 4.0])  # Realistic Drexel GPA goals\n",
    "print(welcome)\n",
    "print(f\"Your Drexel GPA: {gpa:.2f}\")"
   ]
  },
  {
   "cell_type": "markdown",
   "metadata": {},
   "source": [
    "## Bonus: Drexel Engineering Favorites\n"
   ]
  },
  {
   "cell_type": "code",
   "execution_count": null,
   "metadata": {},
   "outputs": [],
   "source": [
    "# pandas: Organize Data Like You're Prepping for Co-op\n",
    "!pip install pandas\n",
    "import pandas as pd\n",
    "data = {\"Course\": [\"ENGR 101\", \"ECE 200\", \"MATE 221\"], \n",
    "        \"Grade\": [4.0, 3.7, 3.8]}\n",
    "df = pd.DataFrame(data)\n",
    "print(\"Your Drexel Grades:\\n\", df)\n"
   ]
  },
  {
   "cell_type": "code",
   "execution_count": null,
   "metadata": {},
   "outputs": [],
   "source": [
    "# sympy: Do Symbolic Math Like a True Engineer\n",
    "!pip install sympy\n",
    "from sympy import symbols, solve\n",
    "x = symbols('x')\n",
    "equation = x**2 - 4\n",
    "solutions = solve(equation, x)\n",
    "print(f\"Solutions to x^2 - 4 = 0 (like solving statics problems): {solutions}\")\n",
    "\n"
   ]
  },
  {
   "cell_type": "markdown",
   "metadata": {},
   "source": [
    "## Summary\n",
    "\n",
    "1. Python modules save you time and effort—just like Drexel's quarter system (maybe?).\n",
    "2. Built-in modules are always available for quick solutions.\n",
    "3. Non-built-in modules unlock advanced functionality—perfect for capstones, co-ops, and research.\n",
    "4. Build your own modules to share your engineering genius with the world.\n"
   ]
  }
 ],
 "metadata": {
  "kernelspec": {
   "display_name": "engr131_dev",
   "language": "python",
   "name": "python3"
  },
  "language_info": {
   "name": "python",
   "version": "3.12.7"
  }
 },
 "nbformat": 4,
 "nbformat_minor": 2
}
