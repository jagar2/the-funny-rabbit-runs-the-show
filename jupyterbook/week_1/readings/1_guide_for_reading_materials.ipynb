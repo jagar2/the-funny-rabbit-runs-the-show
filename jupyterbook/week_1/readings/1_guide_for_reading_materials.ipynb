{
 "cells": [
  {
   "cell_type": "markdown",
   "metadata": {},
   "source": [
    "# 📖 Guide for Reading Materials\n",
    "\n",
    "![](./assets/figures/notebook.webp)\n",
    "\n",
    "In this course we will be using a variety of open-source tools and resources. Here is a guide to help you navigate through the use of materials."
   ]
  },
  {
   "cell_type": "markdown",
   "metadata": {},
   "source": [
    "```{note}\n",
    "Open-source materials are free to use and share. They are often created by a community of contributors and are available for anyone to use. Generally, open-source materials are licensed under a non-restrictive license, such as the Creative Commons license. This allows for the materials to be shared and modified by others, with minimal restrictions. Restrictions may include attribution (giving credit to the original creator), share-alike (requiring that any modifications are shared under the same license), or non-commercial (restricting the use of the materials for commercial purposes). Generally, liability is disclaimed by the creator of the materials.\n",
    "```"
   ]
  },
  {
   "cell_type": "markdown",
   "metadata": {},
   "source": [
    "## Course Materials and Resources\n",
    "\n",
    "All reading materials, lecture materials, and assignments are available as a JupyterBook on the course website. The JupyterBook is an open-source tool that allows for the creation of interactive textbooks. The [Jupyterbook](https://jupyterbook.org/intro.html) is available at the following [ENGR131 Winter 2025](https://courses.coe.drexel.edu/ENGR/ENGR131_W25).\n",
    "\n",
    "You can read and access the materials directly from the website. The JupyterBook is organized into chapters, sections, and subsections. You can navigate through the materials by clicking on the links in the table of contents or by using the search bar. This will search throughout the entire book for the keyword you are looking for.\n",
    "\n",
    "The jupyterbook contains code cells that are executed by default and rendered when built."
   ]
  },
  {
   "cell_type": "markdown",
   "metadata": {},
   "source": [
    "## Running Course Materials\n",
    "\n",
    "### Jupyter, JupyterLab, and Jupyter Notebooks\n",
    "\n",
    "JupyterLab, and Jupyter notebooks are a common framework for coding used in industry and academia. They are used for data analysis, machine learning, scientific computing, and more. JupyterLab is a powerful tool that allows for the creation of interactive notebooks that combine code, text, and visualizations.\n",
    "\n",
    "For this course we will be using JupyterLab. JupyterLab is an open-source tool that allows for the creation of interactive notebooks. JupyterLab is available as a web-based tool that can be run on your local machine or on a remote server. You can run JupyterLab on your local machine by installing the Anaconda distribution of Python. You can also run JupyterLab on a remote server by using a cloud-based service, such as Google Colab or Binder.\n",
    "\n",
    "[Netflix Tech Blog on Notebook Innovation](https://netflixtechblog.com/notebook-innovation-591ee3221233)\n",
    "\n",
    "### Coding Platform\n",
    "\n",
    "For this course we will be using a custom cloud hosted JupyterLab environment. This environment is hosted on a remote server and can be accessed from any device with an internet connection. The environment is pre-configured with all the necessary software and libraries for the course. You can access the environment by clicking on the [link](https://courses.coe.drexel.edu/ENGR/ENGR131_W25). You will need to login with your Drexel credentials to access the environment.\n",
    "\n",
    "```{note}\n",
    "We know some of you might be seasoned pros, familiar with the extra bells and whistles of local Python setups and fancy IDEs like [PyCharm](https://www.jetbrains.com/pycharm/), [Visual Studio Code](https://code.visualstudio.com/), or [Jupyter Notebooks](https://jupyter.org/). But with great power comes great responsibility—and potential headaches. To keep things smooth and ensure everyone has the same gear, we're sticking with the cloud-hosted [JupyterLab](https://jupyter.org/try-jupyter/lab/). It's like having a roadie to handle all the tech stuff, so you can focus on your coding performance.  \n",
    "\n",
    "If you're keen to explore these tools further, we encourage you to do so on your own time or in a more advanced programming class.\n",
    "```\n",
    "\n",
    "### Completing Assignments\n",
    "\n",
    "All assignments will will be posted on the JupyterBook. You can navigate to the assignments by clicking on the assignments link in the table of contents. The assignments will be in the form of Jupyter notebooks. You can complete the assignments by opening the Jupyter notebook in the JupyterLab environment and following the instructions in the notebook. This is most simply done by clicking the rocketship icon on the top right of the page and selected JupyterLab. \n",
    "\n",
    "1. Navigate to the course website [jupyterbook](https://courses.coe.drexel.edu/ENGR/ENGR131_W25)\n",
    "\n",
    "\n",
    "2. In the upper right corner, click on the rocket icon to launch JupyterHub.\n",
    "\n",
    "![](assets/figures/nbpuller.png)\n",
    "\n",
    "\n",
    "3. You will be presented with a login page. \n",
    "\n",
    "![](assets/figures/1_login.png)\n",
    "\n",
    "\n",
    "4. Select allow globus to use your identity. you likely will not have to do this step again. unless you are using a different browser or device.\n",
    "\n",
    "![](assets/figures/2_login.png)\n",
    "\n",
    "\n",
    "5. You will be redirected to the Drexel login page. Enter your Drexel credentials.\n",
    "\n",
    "![](assets/figures/3_login.png)\n",
    "\n",
    "\n",
    "6. You will be presented with an option to select a environment. Select `ENGR_131`. \n",
    "   \n",
    "![](assets/figures/4_login.png)\n",
    "\n",
    "\n",
    "7. This next step might take a minute or two, it is configuring your computing environment. \n",
    "\n",
    "![](assets/figures/5_login.png)\n",
    "\n",
    "8. You will be presented with the JupyterLab interface.\n",
    "\n",
    "![](assets/figures/6_login.png)\n",
    "\n",
    "\n",
    "9. If you clicked the rocketship icon the jupyter notebook file should automatically open. \n",
    "\n",
    "```{note}\n",
    "When you click the link to the assignment it will use `github` to pull the assignment into JupyterLab. Git, a version control system, is a powerful tool that allows for the tracking of changes to files. Git is used to track changes to the assignment files and to submit the assignments. You can learn more about Git and version control in the [Git Handbook](https://guides.github.com/introduction/git-handbook/). GitHub is a web-based platform that allows for the hosting of Git repositories. You can learn more about GitHub in the [GitHub Handbook](https://guides.github.com/introduction/git-handbook/).\n",
    "```\n",
    "\n",
    "You can run the code cells in the notebook by clicking on the run button or by pressing `shift+enter`.\n",
    "\n"
   ]
  },
  {
   "cell_type": "markdown",
   "metadata": {},
   "source": [
    "## Trying this notebook\n",
    "\n",
    "You can try this notebook in the JupyterHub environment by clicking the rocketship icon in the top right corner of the page. \n",
    "\n",
    "Press `shift+enter` to run the code cell below. If you see the output `ENGR131` then you have successfully run the code cell. "
   ]
  },
  {
   "cell_type": "code",
   "execution_count": null,
   "metadata": {},
   "outputs": [],
   "source": [
    "print(\n",
    "    \"\"\"\n",
    "\n",
    "                                                                                 \n",
    "                   ,--.                                  .--,-``-.               \n",
    "    ,---,.       ,--.'|  ,----..   ,-.----.       ,---, /   /     '.       ,---, \n",
    "  ,'  .' |   ,--,:  : | /   /   \\  \\    /  \\   ,`--.' |/ ../        ;   ,`--.' | \n",
    ",---.'   |,`--.'`|  ' :|   :     : ;   :    \\ /    /  :\\ ``\\  .`-    ' /    /  : \n",
    "|   |   .'|   :  :  | |.   |  ;. / |   | .\\ ::    |.' ' \\___\\/   \\   ::    |.' ' \n",
    ":   :  |-,:   |   \\ | :.   ; /--`  .   : |: |`----':  |      \\   :   |`----':  | \n",
    ":   |  ;/||   : '  '; |;   | ;  __ |   |  \\ :   '   ' ;      /  /   /    '   ' ; \n",
    "|   :   .''   ' ;.    ;|   : |.' .'|   : .  /   |   | |      \\  \\   \\    |   | | \n",
    "|   |  |-,|   | | \\   |.   | '_.' :;   | |  \\   '   : ;  ___ /   :   |   '   : ; \n",
    "'   :  ;/|'   : |  ; .''   ; : \\  ||   | ;\\  \\  |   | ' /   /\\   /   :   |   | ' \n",
    "|   |    \\|   | '`--'  '   | '/  .':   ' | \\.'  '   : |/ ,,/  ',-    .   '   : | \n",
    "|   :   .''   : |      |   :    /  :   : :-'    ;   |.'\\ ''\\        ;    ;   |.' \n",
    "|   | ,'  ;   |.'       \\   \\ .'   |   |.'      '---'   \\   \\     .'     '---'   \n",
    "`----'    '---'          `---`     `---'                 `--`-,,-'               \n",
    "                                                                                 \n",
    "\n",
    "\"\"\"\n",
    ")"
   ]
  },
  {
   "cell_type": "markdown",
   "metadata": {},
   "source": [
    "# Accessing the Raw Source Code\n",
    "\n",
    "You can access the raw source code for this notebook by clicking the OctoCat icon in the top-right corner of the page. This will link to the GitHub repository for the course materials.\n",
    "\n",
    "![](assets/figures/octocat.png)"
   ]
  }
 ],
 "metadata": {
  "kernelspec": {
   "display_name": "engr131_dev",
   "language": "python",
   "name": "python3"
  },
  "language_info": {
   "codemirror_mode": {
    "name": "ipython",
    "version": 3
   },
   "file_extension": ".py",
   "mimetype": "text/x-python",
   "name": "python",
   "nbconvert_exporter": "python",
   "pygments_lexer": "ipython3",
   "version": "3.12.7"
  }
 },
 "nbformat": 4,
 "nbformat_minor": 2
}
