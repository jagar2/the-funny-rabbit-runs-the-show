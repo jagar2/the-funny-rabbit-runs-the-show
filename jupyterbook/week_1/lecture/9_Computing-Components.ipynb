{
 "cells": [
  {
   "cell_type": "markdown",
   "metadata": {
    "slideshow": {
     "slide_type": "slide"
    }
   },
   "source": [
    "# 📝 🖥️✨Computer Components: What's Inside That Magic Box? \n",
    "\n",
    "<div style=\"text-align: center;\">\n",
    "    <img src=\"../../magic-black-box.webp\" alt=\"Why Python?\" height=\"400px\">\n",
    "</div>"
   ]
  },
  {
   "cell_type": "markdown",
   "metadata": {
    "slideshow": {
     "slide_type": "slide"
    }
   },
   "source": [
    "## Introduction\n",
    "\n",
    "So, you're ready to delve deeper into the world of computer components. We'll explore the intricacies of CPUs and GPUs, compare architectures, and discuss processor precision. Plus, we'll provide approximate costs to help you budget.\n"
   ]
  },
  {
   "cell_type": "markdown",
   "metadata": {
    "slideshow": {
     "slide_type": "slide"
    }
   },
   "source": [
    "## Power Supply Unit (PSU): The Heartbeat of Your PC\n",
    "\n",
    "![](./assets/figures/power-supply.jpg)\n",
    "\n",
    "Think of the **Power Supply Unit (PSU)** as the heart of your computer. Without it, your PC is just an overpriced paperweight.\n",
    "\n",
    "- **Wattage Matters**: Ensure your PSU can handle all your components. Too little, and your PC might take unplanned naps.\n",
    "- **Efficiency Ratings**: Look for 80 PLUS certifications (Bronze, Silver, Gold, Platinum). Because who doesn't like shiny stickers?\n",
    "- **Modular vs. Non-Modular**: Modular PSUs let you use only the cables you need. Say goodbye to the spaghetti monster lurking in your case.\n",
    "- **Approximate Costs**: A decent 500W PSU starts around $50, but high-end, fully modular PSUs can set you back over $150. Remember, skimping on a PSU is like buying cheap parachutes—not recommended.\n"
   ]
  },
  {
   "cell_type": "markdown",
   "metadata": {
    "slideshow": {
     "slide_type": "slide"
    }
   },
   "source": [
    "## Motherboard: The Social Butterfly\n",
    "\n",
    "![](./assets/figures/motherboard.png)\n",
    "\n",
    "The **Motherboard** is the grand central station where all components connect and communicate.\n",
    "\n",
    "- **Form Factors**: ATX, MicroATX, Mini-ITX. Size matters, but bigger isn't always better.\n",
    "- **Chipsets**: Determines compatibility with CPUs, RAM speeds, and more. Choose wisely; it's the foundation of your build.\n",
    "- **Sockets**: LGA, AM4, LGA1700—because life wasn't complicated enough already.\n",
    "- **Approximate Costs**: Entry-level motherboards can be found for $70, while premium models with all the bells and whistles can exceed $500. It's like choosing between economy class and a private jet.\n"
   ]
  },
  {
   "cell_type": "markdown",
   "metadata": {
    "slideshow": {
     "slide_type": "slide"
    }
   },
   "source": [
    "## CPU: The Brainiac\n",
    "\n",
    "![](./assets/figures/CPU.jpg)\n",
    "\n",
    "The **Central Processing Unit (CPU)** is your computer's brain, handling all the calculations and logic. Let's delve deeper into its inner workings.\n",
    "\n"
   ]
  },
  {
   "cell_type": "markdown",
   "metadata": {
    "slideshow": {
     "slide_type": "subslide"
    }
   },
   "source": [
    "### On-Chip Memory: The CPU's Sticky Notes\n",
    "\n",
    "- **Cache Memory**: CPUs come with multiple levels of cache (L1, L2, L3). These are tiny pools of super-fast memory right on the CPU die.\n",
    "  - **L1 Cache**: The fastest, but smallest. It's the CPU's immediate scratchpad.\n",
    "  - **L2 and L3 Cache**: Larger but slightly slower. Think of them as the CPU's personal filing cabinets.\n",
    "- **Why It Matters**: More cache can significantly improve performance, especially in tasks requiring quick data access.\n"
   ]
  },
  {
   "cell_type": "markdown",
   "metadata": {
    "slideshow": {
     "slide_type": "subslide"
    }
   },
   "source": [
    "### Architectures: x86 vs. ARM\n",
    "\n",
    "- **x86 Architecture**: The old guard, used in most desktops and laptops. Developed by Intel and used by AMD as well.\n",
    "  - **Strengths**: High performance for complex tasks. Great for gaming, content creation.\n",
    "  - **Weaknesses**: Power-hungry—your laptop's battery life might suffer.\n",
    "- **ARM Architecture**: The rising star, used in smartphones, tablets, and now some laptops (looking at you, Apple M1).\n",
    "  - **Strengths**: Energy-efficient, resulting in longer battery life.\n",
    "  - **Weaknesses**: Not as powerful for heavy-duty computing, though it's catching up fast.\n"
   ]
  },
  {
   "cell_type": "markdown",
   "metadata": {
    "slideshow": {
     "slide_type": "subslide"
    }
   },
   "source": [
    "### Processor Precision: Bits and Pieces\n",
    "\n",
    "![](./assets/figures/quantization.png)\n",
    "\n",
    "- **32-bit vs. 64-bit**:\n",
    "  - **32-bit Processors**: Limited to using 4GB of RAM. Becoming obsolete faster than floppy disks.\n",
    "  - **64-bit Processors**: Can address practically unlimited memory (theoretically up to 18 quintillion GB). Welcome to the future.\n",
    "- **Floating-Point Precision**:\n",
    "  - **Single Precision (32-bit)**: Commonly used for general computing tasks.\n",
    "  - **Double Precision (64-bit)**: Used in scientific calculations where accuracy is paramount.\n"
   ]
  },
  {
   "cell_type": "markdown",
   "metadata": {
    "slideshow": {
     "slide_type": "fragment"
    }
   },
   "source": [
    "**Approximate Costs**:\n",
    "\n",
    "- **CPUs**:\n",
    "  - **Budget CPUs**: Intel Core i3 or AMD Ryzen 3 start around $100.\n",
    "  - **Mid-range**: Intel Core i5/i7 or AMD Ryzen 5/7 between $200-$400.\n",
    "  - **High-end**: Intel Core i9 or AMD Ryzen 9 can exceed $500.\n",
    "- **ARM-based CPUs**: Generally found in devices rather than sold separately. Prices vary widely.\n"
   ]
  },
  {
   "cell_type": "markdown",
   "metadata": {
    "slideshow": {
     "slide_type": "slide"
    }
   },
   "source": [
    "## PCIe Bus: The Data Highway\n",
    "\n",
    "![](./assets/figures/PCIe.webp)\n",
    "\n",
    "The **PCI Express (PCIe) Bus** is the superhighway for data between components.\n",
    "\n",
    "- **Versions**: PCIe 3.0, 4.0, 5.0—each doubling the data rate because why not?\n",
    "- **Lanes**: x1, x4, x8, x16—more lanes mean more data can flow. It's like having a multi-lane freeway versus a dirt road.\n",
    "- **Backward Compatibility**: Newer cards in older slots? They'll work but at a leisurely pace.\n"
   ]
  },
  {
   "cell_type": "markdown",
   "metadata": {
    "slideshow": {
     "slide_type": "slide"
    }
   },
   "source": [
    "## USB Ports: The Universal Frenemy\n",
    "\n",
    "![](./assets/figures/USB.webp)\n",
    "\n",
    "**Universal Serial Bus (USB)** ports connect peripherals, from mice to coffee warmers (yes, that's a thing).\n",
    "\n",
    "- **Versions**: USB 2.0, 3.0, 3.1, 3.2, and now USB4—because numbering logically is overrated.\n",
    "- **Connector Types**: Type-A, Type-B, Micro, Mini, and Type-C. Collect them all!\n",
    "- **Data Transfer Rates**: Faster versions mean less time waiting and more time doing... whatever it is you do.\n",
    "\n",
    "| USB Version | Data Transfer Rate |\n",
    "| ----------- | ------------------ |\n",
    "| USB 2.0     | 480 Mbps           |\n",
    "| USB 3.0     | 5 Gbps             |\n",
    "| USB 3.1     | 10 Gbps            |\n",
    "| USB 3.2     | 20 Gbps            |\n",
    "| USB4        | 40 Gbps            |\n"
   ]
  },
  {
   "cell_type": "markdown",
   "metadata": {
    "slideshow": {
     "slide_type": "slide"
    }
   },
   "source": [
    "## Networking Cards: Your PC's Social Life\n",
    "\n",
    "![](./assets/figures/NIC.jpg)\n",
    "\n",
    "**Networking Cards** keep your PC connected to the world—or your neighbor's unsecured Wi-Fi.\n",
    "\n",
    "- **Ethernet Cards**: For those who believe in the reliability of good old-fashioned cables.\n",
    "- **Wi-Fi Cards**: For the free spirits who despise cords.\n",
    "- **Speeds**: Ranging from 100 Mbps to 10 Gbps. Perfect for streaming HD cat videos without buffering.\n",
    "- **Approximate Costs**:\n",
    "\n",
    "  - **Ethernet Cards**: Basic Gigabit Ethernet cards start around $15.\n",
    "  - **Wi-Fi Cards**: Decent Wi-Fi 6 cards can be found for $30-$50.\n",
    "\n",
    "  | Standard             | Speed    | Release Date    |\n",
    "  | -------------------- | -------- | --------------- |\n",
    "  | Ethernet             | 100 Mbps | 1995            |\n",
    "  | Fast Ethernet        | 100 Mbps | 1995            |\n",
    "  | Gigabit Ethernet     | 1 Gbps   | 1999            |\n",
    "  | InfiniBand SDR       | 2.5 Gbps | 2001            |\n",
    "  | 10 Gigabit Ethernet  | 10 Gbps  | 2002            |\n",
    "  | InfiniBand DDR       | 5 Gbps   | 2005            |\n",
    "  | InfiniBand QDR       | 10 Gbps  | 2008            |\n",
    "  | Wi-Fi 4 (802.11n)    | 600 Mbps | 2009            |\n",
    "  | 40 Gigabit Ethernet  | 40 Gbps  | 2010            |\n",
    "  | 100 Gigabit Ethernet | 100 Gbps | 2010            |\n",
    "  | InfiniBand FDR       | 14 Gbps  | 2011            |\n",
    "  | Wi-Fi 5 (802.11ac)   | 3.5 Gbps | 2014            |\n",
    "  | InfiniBand EDR       | 25 Gbps  | 2014            |\n",
    "  | 25 Gigabit Ethernet  | 25 Gbps  | 2016            |\n",
    "  | 200 Gigabit Ethernet | 200 Gbps | 2017            |\n",
    "  | 400 Gigabit Ethernet | 400 Gbps | 2017            |\n",
    "  | Wi-Fi 6 (802.11ax)   | 9.6 Gbps | 2019            |\n",
    "  | Wi-Fi 6E (802.11ax)  | 9.6 Gbps | 2020            |\n",
    "  | InfiniBand HDR       | 50 Gbps  | 2018            |\n",
    "  | InfiniBand NDR       | 100 Gbps | 2021            |\n",
    "  | InfiniBand XDR       | 400 Gbps | 2021            |\n",
    "  | InfiniBand HDR200    | 800 Gbps | 2021            |\n",
    "  | Wi-Fi 7 (802.11be)   | 30 Gbps  | 2024 (expected) |\n",
    "  | 800 Gigabit Ethernet | 800 Gbps | 2022            |\n"
   ]
  },
  {
   "cell_type": "markdown",
   "metadata": {
    "slideshow": {
     "slide_type": "slide"
    }
   },
   "source": [
    "## GPUs: The Picasso of Pixels\n",
    "\n",
    "![](./assets/figures/GPU.jpg)\n",
    "\n",
    "The **Graphics Processing Unit (GPU)** renders images, videos, and animations—basically, it's why your games look pretty.\n",
    "\n"
   ]
  },
  {
   "cell_type": "markdown",
   "metadata": {
    "slideshow": {
     "slide_type": "subslide"
    }
   },
   "source": [
    "### On-Chip Memory: VRAM and Beyond\n",
    "\n",
    "- **VRAM (Video RAM)**: Specialized memory used exclusively by the GPU.\n",
    "  - **GDDR6, GDDR6X**: The latest standards, offering high bandwidth for data-hungry games.\n",
    "- **On-Die Cache**: Newer GPUs include cache directly on the GPU die (e.g., AMD's Infinity Cache).\n",
    "  - **Why It Matters**: Reduces latency and improves performance, especially at higher resolutions.\n"
   ]
  },
  {
   "cell_type": "markdown",
   "metadata": {
    "slideshow": {
     "slide_type": "subslide"
    }
   },
   "source": [
    "### Processor Precision: Not Just for CPUs\n",
    "\n",
    "- **FP32, FP64 Precision**: GPUs handle floating-point calculations at varying precisions.\n",
    "  - **FP32 (32-bit Floating Point)**: Standard for gaming and general graphics tasks.\n",
    "  - **FP64 (64-bit Floating Point)**: Used in professional applications requiring high precision, like scientific simulations.\n",
    "- **Tensor Cores**: Specialized units in NVIDIA GPUs for AI tasks, supporting mixed-precision calculations (e.g., FP16, INT8).\n",
    "\n",
    "**Approximate Costs**:\n",
    "\n",
    "- **Budget GPUs**: NVIDIA GTX 1650 or AMD RX 6500 XT around $200 (assuming they're not marked up).\n",
    "- **Mid-range**: NVIDIA RTX 3060 or AMD RX 6600 XT between $300-$500.\n",
    "- **High-end**: NVIDIA RTX 3080/3090 or AMD RX 6900 XT ranging from $700 to a kidney (prices fluctuate wildly).\n"
   ]
  },
  {
   "cell_type": "markdown",
   "metadata": {
    "slideshow": {
     "slide_type": "slide"
    }
   },
   "source": [
    "## RAM: The Short-Term Memory\n",
    "\n",
    "![](./assets/figures/RAM.jpg)\n",
    "\n",
    "**Random Access Memory (RAM)** is where your computer stores data it's actively using.\n",
    "\n",
    "- **Capacity**: More GBs mean smoother multitasking. Open all the tabs!\n",
    "- **Speed**: Measured in MHz. Faster RAM can improve performance, but only if your CPU can keep up.\n",
    "- **DDR Versions**: DDR3, DDR4, DDR5—each iteration brings more speed and less power consumption. Efficiency for the win!\n",
    "- **Approximate Costs**:\n",
    "  - **8GB Kit (DDR4)**: Around $30-$40.\n",
    "  - **16GB Kit (DDR4)**: Approximately $60-$80.\n",
    "  - **32GB Kit (DDR4/DDR5)**: Between $120-$250, depending on speed and type.\n"
   ]
  },
  {
   "cell_type": "markdown",
   "metadata": {
    "slideshow": {
     "slide_type": "slide"
    }
   },
   "source": [
    "## Hard Drives: The Long-Term Memory\n",
    "\n"
   ]
  },
  {
   "cell_type": "markdown",
   "metadata": {
    "slideshow": {
     "slide_type": "subslide"
    }
   },
   "source": [
    "### Spinning Disks (HDDs): The Old Guard\n",
    "\n",
    "![](./assets/figures/HDD.jpg)\n",
    "\n",
    "- **Capacity**: High storage at a low cost per GB. Perfect for hoarders.\n",
    "- **Speed**: Measured in RPM (usually 5400 or 7200). Faster speeds mean quicker data access.\n",
    "- **Reliability**: Mechanical parts mean they can fail. Handle with care—or bubble wrap.\n",
    "- **Approximate Costs**:\n",
    "  - **1TB HDD**: Around $40-$50.\n",
    "  - **4TB HDD**: Approximately $80-$100.\n"
   ]
  },
  {
   "cell_type": "markdown",
   "metadata": {
    "slideshow": {
     "slide_type": "subslide"
    }
   },
   "source": [
    "### Solid State Drives (SSDs): The Speedsters\n",
    "\n",
    "![](./assets/figures/SSD.jpg)\n",
    "\n",
    "- **No Moving Parts**: More durable and faster than HDDs.\n",
    "- **SATA SSDs**: Use the same interface as HDDs but are significantly faster.\n",
    "- **Price**: More expensive per GB, but your patience is priceless.\n",
    "- **Approximate Costs**:\n",
    "  - **500GB SATA SSD**: Around $50-$70.\n",
    "  - **1TB SATA SSD**: Approximately $80-$120.\n",
    "\n"
   ]
  },
  {
   "cell_type": "markdown",
   "metadata": {
    "slideshow": {
     "slide_type": "subslide"
    }
   },
   "source": [
    "### NVMe Drives: The Usain Bolt of Storage\n",
    "\n",
    "![](./assets/figures/NVME.jpg)\n",
    "\n",
    "- **Connected via PCIe**: Allows for insanely fast data transfer rates.\n",
    "- **Form Factor**: Usually M.2 sticks—tiny but mighty.\n",
    "- **Heat Management**: They can get hot. Like, really hot. Consider a heatsink unless you enjoy toasted circuits.\n",
    "- **Approximate Costs**:\n",
    "  - **500GB NVMe SSD**: Starting around $60-$80.\n",
    "  - **1TB NVMe SSD**: Between $100-$150.\n",
    "  - **High-End NVMe (PCIe 4.0/5.0)**: Can exceed $200 for 1TB.\n"
   ]
  },
  {
   "cell_type": "markdown",
   "metadata": {
    "slideshow": {
     "slide_type": "slide"
    }
   },
   "source": [
    "## Cooling Components: Keep It Chill\n",
    "\n"
   ]
  },
  {
   "cell_type": "markdown",
   "metadata": {
    "slideshow": {
     "slide_type": "subslide"
    }
   },
   "source": [
    "### Air Cooling\n",
    "\n",
    "![](./assets/figures/air-cooler.jpg)\n",
    "\n",
    "- **Fans and Heatsinks**: The classic method. Effective and affordable.\n",
    "- **Case Airflow**: Proper fan placement can make a world of difference. Front and bottom for intake, rear and top for exhaust.\n",
    "- **Approximate Costs**:\n",
    "  - **Basic Air Coolers**: Starting around $20.\n",
    "  - **High-End Air Coolers**: Can cost up to $100.\n",
    "\n"
   ]
  },
  {
   "cell_type": "markdown",
   "metadata": {
    "slideshow": {
     "slide_type": "subslide"
    }
   },
   "source": [
    "### Liquid Cooling\n",
    "\n",
    "![](./assets/figures/liquid-cooler.jpg)\n",
    "\n",
    "- **All-in-One (AIO) Coolers**: Closed-loop systems that are easy to install. Plus, they look cool—literally.\n",
    "- **Custom Loops**: For the enthusiast who thinks money is for burning and PCs are for showing off.\n",
    "- **Approximate Costs**:\n",
    "  - **AIO Liquid Coolers**: Starting around $70, up to $200 for larger radiators.\n",
    "  - **Custom Loops**: Can easily exceed $300.\n",
    "\n"
   ]
  },
  {
   "cell_type": "markdown",
   "metadata": {
    "slideshow": {
     "slide_type": "subslide"
    }
   },
   "source": [
    "### Thermal Paste\n",
    "\n",
    "![](./assets/figures/thermal-paste.jpg)\n",
    "\n",
    "- **Application Matters**: Too much or too little can hinder performance.\n",
    "- **Types**: Metal-based, ceramic, carbon-based. Because even paste needs variety.\n",
    "- **Approximate Costs**:\n",
    "  - **Thermal Paste Tube**: About $5-$10. Worth every penny.\n"
   ]
  },
  {
   "cell_type": "markdown",
   "metadata": {
    "slideshow": {
     "slide_type": "slide"
    }
   },
   "source": [
    "## Energy Consumption: The Silent Wallet Killer\n",
    "\n",
    "- **Power-Hungry Components**: High-end GPUs and CPUs can draw significant power. Expect your electricity bill to reflect your gaming habits.\n",
    "- **Efficiency Settings**: Use power-saving modes when possible. Your wallet and the planet will thank you.\n",
    "- **PSU Efficiency**: A higher efficiency PSU wastes less power as heat. Good for you, good for the environment.\n"
   ]
  },
  {
   "cell_type": "markdown",
   "metadata": {
    "slideshow": {
     "slide_type": "slide"
    }
   },
   "source": [
    "## Conclusion\n",
    "\n",
    "By now, you should have a more intimate understanding of your computer's inner workings—perhaps more than you ever wanted. We've explored the tiny caches that help your CPU and GPU think faster, debated the merits of different architectures, and even delved into the esoteric world of processor precision. Plus, we've given your wallet a heads-up on what to expect. So, whether you're building, upgrading, or just trying to sound smart at parties, you're now equipped with knowledge that's both powerful and slightly dangerous. Use it wisely!\n"
   ]
  }
 ],
 "metadata": {
  "language_info": {
   "name": "python"
  }
 },
 "nbformat": 4,
 "nbformat_minor": 2
}
