{
 "cells": [
  {
   "cell_type": "markdown",
   "id": "0",
   "metadata": {
    "slideshow": {
     "slide_type": "slide"
    }
   },
   "source": [
    "# 📝 🛠️ Engineering with Python Operators\n",
    "\n",
    "![Python Operators](./assets/figures/operators.webp)"
   ]
  },
  {
   "cell_type": "markdown",
   "id": "1",
   "metadata": {
    "slideshow": {
     "slide_type": "slide"
    }
   },
   "source": [
    "## ⚙️ Operators in Action"
   ]
  },
  {
   "cell_type": "markdown",
   "id": "2",
   "metadata": {
    "slideshow": {
     "slide_type": "fragment"
    }
   },
   "source": [
    "Operators are like the tools in your engineering toolbox. Use them to construct logic, calculate results, or string together ideas."
   ]
  },
  {
   "cell_type": "markdown",
   "id": "3",
   "metadata": {
    "slideshow": {
     "slide_type": "subslide"
    }
   },
   "source": [
    "### 🔧 Arithmetic Operators"
   ]
  },
  {
   "cell_type": "markdown",
   "id": "4",
   "metadata": {
    "slideshow": {
     "slide_type": "fragment"
    }
   },
   "source": [
    "When you need to crunch numbers faster than a Drexel Dragon chases deadlines:"
   ]
  },
  {
   "cell_type": "code",
   "execution_count": null,
   "id": "5",
   "metadata": {
    "slideshow": {
     "slide_type": "fragment"
    }
   },
   "outputs": [],
   "source": [
    "num1 = 15\n",
    "num2 = 7\n",
    "\n",
    "print(f'Addition: {num1} + {num2} = {num1 + num2}')\n",
    "print(f'Subtraction: {num1} - {num2} = {num1 - num2}')\n",
    "print(f'Multiplication: {num1} * {num2} = {num1 * num2}')\n",
    "print(f'Division: {num1} / {num2} = {num1 / num2:.2f}')"
   ]
  },
  {
   "cell_type": "markdown",
   "id": "6",
   "metadata": {
    "slideshow": {
     "slide_type": "fragment"
    }
   },
   "source": [
    "```{tip}\n",
    "Up above we used a cool thing called an f-string. It's a way to insert variables into strings. Just put an `f` in front of the string and use curly braces `{}` to insert the variable. We will talk more about this later.\n",
    "```"
   ]
  },
  {
   "cell_type": "markdown",
   "id": "7",
   "metadata": {
    "slideshow": {
     "slide_type": "subslide"
    }
   },
   "source": [
    "### 🧮 Modulus & Exponentiation"
   ]
  },
  {
   "cell_type": "markdown",
   "id": "8",
   "metadata": {
    "slideshow": {
     "slide_type": "fragment"
    }
   },
   "source": [
    "Modulus is great for figuring out what's left over after dividing. Exponents are for showing off your power (literally)."
   ]
  },
  {
   "cell_type": "code",
   "execution_count": null,
   "id": "9",
   "metadata": {
    "slideshow": {
     "slide_type": "fragment"
    }
   },
   "outputs": [],
   "source": [
    "mod_result = num1 % num2\n",
    "exp_result = num1 ** 2\n",
    "\n",
    "print(f'Modulus: {num1} % {num2} = {mod_result}')\n",
    "print(f'Exponentiation: {num1}^2 = {exp_result}')"
   ]
  },
  {
   "cell_type": "markdown",
   "id": "10",
   "metadata": {
    "slideshow": {
     "slide_type": "subslide"
    }
   },
   "source": [
    "### 🛑 Relational Operators"
   ]
  },
  {
   "cell_type": "markdown",
   "id": "11",
   "metadata": {
    "slideshow": {
     "slide_type": "fragment"
    }
   },
   "source": [
    "Use these to compare things (like who's been in the lab longer):"
   ]
  },
  {
   "cell_type": "code",
   "execution_count": null,
   "id": "12",
   "metadata": {
    "slideshow": {
     "slide_type": "fragment"
    }
   },
   "outputs": [],
   "source": [
    "lab_hours_A = 5\n",
    "lab_hours_B = 10\n",
    "\n",
    "print(f'Is A working less than B? {lab_hours_A < lab_hours_B}')\n",
    "print(f'Is A working equally hard as B? {lab_hours_A == lab_hours_B}')"
   ]
  },
  {
   "cell_type": "markdown",
   "id": "13",
   "metadata": {
    "slideshow": {
     "slide_type": "subslide"
    }
   },
   "source": [
    "### 🤖 Logical Operators"
   ]
  },
  {
   "cell_type": "markdown",
   "id": "14",
   "metadata": {
    "slideshow": {
     "slide_type": "fragment"
    }
   },
   "source": [
    "When you need to design circuits of logic (or debug them):"
   ]
  },
  {
   "cell_type": "code",
   "execution_count": null,
   "id": "15",
   "metadata": {
    "slideshow": {
     "slide_type": "fragment"
    }
   },
   "outputs": [],
   "source": [
    "is_efficient = True\n",
    "is_effective = False\n",
    "\n",
    "print(f'Logical AND: {is_efficient and is_effective}')\n",
    "print(f'Logical OR: {is_efficient or is_effective}')"
   ]
  },
  {
   "cell_type": "markdown",
   "id": "16",
   "metadata": {
    "slideshow": {
     "slide_type": "subslide"
    }
   },
   "source": [
    "### 🧩 String Operators"
   ]
  },
  {
   "cell_type": "markdown",
   "id": "17",
   "metadata": {
    "slideshow": {
     "slide_type": "fragment"
    }
   },
   "source": [
    "Engineering isn't all numbers. Sometimes, you need to print banners for your achievements:"
   ]
  },
  {
   "cell_type": "code",
   "execution_count": null,
   "id": "18",
   "metadata": {
    "slideshow": {
     "slide_type": "fragment"
    }
   },
   "outputs": [],
   "source": [
    "banner = 'Drexel ' + 'Engineering'\n",
    "print(banner)"
   ]
  },
  {
   "cell_type": "markdown",
   "id": "19",
   "metadata": {
    "slideshow": {
     "slide_type": "slide"
    }
   },
   "source": [
    "## 🎓 Conclusion"
   ]
  },
  {
   "cell_type": "markdown",
   "id": "20",
   "metadata": {
    "slideshow": {
     "slide_type": "fragment"
    }
   },
   "source": [
    "Congratulations, engineer! You now wield the power of Python operators. Apply them wisely in your projects, and may your code be as strong as a Drexel Dragon! 🐉"
   ]
  }
 ],
 "metadata": {
  "kernelspec": {
   "display_name": "engr131_dev",
   "language": "python",
   "name": "python3"
  },
  "language_info": {
   "codemirror_mode": {
    "name": "ipython",
    "version": 3
   },
   "file_extension": ".py",
   "mimetype": "text/x-python",
   "name": "python",
   "nbconvert_exporter": "python",
   "pygments_lexer": "ipython3",
   "version": "3.12.7"
  }
 },
 "nbformat": 4,
 "nbformat_minor": 5
}
