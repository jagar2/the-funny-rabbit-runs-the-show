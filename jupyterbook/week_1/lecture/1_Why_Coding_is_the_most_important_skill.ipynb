{
 "cells": [
  {
   "cell_type": "markdown",
   "metadata": {
    "slideshow": {
     "slide_type": "slide"
    }
   },
   "source": [
    "# 📝 Why Computer Programming is an Essential Skill\n"
   ]
  },
  {
   "cell_type": "markdown",
   "metadata": {
    "slideshow": {
     "slide_type": "fragment"
    }
   },
   "source": [
    "- Programming allows you to automate analysis of data, control systems, and efficiently visualize information\n"
   ]
  },
  {
   "cell_type": "markdown",
   "metadata": {
    "slideshow": {
     "slide_type": "fragment"
    }
   },
   "source": [
    "- Many of your fellow colleagues might have less programming skills than you do, which could make you a valued resource\n"
   ]
  },
  {
   "cell_type": "markdown",
   "metadata": {
    "slideshow": {
     "slide_type": "fragment"
    }
   },
   "source": [
    "- Knowing programming allows you to customize and modify software and hardware.\n"
   ]
  },
  {
   "cell_type": "markdown",
   "metadata": {
    "slideshow": {
     "slide_type": "slide"
    }
   },
   "source": [
    "## Chemical and Biomolecular Engineering\n",
    "\n",
    "- Determining protein structures and folding\n"
   ]
  },
  {
   "cell_type": "code",
   "execution_count": null,
   "metadata": {
    "slideshow": {
     "slide_type": "fragment"
    },
    "tags": [
     "hide-input"
    ]
   },
   "outputs": [],
   "source": [
    "from IPython.display import IFrame\n",
    "\n",
    "IFrame(\"https://alphafold.ebi.ac.uk/entry/A0A5E8GAP1\", width=800, height=1200)"
   ]
  },
  {
   "cell_type": "markdown",
   "metadata": {
    "slideshow": {
     "slide_type": "slide"
    }
   },
   "source": [
    "## Civil and Environmental Engineering\n"
   ]
  },
  {
   "cell_type": "markdown",
   "metadata": {
    "slideshow": {
     "slide_type": "fragment"
    }
   },
   "source": [
    "Forecasting air quality to help those who might be affected by air pollution make informed choices.\n"
   ]
  },
  {
   "cell_type": "code",
   "execution_count": null,
   "metadata": {
    "slideshow": {
     "slide_type": "fragment"
    }
   },
   "outputs": [],
   "source": [
    "IFrame(\"https://airquality.weather.gov/#\", width=800, height=800)"
   ]
  },
  {
   "cell_type": "markdown",
   "metadata": {
    "slideshow": {
     "slide_type": "slide"
    }
   },
   "source": [
    "## Electrical and Computer Engineering\n"
   ]
  },
  {
   "cell_type": "markdown",
   "metadata": {
    "slideshow": {
     "slide_type": "fragment"
    }
   },
   "source": [
    "You might want to build a script to efficiently use computing resources for a task.\n",
    "\n",
    "![](./assets/figures/FPGA_Resource_Map.png)\n"
   ]
  },
  {
   "cell_type": "markdown",
   "metadata": {
    "slideshow": {
     "slide_type": "slide"
    }
   },
   "source": [
    "## Engineering Leadership and Society\n",
    "\n",
    "Creating interactive dashboards and visualizations\n"
   ]
  },
  {
   "cell_type": "code",
   "execution_count": null,
   "metadata": {
    "slideshow": {
     "slide_type": "fragment"
    },
    "tags": [
     "hide-input"
    ]
   },
   "outputs": [],
   "source": [
    "IFrame(\n",
    "    \"https://ourworldindata.org/grapher/total-cases-covid-19?tab=map\",\n",
    "    width=800,\n",
    "    height=800,\n",
    ")"
   ]
  },
  {
   "cell_type": "markdown",
   "metadata": {
    "slideshow": {
     "slide_type": "slide"
    }
   },
   "source": [
    "## Materials Science and Engineering\n",
    "\n",
    "Discovering new Materials\n"
   ]
  },
  {
   "cell_type": "code",
   "execution_count": null,
   "metadata": {
    "slideshow": {
     "slide_type": "fragment"
    },
    "tags": [
     "hide-input"
    ]
   },
   "outputs": [],
   "source": [
    "IFrame(\n",
    "    \"https://materialsproject.org/materials/mp-1106215?chemsys=Pb-Ti-O\",\n",
    "    width=800,\n",
    "    height=800,\n",
    ")"
   ]
  },
  {
   "cell_type": "markdown",
   "metadata": {
    "slideshow": {
     "slide_type": "slide"
    }
   },
   "source": [
    "## Mechanical Engineering\n",
    "\n",
    "Robotics and control systems\n"
   ]
  },
  {
   "cell_type": "code",
   "execution_count": null,
   "metadata": {
    "slideshow": {
     "slide_type": "fragment"
    },
    "tags": [
     "hide-input"
    ]
   },
   "outputs": [],
   "source": [
    "IFrame(\"https://www.youtube.com/embed/x4O8pojMF0w\", width=800, height=400)"
   ]
  },
  {
   "cell_type": "markdown",
   "metadata": {
    "slideshow": {
     "slide_type": "slide"
    }
   },
   "source": [
    "# Survey to Understand your Understanding\n",
    "\n",
    "Please complete [this brief survey](https://forms.office.com/Pages/ResponsePage.aspx?id=-uZkNr1HpkWWcIxPCA-Mpn0fYfbsd-NCvIuX4uXigRFUNTZCNjhYOEFYS1lIN0JTRTFRWUZRNkJUOS4u) before we proceed with learning more about programming with python.\n"
   ]
  },
  {
   "cell_type": "markdown",
   "metadata": {
    "slideshow": {
     "slide_type": "slide"
    }
   },
   "source": [
    "## Other Cool Applications AI and Machine Learning\n"
   ]
  },
  {
   "cell_type": "code",
   "execution_count": null,
   "metadata": {
    "slideshow": {
     "slide_type": "fragment"
    },
    "tags": [
     "hide-input"
    ]
   },
   "outputs": [],
   "source": [
    "IFrame(\"https://www.youtube.com/embed/UuhECwm31dM\", width=800, height=400)"
   ]
  },
  {
   "cell_type": "markdown",
   "metadata": {
    "slideshow": {
     "slide_type": "slide"
    }
   },
   "source": [
    "## ChatGPT\n",
    "\n",
    "[ChatGPT](https://chat.openai.com/chat)\n"
   ]
  },
  {
   "cell_type": "markdown",
   "metadata": {
    "slideshow": {
     "slide_type": "subslide"
    }
   },
   "source": [
    "### Prompt:\n",
    "\n",
    "Build a game that for guessing a coin flip with a graphical output that can run in a jupyter notebook\n"
   ]
  },
  {
   "cell_type": "markdown",
   "metadata": {
    "slideshow": {
     "slide_type": "subslide"
    }
   },
   "source": [
    "### Response:\n",
    "\n",
    "**Features of the game:**\n",
    "\n",
    "- Visual coin representation that:\n",
    "  - Changes color based on the result (gold for heads, darker gold for tails)\n",
    "  - Shows a simple flip animation\n",
    "  - Displays the current state ('?', 'HEADS', or 'TAILS')\n",
    "\n",
    "**Game mechanics:**\n",
    "\n",
    "- Two buttons for guessing heads or tails\n",
    "- Score tracking with win rate percentage\n",
    "- Feedback messages for wins and losses\n",
    "- Animation during coin flips\n",
    "\n",
    "**UI elements:**\n",
    "\n",
    "- Large circular coin display\n",
    "- Clear message area\n",
    "- Score counter with win rate\n",
    "- Guess buttons\n",
    "\n",
    "**The game requires the following Python packages:**\n",
    "\n",
    "- `tkinter` (usually comes with Python)\n",
    "- `PIL` (Python Imaging Library) - install with `pip install Pillow`\n",
    "\n",
    "Would you like me to:\n",
    "\n",
    "- Add sound effects for the flips?\n",
    "- Modify the animation style?\n",
    "- Add more statistics?\n",
    "- Change the color scheme?\n",
    "- Add keyboard controls?\n"
   ]
  },
  {
   "cell_type": "code",
   "execution_count": null,
   "metadata": {
    "slideshow": {
     "slide_type": "fragment"
    },
    "tags": [
     "skip-execution"
    ]
   },
   "outputs": [],
   "source": [
    "import tkinter as tk\n",
    "from tkinter import ttk\n",
    "import random\n",
    "import time\n",
    "from PIL import Image, ImageTk, ImageDraw\n",
    "\n",
    "\n",
    "class CoinFlipGame:\n",
    "    def __init__(self, root):\n",
    "        self.root = root\n",
    "        self.root.title(\"Coin Flip Game\")\n",
    "\n",
    "        # Game state\n",
    "        self.score = 0\n",
    "        self.total_games = 0\n",
    "        self.is_flipping = False\n",
    "\n",
    "        # Create and pack widgets\n",
    "        self.setup_ui()\n",
    "\n",
    "    def setup_ui(self):\n",
    "        # Create main frame\n",
    "        main_frame = ttk.Frame(self.root, padding=\"10\")\n",
    "        main_frame.grid(row=0, column=0, sticky=(tk.W, tk.E, tk.N, tk.S))\n",
    "\n",
    "        # Create coin canvas\n",
    "        self.coin_canvas = tk.Canvas(main_frame, width=200, height=200, bg=\"white\")\n",
    "        self.coin_canvas.grid(row=0, column=0, columnspan=2, pady=10)\n",
    "\n",
    "        # Draw initial coin\n",
    "        self.draw_coin(\"?\")\n",
    "\n",
    "        # Message label\n",
    "        self.message_var = tk.StringVar(value=\"Make your guess!\")\n",
    "        self.message_label = ttk.Label(\n",
    "            main_frame, textvariable=self.message_var, font=(\"Arial\", 12)\n",
    "        )\n",
    "        self.message_label.grid(row=1, column=0, columnspan=2, pady=10)\n",
    "\n",
    "        # Score label\n",
    "        self.score_var = tk.StringVar(value=\"Score: 0/0 (0%)\")\n",
    "        self.score_label = ttk.Label(\n",
    "            main_frame, textvariable=self.score_var, font=(\"Arial\", 12)\n",
    "        )\n",
    "        self.score_label.grid(row=2, column=0, columnspan=2, pady=5)\n",
    "\n",
    "        # Guess buttons\n",
    "        ttk.Button(\n",
    "            main_frame, text=\"Guess Heads\", command=lambda: self.make_guess(\"heads\")\n",
    "        ).grid(row=3, column=0, padx=5, pady=10)\n",
    "        ttk.Button(\n",
    "            main_frame, text=\"Guess Tails\", command=lambda: self.make_guess(\"tails\")\n",
    "        ).grid(row=3, column=1, padx=5, pady=10)\n",
    "\n",
    "    def draw_coin(self, text):\n",
    "        \"\"\"Draw a circular coin with the given text\"\"\"\n",
    "        self.coin_canvas.delete(\"all\")\n",
    "\n",
    "        # Draw circle\n",
    "        color = (\n",
    "            \"#FFD700\"\n",
    "            if text == \"HEADS\"\n",
    "            else \"#DAA520\" if text == \"TAILS\" else \"#D3D3D3\"\n",
    "        )\n",
    "        self.coin_canvas.create_oval(\n",
    "            10, 10, 190, 190, fill=color, outline=\"black\", width=2\n",
    "        )\n",
    "\n",
    "        # Add text\n",
    "        self.coin_canvas.create_text(100, 100, text=text, font=(\"Arial\", 24, \"bold\"))\n",
    "\n",
    "    def update_score_display(self):\n",
    "        \"\"\"Update the score display\"\"\"\n",
    "        win_rate = (self.score / self.total_games * 100) if self.total_games > 0 else 0\n",
    "        self.score_var.set(f\"Score: {self.score}/{self.total_games} ({win_rate:.1f}%)\")\n",
    "\n",
    "    def flip_animation(self, frames, final_result, user_guess):\n",
    "        \"\"\"Recursive function to create flipping animation\"\"\"\n",
    "        if frames > 0:\n",
    "            self.draw_coin(\"?\" if frames % 2 else \"○\")\n",
    "            self.root.after(\n",
    "                100, lambda: self.flip_animation(frames - 1, final_result, user_guess)\n",
    "            )\n",
    "        else:\n",
    "            # Show final result\n",
    "            self.draw_coin(final_result.upper())\n",
    "            self.is_flipping = False\n",
    "\n",
    "            # Update score and message\n",
    "            if user_guess == final_result:\n",
    "                self.score += 1\n",
    "                self.message_var.set(\"Correct! You won! 🎉\")\n",
    "            else:\n",
    "                self.message_var.set(f\"Wrong! It was {final_result}! Try again!\")\n",
    "\n",
    "            self.update_score_display()\n",
    "\n",
    "    def make_guess(self, guess):\n",
    "        \"\"\"Handle user's guess\"\"\"\n",
    "        if self.is_flipping:\n",
    "            return\n",
    "\n",
    "        self.is_flipping = True\n",
    "        self.total_games += 1\n",
    "        self.message_var.set(\"Flipping...\")\n",
    "\n",
    "        # Determine result\n",
    "        result = random.choice([\"heads\", \"tails\"])\n",
    "\n",
    "        # Start flip animation\n",
    "        self.flip_animation(10, result, guess)\n",
    "\n",
    "\n",
    "def create_game():\n",
    "    root = tk.Tk()\n",
    "    game = CoinFlipGame(root)\n",
    "    return root\n",
    "\n",
    "\n",
    "# Function to run in Jupyter notebook\n",
    "def run_game():\n",
    "    root = create_game()\n",
    "    root.mainloop()\n",
    "\n",
    "\n",
    "if __name__ == \"__main__\":\n",
    "    run_game()"
   ]
  },
  {
   "cell_type": "code",
   "execution_count": null,
   "metadata": {
    "slideshow": {
     "slide_type": "fragment"
    }
   },
   "outputs": [],
   "source": []
  }
 ],
 "metadata": {
  "celltoolbar": "Slideshow",
  "kernelspec": {
   "display_name": "engr131",
   "language": "python",
   "name": "python3"
  },
  "language_info": {
   "codemirror_mode": {
    "name": "ipython",
    "version": 3
   },
   "file_extension": ".py",
   "mimetype": "text/x-python",
   "name": "python",
   "nbconvert_exporter": "python",
   "pygments_lexer": "ipython3",
   "version": "3.11.10"
  },
  "varInspector": {
   "cols": {
    "lenName": 16,
    "lenType": 16,
    "lenVar": 40
   },
   "kernels_config": {
    "python": {
     "delete_cmd_postfix": "",
     "delete_cmd_prefix": "del ",
     "library": "var_list.py",
     "varRefreshCmd": "print(var_dic_list())"
    },
    "r": {
     "delete_cmd_postfix": ") ",
     "delete_cmd_prefix": "rm(",
     "library": "var_list.r",
     "varRefreshCmd": "cat(var_dic_list()) "
    }
   },
   "types_to_exclude": [
    "module",
    "function",
    "builtin_function_or_method",
    "instance",
    "_Feature"
   ],
   "window_display": false
  }
 },
 "nbformat": 4,
 "nbformat_minor": 2
}
