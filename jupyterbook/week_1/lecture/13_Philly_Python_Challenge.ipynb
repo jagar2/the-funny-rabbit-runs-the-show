{
 "cells": [
  {
   "cell_type": "code",
   "execution_count": null,
   "id": "0",
   "metadata": {
    "deletable": false,
    "editable": false,
    "tags": [
     "skip-execution"
    ]
   },
   "outputs": [],
   "source": [
    "# You must make sure to run all cells in sequence using shift + enter or you might encounter errors\n",
    "from pykubegrader.initialize import initialize_assignment\n",
    "\n",
    "responses = initialize_assignment(\"13_Philly_Python_Challenge\", \"week_1\", \"lecture\", assignment_points = 5.0, assignment_tag = 'week1-lecture')\n",
    "\n",
    "# Initialize Otter\n",
    "import otter\n",
    "grader = otter.Notebook(\"13_Philly_Python_Challenge.ipynb\")"
   ]
  },
  {
   "cell_type": "markdown",
   "id": "1",
   "metadata": {
    "deletable": false,
    "editable": false
   },
   "source": [
    "# 🥨 Philly Pretzel Challenge!\n",
    "\n",
    "![Philly Pretzel Challenge](./assets/figures/pretzel.webp)"
   ]
  },
  {
   "cell_type": "markdown",
   "id": "2",
   "metadata": {
    "deletable": false,
    "editable": false
   },
   "source": [
    "## The Problem\n",
    "\n",
    "In Philadelphia, soft pretzels are a beloved snack. Imagine a group of friends buying a box of pretzels to share:\n",
    "\n",
    "* There are 23 pretzels in the box.\n",
    "* There are 5 friends in the group.\n",
    "\n",
    "Write a program to calculate:\n",
    "1. How many pretzels each friend gets (integer division).\n",
    "2. How many pretzels are left over (modulus operator).\n",
    "\n",
    "Detailed Instructions:\n",
    "\n",
    "1. **Define the Total Number of Pretzels**:\n",
    "   - Create a variable named `pretzels` and assign it the value `23`.\n",
    "   - This represents the total number of soft pretzels available in the box.\n",
    "\n",
    "2. **Define the Number of Friends**:\n",
    "   - Create a variable named `friends` and assign it the value `5`.\n",
    "   - This represents the number of friends sharing the pretzels.\n",
    "\n",
    "3. **Calculate How Many Pretzels Each Friend Gets**:\n",
    "   - Use integer division (`//`) to divide `pretzels` by `friends`.\n",
    "   - Integer division gives the whole number of pretzels each friend can get without considering leftovers.\n",
    "   - Store the result in a variable named `pretzels_per_friend`.\n",
    "\n",
    "4. **Calculate the Leftover Pretzels**:\n",
    "   - Use the modulus operator (`%`) to divide `pretzels` by `friends` and determine the remainder.\n",
    "   - The remainder represents the number of pretzels left after evenly distributing them among the friends.\n",
    "   - Store the result in a variable named `leftover_pretzels`.\n",
    "\n",
    "5. **Print the Results**:\n",
    "   - Use the `print()` function to display how many pretzels each friend gets and how many are left over.\n",
    "   - Use f-strings to include the calculated values in the output.\n",
    "\n",
    "   ```python\n",
    "   print(f'Each friend gets {pretzels_per_friend} pretzels.')\n",
    "   print(f'There are {leftover_pretzels} pretzels left over.')\n",
    "   ```\n",
    "\n",
    "   - The output will look like this:\n",
    "     ```\n",
    "     Each friend gets 4 pretzels.\n",
    "     There are 3 pretzels left over.\n",
    "     ```"
   ]
  },
  {
   "cell_type": "code",
   "execution_count": null,
   "id": "3",
   "metadata": {
    "tags": [
     "skip-execution"
    ]
   },
   "outputs": [],
   "source": [
    "def pretzel_calculator():\n",
    "    # This line of code defines a function\n",
    "    # You should write your code where the ... is located\n",
    "    # Do not change code above this line \n",
    "    \n",
    "    # 1. Define the total number of pretzels and friends\n",
    "    ...\n",
    "\n",
    "    # 2. Calculate How Many Pretzels Each Friend Gets\n",
    "    ...\n",
    "\n",
    "    # 3. Calculate How Many Pretzels Are Left Over\n",
    "    ...\n",
    "\n",
    "    # 4. Print the Results\n",
    "    # Tip: Copy the code from above we provided it for you\n",
    "    ...\n",
    "\n",
    "    # Do not change code below this line\n",
    "    return pretzels_per_friend, leftover_pretzels"
   ]
  },
  {
   "cell_type": "code",
   "execution_count": null,
   "id": "4",
   "metadata": {
    "deletable": false,
    "editable": false,
    "tags": [
     "skip-execution"
    ]
   },
   "outputs": [],
   "source": [
    "grader.check(\"activity-2-Philly Pretzel Challenge\")"
   ]
  },
  {
   "cell_type": "markdown",
   "id": "5",
   "metadata": {
    "deletable": false,
    "editable": false
   },
   "source": [
    "## 🎉 Well Done!\n",
    "\n",
    "Congratulations on completing the Philly Python Challenge! Now go grab a soft pretzel to celebrate! 🥨"
   ]
  },
  {
   "cell_type": "markdown",
   "id": "6",
   "metadata": {},
   "source": [
    "## Submitting Assignment\n",
    "\n",
    "Please run the following block of code using `shift + enter` to submit your assignment, you should see your score."
   ]
  },
  {
   "cell_type": "code",
   "execution_count": null,
   "id": "7",
   "metadata": {
    "deletable": false,
    "editable": false,
    "tags": [
     "skip-execution"
    ]
   },
   "outputs": [],
   "source": [
    "from pykubegrader.submit.submit_assignment import submit_assignment\n",
    "\n",
    "submit_assignment(\"week1-lecture\", \"13_Philly_Python_Challenge\")"
   ]
  }
 ],
 "metadata": {
  "kernelspec": {
   "display_name": "engr131_dev",
   "language": "python",
   "name": "python3"
  },
  "language_info": {
   "codemirror_mode": {
    "name": "ipython",
    "version": 3
   },
   "file_extension": ".py",
   "mimetype": "text/x-python",
   "name": "python",
   "nbconvert_exporter": "python",
   "pygments_lexer": "ipython3",
   "version": "3.12.7"
  },
  "otter": {
   "OK_FORMAT": true,
   "tests": {
    "activity-2-Philly Pretzel Challenge": {
     "name": "activity-2-Philly Pretzel Challenge",
     "points": null,
     "suites": [
      {
       "cases": [
        {
         "code": ">>> from pykubegrader.telemetry import ensure_responses, log_variable, score_question, submit_question, telemetry, update_responses\n>>> import os\n>>> from io import StringIO\n>>> import sys\n>>> max_question_points = str(5.0)\n>>> earned_points = 0\n>>> os.environ['EARNED_POINTS'] = str(earned_points)\n>>> os.environ['TOTAL_POINTS_FREE_RESPONSE'] = str(5.0)\n>>> log_variable('total-points', f'Reading-Week-X, 13_Philly_Python_Challenge', 5.0)\n>>> question_id = 'activity-2-Philly Pretzel Challenge-1'\n>>> max_score = 1.0\n>>> score = 0\n>>> captured_output = StringIO()\n>>> sys.stdout = captured_output\n>>> pretzels_per_friend, leftover_pretzels = pretzel_calculator()\n>>> sys.stdout = sys.__stdout__\n>>> output = captured_output.getvalue().strip()\n>>> assert 'Each friend gets' in output, \"Output must contain 'Each friend gets'.\"\n>>> if 'Each friend gets' in output:\n...     score = 1.0\n>>> earned_points = float(os.environ.get('EARNED_POINTS', 0))\n>>> earned_points += score\n>>> log_variable('13_Philly_Python_Challenge', f'{score}, {max_score}', question_id)\n>>> os.environ['EARNED_POINTS'] = str(earned_points)\n",
         "failure_message": "Output does not include 'Each friend gets'.",
         "hidden": false,
         "locked": false,
         "points": 1,
         "success_message": "Correctly included the phrase 'Each friend gets'."
        },
        {
         "code": ">>> from pykubegrader.telemetry import ensure_responses, log_variable, score_question, submit_question, telemetry, update_responses\n>>> import os\n>>> from io import StringIO\n>>> import sys\n>>> question_id = 'activity-2-Philly Pretzel Challenge-2'\n>>> max_score = 1.0\n>>> score = 0\n>>> captured_output = StringIO()\n>>> sys.stdout = captured_output\n>>> pretzels_per_friend, leftover_pretzels = pretzel_calculator()\n>>> sys.stdout = sys.__stdout__\n>>> output = captured_output.getvalue().strip()\n>>> assert 'There are' in output, \"Output must contain 'There are'.\"\n>>> if 'There are' in output:\n...     score = 1.0\n>>> earned_points = float(os.environ.get('EARNED_POINTS', 0))\n>>> earned_points += score\n>>> log_variable('13_Philly_Python_Challenge', f'{score}, {max_score}', question_id)\n>>> os.environ['EARNED_POINTS'] = str(earned_points)\n",
         "failure_message": "Output does not include 'There are'.",
         "hidden": false,
         "locked": false,
         "points": 1,
         "success_message": "Correctly included the phrase 'There are'."
        },
        {
         "code": ">>> from pykubegrader.telemetry import ensure_responses, log_variable, score_question, submit_question, telemetry, update_responses\n>>> import os\n>>> from io import StringIO\n>>> import sys\n>>> question_id = 'activity-2-Philly Pretzel Challenge-3'\n>>> max_score = 1.0\n>>> score = 0\n>>> captured_output = StringIO()\n>>> sys.stdout = captured_output\n>>> pretzels_per_friend, leftover_pretzels = pretzel_calculator()\n>>> sys.stdout = sys.__stdout__\n>>> output = captured_output.getvalue().strip()\n>>> assert 'pretzels left over' in output, \"Output must contain 'pretzels left over'.\"\n>>> if 'pretzels left over' in output:\n...     score = 1.0\n>>> earned_points = float(os.environ.get('EARNED_POINTS', 0))\n>>> earned_points += score\n>>> log_variable('13_Philly_Python_Challenge', f'{score}, {max_score}', question_id)\n>>> os.environ['EARNED_POINTS'] = str(earned_points)\n",
         "failure_message": "Output does not include 'pretzels left over'.",
         "hidden": false,
         "locked": false,
         "points": 1,
         "success_message": "Correctly included the phrase 'pretzels left over'."
        },
        {
         "code": ">>> from pykubegrader.telemetry import ensure_responses, log_variable, score_question, submit_question, telemetry, update_responses\n>>> import os\n>>> import re\n>>> from io import StringIO\n>>> import sys\n>>> question_id = 'activity-2-Philly Pretzel Challenge-4'\n>>> max_score = 1.0\n>>> score = 0\n>>> captured_output = StringIO()\n>>> sys.stdout = captured_output\n>>> pretzels_per_friend, leftover_pretzels = pretzel_calculator()\n>>> sys.stdout = sys.__stdout__\n>>> output = captured_output.getvalue().strip()\n>>> pattern = 'Each friend gets (\\\\d+) pretzels\\\\.\\\\s*There are (\\\\d+) pretzels left over\\\\.'\n>>> match = re.match(pattern, output)\n>>> assert match is not None, 'Output format is incorrect.'\n>>> pretzels_per_friend = int(match.group(1))\n>>> leftover_pretzels = int(match.group(2))\n>>> if match is not None:\n...     score = 1.0\n>>> earned_points = float(os.environ.get('EARNED_POINTS', 0))\n>>> earned_points += score\n>>> log_variable('13_Philly_Python_Challenge', f'{score}, {max_score}', question_id)\n>>> os.environ['EARNED_POINTS'] = str(earned_points)\n",
         "failure_message": "Output format is incorrect or numbers could not be extracted.",
         "hidden": false,
         "locked": false,
         "points": 1,
         "success_message": "Output format is correct and numbers extracted successfully."
        },
        {
         "code": ">>> from pykubegrader.telemetry import ensure_responses, log_variable, score_question, submit_question, telemetry, update_responses\n>>> import os\n>>> import sys\n>>> from io import StringIO\n>>> question_id = 'activity-2-Philly Pretzel Challenge-5'\n>>> max_score = 1.0\n>>> score = 0\n>>> captured_output = StringIO()\n>>> sys.stdout = captured_output\n>>> pretzels_per_friend, leftover_pretzels = pretzel_calculator()\n>>> assert pretzels_per_friend == 4, 'The number of pretzels per friend should be 4.'\n>>> assert leftover_pretzels == 3, 'The number of leftover pretzels should be 3.'\n>>> if pretzels_per_friend == 4 and leftover_pretzels == 3:\n...     score = 1.0\n>>> earned_points = float(os.environ.get('EARNED_POINTS', 0))\n>>> earned_points += score\n>>> log_variable('13_Philly_Python_Challenge', f'{score}, {max_score}', question_id)\n>>> os.environ['EARNED_POINTS'] = str(earned_points)\n",
         "failure_message": "Pretzel calculations are incorrect.",
         "hidden": false,
         "locked": false,
         "points": 1,
         "success_message": "Correctly calculated the pretzels per friend and leftovers."
        }
       ],
       "scored": true,
       "setup": "",
       "teardown": "",
       "type": "doctest"
      }
     ]
    }
   }
  }
 },
 "nbformat": 4,
 "nbformat_minor": 5
}
