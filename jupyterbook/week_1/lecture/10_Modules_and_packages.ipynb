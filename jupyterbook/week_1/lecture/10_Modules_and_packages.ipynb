{
 "cells": [
  {
   "cell_type": "markdown",
   "metadata": {
    "slideshow": {
     "slide_type": "slide"
    }
   },
   "source": [
    "# 📝 🐉 Python Modules for Engineers \n",
    "\n",
    "![Python Modules for Engineers](./assets/figures/python-modules.webp)"
   ]
  },
  {
   "cell_type": "markdown",
   "metadata": {
    "slideshow": {
     "slide_type": "slide"
    }
   },
   "source": [
    "## Why Modules?\n",
    "- **Reuse Code**: Tools for engineering problems.\n",
    "- **Two Types**:\n",
    "  1. **Built-In**: Ready-to-go (math, os, datetime).\n",
    "  2. **External**: Install with `pip` (NumPy, matplotlib).\n"
   ]
  },
  {
   "cell_type": "markdown",
   "metadata": {
    "slideshow": {
     "slide_type": "slide"
    }
   },
   "source": [
    "## Built-In Modules\n",
    "\n",
    "Python has many built-in modules that provide ready-to-use tools for common engineering problems. Here are some of the most useful ones:"
   ]
  },
  {
   "cell_type": "code",
   "execution_count": null,
   "metadata": {
    "slideshow": {
     "slide_type": "fragment"
    }
   },
   "outputs": [],
   "source": [
    "# Example: math (Calculations)\n",
    "import math\n",
    "print(f\"Circle Area (r=10): {math.pi * math.pow(10, 2):.2f}\")"
   ]
  },
  {
   "cell_type": "code",
   "execution_count": null,
   "metadata": {
    "slideshow": {
     "slide_type": "fragment"
    }
   },
   "outputs": [],
   "source": [
    "import os\n",
    "\n",
    "print(f\"Working Directory: {os.getcwd()}\")"
   ]
  },
  {
   "cell_type": "markdown",
   "metadata": {
    "slideshow": {
     "slide_type": "slide"
    }
   },
   "source": [
    "## External Modules\n",
    "\n",
    "Python has a vast ecosystem of external modules that can be installed using the `pip` package manager. Here are some of the most useful ones:"
   ]
  },
  {
   "cell_type": "markdown",
   "metadata": {
    "slideshow": {
     "slide_type": "subslide"
    }
   },
   "source": [
    "### Numpy (Numerical Python)\n",
    "\n",
    "NumPy is the fundamental package for scientific computing in Python. It provides support for large, multi-dimensional arrays and matrices, along with a collection of mathematical functions to operate on these arrays."
   ]
  },
  {
   "cell_type": "code",
   "execution_count": null,
   "metadata": {
    "slideshow": {
     "slide_type": "fragment"
    }
   },
   "outputs": [],
   "source": [
    "!pip install numpy\n",
    "import numpy as np\n",
    "print(f\"Matrix Product:\\n{np.dot([[1, 2], [3, 4]], [[1, 0], [0, 1]])}\")\n"
   ]
  },
  {
   "cell_type": "markdown",
   "metadata": {
    "slideshow": {
     "slide_type": "fragment"
    }
   },
   "source": [
    "```{tip}\n",
    "You can install external modules using the `!pip install` command in Jupyter notebooks, or just `pip install` in the terminal. If you are goint to install modules locally it is best to use a package manager like `conda` or `pipenv`.\n",
    "```"
   ]
  },
  {
   "cell_type": "markdown",
   "metadata": {
    "slideshow": {
     "slide_type": "subslide"
    }
   },
   "source": [
    "### Matplotlib\n",
    "\n",
    "Matplotlib is a plotting library for creating static, animated, and interactive visualizations in Python. It can be used to generate plots, histograms, power spectra, bar charts, error charts, scatterplots, etc."
   ]
  },
  {
   "cell_type": "code",
   "execution_count": null,
   "metadata": {
    "slideshow": {
     "slide_type": "fragment"
    }
   },
   "outputs": [],
   "source": [
    "!pip install matplotlib\n",
    "import matplotlib.pyplot as plt\n",
    "plt.plot([0, 1, 2], [0, 1, 4])\n",
    "plt.title(\"Simple Plot\")\n",
    "plt.show()"
   ]
  },
  {
   "cell_type": "markdown",
   "metadata": {
    "slideshow": {
     "slide_type": "slide"
    }
   },
   "source": [
    "## DIY: Create a Module"
   ]
  },
  {
   "cell_type": "code",
   "execution_count": null,
   "metadata": {
    "slideshow": {
     "slide_type": "fragment"
    }
   },
   "outputs": [],
   "source": [
    "# Save this in my_tools.py:\n",
    "\"\"\"\n",
    "def hello(name):\n",
    "    return f\"Hi {name}!\"\n",
    "\"\"\"\n",
    "\n",
    "# This is the code that will do it automatically:\n",
    "with open('my_tools.py', 'w') as file:\n",
    "    file.write(\"\"\"\n",
    "def hello(name):\n",
    "    return f\"Hi {name}!\"\n",
    "\"\"\")"
   ]
  },
  {
   "cell_type": "code",
   "execution_count": null,
   "metadata": {
    "slideshow": {
     "slide_type": "fragment"
    }
   },
   "outputs": [],
   "source": [
    "# Import your module:\n",
    "import my_tools\n",
    "\n",
    "print(my_tools.hello(\"Engineer\"))"
   ]
  },
  {
   "cell_type": "markdown",
   "metadata": {
    "slideshow": {
     "slide_type": "slide"
    }
   },
   "source": [
    "## Summary\n",
    "1. **Built-In**: Start with math, os.\n",
    "2. **External**: Install essentials (NumPy, matplotlib).\n",
    "3. **DIY**: Build custom tools.\n",
    "\n"
   ]
  }
 ],
 "metadata": {
  "kernelspec": {
   "display_name": "Python 3",
   "language": "python",
   "name": "python3"
  },
  "language_info": {
   "codemirror_mode": {
    "name": "ipython",
    "version": 3
   },
   "file_extension": ".py",
   "mimetype": "text/x-python",
   "name": "python",
   "nbconvert_exporter": "python",
   "pygments_lexer": "ipython3",
   "version": "3.12.7"
  }
 },
 "nbformat": 4,
 "nbformat_minor": 2
}
