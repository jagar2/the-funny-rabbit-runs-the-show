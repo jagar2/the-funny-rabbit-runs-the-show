{
 "cells": [
  {
   "cell_type": "code",
   "execution_count": null,
   "id": "0",
   "metadata": {
    "tags": [
     "skip-execution"
    ]
   },
   "outputs": [],
   "source": [
    "from pykubegrader.tokens.validate_token import validate_token\n",
    "validate_token('type the key provided by your instructor here')\n"
   ]
  },
  {
   "cell_type": "code",
   "execution_count": null,
   "metadata": {
    "deletable": false,
    "editable": false,
    "tags": [
     "skip-execution"
    ]
   },
   "outputs": [],
   "source": [
    "# You must make sure to run all cells in sequence using shift + enter or you might encounter errors\n",
    "from pykubegrader.initialize import initialize_assignment\n",
    "\n",
    "responses = initialize_assignment(\"6_Activity_1_Using_the_JupyterHub\", \"week_1\", \"lecture\", assignment_points = 5.0, assignment_tag = 'week1-lecture')\n",
    "\n",
    "# Initialize Otter\n",
    "import otter\n",
    "grader = otter.Notebook(\"6_Activity_1_Using_the_JupyterHub.ipynb\")"
   ]
  },
  {
   "attachments": {},
   "cell_type": "markdown",
   "metadata": {
    "deletable": false,
    "editable": false
   },
   "source": [
    "# 🚀 Activity: Hello, World! JupyterHub  \n",
    "\n",
    "🎉 Welcome to your first adventure in JupyterHub! Let’s kick things off with a classic \"Hello, World!\" assignment—because why not keep traditions alive, right? Oh, and don't forget to share something fun about yourself and your neighbor (friendly vibes only!).  \n",
    "\n",
    "\n",
    "## Steps to Complete Your \"Hello, World!\" Assignment  \n",
    "\n",
    "1. 🖥️ Head over to the course website: [JupyterBook](https://courses.coe.drexel.edu/ENGR/ENGR131_W25).  \n",
    "\n",
    "2. 🛸 In the upper right corner, find and click the **rocket icon** (it’s not there just for show—it launches JupyterHub 🚀).  \n",
    "\n",
    "3. 🔒 You’ll land on a login page. Select **Drexel University** and log in with your Drexel credentials. Easy peasy.  \n",
    "\n",
    "4. 🛠️ Next, pick an environment from the options. Choose **ENGR_131** because we’re sticking to the script here.  \n",
    "\n",
    "5. 📂 If all went well, the Jupyter Notebook file should automatically open. If it didn’t… well, try again (or maybe ask for help).  \n",
    "\n",
    "6. ✍️ In the first cell, type this masterpiece of code:  \n",
    "   ```python\n",
    "   print(\"Hello, World! My name is <type your name>\")\n",
    "   ```  \n",
    "   🚨 Pro tip: Replace `<type your name>` with—wait for it—your actual name.  \n",
    "\n",
    "7. 🎯 Hit **Shift + Enter** to execute your code. Voilà! You should see your name in lights (or at least printed on the screen).  \n",
    "\n",
    "\n",
    "💡 **And that’s it!** You’ve officially joined the ranks of coders who started their journey with \"Hello, World!\" Don't forget to share your fun fact—it’s your chance to be the most interesting person in the room!  \n",
    "\n",
    "Now, go forth and code like a star 🌟."
   ]
  },
  {
   "cell_type": "code",
   "execution_count": null,
   "metadata": {
    "tags": [
     "skip-execution"
    ]
   },
   "outputs": [],
   "source": [
    "def print_hello_world():\n",
    "    # This line of code defines a function\n",
    "    # You should write your code where the ... is located\n",
    "    # Do not change code above this line\n",
    "\n",
    "    ..."
   ]
  },
  {
   "cell_type": "code",
   "execution_count": null,
   "metadata": {
    "deletable": false,
    "editable": false,
    "tags": [
     "skip-execution"
    ]
   },
   "outputs": [],
   "source": [
    "grader.check(\"activity-1-Hello-World-JupyterHub\")"
   ]
  },
  {
   "cell_type": "markdown",
   "id": "5",
   "metadata": {},
   "source": [
    "## Submitting Assignment\n",
    "\n",
    "Please run the following block of code using `shift + enter` to submit your assignment, you should see your score."
   ]
  },
  {
   "cell_type": "code",
   "execution_count": null,
   "id": "6",
   "metadata": {
    "deletable": false,
    "editable": false,
    "tags": [
     "skip-execution"
    ]
   },
   "outputs": [],
   "source": [
    "from pykubegrader.tokens.validate_token import validate_token\n",
    "validate_token()\n",
    "\n",
    "\n",
    "from pykubegrader.submit.submit_assignment import submit_assignment\n",
    "\n",
    "submit_assignment(\"week1-lecture\", \"6_Activity_1_Using_the_JupyterHub\")"
   ]
  }
 ],
 "metadata": {
  "kernelspec": {
   "display_name": "engr131",
   "language": "python",
   "name": "python3"
  },
  "language_info": {
   "codemirror_mode": {
    "name": "ipython",
    "version": 3
   },
   "file_extension": ".py",
   "mimetype": "text/x-python",
   "name": "python",
   "nbconvert_exporter": "python",
   "pygments_lexer": "ipython3",
   "version": "3.11.10"
  },
  "otter": {
   "OK_FORMAT": true,
   "tests": {
    "activity-1-Hello-World-JupyterHub": {
     "name": "activity-1-Hello-World-JupyterHub",
     "points": null,
     "suites": [
      {
       "cases": [
        {
         "code": ">>> from pykubegrader.telemetry import ensure_responses, log_variable, score_question, submit_question, telemetry, update_responses\n>>> import os\n>>> import re\n>>> from io import StringIO\n>>> import sys\n>>> max_question_points = str(5.0)\n>>> earned_points = 0\n>>> os.environ['EARNED_POINTS'] = str(earned_points)\n>>> os.environ['TOTAL_POINTS_FREE_RESPONSE'] = str(5.0)\n>>> from pykubegrader.tokens.validate_token import validate_token\n>>> validate_token()\n>>> log_variable('total-points', f'Reading-Week-X, 6_Activity_1_Using_the_JupyterHub', 5.0)\n>>> question_id = 'activity-1-Hello-World-JupyterHub-1'\n>>> max_score = 5.0\n>>> score = 0\n>>> captured_output = StringIO()\n>>> sys.stdout = captured_output\n>>> print_hello_world()\n>>> sys.stdout = sys.__stdout__\n>>> output = captured_output.getvalue().strip()\n>>> pattern = '^Hello, World! My name is (.+)$'\n>>> match = re.match(pattern, output)\n>>> assert match is not None, 'Output does not match the expected format.'\n>>> name = match.group(1)\n>>> assert name != '<type your name>', \"Name cannot be '<type your name>'.\"\n>>> if match is not None and name != '<type your name>':\n...     score = 5.0\n>>> earned_points = float(os.environ.get('EARNED_POINTS', 0))\n>>> earned_points += score\n>>> log_variable('6_Activity_1_Using_the_JupyterHub', f'{score}, {max_score}', question_id)\n>>> os.environ['EARNED_POINTS'] = str(earned_points)\n",
         "failure_message": "Output did not match the expected format or contained an invalid name.",
         "hidden": false,
         "locked": false,
         "points": 5,
         "success_message": "Correctly handled the output with the appropriate name."
        }
       ],
       "scored": true,
       "setup": "",
       "teardown": "",
       "type": "doctest"
      }
     ]
    }
   }
  }
 },
 "nbformat": 4,
 "nbformat_minor": 2
}
