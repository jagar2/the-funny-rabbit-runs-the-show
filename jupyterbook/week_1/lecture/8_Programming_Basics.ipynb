{
 "cells": [
  {
   "cell_type": "markdown",
   "metadata": {
    "slideshow": {
     "slide_type": "slide"
    }
   },
   "source": [
    "# 📝 Programming Basics\n",
    "\n",
    "> \"Printing 'hello world' is cute, but let’s get real—programming is your secret weapon to control the digital realm. 🌍💻\""
   ]
  },
  {
   "cell_type": "markdown",
   "metadata": {
    "slideshow": {
     "slide_type": "slide"
    }
   },
   "source": [
    "## 👩‍💻 Computer Programs in a Nutshell\n",
    "\n",
    "1. 🛠️ Takes some input from the user (or a nosy robot).\n",
    "2. 🧠 Processes it with computations (the brainy part).\n",
    "3. 🎁 Spits out something useful (or at least tries to).\n",
    "\n",
    "🔑 **TL;DR:** A program is just an obedient machine that does whatever you tell it—literally, *whatever*. So choose your words wisely. 😏"
   ]
  },
  {
   "cell_type": "markdown",
   "metadata": {
    "slideshow": {
     "slide_type": "slide"
    }
   },
   "source": [
    "## 🙌 The First Programmer (Respect, Ada)\n",
    "\n",
    "**Ada Lovelace, 1815**\n",
    "\n",
    "She wasn’t just writing code; she was predicting the future! One of her brilliant feats was sketching out how to calculate Bernoulli numbers—before computers were even a thing. Mind = Blown. 🤯\n",
    "\n",
    "![Ada Lovelace](assets/figures/Ada-Lovelace.png)\n",
    "\n",
    "**Also: Charles Babbage's Analytical Engine**\n",
    "\n",
    "It was like the prehistoric ancestor of your laptop. Check out this beauty:\n",
    "\n",
    "![Analytical Engine](assets/figures/portion-Charles-Babbage-Analytical-Engine-death-mill-1871.png)"
   ]
  },
  {
   "cell_type": "markdown",
   "metadata": {
    "slideshow": {
     "slide_type": "slide"
    }
   },
   "source": [
    "## 🧠 Computational Thinking\n",
    "\n",
    "**Humans vs. Machines**\n",
    "\n",
    "- 🧠 Humans: Flexible, creative, and occasionally a little messy.\n",
    "- 🤖 Computers: Literal, logical, and absolutely unforgiving.\n",
    "\n",
    "**Takeaway:** When programming, channel your inner robot and get comfy with giving painfully specific instructions. Precision is the name of the game. 🎯"
   ]
  },
  {
   "cell_type": "markdown",
   "metadata": {
    "slideshow": {
     "slide_type": "slide"
    }
   },
   "source": [
    "## ✏️ Example—Drawing a Square\n",
    "\n",
    "You: Pick up a pen, doodle a square, done. Easy, right? ✏️\n",
    "\n",
    "Computer: \"What’s a square?\" 😵\n",
    "\n",
    "To make a computer draw one, you have to:\n",
    "1. Start at a specific point.\n",
    "2. Draw a straight line of fixed length.\n",
    "3. Turn exactly 90°.\n",
    "4. Repeat the process until you close the shape.\n",
    "\n",
    "**Pro Tip:** Computers are brilliant at following orders but terrible at improvising. 🙄"
   ]
  },
  {
   "cell_type": "code",
   "execution_count": null,
   "id": "5",
   "metadata": {
    "slideshow": {
     "slide_type": "fragment"
    },
    "tags": [
     "skip-execution"
    ]
   },
   "outputs": [],
   "source": [
    "import turtle\n",
    "\n",
    "# Set up the screen\n",
    "screen = turtle.Screen()\n",
    "screen.setup(width=600, height=600)\n",
    "screen.bgcolor(\"white\")\n",
    "\n",
    "# Create the turtle\n",
    "pen = turtle.Turtle()\n",
    "pen.speed(1)\n",
    "\n",
    "# Draw a square\n",
    "for _ in range(4):\n",
    "    pen.forward(100)  # Move forward 100 units\n",
    "    pen.right(90)  # Turn 90 degrees\n",
    "\n",
    "# Finish up\n",
    "turtle.done()"
   ]
  },
  {
   "cell_type": "markdown",
   "metadata": {
    "slideshow": {
     "slide_type": "slide"
    }
   },
   "source": [
    "## More Advanced Example"
   ]
  },
  {
   "cell_type": "code",
   "execution_count": null,
   "metadata": {
    "slideshow": {
     "slide_type": "fragment"
    },
    "tags": [
     "skip-execution"
    ]
   },
   "outputs": [],
   "source": [
    "turtle.setup(width=600, height=500)\n",
    "turtle.reset()\n",
    "turtle.hideturtle()\n",
    "turtle.speed(0)\n",
    "\n",
    "turtle.bgcolor(\"black\")\n",
    "\n",
    "c = 0\n",
    "x = 0\n",
    "\n",
    "colors = [\n",
    "    # reddish colors\n",
    "    (1.00, 0.00, 0.00),\n",
    "    (1.00, 0.03, 0.00),\n",
    "    (1.00, 0.05, 0.00),\n",
    "    (1.00, 0.07, 0.00),\n",
    "    (1.00, 0.10, 0.00),\n",
    "    (1.00, 0.12, 0.00),\n",
    "    (1.00, 0.15, 0.00),\n",
    "    (1.00, 0.17, 0.00),\n",
    "    (1.00, 0.20, 0.00),\n",
    "    (1.00, 0.23, 0.00),\n",
    "    (1.00, 0.25, 0.00),\n",
    "    (1.00, 0.28, 0.00),\n",
    "    (1.00, 0.30, 0.00),\n",
    "    (1.00, 0.33, 0.00),\n",
    "    (1.00, 0.35, 0.00),\n",
    "    (1.00, 0.38, 0.00),\n",
    "    (1.00, 0.40, 0.00),\n",
    "    (1.00, 0.42, 0.00),\n",
    "    (1.00, 0.45, 0.00),\n",
    "    (1.00, 0.47, 0.00),\n",
    "    # orangey colors\n",
    "    (1.00, 0.50, 0.00),\n",
    "    (1.00, 0.53, 0.00),\n",
    "    (1.00, 0.55, 0.00),\n",
    "    (1.00, 0.57, 0.00),\n",
    "    (1.00, 0.60, 0.00),\n",
    "    (1.00, 0.62, 0.00),\n",
    "    (1.00, 0.65, 0.00),\n",
    "    (1.00, 0.68, 0.00),\n",
    "    (1.00, 0.70, 0.00),\n",
    "    (1.00, 0.72, 0.00),\n",
    "    (1.00, 0.75, 0.00),\n",
    "    (1.00, 0.78, 0.00),\n",
    "    (1.00, 0.80, 0.00),\n",
    "    (1.00, 0.82, 0.00),\n",
    "    (1.00, 0.85, 0.00),\n",
    "    (1.00, 0.88, 0.00),\n",
    "    (1.00, 0.90, 0.00),\n",
    "    (1.00, 0.93, 0.00),\n",
    "    (1.00, 0.95, 0.00),\n",
    "    (1.00, 0.97, 0.00),\n",
    "    # yellowy colors\n",
    "    (1.00, 1.00, 0.00),\n",
    "    (0.95, 1.00, 0.00),\n",
    "    (0.90, 1.00, 0.00),\n",
    "    (0.85, 1.00, 0.00),\n",
    "    (0.80, 1.00, 0.00),\n",
    "    (0.75, 1.00, 0.00),\n",
    "    (0.70, 1.00, 0.00),\n",
    "    (0.65, 1.00, 0.00),\n",
    "    (0.60, 1.00, 0.00),\n",
    "    (0.55, 1.00, 0.00),\n",
    "    (0.50, 1.00, 0.00),\n",
    "    (0.45, 1.00, 0.00),\n",
    "    (0.40, 1.00, 0.00),\n",
    "    (0.35, 1.00, 0.00),\n",
    "    (0.30, 1.00, 0.00),\n",
    "    (0.25, 1.00, 0.00),\n",
    "    (0.20, 1.00, 0.00),\n",
    "    (0.15, 1.00, 0.00),\n",
    "    (0.10, 1.00, 0.00),\n",
    "    (0.05, 1.00, 0.00),\n",
    "    # greenish colors\n",
    "    (0.00, 1.00, 0.00),\n",
    "    (0.00, 0.95, 0.05),\n",
    "    (0.00, 0.90, 0.10),\n",
    "    (0.00, 0.85, 0.15),\n",
    "    (0.00, 0.80, 0.20),\n",
    "    (0.00, 0.75, 0.25),\n",
    "    (0.00, 0.70, 0.30),\n",
    "    (0.00, 0.65, 0.35),\n",
    "    (0.00, 0.60, 0.40),\n",
    "    (0.00, 0.55, 0.45),\n",
    "    (0.00, 0.50, 0.50),\n",
    "    (0.00, 0.45, 0.55),\n",
    "    (0.00, 0.40, 0.60),\n",
    "    (0.00, 0.35, 0.65),\n",
    "    (0.00, 0.30, 0.70),\n",
    "    (0.00, 0.25, 0.75),\n",
    "    (0.00, 0.20, 0.80),\n",
    "    (0.00, 0.15, 0.85),\n",
    "    (0.00, 0.10, 0.90),\n",
    "    (0.00, 0.05, 0.95),\n",
    "    # blueish colors\n",
    "    (0.00, 0.00, 1.00),\n",
    "    (0.05, 0.00, 1.00),\n",
    "    (0.10, 0.00, 1.00),\n",
    "    (0.15, 0.00, 1.00),\n",
    "    (0.20, 0.00, 1.00),\n",
    "    (0.25, 0.00, 1.00),\n",
    "    (0.30, 0.00, 1.00),\n",
    "    (0.35, 0.00, 1.00),\n",
    "    (0.40, 0.00, 1.00),\n",
    "    (0.45, 0.00, 1.00),\n",
    "    (0.50, 0.00, 1.00),\n",
    "    (0.55, 0.00, 1.00),\n",
    "    (0.60, 0.00, 1.00),\n",
    "    (0.65, 0.00, 1.00),\n",
    "    (0.70, 0.00, 1.00),\n",
    "    (0.75, 0.00, 1.00),\n",
    "    (0.80, 0.00, 1.00),\n",
    "    (0.85, 0.00, 1.00),\n",
    "    (0.90, 0.00, 1.00),\n",
    "    (0.95, 0.00, 1.00),\n",
    "]\n",
    "\n",
    "while x < 1000:\n",
    "    idx = int(c)\n",
    "    color = colors[idx]\n",
    "    turtle.color(color)\n",
    "    turtle.forward(x)\n",
    "    turtle.right(98)\n",
    "    x = x + 1\n",
    "    c = c + 0.1\n",
    "\n",
    "turtle.exitonclick()"
   ]
  }
 ],
 "metadata": {
  "celltoolbar": "Tags",
  "kernelspec": {
   "display_name": "engr131",
   "language": "python",
   "name": "python3"
  },
  "language_info": {
   "codemirror_mode": {
    "name": "ipython",
    "version": 3
   },
   "file_extension": ".py",
   "mimetype": "text/x-python",
   "name": "python",
   "nbconvert_exporter": "python",
   "pygments_lexer": "ipython3",
   "version": "3.10.13"
  },
  "varInspector": {
   "cols": {
    "lenName": 16,
    "lenType": 16,
    "lenVar": 40
   },
   "kernels_config": {
    "python": {
     "delete_cmd_postfix": "",
     "delete_cmd_prefix": "del ",
     "library": "var_list.py",
     "varRefreshCmd": "print(var_dic_list())"
    },
    "r": {
     "delete_cmd_postfix": ") ",
     "delete_cmd_prefix": "rm(",
     "library": "var_list.r",
     "varRefreshCmd": "cat(var_dic_list()) "
    }
   },
   "types_to_exclude": [
    "module",
    "function",
    "builtin_function_or_method",
    "instance",
    "_Feature"
   ],
   "window_display": false
  }
 },
 "nbformat": 4,
 "nbformat_minor": 2
}
