{
 "cells": [
  {
   "cell_type": "code",
   "execution_count": null,
   "id": "0",
   "metadata": {
    "deletable": false,
    "editable": false,
    "tags": [
     "skip-execution"
    ]
   },
   "outputs": [],
   "source": [
    "# You must make sure to run all cells in sequence using shift + enter or you might encounter errors\n",
    "from pykubegrader.initialize import initialize_assignment\n",
    "\n",
    "responses = initialize_assignment(\"1_practice-quiz\", \"week_1\", \"practicequiz\", assignment_points = 18.0, assignment_tag = 'week1-practicequiz')\n",
    "\n",
    "# Initialize Otter\n",
    "import otter\n",
    "grader = otter.Notebook(\"1_practice-quiz.ipynb\")"
   ]
  },
  {
   "cell_type": "markdown",
   "id": "1",
   "metadata": {
    "deletable": false,
    "editable": false
   },
   "source": [
    "# ❓ Calculating Total Credits at Drexel! 🎓\n",
    "\n",
    "![](./assets/figures/practice-quiz-1.webp)"
   ]
  },
  {
   "cell_type": "markdown",
   "id": "2",
   "metadata": {
    "deletable": false,
    "editable": false
   },
   "source": [
    "At Drexel University’s College of Engineering, students need to complete multiple co-op cycles and classes. Let’s calculate how many credits a student has completed so far!\n",
    "\n",
    "- **Drexel ID**: `abx123`\n",
    "- The student has taken 10 classes, each worth 3 credits.\n",
    "- The student has also earned 12 additional credits from a co-op experience.\n",
    "\n",
    "Using Python, write a program to calculate:\n",
    "1. The **total credits completed** by the student.\n",
    "2. The **remaining credits needed** to graduate, assuming the graduation requirement is 180 credits.\n",
    "\n",
    "\n",
    "## **Detailed Instructions**:\n",
    "1. **Define Your Drexel ID**:\n",
    "   - Create a variable `drexel_id` and assign it the value of your drexel_id -- this is the first part of your email. For example, if your email is `abc123@drexel.edu`, your `drexel_id` would be `abc123`. Note that the `drexel_id` should be a string, you can use single or double quotes to define it. For example, `drexel_id = 'abc123'` or `drexel_id = \"abc123\"` are both valid.\n",
    "\n",
    "2. **Define the Number of Classes and Co-op Credits**:\n",
    "   - Create a variable `classes` and assign it the value `10`.\n",
    "   - Create a variable `class_credits` and assign it the value `3`.\n",
    "   - Create a variable `coop_credits` and assign it the value `12`.\n",
    "   - Create a variable `graduation_requirement` and assign it the value `180`.\n",
    "\n",
    "3. **Calculate the Total Credits**:\n",
    "   - Use multiplication to calculate the total credits from classes. Save it to the variable `total_class_credits`.\n",
    "   - Use addition to include the co-op credits. Save the total credits to the variable `total_credits`.\n",
    "\n",
    "4. **Calculate Remaining Credits**:\n",
    "   - Subtract the total credits from the graduation requirement.\n",
    "\n",
    "5. **Print the Results**:\n",
    "   - Use f-strings to display the Drexel ID, total credits, and remaining credits. We have provided this code for you so you do not have to write it. \n"
   ]
  },
  {
   "cell_type": "code",
   "execution_count": null,
   "id": "3",
   "metadata": {
    "tags": [
     "skip-execution"
    ]
   },
   "outputs": [],
   "source": [
    "# Drexel student's ID\n",
    "drexel_id = ...\n",
    "\n",
    "# Variables\n",
    "\n",
    "# Number of classes taken\n",
    "...\n",
    "\n",
    "# credits per class\n",
    "...\n",
    "\n",
    "# Number of coop credits\n",
    "...\n",
    "\n",
    "# Graduation requirement\n",
    "...\n",
    "\n",
    "# Calculate total credits\n",
    "...\n",
    "\n",
    "# Calculate remaining credits\n",
    "...\n",
    "\n",
    "# DO NOT MODIFY BELOW THIS LINE\n",
    "# Print the results\n",
    "print(f\"Student ID: {drexel_id}\")\n",
    "print(f\"Total Credits Completed: {total_credits}\")\n",
    "print(f\"Remaining Credits to Graduate: {remaining_credits}\")"
   ]
  },
  {
   "cell_type": "code",
   "execution_count": null,
   "id": "4",
   "metadata": {
    "deletable": false,
    "editable": false,
    "tags": [
     "skip-execution"
    ]
   },
   "outputs": [],
   "source": [
    "grader.check(\"practice-quiz-1-Grade\")"
   ]
  },
  {
   "cell_type": "markdown",
   "id": "5",
   "metadata": {
    "deletable": false,
    "editable": false
   },
   "source": [
    "## 🎉 Well Done!\n",
    "\n",
    "Congratulations on completing the Drexel Credits Calculation! You are one step closer to graduation! 🎓"
   ]
  },
  {
   "cell_type": "markdown",
   "id": "6",
   "metadata": {},
   "source": [
    "## Submitting Assignment\n",
    "\n",
    "Please run the following block of code using `shift + enter` to submit your assignment, you should see your score."
   ]
  },
  {
   "cell_type": "code",
   "execution_count": null,
   "id": "7",
   "metadata": {
    "deletable": false,
    "editable": false,
    "tags": [
     "skip-execution"
    ]
   },
   "outputs": [],
   "source": [
    "from pykubegrader.submit.submit_assignment import submit_assignment\n",
    "\n",
    "submit_assignment(\"week1-practicequiz\", \"1_practice-quiz\")"
   ]
  }
 ],
 "metadata": {
  "kernelspec": {
   "display_name": "engr131_dev",
   "language": "python",
   "name": "python3"
  },
  "language_info": {
   "codemirror_mode": {
    "name": "ipython",
    "version": 3
   },
   "file_extension": ".py",
   "mimetype": "text/x-python",
   "name": "python",
   "nbconvert_exporter": "python",
   "pygments_lexer": "ipython3",
   "version": "3.12.7"
  },
  "otter": {
   "OK_FORMAT": true,
   "tests": {
    "practice-quiz-1-Grade": {
     "name": "practice-quiz-1-Grade",
     "points": null,
     "suites": [
      {
       "cases": [
        {
         "code": ">>> from pykubegrader.telemetry import ensure_responses, log_variable, score_question, submit_question, telemetry, update_responses\n>>> import os\n>>> max_question_points = str(18.0)\n>>> earned_points = 0\n>>> os.environ['EARNED_POINTS'] = str(earned_points)\n>>> os.environ['TOTAL_POINTS_FREE_RESPONSE'] = str(18.0)\n>>> log_variable('total-points', f'Reading-Week-X, 1_practice-quiz', 18.0)\n>>> question_id = 'practice-quiz-1-Grade-1'\n>>> max_score = 2.0\n>>> score = 0\n>>> assert classes == 10\n>>> if classes == 10:\n...     score = 2.0\n>>> earned_points = float(os.environ.get('EARNED_POINTS', 0))\n>>> earned_points += score\n>>> log_variable('1_practice-quiz', f'{score}, {max_score}', question_id)\n>>> os.environ['EARNED_POINTS'] = str(earned_points)\n",
         "failure_message": "classes not correctly assigned",
         "hidden": false,
         "locked": false,
         "points": 2,
         "success_message": "classes correctly assigned"
        },
        {
         "code": ">>> from pykubegrader.telemetry import ensure_responses, log_variable, score_question, submit_question, telemetry, update_responses\n>>> import os\n>>> question_id = 'practice-quiz-1-Grade-2'\n>>> max_score = 2.0\n>>> score = 0\n>>> assert class_credits == 3\n>>> if class_credits == 3:\n...     score = 2.0\n>>> earned_points = float(os.environ.get('EARNED_POINTS', 0))\n>>> earned_points += score\n>>> log_variable('1_practice-quiz', f'{score}, {max_score}', question_id)\n>>> os.environ['EARNED_POINTS'] = str(earned_points)\n",
         "failure_message": "class credits not correctly assigned",
         "hidden": false,
         "locked": false,
         "points": 2,
         "success_message": "class credits correctly assigned"
        },
        {
         "code": ">>> from pykubegrader.telemetry import ensure_responses, log_variable, score_question, submit_question, telemetry, update_responses\n>>> import os\n>>> question_id = 'practice-quiz-1-Grade-3'\n>>> max_score = 2.0\n>>> score = 0\n>>> assert coop_credits == 12\n>>> if coop_credits == 12:\n...     score = 2.0\n>>> earned_points = float(os.environ.get('EARNED_POINTS', 0))\n>>> earned_points += score\n>>> log_variable('1_practice-quiz', f'{score}, {max_score}', question_id)\n>>> os.environ['EARNED_POINTS'] = str(earned_points)\n",
         "failure_message": "coop credits not correctly assigned",
         "hidden": false,
         "locked": false,
         "points": 2,
         "success_message": "coop credits correctly assigned"
        },
        {
         "code": ">>> from pykubegrader.telemetry import ensure_responses, log_variable, score_question, submit_question, telemetry, update_responses\n>>> import os\n>>> question_id = 'practice-quiz-1-Grade-4'\n>>> max_score = 2.0\n>>> score = 0\n>>> assert graduation_requirement == 180\n>>> if graduation_requirement == 180:\n...     score = 2.0\n>>> earned_points = float(os.environ.get('EARNED_POINTS', 0))\n>>> earned_points += score\n>>> log_variable('1_practice-quiz', f'{score}, {max_score}', question_id)\n>>> os.environ['EARNED_POINTS'] = str(earned_points)\n",
         "failure_message": "graduation requirements not correctly assigned",
         "hidden": false,
         "locked": false,
         "points": 2,
         "success_message": "graduation requirements correctly assigned"
        },
        {
         "code": ">>> from pykubegrader.telemetry import ensure_responses, log_variable, score_question, submit_question, telemetry, update_responses\n>>> import os\n>>> import os\n>>> question_id = 'practice-quiz-1-Grade-5'\n>>> max_score = 2.0\n>>> score = 0\n>>> try:\n...     _drexel_id = os.environ['JUPYTERHUB_USER']\n... except:\n...     _drexel_id = 'Not-on-a-Real-Student-ID'\n>>> assert drexel_id == _drexel_id, f'Expected {drexel_id} but got {_drexel_id}'\n>>> if drexel_id == _drexel_id:\n...     score = 2.0\n>>> earned_points = float(os.environ.get('EARNED_POINTS', 0))\n>>> earned_points += score\n>>> log_variable('1_practice-quiz', f'{score}, {max_score}', question_id)\n>>> os.environ['EARNED_POINTS'] = str(earned_points)\n",
         "failure_message": "drexel_id not correctly assigned",
         "hidden": false,
         "locked": false,
         "points": 2,
         "success_message": "drexel_id correctly assigned"
        },
        {
         "code": ">>> from pykubegrader.telemetry import ensure_responses, log_variable, score_question, submit_question, telemetry, update_responses\n>>> import os\n>>> question_id = 'practice-quiz-1-Grade-6'\n>>> max_score = 4.0\n>>> score = 0\n>>> assert total_credits == 42\n>>> if total_credits == 42:\n...     score = 4.0\n>>> earned_points = float(os.environ.get('EARNED_POINTS', 0))\n>>> earned_points += score\n>>> log_variable('1_practice-quiz', f'{score}, {max_score}', question_id)\n>>> os.environ['EARNED_POINTS'] = str(earned_points)\n",
         "failure_message": "total credits not correctly assigned",
         "hidden": false,
         "locked": false,
         "points": 4,
         "success_message": "total credits correctly assigned"
        },
        {
         "code": ">>> from pykubegrader.telemetry import ensure_responses, log_variable, score_question, submit_question, telemetry, update_responses\n>>> import os\n>>> question_id = 'practice-quiz-1-Grade-7'\n>>> max_score = 4.0\n>>> score = 0\n>>> assert remaining_credits == 138\n>>> if remaining_credits == 138:\n...     score = 4.0\n>>> earned_points = float(os.environ.get('EARNED_POINTS', 0))\n>>> earned_points += score\n>>> log_variable('1_practice-quiz', f'{score}, {max_score}', question_id)\n>>> os.environ['EARNED_POINTS'] = str(earned_points)\n",
         "failure_message": "remaining credits not correctly assigned",
         "hidden": false,
         "locked": false,
         "points": 4,
         "success_message": "remaining credits correctly assigned"
        }
       ],
       "scored": true,
       "setup": "",
       "teardown": "",
       "type": "doctest"
      }
     ]
    }
   }
  }
 },
 "nbformat": 4,
 "nbformat_minor": 5
}
