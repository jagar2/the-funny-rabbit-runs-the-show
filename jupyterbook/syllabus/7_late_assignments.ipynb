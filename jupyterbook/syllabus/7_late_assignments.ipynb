{
 "cells": [
  {
   "cell_type": "markdown",
   "metadata": {},
   "source": [
    "# ⏰ Late Assignments\n",
    "\n",
    "We expect that you will complete your assignments on time. However, we understand sometimes life gets in the way. What is most important is that you complete all of the assignments as it is essential for the learning process. Due to the size of the class and the use of automated grading technologies, we will not have the ability to make individual exceptions for late assignments. However, we will allow you to submit late assignments with a score deduction based on how late the submission is received.\n",
    "\n",
    "If submitted on time (before the due date), the assignment will receive your score weighted by 100\\% - full credit. After the due date, the score will decay exponentially to a minimum weighting of **40\\%**, based on how late the submission is, measured in seconds past the due date.\n",
    "\n",
    "The score weighting function is defined as:\n",
    "\n",
    "$$\n",
    "Q(t) =\n",
    "\\begin{cases}\n",
    "100, & \\text{if } t \\leq 0 \\\\\n",
    "\\max\\left(40, 100 e^{-6.88 \\times 10^{-5} t}\\right), & \\text{if } t > 0\n",
    "\\end{cases}\n",
    "$$\n",
    "\n",
    "## Explanation of Substituted Values:\n",
    "\n",
    "- $Q_0 = 100$: Initial score before the due date.\n",
    "- $Q_{\\text{min}} = 40$: Minimum possible score for late submissions.\n",
    "- $k = 6.88 \\times 10^{-5}$: Decay constant.\n",
    "- $t$: Time (in seconds) past the due date. Negative values of $t$ indicate on-time submissions.\n"
   ]
  },
  {
   "cell_type": "code",
   "execution_count": null,
   "metadata": {
    "tags": [
     "hide-input"
    ]
   },
   "outputs": [],
   "source": [
    "import matplotlib.pyplot as plt\n",
    "import numpy as np\n",
    "\n",
    "# Parameters\n",
    "Q0 = 100  # Initial quantity\n",
    "Q_min = 40  # Minimum grade/quantity\n",
    "k = 6.88e-5  # Decay constant per minute\n",
    "time_in_seconds = np.linspace(\n",
    "    -5 * 24 * 60 * 60, 30 * 24 * 60 * 60, 1000\n",
    ")  # Time in seconds for 1 day before to 30 days after\n",
    "\n",
    "# Exponential decay function with piecewise definition\n",
    "Q = Q0 * np.exp(-k * time_in_seconds / 60)  # Convert seconds to minutes\n",
    "Q = np.maximum(Q, Q_min)  # Apply floor condition\n",
    "Q = np.minimum(Q, 100)  # Apply ceiling condition\n",
    "\n",
    "# Plot\n",
    "plt.figure(figsize=(10, 6))\n",
    "plt.plot(\n",
    "    time_in_seconds / (24 * 60 * 60),\n",
    "    Q,\n",
    "    label=\"Piecewise Exponential Decay\",\n",
    "    color=\"black\",\n",
    ")  # Convert seconds to days\n",
    "plt.ylim(0, 105)\n",
    "plt.title(\"Late Grading Scale\", fontsize=14)\n",
    "plt.xlabel(\"Time (days)\", fontsize=12)\n",
    "plt.ylabel(\"Quantity\", fontsize=12)\n",
    "plt.grid(True, linestyle=\"--\", alpha=0.6)\n",
    "\n",
    "# Horizontal and vertical lines with direct labels\n",
    "plt.axhline(Q_min, color=\"red\", linestyle=\"--\")\n",
    "plt.text(\n",
    "    max(time_in_seconds) / (24 * 60 * 60) - 5,\n",
    "    Q_min + 2,\n",
    "    f\"Minimum: {Q_min}\",\n",
    "    color=\"red\",\n",
    "    fontsize=12,\n",
    "    ha=\"right\",\n",
    ")\n",
    "\n",
    "plt.axvline(0, color=\"blue\", linestyle=\"--\")\n",
    "plt.text(\n",
    "    0.5,\n",
    "    97,\n",
    "    \"Due Date: (100 before due date)\",\n",
    "    color=\"blue\",\n",
    "    fontsize=12,\n",
    "    ha=\"left\",\n",
    ")\n",
    "\n",
    "# Make ticks face inwards and on all 4 sides\n",
    "plt.tick_params(axis=\"both\", which=\"both\", direction=\"in\", top=True, right=True)\n",
    "\n",
    "# Show plot\n",
    "plt.show()"
   ]
  },
  {
   "cell_type": "code",
   "execution_count": null,
   "metadata": {},
   "outputs": [],
   "source": []
  }
 ],
 "metadata": {
  "kernelspec": {
   "display_name": "engr131_dev",
   "language": "python",
   "name": "python3"
  },
  "language_info": {
   "codemirror_mode": {
    "name": "ipython",
    "version": 3
   },
   "file_extension": ".py",
   "mimetype": "text/x-python",
   "name": "python",
   "nbconvert_exporter": "python",
   "pygments_lexer": "ipython3",
   "version": "3.12.7"
  }
 },
 "nbformat": 4,
 "nbformat_minor": 2
}
